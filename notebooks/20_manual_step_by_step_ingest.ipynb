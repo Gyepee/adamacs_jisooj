{
 "cells": [
  {
   "cell_type": "markdown",
   "metadata": {},
   "source": [
    "# Manual ingest workflow, bypassing GUI"
   ]
  },
  {
   "cell_type": "markdown",
   "metadata": {},
   "source": [
    "## Login\n",
    "\n",
    "Either log in via a local config file (see [01_pipeline](./01_pipeline.ipynb)), or enter login information manually. If you are don't have your login information, contact the administrator.\n"
   ]
  },
  {
   "cell_type": "code",
   "execution_count": 1,
   "metadata": {},
   "outputs": [
    {
     "name": "stderr",
     "output_type": "stream",
     "text": [
      "[2023-12-11 20:03:57,149][INFO]: Connecting tobiasr@172.26.128.53:3306\n",
      "[2023-12-11 20:03:57,195][INFO]: Connected tobiasr@172.26.128.53:3306\n"
     ]
    },
    {
     "data": {
      "text/plain": [
       "'0.14.1'"
      ]
     },
     "execution_count": 1,
     "metadata": {},
     "output_type": "execute_result"
    }
   ],
   "source": [
    "import os\n",
    "# change to the upper level folder to detect dj_local_conf.json\n",
    "if os.path.basename(os.getcwd())=='notebooks': os.chdir('..')\n",
    "assert os.path.basename(os.getcwd())=='adamacs', (\"Please move to the main directory\")\n",
    "from adamacs.pipeline import subject, session, equipment, surgery, event, trial, imaging, behavior, model, scan\n",
    "from adamacs.ingest import session as isess\n",
    "from adamacs.ingest import behavior as ibe\n",
    "from adamacs.utility import *\n",
    "import pathlib\n",
    "from natsort import natsorted, ns\n",
    "import datajoint as dj\n",
    "from rspace_client.eln import eln\n",
    "import pandas as pd\n",
    "import numpy as np\n",
    "import matplotlib.pyplot as plt\n",
    "from importlib.metadata import version\n",
    "from adamacs.helpers import dj_helpers as djh\n",
    "from adamacs.helpers import stack_helpers as sh\n",
    "dj.__version__"
   ]
  },
  {
   "cell_type": "markdown",
   "metadata": {},
   "source": [
    "### RSpace connection"
   ]
  },
  {
   "cell_type": "code",
   "execution_count": 2,
   "metadata": {},
   "outputs": [
    {
     "name": "stdout",
     "output_type": "stream",
     "text": [
      "{'message': 'OK', 'rspaceVersion': '1.93.0'}\n"
     ]
    },
    {
     "data": {
      "text/plain": [
       "'2.5.0'"
      ]
     },
     "execution_count": 2,
     "metadata": {},
     "output_type": "execute_result"
    }
   ],
   "source": [
    "URL=dj.config['custom'].get('rspace_URL')\n",
    "API_KEY=dj.config['custom'].get('rspace_API_key')\n",
    "api = eln.ELNClient(URL, API_KEY)\n",
    "print(api.get_status())\n",
    "version('rspace_client')\n"
   ]
  },
  {
   "cell_type": "code",
   "execution_count": 3,
   "metadata": {},
   "outputs": [],
   "source": [
    "sub, lab, protocol, line, mutation, user, project, subject_genotype, subject_death = (\n",
    "    subject.Subject(), subject.Lab(), subject.Protocol(), subject.Line(), \n",
    "    subject.Mutation(), subject.User(), subject.Project(), subject.SubjectGenotype(), \n",
    "    subject.SubjectDeath()\n",
    "    )"
   ]
  },
  {
   "cell_type": "code",
   "execution_count": 4,
   "metadata": {},
   "outputs": [],
   "source": [
    "# ### get names and IDs of animal follders in the \"Experiments\" Rspace directory\n",
    "# folders = api.list_folder_tree()\n",
    "# experiments_ids = []\n",
    "# for record in folders['records']:\n",
    "#     if record['name'] == 'Experiments':\n",
    "#         experiments_ids.append(record['id'])\n",
    "# # print(folders)\n",
    "# names_and_ids = []\n",
    "# subfolders = api.list_folder_tree(experiments_ids[0])\n",
    "# names_and_ids.append([(record['name'], record['id']) for record in subfolders['records']])\n",
    "# print(names_and_ids)"
   ]
  },
  {
   "cell_type": "code",
   "execution_count": 5,
   "metadata": {},
   "outputs": [],
   "source": [
    "\n",
    "# api.create_folder(name=f\"test\", parent_folder_id=23795, notebook=True)\n"
   ]
  },
  {
   "cell_type": "code",
   "execution_count": 6,
   "metadata": {},
   "outputs": [],
   "source": [
    "# new_doc = api.create_document(name=f\"test3\", parent_folder_id=experiments_ids[0])"
   ]
  },
  {
   "cell_type": "code",
   "execution_count": 7,
   "metadata": {},
   "outputs": [],
   "source": [
    "# userID = \"XX\"\n",
    "# animalID = \"YY\"\n",
    "\n",
    "# new_folder = api.create_folder(name=f\"{userID}_{animalID}\", parent_folder_id=experiments_ids[0], notebook=True)\n",
    "# save_folder_id = new_folder['id']"
   ]
  },
  {
   "cell_type": "markdown",
   "metadata": {},
   "source": [
    "Assign easy names for relevant tables"
   ]
  },
  {
   "cell_type": "markdown",
   "metadata": {},
   "source": [
    "## Parse directories"
   ]
  },
  {
   "cell_type": "code",
   "execution_count": 8,
   "metadata": {},
   "outputs": [
    {
     "data": {
      "text/plain": [
       "['NK_ROS-1629_2023-10-20_scan9FKOE4N6_sess9FKOE4N6',\n",
       " 'NK_ROS-1629_2023-10-20_scan9FKOI7ZY_sess9FKOI7ZY',\n",
       " 'NK_ROS-1629_2023-10-19_scan9FKNRW9Y_sess9FKNRW9Y',\n",
       " 'NK_ROS-1629_2023-10-18_scan9FKNDBWA_sess9FKNDBWA',\n",
       " 'NK_ROS-1629_2023-10-13_scan9FKKC1QB_sess9FKKC1QB',\n",
       " 'NK_ROS-1629_2023-10-11_scan9FKJ0TLI_sess9FKJ0TLI',\n",
       " 'NK_ROS-1629_2023-10-10_scan9FKII73H_sess9FKII73H',\n",
       " 'NK_ROS-1576_2023-07-10_scan9FIZNWNS_sess9FIZNWNS']"
      ]
     },
     "execution_count": 8,
     "metadata": {},
     "output_type": "execute_result"
    }
   ],
   "source": [
    "# get content of user directory\n",
    "import fnmatch\n",
    "dataroot = dj.config['custom']['exp_root_data_dir'][0]\n",
    "# dirs_root = [d for d in os.listdir(dataroot) if os.path.isdir(os.path.join(dataroot, d)) and '_' in d]\n",
    "dirs_root = [d for d in os.listdir(dataroot) if os.path.isdir(os.path.join(dataroot, d)) and fnmatch.fnmatch(d, '*NK*') and fnmatch.fnmatch(d, '*10*')]\n",
    "sorted_dirs_root = natsorted(dirs_root, key=djh.get_date_key_from_dir, reverse = True)\n",
    "sorted_dirs_root"
   ]
  },
  {
   "cell_type": "code",
   "execution_count": 10,
   "metadata": {},
   "outputs": [],
   "source": [
    "sessi = \"sess9FKNRW9Y\"\n",
    "scansi = \"scan9FKNRW9Y\"\n",
    "# sessi = \"sess9FK61CPU\"\n",
    "# scansi = \"scan9FK61CPU\"\n",
    "\n",
    "# sessi = \"sess9FKSMYYS\"\n",
    "# scansi = \"scan9FKSMYYS\"\n",
    "\n",
    "# scan9FJ842C3\n",
    "# scan9FB2LN5C\n",
    "# scan_key      \n",
    "\n",
    "# scansi = \"scan9FKSMYYS\"\n",
    "\n",
    "# scan_key = (scan.Scan & f'scan_id = \"{scansi}\"').fetch('KEY')[0]\n",
    "# curation_key = (imaging.Curation & scan_key & 'curation_id=1').fetch1('KEY')\n",
    "# sessi = (scan.Scan & f'scan_id = \"{scansi}\"').fetch('session_id')[0]\n",
    "# session_key = (session.Session & f'session_id = \"{sessi}\"').fetch('KEY')[0]\n",
    "# aux_setup_typestr = (scan.ScanInfo() & scan_key).fetch(\"userfunction_info\")[0] # check setup type (not needed)\n",
    "# print(aux_setup_typestr)\n",
    "# print((scan.ScanPath & scan_key).fetch(\"path\")[0])"
   ]
  },
  {
   "cell_type": "markdown",
   "metadata": {},
   "source": [
    "## Session ingest"
   ]
  },
  {
   "cell_type": "code",
   "execution_count": 11,
   "metadata": {},
   "outputs": [
    {
     "name": "stdout",
     "output_type": "stream",
     "text": [
      "Project\n",
      "*project       project_descri\n",
      "+------------+ +------------+\n",
      "ATN            ATN-functional\n",
      "dummy          dummy         \n",
      "hpc-repstab    hpc-representa\n",
      "rsc-functop    rsc-functional\n",
      "rsc-hpc        rsc-hippocampa\n",
      "rsc-latent     rsc-contextual\n",
      "sc-lgn-actvis  sc-lgn-active-\n",
      "V1-oddball     v1-oddball-pre\n",
      "vc-lgn-repstab vc-lgn-represe\n",
      " (Total: 9)\n",
      "\n",
      "Equipment\n",
      "['bench2p' 'dummy' 'macroscope' 'mini2p_01' 'mini2p_02' 'mini2p_03'\n",
      " 'mini2p_04' 'mini2p_05']\n",
      "Recording_Location\n",
      "['ATN' 'Ctx' 'dCA1' 'DG' 'dummy' 'LGNV1' 'RSCa' 'RSCg' 'V1']\n",
      "s2pparm\n",
      "[array([0, 1, 2, 3, 4, 5, 6]), array(['TR: Mini2p (new, non-rigid, individual scans, reg_tiff for movie, custom classifier)',\n",
      "       'TR: Mini2p (rigid, mini2p classifier, no concat, REGTIFF)',\n",
      "       'TR: Trondheim Mini2p (non-rigid, built-in classifier, scan_concat)',\n",
      "       'TR: Bench2p (non-rigid, custom classifier, reg_tiff for movie, scans individually)',\n",
      "       'TR: Bench2p (rigid, custom bench2p classifier, individual, SAVETIF)',\n",
      "       'TR: Mini2p (rigid, built-in classifier, individual)',\n",
      "       'TR: Mini2p (rigid, built-in classifier, SAMESITE_concat)'],\n",
      "      dtype=object)]\n",
      "DLCModels\n",
      "['Topcam_2bin_without_scope' 'Topcam_2bin_with_scope']\n"
     ]
    }
   ],
   "source": [
    "Project = project.fetch('project')\n",
    "Equipment = equipment.Equipment().fetch('scanner')\n",
    "Recording_Location = surgery.AnatomicalLocation().fetch('anatomical_location')\n",
    "s2pparm = imaging.ProcessingParamSet.fetch(\"paramset_idx\", \"paramset_desc\")\n",
    "DLCModels = model.Model.fetch(\"model_name\")\n",
    "\n",
    "print(\"Project\")\n",
    "print(project)\n",
    "\n",
    "print(\"Equipment\")\n",
    "print(Equipment)\n",
    "\n",
    "print(\"Recording_Location\")\n",
    "print(Recording_Location)\n",
    "\n",
    "print(\"s2pparm\")\n",
    "print(s2pparm)\n",
    "\n",
    "print(\"DLCModels\")\n",
    "print(DLCModels)"
   ]
  },
  {
   "cell_type": "markdown",
   "metadata": {},
   "source": [
    "### Ingest Session and Scan"
   ]
  },
  {
   "cell_type": "code",
   "execution_count": 12,
   "metadata": {},
   "outputs": [
    {
     "name": "stdout",
     "output_type": "stream",
     "text": [
      "Number of scans found: 1\n",
      "[['scan9FKNRW9Y']]\n",
      "['NK_ROS-1629_2023-10-19_scan9FKNRW9Y_sess9FKNRW9Y']\n"
     ]
    },
    {
     "name": "stderr",
     "output_type": "stream",
     "text": [
      "/tmp/ipykernel_2073432/3791184197.py:1: UserWarning: \n",
      "Skipped existing session row: ('sess9FKNRW9Y', <module 'adamacs.schemas.subject' from '/home/tobiasr/adamacs/adamacs/schemas/subject.py'>, '2023-10-19')\n",
      "  isess.ingest_session_scan(sessi, verbose=True, project_key=\"rsc-functop\", equipment_key=\"mini2p_01\", location_key=\"RSCa\", software_key='ScanImage')\n",
      "/tmp/ipykernel_2073432/3791184197.py:1: UserWarning: \n",
      "Skipped existing ProjectSession row: ('rsc-functop', 'sess9FKNRW9Y')\n",
      "  isess.ingest_session_scan(sessi, verbose=True, project_key=\"rsc-functop\", equipment_key=\"mini2p_01\", location_key=\"RSCa\", software_key='ScanImage')\n",
      "/tmp/ipykernel_2073432/3791184197.py:1: UserWarning: \n",
      "Skipped existing SessionDirectory: ('sess9FKNRW9Y', PosixPath('/datajoint-data/data/tobiasr/NK_ROS-1629_2023-10-19_scan9FKNRW9Y_sess9FKNRW9Y'))\n",
      "  isess.ingest_session_scan(sessi, verbose=True, project_key=\"rsc-functop\", equipment_key=\"mini2p_01\", location_key=\"RSCa\", software_key='ScanImage')\n",
      "/tmp/ipykernel_2073432/3791184197.py:1: UserWarning: \n",
      "Skipped existing SessionUser row: ('sess9FKNRW9Y', 3)\n",
      "  isess.ingest_session_scan(sessi, verbose=True, project_key=\"rsc-functop\", equipment_key=\"mini2p_01\", location_key=\"RSCa\", software_key='ScanImage')\n",
      "/tmp/ipykernel_2073432/3791184197.py:1: UserWarning: \n",
      "Skipped existing SessionSite row: sess9FKNRW9Y\n",
      "  isess.ingest_session_scan(sessi, verbose=True, project_key=\"rsc-functop\", equipment_key=\"mini2p_01\", location_key=\"RSCa\", software_key='ScanImage')\n",
      "/tmp/ipykernel_2073432/3791184197.py:1: UserWarning: \n",
      "Skipped existing SessionSite row: sess9FKNRW9Y\n",
      "  isess.ingest_session_scan(sessi, verbose=True, project_key=\"rsc-functop\", equipment_key=\"mini2p_01\", location_key=\"RSCa\", software_key='ScanImage')\n",
      "/tmp/ipykernel_2073432/3791184197.py:1: UserWarning: \n",
      "Skipped existing scan: scan9FKNRW9Y\n",
      "  isess.ingest_session_scan(sessi, verbose=True, project_key=\"rsc-functop\", equipment_key=\"mini2p_01\", location_key=\"RSCa\", software_key='ScanImage')\n",
      "/tmp/ipykernel_2073432/3791184197.py:1: UserWarning: \n",
      "Skipped existing ScanLocation: scan9FKNRW9Y\n",
      "  isess.ingest_session_scan(sessi, verbose=True, project_key=\"rsc-functop\", equipment_key=\"mini2p_01\", location_key=\"RSCa\", software_key='ScanImage')\n",
      "/tmp/ipykernel_2073432/3791184197.py:1: UserWarning: \n",
      "Skipped existing ScanPath: scan9FKNRW9Y\n",
      "  isess.ingest_session_scan(sessi, verbose=True, project_key=\"rsc-functop\", equipment_key=\"mini2p_01\", location_key=\"RSCa\", software_key='ScanImage')\n"
     ]
    }
   ],
   "source": [
    "isess.ingest_session_scan(sessi, verbose=True, project_key=\"rsc-functop\", equipment_key=\"mini2p_01\", location_key=\"RSCa\", software_key='ScanImage')\n",
    "session.SessionSameSite.update1({'session_id': sessi, 'same_site_id': sessi})\n"
   ]
  },
  {
   "cell_type": "code",
   "execution_count": null,
   "metadata": {},
   "outputs": [],
   "source": [
    "scan.ScanPath() & 'scan_id = \"' + scansi + '\"'\n"
   ]
  },
  {
   "cell_type": "code",
   "execution_count": null,
   "metadata": {},
   "outputs": [],
   "source": [
    "query = scan.ScanPath() & 'scan_id = \"' + scansi + '\"'\n",
    "dir_proc = query.fetch('path')[0]\n",
    "print(dir_proc)"
   ]
  },
  {
   "cell_type": "code",
   "execution_count": null,
   "metadata": {},
   "outputs": [],
   "source": [
    "# POPULATE!\n",
    "populate_settings = {'display_progress': True, 'suppress_errors': False, 'processes': 1}\n",
    "scan.ScanInfo.populate(**populate_settings) "
   ]
  },
  {
   "cell_type": "code",
   "execution_count": null,
   "metadata": {},
   "outputs": [],
   "source": [
    "\n",
    "scan.Scan * scan.ScanInfo * session.SessionSameSite * session.Session() & f'session_id = \"{sessi}\"'"
   ]
  },
  {
   "cell_type": "code",
   "execution_count": null,
   "metadata": {},
   "outputs": [],
   "source": [
    "imaging.ProcessingTask()"
   ]
  },
  {
   "cell_type": "code",
   "execution_count": null,
   "metadata": {},
   "outputs": [],
   "source": [
    "# push scan to ProcessingTask\n",
    "# TODO: handle multiscan concatenation from here?\n",
    "\n",
    "selected_s2pparms_index = 3\n",
    "imaging.ProcessingTask.insert1((sessi, scansi, selected_s2pparms_index, dir_proc, 'trigger'), skip_duplicates=True)"
   ]
  },
  {
   "cell_type": "code",
   "execution_count": null,
   "metadata": {},
   "outputs": [],
   "source": [
    "imaging.ProcessingTask()"
   ]
  },
  {
   "cell_type": "markdown",
   "metadata": {},
   "source": [
    "## Ingest AUX"
   ]
  },
  {
   "cell_type": "code",
   "execution_count": null,
   "metadata": {},
   "outputs": [],
   "source": [
    "aux_setup_typestr = (scan.ScanInfo() & 'scan_id = \"' + scansi + '\"').fetch(\"userfunction_info\")[0]    \n",
    "print(aux_setup_typestr)"
   ]
  },
  {
   "cell_type": "code",
   "execution_count": null,
   "metadata": {},
   "outputs": [],
   "source": [
    "ibe.ingest_aux(sessi,scansi,verbose=True, aux_setup_type=aux_setup_typestr)"
   ]
  },
  {
   "cell_type": "code",
   "execution_count": null,
   "metadata": {},
   "outputs": [],
   "source": [
    "(event.Event & 'scan_id = \"' + scansi + '\"' & 'event_type LIKE \"%;%\"')"
   ]
  },
  {
   "cell_type": "code",
   "execution_count": null,
   "metadata": {},
   "outputs": [],
   "source": [
    "ibe.get_and_ingest_trial_times(scansi, aux_setup_typestr) "
   ]
  },
  {
   "cell_type": "markdown",
   "metadata": {},
   "source": [
    "## Ingest BPOD\n"
   ]
  },
  {
   "cell_type": "code",
   "execution_count": null,
   "metadata": {},
   "outputs": [],
   "source": [
    "# aux_setup_typestr = (scan.ScanInfo() & 'scan_id = \"' + scansi + '\"').fetch(\"userfunction_info\")[0]    \n",
    "print(aux_setup_typestr)\n",
    "ibe.ingest_bpod(sessi,scansi,verbose=False, aux_setup_type=aux_setup_typestr)"
   ]
  },
  {
   "cell_type": "markdown",
   "metadata": {},
   "source": [
    "## Show events"
   ]
  },
  {
   "cell_type": "code",
   "execution_count": 11,
   "metadata": {},
   "outputs": [
    {
     "data": {
      "text/html": [
       "\n",
       "    \n",
       "    <style type=\"text/css\">\n",
       "        .Table{\n",
       "            border-collapse:collapse;\n",
       "        }\n",
       "        .Table th{\n",
       "            background: #A0A0A0; color: #ffffff; padding:4px; border:#f0e0e0 1px solid;\n",
       "            font-weight: normal; font-family: monospace; font-size: 100%;\n",
       "        }\n",
       "        .Table td{\n",
       "            padding:4px; border:#f0e0e0 1px solid; font-size:100%;\n",
       "        }\n",
       "        .Table tr:nth-child(odd){\n",
       "            background: #ffffff;\n",
       "            color: #000000;\n",
       "        }\n",
       "        .Table tr:nth-child(even){\n",
       "            background: #f3f1ff;\n",
       "            color: #000000;\n",
       "        }\n",
       "        /* Tooltip container */\n",
       "        .djtooltip {\n",
       "        }\n",
       "        /* Tooltip text */\n",
       "        .djtooltip .djtooltiptext {\n",
       "            visibility: hidden;\n",
       "            width: 120px;\n",
       "            background-color: black;\n",
       "            color: #fff;\n",
       "            text-align: center;\n",
       "            padding: 5px 0;\n",
       "            border-radius: 6px;\n",
       "            /* Position the tooltip text - see examples below! */\n",
       "            position: absolute;\n",
       "            z-index: 1;\n",
       "        }\n",
       "        #primary {\n",
       "            font-weight: bold;\n",
       "            color: black;\n",
       "        }\n",
       "        #nonprimary {\n",
       "            font-weight: normal;\n",
       "            color: white;\n",
       "        }\n",
       "\n",
       "        /* Show the tooltip text when you mouse over the tooltip container */\n",
       "        .djtooltip:hover .djtooltiptext {\n",
       "            visibility: visible;\n",
       "        }\n",
       "    </style>\n",
       "    \n",
       "    <b>Experimental trials</b>\n",
       "        <div style=\"max-height:1000px;max-width:1500px;overflow:auto;\">\n",
       "        <table border=\"1\" class=\"Table\">\n",
       "            <thead> <tr style=\"text-align: right;\"> <th> <div class=\"djtooltip\">\n",
       "                            <p id=\"primary\">session_id</p>\n",
       "                            <span class=\"djtooltiptext\"></span>\n",
       "                        </div></th><th><div class=\"djtooltip\">\n",
       "                            <p id=\"primary\">scan_id</p>\n",
       "                            <span class=\"djtooltiptext\"></span>\n",
       "                        </div></th><th><div class=\"djtooltip\">\n",
       "                            <p id=\"primary\">trial_id</p>\n",
       "                            <span class=\"djtooltiptext\">trial number (1-based indexing)</span>\n",
       "                        </div></th><th><div class=\"djtooltip\">\n",
       "                            <p id=\"nonprimary\">trial_type</p>\n",
       "                            <span class=\"djtooltiptext\"></span>\n",
       "                        </div></th><th><div class=\"djtooltip\">\n",
       "                            <p id=\"nonprimary\">trial_start_time</p>\n",
       "                            <span class=\"djtooltiptext\">(asecond) relative to recording start</span>\n",
       "                        </div></th><th><div class=\"djtooltip\">\n",
       "                            <p id=\"nonprimary\">trial_stop_time</p>\n",
       "                            <span class=\"djtooltiptext\">(second) relative to recording start</span>\n",
       "                        </div> </th> </tr> </thead>\n",
       "            <tbody> <tr> <td>sess9FKNRW9Y</td>\n",
       "<td>scan9FKNRW9Y</td>\n",
       "<td>0</td>\n",
       "<td>BPOD: SubCricket; 60</td>\n",
       "<td>-4.03965</td>\n",
       "<td>11.077</td></tr><tr><td>sess9FKNRW9Y</td>\n",
       "<td>scan9FKNRW9Y</td>\n",
       "<td>1</td>\n",
       "<td>BPOD: SubCricket; -60</td>\n",
       "<td>11.2222</td>\n",
       "<td>54.5093</td></tr><tr><td>sess9FKNRW9Y</td>\n",
       "<td>scan9FKNRW9Y</td>\n",
       "<td>2</td>\n",
       "<td>BPOD: SubCricket; 60</td>\n",
       "<td>54.5638</td>\n",
       "<td>76.544</td></tr><tr><td>sess9FKNRW9Y</td>\n",
       "<td>scan9FKNRW9Y</td>\n",
       "<td>3</td>\n",
       "<td>BPOD: SubCricket; -60</td>\n",
       "<td>76.5912</td>\n",
       "<td>92.8105</td></tr><tr><td>sess9FKNRW9Y</td>\n",
       "<td>scan9FKNRW9Y</td>\n",
       "<td>4</td>\n",
       "<td>BPOD: SubCricket; 60</td>\n",
       "<td>92.8533</td>\n",
       "<td>93.4784</td></tr><tr><td>sess9FKNRW9Y</td>\n",
       "<td>scan9FKNRW9Y</td>\n",
       "<td>5</td>\n",
       "<td>BPOD: PortCricket; -60</td>\n",
       "<td>93.5186</td>\n",
       "<td>94.1407</td></tr><tr><td>sess9FKNRW9Y</td>\n",
       "<td>scan9FKNRW9Y</td>\n",
       "<td>6</td>\n",
       "<td>BPOD: SubCricket; 60</td>\n",
       "<td>94.1942</td>\n",
       "<td>157.936</td></tr><tr><td>sess9FKNRW9Y</td>\n",
       "<td>scan9FKNRW9Y</td>\n",
       "<td>7</td>\n",
       "<td>BPOD: SubCricket; -60</td>\n",
       "<td>157.978</td>\n",
       "<td>158.84</td></tr><tr><td>sess9FKNRW9Y</td>\n",
       "<td>scan9FKNRW9Y</td>\n",
       "<td>8</td>\n",
       "<td>BPOD: SubCricket; 60</td>\n",
       "<td>158.88</td>\n",
       "<td>159.373</td></tr><tr><td>sess9FKNRW9Y</td>\n",
       "<td>scan9FKNRW9Y</td>\n",
       "<td>9</td>\n",
       "<td>BPOD: PortCricket; -60</td>\n",
       "<td>159.403</td>\n",
       "<td>160.287</td></tr><tr><td>sess9FKNRW9Y</td>\n",
       "<td>scan9FKNRW9Y</td>\n",
       "<td>10</td>\n",
       "<td>BPOD: SubCricket; 60</td>\n",
       "<td>160.315</td>\n",
       "<td>169.375</td></tr><tr><td>sess9FKNRW9Y</td>\n",
       "<td>scan9FKNRW9Y</td>\n",
       "<td>11</td>\n",
       "<td>BPOD: SubCricket; -60</td>\n",
       "<td>169.407</td>\n",
       "<td>169.926</td></tr><tr><td>sess9FKNRW9Y</td>\n",
       "<td>scan9FKNRW9Y</td>\n",
       "<td>12</td>\n",
       "<td>BPOD: SubCricket; 60</td>\n",
       "<td>169.961</td>\n",
       "<td>171.429</td></tr><tr><td>sess9FKNRW9Y</td>\n",
       "<td>scan9FKNRW9Y</td>\n",
       "<td>13</td>\n",
       "<td>BPOD: PortCricket; -60</td>\n",
       "<td>171.462</td>\n",
       "<td>172.444</td></tr><tr><td>sess9FKNRW9Y</td>\n",
       "<td>scan9FKNRW9Y</td>\n",
       "<td>14</td>\n",
       "<td>BPOD: SubCricket; 60</td>\n",
       "<td>172.471</td>\n",
       "<td>184.859</td></tr><tr><td>sess9FKNRW9Y</td>\n",
       "<td>scan9FKNRW9Y</td>\n",
       "<td>15</td>\n",
       "<td>BPOD: SubCricket; -60</td>\n",
       "<td>184.896</td>\n",
       "<td>185.326</td></tr><tr><td>sess9FKNRW9Y</td>\n",
       "<td>scan9FKNRW9Y</td>\n",
       "<td>16</td>\n",
       "<td>BPOD: SubCricket; 60</td>\n",
       "<td>185.361</td>\n",
       "<td>186.325</td></tr><tr><td>sess9FKNRW9Y</td>\n",
       "<td>scan9FKNRW9Y</td>\n",
       "<td>17</td>\n",
       "<td>BPOD: PortCricket; -60</td>\n",
       "<td>186.356</td>\n",
       "<td>187.454</td></tr><tr><td>sess9FKNRW9Y</td>\n",
       "<td>scan9FKNRW9Y</td>\n",
       "<td>18</td>\n",
       "<td>BPOD: SubCricket; 60</td>\n",
       "<td>187.485</td>\n",
       "<td>191.11</td></tr><tr><td>sess9FKNRW9Y</td>\n",
       "<td>scan9FKNRW9Y</td>\n",
       "<td>19</td>\n",
       "<td>BPOD: SubCricket; -60</td>\n",
       "<td>191.146</td>\n",
       "<td>191.743</td></tr><tr><td>sess9FKNRW9Y</td>\n",
       "<td>scan9FKNRW9Y</td>\n",
       "<td>20</td>\n",
       "<td>BPOD: SubCricket; 60</td>\n",
       "<td>191.782</td>\n",
       "<td>192.374</td></tr><tr><td>sess9FKNRW9Y</td>\n",
       "<td>scan9FKNRW9Y</td>\n",
       "<td>21</td>\n",
       "<td>BPOD: PortCricket; -60</td>\n",
       "<td>192.407</td>\n",
       "<td>193.333</td></tr><tr><td>sess9FKNRW9Y</td>\n",
       "<td>scan9FKNRW9Y</td>\n",
       "<td>22</td>\n",
       "<td>BPOD: SubCricket; 60</td>\n",
       "<td>193.363</td>\n",
       "<td>203.51</td></tr><tr><td>sess9FKNRW9Y</td>\n",
       "<td>scan9FKNRW9Y</td>\n",
       "<td>23</td>\n",
       "<td>BPOD: SubCricket; -60</td>\n",
       "<td>203.539</td>\n",
       "<td>204.292</td></tr><tr><td>sess9FKNRW9Y</td>\n",
       "<td>scan9FKNRW9Y</td>\n",
       "<td>24</td>\n",
       "<td>BPOD: PortCricket; 60</td>\n",
       "<td>204.319</td>\n",
       "<td>205.355</td></tr><tr><td>sess9FKNRW9Y</td>\n",
       "<td>scan9FKNRW9Y</td>\n",
       "<td>25</td>\n",
       "<td>BPOD: SubCricket; -60</td>\n",
       "<td>205.38</td>\n",
       "<td>245.361</td></tr><tr><td>sess9FKNRW9Y</td>\n",
       "<td>scan9FKNRW9Y</td>\n",
       "<td>26</td>\n",
       "<td>BPOD: SubCricket; 60</td>\n",
       "<td>245.4</td>\n",
       "<td>247.009</td></tr><tr><td>sess9FKNRW9Y</td>\n",
       "<td>scan9FKNRW9Y</td>\n",
       "<td>27</td>\n",
       "<td>BPOD: SubCricket; -60</td>\n",
       "<td>247.045</td>\n",
       "<td>247.691</td></tr><tr><td>sess9FKNRW9Y</td>\n",
       "<td>scan9FKNRW9Y</td>\n",
       "<td>28</td>\n",
       "<td>BPOD: PortCricket; 60</td>\n",
       "<td>247.73</td>\n",
       "<td>248.358</td></tr><tr><td>sess9FKNRW9Y</td>\n",
       "<td>scan9FKNRW9Y</td>\n",
       "<td>29</td>\n",
       "<td>BPOD: SubCricket; -60</td>\n",
       "<td>248.393</td>\n",
       "<td>258.994</td></tr><tr><td>sess9FKNRW9Y</td>\n",
       "<td>scan9FKNRW9Y</td>\n",
       "<td>30</td>\n",
       "<td>BPOD: SubCricket; 60</td>\n",
       "<td>259.03</td>\n",
       "<td>259.892</td></tr><tr><td>sess9FKNRW9Y</td>\n",
       "<td>scan9FKNRW9Y</td>\n",
       "<td>31</td>\n",
       "<td>BPOD: PortCricket; -60</td>\n",
       "<td>259.929</td>\n",
       "<td>260.975</td></tr><tr><td>sess9FKNRW9Y</td>\n",
       "<td>scan9FKNRW9Y</td>\n",
       "<td>32</td>\n",
       "<td>BPOD: SubCricket; 60</td>\n",
       "<td>261.016</td>\n",
       "<td>271.025</td></tr><tr><td>sess9FKNRW9Y</td>\n",
       "<td>scan9FKNRW9Y</td>\n",
       "<td>33</td>\n",
       "<td>BPOD: SubCricket; -60</td>\n",
       "<td>271.065</td>\n",
       "<td>272.025</td></tr><tr><td>sess9FKNRW9Y</td>\n",
       "<td>scan9FKNRW9Y</td>\n",
       "<td>34</td>\n",
       "<td>BPOD: PortCricket; 60</td>\n",
       "<td>272.062</td>\n",
       "<td>273.046</td></tr><tr><td>sess9FKNRW9Y</td>\n",
       "<td>scan9FKNRW9Y</td>\n",
       "<td>35</td>\n",
       "<td>BPOD: SubCricket; -60</td>\n",
       "<td>273.082</td>\n",
       "<td>296.86</td></tr><tr><td>sess9FKNRW9Y</td>\n",
       "<td>scan9FKNRW9Y</td>\n",
       "<td>36</td>\n",
       "<td>BPOD: SubCricket; 60</td>\n",
       "<td>296.896</td>\n",
       "<td>312.419</td></tr><tr><td>sess9FKNRW9Y</td>\n",
       "<td>scan9FKNRW9Y</td>\n",
       "<td>37</td>\n",
       "<td>BPOD: SubCricket; -60</td>\n",
       "<td>312.864</td>\n",
       "<td>313.712</td></tr><tr><td>sess9FKNRW9Y</td>\n",
       "<td>scan9FKNRW9Y</td>\n",
       "<td>38</td>\n",
       "<td>BPOD: PortCricket; 60</td>\n",
       "<td>313.748</td>\n",
       "<td>314.781</td></tr><tr><td>sess9FKNRW9Y</td>\n",
       "<td>scan9FKNRW9Y</td>\n",
       "<td>39</td>\n",
       "<td>BPOD: SubCricket; -60</td>\n",
       "<td>314.816</td>\n",
       "<td>323.876</td></tr><tr><td>sess9FKNRW9Y</td>\n",
       "<td>scan9FKNRW9Y</td>\n",
       "<td>40</td>\n",
       "<td>BPOD: SubCricket; 60</td>\n",
       "<td>323.916</td>\n",
       "<td>328.526</td></tr><tr><td>sess9FKNRW9Y</td>\n",
       "<td>scan9FKNRW9Y</td>\n",
       "<td>41</td>\n",
       "<td>BPOD: PortCricket; -60</td>\n",
       "<td>328.564</td>\n",
       "<td>329.496</td></tr><tr><td>sess9FKNRW9Y</td>\n",
       "<td>scan9FKNRW9Y</td>\n",
       "<td>42</td>\n",
       "<td>BPOD: SubCricket; 60</td>\n",
       "<td>329.525</td>\n",
       "<td>346.396</td></tr><tr><td>sess9FKNRW9Y</td>\n",
       "<td>scan9FKNRW9Y</td>\n",
       "<td>43</td>\n",
       "<td>BPOD: SubCricket; -60</td>\n",
       "<td>346.435</td>\n",
       "<td>356.611</td></tr><tr><td>sess9FKNRW9Y</td>\n",
       "<td>scan9FKNRW9Y</td>\n",
       "<td>44</td>\n",
       "<td>BPOD: SubCricket; 60</td>\n",
       "<td>356.652</td>\n",
       "<td>357.157</td></tr><tr><td>sess9FKNRW9Y</td>\n",
       "<td>scan9FKNRW9Y</td>\n",
       "<td>45</td>\n",
       "<td>BPOD: SubCricket; -60</td>\n",
       "<td>357.184</td>\n",
       "<td>404.797</td></tr><tr><td>sess9FKNRW9Y</td>\n",
       "<td>scan9FKNRW9Y</td>\n",
       "<td>46</td>\n",
       "<td>BPOD: PortCricket; 60</td>\n",
       "<td>404.837</td>\n",
       "<td>406.22</td></tr><tr><td>sess9FKNRW9Y</td>\n",
       "<td>scan9FKNRW9Y</td>\n",
       "<td>47</td>\n",
       "<td>BPOD: SubCricket; -60</td>\n",
       "<td>406.255</td>\n",
       "<td>409.159</td></tr><tr><td>sess9FKNRW9Y</td>\n",
       "<td>scan9FKNRW9Y</td>\n",
       "<td>48</td>\n",
       "<td>BPOD: SubCricket; 60</td>\n",
       "<td>409.195</td>\n",
       "<td>410.511</td></tr><tr><td>sess9FKNRW9Y</td>\n",
       "<td>scan9FKNRW9Y</td>\n",
       "<td>49</td>\n",
       "<td>BPOD: PortCricket; -60</td>\n",
       "<td>410.54</td>\n",
       "<td>411.326</td> </tr> </tbody>\n",
       "        </table>\n",
       "        <p>...</p>\n",
       "        <p>Total: 298</p></div>\n",
       "        "
      ],
      "text/plain": [
       "*session_id    *scan_id       *trial_id    trial_type     trial_start_ti trial_stop_tim\n",
       "+------------+ +------------+ +----------+ +------------+ +------------+ +------------+\n",
       "sess9FKNRW9Y   scan9FKNRW9Y   0            BPOD: SubCrick -4.03965       11.077        \n",
       "sess9FKNRW9Y   scan9FKNRW9Y   1            BPOD: SubCrick 11.2222        54.5093       \n",
       "sess9FKNRW9Y   scan9FKNRW9Y   2            BPOD: SubCrick 54.5638        76.544        \n",
       "sess9FKNRW9Y   scan9FKNRW9Y   3            BPOD: SubCrick 76.5912        92.8105       \n",
       "sess9FKNRW9Y   scan9FKNRW9Y   4            BPOD: SubCrick 92.8533        93.4784       \n",
       "sess9FKNRW9Y   scan9FKNRW9Y   5            BPOD: PortCric 93.5186        94.1407       \n",
       "sess9FKNRW9Y   scan9FKNRW9Y   6            BPOD: SubCrick 94.1942        157.936       \n",
       "sess9FKNRW9Y   scan9FKNRW9Y   7            BPOD: SubCrick 157.978        158.84        \n",
       "sess9FKNRW9Y   scan9FKNRW9Y   8            BPOD: SubCrick 158.88         159.373       \n",
       "sess9FKNRW9Y   scan9FKNRW9Y   9            BPOD: PortCric 159.403        160.287       \n",
       "sess9FKNRW9Y   scan9FKNRW9Y   10           BPOD: SubCrick 160.315        169.375       \n",
       "sess9FKNRW9Y   scan9FKNRW9Y   11           BPOD: SubCrick 169.407        169.926       \n",
       "sess9FKNRW9Y   scan9FKNRW9Y   12           BPOD: SubCrick 169.961        171.429       \n",
       "sess9FKNRW9Y   scan9FKNRW9Y   13           BPOD: PortCric 171.462        172.444       \n",
       "sess9FKNRW9Y   scan9FKNRW9Y   14           BPOD: SubCrick 172.471        184.859       \n",
       "sess9FKNRW9Y   scan9FKNRW9Y   15           BPOD: SubCrick 184.896        185.326       \n",
       "sess9FKNRW9Y   scan9FKNRW9Y   16           BPOD: SubCrick 185.361        186.325       \n",
       "sess9FKNRW9Y   scan9FKNRW9Y   17           BPOD: PortCric 186.356        187.454       \n",
       "sess9FKNRW9Y   scan9FKNRW9Y   18           BPOD: SubCrick 187.485        191.11        \n",
       "sess9FKNRW9Y   scan9FKNRW9Y   19           BPOD: SubCrick 191.146        191.743       \n",
       "sess9FKNRW9Y   scan9FKNRW9Y   20           BPOD: SubCrick 191.782        192.374       \n",
       "sess9FKNRW9Y   scan9FKNRW9Y   21           BPOD: PortCric 192.407        193.333       \n",
       "sess9FKNRW9Y   scan9FKNRW9Y   22           BPOD: SubCrick 193.363        203.51        \n",
       "sess9FKNRW9Y   scan9FKNRW9Y   23           BPOD: SubCrick 203.539        204.292       \n",
       "sess9FKNRW9Y   scan9FKNRW9Y   24           BPOD: PortCric 204.319        205.355       \n",
       "sess9FKNRW9Y   scan9FKNRW9Y   25           BPOD: SubCrick 205.38         245.361       \n",
       "sess9FKNRW9Y   scan9FKNRW9Y   26           BPOD: SubCrick 245.4          247.009       \n",
       "sess9FKNRW9Y   scan9FKNRW9Y   27           BPOD: SubCrick 247.045        247.691       \n",
       "sess9FKNRW9Y   scan9FKNRW9Y   28           BPOD: PortCric 247.73         248.358       \n",
       "sess9FKNRW9Y   scan9FKNRW9Y   29           BPOD: SubCrick 248.393        258.994       \n",
       "sess9FKNRW9Y   scan9FKNRW9Y   30           BPOD: SubCrick 259.03         259.892       \n",
       "sess9FKNRW9Y   scan9FKNRW9Y   31           BPOD: PortCric 259.929        260.975       \n",
       "sess9FKNRW9Y   scan9FKNRW9Y   32           BPOD: SubCrick 261.016        271.025       \n",
       "sess9FKNRW9Y   scan9FKNRW9Y   33           BPOD: SubCrick 271.065        272.025       \n",
       "sess9FKNRW9Y   scan9FKNRW9Y   34           BPOD: PortCric 272.062        273.046       \n",
       "sess9FKNRW9Y   scan9FKNRW9Y   35           BPOD: SubCrick 273.082        296.86        \n",
       "sess9FKNRW9Y   scan9FKNRW9Y   36           BPOD: SubCrick 296.896        312.419       \n",
       "sess9FKNRW9Y   scan9FKNRW9Y   37           BPOD: SubCrick 312.864        313.712       \n",
       "sess9FKNRW9Y   scan9FKNRW9Y   38           BPOD: PortCric 313.748        314.781       \n",
       "sess9FKNRW9Y   scan9FKNRW9Y   39           BPOD: SubCrick 314.816        323.876       \n",
       "sess9FKNRW9Y   scan9FKNRW9Y   40           BPOD: SubCrick 323.916        328.526       \n",
       "sess9FKNRW9Y   scan9FKNRW9Y   41           BPOD: PortCric 328.564        329.496       \n",
       "sess9FKNRW9Y   scan9FKNRW9Y   42           BPOD: SubCrick 329.525        346.396       \n",
       "sess9FKNRW9Y   scan9FKNRW9Y   43           BPOD: SubCrick 346.435        356.611       \n",
       "sess9FKNRW9Y   scan9FKNRW9Y   44           BPOD: SubCrick 356.652        357.157       \n",
       "sess9FKNRW9Y   scan9FKNRW9Y   45           BPOD: SubCrick 357.184        404.797       \n",
       "sess9FKNRW9Y   scan9FKNRW9Y   46           BPOD: PortCric 404.837        406.22        \n",
       "sess9FKNRW9Y   scan9FKNRW9Y   47           BPOD: SubCrick 406.255        409.159       \n",
       "sess9FKNRW9Y   scan9FKNRW9Y   48           BPOD: SubCrick 409.195        410.511       \n",
       "sess9FKNRW9Y   scan9FKNRW9Y   49           BPOD: PortCric 410.54         411.326       \n",
       "   ...\n",
       " (Total: 298)"
      ]
     },
     "execution_count": 11,
     "metadata": {},
     "output_type": "execute_result"
    }
   ],
   "source": [
    "trial.Trial() & 'scan_id = \"' + scansi + '\"'"
   ]
  },
  {
   "cell_type": "code",
   "execution_count": 12,
   "metadata": {},
   "outputs": [
    {
     "data": {
      "text/html": [
       "<div>\n",
       "<style scoped>\n",
       "    .dataframe tbody tr th:only-of-type {\n",
       "        vertical-align: middle;\n",
       "    }\n",
       "\n",
       "    .dataframe tbody tr th {\n",
       "        vertical-align: top;\n",
       "    }\n",
       "\n",
       "    .dataframe thead th {\n",
       "        text-align: right;\n",
       "    }\n",
       "</style>\n",
       "<table border=\"1\" class=\"dataframe\">\n",
       "  <thead>\n",
       "    <tr style=\"text-align: right;\">\n",
       "      <th></th>\n",
       "      <th></th>\n",
       "      <th></th>\n",
       "      <th></th>\n",
       "      <th>event_end_time</th>\n",
       "    </tr>\n",
       "    <tr>\n",
       "      <th>session_id</th>\n",
       "      <th>scan_id</th>\n",
       "      <th>event_type</th>\n",
       "      <th>event_start_time</th>\n",
       "      <th></th>\n",
       "    </tr>\n",
       "  </thead>\n",
       "  <tbody>\n",
       "  </tbody>\n",
       "</table>\n",
       "</div>"
      ],
      "text/plain": [
       "Empty DataFrame\n",
       "Columns: [event_end_time]\n",
       "Index: []"
      ]
     },
     "execution_count": 12,
     "metadata": {},
     "output_type": "execute_result"
    }
   ],
   "source": [
    "scan_key = (scan.Scan & f'scan_id = \"{scansi}\"').fetch('KEY')[0]\n",
    "# (event.Event & 'scan_id = \"' + scansi + '\"' & 'event_type LIKE \"%PA%\"')\n",
    "(event.Event & scan_key & 'event_type LIKE \"%;%\"').fetch(order_by = 'event_end_time', format = \"frame\")\n"
   ]
  },
  {
   "cell_type": "code",
   "execution_count": 13,
   "metadata": {},
   "outputs": [
    {
     "data": {
      "text/plain": [
       "<module 'matplotlib.pyplot' from '/home/tobiasr/.local/lib/python3.8/site-packages/matplotlib/pyplot.py'>"
      ]
     },
     "execution_count": 13,
     "metadata": {},
     "output_type": "execute_result"
    },
    {
     "data": {
      "image/png": "[encoded data removed]",
      "text/plain": [
       "<Figure size 5000x2000 with 1 Axes>"
      ]
     },
     "metadata": {},
     "output_type": "display_data"
    }
   ],
   "source": [
    "# Fetching data from the event.Event and trial.Trial tables\n",
    "event_data = (event.Event & scan_key).fetch('event_type', 'event_start_time', as_dict=True)\n",
    "trial_data = (trial.Trial & scan_key).fetch('trial_id', 'trial_type', 'trial_start_time', as_dict=True)\n",
    "\n",
    "djh.plot_event_trial_start_times(event_data, trial_data)"
   ]
  },
  {
   "cell_type": "markdown",
   "metadata": {},
   "source": [
    "### get BPOD object to play around"
   ]
  },
  {
   "cell_type": "code",
   "execution_count": 15,
   "metadata": {},
   "outputs": [
    {
     "name": "stdout",
     "output_type": "stream",
     "text": [
      "/datajoint-data/data/tobiasr/NK_ROS-1629_2023-10-19_scan9FKNRW9Y_sess9FKNRW9Y/scan9FKNRW9Y_ROS-1629_StimArenaVirtualCricketHunt_20231019_104324.mat\n"
     ]
    }
   ],
   "source": [
    "from adamacs.paths import get_imaging_root_data_dir, get_experiment_root_data_dir\n",
    "from adamacs.ingest import bpod\n",
    "from element_interface.utils import find_full_path\n",
    "\n",
    "scan_key = (scan.Scan & f'scan_id = \"{scansi}\"').fetch('KEY')[0]\n",
    "bpod_path_relative = (scan.ScanPath & scan_key).fetch(\"path\")[0]\n",
    "\n",
    "bpod_path_full = list(find_full_path(\n",
    "        get_experiment_root_data_dir(), bpod_path_relative\n",
    "        ).glob(\"*mat\"))[0]\n",
    "\n",
    "print(bpod_path_full)"
   ]
  },
  {
   "cell_type": "code",
   "execution_count": 16,
   "metadata": {},
   "outputs": [],
   "source": [
    "bpod_object = bpod.Bpodfile(bpod_path_full)"
   ]
  },
  {
   "cell_type": "code",
   "execution_count": 17,
   "metadata": {},
   "outputs": [
    {
     "data": {
      "text/plain": [
       "{'StateMachineVersion': 'Bpod r2+',\n",
       " 'Firmware': {'StateMachine': 23,\n",
       "  'StateMachine_Minor': 10,\n",
       "  'HiFi1': 4,\n",
       "  'PA1': 2},\n",
       " 'CircuitRevision': {'StateMachine': 1, 'HiFi1': 0, 'PA1': nan},\n",
       " 'Modules': {'nModules': 3,\n",
       "  'RelayActive': array([0, 0, 0], dtype=uint8),\n",
       "  'Connected': array([1, 1, 0], dtype=uint8),\n",
       "  'Name': array(['HiFi1', 'PA1', 'Serial3'], dtype=object),\n",
       "  'Module2SM_BaudRate': array([1312500, 1312500, 1312500], dtype=int32),\n",
       "  'FirmwareVersion': array([4, 2, 0], dtype=uint8),\n",
       "  'nSerialEvents': array([20, 15, 10], dtype=uint8),\n",
       "  'EventNames': array([array([], dtype=float64),\n",
       "         array(['Port1In', 'Port1Out', 'Port2In', 'Port2Out', 'Port3In',\n",
       "                'Port3Out', 'Port4In', 'Port4Out'], dtype=object)       ,\n",
       "         array([], dtype=float64)], dtype=object),\n",
       "  'USBport': array(['COM7', 'COM5', array([], dtype=float64)], dtype=object),\n",
       "  'HWVersion_Major': array([ 1., nan, nan]),\n",
       "  'HWVersion_Minor': array([ 0., nan, nan])},\n",
       " 'SessionDate': '19-Oct-2023',\n",
       " 'SessionStartTime_UTC': '10:44:01',\n",
       " 'SessionStartTime_MATLAB': 739178.4472352084}"
      ]
     },
     "execution_count": 17,
     "metadata": {},
     "output_type": "execute_result"
    }
   ],
   "source": [
    "bpod_object.session_data[\"Info\"]"
   ]
  },
  {
   "cell_type": "code",
   "execution_count": null,
   "metadata": {},
   "outputs": [],
   "source": [
    "bpod_object.session_data[\"MousePos\"]['PreStimDLC_live'][10]['right_ear']"
   ]
  },
  {
   "cell_type": "code",
   "execution_count": null,
   "metadata": {},
   "outputs": [],
   "source": [
    "bpod_object.session_data['RawEvents']['Trial'][4]['States']"
   ]
  },
  {
   "cell_type": "code",
   "execution_count": null,
   "metadata": {},
   "outputs": [],
   "source": [
    "bpod_object.trial_data[4]['States']"
   ]
  },
  {
   "cell_type": "code",
   "execution_count": null,
   "metadata": {},
   "outputs": [],
   "source": [
    "bpod_object.trial_data[3]['Events']"
   ]
  },
  {
   "cell_type": "code",
   "execution_count": 14,
   "metadata": {},
   "outputs": [
    {
     "ename": "NameError",
     "evalue": "name 'bpod_object' is not defined",
     "output_type": "error",
     "traceback": [
      "\u001b[0;31m---------------------------------------------------------------------------\u001b[0m",
      "\u001b[0;31mNameError\u001b[0m                                 Traceback (most recent call last)",
      "Input \u001b[0;32mIn [14]\u001b[0m, in \u001b[0;36m<cell line: 1>\u001b[0;34m()\u001b[0m\n\u001b[0;32m----> 1\u001b[0m trials \u001b[38;5;241m=\u001b[39m \u001b[43mbpod_object\u001b[49m\u001b[38;5;241m.\u001b[39mtrial_data\n\u001b[1;32m      2\u001b[0m SoftCode10_events \u001b[38;5;241m=\u001b[39m [(i, trial[\u001b[38;5;124m'\u001b[39m\u001b[38;5;124mEvents\u001b[39m\u001b[38;5;124m'\u001b[39m]\u001b[38;5;241m.\u001b[39mget(\u001b[38;5;124m'\u001b[39m\u001b[38;5;124mSoftCode15\u001b[39m\u001b[38;5;124m'\u001b[39m)) \u001b[38;5;28;01mfor\u001b[39;00m i, trial \u001b[38;5;129;01min\u001b[39;00m \u001b[38;5;28menumerate\u001b[39m(trials) \u001b[38;5;28;01mif\u001b[39;00m \u001b[38;5;124m'\u001b[39m\u001b[38;5;124mSoftCode10\u001b[39m\u001b[38;5;124m'\u001b[39m \u001b[38;5;129;01min\u001b[39;00m trial[\u001b[38;5;124m'\u001b[39m\u001b[38;5;124mEvents\u001b[39m\u001b[38;5;124m'\u001b[39m]] \u001b[38;5;66;03m# get all trials that have a BNC1Low event. Returns a list of tuples (trial number, event time)\u001b[39;00m\n\u001b[1;32m      4\u001b[0m SoftCode10_events_times \u001b[38;5;241m=\u001b[39m [x[\u001b[38;5;241m1\u001b[39m] \u001b[38;5;28;01mfor\u001b[39;00m x \u001b[38;5;129;01min\u001b[39;00m SoftCode10_events]\n",
      "\u001b[0;31mNameError\u001b[0m: name 'bpod_object' is not defined"
     ]
    }
   ],
   "source": [
    "trials = bpod_object.trial_data\n",
    "SoftCode10_events = [(i, trial['Events'].get('SoftCode15')) for i, trial in enumerate(trials) if 'SoftCode10' in trial['Events']] # get all trials that have a BNC1Low event. Returns a list of tuples (trial number, event time)\n",
    "\n",
    "SoftCode10_events_times = [x[1] for x in SoftCode10_events]\n",
    "\n",
    "plt.hist(SoftCode10_events_times, edgecolor='black')\n",
    "\n",
    "plt.title('Histogram of softcode 10 event-to-trial-beginning time')\n",
    "plt.xlabel('[s]')\n",
    "plt.ylabel('Frequency')\n",
    "# plt.xlim([0, 1])\n",
    "plt.show()"
   ]
  },
  {
   "cell_type": "code",
   "execution_count": 26,
   "metadata": {},
   "outputs": [
    {
     "data": {
      "image/png": "[encoded data removed]",
      "text/plain": [
       "<Figure size 640x480 with 1 Axes>"
      ]
     },
     "metadata": {},
     "output_type": "display_data"
    }
   ],
   "source": [
    "plt.rcdefaults()\n",
    "plt.rcParams.update({'font.size': 18})\n",
    "\n",
    "trials = bpod_object.trial_data\n",
    "SoftCode15_events = [(i, trial['Events'].get('SoftCode15')) for i, trial in enumerate(trials) if 'SoftCode15' in trial['Events']] # get all trials that have a BNC1Low event. Returns a list of tuples (trial number, event time)\n",
    "\n",
    "SoftCode15_events_times = [x[1] for x in SoftCode15_events]\n",
    "\n",
    "plt.hist(SoftCode15_events_times, color = 'black', edgecolor='black', bins=100)\n",
    "\n",
    "# plt.title('Histogram of softcode 15 event-to-trial-beginning time')\n",
    "plt.xlabel('[s]')\n",
    "plt.ylabel('Frequency')\n",
    "plt.tick_params(direction='out')\n",
    "plt.xlim([0, 25])\n",
    "# Only show the axes\n",
    "plt.gca().spines['top'].set_visible(False)\n",
    "plt.gca().spines['right'].set_visible(False)\n",
    "\n",
    "\n",
    "savedir = (scan.ScanPath & scan_key).fetch('path')[0]\n",
    "savename = os.path.join(savedir, 'traces.svg')\n",
    "plt.savefig(savename, format='svg')\n",
    "print(savedir)\n",
    "\n",
    "plt.show()\n",
    "\n"
   ]
  },
  {
   "cell_type": "code",
   "execution_count": null,
   "metadata": {},
   "outputs": [],
   "source": [
    "import matplotlib.pyplot as plt\n",
    "import numpy as np\n",
    "import seaborn as sns\n",
    "\n",
    "# Fetch trial data\n",
    "trials = bpod_object.trial_data\n",
    "\n",
    "# Fetch trial start timestamps\n",
    "bpod_trial = bpod_object.session_data[\"TrialStartTimestamp\"]\n",
    "\n",
    "WaitForPosTriggerSoftCode_events = [(trial['States'].get('WaitForPosTriggerSoftCode') if trial['States'].get('WaitForPosTriggerSoftCode') is not None else 0) + bpod_trial[i] for i, trial in enumerate(trials) if 'WaitForPosTriggerSoftCode' in trial['States']]\n",
    "WaitForPosTriggerSoftCode = [event[1] for event in WaitForPosTriggerSoftCode_events]\n",
    "\n",
    "CueDelayTrialCricket_events = [(trial['States'].get('CueDelayTrialCricket') if trial['States'].get('CueDelayTrialCricket') is not None else 0) + bpod_trial[i] for i, trial in enumerate(trials) if 'CueDelayTrialCricket' in trial['States']]\n",
    "CueDelayTrialCricket = [event[0] for event in CueDelayTrialCricket_events]\n",
    "\n",
    "CueDelay_events = [(trial['States'].get('CueDelay') if trial['States'].get('CueDelay') is not None else 0) + bpod_trial[i] for i, trial in enumerate(trials) if 'CueDelay' in trial['States']]\n",
    "CueDelay  = [event[0] for event in CueDelay_events]\n",
    "\n",
    "Drinking_events = [(trial['States'].get('Drinking') if trial['States'].get('Drinking') is not None else 0) + bpod_trial[i] for i, trial in enumerate(trials) if 'Drinking' in trial['States']]\n",
    "DrinkingResponse = [event[0] for event in Drinking_events]\n",
    "\n",
    "\n",
    "# Fetch all trials that have a BNC1Low event. Returns a list of tuples (trial number, event time)\n",
    "BNC1Low_events = [(i, trial['Events'].get('BNC1Low')) for i, trial in enumerate(trials) if 'BNC1Low' in trial['Events']]\n",
    "\n",
    "# Fetch shutter event start times\n",
    "AUX_shutter = (event.Event & 'scan_id = \"' + scansi + '\"' & 'event_type LIKE \"%shutter%\"').fetch(\"event_start_time\")\n",
    "\n",
    "# Fetch event start times for visual and tone events\n",
    "aux_vis = (event.Event & 'scan_id = \"' + scansi + '\"' & 'event_type LIKE \"%vis%\"').fetch(\"event_start_time\") \n",
    "aux_tone = (event.Event & 'scan_id = \"' + scansi + '\"' & 'event_type LIKE \"%tone%\"').fetch(\"event_start_time\") \n",
    "aux_reward = (event.Event & 'scan_id = \"' + scansi + '\"' & 'event_type LIKE \"%reward%\"').fetch(\"event_start_time\") \n",
    "\n",
    "# Adjust bpod_trial times\n",
    "\n",
    "# bpodoffset = (BNC1Low_events[0][1]  + bpod_trial[0]) \n",
    "\n",
    "bpodoffset = (WaitForPosTriggerSoftCode[0]) \n",
    "aux_offset = aux_vis[0] \n",
    "\n",
    "WaitForPosTriggerSoftCode = WaitForPosTriggerSoftCode - bpodoffset + aux_offset\n",
    "CueDelay = CueDelay - bpodoffset + aux_offset \n",
    "CueDelayTrialCricket = CueDelayTrialCricket - bpodoffset + aux_offset\n",
    "DrinkingResponse = DrinkingResponse - bpodoffset + aux_offset\n",
    "bpod_trial = bpod_trial - bpodoffset + aux_offset\n",
    "\n",
    "# # Adjust AUX times\n",
    "# aux_offset = aux_vis[0] \n",
    "\n",
    "# AUX_shutter = AUX_shutter - aux_offset #+  bpod_trial[1]\n",
    "# aux_vis = aux_vis - aux_offset #+  bpod_trial[1]\n",
    "# aux_tone    = aux_tone - aux_offset #+  bpod_trial[1]\n",
    "# aux_reward = aux_reward - aux_offset #+  bpod_trial[1]\n",
    "\n",
    "\n",
    "# Convert aux_tone, bpod_trial, and aux_vis values from seconds to deciseconds\n",
    "tone_timestamps = (aux_tone * 100).astype(int)\n",
    "trial_timestamps = (bpod_trial * 100).astype(int)\n",
    "vis_timestamps = (aux_vis * 100).astype(int)\n",
    "reward_timestamps = (aux_reward * 100).astype(int)\n",
    "WaitForPosTriggerSoftCode_timestamps = (np.array(WaitForPosTriggerSoftCode) * 100).astype(int)\n",
    "CueDelay_timestamps = (np.array(CueDelay) * 100).astype(int)\n",
    "CueDelayTrialCricket_timestamps = (np.array(CueDelayTrialCricket) * 100).astype(int)\n",
    "DrinkingResponse_timestamps = (np.array(DrinkingResponse) * 100).astype(int)\n",
    "\n",
    "# Create separate timebases for each event type\n",
    "timebase_tone = np.zeros(int(max(tone_timestamps.max(), trial_timestamps.max(), vis_timestamps.max(), reward_timestamps.max(), WaitForPosTriggerSoftCode_timestamps.max(), CueDelay_timestamps.max()) + 1))\n",
    "timebase_trial = np.zeros(int(max(tone_timestamps.max(), trial_timestamps.max(), vis_timestamps.max(), reward_timestamps.max(), WaitForPosTriggerSoftCode_timestamps.max(), CueDelay_timestamps.max()) + 1))\n",
    "timebase_vis = np.zeros(int(max(tone_timestamps.max(), trial_timestamps.max(), vis_timestamps.max(), reward_timestamps.max(), WaitForPosTriggerSoftCode_timestamps.max(), CueDelay_timestamps.max()) + 1))\n",
    "timebase_reward = np.zeros(int(max(tone_timestamps.max(), trial_timestamps.max(), vis_timestamps.max(), reward_timestamps.max(), WaitForPosTriggerSoftCode_timestamps.max(), CueDelay_timestamps.max()) + 1))\n",
    "timebase_WaitForPosTriggerSoftCode = np.zeros(int(max(tone_timestamps.max(), trial_timestamps.max(), vis_timestamps.max(), reward_timestamps.max(), WaitForPosTriggerSoftCode_timestamps.max(), CueDelay_timestamps.max()) + 1))\n",
    "timebase_CueDelay = np.zeros(int(max(tone_timestamps.max(), trial_timestamps.max(), vis_timestamps.max(), reward_timestamps.max(), WaitForPosTriggerSoftCode_timestamps.max(), CueDelay_timestamps.max()) + 1))\n",
    "timebase_CueDelayTrialCricket = np.zeros(int(max(tone_timestamps.max(), trial_timestamps.max(), vis_timestamps.max(), reward_timestamps.max(), WaitForPosTriggerSoftCode_timestamps.max(), CueDelay_timestamps.max()) + 1))\n",
    "DrinkResponse = np.zeros(int(max(tone_timestamps.max(), trial_timestamps.max(), vis_timestamps.max(), reward_timestamps.max(), WaitForPosTriggerSoftCode_timestamps.max(), CueDelay_timestamps.max()) + 1))\n",
    "\n",
    "\n",
    "# Set the timebase samples that correspond to the tone onsets, trial starts, and visual cue onsets to one\n",
    "# Each event has a duration of 100ms\n",
    "for timestamp in tone_timestamps:\n",
    "    timebase_tone[timestamp:timestamp+1] = 2\n",
    "for timestamp in trial_timestamps:\n",
    "    timebase_trial[timestamp:timestamp+1] = 3\n",
    "for timestamp in vis_timestamps:\n",
    "    timebase_vis[timestamp:timestamp+1] = 1\n",
    "for timestamp in reward_timestamps:\n",
    "    timebase_reward[timestamp:timestamp+1] = 4\n",
    "for timestamp in WaitForPosTriggerSoftCode_timestamps:\n",
    "    timebase_WaitForPosTriggerSoftCode[timestamp:timestamp+1] = 5\n",
    "for timestamp in CueDelay_timestamps:\n",
    "    timebase_CueDelay[timestamp:timestamp+1] = 6\n",
    "for timestamp in CueDelayTrialCricket_timestamps:\n",
    "    timebase_CueDelayTrialCricket[timestamp:timestamp+1] = 7  \n",
    "for timestamp in DrinkingResponse_timestamps:\n",
    "    DrinkResponse[timestamp:timestamp+1] = 8   \n",
    "\n",
    "# Set the style to 'dark_background'\n",
    "plt.style.use('dark_background')\n",
    "\n",
    "# Create a color palette\n",
    "colors = sns.color_palette(\"husl\", 8)\n",
    "\n",
    "# Create a figure with a width that fits the screen\n",
    "plt.figure(figsize=(50, 10))\n",
    "\n",
    "# Create tick plots with colors from the palette\n",
    "linelength = 0.7\n",
    "\n",
    "plt.eventplot(np.where(timebase_tone == 2)[0], lineoffsets=1, colors=colors[0], linelengths=linelength, label='AUX Tone onsets')\n",
    "plt.eventplot(np.where(timebase_vis == 1)[0], lineoffsets=2, colors=colors[1], linelengths=linelength, label='AUX Visual cue onsets')\n",
    "plt.eventplot(np.where(timebase_reward == 4)[0], lineoffsets=3, colors=colors[2], linelengths=linelength, label='AUX Reward onsets')\n",
    "plt.eventplot(np.where(timebase_trial == 3)[0], lineoffsets=4, colors=colors[3], linelengths=linelength, label='BPOD Trial starts')\n",
    "plt.eventplot(np.where(timebase_WaitForPosTriggerSoftCode == 5)[0], lineoffsets=5, colors=colors[4], linelengths=linelength, label='WaitForPosTriggerSoftCode')\n",
    "plt.eventplot(np.where(timebase_CueDelay == 6)[0], lineoffsets=6, colors=colors[5], linelengths=linelength, label='CueDelay')\n",
    "plt.eventplot(np.where(timebase_CueDelayTrialCricket == 7)[0], lineoffsets=7, colors=colors[6], linelengths=linelength, label='CueDelayTrialCricket') \n",
    "plt.eventplot(np.where(DrinkResponse == 8)[0], lineoffsets=8, colors=colors[7], linelengths=linelength, label='DrinkingResponse')\n",
    "\n",
    "plt.yticks([1, 2, 3, 4, 5, 6, 7, 8], ['AUX Tone onsets', 'AUX Visual cue_triggered', 'AUX Reward onsets', 'BPOD Trial starts', 'WaitForPosTriggerSoftCode', 'CueDelay', 'CueDelayTrialCricket', 'Drinking'])\n",
    "\n",
    "# Draw vertical lines where timebase_trial == 3\n",
    "\n",
    "for i in np.where(timebase_trial == 3)[0]:\n",
    "    plt.axvline(x=i, color='w', linestyle='--', linewidth=0.5, zorder=0)\n",
    "\n",
    "# Get the y-tick labels\n",
    "labels = plt.gca().get_yticklabels()\n",
    "\n",
    "# Find the labels to change\n",
    "for label in labels:\n",
    "    if label.get_text() == 'WaitForPosTriggerSoftCode' or label.get_text() == 'AUX Visual cue_triggered':\n",
    "        label.set_color('red')\n",
    "        label.set_fontweight('bold')\n",
    "    if label.get_text() == 'BPOD Trial starts':\n",
    "        label.set_color('green')\n",
    "        label.set_fontweight('bold')\n",
    "\n",
    "\n",
    "plt.legend()\n",
    "plt.xlim([71000, 72000])\n",
    "plt.show()"
   ]
  },
  {
   "cell_type": "markdown",
   "metadata": {},
   "source": [
    "## Run image processing jobs\n"
   ]
  },
  {
   "cell_type": "code",
   "execution_count": null,
   "metadata": {},
   "outputs": [],
   "source": [
    "populate_settings = {'display_progress': True, 'suppress_errors': False, 'processes': 1}\n",
    "imaging.Processing.populate(**populate_settings)"
   ]
  },
  {
   "cell_type": "markdown",
   "metadata": {},
   "source": []
  },
  {
   "cell_type": "code",
   "execution_count": null,
   "metadata": {},
   "outputs": [],
   "source": [
    "dj.Diagram(imaging) + dj.Diagram(scan)"
   ]
  },
  {
   "cell_type": "markdown",
   "metadata": {},
   "source": [
    "### Curation"
   ]
  },
  {
   "cell_type": "code",
   "execution_count": null,
   "metadata": {},
   "outputs": [],
   "source": [
    "samesite = 'sess9FK61CPU'\n",
    "key =  (session.SessionSameSite & f'same_site_id=\"{samesite}\"').fetch('KEY')\n",
    "# scan.Scan & key"
   ]
  },
  {
   "cell_type": "code",
   "execution_count": null,
   "metadata": {},
   "outputs": [],
   "source": [
    "\n",
    "populate_settings = {'display_progress': True, 'suppress_errors': False, 'processes': 1}\n",
    "\n"
   ]
  },
  {
   "cell_type": "markdown",
   "metadata": {},
   "source": [
    "### Creat a curation task for each entry in the imaging.Processing table"
   ]
  },
  {
   "cell_type": "code",
   "execution_count": null,
   "metadata": {},
   "outputs": [],
   "source": [
    "for processing_task in imaging.ProcessingTask():\n",
    "    # Extract necessary information from processing_task\n",
    "    # This depends on the structure of your Processing table\n",
    "    # For example, you might need the session_id and scan_id\n",
    "    session_id = processing_task['session_id']\n",
    "    scan_id = processing_task['scan_id']\n",
    "    imaging.Curation().create1_from_processing_task({'session_id': session_id, 'scan_id': scan_id, \"paramset_idx\": 3, \"manual_curation\": False})\n"
   ]
  },
  {
   "cell_type": "code",
   "execution_count": null,
   "metadata": {},
   "outputs": [],
   "source": [
    "### run trace populations"
   ]
  },
  {
   "cell_type": "code",
   "execution_count": null,
   "metadata": {},
   "outputs": [],
   "source": [
    "selected_s2pparms_index = 3\n",
    "\n",
    "# POPULATE!\n",
    "populate_settings = {'display_progress': True, 'suppress_errors': False, 'processes': 1}\n",
    "\n",
    "#imaging.Curation().create1_from_processing_task({'session_id': sessi, 'scan_id': scansi, \"paramset_idx\": selected_s2pparms_index, \"manual_curation\": 0})\n",
    "\n",
    "imaging.MotionCorrection.populate(**populate_settings)\n",
    "\n",
    "imaging.Segmentation.populate(**populate_settings)\n",
    "\n",
    "imaging.MaskClassification.populate(**populate_settings)\n"
   ]
  },
  {
   "cell_type": "code",
   "execution_count": null,
   "metadata": {},
   "outputs": [],
   "source": [
    "\n",
    "imaging.Fluorescence.populate(**populate_settings)\n"
   ]
  },
  {
   "cell_type": "code",
   "execution_count": null,
   "metadata": {},
   "outputs": [],
   "source": [
    "imaging.Activity.populate(**populate_settings)"
   ]
  },
  {
   "cell_type": "code",
   "execution_count": null,
   "metadata": {},
   "outputs": [],
   "source": [
    "print(imaging.Fluorescence.Trace.describe())"
   ]
  },
  {
   "cell_type": "code",
   "execution_count": null,
   "metadata": {},
   "outputs": [],
   "source": [
    "scan_key = (scan.Scan & f'scan_id = \"{scansi}\"').fetch('KEY')[0]\n",
    "curation_key = (imaging.Curation & scan_key & 'curation_id=1').fetch1('KEY')"
   ]
  },
  {
   "cell_type": "markdown",
   "metadata": {},
   "source": [
    "## Make Movie"
   ]
  },
  {
   "cell_type": "code",
   "execution_count": null,
   "metadata": {},
   "outputs": [],
   "source": [
    "path = (scan.ScanPath & curation_key).fetch1(\"path\") + (\"/suite2p/plane0/reg_tif\")\n",
    "sh.make_runninaverage_movie(path)"
   ]
  },
  {
   "cell_type": "markdown",
   "metadata": {},
   "source": [
    "## Pose estimation"
   ]
  },
  {
   "cell_type": "code",
   "execution_count": null,
   "metadata": {},
   "outputs": [],
   "source": [
    "dj.Diagram(model) + dj.Diagram(equipment)"
   ]
  },
  {
   "cell_type": "code",
   "execution_count": null,
   "metadata": {},
   "outputs": [],
   "source": [
    "aux_setup_typestr = (scan.ScanInfo() & 'scan_id = \"' + scansi + '\"').fetch(\"userfunction_info\")[0]\n",
    "selected_DLCmodel = 'Topcam_2bin_without_scope'\n",
    "print('- - - -')\n",
    "print('DLC pose estimation:', scansi)\n",
    "\n",
    "# insert TOP movie into model table\n",
    "scan_key = (scan.Scan & f'scan_id = \"{scansi}\"').fetch('KEY')[0] \n",
    "moviepath = str(list(pathlib.Path((scan.ScanPath() & scan_key).fetch(\"path\")[0]).glob(\"*top*.mp4*\"))[0])\n",
    "\n",
    "key = {'session_id': scan_key[\"session_id\"],\n",
    "    'recording_id': scan_key[\"scan_id\"], \n",
    "    'camera': \"mini2p1_top\", # Currently 'scanner' due to in equipment tables\n",
    "    }\n",
    "model.VideoRecording.insert1(key, skip_duplicates=True)\n",
    "\n",
    "key.update({'file_path': moviepath,\n",
    "            'file_id': 0})  #INCREMENT FILE_ID WITH CAM NUMBER?\n",
    "\n",
    "model.VideoRecording.File.insert1(key, ignore_extra_fields=True, skip_duplicates=True)\n",
    "model.RecordingInfo.populate()"
   ]
  },
  {
   "cell_type": "code",
   "execution_count": null,
   "metadata": {},
   "outputs": [],
   "source": [
    "\n",
    "model.VideoRecording.File * model.VideoRecording() &  'recording_id = \"' + scansi + '\"'"
   ]
  },
  {
   "cell_type": "code",
   "execution_count": null,
   "metadata": {},
   "outputs": [],
   "source": [
    "key =  (model.VideoRecording & f'recording_id=\"{scansi}\"').fetch1('KEY')\n",
    "key.update({'model_name': selected_DLCmodel, 'task_mode': 'trigger'}) \n",
    "key      \n"
   ]
  },
  {
   "cell_type": "code",
   "execution_count": null,
   "metadata": {},
   "outputs": [],
   "source": [
    "# INSERT pose estimation task\n",
    "model.PoseEstimationTask.insert_estimation_task(key, key[\"model_name\"], analyze_videos_params={'save_as_csv':True, 'dynamic':(True,.5,60)}) # dynamic cropping"
   ]
  },
  {
   "cell_type": "code",
   "execution_count": null,
   "metadata": {},
   "outputs": [],
   "source": [
    "model.PoseEstimationTask() * model.VideoRecording * model.VideoRecording.File()"
   ]
  },
  {
   "cell_type": "code",
   "execution_count": null,
   "metadata": {},
   "outputs": [],
   "source": [
    "model.RecordingInfo()"
   ]
  },
  {
   "cell_type": "code",
   "execution_count": null,
   "metadata": {},
   "outputs": [],
   "source": [
    "# run pose estimation\n",
    "model.PoseEstimation.populate()"
   ]
  },
  {
   "cell_type": "markdown",
   "metadata": {},
   "source": [
    "#### make labeled video"
   ]
  },
  {
   "cell_type": "code",
   "execution_count": null,
   "metadata": {},
   "outputs": [],
   "source": [
    "from deeplabcut.utils.make_labeled_video import create_labeled_video\n",
    "import yaml\n",
    "from element_interface.utils import find_full_path\n",
    "from adamacs.paths import get_dlc_root_data_dir\n",
    "\n",
    "\n",
    "destfolder = model.PoseEstimationTask.infer_output_dir(key)\n",
    "destfolder\n",
    "\n",
    "video_path = find_full_path( # Fetch the full video path\n",
    "    get_dlc_root_data_dir(), ((model.VideoRecording.File & key).fetch1(\"file_path\"))\n",
    ")\n",
    "\n",
    "config_paths = sorted( # Of configs in the project path, defer to the datajoint-saved\n",
    "    list(\n",
    "        find_full_path(\n",
    "            get_dlc_root_data_dir(), ((model.Model & key).fetch1(\"project_path\"))\n",
    "        ).glob(\"*.y*ml\")\n",
    "    )\n",
    ")\n",
    "\n",
    "create_labeled_video( # Pass strings to label the video\n",
    "    config=str(config_paths[-1]),\n",
    "    videos=str(video_path),\n",
    "    destfolder=str(destfolder),\n",
    ")\n",
    "\n",
    "# list(list(pathlib.Path((model.VideoRecording.File & key).fetch1(\"file_path\")).parent.glob(\"device*\"))[0].glob(\"*.y*ml\"))"
   ]
  },
  {
   "cell_type": "code",
   "execution_count": null,
   "metadata": {},
   "outputs": [],
   "source": [
    "import glob\n",
    "mp4_files = glob.glob(f\"{destfolder}/*.mp4\")\n",
    "mp4_files[0]"
   ]
  },
  {
   "cell_type": "code",
   "execution_count": null,
   "metadata": {},
   "outputs": [],
   "source": [
    "(model.PoseEstimation() * session.Session * session.SessionUser * subject.User()).fetch(format = \"frame\", order_by = \"session_datetime\")"
   ]
  },
  {
   "cell_type": "code",
   "execution_count": null,
   "metadata": {},
   "outputs": [],
   "source": [
    "# scansi = \"scan9FKSMYYS\"\n",
    "scan_key = (model.PoseEstimation & f'recording_id = \"{scansi}\"').fetch('KEY')[0] \n",
    "path = (model.VideoRecording.File & scan_key).fetch(\"file_path\")\n",
    "path"
   ]
  },
  {
   "cell_type": "code",
   "execution_count": null,
   "metadata": {},
   "outputs": [],
   "source": [
    "(model.PoseEstimation.BodyPartPosition() & scan_key & 'body_part = \"head_middle\"').fetch(\"x_pos\", \"y_pos\")"
   ]
  },
  {
   "cell_type": "markdown",
   "metadata": {},
   "source": [
    "## Cleaning. Use with caution!"
   ]
  },
  {
   "cell_type": "code",
   "execution_count": null,
   "metadata": {},
   "outputs": [],
   "source": [
    "imaging.ProcessingTask()"
   ]
  },
  {
   "cell_type": "code",
   "execution_count": null,
   "metadata": {},
   "outputs": [],
   "source": [
    "scan_key"
   ]
  },
  {
   "cell_type": "code",
   "execution_count": null,
   "metadata": {},
   "outputs": [],
   "source": [
    "# subject.Subject.delete()\n",
    "# session.Session.delete()\n",
    "# imaging.Processing.delete()\n",
    "# imaging.Curation.delete()\n",
    "# event.Event.delete()\n",
    "# event.BehaviorRecording.delete()"
   ]
  },
  {
   "cell_type": "code",
   "execution_count": null,
   "metadata": {},
   "outputs": [],
   "source": [
    "# key = (session.Session & \"session_datetime >= '2023-10-01'\").fetch('KEY')\n",
    "# (session.Session & \"session_datetime >= '2023-10-01'\").delete()\n",
    "# (imaging.ProcessingTask & \"session_id LIKE 'sess9FKWT2RT%'\").delete()\n",
    "# (imaging.ProcessingTask  & key).delete()\n",
    "# (model.PoseEstimationTask & key).delete()\n",
    "(session.Session & \"session_id LIKE '%sess9FK610VH%'\").delete()\n",
    "# (subject.Subject & \"subject = 'ROS-1571'\").delete()\n",
    "# # subject.Subject.delete()\n",
    "# # session.Session.delete()\n",
    "# # imaging.Processing.delete()\n",
    "# # imaging.Curation.delete()\n",
    "# # event.Event.delete()\n",
    "# # event.BehaviorRecording.delete()"
   ]
  },
  {
   "cell_type": "code",
   "execution_count": 39,
   "metadata": {},
   "outputs": [],
   "source": [
    "deletekey = (imaging.ProcessingTask * session.SessionUser * subject.User & \"initials LIKE '%NK'\").fetch('KEY')"
   ]
  },
  {
   "cell_type": "code",
   "execution_count": 41,
   "metadata": {},
   "outputs": [
    {
     "data": {
      "text/html": [
       "\n",
       "    \n",
       "    <style type=\"text/css\">\n",
       "        .Table{\n",
       "            border-collapse:collapse;\n",
       "        }\n",
       "        .Table th{\n",
       "            background: #A0A0A0; color: #ffffff; padding:4px; border:#f0e0e0 1px solid;\n",
       "            font-weight: normal; font-family: monospace; font-size: 100%;\n",
       "        }\n",
       "        .Table td{\n",
       "            padding:4px; border:#f0e0e0 1px solid; font-size:100%;\n",
       "        }\n",
       "        .Table tr:nth-child(odd){\n",
       "            background: #ffffff;\n",
       "            color: #000000;\n",
       "        }\n",
       "        .Table tr:nth-child(even){\n",
       "            background: #f3f1ff;\n",
       "            color: #000000;\n",
       "        }\n",
       "        /* Tooltip container */\n",
       "        .djtooltip {\n",
       "        }\n",
       "        /* Tooltip text */\n",
       "        .djtooltip .djtooltiptext {\n",
       "            visibility: hidden;\n",
       "            width: 120px;\n",
       "            background-color: black;\n",
       "            color: #fff;\n",
       "            text-align: center;\n",
       "            padding: 5px 0;\n",
       "            border-radius: 6px;\n",
       "            /* Position the tooltip text - see examples below! */\n",
       "            position: absolute;\n",
       "            z-index: 1;\n",
       "        }\n",
       "        #primary {\n",
       "            font-weight: bold;\n",
       "            color: black;\n",
       "        }\n",
       "        #nonprimary {\n",
       "            font-weight: normal;\n",
       "            color: white;\n",
       "        }\n",
       "\n",
       "        /* Show the tooltip text when you mouse over the tooltip container */\n",
       "        .djtooltip:hover .djtooltiptext {\n",
       "            visibility: visible;\n",
       "        }\n",
       "    </style>\n",
       "    \n",
       "    <b>Manual table for defining a processing task ready to be run</b>\n",
       "        <div style=\"max-height:1000px;max-width:1500px;overflow:auto;\">\n",
       "        <table border=\"1\" class=\"Table\">\n",
       "            <thead> <tr style=\"text-align: right;\"> <th> <div class=\"djtooltip\">\n",
       "                            <p id=\"primary\">session_id</p>\n",
       "                            <span class=\"djtooltiptext\"></span>\n",
       "                        </div></th><th><div class=\"djtooltip\">\n",
       "                            <p id=\"primary\">scan_id</p>\n",
       "                            <span class=\"djtooltiptext\"></span>\n",
       "                        </div></th><th><div class=\"djtooltip\">\n",
       "                            <p id=\"primary\">paramset_idx</p>\n",
       "                            <span class=\"djtooltiptext\"></span>\n",
       "                        </div></th><th><div class=\"djtooltip\">\n",
       "                            <p id=\"nonprimary\">processing_output_dir</p>\n",
       "                            <span class=\"djtooltiptext\">output directory of the processed scan relative to root data directory</span>\n",
       "                        </div></th><th><div class=\"djtooltip\">\n",
       "                            <p id=\"nonprimary\">task_mode</p>\n",
       "                            <span class=\"djtooltiptext\">'load': load computed analysis results, 'trigger': trigger computation</span>\n",
       "                        </div> </th> </tr> </thead>\n",
       "            <tbody> <tr> <td>sess9FK61CPU</td>\n",
       "<td>scan9FK61CPU</td>\n",
       "<td>3</td>\n",
       "<td>/datajoint-data/data/tobiasr/LE_WEZ-8909_2023-09-19_scan9FK61CPU_sess9FK61CPU</td>\n",
       "<td>trigger</td></tr><tr><td>sess9FLJB7Y5</td>\n",
       "<td>scan9FLJB7Y5</td>\n",
       "<td>0</td>\n",
       "<td>/datajoint-data/data/tobiasr/NK_ROS-1686_2023-12-11_scan9FLJB7Y5_sess9FLJB7Y5</td>\n",
       "<td>trigger</td> </tr> </tbody>\n",
       "        </table>\n",
       "        \n",
       "        <p>Total: 2</p></div>\n",
       "        "
      ],
      "text/plain": [
       "*session_id    *scan_id       *paramset_idx  processing_out task_mode    \n",
       "+------------+ +------------+ +------------+ +------------+ +-----------+\n",
       "sess9FK61CPU   scan9FK61CPU   3              /datajoint-dat trigger      \n",
       "sess9FLJB7Y5   scan9FLJB7Y5   0              /datajoint-dat trigger      \n",
       " (Total: 2)"
      ]
     },
     "execution_count": 41,
     "metadata": {},
     "output_type": "execute_result"
    }
   ],
   "source": [
    "imaging.ProcessingTask()"
   ]
  },
  {
   "cell_type": "code",
   "execution_count": 38,
   "metadata": {},
   "outputs": [
    {
     "data": {
      "text/html": [
       "\n",
       "    \n",
       "    <style type=\"text/css\">\n",
       "        .Table{\n",
       "            border-collapse:collapse;\n",
       "        }\n",
       "        .Table th{\n",
       "            background: #A0A0A0; color: #ffffff; padding:4px; border:#f0e0e0 1px solid;\n",
       "            font-weight: normal; font-family: monospace; font-size: 100%;\n",
       "        }\n",
       "        .Table td{\n",
       "            padding:4px; border:#f0e0e0 1px solid; font-size:100%;\n",
       "        }\n",
       "        .Table tr:nth-child(odd){\n",
       "            background: #ffffff;\n",
       "            color: #000000;\n",
       "        }\n",
       "        .Table tr:nth-child(even){\n",
       "            background: #f3f1ff;\n",
       "            color: #000000;\n",
       "        }\n",
       "        /* Tooltip container */\n",
       "        .djtooltip {\n",
       "        }\n",
       "        /* Tooltip text */\n",
       "        .djtooltip .djtooltiptext {\n",
       "            visibility: hidden;\n",
       "            width: 120px;\n",
       "            background-color: black;\n",
       "            color: #fff;\n",
       "            text-align: center;\n",
       "            padding: 5px 0;\n",
       "            border-radius: 6px;\n",
       "            /* Position the tooltip text - see examples below! */\n",
       "            position: absolute;\n",
       "            z-index: 1;\n",
       "        }\n",
       "        #primary {\n",
       "            font-weight: bold;\n",
       "            color: black;\n",
       "        }\n",
       "        #nonprimary {\n",
       "            font-weight: normal;\n",
       "            color: white;\n",
       "        }\n",
       "\n",
       "        /* Show the tooltip text when you mouse over the tooltip container */\n",
       "        .djtooltip:hover .djtooltiptext {\n",
       "            visibility: visible;\n",
       "        }\n",
       "    </style>\n",
       "    \n",
       "    \n",
       "        <div style=\"max-height:1000px;max-width:1500px;overflow:auto;\">\n",
       "        <table border=\"1\" class=\"Table\">\n",
       "            <thead> <tr style=\"text-align: right;\"> <th> <div class=\"djtooltip\">\n",
       "                            <p id=\"primary\">session_id</p>\n",
       "                            <span class=\"djtooltiptext\"></span>\n",
       "                        </div></th><th><div class=\"djtooltip\">\n",
       "                            <p id=\"primary\">user_id</p>\n",
       "                            <span class=\"djtooltiptext\"></span>\n",
       "                        </div></th><th><div class=\"djtooltip\">\n",
       "                            <p id=\"nonprimary\">subject</p>\n",
       "                            <span class=\"djtooltiptext\">PyRat import uses this for earmark value</span>\n",
       "                        </div></th><th><div class=\"djtooltip\">\n",
       "                            <p id=\"nonprimary\">session_datetime</p>\n",
       "                            <span class=\"djtooltiptext\"></span>\n",
       "                        </div></th><th><div class=\"djtooltip\">\n",
       "                            <p id=\"nonprimary\">name</p>\n",
       "                            <span class=\"djtooltiptext\"></span>\n",
       "                        </div></th><th><div class=\"djtooltip\">\n",
       "                            <p id=\"nonprimary\">shorthand</p>\n",
       "                            <span class=\"djtooltiptext\">TR: added name_FirstInitialSurname shorthand</span>\n",
       "                        </div></th><th><div class=\"djtooltip\">\n",
       "                            <p id=\"nonprimary\">initials</p>\n",
       "                            <span class=\"djtooltiptext\">Update after pyrat ingestion</span>\n",
       "                        </div></th><th><div class=\"djtooltip\">\n",
       "                            <p id=\"nonprimary\">email</p>\n",
       "                            <span class=\"djtooltiptext\">TR: for completeness' sake also email</span>\n",
       "                        </div></th><th><div class=\"djtooltip\">\n",
       "                            <p id=\"nonprimary\">lab</p>\n",
       "                            <span class=\"djtooltiptext\">short lab name, pyrat labid</span>\n",
       "                        </div> </th> </tr> </thead>\n",
       "            <tbody> <tr> <td>sess9FKSMYYS</td>\n",
       "<td>6</td>\n",
       "<td>ROS-1604</td>\n",
       "<td>2023-10-27 00:00:00</td>\n",
       "<td>Jung Jisoo</td>\n",
       "<td>jisooj</td>\n",
       "<td>JJ</td>\n",
       "<td>jjun1@uni-bonn.de</td>\n",
       "<td>Rose</td></tr><tr><td>sess9FKSN4XD</td>\n",
       "<td>6</td>\n",
       "<td>ROS-1604</td>\n",
       "<td>2023-10-27 00:00:00</td>\n",
       "<td>Jung Jisoo</td>\n",
       "<td>jisooj</td>\n",
       "<td>JJ</td>\n",
       "<td>jjun1@uni-bonn.de</td>\n",
       "<td>Rose</td></tr><tr><td>sess9FKW82R3</td>\n",
       "<td>6</td>\n",
       "<td>ROS-1604</td>\n",
       "<td>2023-11-02 00:00:00</td>\n",
       "<td>Jung Jisoo</td>\n",
       "<td>jisooj</td>\n",
       "<td>JJ</td>\n",
       "<td>jjun1@uni-bonn.de</td>\n",
       "<td>Rose</td></tr><tr><td>sess9FLGCZ8J</td>\n",
       "<td>6</td>\n",
       "<td>ROS-1604</td>\n",
       "<td>2023-12-06 00:00:00</td>\n",
       "<td>Jung Jisoo</td>\n",
       "<td>jisooj</td>\n",
       "<td>JJ</td>\n",
       "<td>jjun1@uni-bonn.de</td>\n",
       "<td>Rose</td></tr><tr><td>sess9FLGD2WU</td>\n",
       "<td>6</td>\n",
       "<td>ROS-1604</td>\n",
       "<td>2023-12-06 00:00:00</td>\n",
       "<td>Jung Jisoo</td>\n",
       "<td>jisooj</td>\n",
       "<td>JJ</td>\n",
       "<td>jjun1@uni-bonn.de</td>\n",
       "<td>Rose</td></tr><tr><td>sess9FLGDCAW</td>\n",
       "<td>6</td>\n",
       "<td>ROS-1604</td>\n",
       "<td>2023-12-06 00:00:00</td>\n",
       "<td>Jung Jisoo</td>\n",
       "<td>jisooj</td>\n",
       "<td>JJ</td>\n",
       "<td>jjun1@uni-bonn.de</td>\n",
       "<td>Rose</td></tr><tr><td>sess9FLGDMQ6</td>\n",
       "<td>6</td>\n",
       "<td>ROS-1604</td>\n",
       "<td>2023-12-06 00:00:00</td>\n",
       "<td>Jung Jisoo</td>\n",
       "<td>jisooj</td>\n",
       "<td>JJ</td>\n",
       "<td>jjun1@uni-bonn.de</td>\n",
       "<td>Rose</td></tr><tr><td>sess9FLGDUSL</td>\n",
       "<td>6</td>\n",
       "<td>ROS-1604</td>\n",
       "<td>2023-12-06 00:00:00</td>\n",
       "<td>Jung Jisoo</td>\n",
       "<td>jisooj</td>\n",
       "<td>JJ</td>\n",
       "<td>jjun1@uni-bonn.de</td>\n",
       "<td>Rose</td> </tr> </tbody>\n",
       "        </table>\n",
       "        \n",
       "        <p>Total: 8</p></div>\n",
       "        "
      ],
      "text/plain": [
       "*session_id    *user_id    subject      session_dateti name           shorthand     initials     email          lab     \n",
       "+------------+ +---------+ +----------+ +------------+ +------------+ +-----------+ +----------+ +------------+ +------+\n",
       "sess9FKSMYYS   6           ROS-1604     2023-10-27 00: Jung Jisoo     jisooj        JJ           jjun1@uni-bonn Rose    \n",
       "sess9FKSN4XD   6           ROS-1604     2023-10-27 00: Jung Jisoo     jisooj        JJ           jjun1@uni-bonn Rose    \n",
       "sess9FKW82R3   6           ROS-1604     2023-11-02 00: Jung Jisoo     jisooj        JJ           jjun1@uni-bonn Rose    \n",
       "sess9FLGCZ8J   6           ROS-1604     2023-12-06 00: Jung Jisoo     jisooj        JJ           jjun1@uni-bonn Rose    \n",
       "sess9FLGD2WU   6           ROS-1604     2023-12-06 00: Jung Jisoo     jisooj        JJ           jjun1@uni-bonn Rose    \n",
       "sess9FLGDCAW   6           ROS-1604     2023-12-06 00: Jung Jisoo     jisooj        JJ           jjun1@uni-bonn Rose    \n",
       "sess9FLGDMQ6   6           ROS-1604     2023-12-06 00: Jung Jisoo     jisooj        JJ           jjun1@uni-bonn Rose    \n",
       "sess9FLGDUSL   6           ROS-1604     2023-12-06 00: Jung Jisoo     jisooj        JJ           jjun1@uni-bonn Rose    \n",
       " (Total: 8)"
      ]
     },
     "execution_count": 38,
     "metadata": {},
     "output_type": "execute_result"
    }
   ],
   "source": [
    "session.Session * session.SessionUser * subject.User & \"shorthand = 'jisooj'\""
   ]
  },
  {
   "cell_type": "code",
   "execution_count": 28,
   "metadata": {},
   "outputs": [
    {
     "data": {
      "text/html": [
       "\n",
       "    \n",
       "    <style type=\"text/css\">\n",
       "        .Table{\n",
       "            border-collapse:collapse;\n",
       "        }\n",
       "        .Table th{\n",
       "            background: #A0A0A0; color: #ffffff; padding:4px; border:#f0e0e0 1px solid;\n",
       "            font-weight: normal; font-family: monospace; font-size: 100%;\n",
       "        }\n",
       "        .Table td{\n",
       "            padding:4px; border:#f0e0e0 1px solid; font-size:100%;\n",
       "        }\n",
       "        .Table tr:nth-child(odd){\n",
       "            background: #ffffff;\n",
       "            color: #000000;\n",
       "        }\n",
       "        .Table tr:nth-child(even){\n",
       "            background: #f3f1ff;\n",
       "            color: #000000;\n",
       "        }\n",
       "        /* Tooltip container */\n",
       "        .djtooltip {\n",
       "        }\n",
       "        /* Tooltip text */\n",
       "        .djtooltip .djtooltiptext {\n",
       "            visibility: hidden;\n",
       "            width: 120px;\n",
       "            background-color: black;\n",
       "            color: #fff;\n",
       "            text-align: center;\n",
       "            padding: 5px 0;\n",
       "            border-radius: 6px;\n",
       "            /* Position the tooltip text - see examples below! */\n",
       "            position: absolute;\n",
       "            z-index: 1;\n",
       "        }\n",
       "        #primary {\n",
       "            font-weight: bold;\n",
       "            color: black;\n",
       "        }\n",
       "        #nonprimary {\n",
       "            font-weight: normal;\n",
       "            color: white;\n",
       "        }\n",
       "\n",
       "        /* Show the tooltip text when you mouse over the tooltip container */\n",
       "        .djtooltip:hover .djtooltiptext {\n",
       "            visibility: visible;\n",
       "        }\n",
       "    </style>\n",
       "    \n",
       "    <b>Manual table for defining a processing task ready to be run</b>\n",
       "        <div style=\"max-height:1000px;max-width:1500px;overflow:auto;\">\n",
       "        <table border=\"1\" class=\"Table\">\n",
       "            <thead> <tr style=\"text-align: right;\"> <th> <div class=\"djtooltip\">\n",
       "                            <p id=\"primary\">session_id</p>\n",
       "                            <span class=\"djtooltiptext\"></span>\n",
       "                        </div></th><th><div class=\"djtooltip\">\n",
       "                            <p id=\"primary\">scan_id</p>\n",
       "                            <span class=\"djtooltiptext\"></span>\n",
       "                        </div></th><th><div class=\"djtooltip\">\n",
       "                            <p id=\"primary\">paramset_idx</p>\n",
       "                            <span class=\"djtooltiptext\"></span>\n",
       "                        </div></th><th><div class=\"djtooltip\">\n",
       "                            <p id=\"nonprimary\">processing_output_dir</p>\n",
       "                            <span class=\"djtooltiptext\">output directory of the processed scan relative to root data directory</span>\n",
       "                        </div></th><th><div class=\"djtooltip\">\n",
       "                            <p id=\"nonprimary\">task_mode</p>\n",
       "                            <span class=\"djtooltiptext\">'load': load computed analysis results, 'trigger': trigger computation</span>\n",
       "                        </div> </th> </tr> </thead>\n",
       "            <tbody> <tr> <td>sess9FK61CPU</td>\n",
       "<td>scan9FK61CPU</td>\n",
       "<td>3</td>\n",
       "<td>/datajoint-data/data/tobiasr/LE_WEZ-8909_2023-09-19_scan9FK61CPU_sess9FK61CPU</td>\n",
       "<td>trigger</td> </tr> </tbody>\n",
       "        </table>\n",
       "        \n",
       "        <p>Total: 1</p></div>\n",
       "        "
      ],
      "text/plain": [
       "*session_id    *scan_id       *paramset_idx  processing_out task_mode    \n",
       "+------------+ +------------+ +------------+ +------------+ +-----------+\n",
       "sess9FK61CPU   scan9FK61CPU   3              /datajoint-dat trigger      \n",
       " (Total: 1)"
      ]
     },
     "execution_count": 28,
     "metadata": {},
     "output_type": "execute_result"
    }
   ],
   "source": [
    "imaging.ProcessingTask()"
   ]
  },
  {
   "cell_type": "code",
   "execution_count": 27,
   "metadata": {},
   "outputs": [
    {
     "name": "stderr",
     "output_type": "stream",
     "text": [
      "[2023-12-11 16:26:09,637][INFO]: Deleting 1 rows from `tobiasrext_imaging`.`processing_task`\n",
      "[2023-12-11 16:26:13,121][INFO]: Deletes committed.\n"
     ]
    },
    {
     "data": {
      "text/plain": [
       "1"
      ]
     },
     "execution_count": 27,
     "metadata": {},
     "output_type": "execute_result"
    }
   ],
   "source": [
    "(imaging.ProcessingTask & deletekey).delete()"
   ]
  },
  {
   "cell_type": "code",
   "execution_count": 44,
   "metadata": {},
   "outputs": [
    {
     "name": "stderr",
     "output_type": "stream",
     "text": [
      "[2023-12-11 16:36:55,597][INFO]: Deleting 7 rows from `tobiasrext_model`.`__pose_estimation__body_part_position`\n",
      "[2023-12-11 16:36:55,600][INFO]: Deleting 1 rows from `tobiasrext_model`.`__pose_estimation`\n",
      "[2023-12-11 16:36:55,602][INFO]: Deleting 3 rows from `tobiasrext_model`.`pose_estimation_task`\n"
     ]
    },
    {
     "name": "stderr",
     "output_type": "stream",
     "text": [
      "[2023-12-11 16:36:58,263][INFO]: Deletes committed.\n"
     ]
    },
    {
     "data": {
      "text/plain": [
       "3"
      ]
     },
     "execution_count": 44,
     "metadata": {},
     "output_type": "execute_result"
    }
   ],
   "source": [
    "model.PoseEstimationTask().delete()"
   ]
  },
  {
   "cell_type": "code",
   "execution_count": null,
   "metadata": {},
   "outputs": [],
   "source": [
    "session.Session.delete()"
   ]
  },
  {
   "cell_type": "code",
   "execution_count": null,
   "metadata": {},
   "outputs": [],
   "source": [
    "# session.Session.drop()\n",
    "# scan.Scan.drop()\n",
    "# imaging.Processing.drop()\n",
    "# imaging.Curation.drop()"
   ]
  },
  {
   "cell_type": "code",
   "execution_count": null,
   "metadata": {},
   "outputs": [],
   "source": [
    "# subject.Subject.drop()"
   ]
  },
  {
   "cell_type": "code",
   "execution_count": null,
   "metadata": {},
   "outputs": [],
   "source": [
    "# imaging.Fluorescence.drop()"
   ]
  },
  {
   "cell_type": "code",
   "execution_count": null,
   "metadata": {},
   "outputs": [],
   "source": [
    "imaging.Fluorescence.Trace.fetch(format = \"frame\")"
   ]
  },
  {
   "cell_type": "code",
   "execution_count": null,
   "metadata": {},
   "outputs": [],
   "source": [
    "imaging.Fluorescence.NeuropilTrace.fetch(format = \"frame\")"
   ]
  },
  {
   "cell_type": "code",
   "execution_count": null,
   "metadata": {},
   "outputs": [],
   "source": [
    "imaging.Fluorescence.Trace * "
   ]
  },
  {
   "cell_type": "code",
   "execution_count": 55,
   "metadata": {},
   "outputs": [
    {
     "data": {
      "text/html": [
       "\n",
       "    \n",
       "    <style type=\"text/css\">\n",
       "        .Table{\n",
       "            border-collapse:collapse;\n",
       "        }\n",
       "        .Table th{\n",
       "            background: #A0A0A0; color: #ffffff; padding:4px; border:#f0e0e0 1px solid;\n",
       "            font-weight: normal; font-family: monospace; font-size: 100%;\n",
       "        }\n",
       "        .Table td{\n",
       "            padding:4px; border:#f0e0e0 1px solid; font-size:100%;\n",
       "        }\n",
       "        .Table tr:nth-child(odd){\n",
       "            background: #ffffff;\n",
       "            color: #000000;\n",
       "        }\n",
       "        .Table tr:nth-child(even){\n",
       "            background: #f3f1ff;\n",
       "            color: #000000;\n",
       "        }\n",
       "        /* Tooltip container */\n",
       "        .djtooltip {\n",
       "        }\n",
       "        /* Tooltip text */\n",
       "        .djtooltip .djtooltiptext {\n",
       "            visibility: hidden;\n",
       "            width: 120px;\n",
       "            background-color: black;\n",
       "            color: #fff;\n",
       "            text-align: center;\n",
       "            padding: 5px 0;\n",
       "            border-radius: 6px;\n",
       "            /* Position the tooltip text - see examples below! */\n",
       "            position: absolute;\n",
       "            z-index: 1;\n",
       "        }\n",
       "        #primary {\n",
       "            font-weight: bold;\n",
       "            color: black;\n",
       "        }\n",
       "        #nonprimary {\n",
       "            font-weight: normal;\n",
       "            color: white;\n",
       "        }\n",
       "\n",
       "        /* Show the tooltip text when you mouse over the tooltip container */\n",
       "        .djtooltip:hover .djtooltiptext {\n",
       "            visibility: visible;\n",
       "        }\n",
       "    </style>\n",
       "    \n",
       "    <b></b>\n",
       "        <div style=\"max-height:1000px;max-width:1500px;overflow:auto;\">\n",
       "        <table border=\"1\" class=\"Table\">\n",
       "            <thead> <tr style=\"text-align: right;\"> <th> <div class=\"djtooltip\">\n",
       "                            <p id=\"primary\">session_id</p>\n",
       "                            <span class=\"djtooltiptext\"></span>\n",
       "                        </div></th><th><div class=\"djtooltip\">\n",
       "                            <p id=\"primary\">scan_id</p>\n",
       "                            <span class=\"djtooltiptext\"></span>\n",
       "                        </div></th><th><div class=\"djtooltip\">\n",
       "                            <p id=\"nonprimary\">scanner</p>\n",
       "                            <span class=\"djtooltiptext\"></span>\n",
       "                        </div></th><th><div class=\"djtooltip\">\n",
       "                            <p id=\"nonprimary\">acq_software</p>\n",
       "                            <span class=\"djtooltiptext\"></span>\n",
       "                        </div></th><th><div class=\"djtooltip\">\n",
       "                            <p id=\"nonprimary\">scan_notes</p>\n",
       "                            <span class=\"djtooltiptext\">free-notes</span>\n",
       "                        </div> </th> </tr> </thead>\n",
       "            <tbody> <tr> <td>sess9FB2LN5C</td>\n",
       "<td>scan9FB2LN5C</td>\n",
       "<td>mini2p_01</td>\n",
       "<td>ScanImage</td>\n",
       "<td></td></tr><tr><td>sess9FK61CPU</td>\n",
       "<td>scan9FK61CPU</td>\n",
       "<td>mini2p_01</td>\n",
       "<td>ScanImage</td>\n",
       "<td></td></tr><tr><td>sess9FKNRW9Y</td>\n",
       "<td>scan9FKNRW9Y</td>\n",
       "<td>mini2p_01</td>\n",
       "<td>ScanImage</td>\n",
       "<td></td></tr><tr><td>sess9FKSMYYS</td>\n",
       "<td>scan9FKSMYYS</td>\n",
       "<td>mini2p_01</td>\n",
       "<td>ScanImage</td>\n",
       "<td></td></tr><tr><td>sess9FKSN4XD</td>\n",
       "<td>scan9FKSN4XD</td>\n",
       "<td>mini2p_05</td>\n",
       "<td>ScanImage</td>\n",
       "<td>none</td></tr><tr><td>sess9FKW82R3</td>\n",
       "<td>scan9FKW82R3</td>\n",
       "<td>mini2p_01</td>\n",
       "<td>ScanImage</td>\n",
       "<td></td></tr><tr><td>sess9FLGCZ8J</td>\n",
       "<td>scan9FLGCZ8J</td>\n",
       "<td>mini2p_05</td>\n",
       "<td>ScanImage</td>\n",
       "<td>none</td></tr><tr><td>sess9FLGD2WU</td>\n",
       "<td>scan9FLGD2WU</td>\n",
       "<td>mini2p_05</td>\n",
       "<td>ScanImage</td>\n",
       "<td>none</td></tr><tr><td>sess9FLGDCAW</td>\n",
       "<td>scan9FLGDCAW</td>\n",
       "<td>mini2p_05</td>\n",
       "<td>ScanImage</td>\n",
       "<td>none</td></tr><tr><td>sess9FLGDMQ6</td>\n",
       "<td>scan9FLGDMQ6</td>\n",
       "<td>mini2p_05</td>\n",
       "<td>ScanImage</td>\n",
       "<td>none</td></tr><tr><td>sess9FLGDUSL</td>\n",
       "<td>scan9FLGDUSL</td>\n",
       "<td>mini2p_05</td>\n",
       "<td>ScanImage</td>\n",
       "<td>none</td></tr><tr><td>sess9FLJAX0R</td>\n",
       "<td>scan9FLJAX0R</td>\n",
       "<td>mini2p_05</td>\n",
       "<td>ScanImage</td>\n",
       "<td>none</td></tr><tr><td>sess9FLJB7Y5</td>\n",
       "<td>scan9FLJB7Y5</td>\n",
       "<td>mini2p_05</td>\n",
       "<td>ScanImage</td>\n",
       "<td>none</td></tr><tr><td>sess9FLJBD72</td>\n",
       "<td>scan9FLJBD72</td>\n",
       "<td>mini2p_05</td>\n",
       "<td>ScanImage</td>\n",
       "<td>none</td> </tr> </tbody>\n",
       "        </table>\n",
       "        \n",
       "        <p>Total: 14</p></div>\n",
       "        "
      ],
      "text/plain": [
       "*session_id    *scan_id       scanner       acq_software   scan_notes    \n",
       "+------------+ +------------+ +-----------+ +------------+ +------------+\n",
       "sess9FB2LN5C   scan9FB2LN5C   mini2p_01     ScanImage                    \n",
       "sess9FK61CPU   scan9FK61CPU   mini2p_01     ScanImage                    \n",
       "sess9FKNRW9Y   scan9FKNRW9Y   mini2p_01     ScanImage                    \n",
       "sess9FKSMYYS   scan9FKSMYYS   mini2p_01     ScanImage                    \n",
       "sess9FKSN4XD   scan9FKSN4XD   mini2p_05     ScanImage      none          \n",
       "sess9FKW82R3   scan9FKW82R3   mini2p_01     ScanImage                    \n",
       "sess9FLGCZ8J   scan9FLGCZ8J   mini2p_05     ScanImage      none          \n",
       "sess9FLGD2WU   scan9FLGD2WU   mini2p_05     ScanImage      none          \n",
       "sess9FLGDCAW   scan9FLGDCAW   mini2p_05     ScanImage      none          \n",
       "sess9FLGDMQ6   scan9FLGDMQ6   mini2p_05     ScanImage      none          \n",
       "sess9FLGDUSL   scan9FLGDUSL   mini2p_05     ScanImage      none          \n",
       "sess9FLJAX0R   scan9FLJAX0R   mini2p_05     ScanImage      none          \n",
       "sess9FLJB7Y5   scan9FLJB7Y5   mini2p_05     ScanImage      none          \n",
       "sess9FLJBD72   scan9FLJBD72   mini2p_05     ScanImage      none          \n",
       " (Total: 14)"
      ]
     },
     "execution_count": 55,
     "metadata": {},
     "output_type": "execute_result"
    }
   ],
   "source": []
  },
  {
   "cell_type": "code",
   "execution_count": 56,
   "metadata": {},
   "outputs": [],
   "source": [
    "key = (scan.Scan * session.SessionUser * subject.User & \"initials LIKE '%NK'\").fetch('KEY')"
   ]
  },
  {
   "cell_type": "code",
   "execution_count": 60,
   "metadata": {},
   "outputs": [
    {
     "data": {
      "text/html": [
       "\n",
       "    \n",
       "    <style type=\"text/css\">\n",
       "        .Table{\n",
       "            border-collapse:collapse;\n",
       "        }\n",
       "        .Table th{\n",
       "            background: #A0A0A0; color: #ffffff; padding:4px; border:#f0e0e0 1px solid;\n",
       "            font-weight: normal; font-family: monospace; font-size: 100%;\n",
       "        }\n",
       "        .Table td{\n",
       "            padding:4px; border:#f0e0e0 1px solid; font-size:100%;\n",
       "        }\n",
       "        .Table tr:nth-child(odd){\n",
       "            background: #ffffff;\n",
       "            color: #000000;\n",
       "        }\n",
       "        .Table tr:nth-child(even){\n",
       "            background: #f3f1ff;\n",
       "            color: #000000;\n",
       "        }\n",
       "        /* Tooltip container */\n",
       "        .djtooltip {\n",
       "        }\n",
       "        /* Tooltip text */\n",
       "        .djtooltip .djtooltiptext {\n",
       "            visibility: hidden;\n",
       "            width: 120px;\n",
       "            background-color: black;\n",
       "            color: #fff;\n",
       "            text-align: center;\n",
       "            padding: 5px 0;\n",
       "            border-radius: 6px;\n",
       "            /* Position the tooltip text - see examples below! */\n",
       "            position: absolute;\n",
       "            z-index: 1;\n",
       "        }\n",
       "        #primary {\n",
       "            font-weight: bold;\n",
       "            color: black;\n",
       "        }\n",
       "        #nonprimary {\n",
       "            font-weight: normal;\n",
       "            color: white;\n",
       "        }\n",
       "\n",
       "        /* Show the tooltip text when you mouse over the tooltip container */\n",
       "        .djtooltip:hover .djtooltiptext {\n",
       "            visibility: visible;\n",
       "        }\n",
       "    </style>\n",
       "    \n",
       "    <b></b>\n",
       "        <div style=\"max-height:1000px;max-width:1500px;overflow:auto;\">\n",
       "        <table border=\"1\" class=\"Table\">\n",
       "            <thead> <tr style=\"text-align: right;\"> <th> <div class=\"djtooltip\">\n",
       "                            <p id=\"primary\">session_id</p>\n",
       "                            <span class=\"djtooltiptext\"></span>\n",
       "                        </div></th><th><div class=\"djtooltip\">\n",
       "                            <p id=\"nonprimary\">subject</p>\n",
       "                            <span class=\"djtooltiptext\">PyRat import uses this for earmark value</span>\n",
       "                        </div></th><th><div class=\"djtooltip\">\n",
       "                            <p id=\"nonprimary\">session_datetime</p>\n",
       "                            <span class=\"djtooltiptext\"></span>\n",
       "                        </div> </th> </tr> </thead>\n",
       "            <tbody> <tr> <td>sess9FB2LN5C</td>\n",
       "<td>WEZ-8701</td>\n",
       "<td>2022-03-18 00:00:00</td></tr><tr><td>sess9FK61CPU</td>\n",
       "<td>WEZ-8909</td>\n",
       "<td>2023-09-19 00:00:00</td></tr><tr><td>sess9FKNRW9Y</td>\n",
       "<td>ROS-1629</td>\n",
       "<td>2023-10-19 00:00:00</td></tr><tr><td>sess9FKSMYYS</td>\n",
       "<td>ROS-1604</td>\n",
       "<td>2023-10-27 00:00:00</td></tr><tr><td>sess9FKSN4XD</td>\n",
       "<td>ROS-1604</td>\n",
       "<td>2023-10-27 00:00:00</td></tr><tr><td>sess9FKW82R3</td>\n",
       "<td>ROS-1604</td>\n",
       "<td>2023-11-02 00:00:00</td></tr><tr><td>sess9FLGCZ8J</td>\n",
       "<td>ROS-1604</td>\n",
       "<td>2023-12-06 00:00:00</td></tr><tr><td>sess9FLGD2WU</td>\n",
       "<td>ROS-1604</td>\n",
       "<td>2023-12-06 00:00:00</td></tr><tr><td>sess9FLGDCAW</td>\n",
       "<td>ROS-1604</td>\n",
       "<td>2023-12-06 00:00:00</td></tr><tr><td>sess9FLGDMQ6</td>\n",
       "<td>ROS-1604</td>\n",
       "<td>2023-12-06 00:00:00</td></tr><tr><td>sess9FLGDUSL</td>\n",
       "<td>ROS-1604</td>\n",
       "<td>2023-12-06 00:00:00</td></tr><tr><td>sess9FLJAX0R</td>\n",
       "<td>ROS-1686</td>\n",
       "<td>2023-12-11 00:00:00</td></tr><tr><td>sess9FLJB7Y5</td>\n",
       "<td>ROS-1686</td>\n",
       "<td>2023-12-11 00:00:00</td></tr><tr><td>sess9FLJBD72</td>\n",
       "<td>ROS-1686</td>\n",
       "<td>2023-12-11 00:00:00</td> </tr> </tbody>\n",
       "        </table>\n",
       "        \n",
       "        <p>Total: 14</p></div>\n",
       "        "
      ],
      "text/plain": [
       "*session_id    subject      session_dateti\n",
       "+------------+ +----------+ +------------+\n",
       "sess9FB2LN5C   WEZ-8701     2022-03-18 00:\n",
       "sess9FK61CPU   WEZ-8909     2023-09-19 00:\n",
       "sess9FKNRW9Y   ROS-1629     2023-10-19 00:\n",
       "sess9FKSMYYS   ROS-1604     2023-10-27 00:\n",
       "sess9FKSN4XD   ROS-1604     2023-10-27 00:\n",
       "sess9FKW82R3   ROS-1604     2023-11-02 00:\n",
       "sess9FLGCZ8J   ROS-1604     2023-12-06 00:\n",
       "sess9FLGD2WU   ROS-1604     2023-12-06 00:\n",
       "sess9FLGDCAW   ROS-1604     2023-12-06 00:\n",
       "sess9FLGDMQ6   ROS-1604     2023-12-06 00:\n",
       "sess9FLGDUSL   ROS-1604     2023-12-06 00:\n",
       "sess9FLJAX0R   ROS-1686     2023-12-11 00:\n",
       "sess9FLJB7Y5   ROS-1686     2023-12-11 00:\n",
       "sess9FLJBD72   ROS-1686     2023-12-11 00:\n",
       " (Total: 14)"
      ]
     },
     "execution_count": 60,
     "metadata": {},
     "output_type": "execute_result"
    }
   ],
   "source": [
    "session.Session() & "
   ]
  },
  {
   "cell_type": "code",
   "execution_count": 68,
   "metadata": {},
   "outputs": [],
   "source": [
    "key = (scan.Scan * session.Session & 'session_datetime > \"2023-12-10\"').fetch('KEY')"
   ]
  },
  {
   "cell_type": "code",
   "execution_count": 69,
   "metadata": {},
   "outputs": [
    {
     "data": {
      "text/html": [
       "\n",
       "    \n",
       "    <style type=\"text/css\">\n",
       "        .Table{\n",
       "            border-collapse:collapse;\n",
       "        }\n",
       "        .Table th{\n",
       "            background: #A0A0A0; color: #ffffff; padding:4px; border:#f0e0e0 1px solid;\n",
       "            font-weight: normal; font-family: monospace; font-size: 100%;\n",
       "        }\n",
       "        .Table td{\n",
       "            padding:4px; border:#f0e0e0 1px solid; font-size:100%;\n",
       "        }\n",
       "        .Table tr:nth-child(odd){\n",
       "            background: #ffffff;\n",
       "            color: #000000;\n",
       "        }\n",
       "        .Table tr:nth-child(even){\n",
       "            background: #f3f1ff;\n",
       "            color: #000000;\n",
       "        }\n",
       "        /* Tooltip container */\n",
       "        .djtooltip {\n",
       "        }\n",
       "        /* Tooltip text */\n",
       "        .djtooltip .djtooltiptext {\n",
       "            visibility: hidden;\n",
       "            width: 120px;\n",
       "            background-color: black;\n",
       "            color: #fff;\n",
       "            text-align: center;\n",
       "            padding: 5px 0;\n",
       "            border-radius: 6px;\n",
       "            /* Position the tooltip text - see examples below! */\n",
       "            position: absolute;\n",
       "            z-index: 1;\n",
       "        }\n",
       "        #primary {\n",
       "            font-weight: bold;\n",
       "            color: black;\n",
       "        }\n",
       "        #nonprimary {\n",
       "            font-weight: normal;\n",
       "            color: white;\n",
       "        }\n",
       "\n",
       "        /* Show the tooltip text when you mouse over the tooltip container */\n",
       "        .djtooltip:hover .djtooltiptext {\n",
       "            visibility: visible;\n",
       "        }\n",
       "    </style>\n",
       "    \n",
       "    <b></b>\n",
       "        <div style=\"max-height:1000px;max-width:1500px;overflow:auto;\">\n",
       "        <table border=\"1\" class=\"Table\">\n",
       "            <thead> <tr style=\"text-align: right;\"> <th> <div class=\"djtooltip\">\n",
       "                            <p id=\"primary\">session_id</p>\n",
       "                            <span class=\"djtooltiptext\"></span>\n",
       "                        </div></th><th><div class=\"djtooltip\">\n",
       "                            <p id=\"primary\">scan_id</p>\n",
       "                            <span class=\"djtooltiptext\"></span>\n",
       "                        </div></th><th><div class=\"djtooltip\">\n",
       "                            <p id=\"nonprimary\">scanner</p>\n",
       "                            <span class=\"djtooltiptext\"></span>\n",
       "                        </div></th><th><div class=\"djtooltip\">\n",
       "                            <p id=\"nonprimary\">acq_software</p>\n",
       "                            <span class=\"djtooltiptext\"></span>\n",
       "                        </div></th><th><div class=\"djtooltip\">\n",
       "                            <p id=\"nonprimary\">scan_notes</p>\n",
       "                            <span class=\"djtooltiptext\">free-notes</span>\n",
       "                        </div> </th> </tr> </thead>\n",
       "            <tbody> <tr> <td>sess9FLJAX0R</td>\n",
       "<td>scan9FLJAX0R</td>\n",
       "<td>mini2p_05</td>\n",
       "<td>ScanImage</td>\n",
       "<td>none</td></tr><tr><td>sess9FLJB7Y5</td>\n",
       "<td>scan9FLJB7Y5</td>\n",
       "<td>mini2p_05</td>\n",
       "<td>ScanImage</td>\n",
       "<td>none</td></tr><tr><td>sess9FLJBD72</td>\n",
       "<td>scan9FLJBD72</td>\n",
       "<td>mini2p_05</td>\n",
       "<td>ScanImage</td>\n",
       "<td>none</td> </tr> </tbody>\n",
       "        </table>\n",
       "        \n",
       "        <p>Total: 3</p></div>\n",
       "        "
      ],
      "text/plain": [
       "*session_id    *scan_id       scanner       acq_software   scan_notes    \n",
       "+------------+ +------------+ +-----------+ +------------+ +------------+\n",
       "sess9FLJAX0R   scan9FLJAX0R   mini2p_05     ScanImage      none          \n",
       "sess9FLJB7Y5   scan9FLJB7Y5   mini2p_05     ScanImage      none          \n",
       "sess9FLJBD72   scan9FLJBD72   mini2p_05     ScanImage      none          \n",
       " (Total: 3)"
      ]
     },
     "execution_count": 69,
     "metadata": {},
     "output_type": "execute_result"
    }
   ],
   "source": [
    "scan.Scan & key"
   ]
  },
  {
   "cell_type": "code",
   "execution_count": null,
   "metadata": {},
   "outputs": [],
   "source": []
  }
 ],
 "metadata": {
  "kernelspec": {
   "display_name": "Python 3 (ipykernel)",
   "language": "python",
   "name": "python3"
  },
  "language_info": {
   "codemirror_mode": {
    "name": "ipython",
    "version": 3
   },
   "file_extension": ".py",
   "mimetype": "text/x-python",
   "name": "python",
   "nbconvert_exporter": "python",
   "pygments_lexer": "ipython3",
   "version": "3.8.16"
  }
 },
 "nbformat": 4,
 "nbformat_minor": 2
}
