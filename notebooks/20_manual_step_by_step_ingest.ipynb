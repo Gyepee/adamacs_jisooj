{
 "cells": [
  {
   "cell_type": "markdown",
   "metadata": {},
   "source": [
    "# Manual ingest workflow, bypassing GUI"
   ]
  },
  {
   "cell_type": "markdown",
   "metadata": {},
   "source": [
    "## Login\n",
    "\n",
    "Either log in via a local config file (see [01_pipeline](./01_pipeline.ipynb)), or enter login information manually. If you are don't have your login information, contact the administrator.\n"
   ]
  },
  {
   "cell_type": "code",
   "execution_count": 1,
   "metadata": {},
   "outputs": [
    {
     "name": "stderr",
     "output_type": "stream",
     "text": [
      "[2023-11-09 18:15:27,344][INFO]: Connecting tobiasr@172.26.128.53:3306\n",
      "[2023-11-09 18:15:27,391][INFO]: Connected tobiasr@172.26.128.53:3306\n"
     ]
    },
    {
     "data": {
      "text/plain": [
       "'0.14.1'"
      ]
     },
     "execution_count": 1,
     "metadata": {},
     "output_type": "execute_result"
    }
   ],
   "source": [
    "import os\n",
    "# change to the upper level folder to detect dj_local_conf.json\n",
    "if os.path.basename(os.getcwd())=='notebooks': os.chdir('..')\n",
    "assert os.path.basename(os.getcwd())=='adamacs', (\"Please move to the main directory\")\n",
    "from adamacs.pipeline import subject, session, equipment, surgery, event, trial, imaging, behavior, model\n",
    "from adamacs.ingest import session as isess\n",
    "from adamacs.helpers import stack_helpers as sh\n",
    "from adamacs.ingest import behavior as ibe\n",
    "import pathlib\n",
    "from natsort import natsorted, ns\n",
    "import datajoint as dj\n",
    "from rspace_client.eln import eln\n",
    "import pandas as pd\n",
    "import numpy as np\n",
    "import matplotlib.pyplot as plt\n",
    "dj.__version__"
   ]
  },
  {
   "cell_type": "markdown",
   "metadata": {},
   "source": [
    "### RSpace connection"
   ]
  },
  {
   "cell_type": "code",
   "execution_count": 2,
   "metadata": {},
   "outputs": [
    {
     "data": {
      "text/plain": [
       "{'message': 'OK', 'rspaceVersion': '1.89.2'}"
      ]
     },
     "execution_count": 2,
     "metadata": {},
     "output_type": "execute_result"
    }
   ],
   "source": [
    "URL=dj.config['custom'].get('rspace_URL')\n",
    "API_KEY=dj.config['custom'].get('rspace_API_key')\n",
    "api = eln.ELNClient(URL, API_KEY)\n",
    "api.get_status()"
   ]
  },
  {
   "cell_type": "markdown",
   "metadata": {},
   "source": [
    "## Activation\n",
    "Next, import from `adamacs.pipeline` to activate the relevant schema."
   ]
  },
  {
   "cell_type": "code",
   "execution_count": 3,
   "metadata": {},
   "outputs": [],
   "source": [
    "from adamacs.utility import *\n",
    "# from adamacs.nbgui import *\n",
    "from adamacs.pipeline import subject, session, surgery, scan, equipment, model"
   ]
  },
  {
   "cell_type": "markdown",
   "metadata": {},
   "source": [
    "Assign easy names for relevant tables"
   ]
  },
  {
   "cell_type": "code",
   "execution_count": 4,
   "metadata": {},
   "outputs": [],
   "source": [
    "sub, lab, protocol, line, mutation, user, project, subject_genotype, subject_death = (\n",
    "    subject.Subject(), subject.Lab(), subject.Protocol(), subject.Line(), \n",
    "    subject.Mutation(), subject.User(), subject.Project(), subject.SubjectGenotype(), \n",
    "    subject.SubjectDeath()\n",
    "    )"
   ]
  },
  {
   "cell_type": "markdown",
   "metadata": {},
   "source": [
    "some helpers"
   ]
  },
  {
   "cell_type": "code",
   "execution_count": 5,
   "metadata": {},
   "outputs": [],
   "source": [
    "\n",
    "def get_session_dir_key_from_dir(directory):\n",
    "    return [path.split('/')[-1] for path in directory]\n",
    "     \n",
    "def get_scan_dir_key_from_dir(directory):\n",
    "    return [path.split('/')[-1] for path in directory]\n",
    "\n",
    "def get_session_key_from_dir(string):\n",
    "    result = [re.search(r'sess\\S+', item).group(0) for item in string]\n",
    "    return result\n",
    "\n",
    "def get_user_initials_from_dir(string):\n",
    "    result = [name[:2] for name in string]\n",
    "    return result\n",
    "\n",
    "def get_subject_key_from_dir(string):\n",
    "    result = [item.split(\"_\")[1] for item in string]\n",
    "    return result\n",
    "\n",
    "def get_date_key_from_dir(directory):\n",
    "    return directory.split(\"_\")[-1]\n",
    "\n",
    "def get_scan_key_from_dir(string):\n",
    "    result = [re.search(r'scan\\S+_', item).group(0)[:-1] for item in string]\n",
    "    return result"
   ]
  },
  {
   "cell_type": "markdown",
   "metadata": {},
   "source": [
    "## Parse directories"
   ]
  },
  {
   "cell_type": "code",
   "execution_count": 6,
   "metadata": {},
   "outputs": [
    {
     "data": {
      "text/plain": [
       "['JJ_ROS-1604_2023-10-27_scan9FKSN4XD_sess9FKSN4XD',\n",
       " 'JJ_ROS-1604_2023-10-27_scan9FKSMYYS_sess9FKSMYYS',\n",
       " 'JJ_ROS-1604_2023-10-27_scan9FKSMSMZ_sess9FKSMSMZ',\n",
       " 'JJ_ROS-1604_2023-10-19_scan9FKNVVH5_sess9FKNVVH5',\n",
       " 'JJ_ROS-1604_2023-10-19_scan9FKNVPI4_sess9FKNVPI4',\n",
       " 'JJ_ROS-1604_2023-10-19_scan9FKNVIUK_sess9FKNVIUK',\n",
       " 'JJ_ROS-1604_2023-10-18_scan9FKNBRV9_sess9FKNBRV9',\n",
       " 'JJ_ROS-1604_2023-10-18_scan9FKNBQCS_sess9FKNBQCS',\n",
       " 'JJ_ROS-1627_2023-10-05_scan9FKFMG1P_sess9FKFMG1P',\n",
       " 'JJ_ROS-1627_2023-10-05_scan9FKFM3IW_sess9FKFM3IW']"
      ]
     },
     "execution_count": 6,
     "metadata": {},
     "output_type": "execute_result"
    }
   ],
   "source": [
    "# get content of user directory\n",
    "import fnmatch\n",
    "dataroot = dj.config['custom']['exp_root_data_dir'][0]\n",
    "# dirs_root = [d for d in os.listdir(dataroot) if os.path.isdir(os.path.join(dataroot, d)) and '_' in d]\n",
    "dirs_root = [d for d in os.listdir(dataroot) if os.path.isdir(os.path.join(dataroot, d)) and fnmatch.fnmatch(d, 'JJ*') and fnmatch.fnmatch(d, '*10-*')]\n",
    "sorted_dirs_root = natsorted(dirs_root, key=get_date_key_from_dir, reverse = True)\n",
    "sorted_dirs_root"
   ]
  },
  {
   "cell_type": "code",
   "execution_count": 7,
   "metadata": {},
   "outputs": [],
   "source": [
    "# sessi = \"sess9FKW82R3\"\n",
    "# scansi = \"scan9FKW82R3\"\n",
    "sessi = \"sess9FI8ALGO\"\n",
    "scansi = \"scan9FI8ALGO\"\n",
    "\n",
    "# sessi = \"sess9FB2LN5C\"\n",
    "# scansi = \"scan9FB2LN5C\"\n",
    "\n",
    "# scan9FJ842C3\n",
    "# scan9FB2LN5C\n",
    "# scan_key"
   ]
  },
  {
   "cell_type": "markdown",
   "metadata": {},
   "source": [
    "## Session ingest"
   ]
  },
  {
   "cell_type": "code",
   "execution_count": 8,
   "metadata": {},
   "outputs": [
    {
     "name": "stdout",
     "output_type": "stream",
     "text": [
      "*project       project_descri\n",
      "+------------+ +------------+\n",
      "ATN            ATN-functional\n",
      "dummy          dummy         \n",
      "hpc-repstab    hpc-representa\n",
      "rsc-functop    rsc-functional\n",
      "rsc-hpc        rsc-hippocampa\n",
      "rsc-latent     rsc-contextual\n",
      "sc-lgn-actvis  sc-lgn-active-\n",
      "V1-oddball     v1-oddball-pre\n",
      "vc-lgn-repstab vc-lgn-represe\n",
      " (Total: 9)\n",
      "\n",
      "['bench2p' 'dummy' 'macroscope' 'mini2p_01' 'mini2p_02' 'mini2p_03'\n",
      " 'mini2p_04' 'mini2p_05']\n",
      "['ATN' 'Ctx' 'dCA1' 'DG' 'dummy' 'LGNV1' 'RSCa' 'RSCg' 'V1']\n",
      "[array([0, 1, 2, 3, 4, 5, 6]), array(['TR: Mini2p (new, non-rigid, individual scans, reg_tiff for movie, custom classifier)',\n",
      "       'TR: Mini2p (rigid, mini2p classifier, no concat, REGTIFF)',\n",
      "       'TR: Trondheim Mini2p (non-rigid, built-in classifier, scan_concat)',\n",
      "       'TR: Bench2p (non-rigid, custom classifier, reg_tiff for movie, scans individually)',\n",
      "       'TR: Bench2p (rigid, custom bench2p classifier, individual, SAVETIF)',\n",
      "       'TR: Mini2p (rigid, built-in classifier, individual)',\n",
      "       'TR: Mini2p (rigid, built-in classifier, SAMESITE_concat)'],\n",
      "      dtype=object)]\n",
      "['from_top_tracking-DJ' 'Head_orientation-NK-2023-07-17']\n"
     ]
    }
   ],
   "source": [
    "Project = project.fetch('project')\n",
    "Equipment = equipment.Equipment().fetch('scanner')\n",
    "Recording_Location = surgery.AnatomicalLocation().fetch('anatomical_location')\n",
    "s2pparm = imaging.ProcessingParamSet.fetch(\"paramset_idx\", \"paramset_desc\")\n",
    "DLCModels = model.Model.fetch(\"model_name\")\n",
    "\n",
    "print(project)\n",
    "print(Equipment)\n",
    "print(Recording_Location)\n",
    "print(s2pparm)\n",
    "print(DLCModels)"
   ]
  },
  {
   "cell_type": "markdown",
   "metadata": {},
   "source": [
    "### Ingest Session and Scan"
   ]
  },
  {
   "cell_type": "code",
   "execution_count": 9,
   "metadata": {},
   "outputs": [
    {
     "name": "stdout",
     "output_type": "stream",
     "text": [
      "Number of scans found: 1\n",
      "[['scan9FI8ALGO']]\n",
      "['RN_OPI-1681_2023-05-25_scan9FI8ALGO_sess9FI8ALGO']\n"
     ]
    },
    {
     "name": "stderr",
     "output_type": "stream",
     "text": [
      "/tmp/ipykernel_3694596/3791184197.py:1: UserWarning: \n",
      "Skipped existing session row: ('sess9FI8ALGO', <module 'adamacs.schemas.subject' from '/home/tobiasr/adamacs/adamacs/schemas/subject.py'>, '2023-05-25')\n",
      "  isess.ingest_session_scan(sessi, verbose=True, project_key=\"rsc-functop\", equipment_key=\"mini2p_01\", location_key=\"RSCa\", software_key='ScanImage')\n",
      "/tmp/ipykernel_3694596/3791184197.py:1: UserWarning: \n",
      "Skipped existing ProjectSession row: ('rsc-functop', 'sess9FI8ALGO')\n",
      "  isess.ingest_session_scan(sessi, verbose=True, project_key=\"rsc-functop\", equipment_key=\"mini2p_01\", location_key=\"RSCa\", software_key='ScanImage')\n",
      "/tmp/ipykernel_3694596/3791184197.py:1: UserWarning: \n",
      "Skipped existing SessionDirectory: ('sess9FI8ALGO', PosixPath('/datajoint-data/data/tobiasr/RN_OPI-1681_2023-05-25_scan9FI8ALGO_sess9FI8ALGO'))\n",
      "  isess.ingest_session_scan(sessi, verbose=True, project_key=\"rsc-functop\", equipment_key=\"mini2p_01\", location_key=\"RSCa\", software_key='ScanImage')\n",
      "/tmp/ipykernel_3694596/3791184197.py:1: UserWarning: \n",
      "Skipped existing SessionUser row: ('sess9FI8ALGO', 7)\n",
      "  isess.ingest_session_scan(sessi, verbose=True, project_key=\"rsc-functop\", equipment_key=\"mini2p_01\", location_key=\"RSCa\", software_key='ScanImage')\n",
      "/tmp/ipykernel_3694596/3791184197.py:1: UserWarning: \n",
      "Skipped existing SessionSite row: sess9FI8ALGO\n",
      "  isess.ingest_session_scan(sessi, verbose=True, project_key=\"rsc-functop\", equipment_key=\"mini2p_01\", location_key=\"RSCa\", software_key='ScanImage')\n",
      "/tmp/ipykernel_3694596/3791184197.py:1: UserWarning: \n",
      "Skipped existing SessionSite row: sess9FI8ALGO\n",
      "  isess.ingest_session_scan(sessi, verbose=True, project_key=\"rsc-functop\", equipment_key=\"mini2p_01\", location_key=\"RSCa\", software_key='ScanImage')\n",
      "/tmp/ipykernel_3694596/3791184197.py:1: UserWarning: \n",
      "Skipped existing scan: scan9FI8ALGO\n",
      "  isess.ingest_session_scan(sessi, verbose=True, project_key=\"rsc-functop\", equipment_key=\"mini2p_01\", location_key=\"RSCa\", software_key='ScanImage')\n",
      "/tmp/ipykernel_3694596/3791184197.py:1: UserWarning: \n",
      "Skipped existing ScanLocation: scan9FI8ALGO\n",
      "  isess.ingest_session_scan(sessi, verbose=True, project_key=\"rsc-functop\", equipment_key=\"mini2p_01\", location_key=\"RSCa\", software_key='ScanImage')\n",
      "/tmp/ipykernel_3694596/3791184197.py:1: UserWarning: \n",
      "Skipped existing ScanPath: scan9FI8ALGO\n",
      "  isess.ingest_session_scan(sessi, verbose=True, project_key=\"rsc-functop\", equipment_key=\"mini2p_01\", location_key=\"RSCa\", software_key='ScanImage')\n"
     ]
    }
   ],
   "source": [
    "isess.ingest_session_scan(sessi, verbose=True, project_key=\"rsc-functop\", equipment_key=\"mini2p_01\", location_key=\"RSCa\", software_key='ScanImage')\n",
    "session.SessionSameSite.update1({'session_id': sessi, 'same_site_id': sessi})\n"
   ]
  },
  {
   "cell_type": "code",
   "execution_count": 10,
   "metadata": {},
   "outputs": [
    {
     "data": {
      "text/html": [
       "\n",
       "    \n",
       "    <style type=\"text/css\">\n",
       "        .Table{\n",
       "            border-collapse:collapse;\n",
       "        }\n",
       "        .Table th{\n",
       "            background: #A0A0A0; color: #ffffff; padding:4px; border:#f0e0e0 1px solid;\n",
       "            font-weight: normal; font-family: monospace; font-size: 100%;\n",
       "        }\n",
       "        .Table td{\n",
       "            padding:4px; border:#f0e0e0 1px solid; font-size:100%;\n",
       "        }\n",
       "        .Table tr:nth-child(odd){\n",
       "            background: #ffffff;\n",
       "            color: #000000;\n",
       "        }\n",
       "        .Table tr:nth-child(even){\n",
       "            background: #f3f1ff;\n",
       "            color: #000000;\n",
       "        }\n",
       "        /* Tooltip container */\n",
       "        .djtooltip {\n",
       "        }\n",
       "        /* Tooltip text */\n",
       "        .djtooltip .djtooltiptext {\n",
       "            visibility: hidden;\n",
       "            width: 120px;\n",
       "            background-color: black;\n",
       "            color: #fff;\n",
       "            text-align: center;\n",
       "            padding: 5px 0;\n",
       "            border-radius: 6px;\n",
       "            /* Position the tooltip text - see examples below! */\n",
       "            position: absolute;\n",
       "            z-index: 1;\n",
       "        }\n",
       "        #primary {\n",
       "            font-weight: bold;\n",
       "            color: black;\n",
       "        }\n",
       "        #nonprimary {\n",
       "            font-weight: normal;\n",
       "            color: white;\n",
       "        }\n",
       "\n",
       "        /* Show the tooltip text when you mouse over the tooltip container */\n",
       "        .djtooltip:hover .djtooltiptext {\n",
       "            visibility: visible;\n",
       "        }\n",
       "    </style>\n",
       "    \n",
       "    \n",
       "        <div style=\"max-height:1000px;max-width:1500px;overflow:auto;\">\n",
       "        <table border=\"1\" class=\"Table\">\n",
       "            <thead> <tr style=\"text-align: right;\"> <th> <div class=\"djtooltip\">\n",
       "                            <p id=\"primary\">session_id</p>\n",
       "                            <span class=\"djtooltiptext\"></span>\n",
       "                        </div></th><th><div class=\"djtooltip\">\n",
       "                            <p id=\"primary\">scan_id</p>\n",
       "                            <span class=\"djtooltiptext\"></span>\n",
       "                        </div></th><th><div class=\"djtooltip\">\n",
       "                            <p id=\"nonprimary\">scanner</p>\n",
       "                            <span class=\"djtooltiptext\"></span>\n",
       "                        </div></th><th><div class=\"djtooltip\">\n",
       "                            <p id=\"nonprimary\">acq_software</p>\n",
       "                            <span class=\"djtooltiptext\"></span>\n",
       "                        </div></th><th><div class=\"djtooltip\">\n",
       "                            <p id=\"nonprimary\">scan_notes</p>\n",
       "                            <span class=\"djtooltiptext\">free-notes</span>\n",
       "                        </div></th><th><div class=\"djtooltip\">\n",
       "                            <p id=\"nonprimary\">nfields</p>\n",
       "                            <span class=\"djtooltiptext\">number of fields</span>\n",
       "                        </div></th><th><div class=\"djtooltip\">\n",
       "                            <p id=\"nonprimary\">nchannels</p>\n",
       "                            <span class=\"djtooltiptext\">number of channels</span>\n",
       "                        </div></th><th><div class=\"djtooltip\">\n",
       "                            <p id=\"nonprimary\">ndepths</p>\n",
       "                            <span class=\"djtooltiptext\">Number of scanning depths (planes)</span>\n",
       "                        </div></th><th><div class=\"djtooltip\">\n",
       "                            <p id=\"nonprimary\">nframes</p>\n",
       "                            <span class=\"djtooltiptext\">number of recorded frames</span>\n",
       "                        </div></th><th><div class=\"djtooltip\">\n",
       "                            <p id=\"nonprimary\">nrois</p>\n",
       "                            <span class=\"djtooltiptext\">number of ROIs (see scanimage's multi ROI imaging)</span>\n",
       "                        </div></th><th><div class=\"djtooltip\">\n",
       "                            <p id=\"nonprimary\">x</p>\n",
       "                            <span class=\"djtooltiptext\">(um) ScanImage's 0 point in the motor coordinate system</span>\n",
       "                        </div></th><th><div class=\"djtooltip\">\n",
       "                            <p id=\"nonprimary\">y</p>\n",
       "                            <span class=\"djtooltiptext\">(um) ScanImage's 0 point in the motor coordinate system</span>\n",
       "                        </div></th><th><div class=\"djtooltip\">\n",
       "                            <p id=\"nonprimary\">z</p>\n",
       "                            <span class=\"djtooltiptext\">(um) ScanImage's 0 point in the motor coordinate system</span>\n",
       "                        </div></th><th><div class=\"djtooltip\">\n",
       "                            <p id=\"nonprimary\">fps</p>\n",
       "                            <span class=\"djtooltiptext\">(Hz) frames per second - Volumetric Scan Rate</span>\n",
       "                        </div></th><th><div class=\"djtooltip\">\n",
       "                            <p id=\"nonprimary\">bidirectional</p>\n",
       "                            <span class=\"djtooltiptext\">true = bidirectional scanning</span>\n",
       "                        </div></th><th><div class=\"djtooltip\">\n",
       "                            <p id=\"nonprimary\">usecs_per_line</p>\n",
       "                            <span class=\"djtooltiptext\">microseconds per scan line</span>\n",
       "                        </div></th><th><div class=\"djtooltip\">\n",
       "                            <p id=\"nonprimary\">fill_fraction</p>\n",
       "                            <span class=\"djtooltiptext\">raster scan temporal fill fraction (see scanimage)</span>\n",
       "                        </div></th><th><div class=\"djtooltip\">\n",
       "                            <p id=\"nonprimary\">scan_datetime</p>\n",
       "                            <span class=\"djtooltiptext\">datetime of the scan</span>\n",
       "                        </div></th><th><div class=\"djtooltip\">\n",
       "                            <p id=\"nonprimary\">scan_duration</p>\n",
       "                            <span class=\"djtooltiptext\">(seconds) duration of the scan</span>\n",
       "                        </div></th><th><div class=\"djtooltip\">\n",
       "                            <p id=\"nonprimary\">userfunction_info</p>\n",
       "                            <span class=\"djtooltiptext\">string argument of file consolidation userfunction 1</span>\n",
       "                        </div></th><th><div class=\"djtooltip\">\n",
       "                            <p id=\"nonprimary\">same_site_id</p>\n",
       "                            <span class=\"djtooltiptext\"></span>\n",
       "                        </div></th><th><div class=\"djtooltip\">\n",
       "                            <p id=\"nonprimary\">subject</p>\n",
       "                            <span class=\"djtooltiptext\">PyRat import uses this for earmark value</span>\n",
       "                        </div></th><th><div class=\"djtooltip\">\n",
       "                            <p id=\"nonprimary\">session_datetime</p>\n",
       "                            <span class=\"djtooltiptext\"></span>\n",
       "                        </div> </th> </tr> </thead>\n",
       "            <tbody> <tr> <td>sess9FI8ALGO</td>\n",
       "<td>scan9FI8ALGO</td>\n",
       "<td>mini2p_01</td>\n",
       "<td>ScanImage</td>\n",
       "<td></td>\n",
       "<td>1</td>\n",
       "<td>1</td>\n",
       "<td>1</td>\n",
       "<td>4550</td>\n",
       "<td>0</td>\n",
       "<td>0.0</td>\n",
       "<td>0.0</td>\n",
       "<td>0.0</td>\n",
       "<td>7.57571</td>\n",
       "<td>1</td>\n",
       "<td>250.001</td>\n",
       "<td>0.9</td>\n",
       "<td>None</td>\n",
       "<td>600.604</td>\n",
       "<td>openfield</td>\n",
       "<td>sess9FI8ALGO</td>\n",
       "<td>OPI-1681</td>\n",
       "<td>2023-05-25 00:00:00</td> </tr> </tbody>\n",
       "        </table>\n",
       "        \n",
       "        <p>Total: 1</p></div>\n",
       "        "
      ],
      "text/plain": [
       "*session_id    *scan_id       scanner       acq_software   scan_notes     nfields     nchannels     ndepths     nframes     nrois     x       y       z       fps         bidirectional  usecs_per_line fill_fraction  scan_datetime  scan_duration  userfunction_i same_site_id   subject      session_dateti\n",
       "+------------+ +------------+ +-----------+ +------------+ +------------+ +---------+ +-----------+ +---------+ +---------+ +-------+ +-----+ +-----+ +-----+ +---------+ +------------+ +------------+ +------------+ +------------+ +------------+ +------------+ +------------+ +----------+ +------------+\n",
       "sess9FI8ALGO   scan9FI8ALGO   mini2p_01     ScanImage                     1           1             1           4550        0         0.0     0.0     0.0     7.57571     1              250.001        0.9            None           600.604        openfield      sess9FI8ALGO   OPI-1681     2023-05-25 00:\n",
       " (Total: 1)"
      ]
     },
     "execution_count": 10,
     "metadata": {},
     "output_type": "execute_result"
    }
   ],
   "source": [
    "\n",
    "scan.Scan * scan.ScanInfo * session.SessionSameSite * session.Session() & f'session_id = \"{sessi}\"'"
   ]
  },
  {
   "cell_type": "code",
   "execution_count": 11,
   "metadata": {},
   "outputs": [
    {
     "name": "stdout",
     "output_type": "stream",
     "text": [
      "/datajoint-data/data/tobiasr/RN_OPI-1681_2023-05-25_scan9FI8ALGO_sess9FI8ALGO\n"
     ]
    }
   ],
   "source": [
    "query = scan.ScanPath() & 'scan_id = \"' + scansi + '\"'\n",
    "dir_proc = query.fetch('path')[0]\n",
    "print(dir_proc)"
   ]
  },
  {
   "cell_type": "code",
   "execution_count": 12,
   "metadata": {},
   "outputs": [],
   "source": [
    "# POPULATE!\n",
    "populate_settings = {'display_progress': True, 'suppress_errors': False, 'processes': 1}\n",
    "scan.ScanInfo.populate(**populate_settings) "
   ]
  },
  {
   "cell_type": "code",
   "execution_count": 13,
   "metadata": {},
   "outputs": [],
   "source": [
    "# push scan to ProcessingTask\n",
    "# TODO: handle multiscan concatenation from here?\n",
    "selected_s2pparms_index = 0\n",
    "imaging.ProcessingTask.insert1((sessi, scansi, selected_s2pparms_index, dir_proc, 'trigger'), skip_duplicates=True)"
   ]
  },
  {
   "cell_type": "code",
   "execution_count": 14,
   "metadata": {},
   "outputs": [
    {
     "data": {
      "text/html": [
       "\n",
       "    \n",
       "    <style type=\"text/css\">\n",
       "        .Table{\n",
       "            border-collapse:collapse;\n",
       "        }\n",
       "        .Table th{\n",
       "            background: #A0A0A0; color: #ffffff; padding:4px; border:#f0e0e0 1px solid;\n",
       "            font-weight: normal; font-family: monospace; font-size: 100%;\n",
       "        }\n",
       "        .Table td{\n",
       "            padding:4px; border:#f0e0e0 1px solid; font-size:100%;\n",
       "        }\n",
       "        .Table tr:nth-child(odd){\n",
       "            background: #ffffff;\n",
       "            color: #000000;\n",
       "        }\n",
       "        .Table tr:nth-child(even){\n",
       "            background: #f3f1ff;\n",
       "            color: #000000;\n",
       "        }\n",
       "        /* Tooltip container */\n",
       "        .djtooltip {\n",
       "        }\n",
       "        /* Tooltip text */\n",
       "        .djtooltip .djtooltiptext {\n",
       "            visibility: hidden;\n",
       "            width: 120px;\n",
       "            background-color: black;\n",
       "            color: #fff;\n",
       "            text-align: center;\n",
       "            padding: 5px 0;\n",
       "            border-radius: 6px;\n",
       "            /* Position the tooltip text - see examples below! */\n",
       "            position: absolute;\n",
       "            z-index: 1;\n",
       "        }\n",
       "        #primary {\n",
       "            font-weight: bold;\n",
       "            color: black;\n",
       "        }\n",
       "        #nonprimary {\n",
       "            font-weight: normal;\n",
       "            color: white;\n",
       "        }\n",
       "\n",
       "        /* Show the tooltip text when you mouse over the tooltip container */\n",
       "        .djtooltip:hover .djtooltiptext {\n",
       "            visibility: visible;\n",
       "        }\n",
       "    </style>\n",
       "    \n",
       "    <b>Manual table for defining a processing task ready to be run</b>\n",
       "        <div style=\"max-height:1000px;max-width:1500px;overflow:auto;\">\n",
       "        <table border=\"1\" class=\"Table\">\n",
       "            <thead> <tr style=\"text-align: right;\"> <th> <div class=\"djtooltip\">\n",
       "                            <p id=\"primary\">session_id</p>\n",
       "                            <span class=\"djtooltiptext\"></span>\n",
       "                        </div></th><th><div class=\"djtooltip\">\n",
       "                            <p id=\"primary\">scan_id</p>\n",
       "                            <span class=\"djtooltiptext\"></span>\n",
       "                        </div></th><th><div class=\"djtooltip\">\n",
       "                            <p id=\"primary\">paramset_idx</p>\n",
       "                            <span class=\"djtooltiptext\"></span>\n",
       "                        </div></th><th><div class=\"djtooltip\">\n",
       "                            <p id=\"nonprimary\">processing_output_dir</p>\n",
       "                            <span class=\"djtooltiptext\">output directory of the processed scan relative to root data directory</span>\n",
       "                        </div></th><th><div class=\"djtooltip\">\n",
       "                            <p id=\"nonprimary\">task_mode</p>\n",
       "                            <span class=\"djtooltiptext\">'load': load computed analysis results, 'trigger': trigger computation</span>\n",
       "                        </div> </th> </tr> </thead>\n",
       "            <tbody> <tr> <td>sess9FI8ALGO</td>\n",
       "<td>scan9FI8ALGO</td>\n",
       "<td>0</td>\n",
       "<td>/datajoint-data/data/tobiasr/RN_OPI-1681_2023-05-25_scan9FI8ALGO_sess9FI8ALGO</td>\n",
       "<td>trigger</td></tr><tr><td>sess9FKFM3IW</td>\n",
       "<td>scan9FKFM3IW</td>\n",
       "<td>3</td>\n",
       "<td>/datajoint-data/data/tobiasr/JJ_ROS-1627_2023-10-05_scan9FKFM3IW_sess9FKFM3IW</td>\n",
       "<td>trigger</td></tr><tr><td>sess9FKW82R3</td>\n",
       "<td>scan9FKW82R3</td>\n",
       "<td>0</td>\n",
       "<td>/datajoint-data/data/tobiasr/JJ_ROS-1604_2023-11-02_scan9FKW82R3_sess9FKW82R3</td>\n",
       "<td>trigger</td></tr><tr><td>sess9FKW82R3</td>\n",
       "<td>scan9FKW82R3</td>\n",
       "<td>3</td>\n",
       "<td>/datajoint-data/data/tobiasr/JJ_ROS-1604_2023-11-02_scan9FKW82R3_sess9FKW82R3</td>\n",
       "<td>trigger</td></tr><tr><td>sess9FKYPPYS</td>\n",
       "<td>scan9FKYPPYS</td>\n",
       "<td>3</td>\n",
       "<td>/datajoint-data/data/tobiasr/NK_ROS-1664_2023-11-06_scan9FKYPPYS_sess9FKYPPYS</td>\n",
       "<td>trigger</td></tr><tr><td>sess9FKYPVYG</td>\n",
       "<td>scan9FKYPVYG</td>\n",
       "<td>3</td>\n",
       "<td>/datajoint-data/data/tobiasr/NK_ROS-1664_2023-11-06_scan9FKYPVYG_sess9FKYPVYG</td>\n",
       "<td>trigger</td> </tr> </tbody>\n",
       "        </table>\n",
       "        \n",
       "        <p>Total: 6</p></div>\n",
       "        "
      ],
      "text/plain": [
       "*session_id    *scan_id       *paramset_idx  processing_out task_mode    \n",
       "+------------+ +------------+ +------------+ +------------+ +-----------+\n",
       "sess9FI8ALGO   scan9FI8ALGO   0              /datajoint-dat trigger      \n",
       "sess9FKFM3IW   scan9FKFM3IW   3              /datajoint-dat trigger      \n",
       "sess9FKW82R3   scan9FKW82R3   0              /datajoint-dat trigger      \n",
       "sess9FKW82R3   scan9FKW82R3   3              /datajoint-dat trigger      \n",
       "sess9FKYPPYS   scan9FKYPPYS   3              /datajoint-dat trigger      \n",
       "sess9FKYPVYG   scan9FKYPVYG   3              /datajoint-dat trigger      \n",
       " (Total: 6)"
      ]
     },
     "execution_count": 14,
     "metadata": {},
     "output_type": "execute_result"
    }
   ],
   "source": [
    "imaging.ProcessingTask()"
   ]
  },
  {
   "cell_type": "markdown",
   "metadata": {},
   "source": [
    "## Ingest AUX"
   ]
  },
  {
   "cell_type": "code",
   "execution_count": 16,
   "metadata": {},
   "outputs": [
    {
     "name": "stdout",
     "output_type": "stream",
     "text": [
      "openfield\n"
     ]
    }
   ],
   "source": [
    "aux_setup_typestr = (scan.ScanInfo() & 'scan_id = \"' + scansi + '\"').fetch(\"userfunction_info\")[0]    \n",
    "print(aux_setup_typestr)"
   ]
  },
  {
   "cell_type": "code",
   "execution_count": 17,
   "metadata": {},
   "outputs": [
    {
     "name": "stdout",
     "output_type": "stream",
     "text": [
      "Number of aux-files found: 1\n",
      "[PosixPath('/datajoint-data/data/tobiasr/RN_OPI-1681_2023-05-25_scan9FI8ALGO_sess9FI8ALGO')]\n"
     ]
    },
    {
     "name": "stderr",
     "output_type": "stream",
     "text": [
      "/home/tobiasr/miniconda3/envs/datajoint-DLCbackup/lib/python3.8/site-packages/pywavesurfer/ws.py:46: RuntimeWarning: You are reading a WaveSurfer file version this module was not tested with: file version 1.0.6, latest version tested: 0.982\n",
      "  warnings.warn('You are reading a WaveSurfer file version this module was not tested with: '\n"
     ]
    }
   ],
   "source": [
    "ibe.ingest_aux(sessi,scansi,verbose=True, aux_setup_type=aux_setup_typestr)"
   ]
  },
  {
   "cell_type": "code",
   "execution_count": 18,
   "metadata": {},
   "outputs": [
    {
     "data": {
      "text/html": [
       "\n",
       "    \n",
       "    <style type=\"text/css\">\n",
       "        .Table{\n",
       "            border-collapse:collapse;\n",
       "        }\n",
       "        .Table th{\n",
       "            background: #A0A0A0; color: #ffffff; padding:4px; border:#f0e0e0 1px solid;\n",
       "            font-weight: normal; font-family: monospace; font-size: 100%;\n",
       "        }\n",
       "        .Table td{\n",
       "            padding:4px; border:#f0e0e0 1px solid; font-size:100%;\n",
       "        }\n",
       "        .Table tr:nth-child(odd){\n",
       "            background: #ffffff;\n",
       "            color: #000000;\n",
       "        }\n",
       "        .Table tr:nth-child(even){\n",
       "            background: #f3f1ff;\n",
       "            color: #000000;\n",
       "        }\n",
       "        /* Tooltip container */\n",
       "        .djtooltip {\n",
       "        }\n",
       "        /* Tooltip text */\n",
       "        .djtooltip .djtooltiptext {\n",
       "            visibility: hidden;\n",
       "            width: 120px;\n",
       "            background-color: black;\n",
       "            color: #fff;\n",
       "            text-align: center;\n",
       "            padding: 5px 0;\n",
       "            border-radius: 6px;\n",
       "            /* Position the tooltip text - see examples below! */\n",
       "            position: absolute;\n",
       "            z-index: 1;\n",
       "        }\n",
       "        #primary {\n",
       "            font-weight: bold;\n",
       "            color: black;\n",
       "        }\n",
       "        #nonprimary {\n",
       "            font-weight: normal;\n",
       "            color: white;\n",
       "        }\n",
       "\n",
       "        /* Show the tooltip text when you mouse over the tooltip container */\n",
       "        .djtooltip:hover .djtooltiptext {\n",
       "            visibility: visible;\n",
       "        }\n",
       "    </style>\n",
       "    \n",
       "    <b></b>\n",
       "        <div style=\"max-height:1000px;max-width:1500px;overflow:auto;\">\n",
       "        <table border=\"1\" class=\"Table\">\n",
       "            <thead> <tr style=\"text-align: right;\"> <th> <div class=\"djtooltip\">\n",
       "                            <p id=\"primary\">session_id</p>\n",
       "                            <span class=\"djtooltiptext\"></span>\n",
       "                        </div></th><th><div class=\"djtooltip\">\n",
       "                            <p id=\"primary\">scan_id</p>\n",
       "                            <span class=\"djtooltiptext\"></span>\n",
       "                        </div></th><th><div class=\"djtooltip\">\n",
       "                            <p id=\"primary\">event_type</p>\n",
       "                            <span class=\"djtooltiptext\"></span>\n",
       "                        </div></th><th><div class=\"djtooltip\">\n",
       "                            <p id=\"primary\">event_start_time</p>\n",
       "                            <span class=\"djtooltiptext\">(second) relative to recording start</span>\n",
       "                        </div></th><th><div class=\"djtooltip\">\n",
       "                            <p id=\"nonprimary\">event_end_time</p>\n",
       "                            <span class=\"djtooltiptext\">(second) relative to recording start</span>\n",
       "                        </div> </th> </tr> </thead>\n",
       "            <tbody> <tr> <td>sess9FI8ALGO</td>\n",
       "<td>scan9FI8ALGO</td>\n",
       "<td>mini2p_frames</td>\n",
       "<td>2.8852</td>\n",
       "<td>3.01315</td></tr><tr><td>sess9FI8ALGO</td>\n",
       "<td>scan9FI8ALGO</td>\n",
       "<td>mini2p_frames</td>\n",
       "<td>3.0172</td>\n",
       "<td>3.14515</td></tr><tr><td>sess9FI8ALGO</td>\n",
       "<td>scan9FI8ALGO</td>\n",
       "<td>mini2p_frames</td>\n",
       "<td>3.1492</td>\n",
       "<td>3.27715</td></tr><tr><td>sess9FI8ALGO</td>\n",
       "<td>scan9FI8ALGO</td>\n",
       "<td>mini2p_frames</td>\n",
       "<td>3.2812</td>\n",
       "<td>3.40915</td></tr><tr><td>sess9FI8ALGO</td>\n",
       "<td>scan9FI8ALGO</td>\n",
       "<td>mini2p_frames</td>\n",
       "<td>3.4132</td>\n",
       "<td>3.54115</td></tr><tr><td>sess9FI8ALGO</td>\n",
       "<td>scan9FI8ALGO</td>\n",
       "<td>mini2p_frames</td>\n",
       "<td>3.5452</td>\n",
       "<td>3.67315</td></tr><tr><td>sess9FI8ALGO</td>\n",
       "<td>scan9FI8ALGO</td>\n",
       "<td>mini2p_frames</td>\n",
       "<td>3.6772</td>\n",
       "<td>3.80515</td></tr><tr><td>sess9FI8ALGO</td>\n",
       "<td>scan9FI8ALGO</td>\n",
       "<td>mini2p_frames</td>\n",
       "<td>3.8092</td>\n",
       "<td>3.93715</td></tr><tr><td>sess9FI8ALGO</td>\n",
       "<td>scan9FI8ALGO</td>\n",
       "<td>mini2p_frames</td>\n",
       "<td>3.9412</td>\n",
       "<td>4.06915</td></tr><tr><td>sess9FI8ALGO</td>\n",
       "<td>scan9FI8ALGO</td>\n",
       "<td>mini2p_frames</td>\n",
       "<td>4.0732</td>\n",
       "<td>4.20115</td></tr><tr><td>sess9FI8ALGO</td>\n",
       "<td>scan9FI8ALGO</td>\n",
       "<td>mini2p_frames</td>\n",
       "<td>4.2052</td>\n",
       "<td>4.33315</td></tr><tr><td>sess9FI8ALGO</td>\n",
       "<td>scan9FI8ALGO</td>\n",
       "<td>mini2p_frames</td>\n",
       "<td>4.3372</td>\n",
       "<td>4.46515</td></tr><tr><td>sess9FI8ALGO</td>\n",
       "<td>scan9FI8ALGO</td>\n",
       "<td>mini2p_frames</td>\n",
       "<td>4.4692</td>\n",
       "<td>4.59715</td></tr><tr><td>sess9FI8ALGO</td>\n",
       "<td>scan9FI8ALGO</td>\n",
       "<td>mini2p_frames</td>\n",
       "<td>4.6012</td>\n",
       "<td>4.72915</td></tr><tr><td>sess9FI8ALGO</td>\n",
       "<td>scan9FI8ALGO</td>\n",
       "<td>mini2p_frames</td>\n",
       "<td>4.7332</td>\n",
       "<td>4.86115</td></tr><tr><td>sess9FI8ALGO</td>\n",
       "<td>scan9FI8ALGO</td>\n",
       "<td>mini2p_frames</td>\n",
       "<td>4.8652</td>\n",
       "<td>4.99315</td></tr><tr><td>sess9FI8ALGO</td>\n",
       "<td>scan9FI8ALGO</td>\n",
       "<td>mini2p_frames</td>\n",
       "<td>4.9972</td>\n",
       "<td>5.12515</td></tr><tr><td>sess9FI8ALGO</td>\n",
       "<td>scan9FI8ALGO</td>\n",
       "<td>mini2p_frames</td>\n",
       "<td>5.1292</td>\n",
       "<td>5.25715</td></tr><tr><td>sess9FI8ALGO</td>\n",
       "<td>scan9FI8ALGO</td>\n",
       "<td>mini2p_frames</td>\n",
       "<td>5.2612</td>\n",
       "<td>5.38915</td></tr><tr><td>sess9FI8ALGO</td>\n",
       "<td>scan9FI8ALGO</td>\n",
       "<td>mini2p_frames</td>\n",
       "<td>5.3932</td>\n",
       "<td>5.52115</td></tr><tr><td>sess9FI8ALGO</td>\n",
       "<td>scan9FI8ALGO</td>\n",
       "<td>mini2p_frames</td>\n",
       "<td>5.5252</td>\n",
       "<td>5.65315</td></tr><tr><td>sess9FI8ALGO</td>\n",
       "<td>scan9FI8ALGO</td>\n",
       "<td>mini2p_frames</td>\n",
       "<td>5.6572</td>\n",
       "<td>5.78515</td></tr><tr><td>sess9FI8ALGO</td>\n",
       "<td>scan9FI8ALGO</td>\n",
       "<td>mini2p_frames</td>\n",
       "<td>5.7892</td>\n",
       "<td>5.91715</td></tr><tr><td>sess9FI8ALGO</td>\n",
       "<td>scan9FI8ALGO</td>\n",
       "<td>mini2p_frames</td>\n",
       "<td>5.9212</td>\n",
       "<td>6.04915</td></tr><tr><td>sess9FI8ALGO</td>\n",
       "<td>scan9FI8ALGO</td>\n",
       "<td>mini2p_frames</td>\n",
       "<td>6.0532</td>\n",
       "<td>6.18115</td></tr><tr><td>sess9FI8ALGO</td>\n",
       "<td>scan9FI8ALGO</td>\n",
       "<td>mini2p_frames</td>\n",
       "<td>6.1852</td>\n",
       "<td>6.31315</td></tr><tr><td>sess9FI8ALGO</td>\n",
       "<td>scan9FI8ALGO</td>\n",
       "<td>mini2p_frames</td>\n",
       "<td>6.3172</td>\n",
       "<td>6.44515</td></tr><tr><td>sess9FI8ALGO</td>\n",
       "<td>scan9FI8ALGO</td>\n",
       "<td>mini2p_frames</td>\n",
       "<td>6.4492</td>\n",
       "<td>6.57715</td></tr><tr><td>sess9FI8ALGO</td>\n",
       "<td>scan9FI8ALGO</td>\n",
       "<td>mini2p_frames</td>\n",
       "<td>6.5812</td>\n",
       "<td>6.7092</td></tr><tr><td>sess9FI8ALGO</td>\n",
       "<td>scan9FI8ALGO</td>\n",
       "<td>mini2p_frames</td>\n",
       "<td>6.7132</td>\n",
       "<td>6.8412</td></tr><tr><td>sess9FI8ALGO</td>\n",
       "<td>scan9FI8ALGO</td>\n",
       "<td>mini2p_frames</td>\n",
       "<td>6.8452</td>\n",
       "<td>6.9732</td></tr><tr><td>sess9FI8ALGO</td>\n",
       "<td>scan9FI8ALGO</td>\n",
       "<td>mini2p_frames</td>\n",
       "<td>6.9772</td>\n",
       "<td>7.1052</td></tr><tr><td>sess9FI8ALGO</td>\n",
       "<td>scan9FI8ALGO</td>\n",
       "<td>mini2p_frames</td>\n",
       "<td>7.1092</td>\n",
       "<td>7.2372</td></tr><tr><td>sess9FI8ALGO</td>\n",
       "<td>scan9FI8ALGO</td>\n",
       "<td>mini2p_frames</td>\n",
       "<td>7.2412</td>\n",
       "<td>7.3692</td></tr><tr><td>sess9FI8ALGO</td>\n",
       "<td>scan9FI8ALGO</td>\n",
       "<td>mini2p_frames</td>\n",
       "<td>7.3732</td>\n",
       "<td>7.5012</td></tr><tr><td>sess9FI8ALGO</td>\n",
       "<td>scan9FI8ALGO</td>\n",
       "<td>mini2p_frames</td>\n",
       "<td>7.5052</td>\n",
       "<td>7.6332</td></tr><tr><td>sess9FI8ALGO</td>\n",
       "<td>scan9FI8ALGO</td>\n",
       "<td>mini2p_frames</td>\n",
       "<td>7.6372</td>\n",
       "<td>7.7652</td></tr><tr><td>sess9FI8ALGO</td>\n",
       "<td>scan9FI8ALGO</td>\n",
       "<td>mini2p_frames</td>\n",
       "<td>7.7692</td>\n",
       "<td>7.8972</td></tr><tr><td>sess9FI8ALGO</td>\n",
       "<td>scan9FI8ALGO</td>\n",
       "<td>mini2p_frames</td>\n",
       "<td>7.9012</td>\n",
       "<td>8.0292</td></tr><tr><td>sess9FI8ALGO</td>\n",
       "<td>scan9FI8ALGO</td>\n",
       "<td>mini2p_frames</td>\n",
       "<td>8.0332</td>\n",
       "<td>8.1612</td></tr><tr><td>sess9FI8ALGO</td>\n",
       "<td>scan9FI8ALGO</td>\n",
       "<td>mini2p_frames</td>\n",
       "<td>8.1652</td>\n",
       "<td>8.2932</td></tr><tr><td>sess9FI8ALGO</td>\n",
       "<td>scan9FI8ALGO</td>\n",
       "<td>mini2p_frames</td>\n",
       "<td>8.2972</td>\n",
       "<td>8.4252</td></tr><tr><td>sess9FI8ALGO</td>\n",
       "<td>scan9FI8ALGO</td>\n",
       "<td>mini2p_frames</td>\n",
       "<td>8.4292</td>\n",
       "<td>8.5572</td></tr><tr><td>sess9FI8ALGO</td>\n",
       "<td>scan9FI8ALGO</td>\n",
       "<td>mini2p_frames</td>\n",
       "<td>8.5612</td>\n",
       "<td>8.6892</td></tr><tr><td>sess9FI8ALGO</td>\n",
       "<td>scan9FI8ALGO</td>\n",
       "<td>mini2p_frames</td>\n",
       "<td>8.6932</td>\n",
       "<td>8.8212</td></tr><tr><td>sess9FI8ALGO</td>\n",
       "<td>scan9FI8ALGO</td>\n",
       "<td>mini2p_frames</td>\n",
       "<td>8.8252</td>\n",
       "<td>8.9532</td></tr><tr><td>sess9FI8ALGO</td>\n",
       "<td>scan9FI8ALGO</td>\n",
       "<td>mini2p_frames</td>\n",
       "<td>8.9572</td>\n",
       "<td>9.0852</td></tr><tr><td>sess9FI8ALGO</td>\n",
       "<td>scan9FI8ALGO</td>\n",
       "<td>mini2p_frames</td>\n",
       "<td>9.0892</td>\n",
       "<td>9.2172</td></tr><tr><td>sess9FI8ALGO</td>\n",
       "<td>scan9FI8ALGO</td>\n",
       "<td>mini2p_frames</td>\n",
       "<td>9.2212</td>\n",
       "<td>9.3492</td></tr><tr><td>sess9FI8ALGO</td>\n",
       "<td>scan9FI8ALGO</td>\n",
       "<td>mini2p_frames</td>\n",
       "<td>9.3532</td>\n",
       "<td>9.4812</td> </tr> </tbody>\n",
       "        </table>\n",
       "        <p>...</p>\n",
       "        <p>Total: 9100</p></div>\n",
       "        "
      ],
      "text/plain": [
       "*session_id    *scan_id       *event_type    *event_start_t event_end_time\n",
       "+------------+ +------------+ +------------+ +------------+ +------------+\n",
       "sess9FI8ALGO   scan9FI8ALGO   mini2p_frames  2.8852         3.01315       \n",
       "sess9FI8ALGO   scan9FI8ALGO   mini2p_frames  3.0172         3.14515       \n",
       "sess9FI8ALGO   scan9FI8ALGO   mini2p_frames  3.1492         3.27715       \n",
       "sess9FI8ALGO   scan9FI8ALGO   mini2p_frames  3.2812         3.40915       \n",
       "sess9FI8ALGO   scan9FI8ALGO   mini2p_frames  3.4132         3.54115       \n",
       "sess9FI8ALGO   scan9FI8ALGO   mini2p_frames  3.5452         3.67315       \n",
       "sess9FI8ALGO   scan9FI8ALGO   mini2p_frames  3.6772         3.80515       \n",
       "sess9FI8ALGO   scan9FI8ALGO   mini2p_frames  3.8092         3.93715       \n",
       "sess9FI8ALGO   scan9FI8ALGO   mini2p_frames  3.9412         4.06915       \n",
       "sess9FI8ALGO   scan9FI8ALGO   mini2p_frames  4.0732         4.20115       \n",
       "sess9FI8ALGO   scan9FI8ALGO   mini2p_frames  4.2052         4.33315       \n",
       "sess9FI8ALGO   scan9FI8ALGO   mini2p_frames  4.3372         4.46515       \n",
       "sess9FI8ALGO   scan9FI8ALGO   mini2p_frames  4.4692         4.59715       \n",
       "sess9FI8ALGO   scan9FI8ALGO   mini2p_frames  4.6012         4.72915       \n",
       "sess9FI8ALGO   scan9FI8ALGO   mini2p_frames  4.7332         4.86115       \n",
       "sess9FI8ALGO   scan9FI8ALGO   mini2p_frames  4.8652         4.99315       \n",
       "sess9FI8ALGO   scan9FI8ALGO   mini2p_frames  4.9972         5.12515       \n",
       "sess9FI8ALGO   scan9FI8ALGO   mini2p_frames  5.1292         5.25715       \n",
       "sess9FI8ALGO   scan9FI8ALGO   mini2p_frames  5.2612         5.38915       \n",
       "sess9FI8ALGO   scan9FI8ALGO   mini2p_frames  5.3932         5.52115       \n",
       "sess9FI8ALGO   scan9FI8ALGO   mini2p_frames  5.5252         5.65315       \n",
       "sess9FI8ALGO   scan9FI8ALGO   mini2p_frames  5.6572         5.78515       \n",
       "sess9FI8ALGO   scan9FI8ALGO   mini2p_frames  5.7892         5.91715       \n",
       "sess9FI8ALGO   scan9FI8ALGO   mini2p_frames  5.9212         6.04915       \n",
       "sess9FI8ALGO   scan9FI8ALGO   mini2p_frames  6.0532         6.18115       \n",
       "sess9FI8ALGO   scan9FI8ALGO   mini2p_frames  6.1852         6.31315       \n",
       "sess9FI8ALGO   scan9FI8ALGO   mini2p_frames  6.3172         6.44515       \n",
       "sess9FI8ALGO   scan9FI8ALGO   mini2p_frames  6.4492         6.57715       \n",
       "sess9FI8ALGO   scan9FI8ALGO   mini2p_frames  6.5812         6.7092        \n",
       "sess9FI8ALGO   scan9FI8ALGO   mini2p_frames  6.7132         6.8412        \n",
       "sess9FI8ALGO   scan9FI8ALGO   mini2p_frames  6.8452         6.9732        \n",
       "sess9FI8ALGO   scan9FI8ALGO   mini2p_frames  6.9772         7.1052        \n",
       "sess9FI8ALGO   scan9FI8ALGO   mini2p_frames  7.1092         7.2372        \n",
       "sess9FI8ALGO   scan9FI8ALGO   mini2p_frames  7.2412         7.3692        \n",
       "sess9FI8ALGO   scan9FI8ALGO   mini2p_frames  7.3732         7.5012        \n",
       "sess9FI8ALGO   scan9FI8ALGO   mini2p_frames  7.5052         7.6332        \n",
       "sess9FI8ALGO   scan9FI8ALGO   mini2p_frames  7.6372         7.7652        \n",
       "sess9FI8ALGO   scan9FI8ALGO   mini2p_frames  7.7692         7.8972        \n",
       "sess9FI8ALGO   scan9FI8ALGO   mini2p_frames  7.9012         8.0292        \n",
       "sess9FI8ALGO   scan9FI8ALGO   mini2p_frames  8.0332         8.1612        \n",
       "sess9FI8ALGO   scan9FI8ALGO   mini2p_frames  8.1652         8.2932        \n",
       "sess9FI8ALGO   scan9FI8ALGO   mini2p_frames  8.2972         8.4252        \n",
       "sess9FI8ALGO   scan9FI8ALGO   mini2p_frames  8.4292         8.5572        \n",
       "sess9FI8ALGO   scan9FI8ALGO   mini2p_frames  8.5612         8.6892        \n",
       "sess9FI8ALGO   scan9FI8ALGO   mini2p_frames  8.6932         8.8212        \n",
       "sess9FI8ALGO   scan9FI8ALGO   mini2p_frames  8.8252         8.9532        \n",
       "sess9FI8ALGO   scan9FI8ALGO   mini2p_frames  8.9572         9.0852        \n",
       "sess9FI8ALGO   scan9FI8ALGO   mini2p_frames  9.0892         9.2172        \n",
       "sess9FI8ALGO   scan9FI8ALGO   mini2p_frames  9.2212         9.3492        \n",
       "sess9FI8ALGO   scan9FI8ALGO   mini2p_frames  9.3532         9.4812        \n",
       "   ...\n",
       " (Total: 9100)"
      ]
     },
     "execution_count": 18,
     "metadata": {},
     "output_type": "execute_result"
    }
   ],
   "source": [
    "(event.Event & 'scan_id = \"' + scansi + '\"' & 'event_type LIKE \"%mini2p%\"')"
   ]
  },
  {
   "cell_type": "code",
   "execution_count": null,
   "metadata": {},
   "outputs": [],
   "source": [
    "# time_differences = np.diff((event.Event & 'scan_id = \"' + scansi + '\"' & 'event_type LIKE \"%reward%\"').fetch(\"event_start_time\"))\n",
    "\n",
    "# plt.figure(figsize=(10, 6))\n",
    "# plt.hist(time_differences, bins=range(min(time_differences.astype(int)), max(time_differences.astype(int)) + 10, 1), edgecolor='black')\n",
    "# plt.title('Histogram of Time Differences Between Consecutive Events')\n",
    "# plt.xlabel('Time Difference (seconds)')\n",
    "# plt.ylabel('Frequency')\n",
    "# plt.show()"
   ]
  },
  {
   "cell_type": "markdown",
   "metadata": {},
   "source": [
    "## Ingest BPOD\n"
   ]
  },
  {
   "cell_type": "code",
   "execution_count": null,
   "metadata": {},
   "outputs": [],
   "source": [
    "ibe.ingest_bpod(sessi,scansi,verbose=False, aux_setup_type=aux_setup_typestr)"
   ]
  },
  {
   "cell_type": "markdown",
   "metadata": {},
   "source": [
    "### get BPOD object to play around"
   ]
  },
  {
   "cell_type": "code",
   "execution_count": null,
   "metadata": {},
   "outputs": [],
   "source": [
    "from adamacs.paths import get_imaging_root_data_dir, get_experiment_root_data_dir\n",
    "from adamacs.ingest import bpod\n",
    "from element_interface.utils import find_full_path\n",
    "\n",
    "scan_key = (scan.Scan & f'scan_id = \"{scansi}\"').fetch('KEY')[0]\n",
    "bpod_path_relative = (scan.ScanPath & scan_key).fetch(\"path\")[0]\n",
    "\n",
    "bpod_path_full = list(find_full_path(\n",
    "        get_experiment_root_data_dir(), bpod_path_relative\n",
    "        ).glob(\"*mat\"))[0]"
   ]
  },
  {
   "cell_type": "code",
   "execution_count": null,
   "metadata": {},
   "outputs": [],
   "source": [
    "bpod_object = bpod.Bpodfile(bpod_path_full)"
   ]
  },
  {
   "cell_type": "code",
   "execution_count": null,
   "metadata": {},
   "outputs": [],
   "source": [
    "bpod_object.session_data[\"Info\"]"
   ]
  },
  {
   "cell_type": "code",
   "execution_count": null,
   "metadata": {},
   "outputs": [],
   "source": [
    "bpod_object.session_data[\"MousePos\"]['PreStimDLC_live'][10]['right_ear']"
   ]
  },
  {
   "cell_type": "code",
   "execution_count": null,
   "metadata": {},
   "outputs": [],
   "source": [
    "bpod_object.trial_data[0]['Events']\n"
   ]
  },
  {
   "cell_type": "code",
   "execution_count": null,
   "metadata": {},
   "outputs": [],
   "source": [
    "\n",
    "trials = bpod_object.trial_data\n",
    "BNC1Low_events = [(i, trial['Events'].get('BNC1Low')) for i, trial in enumerate(trials) if 'BNC1Low' in trial['Events']]\n",
    "print(BNC1Low_events)\n",
    "# BNC1Low_events[0][0]"
   ]
  },
  {
   "cell_type": "code",
   "execution_count": null,
   "metadata": {},
   "outputs": [],
   "source": [
    "\n",
    "trials[0]['Events']"
   ]
  },
  {
   "cell_type": "code",
   "execution_count": null,
   "metadata": {},
   "outputs": [],
   "source": [
    "bpod_object.session_data[\"RawEvents\"][\"Trial\"][1][\"Events\"]"
   ]
  },
  {
   "cell_type": "code",
   "execution_count": null,
   "metadata": {},
   "outputs": [],
   "source": [
    "bpod_object.session_data[\"RawEvents\"][\"Trial\"][0][\"Events\"][\"BNC1High\"]"
   ]
  },
  {
   "cell_type": "code",
   "execution_count": null,
   "metadata": {},
   "outputs": [],
   "source": [
    "bpod_object.session_data[\"RawEvents\"][\"Trial\"][-2][\"Events\"]"
   ]
  },
  {
   "cell_type": "code",
   "execution_count": null,
   "metadata": {},
   "outputs": [],
   "source": [
    "BNC1Low_events = [(i, event.get('BNC1Low')) for i, event in enumerate(events) if 'BNC1Low' in event]"
   ]
  },
  {
   "cell_type": "code",
   "execution_count": null,
   "metadata": {},
   "outputs": [],
   "source": [
    "BNC1Low_events"
   ]
  },
  {
   "cell_type": "code",
   "execution_count": null,
   "metadata": {},
   "outputs": [],
   "source": [
    "bpod_object.session_data[\"StimPos\"].keys()"
   ]
  },
  {
   "cell_type": "code",
   "execution_count": null,
   "metadata": {},
   "outputs": [],
   "source": [
    "bpod_object.trial_data[34]['Events']"
   ]
  },
  {
   "cell_type": "code",
   "execution_count": null,
   "metadata": {},
   "outputs": [],
   "source": []
  },
  {
   "cell_type": "code",
   "execution_count": null,
   "metadata": {},
   "outputs": [],
   "source": [
    "trials = bpod_object.trial_data\n",
    "SoftCode15_events = [(i, trial['Events'].get('SoftCode15')) for i, trial in enumerate(trials) if 'SoftCode15' in trial['Events']] # get all trials that have a BNC1Low event. Returns a list of tuples (trial number, event time)\n",
    "\n",
    "SoftCode15_events_times = [x[1] for x in SoftCode15_events]\n",
    "\n",
    "plt.hist(SoftCode15_events_times, bins=1000, edgecolor='black')\n",
    "plt.xlim([0, 1])\n",
    "plt.title('Histogram of softcode 15 event-to-trial-beginning time')\n",
    "plt.xlabel('[s]')\n",
    "plt.ylabel('Frequency')\n",
    "# plt.xlim([0, 1])\n",
    "plt.show()"
   ]
  },
  {
   "cell_type": "code",
   "execution_count": null,
   "metadata": {},
   "outputs": [],
   "source": [
    "trials = bpod_object.trial_data\n",
    "SoftCode10_events = [(i, trial['Events'].get('SoftCode10')) for i, trial in enumerate(trials) if 'SoftCode10' in trial['Events']] # get all trials that have a BNC1Low event. Returns a list of tuples (trial number, event time)\n",
    "\n",
    "SoftCode10_events_times = [x[1] for x in SoftCode10_events]\n",
    "\n",
    "plt.hist(SoftCode10_events_times, edgecolor='black')\n",
    "plt.xlim([0, 1])\n",
    "plt.title('Histogram of softcode 10 event-to-trial-beginning time')\n",
    "plt.xlabel('[s]')\n",
    "plt.ylabel('Frequency')\n",
    "# plt.xlim([0, 1])\n",
    "plt.show()"
   ]
  },
  {
   "cell_type": "code",
   "execution_count": null,
   "metadata": {},
   "outputs": [],
   "source": [
    "SoftCode10_events_times"
   ]
  },
  {
   "cell_type": "code",
   "execution_count": null,
   "metadata": {},
   "outputs": [],
   "source": [
    "1/60"
   ]
  },
  {
   "cell_type": "code",
   "execution_count": null,
   "metadata": {},
   "outputs": [],
   "source": [
    "# get the times of the tone onsets\n",
    "aux_tone = (event.Event & 'scan_id = \"' + scansi + '\"' & 'event_type LIKE \"%vis%\"').fetch(\"event_start_time\")\n",
    "# create a time series of ones, using the same length as the tone onsets\n",
    "onesfive = np.ones_like(aux_tone) -.5\n",
    "# plot the time series of ones vs the tone onsets\n",
    "axs[0].scatter(aux_tone, onesfive)\n",
    "\n",
    "# get the times of the trial start events\n",
    "bpod_trial = bpod_object.session_data[\"TrialStartTimestamp\"]\n",
    "# create a time series of ones, using the same length as the trial start events\n",
    "ones = np.ones_like(bpod_trial)\n",
    "# plot the time series of ones vs the trial start events\n",
    "axs[1].scatter(bpod_trial, ones)\n",
    "\n",
    "# get the times of the visual cue onsets\n",
    "aux_vis = (event.Event & 'scan_id = \"' + scansi + '\"' & 'event_type LIKE \"%vis%\"').fetch(\"event_start_time\")\n",
    "# create a time series of ones, using the same length as the visual cue onsets\n",
    "onesvis = np.ones_like(aux_vis) -1\n",
    "axs[2].scatter(aux_vis, onesvis)\n",
    "\n",
    "# get the times of the auditory cue onsets\n",
    "aux_aud = (event.Event & 'scan_id = \"' + scansi + '\"' & 'event_type LIKE \"%aud%\"').fetch(\"event_start_time\")\n",
    "# create a time series of ones, using the same length as the auditory cue onsets\n",
    "onesaud = np.ones_like(aux_aud) -2\n",
    "axs[2].scatter(aux_aud, onesaud)\n",
    "\n",
    "# get the times of the reward onsets"
   ]
  },
  {
   "cell_type": "code",
   "execution_count": null,
   "metadata": {},
   "outputs": [],
   "source": [
    "def align_timeseries_and_find_non_matching_events(time_series_1, time_series_2):\n",
    "    # Create event markers for each timeseries\n",
    "    events_1 = np.zeros(int(np.ceil(max(time_series_1))))\n",
    "    events_2 = np.zeros(int(np.ceil(max(time_series_2))))\n",
    "\n",
    "    # Mark the events\n",
    "    for event in time_series_1:\n",
    "        events_1[int(event)] = 1\n",
    "    for event in time_series_2:\n",
    "        events_2[int(event)] = 1\n",
    "\n",
    "    # Pad the shorter timeseries with zeros to make them the same length\n",
    "    if len(events_1) > len(events_2):\n",
    "        events_2 = np.pad(events_2, (0, len(events_1) - len(events_2)), 'constant')\n",
    "    elif len(events_2) > len(events_1):\n",
    "        events_1 = np.pad(events_1, (0, len(events_2) - len(events_1)), 'constant')\n",
    "\n",
    "    # Perform cross-correlation\n",
    "    correlation = correlate(events_1, events_2, mode='full')\n",
    "    lag = np.argmax(correlation) - (len(events_2) - 1)\n",
    "\n",
    "    # Shift the second series according to the lag\n",
    "    aligned_series_2 = np.roll(events_2, -lag)[:len(events_1)]\n",
    "\n",
    "    # Find the indices where events do not match\n",
    "    non_matching_indices = np.where((events_1 == 1) & (aligned_series_2 == 0))[0]\n",
    "\n",
    "    # Convert indices back to times\n",
    "    non_matching_times = time_series_1[np.isin(time_series_1, non_matching_indices)]\n",
    "\n",
    "    return non_matching_indices, non_matching_times, lag\n",
    "\n",
    "# Align the two timeseries and find non-matching events\n",
    "non_matching_indices, non_matching_times, alignment_lag = align_timeseries_and_find_non_matching_events(bpod_trial, aux_tone)\n",
    "\n",
    "non_matching_indices, non_matching_times, alignment_lag"
   ]
  },
  {
   "cell_type": "code",
   "execution_count": null,
   "metadata": {},
   "outputs": [],
   "source": [
    "aux_tone - aux_tone[0]"
   ]
  },
  {
   "cell_type": "code",
   "execution_count": null,
   "metadata": {},
   "outputs": [],
   "source": [
    "bpod_trial-bpod_trial[1]"
   ]
  },
  {
   "cell_type": "code",
   "execution_count": null,
   "metadata": {},
   "outputs": [],
   "source": [
    "non_matching_times, alignment_lag = align_timeseries_and_find_non_matching_events(bpod_trial, aux_tone)"
   ]
  },
  {
   "cell_type": "code",
   "execution_count": null,
   "metadata": {},
   "outputs": [],
   "source": [
    "import numpy as np\n",
    "from scipy.signal import correlate\n",
    "\n",
    "def align_timeseries(series1, series2):\n",
    "    \"\"\"\n",
    "    This function aligns two timeseries data and finds non-matching events.\n",
    "\n",
    "    :param series1: First timeseries data as a numpy array.\n",
    "    :param series2: Second timeseries data as a numpy array.\n",
    "    :return: Indices of non-matching events in series1.\n",
    "    \"\"\"\n",
    "\n",
    "    # Perform cross-correlation\n",
    "    correlation = correlate(series1, series2, mode='full')\n",
    "    # Find the lag that maximizes the cross-correlation\n",
    "    lag = np.argmax(correlation) - (len(series2) - 1)\n",
    "\n",
    "    # Align the series by shifting series2\n",
    "    aligned_series2 = np.roll(series2, -lag)\n",
    "\n",
    "    # Find non-matching events (where one series has an event and the other does not)\n",
    "    non_matching_events = np.where((series1 != 0) != (aligned_series2[:len(series1)] != 0))[0]\n",
    "\n",
    "    return non_matching_events, lag, aligned_series2\n",
    "\n",
    "# Call the alignment function\n",
    "non_matching_indices, calculated_lag, aligned_series2 = align_timeseries(bpod_trial, aux_tone)\n",
    "\n",
    "print(f\"Non-matching event indices in series1: {non_matching_indices}\")\n",
    "print(f\"Lag for alignment: {calculated_lag}\")"
   ]
  },
  {
   "cell_type": "code",
   "execution_count": null,
   "metadata": {},
   "outputs": [],
   "source": [
    "aux_tone"
   ]
  },
  {
   "cell_type": "code",
   "execution_count": null,
   "metadata": {},
   "outputs": [],
   "source": [
    "bpod_trial = bpod_object.session_data[\"TrialStartTimestamp\"]\n",
    "bpod_trial = np.concatenate(([1], bpod_trial))\n",
    "ones = np.ones_like(bpod_trial)\n",
    "\n",
    "ones2 = np.ones_like(aligned_series2)\n",
    "\n",
    "aux_tone = (event.Event & 'scan_id = \"' + scansi + '\"' & 'event_type LIKE \"%vis%\"').fetch(\"event_start_time\")\n",
    "onesfive = np.ones_like(aux_tone) -.5\n",
    "\n",
    "fig, axs = plt.subplots(2,figsize=(20, 6))\n",
    "axs[0].scatter(aux_tone, onesfive+0.5)\n",
    "axs[1].scatter(bpod_trial, ones)\n",
    "axs[0].scatter(aligned_series2, ones2, c='r')"
   ]
  },
  {
   "cell_type": "code",
   "execution_count": null,
   "metadata": {},
   "outputs": [],
   "source": []
  },
  {
   "cell_type": "code",
   "execution_count": null,
   "metadata": {},
   "outputs": [],
   "source": [
    "from dtw import *\n",
    "import matplotlib.pyplot as plt\n",
    "\n",
    "# Create the alignment\n",
    "alignment = dtw(aux_tone, bpod_trial, keep_internals=True)\n",
    "\n",
    "# Plot the original time series\n",
    "plt.figure(figsize=(20, 6))\n",
    "plt.subplot(3, 1, 1)\n",
    "plt.plot(aux_tone, label='aux_tone')\n",
    "plt.plot(bpod_trial, label='bpod_trial')\n",
    "plt.legend()\n",
    "\n",
    "# Plot the warping path\n",
    "plt.subplot(3, 1, 2)\n",
    "alignment.plot(type=\"twoway\",offset=-2)\n",
    "\n",
    "# Plot the aligned time series\n",
    "plt.subplot(3, 1, 3)\n",
    "plt.plot(aux_tone[alignment.index1], label='aligned aux_tone')\n",
    "plt.plot(bpod_trial[alignment.index2], label='aligned bpod_trial')\n",
    "plt.legend()\n",
    "\n",
    "plt.show()"
   ]
  },
  {
   "cell_type": "code",
   "execution_count": null,
   "metadata": {},
   "outputs": [],
   "source": [
    "alignment.plot()"
   ]
  },
  {
   "cell_type": "code",
   "execution_count": null,
   "metadata": {},
   "outputs": [],
   "source": [
    "\n",
    "def dtw(s, t, window):\n",
    "    n, m = len(s), len(t)\n",
    "    w = np.max([window, abs(n-m)])\n",
    "    dtw_matrix = np.zeros((n+1, m+1))\n",
    "    \n",
    "    for i in range(n+1):\n",
    "        for j in range(m+1):\n",
    "            dtw_matrix[i, j] = np.inf\n",
    "    dtw_matrix[0, 0] = 0\n",
    "    \n",
    "    for i in range(1, n+1):\n",
    "        for j in range(np.max([1, i-w]), np.min([m, i+w])+1):\n",
    "            dtw_matrix[i, j] = 0\n",
    "    \n",
    "    for i in range(1, n+1):\n",
    "        for j in range(np.max([1, i-w]), np.min([m, i+w])+1):\n",
    "            cost = abs(s[i-1] - t[j-1])\n",
    "            # take last min from a square box\n",
    "            last_min = np.min([dtw_matrix[i-1, j], dtw_matrix[i, j-1], dtw_matrix[i-1, j-1]])\n",
    "            dtw_matrix[i, j] = cost + last_min\n",
    "    return dtw_matrix\n"
   ]
  },
  {
   "cell_type": "code",
   "execution_count": null,
   "metadata": {},
   "outputs": [],
   "source": [
    "time_series_1 = aux_tone\n",
    "time_series_2 = bpod_trial\n",
    "dtw(time_series_1, time_series_2, 100)"
   ]
  },
  {
   "cell_type": "code",
   "execution_count": null,
   "metadata": {},
   "outputs": [],
   "source": [
    "import numpy as np\n",
    "\n",
    "def dtw_alignment(ts_a, ts_b, d=lambda x, y: abs(x - y)):\n",
    "    \"\"\"Computes the Dynamic Time Warping (DTW) alignment between two time series.\n",
    "\n",
    "    Args:\n",
    "        ts_a: First time series (list or array).\n",
    "        ts_b: Second time series (list or array).\n",
    "        d: Distance function. Defaults to absolute difference.\n",
    "\n",
    "    Returns:\n",
    "        path: The optimal path for the alignment.\n",
    "        DTW: The full DTW matrix.\n",
    "    \"\"\"\n",
    "    # Create cost matrix with infinite values\n",
    "    DTW = np.full((len(ts_a) + 1, len(ts_b) + 1), np.inf)\n",
    "    DTW[0, 0] = 0\n",
    "\n",
    "    # Populate the cost matrix\n",
    "    for i in range(1, len(ts_a) + 1):\n",
    "        for j in range(1, len(ts_b) + 1):\n",
    "            cost = d(ts_a[i-1], ts_b[j-1])\n",
    "            DTW[i, j] = cost + min(DTW[i-1, j],    # insertion\n",
    "                                   DTW[i, j-1],    # deletion\n",
    "                                   DTW[i-1, j-1])  # match\n",
    "\n",
    "    # Backtrack to find the optimal path\n",
    "    path = []\n",
    "    i, j = len(ts_a), len(ts_b)\n",
    "    while i > 0 and j > 0:\n",
    "        path.append((i-1, j-1))\n",
    "        min_index = np.argmin((DTW[i-1, j], DTW[i, j-1], DTW[i-1, j-1]))\n",
    "        if min_index == 0:\n",
    "            i -= 1\n",
    "        elif min_index == 1:\n",
    "            j -= 1\n",
    "        else:  # min_index == 2\n",
    "            i -= 1\n",
    "            j -= 1\n",
    "\n",
    "    # Include the start cell in the path\n",
    "    path.append((0, 0))\n",
    "\n",
    "    path.reverse()\n",
    "    return path, DTW\n",
    "\n",
    "# Example time series data\n",
    "ts_a = aux_tone\n",
    "ts_b = bpod_trial\n",
    "\n",
    "# Get the alignment and DTW matrix\n",
    "alignment_path, DTW_matrix = dtw_alignment(ts_a, ts_b)\n",
    "\n",
    "# The alignment path is returned as tuples of aligned indices\n",
    "alignment_path\n"
   ]
  },
  {
   "cell_type": "code",
   "execution_count": null,
   "metadata": {},
   "outputs": [],
   "source": [
    "bpod_trial"
   ]
  },
  {
   "cell_type": "code",
   "execution_count": null,
   "metadata": {},
   "outputs": [],
   "source": [
    "aux_tone"
   ]
  },
  {
   "cell_type": "markdown",
   "metadata": {},
   "source": [
    "## Run image processing jobs\n"
   ]
  },
  {
   "cell_type": "code",
   "execution_count": 19,
   "metadata": {},
   "outputs": [
    {
     "name": "stderr",
     "output_type": "stream",
     "text": [
      "Processing:   0%|          | 0/3 [00:00<?, ?it/s]"
     ]
    },
    {
     "name": "stdout",
     "output_type": "stream",
     "text": [
      "using TorchFFT\n",
      "{'data_path': ['/datajoint-data/data/tobiasr/RN_OPI-1681_2023-05-25_scan9FI8ALGO_sess9FI8ALGO'], 'tiff_list': ['/datajoint-data/data/tobiasr/RN_OPI-1681_2023-05-25_scan9FI8ALGO_sess9FI8ALGO/scan9FI8ALGO_RN_OPI-1681_02029.tif']}\n",
      "tif\n",
      "** Found 1 tifs - converting to binary **\n",
      "time 8.83 sec. Wrote 4550 frames per binary for 1 planes\n",
      ">>>>>>>>>>>>>>>>>>>>> PLANE 0 <<<<<<<<<<<<<<<<<<<<<<\n",
      "NOTE: not registered / registration forced with ops['do_registration']>1\n",
      "      (no previous offsets to delete)\n",
      "NOTE: applying classifier /home/tobiasr/adamacs/user_data/s2p_classifiers/TR_V1_mini2p_classifier.npy\n",
      "----------- REGISTRATION\n",
      "NOTE: estimated bidiphase offset from data: -3 pixels\n",
      "Reference frame, 10.32 sec.\n"
     ]
    }
   ],
   "source": [
    "imaging.Processing.populate(**populate_settings)"
   ]
  },
  {
   "cell_type": "markdown",
   "metadata": {},
   "source": [
    "### Curation"
   ]
  },
  {
   "cell_type": "code",
   "execution_count": null,
   "metadata": {},
   "outputs": [],
   "source": [
    "imaging.Curation().create1_from_processing_task({'session_id': sessi, 'scan_id': scansi, \"paramset_idx\": selected_s2pparms_index, \"manual_curation\": 0})\n",
    "\n",
    "imaging.MotionCorrection.populate(**populate_settings)\n",
    "\n",
    "imaging.Segmentation.populate(**populate_settings)\n",
    "\n",
    "imaging.MaskClassification.populate(**populate_settings)\n",
    "\n",
    "imaging.Fluorescence.populate(**populate_settings)\n",
    "\n",
    "imaging.Activity.populate(**populate_settings)"
   ]
  },
  {
   "cell_type": "markdown",
   "metadata": {},
   "source": [
    "## Pose estimation"
   ]
  },
  {
   "cell_type": "code",
   "execution_count": null,
   "metadata": {},
   "outputs": [],
   "source": [
    "dj.Diagram(model) + dj.Diagram(equipment)"
   ]
  },
  {
   "cell_type": "code",
   "execution_count": null,
   "metadata": {},
   "outputs": [],
   "source": [
    "aux_setup_typestr = (scan.ScanInfo() & 'scan_id = \"' + scansi + '\"').fetch(\"userfunction_info\")[0]\n",
    "selected_DLCmodel = 'Head_orientation-NK-2023-07-17'\n",
    "print('- - - -')\n",
    "print('DLC pose estimation:', scansi)\n",
    "\n",
    "# insert TOP movie into model table\n",
    "scan_key = (scan.Scan & f'scan_id = \"{scansi}\"').fetch('KEY')[0] \n",
    "moviepath = str(list(pathlib.Path((scan.ScanPath() & scan_key).fetch(\"path\")[0]).glob(\"*top*.mp4*\"))[0])\n",
    "\n",
    "key = {'session_id': scan_key[\"session_id\"],\n",
    "    'recording_id': scan_key[\"scan_id\"], \n",
    "    'camera': \"mini2p1_top\", # Currently 'scanner' due to in equipment tables\n",
    "    }\n",
    "model.VideoRecording.insert1(key, skip_duplicates=True)\n",
    "\n",
    "key.update({'file_path': moviepath,\n",
    "            'file_id': 0})  #INCREMENT FILE_ID WITH CAM NUMBER?\n",
    "\n",
    "model.VideoRecording.File.insert1(key, ignore_extra_fields=True, skip_duplicates=True)\n",
    "model.RecordingInfo.populate()"
   ]
  },
  {
   "cell_type": "code",
   "execution_count": null,
   "metadata": {},
   "outputs": [],
   "source": [
    "\n",
    "model.VideoRecording.File * model.VideoRecording() &  'recording_id = \"' + scansi + '\"'"
   ]
  },
  {
   "cell_type": "code",
   "execution_count": null,
   "metadata": {},
   "outputs": [],
   "source": [
    "key =  (model.VideoRecording & f'recording_id=\"{scansi}\"').fetch1('KEY')\n",
    "key.update({'model_name': selected_DLCmodel, 'task_mode': 'trigger'}) \n",
    "key      \n"
   ]
  },
  {
   "cell_type": "code",
   "execution_count": null,
   "metadata": {},
   "outputs": [],
   "source": [
    "# INSERT pose estimation task\n",
    "model.PoseEstimationTask.insert_estimation_task(key, key[\"model_name\"], analyze_videos_params={'save_as_csv':True, 'dynamic':(True,.5,60)}) # dynamic cropping"
   ]
  },
  {
   "cell_type": "code",
   "execution_count": null,
   "metadata": {},
   "outputs": [],
   "source": [
    "model.PoseEstimationTask() * model.VideoRecording * model.VideoRecording.File()"
   ]
  },
  {
   "cell_type": "code",
   "execution_count": null,
   "metadata": {},
   "outputs": [],
   "source": [
    "model.RecordingInfo()"
   ]
  },
  {
   "cell_type": "code",
   "execution_count": null,
   "metadata": {},
   "outputs": [],
   "source": [
    "# run pose estimation\n",
    "model.PoseEstimation.populate()"
   ]
  },
  {
   "cell_type": "markdown",
   "metadata": {},
   "source": [
    "## Cleaning. Use with caution!"
   ]
  },
  {
   "cell_type": "code",
   "execution_count": null,
   "metadata": {},
   "outputs": [],
   "source": [
    "# subject.Subject.delete()\n",
    "# session.Session.delete()\n",
    "# imaging.Processing.delete()\n",
    "# imaging.Curation.delete()\n",
    "# event.Event.delete()\n",
    "# event.BehaviorRecording.delete()"
   ]
  },
  {
   "cell_type": "code",
   "execution_count": 19,
   "metadata": {},
   "outputs": [
    {
     "name": "stderr",
     "output_type": "stream",
     "text": [
      "[2023-11-09 18:15:11,796][INFO]: Deleting 2 rows from `tobiasr02_imaging`.`processing_task`\n",
      "[2023-11-09 18:15:15,290][INFO]: Deletes committed.\n"
     ]
    },
    {
     "data": {
      "text/plain": [
       "2"
      ]
     },
     "execution_count": 19,
     "metadata": {},
     "output_type": "execute_result"
    }
   ],
   "source": [
    "# (session.Session & \"session_id LIKE 'sess9FKJ0TLI%'\").delete()\n",
    "# (session.Session & \"session_datetime >= '2023-10-01'\").delete()\n",
    "(imaging.ProcessingTask & \"session_id LIKE 'sess9FI8ALGO%'\").delete()\n",
    "# (subject.Subject & \"subject = 'ROS-1571'\").delete()\n",
    "# # subject.Subject.delete()\n",
    "# # session.Session.delete()\n",
    "# # imaging.Processing.delete()\n",
    "# # imaging.Curation.delete()\n",
    "# # event.Event.delete()\n",
    "# # event.BehaviorRecording.delete()"
   ]
  },
  {
   "cell_type": "code",
   "execution_count": null,
   "metadata": {},
   "outputs": [],
   "source": [
    "session.Session.delete()"
   ]
  },
  {
   "cell_type": "code",
   "execution_count": null,
   "metadata": {},
   "outputs": [],
   "source": [
    "# session.Session.drop()\n",
    "# scan.Scan.drop()\n",
    "# imaging.Processing.drop()\n",
    "# imaging.Curation.drop()"
   ]
  }
 ],
 "metadata": {
  "kernelspec": {
   "display_name": "datajoint-DLCbackup",
   "language": "python",
   "name": "python3"
  },
  "language_info": {
   "codemirror_mode": {
    "name": "ipython",
    "version": 3
   },
   "file_extension": ".py",
   "mimetype": "text/x-python",
   "name": "python",
   "nbconvert_exporter": "python",
   "pygments_lexer": "ipython3",
   "version": "3.8.16"
  }
 },
 "nbformat": 4,
 "nbformat_minor": 2
}
