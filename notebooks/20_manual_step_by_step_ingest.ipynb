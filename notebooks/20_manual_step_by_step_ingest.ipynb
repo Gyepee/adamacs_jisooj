{
 "cells": [
  {
   "cell_type": "markdown",
   "metadata": {},
   "source": [
    "# Manual ingest workflow, bypassing GUI"
   ]
  },
  {
   "cell_type": "markdown",
   "metadata": {},
   "source": [
    "## Login\n",
    "\n",
    "Either log in via a local config file (see [01_pipeline](./01_pipeline.ipynb)), or enter login information manually. If you are don't have your login information, contact the administrator.\n"
   ]
  },
  {
   "cell_type": "code",
   "execution_count": 1,
   "metadata": {},
   "outputs": [
    {
     "name": "stderr",
     "output_type": "stream",
     "text": [
      "[2023-12-04 14:47:43,692][INFO]: Connecting tobiasr@172.26.128.53:3306\n",
      "[2023-12-04 14:47:43,739][INFO]: Connected tobiasr@172.26.128.53:3306\n"
     ]
    },
    {
     "data": {
      "text/plain": [
       "'0.14.1'"
      ]
     },
     "execution_count": 1,
     "metadata": {},
     "output_type": "execute_result"
    }
   ],
   "source": [
    "import os\n",
    "# change to the upper level folder to detect dj_local_conf.json\n",
    "if os.path.basename(os.getcwd())=='notebooks': os.chdir('..')\n",
    "assert os.path.basename(os.getcwd())=='adamacs', (\"Please move to the main directory\")\n",
    "from adamacs.pipeline import subject, session, equipment, surgery, event, trial, imaging, behavior, model\n",
    "from adamacs.ingest import session as isess\n",
    "from adamacs.ingest import behavior as ibe\n",
    "import pathlib\n",
    "from natsort import natsorted, ns\n",
    "import datajoint as dj\n",
    "from rspace_client.eln import eln\n",
    "import pandas as pd\n",
    "import numpy as np\n",
    "import matplotlib.pyplot as plt\n",
    "from importlib.metadata import version\n",
    "dj.__version__"
   ]
  },
  {
   "cell_type": "markdown",
   "metadata": {},
   "source": [
    "### RSpace connection"
   ]
  },
  {
   "cell_type": "code",
   "execution_count": 2,
   "metadata": {},
   "outputs": [
    {
     "name": "stdout",
     "output_type": "stream",
     "text": [
      "{'message': 'OK', 'rspaceVersion': '1.93.0'}\n"
     ]
    },
    {
     "data": {
      "text/plain": [
       "'2.5.0'"
      ]
     },
     "execution_count": 2,
     "metadata": {},
     "output_type": "execute_result"
    }
   ],
   "source": [
    "URL=dj.config['custom'].get('rspace_URL')\n",
    "API_KEY=dj.config['custom'].get('rspace_API_key')\n",
    "api = eln.ELNClient(URL, API_KEY)\n",
    "print(api.get_status())\n",
    "version('rspace_client')\n"
   ]
  },
  {
   "cell_type": "code",
   "execution_count": 14,
   "metadata": {},
   "outputs": [
    {
     "name": "stdout",
     "output_type": "stream",
     "text": [
      "[[]]\n"
     ]
    }
   ],
   "source": [
    "# ### get names and IDs of animal follders in the \"Experiments\" Rspace directory\n",
    "# folders = api.list_folder_tree()\n",
    "# experiments_ids = []\n",
    "# for record in folders['records']:\n",
    "#     if record['name'] == 'Experiments':\n",
    "#         experiments_ids.append(record['id'])\n",
    "# # print(folders)\n",
    "# names_and_ids = []\n",
    "# subfolders = api.list_folder_tree(experiments_ids[0])\n",
    "# names_and_ids.append([(record['name'], record['id']) for record in subfolders['records']])\n",
    "# print(names_and_ids)"
   ]
  },
  {
   "cell_type": "code",
   "execution_count": 13,
   "metadata": {},
   "outputs": [
    {
     "ename": "ApiError",
     "evalue": "Error code: 405, error message: <!DOCTYPE html>\n<html>\n<head>\n<title>An error has occurred</title>\n<link rel=\"stylesheet\" media=\"all\"\n\thref=\"/styles/simplicity/theme.css\" />\n\t<link href=\"/styles/rs-global.css.e29eced41ce38404b01fdb55dcfbd494.css\" rel=\"stylesheet\">\n</head>\n\n<body id=\"error\">\n\t<div id=\"page\">\n\t\t<div id=\"content\" class=\"clearfix\">\n\t\t\t<div id=\"main\">\n\t\t\t\t<h1>\n\t\t\t\t\tSorry, we couldn't take you to the page you requested</h1>\n\t\t\t\t</div>\n\t\t</div>\n\t</div>\n</body>\n</html>\n",
     "output_type": "error",
     "traceback": [
      "\u001b[0;31m---------------------------------------------------------------------------\u001b[0m",
      "\u001b[0;31mHTTPError\u001b[0m                                 Traceback (most recent call last)",
      "File \u001b[0;32m~/miniconda3/envs/datajoint-DLCbackup/lib/python3.8/site-packages/rspace_client/client_base.py:76\u001b[0m, in \u001b[0;36mClientBase._handle_response\u001b[0;34m(response)\u001b[0m\n\u001b[1;32m     75\u001b[0m \u001b[38;5;28;01mtry\u001b[39;00m:\n\u001b[0;32m---> 76\u001b[0m     \u001b[43mresponse\u001b[49m\u001b[38;5;241;43m.\u001b[39;49m\u001b[43mraise_for_status\u001b[49m\u001b[43m(\u001b[49m\u001b[43m)\u001b[49m\n\u001b[1;32m     78\u001b[0m     \u001b[38;5;28;01mif\u001b[39;00m ClientBase\u001b[38;5;241m.\u001b[39m_responseContainsJson(response):\n",
      "File \u001b[0;32m~/miniconda3/envs/datajoint-DLCbackup/lib/python3.8/site-packages/requests/models.py:1021\u001b[0m, in \u001b[0;36mResponse.raise_for_status\u001b[0;34m(self)\u001b[0m\n\u001b[1;32m   1020\u001b[0m \u001b[38;5;28;01mif\u001b[39;00m http_error_msg:\n\u001b[0;32m-> 1021\u001b[0m     \u001b[38;5;28;01mraise\u001b[39;00m HTTPError(http_error_msg, response\u001b[38;5;241m=\u001b[39m\u001b[38;5;28mself\u001b[39m)\n",
      "\u001b[0;31mHTTPError\u001b[0m: 405 Client Error: 405 for url: https://rspace.uni-bonn.de/api/v1/folders",
      "\nDuring handling of the above exception, another exception occurred:\n",
      "\u001b[0;31mApiError\u001b[0m                                  Traceback (most recent call last)",
      "Input \u001b[0;32mIn [13]\u001b[0m, in \u001b[0;36m<cell line: 1>\u001b[0;34m()\u001b[0m\n\u001b[0;32m----> 1\u001b[0m \u001b[43mapi\u001b[49m\u001b[38;5;241;43m.\u001b[39;49m\u001b[43mcreate_folder\u001b[49m\u001b[43m(\u001b[49m\u001b[43mname\u001b[49m\u001b[38;5;241;43m=\u001b[39;49m\u001b[38;5;124;43mf\u001b[39;49m\u001b[38;5;124;43m\"\u001b[39;49m\u001b[38;5;124;43mtest\u001b[39;49m\u001b[38;5;124;43m\"\u001b[39;49m\u001b[43m,\u001b[49m\u001b[43m \u001b[49m\u001b[43mparent_folder_id\u001b[49m\u001b[38;5;241;43m=\u001b[39;49m\u001b[38;5;241;43m23795\u001b[39;49m\u001b[43m,\u001b[49m\u001b[43m \u001b[49m\u001b[43mnotebook\u001b[49m\u001b[38;5;241;43m=\u001b[39;49m\u001b[38;5;28;43;01mTrue\u001b[39;49;00m\u001b[43m)\u001b[49m\n",
      "File \u001b[0;32m~/miniconda3/envs/datajoint-DLCbackup/lib/python3.8/site-packages/rspace_client/eln/eln.py:787\u001b[0m, in \u001b[0;36mELNClient.create_folder\u001b[0;34m(self, name, parent_folder_id, notebook)\u001b[0m\n\u001b[1;32m    784\u001b[0m     numeric_folder_id \u001b[38;5;241m=\u001b[39m \u001b[38;5;28mself\u001b[39m\u001b[38;5;241m.\u001b[39m_get_numeric_record_id(parent_folder_id)\n\u001b[1;32m    785\u001b[0m     data[\u001b[38;5;124m\"\u001b[39m\u001b[38;5;124mparentFolderId\u001b[39m\u001b[38;5;124m\"\u001b[39m] \u001b[38;5;241m=\u001b[39m numeric_folder_id\n\u001b[0;32m--> 787\u001b[0m \u001b[38;5;28;01mreturn\u001b[39;00m \u001b[38;5;28;43mself\u001b[39;49m\u001b[38;5;241;43m.\u001b[39;49m\u001b[43mretrieve_api_results\u001b[49m\u001b[43m(\u001b[49m\u001b[38;5;124;43m\"\u001b[39;49m\u001b[38;5;124;43m/folders\u001b[39;49m\u001b[38;5;124;43m\"\u001b[39;49m\u001b[43m,\u001b[49m\u001b[43m \u001b[49m\u001b[43mrequest_type\u001b[49m\u001b[38;5;241;43m=\u001b[39;49m\u001b[38;5;124;43m\"\u001b[39;49m\u001b[38;5;124;43mPOST\u001b[39;49m\u001b[38;5;124;43m\"\u001b[39;49m\u001b[43m,\u001b[49m\u001b[43m \u001b[49m\u001b[43mparams\u001b[49m\u001b[38;5;241;43m=\u001b[39;49m\u001b[43mdata\u001b[49m\u001b[43m)\u001b[49m\n",
      "File \u001b[0;32m~/miniconda3/envs/datajoint-DLCbackup/lib/python3.8/site-packages/rspace_client/client_base.py:142\u001b[0m, in \u001b[0;36mClientBase.retrieve_api_results\u001b[0;34m(self, endpoint, params, content_type, request_type)\u001b[0m\n\u001b[1;32m    135\u001b[0m     \u001b[38;5;28;01melse\u001b[39;00m:\n\u001b[1;32m    136\u001b[0m         \u001b[38;5;28;01mraise\u001b[39;00m \u001b[38;5;167;01mValueError\u001b[39;00m(\n\u001b[1;32m    137\u001b[0m             \u001b[38;5;124m\"\u001b[39m\u001b[38;5;124mExpected GET / PUT / POST / DELETE request type, received \u001b[39m\u001b[38;5;132;01m{}\u001b[39;00m\u001b[38;5;124m instead\u001b[39m\u001b[38;5;124m\"\u001b[39m\u001b[38;5;241m.\u001b[39mformat(\n\u001b[1;32m    138\u001b[0m                 request_type\n\u001b[1;32m    139\u001b[0m             )\n\u001b[1;32m    140\u001b[0m         )\n\u001b[0;32m--> 142\u001b[0m     \u001b[38;5;28;01mreturn\u001b[39;00m \u001b[38;5;28;43mself\u001b[39;49m\u001b[38;5;241;43m.\u001b[39;49m\u001b[43m_handle_response\u001b[49m\u001b[43m(\u001b[49m\u001b[43mresponse\u001b[49m\u001b[43m)\u001b[49m\n\u001b[1;32m    143\u001b[0m \u001b[38;5;28;01mexcept\u001b[39;00m requests\u001b[38;5;241m.\u001b[39mexceptions\u001b[38;5;241m.\u001b[39mConnectionError \u001b[38;5;28;01mas\u001b[39;00m e:\n\u001b[1;32m    144\u001b[0m     \u001b[38;5;28;01mraise\u001b[39;00m ClientBase\u001b[38;5;241m.\u001b[39mConnectionError(e)\n",
      "File \u001b[0;32m~/miniconda3/envs/datajoint-DLCbackup/lib/python3.8/site-packages/rspace_client/client_base.py:94\u001b[0m, in \u001b[0;36mClientBase._handle_response\u001b[0;34m(response)\u001b[0m\n\u001b[1;32m     90\u001b[0m \u001b[38;5;28;01melse\u001b[39;00m:\n\u001b[1;32m     91\u001b[0m     error \u001b[38;5;241m=\u001b[39m \u001b[38;5;124m\"\u001b[39m\u001b[38;5;124mError code: \u001b[39m\u001b[38;5;132;01m{}\u001b[39;00m\u001b[38;5;124m, error message: \u001b[39m\u001b[38;5;132;01m{}\u001b[39;00m\u001b[38;5;124m\"\u001b[39m\u001b[38;5;241m.\u001b[39mformat(\n\u001b[1;32m     92\u001b[0m         response\u001b[38;5;241m.\u001b[39mstatus_code, response\u001b[38;5;241m.\u001b[39mtext\n\u001b[1;32m     93\u001b[0m     )\n\u001b[0;32m---> 94\u001b[0m \u001b[38;5;28;01mraise\u001b[39;00m ClientBase\u001b[38;5;241m.\u001b[39mApiError(error, response_status_code\u001b[38;5;241m=\u001b[39mresponse\u001b[38;5;241m.\u001b[39mstatus_code)\n",
      "\u001b[0;31mApiError\u001b[0m: Error code: 405, error message: <!DOCTYPE html>\n<html>\n<head>\n<title>An error has occurred</title>\n<link rel=\"stylesheet\" media=\"all\"\n\thref=\"/styles/simplicity/theme.css\" />\n\t<link href=\"/styles/rs-global.css.e29eced41ce38404b01fdb55dcfbd494.css\" rel=\"stylesheet\">\n</head>\n\n<body id=\"error\">\n\t<div id=\"page\">\n\t\t<div id=\"content\" class=\"clearfix\">\n\t\t\t<div id=\"main\">\n\t\t\t\t<h1>\n\t\t\t\t\tSorry, we couldn't take you to the page you requested</h1>\n\t\t\t\t</div>\n\t\t</div>\n\t</div>\n</body>\n</html>\n"
     ]
    }
   ],
   "source": [
    "\n",
    "api.create_folder(name=f\"test\", parent_folder_id=23795, notebook=True)\n"
   ]
  },
  {
   "cell_type": "code",
   "execution_count": 6,
   "metadata": {},
   "outputs": [],
   "source": [
    "new_doc = api.create_document(name=f\"test3\", parent_folder_id=experiments_ids[0])"
   ]
  },
  {
   "cell_type": "code",
   "execution_count": 7,
   "metadata": {},
   "outputs": [
    {
     "data": {
      "text/plain": [
       "{'totalHits': 799,\n",
       " 'pageNumber': 0,\n",
       " 'documents': [{'id': 163400,\n",
       "   'globalId': 'SD163400',\n",
       "   'name': '2023-11-30_sess9FLCRI59',\n",
       "   'created': '2023-11-30T10:44:19.718Z',\n",
       "   'lastModified': '2023-11-30T10:51:00.482Z',\n",
       "   'parentFolderId': None,\n",
       "   'signed': False,\n",
       "   'tags': None,\n",
       "   'tagMetaData': None,\n",
       "   'form': {'id': 5,\n",
       "    'globalId': 'FM5',\n",
       "    'stableId': '1596118135085null',\n",
       "    'version': 0,\n",
       "    'name': 'Basic Document',\n",
       "    'tags': None,\n",
       "    'formState': 'PUBLISHED',\n",
       "    'accessControl': {'ownerPermissionType': 'WRITE',\n",
       "     'groupPermissionType': 'NONE',\n",
       "     'worldPermissionType': 'READ'},\n",
       "    'iconId': -1,\n",
       "    '_links': []},\n",
       "   'owner': {'id': 720907,\n",
       "    'username': 'lekrem',\n",
       "    'email': 'lekrem@uni-bonn.de',\n",
       "    'firstName': 'Leon',\n",
       "    'lastName': 'Kremers',\n",
       "    'homeFolderId': 35935,\n",
       "    'workbenchId': None,\n",
       "    'hasPiRole': False,\n",
       "    'hasSysAdminRole': False,\n",
       "    '_links': []},\n",
       "   '_links': [{'link': 'https://rspace.uni-bonn.de/api/v1/documents/163400',\n",
       "     'rel': 'self'}]},\n",
       "  {'id': 163394,\n",
       "   'globalId': 'SD163394',\n",
       "   'name': '2023-11-30_sess9FLCR6IQ',\n",
       "   'created': '2023-11-30T10:41:35.906Z',\n",
       "   'lastModified': '2023-11-30T10:50:42.668Z',\n",
       "   'parentFolderId': None,\n",
       "   'signed': False,\n",
       "   'tags': None,\n",
       "   'tagMetaData': None,\n",
       "   'form': {'id': 5,\n",
       "    'globalId': 'FM5',\n",
       "    'stableId': '1596118135085null',\n",
       "    'version': 0,\n",
       "    'name': 'Basic Document',\n",
       "    'tags': None,\n",
       "    'formState': 'PUBLISHED',\n",
       "    'accessControl': {'ownerPermissionType': 'WRITE',\n",
       "     'groupPermissionType': 'NONE',\n",
       "     'worldPermissionType': 'READ'},\n",
       "    'iconId': -1,\n",
       "    '_links': []},\n",
       "   'owner': {'id': 720907,\n",
       "    'username': 'lekrem',\n",
       "    'email': 'lekrem@uni-bonn.de',\n",
       "    'firstName': 'Leon',\n",
       "    'lastName': 'Kremers',\n",
       "    'homeFolderId': 35935,\n",
       "    'workbenchId': None,\n",
       "    'hasPiRole': False,\n",
       "    'hasSysAdminRole': False,\n",
       "    '_links': []},\n",
       "   '_links': [{'link': 'https://rspace.uni-bonn.de/api/v1/documents/163394',\n",
       "     'rel': 'self'}]},\n",
       "  {'id': 163409,\n",
       "   'globalId': 'SD163409',\n",
       "   'name': '2023-30-11_sess9FLCSA7Y',\n",
       "   'created': '2023-11-30T10:49:08.132Z',\n",
       "   'lastModified': '2023-11-30T10:50:25.801Z',\n",
       "   'parentFolderId': None,\n",
       "   'signed': False,\n",
       "   'tags': None,\n",
       "   'tagMetaData': None,\n",
       "   'form': {'id': 5,\n",
       "    'globalId': 'FM5',\n",
       "    'stableId': '1596118135085null',\n",
       "    'version': 0,\n",
       "    'name': 'Basic Document',\n",
       "    'tags': None,\n",
       "    'formState': 'PUBLISHED',\n",
       "    'accessControl': {'ownerPermissionType': 'WRITE',\n",
       "     'groupPermissionType': 'NONE',\n",
       "     'worldPermissionType': 'READ'},\n",
       "    'iconId': -1,\n",
       "    '_links': []},\n",
       "   'owner': {'id': 720907,\n",
       "    'username': 'lekrem',\n",
       "    'email': 'lekrem@uni-bonn.de',\n",
       "    'firstName': 'Leon',\n",
       "    'lastName': 'Kremers',\n",
       "    'homeFolderId': 35935,\n",
       "    'workbenchId': None,\n",
       "    'hasPiRole': False,\n",
       "    'hasSysAdminRole': False,\n",
       "    '_links': []},\n",
       "   '_links': [{'link': 'https://rspace.uni-bonn.de/api/v1/documents/163409',\n",
       "     'rel': 'self'}]},\n",
       "  {'id': 163406,\n",
       "   'globalId': 'SD163406',\n",
       "   'name': '2023-30-11_sess9FLCS0BK',\n",
       "   'created': '2023-11-30T10:47:19.113Z',\n",
       "   'lastModified': '2023-11-30T10:49:04.107Z',\n",
       "   'parentFolderId': None,\n",
       "   'signed': False,\n",
       "   'tags': None,\n",
       "   'tagMetaData': None,\n",
       "   'form': {'id': 5,\n",
       "    'globalId': 'FM5',\n",
       "    'stableId': '1596118135085null',\n",
       "    'version': 0,\n",
       "    'name': 'Basic Document',\n",
       "    'tags': None,\n",
       "    'formState': 'PUBLISHED',\n",
       "    'accessControl': {'ownerPermissionType': 'WRITE',\n",
       "     'groupPermissionType': 'NONE',\n",
       "     'worldPermissionType': 'READ'},\n",
       "    'iconId': -1,\n",
       "    '_links': []},\n",
       "   'owner': {'id': 720907,\n",
       "    'username': 'lekrem',\n",
       "    'email': 'lekrem@uni-bonn.de',\n",
       "    'firstName': 'Leon',\n",
       "    'lastName': 'Kremers',\n",
       "    'homeFolderId': 35935,\n",
       "    'workbenchId': None,\n",
       "    'hasPiRole': False,\n",
       "    'hasSysAdminRole': False,\n",
       "    '_links': []},\n",
       "   '_links': [{'link': 'https://rspace.uni-bonn.de/api/v1/documents/163406',\n",
       "     'rel': 'self'}]},\n",
       "  {'id': 163403,\n",
       "   'globalId': 'SD163403',\n",
       "   'name': '2023-11-30_macroscope',\n",
       "   'created': '2023-11-30T10:45:36.232Z',\n",
       "   'lastModified': '2023-11-30T10:47:04.213Z',\n",
       "   'parentFolderId': None,\n",
       "   'signed': False,\n",
       "   'tags': None,\n",
       "   'tagMetaData': None,\n",
       "   'form': {'id': 5,\n",
       "    'globalId': 'FM5',\n",
       "    'stableId': '1596118135085null',\n",
       "    'version': 0,\n",
       "    'name': 'Basic Document',\n",
       "    'tags': None,\n",
       "    'formState': 'PUBLISHED',\n",
       "    'accessControl': {'ownerPermissionType': 'WRITE',\n",
       "     'groupPermissionType': 'NONE',\n",
       "     'worldPermissionType': 'READ'},\n",
       "    'iconId': -1,\n",
       "    '_links': []},\n",
       "   'owner': {'id': 720907,\n",
       "    'username': 'lekrem',\n",
       "    'email': 'lekrem@uni-bonn.de',\n",
       "    'firstName': 'Leon',\n",
       "    'lastName': 'Kremers',\n",
       "    'homeFolderId': 35935,\n",
       "    'workbenchId': None,\n",
       "    'hasPiRole': False,\n",
       "    'hasSysAdminRole': False,\n",
       "    '_links': []},\n",
       "   '_links': [{'link': 'https://rspace.uni-bonn.de/api/v1/documents/163403',\n",
       "     'rel': 'self'}]},\n",
       "  {'id': 163389,\n",
       "   'globalId': 'SD163389',\n",
       "   'name': '2023-11-30_macroscope',\n",
       "   'created': '2023-11-30T10:38:21.299Z',\n",
       "   'lastModified': '2023-11-30T10:40:51.401Z',\n",
       "   'parentFolderId': None,\n",
       "   'signed': False,\n",
       "   'tags': None,\n",
       "   'tagMetaData': None,\n",
       "   'form': {'id': 5,\n",
       "    'globalId': 'FM5',\n",
       "    'stableId': '1596118135085null',\n",
       "    'version': 0,\n",
       "    'name': 'Basic Document',\n",
       "    'tags': None,\n",
       "    'formState': 'PUBLISHED',\n",
       "    'accessControl': {'ownerPermissionType': 'WRITE',\n",
       "     'groupPermissionType': 'NONE',\n",
       "     'worldPermissionType': 'READ'},\n",
       "    'iconId': -1,\n",
       "    '_links': []},\n",
       "   'owner': {'id': 720907,\n",
       "    'username': 'lekrem',\n",
       "    'email': 'lekrem@uni-bonn.de',\n",
       "    'firstName': 'Leon',\n",
       "    'lastName': 'Kremers',\n",
       "    'homeFolderId': 35935,\n",
       "    'workbenchId': None,\n",
       "    'hasPiRole': False,\n",
       "    'hasSysAdminRole': False,\n",
       "    '_links': []},\n",
       "   '_links': [{'link': 'https://rspace.uni-bonn.de/api/v1/documents/163389',\n",
       "     'rel': 'self'}]},\n",
       "  {'id': 163262,\n",
       "   'globalId': 'SD163262',\n",
       "   'name': '2023-11-29_TetOGC6xCamk2a',\n",
       "   'created': '2023-11-29T14:09:28.161Z',\n",
       "   'lastModified': '2023-11-29T15:26:04.828Z',\n",
       "   'parentFolderId': None,\n",
       "   'signed': False,\n",
       "   'tags': None,\n",
       "   'tagMetaData': None,\n",
       "   'form': {'id': 5,\n",
       "    'globalId': 'FM5',\n",
       "    'stableId': '1596118135085null',\n",
       "    'version': 0,\n",
       "    'name': 'Basic Document',\n",
       "    'tags': None,\n",
       "    'formState': 'PUBLISHED',\n",
       "    'accessControl': {'ownerPermissionType': 'WRITE',\n",
       "     'groupPermissionType': 'NONE',\n",
       "     'worldPermissionType': 'READ'},\n",
       "    'iconId': -1,\n",
       "    '_links': []},\n",
       "   'owner': {'id': 688164,\n",
       "    'username': 'lkue1',\n",
       "    'email': 'lkue1@uni-bonn.de',\n",
       "    'firstName': 'Laura',\n",
       "    'lastName': 'Kück',\n",
       "    'homeFolderId': 35013,\n",
       "    'workbenchId': None,\n",
       "    'hasPiRole': False,\n",
       "    'hasSysAdminRole': False,\n",
       "    '_links': []},\n",
       "   '_links': [{'link': 'https://rspace.uni-bonn.de/api/v1/documents/163262',\n",
       "     'rel': 'self'}]},\n",
       "  {'id': 163220,\n",
       "   'globalId': 'SD163220',\n",
       "   'name': '2023-11-29_Habituation+Sac',\n",
       "   'created': '2023-11-29T14:04:14.251Z',\n",
       "   'lastModified': '2023-11-29T14:09:17.641Z',\n",
       "   'parentFolderId': None,\n",
       "   'signed': False,\n",
       "   'tags': None,\n",
       "   'tagMetaData': None,\n",
       "   'form': {'id': 5,\n",
       "    'globalId': 'FM5',\n",
       "    'stableId': '1596118135085null',\n",
       "    'version': 0,\n",
       "    'name': 'Basic Document',\n",
       "    'tags': None,\n",
       "    'formState': 'PUBLISHED',\n",
       "    'accessControl': {'ownerPermissionType': 'WRITE',\n",
       "     'groupPermissionType': 'NONE',\n",
       "     'worldPermissionType': 'READ'},\n",
       "    'iconId': -1,\n",
       "    '_links': []},\n",
       "   'owner': {'id': 688164,\n",
       "    'username': 'lkue1',\n",
       "    'email': 'lkue1@uni-bonn.de',\n",
       "    'firstName': 'Laura',\n",
       "    'lastName': 'Kück',\n",
       "    'homeFolderId': 35013,\n",
       "    'workbenchId': None,\n",
       "    'hasPiRole': False,\n",
       "    'hasSysAdminRole': False,\n",
       "    '_links': []},\n",
       "   '_links': [{'link': 'https://rspace.uni-bonn.de/api/v1/documents/163220',\n",
       "     'rel': 'self'}]},\n",
       "  {'id': 163251,\n",
       "   'globalId': 'SD163251',\n",
       "   'name': '2023-11-23_CW-Surgery',\n",
       "   'created': '2023-11-29T14:07:19.894Z',\n",
       "   'lastModified': '2023-11-29T14:08:59.400Z',\n",
       "   'parentFolderId': None,\n",
       "   'signed': False,\n",
       "   'tags': None,\n",
       "   'tagMetaData': None,\n",
       "   'form': {'id': 5,\n",
       "    'globalId': 'FM5',\n",
       "    'stableId': '1596118135085null',\n",
       "    'version': 0,\n",
       "    'name': 'Basic Document',\n",
       "    'tags': None,\n",
       "    'formState': 'PUBLISHED',\n",
       "    'accessControl': {'ownerPermissionType': 'WRITE',\n",
       "     'groupPermissionType': 'NONE',\n",
       "     'worldPermissionType': 'READ'},\n",
       "    'iconId': -1,\n",
       "    '_links': []},\n",
       "   'owner': {'id': 688164,\n",
       "    'username': 'lkue1',\n",
       "    'email': 'lkue1@uni-bonn.de',\n",
       "    'firstName': 'Laura',\n",
       "    'lastName': 'Kück',\n",
       "    'homeFolderId': 35013,\n",
       "    'workbenchId': None,\n",
       "    'hasPiRole': False,\n",
       "    'hasSysAdminRole': False,\n",
       "    '_links': []},\n",
       "   '_links': [{'link': 'https://rspace.uni-bonn.de/api/v1/documents/163251',\n",
       "     'rel': 'self'}]},\n",
       "  {'id': 162523,\n",
       "   'globalId': 'SD162523',\n",
       "   'name': '2023-11-27_bench2p',\n",
       "   'created': '2023-11-27T15:46:59.022Z',\n",
       "   'lastModified': '2023-11-27T15:57:27.340Z',\n",
       "   'parentFolderId': None,\n",
       "   'signed': False,\n",
       "   'tags': None,\n",
       "   'tagMetaData': None,\n",
       "   'form': {'id': 5,\n",
       "    'globalId': 'FM5',\n",
       "    'stableId': '1596118135085null',\n",
       "    'version': 0,\n",
       "    'name': 'Basic Document',\n",
       "    'tags': None,\n",
       "    'formState': 'PUBLISHED',\n",
       "    'accessControl': {'ownerPermissionType': 'WRITE',\n",
       "     'groupPermissionType': 'NONE',\n",
       "     'worldPermissionType': 'READ'},\n",
       "    'iconId': -1,\n",
       "    '_links': []},\n",
       "   'owner': {'id': 720906,\n",
       "    'username': 'nkra1',\n",
       "    'email': 'nkra1@uni-bonn.de',\n",
       "    'firstName': 'Natalia',\n",
       "    'lastName': 'Krasilshchikova ',\n",
       "    'homeFolderId': 35904,\n",
       "    'workbenchId': None,\n",
       "    'hasPiRole': False,\n",
       "    'hasSysAdminRole': False,\n",
       "    '_links': []},\n",
       "   '_links': [{'link': 'https://rspace.uni-bonn.de/api/v1/documents/162523',\n",
       "     'rel': 'self'}]},\n",
       "  {'id': 162263,\n",
       "   'globalId': 'SD162263',\n",
       "   'name': '2023-11-24_widefield',\n",
       "   'created': '2023-11-27T10:55:05.403Z',\n",
       "   'lastModified': '2023-11-27T10:57:56.506Z',\n",
       "   'parentFolderId': None,\n",
       "   'signed': False,\n",
       "   'tags': None,\n",
       "   'tagMetaData': None,\n",
       "   'form': {'id': 5,\n",
       "    'globalId': 'FM5',\n",
       "    'stableId': '1596118135085null',\n",
       "    'version': 0,\n",
       "    'name': 'Basic Document',\n",
       "    'tags': None,\n",
       "    'formState': 'PUBLISHED',\n",
       "    'accessControl': {'ownerPermissionType': 'WRITE',\n",
       "     'groupPermissionType': 'NONE',\n",
       "     'worldPermissionType': 'READ'},\n",
       "    'iconId': -1,\n",
       "    '_links': []},\n",
       "   'owner': {'id': 720906,\n",
       "    'username': 'nkra1',\n",
       "    'email': 'nkra1@uni-bonn.de',\n",
       "    'firstName': 'Natalia',\n",
       "    'lastName': 'Krasilshchikova ',\n",
       "    'homeFolderId': 35904,\n",
       "    'workbenchId': None,\n",
       "    'hasPiRole': False,\n",
       "    'hasSysAdminRole': False,\n",
       "    '_links': []},\n",
       "   '_links': [{'link': 'https://rspace.uni-bonn.de/api/v1/documents/162263',\n",
       "     'rel': 'self'}]},\n",
       "  {'id': 162259,\n",
       "   'globalId': 'SD162259',\n",
       "   'name': '2023-11-24_widefield',\n",
       "   'created': '2023-11-27T10:53:46.608Z',\n",
       "   'lastModified': '2023-11-27T10:54:50.493Z',\n",
       "   'parentFolderId': None,\n",
       "   'signed': False,\n",
       "   'tags': None,\n",
       "   'tagMetaData': None,\n",
       "   'form': {'id': 5,\n",
       "    'globalId': 'FM5',\n",
       "    'stableId': '1596118135085null',\n",
       "    'version': 0,\n",
       "    'name': 'Basic Document',\n",
       "    'tags': None,\n",
       "    'formState': 'PUBLISHED',\n",
       "    'accessControl': {'ownerPermissionType': 'WRITE',\n",
       "     'groupPermissionType': 'NONE',\n",
       "     'worldPermissionType': 'READ'},\n",
       "    'iconId': -1,\n",
       "    '_links': []},\n",
       "   'owner': {'id': 720906,\n",
       "    'username': 'nkra1',\n",
       "    'email': 'nkra1@uni-bonn.de',\n",
       "    'firstName': 'Natalia',\n",
       "    'lastName': 'Krasilshchikova ',\n",
       "    'homeFolderId': 35904,\n",
       "    'workbenchId': None,\n",
       "    'hasPiRole': False,\n",
       "    'hasSysAdminRole': False,\n",
       "    '_links': []},\n",
       "   '_links': [{'link': 'https://rspace.uni-bonn.de/api/v1/documents/162259',\n",
       "     'rel': 'self'}]},\n",
       "  {'id': 162254,\n",
       "   'globalId': 'SD162254',\n",
       "   'name': '2023_11_27_bench2p',\n",
       "   'created': '2023-11-27T10:51:58.299Z',\n",
       "   'lastModified': '2023-11-27T10:53:39.103Z',\n",
       "   'parentFolderId': None,\n",
       "   'signed': False,\n",
       "   'tags': None,\n",
       "   'tagMetaData': None,\n",
       "   'form': {'id': 5,\n",
       "    'globalId': 'FM5',\n",
       "    'stableId': '1596118135085null',\n",
       "    'version': 0,\n",
       "    'name': 'Basic Document',\n",
       "    'tags': None,\n",
       "    'formState': 'PUBLISHED',\n",
       "    'accessControl': {'ownerPermissionType': 'WRITE',\n",
       "     'groupPermissionType': 'NONE',\n",
       "     'worldPermissionType': 'READ'},\n",
       "    'iconId': -1,\n",
       "    '_links': []},\n",
       "   'owner': {'id': 720906,\n",
       "    'username': 'nkra1',\n",
       "    'email': 'nkra1@uni-bonn.de',\n",
       "    'firstName': 'Natalia',\n",
       "    'lastName': 'Krasilshchikova ',\n",
       "    'homeFolderId': 35904,\n",
       "    'workbenchId': None,\n",
       "    'hasPiRole': False,\n",
       "    'hasSysAdminRole': False,\n",
       "    '_links': []},\n",
       "   '_links': [{'link': 'https://rspace.uni-bonn.de/api/v1/documents/162254',\n",
       "     'rel': 'self'}]},\n",
       "  {'id': 161045,\n",
       "   'globalId': 'SD161045',\n",
       "   'name': '2023-11-21_TetOGC6xCamk2a',\n",
       "   'created': '2023-11-21T14:49:08.210Z',\n",
       "   'lastModified': '2023-11-21T15:03:25.598Z',\n",
       "   'parentFolderId': None,\n",
       "   'signed': False,\n",
       "   'tags': None,\n",
       "   'tagMetaData': None,\n",
       "   'form': {'id': 5,\n",
       "    'globalId': 'FM5',\n",
       "    'stableId': '1596118135085null',\n",
       "    'version': 0,\n",
       "    'name': 'Basic Document',\n",
       "    'tags': None,\n",
       "    'formState': 'PUBLISHED',\n",
       "    'accessControl': {'ownerPermissionType': 'WRITE',\n",
       "     'groupPermissionType': 'NONE',\n",
       "     'worldPermissionType': 'READ'},\n",
       "    'iconId': -1,\n",
       "    '_links': []},\n",
       "   'owner': {'id': 688164,\n",
       "    'username': 'lkue1',\n",
       "    'email': 'lkue1@uni-bonn.de',\n",
       "    'firstName': 'Laura',\n",
       "    'lastName': 'Kück',\n",
       "    'homeFolderId': 35013,\n",
       "    'workbenchId': None,\n",
       "    'hasPiRole': False,\n",
       "    'hasSysAdminRole': False,\n",
       "    '_links': []},\n",
       "   '_links': [{'link': 'https://rspace.uni-bonn.de/api/v1/documents/161045',\n",
       "     'rel': 'self'}]},\n",
       "  {'id': 160677,\n",
       "   'globalId': 'SD160677',\n",
       "   'name': 'Metadata',\n",
       "   'created': '2023-11-21T09:27:39.382Z',\n",
       "   'lastModified': '2023-11-21T14:07:22.823Z',\n",
       "   'parentFolderId': None,\n",
       "   'signed': False,\n",
       "   'tags': None,\n",
       "   'tagMetaData': None,\n",
       "   'form': {'id': 5,\n",
       "    'globalId': 'FM5',\n",
       "    'stableId': '1596118135085null',\n",
       "    'version': 0,\n",
       "    'name': 'Basic Document',\n",
       "    'tags': None,\n",
       "    'formState': 'PUBLISHED',\n",
       "    'accessControl': {'ownerPermissionType': 'WRITE',\n",
       "     'groupPermissionType': 'NONE',\n",
       "     'worldPermissionType': 'READ'},\n",
       "    'iconId': -1,\n",
       "    '_links': []},\n",
       "   'owner': {'id': 720906,\n",
       "    'username': 'nkra1',\n",
       "    'email': 'nkra1@uni-bonn.de',\n",
       "    'firstName': 'Natalia',\n",
       "    'lastName': 'Krasilshchikova ',\n",
       "    'homeFolderId': 35904,\n",
       "    'workbenchId': None,\n",
       "    'hasPiRole': False,\n",
       "    'hasSysAdminRole': False,\n",
       "    '_links': []},\n",
       "   '_links': [{'link': 'https://rspace.uni-bonn.de/api/v1/documents/160677',\n",
       "     'rel': 'self'}]},\n",
       "  {'id': 159896,\n",
       "   'globalId': 'SD159896',\n",
       "   'name': '2023-11-17_sacrifice',\n",
       "   'created': '2023-11-17T07:54:36.651Z',\n",
       "   'lastModified': '2023-11-21T08:19:10.116Z',\n",
       "   'parentFolderId': None,\n",
       "   'signed': False,\n",
       "   'tags': None,\n",
       "   'tagMetaData': None,\n",
       "   'form': {'id': 5,\n",
       "    'globalId': 'FM5',\n",
       "    'stableId': '1596118135085null',\n",
       "    'version': 0,\n",
       "    'name': 'Basic Document',\n",
       "    'tags': None,\n",
       "    'formState': 'PUBLISHED',\n",
       "    'accessControl': {'ownerPermissionType': 'WRITE',\n",
       "     'groupPermissionType': 'NONE',\n",
       "     'worldPermissionType': 'READ'},\n",
       "    'iconId': -1,\n",
       "    '_links': []},\n",
       "   'owner': {'id': 720907,\n",
       "    'username': 'lekrem',\n",
       "    'email': 'lekrem@uni-bonn.de',\n",
       "    'firstName': 'Leon',\n",
       "    'lastName': 'Kremers',\n",
       "    'homeFolderId': 35935,\n",
       "    'workbenchId': None,\n",
       "    'hasPiRole': False,\n",
       "    'hasSysAdminRole': False,\n",
       "    '_links': []},\n",
       "   '_links': [{'link': 'https://rspace.uni-bonn.de/api/v1/documents/159896',\n",
       "     'rel': 'self'}]},\n",
       "  {'id': 160636,\n",
       "   'globalId': 'SD160636',\n",
       "   'name': '2023-11-14_retinotopic_mapping',\n",
       "   'created': '2023-11-21T08:16:49.835Z',\n",
       "   'lastModified': '2023-11-21T08:19:01.897Z',\n",
       "   'parentFolderId': None,\n",
       "   'signed': False,\n",
       "   'tags': None,\n",
       "   'tagMetaData': None,\n",
       "   'form': {'id': 5,\n",
       "    'globalId': 'FM5',\n",
       "    'stableId': '1596118135085null',\n",
       "    'version': 0,\n",
       "    'name': 'Basic Document',\n",
       "    'tags': None,\n",
       "    'formState': 'PUBLISHED',\n",
       "    'accessControl': {'ownerPermissionType': 'WRITE',\n",
       "     'groupPermissionType': 'NONE',\n",
       "     'worldPermissionType': 'READ'},\n",
       "    'iconId': -1,\n",
       "    '_links': []},\n",
       "   'owner': {'id': 720907,\n",
       "    'username': 'lekrem',\n",
       "    'email': 'lekrem@uni-bonn.de',\n",
       "    'firstName': 'Leon',\n",
       "    'lastName': 'Kremers',\n",
       "    'homeFolderId': 35935,\n",
       "    'workbenchId': None,\n",
       "    'hasPiRole': False,\n",
       "    'hasSysAdminRole': False,\n",
       "    '_links': []},\n",
       "   '_links': [{'link': 'https://rspace.uni-bonn.de/api/v1/documents/160636',\n",
       "     'rel': 'self'}]},\n",
       "  {'id': 160631,\n",
       "   'globalId': 'SD160631',\n",
       "   'name': '2023-10-14_retinotopic_mapping',\n",
       "   'created': '2023-11-21T08:06:03.498Z',\n",
       "   'lastModified': '2023-11-21T08:16:39.542Z',\n",
       "   'parentFolderId': None,\n",
       "   'signed': False,\n",
       "   'tags': None,\n",
       "   'tagMetaData': None,\n",
       "   'form': {'id': 5,\n",
       "    'globalId': 'FM5',\n",
       "    'stableId': '1596118135085null',\n",
       "    'version': 0,\n",
       "    'name': 'Basic Document',\n",
       "    'tags': None,\n",
       "    'formState': 'PUBLISHED',\n",
       "    'accessControl': {'ownerPermissionType': 'WRITE',\n",
       "     'groupPermissionType': 'NONE',\n",
       "     'worldPermissionType': 'READ'},\n",
       "    'iconId': -1,\n",
       "    '_links': []},\n",
       "   'owner': {'id': 720907,\n",
       "    'username': 'lekrem',\n",
       "    'email': 'lekrem@uni-bonn.de',\n",
       "    'firstName': 'Leon',\n",
       "    'lastName': 'Kremers',\n",
       "    'homeFolderId': 35935,\n",
       "    'workbenchId': None,\n",
       "    'hasPiRole': False,\n",
       "    'hasSysAdminRole': False,\n",
       "    '_links': []},\n",
       "   '_links': [{'link': 'https://rspace.uni-bonn.de/api/v1/documents/160631',\n",
       "     'rel': 'self'}]},\n",
       "  {'id': 160628,\n",
       "   'globalId': 'SD160628',\n",
       "   'name': '2023-11-21_sacrifice',\n",
       "   'created': '2023-11-21T08:03:53.703Z',\n",
       "   'lastModified': '2023-11-21T08:05:22.166Z',\n",
       "   'parentFolderId': None,\n",
       "   'signed': False,\n",
       "   'tags': None,\n",
       "   'tagMetaData': None,\n",
       "   'form': {'id': 5,\n",
       "    'globalId': 'FM5',\n",
       "    'stableId': '1596118135085null',\n",
       "    'version': 0,\n",
       "    'name': 'Basic Document',\n",
       "    'tags': None,\n",
       "    'formState': 'PUBLISHED',\n",
       "    'accessControl': {'ownerPermissionType': 'WRITE',\n",
       "     'groupPermissionType': 'NONE',\n",
       "     'worldPermissionType': 'READ'},\n",
       "    'iconId': -1,\n",
       "    '_links': []},\n",
       "   'owner': {'id': 720907,\n",
       "    'username': 'lekrem',\n",
       "    'email': 'lekrem@uni-bonn.de',\n",
       "    'firstName': 'Leon',\n",
       "    'lastName': 'Kremers',\n",
       "    'homeFolderId': 35935,\n",
       "    'workbenchId': None,\n",
       "    'hasPiRole': False,\n",
       "    'hasSysAdminRole': False,\n",
       "    '_links': []},\n",
       "   '_links': [{'link': 'https://rspace.uni-bonn.de/api/v1/documents/160628',\n",
       "     'rel': 'self'}]},\n",
       "  {'id': 160623,\n",
       "   'globalId': 'SD160623',\n",
       "   'name': '2023-11-20_Bench2P',\n",
       "   'created': '2023-11-21T08:01:29.939Z',\n",
       "   'lastModified': '2023-11-21T08:05:13.965Z',\n",
       "   'parentFolderId': None,\n",
       "   'signed': False,\n",
       "   'tags': None,\n",
       "   'tagMetaData': None,\n",
       "   'form': {'id': 5,\n",
       "    'globalId': 'FM5',\n",
       "    'stableId': '1596118135085null',\n",
       "    'version': 0,\n",
       "    'name': 'Basic Document',\n",
       "    'tags': None,\n",
       "    'formState': 'PUBLISHED',\n",
       "    'accessControl': {'ownerPermissionType': 'WRITE',\n",
       "     'groupPermissionType': 'NONE',\n",
       "     'worldPermissionType': 'READ'},\n",
       "    'iconId': -1,\n",
       "    '_links': []},\n",
       "   'owner': {'id': 720907,\n",
       "    'username': 'lekrem',\n",
       "    'email': 'lekrem@uni-bonn.de',\n",
       "    'firstName': 'Leon',\n",
       "    'lastName': 'Kremers',\n",
       "    'homeFolderId': 35935,\n",
       "    'workbenchId': None,\n",
       "    'hasPiRole': False,\n",
       "    'hasSysAdminRole': False,\n",
       "    '_links': []},\n",
       "   '_links': [{'link': 'https://rspace.uni-bonn.de/api/v1/documents/160623',\n",
       "     'rel': 'self'}]}],\n",
       " '_links': [{'link': 'https://rspace.uni-bonn.de/api/v1/documents?pageNumber=1',\n",
       "   'rel': 'next'},\n",
       "  {'link': 'https://rspace.uni-bonn.de/api/v1/documents?pageNumber=39',\n",
       "   'rel': 'last'},\n",
       "  {'link': 'https://rspace.uni-bonn.de/api/v1/documents?pageNumber=0',\n",
       "   'rel': 'self'}]}"
      ]
     },
     "execution_count": 7,
     "metadata": {},
     "output_type": "execute_result"
    }
   ],
   "source": [
    "new_doc"
   ]
  },
  {
   "cell_type": "code",
   "execution_count": 15,
   "metadata": {},
   "outputs": [
    {
     "ename": "ApiError",
     "evalue": "Error code: 405, error message: <!DOCTYPE html>\n<html>\n<head>\n<title>An error has occurred</title>\n<link rel=\"stylesheet\" media=\"all\"\n\thref=\"/styles/simplicity/theme.css\" />\n\t<link href=\"/styles/rs-global.css.e29eced41ce38404b01fdb55dcfbd494.css\" rel=\"stylesheet\">\n</head>\n\n<body id=\"error\">\n\t<div id=\"page\">\n\t\t<div id=\"content\" class=\"clearfix\">\n\t\t\t<div id=\"main\">\n\t\t\t\t<h1>\n\t\t\t\t\tSorry, we couldn't take you to the page you requested</h1>\n\t\t\t\t</div>\n\t\t</div>\n\t</div>\n</body>\n</html>\n",
     "output_type": "error",
     "traceback": [
      "\u001b[0;31m---------------------------------------------------------------------------\u001b[0m",
      "\u001b[0;31mHTTPError\u001b[0m                                 Traceback (most recent call last)",
      "File \u001b[0;32m~/miniconda3/envs/datajoint-DLCbackup/lib/python3.8/site-packages/rspace_client/client_base.py:76\u001b[0m, in \u001b[0;36mClientBase._handle_response\u001b[0;34m(response)\u001b[0m\n\u001b[1;32m     75\u001b[0m \u001b[38;5;28;01mtry\u001b[39;00m:\n\u001b[0;32m---> 76\u001b[0m     \u001b[43mresponse\u001b[49m\u001b[38;5;241;43m.\u001b[39;49m\u001b[43mraise_for_status\u001b[49m\u001b[43m(\u001b[49m\u001b[43m)\u001b[49m\n\u001b[1;32m     78\u001b[0m     \u001b[38;5;28;01mif\u001b[39;00m ClientBase\u001b[38;5;241m.\u001b[39m_responseContainsJson(response):\n",
      "File \u001b[0;32m~/miniconda3/envs/datajoint-DLCbackup/lib/python3.8/site-packages/requests/models.py:1021\u001b[0m, in \u001b[0;36mResponse.raise_for_status\u001b[0;34m(self)\u001b[0m\n\u001b[1;32m   1020\u001b[0m \u001b[38;5;28;01mif\u001b[39;00m http_error_msg:\n\u001b[0;32m-> 1021\u001b[0m     \u001b[38;5;28;01mraise\u001b[39;00m HTTPError(http_error_msg, response\u001b[38;5;241m=\u001b[39m\u001b[38;5;28mself\u001b[39m)\n",
      "\u001b[0;31mHTTPError\u001b[0m: 405 Client Error: 405 for url: https://rspace.uni-bonn.de/api/v1/folders",
      "\nDuring handling of the above exception, another exception occurred:\n",
      "\u001b[0;31mApiError\u001b[0m                                  Traceback (most recent call last)",
      "Input \u001b[0;32mIn [15]\u001b[0m, in \u001b[0;36m<cell line: 4>\u001b[0;34m()\u001b[0m\n\u001b[1;32m      1\u001b[0m userID \u001b[38;5;241m=\u001b[39m \u001b[38;5;124m\"\u001b[39m\u001b[38;5;124mXX\u001b[39m\u001b[38;5;124m\"\u001b[39m\n\u001b[1;32m      2\u001b[0m animalID \u001b[38;5;241m=\u001b[39m \u001b[38;5;124m\"\u001b[39m\u001b[38;5;124mYY\u001b[39m\u001b[38;5;124m\"\u001b[39m\n\u001b[0;32m----> 4\u001b[0m new_folder \u001b[38;5;241m=\u001b[39m \u001b[43mapi\u001b[49m\u001b[38;5;241;43m.\u001b[39;49m\u001b[43mcreate_folder\u001b[49m\u001b[43m(\u001b[49m\u001b[43mname\u001b[49m\u001b[38;5;241;43m=\u001b[39;49m\u001b[38;5;124;43mf\u001b[39;49m\u001b[38;5;124;43m\"\u001b[39;49m\u001b[38;5;132;43;01m{\u001b[39;49;00m\u001b[43muserID\u001b[49m\u001b[38;5;132;43;01m}\u001b[39;49;00m\u001b[38;5;124;43m_\u001b[39;49m\u001b[38;5;132;43;01m{\u001b[39;49;00m\u001b[43manimalID\u001b[49m\u001b[38;5;132;43;01m}\u001b[39;49;00m\u001b[38;5;124;43m\"\u001b[39;49m\u001b[43m,\u001b[49m\u001b[43m \u001b[49m\u001b[43mparent_folder_id\u001b[49m\u001b[38;5;241;43m=\u001b[39;49m\u001b[43mexperiments_ids\u001b[49m\u001b[43m[\u001b[49m\u001b[38;5;241;43m0\u001b[39;49m\u001b[43m]\u001b[49m\u001b[43m,\u001b[49m\u001b[43m \u001b[49m\u001b[43mnotebook\u001b[49m\u001b[38;5;241;43m=\u001b[39;49m\u001b[38;5;28;43;01mTrue\u001b[39;49;00m\u001b[43m)\u001b[49m\n\u001b[1;32m      5\u001b[0m save_folder_id \u001b[38;5;241m=\u001b[39m new_folder[\u001b[38;5;124m'\u001b[39m\u001b[38;5;124mid\u001b[39m\u001b[38;5;124m'\u001b[39m]\n",
      "File \u001b[0;32m~/miniconda3/envs/datajoint-DLCbackup/lib/python3.8/site-packages/rspace_client/eln/eln.py:787\u001b[0m, in \u001b[0;36mELNClient.create_folder\u001b[0;34m(self, name, parent_folder_id, notebook)\u001b[0m\n\u001b[1;32m    784\u001b[0m     numeric_folder_id \u001b[38;5;241m=\u001b[39m \u001b[38;5;28mself\u001b[39m\u001b[38;5;241m.\u001b[39m_get_numeric_record_id(parent_folder_id)\n\u001b[1;32m    785\u001b[0m     data[\u001b[38;5;124m\"\u001b[39m\u001b[38;5;124mparentFolderId\u001b[39m\u001b[38;5;124m\"\u001b[39m] \u001b[38;5;241m=\u001b[39m numeric_folder_id\n\u001b[0;32m--> 787\u001b[0m \u001b[38;5;28;01mreturn\u001b[39;00m \u001b[38;5;28;43mself\u001b[39;49m\u001b[38;5;241;43m.\u001b[39;49m\u001b[43mretrieve_api_results\u001b[49m\u001b[43m(\u001b[49m\u001b[38;5;124;43m\"\u001b[39;49m\u001b[38;5;124;43m/folders\u001b[39;49m\u001b[38;5;124;43m\"\u001b[39;49m\u001b[43m,\u001b[49m\u001b[43m \u001b[49m\u001b[43mrequest_type\u001b[49m\u001b[38;5;241;43m=\u001b[39;49m\u001b[38;5;124;43m\"\u001b[39;49m\u001b[38;5;124;43mPOST\u001b[39;49m\u001b[38;5;124;43m\"\u001b[39;49m\u001b[43m,\u001b[49m\u001b[43m \u001b[49m\u001b[43mparams\u001b[49m\u001b[38;5;241;43m=\u001b[39;49m\u001b[43mdata\u001b[49m\u001b[43m)\u001b[49m\n",
      "File \u001b[0;32m~/miniconda3/envs/datajoint-DLCbackup/lib/python3.8/site-packages/rspace_client/client_base.py:142\u001b[0m, in \u001b[0;36mClientBase.retrieve_api_results\u001b[0;34m(self, endpoint, params, content_type, request_type)\u001b[0m\n\u001b[1;32m    135\u001b[0m     \u001b[38;5;28;01melse\u001b[39;00m:\n\u001b[1;32m    136\u001b[0m         \u001b[38;5;28;01mraise\u001b[39;00m \u001b[38;5;167;01mValueError\u001b[39;00m(\n\u001b[1;32m    137\u001b[0m             \u001b[38;5;124m\"\u001b[39m\u001b[38;5;124mExpected GET / PUT / POST / DELETE request type, received \u001b[39m\u001b[38;5;132;01m{}\u001b[39;00m\u001b[38;5;124m instead\u001b[39m\u001b[38;5;124m\"\u001b[39m\u001b[38;5;241m.\u001b[39mformat(\n\u001b[1;32m    138\u001b[0m                 request_type\n\u001b[1;32m    139\u001b[0m             )\n\u001b[1;32m    140\u001b[0m         )\n\u001b[0;32m--> 142\u001b[0m     \u001b[38;5;28;01mreturn\u001b[39;00m \u001b[38;5;28;43mself\u001b[39;49m\u001b[38;5;241;43m.\u001b[39;49m\u001b[43m_handle_response\u001b[49m\u001b[43m(\u001b[49m\u001b[43mresponse\u001b[49m\u001b[43m)\u001b[49m\n\u001b[1;32m    143\u001b[0m \u001b[38;5;28;01mexcept\u001b[39;00m requests\u001b[38;5;241m.\u001b[39mexceptions\u001b[38;5;241m.\u001b[39mConnectionError \u001b[38;5;28;01mas\u001b[39;00m e:\n\u001b[1;32m    144\u001b[0m     \u001b[38;5;28;01mraise\u001b[39;00m ClientBase\u001b[38;5;241m.\u001b[39mConnectionError(e)\n",
      "File \u001b[0;32m~/miniconda3/envs/datajoint-DLCbackup/lib/python3.8/site-packages/rspace_client/client_base.py:94\u001b[0m, in \u001b[0;36mClientBase._handle_response\u001b[0;34m(response)\u001b[0m\n\u001b[1;32m     90\u001b[0m \u001b[38;5;28;01melse\u001b[39;00m:\n\u001b[1;32m     91\u001b[0m     error \u001b[38;5;241m=\u001b[39m \u001b[38;5;124m\"\u001b[39m\u001b[38;5;124mError code: \u001b[39m\u001b[38;5;132;01m{}\u001b[39;00m\u001b[38;5;124m, error message: \u001b[39m\u001b[38;5;132;01m{}\u001b[39;00m\u001b[38;5;124m\"\u001b[39m\u001b[38;5;241m.\u001b[39mformat(\n\u001b[1;32m     92\u001b[0m         response\u001b[38;5;241m.\u001b[39mstatus_code, response\u001b[38;5;241m.\u001b[39mtext\n\u001b[1;32m     93\u001b[0m     )\n\u001b[0;32m---> 94\u001b[0m \u001b[38;5;28;01mraise\u001b[39;00m ClientBase\u001b[38;5;241m.\u001b[39mApiError(error, response_status_code\u001b[38;5;241m=\u001b[39mresponse\u001b[38;5;241m.\u001b[39mstatus_code)\n",
      "\u001b[0;31mApiError\u001b[0m: Error code: 405, error message: <!DOCTYPE html>\n<html>\n<head>\n<title>An error has occurred</title>\n<link rel=\"stylesheet\" media=\"all\"\n\thref=\"/styles/simplicity/theme.css\" />\n\t<link href=\"/styles/rs-global.css.e29eced41ce38404b01fdb55dcfbd494.css\" rel=\"stylesheet\">\n</head>\n\n<body id=\"error\">\n\t<div id=\"page\">\n\t\t<div id=\"content\" class=\"clearfix\">\n\t\t\t<div id=\"main\">\n\t\t\t\t<h1>\n\t\t\t\t\tSorry, we couldn't take you to the page you requested</h1>\n\t\t\t\t</div>\n\t\t</div>\n\t</div>\n</body>\n</html>\n"
     ]
    }
   ],
   "source": [
    "userID = \"XX\"\n",
    "animalID = \"YY\"\n",
    "\n",
    "new_folder = api.create_folder(name=f\"{userID}_{animalID}\", parent_folder_id=experiments_ids[0], notebook=True)\n",
    "save_folder_id = new_folder['id']"
   ]
  },
  {
   "cell_type": "code",
   "execution_count": 16,
   "metadata": {},
   "outputs": [
    {
     "ename": "NameError",
     "evalue": "name 'lient' is not defined",
     "output_type": "error",
     "traceback": [
      "\u001b[0;31m---------------------------------------------------------------------------\u001b[0m",
      "\u001b[0;31mNameError\u001b[0m                                 Traceback (most recent call last)",
      "Input \u001b[0;32mIn [16]\u001b[0m, in \u001b[0;36m<cell line: 1>\u001b[0;34m()\u001b[0m\n\u001b[0;32m----> 1\u001b[0m \u001b[43mlient\u001b[49m\u001b[38;5;241m.\u001b[39mupload_file(file_to_upload, r[\u001b[38;5;124m\"\u001b[39m\u001b[38;5;124mid\u001b[39m\u001b[38;5;124m\"\u001b[39m], \u001b[38;5;124m\"\u001b[39m\u001b[38;5;124mfoodimg.jpg\u001b[39m\u001b[38;5;124m\"\u001b[39m)\n",
      "\u001b[0;31mNameError\u001b[0m: name 'lient' is not defined"
     ]
    }
   ],
   "source": [
    "api.upload_file(file_to_upload, r[\"id\"], \"foodimg.jpg\")"
   ]
  },
  {
   "cell_type": "markdown",
   "metadata": {},
   "source": [
    "## Activation\n",
    "Next, import from `adamacs.pipeline` to activate the relevant schema."
   ]
  },
  {
   "cell_type": "code",
   "execution_count": null,
   "metadata": {},
   "outputs": [],
   "source": [
    "from adamacs.utility import *\n",
    "# from adamacs.nbgui import *\n",
    "from adamacs.pipeline import subject, session, surgery, scan, equipment, model"
   ]
  },
  {
   "cell_type": "markdown",
   "metadata": {},
   "source": [
    "Assign easy names for relevant tables"
   ]
  },
  {
   "cell_type": "code",
   "execution_count": null,
   "metadata": {},
   "outputs": [],
   "source": [
    "sub, lab, protocol, line, mutation, user, project, subject_genotype, subject_death = (\n",
    "    subject.Subject(), subject.Lab(), subject.Protocol(), subject.Line(), \n",
    "    subject.Mutation(), subject.User(), subject.Project(), subject.SubjectGenotype(), \n",
    "    subject.SubjectDeath()\n",
    "    )"
   ]
  },
  {
   "cell_type": "markdown",
   "metadata": {},
   "source": [
    "some helpers"
   ]
  },
  {
   "cell_type": "code",
   "execution_count": null,
   "metadata": {},
   "outputs": [],
   "source": [
    "from adamacs.helpers import dj_helpers as djh\n",
    "from adamacs.helpers import stack_helpers as sh"
   ]
  },
  {
   "cell_type": "markdown",
   "metadata": {},
   "source": [
    "## Parse directories"
   ]
  },
  {
   "cell_type": "code",
   "execution_count": null,
   "metadata": {},
   "outputs": [],
   "source": [
    "# get content of user directory\n",
    "import fnmatch\n",
    "dataroot = dj.config['custom']['exp_root_data_dir'][0]\n",
    "# dirs_root = [d for d in os.listdir(dataroot) if os.path.isdir(os.path.join(dataroot, d)) and '_' in d]\n",
    "dirs_root = [d for d in os.listdir(dataroot) if os.path.isdir(os.path.join(dataroot, d)) and fnmatch.fnmatch(d, 'LE*') and fnmatch.fnmatch(d, '*09*-*19*')]\n",
    "sorted_dirs_root = natsorted(dirs_root, key=djh.get_date_key_from_dir, reverse = True)\n",
    "sorted_dirs_root"
   ]
  },
  {
   "cell_type": "code",
   "execution_count": null,
   "metadata": {},
   "outputs": [],
   "source": [
    "# sessi = \"sess9FKW82R3\"\n",
    "# scansi = \"scan9FKW82R3\"\n",
    "sessi = \"sess9FK61CPU\"\n",
    "scansi = \"scan9FK61CPU\"\n",
    "\n",
    "# sessi = \"sess9FKSMYYS\"\n",
    "# scansi = \"scan9FKSMYYS\"\n",
    "\n",
    "# scan9FJ842C3\n",
    "# scan9FB2LN5C\n",
    "# scan_key      \n",
    "\n",
    "# scansi = \"scan9FKSMYYS\"\n",
    "\n",
    "# scan_key = (scan.Scan & f'scan_id = \"{scansi}\"').fetch('KEY')[0]\n",
    "# curation_key = (imaging.Curation & scan_key & 'curation_id=1').fetch1('KEY')\n",
    "# sessi = (scan.Scan & f'scan_id = \"{scansi}\"').fetch('session_id')[0]\n",
    "# session_key = (session.Session & f'session_id = \"{sessi}\"').fetch('KEY')[0]\n",
    "# aux_setup_typestr = (scan.ScanInfo() & scan_key).fetch(\"userfunction_info\")[0] # check setup type (not needed)\n",
    "# print(aux_setup_typestr)\n",
    "# print((scan.ScanPath & scan_key).fetch(\"path\")[0])"
   ]
  },
  {
   "cell_type": "markdown",
   "metadata": {},
   "source": [
    "## Session ingest"
   ]
  },
  {
   "cell_type": "code",
   "execution_count": null,
   "metadata": {},
   "outputs": [],
   "source": [
    "Project = project.fetch('project')\n",
    "Equipment = equipment.Equipment().fetch('scanner')\n",
    "Recording_Location = surgery.AnatomicalLocation().fetch('anatomical_location')\n",
    "s2pparm = imaging.ProcessingParamSet.fetch(\"paramset_idx\", \"paramset_desc\")\n",
    "DLCModels = model.Model.fetch(\"model_name\")\n",
    "\n",
    "print(\"Project\")\n",
    "print(project)\n",
    "\n",
    "print(\"Equipment\")\n",
    "print(Equipment)\n",
    "\n",
    "print(\"Recording_Location\")\n",
    "print(Recording_Location)\n",
    "\n",
    "print(\"s2pparm\")\n",
    "print(s2pparm)\n",
    "\n",
    "print(\"DLCModels\")\n",
    "print(DLCModels)"
   ]
  },
  {
   "cell_type": "markdown",
   "metadata": {},
   "source": [
    "### Ingest Session and Scan"
   ]
  },
  {
   "cell_type": "code",
   "execution_count": null,
   "metadata": {},
   "outputs": [],
   "source": [
    "isess.ingest_session_scan(sessi, verbose=True, project_key=\"rsc-functop\", equipment_key=\"mini2p_01\", location_key=\"RSCa\", software_key='ScanImage')\n",
    "session.SessionSameSite.update1({'session_id': sessi, 'same_site_id': sessi})\n"
   ]
  },
  {
   "cell_type": "code",
   "execution_count": null,
   "metadata": {},
   "outputs": [],
   "source": [
    "scan.ScanPath() & 'scan_id = \"' + scansi + '\"'\n"
   ]
  },
  {
   "cell_type": "code",
   "execution_count": null,
   "metadata": {},
   "outputs": [],
   "source": [
    "query = scan.ScanPath() & 'scan_id = \"' + scansi + '\"'\n",
    "dir_proc = query.fetch('path')[0]\n",
    "print(dir_proc)"
   ]
  },
  {
   "cell_type": "code",
   "execution_count": null,
   "metadata": {},
   "outputs": [],
   "source": [
    "# POPULATE!\n",
    "populate_settings = {'display_progress': True, 'suppress_errors': False, 'processes': 1}\n",
    "scan.ScanInfo.populate(**populate_settings) "
   ]
  },
  {
   "cell_type": "code",
   "execution_count": null,
   "metadata": {},
   "outputs": [],
   "source": [
    "\n",
    "scan.Scan * scan.ScanInfo * session.SessionSameSite * session.Session() & f'session_id = \"{sessi}\"'"
   ]
  },
  {
   "cell_type": "code",
   "execution_count": null,
   "metadata": {},
   "outputs": [],
   "source": [
    "imaging.ProcessingTask()"
   ]
  },
  {
   "cell_type": "code",
   "execution_count": null,
   "metadata": {},
   "outputs": [],
   "source": [
    "# push scan to ProcessingTask\n",
    "# TODO: handle multiscan concatenation from here?\n",
    "\n",
    "selected_s2pparms_index = 3\n",
    "imaging.ProcessingTask.insert1((sessi, scansi, selected_s2pparms_index, dir_proc, 'trigger'), skip_duplicates=True)"
   ]
  },
  {
   "cell_type": "code",
   "execution_count": null,
   "metadata": {},
   "outputs": [],
   "source": [
    "imaging.ProcessingTask()"
   ]
  },
  {
   "cell_type": "markdown",
   "metadata": {},
   "source": [
    "## Ingest AUX"
   ]
  },
  {
   "cell_type": "code",
   "execution_count": null,
   "metadata": {},
   "outputs": [],
   "source": [
    "aux_setup_typestr = (scan.ScanInfo() & 'scan_id = \"' + scansi + '\"').fetch(\"userfunction_info\")[0]    \n",
    "print(aux_setup_typestr)"
   ]
  },
  {
   "cell_type": "code",
   "execution_count": null,
   "metadata": {},
   "outputs": [],
   "source": [
    "ibe.ingest_aux(sessi,scansi,verbose=True, aux_setup_type=aux_setup_typestr)"
   ]
  },
  {
   "cell_type": "code",
   "execution_count": null,
   "metadata": {},
   "outputs": [],
   "source": [
    "(event.Event & 'scan_id = \"' + scansi + '\"' & 'event_type LIKE \"%;%\"')"
   ]
  },
  {
   "cell_type": "code",
   "execution_count": null,
   "metadata": {},
   "outputs": [],
   "source": [
    "ibe.get_and_ingest_trial_times(scansi, aux_setup_typestr) "
   ]
  },
  {
   "cell_type": "markdown",
   "metadata": {},
   "source": [
    "## Ingest BPOD\n"
   ]
  },
  {
   "cell_type": "code",
   "execution_count": null,
   "metadata": {},
   "outputs": [],
   "source": [
    "# aux_setup_typestr = (scan.ScanInfo() & 'scan_id = \"' + scansi + '\"').fetch(\"userfunction_info\")[0]    \n",
    "print(aux_setup_typestr)\n",
    "ibe.ingest_bpod(sessi,scansi,verbose=False, aux_setup_type=aux_setup_typestr)"
   ]
  },
  {
   "cell_type": "markdown",
   "metadata": {},
   "source": [
    "## Show events"
   ]
  },
  {
   "cell_type": "code",
   "execution_count": null,
   "metadata": {},
   "outputs": [],
   "source": [
    "trial.Trial() & 'scan_id = \"' + scansi + '\"'"
   ]
  },
  {
   "cell_type": "code",
   "execution_count": null,
   "metadata": {},
   "outputs": [],
   "source": [
    "scan_key = (scan.Scan & f'scan_id = \"{scansi}\"').fetch('KEY')[0]\n",
    "# (event.Event & 'scan_id = \"' + scansi + '\"' & 'event_type LIKE \"%PA%\"')\n",
    "(event.Event & scan_key & 'event_type LIKE \"%;%\"').fetch(order_by = 'event_end_time', format = \"frame\")\n"
   ]
  },
  {
   "cell_type": "code",
   "execution_count": null,
   "metadata": {},
   "outputs": [],
   "source": [
    "# Fetching data from the event.Event and trial.Trial tables\n",
    "event_data = (event.Event & scan_key).fetch('event_type', 'event_start_time', as_dict=True)\n",
    "trial_data = (trial.Trial & scan_key).fetch('trial_id', 'trial_type', 'trial_start_time', as_dict=True)\n",
    "\n",
    "djh.plot_event_trial_start_times(event_data, trial_data)"
   ]
  },
  {
   "cell_type": "markdown",
   "metadata": {},
   "source": [
    "### get BPOD object to play around"
   ]
  },
  {
   "cell_type": "code",
   "execution_count": null,
   "metadata": {},
   "outputs": [],
   "source": [
    "from adamacs.paths import get_imaging_root_data_dir, get_experiment_root_data_dir\n",
    "from adamacs.ingest import bpod\n",
    "from element_interface.utils import find_full_path\n",
    "\n",
    "scan_key = (scan.Scan & f'scan_id = \"{scansi}\"').fetch('KEY')[0]\n",
    "bpod_path_relative = (scan.ScanPath & scan_key).fetch(\"path\")[0]\n",
    "\n",
    "bpod_path_full = list(find_full_path(\n",
    "        get_experiment_root_data_dir(), bpod_path_relative\n",
    "        ).glob(\"*mat\"))[0]\n",
    "\n",
    "print(bpod_path_full)"
   ]
  },
  {
   "cell_type": "code",
   "execution_count": null,
   "metadata": {},
   "outputs": [],
   "source": [
    "bpod_object = bpod.Bpodfile(bpod_path_full)"
   ]
  },
  {
   "cell_type": "code",
   "execution_count": null,
   "metadata": {},
   "outputs": [],
   "source": [
    "bpod_object.session_data[\"Info\"]"
   ]
  },
  {
   "cell_type": "code",
   "execution_count": null,
   "metadata": {},
   "outputs": [],
   "source": [
    "bpod_object.session_data[\"MousePos\"]['PreStimDLC_live'][10]['right_ear']"
   ]
  },
  {
   "cell_type": "code",
   "execution_count": null,
   "metadata": {},
   "outputs": [],
   "source": [
    "bpod_object.session_data['RawEvents']['Trial'][4]['States']"
   ]
  },
  {
   "cell_type": "code",
   "execution_count": null,
   "metadata": {},
   "outputs": [],
   "source": [
    "bpod_object.trial_data[4]['States']"
   ]
  },
  {
   "cell_type": "code",
   "execution_count": null,
   "metadata": {},
   "outputs": [],
   "source": [
    "bpod_object.trial_data[3]['Events']"
   ]
  },
  {
   "cell_type": "code",
   "execution_count": null,
   "metadata": {},
   "outputs": [],
   "source": [
    "trials = bpod_object.trial_data\n",
    "SoftCode10_events = [(i, trial['Events'].get('SoftCode10')) for i, trial in enumerate(trials) if 'SoftCode10' in trial['Events']] # get all trials that have a BNC1Low event. Returns a list of tuples (trial number, event time)\n",
    "\n",
    "SoftCode10_events_times = [x[1] for x in SoftCode10_events]\n",
    "\n",
    "plt.hist(SoftCode10_events_times, edgecolor='black')\n",
    "\n",
    "plt.title('Histogram of softcode 10 event-to-trial-beginning time')\n",
    "plt.xlabel('[s]')\n",
    "plt.ylabel('Frequency')\n",
    "# plt.xlim([0, 1])\n",
    "plt.show()"
   ]
  },
  {
   "cell_type": "code",
   "execution_count": null,
   "metadata": {},
   "outputs": [],
   "source": [
    "trials = bpod_object.trial_data\n",
    "SoftCode15_events = [(i, trial['Events'].get('SoftCode15')) for i, trial in enumerate(trials) if 'SoftCode15' in trial['Events']] # get all trials that have a BNC1Low event. Returns a list of tuples (trial number, event time)\n",
    "\n",
    "SoftCode15_events_times = [x[1] for x in SoftCode15_events]\n",
    "\n",
    "plt.hist(SoftCode15_events_times, edgecolor='black')\n",
    "\n",
    "plt.title('Histogram of softcode 15 event-to-trial-beginning time')\n",
    "plt.xlabel('[s]')\n",
    "plt.ylabel('Frequency')\n",
    "# plt.xlim([0, 100])\n",
    "plt.show()"
   ]
  },
  {
   "cell_type": "code",
   "execution_count": null,
   "metadata": {},
   "outputs": [],
   "source": [
    "import matplotlib.pyplot as plt\n",
    "import numpy as np\n",
    "import seaborn as sns\n",
    "\n",
    "# Fetch trial data\n",
    "trials = bpod_object.trial_data\n",
    "\n",
    "# Fetch trial start timestamps\n",
    "bpod_trial = bpod_object.session_data[\"TrialStartTimestamp\"]\n",
    "\n",
    "WaitForPosTriggerSoftCode_events = [(trial['States'].get('WaitForPosTriggerSoftCode') if trial['States'].get('WaitForPosTriggerSoftCode') is not None else 0) + bpod_trial[i] for i, trial in enumerate(trials) if 'WaitForPosTriggerSoftCode' in trial['States']]\n",
    "WaitForPosTriggerSoftCode = [event[1] for event in WaitForPosTriggerSoftCode_events]\n",
    "\n",
    "CueDelayTrialCricket_events = [(trial['States'].get('CueDelayTrialCricket') if trial['States'].get('CueDelayTrialCricket') is not None else 0) + bpod_trial[i] for i, trial in enumerate(trials) if 'CueDelayTrialCricket' in trial['States']]\n",
    "CueDelayTrialCricket = [event[0] for event in CueDelayTrialCricket_events]\n",
    "\n",
    "CueDelay_events = [(trial['States'].get('CueDelay') if trial['States'].get('CueDelay') is not None else 0) + bpod_trial[i] for i, trial in enumerate(trials) if 'CueDelay' in trial['States']]\n",
    "CueDelay  = [event[0] for event in CueDelay_events]\n",
    "\n",
    "Drinking_events = [(trial['States'].get('Drinking') if trial['States'].get('Drinking') is not None else 0) + bpod_trial[i] for i, trial in enumerate(trials) if 'Drinking' in trial['States']]\n",
    "DrinkingResponse = [event[0] for event in Drinking_events]\n",
    "\n",
    "\n",
    "# Fetch all trials that have a BNC1Low event. Returns a list of tuples (trial number, event time)\n",
    "BNC1Low_events = [(i, trial['Events'].get('BNC1Low')) for i, trial in enumerate(trials) if 'BNC1Low' in trial['Events']]\n",
    "\n",
    "# Fetch shutter event start times\n",
    "AUX_shutter = (event.Event & 'scan_id = \"' + scansi + '\"' & 'event_type LIKE \"%shutter%\"').fetch(\"event_start_time\")\n",
    "\n",
    "# Fetch event start times for visual and tone events\n",
    "aux_vis = (event.Event & 'scan_id = \"' + scansi + '\"' & 'event_type LIKE \"%vis%\"').fetch(\"event_start_time\") \n",
    "aux_tone = (event.Event & 'scan_id = \"' + scansi + '\"' & 'event_type LIKE \"%tone%\"').fetch(\"event_start_time\") \n",
    "aux_reward = (event.Event & 'scan_id = \"' + scansi + '\"' & 'event_type LIKE \"%reward%\"').fetch(\"event_start_time\") \n",
    "\n",
    "# Adjust bpod_trial times\n",
    "\n",
    "# bpodoffset = (BNC1Low_events[0][1]  + bpod_trial[0]) \n",
    "\n",
    "bpodoffset = (WaitForPosTriggerSoftCode[0]) \n",
    "aux_offset = aux_vis[0] \n",
    "\n",
    "WaitForPosTriggerSoftCode = WaitForPosTriggerSoftCode - bpodoffset + aux_offset\n",
    "CueDelay = CueDelay - bpodoffset + aux_offset \n",
    "CueDelayTrialCricket = CueDelayTrialCricket - bpodoffset + aux_offset\n",
    "DrinkingResponse = DrinkingResponse - bpodoffset + aux_offset\n",
    "bpod_trial = bpod_trial - bpodoffset + aux_offset\n",
    "\n",
    "# # Adjust AUX times\n",
    "# aux_offset = aux_vis[0] \n",
    "\n",
    "# AUX_shutter = AUX_shutter - aux_offset #+  bpod_trial[1]\n",
    "# aux_vis = aux_vis - aux_offset #+  bpod_trial[1]\n",
    "# aux_tone    = aux_tone - aux_offset #+  bpod_trial[1]\n",
    "# aux_reward = aux_reward - aux_offset #+  bpod_trial[1]\n",
    "\n",
    "\n",
    "# Convert aux_tone, bpod_trial, and aux_vis values from seconds to deciseconds\n",
    "tone_timestamps = (aux_tone * 100).astype(int)\n",
    "trial_timestamps = (bpod_trial * 100).astype(int)\n",
    "vis_timestamps = (aux_vis * 100).astype(int)\n",
    "reward_timestamps = (aux_reward * 100).astype(int)\n",
    "WaitForPosTriggerSoftCode_timestamps = (np.array(WaitForPosTriggerSoftCode) * 100).astype(int)\n",
    "CueDelay_timestamps = (np.array(CueDelay) * 100).astype(int)\n",
    "CueDelayTrialCricket_timestamps = (np.array(CueDelayTrialCricket) * 100).astype(int)\n",
    "DrinkingResponse_timestamps = (np.array(DrinkingResponse) * 100).astype(int)\n",
    "\n",
    "# Create separate timebases for each event type\n",
    "timebase_tone = np.zeros(int(max(tone_timestamps.max(), trial_timestamps.max(), vis_timestamps.max(), reward_timestamps.max(), WaitForPosTriggerSoftCode_timestamps.max(), CueDelay_timestamps.max()) + 1))\n",
    "timebase_trial = np.zeros(int(max(tone_timestamps.max(), trial_timestamps.max(), vis_timestamps.max(), reward_timestamps.max(), WaitForPosTriggerSoftCode_timestamps.max(), CueDelay_timestamps.max()) + 1))\n",
    "timebase_vis = np.zeros(int(max(tone_timestamps.max(), trial_timestamps.max(), vis_timestamps.max(), reward_timestamps.max(), WaitForPosTriggerSoftCode_timestamps.max(), CueDelay_timestamps.max()) + 1))\n",
    "timebase_reward = np.zeros(int(max(tone_timestamps.max(), trial_timestamps.max(), vis_timestamps.max(), reward_timestamps.max(), WaitForPosTriggerSoftCode_timestamps.max(), CueDelay_timestamps.max()) + 1))\n",
    "timebase_WaitForPosTriggerSoftCode = np.zeros(int(max(tone_timestamps.max(), trial_timestamps.max(), vis_timestamps.max(), reward_timestamps.max(), WaitForPosTriggerSoftCode_timestamps.max(), CueDelay_timestamps.max()) + 1))\n",
    "timebase_CueDelay = np.zeros(int(max(tone_timestamps.max(), trial_timestamps.max(), vis_timestamps.max(), reward_timestamps.max(), WaitForPosTriggerSoftCode_timestamps.max(), CueDelay_timestamps.max()) + 1))\n",
    "timebase_CueDelayTrialCricket = np.zeros(int(max(tone_timestamps.max(), trial_timestamps.max(), vis_timestamps.max(), reward_timestamps.max(), WaitForPosTriggerSoftCode_timestamps.max(), CueDelay_timestamps.max()) + 1))\n",
    "DrinkResponse = np.zeros(int(max(tone_timestamps.max(), trial_timestamps.max(), vis_timestamps.max(), reward_timestamps.max(), WaitForPosTriggerSoftCode_timestamps.max(), CueDelay_timestamps.max()) + 1))\n",
    "\n",
    "\n",
    "# Set the timebase samples that correspond to the tone onsets, trial starts, and visual cue onsets to one\n",
    "# Each event has a duration of 100ms\n",
    "for timestamp in tone_timestamps:\n",
    "    timebase_tone[timestamp:timestamp+1] = 2\n",
    "for timestamp in trial_timestamps:\n",
    "    timebase_trial[timestamp:timestamp+1] = 3\n",
    "for timestamp in vis_timestamps:\n",
    "    timebase_vis[timestamp:timestamp+1] = 1\n",
    "for timestamp in reward_timestamps:\n",
    "    timebase_reward[timestamp:timestamp+1] = 4\n",
    "for timestamp in WaitForPosTriggerSoftCode_timestamps:\n",
    "    timebase_WaitForPosTriggerSoftCode[timestamp:timestamp+1] = 5\n",
    "for timestamp in CueDelay_timestamps:\n",
    "    timebase_CueDelay[timestamp:timestamp+1] = 6\n",
    "for timestamp in CueDelayTrialCricket_timestamps:\n",
    "    timebase_CueDelayTrialCricket[timestamp:timestamp+1] = 7  \n",
    "for timestamp in DrinkingResponse_timestamps:\n",
    "    DrinkResponse[timestamp:timestamp+1] = 8   \n",
    "\n",
    "# Set the style to 'dark_background'\n",
    "plt.style.use('dark_background')\n",
    "\n",
    "# Create a color palette\n",
    "colors = sns.color_palette(\"husl\", 8)\n",
    "\n",
    "# Create a figure with a width that fits the screen\n",
    "plt.figure(figsize=(50, 10))\n",
    "\n",
    "# Create tick plots with colors from the palette\n",
    "linelength = 0.7\n",
    "\n",
    "plt.eventplot(np.where(timebase_tone == 2)[0], lineoffsets=1, colors=colors[0], linelengths=linelength, label='AUX Tone onsets')\n",
    "plt.eventplot(np.where(timebase_vis == 1)[0], lineoffsets=2, colors=colors[1], linelengths=linelength, label='AUX Visual cue onsets')\n",
    "plt.eventplot(np.where(timebase_reward == 4)[0], lineoffsets=3, colors=colors[2], linelengths=linelength, label='AUX Reward onsets')\n",
    "plt.eventplot(np.where(timebase_trial == 3)[0], lineoffsets=4, colors=colors[3], linelengths=linelength, label='BPOD Trial starts')\n",
    "plt.eventplot(np.where(timebase_WaitForPosTriggerSoftCode == 5)[0], lineoffsets=5, colors=colors[4], linelengths=linelength, label='WaitForPosTriggerSoftCode')\n",
    "plt.eventplot(np.where(timebase_CueDelay == 6)[0], lineoffsets=6, colors=colors[5], linelengths=linelength, label='CueDelay')\n",
    "plt.eventplot(np.where(timebase_CueDelayTrialCricket == 7)[0], lineoffsets=7, colors=colors[6], linelengths=linelength, label='CueDelayTrialCricket') \n",
    "plt.eventplot(np.where(DrinkResponse == 8)[0], lineoffsets=8, colors=colors[7], linelengths=linelength, label='DrinkingResponse')\n",
    "\n",
    "plt.yticks([1, 2, 3, 4, 5, 6, 7, 8], ['AUX Tone onsets', 'AUX Visual cue_triggered', 'AUX Reward onsets', 'BPOD Trial starts', 'WaitForPosTriggerSoftCode', 'CueDelay', 'CueDelayTrialCricket', 'Drinking'])\n",
    "\n",
    "# Draw vertical lines where timebase_trial == 3\n",
    "\n",
    "for i in np.where(timebase_trial == 3)[0]:\n",
    "    plt.axvline(x=i, color='w', linestyle='--', linewidth=0.5, zorder=0)\n",
    "\n",
    "# Get the y-tick labels\n",
    "labels = plt.gca().get_yticklabels()\n",
    "\n",
    "# Find the labels to change\n",
    "for label in labels:\n",
    "    if label.get_text() == 'WaitForPosTriggerSoftCode' or label.get_text() == 'AUX Visual cue_triggered':\n",
    "        label.set_color('red')\n",
    "        label.set_fontweight('bold')\n",
    "    if label.get_text() == 'BPOD Trial starts':\n",
    "        label.set_color('green')\n",
    "        label.set_fontweight('bold')\n",
    "\n",
    "\n",
    "plt.legend()\n",
    "plt.xlim([71000, 81500])\n",
    "plt.show()"
   ]
  },
  {
   "cell_type": "markdown",
   "metadata": {},
   "source": [
    "## Run image processing jobs\n"
   ]
  },
  {
   "cell_type": "code",
   "execution_count": null,
   "metadata": {},
   "outputs": [],
   "source": [
    "populate_settings = {'display_progress': True, 'suppress_errors': False, 'processes': 1}\n",
    "imaging.Processing.populate(**populate_settings)"
   ]
  },
  {
   "cell_type": "markdown",
   "metadata": {},
   "source": []
  },
  {
   "cell_type": "code",
   "execution_count": null,
   "metadata": {},
   "outputs": [],
   "source": [
    "dj.Diagram(imaging) + dj.Diagram(scan)"
   ]
  },
  {
   "cell_type": "markdown",
   "metadata": {},
   "source": [
    "### Curation"
   ]
  },
  {
   "cell_type": "code",
   "execution_count": null,
   "metadata": {},
   "outputs": [],
   "source": [
    "samesite = 'sess9FK61CPU'\n",
    "key =  (session.SessionSameSite & f'same_site_id=\"{samesite}\"').fetch('KEY')\n",
    "# scan.Scan & key"
   ]
  },
  {
   "cell_type": "code",
   "execution_count": null,
   "metadata": {},
   "outputs": [],
   "source": [
    "\n",
    "populate_settings = {'display_progress': True, 'suppress_errors': False, 'processes': 1}\n",
    "\n"
   ]
  },
  {
   "cell_type": "markdown",
   "metadata": {},
   "source": [
    "### Creat a curation task for each entry in the imaging.Processing table"
   ]
  },
  {
   "cell_type": "code",
   "execution_count": null,
   "metadata": {},
   "outputs": [],
   "source": [
    "for processing_task in imaging.ProcessingTask():\n",
    "    # Extract necessary information from processing_task\n",
    "    # This depends on the structure of your Processing table\n",
    "    # For example, you might need the session_id and scan_id\n",
    "    session_id = processing_task['session_id']\n",
    "    scan_id = processing_task['scan_id']\n",
    "    imaging.Curation().create1_from_processing_task({'session_id': session_id, 'scan_id': scan_id, \"paramset_idx\": 3, \"manual_curation\": False})\n"
   ]
  },
  {
   "cell_type": "code",
   "execution_count": null,
   "metadata": {},
   "outputs": [],
   "source": [
    "### run trace populations"
   ]
  },
  {
   "cell_type": "code",
   "execution_count": null,
   "metadata": {},
   "outputs": [],
   "source": [
    "selected_s2pparms_index = 3\n",
    "\n",
    "# POPULATE!\n",
    "populate_settings = {'display_progress': True, 'suppress_errors': False, 'processes': 1}\n",
    "\n",
    "#imaging.Curation().create1_from_processing_task({'session_id': sessi, 'scan_id': scansi, \"paramset_idx\": selected_s2pparms_index, \"manual_curation\": 0})\n",
    "\n",
    "imaging.MotionCorrection.populate(**populate_settings)\n",
    "\n",
    "imaging.Segmentation.populate(**populate_settings)\n",
    "\n",
    "imaging.MaskClassification.populate(**populate_settings)\n"
   ]
  },
  {
   "cell_type": "code",
   "execution_count": null,
   "metadata": {},
   "outputs": [],
   "source": [
    "\n",
    "imaging.Fluorescence.populate(**populate_settings)\n"
   ]
  },
  {
   "cell_type": "code",
   "execution_count": null,
   "metadata": {},
   "outputs": [],
   "source": [
    "imaging.Activity.populate(**populate_settings)"
   ]
  },
  {
   "cell_type": "code",
   "execution_count": null,
   "metadata": {},
   "outputs": [],
   "source": [
    "print(imaging.Fluorescence.Trace.describe())"
   ]
  },
  {
   "cell_type": "code",
   "execution_count": null,
   "metadata": {},
   "outputs": [],
   "source": [
    "scan_key = (scan.Scan & f'scan_id = \"{scansi}\"').fetch('KEY')[0]\n",
    "curation_key = (imaging.Curation & scan_key & 'curation_id=1').fetch1('KEY')"
   ]
  },
  {
   "cell_type": "markdown",
   "metadata": {},
   "source": [
    "## Make Movie"
   ]
  },
  {
   "cell_type": "code",
   "execution_count": null,
   "metadata": {},
   "outputs": [],
   "source": [
    "path = (scan.ScanPath & curation_key).fetch1(\"path\") + (\"/suite2p/plane0/reg_tif\")\n",
    "sh.make_runninaverage_movie(path)"
   ]
  },
  {
   "cell_type": "markdown",
   "metadata": {},
   "source": [
    "## Pose estimation"
   ]
  },
  {
   "cell_type": "code",
   "execution_count": null,
   "metadata": {},
   "outputs": [],
   "source": [
    "dj.Diagram(model) + dj.Diagram(equipment)"
   ]
  },
  {
   "cell_type": "code",
   "execution_count": null,
   "metadata": {},
   "outputs": [],
   "source": [
    "aux_setup_typestr = (scan.ScanInfo() & 'scan_id = \"' + scansi + '\"').fetch(\"userfunction_info\")[0]\n",
    "selected_DLCmodel = 'Topcam_2bin_without_scope'\n",
    "print('- - - -')\n",
    "print('DLC pose estimation:', scansi)\n",
    "\n",
    "# insert TOP movie into model table\n",
    "scan_key = (scan.Scan & f'scan_id = \"{scansi}\"').fetch('KEY')[0] \n",
    "moviepath = str(list(pathlib.Path((scan.ScanPath() & scan_key).fetch(\"path\")[0]).glob(\"*top*.mp4*\"))[0])\n",
    "\n",
    "key = {'session_id': scan_key[\"session_id\"],\n",
    "    'recording_id': scan_key[\"scan_id\"], \n",
    "    'camera': \"mini2p1_top\", # Currently 'scanner' due to in equipment tables\n",
    "    }\n",
    "model.VideoRecording.insert1(key, skip_duplicates=True)\n",
    "\n",
    "key.update({'file_path': moviepath,\n",
    "            'file_id': 0})  #INCREMENT FILE_ID WITH CAM NUMBER?\n",
    "\n",
    "model.VideoRecording.File.insert1(key, ignore_extra_fields=True, skip_duplicates=True)\n",
    "model.RecordingInfo.populate()"
   ]
  },
  {
   "cell_type": "code",
   "execution_count": null,
   "metadata": {},
   "outputs": [],
   "source": [
    "\n",
    "model.VideoRecording.File * model.VideoRecording() &  'recording_id = \"' + scansi + '\"'"
   ]
  },
  {
   "cell_type": "code",
   "execution_count": null,
   "metadata": {},
   "outputs": [],
   "source": [
    "key =  (model.VideoRecording & f'recording_id=\"{scansi}\"').fetch1('KEY')\n",
    "key.update({'model_name': selected_DLCmodel, 'task_mode': 'trigger'}) \n",
    "key      \n"
   ]
  },
  {
   "cell_type": "code",
   "execution_count": null,
   "metadata": {},
   "outputs": [],
   "source": [
    "# INSERT pose estimation task\n",
    "model.PoseEstimationTask.insert_estimation_task(key, key[\"model_name\"], analyze_videos_params={'save_as_csv':True, 'dynamic':(True,.5,60)}) # dynamic cropping"
   ]
  },
  {
   "cell_type": "code",
   "execution_count": null,
   "metadata": {},
   "outputs": [],
   "source": [
    "model.PoseEstimationTask() * model.VideoRecording * model.VideoRecording.File()"
   ]
  },
  {
   "cell_type": "code",
   "execution_count": null,
   "metadata": {},
   "outputs": [],
   "source": [
    "model.RecordingInfo()"
   ]
  },
  {
   "cell_type": "code",
   "execution_count": null,
   "metadata": {},
   "outputs": [],
   "source": [
    "# run pose estimation\n",
    "model.PoseEstimation.populate()"
   ]
  },
  {
   "cell_type": "markdown",
   "metadata": {},
   "source": [
    "#### make labeled video"
   ]
  },
  {
   "cell_type": "code",
   "execution_count": null,
   "metadata": {},
   "outputs": [],
   "source": [
    "from deeplabcut.utils.make_labeled_video import create_labeled_video\n",
    "import yaml\n",
    "from element_interface.utils import find_full_path\n",
    "from adamacs.paths import get_dlc_root_data_dir\n",
    "\n",
    "\n",
    "destfolder = model.PoseEstimationTask.infer_output_dir(key)\n",
    "destfolder\n",
    "\n",
    "video_path = find_full_path( # Fetch the full video path\n",
    "    get_dlc_root_data_dir(), ((model.VideoRecording.File & key).fetch1(\"file_path\"))\n",
    ")\n",
    "\n",
    "config_paths = sorted( # Of configs in the project path, defer to the datajoint-saved\n",
    "    list(\n",
    "        find_full_path(\n",
    "            get_dlc_root_data_dir(), ((model.Model & key).fetch1(\"project_path\"))\n",
    "        ).glob(\"*.y*ml\")\n",
    "    )\n",
    ")\n",
    "\n",
    "create_labeled_video( # Pass strings to label the video\n",
    "    config=str(config_paths[-1]),\n",
    "    videos=str(video_path),\n",
    "    destfolder=str(destfolder),\n",
    ")\n",
    "\n",
    "# list(list(pathlib.Path((model.VideoRecording.File & key).fetch1(\"file_path\")).parent.glob(\"device*\"))[0].glob(\"*.y*ml\"))"
   ]
  },
  {
   "cell_type": "code",
   "execution_count": null,
   "metadata": {},
   "outputs": [],
   "source": [
    "import glob\n",
    "mp4_files = glob.glob(f\"{destfolder}/*.mp4\")\n",
    "mp4_files[0]"
   ]
  },
  {
   "cell_type": "code",
   "execution_count": null,
   "metadata": {},
   "outputs": [],
   "source": [
    "(model.PoseEstimation() * session.Session * session.SessionUser * subject.User()).fetch(format = \"frame\", order_by = \"session_datetime\")"
   ]
  },
  {
   "cell_type": "code",
   "execution_count": null,
   "metadata": {},
   "outputs": [],
   "source": [
    "# scansi = \"scan9FKSMYYS\"\n",
    "scan_key = (model.PoseEstimation & f'recording_id = \"{scansi}\"').fetch('KEY')[0] \n",
    "path = (model.VideoRecording.File & scan_key).fetch(\"file_path\")\n",
    "path"
   ]
  },
  {
   "cell_type": "code",
   "execution_count": null,
   "metadata": {},
   "outputs": [],
   "source": [
    "(model.PoseEstimation.BodyPartPosition() & scan_key & 'body_part = \"head_middle\"').fetch(\"x_pos\", \"y_pos\")"
   ]
  },
  {
   "cell_type": "markdown",
   "metadata": {},
   "source": [
    "## Cleaning. Use with caution!"
   ]
  },
  {
   "cell_type": "code",
   "execution_count": null,
   "metadata": {},
   "outputs": [],
   "source": [
    "imaging.ProcessingTask()"
   ]
  },
  {
   "cell_type": "code",
   "execution_count": null,
   "metadata": {},
   "outputs": [],
   "source": [
    "scan_key"
   ]
  },
  {
   "cell_type": "code",
   "execution_count": null,
   "metadata": {},
   "outputs": [],
   "source": [
    "# subject.Subject.delete()\n",
    "# session.Session.delete()\n",
    "# imaging.Processing.delete()\n",
    "# imaging.Curation.delete()\n",
    "# event.Event.delete()\n",
    "# event.BehaviorRecording.delete()"
   ]
  },
  {
   "cell_type": "code",
   "execution_count": null,
   "metadata": {},
   "outputs": [],
   "source": [
    "# key = (session.Session & \"session_datetime >= '2023-10-01'\").fetch('KEY')\n",
    "# (session.Session & \"session_datetime >= '2023-10-01'\").delete()\n",
    "# (imaging.ProcessingTask & \"session_id LIKE 'sess9FKWT2RT%'\").delete()\n",
    "# (imaging.ProcessingTask  & key).delete()\n",
    "# (model.PoseEstimationTask & key).delete()\n",
    "(session.Session & \"session_id LIKE '%sess9FK610VH%'\").delete()\n",
    "# (subject.Subject & \"subject = 'ROS-1571'\").delete()\n",
    "# # subject.Subject.delete()\n",
    "# # session.Session.delete()\n",
    "# # imaging.Processing.delete()\n",
    "# # imaging.Curation.delete()\n",
    "# # event.Event.delete()\n",
    "# # event.BehaviorRecording.delete()"
   ]
  },
  {
   "cell_type": "code",
   "execution_count": null,
   "metadata": {},
   "outputs": [],
   "source": [
    "session.Session.delete()"
   ]
  },
  {
   "cell_type": "code",
   "execution_count": null,
   "metadata": {},
   "outputs": [],
   "source": [
    "# session.Session.drop()\n",
    "# scan.Scan.drop()\n",
    "# imaging.Processing.drop()\n",
    "# imaging.Curation.drop()"
   ]
  },
  {
   "cell_type": "code",
   "execution_count": null,
   "metadata": {},
   "outputs": [],
   "source": [
    "# subject.Subject.drop()"
   ]
  },
  {
   "cell_type": "code",
   "execution_count": null,
   "metadata": {},
   "outputs": [],
   "source": [
    "# imaging.Fluorescence.drop()"
   ]
  },
  {
   "cell_type": "code",
   "execution_count": null,
   "metadata": {},
   "outputs": [],
   "source": [
    "imaging.Fluorescence.Trace.fetch(format = \"frame\")"
   ]
  },
  {
   "cell_type": "code",
   "execution_count": null,
   "metadata": {},
   "outputs": [],
   "source": [
    "imaging.Fluorescence.NeuropilTrace.fetch(format = \"frame\")"
   ]
  },
  {
   "cell_type": "code",
   "execution_count": null,
   "metadata": {},
   "outputs": [],
   "source": [
    "imaging.Fluorescence.Trace * "
   ]
  },
  {
   "cell_type": "code",
   "execution_count": null,
   "metadata": {},
   "outputs": [],
   "source": []
  }
 ],
 "metadata": {
  "kernelspec": {
   "display_name": "Python 3 (ipykernel)",
   "language": "python",
   "name": "python3"
  },
  "language_info": {
   "codemirror_mode": {
    "name": "ipython",
    "version": 3
   },
   "file_extension": ".py",
   "mimetype": "text/x-python",
   "name": "python",
   "nbconvert_exporter": "python",
   "pygments_lexer": "ipython3",
   "version": "3.8.16"
  }
 },
 "nbformat": 4,
 "nbformat_minor": 2
}
