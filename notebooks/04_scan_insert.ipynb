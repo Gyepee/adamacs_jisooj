{
 "cells": [
  {
   "cell_type": "markdown",
   "id": "46f28eb7-1fcc-4b9a-803e-097202fd899d",
   "metadata": {},
   "source": [
    "# Scanning Session Ingestion"
   ]
  },
  {
   "cell_type": "markdown",
   "id": "bba759c2-4cc1-45ee-9212-422a604c32a4",
   "metadata": {},
   "source": [
    "## Setup"
   ]
  },
  {
   "cell_type": "markdown",
   "id": "0da9aa77-afbf-43b2-ad19-e497e05e8627",
   "metadata": {},
   "source": [
    "### Connect to the database"
   ]
  },
  {
   "cell_type": "markdown",
   "id": "bd1468c3-3915-49e6-89a9-10c7940017fd",
   "metadata": {},
   "source": [
    "If you are don't have your login information, contact the administrator.\n",
    "\n",
    "Using local config file (see [01_pipeline](./01_pipeline.ipynb)):"
   ]
  },
  {
   "cell_type": "code",
   "execution_count": 1,
   "id": "301f9675-53e0-4ff6-bf3d-baba6589d6e3",
   "metadata": {},
   "outputs": [
    {
     "name": "stderr",
     "output_type": "stream",
     "text": [
      "[2023-07-18 07:51:35,254][INFO]: Connecting tobiasr@172.26.128.53:3306\n",
      "[2023-07-18 07:51:35,300][INFO]: Connected tobiasr@172.26.128.53:3306\n"
     ]
    }
   ],
   "source": [
    "import os\n",
    "# change to the upper level folder to detect dj_local_conf.json\n",
    "if os.path.basename(os.getcwd())=='notebooks': os.chdir('..')\n",
    "assert os.path.basename(os.getcwd())=='adamacs', (\"Please move to the main directory\")\n",
    "import datajoint as dj; dj.conn()\n",
    "\n",
    "from adamacs.pipeline import subject, session, surgery, scan, equipment\n",
    "from adamacs import utility\n",
    "from adamacs.ingest import session as isess\n",
    "sub, lab, protocol, line, mutation, user, project, subject_genotype, subject_death = (\n",
    "    subject.Subject(), subject.Lab(), subject.Protocol(), subject.Line(), \n",
    "    subject.Mutation(), subject.User(), subject.Project(), subject.SubjectGenotype(), \n",
    "    subject.SubjectDeath())"
   ]
  },
  {
   "cell_type": "code",
   "execution_count": 2,
   "id": "4bd995f6",
   "metadata": {},
   "outputs": [],
   "source": [
    "# subject.Subject.drop()\n",
    "# subject.Mutation.drop()\n",
    "# subject.Protocol.drop()\n",
    "# subject.Line.drop()\n",
    "# subject.SubjectGenotype.drop()\n",
    "# equipment.Equipment.drop()\n",
    "# scan.Scan.drop()\n",
    "# session.ProjectSession.drop()\n",
    "# imaging.Processing.drop()"
   ]
  },
  {
   "cell_type": "code",
   "execution_count": 3,
   "id": "5b33cb1a",
   "metadata": {},
   "outputs": [],
   "source": [
    "# session.Session.delete()"
   ]
  },
  {
   "cell_type": "code",
   "execution_count": 4,
   "id": "44e51054",
   "metadata": {},
   "outputs": [
    {
     "data": {
      "text/plain": [
       "'-> session.Session\\nscan_id              : varchar(12)                  \\n---\\n-> [nullable] equipment.Equipment\\n-> scan.AcquisitionSoftware\\nscan_notes=\"\"        : varchar(4095)                # free-notes\\n'"
      ]
     },
     "execution_count": 4,
     "metadata": {},
     "output_type": "execute_result"
    }
   ],
   "source": [
    "scan.Scan.describe()"
   ]
  },
  {
   "cell_type": "code",
   "execution_count": 5,
   "id": "dcd34047-4e4a-4d52-a6b0-1585c41ee3e0",
   "metadata": {},
   "outputs": [
    {
     "ename": "ValueError",
     "evalue": "Node names and attributes should not contain \":\" unless they are quoted with \"\".                    For example the string 'attribute:data1' should be written as '\"attribute:data1\"'.                    Please refer https://github.com/pydot/pydot/issues/258",
     "output_type": "error",
     "traceback": [
      "\u001b[0;31m---------------------------------------------------------------------------\u001b[0m",
      "\u001b[0;31mValueError\u001b[0m                                Traceback (most recent call last)",
      "File \u001b[0;32m~/miniconda3/envs/datajoint/lib/python3.8/site-packages/IPython/core/formatters.py:343\u001b[0m, in \u001b[0;36mBaseFormatter.__call__\u001b[0;34m(self, obj)\u001b[0m\n\u001b[1;32m    341\u001b[0m     method \u001b[39m=\u001b[39m get_real_method(obj, \u001b[39mself\u001b[39m\u001b[39m.\u001b[39mprint_method)\n\u001b[1;32m    342\u001b[0m     \u001b[39mif\u001b[39;00m method \u001b[39mis\u001b[39;00m \u001b[39mnot\u001b[39;00m \u001b[39mNone\u001b[39;00m:\n\u001b[0;32m--> 343\u001b[0m         \u001b[39mreturn\u001b[39;00m method()\n\u001b[1;32m    344\u001b[0m     \u001b[39mreturn\u001b[39;00m \u001b[39mNone\u001b[39;00m\n\u001b[1;32m    345\u001b[0m \u001b[39melse\u001b[39;00m:\n",
      "File \u001b[0;32m~/miniconda3/envs/datajoint/lib/python3.8/site-packages/datajoint/diagram.py:436\u001b[0m, in \u001b[0;36mDiagram._repr_svg_\u001b[0;34m(self)\u001b[0m\n\u001b[1;32m    435\u001b[0m \u001b[39mdef\u001b[39;00m \u001b[39m_repr_svg_\u001b[39m(\u001b[39mself\u001b[39m):\n\u001b[0;32m--> 436\u001b[0m     \u001b[39mreturn\u001b[39;00m \u001b[39mself\u001b[39;49m\u001b[39m.\u001b[39;49mmake_svg()\u001b[39m.\u001b[39m_repr_svg_()\n",
      "File \u001b[0;32m~/miniconda3/envs/datajoint/lib/python3.8/site-packages/datajoint/diagram.py:424\u001b[0m, in \u001b[0;36mDiagram.make_svg\u001b[0;34m(self)\u001b[0m\n\u001b[1;32m    421\u001b[0m \u001b[39mdef\u001b[39;00m \u001b[39mmake_svg\u001b[39m(\u001b[39mself\u001b[39m):\n\u001b[1;32m    422\u001b[0m     \u001b[39mfrom\u001b[39;00m \u001b[39mIPython\u001b[39;00m\u001b[39m.\u001b[39;00m\u001b[39mdisplay\u001b[39;00m \u001b[39mimport\u001b[39;00m SVG\n\u001b[0;32m--> 424\u001b[0m     \u001b[39mreturn\u001b[39;00m SVG(\u001b[39mself\u001b[39;49m\u001b[39m.\u001b[39;49mmake_dot()\u001b[39m.\u001b[39mcreate_svg())\n",
      "File \u001b[0;32m~/miniconda3/envs/datajoint/lib/python3.8/site-packages/datajoint/diagram.py:371\u001b[0m, in \u001b[0;36mDiagram.make_dot\u001b[0;34m(self)\u001b[0m\n\u001b[1;32m    308\u001b[0m label_props \u001b[39m=\u001b[39m {  \u001b[39m# http://matplotlib.org/examples/color/named_colors.html\u001b[39;00m\n\u001b[1;32m    309\u001b[0m     \u001b[39mNone\u001b[39;00m: \u001b[39mdict\u001b[39m(\n\u001b[1;32m    310\u001b[0m         shape\u001b[39m=\u001b[39m\u001b[39m\"\u001b[39m\u001b[39mcircle\u001b[39m\u001b[39m\"\u001b[39m,\n\u001b[0;32m   (...)\u001b[0m\n\u001b[1;32m    364\u001b[0m     ),\n\u001b[1;32m    365\u001b[0m }\n\u001b[1;32m    366\u001b[0m node_props \u001b[39m=\u001b[39m {\n\u001b[1;32m    367\u001b[0m     node: label_props[d[\u001b[39m\"\u001b[39m\u001b[39mnode_type\u001b[39m\u001b[39m\"\u001b[39m]]\n\u001b[1;32m    368\u001b[0m     \u001b[39mfor\u001b[39;00m node, d \u001b[39min\u001b[39;00m \u001b[39mdict\u001b[39m(graph\u001b[39m.\u001b[39mnodes(data\u001b[39m=\u001b[39m\u001b[39mTrue\u001b[39;00m))\u001b[39m.\u001b[39mitems()\n\u001b[1;32m    369\u001b[0m }\n\u001b[0;32m--> 371\u001b[0m dot \u001b[39m=\u001b[39m nx\u001b[39m.\u001b[39;49mdrawing\u001b[39m.\u001b[39;49mnx_pydot\u001b[39m.\u001b[39;49mto_pydot(graph)\n\u001b[1;32m    372\u001b[0m \u001b[39mfor\u001b[39;00m node \u001b[39min\u001b[39;00m dot\u001b[39m.\u001b[39mget_nodes():\n\u001b[1;32m    373\u001b[0m     node\u001b[39m.\u001b[39mset_shape(\u001b[39m\"\u001b[39m\u001b[39mcircle\u001b[39m\u001b[39m\"\u001b[39m)\n",
      "File \u001b[0;32m~/miniconda3/envs/datajoint/lib/python3.8/site-packages/networkx/drawing/nx_pydot.py:309\u001b[0m, in \u001b[0;36mto_pydot\u001b[0;34m(N)\u001b[0m\n\u001b[1;32m    298\u001b[0m raise_error \u001b[39m=\u001b[39m (\n\u001b[1;32m    299\u001b[0m     _check_colon_quotes(u)\n\u001b[1;32m    300\u001b[0m     \u001b[39mor\u001b[39;00m _check_colon_quotes(v)\n\u001b[0;32m   (...)\u001b[0m\n\u001b[1;32m    306\u001b[0m     )\n\u001b[1;32m    307\u001b[0m )\n\u001b[1;32m    308\u001b[0m \u001b[39mif\u001b[39;00m raise_error:\n\u001b[0;32m--> 309\u001b[0m     \u001b[39mraise\u001b[39;00m \u001b[39mValueError\u001b[39;00m(\n\u001b[1;32m    310\u001b[0m         \u001b[39mf\u001b[39m\u001b[39m'\u001b[39m\u001b[39mNode names and attributes should not contain \u001b[39m\u001b[39m\"\u001b[39m\u001b[39m:\u001b[39m\u001b[39m\"\u001b[39m\u001b[39m unless they are quoted with \u001b[39m\u001b[39m\"\u001b[39m\u001b[39m\"\u001b[39m\u001b[39m.\u001b[39m\u001b[39m\\\u001b[39;00m\n\u001b[1;32m    311\u001b[0m \u001b[39m        For example the string \u001b[39m\u001b[39m\\'\u001b[39;00m\u001b[39mattribute:data1\u001b[39m\u001b[39m\\'\u001b[39;00m\u001b[39m should be written as \u001b[39m\u001b[39m\\'\u001b[39;00m\u001b[39m\"\u001b[39m\u001b[39mattribute:data1\u001b[39m\u001b[39m\"\u001b[39m\u001b[39m\\'\u001b[39;00m\u001b[39m.\u001b[39m\u001b[39m\\\u001b[39;00m\n\u001b[1;32m    312\u001b[0m \u001b[39m        Please refer https://github.com/pydot/pydot/issues/258\u001b[39m\u001b[39m'\u001b[39m\n\u001b[1;32m    313\u001b[0m     )\n\u001b[1;32m    314\u001b[0m edge \u001b[39m=\u001b[39m pydot\u001b[39m.\u001b[39mEdge(u, v, \u001b[39m*\u001b[39m\u001b[39m*\u001b[39mstr_edgedata)\n\u001b[1;32m    315\u001b[0m P\u001b[39m.\u001b[39madd_edge(edge)\n",
      "\u001b[0;31mValueError\u001b[0m: Node names and attributes should not contain \":\" unless they are quoted with \"\".                    For example the string 'attribute:data1' should be written as '\"attribute:data1\"'.                    Please refer https://github.com/pydot/pydot/issues/258"
     ]
    },
    {
     "data": {
      "text/plain": [
       "<datajoint.diagram.Diagram at 0x7f99f016efd0>"
      ]
     },
     "execution_count": 5,
     "metadata": {},
     "output_type": "execute_result"
    }
   ],
   "source": [
    "dj.Diagram(subject)"
   ]
  },
  {
   "cell_type": "code",
   "execution_count": null,
   "id": "21c2a612",
   "metadata": {
    "scrolled": false
   },
   "outputs": [],
   "source": [
    "dj.Diagram(session) "
   ]
  },
  {
   "cell_type": "code",
   "execution_count": null,
   "metadata": {},
   "outputs": [],
   "source": [
    "session.SessionSameSite()"
   ]
  },
  {
   "cell_type": "code",
   "execution_count": null,
   "id": "6d67431f",
   "metadata": {},
   "outputs": [],
   "source": [
    "subject.Subject.proj(\"subject\") * session.Session.proj(\"session_id\") & 'subject = \"ROS-1346\"'"
   ]
  },
  {
   "cell_type": "code",
   "execution_count": null,
   "id": "dc5ceb5d",
   "metadata": {},
   "outputs": [],
   "source": [
    "session_key = 'sess9FH37WBZ'\n",
    "session_dict = {'session_id': session_key}"
   ]
  },
  {
   "cell_type": "code",
   "execution_count": null,
   "id": "a42acaad",
   "metadata": {},
   "outputs": [],
   "source": [
    " session.SessionSameSite.insert1((session_dict))"
   ]
  },
  {
   "cell_type": "code",
   "execution_count": null,
   "id": "d27a2f0f",
   "metadata": {},
   "outputs": [],
   "source": [
    "session.SessionSameSite()"
   ]
  },
  {
   "cell_type": "code",
   "execution_count": null,
   "id": "0d8b56af",
   "metadata": {},
   "outputs": [],
   "source": [
    "session.SessionSameSite.describe()"
   ]
  },
  {
   "cell_type": "code",
   "execution_count": null,
   "id": "f518dc56",
   "metadata": {
    "scrolled": true
   },
   "outputs": [],
   "source": [
    "session.SessionUser()"
   ]
  },
  {
   "cell_type": "code",
   "execution_count": null,
   "id": "aa81d3bb",
   "metadata": {},
   "outputs": [],
   "source": [
    "session.SessionNote()"
   ]
  },
  {
   "cell_type": "code",
   "execution_count": null,
   "id": "7e5c7df9",
   "metadata": {},
   "outputs": [],
   "source": [
    "dj.Diagram(scan) "
   ]
  },
  {
   "cell_type": "code",
   "execution_count": null,
   "id": "c74ea617",
   "metadata": {
    "scrolled": true
   },
   "outputs": [],
   "source": [
    "scan.ScanInfo.ScanFile()"
   ]
  },
  {
   "cell_type": "code",
   "execution_count": null,
   "id": "ad869c62",
   "metadata": {
    "scrolled": true
   },
   "outputs": [],
   "source": [
    "scan.ScanInfo.Field()"
   ]
  },
  {
   "cell_type": "code",
   "execution_count": null,
   "id": "b60b8a84",
   "metadata": {},
   "outputs": [],
   "source": [
    "scan.ScanPath()"
   ]
  },
  {
   "cell_type": "code",
   "execution_count": null,
   "id": "6a9397a5",
   "metadata": {
    "scrolled": true
   },
   "outputs": [],
   "source": [
    "scan.ScanLocation()"
   ]
  },
  {
   "cell_type": "code",
   "execution_count": null,
   "id": "56ba5075",
   "metadata": {
    "scrolled": true
   },
   "outputs": [],
   "source": [
    "scan.AcquisitionSoftware()"
   ]
  },
  {
   "cell_type": "code",
   "execution_count": null,
   "id": "6326cef8",
   "metadata": {},
   "outputs": [],
   "source": [
    "scan.Channel()"
   ]
  },
  {
   "cell_type": "markdown",
   "id": "7a2e2ccf-01d6-4d31-932b-aa12f8cd05a8",
   "metadata": {},
   "source": [
    "Manual entry:"
   ]
  },
  {
   "cell_type": "code",
   "execution_count": null,
   "id": "333074dc-2962-4c3f-ae66-d4164d6ceac9",
   "metadata": {},
   "outputs": [],
   "source": [
    "# Manual Entry\n",
    "import datajoint as dj; import getpass\n",
    "dj.config['database.host'] = '172.26.128.53'        # Put the server name between these apostrophe\n",
    "dj.config['database.user'] = 'danielmk'             # Put your user name between these apostrophe\n",
    "dj.config['database.password'] = getpass.getpass()  # Put your password in the prompt\n",
    "dj.conn()\n",
    "\n",
    "from adamacs.pipeline import subject, session, surgery, scan, equipment\n",
    "from adamacs import utility\n",
    "from adamacs.ingest import session as isess\n",
    "sub, lab, protocol, line, mutation, user, project, subject_genotype, subject_death = (\n",
    "    subject.Subject(), subject.Lab(), subject.Protocol(), subject.Line(), \n",
    "    subject.Mutation(), subject.User(), subject.Project(), subject.SubjectGenotype(), \n",
    "    subject.SubjectDeath())"
   ]
  },
  {
   "cell_type": "markdown",
   "id": "bb115bfc-2abb-45c9-bcba-c5c9e73b8990",
   "metadata": {},
   "source": [
    "\n",
    "## Ingesting scan"
   ]
  },
  {
   "cell_type": "markdown",
   "id": "47c001f0",
   "metadata": {},
   "source": [
    "Ingest all scans associated with a given session ID."
   ]
  },
  {
   "cell_type": "code",
   "execution_count": null,
   "id": "e04adcf4",
   "metadata": {},
   "outputs": [],
   "source": [
    "# isess.ingest_session_scan('sess9FB2LN5C', verbose=True)\n",
    "isess.ingest_session_scan('sess9FGLZLRI', verbose=False) #TR: needs to be SessioID (\"sess...\")"
   ]
  },
  {
   "cell_type": "code",
   "execution_count": null,
   "id": "c4c8bb54-ae93-4974-9ff7-ac74dfa2baa0",
   "metadata": {},
   "outputs": [],
   "source": [
    "subject.Subject() & session.Session()"
   ]
  },
  {
   "cell_type": "code",
   "execution_count": null,
   "id": "c525e289",
   "metadata": {},
   "outputs": [],
   "source": [
    "session.SessionNote()"
   ]
  },
  {
   "cell_type": "code",
   "execution_count": null,
   "id": "824cb8cd",
   "metadata": {},
   "outputs": [],
   "source": [
    "session.SessionDirectory() * session.ProjectSession() * sub"
   ]
  },
  {
   "cell_type": "code",
   "execution_count": null,
   "id": "3a3e96e3",
   "metadata": {},
   "outputs": [],
   "source": [
    "session.ProjectSession()"
   ]
  },
  {
   "cell_type": "code",
   "execution_count": null,
   "id": "bdfe449c-9ecc-4b49-93ee-9c73295b12eb",
   "metadata": {},
   "outputs": [],
   "source": [
    "key='scan9FG1UAQG'\n",
    "(scan.Scan & f'scan_id=\\\"{key}\\\"')"
   ]
  },
  {
   "cell_type": "markdown",
   "id": "127f793d",
   "metadata": {},
   "source": [
    "Simple user look-up to get user_id from shorthand"
   ]
  },
  {
   "cell_type": "code",
   "execution_count": null,
   "id": "f620750b",
   "metadata": {},
   "outputs": [],
   "source": [
    "key='RN'\n",
    "query = (subject.User & f'initials=\\\"{key}\\\"')\n",
    "id = query.fetch(\"user_id\")[0]\n",
    "print(key + ' = ' + str(id))"
   ]
  },
  {
   "cell_type": "code",
   "execution_count": null,
   "id": "21f26116",
   "metadata": {},
   "outputs": [],
   "source": [
    "key='%Tob%'\n",
    "query = (subject.User & f'name LIKE \\\"{key}\\\"')\n",
    "id = query.fetch(\"user_id\")\n",
    "print(key + ' = ' + str(id))"
   ]
  },
  {
   "cell_type": "code",
   "execution_count": null,
   "id": "9b2d330b",
   "metadata": {},
   "outputs": [],
   "source": [
    "key='%Ji%'\n",
    "query = (subject.User & f'name LIKE \\\"{key}\\\"')\n",
    "query.fetch(\"email\")"
   ]
  },
  {
   "cell_type": "code",
   "execution_count": null,
   "id": "891ca3d7",
   "metadata": {},
   "outputs": [],
   "source": [
    "query = subject.Subject() & '\"ROS-1380\"'\n",
    "query.fetch()"
   ]
  },
  {
   "cell_type": "code",
   "execution_count": null,
   "id": "cb7ff963",
   "metadata": {},
   "outputs": [],
   "source": [
    "subject.Subject() & \"subject = 'ROS-1346'\""
   ]
  }
 ],
 "metadata": {
  "jupytext": {
   "formats": "ipynb,py"
  },
  "kernelspec": {
   "display_name": "Python 3 (ipykernel)",
   "language": "python",
   "name": "python3"
  },
  "language_info": {
   "codemirror_mode": {
    "name": "ipython",
    "version": 3
   },
   "file_extension": ".py",
   "mimetype": "text/x-python",
   "name": "python",
   "nbconvert_exporter": "python",
   "pygments_lexer": "ipython3",
   "version": "3.8.16"
  },
  "vscode": {
   "interpreter": {
    "hash": "2888206d04306eefe963095373d1dcce5cd11176f3d6ee4ec3f64dd9e65fd8a1"
   }
  }
 },
 "nbformat": 4,
 "nbformat_minor": 5
}
