{
 "cells": [
  {
   "cell_type": "markdown",
   "id": "46f28eb7-1fcc-4b9a-803e-097202fd899d",
   "metadata": {},
   "source": [
    "# Scanning Session Ingestion"
   ]
  },
  {
   "cell_type": "markdown",
   "id": "bba759c2-4cc1-45ee-9212-422a604c32a4",
   "metadata": {},
   "source": [
    "## Setup"
   ]
  },
  {
   "cell_type": "markdown",
   "id": "0da9aa77-afbf-43b2-ad19-e497e05e8627",
   "metadata": {},
   "source": [
    "### Connect to the database"
   ]
  },
  {
   "cell_type": "markdown",
   "id": "bd1468c3-3915-49e6-89a9-10c7940017fd",
   "metadata": {},
   "source": [
    "If you are don't have your login information, contact the administrator.\n",
    "\n",
    "Using local config file (see [01_pipeline](./01_pipeline.ipynb)):"
   ]
  },
  {
   "cell_type": "code",
   "execution_count": 1,
   "id": "301f9675-53e0-4ff6-bf3d-baba6589d6e3",
   "metadata": {},
   "outputs": [
    {
     "name": "stderr",
     "output_type": "stream",
     "text": [
      "[2023-07-19 15:05:28,727][INFO]: Connecting tobiasr@172.26.128.53:3306\n",
      "[2023-07-19 15:05:28,766][INFO]: Connected tobiasr@172.26.128.53:3306\n"
     ]
    }
   ],
   "source": [
    "import os\n",
    "# change to the upper level folder to detect dj_local_conf.json\n",
    "if os.path.basename(os.getcwd())=='notebooks': os.chdir('..')\n",
    "assert os.path.basename(os.getcwd())=='adamacs', (\"Please move to the main directory\")\n",
    "import datajoint as dj; dj.conn()\n",
    "\n",
    "from adamacs.pipeline import subject, session, surgery, scan, equipment\n",
    "from adamacs import utility\n",
    "from adamacs.ingest import session as isess\n",
    "sub, lab, protocol, line, mutation, user, project, subject_genotype, subject_death = (\n",
    "    subject.Subject(), subject.Lab(), subject.Protocol(), subject.Line(), \n",
    "    subject.Mutation(), subject.User(), subject.Project(), subject.SubjectGenotype(), \n",
    "    subject.SubjectDeath())"
   ]
  },
  {
   "cell_type": "code",
   "execution_count": 2,
   "id": "4bd995f6",
   "metadata": {},
   "outputs": [],
   "source": [
    "# subject.Subject.drop()\n",
    "# subject.Mutation.drop()\n",
    "# subject.Protocol.drop()\n",
    "# subject.Line.drop()\n",
    "# subject.SubjectGenotype.drop()\n",
    "# equipment.Equipment.drop()\n",
    "# scan.Scan.drop()\n",
    "# session.ProjectSession.drop()\n",
    "# imaging.Processing.drop()"
   ]
  },
  {
   "cell_type": "code",
   "execution_count": 3,
   "id": "5b33cb1a",
   "metadata": {},
   "outputs": [],
   "source": [
    "# session.Session.delete()\n"
   ]
  },
  {
   "cell_type": "code",
   "execution_count": 4,
   "id": "44e51054",
   "metadata": {},
   "outputs": [
    {
     "data": {
      "text/plain": [
       "'-> session.Session\\nscan_id              : varchar(12)                  \\n---\\n-> [nullable] equipment.Equipment\\n-> scan.AcquisitionSoftware\\nscan_notes=\"\"        : varchar(4095)                # free-notes\\n'"
      ]
     },
     "execution_count": 4,
     "metadata": {},
     "output_type": "execute_result"
    }
   ],
   "source": [
    "scan.Scan.describe()"
   ]
  },
  {
   "cell_type": "code",
   "execution_count": 5,
   "id": "215d768a",
   "metadata": {},
   "outputs": [
    {
     "data": {
      "text/plain": [
       "'0.14.1'"
      ]
     },
     "execution_count": 5,
     "metadata": {},
     "output_type": "execute_result"
    }
   ],
   "source": [
    "dj.__version__"
   ]
  },
  {
   "cell_type": "code",
   "execution_count": 6,
   "id": "dcd34047-4e4a-4d52-a6b0-1585c41ee3e0",
   "metadata": {},
   "outputs": [
    {
     "data": {
      "image/svg+xml": [
       "<svg xmlns=\"http://www.w3.org/2000/svg\" xmlns:xlink=\"http://www.w3.org/1999/xlink\" width=\"466pt\" height=\"327pt\" viewBox=\"0.00 0.00 466.00 327.00\">\n",
       "<g id=\"graph0\" class=\"graph\" transform=\"scale(1 1) rotate(0) translate(4 323)\">\n",
       "<polygon fill=\"white\" stroke=\"transparent\" points=\"-4,4 -4,-323 462,-323 462,4 -4,4\"/>\n",
       "<!-- 14 -->\n",
       "<g id=\"node1\" class=\"node\">\n",
       "<title>14</title>\n",
       "<ellipse fill=\"#ff8800\" fill-opacity=\"0.501961\" stroke=\"#ff8800\" stroke-opacity=\"0.501961\" cx=\"159\" cy=\"-159.5\" rx=\"2\" ry=\"2\"/>\n",
       "<text text-anchor=\"middle\" x=\"159\" y=\"-159.2\" font-family=\"arial\" font-size=\"1.00\" fill=\"#ff8800\" fill-opacity=\"0.501961\">14</text>\n",
       "</g>\n",
       "<!-- subject.Subject -->\n",
       "<g id=\"node7\" class=\"node\">\n",
       "<title>subject.Subject</title>\n",
       "<g id=\"a_node7\"><a xlink:title=\"subject              \r------------------------------\rearmark              \rsex                  \rbirth_date           \rdeath_date=null      \rgeneration=&quot;&quot;        \rparent_ids           \r→ subject.User.proj(owner_id=&quot;user_id&quot;)\r→ subject.User.proj(responsible_id=&quot;user_id&quot;)\r→ subject.Line\r→ subject.Protocol\r\">\n",
       "<polygon fill=\"#00ff00\" fill-opacity=\"0.188235\" stroke=\"#00ff00\" stroke-opacity=\"0.188235\" points=\"273,-106 175,-106 175,-71 273,-71 273,-106\"/>\n",
       "<text text-anchor=\"start\" x=\"183\" y=\"-86.4\" font-family=\"arial\" text-decoration=\"underline\" font-size=\"12.00\" fill=\"darkgreen\">subject.Subject</text>\n",
       "</a>\n",
       "</g>\n",
       "</g>\n",
       "<!-- 14&#45;&gt;subject.Subject -->\n",
       "<g id=\"edge1\" class=\"edge\">\n",
       "<title>14-&gt;subject.Subject</title>\n",
       "<path fill=\"none\" stroke=\"#000000\" stroke-width=\"0.75\" stroke-dasharray=\"5,2\" stroke-opacity=\"0.250980\" d=\"M159.92,-157.52C165.1,-152.02 191.08,-124.45 208.33,-106.14\"/>\n",
       "</g>\n",
       "<!-- 15 -->\n",
       "<g id=\"node2\" class=\"node\">\n",
       "<title>15</title>\n",
       "<ellipse fill=\"#ff8800\" fill-opacity=\"0.501961\" stroke=\"#ff8800\" stroke-opacity=\"0.501961\" cx=\"195\" cy=\"-159.5\" rx=\"2\" ry=\"2\"/>\n",
       "<text text-anchor=\"middle\" x=\"195\" y=\"-159.2\" font-family=\"arial\" font-size=\"1.00\" fill=\"#ff8800\" fill-opacity=\"0.501961\">15</text>\n",
       "</g>\n",
       "<!-- 15&#45;&gt;subject.Subject -->\n",
       "<g id=\"edge2\" class=\"edge\">\n",
       "<title>15-&gt;subject.Subject</title>\n",
       "<path fill=\"none\" stroke=\"#000000\" stroke-width=\"0.75\" stroke-dasharray=\"5,2\" stroke-opacity=\"0.250980\" d=\"M195.41,-157.52C197.72,-152.02 209.31,-124.45 217.01,-106.14\"/>\n",
       "</g>\n",
       "<!-- subject.Project -->\n",
       "<g id=\"node3\" class=\"node\">\n",
       "<title>subject.Project</title>\n",
       "<g id=\"a_node3\"><a xlink:title=\"project              \r------------------------------\rproject_description=&quot;&quot; \r\">\n",
       "<polygon fill=\"#000000\" fill-opacity=\"0.125490\" stroke=\"transparent\" points=\"316,-319 234,-319 234,-284 316,-284 316,-319\"/>\n",
       "<text text-anchor=\"start\" x=\"242\" y=\"-300\" font-family=\"arial\" text-decoration=\"underline\" font-size=\"10.00\">subject.Project</text>\n",
       "</a>\n",
       "</g>\n",
       "</g>\n",
       "<!-- subject.Line -->\n",
       "<g id=\"node4\" class=\"node\">\n",
       "<title>subject.Line</title>\n",
       "<g id=\"a_node4\"><a xlink:title=\"line                 \r------------------------------\rline_name=&quot;&quot;         \ris_active            \r\">\n",
       "<polygon fill=\"#00ff00\" fill-opacity=\"0.188235\" stroke=\"#00ff00\" stroke-opacity=\"0.188235\" points=\"423.5,-177 342.5,-177 342.5,-142 423.5,-142 423.5,-177\"/>\n",
       "<text text-anchor=\"start\" x=\"350.5\" y=\"-157.4\" font-family=\"arial\" text-decoration=\"underline\" font-size=\"12.00\" fill=\"darkgreen\">subject.Line</text>\n",
       "</a>\n",
       "</g>\n",
       "</g>\n",
       "<!-- subject.Line&#45;&gt;subject.Subject -->\n",
       "<g id=\"edge3\" class=\"edge\">\n",
       "<title>subject.Line-&gt;subject.Subject</title>\n",
       "<path fill=\"none\" stroke=\"#000000\" stroke-width=\"0.75\" stroke-dasharray=\"5,2\" stroke-opacity=\"0.250980\" d=\"M344.92,-141.97C319.83,-131.09 287.12,-116.89 262.05,-106.01\"/>\n",
       "</g>\n",
       "<!-- subject.Mutation -->\n",
       "<g id=\"node9\" class=\"node\">\n",
       "<title>subject.Mutation</title>\n",
       "<g id=\"a_node9\"><a xlink:title=\"→ subject.Line\rmutation_id          \r------------------------------\rdescription=&quot;&quot;       \r\">\n",
       "<polygon fill=\"#00ff00\" fill-opacity=\"0.188235\" stroke=\"#00ff00\" stroke-opacity=\"0.188235\" points=\"435,-106 331,-106 331,-71 435,-71 435,-106\"/>\n",
       "<text text-anchor=\"start\" x=\"339\" y=\"-86.4\" font-family=\"arial\" text-decoration=\"underline\" font-size=\"12.00\" fill=\"darkgreen\">subject.Mutation</text>\n",
       "</a>\n",
       "</g>\n",
       "</g>\n",
       "<!-- subject.Line&#45;&gt;subject.Mutation -->\n",
       "<g id=\"edge4\" class=\"edge\">\n",
       "<title>subject.Line-&gt;subject.Mutation</title>\n",
       "<path fill=\"none\" stroke=\"#000000\" stroke-width=\"0.75\" stroke-opacity=\"0.250980\" d=\"M383,-141.8C383,-130.95 383,-116.87 383,-106.05\"/>\n",
       "</g>\n",
       "<!-- subject.User -->\n",
       "<g id=\"node5\" class=\"node\">\n",
       "<title>subject.User</title>\n",
       "<g id=\"a_node5\"><a xlink:title=\"user_id              \r------------------------------\rname                 \rshorthand=&quot;&quot;         \rinitials=&quot;&quot;          \remail=&quot;&quot;             \r→ [nullable] subject.Lab\r\">\n",
       "<polygon fill=\"#000000\" fill-opacity=\"0.125490\" stroke=\"transparent\" points=\"212.5,-248 141.5,-248 141.5,-213 212.5,-213 212.5,-248\"/>\n",
       "<text text-anchor=\"start\" x=\"149.5\" y=\"-229\" font-family=\"arial\" text-decoration=\"underline\" font-size=\"10.00\">subject.User</text>\n",
       "</a>\n",
       "</g>\n",
       "</g>\n",
       "<!-- subject.User&#45;&gt;14 -->\n",
       "<g id=\"edge5\" class=\"edge\">\n",
       "<title>subject.User-&gt;14</title>\n",
       "<path fill=\"none\" stroke=\"#000000\" stroke-width=\"0.75\" stroke-dasharray=\"5,2\" stroke-opacity=\"0.250980\" d=\"M172.64,-212.8C167.98,-194.93 161.03,-168.29 159.37,-161.91\"/>\n",
       "</g>\n",
       "<!-- subject.User&#45;&gt;15 -->\n",
       "<g id=\"edge6\" class=\"edge\">\n",
       "<title>subject.User-&gt;15</title>\n",
       "<path fill=\"none\" stroke=\"#000000\" stroke-width=\"0.75\" stroke-dasharray=\"5,2\" stroke-opacity=\"0.250980\" d=\"M181.36,-212.8C186.02,-194.93 192.97,-168.29 194.63,-161.91\"/>\n",
       "</g>\n",
       "<!-- subject.SubjectRspace -->\n",
       "<g id=\"node6\" class=\"node\">\n",
       "<title>subject.SubjectRspace</title>\n",
       "<g id=\"a_node6\"><a xlink:title=\"→ subject.Subject\r------------------------------\rrspace_subject_id    \r\">\n",
       "<polygon fill=\"#00ff00\" fill-opacity=\"0.188235\" stroke=\"#00ff00\" stroke-opacity=\"0.188235\" points=\"140,-35 0,-35 0,0 140,0 140,-35\"/>\n",
       "<text text-anchor=\"middle\" x=\"70\" y=\"-14.4\" font-family=\"arial\" font-size=\"12.00\" fill=\"darkgreen\">subject.SubjectRspace</text>\n",
       "</a>\n",
       "</g>\n",
       "</g>\n",
       "<!-- subject.Subject&#45;&gt;subject.SubjectRspace -->\n",
       "<g id=\"edge7\" class=\"edge\">\n",
       "<title>subject.Subject-&gt;subject.SubjectRspace</title>\n",
       "<path fill=\"none\" stroke=\"#000000\" stroke-width=\"2\" stroke-opacity=\"0.250980\" d=\"M187.11,-70.97C162.82,-60.09 131.14,-45.89 106.85,-35.01\"/>\n",
       "</g>\n",
       "<!-- subject.SubjectGenotype -->\n",
       "<g id=\"node11\" class=\"node\">\n",
       "<title>subject.SubjectGenotype</title>\n",
       "<g id=\"a_node11\"><a xlink:title=\"→ subject.Subject\r→ subject.Mutation\r------------------------------\rgenotype             \r\">\n",
       "<polygon fill=\"#00ff00\" fill-opacity=\"0.188235\" stroke=\"#00ff00\" stroke-opacity=\"0.188235\" points=\"458,-35 308,-35 308,0 458,0 458,-35\"/>\n",
       "<text text-anchor=\"middle\" x=\"383\" y=\"-14.4\" font-family=\"arial\" font-size=\"12.00\" fill=\"darkgreen\">subject.SubjectGenotype</text>\n",
       "</a>\n",
       "</g>\n",
       "</g>\n",
       "<!-- subject.Subject&#45;&gt;subject.SubjectGenotype -->\n",
       "<g id=\"edge8\" class=\"edge\">\n",
       "<title>subject.Subject-&gt;subject.SubjectGenotype</title>\n",
       "<path fill=\"none\" stroke=\"#000000\" stroke-width=\"0.75\" stroke-opacity=\"0.250980\" d=\"M262.08,-70.97C287.17,-60.09 319.88,-45.89 344.95,-35.01\"/>\n",
       "</g>\n",
       "<!-- subject.SubjectDeath -->\n",
       "<g id=\"node12\" class=\"node\">\n",
       "<title>subject.SubjectDeath</title>\n",
       "<g id=\"a_node12\"><a xlink:title=\"→ subject.Subject\r------------------------------\rdeath_date           \rcause                \r\">\n",
       "<polygon fill=\"#00ff00\" fill-opacity=\"0.188235\" stroke=\"#00ff00\" stroke-opacity=\"0.188235\" points=\"289.5,-35 158.5,-35 158.5,0 289.5,0 289.5,-35\"/>\n",
       "<text text-anchor=\"middle\" x=\"224\" y=\"-14.4\" font-family=\"arial\" font-size=\"12.00\" fill=\"darkgreen\">subject.SubjectDeath</text>\n",
       "</a>\n",
       "</g>\n",
       "</g>\n",
       "<!-- subject.Subject&#45;&gt;subject.SubjectDeath -->\n",
       "<g id=\"edge9\" class=\"edge\">\n",
       "<title>subject.Subject-&gt;subject.SubjectDeath</title>\n",
       "<path fill=\"none\" stroke=\"#000000\" stroke-width=\"2\" stroke-opacity=\"0.250980\" d=\"M224,-70.8C224,-59.95 224,-45.87 224,-35.05\"/>\n",
       "</g>\n",
       "<!-- subject.Lab -->\n",
       "<g id=\"node8\" class=\"node\">\n",
       "<title>subject.Lab</title>\n",
       "<g id=\"a_node8\"><a xlink:title=\"lab                  \r------------------------------\rlab_name             \rinstitution          \raddress              \r\">\n",
       "<polygon fill=\"#00ff00\" fill-opacity=\"0.188235\" stroke=\"#00ff00\" stroke-opacity=\"0.188235\" points=\"216,-319 138,-319 138,-284 216,-284 216,-319\"/>\n",
       "<text text-anchor=\"start\" x=\"146\" y=\"-299.4\" font-family=\"arial\" text-decoration=\"underline\" font-size=\"12.00\" fill=\"darkgreen\">subject.Lab</text>\n",
       "</a>\n",
       "</g>\n",
       "</g>\n",
       "<!-- subject.Lab&#45;&gt;subject.User -->\n",
       "<g id=\"edge10\" class=\"edge\">\n",
       "<title>subject.Lab-&gt;subject.User</title>\n",
       "<path fill=\"none\" stroke=\"#000000\" stroke-width=\"0.75\" stroke-dasharray=\"5,2\" stroke-opacity=\"0.250980\" d=\"M177,-283.8C177,-272.95 177,-258.87 177,-248.05\"/>\n",
       "</g>\n",
       "<!-- subject.Mutation&#45;&gt;subject.SubjectGenotype -->\n",
       "<g id=\"edge11\" class=\"edge\">\n",
       "<title>subject.Mutation-&gt;subject.SubjectGenotype</title>\n",
       "<path fill=\"none\" stroke=\"#000000\" stroke-width=\"0.75\" stroke-opacity=\"0.250980\" d=\"M383,-70.8C383,-59.95 383,-45.87 383,-35.05\"/>\n",
       "</g>\n",
       "<!-- subject.Protocol -->\n",
       "<g id=\"node10\" class=\"node\">\n",
       "<title>subject.Protocol</title>\n",
       "<g id=\"a_node10\"><a xlink:title=\"protocol             \r------------------------------\rprotocol_description=&quot;&quot; \r\">\n",
       "<polygon fill=\"#00ff00\" fill-opacity=\"0.188235\" stroke=\"#00ff00\" stroke-opacity=\"0.188235\" points=\"324,-177 222,-177 222,-142 324,-142 324,-177\"/>\n",
       "<text text-anchor=\"start\" x=\"230\" y=\"-157.4\" font-family=\"arial\" text-decoration=\"underline\" font-size=\"12.00\" fill=\"darkgreen\">subject.Protocol</text>\n",
       "</a>\n",
       "</g>\n",
       "</g>\n",
       "<!-- subject.Protocol&#45;&gt;subject.Subject -->\n",
       "<g id=\"edge12\" class=\"edge\">\n",
       "<title>subject.Protocol-&gt;subject.Subject</title>\n",
       "<path fill=\"none\" stroke=\"#000000\" stroke-width=\"0.75\" stroke-dasharray=\"5,2\" stroke-opacity=\"0.250980\" d=\"M261.14,-141.8C253.43,-130.95 243.43,-116.87 235.75,-106.05\"/>\n",
       "</g>\n",
       "</g>\n",
       "</svg>"
      ],
      "text/plain": [
       "<datajoint.diagram.Diagram at 0x7f61a1c14d30>"
      ]
     },
     "execution_count": 6,
     "metadata": {},
     "output_type": "execute_result"
    }
   ],
   "source": [
    "dj.Diagram(subject)"
   ]
  },
  {
   "cell_type": "code",
   "execution_count": 7,
   "id": "21c2a612",
   "metadata": {
    "scrolled": false
   },
   "outputs": [
    {
     "data": {
      "image/svg+xml": [
       "<svg xmlns=\"http://www.w3.org/2000/svg\" xmlns:xlink=\"http://www.w3.org/1999/xlink\" width=\"1065pt\" height=\"114pt\" viewBox=\"0.00 0.00 1064.50 114.00\">\n",
       "<g id=\"graph0\" class=\"graph\" transform=\"scale(1 1) rotate(0) translate(4 110)\">\n",
       "<polygon fill=\"white\" stroke=\"transparent\" points=\"-4,4 -4,-110 1060.5,-110 1060.5,4 -4,4\"/>\n",
       "<!-- session.Equipment -->\n",
       "<g id=\"node1\" class=\"node\">\n",
       "<title>session.Equipment</title>\n",
       "<g id=\"a_node1\"><a xlink:title=\"scanner              \r\">\n",
       "<polygon fill=\"#00ff00\" fill-opacity=\"0.188235\" stroke=\"#00ff00\" stroke-opacity=\"0.188235\" points=\"392.5,-106 273.5,-106 273.5,-71 392.5,-71 392.5,-106\"/>\n",
       "<text text-anchor=\"start\" x=\"281.5\" y=\"-86.4\" font-family=\"arial\" text-decoration=\"underline\" font-size=\"12.00\" fill=\"darkgreen\">session.Equipment</text>\n",
       "</a>\n",
       "</g>\n",
       "</g>\n",
       "<!-- session.SessionUser -->\n",
       "<g id=\"node2\" class=\"node\">\n",
       "<title>session.SessionUser</title>\n",
       "<g id=\"a_node2\"><a xlink:title=\"→ session.Session\r→ subject.User\r\">\n",
       "<polygon fill=\"#00ff00\" fill-opacity=\"0.188235\" stroke=\"#00ff00\" stroke-opacity=\"0.188235\" points=\"130,-35 0,-35 0,0 130,0 130,-35\"/>\n",
       "<text text-anchor=\"middle\" x=\"65\" y=\"-14.4\" font-family=\"arial\" font-size=\"12.00\" fill=\"darkgreen\">session.SessionUser</text>\n",
       "</a>\n",
       "</g>\n",
       "</g>\n",
       "<!-- session.Session -->\n",
       "<g id=\"node3\" class=\"node\">\n",
       "<title>session.Session</title>\n",
       "<g id=\"a_node3\"><a xlink:title=\"session_id           \r------------------------------\r→ subject.Subject\rsession_datetime     \r\">\n",
       "<polygon fill=\"#00ff00\" fill-opacity=\"0.188235\" stroke=\"#00ff00\" stroke-opacity=\"0.188235\" points=\"515,-106 411,-106 411,-71 515,-71 515,-106\"/>\n",
       "<text text-anchor=\"start\" x=\"419\" y=\"-86.4\" font-family=\"arial\" text-decoration=\"underline\" font-size=\"12.00\" fill=\"darkgreen\">session.Session</text>\n",
       "</a>\n",
       "</g>\n",
       "</g>\n",
       "<!-- session.Session&#45;&gt;session.SessionUser -->\n",
       "<g id=\"edge1\" class=\"edge\">\n",
       "<title>session.Session-&gt;session.SessionUser</title>\n",
       "<path fill=\"none\" stroke=\"#000000\" stroke-width=\"0.75\" stroke-opacity=\"0.250980\" d=\"M410.68,-73.09C407.41,-72.34 404.17,-71.64 401,-71 285.77,-47.84 254.68,-55.81 139,-35 136.15,-34.49 133.24,-33.94 130.31,-33.37\"/>\n",
       "</g>\n",
       "<!-- session.ProjectSession -->\n",
       "<g id=\"node4\" class=\"node\">\n",
       "<title>session.ProjectSession</title>\n",
       "<g id=\"a_node4\"><a xlink:title=\"→ subject.Project\r→ session.Session\r\">\n",
       "<polygon fill=\"#00ff00\" fill-opacity=\"0.188235\" stroke=\"#00ff00\" stroke-opacity=\"0.188235\" points=\"290,-35 148,-35 148,0 290,0 290,-35\"/>\n",
       "<text text-anchor=\"middle\" x=\"219\" y=\"-14.4\" font-family=\"arial\" font-size=\"12.00\" fill=\"darkgreen\">session.ProjectSession</text>\n",
       "</a>\n",
       "</g>\n",
       "</g>\n",
       "<!-- session.Session&#45;&gt;session.ProjectSession -->\n",
       "<g id=\"edge2\" class=\"edge\">\n",
       "<title>session.Session-&gt;session.ProjectSession</title>\n",
       "<path fill=\"none\" stroke=\"#000000\" stroke-width=\"0.75\" stroke-opacity=\"0.250980\" d=\"M410.96,-72.78C371.77,-61.7 318.03,-46.5 277.38,-35.01\"/>\n",
       "</g>\n",
       "<!-- session.SessionDirectory -->\n",
       "<g id=\"node5\" class=\"node\">\n",
       "<title>session.SessionDirectory</title>\n",
       "<g id=\"a_node5\"><a xlink:title=\"→ session.Session\r------------------------------\rsession_dir          \r→ subject.User\r\">\n",
       "<polygon fill=\"#00ff00\" fill-opacity=\"0.188235\" stroke=\"#00ff00\" stroke-opacity=\"0.188235\" points=\"460,-35 308,-35 308,0 460,0 460,-35\"/>\n",
       "<text text-anchor=\"middle\" x=\"384\" y=\"-14.4\" font-family=\"arial\" font-size=\"12.00\" fill=\"darkgreen\">session.SessionDirectory</text>\n",
       "</a>\n",
       "</g>\n",
       "</g>\n",
       "<!-- session.Session&#45;&gt;session.SessionDirectory -->\n",
       "<g id=\"edge3\" class=\"edge\">\n",
       "<title>session.Session-&gt;session.SessionDirectory</title>\n",
       "<path fill=\"none\" stroke=\"#000000\" stroke-width=\"2\" stroke-opacity=\"0.250980\" d=\"M443.88,-70.8C431.46,-59.95 415.33,-45.87 402.95,-35.05\"/>\n",
       "</g>\n",
       "<!-- session.SessionNote -->\n",
       "<g id=\"node6\" class=\"node\">\n",
       "<title>session.SessionNote</title>\n",
       "<g id=\"a_node6\"><a xlink:title=\"→ session.Session\r------------------------------\rsession_note         \r\">\n",
       "<polygon fill=\"#00ff00\" fill-opacity=\"0.188235\" stroke=\"#00ff00\" stroke-opacity=\"0.188235\" points=\"608,-35 478,-35 478,0 608,0 608,-35\"/>\n",
       "<text text-anchor=\"middle\" x=\"543\" y=\"-14.4\" font-family=\"arial\" font-size=\"12.00\" fill=\"darkgreen\">session.SessionNote</text>\n",
       "</a>\n",
       "</g>\n",
       "</g>\n",
       "<!-- session.Session&#45;&gt;session.SessionNote -->\n",
       "<g id=\"edge4\" class=\"edge\">\n",
       "<title>session.Session-&gt;session.SessionNote</title>\n",
       "<path fill=\"none\" stroke=\"#000000\" stroke-width=\"2\" stroke-opacity=\"0.250980\" d=\"M482.37,-70.8C494.94,-59.95 511.27,-45.87 523.81,-35.05\"/>\n",
       "</g>\n",
       "<!-- session.SessionRspace -->\n",
       "<g id=\"node9\" class=\"node\">\n",
       "<title>session.SessionRspace</title>\n",
       "<g id=\"a_node9\"><a xlink:title=\"→ session.Session\r------------------------------\rrspace_id            \r\">\n",
       "<polygon fill=\"#00ff00\" fill-opacity=\"0.188235\" stroke=\"#00ff00\" stroke-opacity=\"0.188235\" points=\"772,-35 626,-35 626,0 772,0 772,-35\"/>\n",
       "<text text-anchor=\"middle\" x=\"699\" y=\"-14.4\" font-family=\"arial\" font-size=\"12.00\" fill=\"darkgreen\">session.SessionRspace</text>\n",
       "</a>\n",
       "</g>\n",
       "</g>\n",
       "<!-- session.Session&#45;&gt;session.SessionRspace -->\n",
       "<g id=\"edge5\" class=\"edge\">\n",
       "<title>session.Session-&gt;session.SessionRspace</title>\n",
       "<path fill=\"none\" stroke=\"#000000\" stroke-width=\"2\" stroke-opacity=\"0.250980\" d=\"M515.08,-72.27C552.82,-61.24 603.8,-46.33 642.51,-35.02\"/>\n",
       "</g>\n",
       "<!-- session.SessionSameSite -->\n",
       "<g id=\"node10\" class=\"node\">\n",
       "<title>session.SessionSameSite</title>\n",
       "<g id=\"a_node10\"><a xlink:title=\"→ session.Session\r------------------------------\r→ session.SessionSite\r\">\n",
       "<polygon fill=\"#00ff00\" fill-opacity=\"0.188235\" stroke=\"#00ff00\" stroke-opacity=\"0.188235\" points=\"947.5,-35 790.5,-35 790.5,0 947.5,0 947.5,-35\"/>\n",
       "<text text-anchor=\"middle\" x=\"869\" y=\"-14.4\" font-family=\"arial\" font-size=\"12.00\" fill=\"darkgreen\">session.SessionSameSite</text>\n",
       "</a>\n",
       "</g>\n",
       "</g>\n",
       "<!-- session.Session&#45;&gt;session.SessionSameSite -->\n",
       "<g id=\"edge6\" class=\"edge\">\n",
       "<title>session.Session-&gt;session.SessionSameSite</title>\n",
       "<path fill=\"none\" stroke=\"#000000\" stroke-width=\"2\" stroke-opacity=\"0.250980\" d=\"M515.11,-79.25C578.15,-69.19 687.46,-51.49 781,-35 784.06,-34.46 787.18,-33.9 790.33,-33.34\"/>\n",
       "</g>\n",
       "<!-- session.SessionSite -->\n",
       "<g id=\"node7\" class=\"node\">\n",
       "<title>session.SessionSite</title>\n",
       "<g id=\"a_node7\"><a xlink:title=\"same_site_id         \r\">\n",
       "<polygon fill=\"#00ff00\" fill-opacity=\"0.188235\" stroke=\"#00ff00\" stroke-opacity=\"0.188235\" points=\"931.5,-106 806.5,-106 806.5,-71 931.5,-71 931.5,-106\"/>\n",
       "<text text-anchor=\"start\" x=\"814.5\" y=\"-86.4\" font-family=\"arial\" text-decoration=\"underline\" font-size=\"12.00\" fill=\"darkgreen\">session.SessionSite</text>\n",
       "</a>\n",
       "</g>\n",
       "</g>\n",
       "<!-- session.SessionSite&#45;&gt;session.SessionSameSite -->\n",
       "<g id=\"edge7\" class=\"edge\">\n",
       "<title>session.SessionSite-&gt;session.SessionSameSite</title>\n",
       "<path fill=\"none\" stroke=\"#000000\" stroke-width=\"0.75\" stroke-dasharray=\"5,2\" stroke-opacity=\"0.250980\" d=\"M869,-70.8C869,-59.95 869,-45.87 869,-35.05\"/>\n",
       "</g>\n",
       "<!-- session.Location -->\n",
       "<g id=\"node8\" class=\"node\">\n",
       "<title>session.Location</title>\n",
       "<g id=\"a_node8\"><a xlink:title=\"location             \r------------------------------\rlocation_full=&quot;&quot;     \r\">\n",
       "<polygon fill=\"#00ff00\" fill-opacity=\"0.188235\" stroke=\"#00ff00\" stroke-opacity=\"0.188235\" points=\"1056.5,-106 949.5,-106 949.5,-71 1056.5,-71 1056.5,-106\"/>\n",
       "<text text-anchor=\"start\" x=\"957.5\" y=\"-86.4\" font-family=\"arial\" text-decoration=\"underline\" font-size=\"12.00\" fill=\"darkgreen\">session.Location</text>\n",
       "</a>\n",
       "</g>\n",
       "</g>\n",
       "</g>\n",
       "</svg>"
      ],
      "text/plain": [
       "<datajoint.diagram.Diagram at 0x7f6199f8ebb0>"
      ]
     },
     "execution_count": 7,
     "metadata": {},
     "output_type": "execute_result"
    }
   ],
   "source": [
    "dj.Diagram(session) "
   ]
  },
  {
   "cell_type": "code",
   "execution_count": 8,
   "metadata": {},
   "outputs": [
    {
     "data": {
      "text/html": [
       "\n",
       "    \n",
       "    <style type=\"text/css\">\n",
       "        .Table{\n",
       "            border-collapse:collapse;\n",
       "        }\n",
       "        .Table th{\n",
       "            background: #A0A0A0; color: #ffffff; padding:4px; border:#f0e0e0 1px solid;\n",
       "            font-weight: normal; font-family: monospace; font-size: 100%;\n",
       "        }\n",
       "        .Table td{\n",
       "            padding:4px; border:#f0e0e0 1px solid; font-size:100%;\n",
       "        }\n",
       "        .Table tr:nth-child(odd){\n",
       "            background: #ffffff;\n",
       "            color: #000000;\n",
       "        }\n",
       "        .Table tr:nth-child(even){\n",
       "            background: #f3f1ff;\n",
       "            color: #000000;\n",
       "        }\n",
       "        /* Tooltip container */\n",
       "        .djtooltip {\n",
       "        }\n",
       "        /* Tooltip text */\n",
       "        .djtooltip .djtooltiptext {\n",
       "            visibility: hidden;\n",
       "            width: 120px;\n",
       "            background-color: black;\n",
       "            color: #fff;\n",
       "            text-align: center;\n",
       "            padding: 5px 0;\n",
       "            border-radius: 6px;\n",
       "            /* Position the tooltip text - see examples below! */\n",
       "            position: absolute;\n",
       "            z-index: 1;\n",
       "        }\n",
       "        #primary {\n",
       "            font-weight: bold;\n",
       "            color: black;\n",
       "        }\n",
       "        #nonprimary {\n",
       "            font-weight: normal;\n",
       "            color: white;\n",
       "        }\n",
       "\n",
       "        /* Show the tooltip text when you mouse over the tooltip container */\n",
       "        .djtooltip:hover .djtooltiptext {\n",
       "            visibility: visible;\n",
       "        }\n",
       "    </style>\n",
       "    \n",
       "    <b></b>\n",
       "        <div style=\"max-height:1000px;max-width:1500px;overflow:auto;\">\n",
       "        <table border=\"1\" class=\"Table\">\n",
       "            <thead> <tr style=\"text-align: right;\"> <th> <div class=\"djtooltip\">\n",
       "                            <p id=\"primary\">session_id</p>\n",
       "                            <span class=\"djtooltiptext\"></span>\n",
       "                        </div></th><th><div class=\"djtooltip\">\n",
       "                            <p id=\"nonprimary\">same_site_id</p>\n",
       "                            <span class=\"djtooltiptext\"></span>\n",
       "                        </div> </th> </tr> </thead>\n",
       "            <tbody> <tr> <td>sess9FI8ETDQ</td>\n",
       "<td>sess9FI8ETDQ</td></tr><tr><td>sess9FJ4IJOQ</td>\n",
       "<td>sess9FJ4IJOQ</td> </tr> </tbody>\n",
       "        </table>\n",
       "        \n",
       "        <p>Total: 2</p></div>\n",
       "        "
      ],
      "text/plain": [
       "*session_id    same_site_id  \n",
       "+------------+ +------------+\n",
       "sess9FI8ETDQ   sess9FI8ETDQ  \n",
       "sess9FJ4IJOQ   sess9FJ4IJOQ  \n",
       " (Total: 2)"
      ]
     },
     "execution_count": 8,
     "metadata": {},
     "output_type": "execute_result"
    }
   ],
   "source": [
    "session.SessionSameSite()"
   ]
  },
  {
   "cell_type": "code",
   "execution_count": 9,
   "id": "6d67431f",
   "metadata": {},
   "outputs": [
    {
     "data": {
      "text/html": [
       "\n",
       "    \n",
       "    <style type=\"text/css\">\n",
       "        .Table{\n",
       "            border-collapse:collapse;\n",
       "        }\n",
       "        .Table th{\n",
       "            background: #A0A0A0; color: #ffffff; padding:4px; border:#f0e0e0 1px solid;\n",
       "            font-weight: normal; font-family: monospace; font-size: 100%;\n",
       "        }\n",
       "        .Table td{\n",
       "            padding:4px; border:#f0e0e0 1px solid; font-size:100%;\n",
       "        }\n",
       "        .Table tr:nth-child(odd){\n",
       "            background: #ffffff;\n",
       "            color: #000000;\n",
       "        }\n",
       "        .Table tr:nth-child(even){\n",
       "            background: #f3f1ff;\n",
       "            color: #000000;\n",
       "        }\n",
       "        /* Tooltip container */\n",
       "        .djtooltip {\n",
       "        }\n",
       "        /* Tooltip text */\n",
       "        .djtooltip .djtooltiptext {\n",
       "            visibility: hidden;\n",
       "            width: 120px;\n",
       "            background-color: black;\n",
       "            color: #fff;\n",
       "            text-align: center;\n",
       "            padding: 5px 0;\n",
       "            border-radius: 6px;\n",
       "            /* Position the tooltip text - see examples below! */\n",
       "            position: absolute;\n",
       "            z-index: 1;\n",
       "        }\n",
       "        #primary {\n",
       "            font-weight: bold;\n",
       "            color: black;\n",
       "        }\n",
       "        #nonprimary {\n",
       "            font-weight: normal;\n",
       "            color: white;\n",
       "        }\n",
       "\n",
       "        /* Show the tooltip text when you mouse over the tooltip container */\n",
       "        .djtooltip:hover .djtooltiptext {\n",
       "            visibility: visible;\n",
       "        }\n",
       "    </style>\n",
       "    \n",
       "    \n",
       "        <div style=\"max-height:1000px;max-width:1500px;overflow:auto;\">\n",
       "        <table border=\"1\" class=\"Table\">\n",
       "            <thead> <tr style=\"text-align: right;\"> <th> <div class=\"djtooltip\">\n",
       "                            <p id=\"primary\">subject</p>\n",
       "                            <span class=\"djtooltiptext\">PyRat import uses this for earmark value</span>\n",
       "                        </div></th><th><div class=\"djtooltip\">\n",
       "                            <p id=\"primary\">session_id</p>\n",
       "                            <span class=\"djtooltiptext\"></span>\n",
       "                        </div> </th> </tr> </thead>\n",
       "            <tbody> <tr>  </tr> </tbody>\n",
       "        </table>\n",
       "        \n",
       "        <p>Total: 0</p></div>\n",
       "        "
      ],
      "text/plain": [
       "*subject    *session_id   \n",
       "+---------+ +------------+\n",
       "\n",
       " (Total: 0)"
      ]
     },
     "execution_count": 9,
     "metadata": {},
     "output_type": "execute_result"
    }
   ],
   "source": [
    "subject.Subject.proj(\"subject\") * session.Session.proj(\"session_id\") & 'subject = \"ROS-1346\"'"
   ]
  },
  {
   "cell_type": "code",
   "execution_count": 10,
   "id": "dc5ceb5d",
   "metadata": {},
   "outputs": [],
   "source": [
    "session_key = 'sess9FB2LN5C'\n",
    "session_dict = {'session_id': session_key}"
   ]
  },
  {
   "cell_type": "code",
   "execution_count": 12,
   "id": "a42acaad",
   "metadata": {},
   "outputs": [
    {
     "ename": "MissingAttributeError",
     "evalue": "Field 'subject' doesn't have a default value",
     "output_type": "error",
     "traceback": [
      "\u001b[0;31m---------------------------------------------------------------------------\u001b[0m",
      "\u001b[0;31mMissingAttributeError\u001b[0m                     Traceback (most recent call last)",
      "\u001b[1;32m/home/tobiasr/adamacs/notebooks/04_scan_insert.ipynb Cell 15\u001b[0m in \u001b[0;36m<cell line: 1>\u001b[0;34m()\u001b[0m\n\u001b[0;32m----> <a href='vscode-notebook-cell://ssh-remote%2B172.26.128.53/home/tobiasr/adamacs/notebooks/04_scan_insert.ipynb#X20sdnNjb2RlLXJlbW90ZQ%3D%3D?line=0'>1</a>\u001b[0m session\u001b[39m.\u001b[39;49mSession\u001b[39m.\u001b[39;49minsert1((session_dict))\n",
      "File \u001b[0;32m/home/leonk/anaconda3/envs/datajoint/lib/python3.8/site-packages/datajoint/table.py:337\u001b[0m, in \u001b[0;36mTable.insert1\u001b[0;34m(self, row, **kwargs)\u001b[0m\n\u001b[1;32m    330\u001b[0m \u001b[39mdef\u001b[39;00m \u001b[39minsert1\u001b[39m(\u001b[39mself\u001b[39m, row, \u001b[39m*\u001b[39m\u001b[39m*\u001b[39mkwargs):\n\u001b[1;32m    331\u001b[0m \u001b[39m    \u001b[39m\u001b[39m\"\"\"\u001b[39;00m\n\u001b[1;32m    332\u001b[0m \u001b[39m    Insert one data record into the table. For ``kwargs``, see ``insert()``.\u001b[39;00m\n\u001b[1;32m    333\u001b[0m \n\u001b[1;32m    334\u001b[0m \u001b[39m    :param row: a numpy record, a dict-like object, or an ordered sequence to be inserted\u001b[39;00m\n\u001b[1;32m    335\u001b[0m \u001b[39m        as one row.\u001b[39;00m\n\u001b[1;32m    336\u001b[0m \u001b[39m    \"\"\"\u001b[39;00m\n\u001b[0;32m--> 337\u001b[0m     \u001b[39mself\u001b[39;49m\u001b[39m.\u001b[39;49minsert((row,), \u001b[39m*\u001b[39;49m\u001b[39m*\u001b[39;49mkwargs)\n",
      "File \u001b[0;32m/home/leonk/anaconda3/envs/datajoint/lib/python3.8/site-packages/datajoint/table.py:440\u001b[0m, in \u001b[0;36mTable.insert\u001b[0;34m(self, rows, replace, skip_duplicates, ignore_extra_fields, allow_direct_insert)\u001b[0m\n\u001b[1;32m    424\u001b[0m \u001b[39mtry\u001b[39;00m:\n\u001b[1;32m    425\u001b[0m     query \u001b[39m=\u001b[39m \u001b[39m\"\u001b[39m\u001b[39m{command}\u001b[39;00m\u001b[39m INTO \u001b[39m\u001b[39m{destination}\u001b[39;00m\u001b[39m(`\u001b[39m\u001b[39m{fields}\u001b[39;00m\u001b[39m`) VALUES \u001b[39m\u001b[39m{placeholders}\u001b[39;00m\u001b[39m{duplicate}\u001b[39;00m\u001b[39m\"\u001b[39m\u001b[39m.\u001b[39mformat(\n\u001b[1;32m    426\u001b[0m         command\u001b[39m=\u001b[39m\u001b[39m\"\u001b[39m\u001b[39mREPLACE\u001b[39m\u001b[39m\"\u001b[39m \u001b[39mif\u001b[39;00m replace \u001b[39melse\u001b[39;00m \u001b[39m\"\u001b[39m\u001b[39mINSERT\u001b[39m\u001b[39m\"\u001b[39m,\n\u001b[1;32m    427\u001b[0m         destination\u001b[39m=\u001b[39m\u001b[39mself\u001b[39m\u001b[39m.\u001b[39mfrom_clause(),\n\u001b[0;32m   (...)\u001b[0m\n\u001b[1;32m    438\u001b[0m         ),\n\u001b[1;32m    439\u001b[0m     )\n\u001b[0;32m--> 440\u001b[0m     \u001b[39mself\u001b[39;49m\u001b[39m.\u001b[39;49mconnection\u001b[39m.\u001b[39;49mquery(\n\u001b[1;32m    441\u001b[0m         query,\n\u001b[1;32m    442\u001b[0m         args\u001b[39m=\u001b[39;49m\u001b[39mlist\u001b[39;49m(\n\u001b[1;32m    443\u001b[0m             itertools\u001b[39m.\u001b[39;49mchain\u001b[39m.\u001b[39;49mfrom_iterable(\n\u001b[1;32m    444\u001b[0m                 (v \u001b[39mfor\u001b[39;49;00m v \u001b[39min\u001b[39;49;00m r[\u001b[39m\"\u001b[39;49m\u001b[39mvalues\u001b[39;49m\u001b[39m\"\u001b[39;49m] \u001b[39mif\u001b[39;49;00m v \u001b[39mis\u001b[39;49;00m \u001b[39mnot\u001b[39;49;00m \u001b[39mNone\u001b[39;49;00m) \u001b[39mfor\u001b[39;49;00m r \u001b[39min\u001b[39;49;00m rows\n\u001b[1;32m    445\u001b[0m             )\n\u001b[1;32m    446\u001b[0m         ),\n\u001b[1;32m    447\u001b[0m     )\n\u001b[1;32m    448\u001b[0m \u001b[39mexcept\u001b[39;00m UnknownAttributeError \u001b[39mas\u001b[39;00m err:\n\u001b[1;32m    449\u001b[0m     \u001b[39mraise\u001b[39;00m err\u001b[39m.\u001b[39msuggest(\n\u001b[1;32m    450\u001b[0m         \u001b[39m\"\u001b[39m\u001b[39mTo ignore extra fields in insert, set ignore_extra_fields=True\u001b[39m\u001b[39m\"\u001b[39m\n\u001b[1;32m    451\u001b[0m     )\n",
      "File \u001b[0;32m/home/leonk/anaconda3/envs/datajoint/lib/python3.8/site-packages/datajoint/connection.py:340\u001b[0m, in \u001b[0;36mConnection.query\u001b[0;34m(self, query, args, as_dict, suppress_warnings, reconnect)\u001b[0m\n\u001b[1;32m    338\u001b[0m cursor \u001b[39m=\u001b[39m \u001b[39mself\u001b[39m\u001b[39m.\u001b[39m_conn\u001b[39m.\u001b[39mcursor(cursor\u001b[39m=\u001b[39mcursor_class)\n\u001b[1;32m    339\u001b[0m \u001b[39mtry\u001b[39;00m:\n\u001b[0;32m--> 340\u001b[0m     \u001b[39mself\u001b[39;49m\u001b[39m.\u001b[39;49m_execute_query(cursor, query, args, suppress_warnings)\n\u001b[1;32m    341\u001b[0m \u001b[39mexcept\u001b[39;00m errors\u001b[39m.\u001b[39mLostConnectionError:\n\u001b[1;32m    342\u001b[0m     \u001b[39mif\u001b[39;00m \u001b[39mnot\u001b[39;00m reconnect:\n",
      "File \u001b[0;32m/home/leonk/anaconda3/envs/datajoint/lib/python3.8/site-packages/datajoint/connection.py:296\u001b[0m, in \u001b[0;36mConnection._execute_query\u001b[0;34m(cursor, query, args, suppress_warnings)\u001b[0m\n\u001b[1;32m    294\u001b[0m         cursor\u001b[39m.\u001b[39mexecute(query, args)\n\u001b[1;32m    295\u001b[0m \u001b[39mexcept\u001b[39;00m client\u001b[39m.\u001b[39merr\u001b[39m.\u001b[39mError \u001b[39mas\u001b[39;00m err:\n\u001b[0;32m--> 296\u001b[0m     \u001b[39mraise\u001b[39;00m translate_query_error(err, query)\n",
      "\u001b[0;31mMissingAttributeError\u001b[0m: Field 'subject' doesn't have a default value"
     ]
    }
   ],
   "source": [
    " session.Session.insert1((session_dict))"
   ]
  },
  {
   "cell_type": "code",
   "execution_count": null,
   "id": "d27a2f0f",
   "metadata": {},
   "outputs": [],
   "source": [
    "session.SessionSameSite()"
   ]
  },
  {
   "cell_type": "code",
   "execution_count": null,
   "id": "0d8b56af",
   "metadata": {},
   "outputs": [],
   "source": [
    "session.SessionSameSite.describe()"
   ]
  },
  {
   "cell_type": "code",
   "execution_count": null,
   "id": "f518dc56",
   "metadata": {
    "scrolled": true
   },
   "outputs": [],
   "source": [
    "session.SessionUser()"
   ]
  },
  {
   "cell_type": "code",
   "execution_count": null,
   "id": "aa81d3bb",
   "metadata": {},
   "outputs": [],
   "source": [
    "session.SessionNote()"
   ]
  },
  {
   "cell_type": "code",
   "execution_count": null,
   "id": "7e5c7df9",
   "metadata": {},
   "outputs": [],
   "source": [
    "dj.Diagram(scan) "
   ]
  },
  {
   "cell_type": "code",
   "execution_count": null,
   "id": "c74ea617",
   "metadata": {
    "scrolled": true
   },
   "outputs": [],
   "source": [
    "scan.ScanInfo.ScanFile()"
   ]
  },
  {
   "cell_type": "code",
   "execution_count": null,
   "id": "ad869c62",
   "metadata": {
    "scrolled": true
   },
   "outputs": [],
   "source": [
    "scan.ScanInfo.Field()"
   ]
  },
  {
   "cell_type": "code",
   "execution_count": null,
   "id": "b60b8a84",
   "metadata": {},
   "outputs": [],
   "source": [
    "scan.ScanPath()"
   ]
  },
  {
   "cell_type": "code",
   "execution_count": null,
   "id": "6a9397a5",
   "metadata": {
    "scrolled": true
   },
   "outputs": [],
   "source": [
    "scan.ScanLocation()"
   ]
  },
  {
   "cell_type": "code",
   "execution_count": null,
   "id": "56ba5075",
   "metadata": {
    "scrolled": true
   },
   "outputs": [],
   "source": [
    "scan.AcquisitionSoftware()"
   ]
  },
  {
   "cell_type": "code",
   "execution_count": null,
   "id": "6326cef8",
   "metadata": {},
   "outputs": [],
   "source": [
    "scan.Channel()"
   ]
  },
  {
   "cell_type": "markdown",
   "id": "7a2e2ccf-01d6-4d31-932b-aa12f8cd05a8",
   "metadata": {},
   "source": [
    "Manual entry:"
   ]
  },
  {
   "cell_type": "code",
   "execution_count": null,
   "id": "333074dc-2962-4c3f-ae66-d4164d6ceac9",
   "metadata": {},
   "outputs": [],
   "source": [
    "# Manual Entry\n",
    "import datajoint as dj; import getpass\n",
    "dj.config['database.host'] = '172.26.128.53'        # Put the server name between these apostrophe\n",
    "dj.config['database.user'] = 'danielmk'             # Put your user name between these apostrophe\n",
    "dj.config['database.password'] = getpass.getpass()  # Put your password in the prompt\n",
    "dj.conn()\n",
    "\n",
    "from adamacs.pipeline import subject, session, surgery, scan, equipment\n",
    "from adamacs import utility\n",
    "from adamacs.ingest import session as isess\n",
    "sub, lab, protocol, line, mutation, user, project, subject_genotype, subject_death = (\n",
    "    subject.Subject(), subject.Lab(), subject.Protocol(), subject.Line(), \n",
    "    subject.Mutation(), subject.User(), subject.Project(), subject.SubjectGenotype(), \n",
    "    subject.SubjectDeath())"
   ]
  },
  {
   "cell_type": "markdown",
   "id": "bb115bfc-2abb-45c9-bcba-c5c9e73b8990",
   "metadata": {},
   "source": [
    "\n",
    "## Ingesting scan"
   ]
  },
  {
   "cell_type": "markdown",
   "id": "47c001f0",
   "metadata": {},
   "source": [
    "Ingest all scans associated with a given session ID."
   ]
  },
  {
   "cell_type": "code",
   "execution_count": null,
   "id": "e04adcf4",
   "metadata": {},
   "outputs": [],
   "source": [
    "# isess.ingest_session_scan('sess9FB2LN5C', verbose=True)\n",
    "isess.ingest_session_scan('sess9FGLZLRI', verbose=False) #TR: needs to be SessioID (\"sess...\")"
   ]
  },
  {
   "cell_type": "code",
   "execution_count": null,
   "id": "c4c8bb54-ae93-4974-9ff7-ac74dfa2baa0",
   "metadata": {},
   "outputs": [],
   "source": [
    "subject.Subject() & session.Session()"
   ]
  },
  {
   "cell_type": "code",
   "execution_count": null,
   "id": "c525e289",
   "metadata": {},
   "outputs": [],
   "source": [
    "session.SessionNote()"
   ]
  },
  {
   "cell_type": "code",
   "execution_count": null,
   "id": "824cb8cd",
   "metadata": {},
   "outputs": [],
   "source": [
    "session.SessionDirectory() * session.ProjectSession() * sub"
   ]
  },
  {
   "cell_type": "code",
   "execution_count": null,
   "id": "3a3e96e3",
   "metadata": {},
   "outputs": [],
   "source": [
    "session.ProjectSession()"
   ]
  },
  {
   "cell_type": "code",
   "execution_count": null,
   "id": "bdfe449c-9ecc-4b49-93ee-9c73295b12eb",
   "metadata": {},
   "outputs": [],
   "source": [
    "key='scan9FG1UAQG'\n",
    "(scan.Scan & f'scan_id=\\\"{key}\\\"')"
   ]
  },
  {
   "cell_type": "markdown",
   "id": "127f793d",
   "metadata": {},
   "source": [
    "Simple user look-up to get user_id from shorthand"
   ]
  },
  {
   "cell_type": "code",
   "execution_count": null,
   "id": "f620750b",
   "metadata": {},
   "outputs": [],
   "source": [
    "key='RN'\n",
    "query = (subject.User & f'initials=\\\"{key}\\\"')\n",
    "id = query.fetch(\"user_id\")[0]\n",
    "print(key + ' = ' + str(id))"
   ]
  },
  {
   "cell_type": "code",
   "execution_count": null,
   "id": "21f26116",
   "metadata": {},
   "outputs": [],
   "source": [
    "key='%Tob%'\n",
    "query = (subject.User & f'name LIKE \\\"{key}\\\"')\n",
    "id = query.fetch(\"user_id\")\n",
    "print(key + ' = ' + str(id))"
   ]
  },
  {
   "cell_type": "code",
   "execution_count": null,
   "id": "9b2d330b",
   "metadata": {},
   "outputs": [],
   "source": [
    "key='%Ji%'\n",
    "query = (subject.User & f'name LIKE \\\"{key}\\\"')\n",
    "query.fetch(\"email\")"
   ]
  },
  {
   "cell_type": "code",
   "execution_count": null,
   "id": "891ca3d7",
   "metadata": {},
   "outputs": [],
   "source": [
    "query = subject.Subject() & '\"ROS-1380\"'\n",
    "query.fetch()"
   ]
  },
  {
   "cell_type": "code",
   "execution_count": null,
   "id": "cb7ff963",
   "metadata": {},
   "outputs": [],
   "source": [
    "subject.Subject() & \"subject = 'ROS-1346'\""
   ]
  }
 ],
 "metadata": {
  "jupytext": {
   "formats": "ipynb,py"
  },
  "kernelspec": {
   "display_name": "Python 3 (ipykernel)",
   "language": "python",
   "name": "python3"
  },
  "language_info": {
   "codemirror_mode": {
    "name": "ipython",
    "version": 3
   },
   "file_extension": ".py",
   "mimetype": "text/x-python",
   "name": "python",
   "nbconvert_exporter": "python",
   "pygments_lexer": "ipython3",
   "version": "3.8.15"
  },
  "vscode": {
   "interpreter": {
    "hash": "2888206d04306eefe963095373d1dcce5cd11176f3d6ee4ec3f64dd9e65fd8a1"
   }
  }
 },
 "nbformat": 4,
 "nbformat_minor": 5
}
