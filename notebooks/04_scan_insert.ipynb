{
 "cells": [
  {
   "cell_type": "markdown",
   "id": "46f28eb7-1fcc-4b9a-803e-097202fd899d",
   "metadata": {},
   "source": [
    "# Scanning Session Ingestion"
   ]
  },
  {
   "cell_type": "markdown",
   "id": "bba759c2-4cc1-45ee-9212-422a604c32a4",
   "metadata": {},
   "source": [
    "## Setup"
   ]
  },
  {
   "cell_type": "markdown",
   "id": "0da9aa77-afbf-43b2-ad19-e497e05e8627",
   "metadata": {},
   "source": [
    "### Connect to the database"
   ]
  },
  {
   "cell_type": "markdown",
   "id": "bd1468c3-3915-49e6-89a9-10c7940017fd",
   "metadata": {},
   "source": [
    "If you are don't have your login information, contact the administrator.\n",
    "\n",
    "Using local config file (see [01_pipeline](./01_pipeline.ipynb)):"
   ]
  },
  {
   "cell_type": "code",
   "execution_count": 1,
   "id": "301f9675-53e0-4ff6-bf3d-baba6589d6e3",
   "metadata": {},
   "outputs": [
    {
     "name": "stderr",
     "output_type": "stream",
     "text": [
      "[2023-11-07 16:30:48,652][INFO]: Connecting tobiasr@172.26.128.53:3306\n",
      "[2023-11-07 16:30:48,698][INFO]: Connected tobiasr@172.26.128.53:3306\n"
     ]
    }
   ],
   "source": [
    "import os\n",
    "# change to the upper level folder to detect dj_local_conf.json\n",
    "if os.path.basename(os.getcwd())=='notebooks': os.chdir('..')\n",
    "assert os.path.basename(os.getcwd())=='adamacs', (\"Please move to the main directory\")\n",
    "import datajoint as dj; dj.conn()\n",
    "\n",
    "from adamacs.pipeline import subject, session, surgery, scan, equipment, model\n",
    "from adamacs import utility\n",
    "from adamacs.ingest import session as isess\n",
    "sub, lab, protocol, line, mutation, user, project, subject_genotype, subject_death = (\n",
    "    subject.Subject(), subject.Lab(), subject.Protocol(), subject.Line(), \n",
    "    subject.Mutation(), subject.User(), subject.Project(), subject.SubjectGenotype(), \n",
    "    subject.SubjectDeath())"
   ]
  },
  {
   "cell_type": "code",
   "execution_count": 2,
   "id": "4bd995f6",
   "metadata": {},
   "outputs": [],
   "source": [
    "# subject.Subject.drop()\n",
    "# subject.Mutation.drop()\n",
    "# subject.Protocol.drop()\n",
    "# subject.Line.drop()\n",
    "# subject.SubjectGenotype.drop()\n",
    "# equipment.Equipment.drop()\n",
    "# scan.Scan.drop()\n",
    "# session.ProjectSession.drop()\n",
    "# imaging.Processing.drop()"
   ]
  },
  {
   "cell_type": "code",
   "execution_count": 3,
   "id": "5b33cb1a",
   "metadata": {},
   "outputs": [],
   "source": [
    "# session.Session.delete()\n"
   ]
  },
  {
   "cell_type": "code",
   "execution_count": 4,
   "id": "44e51054",
   "metadata": {},
   "outputs": [
    {
     "data": {
      "text/plain": [
       "'-> session.Session\\nscan_id              : varchar(12)                  \\n---\\n-> [nullable] equipment.Equipment\\n-> scan.AcquisitionSoftware\\nscan_notes=\"\"        : varchar(4095)                # free-notes\\n'"
      ]
     },
     "execution_count": 4,
     "metadata": {},
     "output_type": "execute_result"
    }
   ],
   "source": [
    "scan.Scan.describe()"
   ]
  },
  {
   "cell_type": "code",
   "execution_count": 5,
   "id": "215d768a",
   "metadata": {},
   "outputs": [
    {
     "data": {
      "text/plain": [
       "'0.14.1'"
      ]
     },
     "execution_count": 5,
     "metadata": {},
     "output_type": "execute_result"
    }
   ],
   "source": [
    "dj.__version__"
   ]
  },
  {
   "cell_type": "code",
   "execution_count": 10,
   "id": "dcd34047-4e4a-4d52-a6b0-1585c41ee3e0",
   "metadata": {},
   "outputs": [
    {
     "data": {
      "image/svg+xml": [
       "<svg xmlns=\"http://www.w3.org/2000/svg\" xmlns:xlink=\"http://www.w3.org/1999/xlink\" width=\"833pt\" height=\"302pt\" viewBox=\"0.00 0.00 832.86 301.60\">\n",
       "<g id=\"graph0\" class=\"graph\" transform=\"scale(1 1) rotate(0) translate(4 297.6)\">\n",
       "<polygon fill=\"white\" stroke=\"none\" points=\"-4,4 -4,-297.6 828.86,-297.6 828.86,4 -4,4\"/>\n",
       "<!-- model.BodyPart -->\n",
       "<g id=\"node1\" class=\"node\">\n",
       "<title>model.BodyPart</title>\n",
       "<g id=\"a_node1\"><a xlink:title=\"body_part            \r------------------------------\rbody_part_description=&quot;&quot; \r\">\n",
       "<polygon fill=\"#000000\" fill-opacity=\"0.125490\" stroke=\"none\" points=\"824.86,-223.04 739.11,-223.04 739.11,-188.48 824.86,-188.48 824.86,-223.04\"/>\n",
       "<text text-anchor=\"start\" x=\"747.11\" y=\"-203.26\" font-family=\"arial\" text-decoration=\"underline\" font-size=\"10.00\">model.BodyPart</text>\n",
       "</a>\n",
       "</g>\n",
       "</g>\n",
       "<!-- model.Model.BodyPart -->\n",
       "<g id=\"node10\" class=\"node\">\n",
       "<title>model.Model.BodyPart</title>\n",
       "<g id=\"a_node10\"><a xlink:title=\"→ model.Model\r→ model.BodyPart\r\">\n",
       "<polygon fill=\"none\" stroke=\"none\" points=\"788.49,-145.2 673.49,-145.2 673.49,-125.2 788.49,-125.2 788.49,-145.2\"/>\n",
       "<text text-anchor=\"middle\" x=\"730.99\" y=\"-131.7\" font-family=\"arial\" font-size=\"10.00\">model.Model.BodyPart</text>\n",
       "</a>\n",
       "</g>\n",
       "</g>\n",
       "<!-- model.BodyPart&#45;&gt;model.Model.BodyPart -->\n",
       "<g id=\"edge1\" class=\"edge\">\n",
       "<title>model.BodyPart-&gt;model.Model.BodyPart</title>\n",
       "<path fill=\"none\" stroke=\"#000000\" stroke-width=\"0.75\" stroke-opacity=\"0.250980\" d=\"M769.9,-188.51C759.77,-174.89 745.68,-155.96 737.53,-145\"/>\n",
       "</g>\n",
       "<!-- model.ModelEvaluation -->\n",
       "<g id=\"node2\" class=\"node\">\n",
       "<title>model.ModelEvaluation</title>\n",
       "<g id=\"a_node2\"><a xlink:title=\"→ model.Model\r------------------------------\rtrain_iterations     \rtrain_error=null     \rtest_error=null      \rp_cutoff=null        \rtrain_error_p=null   \rtest_error_p=null    \r\">\n",
       "<ellipse fill=\"#ff0000\" fill-opacity=\"0.125490\" stroke=\"#ff0000\" stroke-opacity=\"0.125490\" cx=\"583.99\" cy=\"-135.2\" rx=\"12.96\" ry=\"12.96\"/>\n",
       "<text text-anchor=\"middle\" x=\"583.99\" y=\"-130.93\" font-family=\"arial\" font-size=\"12.00\" fill=\"#7f0000\" fill-opacity=\"0.627451\">model.ModelEvaluation</text>\n",
       "</a>\n",
       "</g>\n",
       "</g>\n",
       "<!-- model.RecordingInfo -->\n",
       "<g id=\"node3\" class=\"node\">\n",
       "<title>model.RecordingInfo</title>\n",
       "<g id=\"a_node3\"><a xlink:title=\"→ model.VideoRecording\r------------------------------\rpx_height            \rpx_width             \rnframes              \rfps=null             \rrecording_datetime=null \rrecording_duration   \r\">\n",
       "<ellipse fill=\"#00007f\" fill-opacity=\"0.250980\" stroke=\"#00007f\" stroke-opacity=\"0.250980\" cx=\"82.99\" cy=\"-135.2\" rx=\"82.99\" ry=\"17.28\"/>\n",
       "<text text-anchor=\"middle\" x=\"82.99\" y=\"-130.93\" font-family=\"arial\" font-size=\"12.00\" fill=\"#00007f\" fill-opacity=\"0.627451\">model.RecordingInfo</text>\n",
       "</a>\n",
       "</g>\n",
       "</g>\n",
       "<!-- equipment.Device -->\n",
       "<g id=\"node4\" class=\"node\">\n",
       "<title>equipment.Device</title>\n",
       "<g id=\"a_node4\"><a xlink:title=\"camera               \r------------------------------\rcamera_description=&quot;&quot; \r\">\n",
       "<polygon fill=\"#00ff00\" fill-opacity=\"0.188235\" stroke=\"#00ff00\" stroke-opacity=\"0.188235\" points=\"447.36,-293.6 334.61,-293.6 334.61,-259.04 447.36,-259.04 447.36,-293.6\"/>\n",
       "<text text-anchor=\"start\" x=\"342.61\" y=\"-273.05\" font-family=\"arial\" text-decoration=\"underline\" font-size=\"12.00\" fill=\"darkgreen\">equipment.Device</text>\n",
       "</a>\n",
       "</g>\n",
       "</g>\n",
       "<!-- model.VideoRecording -->\n",
       "<g id=\"node5\" class=\"node\">\n",
       "<title>model.VideoRecording</title>\n",
       "<g id=\"a_node5\"><a xlink:title=\"→ session.Session\rrecording_id         \r------------------------------\r→ equipment.Equipment\r\">\n",
       "<polygon fill=\"#00ff00\" fill-opacity=\"0.188235\" stroke=\"#00ff00\" stroke-opacity=\"0.188235\" points=\"319.11,-223.04 180.86,-223.04 180.86,-188.48 319.11,-188.48 319.11,-223.04\"/>\n",
       "<text text-anchor=\"start\" x=\"188.86\" y=\"-202.49\" font-family=\"arial\" text-decoration=\"underline\" font-size=\"12.00\" fill=\"darkgreen\">model.VideoRecording</text>\n",
       "</a>\n",
       "</g>\n",
       "</g>\n",
       "<!-- model.VideoRecording&#45;&gt;model.RecordingInfo -->\n",
       "<g id=\"edge2\" class=\"edge\">\n",
       "<title>model.VideoRecording-&gt;model.RecordingInfo</title>\n",
       "<path fill=\"none\" stroke=\"#000000\" stroke-width=\"2\" stroke-opacity=\"0.250980\" d=\"M209.13,-187.99C181.71,-176.73 145.9,-162.03 119.44,-151.17\"/>\n",
       "</g>\n",
       "<!-- model.PoseEstimationTask -->\n",
       "<g id=\"node8\" class=\"node\">\n",
       "<title>model.PoseEstimationTask</title>\n",
       "<g id=\"a_node8\"><a xlink:title=\"→ model.VideoRecording\r→ model.Model\r------------------------------\rtask_mode=&quot;load&quot;     \rpose_estimation_output_dir=&quot;&quot; \rpose_estimation_params=null \r\">\n",
       "<polygon fill=\"#00ff00\" fill-opacity=\"0.188235\" stroke=\"#00ff00\" stroke-opacity=\"0.188235\" points=\"495.36,-152.48 334.61,-152.48 334.61,-117.92 495.36,-117.92 495.36,-152.48\"/>\n",
       "<text text-anchor=\"middle\" x=\"414.99\" y=\"-130.93\" font-family=\"arial\" font-size=\"12.00\" fill=\"darkgreen\">model.PoseEstimationTask</text>\n",
       "</a>\n",
       "</g>\n",
       "</g>\n",
       "<!-- model.VideoRecording&#45;&gt;model.PoseEstimationTask -->\n",
       "<g id=\"edge3\" class=\"edge\">\n",
       "<title>model.VideoRecording-&gt;model.PoseEstimationTask</title>\n",
       "<path fill=\"none\" stroke=\"#000000\" stroke-width=\"0.75\" stroke-opacity=\"0.250980\" d=\"M290.35,-187.99C316.01,-177.32 349.11,-163.57 374.75,-152.92\"/>\n",
       "</g>\n",
       "<!-- model.VideoRecording.File -->\n",
       "<g id=\"node9\" class=\"node\">\n",
       "<title>model.VideoRecording.File</title>\n",
       "<g id=\"a_node9\"><a xlink:title=\"→ model.VideoRecording\rfile_id              \r------------------------------\rfile_path            \r\">\n",
       "<polygon fill=\"none\" stroke=\"none\" points=\"316.49,-145.2 183.49,-145.2 183.49,-125.2 316.49,-125.2 316.49,-145.2\"/>\n",
       "<text text-anchor=\"start\" x=\"191.49\" y=\"-132.7\" font-family=\"arial\" text-decoration=\"underline\" font-size=\"10.00\">model.VideoRecording.File</text>\n",
       "</a>\n",
       "</g>\n",
       "</g>\n",
       "<!-- model.VideoRecording&#45;&gt;model.VideoRecording.File -->\n",
       "<g id=\"edge4\" class=\"edge\">\n",
       "<title>model.VideoRecording-&gt;model.VideoRecording.File</title>\n",
       "<path fill=\"none\" stroke=\"#000000\" stroke-width=\"0.75\" stroke-opacity=\"0.250980\" d=\"M249.99,-188.16C249.99,-174.53 249.99,-155.76 249.99,-144.91\"/>\n",
       "</g>\n",
       "<!-- model.PoseEstimation -->\n",
       "<g id=\"node6\" class=\"node\">\n",
       "<title>model.PoseEstimation</title>\n",
       "<g id=\"a_node6\"><a xlink:title=\"→ model.PoseEstimationTask\r------------------------------\rpose_estimation_time \r\">\n",
       "<ellipse fill=\"#ff0000\" fill-opacity=\"0.125490\" stroke=\"#ff0000\" stroke-opacity=\"0.125490\" cx=\"524.99\" cy=\"-68.96\" rx=\"12.96\" ry=\"12.96\"/>\n",
       "<text text-anchor=\"middle\" x=\"524.99\" y=\"-64.69\" font-family=\"arial\" font-size=\"12.00\" fill=\"#7f0000\" fill-opacity=\"0.627451\">model.PoseEstimation</text>\n",
       "</a>\n",
       "</g>\n",
       "</g>\n",
       "<!-- model.PoseEstimation.BodyPartPosition -->\n",
       "<g id=\"node13\" class=\"node\">\n",
       "<title>model.PoseEstimation.BodyPartPosition</title>\n",
       "<g id=\"a_node13\"><a xlink:title=\"→ model.PoseEstimation\r→ model.Model.BodyPart\r------------------------------\rframe_index          \rx_pos                \ry_pos                \rz_pos=null           \rlikelihood           \r\">\n",
       "<polygon fill=\"none\" stroke=\"none\" points=\"621.49,-20 428.49,-20 428.49,0 621.49,0 621.49,-20\"/>\n",
       "<text text-anchor=\"middle\" x=\"524.99\" y=\"-6.5\" font-family=\"arial\" font-size=\"10.00\">model.PoseEstimation.BodyPartPosition</text>\n",
       "</a>\n",
       "</g>\n",
       "</g>\n",
       "<!-- model.PoseEstimation&#45;&gt;model.PoseEstimation.BodyPartPosition -->\n",
       "<g id=\"edge5\" class=\"edge\">\n",
       "<title>model.PoseEstimation-&gt;model.PoseEstimation.BodyPartPosition</title>\n",
       "<path fill=\"none\" stroke=\"#000000\" stroke-width=\"0.75\" stroke-opacity=\"0.250980\" d=\"M524.99,-56.16C524.99,-45.34 524.99,-29.56 524.99,-19.81\"/>\n",
       "</g>\n",
       "<!-- model.Model -->\n",
       "<g id=\"node7\" class=\"node\">\n",
       "<title>model.Model</title>\n",
       "<g id=\"a_node7\"><a xlink:title=\"model_name           \r------------------------------\rtask                 \rdate                 \riteration            \rsnapshotindex        \rshuffle              \rtrainingsetindex     \rscorer               \rconfig_template      \rproject_path         \rmodel_prefix=&quot;&quot;      \rmodel_description=&quot;&quot; \r→ [nullable] `tobiasr02_train`.`#training_param_set`\rUNIQUE INDEX (task, date, iteration, shuffle, snapshotindex, trainingsetindex)\r\">\n",
       "<polygon fill=\"#00ff00\" fill-opacity=\"0.188235\" stroke=\"#00ff00\" stroke-opacity=\"0.188235\" points=\"721.49,-223.04 636.49,-223.04 636.49,-188.48 721.49,-188.48 721.49,-223.04\"/>\n",
       "<text text-anchor=\"start\" x=\"644.49\" y=\"-202.49\" font-family=\"arial\" text-decoration=\"underline\" font-size=\"12.00\" fill=\"darkgreen\">model.Model</text>\n",
       "</a>\n",
       "</g>\n",
       "</g>\n",
       "<!-- model.Model&#45;&gt;model.ModelEvaluation -->\n",
       "<g id=\"edge6\" class=\"edge\">\n",
       "<title>model.Model-&gt;model.ModelEvaluation</title>\n",
       "<path fill=\"none\" stroke=\"#000000\" stroke-width=\"2\" stroke-opacity=\"0.250980\" d=\"M655.99,-188.16C636,-173.74 608.04,-153.56 593.55,-143.1\"/>\n",
       "</g>\n",
       "<!-- model.Model&#45;&gt;model.PoseEstimationTask -->\n",
       "<g id=\"edge7\" class=\"edge\">\n",
       "<title>model.Model-&gt;model.PoseEstimationTask</title>\n",
       "<path fill=\"none\" stroke=\"#000000\" stroke-width=\"0.75\" stroke-opacity=\"0.250980\" d=\"M636.28,-193.67C593.88,-182.66 528.36,-165.64 479.6,-152.98\"/>\n",
       "</g>\n",
       "<!-- model.Model&#45;&gt;model.Model.BodyPart -->\n",
       "<g id=\"edge8\" class=\"edge\">\n",
       "<title>model.Model-&gt;model.Model.BodyPart</title>\n",
       "<path fill=\"none\" stroke=\"#000000\" stroke-width=\"0.75\" stroke-opacity=\"0.250980\" d=\"M691.57,-188.16C701.91,-174.53 716.15,-155.76 724.38,-144.91\"/>\n",
       "</g>\n",
       "<!-- model.PoseEstimationTask&#45;&gt;model.PoseEstimation -->\n",
       "<g id=\"edge9\" class=\"edge\">\n",
       "<title>model.PoseEstimationTask-&gt;model.PoseEstimation</title>\n",
       "<path fill=\"none\" stroke=\"#000000\" stroke-width=\"2\" stroke-opacity=\"0.250980\" d=\"M443.6,-117.49C466.77,-103.96 498.13,-85.64 514.32,-76.19\"/>\n",
       "</g>\n",
       "<!-- model.Model.BodyPart&#45;&gt;model.PoseEstimation.BodyPartPosition -->\n",
       "<g id=\"edge10\" class=\"edge\">\n",
       "<title>model.Model.BodyPart-&gt;model.PoseEstimation.BodyPartPosition</title>\n",
       "<path fill=\"none\" stroke=\"#000000\" stroke-width=\"0.75\" stroke-opacity=\"0.250980\" d=\"M716.33,-125.21C692.45,-110.58 643.62,-80.78 601.99,-56 580.7,-43.33 555.94,-28.92 540.37,-19.89\"/>\n",
       "</g>\n",
       "<!-- equipment.Equipment -->\n",
       "<g id=\"node11\" class=\"node\">\n",
       "<title>equipment.Equipment</title>\n",
       "<g id=\"a_node11\"><a xlink:title=\"scanner              \r------------------------------\rscanner_description=&quot;&quot; \r\">\n",
       "<polygon fill=\"#00ff00\" fill-opacity=\"0.188235\" stroke=\"#00ff00\" stroke-opacity=\"0.188235\" points=\"316.49,-293.6 183.49,-293.6 183.49,-259.04 316.49,-259.04 316.49,-293.6\"/>\n",
       "<text text-anchor=\"start\" x=\"191.49\" y=\"-273.05\" font-family=\"arial\" text-decoration=\"underline\" font-size=\"12.00\" fill=\"darkgreen\">equipment.Equipment</text>\n",
       "</a>\n",
       "</g>\n",
       "</g>\n",
       "<!-- equipment.Equipment&#45;&gt;model.VideoRecording -->\n",
       "<g id=\"edge11\" class=\"edge\">\n",
       "<title>equipment.Equipment-&gt;model.VideoRecording</title>\n",
       "<path fill=\"none\" stroke=\"#000000\" stroke-width=\"0.75\" stroke-dasharray=\"5,2\" stroke-opacity=\"0.250980\" d=\"M249.99,-258.72C249.99,-247.94 249.99,-233.95 249.99,-223.2\"/>\n",
       "</g>\n",
       "<!-- equipment.SetupRestraint -->\n",
       "<g id=\"node12\" class=\"node\">\n",
       "<title>equipment.SetupRestraint</title>\n",
       "<g id=\"a_node12\"><a xlink:title=\"setup_restraint      \r------------------------------\rsetup_restraint_description=&quot;&quot; \r\">\n",
       "<polygon fill=\"#00ff00\" fill-opacity=\"0.188235\" stroke=\"#00ff00\" stroke-opacity=\"0.188235\" points=\"620.36,-293.6 465.61,-293.6 465.61,-259.04 620.36,-259.04 620.36,-293.6\"/>\n",
       "<text text-anchor=\"start\" x=\"473.61\" y=\"-273.05\" font-family=\"arial\" text-decoration=\"underline\" font-size=\"12.00\" fill=\"darkgreen\">equipment.SetupRestraint</text>\n",
       "</a>\n",
       "</g>\n",
       "</g>\n",
       "</g>\n",
       "</svg>"
      ],
      "text/plain": [
       "<datajoint.diagram.Diagram at 0x7f0ce81c9250>"
      ]
     },
     "execution_count": 10,
     "metadata": {},
     "output_type": "execute_result"
    }
   ],
   "source": [
    "dj.Diagram(model) + dj.Diagram(equipment)"
   ]
  },
  {
   "cell_type": "code",
   "execution_count": 7,
   "id": "21c2a612",
   "metadata": {
    "scrolled": false
   },
   "outputs": [
    {
     "data": {
      "image/svg+xml": [
       "<svg xmlns=\"http://www.w3.org/2000/svg\" xmlns:xlink=\"http://www.w3.org/1999/xlink\" width=\"1065pt\" height=\"114pt\" viewBox=\"0.00 0.00 1064.50 114.00\">\n",
       "<g id=\"graph0\" class=\"graph\" transform=\"scale(1 1) rotate(0) translate(4 110)\">\n",
       "<polygon fill=\"white\" stroke=\"transparent\" points=\"-4,4 -4,-110 1060.5,-110 1060.5,4 -4,4\"/>\n",
       "<!-- session.Equipment -->\n",
       "<g id=\"node1\" class=\"node\">\n",
       "<title>session.Equipment</title>\n",
       "<g id=\"a_node1\"><a xlink:title=\"scanner              \r\">\n",
       "<polygon fill=\"#00ff00\" fill-opacity=\"0.188235\" stroke=\"#00ff00\" stroke-opacity=\"0.188235\" points=\"392.5,-106 273.5,-106 273.5,-71 392.5,-71 392.5,-106\"/>\n",
       "<text text-anchor=\"start\" x=\"281.5\" y=\"-86.4\" font-family=\"arial\" text-decoration=\"underline\" font-size=\"12.00\" fill=\"darkgreen\">session.Equipment</text>\n",
       "</a>\n",
       "</g>\n",
       "</g>\n",
       "<!-- session.SessionUser -->\n",
       "<g id=\"node2\" class=\"node\">\n",
       "<title>session.SessionUser</title>\n",
       "<g id=\"a_node2\"><a xlink:title=\"→ session.Session\r→ subject.User\r\">\n",
       "<polygon fill=\"#00ff00\" fill-opacity=\"0.188235\" stroke=\"#00ff00\" stroke-opacity=\"0.188235\" points=\"130,-35 0,-35 0,0 130,0 130,-35\"/>\n",
       "<text text-anchor=\"middle\" x=\"65\" y=\"-14.4\" font-family=\"arial\" font-size=\"12.00\" fill=\"darkgreen\">session.SessionUser</text>\n",
       "</a>\n",
       "</g>\n",
       "</g>\n",
       "<!-- session.Session -->\n",
       "<g id=\"node3\" class=\"node\">\n",
       "<title>session.Session</title>\n",
       "<g id=\"a_node3\"><a xlink:title=\"session_id           \r------------------------------\r→ subject.Subject\rsession_datetime     \r\">\n",
       "<polygon fill=\"#00ff00\" fill-opacity=\"0.188235\" stroke=\"#00ff00\" stroke-opacity=\"0.188235\" points=\"515,-106 411,-106 411,-71 515,-71 515,-106\"/>\n",
       "<text text-anchor=\"start\" x=\"419\" y=\"-86.4\" font-family=\"arial\" text-decoration=\"underline\" font-size=\"12.00\" fill=\"darkgreen\">session.Session</text>\n",
       "</a>\n",
       "</g>\n",
       "</g>\n",
       "<!-- session.Session&#45;&gt;session.SessionUser -->\n",
       "<g id=\"edge1\" class=\"edge\">\n",
       "<title>session.Session-&gt;session.SessionUser</title>\n",
       "<path fill=\"none\" stroke=\"#000000\" stroke-width=\"0.75\" stroke-opacity=\"0.250980\" d=\"M410.68,-73.09C407.41,-72.34 404.17,-71.64 401,-71 285.77,-47.84 254.68,-55.81 139,-35 136.15,-34.49 133.24,-33.94 130.31,-33.37\"/>\n",
       "</g>\n",
       "<!-- session.ProjectSession -->\n",
       "<g id=\"node4\" class=\"node\">\n",
       "<title>session.ProjectSession</title>\n",
       "<g id=\"a_node4\"><a xlink:title=\"→ subject.Project\r→ session.Session\r\">\n",
       "<polygon fill=\"#00ff00\" fill-opacity=\"0.188235\" stroke=\"#00ff00\" stroke-opacity=\"0.188235\" points=\"290,-35 148,-35 148,0 290,0 290,-35\"/>\n",
       "<text text-anchor=\"middle\" x=\"219\" y=\"-14.4\" font-family=\"arial\" font-size=\"12.00\" fill=\"darkgreen\">session.ProjectSession</text>\n",
       "</a>\n",
       "</g>\n",
       "</g>\n",
       "<!-- session.Session&#45;&gt;session.ProjectSession -->\n",
       "<g id=\"edge2\" class=\"edge\">\n",
       "<title>session.Session-&gt;session.ProjectSession</title>\n",
       "<path fill=\"none\" stroke=\"#000000\" stroke-width=\"0.75\" stroke-opacity=\"0.250980\" d=\"M410.96,-72.78C371.77,-61.7 318.03,-46.5 277.38,-35.01\"/>\n",
       "</g>\n",
       "<!-- session.SessionDirectory -->\n",
       "<g id=\"node5\" class=\"node\">\n",
       "<title>session.SessionDirectory</title>\n",
       "<g id=\"a_node5\"><a xlink:title=\"→ session.Session\r------------------------------\rsession_dir          \r→ subject.User\r\">\n",
       "<polygon fill=\"#00ff00\" fill-opacity=\"0.188235\" stroke=\"#00ff00\" stroke-opacity=\"0.188235\" points=\"460,-35 308,-35 308,0 460,0 460,-35\"/>\n",
       "<text text-anchor=\"middle\" x=\"384\" y=\"-14.4\" font-family=\"arial\" font-size=\"12.00\" fill=\"darkgreen\">session.SessionDirectory</text>\n",
       "</a>\n",
       "</g>\n",
       "</g>\n",
       "<!-- session.Session&#45;&gt;session.SessionDirectory -->\n",
       "<g id=\"edge3\" class=\"edge\">\n",
       "<title>session.Session-&gt;session.SessionDirectory</title>\n",
       "<path fill=\"none\" stroke=\"#000000\" stroke-width=\"2\" stroke-opacity=\"0.250980\" d=\"M443.88,-70.8C431.46,-59.95 415.33,-45.87 402.95,-35.05\"/>\n",
       "</g>\n",
       "<!-- session.SessionNote -->\n",
       "<g id=\"node6\" class=\"node\">\n",
       "<title>session.SessionNote</title>\n",
       "<g id=\"a_node6\"><a xlink:title=\"→ session.Session\r------------------------------\rsession_note         \r\">\n",
       "<polygon fill=\"#00ff00\" fill-opacity=\"0.188235\" stroke=\"#00ff00\" stroke-opacity=\"0.188235\" points=\"608,-35 478,-35 478,0 608,0 608,-35\"/>\n",
       "<text text-anchor=\"middle\" x=\"543\" y=\"-14.4\" font-family=\"arial\" font-size=\"12.00\" fill=\"darkgreen\">session.SessionNote</text>\n",
       "</a>\n",
       "</g>\n",
       "</g>\n",
       "<!-- session.Session&#45;&gt;session.SessionNote -->\n",
       "<g id=\"edge4\" class=\"edge\">\n",
       "<title>session.Session-&gt;session.SessionNote</title>\n",
       "<path fill=\"none\" stroke=\"#000000\" stroke-width=\"2\" stroke-opacity=\"0.250980\" d=\"M482.37,-70.8C494.94,-59.95 511.27,-45.87 523.81,-35.05\"/>\n",
       "</g>\n",
       "<!-- session.SessionRspace -->\n",
       "<g id=\"node9\" class=\"node\">\n",
       "<title>session.SessionRspace</title>\n",
       "<g id=\"a_node9\"><a xlink:title=\"→ session.Session\r------------------------------\rrspace_id            \r\">\n",
       "<polygon fill=\"#00ff00\" fill-opacity=\"0.188235\" stroke=\"#00ff00\" stroke-opacity=\"0.188235\" points=\"772,-35 626,-35 626,0 772,0 772,-35\"/>\n",
       "<text text-anchor=\"middle\" x=\"699\" y=\"-14.4\" font-family=\"arial\" font-size=\"12.00\" fill=\"darkgreen\">session.SessionRspace</text>\n",
       "</a>\n",
       "</g>\n",
       "</g>\n",
       "<!-- session.Session&#45;&gt;session.SessionRspace -->\n",
       "<g id=\"edge5\" class=\"edge\">\n",
       "<title>session.Session-&gt;session.SessionRspace</title>\n",
       "<path fill=\"none\" stroke=\"#000000\" stroke-width=\"2\" stroke-opacity=\"0.250980\" d=\"M515.08,-72.27C552.82,-61.24 603.8,-46.33 642.51,-35.02\"/>\n",
       "</g>\n",
       "<!-- session.SessionSameSite -->\n",
       "<g id=\"node10\" class=\"node\">\n",
       "<title>session.SessionSameSite</title>\n",
       "<g id=\"a_node10\"><a xlink:title=\"→ session.Session\r------------------------------\r→ session.SessionSite\r\">\n",
       "<polygon fill=\"#00ff00\" fill-opacity=\"0.188235\" stroke=\"#00ff00\" stroke-opacity=\"0.188235\" points=\"947.5,-35 790.5,-35 790.5,0 947.5,0 947.5,-35\"/>\n",
       "<text text-anchor=\"middle\" x=\"869\" y=\"-14.4\" font-family=\"arial\" font-size=\"12.00\" fill=\"darkgreen\">session.SessionSameSite</text>\n",
       "</a>\n",
       "</g>\n",
       "</g>\n",
       "<!-- session.Session&#45;&gt;session.SessionSameSite -->\n",
       "<g id=\"edge6\" class=\"edge\">\n",
       "<title>session.Session-&gt;session.SessionSameSite</title>\n",
       "<path fill=\"none\" stroke=\"#000000\" stroke-width=\"2\" stroke-opacity=\"0.250980\" d=\"M515.11,-79.25C578.15,-69.19 687.46,-51.49 781,-35 784.06,-34.46 787.18,-33.9 790.33,-33.34\"/>\n",
       "</g>\n",
       "<!-- session.SessionSite -->\n",
       "<g id=\"node7\" class=\"node\">\n",
       "<title>session.SessionSite</title>\n",
       "<g id=\"a_node7\"><a xlink:title=\"same_site_id         \r\">\n",
       "<polygon fill=\"#00ff00\" fill-opacity=\"0.188235\" stroke=\"#00ff00\" stroke-opacity=\"0.188235\" points=\"931.5,-106 806.5,-106 806.5,-71 931.5,-71 931.5,-106\"/>\n",
       "<text text-anchor=\"start\" x=\"814.5\" y=\"-86.4\" font-family=\"arial\" text-decoration=\"underline\" font-size=\"12.00\" fill=\"darkgreen\">session.SessionSite</text>\n",
       "</a>\n",
       "</g>\n",
       "</g>\n",
       "<!-- session.SessionSite&#45;&gt;session.SessionSameSite -->\n",
       "<g id=\"edge7\" class=\"edge\">\n",
       "<title>session.SessionSite-&gt;session.SessionSameSite</title>\n",
       "<path fill=\"none\" stroke=\"#000000\" stroke-width=\"0.75\" stroke-dasharray=\"5,2\" stroke-opacity=\"0.250980\" d=\"M869,-70.8C869,-59.95 869,-45.87 869,-35.05\"/>\n",
       "</g>\n",
       "<!-- session.Location -->\n",
       "<g id=\"node8\" class=\"node\">\n",
       "<title>session.Location</title>\n",
       "<g id=\"a_node8\"><a xlink:title=\"location             \r------------------------------\rlocation_full=&quot;&quot;     \r\">\n",
       "<polygon fill=\"#00ff00\" fill-opacity=\"0.188235\" stroke=\"#00ff00\" stroke-opacity=\"0.188235\" points=\"1056.5,-106 949.5,-106 949.5,-71 1056.5,-71 1056.5,-106\"/>\n",
       "<text text-anchor=\"start\" x=\"957.5\" y=\"-86.4\" font-family=\"arial\" text-decoration=\"underline\" font-size=\"12.00\" fill=\"darkgreen\">session.Location</text>\n",
       "</a>\n",
       "</g>\n",
       "</g>\n",
       "</g>\n",
       "</svg>"
      ],
      "text/plain": [
       "<datajoint.diagram.Diagram at 0x7f6199f8ebb0>"
      ]
     },
     "execution_count": 7,
     "metadata": {},
     "output_type": "execute_result"
    }
   ],
   "source": [
    "dj.Diagram(session) "
   ]
  },
  {
   "cell_type": "code",
   "execution_count": 8,
   "metadata": {},
   "outputs": [
    {
     "data": {
      "text/html": [
       "\n",
       "    \n",
       "    <style type=\"text/css\">\n",
       "        .Table{\n",
       "            border-collapse:collapse;\n",
       "        }\n",
       "        .Table th{\n",
       "            background: #A0A0A0; color: #ffffff; padding:4px; border:#f0e0e0 1px solid;\n",
       "            font-weight: normal; font-family: monospace; font-size: 100%;\n",
       "        }\n",
       "        .Table td{\n",
       "            padding:4px; border:#f0e0e0 1px solid; font-size:100%;\n",
       "        }\n",
       "        .Table tr:nth-child(odd){\n",
       "            background: #ffffff;\n",
       "            color: #000000;\n",
       "        }\n",
       "        .Table tr:nth-child(even){\n",
       "            background: #f3f1ff;\n",
       "            color: #000000;\n",
       "        }\n",
       "        /* Tooltip container */\n",
       "        .djtooltip {\n",
       "        }\n",
       "        /* Tooltip text */\n",
       "        .djtooltip .djtooltiptext {\n",
       "            visibility: hidden;\n",
       "            width: 120px;\n",
       "            background-color: black;\n",
       "            color: #fff;\n",
       "            text-align: center;\n",
       "            padding: 5px 0;\n",
       "            border-radius: 6px;\n",
       "            /* Position the tooltip text - see examples below! */\n",
       "            position: absolute;\n",
       "            z-index: 1;\n",
       "        }\n",
       "        #primary {\n",
       "            font-weight: bold;\n",
       "            color: black;\n",
       "        }\n",
       "        #nonprimary {\n",
       "            font-weight: normal;\n",
       "            color: white;\n",
       "        }\n",
       "\n",
       "        /* Show the tooltip text when you mouse over the tooltip container */\n",
       "        .djtooltip:hover .djtooltiptext {\n",
       "            visibility: visible;\n",
       "        }\n",
       "    </style>\n",
       "    \n",
       "    <b></b>\n",
       "        <div style=\"max-height:1000px;max-width:1500px;overflow:auto;\">\n",
       "        <table border=\"1\" class=\"Table\">\n",
       "            <thead> <tr style=\"text-align: right;\"> <th> <div class=\"djtooltip\">\n",
       "                            <p id=\"primary\">session_id</p>\n",
       "                            <span class=\"djtooltiptext\"></span>\n",
       "                        </div></th><th><div class=\"djtooltip\">\n",
       "                            <p id=\"nonprimary\">same_site_id</p>\n",
       "                            <span class=\"djtooltiptext\"></span>\n",
       "                        </div> </th> </tr> </thead>\n",
       "            <tbody> <tr> <td>sess9FB2LN5C</td>\n",
       "<td>sess9FB2LN5C</td></tr><tr><td>sess9FGD3GS3</td>\n",
       "<td>sess9FGD3GS3</td></tr><tr><td>sess9FGK8ZKS</td>\n",
       "<td>sess9FGK8ZKS</td></tr><tr><td>sess9FGLE1FN</td>\n",
       "<td>sess9FGLE1FN</td></tr><tr><td>sess9FGLEFJ3</td>\n",
       "<td>sess9FGLEFJ3</td></tr><tr><td>sess9FGT7SQ0</td>\n",
       "<td>sess9FGT7SQ0</td></tr><tr><td>sess9FGTSPEH</td>\n",
       "<td>sess9FGTSPEH</td></tr><tr><td>sess9FH37WBZ</td>\n",
       "<td>sess9FH37WBZ</td></tr><tr><td>sess9FHBNX7F</td>\n",
       "<td>sess9FHBNX7F</td></tr><tr><td>sess9FHDA7AI</td>\n",
       "<td>sess9FHDA7AI</td></tr><tr><td>sess9FHELAYA</td>\n",
       "<td>sess9FHELAYA</td></tr><tr><td>sess9FHF1JT7</td>\n",
       "<td>sess9FHF1JT7</td></tr><tr><td>sess9FHF2GDD</td>\n",
       "<td>sess9FHF2GDD</td></tr><tr><td>sess9FHIRPBE</td>\n",
       "<td>sess9FHIRPBE</td></tr><tr><td>sess9FHS7Y22</td>\n",
       "<td>sess9FHS7Y22</td></tr><tr><td>sess9FI3KWP3</td>\n",
       "<td>sess9FI3KWP3</td></tr><tr><td>sess9FI8ALGO</td>\n",
       "<td>sess9FI8ALGO</td></tr><tr><td>sess9FI8CMBR</td>\n",
       "<td>sess9FI8CMBR</td></tr><tr><td>sess9FI8D69V</td>\n",
       "<td>sess9FI8D69V</td></tr><tr><td>sess9FI8DENL</td>\n",
       "<td>sess9FI8DENL</td></tr><tr><td>sess9FI8DMKY</td>\n",
       "<td>sess9FI8DMKY</td></tr><tr><td>sess9FI8DUMJ</td>\n",
       "<td>sess9FI8DUMJ</td></tr><tr><td>sess9FI8DYIV</td>\n",
       "<td>sess9FI8DYIV</td></tr><tr><td>sess9FI8EG86</td>\n",
       "<td>sess9FI8EG86</td></tr><tr><td>sess9FI8EP0T</td>\n",
       "<td>sess9FI8EP0T</td></tr><tr><td>sess9FI8ETDQ</td>\n",
       "<td>sess9FI8ETDQ</td></tr><tr><td>sess9FIBT7CK</td>\n",
       "<td>sess9FIBT7CK</td></tr><tr><td>sess9FIBTDD0</td>\n",
       "<td>sess9FIBTDD0</td></tr><tr><td>sess9FIBTYBC</td>\n",
       "<td>sess9FIBTYBC</td></tr><tr><td>sess9FIBUH7F</td>\n",
       "<td>sess9FIBUH7F</td></tr><tr><td>sess9FIG39RU</td>\n",
       "<td>sess9FIG39RU</td></tr><tr><td>sess9FIWRF1J</td>\n",
       "<td>sess9FIWRF1J</td></tr><tr><td>sess9FIWRXJ2</td>\n",
       "<td>sess9FIWRXJ2</td></tr><tr><td>sess9FIWS3UA</td>\n",
       "<td>sess9FIWS3UA</td></tr><tr><td>sess9FIXCCOO</td>\n",
       "<td>sess9FIXCCOO</td></tr><tr><td>sess9FIXCK5M</td>\n",
       "<td>sess9FIXCK5M</td></tr><tr><td>sess9FIXCWWU</td>\n",
       "<td>sess9FIXCWWU</td></tr><tr><td>sess9FIXZBWK</td>\n",
       "<td>sess9FIXZBWK</td></tr><tr><td>sess9FIXZKNN</td>\n",
       "<td>sess9FIXZKNN</td></tr><tr><td>sess9FIZNWNS</td>\n",
       "<td>sess9FIZNWNS</td></tr><tr><td>sess9FJ0BRLR</td>\n",
       "<td>sess9FJ0BRLR</td></tr><tr><td>sess9FJ1IJYT</td>\n",
       "<td>sess9FJ1IJYT</td></tr><tr><td>sess9FJ1ISOK</td>\n",
       "<td>sess9FJ1ISOK</td></tr><tr><td>sess9FJ22934</td>\n",
       "<td>sess9FJ22934</td></tr><tr><td>sess9FJ4IJK9</td>\n",
       "<td>sess9FJ4IJK9</td></tr><tr><td>sess9FJ4IJOQ</td>\n",
       "<td>sess9FJ4IJOQ</td></tr><tr><td>sess9FJ5KHBX</td>\n",
       "<td>sess9FJ5KHBX</td></tr><tr><td>sess9FJ5L18B</td>\n",
       "<td>sess9FJ5L18B</td></tr><tr><td>sess9FJ5L9VD</td>\n",
       "<td>sess9FJ5L9VD</td></tr><tr><td>sess9FJ5LHYE</td>\n",
       "<td>sess9FJ5LHYE</td> </tr> </tbody>\n",
       "        </table>\n",
       "        <p>...</p>\n",
       "        <p>Total: 57</p></div>\n",
       "        "
      ],
      "text/plain": [
       "*session_id    same_site_id  \n",
       "+------------+ +------------+\n",
       "sess9FB2LN5C   sess9FB2LN5C  \n",
       "sess9FGD3GS3   sess9FGD3GS3  \n",
       "sess9FGK8ZKS   sess9FGK8ZKS  \n",
       "sess9FGLE1FN   sess9FGLE1FN  \n",
       "sess9FGLEFJ3   sess9FGLEFJ3  \n",
       "sess9FGT7SQ0   sess9FGT7SQ0  \n",
       "sess9FGTSPEH   sess9FGTSPEH  \n",
       "sess9FH37WBZ   sess9FH37WBZ  \n",
       "sess9FHBNX7F   sess9FHBNX7F  \n",
       "sess9FHDA7AI   sess9FHDA7AI  \n",
       "sess9FHELAYA   sess9FHELAYA  \n",
       "sess9FHF1JT7   sess9FHF1JT7  \n",
       "sess9FHF2GDD   sess9FHF2GDD  \n",
       "sess9FHIRPBE   sess9FHIRPBE  \n",
       "sess9FHS7Y22   sess9FHS7Y22  \n",
       "sess9FI3KWP3   sess9FI3KWP3  \n",
       "sess9FI8ALGO   sess9FI8ALGO  \n",
       "sess9FI8CMBR   sess9FI8CMBR  \n",
       "sess9FI8D69V   sess9FI8D69V  \n",
       "sess9FI8DENL   sess9FI8DENL  \n",
       "sess9FI8DMKY   sess9FI8DMKY  \n",
       "sess9FI8DUMJ   sess9FI8DUMJ  \n",
       "sess9FI8DYIV   sess9FI8DYIV  \n",
       "sess9FI8EG86   sess9FI8EG86  \n",
       "sess9FI8EP0T   sess9FI8EP0T  \n",
       "sess9FI8ETDQ   sess9FI8ETDQ  \n",
       "sess9FIBT7CK   sess9FIBT7CK  \n",
       "sess9FIBTDD0   sess9FIBTDD0  \n",
       "sess9FIBTYBC   sess9FIBTYBC  \n",
       "sess9FIBUH7F   sess9FIBUH7F  \n",
       "sess9FIG39RU   sess9FIG39RU  \n",
       "sess9FIWRF1J   sess9FIWRF1J  \n",
       "sess9FIWRXJ2   sess9FIWRXJ2  \n",
       "sess9FIWS3UA   sess9FIWS3UA  \n",
       "sess9FIXCCOO   sess9FIXCCOO  \n",
       "sess9FIXCK5M   sess9FIXCK5M  \n",
       "sess9FIXCWWU   sess9FIXCWWU  \n",
       "sess9FIXZBWK   sess9FIXZBWK  \n",
       "sess9FIXZKNN   sess9FIXZKNN  \n",
       "sess9FIZNWNS   sess9FIZNWNS  \n",
       "sess9FJ0BRLR   sess9FJ0BRLR  \n",
       "sess9FJ1IJYT   sess9FJ1IJYT  \n",
       "sess9FJ1ISOK   sess9FJ1ISOK  \n",
       "sess9FJ22934   sess9FJ22934  \n",
       "sess9FJ4IJK9   sess9FJ4IJK9  \n",
       "sess9FJ4IJOQ   sess9FJ4IJOQ  \n",
       "sess9FJ5KHBX   sess9FJ5KHBX  \n",
       "sess9FJ5L18B   sess9FJ5L18B  \n",
       "sess9FJ5L9VD   sess9FJ5L9VD  \n",
       "sess9FJ5LHYE   sess9FJ5LHYE  \n",
       "   ...\n",
       " (Total: 57)"
      ]
     },
     "execution_count": 8,
     "metadata": {},
     "output_type": "execute_result"
    }
   ],
   "source": [
    "session.SessionSameSite()"
   ]
  },
  {
   "cell_type": "code",
   "execution_count": 9,
   "id": "91b7aa9a",
   "metadata": {},
   "outputs": [
    {
     "data": {
      "text/html": [
       "\n",
       "    \n",
       "    <style type=\"text/css\">\n",
       "        .Table{\n",
       "            border-collapse:collapse;\n",
       "        }\n",
       "        .Table th{\n",
       "            background: #A0A0A0; color: #ffffff; padding:4px; border:#f0e0e0 1px solid;\n",
       "            font-weight: normal; font-family: monospace; font-size: 100%;\n",
       "        }\n",
       "        .Table td{\n",
       "            padding:4px; border:#f0e0e0 1px solid; font-size:100%;\n",
       "        }\n",
       "        .Table tr:nth-child(odd){\n",
       "            background: #ffffff;\n",
       "            color: #000000;\n",
       "        }\n",
       "        .Table tr:nth-child(even){\n",
       "            background: #f3f1ff;\n",
       "            color: #000000;\n",
       "        }\n",
       "        /* Tooltip container */\n",
       "        .djtooltip {\n",
       "        }\n",
       "        /* Tooltip text */\n",
       "        .djtooltip .djtooltiptext {\n",
       "            visibility: hidden;\n",
       "            width: 120px;\n",
       "            background-color: black;\n",
       "            color: #fff;\n",
       "            text-align: center;\n",
       "            padding: 5px 0;\n",
       "            border-radius: 6px;\n",
       "            /* Position the tooltip text - see examples below! */\n",
       "            position: absolute;\n",
       "            z-index: 1;\n",
       "        }\n",
       "        #primary {\n",
       "            font-weight: bold;\n",
       "            color: black;\n",
       "        }\n",
       "        #nonprimary {\n",
       "            font-weight: normal;\n",
       "            color: white;\n",
       "        }\n",
       "\n",
       "        /* Show the tooltip text when you mouse over the tooltip container */\n",
       "        .djtooltip:hover .djtooltiptext {\n",
       "            visibility: visible;\n",
       "        }\n",
       "    </style>\n",
       "    \n",
       "    \n",
       "        <div style=\"max-height:1000px;max-width:1500px;overflow:auto;\">\n",
       "        <table border=\"1\" class=\"Table\">\n",
       "            <thead> <tr style=\"text-align: right;\"> <th> <div class=\"djtooltip\">\n",
       "                            <p id=\"primary\">session_id</p>\n",
       "                            <span class=\"djtooltiptext\"></span>\n",
       "                        </div></th><th><div class=\"djtooltip\">\n",
       "                            <p id=\"primary\">user_id</p>\n",
       "                            <span class=\"djtooltiptext\"></span>\n",
       "                        </div></th><th><div class=\"djtooltip\">\n",
       "                            <p id=\"nonprimary\">name</p>\n",
       "                            <span class=\"djtooltiptext\"></span>\n",
       "                        </div></th><th><div class=\"djtooltip\">\n",
       "                            <p id=\"nonprimary\">shorthand</p>\n",
       "                            <span class=\"djtooltiptext\">TR: added name_FirstInitialSurname shorthand</span>\n",
       "                        </div></th><th><div class=\"djtooltip\">\n",
       "                            <p id=\"nonprimary\">initials</p>\n",
       "                            <span class=\"djtooltiptext\">Update after pyrat ingestion</span>\n",
       "                        </div></th><th><div class=\"djtooltip\">\n",
       "                            <p id=\"nonprimary\">email</p>\n",
       "                            <span class=\"djtooltiptext\">TR: for completeness' sake also email</span>\n",
       "                        </div></th><th><div class=\"djtooltip\">\n",
       "                            <p id=\"nonprimary\">lab</p>\n",
       "                            <span class=\"djtooltiptext\">short lab name, pyrat labid</span>\n",
       "                        </div> </th> </tr> </thead>\n",
       "            <tbody> <tr> <td>sess9FHF1JT7</td>\n",
       "<td>3</td>\n",
       "<td>Krasilshchikova Natalia</td>\n",
       "<td>nataliak</td>\n",
       "<td>NK</td>\n",
       "<td> nkra1@uni-bonn.de</td>\n",
       "<td>Rose</td> </tr> </tbody>\n",
       "        </table>\n",
       "        \n",
       "        <p>Total: 1</p></div>\n",
       "        "
      ],
      "text/plain": [
       "*session_id    *user_id    name           shorthand     initials     email          lab     \n",
       "+------------+ +---------+ +------------+ +-----------+ +----------+ +------------+ +------+\n",
       "sess9FHF1JT7   3           Krasilshchikov nataliak      NK            nkra1@uni-bon Rose    \n",
       " (Total: 1)"
      ]
     },
     "execution_count": 9,
     "metadata": {},
     "output_type": "execute_result"
    }
   ],
   "source": [
    "# scansi = \"scan9FJ4IJOQ\"\n",
    "scansi = \"scan9FHF1JT7\"\n",
    "scan_key = (scan.Scan & f'scan_id = \"{scansi}\"').fetch('KEY')[0]\n",
    "sessi = (scan.Scan & f'scan_id = \"{scansi}\"').fetch('session_id')[0]\n",
    "aux_setup_typestr = (scan.ScanInfo() & scan_key).fetch(\"userfunction_info\")[0]\n",
    "\n",
    "\n",
    "session.SessionUser() * subject.User() & scan_key"
   ]
  },
  {
   "cell_type": "code",
   "execution_count": 7,
   "id": "6d67431f",
   "metadata": {},
   "outputs": [
    {
     "data": {
      "text/html": [
       "\n",
       "    \n",
       "    <style type=\"text/css\">\n",
       "        .Table{\n",
       "            border-collapse:collapse;\n",
       "        }\n",
       "        .Table th{\n",
       "            background: #A0A0A0; color: #ffffff; padding:4px; border:#f0e0e0 1px solid;\n",
       "            font-weight: normal; font-family: monospace; font-size: 100%;\n",
       "        }\n",
       "        .Table td{\n",
       "            padding:4px; border:#f0e0e0 1px solid; font-size:100%;\n",
       "        }\n",
       "        .Table tr:nth-child(odd){\n",
       "            background: #ffffff;\n",
       "            color: #000000;\n",
       "        }\n",
       "        .Table tr:nth-child(even){\n",
       "            background: #f3f1ff;\n",
       "            color: #000000;\n",
       "        }\n",
       "        /* Tooltip container */\n",
       "        .djtooltip {\n",
       "        }\n",
       "        /* Tooltip text */\n",
       "        .djtooltip .djtooltiptext {\n",
       "            visibility: hidden;\n",
       "            width: 120px;\n",
       "            background-color: black;\n",
       "            color: #fff;\n",
       "            text-align: center;\n",
       "            padding: 5px 0;\n",
       "            border-radius: 6px;\n",
       "            /* Position the tooltip text - see examples below! */\n",
       "            position: absolute;\n",
       "            z-index: 1;\n",
       "        }\n",
       "        #primary {\n",
       "            font-weight: bold;\n",
       "            color: black;\n",
       "        }\n",
       "        #nonprimary {\n",
       "            font-weight: normal;\n",
       "            color: white;\n",
       "        }\n",
       "\n",
       "        /* Show the tooltip text when you mouse over the tooltip container */\n",
       "        .djtooltip:hover .djtooltiptext {\n",
       "            visibility: visible;\n",
       "        }\n",
       "    </style>\n",
       "    \n",
       "    \n",
       "        <div style=\"max-height:1000px;max-width:1500px;overflow:auto;\">\n",
       "        <table border=\"1\" class=\"Table\">\n",
       "            <thead> <tr style=\"text-align: right;\"> <th> <div class=\"djtooltip\">\n",
       "                            <p id=\"primary\">subject</p>\n",
       "                            <span class=\"djtooltiptext\">PyRat import uses this for earmark value</span>\n",
       "                        </div></th><th><div class=\"djtooltip\">\n",
       "                            <p id=\"primary\">session_id</p>\n",
       "                            <span class=\"djtooltiptext\"></span>\n",
       "                        </div> </th> </tr> </thead>\n",
       "            <tbody> <tr>  </tr> </tbody>\n",
       "        </table>\n",
       "        \n",
       "        <p>Total: 0</p></div>\n",
       "        "
      ],
      "text/plain": [
       "*subject    *session_id   \n",
       "+---------+ +------------+\n",
       "\n",
       " (Total: 0)"
      ]
     },
     "execution_count": 7,
     "metadata": {},
     "output_type": "execute_result"
    }
   ],
   "source": [
    "subject.Subject.proj(\"subject\") * session.Session.proj(\"session_id\") & 'subject = \"ROS-1346\"'"
   ]
  },
  {
   "cell_type": "code",
   "execution_count": 10,
   "id": "dc5ceb5d",
   "metadata": {},
   "outputs": [],
   "source": [
    "session_key = 'sess9FB2LN5C'\n",
    "session_dict = {'session_id': session_key}"
   ]
  },
  {
   "cell_type": "code",
   "execution_count": 12,
   "id": "a42acaad",
   "metadata": {},
   "outputs": [
    {
     "ename": "MissingAttributeError",
     "evalue": "Field 'subject' doesn't have a default value",
     "output_type": "error",
     "traceback": [
      "\u001b[0;31m---------------------------------------------------------------------------\u001b[0m",
      "\u001b[0;31mMissingAttributeError\u001b[0m                     Traceback (most recent call last)",
      "\u001b[1;32m/home/tobiasr/adamacs/notebooks/04_scan_insert.ipynb Cell 15\u001b[0m in \u001b[0;36m<cell line: 1>\u001b[0;34m()\u001b[0m\n\u001b[0;32m----> <a href='vscode-notebook-cell://ssh-remote%2B172.26.128.53/home/tobiasr/adamacs/notebooks/04_scan_insert.ipynb#X20sdnNjb2RlLXJlbW90ZQ%3D%3D?line=0'>1</a>\u001b[0m session\u001b[39m.\u001b[39;49mSession\u001b[39m.\u001b[39;49minsert1((session_dict))\n",
      "File \u001b[0;32m/home/leonk/anaconda3/envs/datajoint/lib/python3.8/site-packages/datajoint/table.py:337\u001b[0m, in \u001b[0;36mTable.insert1\u001b[0;34m(self, row, **kwargs)\u001b[0m\n\u001b[1;32m    330\u001b[0m \u001b[39mdef\u001b[39;00m \u001b[39minsert1\u001b[39m(\u001b[39mself\u001b[39m, row, \u001b[39m*\u001b[39m\u001b[39m*\u001b[39mkwargs):\n\u001b[1;32m    331\u001b[0m \u001b[39m    \u001b[39m\u001b[39m\"\"\"\u001b[39;00m\n\u001b[1;32m    332\u001b[0m \u001b[39m    Insert one data record into the table. For ``kwargs``, see ``insert()``.\u001b[39;00m\n\u001b[1;32m    333\u001b[0m \n\u001b[1;32m    334\u001b[0m \u001b[39m    :param row: a numpy record, a dict-like object, or an ordered sequence to be inserted\u001b[39;00m\n\u001b[1;32m    335\u001b[0m \u001b[39m        as one row.\u001b[39;00m\n\u001b[1;32m    336\u001b[0m \u001b[39m    \"\"\"\u001b[39;00m\n\u001b[0;32m--> 337\u001b[0m     \u001b[39mself\u001b[39;49m\u001b[39m.\u001b[39;49minsert((row,), \u001b[39m*\u001b[39;49m\u001b[39m*\u001b[39;49mkwargs)\n",
      "File \u001b[0;32m/home/leonk/anaconda3/envs/datajoint/lib/python3.8/site-packages/datajoint/table.py:440\u001b[0m, in \u001b[0;36mTable.insert\u001b[0;34m(self, rows, replace, skip_duplicates, ignore_extra_fields, allow_direct_insert)\u001b[0m\n\u001b[1;32m    424\u001b[0m \u001b[39mtry\u001b[39;00m:\n\u001b[1;32m    425\u001b[0m     query \u001b[39m=\u001b[39m \u001b[39m\"\u001b[39m\u001b[39m{command}\u001b[39;00m\u001b[39m INTO \u001b[39m\u001b[39m{destination}\u001b[39;00m\u001b[39m(`\u001b[39m\u001b[39m{fields}\u001b[39;00m\u001b[39m`) VALUES \u001b[39m\u001b[39m{placeholders}\u001b[39;00m\u001b[39m{duplicate}\u001b[39;00m\u001b[39m\"\u001b[39m\u001b[39m.\u001b[39mformat(\n\u001b[1;32m    426\u001b[0m         command\u001b[39m=\u001b[39m\u001b[39m\"\u001b[39m\u001b[39mREPLACE\u001b[39m\u001b[39m\"\u001b[39m \u001b[39mif\u001b[39;00m replace \u001b[39melse\u001b[39;00m \u001b[39m\"\u001b[39m\u001b[39mINSERT\u001b[39m\u001b[39m\"\u001b[39m,\n\u001b[1;32m    427\u001b[0m         destination\u001b[39m=\u001b[39m\u001b[39mself\u001b[39m\u001b[39m.\u001b[39mfrom_clause(),\n\u001b[0;32m   (...)\u001b[0m\n\u001b[1;32m    438\u001b[0m         ),\n\u001b[1;32m    439\u001b[0m     )\n\u001b[0;32m--> 440\u001b[0m     \u001b[39mself\u001b[39;49m\u001b[39m.\u001b[39;49mconnection\u001b[39m.\u001b[39;49mquery(\n\u001b[1;32m    441\u001b[0m         query,\n\u001b[1;32m    442\u001b[0m         args\u001b[39m=\u001b[39;49m\u001b[39mlist\u001b[39;49m(\n\u001b[1;32m    443\u001b[0m             itertools\u001b[39m.\u001b[39;49mchain\u001b[39m.\u001b[39;49mfrom_iterable(\n\u001b[1;32m    444\u001b[0m                 (v \u001b[39mfor\u001b[39;49;00m v \u001b[39min\u001b[39;49;00m r[\u001b[39m\"\u001b[39;49m\u001b[39mvalues\u001b[39;49m\u001b[39m\"\u001b[39;49m] \u001b[39mif\u001b[39;49;00m v \u001b[39mis\u001b[39;49;00m \u001b[39mnot\u001b[39;49;00m \u001b[39mNone\u001b[39;49;00m) \u001b[39mfor\u001b[39;49;00m r \u001b[39min\u001b[39;49;00m rows\n\u001b[1;32m    445\u001b[0m             )\n\u001b[1;32m    446\u001b[0m         ),\n\u001b[1;32m    447\u001b[0m     )\n\u001b[1;32m    448\u001b[0m \u001b[39mexcept\u001b[39;00m UnknownAttributeError \u001b[39mas\u001b[39;00m err:\n\u001b[1;32m    449\u001b[0m     \u001b[39mraise\u001b[39;00m err\u001b[39m.\u001b[39msuggest(\n\u001b[1;32m    450\u001b[0m         \u001b[39m\"\u001b[39m\u001b[39mTo ignore extra fields in insert, set ignore_extra_fields=True\u001b[39m\u001b[39m\"\u001b[39m\n\u001b[1;32m    451\u001b[0m     )\n",
      "File \u001b[0;32m/home/leonk/anaconda3/envs/datajoint/lib/python3.8/site-packages/datajoint/connection.py:340\u001b[0m, in \u001b[0;36mConnection.query\u001b[0;34m(self, query, args, as_dict, suppress_warnings, reconnect)\u001b[0m\n\u001b[1;32m    338\u001b[0m cursor \u001b[39m=\u001b[39m \u001b[39mself\u001b[39m\u001b[39m.\u001b[39m_conn\u001b[39m.\u001b[39mcursor(cursor\u001b[39m=\u001b[39mcursor_class)\n\u001b[1;32m    339\u001b[0m \u001b[39mtry\u001b[39;00m:\n\u001b[0;32m--> 340\u001b[0m     \u001b[39mself\u001b[39;49m\u001b[39m.\u001b[39;49m_execute_query(cursor, query, args, suppress_warnings)\n\u001b[1;32m    341\u001b[0m \u001b[39mexcept\u001b[39;00m errors\u001b[39m.\u001b[39mLostConnectionError:\n\u001b[1;32m    342\u001b[0m     \u001b[39mif\u001b[39;00m \u001b[39mnot\u001b[39;00m reconnect:\n",
      "File \u001b[0;32m/home/leonk/anaconda3/envs/datajoint/lib/python3.8/site-packages/datajoint/connection.py:296\u001b[0m, in \u001b[0;36mConnection._execute_query\u001b[0;34m(cursor, query, args, suppress_warnings)\u001b[0m\n\u001b[1;32m    294\u001b[0m         cursor\u001b[39m.\u001b[39mexecute(query, args)\n\u001b[1;32m    295\u001b[0m \u001b[39mexcept\u001b[39;00m client\u001b[39m.\u001b[39merr\u001b[39m.\u001b[39mError \u001b[39mas\u001b[39;00m err:\n\u001b[0;32m--> 296\u001b[0m     \u001b[39mraise\u001b[39;00m translate_query_error(err, query)\n",
      "\u001b[0;31mMissingAttributeError\u001b[0m: Field 'subject' doesn't have a default value"
     ]
    }
   ],
   "source": [
    " session.Session.insert1((session_dict))"
   ]
  },
  {
   "cell_type": "code",
   "execution_count": null,
   "id": "d27a2f0f",
   "metadata": {},
   "outputs": [],
   "source": [
    "session.SessionSameSite()"
   ]
  },
  {
   "cell_type": "code",
   "execution_count": null,
   "id": "0d8b56af",
   "metadata": {},
   "outputs": [],
   "source": [
    "session.SessionSameSite.describe()"
   ]
  },
  {
   "cell_type": "code",
   "execution_count": null,
   "id": "f518dc56",
   "metadata": {
    "scrolled": true
   },
   "outputs": [],
   "source": [
    "session.SessionUser()"
   ]
  },
  {
   "cell_type": "code",
   "execution_count": null,
   "id": "aa81d3bb",
   "metadata": {},
   "outputs": [],
   "source": [
    "session.SessionNote()"
   ]
  },
  {
   "cell_type": "code",
   "execution_count": null,
   "id": "7e5c7df9",
   "metadata": {},
   "outputs": [],
   "source": [
    "dj.Diagram(scan) "
   ]
  },
  {
   "cell_type": "code",
   "execution_count": null,
   "id": "c74ea617",
   "metadata": {
    "scrolled": true
   },
   "outputs": [],
   "source": [
    "scan.ScanInfo.ScanFile()"
   ]
  },
  {
   "cell_type": "code",
   "execution_count": null,
   "id": "ad869c62",
   "metadata": {
    "scrolled": true
   },
   "outputs": [],
   "source": [
    "scan.ScanInfo.Field()"
   ]
  },
  {
   "cell_type": "code",
   "execution_count": null,
   "id": "b60b8a84",
   "metadata": {},
   "outputs": [],
   "source": [
    "scan.ScanPath()"
   ]
  },
  {
   "cell_type": "code",
   "execution_count": null,
   "id": "6a9397a5",
   "metadata": {
    "scrolled": true
   },
   "outputs": [],
   "source": [
    "scan.ScanLocation()"
   ]
  },
  {
   "cell_type": "code",
   "execution_count": null,
   "id": "56ba5075",
   "metadata": {
    "scrolled": true
   },
   "outputs": [],
   "source": [
    "scan.AcquisitionSoftware()"
   ]
  },
  {
   "cell_type": "code",
   "execution_count": null,
   "id": "6326cef8",
   "metadata": {},
   "outputs": [],
   "source": [
    "scan.Channel()"
   ]
  },
  {
   "cell_type": "markdown",
   "id": "7a2e2ccf-01d6-4d31-932b-aa12f8cd05a8",
   "metadata": {},
   "source": [
    "Manual entry:"
   ]
  },
  {
   "cell_type": "code",
   "execution_count": null,
   "id": "333074dc-2962-4c3f-ae66-d4164d6ceac9",
   "metadata": {},
   "outputs": [],
   "source": [
    "# Manual Entry\n",
    "import datajoint as dj; import getpass\n",
    "dj.config['database.host'] = '172.26.128.53'        # Put the server name between these apostrophe\n",
    "dj.config['database.user'] = 'danielmk'             # Put your user name between these apostrophe\n",
    "dj.config['database.password'] = getpass.getpass()  # Put your password in the prompt\n",
    "dj.conn()\n",
    "\n",
    "from adamacs.pipeline import subject, session, surgery, scan, equipment\n",
    "from adamacs import utility\n",
    "from adamacs.ingest import session as isess\n",
    "sub, lab, protocol, line, mutation, user, project, subject_genotype, subject_death = (\n",
    "    subject.Subject(), subject.Lab(), subject.Protocol(), subject.Line(), \n",
    "    subject.Mutation(), subject.User(), subject.Project(), subject.SubjectGenotype(), \n",
    "    subject.SubjectDeath())"
   ]
  },
  {
   "cell_type": "markdown",
   "id": "bb115bfc-2abb-45c9-bcba-c5c9e73b8990",
   "metadata": {},
   "source": [
    "\n",
    "## Ingesting scan"
   ]
  },
  {
   "cell_type": "markdown",
   "id": "47c001f0",
   "metadata": {},
   "source": [
    "Ingest all scans associated with a given session ID."
   ]
  },
  {
   "cell_type": "code",
   "execution_count": null,
   "id": "e04adcf4",
   "metadata": {},
   "outputs": [],
   "source": [
    "# isess.ingest_session_scan('sess9FB2LN5C', verbose=True)\n",
    "isess.ingest_session_scan('sess9FGLZLRI', verbose=False) #TR: needs to be SessioID (\"sess...\")"
   ]
  },
  {
   "cell_type": "code",
   "execution_count": null,
   "id": "c4c8bb54-ae93-4974-9ff7-ac74dfa2baa0",
   "metadata": {},
   "outputs": [],
   "source": [
    "subject.Subject() & session.Session()"
   ]
  },
  {
   "cell_type": "code",
   "execution_count": null,
   "id": "c525e289",
   "metadata": {},
   "outputs": [],
   "source": [
    "session.SessionNote()"
   ]
  },
  {
   "cell_type": "code",
   "execution_count": null,
   "id": "824cb8cd",
   "metadata": {},
   "outputs": [],
   "source": [
    "session.SessionDirectory() * session.ProjectSession() * sub"
   ]
  },
  {
   "cell_type": "code",
   "execution_count": null,
   "id": "3a3e96e3",
   "metadata": {},
   "outputs": [],
   "source": [
    "session.ProjectSession()"
   ]
  },
  {
   "cell_type": "code",
   "execution_count": null,
   "id": "bdfe449c-9ecc-4b49-93ee-9c73295b12eb",
   "metadata": {},
   "outputs": [],
   "source": [
    "key='scan9FG1UAQG'\n",
    "(scan.Scan & f'scan_id=\\\"{key}\\\"')"
   ]
  },
  {
   "cell_type": "markdown",
   "id": "127f793d",
   "metadata": {},
   "source": [
    "Simple user look-up to get user_id from shorthand"
   ]
  },
  {
   "cell_type": "code",
   "execution_count": null,
   "id": "f620750b",
   "metadata": {},
   "outputs": [],
   "source": [
    "key='RN'\n",
    "query = (subject.User & f'initials=\\\"{key}\\\"')\n",
    "id = query.fetch(\"user_id\")[0]\n",
    "print(key + ' = ' + str(id))"
   ]
  },
  {
   "cell_type": "code",
   "execution_count": null,
   "id": "21f26116",
   "metadata": {},
   "outputs": [],
   "source": [
    "key='%Tob%'\n",
    "query = (subject.User & f'name LIKE \\\"{key}\\\"')\n",
    "id = query.fetch(\"user_id\")\n",
    "print(key + ' = ' + str(id))"
   ]
  },
  {
   "cell_type": "code",
   "execution_count": null,
   "id": "9b2d330b",
   "metadata": {},
   "outputs": [],
   "source": [
    "key='%Ji%'\n",
    "query = (subject.User & f'name LIKE \\\"{key}\\\"')\n",
    "query.fetch(\"email\")"
   ]
  },
  {
   "cell_type": "code",
   "execution_count": null,
   "id": "891ca3d7",
   "metadata": {},
   "outputs": [],
   "source": [
    "query = subject.Subject() & '\"ROS-1380\"'\n",
    "query.fetch()"
   ]
  },
  {
   "cell_type": "code",
   "execution_count": null,
   "id": "cb7ff963",
   "metadata": {},
   "outputs": [],
   "source": [
    "subject.Subject() & \"subject = 'ROS-1346'\""
   ]
  }
 ],
 "metadata": {
  "jupytext": {
   "formats": "ipynb,py"
  },
  "kernelspec": {
   "display_name": "Python 3 (ipykernel)",
   "language": "python",
   "name": "python3"
  },
  "language_info": {
   "codemirror_mode": {
    "name": "ipython",
    "version": 3
   },
   "file_extension": ".py",
   "mimetype": "text/x-python",
   "name": "python",
   "nbconvert_exporter": "python",
   "pygments_lexer": "ipython3",
   "version": "3.8.17"
  },
  "vscode": {
   "interpreter": {
    "hash": "2888206d04306eefe963095373d1dcce5cd11176f3d6ee4ec3f64dd9e65fd8a1"
   }
  }
 },
 "nbformat": 4,
 "nbformat_minor": 5
}
