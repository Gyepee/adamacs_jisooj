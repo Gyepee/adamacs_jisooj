{
 "cells": [
  {
   "cell_type": "markdown",
   "id": "46f28eb7-1fcc-4b9a-803e-097202fd899d",
   "metadata": {},
   "source": [
    "# Scanning Session Ingestion"
   ]
  },
  {
   "cell_type": "markdown",
   "id": "bba759c2-4cc1-45ee-9212-422a604c32a4",
   "metadata": {},
   "source": [
    "## Setup"
   ]
  },
  {
   "cell_type": "markdown",
   "id": "0da9aa77-afbf-43b2-ad19-e497e05e8627",
   "metadata": {},
   "source": [
    "### Connect to the database"
   ]
  },
  {
   "cell_type": "markdown",
   "id": "bd1468c3-3915-49e6-89a9-10c7940017fd",
   "metadata": {},
   "source": [
    "If you are don't have your login information, contact the administrator.\n",
    "\n",
    "Using local config file (see [01_pipeline](./01_pipeline.ipynb)):"
   ]
  },
  {
   "cell_type": "code",
   "execution_count": 1,
   "id": "301f9675-53e0-4ff6-bf3d-baba6589d6e3",
   "metadata": {},
   "outputs": [
    {
     "name": "stderr",
     "output_type": "stream",
     "text": [
      "[2023-01-14 09:27:58,907][INFO]: Connecting tobiasr@172.26.128.53:3306\n",
      "[2023-01-14 09:27:58,947][INFO]: Connected tobiasr@172.26.128.53:3306\n",
      "2023-01-14 09:27:59.076298: W tensorflow/stream_executor/platform/default/dso_loader.cc:64] Could not load dynamic library 'libcudart.so.11.0'; dlerror: libcudart.so.11.0: cannot open shared object file: No such file or directory\n",
      "2023-01-14 09:27:59.076328: I tensorflow/stream_executor/cuda/cudart_stub.cc:29] Ignore above cudart dlerror if you do not have a GPU set up on your machine.\n"
     ]
    },
    {
     "name": "stdout",
     "output_type": "stream",
     "text": [
      "Loading DLC 2.2.1.1...\n"
     ]
    },
    {
     "name": "stderr",
     "output_type": "stream",
     "text": [
      "/home/tobiasr/anaconda3/envs/datajoint/lib/python3.8/site-packages/statsmodels/compat/pandas.py:65: FutureWarning: pandas.Int64Index is deprecated and will be removed from pandas in a future version. Use pandas.Index with the appropriate dtype instead.\n",
      "  from pandas import Int64Index as NumericIndex\n"
     ]
    },
    {
     "name": "stdout",
     "output_type": "stream",
     "text": [
      "DLC loaded in light mode; you cannot use any GUI (labeling, relabeling and standalone GUI)\n"
     ]
    }
   ],
   "source": [
    "import os\n",
    "# change to the upper level folder to detect dj_local_conf.json\n",
    "if os.path.basename(os.getcwd())=='notebooks': os.chdir('..')\n",
    "assert os.path.basename(os.getcwd())=='adamacs', (\"Please move to the main directory\")\n",
    "import datajoint as dj; dj.conn()\n",
    "\n",
    "from adamacs.pipeline import subject, session, surgery, scan, equipment\n",
    "from adamacs import utility\n",
    "from adamacs.ingest import session as isess\n",
    "sub, lab, protocol, line, mutation, user, project, subject_genotype, subject_death = (\n",
    "    subject.Subject(), subject.Lab(), subject.Protocol(), subject.Line(), \n",
    "    subject.Mutation(), subject.User(), subject.Project(), subject.SubjectGenotype(), \n",
    "    subject.SubjectDeath())"
   ]
  },
  {
   "cell_type": "code",
   "execution_count": null,
   "id": "4bd995f6",
   "metadata": {},
   "outputs": [],
   "source": [
    "# subject.Subject.drop()\n",
    "# subject.Mutation.drop()\n",
    "# subject.Protocol.drop()\n",
    "# subject.Line.drop()\n",
    "# subject.SubjectGenotype.drop()\n",
    "# equipment.Equipment.drop()\n",
    "# scan.Scan.drop()\n",
    "# session.Session.drop()\n",
    "# imaging.Processing.drop()"
   ]
  },
  {
   "cell_type": "code",
   "execution_count": null,
   "id": "5b33cb1a",
   "metadata": {},
   "outputs": [],
   "source": [
    "# session.Session.delete()"
   ]
  },
  {
   "cell_type": "code",
   "execution_count": null,
   "id": "44e51054",
   "metadata": {},
   "outputs": [],
   "source": [
    "scan.Scan.describe()"
   ]
  },
  {
   "cell_type": "code",
   "execution_count": 2,
   "id": "dcd34047-4e4a-4d52-a6b0-1585c41ee3e0",
   "metadata": {},
   "outputs": [
    {
     "data": {
      "image/svg+xml": "<svg xmlns=\"http://www.w3.org/2000/svg\" xmlns:xlink=\"http://www.w3.org/1999/xlink\" width=\"328pt\" height=\"327pt\" viewBox=\"0.00 0.00 328.00 327.00\">\n<g id=\"graph0\" class=\"graph\" transform=\"scale(1 1) rotate(0) translate(4 323)\">\n<title>%3</title>\n<polygon fill=\"white\" stroke=\"transparent\" points=\"-4,4 -4,-323 324,-323 324,4 -4,4\"/>\n<!-- 7 -->\n<g id=\"node1\" class=\"node\">\n<title>7</title>\n<ellipse fill=\"#ff8800\" fill-opacity=\"0.501961\" stroke=\"#ff8800\" stroke-opacity=\"0.501961\" cx=\"22\" cy=\"-159.5\" rx=\"2\" ry=\"2\"/>\n<text text-anchor=\"middle\" x=\"22\" y=\"-159.2\" font-family=\"arial\" font-size=\"1.00\" fill=\"#ff8800\" fill-opacity=\"0.501961\">7</text>\n</g>\n<!-- subject.Subject -->\n<g id=\"node5\" class=\"node\">\n<title>subject.Subject</title>\n<g id=\"a_node5\"><a xlink:title=\"subject              \r------------------------------\rearmark              \rsex                  \rbirth_date           \rdeath_date=null      \rgeneration=&quot;&quot;        \rparent_ids           \r→ subject.User.proj(owner_id=&quot;user_id&quot;)\r→ subject.User.proj(responsible_id=&quot;user_id&quot;)\r→ subject.Line\r→ subject.Protocol\r\">\n<polygon fill=\"#00ff00\" fill-opacity=\"0.188235\" stroke=\"#00ff00\" stroke-opacity=\"0.188235\" points=\"155,-106 57,-106 57,-71 155,-71 155,-106\"/>\n<text text-anchor=\"start\" x=\"65\" y=\"-86.4\" font-family=\"arial\" text-decoration=\"underline\" font-size=\"12.00\" fill=\"darkgreen\">subject.Subject</text>\n</a>\n</g>\n</g>\n<!-- 7&#45;&gt;subject.Subject -->\n<g id=\"edge1\" class=\"edge\">\n<title>7-&gt;subject.Subject</title>\n<path fill=\"none\" stroke=\"#000000\" stroke-width=\"0.75\" stroke-dasharray=\"5,2\" stroke-opacity=\"0.250980\" d=\"M22.89,-157.57C25.36,-155 32.55,-147.63 39,-142 53.36,-129.47 70.26,-116.23 83.5,-106.19\"/>\n</g>\n<!-- 6 -->\n<g id=\"node2\" class=\"node\">\n<title>6</title>\n<ellipse fill=\"#ff8800\" fill-opacity=\"0.501961\" stroke=\"#ff8800\" stroke-opacity=\"0.501961\" cx=\"57\" cy=\"-159.5\" rx=\"2\" ry=\"2\"/>\n<text text-anchor=\"middle\" x=\"57\" y=\"-159.2\" font-family=\"arial\" font-size=\"1.00\" fill=\"#ff8800\" fill-opacity=\"0.501961\">6</text>\n</g>\n<!-- 6&#45;&gt;subject.Subject -->\n<g id=\"edge2\" class=\"edge\">\n<title>6-&gt;subject.Subject</title>\n<path fill=\"none\" stroke=\"#000000\" stroke-width=\"0.75\" stroke-dasharray=\"5,2\" stroke-opacity=\"0.250980\" d=\"M57.69,-157.52C61.6,-152.02 81.18,-124.45 94.19,-106.14\"/>\n</g>\n<!-- subject.Line -->\n<g id=\"node3\" class=\"node\">\n<title>subject.Line</title>\n<g id=\"a_node3\"><a xlink:title=\"line                 \r------------------------------\rline_name=&quot;&quot;         \ris_active            \r\">\n<polygon fill=\"#00ff00\" fill-opacity=\"0.188235\" stroke=\"#00ff00\" stroke-opacity=\"0.188235\" points=\"285.5,-177 204.5,-177 204.5,-142 285.5,-142 285.5,-177\"/>\n<text text-anchor=\"start\" x=\"212.5\" y=\"-157.4\" font-family=\"arial\" text-decoration=\"underline\" font-size=\"12.00\" fill=\"darkgreen\">subject.Line</text>\n</a>\n</g>\n</g>\n<!-- subject.Line&#45;&gt;subject.Subject -->\n<g id=\"edge3\" class=\"edge\">\n<title>subject.Line-&gt;subject.Subject</title>\n<path fill=\"none\" stroke=\"#000000\" stroke-width=\"0.75\" stroke-dasharray=\"5,2\" stroke-opacity=\"0.250980\" d=\"M211.71,-141.97C189.86,-131.13 161.39,-117 139.5,-106.13\"/>\n</g>\n<!-- subject.Mutation -->\n<g id=\"node7\" class=\"node\">\n<title>subject.Mutation</title>\n<g id=\"a_node7\"><a xlink:title=\"→ subject.Line\rmutation_id          \r------------------------------\rdescription=&quot;&quot;       \r\">\n<polygon fill=\"#00ff00\" fill-opacity=\"0.188235\" stroke=\"#00ff00\" stroke-opacity=\"0.188235\" points=\"297,-106 193,-106 193,-71 297,-71 297,-106\"/>\n<text text-anchor=\"start\" x=\"201\" y=\"-86.4\" font-family=\"arial\" text-decoration=\"underline\" font-size=\"12.00\" fill=\"darkgreen\">subject.Mutation</text>\n</a>\n</g>\n</g>\n<!-- subject.Line&#45;&gt;subject.Mutation -->\n<g id=\"edge4\" class=\"edge\">\n<title>subject.Line-&gt;subject.Mutation</title>\n<path fill=\"none\" stroke=\"#000000\" stroke-width=\"0.75\" stroke-opacity=\"0.250980\" d=\"M245,-141.8C245,-130.95 245,-116.87 245,-106.05\"/>\n</g>\n<!-- subject.SubjectGenotype -->\n<g id=\"node4\" class=\"node\">\n<title>subject.SubjectGenotype</title>\n<g id=\"a_node4\"><a xlink:title=\"→ subject.Subject\r→ subject.Mutation\r------------------------------\rgenotype             \r\">\n<polygon fill=\"#00ff00\" fill-opacity=\"0.188235\" stroke=\"#00ff00\" stroke-opacity=\"0.188235\" points=\"320,-35 170,-35 170,0 320,0 320,-35\"/>\n<text text-anchor=\"middle\" x=\"245\" y=\"-14.4\" font-family=\"arial\" font-size=\"12.00\" fill=\"darkgreen\">subject.SubjectGenotype</text>\n</a>\n</g>\n</g>\n<!-- subject.Subject&#45;&gt;subject.SubjectGenotype -->\n<g id=\"edge5\" class=\"edge\">\n<title>subject.Subject-&gt;subject.SubjectGenotype</title>\n<path fill=\"none\" stroke=\"#000000\" stroke-width=\"0.75\" stroke-opacity=\"0.250980\" d=\"M139.29,-70.97C161.14,-60.13 189.61,-46 211.5,-35.13\"/>\n</g>\n<!-- subject.SubjectDeath -->\n<g id=\"node11\" class=\"node\">\n<title>subject.SubjectDeath</title>\n<g id=\"a_node11\"><a xlink:title=\"→ subject.Subject\r------------------------------\rdeath_date           \rcause                \r\">\n<polygon fill=\"#00ff00\" fill-opacity=\"0.188235\" stroke=\"#00ff00\" stroke-opacity=\"0.188235\" points=\"151.5,-35 20.5,-35 20.5,0 151.5,0 151.5,-35\"/>\n<text text-anchor=\"middle\" x=\"86\" y=\"-14.4\" font-family=\"arial\" font-size=\"12.00\" fill=\"darkgreen\">subject.SubjectDeath</text>\n</a>\n</g>\n</g>\n<!-- subject.Subject&#45;&gt;subject.SubjectDeath -->\n<g id=\"edge6\" class=\"edge\">\n<title>subject.Subject-&gt;subject.SubjectDeath</title>\n<path fill=\"none\" stroke=\"#000000\" stroke-width=\"2\" stroke-opacity=\"0.250980\" d=\"M101.16,-70.8C98.01,-59.95 93.93,-45.87 90.8,-35.05\"/>\n</g>\n<!-- subject.Protocol -->\n<g id=\"node6\" class=\"node\">\n<title>subject.Protocol</title>\n<g id=\"a_node6\"><a xlink:title=\"protocol             \r------------------------------\rprotocol_description=&quot;&quot; \r\">\n<polygon fill=\"#00ff00\" fill-opacity=\"0.188235\" stroke=\"#00ff00\" stroke-opacity=\"0.188235\" points=\"186,-177 84,-177 84,-142 186,-142 186,-177\"/>\n<text text-anchor=\"start\" x=\"92\" y=\"-157.4\" font-family=\"arial\" text-decoration=\"underline\" font-size=\"12.00\" fill=\"darkgreen\">subject.Protocol</text>\n</a>\n</g>\n</g>\n<!-- subject.Protocol&#45;&gt;subject.Subject -->\n<g id=\"edge7\" class=\"edge\">\n<title>subject.Protocol-&gt;subject.Subject</title>\n<path fill=\"none\" stroke=\"#000000\" stroke-width=\"0.75\" stroke-dasharray=\"5,2\" stroke-opacity=\"0.250980\" d=\"M127.98,-141.8C123.42,-130.95 117.5,-116.87 112.96,-106.05\"/>\n</g>\n<!-- subject.Mutation&#45;&gt;subject.SubjectGenotype -->\n<g id=\"edge8\" class=\"edge\">\n<title>subject.Mutation-&gt;subject.SubjectGenotype</title>\n<path fill=\"none\" stroke=\"#000000\" stroke-width=\"0.75\" stroke-opacity=\"0.250980\" d=\"M245,-70.8C245,-59.95 245,-45.87 245,-35.05\"/>\n</g>\n<!-- subject.Lab -->\n<g id=\"node8\" class=\"node\">\n<title>subject.Lab</title>\n<g id=\"a_node8\"><a xlink:title=\"lab                  \r------------------------------\rlab_name             \rinstitution          \raddress              \r\">\n<polygon fill=\"#00ff00\" fill-opacity=\"0.188235\" stroke=\"#00ff00\" stroke-opacity=\"0.188235\" points=\"78,-319 0,-319 0,-284 78,-284 78,-319\"/>\n<text text-anchor=\"start\" x=\"8\" y=\"-299.4\" font-family=\"arial\" text-decoration=\"underline\" font-size=\"12.00\" fill=\"darkgreen\">subject.Lab</text>\n</a>\n</g>\n</g>\n<!-- subject.User -->\n<g id=\"node10\" class=\"node\">\n<title>subject.User</title>\n<g id=\"a_node10\"><a xlink:title=\"user_id              \r------------------------------\rname                 \rshorthand=&quot;&quot;         \rinitials=&quot;&quot;          \remail=&quot;&quot;             \r→ [nullable] subject.Lab\r\">\n<polygon fill=\"#000000\" fill-opacity=\"0.125490\" stroke=\"transparent\" points=\"75,-248 3,-248 3,-213 75,-213 75,-248\"/>\n<text text-anchor=\"start\" x=\"11\" y=\"-229\" font-family=\"arial\" text-decoration=\"underline\" font-size=\"10.00\">subject.User</text>\n</a>\n</g>\n</g>\n<!-- subject.Lab&#45;&gt;subject.User -->\n<g id=\"edge9\" class=\"edge\">\n<title>subject.Lab-&gt;subject.User</title>\n<path fill=\"none\" stroke=\"#000000\" stroke-width=\"0.75\" stroke-dasharray=\"5,2\" stroke-opacity=\"0.250980\" d=\"M39,-283.8C39,-272.95 39,-258.87 39,-248.05\"/>\n</g>\n<!-- subject.Project -->\n<g id=\"node9\" class=\"node\">\n<title>subject.Project</title>\n<g id=\"a_node9\"><a xlink:title=\"project              \r------------------------------\rproject_description=&quot;&quot; \r\">\n<polygon fill=\"#000000\" fill-opacity=\"0.125490\" stroke=\"transparent\" points=\"178,-319 96,-319 96,-284 178,-284 178,-319\"/>\n<text text-anchor=\"start\" x=\"104\" y=\"-300\" font-family=\"arial\" text-decoration=\"underline\" font-size=\"10.00\">subject.Project</text>\n</a>\n</g>\n</g>\n<!-- subject.User&#45;&gt;7 -->\n<g id=\"edge11\" class=\"edge\">\n<title>subject.User-&gt;7</title>\n<path fill=\"none\" stroke=\"#000000\" stroke-width=\"0.75\" stroke-dasharray=\"5,2\" stroke-opacity=\"0.250980\" d=\"M34.88,-212.8C30.48,-194.93 23.92,-168.29 22.35,-161.91\"/>\n</g>\n<!-- subject.User&#45;&gt;6 -->\n<g id=\"edge10\" class=\"edge\">\n<title>subject.User-&gt;6</title>\n<path fill=\"none\" stroke=\"#000000\" stroke-width=\"0.75\" stroke-dasharray=\"5,2\" stroke-opacity=\"0.250980\" d=\"M43.36,-212.8C48.02,-194.93 54.97,-168.29 56.63,-161.91\"/>\n</g>\n</g>\n</svg>",
      "text/plain": [
       "<datajoint.diagram.Diagram at 0x7fe03d929970>"
      ]
     },
     "execution_count": 2,
     "metadata": {},
     "output_type": "execute_result"
    }
   ],
   "source": [
    "dj.Diagram(subject) + dj.Diagram(protocol)"
   ]
  },
  {
   "cell_type": "markdown",
   "id": "7a2e2ccf-01d6-4d31-932b-aa12f8cd05a8",
   "metadata": {},
   "source": [
    "Manual entry:"
   ]
  },
  {
   "cell_type": "code",
   "execution_count": null,
   "id": "333074dc-2962-4c3f-ae66-d4164d6ceac9",
   "metadata": {},
   "outputs": [],
   "source": [
    "# Manual Entry\n",
    "import datajoint as dj; import getpass\n",
    "dj.config['database.host'] = '172.26.128.53'        # Put the server name between these apostrophe\n",
    "dj.config['database.user'] = 'danielmk'             # Put your user name between these apostrophe\n",
    "dj.config['database.password'] = getpass.getpass()  # Put your password in the prompt\n",
    "dj.conn()\n",
    "\n",
    "from adamacs.pipeline import subject, session, surgery, scan, equipment\n",
    "from adamacs import utility\n",
    "from adamacs.ingest import session as isess\n",
    "sub, lab, protocol, line, mutation, user, project, subject_genotype, subject_death = (\n",
    "    subject.Subject(), subject.Lab(), subject.Protocol(), subject.Line(), \n",
    "    subject.Mutation(), subject.User(), subject.Project(), subject.SubjectGenotype(), \n",
    "    subject.SubjectDeath())"
   ]
  },
  {
   "cell_type": "markdown",
   "id": "bb115bfc-2abb-45c9-bcba-c5c9e73b8990",
   "metadata": {},
   "source": [
    "\n",
    "## Ingesting scan"
   ]
  },
  {
   "cell_type": "markdown",
   "id": "47c001f0",
   "metadata": {},
   "source": [
    "Ingest all scans associated with a given session ID."
   ]
  },
  {
   "cell_type": "code",
   "execution_count": 47,
   "id": "e04adcf4",
   "metadata": {},
   "outputs": [
    {
     "name": "stdout",
     "output_type": "stream",
     "text": [
      "Number of scans found: 1\n",
      "[['scan9FG1UAQG']]\n",
      "['TR_ROS-1438_2023-01-13_scan9FG1UAQG_sess9FG1UAQG']\n"
     ]
    },
    {
     "name": "stderr",
     "output_type": "stream",
     "text": [
      "/tmp/ipykernel_4073016/3442756604.py:2: UserWarning: \n",
      "Skipped existing session row: ('sess9FG1UAQG', <module 'adamacs.schemas.subject' from '/home/tobiasr/adamacs/adamacs/schemas/subject.py'>, '2023-01-13')\n",
      "  isess.ingest_session_scan('sess9FG1UAQG', verbose=True) #TR: needs to be SessioID (\"sess...\")\n"
     ]
    },
    {
     "ename": "DuplicateError",
     "evalue": "(\"Duplicate entry 'TEC-sess9FG1UAQG' for key 'PRIMARY'\", 'To ignore duplicate entries in insert, set skip_duplicates=True')",
     "output_type": "error",
     "traceback": [
      "\u001b[0;31m---------------------------------------------------------------------------\u001b[0m",
      "\u001b[0;31mDuplicateError\u001b[0m                            Traceback (most recent call last)",
      "\u001b[1;32m/home/tobiasr/adamacs/notebooks/04_scan_insert.ipynb Zelle 14\u001b[0m in \u001b[0;36m<cell line: 2>\u001b[0;34m()\u001b[0m\n\u001b[1;32m      <a href='vscode-notebook-cell://ssh-remote%2B172.26.128.53/home/tobiasr/adamacs/notebooks/04_scan_insert.ipynb#X16sdnNjb2RlLXJlbW90ZQ%3D%3D?line=0'>1</a>\u001b[0m \u001b[39m# isess.ingest_session_scan('sess9FB2LN5C', verbose=True)\u001b[39;00m\n\u001b[0;32m----> <a href='vscode-notebook-cell://ssh-remote%2B172.26.128.53/home/tobiasr/adamacs/notebooks/04_scan_insert.ipynb#X16sdnNjb2RlLXJlbW90ZQ%3D%3D?line=1'>2</a>\u001b[0m isess\u001b[39m.\u001b[39;49mingest_session_scan(\u001b[39m'\u001b[39;49m\u001b[39msess9FG1UAQG\u001b[39;49m\u001b[39m'\u001b[39;49m, verbose\u001b[39m=\u001b[39;49m\u001b[39mTrue\u001b[39;49;00m)\n",
      "File \u001b[0;32m~/adamacs/adamacs/ingest/session.py:87\u001b[0m, in \u001b[0;36mingest_session_scan\u001b[0;34m(session_key, root_paths, verbose)\u001b[0m\n\u001b[1;32m     83\u001b[0m     warnings\u001b[39m.\u001b[39mwarn(\u001b[39mf\u001b[39m\u001b[39m'\u001b[39m\u001b[39m\\n\u001b[39;00m\u001b[39mSkipped existing session row: \u001b[39m\u001b[39m{\u001b[39;00msession_key, subject, date\u001b[39m}\u001b[39;00m\u001b[39m'\u001b[39m,\n\u001b[1;32m     84\u001b[0m                   stacklevel\u001b[39m=\u001b[39m\u001b[39m2\u001b[39m)\n\u001b[1;32m     86\u001b[0m default_project_id \u001b[39m=\u001b[39m \u001b[39m\"\u001b[39m\u001b[39mTEC\u001b[39m\u001b[39m\"\u001b[39m\n\u001b[0;32m---> 87\u001b[0m session\u001b[39m.\u001b[39;49mProjectSession\u001b[39m.\u001b[39;49minsert1((default_project_id, session_key)) \u001b[39m#TR: has to match project table (shorthand - NOT description)\u001b[39;00m\n\u001b[1;32m     90\u001b[0m \u001b[39m# CB NOTE: I think this should be modified to store the relative path\u001b[39;00m\n\u001b[1;32m     91\u001b[0m \u001b[39mtry\u001b[39;00m:\n",
      "File \u001b[0;32m~/anaconda3/envs/datajoint/lib/python3.8/site-packages/datajoint/table.py:334\u001b[0m, in \u001b[0;36mTable.insert1\u001b[0;34m(self, row, **kwargs)\u001b[0m\n\u001b[1;32m    327\u001b[0m \u001b[39mdef\u001b[39;00m \u001b[39minsert1\u001b[39m(\u001b[39mself\u001b[39m, row, \u001b[39m*\u001b[39m\u001b[39m*\u001b[39mkwargs):\n\u001b[1;32m    328\u001b[0m     \u001b[39m\"\"\"\u001b[39;00m\n\u001b[1;32m    329\u001b[0m \u001b[39m    Insert one data record into the table. For ``kwargs``, see ``insert()``.\u001b[39;00m\n\u001b[1;32m    330\u001b[0m \n\u001b[1;32m    331\u001b[0m \u001b[39m    :param row: a numpy record, a dict-like object, or an ordered sequence to be inserted\u001b[39;00m\n\u001b[1;32m    332\u001b[0m \u001b[39m        as one row.\u001b[39;00m\n\u001b[1;32m    333\u001b[0m \u001b[39m    \"\"\"\u001b[39;00m\n\u001b[0;32m--> 334\u001b[0m     \u001b[39mself\u001b[39;49m\u001b[39m.\u001b[39;49minsert((row,), \u001b[39m*\u001b[39;49m\u001b[39m*\u001b[39;49mkwargs)\n",
      "File \u001b[0;32m~/anaconda3/envs/datajoint/lib/python3.8/site-packages/datajoint/table.py:443\u001b[0m, in \u001b[0;36mTable.insert\u001b[0;34m(self, rows, replace, skip_duplicates, ignore_extra_fields, allow_direct_insert)\u001b[0m\n\u001b[1;32m    439\u001b[0m     \u001b[39mraise\u001b[39;00m err\u001b[39m.\u001b[39msuggest(\n\u001b[1;32m    440\u001b[0m         \u001b[39m\"\u001b[39m\u001b[39mTo ignore extra fields in insert, set ignore_extra_fields=True\u001b[39m\u001b[39m\"\u001b[39m\n\u001b[1;32m    441\u001b[0m     )\n\u001b[1;32m    442\u001b[0m \u001b[39mexcept\u001b[39;00m DuplicateError \u001b[39mas\u001b[39;00m err:\n\u001b[0;32m--> 443\u001b[0m     \u001b[39mraise\u001b[39;00m err\u001b[39m.\u001b[39msuggest(\n\u001b[1;32m    444\u001b[0m         \u001b[39m\"\u001b[39m\u001b[39mTo ignore duplicate entries in insert, set skip_duplicates=True\u001b[39m\u001b[39m\"\u001b[39m\n\u001b[1;32m    445\u001b[0m     )\n",
      "\u001b[0;31mDuplicateError\u001b[0m: (\"Duplicate entry 'TEC-sess9FG1UAQG' for key 'PRIMARY'\", 'To ignore duplicate entries in insert, set skip_duplicates=True')"
     ]
    }
   ],
   "source": [
    "# isess.ingest_session_scan('sess9FB2LN5C', verbose=True)\n",
    "isess.ingest_session_scan('sess9FG1UAQG', verbose=True) #TR: needs to be SessioID (\"sess...\")"
   ]
  },
  {
   "cell_type": "code",
   "execution_count": 9,
   "id": "c4c8bb54-ae93-4974-9ff7-ac74dfa2baa0",
   "metadata": {},
   "outputs": [
    {
     "data": {
      "text/html": [
       "\n",
       "    \n",
       "    <style type=\"text/css\">\n",
       "        .Relation{\n",
       "            border-collapse:collapse;\n",
       "        }\n",
       "        .Relation th{\n",
       "            background: #A0A0A0; color: #ffffff; padding:4px; border:#f0e0e0 1px solid;\n",
       "            font-weight: normal; font-family: monospace; font-size: 100%;\n",
       "        }\n",
       "        .Relation td{\n",
       "            padding:4px; border:#f0e0e0 1px solid; font-size:100%;\n",
       "        }\n",
       "        .Relation tr:nth-child(odd){\n",
       "            background: #ffffff;\n",
       "        }\n",
       "        .Relation tr:nth-child(even){\n",
       "            background: #f3f1ff;\n",
       "        }\n",
       "        /* Tooltip container */\n",
       "        .djtooltip {\n",
       "        }\n",
       "        /* Tooltip text */\n",
       "        .djtooltip .djtooltiptext {\n",
       "            visibility: hidden;\n",
       "            width: 120px;\n",
       "            background-color: black;\n",
       "            color: #fff;\n",
       "            text-align: center;\n",
       "            padding: 5px 0;\n",
       "            border-radius: 6px;\n",
       "            /* Position the tooltip text - see examples below! */\n",
       "            position: absolute;\n",
       "            z-index: 1;\n",
       "        }\n",
       "        #primary {\n",
       "            font-weight: bold;\n",
       "            color: black;\n",
       "        }\n",
       "        #nonprimary {\n",
       "            font-weight: normal;\n",
       "            color: white;\n",
       "        }\n",
       "\n",
       "        /* Show the tooltip text when you mouse over the tooltip container */\n",
       "        .djtooltip:hover .djtooltiptext {\n",
       "            visibility: visible;\n",
       "        }\n",
       "    </style>\n",
       "    \n",
       "    <b></b>\n",
       "        <div style=\"max-height:1000px;max-width:1500px;overflow:auto;\">\n",
       "        <table border=\"1\" class=\"Relation\">\n",
       "            <thead> <tr style=\"text-align: right;\"> <th> <div class=\"djtooltip\">\n",
       "                            <p id=\"primary\">session_id</p>\n",
       "                            <span class=\"djtooltiptext\"></span>\n",
       "                        </div></th><th><div class=\"djtooltip\">\n",
       "                            <p id=\"nonprimary\">subject</p>\n",
       "                            <span class=\"djtooltiptext\">PyRat import uses this for earmark value</span>\n",
       "                        </div></th><th><div class=\"djtooltip\">\n",
       "                            <p id=\"nonprimary\">session_datetime</p>\n",
       "                            <span class=\"djtooltiptext\"></span>\n",
       "                        </div> </th> </tr> </thead>\n",
       "            <tbody> <tr> <td>sess9FG1UAQG</td>\n",
       "<td>ROS-1438</td>\n",
       "<td>2023-01-13 00:00:00</td> </tr> </tbody>\n",
       "        </table>\n",
       "        \n",
       "        <p>Total: 1</p></div>\n",
       "        "
      ],
      "text/plain": [
       "*session_id    subject      session_dateti\n",
       "+------------+ +----------+ +------------+\n",
       "sess9FG1UAQG   ROS-1438     2023-01-13 00:\n",
       " (Total: 1)"
      ]
     },
     "execution_count": 9,
     "metadata": {},
     "output_type": "execute_result"
    }
   ],
   "source": [
    "session.Session()"
   ]
  },
  {
   "cell_type": "code",
   "execution_count": 5,
   "id": "824cb8cd",
   "metadata": {},
   "outputs": [
    {
     "data": {
      "text/html": [
       "\n",
       "    \n",
       "    <style type=\"text/css\">\n",
       "        .Relation{\n",
       "            border-collapse:collapse;\n",
       "        }\n",
       "        .Relation th{\n",
       "            background: #A0A0A0; color: #ffffff; padding:4px; border:#f0e0e0 1px solid;\n",
       "            font-weight: normal; font-family: monospace; font-size: 100%;\n",
       "        }\n",
       "        .Relation td{\n",
       "            padding:4px; border:#f0e0e0 1px solid; font-size:100%;\n",
       "        }\n",
       "        .Relation tr:nth-child(odd){\n",
       "            background: #ffffff;\n",
       "        }\n",
       "        .Relation tr:nth-child(even){\n",
       "            background: #f3f1ff;\n",
       "        }\n",
       "        /* Tooltip container */\n",
       "        .djtooltip {\n",
       "        }\n",
       "        /* Tooltip text */\n",
       "        .djtooltip .djtooltiptext {\n",
       "            visibility: hidden;\n",
       "            width: 120px;\n",
       "            background-color: black;\n",
       "            color: #fff;\n",
       "            text-align: center;\n",
       "            padding: 5px 0;\n",
       "            border-radius: 6px;\n",
       "            /* Position the tooltip text - see examples below! */\n",
       "            position: absolute;\n",
       "            z-index: 1;\n",
       "        }\n",
       "        #primary {\n",
       "            font-weight: bold;\n",
       "            color: black;\n",
       "        }\n",
       "        #nonprimary {\n",
       "            font-weight: normal;\n",
       "            color: white;\n",
       "        }\n",
       "\n",
       "        /* Show the tooltip text when you mouse over the tooltip container */\n",
       "        .djtooltip:hover .djtooltiptext {\n",
       "            visibility: visible;\n",
       "        }\n",
       "    </style>\n",
       "    \n",
       "    \n",
       "        <div style=\"max-height:1000px;max-width:1500px;overflow:auto;\">\n",
       "        <table border=\"1\" class=\"Relation\">\n",
       "            <thead> <tr style=\"text-align: right;\"> <th> <div class=\"djtooltip\">\n",
       "                            <p id=\"primary\">session_id</p>\n",
       "                            <span class=\"djtooltiptext\"></span>\n",
       "                        </div></th><th><div class=\"djtooltip\">\n",
       "                            <p id=\"primary\">project</p>\n",
       "                            <span class=\"djtooltiptext\"></span>\n",
       "                        </div></th><th><div class=\"djtooltip\">\n",
       "                            <p id=\"nonprimary\">session_dir</p>\n",
       "                            <span class=\"djtooltiptext\">Path to the data directory for a session</span>\n",
       "                        </div></th><th><div class=\"djtooltip\">\n",
       "                            <p id=\"nonprimary\">user_id</p>\n",
       "                            <span class=\"djtooltiptext\"></span>\n",
       "                        </div> </th> </tr> </thead>\n",
       "            <tbody> <tr> <td>sess9FG1UAQG</td>\n",
       "<td>TEC</td>\n",
       "<td>/datajoint-data/data/tobiasr/TR_ROS-1438_2023-01-13_scan9FG1UAQG_sess9FG1UAQG</td>\n",
       "<td>1</td> </tr> </tbody>\n",
       "        </table>\n",
       "        \n",
       "        <p>Total: 1</p></div>\n",
       "        "
      ],
      "text/plain": [
       "*session_id    *project    session_dir    user_id    \n",
       "+------------+ +---------+ +------------+ +---------+\n",
       "sess9FG1UAQG   TEC         /datajoint-dat 1          \n",
       " (Total: 1)"
      ]
     },
     "execution_count": 5,
     "metadata": {},
     "output_type": "execute_result"
    }
   ],
   "source": [
    "session.SessionDirectory() * session.ProjectSession()"
   ]
  },
  {
   "cell_type": "code",
   "execution_count": 6,
   "id": "3a3e96e3",
   "metadata": {},
   "outputs": [
    {
     "data": {
      "text/html": [
       "\n",
       "    \n",
       "    <style type=\"text/css\">\n",
       "        .Relation{\n",
       "            border-collapse:collapse;\n",
       "        }\n",
       "        .Relation th{\n",
       "            background: #A0A0A0; color: #ffffff; padding:4px; border:#f0e0e0 1px solid;\n",
       "            font-weight: normal; font-family: monospace; font-size: 100%;\n",
       "        }\n",
       "        .Relation td{\n",
       "            padding:4px; border:#f0e0e0 1px solid; font-size:100%;\n",
       "        }\n",
       "        .Relation tr:nth-child(odd){\n",
       "            background: #ffffff;\n",
       "        }\n",
       "        .Relation tr:nth-child(even){\n",
       "            background: #f3f1ff;\n",
       "        }\n",
       "        /* Tooltip container */\n",
       "        .djtooltip {\n",
       "        }\n",
       "        /* Tooltip text */\n",
       "        .djtooltip .djtooltiptext {\n",
       "            visibility: hidden;\n",
       "            width: 120px;\n",
       "            background-color: black;\n",
       "            color: #fff;\n",
       "            text-align: center;\n",
       "            padding: 5px 0;\n",
       "            border-radius: 6px;\n",
       "            /* Position the tooltip text - see examples below! */\n",
       "            position: absolute;\n",
       "            z-index: 1;\n",
       "        }\n",
       "        #primary {\n",
       "            font-weight: bold;\n",
       "            color: black;\n",
       "        }\n",
       "        #nonprimary {\n",
       "            font-weight: normal;\n",
       "            color: white;\n",
       "        }\n",
       "\n",
       "        /* Show the tooltip text when you mouse over the tooltip container */\n",
       "        .djtooltip:hover .djtooltiptext {\n",
       "            visibility: visible;\n",
       "        }\n",
       "    </style>\n",
       "    \n",
       "    <b></b>\n",
       "        <div style=\"max-height:1000px;max-width:1500px;overflow:auto;\">\n",
       "        <table border=\"1\" class=\"Relation\">\n",
       "            <thead> <tr style=\"text-align: right;\"> <th> <div class=\"djtooltip\">\n",
       "                            <p id=\"primary\">project</p>\n",
       "                            <span class=\"djtooltiptext\"></span>\n",
       "                        </div></th><th><div class=\"djtooltip\">\n",
       "                            <p id=\"primary\">session_id</p>\n",
       "                            <span class=\"djtooltiptext\"></span>\n",
       "                        </div> </th> </tr> </thead>\n",
       "            <tbody> <tr> <td>TEC</td>\n",
       "<td>sess9FG1UAQG</td> </tr> </tbody>\n",
       "        </table>\n",
       "        \n",
       "        <p>Total: 1</p></div>\n",
       "        "
      ],
      "text/plain": [
       "*project    *session_id   \n",
       "+---------+ +------------+\n",
       "TEC         sess9FG1UAQG  \n",
       " (Total: 1)"
      ]
     },
     "execution_count": 6,
     "metadata": {},
     "output_type": "execute_result"
    }
   ],
   "source": [
    "session.ProjectSession()"
   ]
  },
  {
   "cell_type": "code",
   "execution_count": 48,
   "id": "bdfe449c-9ecc-4b49-93ee-9c73295b12eb",
   "metadata": {},
   "outputs": [
    {
     "data": {
      "text/html": [
       "\n",
       "    \n",
       "    <style type=\"text/css\">\n",
       "        .Relation{\n",
       "            border-collapse:collapse;\n",
       "        }\n",
       "        .Relation th{\n",
       "            background: #A0A0A0; color: #ffffff; padding:4px; border:#f0e0e0 1px solid;\n",
       "            font-weight: normal; font-family: monospace; font-size: 100%;\n",
       "        }\n",
       "        .Relation td{\n",
       "            padding:4px; border:#f0e0e0 1px solid; font-size:100%;\n",
       "        }\n",
       "        .Relation tr:nth-child(odd){\n",
       "            background: #ffffff;\n",
       "        }\n",
       "        .Relation tr:nth-child(even){\n",
       "            background: #f3f1ff;\n",
       "        }\n",
       "        /* Tooltip container */\n",
       "        .djtooltip {\n",
       "        }\n",
       "        /* Tooltip text */\n",
       "        .djtooltip .djtooltiptext {\n",
       "            visibility: hidden;\n",
       "            width: 120px;\n",
       "            background-color: black;\n",
       "            color: #fff;\n",
       "            text-align: center;\n",
       "            padding: 5px 0;\n",
       "            border-radius: 6px;\n",
       "            /* Position the tooltip text - see examples below! */\n",
       "            position: absolute;\n",
       "            z-index: 1;\n",
       "        }\n",
       "        #primary {\n",
       "            font-weight: bold;\n",
       "            color: black;\n",
       "        }\n",
       "        #nonprimary {\n",
       "            font-weight: normal;\n",
       "            color: white;\n",
       "        }\n",
       "\n",
       "        /* Show the tooltip text when you mouse over the tooltip container */\n",
       "        .djtooltip:hover .djtooltiptext {\n",
       "            visibility: visible;\n",
       "        }\n",
       "    </style>\n",
       "    \n",
       "    <b></b>\n",
       "        <div style=\"max-height:1000px;max-width:1500px;overflow:auto;\">\n",
       "        <table border=\"1\" class=\"Relation\">\n",
       "            <thead> <tr style=\"text-align: right;\"> <th> <div class=\"djtooltip\">\n",
       "                            <p id=\"primary\">session_id</p>\n",
       "                            <span class=\"djtooltiptext\"></span>\n",
       "                        </div></th><th><div class=\"djtooltip\">\n",
       "                            <p id=\"primary\">scan_id</p>\n",
       "                            <span class=\"djtooltiptext\"></span>\n",
       "                        </div></th><th><div class=\"djtooltip\">\n",
       "                            <p id=\"nonprimary\">scanner</p>\n",
       "                            <span class=\"djtooltiptext\"></span>\n",
       "                        </div></th><th><div class=\"djtooltip\">\n",
       "                            <p id=\"nonprimary\">acq_software</p>\n",
       "                            <span class=\"djtooltiptext\"></span>\n",
       "                        </div></th><th><div class=\"djtooltip\">\n",
       "                            <p id=\"nonprimary\">scan_notes</p>\n",
       "                            <span class=\"djtooltiptext\">free-notes</span>\n",
       "                        </div> </th> </tr> </thead>\n",
       "            <tbody> <tr> <td>sess9FG1UAQG</td>\n",
       "<td>scan9FG1UAQG</td>\n",
       "<td>mini2p1</td>\n",
       "<td>ScanImage</td>\n",
       "<td></td> </tr> </tbody>\n",
       "        </table>\n",
       "        \n",
       "        <p>Total: 1</p></div>\n",
       "        "
      ],
      "text/plain": [
       "*session_id    *scan_id       scanner     acq_software   scan_notes    \n",
       "+------------+ +------------+ +---------+ +------------+ +------------+\n",
       "sess9FG1UAQG   scan9FG1UAQG   mini2p1     ScanImage                    \n",
       " (Total: 1)"
      ]
     },
     "execution_count": 48,
     "metadata": {},
     "output_type": "execute_result"
    }
   ],
   "source": [
    "key='scan9FG1UAQG'\n",
    "(scan.Scan & f'scan_id=\\\"{key}\\\"')"
   ]
  },
  {
   "cell_type": "markdown",
   "id": "127f793d",
   "metadata": {},
   "source": [
    "Simple user look-up to get user_id from shorthand"
   ]
  },
  {
   "cell_type": "code",
   "execution_count": 11,
   "id": "f620750b",
   "metadata": {},
   "outputs": [
    {
     "name": "stdout",
     "output_type": "stream",
     "text": [
      "TR = 1\n"
     ]
    }
   ],
   "source": [
    "key='TR'\n",
    "query = (subject.User & f'initials=\\\"{key}\\\"')\n",
    "id = query.fetch(\"user_id\")[0]\n",
    "print(key + ' = ' + str(id))"
   ]
  },
  {
   "cell_type": "code",
   "execution_count": 42,
   "id": "f620750b",
   "metadata": {},
   "outputs": [
    {
     "name": "stdout",
     "output_type": "stream",
     "text": [
      "%Tob = []\n"
     ]
    }
   ],
   "source": [
    "key='%Tob%'\n",
    "query = (subject.User & f'name LIKE \\\"{key}\\\"')\n",
    "id = query.fetch(\"user_id\")\n",
    "print(key + ' = ' + str(id))"
   ]
  },
  {
   "cell_type": "code",
   "execution_count": 40,
   "id": "9b2d330b",
   "metadata": {},
   "outputs": [
    {
     "data": {
      "text/plain": [
       "array(['jjun1@uni-bonn.de'], dtype=object)"
      ]
     },
     "execution_count": 40,
     "metadata": {},
     "output_type": "execute_result"
    }
   ],
   "source": [
    "key='%Ji%'\n",
    "query = (subject.User & f'name LIKE \\\"{key}\\\"')\n",
    "query.fetch(\"email\")"
   ]
  },
  {
   "cell_type": "code",
   "execution_count": 44,
   "id": "891ca3d7",
   "metadata": {},
   "outputs": [
    {
     "data": {
      "text/plain": [
       "array([],\n",
       "      dtype=[('subject', 'O'), ('earmark', 'O'), ('sex', 'O'), ('birth_date', 'O'), ('death_date', 'O'), ('generation', 'O'), ('parent_ids', 'O'), ('owner_id', '<i8'), ('responsible_id', '<i8'), ('line', '<i8'), ('protocol', 'O')])"
      ]
     },
     "execution_count": 44,
     "metadata": {},
     "output_type": "execute_result"
    }
   ],
   "source": [
    "query = subject.Subject() & '\"ROS-1380\"'\n",
    "query.fetch()"
   ]
  },
  {
   "cell_type": "code",
   "execution_count": 45,
   "id": "cb7ff963",
   "metadata": {},
   "outputs": [
    {
     "data": {
      "text/html": [
       "\n",
       "    \n",
       "    <style type=\"text/css\">\n",
       "        .Relation{\n",
       "            border-collapse:collapse;\n",
       "        }\n",
       "        .Relation th{\n",
       "            background: #A0A0A0; color: #ffffff; padding:4px; border:#f0e0e0 1px solid;\n",
       "            font-weight: normal; font-family: monospace; font-size: 100%;\n",
       "        }\n",
       "        .Relation td{\n",
       "            padding:4px; border:#f0e0e0 1px solid; font-size:100%;\n",
       "        }\n",
       "        .Relation tr:nth-child(odd){\n",
       "            background: #ffffff;\n",
       "        }\n",
       "        .Relation tr:nth-child(even){\n",
       "            background: #f3f1ff;\n",
       "        }\n",
       "        /* Tooltip container */\n",
       "        .djtooltip {\n",
       "        }\n",
       "        /* Tooltip text */\n",
       "        .djtooltip .djtooltiptext {\n",
       "            visibility: hidden;\n",
       "            width: 120px;\n",
       "            background-color: black;\n",
       "            color: #fff;\n",
       "            text-align: center;\n",
       "            padding: 5px 0;\n",
       "            border-radius: 6px;\n",
       "            /* Position the tooltip text - see examples below! */\n",
       "            position: absolute;\n",
       "            z-index: 1;\n",
       "        }\n",
       "        #primary {\n",
       "            font-weight: bold;\n",
       "            color: black;\n",
       "        }\n",
       "        #nonprimary {\n",
       "            font-weight: normal;\n",
       "            color: white;\n",
       "        }\n",
       "\n",
       "        /* Show the tooltip text when you mouse over the tooltip container */\n",
       "        .djtooltip:hover .djtooltiptext {\n",
       "            visibility: visible;\n",
       "        }\n",
       "    </style>\n",
       "    \n",
       "    <b>Animal Subject</b>\n",
       "        <div style=\"max-height:1000px;max-width:1500px;overflow:auto;\">\n",
       "        <table border=\"1\" class=\"Relation\">\n",
       "            <thead> <tr style=\"text-align: right;\"> <th> <div class=\"djtooltip\">\n",
       "                            <p id=\"primary\">subject</p>\n",
       "                            <span class=\"djtooltiptext\">PyRat import uses this for earmark value</span>\n",
       "                        </div></th><th><div class=\"djtooltip\">\n",
       "                            <p id=\"nonprimary\">earmark</p>\n",
       "                            <span class=\"djtooltiptext\"></span>\n",
       "                        </div></th><th><div class=\"djtooltip\">\n",
       "                            <p id=\"nonprimary\">sex</p>\n",
       "                            <span class=\"djtooltiptext\">Geschlecht</span>\n",
       "                        </div></th><th><div class=\"djtooltip\">\n",
       "                            <p id=\"nonprimary\">birth_date</p>\n",
       "                            <span class=\"djtooltiptext\">Geb.</span>\n",
       "                        </div></th><th><div class=\"djtooltip\">\n",
       "                            <p id=\"nonprimary\">death_date</p>\n",
       "                            <span class=\"djtooltiptext\">Gest.</span>\n",
       "                        </div></th><th><div class=\"djtooltip\">\n",
       "                            <p id=\"nonprimary\">generation</p>\n",
       "                            <span class=\"djtooltiptext\">Generation (F2 in example sheet)</span>\n",
       "                        </div></th><th><div class=\"djtooltip\">\n",
       "                            <p id=\"nonprimary\">parent_ids</p>\n",
       "                            <span class=\"djtooltiptext\">dict of parent_sex: parent_eartag</span>\n",
       "                        </div></th><th><div class=\"djtooltip\">\n",
       "                            <p id=\"nonprimary\">owner_id</p>\n",
       "                            <span class=\"djtooltiptext\"></span>\n",
       "                        </div></th><th><div class=\"djtooltip\">\n",
       "                            <p id=\"nonprimary\">responsible_id</p>\n",
       "                            <span class=\"djtooltiptext\"></span>\n",
       "                        </div></th><th><div class=\"djtooltip\">\n",
       "                            <p id=\"nonprimary\">line</p>\n",
       "                            <span class=\"djtooltiptext\">strain_id within PyRAT. Not name_id seen in GUI</span>\n",
       "                        </div></th><th><div class=\"djtooltip\">\n",
       "                            <p id=\"nonprimary\">protocol</p>\n",
       "                            <span class=\"djtooltiptext\"></span>\n",
       "                        </div> </th> </tr> </thead>\n",
       "            <tbody> <tr>  </tr> </tbody>\n",
       "        </table>\n",
       "        \n",
       "        <p>Total: 0</p></div>\n",
       "        "
      ],
      "text/plain": [
       "*subject    earmark     sex     birth_date     death_date     generation     parent_ids owner_id     responsible_id line     protocol    \n",
       "+---------+ +---------+ +-----+ +------------+ +------------+ +------------+ +--------+ +----------+ +------------+ +------+ +----------+\n",
       "\n",
       " (Total: 0)"
      ]
     },
     "execution_count": 45,
     "metadata": {},
     "output_type": "execute_result"
    }
   ],
   "source": [
    "subject.Subject() & \"subject = 'ROS-1346'\""
   ]
  },
  {
   "cell_type": "markdown",
   "id": "edd59db4",
   "metadata": {},
   "source": [
    "##### Some placeholders for equipment and location during development"
   ]
  },
  {
   "cell_type": "code",
   "execution_count": 46,
   "id": "d73f4e1e",
   "metadata": {},
   "outputs": [
    {
     "ename": "SyntaxError",
     "evalue": "invalid syntax (2047936882.py, line 1)",
     "output_type": "error",
     "traceback": [
      "\u001b[0;36m  Input \u001b[0;32mIn [46]\u001b[0;36m\u001b[0m\n\u001b[0;31m    session.Session() session.()\u001b[0m\n\u001b[0m                      ^\u001b[0m\n\u001b[0;31mSyntaxError\u001b[0m\u001b[0;31m:\u001b[0m invalid syntax\n"
     ]
    }
   ],
   "source": [
    "session.Session() session.()"
   ]
  },
  {
   "cell_type": "code",
   "execution_count": null,
   "id": "97729f5f",
   "metadata": {},
   "outputs": [],
   "source": [
    "scan.Scan()"
   ]
  },
  {
   "cell_type": "code",
   "execution_count": null,
   "id": "04f250f2",
   "metadata": {},
   "outputs": [],
   "source": [
    "scan.Scan * scan.ScanInfo"
   ]
  },
  {
   "cell_type": "markdown",
   "id": "bcd8798c-e1b2-4855-89cf-53f5b1b25bec",
   "metadata": {},
   "source": [
    "Note the relative path below:"
   ]
  },
  {
   "cell_type": "code",
   "execution_count": null,
   "id": "5d0c8693",
   "metadata": {},
   "outputs": [],
   "source": [
    "#temporary step - insert placeholder values\n",
    "equipment_placeholder = \"Equipment\"\n",
    "location_placeholder = \"Location\"\n",
    "from adamacs.pipeline import Equipment, Location\n",
    "Equipment.insert1({'scanner' : equipment_placeholder}, skip_duplicates=True)\n",
    "Location.insert1({'anatomical_location': location_placeholder}, skip_duplicates=True) "
   ]
  },
  {
   "cell_type": "code",
   "execution_count": null,
   "id": "9ad7d47e",
   "metadata": {},
   "outputs": [],
   "source": [
    "Equipment.delete()\n"
   ]
  },
  {
   "cell_type": "code",
   "execution_count": null,
   "id": "77233bfb",
   "metadata": {},
   "outputs": [],
   "source": [
    "Location()"
   ]
  },
  {
   "cell_type": "code",
   "execution_count": null,
   "id": "9cea69d5",
   "metadata": {},
   "outputs": [],
   "source": [
    "Session()"
   ]
  },
  {
   "cell_type": "code",
   "execution_count": null,
   "id": "bebf31e2",
   "metadata": {},
   "outputs": [],
   "source": []
  }
 ],
 "metadata": {
  "jupytext": {
   "formats": "ipynb,py"
  },
  "kernelspec": {
   "display_name": "datajoint",
   "language": "python",
   "name": "python3"
  },
  "language_info": {
   "codemirror_mode": {
    "name": "ipython",
    "version": 3
   },
   "file_extension": ".py",
   "mimetype": "text/x-python",
   "name": "python",
   "nbconvert_exporter": "python",
   "pygments_lexer": "ipython3",
   "version": "3.8.13"
  },
  "vscode": {
   "interpreter": {
    "hash": "bd7f39a125d9af0c5f94f12aa24bfe519be4db914ef815626e6471f370755b2f"
   }
  }
 },
 "nbformat": 4,
 "nbformat_minor": 5
}
