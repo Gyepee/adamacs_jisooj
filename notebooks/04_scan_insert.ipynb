{
 "cells": [
  {
   "cell_type": "markdown",
   "id": "46f28eb7-1fcc-4b9a-803e-097202fd899d",
   "metadata": {},
   "source": [
    "# Scanning Session Ingestion"
   ]
  },
  {
   "cell_type": "markdown",
   "id": "bba759c2-4cc1-45ee-9212-422a604c32a4",
   "metadata": {},
   "source": [
    "## Setup"
   ]
  },
  {
   "cell_type": "markdown",
   "id": "0da9aa77-afbf-43b2-ad19-e497e05e8627",
   "metadata": {},
   "source": [
    "### Connect to the database"
   ]
  },
  {
   "cell_type": "markdown",
   "id": "bd1468c3-3915-49e6-89a9-10c7940017fd",
   "metadata": {},
   "source": [
    "If you are don't have your login information, contact the administrator.\n",
    "\n",
    "Using local config file (see [01_pipeline](./01_pipeline.ipynb)):"
   ]
  },
  {
   "cell_type": "code",
   "execution_count": null,
   "id": "301f9675-53e0-4ff6-bf3d-baba6589d6e3",
   "metadata": {},
   "outputs": [],
   "source": [
    "import os\n",
    "# change to the upper level folder to detect dj_local_conf.json\n",
    "if os.path.basename(os.getcwd())=='notebooks': os.chdir('..')\n",
    "assert os.path.basename(os.getcwd())=='adamacs', (\"Please move to the main directory\")\n",
    "import datajoint as dj; dj.conn()\n",
    "\n",
    "from adamacs.pipeline import subject, session, surgery, scan, equipment\n",
    "from adamacs import utility\n",
    "from adamacs.ingest import session as isess\n",
    "sub, lab, protocol, line, mutation, user, project, subject_genotype, subject_death = (\n",
    "    subject.Subject(), subject.Lab(), subject.Protocol(), subject.Line(), \n",
    "    subject.Mutation(), subject.User(), subject.Project(), subject.SubjectGenotype(), \n",
    "    subject.SubjectDeath())"
   ]
  },
  {
   "cell_type": "code",
   "execution_count": null,
   "id": "4bd995f6",
   "metadata": {},
   "outputs": [],
   "source": [
    "# subject.Subject.drop()\n",
    "# subject.Mutation.drop()\n",
    "# subject.Protocol.drop()\n",
    "# subject.Line.drop()\n",
    "# subject.SubjectGenotype.drop()\n",
    "# equipment.Equipment.drop()\n",
    "# scan.Scan.drop()\n",
    "# session.Session.drop()\n",
    "# imaging.Processing.drop()"
   ]
  },
  {
   "cell_type": "code",
   "execution_count": null,
   "id": "5b33cb1a",
   "metadata": {},
   "outputs": [],
   "source": [
    "# session.Session.delete()"
   ]
  },
  {
   "cell_type": "code",
   "execution_count": null,
   "id": "44e51054",
   "metadata": {},
   "outputs": [],
   "source": [
    "scan.Scan.describe()"
   ]
  },
  {
   "cell_type": "code",
   "execution_count": null,
   "id": "dcd34047-4e4a-4d52-a6b0-1585c41ee3e0",
   "metadata": {},
   "outputs": [],
   "source": [
    "dj.Diagram(subject) + dj.Diagram(protocol)"
   ]
  },
  {
   "cell_type": "markdown",
   "id": "7a2e2ccf-01d6-4d31-932b-aa12f8cd05a8",
   "metadata": {},
   "source": [
    "Manual entry:"
   ]
  },
  {
   "cell_type": "code",
   "execution_count": null,
   "id": "333074dc-2962-4c3f-ae66-d4164d6ceac9",
   "metadata": {},
   "outputs": [],
   "source": [
    "# Manual Entry\n",
    "import datajoint as dj; import getpass\n",
    "dj.config['database.host'] = '172.26.128.53'        # Put the server name between these apostrophe\n",
    "dj.config['database.user'] = 'danielmk'             # Put your user name between these apostrophe\n",
    "dj.config['database.password'] = getpass.getpass()  # Put your password in the prompt\n",
    "dj.conn()\n",
    "\n",
    "from adamacs.pipeline import subject, session, surgery, scan, equipment\n",
    "from adamacs import utility\n",
    "from adamacs.ingest import session as isess\n",
    "sub, lab, protocol, line, mutation, user, project, subject_genotype, subject_death = (\n",
    "    subject.Subject(), subject.Lab(), subject.Protocol(), subject.Line(), \n",
    "    subject.Mutation(), subject.User(), subject.Project(), subject.SubjectGenotype(), \n",
    "    subject.SubjectDeath())"
   ]
  },
  {
   "cell_type": "markdown",
   "id": "bb115bfc-2abb-45c9-bcba-c5c9e73b8990",
   "metadata": {},
   "source": [
    "\n",
    "## Ingesting scan"
   ]
  },
  {
   "cell_type": "markdown",
   "id": "47c001f0",
   "metadata": {},
   "source": [
    "Ingest all scans associated with a given session ID."
   ]
  },
  {
   "cell_type": "code",
   "execution_count": null,
   "id": "e04adcf4",
   "metadata": {},
   "outputs": [],
   "source": [
    "# isess.ingest_session_scan('sess9FB2LN5C', verbose=True)\n",
    "isess.ingest_session_scan('sess9FB2LN5C', verbose=True) #TR: needs to be SessioID (\"sess...\")"
   ]
  },
  {
   "cell_type": "code",
   "execution_count": null,
   "id": "77f10b6e",
   "metadata": {},
   "outputs": [],
   "source": [
    "# isess.ingest_session_scan('sess9FB2LN5C', verbose=True)\n",
    "isess.ingest_session_scan('sess9FF6U114', verbose=True) #TR: needs to be SessioID (\"sess...\")"
   ]
  },
  {
   "cell_type": "code",
   "execution_count": null,
   "id": "c4c8bb54-ae93-4974-9ff7-ac74dfa2baa0",
   "metadata": {},
   "outputs": [],
   "source": [
    "session.Session()"
   ]
  },
  {
   "cell_type": "code",
   "execution_count": null,
   "id": "b5f844ca",
   "metadata": {},
   "outputs": [],
   "source": []
  },
  {
   "cell_type": "code",
   "execution_count": null,
   "id": "824cb8cd",
   "metadata": {},
   "outputs": [],
   "source": [
    "session.SessionDirectory() * session.ProjectSession()"
   ]
  },
  {
   "cell_type": "code",
   "execution_count": null,
   "id": "3a3e96e3",
   "metadata": {},
   "outputs": [],
   "source": [
    "session.ProjectSession()"
   ]
  },
  {
   "cell_type": "code",
   "execution_count": null,
   "id": "bdfe449c-9ecc-4b49-93ee-9c73295b12eb",
   "metadata": {},
   "outputs": [],
   "source": [
    "key='sess9FB2LN5C'\n",
    "(scan.Scan & f'scan_id=\\\"{key}\\\"')"
   ]
  },
  {
   "cell_type": "markdown",
   "id": "127f793d",
   "metadata": {},
   "source": [
    "Simple user look-up to get user_id from shorthand"
   ]
  },
  {
   "cell_type": "code",
   "execution_count": null,
   "id": "f620750b",
   "metadata": {},
   "outputs": [],
   "source": [
    "key='JJ'\n",
    "query = (subject.User & f'initials=\\\"{key}\\\"')\n",
    "id = query.fetch(\"user_id\")[0]\n",
    "print(key + ' = ' + str(id))"
   ]
  },
  {
   "cell_type": "code",
   "execution_count": null,
   "id": "f620750b",
   "metadata": {},
   "outputs": [],
   "source": [
    "key='Tobias*'\n",
    "query = (subject.User & f'name LIKE \\\"{key}\\\"')\n",
    "id = query.fetch(\"user_id\")[0]\n",
    "print(key + ' = ' + str(id))"
   ]
  },
  {
   "cell_type": "code",
   "execution_count": null,
   "id": "9b2d330b",
   "metadata": {},
   "outputs": [],
   "source": [
    "key='%Ji%'\n",
    "query = (subject.User & f'name LIKE \\\"{key}\\\"')\n",
    "query.fetch(\"email\")"
   ]
  },
  {
   "cell_type": "code",
   "execution_count": null,
   "id": "6f7d48ec",
   "metadata": {},
   "outputs": [],
   "source": [
    "session.ScanInfo"
   ]
  },
  {
   "cell_type": "code",
   "execution_count": null,
   "id": "891ca3d7",
   "metadata": {},
   "outputs": [],
   "source": [
    "query = subject.Subject() & '\"ROS-1380\"'\n",
    "query.fetch()"
   ]
  },
  {
   "cell_type": "code",
   "execution_count": null,
   "id": "cb7ff963",
   "metadata": {},
   "outputs": [],
   "source": [
    "subject.Subject() & \"subject = 'ROS-1346'\""
   ]
  },
  {
   "cell_type": "markdown",
   "id": "edd59db4",
   "metadata": {},
   "source": [
    "##### Some placeholders for equipment and location during development"
   ]
  },
  {
   "cell_type": "code",
   "execution_count": null,
   "id": "d73f4e1e",
   "metadata": {},
   "outputs": [],
   "source": [
    "session.Session() session.()"
   ]
  },
  {
   "cell_type": "code",
   "execution_count": null,
   "id": "97729f5f",
   "metadata": {},
   "outputs": [],
   "source": [
    "scan.Scan()"
   ]
  },
  {
   "cell_type": "code",
   "execution_count": null,
   "id": "04f250f2",
   "metadata": {},
   "outputs": [],
   "source": [
    "scan.Scan * scan.ScanInfo"
   ]
  },
  {
   "cell_type": "markdown",
   "id": "bcd8798c-e1b2-4855-89cf-53f5b1b25bec",
   "metadata": {},
   "source": [
    "Note the relative path below:"
   ]
  },
  {
   "cell_type": "code",
   "execution_count": null,
   "id": "5d0c8693",
   "metadata": {},
   "outputs": [],
   "source": [
    "#temporary step - insert placeholder values\n",
    "equipment_placeholder = \"Equipment\"\n",
    "location_placeholder = \"Location\"\n",
    "from adamacs.pipeline import Equipment, Location\n",
    "Equipment.insert1({'scanner' : equipment_placeholder}, skip_duplicates=True)\n",
    "Location.insert1({'anatomical_location': location_placeholder}, skip_duplicates=True) "
   ]
  },
  {
   "cell_type": "code",
   "execution_count": null,
   "id": "9ad7d47e",
   "metadata": {},
   "outputs": [],
   "source": [
    "Equipment.delete()\n"
   ]
  },
  {
   "cell_type": "code",
   "execution_count": null,
   "id": "77233bfb",
   "metadata": {},
   "outputs": [],
   "source": [
    "Location()"
   ]
  },
  {
   "cell_type": "code",
   "execution_count": null,
   "id": "9cea69d5",
   "metadata": {},
   "outputs": [],
   "source": [
    "Session()"
   ]
  },
  {
   "cell_type": "code",
   "execution_count": null,
   "id": "bebf31e2",
   "metadata": {},
   "outputs": [],
   "source": []
  }
 ],
 "metadata": {
  "jupytext": {
   "formats": "ipynb,py"
  },
  "kernelspec": {
   "display_name": "datajoint",
   "language": "python",
   "name": "python3"
  },
  "language_info": {
   "codemirror_mode": {
    "name": "ipython",
    "version": 3
   },
   "file_extension": ".py",
   "mimetype": "text/x-python",
   "name": "python",
   "nbconvert_exporter": "python",
   "pygments_lexer": "ipython3",
   "version": "3.8.13 (default, Mar 28 2022, 06:16:26) \n[Clang 12.0.0 ]"
  },
  "vscode": {
   "interpreter": {
    "hash": "b6b88a8194cd92b549912c5fccf4f99c3c2f8b37389322b86781a2268700b256"
   }
  }
 },
 "nbformat": 4,
 "nbformat_minor": 5
}
