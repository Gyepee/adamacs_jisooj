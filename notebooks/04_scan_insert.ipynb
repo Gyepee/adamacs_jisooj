{
 "cells": [
  {
   "cell_type": "markdown",
   "id": "46f28eb7-1fcc-4b9a-803e-097202fd899d",
   "metadata": {},
   "source": [
    "# Scanning Session Ingestion"
   ]
  },
  {
   "cell_type": "markdown",
   "id": "bba759c2-4cc1-45ee-9212-422a604c32a4",
   "metadata": {},
   "source": [
    "## Setup"
   ]
  },
  {
   "cell_type": "markdown",
   "id": "0da9aa77-afbf-43b2-ad19-e497e05e8627",
   "metadata": {},
   "source": [
    "### Connect to the database"
   ]
  },
  {
   "cell_type": "markdown",
   "id": "bd1468c3-3915-49e6-89a9-10c7940017fd",
   "metadata": {},
   "source": [
    "If you are don't have your login information, contact the administrator.\n",
    "\n",
    "Using local config file (see [01_pipeline](./01_pipeline.ipynb)):"
   ]
  },
  {
   "cell_type": "code",
   "execution_count": null,
   "id": "301f9675-53e0-4ff6-bf3d-baba6589d6e3",
   "metadata": {},
   "outputs": [],
   "source": [
    "import os\n",
    "# change to the upper level folder to detect dj_local_conf.json\n",
    "if os.path.basename(os.getcwd())=='notebooks': os.chdir('..')\n",
    "assert os.path.basename(os.getcwd())=='adamacs', (\"Please move to the main directory\")\n",
    "import datajoint as dj; dj.conn()\n",
    "\n",
    "from adamacs.pipeline import subject, session, surgery, scan, equipment\n",
    "from adamacs import utility\n",
    "from adamacs.ingest import session as isess\n",
    "sub, lab, protocol, line, mutation, user, project, subject_genotype, subject_death = (\n",
    "    subject.Subject(), subject.Lab(), subject.Protocol(), subject.Line(), \n",
    "    subject.Mutation(), subject.User(), subject.Project(), subject.SubjectGenotype(), \n",
    "    subject.SubjectDeath())"
   ]
  },
  {
   "cell_type": "code",
   "execution_count": 12,
   "id": "4bd995f6",
   "metadata": {},
   "outputs": [
    {
     "ename": "NetworkXError",
     "evalue": "The node `tobiasr_session`.`project_session` is not in the graph.",
     "output_type": "error",
     "traceback": [
      "\u001b[0;31m---------------------------------------------------------------------------\u001b[0m",
      "\u001b[0;31mNetworkXError\u001b[0m                             Traceback (most recent call last)",
      "Cell \u001b[0;32mIn[12], line 8\u001b[0m\n\u001b[1;32m      1\u001b[0m \u001b[39m# subject.Subject.drop()\u001b[39;00m\n\u001b[1;32m      2\u001b[0m \u001b[39m# subject.Mutation.drop()\u001b[39;00m\n\u001b[1;32m      3\u001b[0m \u001b[39m# subject.Protocol.drop()\u001b[39;00m\n\u001b[0;32m   (...)\u001b[0m\n\u001b[1;32m      6\u001b[0m \u001b[39m# equipment.Equipment.drop()\u001b[39;00m\n\u001b[1;32m      7\u001b[0m \u001b[39m# scan.Scan.drop()\u001b[39;00m\n\u001b[0;32m----> 8\u001b[0m session\u001b[39m.\u001b[39;49mProjectSession\u001b[39m.\u001b[39;49mdrop()\n\u001b[1;32m      9\u001b[0m \u001b[39m# imaging.Processing.drop()\u001b[39;00m\n",
      "File \u001b[0;32m~/miniconda3/envs/datajoint/lib/python3.8/site-packages/datajoint/table.py:651\u001b[0m, in \u001b[0;36mTable.drop\u001b[0;34m(self)\u001b[0m\n\u001b[1;32m    647\u001b[0m \u001b[39mself\u001b[39m\u001b[39m.\u001b[39mconnection\u001b[39m.\u001b[39mdependencies\u001b[39m.\u001b[39mload()\n\u001b[1;32m    648\u001b[0m do_drop \u001b[39m=\u001b[39m \u001b[39mTrue\u001b[39;00m\n\u001b[1;32m    649\u001b[0m tables \u001b[39m=\u001b[39m [\n\u001b[1;32m    650\u001b[0m     table\n\u001b[0;32m--> 651\u001b[0m     \u001b[39mfor\u001b[39;00m table \u001b[39min\u001b[39;00m \u001b[39mself\u001b[39;49m\u001b[39m.\u001b[39;49mconnection\u001b[39m.\u001b[39;49mdependencies\u001b[39m.\u001b[39;49mdescendants(\u001b[39mself\u001b[39;49m\u001b[39m.\u001b[39;49mfull_table_name)\n\u001b[1;32m    652\u001b[0m     \u001b[39mif\u001b[39;00m \u001b[39mnot\u001b[39;00m table\u001b[39m.\u001b[39misdigit()\n\u001b[1;32m    653\u001b[0m ]\n\u001b[1;32m    655\u001b[0m \u001b[39m# avoid dropping part tables without their masters: See issue #374\u001b[39;00m\n\u001b[1;32m    656\u001b[0m \u001b[39mfor\u001b[39;00m part \u001b[39min\u001b[39;00m tables:\n",
      "File \u001b[0;32m~/miniconda3/envs/datajoint/lib/python3.8/site-packages/datajoint/dependencies.py:170\u001b[0m, in \u001b[0;36mDependencies.descendants\u001b[0;34m(self, full_table_name)\u001b[0m\n\u001b[1;32m    165\u001b[0m \u001b[39m\u001b[39m\u001b[39m\"\"\"\u001b[39;00m\n\u001b[1;32m    166\u001b[0m \u001b[39m:param full_table_name:  In form `schema`.`table_name`\u001b[39;00m\n\u001b[1;32m    167\u001b[0m \u001b[39m:return: all dependent tables sorted in topological order.  Self is included.\u001b[39;00m\n\u001b[1;32m    168\u001b[0m \u001b[39m\"\"\"\u001b[39;00m\n\u001b[1;32m    169\u001b[0m \u001b[39mself\u001b[39m\u001b[39m.\u001b[39mload(force\u001b[39m=\u001b[39m\u001b[39mFalse\u001b[39;00m)\n\u001b[0;32m--> 170\u001b[0m nodes \u001b[39m=\u001b[39m \u001b[39mself\u001b[39m\u001b[39m.\u001b[39msubgraph(nx\u001b[39m.\u001b[39;49malgorithms\u001b[39m.\u001b[39;49mdag\u001b[39m.\u001b[39;49mdescendants(\u001b[39mself\u001b[39;49m, full_table_name))\n\u001b[1;32m    171\u001b[0m \u001b[39mreturn\u001b[39;00m unite_master_parts(\n\u001b[1;32m    172\u001b[0m     [full_table_name] \u001b[39m+\u001b[39m \u001b[39mlist\u001b[39m(nx\u001b[39m.\u001b[39malgorithms\u001b[39m.\u001b[39mdag\u001b[39m.\u001b[39mtopological_sort(nodes))\n\u001b[1;32m    173\u001b[0m )\n",
      "File \u001b[0;32m~/miniconda3/envs/datajoint/lib/python3.8/site-packages/networkx/algorithms/dag.py:53\u001b[0m, in \u001b[0;36mdescendants\u001b[0;34m(G, source)\u001b[0m\n\u001b[1;32m     39\u001b[0m \u001b[39m\u001b[39m\u001b[39m\"\"\"Returns all nodes reachable from `source` in `G`.\u001b[39;00m\n\u001b[1;32m     40\u001b[0m \n\u001b[1;32m     41\u001b[0m \u001b[39mParameters\u001b[39;00m\n\u001b[0;32m   (...)\u001b[0m\n\u001b[1;32m     50\u001b[0m \u001b[39m    The descendants of `source` in `G`\u001b[39;00m\n\u001b[1;32m     51\u001b[0m \u001b[39m\"\"\"\u001b[39;00m\n\u001b[1;32m     52\u001b[0m \u001b[39mif\u001b[39;00m \u001b[39mnot\u001b[39;00m G\u001b[39m.\u001b[39mhas_node(source):\n\u001b[0;32m---> 53\u001b[0m     \u001b[39mraise\u001b[39;00m nx\u001b[39m.\u001b[39mNetworkXError(\u001b[39mf\u001b[39m\u001b[39m\"\u001b[39m\u001b[39mThe node \u001b[39m\u001b[39m{\u001b[39;00msource\u001b[39m}\u001b[39;00m\u001b[39m is not in the graph.\u001b[39m\u001b[39m\"\u001b[39m)\n\u001b[1;32m     54\u001b[0m des \u001b[39m=\u001b[39m {n \u001b[39mfor\u001b[39;00m n, d \u001b[39min\u001b[39;00m nx\u001b[39m.\u001b[39mshortest_path_length(G, source\u001b[39m=\u001b[39msource)\u001b[39m.\u001b[39mitems()}\n\u001b[1;32m     55\u001b[0m \u001b[39mreturn\u001b[39;00m des \u001b[39m-\u001b[39m {source}\n",
      "\u001b[0;31mNetworkXError\u001b[0m: The node `tobiasr_session`.`project_session` is not in the graph."
     ]
    }
   ],
   "source": [
    "# subject.Subject.drop()\n",
    "# subject.Mutation.drop()\n",
    "# subject.Protocol.drop()\n",
    "# subject.Line.drop()\n",
    "# subject.SubjectGenotype.drop()\n",
    "# equipment.Equipment.drop()\n",
    "# scan.Scan.drop()\n",
    "session.ProjectSession.drop()\n",
    "# imaging.Processing.drop()"
   ]
  },
  {
   "cell_type": "code",
   "execution_count": null,
   "id": "5b33cb1a",
   "metadata": {},
   "outputs": [],
   "source": [
    "# session.Session.delete()"
   ]
  },
  {
   "cell_type": "code",
   "execution_count": null,
   "id": "44e51054",
   "metadata": {},
   "outputs": [],
   "source": [
    "scan.Scan.describe()"
   ]
  },
  {
   "cell_type": "code",
   "execution_count": null,
   "id": "dcd34047-4e4a-4d52-a6b0-1585c41ee3e0",
   "metadata": {},
   "outputs": [],
   "source": [
    "dj.Diagram(subject) + dj.Diagram(protocol)"
   ]
  },
  {
   "cell_type": "code",
   "execution_count": null,
   "id": "21c2a612",
   "metadata": {
    "scrolled": false
   },
   "outputs": [],
   "source": [
    "dj.Diagram(session) "
   ]
  },
  {
   "cell_type": "code",
   "execution_count": null,
   "metadata": {},
   "outputs": [],
   "source": [
    "session.SessionSameSite()"
   ]
  },
  {
   "cell_type": "code",
   "execution_count": null,
   "id": "6d67431f",
   "metadata": {},
   "outputs": [],
   "source": [
    "subject.Subject.proj(\"subject\") * session.Session.proj(\"session_id\") & 'subject = \"ROS-1346\"'"
   ]
  },
  {
   "cell_type": "code",
   "execution_count": null,
   "id": "dc5ceb5d",
   "metadata": {},
   "outputs": [],
   "source": [
    "session_key = 'sess9FH37WBZ'\n",
    "session_dict = {'session_id': session_key}"
   ]
  },
  {
   "cell_type": "code",
   "execution_count": null,
   "id": "a42acaad",
   "metadata": {},
   "outputs": [],
   "source": [
    " session.SessionSameSite.insert1((session_dict))"
   ]
  },
  {
   "cell_type": "code",
   "execution_count": null,
   "id": "d27a2f0f",
   "metadata": {},
   "outputs": [],
   "source": [
    "session.SessionSameSite()"
   ]
  },
  {
   "cell_type": "code",
   "execution_count": null,
   "id": "0d8b56af",
   "metadata": {},
   "outputs": [],
   "source": [
    "session.SessionSameSite.describe()"
   ]
  },
  {
   "cell_type": "code",
   "execution_count": null,
   "id": "f518dc56",
   "metadata": {
    "scrolled": true
   },
   "outputs": [],
   "source": [
    "session.SessionUser()"
   ]
  },
  {
   "cell_type": "code",
   "execution_count": null,
   "id": "aa81d3bb",
   "metadata": {},
   "outputs": [],
   "source": [
    "session.SessionNote()"
   ]
  },
  {
   "cell_type": "code",
   "execution_count": null,
   "id": "7e5c7df9",
   "metadata": {},
   "outputs": [],
   "source": [
    "dj.Diagram(scan) "
   ]
  },
  {
   "cell_type": "code",
   "execution_count": null,
   "id": "c74ea617",
   "metadata": {
    "scrolled": true
   },
   "outputs": [],
   "source": [
    "scan.ScanInfo.ScanFile()"
   ]
  },
  {
   "cell_type": "code",
   "execution_count": null,
   "id": "ad869c62",
   "metadata": {
    "scrolled": true
   },
   "outputs": [],
   "source": [
    "scan.ScanInfo.Field()"
   ]
  },
  {
   "cell_type": "code",
   "execution_count": null,
   "id": "b60b8a84",
   "metadata": {},
   "outputs": [],
   "source": [
    "scan.ScanPath()"
   ]
  },
  {
   "cell_type": "code",
   "execution_count": null,
   "id": "6a9397a5",
   "metadata": {
    "scrolled": true
   },
   "outputs": [],
   "source": [
    "scan.ScanLocation()"
   ]
  },
  {
   "cell_type": "code",
   "execution_count": null,
   "id": "56ba5075",
   "metadata": {
    "scrolled": true
   },
   "outputs": [],
   "source": [
    "scan.AcquisitionSoftware()"
   ]
  },
  {
   "cell_type": "code",
   "execution_count": null,
   "id": "6326cef8",
   "metadata": {},
   "outputs": [],
   "source": [
    "scan.Channel()"
   ]
  },
  {
   "cell_type": "markdown",
   "id": "7a2e2ccf-01d6-4d31-932b-aa12f8cd05a8",
   "metadata": {},
   "source": [
    "Manual entry:"
   ]
  },
  {
   "cell_type": "code",
   "execution_count": null,
   "id": "333074dc-2962-4c3f-ae66-d4164d6ceac9",
   "metadata": {},
   "outputs": [],
   "source": [
    "# Manual Entry\n",
    "import datajoint as dj; import getpass\n",
    "dj.config['database.host'] = '172.26.128.53'        # Put the server name between these apostrophe\n",
    "dj.config['database.user'] = 'danielmk'             # Put your user name between these apostrophe\n",
    "dj.config['database.password'] = getpass.getpass()  # Put your password in the prompt\n",
    "dj.conn()\n",
    "\n",
    "from adamacs.pipeline import subject, session, surgery, scan, equipment\n",
    "from adamacs import utility\n",
    "from adamacs.ingest import session as isess\n",
    "sub, lab, protocol, line, mutation, user, project, subject_genotype, subject_death = (\n",
    "    subject.Subject(), subject.Lab(), subject.Protocol(), subject.Line(), \n",
    "    subject.Mutation(), subject.User(), subject.Project(), subject.SubjectGenotype(), \n",
    "    subject.SubjectDeath())"
   ]
  },
  {
   "cell_type": "markdown",
   "id": "bb115bfc-2abb-45c9-bcba-c5c9e73b8990",
   "metadata": {},
   "source": [
    "\n",
    "## Ingesting scan"
   ]
  },
  {
   "cell_type": "markdown",
   "id": "47c001f0",
   "metadata": {},
   "source": [
    "Ingest all scans associated with a given session ID."
   ]
  },
  {
   "cell_type": "code",
   "execution_count": null,
   "id": "e04adcf4",
   "metadata": {},
   "outputs": [],
   "source": [
    "# isess.ingest_session_scan('sess9FB2LN5C', verbose=True)\n",
    "isess.ingest_session_scan('sess9FGLZLRI', verbose=False) #TR: needs to be SessioID (\"sess...\")"
   ]
  },
  {
   "cell_type": "code",
   "execution_count": null,
   "id": "c4c8bb54-ae93-4974-9ff7-ac74dfa2baa0",
   "metadata": {},
   "outputs": [],
   "source": [
    "subject.Subject() & session.Session()"
   ]
  },
  {
   "cell_type": "code",
   "execution_count": null,
   "id": "c525e289",
   "metadata": {},
   "outputs": [],
   "source": [
    "session.SessionNote()"
   ]
  },
  {
   "cell_type": "code",
   "execution_count": null,
   "id": "824cb8cd",
   "metadata": {},
   "outputs": [],
   "source": [
    "session.SessionDirectory() * session.ProjectSession() * sub"
   ]
  },
  {
   "cell_type": "code",
   "execution_count": null,
   "id": "3a3e96e3",
   "metadata": {},
   "outputs": [],
   "source": [
    "session.ProjectSession()"
   ]
  },
  {
   "cell_type": "code",
   "execution_count": null,
   "id": "bdfe449c-9ecc-4b49-93ee-9c73295b12eb",
   "metadata": {},
   "outputs": [],
   "source": [
    "key='scan9FG1UAQG'\n",
    "(scan.Scan & f'scan_id=\\\"{key}\\\"')"
   ]
  },
  {
   "cell_type": "markdown",
   "id": "127f793d",
   "metadata": {},
   "source": [
    "Simple user look-up to get user_id from shorthand"
   ]
  },
  {
   "cell_type": "code",
   "execution_count": null,
   "id": "f620750b",
   "metadata": {},
   "outputs": [],
   "source": [
    "key='RN'\n",
    "query = (subject.User & f'initials=\\\"{key}\\\"')\n",
    "id = query.fetch(\"user_id\")[0]\n",
    "print(key + ' = ' + str(id))"
   ]
  },
  {
   "cell_type": "code",
   "execution_count": null,
   "id": "21f26116",
   "metadata": {},
   "outputs": [],
   "source": [
    "key='%Tob%'\n",
    "query = (subject.User & f'name LIKE \\\"{key}\\\"')\n",
    "id = query.fetch(\"user_id\")\n",
    "print(key + ' = ' + str(id))"
   ]
  },
  {
   "cell_type": "code",
   "execution_count": null,
   "id": "9b2d330b",
   "metadata": {},
   "outputs": [],
   "source": [
    "key='%Ji%'\n",
    "query = (subject.User & f'name LIKE \\\"{key}\\\"')\n",
    "query.fetch(\"email\")"
   ]
  },
  {
   "cell_type": "code",
   "execution_count": null,
   "id": "891ca3d7",
   "metadata": {},
   "outputs": [],
   "source": [
    "query = subject.Subject() & '\"ROS-1380\"'\n",
    "query.fetch()"
   ]
  },
  {
   "cell_type": "code",
   "execution_count": null,
   "id": "cb7ff963",
   "metadata": {},
   "outputs": [],
   "source": [
    "subject.Subject() & \"subject = 'ROS-1346'\""
   ]
  }
 ],
 "metadata": {
  "jupytext": {
   "formats": "ipynb,py"
  },
  "kernelspec": {
   "display_name": "Python 3 (ipykernel)",
   "language": "python",
   "name": "python3"
  },
  "language_info": {
   "codemirror_mode": {
    "name": "ipython",
    "version": 3
   },
   "file_extension": ".py",
   "mimetype": "text/x-python",
   "name": "python",
   "nbconvert_exporter": "python",
   "pygments_lexer": "ipython3",
   "version": "3.8.16"
  },
  "vscode": {
   "interpreter": {
    "hash": "2888206d04306eefe963095373d1dcce5cd11176f3d6ee4ec3f64dd9e65fd8a1"
   }
  }
 },
 "nbformat": 4,
 "nbformat_minor": 5
}
