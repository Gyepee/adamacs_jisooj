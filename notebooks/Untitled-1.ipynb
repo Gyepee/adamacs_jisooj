{
 "cells": [
  {
   "cell_type": "code",
   "execution_count": 8,
   "metadata": {},
   "outputs": [
    {
     "name": "stdout",
     "output_type": "stream",
     "text": [
      "RSpace API server status: OK\n",
      "RSpace API server version: 1.93.0\n",
      "rspace client version: \n",
      "Uploading to Api Inbox\n",
      "{'id': 163923, 'globalId': 'GL163923', 'name': 'output.png', 'caption': 'foodimg.jpg', 'contentType': 'image/x-png', 'created': '2023-12-03T10:50:31.180Z', 'size': 14072, 'version': 1, '_links': [{'link': 'https://rspace.uni-bonn.de/api/v1/files/163923', 'rel': 'self'}, {'link': 'https://rspace.uni-bonn.de/api/v1/files/163923/file', 'rel': 'enclosure'}]}\n",
      "Uploading to Examples\n",
      "{'id': 163924, 'globalId': 'GL163924', 'name': 'output.png', 'caption': 'foodimg.jpg', 'contentType': 'image/x-png', 'created': '2023-12-03T10:50:31.639Z', 'size': 0, 'version': 1, '_links': [{'link': 'https://rspace.uni-bonn.de/api/v1/files/163924', 'rel': 'self'}, {'link': 'https://rspace.uni-bonn.de/api/v1/files/163924/file', 'rel': 'enclosure'}]}\n",
      "Uploading to Examples\n",
      "{'id': 163925, 'globalId': 'GL163925', 'name': 'output.png', 'caption': 'foodimg.jpg', 'contentType': 'image/x-png', 'created': '2023-12-03T10:50:31.964Z', 'size': 0, 'version': 1, '_links': [{'link': 'https://rspace.uni-bonn.de/api/v1/files/163925', 'rel': 'self'}, {'link': 'https://rspace.uni-bonn.de/api/v1/files/163925/file', 'rel': 'enclosure'}]}\n"
     ]
    }
   ],
   "source": [
    "\n",
    "\n",
    "# import rspace_client\n",
    "from rspace_client.eln import eln\n",
    "from importlib.metadata import version\n",
    "\n",
    "filename='/home/tobiasr/adamacs/output.png'\n",
    "token=''\n",
    "\n",
    "\n",
    "client = eln.ELNClient(\"https://rspace.uni-bonn.de/\",token)\n",
    "\n",
    "\n",
    "\n",
    "status_response = client.get_status()\n",
    "print('RSpace API server status:', status_response['message'])\n",
    "try:\n",
    "    print('RSpace API server version:', status_response['rspaceVersion'])\n",
    "except KeyError:\n",
    "    # RSpace API version is returned only since 1.42\n",
    "    pass\n",
    "\n",
    "\n",
    "print(\"rspace client version: \")\n",
    "version('rspace_client')\n",
    "\n",
    "\n",
    "\n",
    "file_to_upload = open(filename, 'rb')\n",
    "for r in client.list_folder_tree()[\"records\"]:\n",
    "    if r[\"name\"]==\"Gallery\":\n",
    "        for r in client.list_folder_tree(r['id'])['records']:\n",
    "             if r[\"name\"]==\"Images\":\n",
    "                    for r in client.list_folder_tree(r['id'])['records']:\n",
    "                        if r['type'] == 'FOLDER':\n",
    "                            print(\"Uploading to \"+r['name'])\n",
    "                            res=client.upload_file(file_to_upload, r[\"id\"], \"foodimg.jpg\")\n",
    "                            print(res)\n"
   ]
  },
  {
   "cell_type": "code",
   "execution_count": 3,
   "metadata": {},
   "outputs": [],
   "source": [
    "import rspace_client"
   ]
  },
  {
   "cell_type": "code",
   "execution_count": 5,
   "metadata": {},
   "outputs": [
    {
     "ename": "AttributeError",
     "evalue": "module 'rspace_client' has no attribute 'get_status'",
     "output_type": "error",
     "traceback": [
      "\u001b[0;31m---------------------------------------------------------------------------\u001b[0m",
      "\u001b[0;31mAttributeError\u001b[0m                            Traceback (most recent call last)",
      "Cell \u001b[0;32mIn[5], line 1\u001b[0m\n\u001b[0;32m----> 1\u001b[0m \u001b[43mrspace_client\u001b[49m\u001b[38;5;241;43m.\u001b[39;49m\u001b[43mget_status\u001b[49m()\n",
      "\u001b[0;31mAttributeError\u001b[0m: module 'rspace_client' has no attribute 'get_status'"
     ]
    }
   ],
   "source": [
    "rspace_client.get_status()"
   ]
  },
  {
   "cell_type": "code",
   "execution_count": null,
   "metadata": {},
   "outputs": [],
   "source": []
  }
 ],
 "metadata": {
  "kernelspec": {
   "display_name": "dj_pure",
   "language": "python",
   "name": "python3"
  },
  "language_info": {
   "codemirror_mode": {
    "name": "ipython",
    "version": 3
   },
   "file_extension": ".py",
   "mimetype": "text/x-python",
   "name": "python",
   "nbconvert_exporter": "python",
   "pygments_lexer": "ipython3",
   "version": "3.8.17"
  }
 },
 "nbformat": 4,
 "nbformat_minor": 2
}
