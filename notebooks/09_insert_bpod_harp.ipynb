{
 "cells": [
  {
   "attachments": {},
   "cell_type": "markdown",
   "id": "d1aa3e29-e39c-44a9-b29d-d37b73aab85d",
   "metadata": {},
   "source": [
    "# File Ingestion"
   ]
  },
  {
   "attachments": {},
   "cell_type": "markdown",
   "id": "ed2651bb-ce83-4b87-a268-98169a69309d",
   "metadata": {},
   "source": [
    "## Setup"
   ]
  },
  {
   "cell_type": "markdown",
   "id": "0b948d26",
   "metadata": {},
   "source": []
  },
  {
   "attachments": {},
   "cell_type": "markdown",
   "id": "6e95a682-afac-4834-b6e5-0dd4886467f9",
   "metadata": {},
   "source": [
    "Using local config file (see [01_pipeline](./01_pipeline.ipynb))"
   ]
  },
  {
   "cell_type": "code",
   "execution_count": 1,
   "id": "14499d7b",
   "metadata": {},
   "outputs": [
    {
     "name": "stderr",
     "output_type": "stream",
     "text": [
      "[2023-08-01 14:01:00,613][INFO]: Connecting tobiasr@172.26.128.53:3306\n",
      "[2023-08-01 14:01:00,661][INFO]: Connected tobiasr@172.26.128.53:3306\n"
     ]
    }
   ],
   "source": [
    "import os\n",
    "# change to the upper level folder to detect dj_local_conf.json\n",
    "if os.path.basename(os.getcwd())=='notebooks': os.chdir('..')\n",
    "assert os.path.basename(os.getcwd())=='adamacs', (\"Please move to the main directory\")\n",
    "import datajoint as dj; dj.conn()\n",
    "from adamacs.pipeline import subject, behavior, session, event, trial, scan\n",
    "from adamacs.ingest import behavior as ibe\n"
   ]
  },
  {
   "attachments": {},
   "cell_type": "markdown",
   "id": "5dd49a4c-d391-4f0e-bfe9-0930ed744e93",
   "metadata": {},
   "source": [
    "Manual entry"
   ]
  },
  {
   "attachments": {},
   "cell_type": "markdown",
   "id": "10119159",
   "metadata": {},
   "source": [
    "### BPod Path Setup"
   ]
  },
  {
   "attachments": {},
   "cell_type": "markdown",
   "id": "63589f12",
   "metadata": {},
   "source": [
    "Your `dj.config` file should have a section for your BPod root directory under `custom`: `exp_root_data_dir`. This is a list of one or more paths where the ingestion tool will look for the relative paths it is given."
   ]
  },
  {
   "cell_type": "code",
   "execution_count": 2,
   "id": "e25b9d62",
   "metadata": {},
   "outputs": [],
   "source": [
    "import datajoint as dj\n",
    "from element_interface.utils import find_full_path\n",
    "from adamacs.pipeline import session, event, trial\n",
    "from adamacs.ingest.bpod import Bpodfile\n",
    "from adamacs.paths import get_experiment_root_data_dir\n"
   ]
  },
  {
   "cell_type": "code",
   "execution_count": 4,
   "id": "29f81b59",
   "metadata": {},
   "outputs": [
    {
     "ename": "IndexError",
     "evalue": "list index out of range",
     "output_type": "error",
     "traceback": [
      "\u001b[0;31m---------------------------------------------------------------------------\u001b[0m",
      "\u001b[0;31mIndexError\u001b[0m                                Traceback (most recent call last)",
      "\u001b[1;32m/home/tobiasr/adamacs/notebooks/09_insert_bpod_harp.ipynb Cell 9\u001b[0m in \u001b[0;36m<cell line: 11>\u001b[0;34m()\u001b[0m\n\u001b[1;32m      <a href='vscode-notebook-cell://ssh-remote%2B172.26.128.53/home/tobiasr/adamacs/notebooks/09_insert_bpod_harp.ipynb#X11sdnNjb2RlLXJlbW90ZQ%3D%3D?line=7'>8</a>\u001b[0m scan_key \u001b[39m=\u001b[39m (scan\u001b[39m.\u001b[39mScan \u001b[39m&\u001b[39m \u001b[39mf\u001b[39m\u001b[39m'\u001b[39m\u001b[39mscan_id = \u001b[39m\u001b[39m\"\u001b[39m\u001b[39m{\u001b[39;00mscansi\u001b[39m}\u001b[39;00m\u001b[39m\"\u001b[39m\u001b[39m'\u001b[39m)\u001b[39m.\u001b[39mfetch(\u001b[39m'\u001b[39m\u001b[39mKEY\u001b[39m\u001b[39m'\u001b[39m)[\u001b[39m0\u001b[39m]\n\u001b[1;32m     <a href='vscode-notebook-cell://ssh-remote%2B172.26.128.53/home/tobiasr/adamacs/notebooks/09_insert_bpod_harp.ipynb#X11sdnNjb2RlLXJlbW90ZQ%3D%3D?line=9'>10</a>\u001b[0m bpod_path_relative \u001b[39m=\u001b[39m (scan\u001b[39m.\u001b[39mScanPath \u001b[39m&\u001b[39m scan_key)\u001b[39m.\u001b[39mfetch(\u001b[39m\"\u001b[39m\u001b[39mpath\u001b[39m\u001b[39m\"\u001b[39m)[\u001b[39m0\u001b[39m]\n\u001b[0;32m---> <a href='vscode-notebook-cell://ssh-remote%2B172.26.128.53/home/tobiasr/adamacs/notebooks/09_insert_bpod_harp.ipynb#X11sdnNjb2RlLXJlbW90ZQ%3D%3D?line=10'>11</a>\u001b[0m bpod_path_full \u001b[39m=\u001b[39m \u001b[39mlist\u001b[39;49m(find_full_path(\n\u001b[1;32m     <a href='vscode-notebook-cell://ssh-remote%2B172.26.128.53/home/tobiasr/adamacs/notebooks/09_insert_bpod_harp.ipynb#X11sdnNjb2RlLXJlbW90ZQ%3D%3D?line=11'>12</a>\u001b[0m     get_experiment_root_data_dir(), bpod_path_relative\n\u001b[1;32m     <a href='vscode-notebook-cell://ssh-remote%2B172.26.128.53/home/tobiasr/adamacs/notebooks/09_insert_bpod_harp.ipynb#X11sdnNjb2RlLXJlbW90ZQ%3D%3D?line=12'>13</a>\u001b[0m )\u001b[39m.\u001b[39;49mglob(\u001b[39m\"\u001b[39;49m\u001b[39m*mat\u001b[39;49m\u001b[39m\"\u001b[39;49m))[\u001b[39m0\u001b[39;49m]\n\u001b[1;32m     <a href='vscode-notebook-cell://ssh-remote%2B172.26.128.53/home/tobiasr/adamacs/notebooks/09_insert_bpod_harp.ipynb#X11sdnNjb2RlLXJlbW90ZQ%3D%3D?line=15'>16</a>\u001b[0m \u001b[39mprint\u001b[39m(\u001b[39mf\u001b[39m\u001b[39m\"\u001b[39m\u001b[39mFull: \u001b[39m\u001b[39m{\u001b[39;00mbpod_path_full\u001b[39m}\u001b[39;00m\u001b[39m\"\u001b[39m)\n",
      "\u001b[0;31mIndexError\u001b[0m: list index out of range"
     ]
    }
   ],
   "source": [
    "\n",
    "# bpod_path = \"DB_WEZ-8701_2022-03-18_scan9FB2LN5C_sess9FB2LN5C/scan9FbB2LN5C_WEZ-8701_StimArenaMaster_20220318_165447.mat\"\n",
    "# bpod_path = \"TR_WEZ-8701_2023-01-13_scan9FG1THFD_sess9FG1TAXY/scan9FG1THFD_WEZ-8701_StimArenaMaster_20230113_172307.mat\"\n",
    "\n",
    "# root_dirs = dj.config[\"custom\"][\"exp_root_data_dir\"]\n",
    "# bpod_path_full = find_full_path(get_experiment_root_data_dir(),bpod_path)\n",
    "\n",
    "scansi = \"scan9FH37WBZ\"\n",
    "scan_key = (scan.Scan & f'scan_id = \"{scansi}\"').fetch('KEY')[0]\n",
    "\n",
    "bpod_path_relative = (scan.ScanPath & scan_key).fetch(\"path\")[0]\n",
    "bpod_path_full = list(find_full_path(\n",
    "    get_experiment_root_data_dir(), bpod_path_relative\n",
    ").glob(\"*mat\"))[0]\n",
    "\n",
    "\n",
    "print(f\"Full: {bpod_path_full}\")"
   ]
  },
  {
   "cell_type": "code",
   "execution_count": 4,
   "id": "6ce1570e",
   "metadata": {},
   "outputs": [],
   "source": [
    "bpod_object = Bpodfile(bpod_path_full)"
   ]
  },
  {
   "cell_type": "code",
   "execution_count": 7,
   "id": "b382bb37",
   "metadata": {},
   "outputs": [
    {
     "name": "stdout",
     "output_type": "stream",
     "text": [
      "/datajoint-data/data/tobiasr/RN_OPI-1681_2023-07-24_scan9FJ842C3_sess9FJ842C3/scan9FJ842C3_RN_OPI-1681_2032.h5\n"
     ]
    },
    {
     "name": "stderr",
     "output_type": "stream",
     "text": [
      "/home/tobiasr/miniconda3/envs/datajoint/lib/python3.8/site-packages/pywavesurfer/ws.py:46: RuntimeWarning: You are reading a WaveSurfer file version this module was not tested with: file version 1.0.6, latest version tested: 0.982\n",
      "  warnings.warn('You are reading a WaveSurfer file version this module was not tested with: '\n"
     ]
    },
    {
     "name": "stdout",
     "output_type": "stream",
     "text": [
      "BPod items to be inserted:\n",
      "\tSubject : OPI-1681\n",
      "\tTime    : 2023-07-24 16:37:28\n",
      "\tN Trials: 6\n",
      "\tN Events: 37\n"
     ]
    }
   ],
   "source": [
    "bpod_object.ingest('sess9FJ842C3', 'scan9FJ842C3')"
   ]
  },
  {
   "cell_type": "code",
   "execution_count": 1,
   "id": "32cc9a24",
   "metadata": {},
   "outputs": [
    {
     "ename": "NameError",
     "evalue": "name 'ibe' is not defined",
     "output_type": "error",
     "traceback": [
      "\u001b[0;31m---------------------------------------------------------------------------\u001b[0m",
      "\u001b[0;31mNameError\u001b[0m                                 Traceback (most recent call last)",
      "\u001b[1;32m/home/tobiasr/adamacs/notebooks/09_insert_bpod_harp.ipynb Cell 12\u001b[0m in \u001b[0;36m<cell line: 1>\u001b[0;34m()\u001b[0m\n\u001b[0;32m----> <a href='vscode-notebook-cell://ssh-remote%2B172.26.128.53/home/tobiasr/adamacs/notebooks/09_insert_bpod_harp.ipynb#X14sdnNjb2RlLXJlbW90ZQ%3D%3D?line=0'>1</a>\u001b[0m ibe\u001b[39m.\u001b[39mingest_aux(\u001b[39m'\u001b[39m\u001b[39msess9FJ842C3\u001b[39m\u001b[39m'\u001b[39m, \u001b[39m'\u001b[39m\u001b[39mscan9FJ842C3\u001b[39m\u001b[39m'\u001b[39m)\n",
      "\u001b[0;31mNameError\u001b[0m: name 'ibe' is not defined"
     ]
    }
   ],
   "source": [
    "ibe.ingest_aux('sess9FJ842C3', 'scan9FJ842C3')"
   ]
  },
  {
   "cell_type": "code",
   "execution_count": 6,
   "id": "89e8d786",
   "metadata": {},
   "outputs": [
    {
     "name": "stderr",
     "output_type": "stream",
     "text": [
      "[2023-07-24 22:07:32,244][INFO]: Deleting 37 rows from `tobiasr_trial`.`_trial_event`\n",
      "[2023-07-24 22:07:32,368][INFO]: Deleting 20860 rows from `tobiasr_event`.`_event`\n",
      "[2023-07-24 22:07:35,272][INFO]: Deletes committed.\n",
      "[2023-07-24 22:07:35,281][INFO]: Deleting 2 rows from `tobiasr_event`.`behavior_recording__file`\n",
      "[2023-07-24 22:07:35,289][INFO]: Deleting 1 rows from `tobiasr_trial`.`_trial__attribute`\n",
      "[2023-07-24 22:07:35,292][INFO]: Deleting 6 rows from `tobiasr_trial`.`_trial`\n",
      "[2023-07-24 22:07:35,298][INFO]: Deleting 1 rows from `tobiasr_event`.`behavior_recording`\n",
      "[2023-07-24 22:07:36,074][INFO]: Deletes committed.\n",
      "[2023-07-24 22:07:36,078][INFO]: Deleting 19 rows from `tobiasr_event`.`#event_type`\n",
      "[2023-07-24 22:07:36,912][INFO]: Deletes committed.\n",
      "[2023-07-24 22:07:36,916][INFO]: Deleting 0 rows from `tobiasr_trial`.`_trial`\n",
      "[2023-07-24 22:07:36,917][WARNING]: Nothing to delete.\n"
     ]
    },
    {
     "data": {
      "text/plain": [
       "0"
      ]
     },
     "execution_count": 6,
     "metadata": {},
     "output_type": "execute_result"
    }
   ],
   "source": [
    "(event.Event & scan_key).delete()\n",
    "(event.BehaviorRecording & scan_key).delete()\n",
    "(event.EventType & scan_key).delete()\n",
    "(trial.Trial & scan_key).delete()"
   ]
  },
  {
   "cell_type": "code",
   "execution_count": null,
   "id": "851fe403",
   "metadata": {},
   "outputs": [],
   "source": [
    "trial.Trial()"
   ]
  },
  {
   "cell_type": "code",
   "execution_count": null,
   "id": "d78ef70c",
   "metadata": {},
   "outputs": [],
   "source": [
    "event.Event()"
   ]
  },
  {
   "attachments": {},
   "cell_type": "markdown",
   "id": "4c258e07-6165-4116-bec7-edc764e2170c",
   "metadata": {},
   "source": [
    "### Initial check of tables"
   ]
  },
  {
   "cell_type": "code",
   "execution_count": null,
   "id": "75bb3517-f2f9-47ac-84fe-15c5aa1530e0",
   "metadata": {},
   "outputs": [],
   "source": [
    "# from adamacs.pipeline import session, event, trial\n",
    "\n",
    "# session.Session.delete()\n",
    "\n",
    "\n",
    "# print('Sessions:', len(session.Session()))\n",
    "# print('Trials  :', len(trial.Trial()))\n",
    "# print('Events  :', len(event.Event()))"
   ]
  },
  {
   "cell_type": "code",
   "execution_count": null,
   "id": "a3746a2f",
   "metadata": {},
   "outputs": [],
   "source": [
    "scan_key"
   ]
  },
  {
   "cell_type": "code",
   "execution_count": null,
   "id": "4bfeadab",
   "metadata": {},
   "outputs": [],
   "source": [
    "(event.BehaviorRecording() & scan_key)"
   ]
  },
  {
   "cell_type": "code",
   "execution_count": null,
   "id": "a7dac51a",
   "metadata": {},
   "outputs": [],
   "source": [
    "dj.Diagram(behavior)+dj.Diagram(event)+dj.Diagram(trial)"
   ]
  },
  {
   "attachments": {},
   "cell_type": "markdown",
   "id": "c10761a2-0304-4ea3-9af3-bb6981aae83f",
   "metadata": {},
   "source": [
    "## Automated BPod ingestion"
   ]
  },
  {
   "attachments": {},
   "cell_type": "markdown",
   "id": "b44bbdd6-536d-41e5-87b5-1820a631f1bf",
   "metadata": {},
   "source": [
    "The function is designed ask for a confirmation before entered into the schema."
   ]
  },
  {
   "cell_type": "code",
   "execution_count": null,
   "metadata": {},
   "outputs": [],
   "source": [
    "session.Session()"
   ]
  },
  {
   "cell_type": "code",
   "execution_count": null,
   "id": "cb20488b",
   "metadata": {},
   "outputs": [],
   "source": [
    "bpod_path = \"DB_WEZ-8701_2022-03-18_scan9FB2LN5C_sess9FB2LN5C/scan9FB2LN5C_WEZ-8701_StimArenaMaster_20220318_165447.mat\"\n",
    "# bpod_path = \"TR_WEZ-8701_2023-01-13_scan9FG1THFD_sess9FG1TAXY/scan9FG1THFD_WEZ-8701_StimArenaMaster_20230113_172307.mat\"\n",
    "\n",
    "root_dirs = dj.config[\"custom\"][\"exp_root_data_dir\"]\n",
    "bpod_path_full = find_full_path(get_experiment_root_data_dir(),bpod_path)\n",
    "\n",
    "print(f\"Root: {root_dirs}\\nFull: {bpod_path_full}\")"
   ]
  },
  {
   "cell_type": "code",
   "execution_count": null,
   "id": "75f3d64c",
   "metadata": {},
   "outputs": [],
   "source": [
    "l = 1\n",
    "if l:\n",
    "    print(2434)"
   ]
  },
  {
   "cell_type": "code",
   "execution_count": null,
   "id": "672eacd0",
   "metadata": {},
   "outputs": [],
   "source": [
    "bpod_object = Bpodfile(bpod_path_full)\n"
   ]
  },
  {
   "cell_type": "code",
   "execution_count": null,
   "id": "daa24499",
   "metadata": {},
   "outputs": [],
   "source": [
    "bpod_object.ingest('sess9FB2LN5C', 'scan9FB2LN5C')"
   ]
  },
  {
   "cell_type": "code",
   "execution_count": null,
   "id": "454e2c0d",
   "metadata": {},
   "outputs": [],
   "source": [
    "event.EventType()"
   ]
  },
  {
   "cell_type": "code",
   "execution_count": null,
   "id": "e3098f22",
   "metadata": {},
   "outputs": [],
   "source": [
    "scansi = \"scan9FJ842C3\"\n",
    "set((event.Event & f'scan_id = \"{scansi}\"').fetch('event_type'))"
   ]
  },
  {
   "cell_type": "code",
   "execution_count": 13,
   "id": "7101387a",
   "metadata": {},
   "outputs": [
    {
     "data": {
      "text/html": [
       "<div>\n",
       "<style scoped>\n",
       "    .dataframe tbody tr th:only-of-type {\n",
       "        vertical-align: middle;\n",
       "    }\n",
       "\n",
       "    .dataframe tbody tr th {\n",
       "        vertical-align: top;\n",
       "    }\n",
       "\n",
       "    .dataframe thead th {\n",
       "        text-align: right;\n",
       "    }\n",
       "</style>\n",
       "<table border=\"1\" class=\"dataframe\">\n",
       "  <thead>\n",
       "    <tr style=\"text-align: right;\">\n",
       "      <th></th>\n",
       "      <th></th>\n",
       "      <th></th>\n",
       "      <th></th>\n",
       "      <th></th>\n",
       "    </tr>\n",
       "    <tr>\n",
       "      <th>session_id</th>\n",
       "      <th>scan_id</th>\n",
       "      <th>trial_id</th>\n",
       "      <th>event_type</th>\n",
       "      <th>event_start_time</th>\n",
       "    </tr>\n",
       "  </thead>\n",
       "  <tbody>\n",
       "    <tr>\n",
       "      <th rowspan=\"7\" valign=\"top\">sess9FJ842C3</th>\n",
       "      <th rowspan=\"7\" valign=\"top\">scan9FJ842C3</th>\n",
       "      <th rowspan=\"7\" valign=\"top\">1</th>\n",
       "      <th>bpod_cue</th>\n",
       "      <th>15.5433</th>\n",
       "    </tr>\n",
       "    <tr>\n",
       "      <th>bpod_at_target</th>\n",
       "      <th>18.9989</th>\n",
       "    </tr>\n",
       "    <tr>\n",
       "      <th>bpod_at_port</th>\n",
       "      <th>24.2209</th>\n",
       "    </tr>\n",
       "    <tr>\n",
       "      <th>bpod_PA1_Port1In</th>\n",
       "      <th>24.2309</th>\n",
       "    </tr>\n",
       "    <tr>\n",
       "      <th>aux_reward</th>\n",
       "      <th>24.2310</th>\n",
       "    </tr>\n",
       "    <tr>\n",
       "      <th>bpod_reward</th>\n",
       "      <th>24.3209</th>\n",
       "    </tr>\n",
       "    <tr>\n",
       "      <th>bpod_drinking</th>\n",
       "      <th>24.4118</th>\n",
       "    </tr>\n",
       "  </tbody>\n",
       "</table>\n",
       "</div>"
      ],
      "text/plain": [
       "Empty DataFrame\n",
       "Columns: []\n",
       "Index: [(sess9FJ842C3, scan9FJ842C3, 1, bpod_cue, 15.5433), (sess9FJ842C3, scan9FJ842C3, 1, bpod_at_target, 18.9989), (sess9FJ842C3, scan9FJ842C3, 1, bpod_at_port, 24.2209), (sess9FJ842C3, scan9FJ842C3, 1, bpod_PA1_Port1In, 24.2309), (sess9FJ842C3, scan9FJ842C3, 1, aux_reward, 24.231), (sess9FJ842C3, scan9FJ842C3, 1, bpod_reward, 24.3209), (sess9FJ842C3, scan9FJ842C3, 1, bpod_drinking, 24.4118)]"
      ]
     },
     "execution_count": 13,
     "metadata": {},
     "output_type": "execute_result"
    }
   ],
   "source": [
    "(trial.TrialEvent & f'scan_id = \"{scansi}\"' & \"trial_id = 1\").fetch(format = \"frame\", order_by = \"event_start_time\")"
   ]
  },
  {
   "attachments": {},
   "cell_type": "markdown",
   "id": "6d2acedb",
   "metadata": {},
   "source": [
    "Check that insertion worked:"
   ]
  },
  {
   "cell_type": "code",
   "execution_count": 9,
   "id": "5488993f",
   "metadata": {},
   "outputs": [
    {
     "data": {
      "text/html": [
       "\n",
       "    \n",
       "    <style type=\"text/css\">\n",
       "        .Table{\n",
       "            border-collapse:collapse;\n",
       "        }\n",
       "        .Table th{\n",
       "            background: #A0A0A0; color: #ffffff; padding:4px; border:#f0e0e0 1px solid;\n",
       "            font-weight: normal; font-family: monospace; font-size: 100%;\n",
       "        }\n",
       "        .Table td{\n",
       "            padding:4px; border:#f0e0e0 1px solid; font-size:100%;\n",
       "        }\n",
       "        .Table tr:nth-child(odd){\n",
       "            background: #ffffff;\n",
       "            color: #000000;\n",
       "        }\n",
       "        .Table tr:nth-child(even){\n",
       "            background: #f3f1ff;\n",
       "            color: #000000;\n",
       "        }\n",
       "        /* Tooltip container */\n",
       "        .djtooltip {\n",
       "        }\n",
       "        /* Tooltip text */\n",
       "        .djtooltip .djtooltiptext {\n",
       "            visibility: hidden;\n",
       "            width: 120px;\n",
       "            background-color: black;\n",
       "            color: #fff;\n",
       "            text-align: center;\n",
       "            padding: 5px 0;\n",
       "            border-radius: 6px;\n",
       "            /* Position the tooltip text - see examples below! */\n",
       "            position: absolute;\n",
       "            z-index: 1;\n",
       "        }\n",
       "        #primary {\n",
       "            font-weight: bold;\n",
       "            color: black;\n",
       "        }\n",
       "        #nonprimary {\n",
       "            font-weight: normal;\n",
       "            color: white;\n",
       "        }\n",
       "\n",
       "        /* Show the tooltip text when you mouse over the tooltip container */\n",
       "        .djtooltip:hover .djtooltiptext {\n",
       "            visibility: visible;\n",
       "        }\n",
       "    </style>\n",
       "    \n",
       "    <b>Experimental trials</b>\n",
       "        <div style=\"max-height:1000px;max-width:1500px;overflow:auto;\">\n",
       "        <table border=\"1\" class=\"Table\">\n",
       "            <thead> <tr style=\"text-align: right;\"> <th> <div class=\"djtooltip\">\n",
       "                            <p id=\"primary\">session_id</p>\n",
       "                            <span class=\"djtooltiptext\"></span>\n",
       "                        </div></th><th><div class=\"djtooltip\">\n",
       "                            <p id=\"primary\">scan_id</p>\n",
       "                            <span class=\"djtooltiptext\"></span>\n",
       "                        </div></th><th><div class=\"djtooltip\">\n",
       "                            <p id=\"primary\">trial_id</p>\n",
       "                            <span class=\"djtooltiptext\">trial number (1-based indexing)</span>\n",
       "                        </div></th><th><div class=\"djtooltip\">\n",
       "                            <p id=\"nonprimary\">trial_type</p>\n",
       "                            <span class=\"djtooltiptext\"></span>\n",
       "                        </div></th><th><div class=\"djtooltip\">\n",
       "                            <p id=\"nonprimary\">trial_start_time</p>\n",
       "                            <span class=\"djtooltiptext\">(second) relative to recording start</span>\n",
       "                        </div></th><th><div class=\"djtooltip\">\n",
       "                            <p id=\"nonprimary\">trial_stop_time</p>\n",
       "                            <span class=\"djtooltiptext\">(second) relative to recording start</span>\n",
       "                        </div> </th> </tr> </thead>\n",
       "            <tbody> <tr> <td>sess9FJ842C3</td>\n",
       "<td>scan9FJ842C3</td>\n",
       "<td>0</td>\n",
       "<td>VisibleStim</td>\n",
       "<td>-106.268</td>\n",
       "<td>14.0299</td></tr><tr><td>sess9FJ842C3</td>\n",
       "<td>scan9FJ842C3</td>\n",
       "<td>1</td>\n",
       "<td>VisibleStim</td>\n",
       "<td>15.5433</td>\n",
       "<td>24.5119</td></tr><tr><td>sess9FJ842C3</td>\n",
       "<td>scan9FJ842C3</td>\n",
       "<td>2</td>\n",
       "<td>VisibleStim</td>\n",
       "<td>24.8848</td>\n",
       "<td>37.2709</td></tr><tr><td>sess9FJ842C3</td>\n",
       "<td>scan9FJ842C3</td>\n",
       "<td>3</td>\n",
       "<td>VisibleStim</td>\n",
       "<td>38.3102</td>\n",
       "<td>64.4371</td></tr><tr><td>sess9FJ842C3</td>\n",
       "<td>scan9FJ842C3</td>\n",
       "<td>4</td>\n",
       "<td>VisibleStim</td>\n",
       "<td>65.4817</td>\n",
       "<td>173.631</td></tr><tr><td>sess9FJ842C3</td>\n",
       "<td>scan9FJ842C3</td>\n",
       "<td>5</td>\n",
       "<td>VisibleStim</td>\n",
       "<td>173.925</td>\n",
       "<td>213.641</td> </tr> </tbody>\n",
       "        </table>\n",
       "        \n",
       "        <p>Total: 6</p></div>\n",
       "        "
      ],
      "text/plain": [
       "*session_id    *scan_id       *trial_id    trial_type     trial_start_ti trial_stop_tim\n",
       "+------------+ +------------+ +----------+ +------------+ +------------+ +------------+\n",
       "sess9FJ842C3   scan9FJ842C3   0            VisibleStim    -106.268       14.0299       \n",
       "sess9FJ842C3   scan9FJ842C3   1            VisibleStim    15.5433        24.5119       \n",
       "sess9FJ842C3   scan9FJ842C3   2            VisibleStim    24.8848        37.2709       \n",
       "sess9FJ842C3   scan9FJ842C3   3            VisibleStim    38.3102        64.4371       \n",
       "sess9FJ842C3   scan9FJ842C3   4            VisibleStim    65.4817        173.631       \n",
       "sess9FJ842C3   scan9FJ842C3   5            VisibleStim    173.925        213.641       \n",
       " (Total: 6)"
      ]
     },
     "execution_count": 9,
     "metadata": {},
     "output_type": "execute_result"
    }
   ],
   "source": [
    "trial.Trial()"
   ]
  },
  {
   "attachments": {},
   "cell_type": "markdown",
   "id": "3472ae04",
   "metadata": {},
   "source": [
    "We can also interact with bpod objects. For example:"
   ]
  },
  {
   "cell_type": "code",
   "execution_count": null,
   "id": "695cdf7c",
   "metadata": {},
   "outputs": [],
   "source": [
    "bpod_object.trial(0).events"
   ]
  },
  {
   "cell_type": "code",
   "execution_count": null,
   "id": "6c1f1c63",
   "metadata": {},
   "outputs": [],
   "source": [
    "bpod_object.trial(5).attributes"
   ]
  },
  {
   "cell_type": "code",
   "execution_count": null,
   "id": "5625ab41",
   "metadata": {},
   "outputs": [],
   "source": [
    "bpod_object.trial_data[4]['Events']"
   ]
  },
  {
   "cell_type": "code",
   "execution_count": null,
   "id": "0c788e64",
   "metadata": {},
   "outputs": [],
   "source": [
    "bpod_object.trial_data[4]['States']"
   ]
  },
  {
   "cell_type": "code",
   "execution_count": null,
   "metadata": {},
   "outputs": [],
   "source": [
    "bpod_object.trial_data[1]['States']"
   ]
  },
  {
   "cell_type": "code",
   "execution_count": null,
   "id": "19f099f1",
   "metadata": {},
   "outputs": [],
   "source": [
    "\n",
    "bpod_object._raw_data['SessionData']['RawEvents']['Trial'][0]"
   ]
  },
  {
   "cell_type": "code",
   "execution_count": null,
   "id": "8171bcf9",
   "metadata": {},
   "outputs": [],
   "source": [
    "trialo = 0\n",
    "bpod_object.trial_data[trialo]['States']['WaitForResponse'][1] - bpod_object.trial_data[trialo]['States']['WaitForResponse'][0]"
   ]
  },
  {
   "cell_type": "code",
   "execution_count": null,
   "id": "c6f3473e",
   "metadata": {},
   "outputs": [],
   "source": [
    "# time between bpod first visual stimulus trigger and AUX master trigger onset in BPOD frame\n",
    "bpod_object.trial_data[trialo]['States']['CueDelay'][0] - bpod_object.trial_data[trialo]['Events']['BNC1High'][0]"
   ]
  },
  {
   "cell_type": "code",
   "execution_count": null,
   "id": "12fa8656",
   "metadata": {},
   "outputs": [],
   "source": [
    "# time between bpod first visual stimulus trigger and AUX master trigger onset in AUX frame\n",
    "bpod_trial_start = (event.Event()  &  \"event_type='aux_bpod_visual'\" &  scan_key ).fetch('event_start_time')\n",
    "bpod_reward_start = (event.Event()  &  \"event_type='aux_bpod_reward'\" &  scan_key ).fetch('event_start_time')\n",
    "auxgatetimestamp_start = (event.Event()  &  \"event_type='main_track_gate'\" &  scan_key ).fetch('event_start_time')\n",
    "\n",
    "print(bpod_reward_start[trialo] - bpod_trial_start[trialo] )\n",
    "print(bpod_trial_start[0] - auxgatetimestamp_start[0] )"
   ]
  },
  {
   "cell_type": "markdown",
   "id": "8acedc52",
   "metadata": {},
   "source": [
    "Cue display = WaitForPosTriggerSoftCode[0] - WaitForPosTriggerSoftCode[1] +  Aux_bpod_trial_start"
   ]
  },
  {
   "cell_type": "code",
   "execution_count": null,
   "id": "3bd6bd69",
   "metadata": {},
   "outputs": [],
   "source": [
    "bpod_object.trial_data[0]['States']['WaitForPosTriggerSoftCode'][1]"
   ]
  },
  {
   "cell_type": "code",
   "execution_count": null,
   "id": "94f22545",
   "metadata": {},
   "outputs": [],
   "source": []
  },
  {
   "attachments": {},
   "cell_type": "markdown",
   "id": "0d7e7ddf",
   "metadata": {},
   "source": [
    "# Add Harp recording"
   ]
  },
  {
   "cell_type": "code",
   "execution_count": 5,
   "id": "151164c3",
   "metadata": {},
   "outputs": [
    {
     "data": {
      "text/html": [
       "\n",
       "    \n",
       "    <style type=\"text/css\">\n",
       "        .Table{\n",
       "            border-collapse:collapse;\n",
       "        }\n",
       "        .Table th{\n",
       "            background: #A0A0A0; color: #ffffff; padding:4px; border:#f0e0e0 1px solid;\n",
       "            font-weight: normal; font-family: monospace; font-size: 100%;\n",
       "        }\n",
       "        .Table td{\n",
       "            padding:4px; border:#f0e0e0 1px solid; font-size:100%;\n",
       "        }\n",
       "        .Table tr:nth-child(odd){\n",
       "            background: #ffffff;\n",
       "            color: #000000;\n",
       "        }\n",
       "        .Table tr:nth-child(even){\n",
       "            background: #f3f1ff;\n",
       "            color: #000000;\n",
       "        }\n",
       "        /* Tooltip container */\n",
       "        .djtooltip {\n",
       "        }\n",
       "        /* Tooltip text */\n",
       "        .djtooltip .djtooltiptext {\n",
       "            visibility: hidden;\n",
       "            width: 120px;\n",
       "            background-color: black;\n",
       "            color: #fff;\n",
       "            text-align: center;\n",
       "            padding: 5px 0;\n",
       "            border-radius: 6px;\n",
       "            /* Position the tooltip text - see examples below! */\n",
       "            position: absolute;\n",
       "            z-index: 1;\n",
       "        }\n",
       "        #primary {\n",
       "            font-weight: bold;\n",
       "            color: black;\n",
       "        }\n",
       "        #nonprimary {\n",
       "            font-weight: normal;\n",
       "            color: white;\n",
       "        }\n",
       "\n",
       "        /* Show the tooltip text when you mouse over the tooltip container */\n",
       "        .djtooltip:hover .djtooltiptext {\n",
       "            visibility: visible;\n",
       "        }\n",
       "    </style>\n",
       "    \n",
       "    <b></b>\n",
       "        <div style=\"max-height:1000px;max-width:1500px;overflow:auto;\">\n",
       "        <table border=\"1\" class=\"Table\">\n",
       "            <thead> <tr style=\"text-align: right;\"> <th> <div class=\"djtooltip\">\n",
       "                            <p id=\"primary\">session_id</p>\n",
       "                            <span class=\"djtooltiptext\"></span>\n",
       "                        </div></th><th><div class=\"djtooltip\">\n",
       "                            <p id=\"primary\">scan_id</p>\n",
       "                            <span class=\"djtooltiptext\"></span>\n",
       "                        </div></th><th><div class=\"djtooltip\">\n",
       "                            <p id=\"primary\">harp_device_id</p>\n",
       "                            <span class=\"djtooltiptext\"></span>\n",
       "                        </div> </th> </tr> </thead>\n",
       "            <tbody> <tr> <td>sess9FHS7Y22</td>\n",
       "<td>scan9FHS7Y22</td>\n",
       "<td>1</td></tr><tr><td>sess9FIG39RU</td>\n",
       "<td>scan9FIG39RU</td>\n",
       "<td>1</td></tr><tr><td>sess9FIG39RU</td>\n",
       "<td>scan9FIG3GCJ</td>\n",
       "<td>1</td></tr><tr><td>sess9FIG39RU</td>\n",
       "<td>scan9FIG3MU8</td>\n",
       "<td>1</td></tr><tr><td>sess9FJBPNSP</td>\n",
       "<td>scan9FJBPNSP</td>\n",
       "<td>1</td> </tr> </tbody>\n",
       "        </table>\n",
       "        \n",
       "        <p>Total: 5</p></div>\n",
       "        "
      ],
      "text/plain": [
       "*session_id    *scan_id       *harp_device_i\n",
       "+------------+ +------------+ +------------+\n",
       "sess9FHS7Y22   scan9FHS7Y22   1             \n",
       "sess9FIG39RU   scan9FIG39RU   1             \n",
       "sess9FIG39RU   scan9FIG3GCJ   1             \n",
       "sess9FIG39RU   scan9FIG3MU8   1             \n",
       "sess9FJBPNSP   scan9FJBPNSP   1             \n",
       " (Total: 5)"
      ]
     },
     "execution_count": 5,
     "metadata": {},
     "output_type": "execute_result"
    }
   ],
   "source": [
    "from adamacs.pipeline import behavior, event, scan\n",
    "from adamacs.ingest.harp import HarpLoader, HarpLoader_sync\n",
    "event_recording = event.BehaviorRecording.fetch('KEY')[0]\n",
    "behavior.HarpRecording()"
   ]
  },
  {
   "cell_type": "code",
   "execution_count": null,
   "id": "a464835c",
   "metadata": {},
   "outputs": [],
   "source": [
    "event.BehaviorRecording() * session.SessionUser() * subject.User()"
   ]
  },
  {
   "cell_type": "code",
   "execution_count": null,
   "id": "7af3f65b",
   "metadata": {},
   "outputs": [],
   "source": [
    "event_recording"
   ]
  },
  {
   "cell_type": "code",
   "execution_count": null,
   "id": "aa64d989",
   "metadata": {},
   "outputs": [],
   "source": [
    "# event.BehaviorRecording().delete"
   ]
  },
  {
   "cell_type": "code",
   "execution_count": null,
   "id": "1d555bc8",
   "metadata": {},
   "outputs": [],
   "source": [
    "scansi = \"scan9FH37WBZ\"\n",
    "scan_key = (scan.Scan & f'scan_id = \"{scansi}\"').fetch('KEY')[0]\n",
    "\n",
    "bpod_path_relative = (event.BehaviorRecording.File & scan_key).fetch1(\"filepath\")\n",
    "harp_paths = list(find_full_path(\n",
    "    get_experiment_root_data_dir(), bpod_path_relative\n",
    ").parent.glob(\"*harp*bin\"))"
   ]
  },
  {
   "cell_type": "code",
   "execution_count": null,
   "id": "2856564b",
   "metadata": {},
   "outputs": [],
   "source": [
    "scansi = \"scan9FJ1ISOK\"\n",
    "scan_key = (scan.Scan & f'scan_id = \"{scansi}\"').fetch('KEY')[0]\n",
    "\n",
    "bpod_path_relative = (event.BehaviorRecording.File & scan_key).fetch1(\"filepath\")\n",
    "harp_paths = list(find_full_path(\n",
    "    get_experiment_root_data_dir(), bpod_path_relative\n",
    ").parent.glob(\"*IMU_harp*csv\"))"
   ]
  },
  {
   "cell_type": "code",
   "execution_count": null,
   "id": "9f33a35f",
   "metadata": {},
   "outputs": [],
   "source": [
    "harp_paths"
   ]
  },
  {
   "cell_type": "code",
   "execution_count": null,
   "id": "d935e816",
   "metadata": {},
   "outputs": [],
   "source": [
    "allchans = HarpLoader(harp_paths[0]).data_for_insert()"
   ]
  },
  {
   "cell_type": "code",
   "execution_count": null,
   "id": "5e087db8",
   "metadata": {},
   "outputs": [],
   "source": [
    "allchans"
   ]
  },
  {
   "cell_type": "code",
   "execution_count": null,
   "id": "ff311739",
   "metadata": {},
   "outputs": [],
   "source": [
    "scansi = \"scan9FJ1ISOK\"\n",
    "scan_key = (scan.Scan & f'scan_id = \"{scansi}\"').fetch('KEY')[0]\n",
    "\n",
    "bpod_path_relative = (event.BehaviorRecording.File & scan_key).fetch1(\"filepath\")\n",
    "harp_paths = list(find_full_path(\n",
    "    get_experiment_root_data_dir(), bpod_path_relative\n",
    ").parent.glob(\"*2Pframes_harp*csv\"))"
   ]
  },
  {
   "cell_type": "code",
   "execution_count": null,
   "id": "c23f85f6",
   "metadata": {},
   "outputs": [],
   "source": [
    "harp_paths"
   ]
  },
  {
   "cell_type": "code",
   "execution_count": null,
   "id": "36ff5229",
   "metadata": {},
   "outputs": [],
   "source": [
    "allchans_sync = HarpLoader_sync(harp_paths[0]).data_for_insert()"
   ]
  },
  {
   "cell_type": "code",
   "execution_count": null,
   "metadata": {},
   "outputs": [],
   "source": [
    "allchans_sync + allchans"
   ]
  },
  {
   "cell_type": "markdown",
   "id": "6b2a35df",
   "metadata": {},
   "source": [
    "# populate IMU data"
   ]
  },
  {
   "cell_type": "code",
   "execution_count": null,
   "id": "46685286",
   "metadata": {},
   "outputs": [],
   "source": [
    "behavior.HarpRecording.populate()"
   ]
  },
  {
   "cell_type": "code",
   "execution_count": null,
   "id": "240757dc",
   "metadata": {},
   "outputs": [],
   "source": [
    "scansi = \"scan9FJ842C3\"\n",
    "scan_key = (scan.Scan & f'scan_id = \"{scansi}\"').fetch('KEY')[0]"
   ]
  },
  {
   "cell_type": "code",
   "execution_count": null,
   "id": "5560f824",
   "metadata": {},
   "outputs": [],
   "source": [
    "behavior.HarpRecording.Channel() & scan_key"
   ]
  },
  {
   "cell_type": "code",
   "execution_count": null,
   "id": "ab59172e",
   "metadata": {},
   "outputs": [],
   "source": [
    "accelerometer = (behavior.HarpRecording.Channel() & scan_key & \"channel_name LIKE 'IMU accelerometer %'\").fetch(\"data\")\n",
    "gyroscope = (behavior.HarpRecording.Channel() & scan_key & \"channel_name LIKE 'IMU gyroscope %'\").fetch(\"data\")\n",
    "magnetometer = (behavior.HarpRecording.Channel() & scan_key & \"channel_name LIKE 'IMU magnetometer %'\").fetch(\"data\")\n",
    "twopframes = (behavior.HarpRecording.Channel() & scan_key & \"channel_name LIKE '2p %'\").fetch(\"data\")\n",
    "twopptime = (behavior.HarpRecording.Channel() & scan_key & \"channel_name LIKE '2p %'\").fetch(\"time\")"
   ]
  },
  {
   "cell_type": "code",
   "execution_count": null,
   "id": "0b940698",
   "metadata": {},
   "outputs": [],
   "source": [
    "import matplotlib.pyplot as plt \n",
    "\n",
    "fig, axes = plt.subplots(nrows=4, ncols=1, figsize=(15, 8))\n",
    "# plt.rcParams['agg.path.chunksize'] = 10000  # Add this line if it does not rende\n",
    "\n",
    "\n",
    "for i, arr in enumerate(accelerometer):\n",
    "    axes[0].plot(arr, label=f'accelerometer {i+1}')\n",
    "    \n",
    "axes[0].set_ylim([-10000, 10000])\n",
    "axes[0].set_ylabel(\"accelerometer\")\n",
    "axes[0].set_xlabel(\"Time [ms]\")\n",
    "axes[0].legend()\n",
    "\n",
    "for i, arr in enumerate(gyroscope):\n",
    "    axes[1].plot(arr, label=f'gyroscope {i+1}')\n",
    "    \n",
    "axes[1].set_ylabel(\"gyroscope\")\n",
    "axes[1].set_xlabel(\"Time [ms]\")\n",
    "axes[1].legend()\n",
    "\n",
    "for i, arr in enumerate(magnetometer):\n",
    "    axes[2].plot(arr, label=f'magnetometer {i+1}')\n",
    "    \n",
    "axes[0].set_ylim([-10000, 10000])\n",
    "axes[2].set_ylabel(\"magnetometer\")\n",
    "axes[2].set_xlabel(\"Time [ms]\")\n",
    "axes[2].legend()\n",
    "\n",
    "\n",
    "for i, arr in enumerate(twopframes):\n",
    "    axes[3].plot(twopframes[0][:-1], label=f'2p frames {i+1}')\n",
    "    \n",
    "# axes[2].set_ylim([-10, 370])\n",
    "axes[3].set_ylabel(\"2p frame\")\n",
    "axes[3].set_xlabel(\"Time [ms]\")\n",
    "axes[3].legend()\n",
    "\n",
    "fig.suptitle(scan_key[\"scan_id\"], fontsize=16)\n",
    "\n",
    "plt.show() "
   ]
  },
  {
   "cell_type": "code",
   "execution_count": null,
   "id": "09cfdcff",
   "metadata": {},
   "outputs": [],
   "source": [
    "event.EventType()"
   ]
  },
  {
   "cell_type": "code",
   "execution_count": null,
   "id": "5a4c519b",
   "metadata": {},
   "outputs": [],
   "source": [
    "auxgatetimestamp_start = (event.Event()  &  \"event_type = 'HARP_gate'\" &  scan_key ).fetch('event_start_time')\n",
    "auxgatetimestamp_end = (event.Event()  &  \"event_type = 'HARP_gate'\" &  scan_key ).fetch('event_end_time')\n",
    "\n",
    "print(auxgatetimestamp_start)\n",
    "print(auxgatetimestamp_end)"
   ]
  },
  {
   "cell_type": "code",
   "execution_count": null,
   "id": "b52b6157",
   "metadata": {},
   "outputs": [],
   "source": [
    "twopptimeoff = twopptime[0] + auxgatetimestamp_start * 1000\n",
    "print(twopptimeoff[0] / 1000)\n",
    "print(twopptimeoff[-1] / 1000)"
   ]
  },
  {
   "cell_type": "code",
   "execution_count": null,
   "id": "9b50a9bf",
   "metadata": {},
   "outputs": [],
   "source": [
    "auxgatetimestamp_start"
   ]
  },
  {
   "cell_type": "code",
   "execution_count": null,
   "id": "2b0e4e42",
   "metadata": {},
   "outputs": [],
   "source": []
  }
 ],
 "metadata": {
  "jupytext": {
   "formats": "ipynb,py"
  },
  "kernelspec": {
   "display_name": "datajoint",
   "language": "python",
   "name": "python3"
  },
  "language_info": {
   "codemirror_mode": {
    "name": "ipython",
    "version": 3
   },
   "file_extension": ".py",
   "mimetype": "text/x-python",
   "name": "python",
   "nbconvert_exporter": "python",
   "pygments_lexer": "ipython3",
   "version": "3.8.16"
  },
  "vscode": {
   "interpreter": {
    "hash": "b6b88a8194cd92b549912c5fccf4f99c3c2f8b37389322b86781a2268700b256"
   }
  }
 },
 "nbformat": 4,
 "nbformat_minor": 5
}
