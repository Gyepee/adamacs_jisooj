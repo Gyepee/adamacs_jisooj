{
 "cells": [
  {
   "cell_type": "markdown",
   "id": "d1aa3e29-e39c-44a9-b29d-d37b73aab85d",
   "metadata": {},
   "source": [
    "# File Ingestion"
   ]
  },
  {
   "cell_type": "markdown",
   "id": "ed2651bb-ce83-4b87-a268-98169a69309d",
   "metadata": {},
   "source": [
    "## Setup"
   ]
  },
  {
   "cell_type": "markdown",
   "id": "6e95a682-afac-4834-b6e5-0dd4886467f9",
   "metadata": {},
   "source": [
    "Using local config file (see [01_pipeline](./01_pipeline.ipynb))"
   ]
  },
  {
   "cell_type": "code",
   "execution_count": 1,
   "id": "016819d5-3623-4dce-9e8c-0410579ac69b",
   "metadata": {},
   "outputs": [
    {
     "name": "stderr",
     "output_type": "stream",
     "text": [
      "[2023-01-09 17:26:31,458][INFO]: Connecting tobiasr@172.26.128.53:3306\n",
      "[2023-01-09 17:26:31,517][INFO]: Connected tobiasr@172.26.128.53:3306\n"
     ]
    },
    {
     "name": "stdout",
     "output_type": "stream",
     "text": [
      "Loading DLC 2.2.1.1...\n"
     ]
    },
    {
     "name": "stderr",
     "output_type": "stream",
     "text": [
      "/Users/trose/opt/miniconda3/envs/datajoint/lib/python3.8/site-packages/statsmodels/compat/pandas.py:65: FutureWarning: pandas.Int64Index is deprecated and will be removed from pandas in a future version. Use pandas.Index with the appropriate dtype instead.\n",
      "  from pandas import Int64Index as NumericIndex\n"
     ]
    },
    {
     "name": "stdout",
     "output_type": "stream",
     "text": [
      "DLC loaded in light mode; you cannot use any GUI (labeling, relabeling and standalone GUI)\n"
     ]
    }
   ],
   "source": [
    "import os\n",
    "# change to the upper level folder to detect dj_local_conf.json\n",
    "if os.path.basename(os.getcwd())=='notebooks': os.chdir('..')\n",
    "assert os.path.basename(os.getcwd())=='adamacs', (\"Please move to the main directory\")\n",
    "from adamacs.pipeline import subject, behavior"
   ]
  },
  {
   "cell_type": "markdown",
   "id": "5dd49a4c-d391-4f0e-bfe9-0930ed744e93",
   "metadata": {},
   "source": [
    "Manual entry"
   ]
  },
  {
   "cell_type": "code",
   "execution_count": null,
   "id": "183003b5-f45c-4851-80c5-34c30e808816",
   "metadata": {},
   "outputs": [],
   "source": [
    "# Manual Entry\n",
    "import datajoint as dj; import getpass\n",
    "dj.config['database.host'] = '172.26.128.53'        # Put the server name between these apostrophe\n",
    "dj.config['database.user'] = 'danielmk'             # Put your user name between these apostrophe\n",
    "dj.config['database.password'] = getpass.getpass(prompt='Database password:')\n",
    "dj.conn()"
   ]
  },
  {
   "cell_type": "markdown",
   "id": "10119159",
   "metadata": {},
   "source": [
    "### BPod Path Setup"
   ]
  },
  {
   "cell_type": "markdown",
   "id": "63589f12",
   "metadata": {},
   "source": [
    "Your `dj.config` file should have a section for your BPod root directory under `custom`: `exp_root_data_dir`. This is a list of one or more paths where the ingestion tool will look for the relative paths it is given."
   ]
  },
  {
   "cell_type": "code",
   "execution_count": 17,
   "id": "e25b9d62",
   "metadata": {},
   "outputs": [
    {
     "name": "stdout",
     "output_type": "stream",
     "text": [
      "Root: ['/datajoint-data/data/tobiasr', '/Users/trose/Data/']\n",
      "Full: /Users/trose/Data/DB_WEZ-8701_2022-03-18_scan9FB2LN5C_sess9FB2LN5C/scan9FB2LN5C_WEZ-8701_StimArenaMaster_20220318_165447.mat\n"
     ]
    }
   ],
   "source": [
    "import datajoint as dj\n",
    "from element_interface.utils import find_full_path\n",
    "from adamacs.pipeline import session, event, trial\n",
    "from adamacs.ingest.bpod import Bpodfile\n",
    "from adamacs.paths import get_experiment_root_data_dir\n",
    "\n",
    "bpod_path = \"DB_WEZ-8701_2022-03-18_scan9FB2LN5C_sess9FB2LN5C/scan9FB2LN5C_WEZ-8701_StimArenaMaster_20220318_165447.mat\"\n",
    "root_dirs = dj.config[\"custom\"][\"exp_root_data_dir\"]\n",
    "bpod_path_full = find_full_path(get_experiment_root_data_dir(),bpod_path)\n",
    "\n",
    "print(f\"Root: {root_dirs}\\nFull: {bpod_path_full}\")"
   ]
  },
  {
   "cell_type": "markdown",
   "id": "4c258e07-6165-4116-bec7-edc764e2170c",
   "metadata": {},
   "source": [
    "### Initial check of tables"
   ]
  },
  {
   "cell_type": "code",
   "execution_count": 9,
   "id": "75bb3517-f2f9-47ac-84fe-15c5aa1530e0",
   "metadata": {},
   "outputs": [
    {
     "name": "stderr",
     "output_type": "stream",
     "text": [
      "[2023-01-09 17:30:29,393][INFO]: Deleting 649715 rows from `tobiasr_event`.`_event`\n",
      "[2023-01-09 17:30:29,510][INFO]: Deleting 1 rows from `tobiasr_event`.`behavior_recording__file`\n",
      "[2023-01-09 17:30:29,621][INFO]: Deleting 1 rows from `tobiasr_event`.`behavior_recording`\n",
      "[2023-01-09 17:30:29,659][INFO]: Deleting 1 rows from `tobiasr_scan`.`_scan_info__field`\n",
      "[2023-01-09 17:30:29,681][INFO]: Deleting 1 rows from `tobiasr_scan`.`_scan_info__scan_file`\n",
      "[2023-01-09 17:30:29,693][INFO]: Deleting 1 rows from `tobiasr_scan`.`_scan_info`\n",
      "[2023-01-09 17:30:29,713][INFO]: Deleting 1 rows from `tobiasr_scan`.`scan_location`\n",
      "[2023-01-09 17:30:29,733][INFO]: Deleting 1 rows from `tobiasr_scan`.`scan_path`\n",
      "[2023-01-09 17:30:29,744][INFO]: Deleting 1 rows from `tobiasr_scan`.`scan`\n",
      "[2023-01-09 17:30:29,763][INFO]: Deleting 1 rows from `tobiasr_session`.`project_session`\n",
      "[2023-01-09 17:30:29,781][INFO]: Deleting 1 rows from `tobiasr_session`.`session_directory`\n",
      "[2023-01-09 17:30:29,803][INFO]: Deleting 1 rows from `tobiasr_session`.`session_user`\n",
      "[2023-01-09 17:30:29,815][INFO]: Deleting 1 rows from `tobiasr_session`.`session`\n"
     ]
    },
    {
     "name": "stdout",
     "output_type": "stream",
     "text": [
      "Deletes cancelled\n",
      "Sessions: 1\n",
      "Trials  : 0\n",
      "Events  : 649715\n"
     ]
    }
   ],
   "source": [
    "from adamacs.pipeline import session, event, trial\n",
    "\n",
    "session.Session.delete()\n",
    "print('Sessions:', len(session.Session()))\n",
    "print('Trials  :', len(trial.Trial()))\n",
    "print('Events  :', len(event.Event()))"
   ]
  },
  {
   "cell_type": "markdown",
   "id": "c10761a2-0304-4ea3-9af3-bb6981aae83f",
   "metadata": {},
   "source": [
    "## Automated BPod ingestion"
   ]
  },
  {
   "cell_type": "markdown",
   "id": "b44bbdd6-536d-41e5-87b5-1820a631f1bf",
   "metadata": {},
   "source": [
    "The function is designed ask for a confirmation before entered into the schema."
   ]
  },
  {
   "cell_type": "code",
   "execution_count": 16,
   "id": "cb20488b",
   "metadata": {},
   "outputs": [
    {
     "ename": "TypeError",
     "evalue": "can only concatenate str (not \"int\") to str",
     "output_type": "error",
     "traceback": [
      "\u001b[0;31m---------------------------------------------------------------------------\u001b[0m",
      "\u001b[0;31mTypeError\u001b[0m                                 Traceback (most recent call last)",
      "Cell \u001b[0;32mIn [16], line 4\u001b[0m\n\u001b[1;32m      2\u001b[0m bpod_path_full \u001b[39m=\u001b[39m find_full_path(get_experiment_root_data_dir(),bpod_path)\n\u001b[1;32m      3\u001b[0m bpod_object \u001b[39m=\u001b[39m Bpodfile(bpod_path_full)\n\u001b[0;32m----> 4\u001b[0m bpod_object\u001b[39m.\u001b[39;49mingest()\n",
      "File \u001b[0;32m~/Documents/GitHub/troselab/adamacs/adamacs/ingest/bpod.py:87\u001b[0m, in \u001b[0;36mBpodfile.ingest\u001b[0;34m(self, prompt)\u001b[0m\n\u001b[1;32m     84\u001b[0m     PyratIngestion()\u001b[39m.\u001b[39mingest_animal(\u001b[39mself\u001b[39m\u001b[39m.\u001b[39msubject_id)\n\u001b[1;32m     86\u001b[0m \u001b[39m# ------------------------------- Some constants -------------------------------\u001b[39;00m\n\u001b[0;32m---> 87\u001b[0m session_id \u001b[39m=\u001b[39m (  \u001b[39m# incriment previous session id by 1\u001b[39;49;00m\n\u001b[1;32m     88\u001b[0m     dj\u001b[39m.\u001b[39;49mU()\u001b[39m.\u001b[39;49maggr(session\u001b[39m.\u001b[39;49mSession, n\u001b[39m=\u001b[39;49m\u001b[39m\"\u001b[39;49m\u001b[39mmax(session_id)\u001b[39;49m\u001b[39m\"\u001b[39;49m)\u001b[39m.\u001b[39;49mfetch(\u001b[39m\"\u001b[39;49m\u001b[39mn\u001b[39;49m\u001b[39m\"\u001b[39;49m) \u001b[39mor\u001b[39;49;00m \u001b[39m0\u001b[39;49m\n\u001b[1;32m     89\u001b[0m ) \u001b[39m+\u001b[39;49m \u001b[39m1\u001b[39;49m\n\u001b[1;32m     90\u001b[0m bpod_version \u001b[39m=\u001b[39m \u001b[39mself\u001b[39m\u001b[39m.\u001b[39msession_data[\u001b[39m\"\u001b[39m\u001b[39mInfo\u001b[39m\u001b[39m\"\u001b[39m][\u001b[39m\"\u001b[39m\u001b[39mStateMachineVersion\u001b[39m\u001b[39m\"\u001b[39m]\u001b[39m.\u001b[39msplit(\u001b[39m\"\u001b[39m\u001b[39m \u001b[39m\u001b[39m\"\u001b[39m)[\u001b[39m-\u001b[39m\u001b[39m1\u001b[39m]\n\u001b[1;32m     91\u001b[0m aux_trials, aux_rewards \u001b[39m=\u001b[39m \u001b[39mself\u001b[39m\u001b[39m.\u001b[39m_aux_timestamps()\n",
      "\u001b[0;31mTypeError\u001b[0m: can only concatenate str (not \"int\") to str"
     ]
    }
   ],
   "source": [
    "bpod_path = \"DB_WEZ-8701_2022-03-18_scan9FB2LN5C_sess9FB2LN5C/scan9FB2LN5C_WEZ-8701_StimArenaMaster_20220318_165447.mat\"\n",
    "root_dirs = dj.config[\"custom\"][\"exp_root_data_dir\"]\n",
    "bpod_object = Bpodfile(bpod_path)\n",
    "bpod_object.ingest()"
   ]
  },
  {
   "cell_type": "markdown",
   "id": "6d2acedb",
   "metadata": {},
   "source": [
    "Check that insertion worked:"
   ]
  },
  {
   "cell_type": "code",
   "execution_count": null,
   "id": "9b074d80",
   "metadata": {},
   "outputs": [],
   "source": [
    "trial.TrialEvent & 'trial_id=1'"
   ]
  },
  {
   "cell_type": "markdown",
   "id": "3472ae04",
   "metadata": {},
   "source": [
    "We can also interact with bpod objects. For example:"
   ]
  },
  {
   "cell_type": "code",
   "execution_count": null,
   "id": "695cdf7c",
   "metadata": {},
   "outputs": [],
   "source": [
    "bpod_object.trial(1).attributes"
   ]
  },
  {
   "cell_type": "code",
   "execution_count": null,
   "id": "5625ab41",
   "metadata": {},
   "outputs": [],
   "source": [
    "bpod_object.trial(1).events"
   ]
  },
  {
   "cell_type": "markdown",
   "id": "0d7e7ddf",
   "metadata": {},
   "source": [
    "# Add Harp recording"
   ]
  },
  {
   "cell_type": "code",
   "execution_count": null,
   "id": "151164c3",
   "metadata": {},
   "outputs": [],
   "source": [
    "from adamacs.pipeline import behavior, event\n",
    "event_recording = event.BehaviorRecording.fetch('KEY')[0]\n",
    "behavior.HarpRecording()"
   ]
  },
  {
   "cell_type": "code",
   "execution_count": null,
   "id": "5560f824",
   "metadata": {},
   "outputs": [],
   "source": [
    "behavior.HarpRecording.populate()"
   ]
  },
  {
   "cell_type": "code",
   "execution_count": null,
   "id": "2ecff3b0",
   "metadata": {},
   "outputs": [],
   "source": [
    "behavior.HarpRecording.Channel()"
   ]
  },
  {
   "cell_type": "code",
   "execution_count": null,
   "id": "32fa97fd",
   "metadata": {},
   "outputs": [],
   "source": []
  }
 ],
 "metadata": {
  "jupytext": {
   "formats": "ipynb,py"
  },
  "kernelspec": {
   "display_name": "datajoint",
   "language": "python",
   "name": "python3"
  },
  "language_info": {
   "codemirror_mode": {
    "name": "ipython",
    "version": 3
   },
   "file_extension": ".py",
   "mimetype": "text/x-python",
   "name": "python",
   "nbconvert_exporter": "python",
   "pygments_lexer": "ipython3",
   "version": "3.8.13"
  },
  "vscode": {
   "interpreter": {
    "hash": "b6b88a8194cd92b549912c5fccf4f99c3c2f8b37389322b86781a2268700b256"
   }
  }
 },
 "nbformat": 4,
 "nbformat_minor": 5
}
