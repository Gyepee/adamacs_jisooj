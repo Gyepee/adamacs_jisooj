{
 "cells": [
  {
   "attachments": {},
   "cell_type": "markdown",
   "id": "d1aa3e29-e39c-44a9-b29d-d37b73aab85d",
   "metadata": {},
   "source": [
    "# File Ingestion"
   ]
  },
  {
   "attachments": {},
   "cell_type": "markdown",
   "id": "ed2651bb-ce83-4b87-a268-98169a69309d",
   "metadata": {},
   "source": [
    "## Setup"
   ]
  },
  {
   "attachments": {},
   "cell_type": "markdown",
   "id": "6e95a682-afac-4834-b6e5-0dd4886467f9",
   "metadata": {},
   "source": [
    "Using local config file (see [01_pipeline](./01_pipeline.ipynb))"
   ]
  },
  {
   "cell_type": "code",
   "execution_count": 1,
   "id": "016819d5-3623-4dce-9e8c-0410579ac69b",
   "metadata": {},
   "outputs": [],
   "source": [
    "# import os\n",
    "# import datajoint as dj;\n",
    "# # change to the upper level folder to detect dj_local_conf.json\n",
    "# if os.path.basename(os.getcwd())=='notebooks': os.chdir('..')\n",
    "# assert os.path.basename(os.getcwd())=='adamacs', (\"Please move to the main directory\")\n",
    "# from adamacs.pipeline import subject, behavior, session, event, trial"
   ]
  },
  {
   "cell_type": "code",
   "execution_count": 2,
   "id": "14499d7b",
   "metadata": {},
   "outputs": [
    {
     "name": "stderr",
     "output_type": "stream",
     "text": [
      "[2023-05-22 16:59:14,131][INFO]: Connecting tobiasr@172.26.128.53:3306\n",
      "[2023-05-22 16:59:14,178][INFO]: Connected tobiasr@172.26.128.53:3306\n"
     ]
    }
   ],
   "source": [
    "import os\n",
    "# change to the upper level folder to detect dj_local_conf.json\n",
    "if os.path.basename(os.getcwd())=='notebooks': os.chdir('..')\n",
    "assert os.path.basename(os.getcwd())=='adamacs', (\"Please move to the main directory\")\n",
    "import datajoint as dj; dj.conn()\n",
    "from adamacs.pipeline import subject, behavior, session, event, trial\n"
   ]
  },
  {
   "attachments": {},
   "cell_type": "markdown",
   "id": "5dd49a4c-d391-4f0e-bfe9-0930ed744e93",
   "metadata": {},
   "source": [
    "Manual entry"
   ]
  },
  {
   "attachments": {},
   "cell_type": "markdown",
   "id": "10119159",
   "metadata": {},
   "source": [
    "### BPod Path Setup"
   ]
  },
  {
   "attachments": {},
   "cell_type": "markdown",
   "id": "63589f12",
   "metadata": {},
   "source": [
    "Your `dj.config` file should have a section for your BPod root directory under `custom`: `exp_root_data_dir`. This is a list of one or more paths where the ingestion tool will look for the relative paths it is given."
   ]
  },
  {
   "cell_type": "code",
   "execution_count": 3,
   "id": "e25b9d62",
   "metadata": {},
   "outputs": [
    {
     "name": "stdout",
     "output_type": "stream",
     "text": [
      "Root: ['/datajoint-data/data/tobiasr']\n",
      "Full: /datajoint-data/data/tobiasr/DB_WEZ-8701_2022-03-18_scan9FB2LN5C_sess9FB2LN5C/scan9FB2LN5C_WEZ-8701_StimArenaMaster_20220318_165447.mat\n"
     ]
    }
   ],
   "source": [
    "import datajoint as dj\n",
    "from element_interface.utils import find_full_path\n",
    "from adamacs.pipeline import session, event, trial\n",
    "from adamacs.ingest.bpod import Bpodfile\n",
    "from adamacs.paths import get_experiment_root_data_dir\n",
    "\n",
    "bpod_path = \"DB_WEZ-8701_2022-03-18_scan9FB2LN5C_sess9FB2LN5C/scan9FB2LN5C_WEZ-8701_StimArenaMaster_20220318_165447.mat\"\n",
    "# bpod_path = \"TR_WEZ-8701_2023-01-13_scan9FG1THFD_sess9FG1TAXY/scan9FG1THFD_WEZ-8701_StimArenaMaster_20230113_172307.mat\"\n",
    "\n",
    "root_dirs = dj.config[\"custom\"][\"exp_root_data_dir\"]\n",
    "bpod_path_full = find_full_path(get_experiment_root_data_dir(),bpod_path)\n",
    "\n",
    "print(f\"Root: {root_dirs}\\nFull: {bpod_path_full}\")"
   ]
  },
  {
   "attachments": {},
   "cell_type": "markdown",
   "id": "4c258e07-6165-4116-bec7-edc764e2170c",
   "metadata": {},
   "source": [
    "### Initial check of tables"
   ]
  },
  {
   "cell_type": "code",
   "execution_count": null,
   "id": "75bb3517-f2f9-47ac-84fe-15c5aa1530e0",
   "metadata": {},
   "outputs": [],
   "source": [
    "# from adamacs.pipeline import session, event, trial\n",
    "\n",
    "# session.Session.delete()\n",
    "\n",
    "\n",
    "# print('Sessions:', len(session.Session()))\n",
    "# print('Trials  :', len(trial.Trial()))\n",
    "# print('Events  :', len(event.Event()))"
   ]
  },
  {
   "cell_type": "code",
   "execution_count": null,
   "id": "a3746a2f",
   "metadata": {},
   "outputs": [],
   "source": [
    "event.EventType.delete()"
   ]
  },
  {
   "cell_type": "code",
   "execution_count": null,
   "id": "a7dac51a",
   "metadata": {},
   "outputs": [],
   "source": [
    "dj.Diagram(behavior)+dj.Diagram(event)+dj.Diagram(trial)"
   ]
  },
  {
   "attachments": {},
   "cell_type": "markdown",
   "id": "c10761a2-0304-4ea3-9af3-bb6981aae83f",
   "metadata": {},
   "source": [
    "## Automated BPod ingestion"
   ]
  },
  {
   "attachments": {},
   "cell_type": "markdown",
   "id": "b44bbdd6-536d-41e5-87b5-1820a631f1bf",
   "metadata": {},
   "source": [
    "The function is designed ask for a confirmation before entered into the schema."
   ]
  },
  {
   "cell_type": "code",
   "execution_count": null,
   "id": "cb20488b",
   "metadata": {},
   "outputs": [],
   "source": [
    "# bpod_path = \"DB_WEZ-8701_2022-03-18_scan9FB2LN5C_sess9FB2LN5C/scan9FB2LN5C_WEZ-8701_StimArenaMaster_20220318_165447.mat\"\n",
    "root_dirs = dj.config[\"custom\"][\"exp_root_data_dir\"]\n",
    "bpod_object = Bpodfile(bpod_path)\n",
    "bpod_object.ingest()\n"
   ]
  },
  {
   "cell_type": "code",
   "execution_count": null,
   "id": "f75f8ab0",
   "metadata": {},
   "outputs": [],
   "source": [
    "subject.Subject()"
   ]
  },
  {
   "attachments": {},
   "cell_type": "markdown",
   "id": "6d2acedb",
   "metadata": {},
   "source": [
    "Check that insertion worked:"
   ]
  },
  {
   "cell_type": "code",
   "execution_count": null,
   "id": "9b074d80",
   "metadata": {},
   "outputs": [],
   "source": [
    "trial.TrialEvent & 'trial_id=0'"
   ]
  },
  {
   "cell_type": "code",
   "execution_count": null,
   "id": "ad2e7079",
   "metadata": {},
   "outputs": [],
   "source": [
    "trial."
   ]
  },
  {
   "cell_type": "code",
   "execution_count": null,
   "id": "21d9722b",
   "metadata": {},
   "outputs": [],
   "source": [
    "event.EventType()"
   ]
  },
  {
   "attachments": {},
   "cell_type": "markdown",
   "id": "3472ae04",
   "metadata": {},
   "source": [
    "We can also interact with bpod objects. For example:"
   ]
  },
  {
   "cell_type": "code",
   "execution_count": null,
   "id": "695cdf7c",
   "metadata": {},
   "outputs": [],
   "source": [
    "bpod_object.trial(1).attributes"
   ]
  },
  {
   "cell_type": "code",
   "execution_count": null,
   "id": "5625ab41",
   "metadata": {},
   "outputs": [],
   "source": [
    "bpod_object.trial_data"
   ]
  },
  {
   "attachments": {},
   "cell_type": "markdown",
   "id": "0d7e7ddf",
   "metadata": {},
   "source": [
    "# Add Harp recording"
   ]
  },
  {
   "cell_type": "code",
   "execution_count": 6,
   "id": "151164c3",
   "metadata": {},
   "outputs": [
    {
     "data": {
      "text/html": [
       "\n",
       "    \n",
       "    <style type=\"text/css\">\n",
       "        .Table{\n",
       "            border-collapse:collapse;\n",
       "        }\n",
       "        .Table th{\n",
       "            background: #A0A0A0; color: #ffffff; padding:4px; border:#f0e0e0 1px solid;\n",
       "            font-weight: normal; font-family: monospace; font-size: 100%;\n",
       "        }\n",
       "        .Table td{\n",
       "            padding:4px; border:#f0e0e0 1px solid; font-size:100%;\n",
       "        }\n",
       "        .Table tr:nth-child(odd){\n",
       "            background: #ffffff;\n",
       "        }\n",
       "        .Table tr:nth-child(even){\n",
       "            background: #f3f1ff;\n",
       "        }\n",
       "        /* Tooltip container */\n",
       "        .djtooltip {\n",
       "        }\n",
       "        /* Tooltip text */\n",
       "        .djtooltip .djtooltiptext {\n",
       "            visibility: hidden;\n",
       "            width: 120px;\n",
       "            background-color: black;\n",
       "            color: #fff;\n",
       "            text-align: center;\n",
       "            padding: 5px 0;\n",
       "            border-radius: 6px;\n",
       "            /* Position the tooltip text - see examples below! */\n",
       "            position: absolute;\n",
       "            z-index: 1;\n",
       "        }\n",
       "        #primary {\n",
       "            font-weight: bold;\n",
       "            color: black;\n",
       "        }\n",
       "        #nonprimary {\n",
       "            font-weight: normal;\n",
       "            color: white;\n",
       "        }\n",
       "\n",
       "        /* Show the tooltip text when you mouse over the tooltip container */\n",
       "        .djtooltip:hover .djtooltiptext {\n",
       "            visibility: visible;\n",
       "        }\n",
       "    </style>\n",
       "    \n",
       "    <b></b>\n",
       "        <div style=\"max-height:1000px;max-width:1500px;overflow:auto;\">\n",
       "        <table border=\"1\" class=\"Table\">\n",
       "            <thead> <tr style=\"text-align: right;\"> <th> <div class=\"djtooltip\">\n",
       "                            <p id=\"primary\">session_id</p>\n",
       "                            <span class=\"djtooltiptext\"></span>\n",
       "                        </div></th><th><div class=\"djtooltip\">\n",
       "                            <p id=\"primary\">scan_id</p>\n",
       "                            <span class=\"djtooltiptext\"></span>\n",
       "                        </div></th><th><div class=\"djtooltip\">\n",
       "                            <p id=\"primary\">harp_device_id</p>\n",
       "                            <span class=\"djtooltiptext\"></span>\n",
       "                        </div> </th> </tr> </thead>\n",
       "            <tbody> <tr>  </tr> </tbody>\n",
       "        </table>\n",
       "        \n",
       "        <p>Total: 0</p></div>\n",
       "        "
      ],
      "text/plain": [
       "*session_id    *scan_id    *harp_device_i\n",
       "+------------+ +---------+ +------------+\n",
       "\n",
       " (Total: 0)"
      ]
     },
     "execution_count": 6,
     "metadata": {},
     "output_type": "execute_result"
    }
   ],
   "source": [
    "from adamacs.pipeline import behavior, event, scan\n",
    "event_recording = event.BehaviorRecording.fetch('KEY')[0]\n",
    "behavior.HarpRecording()"
   ]
  },
  {
   "cell_type": "code",
   "execution_count": 19,
   "id": "1d555bc8",
   "metadata": {},
   "outputs": [
    {
     "ename": "DataJointError",
     "evalue": "fetch1 should only return one tuple. 0 tuples found",
     "output_type": "error",
     "traceback": [
      "\u001b[0;31m---------------------------------------------------------------------------\u001b[0m",
      "\u001b[0;31mDataJointError\u001b[0m                            Traceback (most recent call last)",
      "\u001b[1;32m/home/tobiasr/adamacs/notebooks/09_insert_bpod_harp.ipynb Cell 27\u001b[0m in \u001b[0;36m<cell line: 4>\u001b[0;34m()\u001b[0m\n\u001b[1;32m      <a href='vscode-notebook-cell://ssh-remote%2B172.26.128.53/home/tobiasr/adamacs/notebooks/09_insert_bpod_harp.ipynb#X43sdnNjb2RlLXJlbW90ZQ%3D%3D?line=0'>1</a>\u001b[0m scansi \u001b[39m=\u001b[39m \u001b[39m\"\u001b[39m\u001b[39mscan9FB2LN5C\u001b[39m\u001b[39m\"\u001b[39m\n\u001b[1;32m      <a href='vscode-notebook-cell://ssh-remote%2B172.26.128.53/home/tobiasr/adamacs/notebooks/09_insert_bpod_harp.ipynb#X43sdnNjb2RlLXJlbW90ZQ%3D%3D?line=1'>2</a>\u001b[0m scan_key \u001b[39m=\u001b[39m (scan\u001b[39m.\u001b[39mScan \u001b[39m&\u001b[39m \u001b[39mf\u001b[39m\u001b[39m'\u001b[39m\u001b[39mscan_id = \u001b[39m\u001b[39m\"\u001b[39m\u001b[39m{\u001b[39;00mscansi\u001b[39m}\u001b[39;00m\u001b[39m\"\u001b[39m\u001b[39m'\u001b[39m)\u001b[39m.\u001b[39mfetch(\u001b[39m'\u001b[39m\u001b[39mKEY\u001b[39m\u001b[39m'\u001b[39m)[\u001b[39m0\u001b[39m]\n\u001b[0;32m----> <a href='vscode-notebook-cell://ssh-remote%2B172.26.128.53/home/tobiasr/adamacs/notebooks/09_insert_bpod_harp.ipynb#X43sdnNjb2RlLXJlbW90ZQ%3D%3D?line=3'>4</a>\u001b[0m bpod_path_relative \u001b[39m=\u001b[39m (event\u001b[39m.\u001b[39;49mBehaviorRecording\u001b[39m.\u001b[39;49mFile \u001b[39m&\u001b[39;49m scan_key)\u001b[39m.\u001b[39;49mfetch1(\u001b[39m\"\u001b[39;49m\u001b[39mfilepath\u001b[39;49m\u001b[39m\"\u001b[39;49m)\n\u001b[1;32m      <a href='vscode-notebook-cell://ssh-remote%2B172.26.128.53/home/tobiasr/adamacs/notebooks/09_insert_bpod_harp.ipynb#X43sdnNjb2RlLXJlbW90ZQ%3D%3D?line=4'>5</a>\u001b[0m harp_paths \u001b[39m=\u001b[39m \u001b[39mlist\u001b[39m(find_full_path(\n\u001b[1;32m      <a href='vscode-notebook-cell://ssh-remote%2B172.26.128.53/home/tobiasr/adamacs/notebooks/09_insert_bpod_harp.ipynb#X43sdnNjb2RlLXJlbW90ZQ%3D%3D?line=5'>6</a>\u001b[0m     get_experiment_root_data_dir(), bpod_path_relative\n\u001b[1;32m      <a href='vscode-notebook-cell://ssh-remote%2B172.26.128.53/home/tobiasr/adamacs/notebooks/09_insert_bpod_harp.ipynb#X43sdnNjb2RlLXJlbW90ZQ%3D%3D?line=6'>7</a>\u001b[0m )\u001b[39m.\u001b[39mparent\u001b[39m.\u001b[39mglob(\u001b[39m\"\u001b[39m\u001b[39m*harp*bin\u001b[39m\u001b[39m\"\u001b[39m))\n",
      "File \u001b[0;32m~/miniconda3/envs/dj/lib/python3.8/site-packages/datajoint/fetch.py:352\u001b[0m, in \u001b[0;36mFetch1.__call__\u001b[0;34m(self, squeeze, download_path, *attrs)\u001b[0m\n\u001b[1;32m    348\u001b[0m result \u001b[39m=\u001b[39m \u001b[39mself\u001b[39m\u001b[39m.\u001b[39m_expression\u001b[39m.\u001b[39mproj(\u001b[39m*\u001b[39mattributes)\u001b[39m.\u001b[39mfetch(\n\u001b[1;32m    349\u001b[0m     squeeze\u001b[39m=\u001b[39msqueeze, download_path\u001b[39m=\u001b[39mdownload_path, \u001b[39mformat\u001b[39m\u001b[39m=\u001b[39m\u001b[39m\"\u001b[39m\u001b[39marray\u001b[39m\u001b[39m\"\u001b[39m\n\u001b[1;32m    350\u001b[0m )\n\u001b[1;32m    351\u001b[0m \u001b[39mif\u001b[39;00m \u001b[39mlen\u001b[39m(result) \u001b[39m!=\u001b[39m \u001b[39m1\u001b[39m:\n\u001b[0;32m--> 352\u001b[0m     \u001b[39mraise\u001b[39;00m DataJointError(\n\u001b[1;32m    353\u001b[0m         \u001b[39m\"\u001b[39m\u001b[39mfetch1 should only return one tuple. \u001b[39m\u001b[39m%d\u001b[39;00m\u001b[39m tuples found\u001b[39m\u001b[39m\"\u001b[39m \u001b[39m%\u001b[39m \u001b[39mlen\u001b[39m(result)\n\u001b[1;32m    354\u001b[0m     )\n\u001b[1;32m    355\u001b[0m return_values \u001b[39m=\u001b[39m \u001b[39mtuple\u001b[39m(\n\u001b[1;32m    356\u001b[0m     \u001b[39mnext\u001b[39m(to_dicts(result[\u001b[39mself\u001b[39m\u001b[39m.\u001b[39m_expression\u001b[39m.\u001b[39mprimary_key]))\n\u001b[1;32m    357\u001b[0m     \u001b[39mif\u001b[39;00m is_key(attribute)\n\u001b[1;32m    358\u001b[0m     \u001b[39melse\u001b[39;00m result[attribute][\u001b[39m0\u001b[39m]\n\u001b[1;32m    359\u001b[0m     \u001b[39mfor\u001b[39;00m attribute \u001b[39min\u001b[39;00m attrs\n\u001b[1;32m    360\u001b[0m )\n\u001b[1;32m    361\u001b[0m ret \u001b[39m=\u001b[39m return_values[\u001b[39m0\u001b[39m] \u001b[39mif\u001b[39;00m \u001b[39mlen\u001b[39m(attrs) \u001b[39m==\u001b[39m \u001b[39m1\u001b[39m \u001b[39melse\u001b[39;00m return_values\n",
      "\u001b[0;31mDataJointError\u001b[0m: fetch1 should only return one tuple. 0 tuples found"
     ]
    }
   ],
   "source": [
    "scansi = \"scan9FB2LN5C\"\n",
    "scan_key = (scan.Scan & f'scan_id = \"{scansi}\"').fetch('KEY')[0]\n",
    "\n",
    "bpod_path_relative = (event.BehaviorRecording.File & scan_key).fetch1(\"filepath\")\n",
    "harp_paths = list(find_full_path(\n",
    "    get_experiment_root_data_dir(), bpod_path_relative\n",
    ").parent.glob(\"*harp*bin\"))"
   ]
  },
  {
   "cell_type": "code",
   "execution_count": 21,
   "id": "e049a1ba",
   "metadata": {},
   "outputs": [
    {
     "data": {
      "text/html": [
       "\n",
       "    \n",
       "    <style type=\"text/css\">\n",
       "        .Table{\n",
       "            border-collapse:collapse;\n",
       "        }\n",
       "        .Table th{\n",
       "            background: #A0A0A0; color: #ffffff; padding:4px; border:#f0e0e0 1px solid;\n",
       "            font-weight: normal; font-family: monospace; font-size: 100%;\n",
       "        }\n",
       "        .Table td{\n",
       "            padding:4px; border:#f0e0e0 1px solid; font-size:100%;\n",
       "        }\n",
       "        .Table tr:nth-child(odd){\n",
       "            background: #ffffff;\n",
       "        }\n",
       "        .Table tr:nth-child(even){\n",
       "            background: #f3f1ff;\n",
       "        }\n",
       "        /* Tooltip container */\n",
       "        .djtooltip {\n",
       "        }\n",
       "        /* Tooltip text */\n",
       "        .djtooltip .djtooltiptext {\n",
       "            visibility: hidden;\n",
       "            width: 120px;\n",
       "            background-color: black;\n",
       "            color: #fff;\n",
       "            text-align: center;\n",
       "            padding: 5px 0;\n",
       "            border-radius: 6px;\n",
       "            /* Position the tooltip text - see examples below! */\n",
       "            position: absolute;\n",
       "            z-index: 1;\n",
       "        }\n",
       "        #primary {\n",
       "            font-weight: bold;\n",
       "            color: black;\n",
       "        }\n",
       "        #nonprimary {\n",
       "            font-weight: normal;\n",
       "            color: white;\n",
       "        }\n",
       "\n",
       "        /* Show the tooltip text when you mouse over the tooltip container */\n",
       "        .djtooltip:hover .djtooltiptext {\n",
       "            visibility: visible;\n",
       "        }\n",
       "    </style>\n",
       "    \n",
       "    <b></b>\n",
       "        <div style=\"max-height:1000px;max-width:1500px;overflow:auto;\">\n",
       "        <table border=\"1\" class=\"Table\">\n",
       "            <thead> <tr style=\"text-align: right;\"> <th> <div class=\"djtooltip\">\n",
       "                            <p id=\"primary\">session_id</p>\n",
       "                            <span class=\"djtooltiptext\"></span>\n",
       "                        </div></th><th><div class=\"djtooltip\">\n",
       "                            <p id=\"primary\">scan_id</p>\n",
       "                            <span class=\"djtooltiptext\"></span>\n",
       "                        </div></th><th><div class=\"djtooltip\">\n",
       "                            <p id=\"primary\">filepath</p>\n",
       "                            <span class=\"djtooltiptext\"></span>\n",
       "                        </div> </th> </tr> </thead>\n",
       "            <tbody> <tr> <td>sess9FHS7Y22</td>\n",
       "<td>scan9FHS7Y22</td>\n",
       "<td>/datajoint-data/data/tobiasr/NK_ROS-1485_2023-04-28_scan9FHS7Y22_sess9FHS7Y22/scan9FHS7Y22_NK_ROS-1485_2024.h5</td></tr><tr><td>sess9FHS7Y22</td>\n",
       "<td>scan9FHS845A</td>\n",
       "<td>/datajoint-data/data/tobiasr/NK_ROS-1485_2023-04-28_scan9FHS845A_sess9FHS7Y22/scan9FHS845A_NK_ROS-1485_2025.h5</td></tr><tr><td>sess9FI3KWP3</td>\n",
       "<td>scan9FI3KWP3</td>\n",
       "<td>/datajoint-data/data/tobiasr/RN_OPI-1681_2023-05-17_scan9FI3KWP3_sess9FI3KWP3/scan9FI3KWP3_RN_OPI-1681_2025.h5</td></tr><tr><td>sess9FI3KWP3</td>\n",
       "<td>scan9FI3L5PZ</td>\n",
       "<td>/datajoint-data/data/tobiasr/RN_OPI-1681_2023-05-17_scan9FI3L5PZ_sess9FI3KWP3/scan9FI3L5PZ_RN_OPI-1681_2026.h5</td></tr><tr><td>sess9FI3LVI8</td>\n",
       "<td>scan9FI3LVI8</td>\n",
       "<td>/datajoint-data/data/tobiasr/LE_ROS-1518_2023-05-17_scan9FI3LVI8_sess9FI3LVI8/scan9FI3LVI8_LE_ROS-1518_2030.h5</td></tr><tr><td>sess9FI3MC3X</td>\n",
       "<td>scan9FI3MC3X</td>\n",
       "<td>/datajoint-data/data/tobiasr/LE_ROS-1518_2023-05-17_scan9FI3MC3X_sess9FI3MC3X/scan9FI3MC3X_LE_ROS-1518_2034.h5</td> </tr> </tbody>\n",
       "        </table>\n",
       "        \n",
       "        <p>Total: 6</p></div>\n",
       "        "
      ],
      "text/plain": [
       "*session_id    *scan_id       *filepath     \n",
       "+------------+ +------------+ +------------+\n",
       "sess9FHS7Y22   scan9FHS7Y22   /datajoint-dat\n",
       "sess9FHS7Y22   scan9FHS845A   /datajoint-dat\n",
       "sess9FI3KWP3   scan9FI3KWP3   /datajoint-dat\n",
       "sess9FI3KWP3   scan9FI3L5PZ   /datajoint-dat\n",
       "sess9FI3LVI8   scan9FI3LVI8   /datajoint-dat\n",
       "sess9FI3MC3X   scan9FI3MC3X   /datajoint-dat\n",
       " (Total: 6)"
      ]
     },
     "execution_count": 21,
     "metadata": {},
     "output_type": "execute_result"
    }
   ],
   "source": [
    "event.BehaviorRecording.File()"
   ]
  },
  {
   "cell_type": "code",
   "execution_count": 14,
   "id": "31e68101",
   "metadata": {},
   "outputs": [
    {
     "data": {
      "text/plain": [
       "'/datajoint-data/data/tobiasr/LE_ROS-1518_2023-05-17_scan9FI3LVI8_sess9FI3LVI8/scan9FI3LVI8_LE_ROS-1518_2030.h5'"
      ]
     },
     "execution_count": 14,
     "metadata": {},
     "output_type": "execute_result"
    }
   ],
   "source": [
    "bpod_path_relative"
   ]
  },
  {
   "cell_type": "code",
   "execution_count": 9,
   "id": "f276348a",
   "metadata": {},
   "outputs": [
    {
     "data": {
      "text/plain": [
       "'/datajoint-data/data/tobiasr/LE_ROS-1518_2023-05-17_scan9FI3LVI8_sess9FI3LVI8/scan9FI3LVI8_LE_ROS-1518_2030.h5'"
      ]
     },
     "execution_count": 9,
     "metadata": {},
     "output_type": "execute_result"
    }
   ],
   "source": [
    "bpod_path_relative "
   ]
  },
  {
   "cell_type": "code",
   "execution_count": null,
   "id": "5560f824",
   "metadata": {},
   "outputs": [],
   "source": [
    "behavior.HarpRecording.populate()"
   ]
  },
  {
   "cell_type": "code",
   "execution_count": null,
   "id": "2ecff3b0",
   "metadata": {},
   "outputs": [],
   "source": [
    "behavior.HarpRecording.Channel()"
   ]
  },
  {
   "cell_type": "code",
   "execution_count": null,
   "id": "32fa97fd",
   "metadata": {},
   "outputs": [],
   "source": []
  }
 ],
 "metadata": {
  "jupytext": {
   "formats": "ipynb,py"
  },
  "kernelspec": {
   "display_name": "datajoint",
   "language": "python",
   "name": "python3"
  },
  "language_info": {
   "codemirror_mode": {
    "name": "ipython",
    "version": 3
   },
   "file_extension": ".py",
   "mimetype": "text/x-python",
   "name": "python",
   "nbconvert_exporter": "python",
   "pygments_lexer": "ipython3",
   "version": "3.8.16"
  },
  "vscode": {
   "interpreter": {
    "hash": "b6b88a8194cd92b549912c5fccf4f99c3c2f8b37389322b86781a2268700b256"
   }
  }
 },
 "nbformat": 4,
 "nbformat_minor": 5
}
