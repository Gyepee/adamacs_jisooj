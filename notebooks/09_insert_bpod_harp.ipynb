{
 "cells": [
  {
   "attachments": {},
   "cell_type": "markdown",
   "id": "d1aa3e29-e39c-44a9-b29d-d37b73aab85d",
   "metadata": {},
   "source": [
    "# File Ingestion"
   ]
  },
  {
   "attachments": {},
   "cell_type": "markdown",
   "id": "ed2651bb-ce83-4b87-a268-98169a69309d",
   "metadata": {},
   "source": [
    "## Setup"
   ]
  },
  {
   "attachments": {},
   "cell_type": "markdown",
   "id": "6e95a682-afac-4834-b6e5-0dd4886467f9",
   "metadata": {},
   "source": [
    "Using local config file (see [01_pipeline](./01_pipeline.ipynb))"
   ]
  },
  {
   "cell_type": "code",
   "execution_count": 1,
   "id": "016819d5-3623-4dce-9e8c-0410579ac69b",
   "metadata": {},
   "outputs": [],
   "source": [
    "# import os\n",
    "# import datajoint as dj;\n",
    "# # change to the upper level folder to detect dj_local_conf.json\n",
    "# if os.path.basename(os.getcwd())=='notebooks': os.chdir('..')\n",
    "# assert os.path.basename(os.getcwd())=='adamacs', (\"Please move to the main directory\")\n",
    "# from adamacs.pipeline import subject, behavior, session, event, trial"
   ]
  },
  {
   "cell_type": "code",
   "execution_count": 2,
   "id": "14499d7b",
   "metadata": {},
   "outputs": [
    {
     "name": "stderr",
     "output_type": "stream",
     "text": [
      "[2023-07-19 10:16:39,097][INFO]: Connecting tobiasr@172.26.128.53:3306\n",
      "[2023-07-19 10:16:39,139][INFO]: Connected tobiasr@172.26.128.53:3306\n"
     ]
    }
   ],
   "source": [
    "import os\n",
    "# change to the upper level folder to detect dj_local_conf.json\n",
    "if os.path.basename(os.getcwd())=='notebooks': os.chdir('..')\n",
    "assert os.path.basename(os.getcwd())=='adamacs', (\"Please move to the main directory\")\n",
    "import datajoint as dj; dj.conn()\n",
    "from adamacs.pipeline import subject, behavior, session, event, trial\n"
   ]
  },
  {
   "attachments": {},
   "cell_type": "markdown",
   "id": "5dd49a4c-d391-4f0e-bfe9-0930ed744e93",
   "metadata": {},
   "source": [
    "Manual entry"
   ]
  },
  {
   "attachments": {},
   "cell_type": "markdown",
   "id": "10119159",
   "metadata": {},
   "source": [
    "### BPod Path Setup"
   ]
  },
  {
   "attachments": {},
   "cell_type": "markdown",
   "id": "63589f12",
   "metadata": {},
   "source": [
    "Your `dj.config` file should have a section for your BPod root directory under `custom`: `exp_root_data_dir`. This is a list of one or more paths where the ingestion tool will look for the relative paths it is given."
   ]
  },
  {
   "cell_type": "code",
   "execution_count": 3,
   "id": "e25b9d62",
   "metadata": {},
   "outputs": [
    {
     "name": "stdout",
     "output_type": "stream",
     "text": [
      "Root: ['/datajoint-data/data/tobiasr']\n",
      "Full: /datajoint-data/data/tobiasr/DB_WEZ-8701_2022-03-18_scan9FB2LN5C_sess9FB2LN5C/scan9FB2LN5C_WEZ-8701_StimArenaMaster_20220318_165447.mat\n"
     ]
    }
   ],
   "source": [
    "import datajoint as dj\n",
    "from element_interface.utils import find_full_path\n",
    "from adamacs.pipeline import session, event, trial\n",
    "from adamacs.ingest.bpod import Bpodfile\n",
    "from adamacs.paths import get_experiment_root_data_dir\n",
    "\n",
    "bpod_path = \"DB_WEZ-8701_2022-03-18_scan9FB2LN5C_sess9FB2LN5C/scan9FB2LN5C_WEZ-8701_StimArenaMaster_20220318_165447.mat\"\n",
    "# bpod_path = \"TR_WEZ-8701_2023-01-13_scan9FG1THFD_sess9FG1TAXY/scan9FG1THFD_WEZ-8701_StimArenaMaster_20230113_172307.mat\"\n",
    "\n",
    "root_dirs = dj.config[\"custom\"][\"exp_root_data_dir\"]\n",
    "bpod_path_full = find_full_path(get_experiment_root_data_dir(),bpod_path)\n",
    "\n",
    "print(f\"Root: {root_dirs}\\nFull: {bpod_path_full}\")"
   ]
  },
  {
   "attachments": {},
   "cell_type": "markdown",
   "id": "4c258e07-6165-4116-bec7-edc764e2170c",
   "metadata": {},
   "source": [
    "### Initial check of tables"
   ]
  },
  {
   "cell_type": "code",
   "execution_count": 4,
   "id": "75bb3517-f2f9-47ac-84fe-15c5aa1530e0",
   "metadata": {},
   "outputs": [],
   "source": [
    "# from adamacs.pipeline import session, event, trial\n",
    "\n",
    "# session.Session.delete()\n",
    "\n",
    "\n",
    "# print('Sessions:', len(session.Session()))\n",
    "# print('Trials  :', len(trial.Trial()))\n",
    "# print('Events  :', len(event.Event()))"
   ]
  },
  {
   "cell_type": "code",
   "execution_count": 6,
   "id": "a3746a2f",
   "metadata": {},
   "outputs": [],
   "source": [
    "# event.EventType.delete()"
   ]
  },
  {
   "cell_type": "code",
   "execution_count": 8,
   "id": "4bfeadab",
   "metadata": {},
   "outputs": [
    {
     "data": {
      "text/html": [
       "\n",
       "    \n",
       "    <style type=\"text/css\">\n",
       "        .Table{\n",
       "            border-collapse:collapse;\n",
       "        }\n",
       "        .Table th{\n",
       "            background: #A0A0A0; color: #ffffff; padding:4px; border:#f0e0e0 1px solid;\n",
       "            font-weight: normal; font-family: monospace; font-size: 100%;\n",
       "        }\n",
       "        .Table td{\n",
       "            padding:4px; border:#f0e0e0 1px solid; font-size:100%;\n",
       "        }\n",
       "        .Table tr:nth-child(odd){\n",
       "            background: #ffffff;\n",
       "            color: #000000;\n",
       "        }\n",
       "        .Table tr:nth-child(even){\n",
       "            background: #f3f1ff;\n",
       "            color: #000000;\n",
       "        }\n",
       "        /* Tooltip container */\n",
       "        .djtooltip {\n",
       "        }\n",
       "        /* Tooltip text */\n",
       "        .djtooltip .djtooltiptext {\n",
       "            visibility: hidden;\n",
       "            width: 120px;\n",
       "            background-color: black;\n",
       "            color: #fff;\n",
       "            text-align: center;\n",
       "            padding: 5px 0;\n",
       "            border-radius: 6px;\n",
       "            /* Position the tooltip text - see examples below! */\n",
       "            position: absolute;\n",
       "            z-index: 1;\n",
       "        }\n",
       "        #primary {\n",
       "            font-weight: bold;\n",
       "            color: black;\n",
       "        }\n",
       "        #nonprimary {\n",
       "            font-weight: normal;\n",
       "            color: white;\n",
       "        }\n",
       "\n",
       "        /* Show the tooltip text when you mouse over the tooltip container */\n",
       "        .djtooltip:hover .djtooltiptext {\n",
       "            visibility: visible;\n",
       "        }\n",
       "    </style>\n",
       "    \n",
       "    <b></b>\n",
       "        <div style=\"max-height:1000px;max-width:1500px;overflow:auto;\">\n",
       "        <table border=\"1\" class=\"Table\">\n",
       "            <thead> <tr style=\"text-align: right;\"> <th> <div class=\"djtooltip\">\n",
       "                            <p id=\"primary\">session_id</p>\n",
       "                            <span class=\"djtooltiptext\"></span>\n",
       "                        </div></th><th><div class=\"djtooltip\">\n",
       "                            <p id=\"primary\">scan_id</p>\n",
       "                            <span class=\"djtooltiptext\"></span>\n",
       "                        </div></th><th><div class=\"djtooltip\">\n",
       "                            <p id=\"nonprimary\">recording_start_time</p>\n",
       "                            <span class=\"djtooltiptext\"></span>\n",
       "                        </div></th><th><div class=\"djtooltip\">\n",
       "                            <p id=\"nonprimary\">recording_duration</p>\n",
       "                            <span class=\"djtooltiptext\"></span>\n",
       "                        </div></th><th><div class=\"djtooltip\">\n",
       "                            <p id=\"nonprimary\">recording_notes</p>\n",
       "                            <span class=\"djtooltiptext\"></span>\n",
       "                        </div> </th> </tr> </thead>\n",
       "            <tbody> <tr> <td>sess9FJ4IJOQ</td>\n",
       "<td>scan9FJ4IJOQ</td>\n",
       "<td>2023-07-18 15:25:56</td>\n",
       "<td>860.0</td>\n",
       "<td></td> </tr> </tbody>\n",
       "        </table>\n",
       "        \n",
       "        <p>Total: 1</p></div>\n",
       "        "
      ],
      "text/plain": [
       "*session_id    *scan_id       recording_star recording_dura recording_note\n",
       "+------------+ +------------+ +------------+ +------------+ +------------+\n",
       "sess9FJ4IJOQ   scan9FJ4IJOQ   2023-07-18 15: 860.0                        \n",
       " (Total: 1)"
      ]
     },
     "execution_count": 8,
     "metadata": {},
     "output_type": "execute_result"
    }
   ],
   "source": [
    "event.BehaviorRecording"
   ]
  },
  {
   "cell_type": "code",
   "execution_count": 7,
   "id": "a7dac51a",
   "metadata": {},
   "outputs": [
    {
     "data": {
      "image/svg+xml": [
       "<svg xmlns=\"http://www.w3.org/2000/svg\" xmlns:xlink=\"http://www.w3.org/1999/xlink\" width=\"938pt\" height=\"185pt\" viewBox=\"0.00 0.00 937.50 185.00\">\n",
       "<g id=\"graph0\" class=\"graph\" transform=\"scale(1 1) rotate(0) translate(4 181)\">\n",
       "<polygon fill=\"white\" stroke=\"transparent\" points=\"-4,4 -4,-181 933.5,-181 933.5,4 -4,4\"/>\n",
       "<!-- 0 -->\n",
       "<g id=\"node1\" class=\"node\">\n",
       "<title>0</title>\n",
       "<ellipse fill=\"#ff8800\" fill-opacity=\"0.501961\" stroke=\"#ff8800\" stroke-opacity=\"0.501961\" cx=\"48\" cy=\"-88.5\" rx=\"2\" ry=\"2\"/>\n",
       "<text text-anchor=\"middle\" x=\"48\" y=\"-88.2\" font-family=\"arial\" font-size=\"1.00\" fill=\"#ff8800\" fill-opacity=\"0.501961\">0</text>\n",
       "</g>\n",
       "<!-- event.AlignmentEvent -->\n",
       "<g id=\"node6\" class=\"node\">\n",
       "<title>event.AlignmentEvent</title>\n",
       "<g id=\"a_node6\"><a xlink:title=\"alignment_name       \r------------------------------\ralignment_description=&quot;&quot; \r→ event.EventType.proj(alignment_event_type=&quot;event_type&quot;)\ralignment_time_shift \r→ event.EventType.proj(start_event_type=&quot;event_type&quot;)\rstart_time_shift     \r→ event.EventType.proj(end_event_type=&quot;event_type&quot;)\rend_time_shift       \r\">\n",
       "<polygon fill=\"#00ff00\" fill-opacity=\"0.188235\" stroke=\"#00ff00\" stroke-opacity=\"0.188235\" points=\"134,-35 0,-35 0,0 134,0 134,-35\"/>\n",
       "<text text-anchor=\"start\" x=\"8\" y=\"-15.4\" font-family=\"arial\" text-decoration=\"underline\" font-size=\"12.00\" fill=\"darkgreen\">event.AlignmentEvent</text>\n",
       "</a>\n",
       "</g>\n",
       "</g>\n",
       "<!-- 0&#45;&gt;event.AlignmentEvent -->\n",
       "<g id=\"edge1\" class=\"edge\">\n",
       "<title>0-&gt;event.AlignmentEvent</title>\n",
       "<path fill=\"none\" stroke=\"#000000\" stroke-width=\"0.75\" stroke-dasharray=\"5,2\" stroke-opacity=\"0.250980\" d=\"M48.33,-86.3C49.98,-80.33 57.42,-53.29 62.4,-35.22\"/>\n",
       "</g>\n",
       "<!-- 1 -->\n",
       "<g id=\"node2\" class=\"node\">\n",
       "<title>1</title>\n",
       "<ellipse fill=\"#ff8800\" fill-opacity=\"0.501961\" stroke=\"#ff8800\" stroke-opacity=\"0.501961\" cx=\"83\" cy=\"-88.5\" rx=\"2\" ry=\"2\"/>\n",
       "<text text-anchor=\"middle\" x=\"83\" y=\"-88.2\" font-family=\"arial\" font-size=\"1.00\" fill=\"#ff8800\" fill-opacity=\"0.501961\">1</text>\n",
       "</g>\n",
       "<!-- 1&#45;&gt;event.AlignmentEvent -->\n",
       "<g id=\"edge2\" class=\"edge\">\n",
       "<title>1-&gt;event.AlignmentEvent</title>\n",
       "<path fill=\"none\" stroke=\"#000000\" stroke-width=\"0.75\" stroke-dasharray=\"5,2\" stroke-opacity=\"0.250980\" d=\"M82.72,-86.3C81.34,-80.33 75.07,-53.29 70.88,-35.22\"/>\n",
       "</g>\n",
       "<!-- 2 -->\n",
       "<g id=\"node3\" class=\"node\">\n",
       "<title>2</title>\n",
       "<ellipse fill=\"#ff8800\" fill-opacity=\"0.501961\" stroke=\"#ff8800\" stroke-opacity=\"0.501961\" cx=\"118\" cy=\"-88.5\" rx=\"2\" ry=\"2\"/>\n",
       "<text text-anchor=\"middle\" x=\"118\" y=\"-88.2\" font-family=\"arial\" font-size=\"1.00\" fill=\"#ff8800\" fill-opacity=\"0.501961\">2</text>\n",
       "</g>\n",
       "<!-- 2&#45;&gt;event.AlignmentEvent -->\n",
       "<g id=\"edge3\" class=\"edge\">\n",
       "<title>2-&gt;event.AlignmentEvent</title>\n",
       "<path fill=\"none\" stroke=\"#000000\" stroke-width=\"0.75\" stroke-dasharray=\"5,2\" stroke-opacity=\"0.250980\" d=\"M117.28,-86.52C113.21,-81.02 92.83,-53.45 79.3,-35.14\"/>\n",
       "</g>\n",
       "<!-- event.BehaviorRecording -->\n",
       "<g id=\"node4\" class=\"node\">\n",
       "<title>event.BehaviorRecording</title>\n",
       "<g id=\"a_node4\"><a xlink:title=\"→ session.Session\r→ event.scan.Scan\r------------------------------\rrecording_start_time=null \rrecording_duration=null \rrecording_notes=&quot;&quot;   \r\">\n",
       "<polygon fill=\"#00ff00\" fill-opacity=\"0.188235\" stroke=\"#00ff00\" stroke-opacity=\"0.188235\" points=\"730,-177 578,-177 578,-142 730,-142 730,-177\"/>\n",
       "<text text-anchor=\"middle\" x=\"654\" y=\"-156.4\" font-family=\"arial\" font-size=\"12.00\" fill=\"darkgreen\">event.BehaviorRecording</text>\n",
       "</a>\n",
       "</g>\n",
       "</g>\n",
       "<!-- event.BehaviorRecording.File -->\n",
       "<g id=\"node5\" class=\"node\">\n",
       "<title>event.BehaviorRecording.File</title>\n",
       "<g id=\"a_node5\"><a xlink:title=\"→ event.BehaviorRecording\rfilepath             \r\">\n",
       "<polygon fill=\"transparent\" stroke=\"transparent\" points=\"726,-98 582,-98 582,-79 726,-79 726,-98\"/>\n",
       "<text text-anchor=\"start\" x=\"590\" y=\"-87\" font-family=\"arial\" text-decoration=\"underline\" font-size=\"10.00\">event.BehaviorRecording.File</text>\n",
       "</a>\n",
       "</g>\n",
       "</g>\n",
       "<!-- event.BehaviorRecording&#45;&gt;event.BehaviorRecording.File -->\n",
       "<g id=\"edge4\" class=\"edge\">\n",
       "<title>event.BehaviorRecording-&gt;event.BehaviorRecording.File</title>\n",
       "<path fill=\"none\" stroke=\"#000000\" stroke-width=\"0.75\" stroke-opacity=\"0.250980\" d=\"M654,-141.8C654,-128.08 654,-109.19 654,-98.27\"/>\n",
       "</g>\n",
       "<!-- trial.Block -->\n",
       "<g id=\"node8\" class=\"node\">\n",
       "<title>trial.Block</title>\n",
       "<g id=\"a_node8\"><a xlink:title=\"→ event.BehaviorRecording\rblock_id             \r------------------------------\rblock_start_time     \rblock_stop_time      \r\">\n",
       "<ellipse fill=\"#00007f\" fill-opacity=\"0.250980\" stroke=\"#00007f\" stroke-opacity=\"0.250980\" cx=\"521\" cy=\"-88.5\" rx=\"43.25\" ry=\"17.5\"/>\n",
       "<text text-anchor=\"start\" x=\"494.5\" y=\"-86.4\" font-family=\"arial\" text-decoration=\"underline\" font-size=\"12.00\" fill=\"#00007f\" fill-opacity=\"0.627451\">trial.Block</text>\n",
       "</a>\n",
       "</g>\n",
       "</g>\n",
       "<!-- event.BehaviorRecording&#45;&gt;trial.Block -->\n",
       "<g id=\"edge5\" class=\"edge\">\n",
       "<title>event.BehaviorRecording-&gt;trial.Block</title>\n",
       "<path fill=\"none\" stroke=\"#000000\" stroke-width=\"0.75\" stroke-opacity=\"0.250980\" d=\"M622.14,-141.97C598.93,-129.93 567.92,-113.84 546.37,-102.66\"/>\n",
       "</g>\n",
       "<!-- behavior.HarpRecording -->\n",
       "<g id=\"node11\" class=\"node\">\n",
       "<title>behavior.HarpRecording</title>\n",
       "<g id=\"a_node11\"><a xlink:title=\"→ event.BehaviorRecording\r→ behavior.HarpDevice\r\">\n",
       "<ellipse fill=\"#00007f\" fill-opacity=\"0.250980\" stroke=\"#00007f\" stroke-opacity=\"0.250980\" cx=\"837\" cy=\"-88.5\" rx=\"92.5\" ry=\"17.5\"/>\n",
       "<text text-anchor=\"middle\" x=\"837\" y=\"-85.4\" font-family=\"arial\" font-size=\"12.00\" fill=\"#00007f\" fill-opacity=\"0.627451\">behavior.HarpRecording</text>\n",
       "</a>\n",
       "</g>\n",
       "</g>\n",
       "<!-- event.BehaviorRecording&#45;&gt;behavior.HarpRecording -->\n",
       "<g id=\"edge6\" class=\"edge\">\n",
       "<title>event.BehaviorRecording-&gt;behavior.HarpRecording</title>\n",
       "<path fill=\"none\" stroke=\"#000000\" stroke-width=\"0.75\" stroke-opacity=\"0.250980\" d=\"M697.83,-141.97C728.18,-130.53 768.23,-115.43 797.58,-104.36\"/>\n",
       "</g>\n",
       "<!-- event.Event -->\n",
       "<g id=\"node15\" class=\"node\">\n",
       "<title>event.Event</title>\n",
       "<g id=\"a_node15\"><a xlink:title=\"→ event.BehaviorRecording\r→ event.EventType\revent_start_time     \r------------------------------\revent_end_time=null  \r\">\n",
       "<ellipse fill=\"#00007f\" fill-opacity=\"0.250980\" stroke=\"#00007f\" stroke-opacity=\"0.250980\" cx=\"211\" cy=\"-88.5\" rx=\"50\" ry=\"17.5\"/>\n",
       "<text text-anchor=\"start\" x=\"179\" y=\"-86.4\" font-family=\"arial\" text-decoration=\"underline\" font-size=\"12.00\" fill=\"#00007f\" fill-opacity=\"0.627451\">event.Event</text>\n",
       "</a>\n",
       "</g>\n",
       "</g>\n",
       "<!-- event.BehaviorRecording&#45;&gt;event.Event -->\n",
       "<g id=\"edge7\" class=\"edge\">\n",
       "<title>event.BehaviorRecording-&gt;event.Event</title>\n",
       "<path fill=\"none\" stroke=\"#000000\" stroke-width=\"0.75\" stroke-opacity=\"0.250980\" d=\"M577.83,-149.22C503.43,-139.78 387.09,-124 287,-106 275.44,-103.92 262.96,-101.35 251.52,-98.86\"/>\n",
       "</g>\n",
       "<!-- trial.Trial -->\n",
       "<g id=\"node18\" class=\"node\">\n",
       "<title>trial.Trial</title>\n",
       "<g id=\"a_node18\"><a xlink:title=\"→ event.BehaviorRecording\rtrial_id             \r------------------------------\r→ trial.TrialType\rtrial_start_time     \rtrial_stop_time      \r\">\n",
       "<ellipse fill=\"#00007f\" fill-opacity=\"0.250980\" stroke=\"#00007f\" stroke-opacity=\"0.250980\" cx=\"335\" cy=\"-88.5\" rx=\"39.25\" ry=\"17.5\"/>\n",
       "<text text-anchor=\"start\" x=\"311.5\" y=\"-86.4\" font-family=\"arial\" text-decoration=\"underline\" font-size=\"12.00\" fill=\"#00007f\" fill-opacity=\"0.627451\">trial.Trial</text>\n",
       "</a>\n",
       "</g>\n",
       "</g>\n",
       "<!-- event.BehaviorRecording&#45;&gt;trial.Trial -->\n",
       "<g id=\"edge8\" class=\"edge\">\n",
       "<title>event.BehaviorRecording-&gt;trial.Trial</title>\n",
       "<path fill=\"none\" stroke=\"#000000\" stroke-width=\"0.75\" stroke-opacity=\"0.250980\" d=\"M578,-142.06C512.02,-127.79 419.51,-107.78 369.82,-97.03\"/>\n",
       "</g>\n",
       "<!-- behavior.HarpRecording.Channel -->\n",
       "<g id=\"node7\" class=\"node\">\n",
       "<title>behavior.HarpRecording.Channel</title>\n",
       "<g id=\"a_node7\"><a xlink:title=\"→ behavior.HarpRecording\rchannel_name         \r------------------------------\rdata=null            \rtime=null            \r\">\n",
       "<polygon fill=\"transparent\" stroke=\"transparent\" points=\"916,-27 758,-27 758,-8 916,-8 916,-27\"/>\n",
       "<text text-anchor=\"start\" x=\"766\" y=\"-16\" font-family=\"arial\" text-decoration=\"underline\" font-size=\"10.00\">behavior.HarpRecording.Channel</text>\n",
       "</a>\n",
       "</g>\n",
       "</g>\n",
       "<!-- trial.BlockTrial -->\n",
       "<g id=\"node9\" class=\"node\">\n",
       "<title>trial.BlockTrial</title>\n",
       "<g id=\"a_node9\"><a xlink:title=\"→ trial.Block\r→ trial.Trial\r\">\n",
       "<ellipse fill=\"#00007f\" fill-opacity=\"0.250980\" stroke=\"#00007f\" stroke-opacity=\"0.250980\" cx=\"458\" cy=\"-17.5\" rx=\"58.25\" ry=\"17.5\"/>\n",
       "<text text-anchor=\"middle\" x=\"458\" y=\"-14.4\" font-family=\"arial\" font-size=\"12.00\" fill=\"#00007f\" fill-opacity=\"0.627451\">trial.BlockTrial</text>\n",
       "</a>\n",
       "</g>\n",
       "</g>\n",
       "<!-- trial.Block&#45;&gt;trial.BlockTrial -->\n",
       "<g id=\"edge9\" class=\"edge\">\n",
       "<title>trial.Block-&gt;trial.BlockTrial</title>\n",
       "<path fill=\"none\" stroke=\"#000000\" stroke-width=\"0.75\" stroke-opacity=\"0.250980\" d=\"M506.7,-71.84C496.54,-60.71 482.93,-45.8 472.68,-34.57\"/>\n",
       "</g>\n",
       "<!-- trial.Block.Attribute -->\n",
       "<g id=\"node13\" class=\"node\">\n",
       "<title>trial.Block.Attribute</title>\n",
       "<g id=\"a_node13\"><a xlink:title=\"→ trial.Block\rattribute_name       \r------------------------------\rattribute_value      \r\">\n",
       "<polygon fill=\"transparent\" stroke=\"transparent\" points=\"634,-27 534,-27 534,-8 634,-8 634,-27\"/>\n",
       "<text text-anchor=\"start\" x=\"542\" y=\"-16\" font-family=\"arial\" text-decoration=\"underline\" font-size=\"10.00\">trial.Block.Attribute</text>\n",
       "</a>\n",
       "</g>\n",
       "</g>\n",
       "<!-- trial.Block&#45;&gt;trial.Block.Attribute -->\n",
       "<g id=\"edge10\" class=\"edge\">\n",
       "<title>trial.Block-&gt;trial.Block.Attribute</title>\n",
       "<path fill=\"none\" stroke=\"#000000\" stroke-width=\"0.75\" stroke-opacity=\"0.250980\" d=\"M535.3,-71.84C547.93,-58.01 565.89,-38.34 576.1,-27.15\"/>\n",
       "</g>\n",
       "<!-- trial.TrialType -->\n",
       "<g id=\"node10\" class=\"node\">\n",
       "<title>trial.TrialType</title>\n",
       "<g id=\"a_node10\"><a xlink:title=\"trial_type           \r------------------------------\rtrial_type_description=&quot;&quot; \r\">\n",
       "<polygon fill=\"#000000\" fill-opacity=\"0.125490\" stroke=\"transparent\" points=\"373,-177 297,-177 297,-142 373,-142 373,-177\"/>\n",
       "<text text-anchor=\"start\" x=\"305\" y=\"-158\" font-family=\"arial\" text-decoration=\"underline\" font-size=\"10.00\">trial.TrialType</text>\n",
       "</a>\n",
       "</g>\n",
       "</g>\n",
       "<!-- trial.TrialType&#45;&gt;trial.Trial -->\n",
       "<g id=\"edge11\" class=\"edge\">\n",
       "<title>trial.TrialType-&gt;trial.Trial</title>\n",
       "<path fill=\"none\" stroke=\"#000000\" stroke-width=\"0.75\" stroke-dasharray=\"5,2\" stroke-opacity=\"0.250980\" d=\"M335,-141.8C335,-130.95 335,-116.87 335,-106.05\"/>\n",
       "</g>\n",
       "<!-- behavior.HarpRecording&#45;&gt;behavior.HarpRecording.Channel -->\n",
       "<g id=\"edge12\" class=\"edge\">\n",
       "<title>behavior.HarpRecording-&gt;behavior.HarpRecording.Channel</title>\n",
       "<path fill=\"none\" stroke=\"#000000\" stroke-width=\"0.75\" stroke-opacity=\"0.250980\" d=\"M837,-70.8C837,-57.08 837,-38.19 837,-27.27\"/>\n",
       "</g>\n",
       "<!-- event.EventType -->\n",
       "<g id=\"node12\" class=\"node\">\n",
       "<title>event.EventType</title>\n",
       "<g id=\"a_node12\"><a xlink:title=\"event_type           \r------------------------------\revent_type_description=&quot;&quot; \r\">\n",
       "<polygon fill=\"#000000\" fill-opacity=\"0.125490\" stroke=\"transparent\" points=\"146.5,-177 55.5,-177 55.5,-142 146.5,-142 146.5,-177\"/>\n",
       "<text text-anchor=\"start\" x=\"63.5\" y=\"-158\" font-family=\"arial\" text-decoration=\"underline\" font-size=\"10.00\">event.EventType</text>\n",
       "</a>\n",
       "</g>\n",
       "</g>\n",
       "<!-- event.EventType&#45;&gt;0 -->\n",
       "<g id=\"edge13\" class=\"edge\">\n",
       "<title>event.EventType-&gt;0</title>\n",
       "<path fill=\"none\" stroke=\"#000000\" stroke-width=\"0.75\" stroke-dasharray=\"5,2\" stroke-opacity=\"0.250980\" d=\"M88.17,-141.8C74.45,-123.93 53.98,-97.29 49.08,-90.91\"/>\n",
       "</g>\n",
       "<!-- event.EventType&#45;&gt;1 -->\n",
       "<g id=\"edge14\" class=\"edge\">\n",
       "<title>event.EventType-&gt;1</title>\n",
       "<path fill=\"none\" stroke=\"#000000\" stroke-width=\"0.75\" stroke-dasharray=\"5,2\" stroke-opacity=\"0.250980\" d=\"M96.64,-141.8C91.98,-123.93 85.03,-97.29 83.37,-90.91\"/>\n",
       "</g>\n",
       "<!-- event.EventType&#45;&gt;2 -->\n",
       "<g id=\"edge15\" class=\"edge\">\n",
       "<title>event.EventType-&gt;2</title>\n",
       "<path fill=\"none\" stroke=\"#000000\" stroke-width=\"0.75\" stroke-dasharray=\"5,2\" stroke-opacity=\"0.250980\" d=\"M105.12,-141.8C109.52,-123.93 116.08,-97.29 117.65,-90.91\"/>\n",
       "</g>\n",
       "<!-- event.EventType&#45;&gt;event.Event -->\n",
       "<g id=\"edge16\" class=\"edge\">\n",
       "<title>event.EventType-&gt;event.Event</title>\n",
       "<path fill=\"none\" stroke=\"#000000\" stroke-width=\"0.75\" stroke-opacity=\"0.250980\" d=\"M127.35,-141.97C145.78,-130.41 170.17,-115.11 187.85,-104.02\"/>\n",
       "</g>\n",
       "<!-- trial.TrialEvent -->\n",
       "<g id=\"node14\" class=\"node\">\n",
       "<title>trial.TrialEvent</title>\n",
       "<g id=\"a_node14\"><a xlink:title=\"→ trial.Trial\r→ event.Event\r\">\n",
       "<ellipse fill=\"#00007f\" fill-opacity=\"0.250980\" stroke=\"#00007f\" stroke-opacity=\"0.250980\" cx=\"211\" cy=\"-17.5\" rx=\"58.5\" ry=\"17.5\"/>\n",
       "<text text-anchor=\"middle\" x=\"211\" y=\"-14.4\" font-family=\"arial\" font-size=\"12.00\" fill=\"#00007f\" fill-opacity=\"0.627451\">trial.TrialEvent</text>\n",
       "</a>\n",
       "</g>\n",
       "</g>\n",
       "<!-- event.Event&#45;&gt;trial.TrialEvent -->\n",
       "<g id=\"edge17\" class=\"edge\">\n",
       "<title>event.Event-&gt;trial.TrialEvent</title>\n",
       "<path fill=\"none\" stroke=\"#000000\" stroke-width=\"0.75\" stroke-opacity=\"0.250980\" d=\"M211,-70.8C211,-59.95 211,-45.87 211,-35.05\"/>\n",
       "</g>\n",
       "<!-- trial.Trial.Attribute -->\n",
       "<g id=\"node16\" class=\"node\">\n",
       "<title>trial.Trial.Attribute</title>\n",
       "<g id=\"a_node16\"><a xlink:title=\"→ trial.Trial\rattribute_name       \r------------------------------\rattribute_value      \r\">\n",
       "<polygon fill=\"transparent\" stroke=\"transparent\" points=\"382,-27 288,-27 288,-8 382,-8 382,-27\"/>\n",
       "<text text-anchor=\"start\" x=\"296\" y=\"-16\" font-family=\"arial\" text-decoration=\"underline\" font-size=\"10.00\">trial.Trial.Attribute</text>\n",
       "</a>\n",
       "</g>\n",
       "</g>\n",
       "<!-- behavior.HarpDevice -->\n",
       "<g id=\"node17\" class=\"node\">\n",
       "<title>behavior.HarpDevice</title>\n",
       "<g id=\"a_node17\"><a xlink:title=\"harp_device_id       \r------------------------------\rharp_device_name     \rharp_device_description=&quot;&quot; \r\">\n",
       "<polygon fill=\"#000000\" fill-opacity=\"0.125490\" stroke=\"transparent\" points=\"890.5,-177 783.5,-177 783.5,-142 890.5,-142 890.5,-177\"/>\n",
       "<text text-anchor=\"start\" x=\"791.5\" y=\"-158\" font-family=\"arial\" text-decoration=\"underline\" font-size=\"10.00\">behavior.HarpDevice</text>\n",
       "</a>\n",
       "</g>\n",
       "</g>\n",
       "<!-- behavior.HarpDevice&#45;&gt;behavior.HarpRecording -->\n",
       "<g id=\"edge18\" class=\"edge\">\n",
       "<title>behavior.HarpDevice-&gt;behavior.HarpRecording</title>\n",
       "<path fill=\"none\" stroke=\"#000000\" stroke-width=\"0.75\" stroke-opacity=\"0.250980\" d=\"M837,-141.8C837,-130.95 837,-116.87 837,-106.05\"/>\n",
       "</g>\n",
       "<!-- trial.Trial&#45;&gt;trial.BlockTrial -->\n",
       "<g id=\"edge19\" class=\"edge\">\n",
       "<title>trial.Trial-&gt;trial.BlockTrial</title>\n",
       "<path fill=\"none\" stroke=\"#000000\" stroke-width=\"0.75\" stroke-opacity=\"0.250980\" d=\"M358.42,-74.36C379.34,-62.63 409.93,-45.47 431.68,-33.27\"/>\n",
       "</g>\n",
       "<!-- trial.Trial&#45;&gt;trial.TrialEvent -->\n",
       "<g id=\"edge20\" class=\"edge\">\n",
       "<title>trial.Trial-&gt;trial.TrialEvent</title>\n",
       "<path fill=\"none\" stroke=\"#000000\" stroke-width=\"0.75\" stroke-opacity=\"0.250980\" d=\"M311.38,-74.36C290.3,-62.63 259.46,-45.47 237.54,-33.27\"/>\n",
       "</g>\n",
       "<!-- trial.Trial&#45;&gt;trial.Trial.Attribute -->\n",
       "<g id=\"edge21\" class=\"edge\">\n",
       "<title>trial.Trial-&gt;trial.Trial.Attribute</title>\n",
       "<path fill=\"none\" stroke=\"#000000\" stroke-width=\"0.75\" stroke-opacity=\"0.250980\" d=\"M335,-70.8C335,-57.08 335,-38.19 335,-27.27\"/>\n",
       "</g>\n",
       "</g>\n",
       "</svg>"
      ],
      "text/plain": [
       "<datajoint.diagram.Diagram at 0x7f309d47c7c0>"
      ]
     },
     "execution_count": 7,
     "metadata": {},
     "output_type": "execute_result"
    }
   ],
   "source": [
    "dj.Diagram(behavior)+dj.Diagram(event)+dj.Diagram(trial)"
   ]
  },
  {
   "attachments": {},
   "cell_type": "markdown",
   "id": "c10761a2-0304-4ea3-9af3-bb6981aae83f",
   "metadata": {},
   "source": [
    "## Automated BPod ingestion"
   ]
  },
  {
   "attachments": {},
   "cell_type": "markdown",
   "id": "b44bbdd6-536d-41e5-87b5-1820a631f1bf",
   "metadata": {},
   "source": [
    "The function is designed ask for a confirmation before entered into the schema."
   ]
  },
  {
   "cell_type": "code",
   "execution_count": 9,
   "id": "cb20488b",
   "metadata": {},
   "outputs": [
    {
     "name": "stdout",
     "output_type": "stream",
     "text": [
      "Subject does not yet exist.Attempting pyrat import: WEZ-8701\n",
      "Connected\n",
      "Found no live entries for WEZ-8701. Testing sacrificed.\n",
      "Gathering users...\n",
      "Gathering protocols...\n",
      "Gathering lines/mutations...\n",
      "Gathering subjects...\n",
      "--- PyRAT items to be inserted ---\n",
      "User(s):  [] \n",
      "\n",
      "Protocol(s):  [] \n",
      "\n",
      "Line(s):  [] \n",
      "\n",
      "Mutation(s):  [] \n",
      "\n",
      "Subjects:  ['WEZ-8701'] \n",
      "\n"
     ]
    },
    {
     "ename": "TypeError",
     "evalue": "can only concatenate str (not \"int\") to str",
     "output_type": "error",
     "traceback": [
      "\u001b[0;31m---------------------------------------------------------------------------\u001b[0m",
      "\u001b[0;31mTypeError\u001b[0m                                 Traceback (most recent call last)",
      "\u001b[1;32m/home/tobiasr/adamacs/notebooks/09_insert_bpod_harp.ipynb Cell 17\u001b[0m in \u001b[0;36m<cell line: 4>\u001b[0;34m()\u001b[0m\n\u001b[1;32m      <a href='vscode-notebook-cell://ssh-remote%2B172.26.128.53/home/tobiasr/adamacs/notebooks/09_insert_bpod_harp.ipynb#X21sdnNjb2RlLXJlbW90ZQ%3D%3D?line=1'>2</a>\u001b[0m root_dirs \u001b[39m=\u001b[39m dj\u001b[39m.\u001b[39mconfig[\u001b[39m\"\u001b[39m\u001b[39mcustom\u001b[39m\u001b[39m\"\u001b[39m][\u001b[39m\"\u001b[39m\u001b[39mexp_root_data_dir\u001b[39m\u001b[39m\"\u001b[39m]\n\u001b[1;32m      <a href='vscode-notebook-cell://ssh-remote%2B172.26.128.53/home/tobiasr/adamacs/notebooks/09_insert_bpod_harp.ipynb#X21sdnNjb2RlLXJlbW90ZQ%3D%3D?line=2'>3</a>\u001b[0m bpod_object \u001b[39m=\u001b[39m Bpodfile(bpod_path)\n\u001b[0;32m----> <a href='vscode-notebook-cell://ssh-remote%2B172.26.128.53/home/tobiasr/adamacs/notebooks/09_insert_bpod_harp.ipynb#X21sdnNjb2RlLXJlbW90ZQ%3D%3D?line=3'>4</a>\u001b[0m bpod_object\u001b[39m.\u001b[39;49mingest()\n",
      "File \u001b[0;32m~/adamacs/adamacs/ingest/bpod.py:90\u001b[0m, in \u001b[0;36mBpodfile.ingest\u001b[0;34m(self, prompt)\u001b[0m\n\u001b[1;32m     85\u001b[0m     PyratIngestion()\u001b[39m.\u001b[39mingest_animal(\u001b[39mself\u001b[39m\u001b[39m.\u001b[39msubject_id)\n\u001b[1;32m     87\u001b[0m \u001b[39m# ------------------------------- Some constants -------------------------------\u001b[39;00m\n\u001b[1;32m     88\u001b[0m \u001b[39m# TR23: this will not work. We do not use a numeric session_id. TODO: change to SessionHash (to get from imaging - or redo)\u001b[39;00m\n\u001b[0;32m---> 90\u001b[0m session_id \u001b[39m=\u001b[39m (  \u001b[39m# increment previous session id by 1\u001b[39;49;00m\n\u001b[1;32m     91\u001b[0m     dj\u001b[39m.\u001b[39;49mU()\u001b[39m.\u001b[39;49maggr(session\u001b[39m.\u001b[39;49mSession, n\u001b[39m=\u001b[39;49m\u001b[39m\"\u001b[39;49m\u001b[39mmax(session_id)\u001b[39;49m\u001b[39m\"\u001b[39;49m)\u001b[39m.\u001b[39;49mfetch(\u001b[39m\"\u001b[39;49m\u001b[39mn\u001b[39;49m\u001b[39m\"\u001b[39;49m) \u001b[39mor\u001b[39;49;00m \u001b[39m0\u001b[39;49m\n\u001b[1;32m     92\u001b[0m ) \u001b[39m+\u001b[39;49m \u001b[39m1\u001b[39;49m\n\u001b[1;32m     93\u001b[0m bpod_version \u001b[39m=\u001b[39m \u001b[39mself\u001b[39m\u001b[39m.\u001b[39msession_data[\u001b[39m\"\u001b[39m\u001b[39mInfo\u001b[39m\u001b[39m\"\u001b[39m][\u001b[39m\"\u001b[39m\u001b[39mStateMachineVersion\u001b[39m\u001b[39m\"\u001b[39m]\u001b[39m.\u001b[39msplit(\u001b[39m\"\u001b[39m\u001b[39m \u001b[39m\u001b[39m\"\u001b[39m)[\u001b[39m-\u001b[39m\u001b[39m1\u001b[39m]\n\u001b[1;32m     94\u001b[0m aux_trials, aux_rewards \u001b[39m=\u001b[39m \u001b[39mself\u001b[39m\u001b[39m.\u001b[39m_aux_timestamps()\n",
      "\u001b[0;31mTypeError\u001b[0m: can only concatenate str (not \"int\") to str"
     ]
    }
   ],
   "source": [
    "# bpod_path = \"DB_WEZ-8701_2022-03-18_scan9FB2LN5C_sess9FB2LN5C/scan9FB2LN5C_WEZ-8701_StimArenaMaster_20220318_165447.mat\"\n",
    "root_dirs = dj.config[\"custom\"][\"exp_root_data_dir\"]\n",
    "bpod_object = Bpodfile(bpod_path)\n",
    "bpod_object.ingest()\n"
   ]
  },
  {
   "cell_type": "code",
   "execution_count": 10,
   "id": "f75f8ab0",
   "metadata": {},
   "outputs": [
    {
     "data": {
      "text/html": [
       "\n",
       "    \n",
       "    <style type=\"text/css\">\n",
       "        .Table{\n",
       "            border-collapse:collapse;\n",
       "        }\n",
       "        .Table th{\n",
       "            background: #A0A0A0; color: #ffffff; padding:4px; border:#f0e0e0 1px solid;\n",
       "            font-weight: normal; font-family: monospace; font-size: 100%;\n",
       "        }\n",
       "        .Table td{\n",
       "            padding:4px; border:#f0e0e0 1px solid; font-size:100%;\n",
       "        }\n",
       "        .Table tr:nth-child(odd){\n",
       "            background: #ffffff;\n",
       "            color: #000000;\n",
       "        }\n",
       "        .Table tr:nth-child(even){\n",
       "            background: #f3f1ff;\n",
       "            color: #000000;\n",
       "        }\n",
       "        /* Tooltip container */\n",
       "        .djtooltip {\n",
       "        }\n",
       "        /* Tooltip text */\n",
       "        .djtooltip .djtooltiptext {\n",
       "            visibility: hidden;\n",
       "            width: 120px;\n",
       "            background-color: black;\n",
       "            color: #fff;\n",
       "            text-align: center;\n",
       "            padding: 5px 0;\n",
       "            border-radius: 6px;\n",
       "            /* Position the tooltip text - see examples below! */\n",
       "            position: absolute;\n",
       "            z-index: 1;\n",
       "        }\n",
       "        #primary {\n",
       "            font-weight: bold;\n",
       "            color: black;\n",
       "        }\n",
       "        #nonprimary {\n",
       "            font-weight: normal;\n",
       "            color: white;\n",
       "        }\n",
       "\n",
       "        /* Show the tooltip text when you mouse over the tooltip container */\n",
       "        .djtooltip:hover .djtooltiptext {\n",
       "            visibility: visible;\n",
       "        }\n",
       "    </style>\n",
       "    \n",
       "    <b>Animal Subject</b>\n",
       "        <div style=\"max-height:1000px;max-width:1500px;overflow:auto;\">\n",
       "        <table border=\"1\" class=\"Table\">\n",
       "            <thead> <tr style=\"text-align: right;\"> <th> <div class=\"djtooltip\">\n",
       "                            <p id=\"primary\">subject</p>\n",
       "                            <span class=\"djtooltiptext\">PyRat import uses this for earmark value</span>\n",
       "                        </div></th><th><div class=\"djtooltip\">\n",
       "                            <p id=\"nonprimary\">earmark</p>\n",
       "                            <span class=\"djtooltiptext\"></span>\n",
       "                        </div></th><th><div class=\"djtooltip\">\n",
       "                            <p id=\"nonprimary\">sex</p>\n",
       "                            <span class=\"djtooltiptext\">Geschlecht</span>\n",
       "                        </div></th><th><div class=\"djtooltip\">\n",
       "                            <p id=\"nonprimary\">birth_date</p>\n",
       "                            <span class=\"djtooltiptext\">Geb.</span>\n",
       "                        </div></th><th><div class=\"djtooltip\">\n",
       "                            <p id=\"nonprimary\">death_date</p>\n",
       "                            <span class=\"djtooltiptext\">Gest.</span>\n",
       "                        </div></th><th><div class=\"djtooltip\">\n",
       "                            <p id=\"nonprimary\">generation</p>\n",
       "                            <span class=\"djtooltiptext\">Generation (F2 in example sheet)</span>\n",
       "                        </div></th><th><div class=\"djtooltip\">\n",
       "                            <p id=\"nonprimary\">parent_ids</p>\n",
       "                            <span class=\"djtooltiptext\">dict of parent_sex: parent_eartag</span>\n",
       "                        </div></th><th><div class=\"djtooltip\">\n",
       "                            <p id=\"nonprimary\">owner_id</p>\n",
       "                            <span class=\"djtooltiptext\"></span>\n",
       "                        </div></th><th><div class=\"djtooltip\">\n",
       "                            <p id=\"nonprimary\">responsible_id</p>\n",
       "                            <span class=\"djtooltiptext\"></span>\n",
       "                        </div></th><th><div class=\"djtooltip\">\n",
       "                            <p id=\"nonprimary\">line</p>\n",
       "                            <span class=\"djtooltiptext\">strain_id within PyRAT. Not name_id seen in GUI</span>\n",
       "                        </div></th><th><div class=\"djtooltip\">\n",
       "                            <p id=\"nonprimary\">protocol</p>\n",
       "                            <span class=\"djtooltiptext\"></span>\n",
       "                        </div> </th> </tr> </thead>\n",
       "            <tbody> <tr> <td>ROS-1518</td>\n",
       "<td>T581</td>\n",
       "<td>M</td>\n",
       "<td>2023-01-04T00:00:00</td>\n",
       "<td>None</td>\n",
       "<td>F6 d</td>\n",
       "<td>=BLOB=</td>\n",
       "<td>1</td>\n",
       "<td>2</td>\n",
       "<td>376</td>\n",
       "<td>81-02.04.2022.A427</td></tr><tr><td>WEZ-8701</td>\n",
       "<td>T453</td>\n",
       "<td>M</td>\n",
       "<td>2021-10-19T00:00:00</td>\n",
       "<td>2022-09-19T19:51:53</td>\n",
       "<td></td>\n",
       "<td>=BLOB=</td>\n",
       "<td>1</td>\n",
       "<td>2</td>\n",
       "<td>376</td>\n",
       "<td>01_Organentnahme</td> </tr> </tbody>\n",
       "        </table>\n",
       "        \n",
       "        <p>Total: 2</p></div>\n",
       "        "
      ],
      "text/plain": [
       "*subject     earmark     sex     birth_date     death_date     generation     parent_ids owner_id     responsible_id line     protocol      \n",
       "+----------+ +---------+ +-----+ +------------+ +------------+ +------------+ +--------+ +----------+ +------------+ +------+ +------------+\n",
       "ROS-1518     T581        M       2023-01-04T00: None           F6 d           =BLOB=     1            2              376      81-02.04.2022.\n",
       "WEZ-8701     T453        M       2021-10-19T00: 2022-09-19T19:                =BLOB=     1            2              376      01_Organentnah\n",
       " (Total: 2)"
      ]
     },
     "execution_count": 10,
     "metadata": {},
     "output_type": "execute_result"
    }
   ],
   "source": [
    "subject.Subject()"
   ]
  },
  {
   "attachments": {},
   "cell_type": "markdown",
   "id": "6d2acedb",
   "metadata": {},
   "source": [
    "Check that insertion worked:"
   ]
  },
  {
   "cell_type": "code",
   "execution_count": 11,
   "id": "9b074d80",
   "metadata": {},
   "outputs": [
    {
     "data": {
      "text/html": [
       "\n",
       "    \n",
       "    <style type=\"text/css\">\n",
       "        .Table{\n",
       "            border-collapse:collapse;\n",
       "        }\n",
       "        .Table th{\n",
       "            background: #A0A0A0; color: #ffffff; padding:4px; border:#f0e0e0 1px solid;\n",
       "            font-weight: normal; font-family: monospace; font-size: 100%;\n",
       "        }\n",
       "        .Table td{\n",
       "            padding:4px; border:#f0e0e0 1px solid; font-size:100%;\n",
       "        }\n",
       "        .Table tr:nth-child(odd){\n",
       "            background: #ffffff;\n",
       "            color: #000000;\n",
       "        }\n",
       "        .Table tr:nth-child(even){\n",
       "            background: #f3f1ff;\n",
       "            color: #000000;\n",
       "        }\n",
       "        /* Tooltip container */\n",
       "        .djtooltip {\n",
       "        }\n",
       "        /* Tooltip text */\n",
       "        .djtooltip .djtooltiptext {\n",
       "            visibility: hidden;\n",
       "            width: 120px;\n",
       "            background-color: black;\n",
       "            color: #fff;\n",
       "            text-align: center;\n",
       "            padding: 5px 0;\n",
       "            border-radius: 6px;\n",
       "            /* Position the tooltip text - see examples below! */\n",
       "            position: absolute;\n",
       "            z-index: 1;\n",
       "        }\n",
       "        #primary {\n",
       "            font-weight: bold;\n",
       "            color: black;\n",
       "        }\n",
       "        #nonprimary {\n",
       "            font-weight: normal;\n",
       "            color: white;\n",
       "        }\n",
       "\n",
       "        /* Show the tooltip text when you mouse over the tooltip container */\n",
       "        .djtooltip:hover .djtooltiptext {\n",
       "            visibility: visible;\n",
       "        }\n",
       "    </style>\n",
       "    \n",
       "    <b></b>\n",
       "        <div style=\"max-height:1000px;max-width:1500px;overflow:auto;\">\n",
       "        <table border=\"1\" class=\"Table\">\n",
       "            <thead> <tr style=\"text-align: right;\"> <th> <div class=\"djtooltip\">\n",
       "                            <p id=\"primary\">session_id</p>\n",
       "                            <span class=\"djtooltiptext\"></span>\n",
       "                        </div></th><th><div class=\"djtooltip\">\n",
       "                            <p id=\"primary\">scan_id</p>\n",
       "                            <span class=\"djtooltiptext\"></span>\n",
       "                        </div></th><th><div class=\"djtooltip\">\n",
       "                            <p id=\"primary\">trial_id</p>\n",
       "                            <span class=\"djtooltiptext\">trial number (1-based indexing)</span>\n",
       "                        </div></th><th><div class=\"djtooltip\">\n",
       "                            <p id=\"primary\">event_type</p>\n",
       "                            <span class=\"djtooltiptext\"></span>\n",
       "                        </div></th><th><div class=\"djtooltip\">\n",
       "                            <p id=\"primary\">event_start_time</p>\n",
       "                            <span class=\"djtooltiptext\">(second) relative to recording start</span>\n",
       "                        </div> </th> </tr> </thead>\n",
       "            <tbody> <tr>  </tr> </tbody>\n",
       "        </table>\n",
       "        \n",
       "        <p>Total: 0</p></div>\n",
       "        "
      ],
      "text/plain": [
       "*session_id    *scan_id    *trial_id    *event_type    *event_start_t\n",
       "+------------+ +---------+ +----------+ +------------+ +------------+\n",
       "\n",
       " (Total: 0)"
      ]
     },
     "execution_count": 11,
     "metadata": {},
     "output_type": "execute_result"
    }
   ],
   "source": [
    "trial.TrialEvent & 'trial_id=0'"
   ]
  },
  {
   "cell_type": "code",
   "execution_count": null,
   "id": "ad2e7079",
   "metadata": {},
   "outputs": [],
   "source": [
    "trial."
   ]
  },
  {
   "cell_type": "code",
   "execution_count": null,
   "id": "21d9722b",
   "metadata": {},
   "outputs": [],
   "source": [
    "event.EventType()"
   ]
  },
  {
   "attachments": {},
   "cell_type": "markdown",
   "id": "3472ae04",
   "metadata": {},
   "source": [
    "We can also interact with bpod objects. For example:"
   ]
  },
  {
   "cell_type": "code",
   "execution_count": null,
   "id": "695cdf7c",
   "metadata": {},
   "outputs": [],
   "source": [
    "bpod_object.trial(1).attributes"
   ]
  },
  {
   "cell_type": "code",
   "execution_count": null,
   "id": "5625ab41",
   "metadata": {},
   "outputs": [],
   "source": [
    "bpod_object.trial_data"
   ]
  },
  {
   "attachments": {},
   "cell_type": "markdown",
   "id": "0d7e7ddf",
   "metadata": {},
   "source": [
    "# Add Harp recording"
   ]
  },
  {
   "cell_type": "code",
   "execution_count": 12,
   "id": "151164c3",
   "metadata": {},
   "outputs": [
    {
     "data": {
      "text/html": [
       "\n",
       "    \n",
       "    <style type=\"text/css\">\n",
       "        .Table{\n",
       "            border-collapse:collapse;\n",
       "        }\n",
       "        .Table th{\n",
       "            background: #A0A0A0; color: #ffffff; padding:4px; border:#f0e0e0 1px solid;\n",
       "            font-weight: normal; font-family: monospace; font-size: 100%;\n",
       "        }\n",
       "        .Table td{\n",
       "            padding:4px; border:#f0e0e0 1px solid; font-size:100%;\n",
       "        }\n",
       "        .Table tr:nth-child(odd){\n",
       "            background: #ffffff;\n",
       "            color: #000000;\n",
       "        }\n",
       "        .Table tr:nth-child(even){\n",
       "            background: #f3f1ff;\n",
       "            color: #000000;\n",
       "        }\n",
       "        /* Tooltip container */\n",
       "        .djtooltip {\n",
       "        }\n",
       "        /* Tooltip text */\n",
       "        .djtooltip .djtooltiptext {\n",
       "            visibility: hidden;\n",
       "            width: 120px;\n",
       "            background-color: black;\n",
       "            color: #fff;\n",
       "            text-align: center;\n",
       "            padding: 5px 0;\n",
       "            border-radius: 6px;\n",
       "            /* Position the tooltip text - see examples below! */\n",
       "            position: absolute;\n",
       "            z-index: 1;\n",
       "        }\n",
       "        #primary {\n",
       "            font-weight: bold;\n",
       "            color: black;\n",
       "        }\n",
       "        #nonprimary {\n",
       "            font-weight: normal;\n",
       "            color: white;\n",
       "        }\n",
       "\n",
       "        /* Show the tooltip text when you mouse over the tooltip container */\n",
       "        .djtooltip:hover .djtooltiptext {\n",
       "            visibility: visible;\n",
       "        }\n",
       "    </style>\n",
       "    \n",
       "    <b></b>\n",
       "        <div style=\"max-height:1000px;max-width:1500px;overflow:auto;\">\n",
       "        <table border=\"1\" class=\"Table\">\n",
       "            <thead> <tr style=\"text-align: right;\"> <th> <div class=\"djtooltip\">\n",
       "                            <p id=\"primary\">session_id</p>\n",
       "                            <span class=\"djtooltiptext\"></span>\n",
       "                        </div></th><th><div class=\"djtooltip\">\n",
       "                            <p id=\"primary\">scan_id</p>\n",
       "                            <span class=\"djtooltiptext\"></span>\n",
       "                        </div></th><th><div class=\"djtooltip\">\n",
       "                            <p id=\"primary\">harp_device_id</p>\n",
       "                            <span class=\"djtooltiptext\"></span>\n",
       "                        </div> </th> </tr> </thead>\n",
       "            <tbody> <tr>  </tr> </tbody>\n",
       "        </table>\n",
       "        \n",
       "        <p>Total: 0</p></div>\n",
       "        "
      ],
      "text/plain": [
       "*session_id    *scan_id    *harp_device_i\n",
       "+------------+ +---------+ +------------+\n",
       "\n",
       " (Total: 0)"
      ]
     },
     "execution_count": 12,
     "metadata": {},
     "output_type": "execute_result"
    }
   ],
   "source": [
    "from adamacs.pipeline import behavior, event, scan\n",
    "event_recording = event.BehaviorRecording.fetch('KEY')[0]\n",
    "behavior.HarpRecording()"
   ]
  },
  {
   "cell_type": "code",
   "execution_count": 13,
   "id": "1d555bc8",
   "metadata": {},
   "outputs": [
    {
     "ename": "IndexError",
     "evalue": "list index out of range",
     "output_type": "error",
     "traceback": [
      "\u001b[0;31m---------------------------------------------------------------------------\u001b[0m",
      "\u001b[0;31mIndexError\u001b[0m                                Traceback (most recent call last)",
      "\u001b[1;32m/home/tobiasr/adamacs/notebooks/09_insert_bpod_harp.ipynb Cell 28\u001b[0m in \u001b[0;36m<cell line: 2>\u001b[0;34m()\u001b[0m\n\u001b[1;32m      <a href='vscode-notebook-cell://ssh-remote%2B172.26.128.53/home/tobiasr/adamacs/notebooks/09_insert_bpod_harp.ipynb#X35sdnNjb2RlLXJlbW90ZQ%3D%3D?line=0'>1</a>\u001b[0m scansi \u001b[39m=\u001b[39m \u001b[39m\"\u001b[39m\u001b[39mscan9FB2LN5C\u001b[39m\u001b[39m\"\u001b[39m\n\u001b[0;32m----> <a href='vscode-notebook-cell://ssh-remote%2B172.26.128.53/home/tobiasr/adamacs/notebooks/09_insert_bpod_harp.ipynb#X35sdnNjb2RlLXJlbW90ZQ%3D%3D?line=1'>2</a>\u001b[0m scan_key \u001b[39m=\u001b[39m (scan\u001b[39m.\u001b[39;49mScan \u001b[39m&\u001b[39;49m \u001b[39mf\u001b[39;49m\u001b[39m'\u001b[39;49m\u001b[39mscan_id = \u001b[39;49m\u001b[39m\"\u001b[39;49m\u001b[39m{\u001b[39;49;00mscansi\u001b[39m}\u001b[39;49;00m\u001b[39m\"\u001b[39;49m\u001b[39m'\u001b[39;49m)\u001b[39m.\u001b[39;49mfetch(\u001b[39m'\u001b[39;49m\u001b[39mKEY\u001b[39;49m\u001b[39m'\u001b[39;49m)[\u001b[39m0\u001b[39;49m]\n\u001b[1;32m      <a href='vscode-notebook-cell://ssh-remote%2B172.26.128.53/home/tobiasr/adamacs/notebooks/09_insert_bpod_harp.ipynb#X35sdnNjb2RlLXJlbW90ZQ%3D%3D?line=3'>4</a>\u001b[0m bpod_path_relative \u001b[39m=\u001b[39m (event\u001b[39m.\u001b[39mBehaviorRecording\u001b[39m.\u001b[39mFile \u001b[39m&\u001b[39m scan_key)\u001b[39m.\u001b[39mfetch1(\u001b[39m\"\u001b[39m\u001b[39mfilepath\u001b[39m\u001b[39m\"\u001b[39m)\n\u001b[1;32m      <a href='vscode-notebook-cell://ssh-remote%2B172.26.128.53/home/tobiasr/adamacs/notebooks/09_insert_bpod_harp.ipynb#X35sdnNjb2RlLXJlbW90ZQ%3D%3D?line=4'>5</a>\u001b[0m harp_paths \u001b[39m=\u001b[39m \u001b[39mlist\u001b[39m(find_full_path(\n\u001b[1;32m      <a href='vscode-notebook-cell://ssh-remote%2B172.26.128.53/home/tobiasr/adamacs/notebooks/09_insert_bpod_harp.ipynb#X35sdnNjb2RlLXJlbW90ZQ%3D%3D?line=5'>6</a>\u001b[0m     get_experiment_root_data_dir(), bpod_path_relative\n\u001b[1;32m      <a href='vscode-notebook-cell://ssh-remote%2B172.26.128.53/home/tobiasr/adamacs/notebooks/09_insert_bpod_harp.ipynb#X35sdnNjb2RlLXJlbW90ZQ%3D%3D?line=6'>7</a>\u001b[0m )\u001b[39m.\u001b[39mparent\u001b[39m.\u001b[39mglob(\u001b[39m\"\u001b[39m\u001b[39m*harp*bin\u001b[39m\u001b[39m\"\u001b[39m))\n",
      "\u001b[0;31mIndexError\u001b[0m: list index out of range"
     ]
    }
   ],
   "source": [
    "scansi = \"scan9FB2LN5C\"\n",
    "scan_key = (scan.Scan & f'scan_id = \"{scansi}\"').fetch('KEY')[0]\n",
    "\n",
    "bpod_path_relative = (event.BehaviorRecording.File & scan_key).fetch1(\"filepath\")\n",
    "harp_paths = list(find_full_path(\n",
    "    get_experiment_root_data_dir(), bpod_path_relative\n",
    ").parent.glob(\"*harp*bin\"))"
   ]
  },
  {
   "cell_type": "code",
   "execution_count": 14,
   "id": "e049a1ba",
   "metadata": {},
   "outputs": [
    {
     "data": {
      "text/html": [
       "\n",
       "    \n",
       "    <style type=\"text/css\">\n",
       "        .Table{\n",
       "            border-collapse:collapse;\n",
       "        }\n",
       "        .Table th{\n",
       "            background: #A0A0A0; color: #ffffff; padding:4px; border:#f0e0e0 1px solid;\n",
       "            font-weight: normal; font-family: monospace; font-size: 100%;\n",
       "        }\n",
       "        .Table td{\n",
       "            padding:4px; border:#f0e0e0 1px solid; font-size:100%;\n",
       "        }\n",
       "        .Table tr:nth-child(odd){\n",
       "            background: #ffffff;\n",
       "            color: #000000;\n",
       "        }\n",
       "        .Table tr:nth-child(even){\n",
       "            background: #f3f1ff;\n",
       "            color: #000000;\n",
       "        }\n",
       "        /* Tooltip container */\n",
       "        .djtooltip {\n",
       "        }\n",
       "        /* Tooltip text */\n",
       "        .djtooltip .djtooltiptext {\n",
       "            visibility: hidden;\n",
       "            width: 120px;\n",
       "            background-color: black;\n",
       "            color: #fff;\n",
       "            text-align: center;\n",
       "            padding: 5px 0;\n",
       "            border-radius: 6px;\n",
       "            /* Position the tooltip text - see examples below! */\n",
       "            position: absolute;\n",
       "            z-index: 1;\n",
       "        }\n",
       "        #primary {\n",
       "            font-weight: bold;\n",
       "            color: black;\n",
       "        }\n",
       "        #nonprimary {\n",
       "            font-weight: normal;\n",
       "            color: white;\n",
       "        }\n",
       "\n",
       "        /* Show the tooltip text when you mouse over the tooltip container */\n",
       "        .djtooltip:hover .djtooltiptext {\n",
       "            visibility: visible;\n",
       "        }\n",
       "    </style>\n",
       "    \n",
       "    <b></b>\n",
       "        <div style=\"max-height:1000px;max-width:1500px;overflow:auto;\">\n",
       "        <table border=\"1\" class=\"Table\">\n",
       "            <thead> <tr style=\"text-align: right;\"> <th> <div class=\"djtooltip\">\n",
       "                            <p id=\"primary\">session_id</p>\n",
       "                            <span class=\"djtooltiptext\"></span>\n",
       "                        </div></th><th><div class=\"djtooltip\">\n",
       "                            <p id=\"primary\">scan_id</p>\n",
       "                            <span class=\"djtooltiptext\"></span>\n",
       "                        </div></th><th><div class=\"djtooltip\">\n",
       "                            <p id=\"primary\">filepath</p>\n",
       "                            <span class=\"djtooltiptext\"></span>\n",
       "                        </div> </th> </tr> </thead>\n",
       "            <tbody> <tr> <td>sess9FJ4IJOQ</td>\n",
       "<td>scan9FJ4IJOQ</td>\n",
       "<td>/datajoint-data/data/tobiasr/LE_ROS-1518_2023-07-18_scan9FJ4IJOQ_sess9FJ4IJOQ/scan9FJ4IJOQ_LE_ROS-test_0003.h5</td> </tr> </tbody>\n",
       "        </table>\n",
       "        \n",
       "        <p>Total: 1</p></div>\n",
       "        "
      ],
      "text/plain": [
       "*session_id    *scan_id       *filepath     \n",
       "+------------+ +------------+ +------------+\n",
       "sess9FJ4IJOQ   scan9FJ4IJOQ   /datajoint-dat\n",
       " (Total: 1)"
      ]
     },
     "execution_count": 14,
     "metadata": {},
     "output_type": "execute_result"
    }
   ],
   "source": [
    "event.BehaviorRecording.File()"
   ]
  },
  {
   "cell_type": "code",
   "execution_count": 14,
   "id": "31e68101",
   "metadata": {},
   "outputs": [
    {
     "data": {
      "text/plain": [
       "'/datajoint-data/data/tobiasr/LE_ROS-1518_2023-05-17_scan9FI3LVI8_sess9FI3LVI8/scan9FI3LVI8_LE_ROS-1518_2030.h5'"
      ]
     },
     "execution_count": 14,
     "metadata": {},
     "output_type": "execute_result"
    }
   ],
   "source": [
    "bpod_path_relative"
   ]
  },
  {
   "cell_type": "code",
   "execution_count": 9,
   "id": "f276348a",
   "metadata": {},
   "outputs": [
    {
     "data": {
      "text/plain": [
       "'/datajoint-data/data/tobiasr/LE_ROS-1518_2023-05-17_scan9FI3LVI8_sess9FI3LVI8/scan9FI3LVI8_LE_ROS-1518_2030.h5'"
      ]
     },
     "execution_count": 9,
     "metadata": {},
     "output_type": "execute_result"
    }
   ],
   "source": [
    "bpod_path_relative "
   ]
  },
  {
   "cell_type": "code",
   "execution_count": null,
   "id": "5560f824",
   "metadata": {},
   "outputs": [],
   "source": [
    "behavior.HarpRecording.populate()"
   ]
  },
  {
   "cell_type": "code",
   "execution_count": null,
   "id": "2ecff3b0",
   "metadata": {},
   "outputs": [],
   "source": [
    "behavior.HarpRecording.Channel()"
   ]
  },
  {
   "cell_type": "code",
   "execution_count": null,
   "id": "32fa97fd",
   "metadata": {},
   "outputs": [],
   "source": []
  }
 ],
 "metadata": {
  "jupytext": {
   "formats": "ipynb,py"
  },
  "kernelspec": {
   "display_name": "datajoint",
   "language": "python",
   "name": "python3"
  },
  "language_info": {
   "codemirror_mode": {
    "name": "ipython",
    "version": 3
   },
   "file_extension": ".py",
   "mimetype": "text/x-python",
   "name": "python",
   "nbconvert_exporter": "python",
   "pygments_lexer": "ipython3",
   "version": "3.8.15"
  },
  "vscode": {
   "interpreter": {
    "hash": "b6b88a8194cd92b549912c5fccf4f99c3c2f8b37389322b86781a2268700b256"
   }
  }
 },
 "nbformat": 4,
 "nbformat_minor": 5
}
