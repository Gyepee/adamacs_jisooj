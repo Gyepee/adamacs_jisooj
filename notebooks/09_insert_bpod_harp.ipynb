{
 "cells": [
  {
   "attachments": {},
   "cell_type": "markdown",
   "id": "d1aa3e29-e39c-44a9-b29d-d37b73aab85d",
   "metadata": {},
   "source": [
    "# File Ingestion"
   ]
  },
  {
   "attachments": {},
   "cell_type": "markdown",
   "id": "ed2651bb-ce83-4b87-a268-98169a69309d",
   "metadata": {},
   "source": [
    "## Setup"
   ]
  },
  {
   "attachments": {},
   "cell_type": "markdown",
   "id": "6e95a682-afac-4834-b6e5-0dd4886467f9",
   "metadata": {},
   "source": [
    "Using local config file (see [01_pipeline](./01_pipeline.ipynb))"
   ]
  },
  {
   "cell_type": "code",
   "execution_count": 1,
   "id": "14499d7b",
   "metadata": {},
   "outputs": [
    {
     "name": "stderr",
     "output_type": "stream",
     "text": [
      "[2023-07-24 17:09:00,230][INFO]: Connecting tobiasr@172.26.128.53:3306\n",
      "[2023-07-24 17:09:00,276][INFO]: Connected tobiasr@172.26.128.53:3306\n"
     ]
    }
   ],
   "source": [
    "import os\n",
    "# change to the upper level folder to detect dj_local_conf.json\n",
    "if os.path.basename(os.getcwd())=='notebooks': os.chdir('..')\n",
    "assert os.path.basename(os.getcwd())=='adamacs', (\"Please move to the main directory\")\n",
    "import datajoint as dj; dj.conn()\n",
    "from adamacs.pipeline import subject, behavior, session, event, trial, scan\n",
    "from adamacs.ingest import behavior as ibe\n"
   ]
  },
  {
   "attachments": {},
   "cell_type": "markdown",
   "id": "5dd49a4c-d391-4f0e-bfe9-0930ed744e93",
   "metadata": {},
   "source": [
    "Manual entry"
   ]
  },
  {
   "attachments": {},
   "cell_type": "markdown",
   "id": "10119159",
   "metadata": {},
   "source": [
    "### BPod Path Setup"
   ]
  },
  {
   "attachments": {},
   "cell_type": "markdown",
   "id": "63589f12",
   "metadata": {},
   "source": [
    "Your `dj.config` file should have a section for your BPod root directory under `custom`: `exp_root_data_dir`. This is a list of one or more paths where the ingestion tool will look for the relative paths it is given."
   ]
  },
  {
   "cell_type": "code",
   "execution_count": 2,
   "id": "e25b9d62",
   "metadata": {},
   "outputs": [],
   "source": [
    "import datajoint as dj\n",
    "from element_interface.utils import find_full_path\n",
    "from adamacs.pipeline import session, event, trial\n",
    "from adamacs.ingest.bpod import Bpodfile\n",
    "from adamacs.paths import get_experiment_root_data_dir\n"
   ]
  },
  {
   "cell_type": "code",
   "execution_count": 3,
   "id": "29f81b59",
   "metadata": {},
   "outputs": [
    {
     "name": "stdout",
     "output_type": "stream",
     "text": [
      "Full: /datajoint-data/data/tobiasr/RN_OPI-1681_2023-07-24_scan9FJ842C3_sess9FJ842C3/scan9FJ842C3_OPI-1681_StimArenaAllPorts_20230724_163510.mat\n"
     ]
    }
   ],
   "source": [
    "\n",
    "# bpod_path = \"DB_WEZ-8701_2022-03-18_scan9FB2LN5C_sess9FB2LN5C/scan9FbB2LN5C_WEZ-8701_StimArenaMaster_20220318_165447.mat\"\n",
    "# bpod_path = \"TR_WEZ-8701_2023-01-13_scan9FG1THFD_sess9FG1TAXY/scan9FG1THFD_WEZ-8701_StimArenaMaster_20230113_172307.mat\"\n",
    "\n",
    "# root_dirs = dj.config[\"custom\"][\"exp_root_data_dir\"]\n",
    "# bpod_path_full = find_full_path(get_experiment_root_data_dir(),bpod_path)\n",
    "\n",
    "scansi = \"scan9FJ842C3\"\n",
    "scan_key = (scan.Scan & f'scan_id = \"{scansi}\"').fetch('KEY')[0]\n",
    "\n",
    "bpod_path_relative = (event.BehaviorRecording.File & scan_key).fetch1(\"filepath\")\n",
    "bpod_path_full = list(find_full_path(\n",
    "    get_experiment_root_data_dir(), bpod_path_relative\n",
    ").parent.glob(\"*mat\"))[0]\n",
    "\n",
    "\n",
    "print(f\"Full: {bpod_path_full}\")"
   ]
  },
  {
   "cell_type": "code",
   "execution_count": 4,
   "id": "6ce1570e",
   "metadata": {},
   "outputs": [],
   "source": [
    "bpod_object = Bpodfile(bpod_path_full)"
   ]
  },
  {
   "cell_type": "code",
   "execution_count": 5,
   "id": "b382bb37",
   "metadata": {},
   "outputs": [
    {
     "name": "stdout",
     "output_type": "stream",
     "text": [
      "/datajoint-data/data/tobiasr/RN_OPI-1681_2023-07-24_scan9FJ842C3_sess9FJ842C3/scan9FJ842C3_RN_OPI-1681_2032.h5\n"
     ]
    },
    {
     "name": "stderr",
     "output_type": "stream",
     "text": [
      "/home/tobiasr/miniconda3/envs/datajoint/lib/python3.8/site-packages/pywavesurfer/ws.py:46: RuntimeWarning: You are reading a WaveSurfer file version this module was not tested with: file version 1.0.6, latest version tested: 0.982\n",
      "  warnings.warn('You are reading a WaveSurfer file version this module was not tested with: '\n"
     ]
    },
    {
     "name": "stdout",
     "output_type": "stream",
     "text": [
      "BPod items to be inserted:\n",
      "\tSubject : OPI-1681\n",
      "\tTime    : 2023-07-24 16:37:28\n",
      "\tN Trials: 6\n",
      "\tN Events: 39\n"
     ]
    }
   ],
   "source": [
    "bpod_object.ingest('sess9FJ842C3', 'scan9FJ842C3')"
   ]
  },
  {
   "cell_type": "code",
   "execution_count": 6,
   "id": "89e8d786",
   "metadata": {},
   "outputs": [
    {
     "ename": "TypeError",
     "evalue": "'dict' object is not callable",
     "output_type": "error",
     "traceback": [
      "\u001b[0;31m---------------------------------------------------------------------------\u001b[0m",
      "\u001b[0;31mTypeError\u001b[0m                                 Traceback (most recent call last)",
      "\u001b[1;32m/home/tobiasr/adamacs/notebooks/09_insert_bpod_harp.ipynb Cell 12\u001b[0m in \u001b[0;36m<cell line: 1>\u001b[0;34m()\u001b[0m\n\u001b[0;32m----> <a href='vscode-notebook-cell://ssh-remote%2B172.26.128.53/home/tobiasr/adamacs/notebooks/09_insert_bpod_harp.ipynb#X14sdnNjb2RlLXJlbW90ZQ%3D%3D?line=0'>1</a>\u001b[0m bpod_object\u001b[39m.\u001b[39;49mtrials()\n",
      "\u001b[0;31mTypeError\u001b[0m: 'dict' object is not callable"
     ]
    }
   ],
   "source": [
    "bpod_object.trials()"
   ]
  },
  {
   "attachments": {},
   "cell_type": "markdown",
   "id": "4c258e07-6165-4116-bec7-edc764e2170c",
   "metadata": {},
   "source": [
    "### Initial check of tables"
   ]
  },
  {
   "cell_type": "code",
   "execution_count": null,
   "id": "75bb3517-f2f9-47ac-84fe-15c5aa1530e0",
   "metadata": {},
   "outputs": [],
   "source": [
    "# from adamacs.pipeline import session, event, trial\n",
    "\n",
    "# session.Session.delete()\n",
    "\n",
    "\n",
    "# print('Sessions:', len(session.Session()))\n",
    "# print('Trials  :', len(trial.Trial()))\n",
    "# print('Events  :', len(event.Event()))"
   ]
  },
  {
   "cell_type": "code",
   "execution_count": null,
   "id": "a3746a2f",
   "metadata": {},
   "outputs": [],
   "source": [
    "scan_key"
   ]
  },
  {
   "cell_type": "code",
   "execution_count": 7,
   "id": "4bfeadab",
   "metadata": {},
   "outputs": [
    {
     "data": {
      "text/html": [
       "\n",
       "    \n",
       "    <style type=\"text/css\">\n",
       "        .Table{\n",
       "            border-collapse:collapse;\n",
       "        }\n",
       "        .Table th{\n",
       "            background: #A0A0A0; color: #ffffff; padding:4px; border:#f0e0e0 1px solid;\n",
       "            font-weight: normal; font-family: monospace; font-size: 100%;\n",
       "        }\n",
       "        .Table td{\n",
       "            padding:4px; border:#f0e0e0 1px solid; font-size:100%;\n",
       "        }\n",
       "        .Table tr:nth-child(odd){\n",
       "            background: #ffffff;\n",
       "            color: #000000;\n",
       "        }\n",
       "        .Table tr:nth-child(even){\n",
       "            background: #f3f1ff;\n",
       "            color: #000000;\n",
       "        }\n",
       "        /* Tooltip container */\n",
       "        .djtooltip {\n",
       "        }\n",
       "        /* Tooltip text */\n",
       "        .djtooltip .djtooltiptext {\n",
       "            visibility: hidden;\n",
       "            width: 120px;\n",
       "            background-color: black;\n",
       "            color: #fff;\n",
       "            text-align: center;\n",
       "            padding: 5px 0;\n",
       "            border-radius: 6px;\n",
       "            /* Position the tooltip text - see examples below! */\n",
       "            position: absolute;\n",
       "            z-index: 1;\n",
       "        }\n",
       "        #primary {\n",
       "            font-weight: bold;\n",
       "            color: black;\n",
       "        }\n",
       "        #nonprimary {\n",
       "            font-weight: normal;\n",
       "            color: white;\n",
       "        }\n",
       "\n",
       "        /* Show the tooltip text when you mouse over the tooltip container */\n",
       "        .djtooltip:hover .djtooltiptext {\n",
       "            visibility: visible;\n",
       "        }\n",
       "    </style>\n",
       "    \n",
       "    <b></b>\n",
       "        <div style=\"max-height:1000px;max-width:1500px;overflow:auto;\">\n",
       "        <table border=\"1\" class=\"Table\">\n",
       "            <thead> <tr style=\"text-align: right;\"> <th> <div class=\"djtooltip\">\n",
       "                            <p id=\"primary\">session_id</p>\n",
       "                            <span class=\"djtooltiptext\"></span>\n",
       "                        </div></th><th><div class=\"djtooltip\">\n",
       "                            <p id=\"primary\">scan_id</p>\n",
       "                            <span class=\"djtooltiptext\"></span>\n",
       "                        </div></th><th><div class=\"djtooltip\">\n",
       "                            <p id=\"nonprimary\">recording_start_time</p>\n",
       "                            <span class=\"djtooltiptext\"></span>\n",
       "                        </div></th><th><div class=\"djtooltip\">\n",
       "                            <p id=\"nonprimary\">recording_duration</p>\n",
       "                            <span class=\"djtooltiptext\"></span>\n",
       "                        </div></th><th><div class=\"djtooltip\">\n",
       "                            <p id=\"nonprimary\">recording_notes</p>\n",
       "                            <span class=\"djtooltiptext\"></span>\n",
       "                        </div> </th> </tr> </thead>\n",
       "            <tbody> <tr> <td>sess9FJ842C3</td>\n",
       "<td>scan9FJ842C3</td>\n",
       "<td>2023-07-24 16:37:16</td>\n",
       "<td>280.0</td>\n",
       "<td></td> </tr> </tbody>\n",
       "        </table>\n",
       "        \n",
       "        <p>Total: 1</p></div>\n",
       "        "
      ],
      "text/plain": [
       "*session_id    *scan_id       recording_star recording_dura recording_note\n",
       "+------------+ +------------+ +------------+ +------------+ +------------+\n",
       "sess9FJ842C3   scan9FJ842C3   2023-07-24 16: 280.0                        \n",
       " (Total: 1)"
      ]
     },
     "execution_count": 7,
     "metadata": {},
     "output_type": "execute_result"
    }
   ],
   "source": [
    "(event.BehaviorRecording() & scan_key)"
   ]
  },
  {
   "cell_type": "code",
   "execution_count": null,
   "id": "a7dac51a",
   "metadata": {},
   "outputs": [],
   "source": [
    "dj.Diagram(behavior)+dj.Diagram(event)+dj.Diagram(trial)"
   ]
  },
  {
   "attachments": {},
   "cell_type": "markdown",
   "id": "c10761a2-0304-4ea3-9af3-bb6981aae83f",
   "metadata": {},
   "source": [
    "## Automated BPod ingestion"
   ]
  },
  {
   "attachments": {},
   "cell_type": "markdown",
   "id": "b44bbdd6-536d-41e5-87b5-1820a631f1bf",
   "metadata": {},
   "source": [
    "The function is designed ask for a confirmation before entered into the schema."
   ]
  },
  {
   "cell_type": "code",
   "execution_count": null,
   "metadata": {},
   "outputs": [],
   "source": [
    "session.Session()"
   ]
  },
  {
   "cell_type": "code",
   "execution_count": null,
   "id": "cb20488b",
   "metadata": {},
   "outputs": [],
   "source": [
    "bpod_path = \"DB_WEZ-8701_2022-03-18_scan9FB2LN5C_sess9FB2LN5C/scan9FB2LN5C_WEZ-8701_StimArenaMaster_20220318_165447.mat\"\n",
    "# bpod_path = \"TR_WEZ-8701_2023-01-13_scan9FG1THFD_sess9FG1TAXY/scan9FG1THFD_WEZ-8701_StimArenaMaster_20230113_172307.mat\"\n",
    "\n",
    "root_dirs = dj.config[\"custom\"][\"exp_root_data_dir\"]\n",
    "bpod_path_full = find_full_path(get_experiment_root_data_dir(),bpod_path)\n",
    "\n",
    "print(f\"Root: {root_dirs}\\nFull: {bpod_path_full}\")"
   ]
  },
  {
   "cell_type": "code",
   "execution_count": null,
   "id": "75f3d64c",
   "metadata": {},
   "outputs": [],
   "source": [
    "bpod_path"
   ]
  },
  {
   "cell_type": "code",
   "execution_count": null,
   "id": "672eacd0",
   "metadata": {},
   "outputs": [],
   "source": [
    "bpod_object = Bpodfile(bpod_path_full)\n"
   ]
  },
  {
   "cell_type": "code",
   "execution_count": null,
   "id": "daa24499",
   "metadata": {},
   "outputs": [],
   "source": [
    "bpod_object.ingest('sess9FB2LN5C', 'scan9FB2LN5C')"
   ]
  },
  {
   "cell_type": "code",
   "execution_count": null,
   "id": "454e2c0d",
   "metadata": {},
   "outputs": [],
   "source": [
    "event.Event()"
   ]
  },
  {
   "cell_type": "code",
   "execution_count": null,
   "id": "e3098f22",
   "metadata": {},
   "outputs": [],
   "source": [
    "scansi = \"scan9FJ842C3\"\n",
    "set((event.Event & f'scan_id = \"{scansi}\"').fetch('event_type'))"
   ]
  },
  {
   "cell_type": "code",
   "execution_count": 8,
   "id": "7101387a",
   "metadata": {},
   "outputs": [
    {
     "data": {
      "text/html": [
       "<div>\n",
       "<style scoped>\n",
       "    .dataframe tbody tr th:only-of-type {\n",
       "        vertical-align: middle;\n",
       "    }\n",
       "\n",
       "    .dataframe tbody tr th {\n",
       "        vertical-align: top;\n",
       "    }\n",
       "\n",
       "    .dataframe thead th {\n",
       "        text-align: right;\n",
       "    }\n",
       "</style>\n",
       "<table border=\"1\" class=\"dataframe\">\n",
       "  <thead>\n",
       "    <tr style=\"text-align: right;\">\n",
       "      <th></th>\n",
       "      <th></th>\n",
       "      <th></th>\n",
       "      <th></th>\n",
       "      <th></th>\n",
       "    </tr>\n",
       "    <tr>\n",
       "      <th>session_id</th>\n",
       "      <th>scan_id</th>\n",
       "      <th>trial_id</th>\n",
       "      <th>event_type</th>\n",
       "      <th>event_start_time</th>\n",
       "    </tr>\n",
       "  </thead>\n",
       "  <tbody>\n",
       "    <tr>\n",
       "      <th rowspan=\"7\" valign=\"top\">sess9FJ842C3</th>\n",
       "      <th rowspan=\"7\" valign=\"top\">scan9FJ842C3</th>\n",
       "      <th rowspan=\"7\" valign=\"top\">0</th>\n",
       "      <th>bpod_at_port</th>\n",
       "      <th>12.2132</th>\n",
       "    </tr>\n",
       "    <tr>\n",
       "      <th>reward</th>\n",
       "      <th>12.2232</th>\n",
       "    </tr>\n",
       "    <tr>\n",
       "      <th>bpod_reward</th>\n",
       "      <th>12.3132</th>\n",
       "    </tr>\n",
       "    <tr>\n",
       "      <th>bpod_cue</th>\n",
       "      <th>126.6410</th>\n",
       "    </tr>\n",
       "    <tr>\n",
       "      <th>bpod_at_target</th>\n",
       "      <th>126.6510</th>\n",
       "    </tr>\n",
       "    <tr>\n",
       "      <th>bpod_in_port_4</th>\n",
       "      <th>129.4530</th>\n",
       "    </tr>\n",
       "    <tr>\n",
       "      <th>bpod_drinking</th>\n",
       "      <th>129.6090</th>\n",
       "    </tr>\n",
       "  </tbody>\n",
       "</table>\n",
       "</div>"
      ],
      "text/plain": [
       "Empty DataFrame\n",
       "Columns: []\n",
       "Index: [(sess9FJ842C3, scan9FJ842C3, 0, bpod_at_port, 12.2132), (sess9FJ842C3, scan9FJ842C3, 0, reward, 12.2232), (sess9FJ842C3, scan9FJ842C3, 0, bpod_reward, 12.3132), (sess9FJ842C3, scan9FJ842C3, 0, bpod_cue, 126.641), (sess9FJ842C3, scan9FJ842C3, 0, bpod_at_target, 126.651), (sess9FJ842C3, scan9FJ842C3, 0, bpod_in_port_4, 129.453), (sess9FJ842C3, scan9FJ842C3, 0, bpod_drinking, 129.609)]"
      ]
     },
     "execution_count": 8,
     "metadata": {},
     "output_type": "execute_result"
    }
   ],
   "source": [
    "(trial.TrialEvent & f'scan_id = \"{scansi}\"' & \"trial_id = 0\").fetch(format = \"frame\", order_by = \"event_start_time\")"
   ]
  },
  {
   "attachments": {},
   "cell_type": "markdown",
   "id": "6d2acedb",
   "metadata": {},
   "source": [
    "Check that insertion worked:"
   ]
  },
  {
   "cell_type": "code",
   "execution_count": 10,
   "id": "9b074d80",
   "metadata": {},
   "outputs": [
    {
     "data": {
      "text/html": [
       "\n",
       "    \n",
       "    <style type=\"text/css\">\n",
       "        .Table{\n",
       "            border-collapse:collapse;\n",
       "        }\n",
       "        .Table th{\n",
       "            background: #A0A0A0; color: #ffffff; padding:4px; border:#f0e0e0 1px solid;\n",
       "            font-weight: normal; font-family: monospace; font-size: 100%;\n",
       "        }\n",
       "        .Table td{\n",
       "            padding:4px; border:#f0e0e0 1px solid; font-size:100%;\n",
       "        }\n",
       "        .Table tr:nth-child(odd){\n",
       "            background: #ffffff;\n",
       "            color: #000000;\n",
       "        }\n",
       "        .Table tr:nth-child(even){\n",
       "            background: #f3f1ff;\n",
       "            color: #000000;\n",
       "        }\n",
       "        /* Tooltip container */\n",
       "        .djtooltip {\n",
       "        }\n",
       "        /* Tooltip text */\n",
       "        .djtooltip .djtooltiptext {\n",
       "            visibility: hidden;\n",
       "            width: 120px;\n",
       "            background-color: black;\n",
       "            color: #fff;\n",
       "            text-align: center;\n",
       "            padding: 5px 0;\n",
       "            border-radius: 6px;\n",
       "            /* Position the tooltip text - see examples below! */\n",
       "            position: absolute;\n",
       "            z-index: 1;\n",
       "        }\n",
       "        #primary {\n",
       "            font-weight: bold;\n",
       "            color: black;\n",
       "        }\n",
       "        #nonprimary {\n",
       "            font-weight: normal;\n",
       "            color: white;\n",
       "        }\n",
       "\n",
       "        /* Show the tooltip text when you mouse over the tooltip container */\n",
       "        .djtooltip:hover .djtooltiptext {\n",
       "            visibility: visible;\n",
       "        }\n",
       "    </style>\n",
       "    \n",
       "    <b></b>\n",
       "        <div style=\"max-height:1000px;max-width:1500px;overflow:auto;\">\n",
       "        <table border=\"1\" class=\"Table\">\n",
       "            <thead> <tr style=\"text-align: right;\"> <th> <div class=\"djtooltip\">\n",
       "                            <p id=\"primary\">session_id</p>\n",
       "                            <span class=\"djtooltiptext\"></span>\n",
       "                        </div></th><th><div class=\"djtooltip\">\n",
       "                            <p id=\"primary\">scan_id</p>\n",
       "                            <span class=\"djtooltiptext\"></span>\n",
       "                        </div></th><th><div class=\"djtooltip\">\n",
       "                            <p id=\"primary\">trial_id</p>\n",
       "                            <span class=\"djtooltiptext\">trial number (1-based indexing)</span>\n",
       "                        </div></th><th><div class=\"djtooltip\">\n",
       "                            <p id=\"primary\">event_type</p>\n",
       "                            <span class=\"djtooltiptext\"></span>\n",
       "                        </div></th><th><div class=\"djtooltip\">\n",
       "                            <p id=\"primary\">event_start_time</p>\n",
       "                            <span class=\"djtooltiptext\">(second) relative to recording start</span>\n",
       "                        </div> </th> </tr> </thead>\n",
       "            <tbody> <tr> <td>sess9FJ842C3</td>\n",
       "<td>scan9FJ842C3</td>\n",
       "<td>0</td>\n",
       "<td>bpod_at_port</td>\n",
       "<td>12.2132</td></tr><tr><td>sess9FJ842C3</td>\n",
       "<td>scan9FJ842C3</td>\n",
       "<td>0</td>\n",
       "<td>bpod_at_target</td>\n",
       "<td>126.651</td></tr><tr><td>sess9FJ842C3</td>\n",
       "<td>scan9FJ842C3</td>\n",
       "<td>0</td>\n",
       "<td>bpod_cue</td>\n",
       "<td>126.641</td></tr><tr><td>sess9FJ842C3</td>\n",
       "<td>scan9FJ842C3</td>\n",
       "<td>0</td>\n",
       "<td>bpod_drinking</td>\n",
       "<td>129.609</td></tr><tr><td>sess9FJ842C3</td>\n",
       "<td>scan9FJ842C3</td>\n",
       "<td>0</td>\n",
       "<td>bpod_in_port_4</td>\n",
       "<td>129.453</td></tr><tr><td>sess9FJ842C3</td>\n",
       "<td>scan9FJ842C3</td>\n",
       "<td>0</td>\n",
       "<td>bpod_reward</td>\n",
       "<td>12.3132</td></tr><tr><td>sess9FJ842C3</td>\n",
       "<td>scan9FJ842C3</td>\n",
       "<td>0</td>\n",
       "<td>reward</td>\n",
       "<td>12.2232</td> </tr> </tbody>\n",
       "        </table>\n",
       "        \n",
       "        <p>Total: 7</p></div>\n",
       "        "
      ],
      "text/plain": [
       "*session_id    *scan_id       *trial_id    *event_type    *event_start_t\n",
       "+------------+ +------------+ +----------+ +------------+ +------------+\n",
       "sess9FJ842C3   scan9FJ842C3   0            bpod_at_port   12.2132       \n",
       "sess9FJ842C3   scan9FJ842C3   0            bpod_at_target 126.651       \n",
       "sess9FJ842C3   scan9FJ842C3   0            bpod_cue       126.641       \n",
       "sess9FJ842C3   scan9FJ842C3   0            bpod_drinking  129.609       \n",
       "sess9FJ842C3   scan9FJ842C3   0            bpod_in_port_4 129.453       \n",
       "sess9FJ842C3   scan9FJ842C3   0            bpod_reward    12.3132       \n",
       "sess9FJ842C3   scan9FJ842C3   0            reward         12.2232       \n",
       " (Total: 7)"
      ]
     },
     "execution_count": 10,
     "metadata": {},
     "output_type": "execute_result"
    }
   ],
   "source": [
    "trial.TrialEvent & 'trial_id=0' & scan_key"
   ]
  },
  {
   "cell_type": "code",
   "execution_count": 11,
   "id": "5488993f",
   "metadata": {},
   "outputs": [
    {
     "data": {
      "text/html": [
       "\n",
       "    \n",
       "    <style type=\"text/css\">\n",
       "        .Table{\n",
       "            border-collapse:collapse;\n",
       "        }\n",
       "        .Table th{\n",
       "            background: #A0A0A0; color: #ffffff; padding:4px; border:#f0e0e0 1px solid;\n",
       "            font-weight: normal; font-family: monospace; font-size: 100%;\n",
       "        }\n",
       "        .Table td{\n",
       "            padding:4px; border:#f0e0e0 1px solid; font-size:100%;\n",
       "        }\n",
       "        .Table tr:nth-child(odd){\n",
       "            background: #ffffff;\n",
       "            color: #000000;\n",
       "        }\n",
       "        .Table tr:nth-child(even){\n",
       "            background: #f3f1ff;\n",
       "            color: #000000;\n",
       "        }\n",
       "        /* Tooltip container */\n",
       "        .djtooltip {\n",
       "        }\n",
       "        /* Tooltip text */\n",
       "        .djtooltip .djtooltiptext {\n",
       "            visibility: hidden;\n",
       "            width: 120px;\n",
       "            background-color: black;\n",
       "            color: #fff;\n",
       "            text-align: center;\n",
       "            padding: 5px 0;\n",
       "            border-radius: 6px;\n",
       "            /* Position the tooltip text - see examples below! */\n",
       "            position: absolute;\n",
       "            z-index: 1;\n",
       "        }\n",
       "        #primary {\n",
       "            font-weight: bold;\n",
       "            color: black;\n",
       "        }\n",
       "        #nonprimary {\n",
       "            font-weight: normal;\n",
       "            color: white;\n",
       "        }\n",
       "\n",
       "        /* Show the tooltip text when you mouse over the tooltip container */\n",
       "        .djtooltip:hover .djtooltiptext {\n",
       "            visibility: visible;\n",
       "        }\n",
       "    </style>\n",
       "    \n",
       "    <b></b>\n",
       "        <div style=\"max-height:1000px;max-width:1500px;overflow:auto;\">\n",
       "        <table border=\"1\" class=\"Table\">\n",
       "            <thead> <tr style=\"text-align: right;\"> <th> <div class=\"djtooltip\">\n",
       "                            <p id=\"primary\">session_id</p>\n",
       "                            <span class=\"djtooltiptext\"></span>\n",
       "                        </div></th><th><div class=\"djtooltip\">\n",
       "                            <p id=\"primary\">scan_id</p>\n",
       "                            <span class=\"djtooltiptext\"></span>\n",
       "                        </div></th><th><div class=\"djtooltip\">\n",
       "                            <p id=\"primary\">event_type</p>\n",
       "                            <span class=\"djtooltiptext\"></span>\n",
       "                        </div></th><th><div class=\"djtooltip\">\n",
       "                            <p id=\"primary\">event_start_time</p>\n",
       "                            <span class=\"djtooltiptext\">(second) relative to recording start</span>\n",
       "                        </div></th><th><div class=\"djtooltip\">\n",
       "                            <p id=\"nonprimary\">event_end_time</p>\n",
       "                            <span class=\"djtooltiptext\">(second) relative to recording start</span>\n",
       "                        </div> </th> </tr> </thead>\n",
       "            <tbody> <tr> <td>sess9FJ842C3</td>\n",
       "<td>scan9FJ842C3</td>\n",
       "<td>aux_bpod_reward</td>\n",
       "<td>13.7745</td>\n",
       "<td>13.8745</td></tr><tr><td>sess9FJ842C3</td>\n",
       "<td>scan9FJ842C3</td>\n",
       "<td>aux_bpod_reward</td>\n",
       "<td>24.231</td>\n",
       "<td>24.331</td></tr><tr><td>sess9FJ842C3</td>\n",
       "<td>scan9FJ842C3</td>\n",
       "<td>aux_bpod_reward</td>\n",
       "<td>37.0155</td>\n",
       "<td>37.1155</td></tr><tr><td>sess9FJ842C3</td>\n",
       "<td>scan9FJ842C3</td>\n",
       "<td>aux_bpod_reward</td>\n",
       "<td>64.1573</td>\n",
       "<td>64.2573</td></tr><tr><td>sess9FJ842C3</td>\n",
       "<td>scan9FJ842C3</td>\n",
       "<td>aux_bpod_reward</td>\n",
       "<td>213.386</td>\n",
       "<td>213.486</td></tr><tr><td>sess9FJ842C3</td>\n",
       "<td>scan9FJ842C3</td>\n",
       "<td>aux_bpod_tone</td>\n",
       "<td>10.9724</td>\n",
       "<td>11.2724</td></tr><tr><td>sess9FJ842C3</td>\n",
       "<td>scan9FJ842C3</td>\n",
       "<td>aux_bpod_tone</td>\n",
       "<td>13.7747</td>\n",
       "<td>14.0747</td></tr><tr><td>sess9FJ842C3</td>\n",
       "<td>scan9FJ842C3</td>\n",
       "<td>aux_bpod_tone</td>\n",
       "<td>19.0091</td>\n",
       "<td>19.3092</td></tr><tr><td>sess9FJ842C3</td>\n",
       "<td>scan9FJ842C3</td>\n",
       "<td>aux_bpod_tone</td>\n",
       "<td>24.2312</td>\n",
       "<td>24.5312</td></tr><tr><td>sess9FJ842C3</td>\n",
       "<td>scan9FJ842C3</td>\n",
       "<td>aux_bpod_tone</td>\n",
       "<td>30.8997</td>\n",
       "<td>31.1996</td></tr><tr><td>sess9FJ842C3</td>\n",
       "<td>scan9FJ842C3</td>\n",
       "<td>aux_bpod_tone</td>\n",
       "<td>37.0157</td>\n",
       "<td>37.3157</td></tr><tr><td>sess9FJ842C3</td>\n",
       "<td>scan9FJ842C3</td>\n",
       "<td>aux_bpod_tone</td>\n",
       "<td>43.8952</td>\n",
       "<td>44.1953</td></tr><tr><td>sess9FJ842C3</td>\n",
       "<td>scan9FJ842C3</td>\n",
       "<td>aux_bpod_tone</td>\n",
       "<td>64.1575</td>\n",
       "<td>64.4575</td></tr><tr><td>sess9FJ842C3</td>\n",
       "<td>scan9FJ842C3</td>\n",
       "<td>aux_bpod_tone</td>\n",
       "<td>143.631</td>\n",
       "<td>143.931</td></tr><tr><td>sess9FJ842C3</td>\n",
       "<td>scan9FJ842C3</td>\n",
       "<td>aux_bpod_tone</td>\n",
       "<td>202.256</td>\n",
       "<td>202.556</td></tr><tr><td>sess9FJ842C3</td>\n",
       "<td>scan9FJ842C3</td>\n",
       "<td>aux_bpod_tone</td>\n",
       "<td>213.386</td>\n",
       "<td>213.686</td></tr><tr><td>sess9FJ842C3</td>\n",
       "<td>scan9FJ842C3</td>\n",
       "<td>aux_bpod_visual</td>\n",
       "<td>10.9622</td>\n",
       "<td>10.9722</td></tr><tr><td>sess9FJ842C3</td>\n",
       "<td>scan9FJ842C3</td>\n",
       "<td>aux_bpod_visual</td>\n",
       "<td>18.9989</td>\n",
       "<td>19.0089</td></tr><tr><td>sess9FJ842C3</td>\n",
       "<td>scan9FJ842C3</td>\n",
       "<td>aux_bpod_visual</td>\n",
       "<td>30.8895</td>\n",
       "<td>30.8995</td></tr><tr><td>sess9FJ842C3</td>\n",
       "<td>scan9FJ842C3</td>\n",
       "<td>aux_bpod_visual</td>\n",
       "<td>43.8851</td>\n",
       "<td>43.8951</td></tr><tr><td>sess9FJ842C3</td>\n",
       "<td>scan9FJ842C3</td>\n",
       "<td>aux_bpod_visual</td>\n",
       "<td>143.621</td>\n",
       "<td>143.631</td></tr><tr><td>sess9FJ842C3</td>\n",
       "<td>scan9FJ842C3</td>\n",
       "<td>aux_bpod_visual</td>\n",
       "<td>202.246</td>\n",
       "<td>202.256</td></tr><tr><td>sess9FJ842C3</td>\n",
       "<td>scan9FJ842C3</td>\n",
       "<td>aux_cam</td>\n",
       "<td>0.0</td>\n",
       "<td>0.005</td></tr><tr><td>sess9FJ842C3</td>\n",
       "<td>scan9FJ842C3</td>\n",
       "<td>aux_cam</td>\n",
       "<td>0.01665</td>\n",
       "<td>0.02165</td></tr><tr><td>sess9FJ842C3</td>\n",
       "<td>scan9FJ842C3</td>\n",
       "<td>aux_cam</td>\n",
       "<td>0.03335</td>\n",
       "<td>0.03835</td></tr><tr><td>sess9FJ842C3</td>\n",
       "<td>scan9FJ842C3</td>\n",
       "<td>aux_cam</td>\n",
       "<td>0.05</td>\n",
       "<td>0.055</td></tr><tr><td>sess9FJ842C3</td>\n",
       "<td>scan9FJ842C3</td>\n",
       "<td>aux_cam</td>\n",
       "<td>0.06665</td>\n",
       "<td>0.07165</td></tr><tr><td>sess9FJ842C3</td>\n",
       "<td>scan9FJ842C3</td>\n",
       "<td>aux_cam</td>\n",
       "<td>0.08335</td>\n",
       "<td>0.08835</td></tr><tr><td>sess9FJ842C3</td>\n",
       "<td>scan9FJ842C3</td>\n",
       "<td>aux_cam</td>\n",
       "<td>0.1</td>\n",
       "<td>0.105</td></tr><tr><td>sess9FJ842C3</td>\n",
       "<td>scan9FJ842C3</td>\n",
       "<td>aux_cam</td>\n",
       "<td>0.11665</td>\n",
       "<td>0.12165</td></tr><tr><td>sess9FJ842C3</td>\n",
       "<td>scan9FJ842C3</td>\n",
       "<td>aux_cam</td>\n",
       "<td>0.13335</td>\n",
       "<td>0.13835</td></tr><tr><td>sess9FJ842C3</td>\n",
       "<td>scan9FJ842C3</td>\n",
       "<td>aux_cam</td>\n",
       "<td>0.15</td>\n",
       "<td>0.155</td></tr><tr><td>sess9FJ842C3</td>\n",
       "<td>scan9FJ842C3</td>\n",
       "<td>aux_cam</td>\n",
       "<td>0.16665</td>\n",
       "<td>0.17165</td></tr><tr><td>sess9FJ842C3</td>\n",
       "<td>scan9FJ842C3</td>\n",
       "<td>aux_cam</td>\n",
       "<td>0.18335</td>\n",
       "<td>0.18835</td></tr><tr><td>sess9FJ842C3</td>\n",
       "<td>scan9FJ842C3</td>\n",
       "<td>aux_cam</td>\n",
       "<td>0.2</td>\n",
       "<td>0.205</td></tr><tr><td>sess9FJ842C3</td>\n",
       "<td>scan9FJ842C3</td>\n",
       "<td>aux_cam</td>\n",
       "<td>0.21665</td>\n",
       "<td>0.22165</td></tr><tr><td>sess9FJ842C3</td>\n",
       "<td>scan9FJ842C3</td>\n",
       "<td>aux_cam</td>\n",
       "<td>0.23335</td>\n",
       "<td>0.23835</td></tr><tr><td>sess9FJ842C3</td>\n",
       "<td>scan9FJ842C3</td>\n",
       "<td>aux_cam</td>\n",
       "<td>0.25</td>\n",
       "<td>0.255</td></tr><tr><td>sess9FJ842C3</td>\n",
       "<td>scan9FJ842C3</td>\n",
       "<td>aux_cam</td>\n",
       "<td>0.26665</td>\n",
       "<td>0.27165</td></tr><tr><td>sess9FJ842C3</td>\n",
       "<td>scan9FJ842C3</td>\n",
       "<td>aux_cam</td>\n",
       "<td>0.28335</td>\n",
       "<td>0.28835</td></tr><tr><td>sess9FJ842C3</td>\n",
       "<td>scan9FJ842C3</td>\n",
       "<td>aux_cam</td>\n",
       "<td>0.3</td>\n",
       "<td>0.305</td></tr><tr><td>sess9FJ842C3</td>\n",
       "<td>scan9FJ842C3</td>\n",
       "<td>aux_cam</td>\n",
       "<td>0.31665</td>\n",
       "<td>0.32165</td></tr><tr><td>sess9FJ842C3</td>\n",
       "<td>scan9FJ842C3</td>\n",
       "<td>aux_cam</td>\n",
       "<td>0.33335</td>\n",
       "<td>0.33835</td></tr><tr><td>sess9FJ842C3</td>\n",
       "<td>scan9FJ842C3</td>\n",
       "<td>aux_cam</td>\n",
       "<td>0.35</td>\n",
       "<td>0.355</td></tr><tr><td>sess9FJ842C3</td>\n",
       "<td>scan9FJ842C3</td>\n",
       "<td>aux_cam</td>\n",
       "<td>0.36665</td>\n",
       "<td>0.37165</td></tr><tr><td>sess9FJ842C3</td>\n",
       "<td>scan9FJ842C3</td>\n",
       "<td>aux_cam</td>\n",
       "<td>0.38335</td>\n",
       "<td>0.38835</td></tr><tr><td>sess9FJ842C3</td>\n",
       "<td>scan9FJ842C3</td>\n",
       "<td>aux_cam</td>\n",
       "<td>0.4</td>\n",
       "<td>0.405</td></tr><tr><td>sess9FJ842C3</td>\n",
       "<td>scan9FJ842C3</td>\n",
       "<td>aux_cam</td>\n",
       "<td>0.41665</td>\n",
       "<td>0.42165</td></tr><tr><td>sess9FJ842C3</td>\n",
       "<td>scan9FJ842C3</td>\n",
       "<td>aux_cam</td>\n",
       "<td>0.43335</td>\n",
       "<td>0.43835</td></tr><tr><td>sess9FJ842C3</td>\n",
       "<td>scan9FJ842C3</td>\n",
       "<td>aux_cam</td>\n",
       "<td>0.45</td>\n",
       "<td>0.455</td> </tr> </tbody>\n",
       "        </table>\n",
       "        <p>...</p>\n",
       "        <p>Total: 20862</p></div>\n",
       "        "
      ],
      "text/plain": [
       "*session_id    *scan_id       *event_type    *event_start_t event_end_time\n",
       "+------------+ +------------+ +------------+ +------------+ +------------+\n",
       "sess9FJ842C3   scan9FJ842C3   aux_bpod_rewar 13.7745        13.8745       \n",
       "sess9FJ842C3   scan9FJ842C3   aux_bpod_rewar 24.231         24.331        \n",
       "sess9FJ842C3   scan9FJ842C3   aux_bpod_rewar 37.0155        37.1155       \n",
       "sess9FJ842C3   scan9FJ842C3   aux_bpod_rewar 64.1573        64.2573       \n",
       "sess9FJ842C3   scan9FJ842C3   aux_bpod_rewar 213.386        213.486       \n",
       "sess9FJ842C3   scan9FJ842C3   aux_bpod_tone  10.9724        11.2724       \n",
       "sess9FJ842C3   scan9FJ842C3   aux_bpod_tone  13.7747        14.0747       \n",
       "sess9FJ842C3   scan9FJ842C3   aux_bpod_tone  19.0091        19.3092       \n",
       "sess9FJ842C3   scan9FJ842C3   aux_bpod_tone  24.2312        24.5312       \n",
       "sess9FJ842C3   scan9FJ842C3   aux_bpod_tone  30.8997        31.1996       \n",
       "sess9FJ842C3   scan9FJ842C3   aux_bpod_tone  37.0157        37.3157       \n",
       "sess9FJ842C3   scan9FJ842C3   aux_bpod_tone  43.8952        44.1953       \n",
       "sess9FJ842C3   scan9FJ842C3   aux_bpod_tone  64.1575        64.4575       \n",
       "sess9FJ842C3   scan9FJ842C3   aux_bpod_tone  143.631        143.931       \n",
       "sess9FJ842C3   scan9FJ842C3   aux_bpod_tone  202.256        202.556       \n",
       "sess9FJ842C3   scan9FJ842C3   aux_bpod_tone  213.386        213.686       \n",
       "sess9FJ842C3   scan9FJ842C3   aux_bpod_visua 10.9622        10.9722       \n",
       "sess9FJ842C3   scan9FJ842C3   aux_bpod_visua 18.9989        19.0089       \n",
       "sess9FJ842C3   scan9FJ842C3   aux_bpod_visua 30.8895        30.8995       \n",
       "sess9FJ842C3   scan9FJ842C3   aux_bpod_visua 43.8851        43.8951       \n",
       "sess9FJ842C3   scan9FJ842C3   aux_bpod_visua 143.621        143.631       \n",
       "sess9FJ842C3   scan9FJ842C3   aux_bpod_visua 202.246        202.256       \n",
       "sess9FJ842C3   scan9FJ842C3   aux_cam        0.0            0.005         \n",
       "sess9FJ842C3   scan9FJ842C3   aux_cam        0.01665        0.02165       \n",
       "sess9FJ842C3   scan9FJ842C3   aux_cam        0.03335        0.03835       \n",
       "sess9FJ842C3   scan9FJ842C3   aux_cam        0.05           0.055         \n",
       "sess9FJ842C3   scan9FJ842C3   aux_cam        0.06665        0.07165       \n",
       "sess9FJ842C3   scan9FJ842C3   aux_cam        0.08335        0.08835       \n",
       "sess9FJ842C3   scan9FJ842C3   aux_cam        0.1            0.105         \n",
       "sess9FJ842C3   scan9FJ842C3   aux_cam        0.11665        0.12165       \n",
       "sess9FJ842C3   scan9FJ842C3   aux_cam        0.13335        0.13835       \n",
       "sess9FJ842C3   scan9FJ842C3   aux_cam        0.15           0.155         \n",
       "sess9FJ842C3   scan9FJ842C3   aux_cam        0.16665        0.17165       \n",
       "sess9FJ842C3   scan9FJ842C3   aux_cam        0.18335        0.18835       \n",
       "sess9FJ842C3   scan9FJ842C3   aux_cam        0.2            0.205         \n",
       "sess9FJ842C3   scan9FJ842C3   aux_cam        0.21665        0.22165       \n",
       "sess9FJ842C3   scan9FJ842C3   aux_cam        0.23335        0.23835       \n",
       "sess9FJ842C3   scan9FJ842C3   aux_cam        0.25           0.255         \n",
       "sess9FJ842C3   scan9FJ842C3   aux_cam        0.26665        0.27165       \n",
       "sess9FJ842C3   scan9FJ842C3   aux_cam        0.28335        0.28835       \n",
       "sess9FJ842C3   scan9FJ842C3   aux_cam        0.3            0.305         \n",
       "sess9FJ842C3   scan9FJ842C3   aux_cam        0.31665        0.32165       \n",
       "sess9FJ842C3   scan9FJ842C3   aux_cam        0.33335        0.33835       \n",
       "sess9FJ842C3   scan9FJ842C3   aux_cam        0.35           0.355         \n",
       "sess9FJ842C3   scan9FJ842C3   aux_cam        0.36665        0.37165       \n",
       "sess9FJ842C3   scan9FJ842C3   aux_cam        0.38335        0.38835       \n",
       "sess9FJ842C3   scan9FJ842C3   aux_cam        0.4            0.405         \n",
       "sess9FJ842C3   scan9FJ842C3   aux_cam        0.41665        0.42165       \n",
       "sess9FJ842C3   scan9FJ842C3   aux_cam        0.43335        0.43835       \n",
       "sess9FJ842C3   scan9FJ842C3   aux_cam        0.45           0.455         \n",
       "   ...\n",
       " (Total: 20862)"
      ]
     },
     "execution_count": 11,
     "metadata": {},
     "output_type": "execute_result"
    }
   ],
   "source": [
    "event.Event & scan_key"
   ]
  },
  {
   "attachments": {},
   "cell_type": "markdown",
   "id": "3472ae04",
   "metadata": {},
   "source": [
    "We can also interact with bpod objects. For example:"
   ]
  },
  {
   "cell_type": "code",
   "execution_count": 34,
   "id": "695cdf7c",
   "metadata": {},
   "outputs": [
    {
     "data": {
      "text/plain": [
       "{'bpod_cue': 117.23,\n",
       " 'bpod_at_target': 117.24,\n",
       " 'bpod_at_port': 2.8023000000000025,\n",
       " 'bpod_reward': 2.9023000000000025,\n",
       " 'bpod_in_port_4': 120.0423,\n",
       " 'bpod_drinking': 120.1977}"
      ]
     },
     "execution_count": 34,
     "metadata": {},
     "output_type": "execute_result"
    }
   ],
   "source": [
    "bpod_object.trial(0).events"
   ]
  },
  {
   "cell_type": "code",
   "execution_count": 33,
   "id": "6c1f1c63",
   "metadata": {},
   "outputs": [
    {
     "data": {
      "text/plain": [
       "{'error': False, 'timeout': False}"
      ]
     },
     "execution_count": 33,
     "metadata": {},
     "output_type": "execute_result"
    }
   ],
   "source": [
    "bpod_object.trial(0).attributes"
   ]
  },
  {
   "cell_type": "code",
   "execution_count": 66,
   "id": "5625ab41",
   "metadata": {},
   "outputs": [
    {
     "data": {
      "text/plain": [
       "{'SoftCode10': 3.4556999999999998,\n",
       " 'Tup': array([3.4657, 8.7877, 8.8685, 8.8686, 8.9686]),\n",
       " 'HiFi1_1': array([3.4658, 8.6878]),\n",
       " 'PA1_Port1In': 8.687700000000001,\n",
       " 'PA1_Port1Out': 8.9627}"
      ]
     },
     "execution_count": 66,
     "metadata": {},
     "output_type": "execute_result"
    }
   ],
   "source": [
    "bpod_object.trial_data[1]['Events']"
   ]
  },
  {
   "cell_type": "code",
   "execution_count": 67,
   "id": "0c788e64",
   "metadata": {},
   "outputs": [
    {
     "data": {
      "text/plain": [
       "{'WaitForPosTriggerSoftCode': array([0.    , 3.4557]),\n",
       " 'CueDelay': array([3.4557, 3.4657]),\n",
       " 'WaitForResponse': array([3.4657, 8.6877]),\n",
       " 'PA1_Port1RewardDelay': array([8.6877, 8.7877]),\n",
       " 'PA1_Port1Reward': array([8.7877, 8.8685]),\n",
       " 'CloseValves': array([8.8685, 8.8686]),\n",
       " 'Drinking': array([8.8686, 8.9686]),\n",
       " 'Port1RewardDelay': array([nan, nan]),\n",
       " 'Port2RewardDelay': array([nan, nan]),\n",
       " 'Port3RewardDelay': array([nan, nan]),\n",
       " 'Port4RewardDelay': array([nan, nan]),\n",
       " 'PA1_Port2RewardDelay': array([nan, nan]),\n",
       " 'PA1_Port3RewardDelay': array([nan, nan]),\n",
       " 'PA1_Port4RewardDelay': array([nan, nan]),\n",
       " 'Port1Reward': array([nan, nan]),\n",
       " 'Port2Reward': array([nan, nan]),\n",
       " 'Port3Reward': array([nan, nan]),\n",
       " 'Port4Reward': array([nan, nan]),\n",
       " 'PA1_Port2Reward': array([nan, nan]),\n",
       " 'PA1_Port3Reward': array([nan, nan]),\n",
       " 'PA1_Port4Reward': array([nan, nan]),\n",
       " 'Punish': array([nan, nan]),\n",
       " 'EarlyWithdrawal': array([nan, nan])}"
      ]
     },
     "execution_count": 67,
     "metadata": {},
     "output_type": "execute_result"
    }
   ],
   "source": [
    "bpod_object.trial_data[1]['States']"
   ]
  },
  {
   "cell_type": "code",
   "execution_count": 70,
   "metadata": {},
   "outputs": [
    {
     "data": {
      "text/plain": [
       "{'WaitForPosTriggerSoftCode': array([  0.  , 117.23]),\n",
       " 'CueDelay': array([117.23, 117.24]),\n",
       " 'WaitForResponse': array([117.24  , 120.0423]),\n",
       " 'Port4RewardDelay': array([120.0423, 120.1423]),\n",
       " 'Port4Reward': array([120.1423, 120.1976]),\n",
       " 'CloseValves': array([120.1976, 120.1977]),\n",
       " 'Drinking': array([120.1977, 120.2977]),\n",
       " 'Port1RewardDelay': array([nan, nan]),\n",
       " 'Port2RewardDelay': array([nan, nan]),\n",
       " 'Port3RewardDelay': array([nan, nan]),\n",
       " 'PA1_Port1RewardDelay': array([nan, nan]),\n",
       " 'PA1_Port2RewardDelay': array([nan, nan]),\n",
       " 'PA1_Port3RewardDelay': array([nan, nan]),\n",
       " 'PA1_Port4RewardDelay': array([nan, nan]),\n",
       " 'Port1Reward': array([nan, nan]),\n",
       " 'Port2Reward': array([nan, nan]),\n",
       " 'Port3Reward': array([nan, nan]),\n",
       " 'PA1_Port1Reward': array([nan, nan]),\n",
       " 'PA1_Port2Reward': array([nan, nan]),\n",
       " 'PA1_Port3Reward': array([nan, nan]),\n",
       " 'PA1_Port4Reward': array([nan, nan]),\n",
       " 'Punish': array([nan, nan]),\n",
       " 'EarlyWithdrawal': array([nan, nan])}"
      ]
     },
     "execution_count": 70,
     "metadata": {},
     "output_type": "execute_result"
    }
   ],
   "source": [
    "bpod_object.trial_data[0]['States']"
   ]
  },
  {
   "cell_type": "code",
   "execution_count": 87,
   "id": "8171bcf9",
   "metadata": {},
   "outputs": [
    {
     "data": {
      "text/plain": [
       "20.2621"
      ]
     },
     "execution_count": 87,
     "metadata": {},
     "output_type": "execute_result"
    }
   ],
   "source": [
    "trial = 3\n",
    "bpod_object.trial_data[trial]['States']['WaitForResponse'][1] - bpod_object.trial_data[trial]['States']['WaitForResponse'][0]"
   ]
  },
  {
   "cell_type": "code",
   "execution_count": 77,
   "id": "c6f3473e",
   "metadata": {},
   "outputs": [
    {
     "ename": "KeyError",
     "evalue": "'BNC1High'",
     "output_type": "error",
     "traceback": [
      "\u001b[0;31m---------------------------------------------------------------------------\u001b[0m",
      "\u001b[0;31mKeyError\u001b[0m                                  Traceback (most recent call last)",
      "\u001b[1;32m/home/tobiasr/adamacs/notebooks/09_insert_bpod_harp.ipynb Cell 38\u001b[0m in \u001b[0;36m<cell line: 2>\u001b[0;34m()\u001b[0m\n\u001b[1;32m      <a href='vscode-notebook-cell://ssh-remote%2B172.26.128.53/home/tobiasr/adamacs/notebooks/09_insert_bpod_harp.ipynb#Y122sdnNjb2RlLXJlbW90ZQ%3D%3D?line=0'>1</a>\u001b[0m \u001b[39m# time between bpod first visual stimulus trigger and AUX master trigger onset in BPOD frame\u001b[39;00m\n\u001b[0;32m----> <a href='vscode-notebook-cell://ssh-remote%2B172.26.128.53/home/tobiasr/adamacs/notebooks/09_insert_bpod_harp.ipynb#Y122sdnNjb2RlLXJlbW90ZQ%3D%3D?line=1'>2</a>\u001b[0m bpod_object\u001b[39m.\u001b[39mtrial_data[trial][\u001b[39m'\u001b[39m\u001b[39mStates\u001b[39m\u001b[39m'\u001b[39m][\u001b[39m'\u001b[39m\u001b[39mCueDelay\u001b[39m\u001b[39m'\u001b[39m][\u001b[39m0\u001b[39m] \u001b[39m-\u001b[39m bpod_object\u001b[39m.\u001b[39;49mtrial_data[trial][\u001b[39m'\u001b[39;49m\u001b[39mEvents\u001b[39;49m\u001b[39m'\u001b[39;49m][\u001b[39m'\u001b[39;49m\u001b[39mBNC1High\u001b[39;49m\u001b[39m'\u001b[39;49m][\u001b[39m0\u001b[39m]\n",
      "\u001b[0;31mKeyError\u001b[0m: 'BNC1High'"
     ]
    }
   ],
   "source": [
    "# time between bpod first visual stimulus trigger and AUX master trigger onset in BPOD frame\n",
    "bpod_object.trial_data[trial]['States']['CueDelay'][0] - bpod_object.trial_data[trial]['Events']['BNC1High'][0]"
   ]
  },
  {
   "cell_type": "code",
   "execution_count": 89,
   "id": "12fa8656",
   "metadata": {},
   "outputs": [
    {
     "data": {
      "text/plain": [
       "20.262200000000004"
      ]
     },
     "execution_count": 89,
     "metadata": {},
     "output_type": "execute_result"
    }
   ],
   "source": [
    "# time between bpod first visual stimulus trigger and AUX master trigger onset in AUX frame\n",
    "bpod_trial_start = (event.Event()  &  \"event_type='aux_bpod_visual'\" &  scan_key ).fetch('event_start_time')\n",
    "bpod_reward_start = (event.Event()  &  \"event_type='aux_bpod_reward'\" &  scan_key ).fetch('event_start_time')\n",
    "auxgatetimestamp_start = (event.Event()  &  \"event_type='main_track_gate'\" &  scan_key ).fetch('event_start_time')\n",
    "\n",
    "bpod_reward_start[trial] - bpod_trial_start[trial] -.01\n",
    "# bpod_trial_start[0] - auxgatetimestamp_start[0] "
   ]
  },
  {
   "cell_type": "code",
   "execution_count": null,
   "id": "3bd6bd69",
   "metadata": {},
   "outputs": [],
   "source": [
    "bpod_object.trial_data"
   ]
  },
  {
   "attachments": {},
   "cell_type": "markdown",
   "id": "0d7e7ddf",
   "metadata": {},
   "source": [
    "# Add Harp recording"
   ]
  },
  {
   "cell_type": "code",
   "execution_count": null,
   "id": "151164c3",
   "metadata": {},
   "outputs": [],
   "source": [
    "from adamacs.pipeline import behavior, event, scan\n",
    "from adamacs.ingest.harp import HarpLoader, HarpLoader_sync\n",
    "event_recording = event.BehaviorRecording.fetch('KEY')[0]\n",
    "behavior.HarpRecording()"
   ]
  },
  {
   "cell_type": "code",
   "execution_count": null,
   "id": "a464835c",
   "metadata": {},
   "outputs": [],
   "source": [
    "event.BehaviorRecording() * session.SessionUser() * subject.User()"
   ]
  },
  {
   "cell_type": "code",
   "execution_count": null,
   "id": "7af3f65b",
   "metadata": {},
   "outputs": [],
   "source": [
    "event_recording"
   ]
  },
  {
   "cell_type": "code",
   "execution_count": null,
   "id": "aa64d989",
   "metadata": {},
   "outputs": [],
   "source": [
    "# event.BehaviorRecording().delete"
   ]
  },
  {
   "cell_type": "code",
   "execution_count": null,
   "id": "1d555bc8",
   "metadata": {},
   "outputs": [],
   "source": [
    "scansi = \"scan9FJ1ISOK\"\n",
    "scan_key = (scan.Scan & f'scan_id = \"{scansi}\"').fetch('KEY')[0]\n",
    "\n",
    "bpod_path_relative = (event.BehaviorRecording.File & scan_key).fetch1(\"filepath\")\n",
    "harp_paths = list(find_full_path(\n",
    "    get_experiment_root_data_dir(), bpod_path_relative\n",
    ").parent.glob(\"*harp*bin\"))"
   ]
  },
  {
   "cell_type": "code",
   "execution_count": null,
   "id": "2856564b",
   "metadata": {},
   "outputs": [],
   "source": [
    "scansi = \"scan9FJ1ISOK\"\n",
    "scan_key = (scan.Scan & f'scan_id = \"{scansi}\"').fetch('KEY')[0]\n",
    "\n",
    "bpod_path_relative = (event.BehaviorRecording.File & scan_key).fetch1(\"filepath\")\n",
    "harp_paths = list(find_full_path(\n",
    "    get_experiment_root_data_dir(), bpod_path_relative\n",
    ").parent.glob(\"*IMU_harp*csv\"))"
   ]
  },
  {
   "cell_type": "code",
   "execution_count": null,
   "id": "9f33a35f",
   "metadata": {},
   "outputs": [],
   "source": [
    "harp_paths"
   ]
  },
  {
   "cell_type": "code",
   "execution_count": null,
   "id": "d935e816",
   "metadata": {},
   "outputs": [],
   "source": [
    "allchans = HarpLoader(harp_paths[0]).data_for_insert()"
   ]
  },
  {
   "cell_type": "code",
   "execution_count": null,
   "id": "5e087db8",
   "metadata": {},
   "outputs": [],
   "source": [
    "allchans"
   ]
  },
  {
   "cell_type": "code",
   "execution_count": null,
   "id": "ff311739",
   "metadata": {},
   "outputs": [],
   "source": [
    "scansi = \"scan9FJ1ISOK\"\n",
    "scan_key = (scan.Scan & f'scan_id = \"{scansi}\"').fetch('KEY')[0]\n",
    "\n",
    "bpod_path_relative = (event.BehaviorRecording.File & scan_key).fetch1(\"filepath\")\n",
    "harp_paths = list(find_full_path(\n",
    "    get_experiment_root_data_dir(), bpod_path_relative\n",
    ").parent.glob(\"*2Pframes_harp*csv\"))"
   ]
  },
  {
   "cell_type": "code",
   "execution_count": null,
   "id": "c23f85f6",
   "metadata": {},
   "outputs": [],
   "source": [
    "harp_paths"
   ]
  },
  {
   "cell_type": "code",
   "execution_count": null,
   "id": "36ff5229",
   "metadata": {},
   "outputs": [],
   "source": [
    "allchans_sync = HarpLoader_sync(harp_paths[0]).data_for_insert()"
   ]
  },
  {
   "cell_type": "code",
   "execution_count": null,
   "metadata": {},
   "outputs": [],
   "source": [
    "allchans_sync + allchans"
   ]
  },
  {
   "cell_type": "markdown",
   "id": "6b2a35df",
   "metadata": {},
   "source": [
    "# populate IMU data"
   ]
  },
  {
   "cell_type": "code",
   "execution_count": null,
   "id": "46685286",
   "metadata": {},
   "outputs": [],
   "source": [
    "behavior.HarpRecording.populate()"
   ]
  },
  {
   "cell_type": "code",
   "execution_count": null,
   "id": "240757dc",
   "metadata": {},
   "outputs": [],
   "source": [
    "scansi = \"scan9FJ842C3\"\n",
    "scan_key = (scan.Scan & f'scan_id = \"{scansi}\"').fetch('KEY')[0]"
   ]
  },
  {
   "cell_type": "code",
   "execution_count": null,
   "id": "5560f824",
   "metadata": {},
   "outputs": [],
   "source": [
    "behavior.HarpRecording.Channel() & scan_key"
   ]
  },
  {
   "cell_type": "code",
   "execution_count": null,
   "id": "ab59172e",
   "metadata": {},
   "outputs": [],
   "source": [
    "accelerometer = (behavior.HarpRecording.Channel() & scan_key & \"channel_name LIKE 'IMU accelerometer %'\").fetch(\"data\")\n",
    "gyroscope = (behavior.HarpRecording.Channel() & scan_key & \"channel_name LIKE 'IMU gyroscope %'\").fetch(\"data\")\n",
    "magnetometer = (behavior.HarpRecording.Channel() & scan_key & \"channel_name LIKE 'IMU magnetometer %'\").fetch(\"data\")\n",
    "twopframes = (behavior.HarpRecording.Channel() & scan_key & \"channel_name LIKE '2p %'\").fetch(\"data\")\n",
    "twopptime = (behavior.HarpRecording.Channel() & scan_key & \"channel_name LIKE '2p %'\").fetch(\"time\")"
   ]
  },
  {
   "cell_type": "code",
   "execution_count": null,
   "id": "0b940698",
   "metadata": {},
   "outputs": [],
   "source": [
    "import matplotlib.pyplot as plt \n",
    "\n",
    "fig, axes = plt.subplots(nrows=4, ncols=1, figsize=(15, 8))\n",
    "# plt.rcParams['agg.path.chunksize'] = 10000  # Add this line if it does not rende\n",
    "\n",
    "\n",
    "for i, arr in enumerate(accelerometer):\n",
    "    axes[0].plot(arr, label=f'accelerometer {i+1}')\n",
    "    \n",
    "axes[0].set_ylim([-10000, 10000])\n",
    "axes[0].set_ylabel(\"accelerometer\")\n",
    "axes[0].set_xlabel(\"Time [ms]\")\n",
    "axes[0].legend()\n",
    "\n",
    "for i, arr in enumerate(gyroscope):\n",
    "    axes[1].plot(arr, label=f'gyroscope {i+1}')\n",
    "    \n",
    "axes[1].set_ylabel(\"gyroscope\")\n",
    "axes[1].set_xlabel(\"Time [ms]\")\n",
    "axes[1].legend()\n",
    "\n",
    "for i, arr in enumerate(magnetometer):\n",
    "    axes[2].plot(arr, label=f'magnetometer {i+1}')\n",
    "    \n",
    "axes[0].set_ylim([-10000, 10000])\n",
    "axes[2].set_ylabel(\"magnetometer\")\n",
    "axes[2].set_xlabel(\"Time [ms]\")\n",
    "axes[2].legend()\n",
    "\n",
    "\n",
    "for i, arr in enumerate(twopframes):\n",
    "    axes[3].plot(twopframes[0][:-1], label=f'2p frames {i+1}')\n",
    "    \n",
    "# axes[2].set_ylim([-10, 370])\n",
    "axes[3].set_ylabel(\"2p frame\")\n",
    "axes[3].set_xlabel(\"Time [ms]\")\n",
    "axes[3].legend()\n",
    "\n",
    "fig.suptitle(scan_key[\"scan_id\"], fontsize=16)\n",
    "\n",
    "plt.show() "
   ]
  },
  {
   "cell_type": "code",
   "execution_count": null,
   "id": "09cfdcff",
   "metadata": {},
   "outputs": [],
   "source": [
    "event.EventType()"
   ]
  },
  {
   "cell_type": "code",
   "execution_count": null,
   "id": "5a4c519b",
   "metadata": {},
   "outputs": [],
   "source": [
    "auxgatetimestamp_start = (event.Event()  &  \"event_type = 'HARP_gate'\" &  scan_key ).fetch('event_start_time')\n",
    "auxgatetimestamp_end = (event.Event()  &  \"event_type = 'HARP_gate'\" &  scan_key ).fetch('event_end_time')\n",
    "\n",
    "print(auxgatetimestamp_start)\n",
    "print(auxgatetimestamp_end)"
   ]
  },
  {
   "cell_type": "code",
   "execution_count": null,
   "id": "b52b6157",
   "metadata": {},
   "outputs": [],
   "source": [
    "twopptimeoff = twopptime[0] + auxgatetimestamp_start * 1000\n",
    "print(twopptimeoff[0] / 1000)\n",
    "print(twopptimeoff[-1] / 1000)"
   ]
  },
  {
   "cell_type": "code",
   "execution_count": null,
   "id": "9b50a9bf",
   "metadata": {},
   "outputs": [],
   "source": [
    "auxgatetimestamp_start"
   ]
  },
  {
   "cell_type": "code",
   "execution_count": null,
   "id": "2b0e4e42",
   "metadata": {},
   "outputs": [],
   "source": []
  }
 ],
 "metadata": {
  "jupytext": {
   "formats": "ipynb,py"
  },
  "kernelspec": {
   "display_name": "datajoint",
   "language": "python",
   "name": "python3"
  },
  "language_info": {
   "codemirror_mode": {
    "name": "ipython",
    "version": 3
   },
   "file_extension": ".py",
   "mimetype": "text/x-python",
   "name": "python",
   "nbconvert_exporter": "python",
   "pygments_lexer": "ipython3",
   "version": "3.8.16"
  },
  "vscode": {
   "interpreter": {
    "hash": "b6b88a8194cd92b549912c5fccf4f99c3c2f8b37389322b86781a2268700b256"
   }
  }
 },
 "nbformat": 4,
 "nbformat_minor": 5
}
