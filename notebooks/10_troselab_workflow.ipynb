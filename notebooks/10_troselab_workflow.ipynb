{
 "cells": [
  {
   "cell_type": "markdown",
   "id": "86cc1ca7",
   "metadata": {},
   "source": [
    "# Daily workflow - troselab (DRAFT)"
   ]
  },
  {
   "attachments": {},
   "cell_type": "markdown",
   "id": "5eaa674c",
   "metadata": {},
   "source": [
    "`TR TODO: Jupyter ipywidget GUI`\n",
    "\n",
    "(check Daniel's ipysheet mouse entry GUI for inspiration)\n",
    "\n",
    "1. Upload to analysis server\n",
    "    1. automatic (rcopy with file consolidation)?\n",
    "    2. WinSCP?\n",
    "\n",
    "    \n",
    "2. Session ingest - Have this script parse the user folder. \n",
    "    1. retrieve login name  **DONE**\n",
    "    2. parse user storage folder for SessionIDs, ScanIDs **DONE**\n",
    "    3. intersect with 'Session' tables **DONE**\n",
    "    4. FIRST STEP: session ingestion of new data  **DONE**\n",
    "        1. have ipywidget with list of data to be ingested with checkbox  **DONE**\n",
    "        2. have dropdowns next to SessionsFetch that expose 'Project', 'Anatomical Location', 'Equipment' (NOTE: have me or admin accept new entries? Or user?) - have a user default **DONE**\n",
    "            1. ***TODO*** include a mini2p settings shorthand in elements `imaging.ProcessingParamSet`.\n",
    "        3. IMPORTANT: Have dropdown for `Same_Location_as_Session` - default: same session\n",
    "            1. Include `Same_Location_as_Session` key in `Session` table (default same session)\n",
    "            2. Update after Session ingest\n",
    "        4. have central 'START' button **DONE**\n",
    "        5. Combine session entry with automatic RSpace entry (**DONE***)\n",
    "            0. Include rspace in install requirements!\n",
    "            1. Extract parent folder IDs under 'experiments' from RSpace (add RSpace API key and URL to djconfig )\n",
    "            2. Intersect list with animal ID from session ingest\n",
    "            3. Create new document with `YYYY-MM-DD_SessionID`\n",
    "            4. Append content as verbose tables using Pandas df.to_html (`html_table = df.to_html()`)\n",
    "            5. ***DONE*** IMPORTANT: Push RSpace document ID and noteobook URL in Sessions database!\n",
    "        5. OPTIONAL: Have a notebook section to enter and insert Session Notes\n",
    "        6. OPTIONAL: Submit Sessions to pyrat. Not sure if necessary.\n",
    "        7. TODO: Think if splitting projects off to different database suffixes (and differnt associated tables makes sense from here. Seems reasonable given the focus on the user root directory here.\n",
    "        8. ***DONE***: Implement auto animal pyrat ingest if needed. Crashes now.\n",
    "        9. ***DONE***: Make sure that multi-scan sessions are properly treated. Currently they are not detected as such by the GUI. Make sure ingestion behavior is appropriate.\n",
    "\n",
    "\n",
    "3. Scan ingest / 1st stage s2p processing: \n",
    "    1. ***NO!*** have another list with checkboxes (default checled) - now with all first stage scans of the newly ingested sessions. Have dropdown boxes with s2p parameteres. User default is selected. Followed by 'START'\n",
    "    2. TODO: suppress s2p output, just have progress bars\n",
    "    3. OPTIONAL: Have a notebook section to enter and insert Scan Notes\n",
    "    4. OPTIONAL: Submit sessions, scans and Notes to RSPACE! Upload s2p average image, max image, Source image and Rastermap \n",
    "    5. Upload templates to rspace session, upload movie to rspace session\n",
    "    \n",
    "\n",
    "4. Scan Curation\n",
    "    1. DIFFERENT NOTEBOOK (or different Notebook section)\n",
    "    2. Make intersection of folder with database\n",
    "        1. list _all_ scans\n",
    "        2. have all non-curated red - the others green\n",
    "        3. bhave non-processed scans grey\n",
    "        4. have 'CURATE LOCALLY WITH s2P' buttons behind all scans. This button should spawn a local suite2p GUI which directly loads the respective suite2p stats.npy file from the server. Folder settings for server need to be set in datajoint.json file.\n",
    "\n",
    "5. SERVER: Database backup and Data folder backup\n",
    "    1. Have cronjob backup database to ana2 and isilon (midnight, incremental - only add, no delete. Increment ID to be reversible?)\n",
    "    2. Have cronjob backup data folders to ana2 and isilon (midnight, incremental - only add, no delete)"
   ]
  },
  {
   "cell_type": "markdown",
   "id": "634ec7b4",
   "metadata": {},
   "source": [
    "## Login\n",
    "\n",
    "Either log in via a local config file (see [01_pipeline](./01_pipeline.ipynb)), or enter login information manually. If you are don't have your login information, contact the administrator.\n"
   ]
  },
  {
   "cell_type": "code",
   "execution_count": 1,
   "id": "0b1bebf0",
   "metadata": {},
   "outputs": [
    {
     "name": "stderr",
     "output_type": "stream",
     "text": [
      "[2023-03-20 15:58:26,309][INFO]: Connecting tobiasr@172.26.128.53:3306\n",
      "[2023-03-20 15:58:26,368][INFO]: Connected tobiasr@172.26.128.53:3306\n"
     ]
    },
    {
     "data": {
      "text/plain": [
       "'0.14.0'"
      ]
     },
     "execution_count": 1,
     "metadata": {},
     "output_type": "execute_result"
    }
   ],
   "source": [
    "import os\n",
    "# change to the upper level folder to detect dj_local_conf.json\n",
    "if os.path.basename(os.getcwd())=='notebooks': os.chdir('..')\n",
    "assert os.path.basename(os.getcwd())=='adamacs', (\"Please move to the main directory\")\n",
    "from adamacs.pipeline import subject, session, equipment, surgery, event, trial, imaging\n",
    "from adamacs.ingest import session as isess\n",
    "import datajoint as dj\n",
    "from rspace_client.eln import eln\n",
    "import pandas as pd\n",
    "import numpy as np\n",
    "import matplotlib.pyplot as plt\n",
    "dj.__version__"
   ]
  },
  {
   "attachments": {},
   "cell_type": "markdown",
   "id": "7042be7d",
   "metadata": {},
   "source": [
    "### RSpace connection"
   ]
  },
  {
   "cell_type": "code",
   "execution_count": 2,
   "id": "c5db12e4",
   "metadata": {},
   "outputs": [
    {
     "data": {
      "text/plain": [
       "{'message': 'OK', 'rspaceVersion': '1.80.1'}"
      ]
     },
     "execution_count": 2,
     "metadata": {},
     "output_type": "execute_result"
    }
   ],
   "source": [
    "URL=dj.config['custom'].get('rspace_URL')\n",
    "API_KEY=dj.config['custom'].get('rspace_API_key')\n",
    "api = eln.ELNClient(URL, API_KEY)\n",
    "api.get_status()"
   ]
  },
  {
   "cell_type": "markdown",
   "id": "d29453ed",
   "metadata": {},
   "source": [
    "## Activation\n",
    "Next, import from `adamacs.pipeline` to activate the relevant schema."
   ]
  },
  {
   "cell_type": "code",
   "execution_count": 3,
   "id": "f27dcb14",
   "metadata": {},
   "outputs": [],
   "source": [
    "from adamacs.utility import *\n",
    "from adamacs.nbgui import *\n",
    "from adamacs.pipeline import subject, session, surgery, scan, equipment"
   ]
  },
  {
   "cell_type": "markdown",
   "id": "8cd8be94",
   "metadata": {},
   "source": [
    "Assign easy names for relevant tables"
   ]
  },
  {
   "cell_type": "code",
   "execution_count": 4,
   "id": "30485290",
   "metadata": {},
   "outputs": [],
   "source": [
    "sub, lab, protocol, line, mutation, user, project, subject_genotype, subject_death = (\n",
    "    subject.Subject(), subject.Lab(), subject.Protocol(), subject.Line(), \n",
    "    subject.Mutation(), subject.User(), subject.Project(), subject.SubjectGenotype(), \n",
    "    subject.SubjectDeath()\n",
    "    )"
   ]
  },
  {
   "cell_type": "markdown",
   "id": "3d21a66a",
   "metadata": {},
   "source": [
    "## Cleaning. Use with caution!"
   ]
  },
  {
   "cell_type": "code",
   "execution_count": 5,
   "id": "0d06a401",
   "metadata": {},
   "outputs": [
    {
     "name": "stderr",
     "output_type": "stream",
     "text": [
      "[2023-03-20 15:58:30,817][INFO]: Deleting 0 rows from `tobiasr_session`.`session`\n",
      "[2023-03-20 15:58:30,818][WARNING]: Nothing to delete.\n"
     ]
    },
    {
     "data": {
      "text/plain": [
       "0"
      ]
     },
     "execution_count": 5,
     "metadata": {},
     "output_type": "execute_result"
    }
   ],
   "source": [
    "session.Session.delete()"
   ]
  },
  {
   "cell_type": "markdown",
   "id": "807a36ef",
   "metadata": {},
   "source": [
    "## 1. Data upload\n",
    "(not implemented currently)"
   ]
  },
  {
   "cell_type": "markdown",
   "id": "d83b5668",
   "metadata": {},
   "source": [
    "## 2. Session ingest"
   ]
  },
  {
   "attachments": {},
   "cell_type": "markdown",
   "id": "cb2fabde",
   "metadata": {},
   "source": [
    "### Define ingest GUI functions"
   ]
  },
  {
   "cell_type": "code",
   "execution_count": 14,
   "id": "4e8164fb",
   "metadata": {},
   "outputs": [],
   "source": [
    "# Tobias Rose 2023: Routine ingest helpers\n",
    "\n",
    "import ipywidgets as widgets\n",
    "from natsort import natsorted, ns\n",
    "import re\n",
    "from tqdm import tqdm\n",
    "\n",
    "def select_sessions(IngestedSessionDirA, AvailableSessionDirB, Project, Recording_Location, Equipment, s2pparm, SessionNotes):\n",
    "    \n",
    "    # Personal default values\n",
    "    user_defaults = get_user_defaults(AvailableSessionDirB)\n",
    "       \n",
    "    # Define the widgets\n",
    "    session_dropdowns = []\n",
    "    session_checkboxes = []\n",
    "    for i, session_list in enumerate(AvailableSessionDirB):\n",
    "        # Dropdowns for Project, Recording Location, Equipment\n",
    "\n",
    "        current_session = get_session_key_from_dir([session_list])\n",
    "\n",
    "        # check if directory session is already ingested - if yes: populate GUI with table values. If no: use user defaults\n",
    "        query = session.Session() & f'session_id = \"{current_session[0]}\"'\n",
    "\n",
    "        count = len(query.fetch('session_id'))\n",
    "        # print(current_session)\n",
    "        \n",
    "        if count > 0:\n",
    "            # print(\"HELLO\")\n",
    "            # get the project associated with a session\n",
    "            query = session.ProjectSession() & f'session_id = \"{current_session[0]}\"'\n",
    "            project_dropdown_value = query.fetch(\"project\")\n",
    "            # get the location associated with a session\n",
    "            query = session.Session() * scan.ScanLocation() & f'session_id = \"{current_session[0]}\"'\n",
    "            location_dropdown_value = query.fetch(\"anatomical_location\")\n",
    "            # get the equipment associated with a session\n",
    "            query = session.Session() * scan.Scan() & f'session_id = \"{current_session[0]}\"'\n",
    "            equipment_dropdown_value = query.fetch(\"scanner\")\n",
    "            # get the note associated with a session\n",
    "            query = session.SessionNote() & f'session_id = \"{current_session[0]}\"'\n",
    "            session_note_textbox_value = query.fetch(\"session_note\")\n",
    "            if len(session_note_textbox_value) == 0:\n",
    "                session_note_textbox_value = [\"none\"]    \n",
    "        else:\n",
    "            project_dropdown_value = Project[user_defaults[i][0]]\n",
    "            location_dropdown_value = [Recording_Location[user_defaults[i][1]]]\n",
    "            equipment_dropdown_value = [Equipment[user_defaults[i][2]]]\n",
    "            session_note_textbox_value = [\"none\"]\n",
    "        \n",
    "        project_dropdown = widgets.Dropdown(options=Project, value=project_dropdown_value, description=\"Project:\")\n",
    "        location_dropdown = widgets.Dropdown(options=Recording_Location, value=location_dropdown_value[0], description=\"Location:\")\n",
    "        equipment_dropdown = widgets.Dropdown(options=Equipment, value=equipment_dropdown_value[0], description=\"Setup:\")\n",
    "        s2pparms_dropdown = widgets.Dropdown(options=s2pparm[1], value=s2pparm[1][user_defaults[i][3]], description=\"s2p parm:\")\n",
    "        session_note_textbox = widgets.Text(value=session_note_textbox_value[0], description='Session comment:')\n",
    "\n",
    "        session_dropdowns.append((project_dropdown, location_dropdown, equipment_dropdown, s2pparms_dropdown, session_note_textbox))\n",
    "\n",
    "        # Checkbox for Process?\n",
    "        session_checkbox = widgets.Checkbox(description='run?', layout=widgets.Layout(width='auto'))\n",
    "        session_checkboxes.append(session_checkbox)\n",
    "\n",
    "    # Display the widgets\n",
    "    output = widgets.Output()\n",
    "\n",
    "    with output:\n",
    "        # Display the Sessions labels and associated dropdowns and checkboxes\n",
    "        hbox_list = []\n",
    "        for i, session_list in enumerate(AvailableSessionDirB): #unique_directory_strings(SessionDirA, SessionDirB)\n",
    "            # Create an HBox to hold the label and associated dropdowns and checkbox\n",
    "            hbox = widgets.HBox()\n",
    "            hbox.children = [\n",
    "                widgets.Label(value=session_list + ':', layout=widgets.Layout(width='1800px')), \n",
    "                session_dropdowns[i][0],\n",
    "                session_dropdowns[i][1],\n",
    "                session_dropdowns[i][2],\n",
    "                session_dropdowns[i][3],\n",
    "                session_dropdowns[i][4],\n",
    "                session_checkboxes[i]\n",
    "            ]\n",
    "            if session_list in unique_directory_strings(IngestedSessionDirA, AvailableSessionDirB):\n",
    "                hbox.children[0].value = '*' + session_list + ':'\n",
    "                hbox.children[6].value = True\n",
    "            else:\n",
    "                hbox.children[6].value = False\n",
    "                hbox.children[1].disabled = True\n",
    "                hbox.children[2].disabled = True\n",
    "                hbox.children[3].disabled = True\n",
    "                hbox.children[4].disabled = True\n",
    "                hbox.children[5].disabled = True\n",
    "            hbox_list.append(hbox)\n",
    "\n",
    "        vbox = widgets.VBox(hbox_list, layout=widgets.Layout(flex='0 0 auto', overflow_y='scroll'))\n",
    "        # Display the commit button\n",
    "        commit_button = widgets.Button(description='Commit', layout=widgets.Layout(width='auto'))\n",
    "        display(vbox, commit_button)\n",
    "\n",
    "        # Define the callback function for the commit button\n",
    "        def commit_button_clicked(b):\n",
    "            selected_sessions = [AvailableSessionDirB[i] for i in range(len(AvailableSessionDirB)) if session_checkboxes[i].value]\n",
    "            selected_projects = [session_dropdowns[i][0].value for i in range(len(AvailableSessionDirB)) if session_checkboxes[i].value]\n",
    "            selected_locations = [session_dropdowns[i][1].value for i in range(len(AvailableSessionDirB)) if session_checkboxes[i].value]\n",
    "            selected_equipment = [session_dropdowns[i][2].value for i in range(len(AvailableSessionDirB)) if session_checkboxes[i].value]\n",
    "            selected_s2pparms = [session_dropdowns[i][3].index for i in range(len(AvailableSessionDirB)) if session_checkboxes[i].value]\n",
    "            entered_session_note = [session_dropdowns[i][4].value for i in range(len(AvailableSessionDirB)) if session_checkboxes[i].value]\n",
    "\n",
    "            selected_scans = get_scan_key_from_dir(selected_sessions)\n",
    "            selected_sessions = get_session_key_from_dir(selected_sessions)\n",
    "\n",
    "            selected_s2pparms_index = s2pparm[0][selected_s2pparms]\n",
    "\n",
    "            output.clear_output()\n",
    "            with output:\n",
    "                # print('Selected Sessions:', selected_sessions)\n",
    "                # print('Selected Scans:', selected_scans)\n",
    "                # print('Selected Projects:', selected_projects)\n",
    "                # print('Selected Recording Locations:', selected_locations)\n",
    "                # print('Selected Equipment:', selected_equipment)\n",
    "                # print('Selected S2PParms:', selected_s2pparms)\n",
    "\n",
    "                # Ingest selected sessions here\n",
    "                populate_settings = {'display_progress': True, 'suppress_errors': False, 'processes': 0}\n",
    "\n",
    "                for i, sessi in enumerate(tqdm(selected_sessions, desc='Current Session: {}')):\n",
    "                    # ingest sessions\n",
    "                    isess.ingest_session_scan(sessi, verbose=False, project_key=selected_projects[i], equipment_key=selected_equipment[i], location_key=selected_locations[i], software_key='ScanImage')\n",
    "                    # update / insert session info based on user choice from above\n",
    "                    try:\n",
    "                        session.SessionNote.insert1({'session_id': sessi, 'session_note': entered_session_note[i]})\n",
    "                    except:\n",
    "                        session.SessionNote.delete_quick({'session_id': sessi})\n",
    "                        session.SessionNote.insert1({'session_id': sessi, 'session_note': entered_session_note[i]})\n",
    "                    \n",
    "                    # update scaninfo based on user choice from above\n",
    "                    # get the scans associated with a session\n",
    "                    query = session.Session() * scan.Scan() & f'session_id = \"{sessi}\"'\n",
    "                    scans_to_process = query.fetch(\"scan_id\")\n",
    "\n",
    "                    for j, scansi in enumerate(scans_to_process):\n",
    "                        try:\n",
    "                            scan.Scan.update1({'session_id': sessi, 'scan_id': scansi, 'scan_notes': entered_session_note[i]})\n",
    "                        except:\n",
    "                            scan.Scan.insert1({'session_id': sessi, 'scan_id': scansi, 'scan_notes': entered_session_note[i]})\n",
    "                        try:\n",
    "                            scan.ScanLocation.update1({'session_id': sessi, 'scan_id': scansi, 'anatomical_location': selected_locations[i]})\n",
    "                        except: \n",
    "                            scan.ScanLocation.insert1({'session_id': sessi, 'scan_id': scansi, 'anatomical_location': selected_locations[i]})\n",
    "                        \n",
    "                        # print('Ingested and processed Scan:', scansi)\n",
    "                    \n",
    "                    # SCAN Processing \n",
    "                    scan.ScanInfo.populate(**populate_settings)\n",
    "\n",
    "                    for j, scansi in enumerate(scans_to_process):\n",
    "                        query = session.SessionDirectory() & 'session_id = \"' + sessi + '\"'\n",
    "                        print(query)\n",
    "                        dir_proc = query.fetch('session_dir')[0]\n",
    "                    imaging.ProcessingTask.insert1((sessi, scansi, 3, dir_proc, 'trigger'), skip_duplicates=True)\n",
    "                    ## Make RSpace entries \n",
    "\n",
    "                    query = session.Session() * subject.User() & f'session_id = \"{sessi}\"'\n",
    "                    animalID = query.fetch(\"subject\")[0]\n",
    "                    date = query.fetch(\"session_datetime\")[0].strftime(\"%Y-%m-%d\")\n",
    "                    userID = query.fetch(\"initials\")[0]\n",
    "                    sessionID = query.fetch(\"session_id\")[0]\n",
    "                    fetchtable = session.Session() * scan.ScanPath() * session.SessionUser() * session.ProjectSession() * session.SessionNote() * scan.Scan() & f'session_id = \"{sessi}\"'\n",
    "\n",
    "                    make_rspace_session_document(animalID, sessi, date, userID, fetchtable) # TODOO\n",
    "                \n",
    "                \n",
    "                print('Ingested Sessions:', selected_sessions)\n",
    "\n",
    "        # Attach the callback function to the commit button\n",
    "        commit_button.on_click(commit_button_clicked)\n",
    "\n",
    "    # Display the output\n",
    "    display(output)\n",
    "        \n",
    "def make_rspace_session_document(animalID, sessionID, date, userID, fetchtable):\n",
    "\n",
    "    # find 'Experiments' folder and get ID\n",
    "    folders = api.list_folder_tree()\n",
    "    experiments_ids = []\n",
    "    for record in folders['records']:\n",
    "        if record['name'] == 'Experiments':\n",
    "            experiments_ids.append(record['id'])\n",
    "\n",
    "    # find folders under 'Experiments' folder\n",
    "    names_and_ids = []\n",
    "    subfolders = api.list_folder_tree(experiments_ids[0])\n",
    "    names_and_ids.append([(record['name'], record['id']) for record in subfolders['records']])\n",
    "\n",
    "    # find matches with animal IDs\n",
    "    match_found = any(animalID in item[0] for sublist in names_and_ids for item in sublist)\n",
    "\n",
    "    # if found, find folder id matching that animal\n",
    "    if match_found:\n",
    "        save_folder_id = [x[1] for sublist in names_and_ids for x in sublist if animalID in x[0]][0]\n",
    "    else:\n",
    "        # if not generate the directory\n",
    "        new_folder = api.create_folder(name=f\"{userID}_{animalID}\", parent_folder_id=experiments_ids[0], notebook=True)\n",
    "        save_folder_id = new_folder['id']\n",
    "\n",
    "\n",
    "    # find matches with document IDs\n",
    "\n",
    "    # find all documents in the animal folder\n",
    "    all_animal_documents = api.list_folder_tree(save_folder_id)\n",
    "    doc_names_and_ids = []\n",
    "    doc_names_and_ids.append([(record['name'], record['id']) for record in all_animal_documents['records']])\n",
    "    # find matches with sessionID\n",
    "    match_found = any(sessionID in item[0] for sublist in doc_names_and_ids for item in sublist)\n",
    "\n",
    "    if match_found:\n",
    "        ids = [id for string, id in doc_names_and_ids[0] if sessionID in string]\n",
    "        new_doc = {\"id\": ids[0]}\n",
    "    else:\n",
    "        new_doc = api.create_document(name=f\"{date}_{sessionID}\", parent_folder_id=save_folder_id)\n",
    "\n",
    "    # create RSpace document\n",
    "    df = fetchtable.fetch(format='frame')\n",
    "    html_table = df.to_html()\n",
    "    content = html_table\n",
    "    api.append_content(new_doc['id'], content)\n",
    "\n",
    "    # ingest document in rspace table\n",
    "    session.SessionRspace.insert1({'session_id': sessionID, 'rspace_id': new_doc['id']}, skip_duplicates=True)\n",
    "    # ingest animal folder id in subject Rspace table\n",
    "    subject.SubjectRspace.insert1({'subject': animalID, 'rspace_subject_id': save_folder_id}, skip_duplicates=True)\n",
    "    # session.SessionRspace.insert1({'rspace_id': new_doc['id'], 'rspace_url': new_doc['_links'][0]['link']})\n",
    "def get_date_key_from_dir(directory):\n",
    "    return directory.split(\"_\")[-1]\n",
    "\n",
    "def get_session_dir_key_from_dir(directory):\n",
    "    return [path.split('/')[-1] for path in directory]\n",
    "     \n",
    "def get_scan_dir_key_from_dir(directory):\n",
    "    return [path.split('/')[-1] for path in directory]\n",
    "\n",
    "def get_session_key_from_dir(string):\n",
    "    result = [re.search(r'sess\\S+', item).group(0) for item in string]\n",
    "    return result\n",
    "\n",
    "def get_user_initials_from_dir(string):\n",
    "    result = [name[:2] for name in string]\n",
    "    return result\n",
    "\n",
    "def get_scan_key_from_dir(string):\n",
    "    result = [re.search(r'scan\\S+_', item).group(0)[:-1] for item in string]\n",
    "    return result\n",
    "\n",
    "def unique_directory_strings(dirs1, dirs2):\n",
    "    set1 = set(dirs1)\n",
    "    set2 = set(dirs2)\n",
    "    common_dirs = list(set1.intersection(set2))\n",
    "    unique_dirs = list(set(set1.union(set2)) - set(common_dirs))\n",
    "    return unique_dirs\n",
    "\n",
    "def get_user_defaults(directory):\n",
    "    RN = [2, 2, 0, 2]\n",
    "    JJ = [2, 6, 2, 1]\n",
    "    TR = [2, 2, 0, 2]\n",
    "    LK = [7, 1, 0, 2]\n",
    "    DB = [4, 0, 1, 1]\n",
    "    NK = [6, 5, 6, 1]\n",
    "    \n",
    "    user_initials = get_user_initials_from_dir(directory)\n",
    "\n",
    "    user_arrays = {}\n",
    "    for initial in user_initials:\n",
    "        values = locals()[initial]\n",
    "        user_arrays[initial] = values\n",
    "\n",
    "    new_array = [user_arrays[initial] for initial in user_initials]\n",
    "    return new_array"
   ]
  },
  {
   "cell_type": "markdown",
   "id": "fb0d8e40",
   "metadata": {},
   "source": [
    "#### Populate ingest GUI variables from DJ tables and manual arrays"
   ]
  },
  {
   "cell_type": "code",
   "execution_count": 7,
   "id": "6fbe7c7d",
   "metadata": {},
   "outputs": [],
   "source": [
    "# DJ tables\n",
    "Project = project.fetch('project')\n",
    "Equipment = equipment.Equipment().fetch('scanner')\n",
    "Recording_Location = surgery.AnatomicalLocation().fetch('anatomical_location')\n",
    "\n",
    "session_dirs_ingested = session.SessionDirectory.fetch('session_dir')\n",
    "scan_dirs_ingested = scan.ScanPath.fetch('path')\n",
    "SessionsDirArrayingested = get_session_dir_key_from_dir(session_dirs_ingested)\n",
    "ScanDirArrayingested = get_scan_dir_key_from_dir(scan_dirs_ingested)\n",
    "\n",
    "SessionNotes = session.SessionNote.fetch('session_note')\n",
    "\n",
    "# Manual arrays\n",
    "s2pparm = imaging.ProcessingParamSet.fetch(\"paramset_idx\", \"paramset_desc\")\n",
    "# ['mini2p_a', 'mini2p_b', 'bench2p_a']\n",
    "# s2pparm[0][2]÷"
   ]
  },
  {
   "cell_type": "code",
   "execution_count": 8,
   "id": "47f95185",
   "metadata": {},
   "outputs": [
    {
     "data": {
      "text/plain": [
       "[array([1, 2, 3]),\n",
       " array(['TR: Mini2p (single channel, single plane, non-rigid, 15Hz)',\n",
       "        'TR: Bench2p (single channel, single plane, non-rigid, 30Hz)',\n",
       "        'TR: Bench2p (single channel, single plane, rigid, 30Hz)'],\n",
       "       dtype=object)]"
      ]
     },
     "execution_count": 8,
     "metadata": {},
     "output_type": "execute_result"
    }
   ],
   "source": [
    "imaging.ProcessingParamSet.fetch(\"paramset_idx\", \"paramset_desc\")"
   ]
  },
  {
   "cell_type": "code",
   "execution_count": 9,
   "id": "58698ddb",
   "metadata": {},
   "outputs": [
    {
     "data": {
      "text/html": [
       "\n",
       "    \n",
       "    <style type=\"text/css\">\n",
       "        .Table{\n",
       "            border-collapse:collapse;\n",
       "        }\n",
       "        .Table th{\n",
       "            background: #A0A0A0; color: #ffffff; padding:4px; border:#f0e0e0 1px solid;\n",
       "            font-weight: normal; font-family: monospace; font-size: 100%;\n",
       "        }\n",
       "        .Table td{\n",
       "            padding:4px; border:#f0e0e0 1px solid; font-size:100%;\n",
       "        }\n",
       "        .Table tr:nth-child(odd){\n",
       "            background: #ffffff;\n",
       "        }\n",
       "        .Table tr:nth-child(even){\n",
       "            background: #f3f1ff;\n",
       "        }\n",
       "        /* Tooltip container */\n",
       "        .djtooltip {\n",
       "        }\n",
       "        /* Tooltip text */\n",
       "        .djtooltip .djtooltiptext {\n",
       "            visibility: hidden;\n",
       "            width: 120px;\n",
       "            background-color: black;\n",
       "            color: #fff;\n",
       "            text-align: center;\n",
       "            padding: 5px 0;\n",
       "            border-radius: 6px;\n",
       "            /* Position the tooltip text - see examples below! */\n",
       "            position: absolute;\n",
       "            z-index: 1;\n",
       "        }\n",
       "        #primary {\n",
       "            font-weight: bold;\n",
       "            color: black;\n",
       "        }\n",
       "        #nonprimary {\n",
       "            font-weight: normal;\n",
       "            color: white;\n",
       "        }\n",
       "\n",
       "        /* Show the tooltip text when you mouse over the tooltip container */\n",
       "        .djtooltip:hover .djtooltiptext {\n",
       "            visibility: visible;\n",
       "        }\n",
       "    </style>\n",
       "    \n",
       "    <b>Parameter set used for processing of calcium imaging data</b>\n",
       "        <div style=\"max-height:1000px;max-width:1500px;overflow:auto;\">\n",
       "        <table border=\"1\" class=\"Table\">\n",
       "            <thead> <tr style=\"text-align: right;\"> <th> <div class=\"djtooltip\">\n",
       "                            <p id=\"primary\">paramset_idx</p>\n",
       "                            <span class=\"djtooltiptext\"></span>\n",
       "                        </div></th><th><div class=\"djtooltip\">\n",
       "                            <p id=\"nonprimary\">processing_method</p>\n",
       "                            <span class=\"djtooltiptext\"></span>\n",
       "                        </div></th><th><div class=\"djtooltip\">\n",
       "                            <p id=\"nonprimary\">paramset_desc</p>\n",
       "                            <span class=\"djtooltiptext\"></span>\n",
       "                        </div></th><th><div class=\"djtooltip\">\n",
       "                            <p id=\"nonprimary\">param_set_hash</p>\n",
       "                            <span class=\"djtooltiptext\"></span>\n",
       "                        </div></th><th><div class=\"djtooltip\">\n",
       "                            <p id=\"nonprimary\">params</p>\n",
       "                            <span class=\"djtooltiptext\">dictionary of all applicable parameters</span>\n",
       "                        </div> </th> </tr> </thead>\n",
       "            <tbody> <tr> <td>1</td>\n",
       "<td>suite2p</td>\n",
       "<td>TR: Mini2p (single channel, single plane, non-rigid, 15Hz)</td>\n",
       "<td>e92bc8e7-0ef9-e5f6-78e3-b5557d7bfd9e</td>\n",
       "<td>=BLOB=</td></tr><tr><td>2</td>\n",
       "<td>suite2p</td>\n",
       "<td>TR: Bench2p (single channel, single plane, non-rigid, 30Hz)</td>\n",
       "<td>872cc04a-2de9-9002-df20-413b86d64f2c</td>\n",
       "<td>=BLOB=</td></tr><tr><td>3</td>\n",
       "<td>suite2p</td>\n",
       "<td>TR: Bench2p (single channel, single plane, rigid, 30Hz)</td>\n",
       "<td>73146edd-a587-2e17-2065-42b628fcc019</td>\n",
       "<td>=BLOB=</td> </tr> </tbody>\n",
       "        </table>\n",
       "        \n",
       "        <p>Total: 3</p></div>\n",
       "        "
      ],
      "text/plain": [
       "*paramset_idx  processing_met paramset_desc  param_set_hash params    \n",
       "+------------+ +------------+ +------------+ +------------+ +--------+\n",
       "1              suite2p        TR: Mini2p (si e92bc8e7-0ef9- =BLOB=    \n",
       "2              suite2p        TR: Bench2p (s 872cc04a-2de9- =BLOB=    \n",
       "3              suite2p        TR: Bench2p (s 73146edd-a587- =BLOB=    \n",
       " (Total: 3)"
      ]
     },
     "execution_count": 9,
     "metadata": {},
     "output_type": "execute_result"
    }
   ],
   "source": [
    "imaging.ProcessingParamSet()"
   ]
  },
  {
   "cell_type": "markdown",
   "id": "b049a5a7",
   "metadata": {},
   "source": [
    "#### Parse user data root dir and sort by date-string in directory name"
   ]
  },
  {
   "cell_type": "code",
   "execution_count": 10,
   "id": "4832c989",
   "metadata": {},
   "outputs": [],
   "source": [
    "dataroot = dj.config['custom']['exp_root_data_dir'][0]\n",
    "dirs_root = [d for d in os.listdir(dataroot) if os.path.isdir(os.path.join(dataroot, d)) and 'sess' in d]\n",
    "sorted_dirs_root = natsorted(dirs_root, key=get_date_key_from_dir, reverse = True)"
   ]
  },
  {
   "attachments": {},
   "cell_type": "markdown",
   "id": "297a65e2",
   "metadata": {},
   "source": [
    "### Generate Ingest GUI"
   ]
  },
  {
   "cell_type": "markdown",
   "id": "93fef832",
   "metadata": {},
   "source": []
  },
  {
   "cell_type": "code",
   "execution_count": 13,
   "id": "523b82d8",
   "metadata": {},
   "outputs": [
    {
     "name": "stdout",
     "output_type": "stream",
     "text": [
      "\u001b[1mINGEST GUI\u001b[0m\n"
     ]
    },
    {
     "data": {
      "application/vnd.jupyter.widget-view+json": {
       "model_id": "409d042f41fa4befa684d711b06cb412",
       "version_major": 2,
       "version_minor": 0
      },
      "text/plain": [
       "Output()"
      ]
     },
     "metadata": {},
     "output_type": "display_data"
    }
   ],
   "source": [
    "# print(\"\\033[1m\" + 'Select:                                           Project        Location  Setup        s2p parm' + \"\\033[0m\" )\n",
    "print(\"\\033[1m\" + 'INGEST GUI' + \"\\033[0m\" )\n",
    "selected_data = select_sessions(SessionsDirArrayingested, sorted_dirs_root, Project, Recording_Location, Equipment, s2pparm, SessionNotes)"
   ]
  },
  {
   "cell_type": "code",
   "execution_count": 15,
   "id": "a02cc43e",
   "metadata": {},
   "outputs": [
    {
     "data": {
      "text/html": [
       "\n",
       "    \n",
       "    <style type=\"text/css\">\n",
       "        .Table{\n",
       "            border-collapse:collapse;\n",
       "        }\n",
       "        .Table th{\n",
       "            background: #A0A0A0; color: #ffffff; padding:4px; border:#f0e0e0 1px solid;\n",
       "            font-weight: normal; font-family: monospace; font-size: 100%;\n",
       "        }\n",
       "        .Table td{\n",
       "            padding:4px; border:#f0e0e0 1px solid; font-size:100%;\n",
       "        }\n",
       "        .Table tr:nth-child(odd){\n",
       "            background: #ffffff;\n",
       "        }\n",
       "        .Table tr:nth-child(even){\n",
       "            background: #f3f1ff;\n",
       "        }\n",
       "        /* Tooltip container */\n",
       "        .djtooltip {\n",
       "        }\n",
       "        /* Tooltip text */\n",
       "        .djtooltip .djtooltiptext {\n",
       "            visibility: hidden;\n",
       "            width: 120px;\n",
       "            background-color: black;\n",
       "            color: #fff;\n",
       "            text-align: center;\n",
       "            padding: 5px 0;\n",
       "            border-radius: 6px;\n",
       "            /* Position the tooltip text - see examples below! */\n",
       "            position: absolute;\n",
       "            z-index: 1;\n",
       "        }\n",
       "        #primary {\n",
       "            font-weight: bold;\n",
       "            color: black;\n",
       "        }\n",
       "        #nonprimary {\n",
       "            font-weight: normal;\n",
       "            color: white;\n",
       "        }\n",
       "\n",
       "        /* Show the tooltip text when you mouse over the tooltip container */\n",
       "        .djtooltip:hover .djtooltiptext {\n",
       "            visibility: visible;\n",
       "        }\n",
       "    </style>\n",
       "    \n",
       "    <b>general data about the reso/meso scans from header</b>\n",
       "        <div style=\"max-height:1000px;max-width:1500px;overflow:auto;\">\n",
       "        <table border=\"1\" class=\"Table\">\n",
       "            <thead> <tr style=\"text-align: right;\"> <th> <div class=\"djtooltip\">\n",
       "                            <p id=\"primary\">session_id</p>\n",
       "                            <span class=\"djtooltiptext\"></span>\n",
       "                        </div></th><th><div class=\"djtooltip\">\n",
       "                            <p id=\"primary\">scan_id</p>\n",
       "                            <span class=\"djtooltiptext\"></span>\n",
       "                        </div></th><th><div class=\"djtooltip\">\n",
       "                            <p id=\"nonprimary\">nfields</p>\n",
       "                            <span class=\"djtooltiptext\">number of fields</span>\n",
       "                        </div></th><th><div class=\"djtooltip\">\n",
       "                            <p id=\"nonprimary\">nchannels</p>\n",
       "                            <span class=\"djtooltiptext\">number of channels</span>\n",
       "                        </div></th><th><div class=\"djtooltip\">\n",
       "                            <p id=\"nonprimary\">ndepths</p>\n",
       "                            <span class=\"djtooltiptext\">Number of scanning depths (planes)</span>\n",
       "                        </div></th><th><div class=\"djtooltip\">\n",
       "                            <p id=\"nonprimary\">nframes</p>\n",
       "                            <span class=\"djtooltiptext\">number of recorded frames</span>\n",
       "                        </div></th><th><div class=\"djtooltip\">\n",
       "                            <p id=\"nonprimary\">nrois</p>\n",
       "                            <span class=\"djtooltiptext\">number of ROIs (see scanimage's multi ROI imaging)</span>\n",
       "                        </div></th><th><div class=\"djtooltip\">\n",
       "                            <p id=\"nonprimary\">x</p>\n",
       "                            <span class=\"djtooltiptext\">(um) ScanImage's 0 point in the motor coordinate system</span>\n",
       "                        </div></th><th><div class=\"djtooltip\">\n",
       "                            <p id=\"nonprimary\">y</p>\n",
       "                            <span class=\"djtooltiptext\">(um) ScanImage's 0 point in the motor coordinate system</span>\n",
       "                        </div></th><th><div class=\"djtooltip\">\n",
       "                            <p id=\"nonprimary\">z</p>\n",
       "                            <span class=\"djtooltiptext\">(um) ScanImage's 0 point in the motor coordinate system</span>\n",
       "                        </div></th><th><div class=\"djtooltip\">\n",
       "                            <p id=\"nonprimary\">fps</p>\n",
       "                            <span class=\"djtooltiptext\">(Hz) frames per second - Volumetric Scan Rate</span>\n",
       "                        </div></th><th><div class=\"djtooltip\">\n",
       "                            <p id=\"nonprimary\">bidirectional</p>\n",
       "                            <span class=\"djtooltiptext\">true = bidirectional scanning</span>\n",
       "                        </div></th><th><div class=\"djtooltip\">\n",
       "                            <p id=\"nonprimary\">usecs_per_line</p>\n",
       "                            <span class=\"djtooltiptext\">microseconds per scan line</span>\n",
       "                        </div></th><th><div class=\"djtooltip\">\n",
       "                            <p id=\"nonprimary\">fill_fraction</p>\n",
       "                            <span class=\"djtooltiptext\">raster scan temporal fill fraction (see scanimage)</span>\n",
       "                        </div></th><th><div class=\"djtooltip\">\n",
       "                            <p id=\"nonprimary\">scan_datetime</p>\n",
       "                            <span class=\"djtooltiptext\">datetime of the scan</span>\n",
       "                        </div></th><th><div class=\"djtooltip\">\n",
       "                            <p id=\"nonprimary\">scan_duration</p>\n",
       "                            <span class=\"djtooltiptext\">(seconds) duration of the scan</span>\n",
       "                        </div> </th> </tr> </thead>\n",
       "            <tbody> <tr> <td>sess9FB2LN5C</td>\n",
       "<td>scan9FB2LN5C</td>\n",
       "<td>1</td>\n",
       "<td>2</td>\n",
       "<td>1</td>\n",
       "<td>5000</td>\n",
       "<td>0</td>\n",
       "<td>0.0</td>\n",
       "<td>0.0</td>\n",
       "<td>0.0</td>\n",
       "<td>15.3846</td>\n",
       "<td>1</td>\n",
       "<td>250.0</td>\n",
       "<td>0.712867</td>\n",
       "<td>None</td>\n",
       "<td>325.0</td></tr><tr><td>sess9FCJJS40</td>\n",
       "<td>scan9FCJJS40</td>\n",
       "<td>1</td>\n",
       "<td>2</td>\n",
       "<td>1</td>\n",
       "<td>9000</td>\n",
       "<td>0</td>\n",
       "<td>0.0</td>\n",
       "<td>0.0</td>\n",
       "<td>1790.78</td>\n",
       "<td>15.3845</td>\n",
       "<td>1</td>\n",
       "<td>250.003</td>\n",
       "<td>0.95</td>\n",
       "<td>None</td>\n",
       "<td>585.004</td></tr><tr><td>sess9FF6TAW6</td>\n",
       "<td>scan9FF6TAW6</td>\n",
       "<td>1</td>\n",
       "<td>2</td>\n",
       "<td>1</td>\n",
       "<td>9250</td>\n",
       "<td>0</td>\n",
       "<td>-51109800.0</td>\n",
       "<td>-5622000.0</td>\n",
       "<td>10147.9</td>\n",
       "<td>15.3845</td>\n",
       "<td>1</td>\n",
       "<td>250.003</td>\n",
       "<td>0.95</td>\n",
       "<td>None</td>\n",
       "<td>601.255</td></tr><tr><td>sess9FGLE1FN</td>\n",
       "<td>scan9FGLE1FN</td>\n",
       "<td>1</td>\n",
       "<td>1</td>\n",
       "<td>1</td>\n",
       "<td>27000</td>\n",
       "<td>0</td>\n",
       "<td>39113.7</td>\n",
       "<td>18761.0</td>\n",
       "<td>9571.63</td>\n",
       "<td>29.9784</td>\n",
       "<td>1</td>\n",
       "<td>63.1769</td>\n",
       "<td>0.712867</td>\n",
       "<td>None</td>\n",
       "<td>900.648</td></tr><tr><td>sess9FGLEFJ3</td>\n",
       "<td>scan9FGLEFJ3</td>\n",
       "<td>1</td>\n",
       "<td>1</td>\n",
       "<td>1</td>\n",
       "<td>27000</td>\n",
       "<td>0</td>\n",
       "<td>39113.2</td>\n",
       "<td>18761.0</td>\n",
       "<td>9571.63</td>\n",
       "<td>29.9784</td>\n",
       "<td>1</td>\n",
       "<td>63.1769</td>\n",
       "<td>0.712867</td>\n",
       "<td>None</td>\n",
       "<td>900.648</td></tr><tr><td>sess9FGLZLRI</td>\n",
       "<td>scan9FGLZLRI</td>\n",
       "<td>1</td>\n",
       "<td>1</td>\n",
       "<td>1</td>\n",
       "<td>5000</td>\n",
       "<td>0</td>\n",
       "<td>-2687.11</td>\n",
       "<td>-30464600.0</td>\n",
       "<td>-123841000.0</td>\n",
       "<td>15.3845</td>\n",
       "<td>1</td>\n",
       "<td>250.001</td>\n",
       "<td>0.95</td>\n",
       "<td>None</td>\n",
       "<td>325.002</td> </tr> </tbody>\n",
       "        </table>\n",
       "        \n",
       "        <p>Total: 6</p></div>\n",
       "        "
      ],
      "text/plain": [
       "*session_id    *scan_id       nfields     nchannels     ndepths     nframes     nrois     x              y              z              fps         bidirectional  usecs_per_line fill_fraction  scan_datetime  scan_duration \n",
       "+------------+ +------------+ +---------+ +-----------+ +---------+ +---------+ +-------+ +------------+ +------------+ +------------+ +---------+ +------------+ +------------+ +------------+ +------------+ +------------+\n",
       "sess9FB2LN5C   scan9FB2LN5C   1           2             1           5000        0         0.0            0.0            0.0            15.3846     1              250.0          0.712867       None           325.0         \n",
       "sess9FCJJS40   scan9FCJJS40   1           2             1           9000        0         0.0            0.0            1790.78        15.3845     1              250.003        0.95           None           585.004       \n",
       "sess9FF6TAW6   scan9FF6TAW6   1           2             1           9250        0         -51109800.0    -5622000.0     10147.9        15.3845     1              250.003        0.95           None           601.255       \n",
       "sess9FGLE1FN   scan9FGLE1FN   1           1             1           27000       0         39113.7        18761.0        9571.63        29.9784     1              63.1769        0.712867       None           900.648       \n",
       "sess9FGLEFJ3   scan9FGLEFJ3   1           1             1           27000       0         39113.2        18761.0        9571.63        29.9784     1              63.1769        0.712867       None           900.648       \n",
       "sess9FGLZLRI   scan9FGLZLRI   1           1             1           5000        0         -2687.11       -30464600.0    -123841000.0   15.3845     1              250.001        0.95           None           325.002       \n",
       " (Total: 6)"
      ]
     },
     "execution_count": 15,
     "metadata": {},
     "output_type": "execute_result"
    }
   ],
   "source": [
    "scan.ScanInfo()"
   ]
  },
  {
   "cell_type": "code",
   "execution_count": 16,
   "id": "d04010cb",
   "metadata": {},
   "outputs": [
    {
     "data": {
      "text/html": [
       "\n",
       "    \n",
       "    <style type=\"text/css\">\n",
       "        .Table{\n",
       "            border-collapse:collapse;\n",
       "        }\n",
       "        .Table th{\n",
       "            background: #A0A0A0; color: #ffffff; padding:4px; border:#f0e0e0 1px solid;\n",
       "            font-weight: normal; font-family: monospace; font-size: 100%;\n",
       "        }\n",
       "        .Table td{\n",
       "            padding:4px; border:#f0e0e0 1px solid; font-size:100%;\n",
       "        }\n",
       "        .Table tr:nth-child(odd){\n",
       "            background: #ffffff;\n",
       "        }\n",
       "        .Table tr:nth-child(even){\n",
       "            background: #f3f1ff;\n",
       "        }\n",
       "        /* Tooltip container */\n",
       "        .djtooltip {\n",
       "        }\n",
       "        /* Tooltip text */\n",
       "        .djtooltip .djtooltiptext {\n",
       "            visibility: hidden;\n",
       "            width: 120px;\n",
       "            background-color: black;\n",
       "            color: #fff;\n",
       "            text-align: center;\n",
       "            padding: 5px 0;\n",
       "            border-radius: 6px;\n",
       "            /* Position the tooltip text - see examples below! */\n",
       "            position: absolute;\n",
       "            z-index: 1;\n",
       "        }\n",
       "        #primary {\n",
       "            font-weight: bold;\n",
       "            color: black;\n",
       "        }\n",
       "        #nonprimary {\n",
       "            font-weight: normal;\n",
       "            color: white;\n",
       "        }\n",
       "\n",
       "        /* Show the tooltip text when you mouse over the tooltip container */\n",
       "        .djtooltip:hover .djtooltiptext {\n",
       "            visibility: visible;\n",
       "        }\n",
       "    </style>\n",
       "    \n",
       "    \n",
       "        <div style=\"max-height:1000px;max-width:1500px;overflow:auto;\">\n",
       "        <table border=\"1\" class=\"Table\">\n",
       "            <thead> <tr style=\"text-align: right;\"> <th> <div class=\"djtooltip\">\n",
       "                            <p id=\"primary\">session_id</p>\n",
       "                            <span class=\"djtooltiptext\"></span>\n",
       "                        </div></th><th><div class=\"djtooltip\">\n",
       "                            <p id=\"primary\">scan_id</p>\n",
       "                            <span class=\"djtooltiptext\"></span>\n",
       "                        </div></th><th><div class=\"djtooltip\">\n",
       "                            <p id=\"primary\">user_id</p>\n",
       "                            <span class=\"djtooltiptext\"></span>\n",
       "                        </div></th><th><div class=\"djtooltip\">\n",
       "                            <p id=\"primary\">path</p>\n",
       "                            <span class=\"djtooltiptext\"></span>\n",
       "                        </div></th><th><div class=\"djtooltip\">\n",
       "                            <p id=\"nonprimary\">scanner</p>\n",
       "                            <span class=\"djtooltiptext\"></span>\n",
       "                        </div></th><th><div class=\"djtooltip\">\n",
       "                            <p id=\"nonprimary\">acq_software</p>\n",
       "                            <span class=\"djtooltiptext\"></span>\n",
       "                        </div></th><th><div class=\"djtooltip\">\n",
       "                            <p id=\"nonprimary\">scan_notes</p>\n",
       "                            <span class=\"djtooltiptext\">free-notes</span>\n",
       "                        </div></th><th><div class=\"djtooltip\">\n",
       "                            <p id=\"nonprimary\">nfields</p>\n",
       "                            <span class=\"djtooltiptext\">number of fields</span>\n",
       "                        </div></th><th><div class=\"djtooltip\">\n",
       "                            <p id=\"nonprimary\">nchannels</p>\n",
       "                            <span class=\"djtooltiptext\">number of channels</span>\n",
       "                        </div></th><th><div class=\"djtooltip\">\n",
       "                            <p id=\"nonprimary\">ndepths</p>\n",
       "                            <span class=\"djtooltiptext\">Number of scanning depths (planes)</span>\n",
       "                        </div></th><th><div class=\"djtooltip\">\n",
       "                            <p id=\"nonprimary\">nframes</p>\n",
       "                            <span class=\"djtooltiptext\">number of recorded frames</span>\n",
       "                        </div></th><th><div class=\"djtooltip\">\n",
       "                            <p id=\"nonprimary\">nrois</p>\n",
       "                            <span class=\"djtooltiptext\">number of ROIs (see scanimage's multi ROI imaging)</span>\n",
       "                        </div></th><th><div class=\"djtooltip\">\n",
       "                            <p id=\"nonprimary\">x</p>\n",
       "                            <span class=\"djtooltiptext\">(um) ScanImage's 0 point in the motor coordinate system</span>\n",
       "                        </div></th><th><div class=\"djtooltip\">\n",
       "                            <p id=\"nonprimary\">y</p>\n",
       "                            <span class=\"djtooltiptext\">(um) ScanImage's 0 point in the motor coordinate system</span>\n",
       "                        </div></th><th><div class=\"djtooltip\">\n",
       "                            <p id=\"nonprimary\">z</p>\n",
       "                            <span class=\"djtooltiptext\">(um) ScanImage's 0 point in the motor coordinate system</span>\n",
       "                        </div></th><th><div class=\"djtooltip\">\n",
       "                            <p id=\"nonprimary\">fps</p>\n",
       "                            <span class=\"djtooltiptext\">(Hz) frames per second - Volumetric Scan Rate</span>\n",
       "                        </div></th><th><div class=\"djtooltip\">\n",
       "                            <p id=\"nonprimary\">bidirectional</p>\n",
       "                            <span class=\"djtooltiptext\">true = bidirectional scanning</span>\n",
       "                        </div></th><th><div class=\"djtooltip\">\n",
       "                            <p id=\"nonprimary\">usecs_per_line</p>\n",
       "                            <span class=\"djtooltiptext\">microseconds per scan line</span>\n",
       "                        </div></th><th><div class=\"djtooltip\">\n",
       "                            <p id=\"nonprimary\">fill_fraction</p>\n",
       "                            <span class=\"djtooltiptext\">raster scan temporal fill fraction (see scanimage)</span>\n",
       "                        </div></th><th><div class=\"djtooltip\">\n",
       "                            <p id=\"nonprimary\">scan_datetime</p>\n",
       "                            <span class=\"djtooltiptext\">datetime of the scan</span>\n",
       "                        </div></th><th><div class=\"djtooltip\">\n",
       "                            <p id=\"nonprimary\">scan_duration</p>\n",
       "                            <span class=\"djtooltiptext\">(seconds) duration of the scan</span>\n",
       "                        </div> </th> </tr> </thead>\n",
       "            <tbody> <tr> <td>sess9FB2LN5C</td>\n",
       "<td>scan9FB2LN5C</td>\n",
       "<td>4</td>\n",
       "<td>/datajoint-data/data/tobiasr/DB_WEZ-8701_2022-03-18_scan9FB2LN5C_sess9FB2LN5C</td>\n",
       "<td>dummy</td>\n",
       "<td>ScanImage</td>\n",
       "<td>none</td>\n",
       "<td>1</td>\n",
       "<td>2</td>\n",
       "<td>1</td>\n",
       "<td>5000</td>\n",
       "<td>0</td>\n",
       "<td>0.0</td>\n",
       "<td>0.0</td>\n",
       "<td>0.0</td>\n",
       "<td>15.3846</td>\n",
       "<td>1</td>\n",
       "<td>250.0</td>\n",
       "<td>0.712867</td>\n",
       "<td>None</td>\n",
       "<td>325.0</td></tr><tr><td>sess9FCJJS40</td>\n",
       "<td>scan9FCJJS40</td>\n",
       "<td>6</td>\n",
       "<td>/datajoint-data/data/tobiasr/JJ_ROS-1346_2022-06-15_scan9FCJJS40_sess9FCJJS40</td>\n",
       "<td>macroscope</td>\n",
       "<td>ScanImage</td>\n",
       "<td>none</td>\n",
       "<td>1</td>\n",
       "<td>2</td>\n",
       "<td>1</td>\n",
       "<td>9000</td>\n",
       "<td>0</td>\n",
       "<td>0.0</td>\n",
       "<td>0.0</td>\n",
       "<td>1790.78</td>\n",
       "<td>15.3845</td>\n",
       "<td>1</td>\n",
       "<td>250.003</td>\n",
       "<td>0.95</td>\n",
       "<td>None</td>\n",
       "<td>585.004</td></tr><tr><td>sess9FF6TAW6</td>\n",
       "<td>scan9FF6TAW6</td>\n",
       "<td>6</td>\n",
       "<td>/datajoint-data/data/tobiasr/JJ_ROS-1438_2022-11-22_15_35scan9FF6TAW6_sess9FF6TAW6</td>\n",
       "<td>macroscope</td>\n",
       "<td>ScanImage</td>\n",
       "<td>none</td>\n",
       "<td>1</td>\n",
       "<td>2</td>\n",
       "<td>1</td>\n",
       "<td>9250</td>\n",
       "<td>0</td>\n",
       "<td>-51109800.0</td>\n",
       "<td>-5622000.0</td>\n",
       "<td>10147.9</td>\n",
       "<td>15.3845</td>\n",
       "<td>1</td>\n",
       "<td>250.003</td>\n",
       "<td>0.95</td>\n",
       "<td>None</td>\n",
       "<td>601.255</td></tr><tr><td>sess9FGLE1FN</td>\n",
       "<td>scan9FGLE1FN</td>\n",
       "<td>7</td>\n",
       "<td>/datajoint-data/data/tobiasr/RN_OPI-1681_2023-02-15_scan9FGLE1FN_sess9FGLE1FN</td>\n",
       "<td>bench2p</td>\n",
       "<td>ScanImage</td>\n",
       "<td>none</td>\n",
       "<td>1</td>\n",
       "<td>1</td>\n",
       "<td>1</td>\n",
       "<td>27000</td>\n",
       "<td>0</td>\n",
       "<td>39113.7</td>\n",
       "<td>18761.0</td>\n",
       "<td>9571.63</td>\n",
       "<td>29.9784</td>\n",
       "<td>1</td>\n",
       "<td>63.1769</td>\n",
       "<td>0.712867</td>\n",
       "<td>None</td>\n",
       "<td>900.648</td></tr><tr><td>sess9FGLEFJ3</td>\n",
       "<td>scan9FGLEFJ3</td>\n",
       "<td>7</td>\n",
       "<td>/datajoint-data/data/tobiasr/RN_OPI-1681_2023-02-15_scan9FGLEFJ3_sess9FGLEFJ3</td>\n",
       "<td>bench2p</td>\n",
       "<td>ScanImage</td>\n",
       "<td>none</td>\n",
       "<td>1</td>\n",
       "<td>1</td>\n",
       "<td>1</td>\n",
       "<td>27000</td>\n",
       "<td>0</td>\n",
       "<td>39113.2</td>\n",
       "<td>18761.0</td>\n",
       "<td>9571.63</td>\n",
       "<td>29.9784</td>\n",
       "<td>1</td>\n",
       "<td>63.1769</td>\n",
       "<td>0.712867</td>\n",
       "<td>None</td>\n",
       "<td>900.648</td></tr><tr><td>sess9FGLZLRI</td>\n",
       "<td>scan9FGLZLRI</td>\n",
       "<td>7</td>\n",
       "<td>/datajoint-data/data/tobiasr/RN_OPI-1681_2023-02-16_scan9FGLZLRI_sess9FGLZLRI</td>\n",
       "<td>bench2p</td>\n",
       "<td>ScanImage</td>\n",
       "<td>none</td>\n",
       "<td>1</td>\n",
       "<td>1</td>\n",
       "<td>1</td>\n",
       "<td>5000</td>\n",
       "<td>0</td>\n",
       "<td>-2687.11</td>\n",
       "<td>-30464600.0</td>\n",
       "<td>-123841000.0</td>\n",
       "<td>15.3845</td>\n",
       "<td>1</td>\n",
       "<td>250.001</td>\n",
       "<td>0.95</td>\n",
       "<td>None</td>\n",
       "<td>325.002</td> </tr> </tbody>\n",
       "        </table>\n",
       "        \n",
       "        <p>Total: 6</p></div>\n",
       "        "
      ],
      "text/plain": [
       "*session_id    *scan_id       *user_id    *path          scanner        acq_software   scan_notes     nfields     nchannels     ndepths     nframes     nrois     x              y              z              fps         bidirectional  usecs_per_line fill_fraction  scan_datetime  scan_duration \n",
       "+------------+ +------------+ +---------+ +------------+ +------------+ +------------+ +------------+ +---------+ +-----------+ +---------+ +---------+ +-------+ +------------+ +------------+ +------------+ +---------+ +------------+ +------------+ +------------+ +------------+ +------------+\n",
       "sess9FB2LN5C   scan9FB2LN5C   4           /datajoint-dat dummy          ScanImage      none           1           2             1           5000        0         0.0            0.0            0.0            15.3846     1              250.0          0.712867       None           325.0         \n",
       "sess9FCJJS40   scan9FCJJS40   6           /datajoint-dat macroscope     ScanImage      none           1           2             1           9000        0         0.0            0.0            1790.78        15.3845     1              250.003        0.95           None           585.004       \n",
       "sess9FF6TAW6   scan9FF6TAW6   6           /datajoint-dat macroscope     ScanImage      none           1           2             1           9250        0         -51109800.0    -5622000.0     10147.9        15.3845     1              250.003        0.95           None           601.255       \n",
       "sess9FGLE1FN   scan9FGLE1FN   7           /datajoint-dat bench2p        ScanImage      none           1           1             1           27000       0         39113.7        18761.0        9571.63        29.9784     1              63.1769        0.712867       None           900.648       \n",
       "sess9FGLEFJ3   scan9FGLEFJ3   7           /datajoint-dat bench2p        ScanImage      none           1           1             1           27000       0         39113.2        18761.0        9571.63        29.9784     1              63.1769        0.712867       None           900.648       \n",
       "sess9FGLZLRI   scan9FGLZLRI   7           /datajoint-dat bench2p        ScanImage      none           1           1             1           5000        0         -2687.11       -30464600.0    -123841000.0   15.3845     1              250.001        0.95           None           325.002       \n",
       " (Total: 6)"
      ]
     },
     "execution_count": 16,
     "metadata": {},
     "output_type": "execute_result"
    }
   ],
   "source": [
    "scan.Scan  * scan.ScanInfo() * scan.ScanPath()"
   ]
  },
  {
   "attachments": {},
   "cell_type": "markdown",
   "id": "614a275c",
   "metadata": {},
   "source": [
    "## Run imaging processing tasks"
   ]
  },
  {
   "cell_type": "code",
   "execution_count": 17,
   "id": "416ddcc4",
   "metadata": {},
   "outputs": [
    {
     "data": {
      "text/html": [
       "\n",
       "    \n",
       "    <style type=\"text/css\">\n",
       "        .Table{\n",
       "            border-collapse:collapse;\n",
       "        }\n",
       "        .Table th{\n",
       "            background: #A0A0A0; color: #ffffff; padding:4px; border:#f0e0e0 1px solid;\n",
       "            font-weight: normal; font-family: monospace; font-size: 100%;\n",
       "        }\n",
       "        .Table td{\n",
       "            padding:4px; border:#f0e0e0 1px solid; font-size:100%;\n",
       "        }\n",
       "        .Table tr:nth-child(odd){\n",
       "            background: #ffffff;\n",
       "        }\n",
       "        .Table tr:nth-child(even){\n",
       "            background: #f3f1ff;\n",
       "        }\n",
       "        /* Tooltip container */\n",
       "        .djtooltip {\n",
       "        }\n",
       "        /* Tooltip text */\n",
       "        .djtooltip .djtooltiptext {\n",
       "            visibility: hidden;\n",
       "            width: 120px;\n",
       "            background-color: black;\n",
       "            color: #fff;\n",
       "            text-align: center;\n",
       "            padding: 5px 0;\n",
       "            border-radius: 6px;\n",
       "            /* Position the tooltip text - see examples below! */\n",
       "            position: absolute;\n",
       "            z-index: 1;\n",
       "        }\n",
       "        #primary {\n",
       "            font-weight: bold;\n",
       "            color: black;\n",
       "        }\n",
       "        #nonprimary {\n",
       "            font-weight: normal;\n",
       "            color: white;\n",
       "        }\n",
       "\n",
       "        /* Show the tooltip text when you mouse over the tooltip container */\n",
       "        .djtooltip:hover .djtooltiptext {\n",
       "            visibility: visible;\n",
       "        }\n",
       "    </style>\n",
       "    \n",
       "    <b>Manual table for defining a processing task ready to be run</b>\n",
       "        <div style=\"max-height:1000px;max-width:1500px;overflow:auto;\">\n",
       "        <table border=\"1\" class=\"Table\">\n",
       "            <thead> <tr style=\"text-align: right;\"> <th> <div class=\"djtooltip\">\n",
       "                            <p id=\"primary\">session_id</p>\n",
       "                            <span class=\"djtooltiptext\"></span>\n",
       "                        </div></th><th><div class=\"djtooltip\">\n",
       "                            <p id=\"primary\">scan_id</p>\n",
       "                            <span class=\"djtooltiptext\"></span>\n",
       "                        </div></th><th><div class=\"djtooltip\">\n",
       "                            <p id=\"primary\">paramset_idx</p>\n",
       "                            <span class=\"djtooltiptext\"></span>\n",
       "                        </div></th><th><div class=\"djtooltip\">\n",
       "                            <p id=\"nonprimary\">processing_output_dir</p>\n",
       "                            <span class=\"djtooltiptext\">output directory of the processed scan relative to root data directory</span>\n",
       "                        </div></th><th><div class=\"djtooltip\">\n",
       "                            <p id=\"nonprimary\">task_mode</p>\n",
       "                            <span class=\"djtooltiptext\">'load': load computed analysis results, 'trigger': trigger computation</span>\n",
       "                        </div> </th> </tr> </thead>\n",
       "            <tbody> <tr> <td>sess9FB2LN5C</td>\n",
       "<td>scan9FB2LN5C</td>\n",
       "<td>3</td>\n",
       "<td>/datajoint-data/data/tobiasr/DB_WEZ-8701_2022-03-18_scan9FB2LN5C_sess9FB2LN5C</td>\n",
       "<td>trigger</td></tr><tr><td>sess9FCJJS40</td>\n",
       "<td>scan9FCJJS40</td>\n",
       "<td>3</td>\n",
       "<td>/datajoint-data/data/tobiasr/JJ_ROS-1346_2022-06-15_scan9FCJJS40_sess9FCJJS40</td>\n",
       "<td>trigger</td></tr><tr><td>sess9FF6TAW6</td>\n",
       "<td>scan9FF6TAW6</td>\n",
       "<td>3</td>\n",
       "<td>/datajoint-data/data/tobiasr/JJ_ROS-1438_2022-11-22_15_35scan9FF6TAW6_sess9FF6TAW6</td>\n",
       "<td>trigger</td></tr><tr><td>sess9FGLE1FN</td>\n",
       "<td>scan9FGLE1FN</td>\n",
       "<td>3</td>\n",
       "<td>/datajoint-data/data/tobiasr/RN_OPI-1681_2023-02-15_scan9FGLE1FN_sess9FGLE1FN</td>\n",
       "<td>trigger</td></tr><tr><td>sess9FGLEFJ3</td>\n",
       "<td>scan9FGLEFJ3</td>\n",
       "<td>3</td>\n",
       "<td>/datajoint-data/data/tobiasr/RN_OPI-1681_2023-02-15_scan9FGLEFJ3_sess9FGLEFJ3</td>\n",
       "<td>trigger</td></tr><tr><td>sess9FGLZLRI</td>\n",
       "<td>scan9FGLZLRI</td>\n",
       "<td>3</td>\n",
       "<td>/datajoint-data/data/tobiasr/RN_OPI-1681_2023-02-16_scan9FGLZLRI_sess9FGLZLRI</td>\n",
       "<td>trigger</td> </tr> </tbody>\n",
       "        </table>\n",
       "        \n",
       "        <p>Total: 6</p></div>\n",
       "        "
      ],
      "text/plain": [
       "*session_id    *scan_id       *paramset_idx  processing_out task_mode    \n",
       "+------------+ +------------+ +------------+ +------------+ +-----------+\n",
       "sess9FB2LN5C   scan9FB2LN5C   3              /datajoint-dat trigger      \n",
       "sess9FCJJS40   scan9FCJJS40   3              /datajoint-dat trigger      \n",
       "sess9FF6TAW6   scan9FF6TAW6   3              /datajoint-dat trigger      \n",
       "sess9FGLE1FN   scan9FGLE1FN   3              /datajoint-dat trigger      \n",
       "sess9FGLEFJ3   scan9FGLEFJ3   3              /datajoint-dat trigger      \n",
       "sess9FGLZLRI   scan9FGLZLRI   3              /datajoint-dat trigger      \n",
       " (Total: 6)"
      ]
     },
     "execution_count": 17,
     "metadata": {},
     "output_type": "execute_result"
    }
   ],
   "source": [
    "imaging.ProcessingTask()"
   ]
  },
  {
   "cell_type": "code",
   "execution_count": 18,
   "id": "41b79a9f",
   "metadata": {},
   "outputs": [
    {
     "name": "stderr",
     "output_type": "stream",
     "text": [
      "Processing:   0%|          | 0/6 [00:00<?, ?it/s]"
     ]
    },
    {
     "name": "stdout",
     "output_type": "stream",
     "text": [
      "using TorchFFT\n",
      "{'data_path': ['/datajoint-data/data/tobiasr/DB_WEZ-8701_2022-03-18_scan9FB2LN5C_sess9FB2LN5C'], 'tiff_list': ['/datajoint-data/data/tobiasr/DB_WEZ-8701_2022-03-18_scan9FB2LN5C_sess9FB2LN5C/scan9FB2LN5C_DB_WEZ-8701_02027_00001.tif']}\n",
      "tif\n",
      "** Found 1 tifs - converting to binary **\n",
      "time 3.05 sec. Wrote 10000 frames per binary for 1 planes\n",
      ">>>>>>>>>>>>>>>>>>>>> PLANE 0 <<<<<<<<<<<<<<<<<<<<<<\n",
      "NOTE: not registered / registration forced with ops['do_registration']>1\n",
      "      (no previous offsets to delete)\n",
      "NOTE: Applying builtin classifier at /home/tobiasr/suite2p/suite2p/classifiers/classifier.npy\n",
      "----------- REGISTRATION\n",
      "NOTE: estimated bidiphase offset from data: -7 pixels\n",
      "Reference frame, 5.71 sec.\n",
      "Registered 8000/10000 in 9.53s\n",
      "Registered 10000/10000 in 11.83s\n",
      "----------- Total 23.31 sec\n",
      "Registration metrics, 5.49 sec.\n",
      "----------- ROI DETECTION\n",
      "Binning movie in chunks of length 15\n",
      "Binned movie of size [564,208,208] created in 1.16 sec.\n",
      "Binned movie denoised (for cell detection only) in 10.23 sec.\n"
     ]
    },
    {
     "name": "stderr",
     "output_type": "stream",
     "text": [
      "Processing:   0%|          | 0/6 [00:46<?, ?it/s]"
     ]
    },
    {
     "name": "stdout",
     "output_type": "stream",
     "text": [
      "NOTE: estimated spatial scale ~12 pixels, time epochs 1.00, threshold 10.00 \n",
      "Detected 0 ROIs, 0.68 sec\n"
     ]
    },
    {
     "name": "stderr",
     "output_type": "stream",
     "text": [
      "\n"
     ]
    },
    {
     "ename": "ValueError",
     "evalue": "no ROIs were found -- check registered binary and maybe change spatial scale",
     "output_type": "error",
     "traceback": [
      "\u001b[0;31m---------------------------------------------------------------------------\u001b[0m",
      "\u001b[0;31mValueError\u001b[0m                                Traceback (most recent call last)",
      "Cell \u001b[0;32mIn[18], line 1\u001b[0m\n\u001b[0;32m----> 1\u001b[0m imaging\u001b[39m.\u001b[39;49mProcessing\u001b[39m.\u001b[39;49mpopulate(display_progress\u001b[39m=\u001b[39;49m\u001b[39mTrue\u001b[39;49;00m,  suppress_errors\u001b[39m=\u001b[39;49m\u001b[39mFalse\u001b[39;49;00m)\n",
      "File \u001b[0;32m~/miniconda3/envs/datajoint/lib/python3.8/site-packages/datajoint/autopopulate.py:241\u001b[0m, in \u001b[0;36mAutoPopulate.populate\u001b[0;34m(self, suppress_errors, return_exception_objects, reserve_jobs, order, limit, max_calls, display_progress, processes, make_kwargs, *restrictions)\u001b[0m\n\u001b[1;32m    237\u001b[0m \u001b[39mif\u001b[39;00m processes \u001b[39m==\u001b[39m \u001b[39m1\u001b[39m:\n\u001b[1;32m    238\u001b[0m     \u001b[39mfor\u001b[39;00m key \u001b[39min\u001b[39;00m (\n\u001b[1;32m    239\u001b[0m         tqdm(keys, desc\u001b[39m=\u001b[39m\u001b[39mself\u001b[39m\u001b[39m.\u001b[39m\u001b[39m__class__\u001b[39m\u001b[39m.\u001b[39m\u001b[39m__name__\u001b[39m) \u001b[39mif\u001b[39;00m display_progress \u001b[39melse\u001b[39;00m keys\n\u001b[1;32m    240\u001b[0m     ):\n\u001b[0;32m--> 241\u001b[0m         error \u001b[39m=\u001b[39m \u001b[39mself\u001b[39;49m\u001b[39m.\u001b[39;49m_populate1(key, jobs, \u001b[39m*\u001b[39;49m\u001b[39m*\u001b[39;49mpopulate_kwargs)\n\u001b[1;32m    242\u001b[0m         \u001b[39mif\u001b[39;00m error \u001b[39mis\u001b[39;00m \u001b[39mnot\u001b[39;00m \u001b[39mNone\u001b[39;00m:\n\u001b[1;32m    243\u001b[0m             error_list\u001b[39m.\u001b[39mappend(error)\n",
      "File \u001b[0;32m~/miniconda3/envs/datajoint/lib/python3.8/site-packages/datajoint/autopopulate.py:292\u001b[0m, in \u001b[0;36mAutoPopulate._populate1\u001b[0;34m(self, key, jobs, suppress_errors, return_exception_objects, make_kwargs)\u001b[0m\n\u001b[1;32m    290\u001b[0m \u001b[39mself\u001b[39m\u001b[39m.\u001b[39m\u001b[39m__class__\u001b[39m\u001b[39m.\u001b[39m_allow_insert \u001b[39m=\u001b[39m \u001b[39mTrue\u001b[39;00m\n\u001b[1;32m    291\u001b[0m \u001b[39mtry\u001b[39;00m:\n\u001b[0;32m--> 292\u001b[0m     make(\u001b[39mdict\u001b[39;49m(key), \u001b[39m*\u001b[39;49m\u001b[39m*\u001b[39;49m(make_kwargs \u001b[39mor\u001b[39;49;00m {}))\n\u001b[1;32m    293\u001b[0m \u001b[39mexcept\u001b[39;00m (\u001b[39mKeyboardInterrupt\u001b[39;00m, \u001b[39mSystemExit\u001b[39;00m, \u001b[39mException\u001b[39;00m) \u001b[39mas\u001b[39;00m error:\n\u001b[1;32m    294\u001b[0m     \u001b[39mtry\u001b[39;00m:\n",
      "File \u001b[0;32m~/miniconda3/envs/datajoint/lib/python3.8/site-packages/element_calcium_imaging/imaging.py:231\u001b[0m, in \u001b[0;36mProcessing.make\u001b[0;34m(self, key)\u001b[0m\n\u001b[1;32m    224\u001b[0m suite2p_params[\u001b[39m'\u001b[39m\u001b[39minput_format\u001b[39m\u001b[39m'\u001b[39m] \u001b[39m=\u001b[39m input_format[\u001b[39m1\u001b[39m:]\n\u001b[1;32m    226\u001b[0m suite2p_paths \u001b[39m=\u001b[39m {\n\u001b[1;32m    227\u001b[0m     \u001b[39m'\u001b[39m\u001b[39mdata_path\u001b[39m\u001b[39m'\u001b[39m: [image_files[\u001b[39m0\u001b[39m]\u001b[39m.\u001b[39mparent\u001b[39m.\u001b[39mas_posix()],\n\u001b[1;32m    228\u001b[0m     \u001b[39m'\u001b[39m\u001b[39mtiff_list\u001b[39m\u001b[39m'\u001b[39m: [f\u001b[39m.\u001b[39mas_posix() \u001b[39mfor\u001b[39;00m f \u001b[39min\u001b[39;00m image_files]\n\u001b[1;32m    229\u001b[0m }\n\u001b[0;32m--> 231\u001b[0m suite2p\u001b[39m.\u001b[39;49mrun_s2p(ops\u001b[39m=\u001b[39;49msuite2p_params, db\u001b[39m=\u001b[39;49msuite2p_paths)  \u001b[39m# Run suite2p\u001b[39;00m\n\u001b[1;32m    233\u001b[0m _, imaging_dataset \u001b[39m=\u001b[39m get_loader_result(key, ProcessingTask)\n\u001b[1;32m    234\u001b[0m suite2p_dataset \u001b[39m=\u001b[39m imaging_dataset\n",
      "File \u001b[0;32m~/suite2p/suite2p/run_s2p.py:443\u001b[0m, in \u001b[0;36mrun_s2p\u001b[0;34m(ops, db, server)\u001b[0m\n\u001b[1;32m    440\u001b[0m                 op[key] \u001b[39m=\u001b[39m ops[key]\n\u001b[1;32m    442\u001b[0m     \u001b[39mprint\u001b[39m(\u001b[39m'\u001b[39m\u001b[39m>>>>>>>>>>>>>>>>>>>>> PLANE \u001b[39m\u001b[39m%d\u001b[39;00m\u001b[39m <<<<<<<<<<<<<<<<<<<<<<\u001b[39m\u001b[39m'\u001b[39m\u001b[39m%\u001b[39mipl)\n\u001b[0;32m--> 443\u001b[0m     op \u001b[39m=\u001b[39m run_plane(op, ops_path\u001b[39m=\u001b[39;49mops_path)\n\u001b[1;32m    444\u001b[0m     \u001b[39mprint\u001b[39m(\u001b[39m'\u001b[39m\u001b[39mPlane \u001b[39m\u001b[39m%d\u001b[39;00m\u001b[39m processed in \u001b[39m\u001b[39m%0.2f\u001b[39;00m\u001b[39m sec (can open in GUI).\u001b[39m\u001b[39m'\u001b[39m \u001b[39m%\u001b[39m \n\u001b[1;32m    445\u001b[0m             (ipl, op[\u001b[39m'\u001b[39m\u001b[39mtiming\u001b[39m\u001b[39m'\u001b[39m][\u001b[39m'\u001b[39m\u001b[39mtotal_plane_runtime\u001b[39m\u001b[39m'\u001b[39m]))  \n\u001b[1;32m    446\u001b[0m run_time \u001b[39m=\u001b[39m time\u001b[39m.\u001b[39mtime()\u001b[39m-\u001b[39mt0\n",
      "File \u001b[0;32m~/suite2p/suite2p/run_s2p.py:296\u001b[0m, in \u001b[0;36mrun_plane\u001b[0;34m(ops, ops_path, stat)\u001b[0m\n\u001b[1;32m    293\u001b[0m         f_reg_chan2\u001b[39m.\u001b[39mclose() \n\u001b[1;32m    294\u001b[0m         f_reg_chan2 \u001b[39m=\u001b[39m \u001b[39mNone\u001b[39;00m\n\u001b[0;32m--> 296\u001b[0m     ops \u001b[39m=\u001b[39m pipeline(f_reg, f_raw, f_reg_chan2, f_raw_chan2, run_registration, ops, stat\u001b[39m=\u001b[39;49mstat)\n\u001b[1;32m    298\u001b[0m \u001b[39mif\u001b[39;00m ops\u001b[39m.\u001b[39mget(\u001b[39m'\u001b[39m\u001b[39mmove_bin\u001b[39m\u001b[39m'\u001b[39m) \u001b[39mand\u001b[39;00m ops[\u001b[39m'\u001b[39m\u001b[39msave_path\u001b[39m\u001b[39m'\u001b[39m] \u001b[39m!=\u001b[39m ops[\u001b[39m'\u001b[39m\u001b[39mfast_disk\u001b[39m\u001b[39m'\u001b[39m]:\n\u001b[1;32m    299\u001b[0m     \u001b[39mprint\u001b[39m(\u001b[39m'\u001b[39m\u001b[39mmoving binary files to save_path\u001b[39m\u001b[39m'\u001b[39m)\n",
      "File \u001b[0;32m~/suite2p/suite2p/run_s2p.py:129\u001b[0m, in \u001b[0;36mpipeline\u001b[0;34m(f_reg, f_raw, f_reg_chan2, f_raw_chan2, run_registration, ops, stat)\u001b[0m\n\u001b[1;32m    127\u001b[0m \u001b[39mprint\u001b[39m(\u001b[39m'\u001b[39m\u001b[39m----------- ROI DETECTION\u001b[39m\u001b[39m'\u001b[39m)\n\u001b[1;32m    128\u001b[0m \u001b[39mif\u001b[39;00m stat \u001b[39mis\u001b[39;00m \u001b[39mNone\u001b[39;00m:\n\u001b[0;32m--> 129\u001b[0m     ops, stat \u001b[39m=\u001b[39m detection\u001b[39m.\u001b[39;49mdetection_wrapper(f_reg,\n\u001b[1;32m    130\u001b[0m                                             ops\u001b[39m=\u001b[39;49mops, \n\u001b[1;32m    131\u001b[0m                                             classfile\u001b[39m=\u001b[39;49mclassfile)\n\u001b[1;32m    132\u001b[0m plane_times[\u001b[39m'\u001b[39m\u001b[39mdetection\u001b[39m\u001b[39m'\u001b[39m] \u001b[39m=\u001b[39m time\u001b[39m.\u001b[39mtime()\u001b[39m-\u001b[39mt11\n\u001b[1;32m    133\u001b[0m \u001b[39mprint\u001b[39m(\u001b[39m'\u001b[39m\u001b[39m----------- Total \u001b[39m\u001b[39m%0.2f\u001b[39;00m\u001b[39m sec.\u001b[39m\u001b[39m'\u001b[39m \u001b[39m%\u001b[39m plane_times[\u001b[39m'\u001b[39m\u001b[39mdetection\u001b[39m\u001b[39m'\u001b[39m])\n",
      "File \u001b[0;32m~/suite2p/suite2p/detection/detect.py:148\u001b[0m, in \u001b[0;36mdetection_wrapper\u001b[0;34m(f_reg, mov, yrange, xrange, ops, classfile)\u001b[0m\n\u001b[1;32m    143\u001b[0m \t\tstat \u001b[39m=\u001b[39m anatomical\u001b[39m.\u001b[39mselect_rois(\n\u001b[1;32m    144\u001b[0m \t\t\t\t\tops\u001b[39m=\u001b[39mops,\n\u001b[1;32m    145\u001b[0m \t\t\t\t\tmov\u001b[39m=\u001b[39mmov,\n\u001b[1;32m    146\u001b[0m \t\t\t\t\tdiameter\u001b[39m=\u001b[39mops\u001b[39m.\u001b[39mget(\u001b[39m'\u001b[39m\u001b[39mdiameter\u001b[39m\u001b[39m'\u001b[39m, \u001b[39mNone\u001b[39;00m))\n\u001b[1;32m    147\u001b[0m \u001b[39melse\u001b[39;00m:            \n\u001b[0;32m--> 148\u001b[0m \tstat \u001b[39m=\u001b[39m select_rois(\n\u001b[1;32m    149\u001b[0m \t\tops\u001b[39m=\u001b[39;49mops,\n\u001b[1;32m    150\u001b[0m \t\tmov\u001b[39m=\u001b[39;49mmov,\n\u001b[1;32m    151\u001b[0m \t\tsparse_mode\u001b[39m=\u001b[39;49mops[\u001b[39m'\u001b[39;49m\u001b[39msparse_mode\u001b[39;49m\u001b[39m'\u001b[39;49m],\n\u001b[1;32m    152\u001b[0m \t\tclassfile\u001b[39m=\u001b[39;49mclassfile,\n\u001b[1;32m    153\u001b[0m \t)\n\u001b[1;32m    155\u001b[0m ymin \u001b[39m=\u001b[39m \u001b[39mint\u001b[39m(yrange[\u001b[39m0\u001b[39m])\n\u001b[1;32m    156\u001b[0m xmin \u001b[39m=\u001b[39m \u001b[39mint\u001b[39m(xrange[\u001b[39m0\u001b[39m])\n",
      "File \u001b[0;32m~/suite2p/suite2p/detection/detect.py:220\u001b[0m, in \u001b[0;36mselect_rois\u001b[0;34m(ops, mov, sparse_mode, classfile)\u001b[0m\n\u001b[1;32m    217\u001b[0m stat \u001b[39m=\u001b[39m np\u001b[39m.\u001b[39marray(stat)\n\u001b[1;32m    219\u001b[0m \u001b[39mif\u001b[39;00m \u001b[39mlen\u001b[39m(stat)\u001b[39m==\u001b[39m\u001b[39m0\u001b[39m:\n\u001b[0;32m--> 220\u001b[0m \t\u001b[39mraise\u001b[39;00m \u001b[39mValueError\u001b[39;00m(\u001b[39m\"\u001b[39m\u001b[39mno ROIs were found -- check registered binary and maybe change spatial scale\u001b[39m\u001b[39m\"\u001b[39m)\n\u001b[1;32m    222\u001b[0m \u001b[39m# add ROI stat to stat\u001b[39;00m\n\u001b[1;32m    223\u001b[0m \u001b[39m#stat = roi_stats(stat, dy, dx, Ly, Lx, max_overlap=max_overlap, do_crop=do_crop)\u001b[39;00m\n\u001b[1;32m    225\u001b[0m \u001b[39mreturn\u001b[39;00m stat\n",
      "\u001b[0;31mValueError\u001b[0m: no ROIs were found -- check registered binary and maybe change spatial scale"
     ]
    }
   ],
   "source": [
    "imaging.Processing.populate(display_progress=False,  suppress_errors=True)"
   ]
  },
  {
   "attachments": {},
   "cell_type": "markdown",
   "id": "de369dfc",
   "metadata": {},
   "source": [
    "### Do manual suite2p curation now!\n",
    "### Then: populate curation table"
   ]
  },
  {
   "cell_type": "code",
   "execution_count": null,
   "id": "8c6c7ce1",
   "metadata": {},
   "outputs": [],
   "source": [
    "imaging.Curation().create1_from_processing_task({'session_id': \"sess9FGLE1FN\", 'scan_id': \"scan9FGLE1FN\", \"paramset_idx\":3})"
   ]
  },
  {
   "cell_type": "code",
   "execution_count": null,
   "id": "1e1072b5",
   "metadata": {},
   "outputs": [],
   "source": [
    "imaging.Curation()"
   ]
  },
  {
   "attachments": {},
   "cell_type": "markdown",
   "id": "b80d7260",
   "metadata": {},
   "source": [
    "TODO: \n",
    "- figure out how to re-run s2p after curation\n"
   ]
  },
  {
   "attachments": {},
   "cell_type": "markdown",
   "id": "047e7c16",
   "metadata": {},
   "source": [
    "Populate imaging.MotionCorrection"
   ]
  },
  {
   "cell_type": "code",
   "execution_count": null,
   "id": "ed8acf81",
   "metadata": {},
   "outputs": [],
   "source": [
    "populate_settings = {'display_progress': False, 'suppress_errors': False, 'processes': 1}\n",
    "imaging.MotionCorrection.populate(**populate_settings)"
   ]
  },
  {
   "cell_type": "code",
   "execution_count": null,
   "id": "f02a8af2",
   "metadata": {},
   "outputs": [],
   "source": [
    "imaging.MotionCorrection()"
   ]
  },
  {
   "cell_type": "code",
   "execution_count": null,
   "id": "2ecdf4cb",
   "metadata": {},
   "outputs": [],
   "source": [
    "imaging.Segmentation.populate(**populate_settings)"
   ]
  },
  {
   "cell_type": "code",
   "execution_count": null,
   "id": "e963bba9",
   "metadata": {},
   "outputs": [],
   "source": [
    "imaging.Segmentation()"
   ]
  },
  {
   "cell_type": "code",
   "execution_count": null,
   "id": "55087028",
   "metadata": {},
   "outputs": [],
   "source": [
    "imaging.MaskClassification.populate(**populate_settings)"
   ]
  },
  {
   "cell_type": "code",
   "execution_count": null,
   "id": "ed747087",
   "metadata": {},
   "outputs": [],
   "source": [
    "imaging.MaskClassification()"
   ]
  },
  {
   "cell_type": "code",
   "execution_count": null,
   "id": "c4eb1a72",
   "metadata": {},
   "outputs": [],
   "source": [
    "imaging.Fluorescence.populate(**populate_settings)"
   ]
  },
  {
   "cell_type": "code",
   "execution_count": null,
   "id": "a7417de8",
   "metadata": {},
   "outputs": [],
   "source": [
    "imaging.Fluorescence()"
   ]
  },
  {
   "cell_type": "code",
   "execution_count": null,
   "id": "8abd8845",
   "metadata": {},
   "outputs": [],
   "source": [
    "imaging.Activity.populate(**populate_settings)"
   ]
  },
  {
   "cell_type": "code",
   "execution_count": null,
   "id": "de5b3a6e",
   "metadata": {},
   "outputs": [],
   "source": [
    "imaging.Activity()"
   ]
  },
  {
   "cell_type": "markdown",
   "id": "5bf7dbbf",
   "metadata": {},
   "source": [
    "## Exploring data"
   ]
  },
  {
   "cell_type": "code",
   "execution_count": null,
   "id": "426785d1",
   "metadata": {},
   "outputs": [],
   "source": [
    "session_key = (session.Session & 'session_id = \"sess9FGLE1FN\"').fetch('KEY')[0]\n",
    "session_key"
   ]
  },
  {
   "cell_type": "code",
   "execution_count": null,
   "id": "8a68ec98",
   "metadata": {},
   "outputs": [],
   "source": [
    "scan.ScanInfo & session_key\n",
    "\n",
    "scan.ScanInfo.Field & session_key"
   ]
  },
  {
   "cell_type": "code",
   "execution_count": null,
   "metadata": {},
   "outputs": [],
   "source": [
    "imaging.ProcessingTask * imaging.Processing & session_key"
   ]
  },
  {
   "cell_type": "code",
   "execution_count": null,
   "id": "20cd7001",
   "metadata": {},
   "outputs": [],
   "source": [
    "imaging.Curation & session_key"
   ]
  },
  {
   "cell_type": "code",
   "execution_count": null,
   "id": "9d23304e",
   "metadata": {},
   "outputs": [],
   "source": [
    "curation_key = (imaging.Curation & session_key & 'curation_id=1').fetch1('KEY')\n",
    "curation_key"
   ]
  },
  {
   "cell_type": "code",
   "execution_count": null,
   "id": "dbfef1ef",
   "metadata": {},
   "outputs": [],
   "source": [
    "imaging.MotionCorrection.Summary()"
   ]
  },
  {
   "cell_type": "code",
   "execution_count": null,
   "id": "53d9eb0f",
   "metadata": {},
   "outputs": [],
   "source": [
    "average_image = (imaging.MotionCorrection.Summary & curation_key & 'field_idx=0').fetch1('average_image')\n",
    "plt.imshow(average_image)"
   ]
  },
  {
   "cell_type": "code",
   "execution_count": null,
   "id": "43cad261",
   "metadata": {},
   "outputs": [],
   "source": [
    "mask_xpix, mask_ypix = (imaging.Segmentation.Mask * imaging.MaskClassification.MaskType & curation_key & 'mask_center_z=0' & 'mask_npix > 130').fetch('mask_xpix','mask_ypix')\n",
    "\n",
    "mask_image = np.zeros(np.shape(average_image), dtype=bool)\n",
    "for xpix, ypix in zip(mask_xpix, mask_ypix):\n",
    "    mask_image[ypix, xpix] = True\n",
    "\n",
    "plt.imshow(average_image);\n",
    "plt.contour(mask_image, colors='white', linewidths=0.5);"
   ]
  },
  {
   "cell_type": "code",
   "execution_count": null,
   "id": "dd5789ee",
   "metadata": {},
   "outputs": [],
   "source": [
    "query_cells = (imaging.Segmentation.Mask * imaging.MaskClassification.MaskType & curation_key & 'mask_center_z=0' & 'mask_npix > 130').proj()\n",
    "\n",
    "fluorescence_traces = (imaging.Fluorescence.Trace & query_cells).fetch('fluorescence', order_by='mask')\n",
    "\n",
    "activity_traces = (imaging.Activity.Trace & query_cells).fetch('activity_trace', order_by='mask')\n",
    "\n",
    "sampling_rate = (scan.ScanInfo & curation_key).fetch1('fps') # [Hz]\n",
    "\n",
    "fig, ax = plt.subplots(1, 1, figsize=(16, 4))\n",
    "ax2 = ax.twinx()\n",
    "\n",
    "for f, a in zip(fluorescence_traces, activity_traces):\n",
    "    ax.plot(np.r_[:f.size] * 1/sampling_rate, f, 'w', label='fluorescence trace')    \n",
    "    ax2.plot(np.r_[:a.size] * 1/sampling_rate, a, 'r', alpha=0.5, label='deconvolved trace')\n",
    "    \n",
    "    break\n",
    "\n",
    "ax.tick_params(labelsize=14)\n",
    "ax2.tick_params(labelsize=14)\n",
    "\n",
    "ax.legend(loc='upper left', prop={'size': 14})\n",
    "ax2.legend(loc='upper right', prop={'size': 14})\n",
    "\n",
    "ax.set_xlabel('Time (s)')\n",
    "ax.set_ylabel('Activity (a.u.)')\n",
    "ax2.set_ylabel('Activity (a.u.)');"
   ]
  },
  {
   "cell_type": "code",
   "execution_count": null,
   "id": "29a5ba8a",
   "metadata": {},
   "outputs": [],
   "source": [
    "# plt.imshow(zip(fluorescence_traces))fluorescence_traces\n",
    "allF = np.vstack(fluorescence_traces"
   ]
  },
  {
   "cell_type": "code",
   "execution_count": null,
   "id": "479c30f6",
   "metadata": {},
   "outputs": [],
   "source": [
    "plt.imshow(allF)"
   ]
  },
  {
   "cell_type": "markdown",
   "id": "8a6c4674",
   "metadata": {},
   "source": [
    "## Exploring updates"
   ]
  },
  {
   "cell_type": "code",
   "execution_count": null,
   "id": "1f2021e9",
   "metadata": {},
   "outputs": [],
   "source": [
    "dj.Diagram(subject.Subject) + dj.Diagram(session.Session) + dj.Diagram(scan) + dj.Diagram(imaging.Processing) + dj.Diagram(imaging.Curation)"
   ]
  },
  {
   "cell_type": "code",
   "execution_count": null,
   "id": "ffca0707",
   "metadata": {},
   "outputs": [],
   "source": [
    "from element_calcium_imaging.plotting.widget import main"
   ]
  },
  {
   "cell_type": "markdown",
   "id": "b919eafa",
   "metadata": {},
   "source": []
  },
  {
   "attachments": {},
   "cell_type": "markdown",
   "id": "bd20d2f6",
   "metadata": {},
   "source": [
    "selected_data"
   ]
  },
  {
   "cell_type": "code",
   "execution_count": null,
   "id": "41b48960",
   "metadata": {},
   "outputs": [],
   "source": [
    "sessi = \"sess9FG1TAXY\"\n",
    "query = session.Session() * scan.Scan() & f'session_id = \"{sessi}\"'\n",
    "scans_to_process = query.fetch(\"scan_id\")\n",
    "for j, scansi in enumerate(scans_to_process):\n",
    "    print(scansi)"
   ]
  },
  {
   "cell_type": "code",
   "execution_count": null,
   "id": "249406a8",
   "metadata": {},
   "outputs": [],
   "source": [
    "session.Session() * session.SessionRspace()"
   ]
  },
  {
   "cell_type": "code",
   "execution_count": null,
   "id": "654a9b89",
   "metadata": {},
   "outputs": [],
   "source": [
    "subject.Subject.delete()"
   ]
  },
  {
   "cell_type": "markdown",
   "id": "1874b0d0",
   "metadata": {},
   "source": [
    "### 2.1 Session notes ingest"
   ]
  },
  {
   "cell_type": "code",
   "execution_count": null,
   "id": "0ba0b342",
   "metadata": {},
   "outputs": [],
   "source": [
    "current_session = \"sess9FGTSPEH\"\n",
    "query = session.Session() * scan.Scan() & f'session_id = \"{current_session}\"'\n",
    "equipment_dropdown_value = query.fetch(\"scanner\")\n",
    "equipment_dropdown_value"
   ]
  },
  {
   "cell_type": "markdown",
   "id": "20416320",
   "metadata": {},
   "source": [
    "## 3. Scan ingest / s2p processing 1st pass"
   ]
  },
  {
   "cell_type": "code",
   "execution_count": null,
   "id": "159a6d62",
   "metadata": {},
   "outputs": [],
   "source": [
    "query = session.Session() * scan.ScanLocation() & f'session_id = \"{current_session}\"'"
   ]
  },
  {
   "cell_type": "code",
   "execution_count": null,
   "id": "c0f1f0ca",
   "metadata": {},
   "outputs": [],
   "source": [
    "query"
   ]
  },
  {
   "cell_type": "code",
   "execution_count": null,
   "id": "bb5433d4",
   "metadata": {},
   "outputs": [],
   "source": []
  }
 ],
 "metadata": {
  "jupytext": {
   "formats": "ipynb,py"
  },
  "kernelspec": {
   "display_name": "Python 3 (ipykernel)",
   "language": "python",
   "name": "python3"
  },
  "language_info": {
   "codemirror_mode": {
    "name": "ipython",
    "version": 3
   },
   "file_extension": ".py",
   "mimetype": "text/x-python",
   "name": "python",
   "nbconvert_exporter": "python",
   "pygments_lexer": "ipython3",
   "version": "3.8.16"
  },
  "vscode": {
   "interpreter": {
    "hash": "2888206d04306eefe963095373d1dcce5cd11176f3d6ee4ec3f64dd9e65fd8a1"
   }
  }
 },
 "nbformat": 4,
 "nbformat_minor": 5
}
