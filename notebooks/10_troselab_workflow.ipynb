{
 "cells": [
  {
   "cell_type": "markdown",
   "id": "86cc1ca7",
   "metadata": {},
   "source": [
    "# Daily workflow - troselab (DRAFT)"
   ]
  },
  {
   "attachments": {},
   "cell_type": "markdown",
   "id": "5eaa674c",
   "metadata": {},
   "source": [
    "`TR TODO: Jupyter ipywidget GUI`\n",
    "\n",
    "(check Daniel's ipysheet mouse entry GUI for inspiration)\n",
    "\n",
    "1. Upload to analysis server\n",
    "    1. automatic (rcopy with file consolidation)?\n",
    "    2. WinSCP?\n",
    "\n",
    "    \n",
    "2. Session ingest - Have this script parse the user folder. \n",
    "    1. retrieve login name  **DONE**\n",
    "    2. parse user storage folder for SessionIDs, ScanIDs **DONE**\n",
    "    3. intersect with 'Session' tables **DONE**\n",
    "    4. FIRST STEP: session ingestion of new data  **DONE**\n",
    "        1. have ipywidget with list of data to be ingested with checkbox  **DONE**\n",
    "        2. have dropdowns next to SessionsFetch that expose 'Project', 'Anatomical Location', 'Equipment' (NOTE: have me or admin accept new entries? Or user?) - have a user default **DONE**\n",
    "            1. ***TODO*** include a mini2p settings shorthand in elements `imaging.ProcessingParamSet`.\n",
    "        3. IMPORTANT: Have dropdown for `Same_Location_as_Session` - default: same session\n",
    "            1. Include `Same_Location_as_Session` key in `Session` table (default same session)\n",
    "            2. Update after Session ingest\n",
    "        4. have central 'START' button **DONE**\n",
    "        5. Combine session entry with automatic RSpace entry (**ongoing***)\n",
    "            0. Include rspace in install requirements!\n",
    "            1. Extract parent folder IDs under 'experiments' from RSpace (add RSpace API key and URL to djconfig )\n",
    "            2. Intersect list with animal ID from session ingest\n",
    "            3. Create new document with `YYYY-MM-DD_SessionID`\n",
    "            4. Append content as verbose tables using Pandas df.to_html (`html_table = df.to_html()`)\n",
    "            5. IMPORTANT: Push RSpace document ID and noteobook URL in Sessions database!\n",
    "        5. OPTIONAL: Have a notebook section to enter and insert Session Notes\n",
    "        6. OPTIONAL: Submit Sessions to pyrat. Not sure if necessary.\n",
    "        7. TODO: Think if splitting projects off to different database suffixes (and differnt associated tables makes sense from here. Seems reasonable given the focus on the user root directory here.\n",
    "        8. TODO: Implement auto animal pyrat ingest if needed. Crashes now.\n",
    "        9. TODO: Make sure that multi-scan sessions are properly treated. Currently they are not detected as such by the GUI. Make sure ingestion behavior is appropriate.\n",
    "\n",
    "\n",
    "\n",
    "3. Scan ingest / 1st stage s2p processing: \n",
    "    1. have another list with checkboxes (default checled) - now with all first stage scans of the newly ingested sessions. Have dropdown boxes with s2p parameteres. User default is selected. Followed by 'START'\n",
    "    2. TODO: suppress s2p output, just have progress bars\n",
    "    3. OPTIONAL: Have a notebook section to enter and insert Scan Notes\n",
    "    4. OPTIONAL: Submit sessions, scans and Notes to RSPACE! Upload s2p average image, max image, Source image and Rastermap \n",
    "    \n",
    "\n",
    "4. Scan Curation\n",
    "    1. DIFFERENT NOTEBOOK (or different Notebook section)\n",
    "    2. Make intersection of folder with database\n",
    "        1. list _all_ scans\n",
    "        2. have all non-curated red - the others green\n",
    "        3. bhave non-processed scans grey\n",
    "        4. have 'CURATE LOCALLY WITH s2P' buttons behind all scans. This button should spawn a local suite2p GUI which directly loads the respective suite2p stats.npy file from the server. Folder settings for server need to be set in datajoint.json file.\n",
    "\n",
    "5. SERVER: Database backup and Data folder backup\n",
    "    1. Have cronjob backup database to ana2 and isilon (midnight, incremental - only add, no delete. Increment ID to be reversible?)\n",
    "    2. Have cronjob backup data folders to ana2 and isilon (midnight, incremental - only add, no delete)"
   ]
  },
  {
   "cell_type": "markdown",
   "id": "634ec7b4",
   "metadata": {},
   "source": [
    "## Login\n",
    "\n",
    "Either log in via a local config file (see [01_pipeline](./01_pipeline.ipynb)), or enter login information manually. If you are don't have your login information, contact the administrator.\n"
   ]
  },
  {
   "cell_type": "code",
   "execution_count": 1,
   "id": "0b1bebf0",
   "metadata": {},
   "outputs": [
    {
     "name": "stderr",
     "output_type": "stream",
     "text": [
      "[2023-03-17 12:05:29,011][INFO]: Connecting tobiasr@172.26.128.53:3306\n",
      "[2023-03-17 12:05:29,068][INFO]: Connected tobiasr@172.26.128.53:3306\n"
     ]
    }
   ],
   "source": [
    "import os\n",
    "# change to the upper level folder to detect dj_local_conf.json\n",
    "if os.path.basename(os.getcwd())=='notebooks': os.chdir('..')\n",
    "assert os.path.basename(os.getcwd())=='adamacs', (\"Please move to the main directory\")\n",
    "from adamacs.pipeline import subject, session, equipment, surgery \n",
    "from adamacs.ingest import session as isess\n",
    "import datajoint as dj\n",
    "from rspace_client.eln import eln\n",
    "import pandas as pd\n"
   ]
  },
  {
   "attachments": {},
   "cell_type": "markdown",
   "id": "7042be7d",
   "metadata": {},
   "source": [
    "### RSpace connection"
   ]
  },
  {
   "cell_type": "code",
   "execution_count": 7,
   "id": "c5db12e4",
   "metadata": {},
   "outputs": [
    {
     "data": {
      "text/plain": [
       "{'message': 'OK', 'rspaceVersion': '1.80.1'}"
      ]
     },
     "execution_count": 7,
     "metadata": {},
     "output_type": "execute_result"
    }
   ],
   "source": [
    "URL=dj.config['custom'].get('rspace_URL')\n",
    "API_KEY=dj.config['custom'].get('rspace_API_key')\n",
    "api = eln.ELNClient(URL, API_KEY)\n",
    "api.get_status()"
   ]
  },
  {
   "attachments": {},
   "cell_type": "markdown",
   "id": "d2bbbb84",
   "metadata": {},
   "source": [
    "### write an example document"
   ]
  },
  {
   "cell_type": "code",
   "execution_count": null,
   "id": "51ef5077",
   "metadata": {},
   "outputs": [],
   "source": [
    "new_doc = api.create_document(name=f\"Analysis of dataset {animalID}\", parent_folder_id=matching_folder_id)"
   ]
  },
  {
   "cell_type": "code",
   "execution_count": null,
   "id": "e2404e9c",
   "metadata": {},
   "outputs": [],
   "source": [
    "new_doc = api.create_document(name=f\"Analysis of dataset {animalID}\", parent_folder_id=matching_folder_id)\n",
    "content = f\"\"\"\n",
    "<p>Analysis of temperature dataset from our standard locations.\n",
    "<p>No variation between locations:\n",
    "Raw data: <fileId={animalID}>\n",
    "<p>\n",
    "Statistical summary: <fileId={animalID}>b\n",
    "<p>\n",
    "Location vs temperature: <fileId={animalID}>\n",
    "\"\"\"\n",
    "api.append_content(new_doc['id'], content)\n",
    "documents['documents'][0]['parentFolderId']"
   ]
  },
  {
   "cell_type": "markdown",
   "id": "d29453ed",
   "metadata": {},
   "source": [
    "## Activation\n",
    "Next, import from `adamacs.pipeline` to activate the relevant schema."
   ]
  },
  {
   "cell_type": "code",
   "execution_count": 2,
   "id": "f27dcb14",
   "metadata": {},
   "outputs": [],
   "source": [
    "from adamacs.utility import *\n",
    "from adamacs.nbgui import *\n",
    "from adamacs.pipeline import subject, session, surgery, scan, equipment"
   ]
  },
  {
   "cell_type": "markdown",
   "id": "8cd8be94",
   "metadata": {},
   "source": [
    "Assign easy names for relevant tables"
   ]
  },
  {
   "cell_type": "code",
   "execution_count": 3,
   "id": "30485290",
   "metadata": {},
   "outputs": [],
   "source": [
    "sub, lab, protocol, line, mutation, user, project, subject_genotype, subject_death = (\n",
    "    subject.Subject(), subject.Lab(), subject.Protocol(), subject.Line(), \n",
    "    subject.Mutation(), subject.User(), subject.Project(), subject.SubjectGenotype(), \n",
    "    subject.SubjectDeath()\n",
    "    )"
   ]
  },
  {
   "cell_type": "markdown",
   "id": "807a36ef",
   "metadata": {},
   "source": [
    "## 1. Data upload\n",
    "(not implemented currently)"
   ]
  },
  {
   "cell_type": "markdown",
   "id": "d83b5668",
   "metadata": {},
   "source": [
    "## 2. Session ingest"
   ]
  },
  {
   "attachments": {},
   "cell_type": "markdown",
   "id": "cb2fabde",
   "metadata": {},
   "source": [
    "### Define ingest GUI functions"
   ]
  },
  {
   "cell_type": "code",
   "execution_count": 4,
   "id": "4e8164fb",
   "metadata": {},
   "outputs": [],
   "source": [
    "# Tobias Rose 2023: Routine ingest helpers\n",
    "\n",
    "import ipywidgets as widgets\n",
    "from natsort import natsorted, ns\n",
    "import re\n",
    "from tqdm import tqdm\n",
    "\n",
    "def select_sessions(IngestedSessionDirA, AvailableSessionDirB, Project, Recording_Location, Equipment, s2pparm, SessionNotes):\n",
    "    \n",
    "    # Personal default values\n",
    "    user_defaults = get_user_defaults(AvailableSessionDirB)\n",
    "       \n",
    "    # Define the widgets\n",
    "    session_dropdowns = []\n",
    "    session_checkboxes = []\n",
    "    for i, session_list in enumerate(AvailableSessionDirB):\n",
    "        # Dropdowns for Project, Recording Location, Equipment\n",
    "\n",
    "        current_session = get_session_key_from_dir([session_list])\n",
    "\n",
    "        # check if directory session is already ingested - if yes: populate GUI with table values. If no: use user defaults\n",
    "        query = session.Session() & f'session_id = \"{current_session[0]}\"'\n",
    "\n",
    "        count = len(query.fetch('session_id'))\n",
    "        print(current_session)\n",
    "        \n",
    "        if count > 0:\n",
    "            # print(\"HELLO\")\n",
    "            # get the project associated with a session\n",
    "            query = session.ProjectSession() & f'session_id = \"{current_session[0]}\"'\n",
    "            project_dropdown_value = query.fetch(\"project\")\n",
    "            # get the location associated with a session\n",
    "            query = session.Session() * scan.ScanLocation() & f'session_id = \"{current_session[0]}\"'\n",
    "            location_dropdown_value = query.fetch(\"anatomical_location\")\n",
    "            # get the equipment associated with a session\n",
    "            query = session.Session() * scan.Scan() & f'session_id = \"{current_session[0]}\"'\n",
    "            equipment_dropdown_value = query.fetch(\"scanner\")\n",
    "            # get the note associated with a session\n",
    "            query = session.SessionNote() & f'session_id = \"{current_session[0]}\"'\n",
    "            session_note_textbox_value = query.fetch(\"session_note\")\n",
    "            if len(session_note_textbox_value) == 0:\n",
    "                session_note_textbox_value = [\"none\"]    \n",
    "        else:\n",
    "            project_dropdown_value = Project[user_defaults[i][0]]\n",
    "            location_dropdown_value = [Recording_Location[user_defaults[i][1]]]\n",
    "            equipment_dropdown_value = [Equipment[user_defaults[i][2]]]\n",
    "            session_note_textbox_value = [\"none\"]\n",
    "        \n",
    "        project_dropdown = widgets.Dropdown(options=Project, value=project_dropdown_value, description=\"Project:\")\n",
    "        location_dropdown = widgets.Dropdown(options=Recording_Location, value=location_dropdown_value[0], description=\"Location:\")\n",
    "        equipment_dropdown = widgets.Dropdown(options=Equipment, value=equipment_dropdown_value[0], description=\"Setup:\")\n",
    "        s2pparms_dropdown = widgets.Dropdown(options=s2pparm, value=s2pparm[user_defaults[i][3]], description=\"s2p parm:\")\n",
    "        session_note_textbox = widgets.Text(value=session_note_textbox_value[0], description='Session comment:')\n",
    "\n",
    "        session_dropdowns.append((project_dropdown, location_dropdown, equipment_dropdown, s2pparms_dropdown, session_note_textbox))\n",
    "\n",
    "        # Checkbox for Process?\n",
    "        session_checkbox = widgets.Checkbox(description='run?', layout=widgets.Layout(width='auto'))\n",
    "        session_checkboxes.append(session_checkbox)\n",
    "\n",
    "    # Display the widgets\n",
    "    output = widgets.Output()\n",
    "\n",
    "    with output:\n",
    "        # Display the Sessions labels and associated dropdowns and checkboxes\n",
    "        hbox_list = []\n",
    "        for i, session_list in enumerate(AvailableSessionDirB): #unique_directory_strings(SessionDirA, SessionDirB)\n",
    "            # Create an HBox to hold the label and associated dropdowns and checkbox\n",
    "            hbox = widgets.HBox()\n",
    "            hbox.children = [\n",
    "                widgets.Label(value=session_list + ':', layout=widgets.Layout(width='1800px')), \n",
    "                session_dropdowns[i][0],\n",
    "                session_dropdowns[i][1],\n",
    "                session_dropdowns[i][2],\n",
    "                session_dropdowns[i][3],\n",
    "                session_dropdowns[i][4],\n",
    "                session_checkboxes[i]\n",
    "            ]\n",
    "            if session_list in unique_directory_strings(IngestedSessionDirA, AvailableSessionDirB):\n",
    "                hbox.children[0].value = '*' + session_list + ':'\n",
    "                hbox.children[6].value = True\n",
    "            else:\n",
    "                hbox.children[6].value = False\n",
    "                hbox.children[1].disabled = True\n",
    "                hbox.children[2].disabled = True\n",
    "                hbox.children[3].disabled = True\n",
    "                hbox.children[4].disabled = True\n",
    "                hbox.children[5].disabled = True\n",
    "            hbox_list.append(hbox)\n",
    "\n",
    "        vbox = widgets.VBox(hbox_list, layout=widgets.Layout(flex='0 0 auto', overflow_y='scroll'))\n",
    "        # Display the commit button\n",
    "        commit_button = widgets.Button(description='Commit', layout=widgets.Layout(width='auto'))\n",
    "        display(vbox, commit_button)\n",
    "\n",
    "        # Define the callback function for the commit button\n",
    "        def commit_button_clicked(b):\n",
    "            selected_sessions = [AvailableSessionDirB[i] for i in range(len(AvailableSessionDirB)) if session_checkboxes[i].value]\n",
    "            selected_projects = [session_dropdowns[i][0].value for i in range(len(AvailableSessionDirB)) if session_checkboxes[i].value]\n",
    "            selected_locations = [session_dropdowns[i][1].value for i in range(len(AvailableSessionDirB)) if session_checkboxes[i].value]\n",
    "            selected_equipment = [session_dropdowns[i][2].value for i in range(len(AvailableSessionDirB)) if session_checkboxes[i].value]\n",
    "            selected_s2pparms = [session_dropdowns[i][3].value for i in range(len(AvailableSessionDirB)) if session_checkboxes[i].value]\n",
    "            entered_session_note = [session_dropdowns[i][4].value for i in range(len(AvailableSessionDirB)) if session_checkboxes[i].value]\n",
    "\n",
    "            selected_scans = get_scan_key_from_dir(selected_sessions)\n",
    "            selected_sessions = get_session_key_from_dir(selected_sessions)\n",
    "\n",
    "            output.clear_output()\n",
    "            with output:\n",
    "                # print('Selected Sessions:', selected_sessions)\n",
    "                # print('Selected Scans:', selected_scans)\n",
    "                # print('Selected Projects:', selected_projects)\n",
    "                # print('Selected Recording Locations:', selected_locations)\n",
    "                # print('Selected Equipment:', selected_equipment)\n",
    "                # print('Selected S2PParms:', selected_s2pparms)\n",
    "\n",
    "                # Ingest selected sessions here\n",
    "                populate_settings = {'display_progress': False}\n",
    "                for i, sessi in enumerate(tqdm(selected_sessions, desc='Current Session: {}')):\n",
    "                    # ingest sessions\n",
    "                    isess.ingest_session_scan(sessi, verbose=False, project_key=selected_projects[i], equipment_key=selected_equipment[i], location_key=selected_locations[i], software_key='ScanImage')\n",
    "                    # update / insert session info based on user choice from above\n",
    "                    try:\n",
    "                        session.SessionNote.insert1({'session_id': sessi, 'session_note': entered_session_note[i]})\n",
    "                    except:\n",
    "                        session.SessionNote.delete_quick({'session_id': sessi})\n",
    "                        session.SessionNote.insert1({'session_id': sessi, 'session_note': entered_session_note[i]})\n",
    "                    \n",
    "                    # update scaninfo based on user choice from above\n",
    "                    # get the scans associated with a session\n",
    "                    query = session.Session() * scan.Scan() & f'session_id = \"{sessi}\"'\n",
    "                    scans_to_process = query.fetch(\"scan_id\")\n",
    "                    \n",
    "                    for j, scansi in enumerate(scans_to_process):\n",
    "                        try:\n",
    "                            scan.Scan.update1({'session_id': sessi, 'scan_id': scansi, 'scan_notes': entered_session_note[i]})\n",
    "                        except:\n",
    "                            scan.Scan.insert1({'session_id': sessi, 'scan_id': scansi, 'scan_notes': entered_session_note[i]})\n",
    "                        try:\n",
    "                            scan.ScanLocation.update1({'session_id': sessi, 'scan_id': scansi, 'anatomical_location': selected_locations[i]})\n",
    "                        except: \n",
    "                            scan.ScanLocation.insert1({'session_id': sessi, 'scan_id': scansi, 'anatomical_location': selected_locations[i]})\n",
    "                        \n",
    "                        # print('Ingested and processed Scan:', scansi)\n",
    "                print('Ingested Sessions:', selected_sessions)\n",
    "\n",
    "                # TODO: Queue Processing here\n",
    "\n",
    "\n",
    "                ## Make RSpace entries here\n",
    "                query = session.Session() & f'session_id = \"{sessi}\"'\n",
    "                animalID = query.fetch(\"scan_id\")\n",
    "                date = query.fetch(\"scan_id\")\n",
    "                make_rspace_session_document(animalID, sessi, date) # TODOO\n",
    "                \n",
    "                \n",
    "                return selected_sessions\n",
    "\n",
    "        # Attach the callback function to the commit button\n",
    "        commit_button.on_click(commit_button_clicked)\n",
    "\n",
    "    # Display the output\n",
    "    display(output)\n",
    "    \n",
    "def make_rspace_session_document(animalID, sessionID, date):\n",
    "    \n",
    "    # find 'Experiments' folder and get ID\n",
    "    folders = api.list_folder_tree()\n",
    "    experiments_ids = []\n",
    "    for record in folders['records']:\n",
    "        if record['name'] == 'Experiments':\n",
    "            experiments_ids.append(record['id'])\n",
    "    \n",
    "    # find folders under 'Experiments' folder\n",
    "    names_and_ids = []\n",
    "    subfolders = api.list_folder_tree(experiments_ids[0])\n",
    "    names_and_ids.append([(record['name'], record['id']) for record in subfolders['records']])\n",
    "\n",
    "    # find matches with animal IDs\n",
    "    matching_folder_id = [x[1] for sublist in names_and_ids for x in sublist if animalID in x[0]][0]\n",
    "\n",
    "    # create RSpace document\n",
    "    new_doc = api.create_document(name=f\"{date}_{sessionID}\", parent_folder_id=matching_folder_id)\n",
    "    \n",
    "    fetchtable = session.Session() * session.SessionDirectory * session.SessionUser * session.ProjectSession * session.SessionNote \n",
    "    df = fetchtable.fetch(format='frame')\n",
    "    html_table = df.to_html()\n",
    "    content = html_table\n",
    "    api.append_content(new_doc['id'], content)\n",
    "        \n",
    "\n",
    "\n",
    "\n",
    "def get_date_key_from_dir(directory):\n",
    "    return directory.split(\"_\")[-1]\n",
    "\n",
    "def get_session_dir_key_from_dir(directory):\n",
    "    return [path.split('/')[-1] for path in directory]\n",
    "     \n",
    "def get_scan_dir_key_from_dir(directory):\n",
    "    return [path.split('/')[-1] for path in directory]\n",
    "\n",
    "def get_session_key_from_dir(string):\n",
    "    result = [re.search(r'sess\\S+', item).group(0) for item in string]\n",
    "    return result\n",
    "\n",
    "def get_user_initials_from_dir(string):\n",
    "    result = [name[:2] for name in string]\n",
    "    return result\n",
    "\n",
    "def get_scan_key_from_dir(string):\n",
    "    result = [re.search(r'scan\\S+_', item).group(0)[:-1] for item in string]\n",
    "    return result\n",
    "\n",
    "def unique_directory_strings(dirs1, dirs2):\n",
    "    set1 = set(dirs1)\n",
    "    set2 = set(dirs2)\n",
    "    common_dirs = list(set1.intersection(set2))\n",
    "    unique_dirs = list(set(set1.union(set2)) - set(common_dirs))\n",
    "    return unique_dirs\n",
    "\n",
    "def get_user_defaults(directory):\n",
    "    RN = [1, 1, 2, 0]\n",
    "    JJ = [2, 6, 2, 0]\n",
    "    TR = [0, 6, 3, 0]\n",
    "    DB = [4, 0, 1, 2]\n",
    "    NK = [5, 0, 2, 2]\n",
    "    \n",
    "    user_initials = get_user_initials_from_dir(directory)\n",
    "\n",
    "    user_arrays = {}\n",
    "    for initial in user_initials:\n",
    "        values = locals()[initial]\n",
    "        user_arrays[initial] = values\n",
    "\n",
    "    new_array = [user_arrays[initial] for initial in user_initials]\n",
    "    return new_array"
   ]
  },
  {
   "cell_type": "code",
   "execution_count": null,
   "id": "a99f8119",
   "metadata": {},
   "outputs": [],
   "source": [
    "session.Session().delete()"
   ]
  },
  {
   "cell_type": "code",
   "execution_count": 41,
   "id": "9d112ac7",
   "metadata": {},
   "outputs": [],
   "source": [
    "query = session.Session() * subject.User() & f'session_id = \"sess9FGTSPEH\"'\n",
    "animalID = query.fetch(\"subject\")[0]\n",
    "date = query.fetch(\"session_datetime\")[0].strftime(\"%Y-%m-%d\")\n",
    "userID = query.fetch(\"initials\")[0]\n",
    "sessionID = query.fetch(\"session_id\")[0]\n",
    "# make_rspace_session_document(animalID, \"sess9FGTSPEH\", date) # TODOO"
   ]
  },
  {
   "cell_type": "code",
   "execution_count": 56,
   "id": "4f5eea4e",
   "metadata": {},
   "outputs": [
    {
     "data": {
      "text/html": [
       "\n",
       "    \n",
       "    <style type=\"text/css\">\n",
       "        .Table{\n",
       "            border-collapse:collapse;\n",
       "        }\n",
       "        .Table th{\n",
       "            background: #A0A0A0; color: #ffffff; padding:4px; border:#f0e0e0 1px solid;\n",
       "            font-weight: normal; font-family: monospace; font-size: 100%;\n",
       "        }\n",
       "        .Table td{\n",
       "            padding:4px; border:#f0e0e0 1px solid; font-size:100%;\n",
       "        }\n",
       "        .Table tr:nth-child(odd){\n",
       "            background: #ffffff;\n",
       "        }\n",
       "        .Table tr:nth-child(even){\n",
       "            background: #f3f1ff;\n",
       "        }\n",
       "        /* Tooltip container */\n",
       "        .djtooltip {\n",
       "        }\n",
       "        /* Tooltip text */\n",
       "        .djtooltip .djtooltiptext {\n",
       "            visibility: hidden;\n",
       "            width: 120px;\n",
       "            background-color: black;\n",
       "            color: #fff;\n",
       "            text-align: center;\n",
       "            padding: 5px 0;\n",
       "            border-radius: 6px;\n",
       "            /* Position the tooltip text - see examples below! */\n",
       "            position: absolute;\n",
       "            z-index: 1;\n",
       "        }\n",
       "        #primary {\n",
       "            font-weight: bold;\n",
       "            color: black;\n",
       "        }\n",
       "        #nonprimary {\n",
       "            font-weight: normal;\n",
       "            color: white;\n",
       "        }\n",
       "\n",
       "        /* Show the tooltip text when you mouse over the tooltip container */\n",
       "        .djtooltip:hover .djtooltiptext {\n",
       "            visibility: visible;\n",
       "        }\n",
       "    </style>\n",
       "    \n",
       "    \n",
       "        <div style=\"max-height:1000px;max-width:1500px;overflow:auto;\">\n",
       "        <table border=\"1\" class=\"Table\">\n",
       "            <thead> <tr style=\"text-align: right;\"> <th> <div class=\"djtooltip\">\n",
       "                            <p id=\"primary\">session_id</p>\n",
       "                            <span class=\"djtooltiptext\"></span>\n",
       "                        </div></th><th><div class=\"djtooltip\">\n",
       "                            <p id=\"primary\">scan_id</p>\n",
       "                            <span class=\"djtooltiptext\"></span>\n",
       "                        </div></th><th><div class=\"djtooltip\">\n",
       "                            <p id=\"primary\">user_id</p>\n",
       "                            <span class=\"djtooltiptext\"></span>\n",
       "                        </div></th><th><div class=\"djtooltip\">\n",
       "                            <p id=\"primary\">path</p>\n",
       "                            <span class=\"djtooltiptext\"></span>\n",
       "                        </div></th><th><div class=\"djtooltip\">\n",
       "                            <p id=\"primary\">project</p>\n",
       "                            <span class=\"djtooltiptext\"></span>\n",
       "                        </div></th><th><div class=\"djtooltip\">\n",
       "                            <p id=\"nonprimary\">subject</p>\n",
       "                            <span class=\"djtooltiptext\">PyRat import uses this for earmark value</span>\n",
       "                        </div></th><th><div class=\"djtooltip\">\n",
       "                            <p id=\"nonprimary\">session_datetime</p>\n",
       "                            <span class=\"djtooltiptext\"></span>\n",
       "                        </div></th><th><div class=\"djtooltip\">\n",
       "                            <p id=\"nonprimary\">session_note</p>\n",
       "                            <span class=\"djtooltiptext\"></span>\n",
       "                        </div></th><th><div class=\"djtooltip\">\n",
       "                            <p id=\"nonprimary\">scanner</p>\n",
       "                            <span class=\"djtooltiptext\"></span>\n",
       "                        </div></th><th><div class=\"djtooltip\">\n",
       "                            <p id=\"nonprimary\">acq_software</p>\n",
       "                            <span class=\"djtooltiptext\"></span>\n",
       "                        </div></th><th><div class=\"djtooltip\">\n",
       "                            <p id=\"nonprimary\">scan_notes</p>\n",
       "                            <span class=\"djtooltiptext\">free-notes</span>\n",
       "                        </div> </th> </tr> </thead>\n",
       "            <tbody> <tr> <td>sess9FG1TAXY</td>\n",
       "<td>scan9FG1TAXY</td>\n",
       "<td>1</td>\n",
       "<td>/datajoint-data/data/tobiasr/TR_WEZ-8701_2023-01-13_scan9FG1TAXY_sess9FG1TAXY</td>\n",
       "<td>ATn</td>\n",
       "<td>WEZ-8701</td>\n",
       "<td>2023-01-13 00:00:00</td>\n",
       "<td>Test</td>\n",
       "<td>mini2p_01</td>\n",
       "<td>ScanImage</td>\n",
       "<td>Test</td></tr><tr><td>sess9FG1TAXY</td>\n",
       "<td>scan9FG1THFD</td>\n",
       "<td>1</td>\n",
       "<td>/datajoint-data/data/tobiasr/TR_WEZ-8701_2023-01-13_scan9FG1THFD_sess9FG1TAXY</td>\n",
       "<td>ATn</td>\n",
       "<td>WEZ-8701</td>\n",
       "<td>2023-01-13 00:00:00</td>\n",
       "<td>Test</td>\n",
       "<td>mini2p_01</td>\n",
       "<td>ScanImage</td>\n",
       "<td>Test</td> </tr> </tbody>\n",
       "        </table>\n",
       "        \n",
       "        <p>Total: 2</p></div>\n",
       "        "
      ],
      "text/plain": [
       "*session_id    *scan_id       *user_id    *path          *project    subject      session_dateti session_note   scanner       acq_software   scan_notes    \n",
       "+------------+ +------------+ +---------+ +------------+ +---------+ +----------+ +------------+ +------------+ +-----------+ +------------+ +------------+\n",
       "sess9FG1TAXY   scan9FG1TAXY   1           /datajoint-dat ATn         WEZ-8701     2023-01-13 00: Test           mini2p_01     ScanImage      Test          \n",
       "sess9FG1TAXY   scan9FG1THFD   1           /datajoint-dat ATn         WEZ-8701     2023-01-13 00: Test           mini2p_01     ScanImage      Test          \n",
       " (Total: 2)"
      ]
     },
     "execution_count": 56,
     "metadata": {},
     "output_type": "execute_result"
    }
   ],
   "source": [
    "session.Session() * scan.ScanPath() * session.SessionUser() * session.ProjectSession() * session.SessionNote() * scan.Scan() "
   ]
  },
  {
   "cell_type": "code",
   "execution_count": 58,
   "id": "8276f83f",
   "metadata": {},
   "outputs": [
    {
     "ename": "TypeError",
     "evalue": "'module' object is not callable",
     "output_type": "error",
     "traceback": [
      "\u001b[0;31m---------------------------------------------------------------------------\u001b[0m",
      "\u001b[0;31mTypeError\u001b[0m                                 Traceback (most recent call last)",
      "Cell \u001b[0;32mIn[58], line 1\u001b[0m\n\u001b[0;32m----> 1\u001b[0m scan\u001b[39m.\u001b[39;49msubject()\n",
      "\u001b[0;31mTypeError\u001b[0m: 'module' object is not callable"
     ]
    }
   ],
   "source": [
    "scan.subject()"
   ]
  },
  {
   "cell_type": "code",
   "execution_count": 96,
   "id": "060c429e",
   "metadata": {},
   "outputs": [
    {
     "data": {
      "text/plain": [
       "{'id': 104955,\n",
       " 'globalId': 'SD104955',\n",
       " 'name': '2023-03-01_sess9FGTSPEH',\n",
       " 'created': '2023-03-17T13:00:05.411Z',\n",
       " 'lastModified': '2023-03-17T13:00:06.383Z',\n",
       " 'parentFolderId': 104919,\n",
       " 'signed': False,\n",
       " 'tags': None,\n",
       " 'form': {'id': 5,\n",
       "  'globalId': 'FM5',\n",
       "  'stableId': '1596118135085null',\n",
       "  'version': 0,\n",
       "  'name': 'Basic Document',\n",
       "  'tags': None,\n",
       "  'formState': 'PUBLISHED',\n",
       "  'accessControl': {'ownerPermissionType': 'WRITE',\n",
       "   'groupPermissionType': 'NONE',\n",
       "   'worldPermissionType': 'READ'},\n",
       "  'iconId': -1,\n",
       "  '_links': [{'link': 'https://rspace.rhrz.uni-bonn.de/api/v1/forms/5',\n",
       "    'rel': 'self'}]},\n",
       " 'owner': {'id': 491534,\n",
       "  'username': 'trose',\n",
       "  'email': 'trose@uni-bonn.de',\n",
       "  'firstName': 'Tobias',\n",
       "  'lastName': 'Rose',\n",
       "  'homeFolderId': 23780,\n",
       "  'workbenchId': None,\n",
       "  '_links': []},\n",
       " 'fields': [{'id': 2425795,\n",
       "   'globalId': 'FD2425795',\n",
       "   'name': 'Data',\n",
       "   'type': 'text',\n",
       "   'content': '<table border=\"1\" class=\"dataframe\"> \\n <thead> \\n  <tr style=\"text-align: right;\"> \\n   <th></th> \\n   <th></th> \\n   <th></th> \\n   <th></th> \\n   <th></th> \\n   <th>subject</th> \\n   <th>session_datetime</th> \\n   <th>session_note</th> \\n   <th>scanner</th> \\n   <th>acq_software</th> \\n   <th>scan_notes</th> \\n  </tr> \\n  <tr> \\n   <th>session_id</th> \\n   <th>scan_id</th> \\n   <th>user_id</th> \\n   <th>path</th> \\n   <th>project</th> \\n   <th></th> \\n   <th></th> \\n   <th></th> \\n   <th></th> \\n   <th></th> \\n   <th></th> \\n  </tr> \\n </thead> \\n <tbody> \\n  <tr> \\n   <th rowspan=\"2\">sess9FG1TAXY</th> \\n   <th>scan9FG1TAXY</th> \\n   <th>1</th> \\n   <th>/datajoint-data/data/tobiasr/TR_WEZ-8701_2023-01-13_scan9FG1TAXY_sess9FG1TAXY</th> \\n   <th>ATn</th> \\n   <td>WEZ-8701</td> \\n   <td>2023-01-13</td> \\n   <td>Test</td> \\n   <td>mini2p_01</td> \\n   <td>ScanImage</td> \\n   <td>Test</td> \\n  </tr> \\n  <tr> \\n   <th>scan9FG1THFD</th> \\n   <th>1</th> \\n   <th>/datajoint-data/data/tobiasr/TR_WEZ-8701_2023-01-13_scan9FG1THFD_sess9FG1TAXY</th> \\n   <th>ATn</th> \\n   <td>WEZ-8701</td> \\n   <td>2023-01-13</td> \\n   <td>Test</td> \\n   <td>mini2p_01</td> \\n   <td>ScanImage</td> \\n   <td>Test</td> \\n  </tr> \\n </tbody> \\n</table>',\n",
       "   'lastModified': '2023-03-17T13:00:06.383Z',\n",
       "   'columnIndex': 0,\n",
       "   'files': [],\n",
       "   'listOfMaterials': [],\n",
       "   '_links': []}],\n",
       " '_links': [{'link': 'https://rspace.rhrz.uni-bonn.de/api/v1/documents/104955',\n",
       "   'rel': 'self'}]}"
      ]
     },
     "execution_count": 96,
     "metadata": {},
     "output_type": "execute_result"
    }
   ],
   "source": [
    "# def make_rspace_session_document(animalID, sessionID, date):\n",
    "\n",
    "# find 'Experiments' folder and get ID\n",
    "folders = api.list_folder_tree()\n",
    "experiments_ids = []\n",
    "for record in folders['records']:\n",
    "    if record['name'] == 'Experiments':\n",
    "        experiments_ids.append(record['id'])\n",
    "\n",
    "# find folders under 'Experiments' folder\n",
    "names_and_ids = []\n",
    "subfolders = api.list_folder_tree(experiments_ids[0])\n",
    "names_and_ids.append([(record['name'], record['id']) for record in subfolders['records']])\n",
    "\n",
    "# find matches with animal IDs\n",
    "match_found = []\n",
    "match_found.append(any(animalID in item[0] for sublist in names_and_ids for item in sublist))\n",
    "\n",
    "# if found, find folder id matching that animal\n",
    "if any(match_found) == True:\n",
    "    save_folder_id = [x[1] for sublist in names_and_ids for x in sublist if animalID in x[0]][0]\n",
    "else:\n",
    "    # if not generate the directory\n",
    "    new_folder = api.create_folder(name=f\"{userID}_{animalID}\", parent_folder_id=experiments_ids[0], notebook=True)\n",
    "    save_folder_id = new_folder['id']\n",
    "\n",
    "# create RSpace document\n",
    "# find matches with document IDs\n",
    "# find all documents in the animal folder\n",
    "all_animal_documents = api.list_folder_tree(save_folder_id)\n",
    "\n",
    "match_found = []\n",
    "match_found.append(any(sessionID in item[0] for sublist in all_animal_documents for item in sublist))\n",
    "\n",
    "if any(match_found) == True:\n",
    "    # find document id\n",
    "    doc_names_and_ids = []\n",
    "    doc_names_and_ids.append(record['id'] for record in all_animal_documents['records'])\n",
    "    new_doc = {\"id\": doc_names_and_ids[0][0]}\n",
    "else:\n",
    "    new_doc = api.create_document(name=f\"{date}_{sessionID}\", parent_folder_id=save_folder_id)\n",
    "\n",
    "fetchtable = session.Session() * scan.ScanPath() * session.SessionUser() * session.ProjectSession() * session.SessionNote() * scan.Scan() \n",
    "df = fetchtable.fetch(format='frame')\n",
    "html_table = df.to_html()\n",
    "content = html_table\n",
    "api.append_content(new_doc['id'], content)"
   ]
  },
  {
   "cell_type": "code",
   "execution_count": 88,
   "id": "0b8ad300",
   "metadata": {},
   "outputs": [],
   "source": [
    "doc_names_and_ids = []\n",
    "doc_names_and_ids.append([record['id'] for record in all_animal_documents['records']])\n",
    "new_doc = {\"id\": doc_names_and_ids[0][0]}"
   ]
  },
  {
   "cell_type": "code",
   "execution_count": 89,
   "id": "f75f1061",
   "metadata": {},
   "outputs": [
    {
     "data": {
      "text/plain": [
       "{'totalHits': 3,\n",
       " 'pageNumber': 0,\n",
       " '_links': [{'link': 'https://rspace.rhrz.uni-bonn.de/api/v1/folders/tree?pageNumber=0',\n",
       "   'rel': 'self'}],\n",
       " 'parentId': 67345,\n",
       " 'records': [{'id': 104940,\n",
       "   'globalId': 'SD104940',\n",
       "   'name': '2023-03-01_sess9FGTSPEH',\n",
       "   'created': '2023-03-17T12:52:39.143Z',\n",
       "   'lastModified': '2023-03-17T12:52:40.175Z',\n",
       "   'parentFolderId': 104919,\n",
       "   'type': 'DOCUMENT',\n",
       "   '_links': [{'link': 'https://rspace.rhrz.uni-bonn.de/api/v1/documents/104940',\n",
       "     'rel': 'self'}],\n",
       "   'owner': {'id': 491534,\n",
       "    'username': 'trose',\n",
       "    'email': 'trose@uni-bonn.de',\n",
       "    'firstName': 'Tobias',\n",
       "    'lastName': 'Rose',\n",
       "    'homeFolderId': 23780,\n",
       "    'workbenchId': None,\n",
       "    '_links': []}},\n",
       "  {'id': 104938,\n",
       "   'globalId': 'SD104938',\n",
       "   'name': 'Untitled strip',\n",
       "   'created': '2023-03-17T12:51:47.951Z',\n",
       "   'lastModified': '2023-03-17T12:52:00.820Z',\n",
       "   'parentFolderId': 104919,\n",
       "   'type': 'DOCUMENT',\n",
       "   '_links': [{'link': 'https://rspace.rhrz.uni-bonn.de/api/v1/documents/104938',\n",
       "     'rel': 'self'}],\n",
       "   'owner': {'id': 491534,\n",
       "    'username': 'trose',\n",
       "    'email': 'trose@uni-bonn.de',\n",
       "    'firstName': 'Tobias',\n",
       "    'lastName': 'Rose',\n",
       "    'homeFolderId': 23780,\n",
       "    'workbenchId': None,\n",
       "    '_links': []}},\n",
       "  {'id': 104932,\n",
       "   'globalId': 'SD104932',\n",
       "   'name': '2023-03-01_sess9FGTSPEH',\n",
       "   'created': '2023-03-17T12:45:16.432Z',\n",
       "   'lastModified': '2023-03-17T12:45:18.583Z',\n",
       "   'parentFolderId': 104919,\n",
       "   'type': 'DOCUMENT',\n",
       "   '_links': [{'link': 'https://rspace.rhrz.uni-bonn.de/api/v1/documents/104932',\n",
       "     'rel': 'self'}],\n",
       "   'owner': {'id': 491534,\n",
       "    'username': 'trose',\n",
       "    'email': 'trose@uni-bonn.de',\n",
       "    'firstName': 'Tobias',\n",
       "    'lastName': 'Rose',\n",
       "    'homeFolderId': 23780,\n",
       "    'workbenchId': None,\n",
       "    '_links': []}}]}"
      ]
     },
     "execution_count": 89,
     "metadata": {},
     "output_type": "execute_result"
    }
   ],
   "source": [
    "api.list_folder_tree(save_folder_id)"
   ]
  },
  {
   "cell_type": "code",
   "execution_count": 9,
   "id": "e489c9c3",
   "metadata": {},
   "outputs": [
    {
     "name": "stdout",
     "output_type": "stream",
     "text": [
      "[('TR_ROS-6666', 67346)]\n",
      "{('TR_ROS-6666', 67346)}\n",
      "67346\n",
      "{'animalID': 'ROS-6666', 'ID': 67346}\n"
     ]
    }
   ],
   "source": [
    "# find 'Experiments' folder and get ID\n",
    "folders = api.list_folder_tree()\n",
    "experiments_ids = []\n",
    "for record in folders['records']:\n",
    "    if record['name'] == 'Experiments':\n",
    "        experiments_ids.append(record['id'])\n",
    "\n",
    "names_and_ids = []\n",
    "subfolders = api.list_folder_tree(experiments_ids[0])\n",
    "names_and_ids.append([(record['name'], record['id']) for record in subfolders['records']])\n",
    "\n",
    "\n",
    "# find matches with animal IDs\n",
    "animalID = 'ROS-6666'\n",
    "\n",
    "partial_matches = [x for sublist in names_and_ids for x in sublist if animalID in x[0]]\n",
    "partial_matches_unique = set(partial_matches)\n",
    "\n",
    "matching_folder_id = [x[1] for sublist in names_and_ids for x in sublist if animalID in x[0]][0]\n",
    "\n",
    "print(partial_matches)\n",
    "print(partial_matches_unique)\n",
    "print(matching_folder_id)\n",
    "\n",
    "partial_matches_dict = {'animalID': animalID, 'ID': [x[1] for x in partial_matches_unique][0]}\n",
    "\n",
    "\n",
    "print(partial_matches_dict)\n",
    "\n"
   ]
  },
  {
   "cell_type": "code",
   "execution_count": null,
   "id": "aa828556",
   "metadata": {},
   "outputs": [],
   "source": [
    "matching_folmatching_folder_id = [x[1] for sublist in names_and_ids[0] for x in sublist if animalID in x[0]][0]"
   ]
  },
  {
   "cell_type": "code",
   "execution_count": null,
   "id": "7a8d8f11",
   "metadata": {},
   "outputs": [],
   "source": [
    "session_note_textbox_value = [\"none\"]\n",
    "session_note_textbox_value[0]"
   ]
  },
  {
   "cell_type": "code",
   "execution_count": null,
   "id": "c6185ec9",
   "metadata": {},
   "outputs": [],
   "source": [
    "current_session = [\"sess9FGTSPEH\"]\n",
    "query = session.SessionNote() & f'session_id = \"{current_session[0]}\"'\n",
    "session_note_textbox_value = query.fetch(\"session_note\")\n",
    "session_note_textbox_value"
   ]
  },
  {
   "cell_type": "markdown",
   "id": "fb0d8e40",
   "metadata": {},
   "source": [
    "#### Populate ingest GUI variables from DJ tables and manual arrays"
   ]
  },
  {
   "cell_type": "code",
   "execution_count": null,
   "id": "6fbe7c7d",
   "metadata": {},
   "outputs": [],
   "source": [
    "# DJ tables\n",
    "Project = project.fetch('project')\n",
    "Equipment = equipment.Equipment().fetch('scanner')\n",
    "Recording_Location = surgery.AnatomicalLocation().fetch('anatomical_location')\n",
    "\n",
    "session_dirs_ingested = session.SessionDirectory.fetch('session_dir')\n",
    "scan_dirs_ingested = scan.ScanPath.fetch('path')\n",
    "SessionsDirArrayingested = get_session_dir_key_from_dir(session_dirs_ingested)\n",
    "ScanDirArrayingested = get_scan_dir_key_from_dir(scan_dirs_ingested)\n",
    "\n",
    "SessionNotes = session.SessionNote.fetch('session_note')\n",
    "\n",
    "# Manual arrays\n",
    "s2pparm = ['mini2p_a', 'mini2p_b', 'bench2p_a']\n",
    "\n"
   ]
  },
  {
   "cell_type": "code",
   "execution_count": null,
   "id": "c1272a1e",
   "metadata": {},
   "outputs": [],
   "source": [
    "Recording_Location = surgery.AnatomicalLocation().fetch('anatomical_location')\n",
    "Recording_Location\n"
   ]
  },
  {
   "cell_type": "markdown",
   "id": "b049a5a7",
   "metadata": {},
   "source": [
    "#### Parse user data root dir and sort by date-string in directory name"
   ]
  },
  {
   "cell_type": "code",
   "execution_count": null,
   "id": "4832c989",
   "metadata": {},
   "outputs": [],
   "source": [
    "dataroot = dj.config['custom']['exp_root_data_dir'][0]\n",
    "dirs_root = [d for d in os.listdir(dataroot) if os.path.isdir(os.path.join(dataroot, d)) and 'sess' in d]\n",
    "\n",
    "sorted_dirs_root = natsorted(dirs_root, key=get_date_key_from_dir, reverse = True)"
   ]
  },
  {
   "cell_type": "code",
   "execution_count": null,
   "id": "deef7363",
   "metadata": {},
   "outputs": [],
   "source": [
    "animalID = query.fetch(\"scan_id\")"
   ]
  },
  {
   "attachments": {},
   "cell_type": "markdown",
   "id": "297a65e2",
   "metadata": {},
   "source": [
    "### Generate Ingest GUI"
   ]
  },
  {
   "cell_type": "code",
   "execution_count": null,
   "id": "523b82d8",
   "metadata": {},
   "outputs": [],
   "source": [
    "# print(\"\\033[1m\" + 'Select:                                           Project        Location  Setup        s2p parm' + \"\\033[0m\" )\n",
    "print(\"\\033[1m\" + 'INGEST GUI' + \"\\033[0m\" )\n",
    "selected_data = select_sessions(SessionsDirArrayingested, sorted_dirs_root, Project, Recording_Location, Equipment, s2pparm, SessionNotes)"
   ]
  },
  {
   "cell_type": "code",
   "execution_count": null,
   "id": "743d11c0",
   "metadata": {},
   "outputs": [],
   "source": [
    "get_scan_key_from_dir(['JJ_ROS-1438_2022-11-22_16_09scan9FF6TT76_sess9FF6TT7'])"
   ]
  },
  {
   "cell_type": "code",
   "execution_count": null,
   "id": "f75621cd",
   "metadata": {},
   "outputs": [],
   "source": [
    "session.Session().delete(prompt = None)"
   ]
  },
  {
   "cell_type": "code",
   "execution_count": null,
   "id": "9baaeb2c",
   "metadata": {},
   "outputs": [],
   "source": [
    "session.Session()"
   ]
  },
  {
   "cell_type": "markdown",
   "id": "b919eafa",
   "metadata": {},
   "source": []
  },
  {
   "attachments": {},
   "cell_type": "markdown",
   "id": "bd20d2f6",
   "metadata": {},
   "source": [
    "selected_data"
   ]
  },
  {
   "cell_type": "code",
   "execution_count": null,
   "id": "41b48960",
   "metadata": {},
   "outputs": [],
   "source": [
    "sessi = \"sess9FG1TAXY\"\n",
    "query = session.Session() * scan.Scan() & f'session_id = \"{sessi}\"'\n",
    "scans_to_process = query.fetch(\"scan_id\")\n",
    "for j, scansi in enumerate(scans_to_process):\n",
    "    print(scansi)"
   ]
  },
  {
   "cell_type": "code",
   "execution_count": null,
   "id": "249406a8",
   "metadata": {},
   "outputs": [],
   "source": [
    "scans_to_process"
   ]
  },
  {
   "cell_type": "code",
   "execution_count": null,
   "id": "654a9b89",
   "metadata": {},
   "outputs": [],
   "source": [
    "subject.Subject.delete()"
   ]
  },
  {
   "cell_type": "markdown",
   "id": "1874b0d0",
   "metadata": {},
   "source": [
    "### 2.1 Session notes ingest"
   ]
  },
  {
   "cell_type": "code",
   "execution_count": null,
   "id": "0ba0b342",
   "metadata": {},
   "outputs": [],
   "source": [
    "current_session = \"sess9FGTSPEH\"\n",
    "query = session.Session() * scan.Scan() & f'session_id = \"{current_session}\"'\n",
    "equipment_dropdown_value = query.fetch(\"scanner\")\n",
    "equipment_dropdown_value"
   ]
  },
  {
   "cell_type": "markdown",
   "id": "20416320",
   "metadata": {},
   "source": [
    "## 3. Scan ingest / s2p processing 1st pass"
   ]
  },
  {
   "cell_type": "code",
   "execution_count": null,
   "id": "159a6d62",
   "metadata": {},
   "outputs": [],
   "source": [
    "query = session.Session() * scan.ScanLocation() & f'session_id = \"{current_session}\"'"
   ]
  },
  {
   "cell_type": "code",
   "execution_count": null,
   "id": "c0f1f0ca",
   "metadata": {},
   "outputs": [],
   "source": [
    "query"
   ]
  },
  {
   "cell_type": "code",
   "execution_count": null,
   "id": "bb5433d4",
   "metadata": {},
   "outputs": [],
   "source": []
  }
 ],
 "metadata": {
  "jupytext": {
   "formats": "ipynb,py"
  },
  "kernelspec": {
   "display_name": "Python 3 (ipykernel)",
   "language": "python",
   "name": "python3"
  },
  "language_info": {
   "codemirror_mode": {
    "name": "ipython",
    "version": 3
   },
   "file_extension": ".py",
   "mimetype": "text/x-python",
   "name": "python",
   "nbconvert_exporter": "python",
   "pygments_lexer": "ipython3",
   "version": "3.8.16"
  },
  "vscode": {
   "interpreter": {
    "hash": "2888206d04306eefe963095373d1dcce5cd11176f3d6ee4ec3f64dd9e65fd8a1"
   }
  }
 },
 "nbformat": 4,
 "nbformat_minor": 5
}
