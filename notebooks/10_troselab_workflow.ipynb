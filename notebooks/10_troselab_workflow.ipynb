{
 "cells": [
  {
   "cell_type": "markdown",
   "id": "86cc1ca7",
   "metadata": {},
   "source": [
    "# Daily workflow - troselab (DRAFT)"
   ]
  },
  {
   "attachments": {},
   "cell_type": "markdown",
   "id": "5eaa674c",
   "metadata": {},
   "source": [
    "`TR TODO: Jupyter ipywidget GUI`\n",
    "\n",
    "(check Daniel's ipysheet mouse entry GUI for inspiration)\n",
    "\n",
    "1. Upload to analysis server\n",
    "    1. automatic (rcopy with file consolidation)?\n",
    "    2. WinSCP?\n",
    "\n",
    "    \n",
    "2. Session ingest - Have this script parse the user folder. \n",
    "    1. retrieve login name  **DONE**\n",
    "    2. parse user storage folder for SessionIDs, ScanIDs **DONE**\n",
    "    3. intersect with 'Session' tables **DONE**\n",
    "    4. FIRST STEP: session ingestion of new data  **DONE**\n",
    "        1. have ipywidget with list of data to be ingested with checkbox  **DONE**\n",
    "        2. have dropdowns next to SessionsFetch that expose 'Project', 'Anatomical Location', 'Equipment' (NOTE: have me or admin accept new entries? Or user?) - have a user default **DONE**\n",
    "            1. ***TODO*** include a mini2p settings shorthand in elements `imaging.ProcessingParamSet`.\n",
    "        3. IMPORTANT: Have dropdown for `Same_Location_as_Session` - default: same session\n",
    "            1. Include `Same_Location_as_Session` key in `Session` table (default same session)\n",
    "            2. Update after Session ingest\n",
    "        4. have central 'START' button **DONE**\n",
    "        5. Combine session entry with automatic RSpace entry (**ongoing***)\n",
    "            0. Include rspace in install requirements!\n",
    "            1. Extract parent folder IDs under 'experiments' from RSpace (add RSpace API key and URL to djconfig )\n",
    "            2. Intersect list with animal ID from session ingest\n",
    "            3. Create new document with `YYYY-MM-DD_SessionID`\n",
    "            4. Append content as verbose tables using Pandas df.to_html (`html_table = df.to_html()`)\n",
    "            5. IMPORTANT: Push RSpace document ID and noteobook URL in Sessions database!\n",
    "        5. OPTIONAL: Have a notebook section to enter and insert Session Notes\n",
    "        6. OPTIONAL: Submit Sessions to pyrat. Not sure if necessary.\n",
    "        7. TODO: Think if splitting projects off to different database suffixes (and differnt associated tables makes sense from here. Seems reasonable given the focus on the user root directory here.\n",
    "        8. TODO: Implement auto animal pyrat ingest if needed. Crashes now.\n",
    "        9. TODO: Make sure that multi-scan sessions are properly treated. Currently they are not detected as such by the GUI. Make sure ingestion behavior is appropriate.\n",
    "\n",
    "\n",
    "\n",
    "3. Scan ingest / 1st stage s2p processing: \n",
    "    1. have another list with checkboxes (default checled) - now with all first stage scans of the newly ingested sessions. Have dropdown boxes with s2p parameteres. User default is selected. Followed by 'START'\n",
    "    2. TODO: suppress s2p output, just have progress bars\n",
    "    3. OPTIONAL: Have a notebook section to enter and insert Scan Notes\n",
    "    4. OPTIONAL: Submit sessions, scans and Notes to RSPACE! Upload s2p average image, max image, Source image and Rastermap \n",
    "    \n",
    "\n",
    "4. Scan Curation\n",
    "    1. DIFFERENT NOTEBOOK (or different Notebook section)\n",
    "    2. Make intersection of folder with database\n",
    "        1. list _all_ scans\n",
    "        2. have all non-curated red - the others green\n",
    "        3. bhave non-processed scans grey\n",
    "        4. have 'CURATE LOCALLY WITH s2P' buttons behind all scans. This button should spawn a local suite2p GUI which directly loads the respective suite2p stats.npy file from the server. Folder settings for server need to be set in datajoint.json file.\n",
    "\n",
    "5. SERVER: Database backup and Data folder backup\n",
    "    1. Have cronjob backup database to ana2 and isilon (midnight, incremental - only add, no delete. Increment ID to be reversible?)\n",
    "    2. Have cronjob backup data folders to ana2 and isilon (midnight, incremental - only add, no delete)"
   ]
  },
  {
   "cell_type": "markdown",
   "id": "634ec7b4",
   "metadata": {},
   "source": [
    "## Login\n",
    "\n",
    "Either log in via a local config file (see [01_pipeline](./01_pipeline.ipynb)), or enter login information manually. If you are don't have your login information, contact the administrator.\n"
   ]
  },
  {
   "cell_type": "code",
   "execution_count": 1,
   "id": "0b1bebf0",
   "metadata": {},
   "outputs": [
    {
     "name": "stderr",
     "output_type": "stream",
     "text": [
      "[2023-03-16 11:18:12,155][INFO]: Connecting tobiasr@172.26.128.53:3306\n",
      "[2023-03-16 11:18:12,216][INFO]: Connected tobiasr@172.26.128.53:3306\n"
     ]
    }
   ],
   "source": [
    "import os\n",
    "# change to the upper level folder to detect dj_local_conf.json\n",
    "if os.path.basename(os.getcwd())=='notebooks': os.chdir('..')\n",
    "assert os.path.basename(os.getcwd())=='adamacs', (\"Please move to the main directory\")\n",
    "from adamacs.pipeline import subject, session, equipment, surgery \n",
    "from adamacs.ingest import session as isess\n",
    "import datajoint as dj\n",
    "from rspace_client.eln import eln\n",
    "import pandas as pd\n"
   ]
  },
  {
   "attachments": {},
   "cell_type": "markdown",
   "id": "7042be7d",
   "metadata": {},
   "source": [
    "### RSpace connection"
   ]
  },
  {
   "cell_type": "code",
   "execution_count": 2,
   "id": "c5db12e4",
   "metadata": {},
   "outputs": [
    {
     "data": {
      "text/plain": [
       "{'message': 'OK', 'rspaceVersion': '1.80.1'}"
      ]
     },
     "execution_count": 2,
     "metadata": {},
     "output_type": "execute_result"
    }
   ],
   "source": [
    "URL=dj.config['custom'].get('rspace_URL')\n",
    "API_KEY=dj.config['custom'].get('rspace_API_key')\n",
    "api = eln.ELNClient(URL, API_KEY)\n",
    "api.get_status()"
   ]
  },
  {
   "attachments": {},
   "cell_type": "markdown",
   "id": "88c9651a",
   "metadata": {},
   "source": [
    "### parse through rspace folder strucutre to get animal ID folders"
   ]
  },
  {
   "cell_type": "code",
   "execution_count": 11,
   "id": "620603fc",
   "metadata": {},
   "outputs": [
    {
     "name": "stdout",
     "output_type": "stream",
     "text": [
      "[('TR_ROS-6666', 67346)]\n",
      "{('TR_ROS-6666', 67346)}\n",
      "67346\n",
      "{'animalID': 'ROS-6666', 'ID': 67346}\n"
     ]
    }
   ],
   "source": [
    "# find 'Experiments' folder and get ID\n",
    "folders = api.list_folder_tree()\n",
    "experiments_ids = []\n",
    "for record in folders['records']:\n",
    "    if record['name'] == 'Experiments':\n",
    "        experiments_ids.append(record['id'])\n",
    "\n",
    "names_and_ids = []\n",
    "subfolders = api.list_folder_tree(experiments_ids[0])\n",
    "names_and_ids.append([(record['name'], record['id']) for record in subfolders['records']])\n",
    "\n",
    "\n",
    "# find matches with animal IDs\n",
    "animalID = 'ROS-6666'\n",
    "\n",
    "partial_matches = [x for sublist in names_and_ids for x in sublist if animalID in x[0]]\n",
    "partial_matches_unique = set(partial_matches)\n",
    "\n",
    "matching_folder_id = [x[1] for sublist in names_and_ids for x in sublist if animalID in x[0]][0]\n",
    "\n",
    "print(partial_matches)\n",
    "print(partial_matches_unique)\n",
    "print(matching_folder_id)\n",
    "\n",
    "partial_matches_dict = {'animalID': animalID, 'ID': [x[1] for x in partial_matches_unique][0]}\n",
    "\n",
    "\n",
    "print(partial_matches_dict)\n",
    "\n",
    "\n"
   ]
  },
  {
   "attachments": {},
   "cell_type": "markdown",
   "id": "d2bbbb84",
   "metadata": {},
   "source": [
    "### write an example document"
   ]
  },
  {
   "cell_type": "code",
   "execution_count": null,
   "id": "51ef5077",
   "metadata": {},
   "outputs": [],
   "source": [
    "new_doc = api.create_document(name=f\"Analysis of dataset {animalID}\", parent_folder_id=matching_folder_id)"
   ]
  },
  {
   "cell_type": "code",
   "execution_count": null,
   "id": "e2404e9c",
   "metadata": {},
   "outputs": [],
   "source": [
    "new_doc = api.create_document(name=f\"Analysis of dataset {animalID}\", parent_folder_id=matching_folder_id)\n",
    "content = f\"\"\"\n",
    "<p>Analysis of temperature dataset from our standard locations.\n",
    "<p>No variation between locations:\n",
    "Raw data: <fileId={animalID}>\n",
    "<p>\n",
    "Statistical summary: <fileId={animalID}>b\n",
    "<p>\n",
    "Location vs temperature: <fileId={animalID}>\n",
    "\"\"\"\n",
    "api.append_content(new_doc['id'], content)\n",
    "documents['documents'][0]['parentFolderId']"
   ]
  },
  {
   "cell_type": "code",
   "execution_count": null,
   "id": "145a3967",
   "metadata": {},
   "outputs": [],
   "source": [
    "eln"
   ]
  },
  {
   "cell_type": "markdown",
   "id": "d29453ed",
   "metadata": {},
   "source": [
    "## Activation\n",
    "Next, import from `adamacs.pipeline` to activate the relevant schema."
   ]
  },
  {
   "cell_type": "code",
   "execution_count": 5,
   "id": "f27dcb14",
   "metadata": {},
   "outputs": [],
   "source": [
    "from adamacs.utility import *\n",
    "from adamacs.nbgui import *\n",
    "from adamacs.pipeline import subject, session, surgery, scan, equipment"
   ]
  },
  {
   "cell_type": "markdown",
   "id": "8cd8be94",
   "metadata": {},
   "source": [
    "Assign easy names for relevant tables"
   ]
  },
  {
   "cell_type": "code",
   "execution_count": 6,
   "id": "30485290",
   "metadata": {},
   "outputs": [],
   "source": [
    "sub, lab, protocol, line, mutation, user, project, subject_genotype, subject_death = (\n",
    "    subject.Subject(), subject.Lab(), subject.Protocol(), subject.Line(), \n",
    "    subject.Mutation(), subject.User(), subject.Project(), subject.SubjectGenotype(), \n",
    "    subject.SubjectDeath()\n",
    "    )"
   ]
  },
  {
   "cell_type": "markdown",
   "id": "807a36ef",
   "metadata": {},
   "source": [
    "## 1. Data upload\n",
    "(not implemented currently)"
   ]
  },
  {
   "cell_type": "markdown",
   "id": "d83b5668",
   "metadata": {},
   "source": [
    "## 2. Session ingest"
   ]
  },
  {
   "attachments": {},
   "cell_type": "markdown",
   "id": "cb2fabde",
   "metadata": {},
   "source": [
    "### Define ingest GUI functions"
   ]
  },
  {
   "cell_type": "code",
   "execution_count": 13,
   "id": "4e8164fb",
   "metadata": {},
   "outputs": [],
   "source": [
    "# Tobias Rose 2023: Routine ingest helpers\n",
    "\n",
    "import ipywidgets as widgets\n",
    "import ipywidgets as widgets\n",
    "from natsort import natsorted, ns\n",
    "import re\n",
    "from tqdm import tqdm\n",
    "\n",
    "def select_sessions(SessionDirA, SessionDirB, Project, Recording_Location, Equipment, s2pparm):\n",
    "    \n",
    "    # Personal default values\n",
    "    user_defaults = get_user_defaults(SessionDirB)\n",
    "       \n",
    "    # Define the widgets\n",
    "    session_dropdowns = []\n",
    "    session_checkboxes = []\n",
    "    for i, session_list in enumerate(SessionDirB):\n",
    "        # Dropdowns for Project, Recording Location, Equipment\n",
    "        \n",
    "        project_dropdown = widgets.Dropdown(options=Project, value=Project[user_defaults[i][0]], description=\"Project:\")\n",
    "        location_dropdown = widgets.Dropdown(options=Recording_Location, value=Recording_Location[user_defaults[i][1]], description=\"Location:\")\n",
    "        equipment_dropdown = widgets.Dropdown(options=Equipment, value=Equipment[user_defaults[i][2]], description=\"Setup:\")\n",
    "        s2pparms_dropdown = widgets.Dropdown(options=s2pparm, value=s2pparm[user_defaults[i][3]], description=\"s2p parm:\")\n",
    "        session_note_textbox = widgets.Text(value='update comment', description='Session comment:')\n",
    "\n",
    "        session_dropdowns.append((project_dropdown, location_dropdown, equipment_dropdown, s2pparms_dropdown, session_note_textbox))\n",
    "\n",
    "        # Checkbox for Process?\n",
    "        session_checkbox = widgets.Checkbox(description='run?', layout=widgets.Layout(width='auto'))\n",
    "        session_checkboxes.append(session_checkbox)\n",
    "\n",
    "    # Display the widgets\n",
    "    output = widgets.Output()\n",
    "\n",
    "    with output:\n",
    "        # Display the Sessions labels and associated dropdowns and checkboxes\n",
    "        hbox_list = []\n",
    "        for i, session_list in enumerate(SessionDirB): #unique_directory_strings(SessionDirA, SessionDirB)\n",
    "            # Create an HBox to hold the label and associated dropdowns and checkbox\n",
    "            hbox = widgets.HBox()\n",
    "            hbox.children = [\n",
    "                widgets.Label(value=session_list + ':', layout=widgets.Layout(width='1800px')), \n",
    "                session_dropdowns[i][0],\n",
    "                session_dropdowns[i][1],\n",
    "                session_dropdowns[i][2],\n",
    "                session_dropdowns[i][3],\n",
    "                session_dropdowns[i][4],\n",
    "                session_checkboxes[i]\n",
    "            ]\n",
    "            if session_list in unique_directory_strings(SessionDirA, SessionDirB):\n",
    "                hbox.children[0].value = '*' + session_list + ':'\n",
    "                hbox.children[6].value = True\n",
    "            else:\n",
    "                hbox.children[6].value = False\n",
    "            hbox_list.append(hbox)\n",
    "\n",
    "        vbox = widgets.VBox(hbox_list, layout=widgets.Layout(flex='0 0 auto', overflow_y='scroll'))\n",
    "        # Display the commit button\n",
    "        commit_button = widgets.Button(description='Commit', layout=widgets.Layout(width='auto'))\n",
    "        display(vbox, commit_button)\n",
    "\n",
    "        # Define the callback function for the commit button\n",
    "        def commit_button_clicked(b):\n",
    "            selected_sessions = [SessionDirB[i] for i in range(len(SessionDirB)) if session_checkboxes[i].value]\n",
    "            selected_projects = [session_dropdowns[i][0].value for i in range(len(SessionDirB)) if session_checkboxes[i].value]\n",
    "            selected_locations = [session_dropdowns[i][1].value for i in range(len(SessionDirB)) if session_checkboxes[i].value]\n",
    "            selected_equipment = [session_dropdowns[i][2].value for i in range(len(SessionDirB)) if session_checkboxes[i].value]\n",
    "            selected_s2pparms = [session_dropdowns[i][3].value for i in range(len(SessionDirB)) if session_checkboxes[i].value]\n",
    "            entered_session_note = [session_dropdowns[i][4].value for i in range(len(SessionDirB)) if session_checkboxes[i].value]\n",
    "\n",
    "            selected_scans = get_scan_key_from_dir(selected_sessions)\n",
    "            selected_sessions = get_session_key_from_dir(selected_sessions)\n",
    "\n",
    "            output.clear_output()\n",
    "            with output:\n",
    "                print('Selected Sessions:', selected_sessions)\n",
    "                # print('Selected Scans:', selected_scans)\n",
    "                # print('Selected Projects:', selected_projects)\n",
    "                # print('Selected Recording Locations:', selected_locations)\n",
    "                # print('Selected Equipment:', selected_equipment)\n",
    "                # print('Selected S2PParms:', selected_s2pparms)\n",
    "\n",
    "                # Ingest selected sessions here\n",
    "                populate_settings = {'display_progress': False}\n",
    "                for i, sessi in enumerate(tqdm(selected_sessions)):\n",
    "                    # ingest sessions\n",
    "                    isess.ingest_session_scan(sessi, verbose=False)\n",
    "                    # update session info based on user choice from above\n",
    "                    session.SessionNote.insert1({'session_id': sessi, 'session_note': entered_session_note[i]})\n",
    "                    session.ProjectSession.insert1({'session_id': sessi, 'project': selected_projects[i]})\n",
    "\n",
    "                print('Ingested Sessions:', selected_sessions)\n",
    "\n",
    "                # TODO: Ingest Scans here\n",
    "                # TODO: Queue Processing here\n",
    "\n",
    "                # # update scaninfo based on user choice from above\n",
    "\n",
    "                query = session.Session() * scan.Scan() & f'session_id = \"{sessi}\"'\n",
    "                scans_to_process = query.fetch(\"scan_id\")\n",
    "\n",
    "                for j, scansi in scans_to_process:\n",
    "                    scan.Scan.update1({'session_id': sessi, 'scan_id': scansi, 'scan_notes': entered_session_note[i]})\n",
    "                    scan.ScanLocation.update1({'session_id': sessi, 'scan_id': scansi, 'anatomical_location': selected_locations[i]})\n",
    "                    \n",
    "                    \n",
    "                    print('Ingested and processed Scan:', scansi)\n",
    "                ## Make RSpace entries here\n",
    "                # make_rspace_session_document(animalID, sessi, date) # TODOO\n",
    "                \n",
    "                \n",
    "                return selected_sessions\n",
    "\n",
    "        # Attach the callback function to the commit button\n",
    "        commit_button.on_click(commit_button_clicked)\n",
    "\n",
    "    # Display the output\n",
    "    display(output)\n",
    "    \n",
    "    def make_rspace_session_document(animalID, sessionID, date):\n",
    "       \n",
    "        # find 'Experiments' folder and get ID\n",
    "        folders = api.list_folder_tree()\n",
    "        experiments_ids = []\n",
    "        for record in folders['records']:\n",
    "            if record['name'] == 'Experiments':\n",
    "                experiments_ids.append(record['id'])\n",
    "        \n",
    "        # find folders under 'Experiments' folder\n",
    "        names_and_ids = []\n",
    "        subfolders = api.list_folder_tree(experiments_ids[0])\n",
    "        names_and_ids.append([(record['name'], record['id']) for record in subfolders['records']])\n",
    "\n",
    "        # find matches with animal IDs\n",
    "        matching_folder_id = [x[1] for sublist in names_and_ids for x in sublist if animalID in x[0]][0]\n",
    "\n",
    "        # create RSpace document\n",
    "        new_doc = api.create_document(name=f\"{date}_{sessionID}\", parent_folder_id=matching_folder_id)\n",
    "        \n",
    "        fetchtable = session.Session() * session.SessionDirectory * session.SessionUser * session.ProjectSession * session.SessionNote \n",
    "        df = fetchtable.fetch(format='frame')\n",
    "        html_table = df.to_html()\n",
    "        content = html_table\n",
    "        api.append_content(new_doc['id'], content)\n",
    "        \n",
    "\n",
    "\n",
    "\n",
    "def get_date_key_from_dir(directory):\n",
    "    return directory.split(\"_\")[-1]\n",
    "\n",
    "def get_session_dir_key_from_dir(directory):\n",
    "    return [path.split('/')[-1] for path in directory]\n",
    "     \n",
    "def get_scan_dir_key_from_dir(directory):\n",
    "    return [path.split('/')[-1] for path in directory]\n",
    "\n",
    "def get_session_key_from_dir(string):\n",
    "    result = [re.search(r'sess\\S+', item).group(0) for item in string]\n",
    "    return result\n",
    "\n",
    "def get_user_initials_from_dir(string):\n",
    "    result = [name[:2] for name in string]\n",
    "    return result\n",
    "\n",
    "def get_scan_key_from_dir(string):\n",
    "    result = [re.search(r'scan\\S+_', item).group(0)[:-1] for item in string]\n",
    "    return result\n",
    "\n",
    "def unique_directory_strings(dirs1, dirs2):\n",
    "    set1 = set(dirs1)\n",
    "    set2 = set(dirs2)\n",
    "    common_dirs = list(set1.intersection(set2))\n",
    "    unique_dirs = list(set(set1.union(set2)) - set(common_dirs))\n",
    "    return unique_dirs\n",
    "\n",
    "def get_user_defaults(directory):\n",
    "    RN = [1, 1, 2, 0]\n",
    "    JJ = [2, 6, 2, 0]\n",
    "    TR = [0, 6, 3, 0]\n",
    "    DB = [4, 0, 1, 2]\n",
    "    NK = [5, 0, 2, 2]\n",
    "    \n",
    "    user_initials = get_user_initials_from_dir(directory)\n",
    "\n",
    "    user_arrays = {}\n",
    "    for initial in user_initials:\n",
    "        values = locals()[initial]\n",
    "        user_arrays[initial] = values\n",
    "\n",
    "    new_array = [user_arrays[initial] for initial in user_initials]\n",
    "    return new_array"
   ]
  },
  {
   "cell_type": "code",
   "execution_count": 36,
   "id": "33df3214",
   "metadata": {},
   "outputs": [
    {
     "ename": "AttributeError",
     "evalue": "module 'element_calcium_imaging.scan' has no attribute 'Equipment'",
     "output_type": "error",
     "traceback": [
      "\u001b[0;31m---------------------------------------------------------------------------\u001b[0m",
      "\u001b[0;31mAttributeError\u001b[0m                            Traceback (most recent call last)",
      "Cell \u001b[0;32mIn[36], line 1\u001b[0m\n\u001b[0;32m----> 1\u001b[0m scan\u001b[39m.\u001b[39;49mEquipment()\n",
      "\u001b[0;31mAttributeError\u001b[0m: module 'element_calcium_imaging.scan' has no attribute 'Equipment'"
     ]
    }
   ],
   "source": []
  },
  {
   "cell_type": "code",
   "execution_count": null,
   "id": "a99f8119",
   "metadata": {},
   "outputs": [],
   "source": [
    "scan.ScanInfo()"
   ]
  },
  {
   "cell_type": "code",
   "execution_count": 19,
   "id": "9d112ac7",
   "metadata": {},
   "outputs": [
    {
     "name": "stderr",
     "output_type": "stream",
     "text": [
      "[2023-03-16 08:12:59,428][INFO]: Deleting 14 rows from `tobiasr_scan`.`scan_location`\n",
      "[2023-03-16 08:12:59,432][INFO]: Deleting 14 rows from `tobiasr_scan`.`scan_path`\n",
      "[2023-03-16 08:12:59,435][INFO]: Deleting 14 rows from `tobiasr_scan`.`scan`\n",
      "[2023-03-16 08:12:59,438][INFO]: Deleting 13 rows from `tobiasr_session`.`project_session`\n",
      "[2023-03-16 08:12:59,442][INFO]: Deleting 13 rows from `tobiasr_session`.`session_directory`\n",
      "[2023-03-16 08:12:59,446][INFO]: Deleting 13 rows from `tobiasr_session`.`session_user`\n",
      "[2023-03-16 08:12:59,448][INFO]: Deleting 13 rows from `tobiasr_session`.`session`\n",
      "[2023-03-16 08:13:01,958][INFO]: Deletes committed.\n"
     ]
    },
    {
     "data": {
      "text/plain": [
       "13"
      ]
     },
     "execution_count": 19,
     "metadata": {},
     "output_type": "execute_result"
    }
   ],
   "source": [
    "session.Session.delete()"
   ]
  },
  {
   "cell_type": "markdown",
   "id": "fb0d8e40",
   "metadata": {},
   "source": [
    "#### Populate ingest GUI variables from DJ tables and manual arrays"
   ]
  },
  {
   "cell_type": "code",
   "execution_count": 23,
   "id": "6fbe7c7d",
   "metadata": {},
   "outputs": [],
   "source": [
    "# DJ tables\n",
    "Project = project.fetch('project')\n",
    "Equipment = equipment.Equipment().fetch('scanner')\n",
    "Recording_Location = surgery.AnatomicalLocation().fetch('anatomical_location')\n",
    "\n",
    "session_dirs_ingested = session.SessionDirectory.fetch('session_dir')\n",
    "scan_dirs_ingested = scan.ScanPath.fetch('path')\n",
    "SessionsDirArrayingested = get_session_dir_key_from_dir(session_dirs_ingested)\n",
    "ScanDirArrayingested = get_scan_dir_key_from_dir(scan_dirs_ingested)\n",
    "\n",
    "# Manual arrays\n",
    "s2pparm = ['mini2p_a', 'mini2p_b', 'bench2p_a']"
   ]
  },
  {
   "cell_type": "code",
   "execution_count": 22,
   "id": "2513e817",
   "metadata": {},
   "outputs": [
    {
     "data": {
      "text/html": [
       "\n",
       "    \n",
       "    <style type=\"text/css\">\n",
       "        .Table{\n",
       "            border-collapse:collapse;\n",
       "        }\n",
       "        .Table th{\n",
       "            background: #A0A0A0; color: #ffffff; padding:4px; border:#f0e0e0 1px solid;\n",
       "            font-weight: normal; font-family: monospace; font-size: 100%;\n",
       "        }\n",
       "        .Table td{\n",
       "            padding:4px; border:#f0e0e0 1px solid; font-size:100%;\n",
       "        }\n",
       "        .Table tr:nth-child(odd){\n",
       "            background: #ffffff;\n",
       "        }\n",
       "        .Table tr:nth-child(even){\n",
       "            background: #f3f1ff;\n",
       "        }\n",
       "        /* Tooltip container */\n",
       "        .djtooltip {\n",
       "        }\n",
       "        /* Tooltip text */\n",
       "        .djtooltip .djtooltiptext {\n",
       "            visibility: hidden;\n",
       "            width: 120px;\n",
       "            background-color: black;\n",
       "            color: #fff;\n",
       "            text-align: center;\n",
       "            padding: 5px 0;\n",
       "            border-radius: 6px;\n",
       "            /* Position the tooltip text - see examples below! */\n",
       "            position: absolute;\n",
       "            z-index: 1;\n",
       "        }\n",
       "        #primary {\n",
       "            font-weight: bold;\n",
       "            color: black;\n",
       "        }\n",
       "        #nonprimary {\n",
       "            font-weight: normal;\n",
       "            color: white;\n",
       "        }\n",
       "\n",
       "        /* Show the tooltip text when you mouse over the tooltip container */\n",
       "        .djtooltip:hover .djtooltiptext {\n",
       "            visibility: visible;\n",
       "        }\n",
       "    </style>\n",
       "    \n",
       "    <b></b>\n",
       "        <div style=\"max-height:1000px;max-width:1500px;overflow:auto;\">\n",
       "        <table border=\"1\" class=\"Table\">\n",
       "            <thead> <tr style=\"text-align: right;\"> <th> <div class=\"djtooltip\">\n",
       "                            <p id=\"primary\">session_id</p>\n",
       "                            <span class=\"djtooltiptext\"></span>\n",
       "                        </div></th><th><div class=\"djtooltip\">\n",
       "                            <p id=\"primary\">scan_id</p>\n",
       "                            <span class=\"djtooltiptext\"></span>\n",
       "                        </div></th><th><div class=\"djtooltip\">\n",
       "                            <p id=\"primary\">user_id</p>\n",
       "                            <span class=\"djtooltiptext\"></span>\n",
       "                        </div></th><th><div class=\"djtooltip\">\n",
       "                            <p id=\"primary\">path</p>\n",
       "                            <span class=\"djtooltiptext\"></span>\n",
       "                        </div> </th> </tr> </thead>\n",
       "            <tbody> <tr> <td>sess9FG1SCD4</td>\n",
       "<td>scan9FG1SCD4</td>\n",
       "<td>1</td>\n",
       "<td>/datajoint-data/data/tobiasr/TR_WEZ-8701_2023-01-13_scan9FG1SCD4_sess9FG1SCD4</td></tr><tr><td>sess9FG1TAXY</td>\n",
       "<td>scan9FG1TAXY</td>\n",
       "<td>1</td>\n",
       "<td>/datajoint-data/data/tobiasr/TR_WEZ-8701_2023-01-13_scan9FG1TAXY_sess9FG1TAXY</td></tr><tr><td>sess9FG1TAXY</td>\n",
       "<td>scan9FG1THFD</td>\n",
       "<td>1</td>\n",
       "<td>/datajoint-data/data/tobiasr/TR_WEZ-8701_2023-01-13_scan9FG1THFD_sess9FG1TAXY</td></tr><tr><td>sess9FG1UAQG</td>\n",
       "<td>scan9FG1UAQG</td>\n",
       "<td>1</td>\n",
       "<td>/datajoint-data/data/tobiasr/TR_ROS-1438_2023-01-13_scan9FG1UAQG_sess9FG1UAQG</td></tr><tr><td>sess9FGTSPEH</td>\n",
       "<td>scan9FGTSPEH</td>\n",
       "<td>3</td>\n",
       "<td>/datajoint-data/data/tobiasr/NK_ROS-1485_2023-03-01_scan9FGTSPEH_sess9FGTSPEH</td></tr><tr><td>sess9FB2LN5C</td>\n",
       "<td>scan9FB2LN5C</td>\n",
       "<td>4</td>\n",
       "<td>/datajoint-data/data/tobiasr/DB_WEZ-8701_2022-03-18_scan9FB2LN5C_sess9FB2LN5C</td></tr><tr><td>sess9FCJJS40</td>\n",
       "<td>scan9FCJJS40</td>\n",
       "<td>6</td>\n",
       "<td>/datajoint-data/data/tobiasr/JJ_ROS-1346_2022-06-15_scan9FCJJS40_sess9FCJJS40</td></tr><tr><td>sess9FF6TAW6</td>\n",
       "<td>scan9FF6TAW6</td>\n",
       "<td>6</td>\n",
       "<td>/datajoint-data/data/tobiasr/JJ_ROS-1438_2022-11-22_15_35scan9FF6TAW6_sess9FF6TAW6</td></tr><tr><td>sess9FF6TL96</td>\n",
       "<td>scan9FF6TL96</td>\n",
       "<td>6</td>\n",
       "<td>/datajoint-data/data/tobiasr/JJ_ROS-1438_2022-11-22_15_54scan9FF6TL96_sess9FF6TL96</td></tr><tr><td>sess9FF6TT76</td>\n",
       "<td>scan9FF6TT76</td>\n",
       "<td>6</td>\n",
       "<td>/datajoint-data/data/tobiasr/JJ_ROS-1438_2022-11-22_16_09scan9FF6TT76_sess9FF6TT76</td></tr><tr><td>sess9FF6U114</td>\n",
       "<td>scan9FF6U114</td>\n",
       "<td>6</td>\n",
       "<td>/datajoint-data/data/tobiasr/JJ_ROS-1438_2022-11-22_16_23scan9FF6U114_sess9FF6U114</td></tr><tr><td>sess9FGLE1FN</td>\n",
       "<td>scan9FGLE1FN</td>\n",
       "<td>7</td>\n",
       "<td>/datajoint-data/data/tobiasr/RN_OPI-1681_2023-02-15_scan9FGLE1FN_sess9FGLE1FN</td> </tr> </tbody>\n",
       "        </table>\n",
       "        <p>...</p>\n",
       "        <p>Total: 14</p></div>\n",
       "        "
      ],
      "text/plain": [
       "*session_id    *scan_id       *user_id    *path         \n",
       "+------------+ +------------+ +---------+ +------------+\n",
       "sess9FG1SCD4   scan9FG1SCD4   1           /datajoint-dat\n",
       "sess9FG1TAXY   scan9FG1TAXY   1           /datajoint-dat\n",
       "sess9FG1TAXY   scan9FG1THFD   1           /datajoint-dat\n",
       "sess9FG1UAQG   scan9FG1UAQG   1           /datajoint-dat\n",
       "sess9FGTSPEH   scan9FGTSPEH   3           /datajoint-dat\n",
       "sess9FB2LN5C   scan9FB2LN5C   4           /datajoint-dat\n",
       "sess9FCJJS40   scan9FCJJS40   6           /datajoint-dat\n",
       "sess9FF6TAW6   scan9FF6TAW6   6           /datajoint-dat\n",
       "sess9FF6TL96   scan9FF6TL96   6           /datajoint-dat\n",
       "sess9FF6TT76   scan9FF6TT76   6           /datajoint-dat\n",
       "sess9FF6U114   scan9FF6U114   6           /datajoint-dat\n",
       "sess9FGLE1FN   scan9FGLE1FN   7           /datajoint-dat\n",
       "   ...\n",
       " (Total: 14)"
      ]
     },
     "execution_count": 22,
     "metadata": {},
     "output_type": "execute_result"
    }
   ],
   "source": [
    "scan.ScanPath()\n"
   ]
  },
  {
   "cell_type": "code",
   "execution_count": 24,
   "id": "c1272a1e",
   "metadata": {},
   "outputs": [
    {
     "data": {
      "text/plain": [
       "['TR_WEZ-8701_2023-01-13_scan9FG1SCD4_sess9FG1SCD4',\n",
       " 'TR_WEZ-8701_2023-01-13_scan9FG1TAXY_sess9FG1TAXY',\n",
       " 'TR_WEZ-8701_2023-01-13_scan9FG1THFD_sess9FG1TAXY',\n",
       " 'TR_ROS-1438_2023-01-13_scan9FG1UAQG_sess9FG1UAQG',\n",
       " 'NK_ROS-1485_2023-03-01_scan9FGTSPEH_sess9FGTSPEH',\n",
       " 'DB_WEZ-8701_2022-03-18_scan9FB2LN5C_sess9FB2LN5C',\n",
       " 'JJ_ROS-1346_2022-06-15_scan9FCJJS40_sess9FCJJS40',\n",
       " 'JJ_ROS-1438_2022-11-22_15_35scan9FF6TAW6_sess9FF6TAW6',\n",
       " 'JJ_ROS-1438_2022-11-22_15_54scan9FF6TL96_sess9FF6TL96',\n",
       " 'JJ_ROS-1438_2022-11-22_16_09scan9FF6TT76_sess9FF6TT76',\n",
       " 'JJ_ROS-1438_2022-11-22_16_23scan9FF6U114_sess9FF6U114',\n",
       " 'RN_OPI-1681_2023-02-15_scan9FGLE1FN_sess9FGLE1FN',\n",
       " 'RN_OPI-1681_2023-02-15_scan9FGLEFJ3_sess9FGLEFJ3',\n",
       " 'RN_OPI-1681_2023-02-16_scan9FGLZLRI_sess9FGLZLRI']"
      ]
     },
     "execution_count": 24,
     "metadata": {},
     "output_type": "execute_result"
    }
   ],
   "source": [
    "ScanDirArrayingested"
   ]
  },
  {
   "cell_type": "markdown",
   "id": "b049a5a7",
   "metadata": {},
   "source": [
    "#### Parse user data root dir and sort by date-string in directory name"
   ]
  },
  {
   "cell_type": "code",
   "execution_count": 15,
   "id": "4832c989",
   "metadata": {},
   "outputs": [],
   "source": [
    "dataroot = dj.config['custom']['exp_root_data_dir'][0]\n",
    "dirs_root = [d for d in os.listdir(dataroot) if os.path.isdir(os.path.join(dataroot, d)) and 'sess' in d]\n",
    "\n",
    "sorted_dirs_root = natsorted(dirs_root, key=get_date_key_from_dir, reverse = True)"
   ]
  },
  {
   "attachments": {},
   "cell_type": "markdown",
   "id": "297a65e2",
   "metadata": {},
   "source": [
    "### Generate GUI"
   ]
  },
  {
   "cell_type": "code",
   "execution_count": 14,
   "id": "523b82d8",
   "metadata": {},
   "outputs": [
    {
     "name": "stdout",
     "output_type": "stream",
     "text": [
      "\u001b[1mSelect:                                           Project        Location  Setup        s2p parm\u001b[0m\n"
     ]
    },
    {
     "ename": "NameError",
     "evalue": "name 'SessionsDirArrayingested' is not defined",
     "output_type": "error",
     "traceback": [
      "\u001b[0;31m---------------------------------------------------------------------------\u001b[0m",
      "\u001b[0;31mNameError\u001b[0m                                 Traceback (most recent call last)",
      "Cell \u001b[0;32mIn[14], line 2\u001b[0m\n\u001b[1;32m      1\u001b[0m \u001b[39mprint\u001b[39m(\u001b[39m\"\u001b[39m\u001b[39m\\033\u001b[39;00m\u001b[39m[1m\u001b[39m\u001b[39m\"\u001b[39m \u001b[39m+\u001b[39m \u001b[39m'\u001b[39m\u001b[39mSelect:                                           Project        Location  Setup        s2p parm\u001b[39m\u001b[39m'\u001b[39m \u001b[39m+\u001b[39m \u001b[39m\"\u001b[39m\u001b[39m\\033\u001b[39;00m\u001b[39m[0m\u001b[39m\u001b[39m\"\u001b[39m )\n\u001b[0;32m----> 2\u001b[0m selected_data \u001b[39m=\u001b[39m select_sessions(SessionsDirArrayingested, sorted_dirs_root, Project, Recording_Location, Equipment, s2pparm)\n",
      "\u001b[0;31mNameError\u001b[0m: name 'SessionsDirArrayingested' is not defined"
     ]
    }
   ],
   "source": [
    "print(\"\\033[1m\" + 'Select:                                           Project        Location  Setup        s2p parm' + \"\\033[0m\" )\n",
    "selected_data = select_sessions(SessionsDirArrayingested, sorted_dirs_root, Project, Recording_Location, Equipment, s2pparm)"
   ]
  },
  {
   "cell_type": "markdown",
   "id": "b919eafa",
   "metadata": {},
   "source": []
  },
  {
   "attachments": {},
   "cell_type": "markdown",
   "id": "bd20d2f6",
   "metadata": {},
   "source": [
    "selected_data"
   ]
  },
  {
   "cell_type": "code",
   "execution_count": 30,
   "id": "41b48960",
   "metadata": {},
   "outputs": [
    {
     "data": {
      "text/plain": [
       "array(['scan9FG1TAXY', 'scan9FG1THFD'], dtype=object)"
      ]
     },
     "execution_count": 30,
     "metadata": {},
     "output_type": "execute_result"
    }
   ],
   "source": [
    "query = session.Session() * scan.Scan() & f'session_id = \"{sessi}\"'\n",
    "scans_to_process + query.fetch(\"scan_id\")"
   ]
  },
  {
   "cell_type": "code",
   "execution_count": 32,
   "id": "249406a8",
   "metadata": {},
   "outputs": [
    {
     "data": {
      "text/html": [
       "\n",
       "    \n",
       "    <style type=\"text/css\">\n",
       "        .Table{\n",
       "            border-collapse:collapse;\n",
       "        }\n",
       "        .Table th{\n",
       "            background: #A0A0A0; color: #ffffff; padding:4px; border:#f0e0e0 1px solid;\n",
       "            font-weight: normal; font-family: monospace; font-size: 100%;\n",
       "        }\n",
       "        .Table td{\n",
       "            padding:4px; border:#f0e0e0 1px solid; font-size:100%;\n",
       "        }\n",
       "        .Table tr:nth-child(odd){\n",
       "            background: #ffffff;\n",
       "        }\n",
       "        .Table tr:nth-child(even){\n",
       "            background: #f3f1ff;\n",
       "        }\n",
       "        /* Tooltip container */\n",
       "        .djtooltip {\n",
       "        }\n",
       "        /* Tooltip text */\n",
       "        .djtooltip .djtooltiptext {\n",
       "            visibility: hidden;\n",
       "            width: 120px;\n",
       "            background-color: black;\n",
       "            color: #fff;\n",
       "            text-align: center;\n",
       "            padding: 5px 0;\n",
       "            border-radius: 6px;\n",
       "            /* Position the tooltip text - see examples below! */\n",
       "            position: absolute;\n",
       "            z-index: 1;\n",
       "        }\n",
       "        #primary {\n",
       "            font-weight: bold;\n",
       "            color: black;\n",
       "        }\n",
       "        #nonprimary {\n",
       "            font-weight: normal;\n",
       "            color: white;\n",
       "        }\n",
       "\n",
       "        /* Show the tooltip text when you mouse over the tooltip container */\n",
       "        .djtooltip:hover .djtooltiptext {\n",
       "            visibility: visible;\n",
       "        }\n",
       "    </style>\n",
       "    \n",
       "    <b></b>\n",
       "        <div style=\"max-height:1000px;max-width:1500px;overflow:auto;\">\n",
       "        <table border=\"1\" class=\"Table\">\n",
       "            <thead> <tr style=\"text-align: right;\"> <th> <div class=\"djtooltip\">\n",
       "                            <p id=\"primary\">project</p>\n",
       "                            <span class=\"djtooltiptext\"></span>\n",
       "                        </div></th><th><div class=\"djtooltip\">\n",
       "                            <p id=\"primary\">session_id</p>\n",
       "                            <span class=\"djtooltiptext\"></span>\n",
       "                        </div> </th> </tr> </thead>\n",
       "            <tbody> <tr> <td>TEC</td>\n",
       "<td>sess9FB2LN5C</td></tr><tr><td>TEC</td>\n",
       "<td>sess9FCJJS40</td></tr><tr><td>TEC</td>\n",
       "<td>sess9FF6TAW6</td></tr><tr><td>TEC</td>\n",
       "<td>sess9FF6TL96</td></tr><tr><td>TEC</td>\n",
       "<td>sess9FF6TT76</td></tr><tr><td>TEC</td>\n",
       "<td>sess9FF6U114</td></tr><tr><td>TEC</td>\n",
       "<td>sess9FG1SCD4</td></tr><tr><td>TEC</td>\n",
       "<td>sess9FG1TAXY</td></tr><tr><td>TEC</td>\n",
       "<td>sess9FG1UAQG</td></tr><tr><td>TEC</td>\n",
       "<td>sess9FGLE1FN</td></tr><tr><td>TEC</td>\n",
       "<td>sess9FGLEFJ3</td></tr><tr><td>TEC</td>\n",
       "<td>sess9FGLZLRI</td> </tr> </tbody>\n",
       "        </table>\n",
       "        <p>...</p>\n",
       "        <p>Total: 13</p></div>\n",
       "        "
      ],
      "text/plain": [
       "*project    *session_id   \n",
       "+---------+ +------------+\n",
       "TEC         sess9FB2LN5C  \n",
       "TEC         sess9FCJJS40  \n",
       "TEC         sess9FF6TAW6  \n",
       "TEC         sess9FF6TL96  \n",
       "TEC         sess9FF6TT76  \n",
       "TEC         sess9FF6U114  \n",
       "TEC         sess9FG1SCD4  \n",
       "TEC         sess9FG1TAXY  \n",
       "TEC         sess9FG1UAQG  \n",
       "TEC         sess9FGLE1FN  \n",
       "TEC         sess9FGLEFJ3  \n",
       "TEC         sess9FGLZLRI  \n",
       "   ...\n",
       " (Total: 13)"
      ]
     },
     "execution_count": 32,
     "metadata": {},
     "output_type": "execute_result"
    }
   ],
   "source": [
    "session.ProjectSession()"
   ]
  },
  {
   "cell_type": "code",
   "execution_count": 27,
   "id": "654a9b89",
   "metadata": {},
   "outputs": [
    {
     "name": "stderr",
     "output_type": "stream",
     "text": [
      "[2023-03-16 11:29:39,172][INFO]: Deleting 14 rows from `tobiasr_scan`.`scan_location`\n",
      "[2023-03-16 11:29:39,177][INFO]: Deleting 14 rows from `tobiasr_scan`.`scan_path`\n",
      "[2023-03-16 11:29:39,180][INFO]: Deleting 14 rows from `tobiasr_scan`.`scan`\n",
      "[2023-03-16 11:29:39,184][INFO]: Deleting 13 rows from `tobiasr_session`.`project_session`\n",
      "[2023-03-16 11:29:39,188][INFO]: Deleting 13 rows from `tobiasr_session`.`session_directory`\n",
      "[2023-03-16 11:29:39,192][INFO]: Deleting 13 rows from `tobiasr_session`.`session_user`\n",
      "[2023-03-16 11:29:39,195][INFO]: Deleting 13 rows from `tobiasr_session`.`session`\n",
      "[2023-03-16 11:29:39,199][INFO]: Deleting 5 rows from `tobiasr_subject`.`subject_genotype`\n",
      "[2023-03-16 11:29:39,202][INFO]: Deleting 5 rows from `tobiasr_subject`.`subject`\n",
      "[2023-03-16 11:29:44,952][WARNING]: Deletes cancelled\n"
     ]
    },
    {
     "data": {
      "text/plain": [
       "5"
      ]
     },
     "execution_count": 27,
     "metadata": {},
     "output_type": "execute_result"
    }
   ],
   "source": [
    "subject.Subject.delete()"
   ]
  },
  {
   "cell_type": "markdown",
   "id": "1874b0d0",
   "metadata": {},
   "source": [
    "### 2.1 Session notes ingest"
   ]
  },
  {
   "cell_type": "code",
   "execution_count": 17,
   "id": "0ba0b342",
   "metadata": {},
   "outputs": [
    {
     "ename": "NameError",
     "evalue": "name 'jk' is not defined",
     "output_type": "error",
     "traceback": [
      "\u001b[0;31m---------------------------------------------------------------------------\u001b[0m",
      "\u001b[0;31mNameError\u001b[0m                                 Traceback (most recent call last)",
      "Cell \u001b[0;32mIn[17], line 1\u001b[0m\n\u001b[0;32m----> 1\u001b[0m jk\n",
      "\u001b[0;31mNameError\u001b[0m: name 'jk' is not defined"
     ]
    }
   ],
   "source": [
    "jk"
   ]
  },
  {
   "cell_type": "markdown",
   "id": "20416320",
   "metadata": {},
   "source": [
    "## 3. Scan ingest / s2p processing 1st pass"
   ]
  },
  {
   "cell_type": "code",
   "execution_count": null,
   "id": "159a6d62",
   "metadata": {},
   "outputs": [],
   "source": []
  }
 ],
 "metadata": {
  "jupytext": {
   "formats": "ipynb,py"
  },
  "kernelspec": {
   "display_name": "Python 3 (ipykernel)",
   "language": "python",
   "name": "python3"
  },
  "language_info": {
   "codemirror_mode": {
    "name": "ipython",
    "version": 3
   },
   "file_extension": ".py",
   "mimetype": "text/x-python",
   "name": "python",
   "nbconvert_exporter": "python",
   "pygments_lexer": "ipython3",
   "version": "3.8.16"
  },
  "vscode": {
   "interpreter": {
    "hash": "2888206d04306eefe963095373d1dcce5cd11176f3d6ee4ec3f64dd9e65fd8a1"
   }
  }
 },
 "nbformat": 4,
 "nbformat_minor": 5
}
