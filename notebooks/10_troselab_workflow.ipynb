{
 "cells": [
  {
   "cell_type": "markdown",
   "id": "86cc1ca7",
   "metadata": {},
   "source": [
    "# Daily workflow - troselab (DRAFT)"
   ]
  },
  {
   "attachments": {},
   "cell_type": "markdown",
   "id": "5eaa674c",
   "metadata": {},
   "source": [
    "`TR TODO: Jupyter ipywidget GUI`\n",
    "\n",
    "(check Daniel's ipysheet mouse entry GUI for inspiration)\n",
    "\n",
    "1. Upload to analysis server\n",
    "    1. automatic (rcopy with file consolidation)?\n",
    "    2. WinSCP?\n",
    "\n",
    "    \n",
    "2. Session ingest - Have this script parse the user folder. \n",
    "    1. retrieve login name  **DONE**\n",
    "    2. parse user storage folder for SessionIDs, ScanIDs **DONE**\n",
    "    3. intersect with 'Session' tables **DONE**\n",
    "    4. FIRST STEP: session ingestion of new data  **DONE**\n",
    "        1. have ipywidget with list of data to be ingested with checkbox  **DONE**\n",
    "        2. have dropdowns next to SessionsFetch that expose 'Project', 'Anatomical Location', 'Equipment' (NOTE: have me or admin accept new entries? Or user?) - have a user default **DONE**\n",
    "        3. IMPORTANT: Have dropdown for `Same_Location_as_Session` - default: same session\n",
    "            1. Include `Same_Location_as_Session` key in `Session` table (default same session)\n",
    "            2. Update after Session ingest\n",
    "        4. have central 'START' button **DONE**\n",
    "        5. Combine session entry with automatic RSpace entry (**ongoing***)\n",
    "            1. Extract parent folder IDs under 'experiments' from RSpace (add RSpace API key and URL to djconfig )\n",
    "            2. Intersect list with animal ID from session ingest\n",
    "            3. Create new document with `YYYY-MM-DD_SessionID`\n",
    "            4. Append content as verbose tables using Pandas df.to_html (`html_table = df.to_html()`)\n",
    "            5. IMPORTANT: Push RSpace document ID and noteobook URL in Sessions database!\n",
    "        5. OPTIONAL: Have a notebook section to enter and insert Session Notes\n",
    "        6. OPTIONAL: Submit Sessions to pyrat. Not sure if necessary.\n",
    "        7. TODO: Think if splitting projects off to different database suffixes (and differnt associated tables makes sense from here. Seems reasonable given the focus on the user root directory here.\n",
    "        8. TODO: Implement auto animal pyrat ingest if needed. Crashes now.\n",
    "        9. TODO: Make sure that multi-scan sessions are properly treated. Currently they are not detected as such by the GUI. Make sure ingestion behavior is appropriate.\n",
    "\n",
    "\n",
    "\n",
    "3. Scan ingest / 1st stage s2p processing: \n",
    "    1. have another list with checkboxes (default checled) - now with all first stage scans of the newly ingested sessions. Have dropdown boxes with s2p parameteres. User default is selected. Followed by 'START'\n",
    "    2. TODO: suppress s2p output, just have progress bars\n",
    "    3. OPTIONAL: Have a notebook section to enter and insert Scan Notes\n",
    "    4. OPTIONAL: Submit sessions, scans and Notes to RSPACE! Upload s2p average image, max image, Source image and Rastermap \n",
    "    \n",
    "\n",
    "4. Scan Curation\n",
    "    1. DIFFERENT NOTEBOOK (or different Notebook section)\n",
    "    2. Make intersection of folder with database\n",
    "        1. list _all_ scans\n",
    "        2. have all non-curated red - the others green\n",
    "        3. bhave non-processed scans grey\n",
    "        4. have 'CURATE LOCALLY WITH s2P' buttons behind all scans. This button should spawn a local suite2p GUI which directly loads the respective suite2p stats.npy file from the server. Folder settings for server need to be set in datajoint.json file.\n",
    "\n",
    "5. SERVER: Database backup and Data folder backup\n",
    "    1. Have cronjob backup database to ana2 and isilon (midnight, incremental - only add, no delete. Increment ID to be reversible?)\n",
    "    2. Have cronjob backup data folders to ana2 and isilon (midnight, incremental - only add, no delete)"
   ]
  },
  {
   "cell_type": "markdown",
   "id": "634ec7b4",
   "metadata": {},
   "source": [
    "## Login\n",
    "\n",
    "Either log in via a local config file (see [01_pipeline](./01_pipeline.ipynb)), or enter login information manually. If you are don't have your login information, contact the administrator.\n"
   ]
  },
  {
   "cell_type": "code",
   "execution_count": 1,
   "id": "0b1bebf0",
   "metadata": {},
   "outputs": [
    {
     "name": "stderr",
     "output_type": "stream",
     "text": [
      "[2023-03-15 17:40:56,694][INFO]: Connecting tobiasr@172.26.128.53:3306\n",
      "[2023-03-15 17:40:56,752][INFO]: Connected tobiasr@172.26.128.53:3306\n"
     ]
    }
   ],
   "source": [
    "import os\n",
    "# change to the upper level folder to detect dj_local_conf.json\n",
    "if os.path.basename(os.getcwd())=='notebooks': os.chdir('..')\n",
    "assert os.path.basename(os.getcwd())=='adamacs', (\"Please move to the main directory\")\n",
    "from adamacs.pipeline import subject, session, equipment, surgery \n",
    "from adamacs.ingest import session as isess\n",
    "import datajoint as dj\n",
    "from rspace_client.eln import eln\n",
    "import pandas as pd\n"
   ]
  },
  {
   "attachments": {},
   "cell_type": "markdown",
   "id": "7042be7d",
   "metadata": {},
   "source": [
    "### RSpace connection"
   ]
  },
  {
   "cell_type": "code",
   "execution_count": 2,
   "id": "c5db12e4",
   "metadata": {},
   "outputs": [
    {
     "data": {
      "text/plain": [
       "{'message': 'OK', 'rspaceVersion': '1.80.1'}"
      ]
     },
     "execution_count": 2,
     "metadata": {},
     "output_type": "execute_result"
    }
   ],
   "source": [
    "\n",
    "URL='https://rspace.rhrz.uni-bonn.de/'\n",
    "API_KEY='SvMDsvzYNfJY36E0aHc5c2TriwsHWqs5'\n",
    "api = eln.ELNClient(URL, API_KEY)\n",
    "api.get_status()"
   ]
  },
  {
   "attachments": {},
   "cell_type": "markdown",
   "id": "88c9651a",
   "metadata": {},
   "source": [
    "### parse through rspace folder strucutre to get animal ID folders"
   ]
  },
  {
   "cell_type": "code",
   "execution_count": null,
   "id": "94857c71",
   "metadata": {},
   "outputs": [],
   "source": []
  },
  {
   "cell_type": "code",
   "execution_count": 5,
   "id": "620603fc",
   "metadata": {},
   "outputs": [
    {
     "name": "stdout",
     "output_type": "stream",
     "text": [
      "[('TR_ROS-6666', 67346)]\n",
      "{('TR_ROS-6666', 67346)}\n",
      "67346\n",
      "{'animalID': 'ROS-6666', 'ID': 67346}\n"
     ]
    }
   ],
   "source": [
    "# find 'Experiments' folder and get ID\n",
    "folders = api.list_folder_tree()\n",
    "experiments_ids = []\n",
    "for record in folders['records']:\n",
    "    if record['name'] == 'Experiments':\n",
    "        experiments_ids.append(record['id'])\n",
    "\n",
    "names_and_ids = []\n",
    "subfolders = api.list_folder_tree(experiments_ids[0])\n",
    "names_and_ids.append([(record['name'], record['id']) for record in subfolders['records']])\n",
    "\n",
    "\n",
    "# find matches with animal IDs\n",
    "animalID = 'ROS-6666'\n",
    "\n",
    "partial_matches = [x for sublist in names_and_ids for x in sublist if animalID in x[0]]\n",
    "partial_matches_unique = set(partial_matches)\n",
    "\n",
    "matching_folder_id = [x[1] for sublist in names_and_ids for x in sublist if animalID in x[0]][0]\n",
    "\n",
    "print(partial_matches)\n",
    "print(partial_matches_unique)\n",
    "print(matching_folder_id)\n",
    "\n",
    "partial_matches_dict = {'animalID': animalID, 'ID': [x[1] for x in partial_matches_unique][0]}\n",
    "\n",
    "\n",
    "print(partial_matches_dict)\n",
    "\n",
    "\n"
   ]
  },
  {
   "attachments": {},
   "cell_type": "markdown",
   "id": "d2bbbb84",
   "metadata": {},
   "source": [
    "### write an example document"
   ]
  },
  {
   "cell_type": "code",
   "execution_count": 6,
   "id": "51ef5077",
   "metadata": {},
   "outputs": [],
   "source": [
    "new_doc = api.create_document(name=f\"Analysis of dataset {animalID}\", parent_folder_id=matching_folder_id)"
   ]
  },
  {
   "cell_type": "code",
   "execution_count": 7,
   "id": "e2404e9c",
   "metadata": {},
   "outputs": [
    {
     "ename": "NameError",
     "evalue": "name 'documents' is not defined",
     "output_type": "error",
     "traceback": [
      "\u001b[0;31m---------------------------------------------------------------------------\u001b[0m",
      "\u001b[0;31mNameError\u001b[0m                                 Traceback (most recent call last)",
      "Cell \u001b[0;32mIn[7], line 12\u001b[0m\n\u001b[1;32m      2\u001b[0m content \u001b[39m=\u001b[39m \u001b[39mf\u001b[39m\u001b[39m\"\"\"\u001b[39m\n\u001b[1;32m      3\u001b[0m \u001b[39m<p>Analysis of temperature dataset from our standard locations.\u001b[39m\n\u001b[1;32m      4\u001b[0m \u001b[39m<p>No variation between locations:\u001b[39m\n\u001b[0;32m   (...)\u001b[0m\n\u001b[1;32m      9\u001b[0m \u001b[39mLocation vs temperature: <fileId=\u001b[39m\u001b[39m{\u001b[39;00manimalID\u001b[39m}\u001b[39;00m\u001b[39m>\u001b[39m\n\u001b[1;32m     10\u001b[0m \u001b[39m\"\"\"\u001b[39m\n\u001b[1;32m     11\u001b[0m api\u001b[39m.\u001b[39mappend_content(new_doc[\u001b[39m'\u001b[39m\u001b[39mid\u001b[39m\u001b[39m'\u001b[39m], content)\n\u001b[0;32m---> 12\u001b[0m documents[\u001b[39m'\u001b[39m\u001b[39mdocuments\u001b[39m\u001b[39m'\u001b[39m][\u001b[39m0\u001b[39m][\u001b[39m'\u001b[39m\u001b[39mparentFolderId\u001b[39m\u001b[39m'\u001b[39m]\n",
      "\u001b[0;31mNameError\u001b[0m: name 'documents' is not defined"
     ]
    }
   ],
   "source": [
    "new_doc = api.create_document(name=f\"Analysis of dataset {animalID}\", parent_folder_id=matching_folder_id)\n",
    "content = f\"\"\"\n",
    "<p>Analysis of temperature dataset from our standard locations.\n",
    "<p>No variation between locations:\n",
    "Raw data: <fileId={animalID}>\n",
    "<p>\n",
    "Statistical summary: <fileId={animalID}>b\n",
    "<p>\n",
    "Location vs temperature: <fileId={animalID}>\n",
    "\"\"\"\n",
    "api.append_content(new_doc['id'], content)\n",
    "documents['documents'][0]['parentFolderId']"
   ]
  },
  {
   "cell_type": "code",
   "execution_count": null,
   "id": "2c5e5fde",
   "metadata": {},
   "outputs": [],
   "source": []
  },
  {
   "cell_type": "code",
   "execution_count": null,
   "id": "5584210c",
   "metadata": {},
   "outputs": [],
   "source": [
    "animal_ids"
   ]
  },
  {
   "cell_type": "code",
   "execution_count": null,
   "id": "d54fab2b",
   "metadata": {},
   "outputs": [],
   "source": [
    "db_prefix = dj.config['custom'].get('database.prefix')\n",
    "print('database Prefix:', db_prefix)"
   ]
  },
  {
   "cell_type": "code",
   "execution_count": null,
   "id": "145a3967",
   "metadata": {},
   "outputs": [],
   "source": [
    "eln"
   ]
  },
  {
   "cell_type": "markdown",
   "id": "d29453ed",
   "metadata": {},
   "source": [
    "## Activation\n",
    "Next, import from `adamacs.pipeline` to activate the relevant schema."
   ]
  },
  {
   "cell_type": "code",
   "execution_count": 3,
   "id": "f27dcb14",
   "metadata": {},
   "outputs": [],
   "source": [
    "from adamacs.utility import *\n",
    "from adamacs.nbgui import *\n",
    "from adamacs.pipeline import subject, session, surgery, scan, equipment\n"
   ]
  },
  {
   "cell_type": "markdown",
   "id": "8cd8be94",
   "metadata": {},
   "source": [
    "Assign easy names for relevant tables"
   ]
  },
  {
   "cell_type": "code",
   "execution_count": 4,
   "id": "30485290",
   "metadata": {},
   "outputs": [],
   "source": [
    "sub, lab, protocol, line, mutation, user, project, subject_genotype, subject_death = (\n",
    "    subject.Subject(), subject.Lab(), subject.Protocol(), subject.Line(), \n",
    "    subject.Mutation(), subject.User(), subject.Project(), subject.SubjectGenotype(), \n",
    "    subject.SubjectDeath()\n",
    "    )"
   ]
  },
  {
   "cell_type": "markdown",
   "id": "807a36ef",
   "metadata": {},
   "source": [
    "## 1. Data upload\n",
    "(not implemented currently)"
   ]
  },
  {
   "cell_type": "markdown",
   "id": "d83b5668",
   "metadata": {},
   "source": [
    "## 2. Session ingest"
   ]
  },
  {
   "attachments": {},
   "cell_type": "markdown",
   "id": "cb2fabde",
   "metadata": {},
   "source": [
    "### Define ingest GUI functions"
   ]
  },
  {
   "cell_type": "code",
   "execution_count": 14,
   "id": "4e8164fb",
   "metadata": {},
   "outputs": [],
   "source": [
    "# Tobias Rose 2023: Routine ingest helpers\n",
    "\n",
    "import ipywidgets as widgets\n",
    "import ipywidgets as widgets\n",
    "from natsort import natsorted, ns\n",
    "import re\n",
    "from tqdm import tqdm\n",
    "\n",
    "def select_sessions(SessionDirA, SessionDirB, Project, Recording_Location, Equipment, s2pparm):\n",
    "    \n",
    "    # Personal default values\n",
    "    user_defaults = get_user_defaults(SessionDirB)\n",
    "       \n",
    "    # Define the widgets\n",
    "    session_dropdowns = []\n",
    "    session_checkboxes = []\n",
    "    for i, session_list in enumerate(SessionDirB):\n",
    "        # Dropdowns for Project, Recording Location, Equipment\n",
    "        \n",
    "        project_dropdown = widgets.Dropdown(options=Project, value=Project[user_defaults[i][0]], description=\"Project:\")\n",
    "        location_dropdown = widgets.Dropdown(options=Recording_Location, value=Recording_Location[user_defaults[i][1]], description=\"Location:\")\n",
    "        equipment_dropdown = widgets.Dropdown(options=Equipment, value=Equipment[user_defaults[i][2]], description=\"Setup:\")\n",
    "        s2pparms_dropdown = widgets.Dropdown(options=s2pparm, value=s2pparm[user_defaults[i][3]], description=\"s2p parm:\")\n",
    "        session_dropdowns.append((project_dropdown, location_dropdown, equipment_dropdown, s2pparms_dropdown))\n",
    "        # Checkbox for Process?\n",
    "        session_checkbox = widgets.Checkbox(description='run?', layout=widgets.Layout(width='auto'))\n",
    "        session_checkboxes.append(session_checkbox)\n",
    "\n",
    "    # Display the widgets\n",
    "    output = widgets.Output()\n",
    "\n",
    "    with output:\n",
    "        # Display the Sessions labels and associated dropdowns and checkboxes\n",
    "        hbox_list = []\n",
    "        for i, session_list in enumerate(SessionDirB): #unique_directory_strings(SessionDirA, SessionDirB)\n",
    "            # Create an HBox to hold the label and associated dropdowns and checkbox\n",
    "            hbox = widgets.HBox()\n",
    "            hbox.children = [\n",
    "                widgets.Label(value=session_list + ':', layout=widgets.Layout(width='1800px')), \n",
    "                session_dropdowns[i][0],\n",
    "                session_dropdowns[i][1],\n",
    "                session_dropdowns[i][2],\n",
    "                session_dropdowns[i][3],\n",
    "                session_checkboxes[i]\n",
    "            ]\n",
    "            if session_list in unique_directory_strings(SessionDirA, SessionDirB):\n",
    "                hbox.children[0].value = '*' + session_list + ':'\n",
    "                hbox.children[5].value = True\n",
    "            else:\n",
    "                hbox.children[5].value = False\n",
    "            hbox_list.append(hbox)\n",
    "\n",
    "        vbox = widgets.VBox(hbox_list, layout=widgets.Layout(flex='0 0 auto', overflow_y='scroll'))\n",
    "        # Display the commit button\n",
    "        commit_button = widgets.Button(description='Commit', layout=widgets.Layout(width='auto'))\n",
    "        display(vbox, commit_button)\n",
    "\n",
    "        # Define the callback function for the commit button\n",
    "        def commit_button_clicked(b):\n",
    "            selected_sessions = [SessionDirB[i] for i in range(len(SessionDirB)) if session_checkboxes[i].value]\n",
    "            selected_projects = [session_dropdowns[i][0].value for i in range(len(SessionDirB)) if session_checkboxes[i].value]\n",
    "            selected_locations = [session_dropdowns[i][1].value for i in range(len(SessionDirB)) if session_checkboxes[i].value]\n",
    "            selected_equipment = [session_dropdowns[i][2].value for i in range(len(SessionDirB)) if session_checkboxes[i].value]\n",
    "            selected_s2pparms = [session_dropdowns[i][3].value for i in range(len(SessionDirB)) if session_checkboxes[i].value]\n",
    "            \n",
    "            selected_scans = get_scan_key_from_dir(selected_sessions)\n",
    "            selected_sessions = get_session_key_from_dir(selected_sessions)\n",
    "\n",
    "            output.clear_output()\n",
    "            with output:\n",
    "                print('Selected Sessions:', selected_sessions)\n",
    "                # print('Selected Scans:', selected_scans)\n",
    "                # print('Selected Projects:', selected_projects)\n",
    "                # print('Selected Recording Locations:', selected_locations)\n",
    "                # print('Selected Equipment:', selected_equipment)\n",
    "                # print('Selected S2PParms:', selected_s2pparms)\n",
    "\n",
    "                # Ingest selected sessions here\n",
    "                for sessi in selected_sessions:\n",
    "                    isess.ingest_session_scan(sessi, verbose=True)\n",
    "                    # make_rspace_session_document(animalID, sessionID, date) \n",
    "                    # Make RSpace entries here\n",
    "                \n",
    "                print('Ingested Sessions:', selected_sessions)\n",
    "\n",
    "                # TODO: Make sure that sesssion ingest automatically pulls all data from pyrat!\n",
    "                # TODO: Ingest Scans here\n",
    "                # TODO: Queue Processing here\n",
    "\n",
    "                # for idx, scansi in tqdm(selected_scans):\n",
    "                    # isess.ingest_session_scan(sessi, verbose=True)\n",
    "\n",
    "                # print('Ingested and process-queued Scans:', selected_scans)\n",
    "                return selected_sessions\n",
    "\n",
    "        # Attach the callback function to the commit button\n",
    "        commit_button.on_click(commit_button_clicked)\n",
    "\n",
    "    # Display the output\n",
    "    display(output)\n",
    "    \n",
    "    def make_rspace_session_document(animalID, sessionID, date):\n",
    "       \n",
    "        # find 'Experiments' folder and get ID\n",
    "        folders = api.list_folder_tree()\n",
    "        experiments_ids = []\n",
    "        for record in folders['records']:\n",
    "            if record['name'] == 'Experiments':\n",
    "                experiments_ids.append(record['id'])\n",
    "        \n",
    "        # find folders under 'Experiments' folder\n",
    "        names_and_ids = []\n",
    "        subfolders = api.list_folder_tree(experiments_ids[0])\n",
    "        names_and_ids.append([(record['name'], record['id']) for record in subfolders['records']])\n",
    "\n",
    "        # find matches with animal IDs\n",
    "        matching_folder_id = [x[1] for sublist in names_and_ids for x in sublist if animalID in x[0]][0]\n",
    "\n",
    "        # create RSpace document\n",
    "        new_doc = api.create_document(name=f\"{date}_{sessionID}\", parent_folder_id=matching_folder_id)\n",
    "        \n",
    "        fetchtable = session.Session() * session.SessionDirectory * session.SessionUser * session.ProjectSession * session.SessionNote \n",
    "        df = fetchtable.fetch(format='frame')\n",
    "        html_table = df.to_html()\n",
    "        content = html_table\n",
    "        api.append_content(new_doc['id'], content)\n",
    "        \n",
    "\n",
    "\n",
    "\n",
    "def get_date_key_from_dir(directory):\n",
    "    return directory.split(\"_\")[-1]\n",
    "\n",
    "def get_session_dir_key_from_dir(directory):\n",
    "    return [path.split('/')[-1] for path in directory]\n",
    "     \n",
    "def get_scan_dir_key_from_dir(directory):\n",
    "    return [path.split('/')[-1] for path in directory]\n",
    "\n",
    "def get_session_key_from_dir(string):\n",
    "    result = [re.search(r'sess\\S+', item).group(0) for item in string]\n",
    "    return result\n",
    "\n",
    "def get_user_initials_from_dir(string):\n",
    "    result = [name[:2] for name in string]\n",
    "    return result\n",
    "\n",
    "def get_scan_key_from_dir(string):\n",
    "    result = [re.search(r'scan\\S+_', item).group(0)[:-1] for item in string]\n",
    "    return result\n",
    "\n",
    "def unique_directory_strings(dirs1, dirs2):\n",
    "    set1 = set(dirs1)\n",
    "    set2 = set(dirs2)\n",
    "    common_dirs = list(set1.intersection(set2))\n",
    "    unique_dirs = list(set(set1.union(set2)) - set(common_dirs))\n",
    "    return unique_dirs\n",
    "\n",
    "def get_user_defaults(directory):\n",
    "    RN = [1, 1, 2, 0]\n",
    "    JJ = [2, 6, 2, 0]\n",
    "    TR = [0, 6, 3, 0]\n",
    "    DB = [4, 0, 1, 2]\n",
    "    NK = [5, 0, 2, 2]\n",
    "    \n",
    "    user_initials = get_user_initials_from_dir(directory)\n",
    "\n",
    "    user_arrays = {}\n",
    "    for initial in user_initials:\n",
    "        values = locals()[initial]\n",
    "        user_arrays[initial] = values\n",
    "\n",
    "    new_array = [user_arrays[initial] for initial in user_initials]\n",
    "    return new_array"
   ]
  },
  {
   "cell_type": "code",
   "execution_count": 15,
   "id": "33df3214",
   "metadata": {},
   "outputs": [
    {
     "data": {
      "text/html": [
       "\n",
       "    \n",
       "    <style type=\"text/css\">\n",
       "        .Table{\n",
       "            border-collapse:collapse;\n",
       "        }\n",
       "        .Table th{\n",
       "            background: #A0A0A0; color: #ffffff; padding:4px; border:#f0e0e0 1px solid;\n",
       "            font-weight: normal; font-family: monospace; font-size: 100%;\n",
       "        }\n",
       "        .Table td{\n",
       "            padding:4px; border:#f0e0e0 1px solid; font-size:100%;\n",
       "        }\n",
       "        .Table tr:nth-child(odd){\n",
       "            background: #ffffff;\n",
       "        }\n",
       "        .Table tr:nth-child(even){\n",
       "            background: #f3f1ff;\n",
       "        }\n",
       "        /* Tooltip container */\n",
       "        .djtooltip {\n",
       "        }\n",
       "        /* Tooltip text */\n",
       "        .djtooltip .djtooltiptext {\n",
       "            visibility: hidden;\n",
       "            width: 120px;\n",
       "            background-color: black;\n",
       "            color: #fff;\n",
       "            text-align: center;\n",
       "            padding: 5px 0;\n",
       "            border-radius: 6px;\n",
       "            /* Position the tooltip text - see examples below! */\n",
       "            position: absolute;\n",
       "            z-index: 1;\n",
       "        }\n",
       "        #primary {\n",
       "            font-weight: bold;\n",
       "            color: black;\n",
       "        }\n",
       "        #nonprimary {\n",
       "            font-weight: normal;\n",
       "            color: white;\n",
       "        }\n",
       "\n",
       "        /* Show the tooltip text when you mouse over the tooltip container */\n",
       "        .djtooltip:hover .djtooltiptext {\n",
       "            visibility: visible;\n",
       "        }\n",
       "    </style>\n",
       "    \n",
       "    \n",
       "        <div style=\"max-height:1000px;max-width:1500px;overflow:auto;\">\n",
       "        <table border=\"1\" class=\"Table\">\n",
       "            <thead> <tr style=\"text-align: right;\"> <th> <div class=\"djtooltip\">\n",
       "                            <p id=\"primary\">session_id</p>\n",
       "                            <span class=\"djtooltiptext\"></span>\n",
       "                        </div></th><th><div class=\"djtooltip\">\n",
       "                            <p id=\"primary\">user_id</p>\n",
       "                            <span class=\"djtooltiptext\"></span>\n",
       "                        </div></th><th><div class=\"djtooltip\">\n",
       "                            <p id=\"primary\">project</p>\n",
       "                            <span class=\"djtooltiptext\"></span>\n",
       "                        </div></th><th><div class=\"djtooltip\">\n",
       "                            <p id=\"primary\">scan_id</p>\n",
       "                            <span class=\"djtooltiptext\"></span>\n",
       "                        </div></th><th><div class=\"djtooltip\">\n",
       "                            <p id=\"nonprimary\">subject</p>\n",
       "                            <span class=\"djtooltiptext\">PyRat import uses this for earmark value</span>\n",
       "                        </div></th><th><div class=\"djtooltip\">\n",
       "                            <p id=\"nonprimary\">session_datetime</p>\n",
       "                            <span class=\"djtooltiptext\"></span>\n",
       "                        </div></th><th><div class=\"djtooltip\">\n",
       "                            <p id=\"nonprimary\">session_dir</p>\n",
       "                            <span class=\"djtooltiptext\">Path to the data directory for a session</span>\n",
       "                        </div></th><th><div class=\"djtooltip\">\n",
       "                            <p id=\"nonprimary\">session_note</p>\n",
       "                            <span class=\"djtooltiptext\"></span>\n",
       "                        </div></th><th><div class=\"djtooltip\">\n",
       "                            <p id=\"nonprimary\">anatomical_location</p>\n",
       "                            <span class=\"djtooltiptext\"></span>\n",
       "                        </div> </th> </tr> </thead>\n",
       "            <tbody> <tr>  </tr> </tbody>\n",
       "        </table>\n",
       "        \n",
       "        <p>Total: 0</p></div>\n",
       "        "
      ],
      "text/plain": [
       "*session_id    *user_id    *project    *scan_id    subject     session_dateti session_dir    session_note   anatomical_loc\n",
       "+------------+ +---------+ +---------+ +---------+ +---------+ +------------+ +------------+ +------------+ +------------+\n",
       "\n",
       " (Total: 0)"
      ]
     },
     "execution_count": 15,
     "metadata": {},
     "output_type": "execute_result"
    }
   ],
   "source": [
    "session.Session() * session.SessionDirectory * session.SessionUser * session.ProjectSession * session.SessionNote * scan.ScanLocation()\n"
   ]
  },
  {
   "cell_type": "code",
   "execution_count": 16,
   "id": "a99f8119",
   "metadata": {},
   "outputs": [
    {
     "data": {
      "text/html": [
       "\n",
       "    \n",
       "    <style type=\"text/css\">\n",
       "        .Table{\n",
       "            border-collapse:collapse;\n",
       "        }\n",
       "        .Table th{\n",
       "            background: #A0A0A0; color: #ffffff; padding:4px; border:#f0e0e0 1px solid;\n",
       "            font-weight: normal; font-family: monospace; font-size: 100%;\n",
       "        }\n",
       "        .Table td{\n",
       "            padding:4px; border:#f0e0e0 1px solid; font-size:100%;\n",
       "        }\n",
       "        .Table tr:nth-child(odd){\n",
       "            background: #ffffff;\n",
       "        }\n",
       "        .Table tr:nth-child(even){\n",
       "            background: #f3f1ff;\n",
       "        }\n",
       "        /* Tooltip container */\n",
       "        .djtooltip {\n",
       "        }\n",
       "        /* Tooltip text */\n",
       "        .djtooltip .djtooltiptext {\n",
       "            visibility: hidden;\n",
       "            width: 120px;\n",
       "            background-color: black;\n",
       "            color: #fff;\n",
       "            text-align: center;\n",
       "            padding: 5px 0;\n",
       "            border-radius: 6px;\n",
       "            /* Position the tooltip text - see examples below! */\n",
       "            position: absolute;\n",
       "            z-index: 1;\n",
       "        }\n",
       "        #primary {\n",
       "            font-weight: bold;\n",
       "            color: black;\n",
       "        }\n",
       "        #nonprimary {\n",
       "            font-weight: normal;\n",
       "            color: white;\n",
       "        }\n",
       "\n",
       "        /* Show the tooltip text when you mouse over the tooltip container */\n",
       "        .djtooltip:hover .djtooltiptext {\n",
       "            visibility: visible;\n",
       "        }\n",
       "    </style>\n",
       "    \n",
       "    <b>general data about the reso/meso scans from header</b>\n",
       "        <div style=\"max-height:1000px;max-width:1500px;overflow:auto;\">\n",
       "        <table border=\"1\" class=\"Table\">\n",
       "            <thead> <tr style=\"text-align: right;\"> <th> <div class=\"djtooltip\">\n",
       "                            <p id=\"primary\">session_id</p>\n",
       "                            <span class=\"djtooltiptext\"></span>\n",
       "                        </div></th><th><div class=\"djtooltip\">\n",
       "                            <p id=\"primary\">scan_id</p>\n",
       "                            <span class=\"djtooltiptext\"></span>\n",
       "                        </div></th><th><div class=\"djtooltip\">\n",
       "                            <p id=\"nonprimary\">nfields</p>\n",
       "                            <span class=\"djtooltiptext\">number of fields</span>\n",
       "                        </div></th><th><div class=\"djtooltip\">\n",
       "                            <p id=\"nonprimary\">nchannels</p>\n",
       "                            <span class=\"djtooltiptext\">number of channels</span>\n",
       "                        </div></th><th><div class=\"djtooltip\">\n",
       "                            <p id=\"nonprimary\">ndepths</p>\n",
       "                            <span class=\"djtooltiptext\">Number of scanning depths (planes)</span>\n",
       "                        </div></th><th><div class=\"djtooltip\">\n",
       "                            <p id=\"nonprimary\">nframes</p>\n",
       "                            <span class=\"djtooltiptext\">number of recorded frames</span>\n",
       "                        </div></th><th><div class=\"djtooltip\">\n",
       "                            <p id=\"nonprimary\">nrois</p>\n",
       "                            <span class=\"djtooltiptext\">number of ROIs (see scanimage's multi ROI imaging)</span>\n",
       "                        </div></th><th><div class=\"djtooltip\">\n",
       "                            <p id=\"nonprimary\">x</p>\n",
       "                            <span class=\"djtooltiptext\">(um) ScanImage's 0 point in the motor coordinate system</span>\n",
       "                        </div></th><th><div class=\"djtooltip\">\n",
       "                            <p id=\"nonprimary\">y</p>\n",
       "                            <span class=\"djtooltiptext\">(um) ScanImage's 0 point in the motor coordinate system</span>\n",
       "                        </div></th><th><div class=\"djtooltip\">\n",
       "                            <p id=\"nonprimary\">z</p>\n",
       "                            <span class=\"djtooltiptext\">(um) ScanImage's 0 point in the motor coordinate system</span>\n",
       "                        </div></th><th><div class=\"djtooltip\">\n",
       "                            <p id=\"nonprimary\">fps</p>\n",
       "                            <span class=\"djtooltiptext\">(Hz) frames per second - Volumetric Scan Rate</span>\n",
       "                        </div></th><th><div class=\"djtooltip\">\n",
       "                            <p id=\"nonprimary\">bidirectional</p>\n",
       "                            <span class=\"djtooltiptext\">true = bidirectional scanning</span>\n",
       "                        </div></th><th><div class=\"djtooltip\">\n",
       "                            <p id=\"nonprimary\">usecs_per_line</p>\n",
       "                            <span class=\"djtooltiptext\">microseconds per scan line</span>\n",
       "                        </div></th><th><div class=\"djtooltip\">\n",
       "                            <p id=\"nonprimary\">fill_fraction</p>\n",
       "                            <span class=\"djtooltiptext\">raster scan temporal fill fraction (see scanimage)</span>\n",
       "                        </div></th><th><div class=\"djtooltip\">\n",
       "                            <p id=\"nonprimary\">scan_datetime</p>\n",
       "                            <span class=\"djtooltiptext\">datetime of the scan</span>\n",
       "                        </div></th><th><div class=\"djtooltip\">\n",
       "                            <p id=\"nonprimary\">scan_duration</p>\n",
       "                            <span class=\"djtooltiptext\">(seconds) duration of the scan</span>\n",
       "                        </div> </th> </tr> </thead>\n",
       "            <tbody> <tr>  </tr> </tbody>\n",
       "        </table>\n",
       "        \n",
       "        <p>Total: 0</p></div>\n",
       "        "
      ],
      "text/plain": [
       "*session_id    *scan_id    nfields     nchannels     ndepths     nframes     nrois     x     y     z     fps     bidirectional  usecs_per_line fill_fraction  scan_datetime  scan_duration \n",
       "+------------+ +---------+ +---------+ +-----------+ +---------+ +---------+ +-------+ +---+ +---+ +---+ +-----+ +------------+ +------------+ +------------+ +------------+ +------------+\n",
       "\n",
       " (Total: 0)"
      ]
     },
     "execution_count": 16,
     "metadata": {},
     "output_type": "execute_result"
    }
   ],
   "source": [
    "scan.ScanInfo()"
   ]
  },
  {
   "cell_type": "code",
   "execution_count": 17,
   "id": "9d112ac7",
   "metadata": {},
   "outputs": [
    {
     "data": {
      "text/html": [
       "\n",
       "    \n",
       "    <style type=\"text/css\">\n",
       "        .Table{\n",
       "            border-collapse:collapse;\n",
       "        }\n",
       "        .Table th{\n",
       "            background: #A0A0A0; color: #ffffff; padding:4px; border:#f0e0e0 1px solid;\n",
       "            font-weight: normal; font-family: monospace; font-size: 100%;\n",
       "        }\n",
       "        .Table td{\n",
       "            padding:4px; border:#f0e0e0 1px solid; font-size:100%;\n",
       "        }\n",
       "        .Table tr:nth-child(odd){\n",
       "            background: #ffffff;\n",
       "        }\n",
       "        .Table tr:nth-child(even){\n",
       "            background: #f3f1ff;\n",
       "        }\n",
       "        /* Tooltip container */\n",
       "        .djtooltip {\n",
       "        }\n",
       "        /* Tooltip text */\n",
       "        .djtooltip .djtooltiptext {\n",
       "            visibility: hidden;\n",
       "            width: 120px;\n",
       "            background-color: black;\n",
       "            color: #fff;\n",
       "            text-align: center;\n",
       "            padding: 5px 0;\n",
       "            border-radius: 6px;\n",
       "            /* Position the tooltip text - see examples below! */\n",
       "            position: absolute;\n",
       "            z-index: 1;\n",
       "        }\n",
       "        #primary {\n",
       "            font-weight: bold;\n",
       "            color: black;\n",
       "        }\n",
       "        #nonprimary {\n",
       "            font-weight: normal;\n",
       "            color: white;\n",
       "        }\n",
       "\n",
       "        /* Show the tooltip text when you mouse over the tooltip container */\n",
       "        .djtooltip:hover .djtooltiptext {\n",
       "            visibility: visible;\n",
       "        }\n",
       "    </style>\n",
       "    \n",
       "    <b></b>\n",
       "        <div style=\"max-height:1000px;max-width:1500px;overflow:auto;\">\n",
       "        <table border=\"1\" class=\"Table\">\n",
       "            <thead> <tr style=\"text-align: right;\"> <th> <div class=\"djtooltip\">\n",
       "                            <p id=\"primary\">session_id</p>\n",
       "                            <span class=\"djtooltiptext\"></span>\n",
       "                        </div></th><th><div class=\"djtooltip\">\n",
       "                            <p id=\"nonprimary\">subject</p>\n",
       "                            <span class=\"djtooltiptext\">PyRat import uses this for earmark value</span>\n",
       "                        </div></th><th><div class=\"djtooltip\">\n",
       "                            <p id=\"nonprimary\">session_datetime</p>\n",
       "                            <span class=\"djtooltiptext\"></span>\n",
       "                        </div> </th> </tr> </thead>\n",
       "            <tbody> <tr>  </tr> </tbody>\n",
       "        </table>\n",
       "        \n",
       "        <p>Total: 0</p></div>\n",
       "        "
      ],
      "text/plain": [
       "*session_id    subject     session_dateti\n",
       "+------------+ +---------+ +------------+\n",
       "\n",
       " (Total: 0)"
      ]
     },
     "execution_count": 17,
     "metadata": {},
     "output_type": "execute_result"
    }
   ],
   "source": [
    "session.Session()"
   ]
  },
  {
   "cell_type": "markdown",
   "id": "fb0d8e40",
   "metadata": {},
   "source": [
    "#### Populate ingest GUI variables from DJ tables and manual arrays"
   ]
  },
  {
   "cell_type": "code",
   "execution_count": 11,
   "id": "6fbe7c7d",
   "metadata": {},
   "outputs": [],
   "source": [
    "# DJ tables\n",
    "Project = project.fetch('project')\n",
    "Equipment = equipment.Equipment().fetch('scanner')\n",
    "Recording_Location = surgery.AnatomicalLocation().fetch('anatomical_location')\n",
    "\n",
    "dirs_ingested = session.SessionDirectory.fetch('session_dir')\n",
    "SessionsDirArrayingested = get_session_dir_key_from_dir(dirs_ingested)\n",
    "ScanDirArrayingested = get_scan_dir_key_from_dir(dirs_ingested)\n",
    "\n",
    "# Manual arrays\n",
    "s2pparm = ['mini2p_a', 'mini2p_b', 'bench2p_a']"
   ]
  },
  {
   "cell_type": "code",
   "execution_count": 12,
   "id": "2513e817",
   "metadata": {},
   "outputs": [
    {
     "data": {
      "text/plain": [
       "[]"
      ]
     },
     "execution_count": 12,
     "metadata": {},
     "output_type": "execute_result"
    }
   ],
   "source": [
    "ScanDirArrayingested\n"
   ]
  },
  {
   "cell_type": "code",
   "execution_count": 13,
   "id": "c1272a1e",
   "metadata": {},
   "outputs": [
    {
     "data": {
      "text/plain": [
       "['NK_ROS-1485_2023-03-01_scan9FGTSPEH_sess9FGTSPEH',\n",
       " 'RN_OPI-1681_2023-02-16_scan9FGLZLRI_sess9FGLZLRI',\n",
       " 'RN_OPI-1681_2023-02-15_scan9FGLEFJ3_sess9FGLEFJ3',\n",
       " 'RN_OPI-1681_2023-02-15_scan9FGLE1FN_sess9FGLE1FN',\n",
       " 'TR_ROS-1438_2023-01-13_scan9FG1UAQG_sess9FG1UAQG',\n",
       " 'TR_WEZ-8701_2023-01-13_scan9FG1THFD_sess9FG1TAXY',\n",
       " 'TR_WEZ-8701_2023-01-13_scan9FG1TAXY_sess9FG1TAXY',\n",
       " 'TR_WEZ-8701_2023-01-13_scan9FG1SCD4_sess9FG1SCD4',\n",
       " 'JJ_ROS-1438_2022-11-22_16_23scan9FF6U114_sess9FF6U114',\n",
       " 'JJ_ROS-1438_2022-11-22_16_09scan9FF6TT76_sess9FF6TT76',\n",
       " 'JJ_ROS-1438_2022-11-22_15_54scan9FF6TL96_sess9FF6TL96',\n",
       " 'JJ_ROS-1438_2022-11-22_15_35scan9FF6TAW6_sess9FF6TAW6',\n",
       " 'JJ_ROS-1346_2022-06-15_scan9FCJJS40_sess9FCJJS40',\n",
       " 'DB_WEZ-8701_2022-03-18_scan9FB2LN5C_sess9FB2LN5C']"
      ]
     },
     "execution_count": 13,
     "metadata": {},
     "output_type": "execute_result"
    }
   ],
   "source": [
    "sorted_dirs_root"
   ]
  },
  {
   "cell_type": "markdown",
   "id": "b049a5a7",
   "metadata": {},
   "source": [
    "#### Parse user data root dir and sort by date-string in directory name"
   ]
  },
  {
   "cell_type": "code",
   "execution_count": 9,
   "id": "4832c989",
   "metadata": {},
   "outputs": [],
   "source": [
    "dataroot = dj.config['custom']['exp_root_data_dir'][0]\n",
    "dirs_root = [d for d in os.listdir(dataroot) if os.path.isdir(os.path.join(dataroot, d)) and 'sess' in d]\n",
    "\n",
    "sorted_dirs_root = natsorted(dirs_root, key=get_date_key_from_dir, reverse = True)"
   ]
  },
  {
   "attachments": {},
   "cell_type": "markdown",
   "id": "297a65e2",
   "metadata": {},
   "source": [
    "### Generate GUI"
   ]
  },
  {
   "cell_type": "code",
   "execution_count": 18,
   "id": "523b82d8",
   "metadata": {},
   "outputs": [
    {
     "name": "stdout",
     "output_type": "stream",
     "text": [
      "\u001b[1mSelect:                                           Project        Location  Setup        s2p parm\u001b[0m\n"
     ]
    },
    {
     "data": {
      "application/vnd.jupyter.widget-view+json": {
       "model_id": "84b7787d5483460b96392f380f856afc",
       "version_major": 2,
       "version_minor": 0
      },
      "text/plain": [
       "Output()"
      ]
     },
     "metadata": {},
     "output_type": "display_data"
    }
   ],
   "source": [
    "print(\"\\033[1m\" + 'Select:                                           Project        Location  Setup        s2p parm' + \"\\033[0m\" )\n",
    "selected_data = select_sessions(SessionsDirArrayingested, sorted_dirs_root, Project, Recording_Location, Equipment, s2pparm)"
   ]
  },
  {
   "cell_type": "markdown",
   "id": "b919eafa",
   "metadata": {},
   "source": []
  },
  {
   "attachments": {},
   "cell_type": "markdown",
   "id": "bd20d2f6",
   "metadata": {},
   "source": [
    "selected_data"
   ]
  },
  {
   "cell_type": "code",
   "execution_count": 13,
   "id": "41b48960",
   "metadata": {},
   "outputs": [],
   "source": [
    "selected_data"
   ]
  },
  {
   "cell_type": "code",
   "execution_count": 27,
   "id": "654a9b89",
   "metadata": {},
   "outputs": [
    {
     "name": "stderr",
     "output_type": "stream",
     "text": [
      "[2023-03-15 16:43:59,180][INFO]: Deleting 14 rows from `tobiasr_scan`.`scan_location`\n",
      "[2023-03-15 16:43:59,185][INFO]: Deleting 14 rows from `tobiasr_scan`.`scan_path`\n",
      "[2023-03-15 16:43:59,188][INFO]: Deleting 14 rows from `tobiasr_scan`.`scan`\n",
      "[2023-03-15 16:43:59,192][INFO]: Deleting 13 rows from `tobiasr_session`.`project_session`\n",
      "[2023-03-15 16:43:59,195][INFO]: Deleting 13 rows from `tobiasr_session`.`session_directory`\n",
      "[2023-03-15 16:43:59,199][INFO]: Deleting 13 rows from `tobiasr_session`.`session_user`\n",
      "[2023-03-15 16:43:59,203][INFO]: Deleting 1 rows from `tobiasr_session`.`session_note`\n",
      "[2023-03-15 16:43:59,205][INFO]: Deleting 13 rows from `tobiasr_session`.`session`\n",
      "[2023-03-15 16:43:59,209][INFO]: Deleting 5 rows from `tobiasr_subject`.`subject_genotype`\n",
      "[2023-03-15 16:43:59,212][INFO]: Deleting 5 rows from `tobiasr_subject`.`subject`\n",
      "[2023-03-15 16:44:05,112][INFO]: Deletes committed.\n"
     ]
    },
    {
     "data": {
      "text/plain": [
       "5"
      ]
     },
     "execution_count": 27,
     "metadata": {},
     "output_type": "execute_result"
    }
   ],
   "source": [
    "subject.Subject.delete()"
   ]
  },
  {
   "cell_type": "markdown",
   "id": "1874b0d0",
   "metadata": {},
   "source": [
    "### 2.1 Session notes ingest"
   ]
  },
  {
   "cell_type": "code",
   "execution_count": null,
   "id": "0ba0b342",
   "metadata": {},
   "outputs": [],
   "source": []
  },
  {
   "cell_type": "markdown",
   "id": "20416320",
   "metadata": {},
   "source": [
    "## 3. Scan ingest / s2p processing 1st pass"
   ]
  },
  {
   "cell_type": "code",
   "execution_count": null,
   "id": "159a6d62",
   "metadata": {},
   "outputs": [],
   "source": []
  },
  {
   "attachments": {},
   "cell_type": "markdown",
   "id": "0934b933",
   "metadata": {},
   "source": [
    "# Queries"
   ]
  },
  {
   "cell_type": "code",
   "execution_count": null,
   "id": "30144be0",
   "metadata": {
    "vscode": {
     "languageId": "plaintext"
    }
   },
   "outputs": [],
   "source": [
    "# one can execute any mysql queryz within DJ using:\n",
    "dj.conn().query('full sql statement here').fetchall()\n",
    "\n"
   ]
  },
  {
   "cell_type": "markdown",
   "id": "81743b87",
   "metadata": {},
   "source": []
  }
 ],
 "metadata": {
  "jupytext": {
   "formats": "ipynb,py"
  },
  "kernelspec": {
   "display_name": "Python 3 (ipykernel)",
   "language": "python",
   "name": "python3"
  },
  "language_info": {
   "codemirror_mode": {
    "name": "ipython",
    "version": 3
   },
   "file_extension": ".py",
   "mimetype": "text/x-python",
   "name": "python",
   "nbconvert_exporter": "python",
   "pygments_lexer": "ipython3",
   "version": "3.8.16"
  },
  "vscode": {
   "interpreter": {
    "hash": "2888206d04306eefe963095373d1dcce5cd11176f3d6ee4ec3f64dd9e65fd8a1"
   }
  }
 },
 "nbformat": 4,
 "nbformat_minor": 5
}
