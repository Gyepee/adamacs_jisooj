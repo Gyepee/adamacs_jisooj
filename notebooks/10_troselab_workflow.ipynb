{
 "cells": [
  {
   "cell_type": "markdown",
   "id": "86cc1ca7",
   "metadata": {},
   "source": [
    "# Daily workflow - troselab (DRAFT)"
   ]
  },
  {
   "attachments": {},
   "cell_type": "markdown",
   "id": "5eaa674c",
   "metadata": {},
   "source": [
    "`TR TODO: Jupyter ipywidget GUI`\n",
    "\n",
    "(check Daniel's ipysheet mouse entry GUI for inspiration)\n",
    "\n",
    "1. Upload to analysis server\n",
    "    1. automatic (rcopy with file consolidation)?\n",
    "    2. WinSCP?\n",
    "\n",
    "    \n",
    "2. Session ingest - Have this script parse the user folder. \n",
    "    1. retrieve login name  **DONE**\n",
    "    2. parse user storage folder for SessionIDs, ScanIDs **DONE**\n",
    "    3. intersect with 'Session' tables **DONE**\n",
    "    4. FIRST STEP: session ingestion of new data  **DONE**\n",
    "        1. have ipywidget with list of data to be ingested with checkbox  **DONE**\n",
    "        2. have dropdowns next to SessionsFetch that expose 'Project', 'Anatomical Location', 'Equipment' (NOTE: have me or admin accept new entries? Or user?) - have a user default **DONE**\n",
    "            1. ***TODO*** include a mini2p settings shorthand in elements `imaging.ProcessingParamSet`.\n",
    "        3. IMPORTANT: Have dropdown for `Same_Location_as_Session` - default: same session\n",
    "            1. Include `Same_Location_as_Session` key in `Session` table (default same session)\n",
    "            2. Update after Session ingest\n",
    "        4. have central 'START' button **DONE**\n",
    "        5. Combine session entry with automatic RSpace entry (**DONE***)\n",
    "            0. Include rspace in install requirements!\n",
    "            1. Extract parent folder IDs under 'experiments' from RSpace (add RSpace API key and URL to djconfig )\n",
    "            2. Intersect list with animal ID from session ingest\n",
    "            3. Create new document with `YYYY-MM-DD_SessionID`\n",
    "            4. Append content as verbose tables using Pandas df.to_html (`html_table = df.to_html()`)\n",
    "            5. ***DONE*** IMPORTANT: Push RSpace document ID and noteobook URL in Sessions database!\n",
    "        5. OPTIONAL: Have a notebook section to enter and insert Session Notes\n",
    "        6. OPTIONAL: Submit Sessions to pyrat. Not sure if necessary.\n",
    "        7. TODO: Think if splitting projects off to different database suffixes (and differnt associated tables makes sense from here. Seems reasonable given the focus on the user root directory here.\n",
    "        8. ***DONE***: Implement auto animal pyrat ingest if needed. Crashes now.\n",
    "        9. ***DONE***: Make sure that multi-scan sessions are properly treated. Currently they are not detected as such by the GUI. Make sure ingestion behavior is appropriate.\n",
    "\n",
    "\n",
    "3. Scan ingest / 1st stage s2p processing: \n",
    "    1. ***NO!*** have another list with checkboxes (default checled) - now with all first stage scans of the newly ingested sessions. Have dropdown boxes with s2p parameteres. User default is selected. Followed by 'START'\n",
    "    2. TODO: suppress s2p output, just have progress bars\n",
    "    3. OPTIONAL: Have a notebook section to enter and insert Scan Notes\n",
    "    4. OPTIONAL: Submit sessions, scans and Notes to RSPACE! Upload s2p average image, max image, Source image and Rastermap \n",
    "    5. Upload templates to rspace session, upload movie to rspace session\n",
    "    \n",
    "\n",
    "4. Scan Curation\n",
    "    1. DIFFERENT NOTEBOOK (or different Notebook section)\n",
    "    2. Make intersection of folder with database\n",
    "        1. list _all_ scans\n",
    "        2. have all non-curated red - the others green\n",
    "        3. bhave non-processed scans grey\n",
    "        4. have 'CURATE LOCALLY WITH s2P' buttons behind all scans. This button should spawn a local suite2p GUI which directly loads the respective suite2p stats.npy file from the server. Folder settings for server need to be set in datajoint.json file.\n",
    "\n",
    "5. SERVER: Database backup and Data folder backup\n",
    "    1. Have cronjob backup database to ana2 and isilon (midnight, incremental - only add, no delete. Increment ID to be reversible?)\n",
    "    2. Have cronjob backup data folders to ana2 and isilon (midnight, incremental - only add, no delete)"
   ]
  },
  {
   "cell_type": "markdown",
   "id": "634ec7b4",
   "metadata": {},
   "source": [
    "## Login\n",
    "\n",
    "Either log in via a local config file (see [01_pipeline](./01_pipeline.ipynb)), or enter login information manually. If you are don't have your login information, contact the administrator.\n"
   ]
  },
  {
   "cell_type": "code",
   "execution_count": 1,
   "id": "0b1bebf0",
   "metadata": {},
   "outputs": [
    {
     "name": "stderr",
     "output_type": "stream",
     "text": [
      "[2023-03-20 08:23:26,162][INFO]: Connecting tobiasr@172.26.128.53:3306\n",
      "[2023-03-20 08:23:26,220][INFO]: Connected tobiasr@172.26.128.53:3306\n"
     ]
    },
    {
     "data": {
      "text/plain": [
       "'0.14.0'"
      ]
     },
     "execution_count": 1,
     "metadata": {},
     "output_type": "execute_result"
    }
   ],
   "source": [
    "import os\n",
    "# change to the upper level folder to detect dj_local_conf.json\n",
    "if os.path.basename(os.getcwd())=='notebooks': os.chdir('..')\n",
    "assert os.path.basename(os.getcwd())=='adamacs', (\"Please move to the main directory\")\n",
    "from adamacs.pipeline import subject, session, equipment, surgery, event, trial, imaging\n",
    "from adamacs.ingest import session as isess\n",
    "import datajoint as dj\n",
    "from rspace_client.eln import eln\n",
    "import pandas as pd\n",
    "dj.__version__"
   ]
  },
  {
   "attachments": {},
   "cell_type": "markdown",
   "id": "7042be7d",
   "metadata": {},
   "source": [
    "### RSpace connection"
   ]
  },
  {
   "cell_type": "code",
   "execution_count": 2,
   "id": "c5db12e4",
   "metadata": {},
   "outputs": [
    {
     "data": {
      "text/plain": [
       "{'message': 'OK', 'rspaceVersion': '1.80.1'}"
      ]
     },
     "execution_count": 2,
     "metadata": {},
     "output_type": "execute_result"
    }
   ],
   "source": [
    "URL=dj.config['custom'].get('rspace_URL')\n",
    "API_KEY=dj.config['custom'].get('rspace_API_key')\n",
    "api = eln.ELNClient(URL, API_KEY)\n",
    "api.get_status()"
   ]
  },
  {
   "cell_type": "markdown",
   "id": "d29453ed",
   "metadata": {},
   "source": [
    "## Activation\n",
    "Next, import from `adamacs.pipeline` to activate the relevant schema."
   ]
  },
  {
   "cell_type": "code",
   "execution_count": 3,
   "id": "f27dcb14",
   "metadata": {},
   "outputs": [],
   "source": [
    "from adamacs.utility import *\n",
    "from adamacs.nbgui import *\n",
    "from adamacs.pipeline import subject, session, surgery, scan, equipment"
   ]
  },
  {
   "cell_type": "markdown",
   "id": "8cd8be94",
   "metadata": {},
   "source": [
    "Assign easy names for relevant tables"
   ]
  },
  {
   "cell_type": "code",
   "execution_count": 4,
   "id": "30485290",
   "metadata": {},
   "outputs": [],
   "source": [
    "sub, lab, protocol, line, mutation, user, project, subject_genotype, subject_death = (\n",
    "    subject.Subject(), subject.Lab(), subject.Protocol(), subject.Line(), \n",
    "    subject.Mutation(), subject.User(), subject.Project(), subject.SubjectGenotype(), \n",
    "    subject.SubjectDeath()\n",
    "    )"
   ]
  },
  {
   "cell_type": "markdown",
   "id": "3d21a66a",
   "metadata": {},
   "source": [
    "## Cleaning. Use with caution!"
   ]
  },
  {
   "cell_type": "code",
   "execution_count": 66,
   "id": "0d06a401",
   "metadata": {},
   "outputs": [
    {
     "name": "stderr",
     "output_type": "stream",
     "text": [
      "[2023-03-20 08:23:15,199][INFO]: Deleting 12 rows from `tobiasr_scan`.`_scan_info__field`\n",
      "[2023-03-20 08:23:15,203][INFO]: Deleting 12 rows from `tobiasr_scan`.`_scan_info__scan_file`\n",
      "[2023-03-20 08:23:15,206][INFO]: Deleting 12 rows from `tobiasr_scan`.`_scan_info`\n",
      "[2023-03-20 08:23:15,209][INFO]: Deleting 14 rows from `tobiasr_scan`.`scan_location`\n",
      "[2023-03-20 08:23:15,213][INFO]: Deleting 14 rows from `tobiasr_scan`.`scan_path`\n",
      "[2023-03-20 08:23:15,252][INFO]: Deleting 3528 rows from `tobiasr_imaging`.`__activity__trace`\n",
      "[2023-03-20 08:23:15,256][INFO]: Deleting 3 rows from `tobiasr_imaging`.`__activity`\n",
      "[2023-03-20 08:23:15,399][INFO]: Deleting 3528 rows from `tobiasr_imaging`.`__fluorescence__trace`\n",
      "[2023-03-20 08:23:15,403][INFO]: Deleting 3 rows from `tobiasr_imaging`.`__fluorescence`\n",
      "[2023-03-20 08:23:15,424][INFO]: Deleting 1899 rows from `tobiasr_imaging`.`__mask_classification__mask_type`\n",
      "[2023-03-20 08:23:15,428][INFO]: Deleting 3 rows from `tobiasr_imaging`.`__mask_classification`\n",
      "[2023-03-20 08:23:15,485][INFO]: Deleting 3528 rows from `tobiasr_imaging`.`__segmentation__mask`\n",
      "[2023-03-20 08:23:15,490][INFO]: Deleting 3 rows from `tobiasr_imaging`.`__segmentation`\n",
      "[2023-03-20 08:23:15,492][INFO]: Deleting 3 rows from `tobiasr_imaging`.`curation`\n",
      "[2023-03-20 08:23:15,496][INFO]: Deleting 1 rows from `tobiasr_imaging`.`__processing`\n",
      "[2023-03-20 08:23:15,499][INFO]: Deleting 2 rows from `tobiasr_imaging`.`processing_task`\n",
      "[2023-03-20 08:23:15,501][INFO]: Deleting 14 rows from `tobiasr_scan`.`scan`\n",
      "[2023-03-20 08:23:15,505][INFO]: Deleting 13 rows from `tobiasr_session`.`project_session`\n",
      "[2023-03-20 08:23:15,509][INFO]: Deleting 13 rows from `tobiasr_session`.`session_directory`\n",
      "[2023-03-20 08:23:15,513][INFO]: Deleting 13 rows from `tobiasr_session`.`session_rspace`\n",
      "[2023-03-20 08:23:15,517][INFO]: Deleting 13 rows from `tobiasr_session`.`session_user`\n",
      "[2023-03-20 08:23:15,521][INFO]: Deleting 1 rows from `tobiasr_session`.`session_note`\n",
      "[2023-03-20 08:23:15,524][INFO]: Deleting 13 rows from `tobiasr_session`.`session`\n",
      "[2023-03-20 08:23:17,563][INFO]: Deletes committed.\n"
     ]
    },
    {
     "data": {
      "text/plain": [
       "13"
      ]
     },
     "execution_count": 66,
     "metadata": {},
     "output_type": "execute_result"
    }
   ],
   "source": [
    "session.Session.delete()"
   ]
  },
  {
   "cell_type": "markdown",
   "id": "807a36ef",
   "metadata": {},
   "source": [
    "## 1. Data upload\n",
    "(not implemented currently)"
   ]
  },
  {
   "cell_type": "markdown",
   "id": "d83b5668",
   "metadata": {},
   "source": [
    "## 2. Session ingest"
   ]
  },
  {
   "attachments": {},
   "cell_type": "markdown",
   "id": "cb2fabde",
   "metadata": {},
   "source": [
    "### Define ingest GUI functions"
   ]
  },
  {
   "cell_type": "code",
   "execution_count": 5,
   "id": "4e8164fb",
   "metadata": {},
   "outputs": [],
   "source": [
    "# Tobias Rose 2023: Routine ingest helpers\n",
    "\n",
    "import ipywidgets as widgets\n",
    "from natsort import natsorted, ns\n",
    "import re\n",
    "from tqdm import tqdm\n",
    "\n",
    "def select_sessions(IngestedSessionDirA, AvailableSessionDirB, Project, Recording_Location, Equipment, s2pparm, SessionNotes):\n",
    "    \n",
    "    # Personal default values\n",
    "    user_defaults = get_user_defaults(AvailableSessionDirB)\n",
    "       \n",
    "    # Define the widgets\n",
    "    session_dropdowns = []\n",
    "    session_checkboxes = []\n",
    "    for i, session_list in enumerate(AvailableSessionDirB):\n",
    "        # Dropdowns for Project, Recording Location, Equipment\n",
    "\n",
    "        current_session = get_session_key_from_dir([session_list])\n",
    "\n",
    "        # check if directory session is already ingested - if yes: populate GUI with table values. If no: use user defaults\n",
    "        query = session.Session() & f'session_id = \"{current_session[0]}\"'\n",
    "\n",
    "        count = len(query.fetch('session_id'))\n",
    "        # print(current_session)\n",
    "        \n",
    "        if count > 0:\n",
    "            # print(\"HELLO\")\n",
    "            # get the project associated with a session\n",
    "            query = session.ProjectSession() & f'session_id = \"{current_session[0]}\"'\n",
    "            project_dropdown_value = query.fetch(\"project\")\n",
    "            # get the location associated with a session\n",
    "            query = session.Session() * scan.ScanLocation() & f'session_id = \"{current_session[0]}\"'\n",
    "            location_dropdown_value = query.fetch(\"anatomical_location\")\n",
    "            # get the equipment associated with a session\n",
    "            query = session.Session() * scan.Scan() & f'session_id = \"{current_session[0]}\"'\n",
    "            equipment_dropdown_value = query.fetch(\"scanner\")\n",
    "            # get the note associated with a session\n",
    "            query = session.SessionNote() & f'session_id = \"{current_session[0]}\"'\n",
    "            session_note_textbox_value = query.fetch(\"session_note\")\n",
    "            if len(session_note_textbox_value) == 0:\n",
    "                session_note_textbox_value = [\"none\"]    \n",
    "        else:\n",
    "            project_dropdown_value = Project[user_defaults[i][0]]\n",
    "            location_dropdown_value = [Recording_Location[user_defaults[i][1]]]\n",
    "            equipment_dropdown_value = [Equipment[user_defaults[i][2]]]\n",
    "            session_note_textbox_value = [\"none\"]\n",
    "        \n",
    "        project_dropdown = widgets.Dropdown(options=Project, value=project_dropdown_value, description=\"Project:\")\n",
    "        location_dropdown = widgets.Dropdown(options=Recording_Location, value=location_dropdown_value[0], description=\"Location:\")\n",
    "        equipment_dropdown = widgets.Dropdown(options=Equipment, value=equipment_dropdown_value[0], description=\"Setup:\")\n",
    "        s2pparms_dropdown = widgets.Dropdown(options=s2pparm, value=s2pparm[user_defaults[i][3]], description=\"s2p parm:\")\n",
    "        session_note_textbox = widgets.Text(value=session_note_textbox_value[0], description='Session comment:')\n",
    "\n",
    "        session_dropdowns.append((project_dropdown, location_dropdown, equipment_dropdown, s2pparms_dropdown, session_note_textbox))\n",
    "\n",
    "        # Checkbox for Process?\n",
    "        session_checkbox = widgets.Checkbox(description='run?', layout=widgets.Layout(width='auto'))\n",
    "        session_checkboxes.append(session_checkbox)\n",
    "\n",
    "    # Display the widgets\n",
    "    output = widgets.Output()\n",
    "\n",
    "    with output:\n",
    "        # Display the Sessions labels and associated dropdowns and checkboxes\n",
    "        hbox_list = []\n",
    "        for i, session_list in enumerate(AvailableSessionDirB): #unique_directory_strings(SessionDirA, SessionDirB)\n",
    "            # Create an HBox to hold the label and associated dropdowns and checkbox\n",
    "            hbox = widgets.HBox()\n",
    "            hbox.children = [\n",
    "                widgets.Label(value=session_list + ':', layout=widgets.Layout(width='1800px')), \n",
    "                session_dropdowns[i][0],\n",
    "                session_dropdowns[i][1],\n",
    "                session_dropdowns[i][2],\n",
    "                session_dropdowns[i][3],\n",
    "                session_dropdowns[i][4],\n",
    "                session_checkboxes[i]\n",
    "            ]\n",
    "            if session_list in unique_directory_strings(IngestedSessionDirA, AvailableSessionDirB):\n",
    "                hbox.children[0].value = '*' + session_list + ':'\n",
    "                hbox.children[6].value = True\n",
    "            else:\n",
    "                hbox.children[6].value = False\n",
    "                hbox.children[1].disabled = True\n",
    "                hbox.children[2].disabled = True\n",
    "                hbox.children[3].disabled = True\n",
    "                hbox.children[4].disabled = True\n",
    "                hbox.children[5].disabled = True\n",
    "            hbox_list.append(hbox)\n",
    "\n",
    "        vbox = widgets.VBox(hbox_list, layout=widgets.Layout(flex='0 0 auto', overflow_y='scroll'))\n",
    "        # Display the commit button\n",
    "        commit_button = widgets.Button(description='Commit', layout=widgets.Layout(width='auto'))\n",
    "        display(vbox, commit_button)\n",
    "\n",
    "        # Define the callback function for the commit button\n",
    "        def commit_button_clicked(b):\n",
    "            selected_sessions = [AvailableSessionDirB[i] for i in range(len(AvailableSessionDirB)) if session_checkboxes[i].value]\n",
    "            selected_projects = [session_dropdowns[i][0].value for i in range(len(AvailableSessionDirB)) if session_checkboxes[i].value]\n",
    "            selected_locations = [session_dropdowns[i][1].value for i in range(len(AvailableSessionDirB)) if session_checkboxes[i].value]\n",
    "            selected_equipment = [session_dropdowns[i][2].value for i in range(len(AvailableSessionDirB)) if session_checkboxes[i].value]\n",
    "            selected_s2pparms = [session_dropdowns[i][3].value for i in range(len(AvailableSessionDirB)) if session_checkboxes[i].value]\n",
    "            entered_session_note = [session_dropdowns[i][4].value for i in range(len(AvailableSessionDirB)) if session_checkboxes[i].value]\n",
    "\n",
    "            selected_scans = get_scan_key_from_dir(selected_sessions)\n",
    "            selected_sessions = get_session_key_from_dir(selected_sessions)\n",
    "\n",
    "            output.clear_output()\n",
    "            with output:\n",
    "                # print('Selected Sessions:', selected_sessions)\n",
    "                # print('Selected Scans:', selected_scans)\n",
    "                # print('Selected Projects:', selected_projects)\n",
    "                # print('Selected Recording Locations:', selected_locations)\n",
    "                # print('Selected Equipment:', selected_equipment)\n",
    "                # print('Selected S2PParms:', selected_s2pparms)\n",
    "\n",
    "                # Ingest selected sessions here\n",
    "                populate_settings = {'display_progress': False, 'suppress_errors': True, 'processes': 1}\n",
    "\n",
    "                for i, sessi in enumerate(tqdm(selected_sessions, desc='Current Session: {}')):\n",
    "                    # ingest sessions\n",
    "                    isess.ingest_session_scan(sessi, verbose=False, project_key=selected_projects[i], equipment_key=selected_equipment[i], location_key=selected_locations[i], software_key='ScanImage')\n",
    "                    # update / insert session info based on user choice from above\n",
    "                    try:\n",
    "                        session.SessionNote.insert1({'session_id': sessi, 'session_note': entered_session_note[i]})\n",
    "                    except:\n",
    "                        session.SessionNote.delete_quick({'session_id': sessi})\n",
    "                        session.SessionNote.insert1({'session_id': sessi, 'session_note': entered_session_note[i]})\n",
    "                    \n",
    "                    # update scaninfo based on user choice from above\n",
    "                    # get the scans associated with a session\n",
    "                    query = session.Session() * scan.Scan() & f'session_id = \"{sessi}\"'\n",
    "                    scans_to_process = query.fetch(\"scan_id\")\n",
    "\n",
    "                    for j, scansi in enumerate(scans_to_process):\n",
    "                        try:\n",
    "                            scan.Scan.update1({'session_id': sessi, 'scan_id': scansi, 'scan_notes': entered_session_note[i]})\n",
    "                        except:\n",
    "                            scan.Scan.insert1({'session_id': sessi, 'scan_id': scansi, 'scan_notes': entered_session_note[i]})\n",
    "                        try:\n",
    "                            scan.ScanLocation.update1({'session_id': sessi, 'scan_id': scansi, 'anatomical_location': selected_locations[i]})\n",
    "                        except: \n",
    "                            scan.ScanLocation.insert1({'session_id': sessi, 'scan_id': scansi, 'anatomical_location': selected_locations[i]})\n",
    "                        \n",
    "                        # print('Ingested and processed Scan:', scansi)\n",
    "                    \n",
    "                    # SCAN Processing \n",
    "                    scan.ScanInfo.populate(**populate_settings)\n",
    "\n",
    "                    for j, scansi in enumerate(scans_to_process):\n",
    "                        query = session.SessionDirectory() & 'session_id = \"' + sessi + '\"'\n",
    "                        print(query)\n",
    "                        dir_proc = query.fetch('session_dir')[0]\n",
    "                    imaging.ProcessingTask.insert1((sessi, scansi, 0, dir_proc, 'trigger'), skip_duplicates=True)\n",
    "                    ## Make RSpace entries \n",
    "\n",
    "                    query = session.Session() * subject.User() & f'session_id = \"{sessi}\"'\n",
    "                    animalID = query.fetch(\"subject\")[0]\n",
    "                    date = query.fetch(\"session_datetime\")[0].strftime(\"%Y-%m-%d\")\n",
    "                    userID = query.fetch(\"initials\")[0]\n",
    "                    sessionID = query.fetch(\"session_id\")[0]\n",
    "                    fetchtable = session.Session() * scan.ScanPath() * session.SessionUser() * session.ProjectSession() * session.SessionNote() * scan.Scan() & f'session_id = \"{sessi}\"'\n",
    "\n",
    "                    make_rspace_session_document(animalID, sessi, date, userID, fetchtable) # TODOO\n",
    "                \n",
    "                \n",
    "                print('Ingested Sessions:', selected_sessions)\n",
    "\n",
    "        # Attach the callback function to the commit button\n",
    "        commit_button.on_click(commit_button_clicked)\n",
    "\n",
    "    # Display the output\n",
    "    display(output)\n",
    "        \n",
    "def make_rspace_session_document(animalID, sessionID, date, userID, fetchtable):\n",
    "\n",
    "    # find 'Experiments' folder and get ID\n",
    "    folders = api.list_folder_tree()\n",
    "    experiments_ids = []\n",
    "    for record in folders['records']:\n",
    "        if record['name'] == 'Experiments':\n",
    "            experiments_ids.append(record['id'])\n",
    "\n",
    "    # find folders under 'Experiments' folder\n",
    "    names_and_ids = []\n",
    "    subfolders = api.list_folder_tree(experiments_ids[0])\n",
    "    names_and_ids.append([(record['name'], record['id']) for record in subfolders['records']])\n",
    "\n",
    "    # find matches with animal IDs\n",
    "    match_found = any(animalID in item[0] for sublist in names_and_ids for item in sublist)\n",
    "\n",
    "    # if found, find folder id matching that animal\n",
    "    if match_found:\n",
    "        save_folder_id = [x[1] for sublist in names_and_ids for x in sublist if animalID in x[0]][0]\n",
    "    else:\n",
    "        # if not generate the directory\n",
    "        new_folder = api.create_folder(name=f\"{userID}_{animalID}\", parent_folder_id=experiments_ids[0], notebook=True)\n",
    "        save_folder_id = new_folder['id']\n",
    "\n",
    "\n",
    "    # find matches with document IDs\n",
    "\n",
    "    # find all documents in the animal folder\n",
    "    all_animal_documents = api.list_folder_tree(save_folder_id)\n",
    "    doc_names_and_ids = []\n",
    "    doc_names_and_ids.append([(record['name'], record['id']) for record in all_animal_documents['records']])\n",
    "    # find matches with sessionID\n",
    "    match_found = any(sessionID in item[0] for sublist in doc_names_and_ids for item in sublist)\n",
    "\n",
    "    if match_found:\n",
    "        ids = [id for string, id in doc_names_and_ids[0] if sessionID in string]\n",
    "        new_doc = {\"id\": ids[0]}\n",
    "    else:\n",
    "        new_doc = api.create_document(name=f\"{date}_{sessionID}\", parent_folder_id=save_folder_id)\n",
    "\n",
    "    # create RSpace document\n",
    "    df = fetchtable.fetch(format='frame')\n",
    "    html_table = df.to_html()\n",
    "    content = html_table\n",
    "    api.append_content(new_doc['id'], content)\n",
    "\n",
    "    # ingest document in rspace table\n",
    "    session.SessionRspace.insert1({'session_id': sessionID, 'rspace_id': new_doc['id']}, skip_duplicates=True)\n",
    "    # ingest animal folder id in subject Rspace table\n",
    "    subject.SubjectRspace.insert1({'subject': animalID, 'rspace_subject_id': save_folder_id}, skip_duplicates=True)\n",
    "    # session.SessionRspace.insert1({'rspace_id': new_doc['id'], 'rspace_url': new_doc['_links'][0]['link']})\n",
    "def get_date_key_from_dir(directory):\n",
    "    return directory.split(\"_\")[-1]\n",
    "\n",
    "def get_session_dir_key_from_dir(directory):\n",
    "    return [path.split('/')[-1] for path in directory]\n",
    "     \n",
    "def get_scan_dir_key_from_dir(directory):\n",
    "    return [path.split('/')[-1] for path in directory]\n",
    "\n",
    "def get_session_key_from_dir(string):\n",
    "    result = [re.search(r'sess\\S+', item).group(0) for item in string]\n",
    "    return result\n",
    "\n",
    "def get_user_initials_from_dir(string):\n",
    "    result = [name[:2] for name in string]\n",
    "    return result\n",
    "\n",
    "def get_scan_key_from_dir(string):\n",
    "    result = [re.search(r'scan\\S+_', item).group(0)[:-1] for item in string]\n",
    "    return result\n",
    "\n",
    "def unique_directory_strings(dirs1, dirs2):\n",
    "    set1 = set(dirs1)\n",
    "    set2 = set(dirs2)\n",
    "    common_dirs = list(set1.intersection(set2))\n",
    "    unique_dirs = list(set(set1.union(set2)) - set(common_dirs))\n",
    "    return unique_dirs\n",
    "\n",
    "def get_user_defaults(directory):\n",
    "    RN = [1, 1, 2, 0]\n",
    "    JJ = [2, 6, 2, 0]\n",
    "    TR = [0, 6, 3, 0]\n",
    "    DB = [4, 0, 1, 2]\n",
    "    NK = [5, 0, 2, 2]\n",
    "    \n",
    "    user_initials = get_user_initials_from_dir(directory)\n",
    "\n",
    "    user_arrays = {}\n",
    "    for initial in user_initials:\n",
    "        values = locals()[initial]\n",
    "        user_arrays[initial] = values\n",
    "\n",
    "    new_array = [user_arrays[initial] for initial in user_initials]\n",
    "    return new_array"
   ]
  },
  {
   "cell_type": "markdown",
   "id": "fb0d8e40",
   "metadata": {},
   "source": [
    "#### Populate ingest GUI variables from DJ tables and manual arrays"
   ]
  },
  {
   "cell_type": "code",
   "execution_count": 6,
   "id": "6fbe7c7d",
   "metadata": {},
   "outputs": [],
   "source": [
    "# DJ tables\n",
    "Project = project.fetch('project')\n",
    "Equipment = equipment.Equipment().fetch('scanner')\n",
    "Recording_Location = surgery.AnatomicalLocation().fetch('anatomical_location')\n",
    "\n",
    "session_dirs_ingested = session.SessionDirectory.fetch('session_dir')\n",
    "scan_dirs_ingested = scan.ScanPath.fetch('path')\n",
    "SessionsDirArrayingested = get_session_dir_key_from_dir(session_dirs_ingested)\n",
    "ScanDirArrayingested = get_scan_dir_key_from_dir(scan_dirs_ingested)\n",
    "\n",
    "SessionNotes = session.SessionNote.fetch('session_note')\n",
    "\n",
    "# Manual arrays\n",
    "s2pparm = ['mini2p_a', 'mini2p_b', 'bench2p_a']"
   ]
  },
  {
   "cell_type": "code",
   "execution_count": 7,
   "id": "47f95185",
   "metadata": {},
   "outputs": [
    {
     "data": {
      "text/html": [
       "\n",
       "    \n",
       "    <style type=\"text/css\">\n",
       "        .Table{\n",
       "            border-collapse:collapse;\n",
       "        }\n",
       "        .Table th{\n",
       "            background: #A0A0A0; color: #ffffff; padding:4px; border:#f0e0e0 1px solid;\n",
       "            font-weight: normal; font-family: monospace; font-size: 100%;\n",
       "        }\n",
       "        .Table td{\n",
       "            padding:4px; border:#f0e0e0 1px solid; font-size:100%;\n",
       "        }\n",
       "        .Table tr:nth-child(odd){\n",
       "            background: #ffffff;\n",
       "        }\n",
       "        .Table tr:nth-child(even){\n",
       "            background: #f3f1ff;\n",
       "        }\n",
       "        /* Tooltip container */\n",
       "        .djtooltip {\n",
       "        }\n",
       "        /* Tooltip text */\n",
       "        .djtooltip .djtooltiptext {\n",
       "            visibility: hidden;\n",
       "            width: 120px;\n",
       "            background-color: black;\n",
       "            color: #fff;\n",
       "            text-align: center;\n",
       "            padding: 5px 0;\n",
       "            border-radius: 6px;\n",
       "            /* Position the tooltip text - see examples below! */\n",
       "            position: absolute;\n",
       "            z-index: 1;\n",
       "        }\n",
       "        #primary {\n",
       "            font-weight: bold;\n",
       "            color: black;\n",
       "        }\n",
       "        #nonprimary {\n",
       "            font-weight: normal;\n",
       "            color: white;\n",
       "        }\n",
       "\n",
       "        /* Show the tooltip text when you mouse over the tooltip container */\n",
       "        .djtooltip:hover .djtooltiptext {\n",
       "            visibility: visible;\n",
       "        }\n",
       "    </style>\n",
       "    \n",
       "    <b>Parameter set used for processing of calcium imaging data</b>\n",
       "        <div style=\"max-height:1000px;max-width:1500px;overflow:auto;\">\n",
       "        <table border=\"1\" class=\"Table\">\n",
       "            <thead> <tr style=\"text-align: right;\"> <th> <div class=\"djtooltip\">\n",
       "                            <p id=\"primary\">paramset_idx</p>\n",
       "                            <span class=\"djtooltiptext\"></span>\n",
       "                        </div></th><th><div class=\"djtooltip\">\n",
       "                            <p id=\"nonprimary\">processing_method</p>\n",
       "                            <span class=\"djtooltiptext\"></span>\n",
       "                        </div></th><th><div class=\"djtooltip\">\n",
       "                            <p id=\"nonprimary\">paramset_desc</p>\n",
       "                            <span class=\"djtooltiptext\"></span>\n",
       "                        </div></th><th><div class=\"djtooltip\">\n",
       "                            <p id=\"nonprimary\">param_set_hash</p>\n",
       "                            <span class=\"djtooltiptext\"></span>\n",
       "                        </div></th><th><div class=\"djtooltip\">\n",
       "                            <p id=\"nonprimary\">params</p>\n",
       "                            <span class=\"djtooltiptext\">dictionary of all applicable parameters</span>\n",
       "                        </div> </th> </tr> </thead>\n",
       "            <tbody> <tr> <td>0</td>\n",
       "<td>suite2p</td>\n",
       "<td>TR: Mini2p (single channel, single plane, non-rigid, 15Hz)</td>\n",
       "<td>96a32724-4dd0-4faf-c88d-6073ad7199a2</td>\n",
       "<td>=BLOB=</td></tr><tr><td>1</td>\n",
       "<td>suite2p</td>\n",
       "<td>TR: Bench2p (single channel, single plane, non-rigid, 30Hz)</td>\n",
       "<td>c2e80fa9-6fdb-5706-48ac-b15cf1449e92</td>\n",
       "<td>=BLOB=</td> </tr> </tbody>\n",
       "        </table>\n",
       "        \n",
       "        <p>Total: 2</p></div>\n",
       "        "
      ],
      "text/plain": [
       "*paramset_idx  processing_met paramset_desc  param_set_hash params    \n",
       "+------------+ +------------+ +------------+ +------------+ +--------+\n",
       "0              suite2p        TR: Mini2p (si 96a32724-4dd0- =BLOB=    \n",
       "1              suite2p        TR: Bench2p (s c2e80fa9-6fdb- =BLOB=    \n",
       " (Total: 2)"
      ]
     },
     "execution_count": 7,
     "metadata": {},
     "output_type": "execute_result"
    }
   ],
   "source": [
    "imaging.ProcessingParamSet()"
   ]
  },
  {
   "cell_type": "markdown",
   "id": "b049a5a7",
   "metadata": {},
   "source": [
    "#### Parse user data root dir and sort by date-string in directory name"
   ]
  },
  {
   "cell_type": "code",
   "execution_count": 8,
   "id": "4832c989",
   "metadata": {},
   "outputs": [],
   "source": [
    "dataroot = dj.config['custom']['exp_root_data_dir'][0]\n",
    "dirs_root = [d for d in os.listdir(dataroot) if os.path.isdir(os.path.join(dataroot, d)) and 'sess' in d]\n",
    "sorted_dirs_root = natsorted(dirs_root, key=get_date_key_from_dir, reverse = True)"
   ]
  },
  {
   "attachments": {},
   "cell_type": "markdown",
   "id": "297a65e2",
   "metadata": {},
   "source": [
    "### Generate Ingest GUI"
   ]
  },
  {
   "cell_type": "markdown",
   "id": "93fef832",
   "metadata": {},
   "source": []
  },
  {
   "cell_type": "code",
   "execution_count": 9,
   "id": "523b82d8",
   "metadata": {},
   "outputs": [
    {
     "name": "stdout",
     "output_type": "stream",
     "text": [
      "\u001b[1mINGEST GUI\u001b[0m\n"
     ]
    },
    {
     "data": {
      "application/vnd.jupyter.widget-view+json": {
       "model_id": "807bfccdfbc04f53ac9b00c176ef16e5",
       "version_major": 2,
       "version_minor": 0
      },
      "text/plain": [
       "Output()"
      ]
     },
     "metadata": {},
     "output_type": "display_data"
    }
   ],
   "source": [
    "# print(\"\\033[1m\" + 'Select:                                           Project        Location  Setup        s2p parm' + \"\\033[0m\" )\n",
    "print(\"\\033[1m\" + 'INGEST GUI' + \"\\033[0m\" )\n",
    "selected_data = select_sessions(SessionsDirArrayingested, sorted_dirs_root, Project, Recording_Location, Equipment, s2pparm, SessionNotes)"
   ]
  },
  {
   "cell_type": "code",
   "execution_count": 10,
   "id": "d04010cb",
   "metadata": {},
   "outputs": [
    {
     "data": {
      "text/html": [
       "\n",
       "    \n",
       "    <style type=\"text/css\">\n",
       "        .Table{\n",
       "            border-collapse:collapse;\n",
       "        }\n",
       "        .Table th{\n",
       "            background: #A0A0A0; color: #ffffff; padding:4px; border:#f0e0e0 1px solid;\n",
       "            font-weight: normal; font-family: monospace; font-size: 100%;\n",
       "        }\n",
       "        .Table td{\n",
       "            padding:4px; border:#f0e0e0 1px solid; font-size:100%;\n",
       "        }\n",
       "        .Table tr:nth-child(odd){\n",
       "            background: #ffffff;\n",
       "        }\n",
       "        .Table tr:nth-child(even){\n",
       "            background: #f3f1ff;\n",
       "        }\n",
       "        /* Tooltip container */\n",
       "        .djtooltip {\n",
       "        }\n",
       "        /* Tooltip text */\n",
       "        .djtooltip .djtooltiptext {\n",
       "            visibility: hidden;\n",
       "            width: 120px;\n",
       "            background-color: black;\n",
       "            color: #fff;\n",
       "            text-align: center;\n",
       "            padding: 5px 0;\n",
       "            border-radius: 6px;\n",
       "            /* Position the tooltip text - see examples below! */\n",
       "            position: absolute;\n",
       "            z-index: 1;\n",
       "        }\n",
       "        #primary {\n",
       "            font-weight: bold;\n",
       "            color: black;\n",
       "        }\n",
       "        #nonprimary {\n",
       "            font-weight: normal;\n",
       "            color: white;\n",
       "        }\n",
       "\n",
       "        /* Show the tooltip text when you mouse over the tooltip container */\n",
       "        .djtooltip:hover .djtooltiptext {\n",
       "            visibility: visible;\n",
       "        }\n",
       "    </style>\n",
       "    \n",
       "    \n",
       "        <div style=\"max-height:1000px;max-width:1500px;overflow:auto;\">\n",
       "        <table border=\"1\" class=\"Table\">\n",
       "            <thead> <tr style=\"text-align: right;\"> <th> <div class=\"djtooltip\">\n",
       "                            <p id=\"primary\">session_id</p>\n",
       "                            <span class=\"djtooltiptext\"></span>\n",
       "                        </div></th><th><div class=\"djtooltip\">\n",
       "                            <p id=\"primary\">scan_id</p>\n",
       "                            <span class=\"djtooltiptext\"></span>\n",
       "                        </div></th><th><div class=\"djtooltip\">\n",
       "                            <p id=\"primary\">user_id</p>\n",
       "                            <span class=\"djtooltiptext\"></span>\n",
       "                        </div></th><th><div class=\"djtooltip\">\n",
       "                            <p id=\"primary\">path</p>\n",
       "                            <span class=\"djtooltiptext\"></span>\n",
       "                        </div></th><th><div class=\"djtooltip\">\n",
       "                            <p id=\"nonprimary\">scanner</p>\n",
       "                            <span class=\"djtooltiptext\"></span>\n",
       "                        </div></th><th><div class=\"djtooltip\">\n",
       "                            <p id=\"nonprimary\">acq_software</p>\n",
       "                            <span class=\"djtooltiptext\"></span>\n",
       "                        </div></th><th><div class=\"djtooltip\">\n",
       "                            <p id=\"nonprimary\">scan_notes</p>\n",
       "                            <span class=\"djtooltiptext\">free-notes</span>\n",
       "                        </div></th><th><div class=\"djtooltip\">\n",
       "                            <p id=\"nonprimary\">nfields</p>\n",
       "                            <span class=\"djtooltiptext\">number of fields</span>\n",
       "                        </div></th><th><div class=\"djtooltip\">\n",
       "                            <p id=\"nonprimary\">nchannels</p>\n",
       "                            <span class=\"djtooltiptext\">number of channels</span>\n",
       "                        </div></th><th><div class=\"djtooltip\">\n",
       "                            <p id=\"nonprimary\">ndepths</p>\n",
       "                            <span class=\"djtooltiptext\">Number of scanning depths (planes)</span>\n",
       "                        </div></th><th><div class=\"djtooltip\">\n",
       "                            <p id=\"nonprimary\">nframes</p>\n",
       "                            <span class=\"djtooltiptext\">number of recorded frames</span>\n",
       "                        </div></th><th><div class=\"djtooltip\">\n",
       "                            <p id=\"nonprimary\">nrois</p>\n",
       "                            <span class=\"djtooltiptext\">number of ROIs (see scanimage's multi ROI imaging)</span>\n",
       "                        </div></th><th><div class=\"djtooltip\">\n",
       "                            <p id=\"nonprimary\">x</p>\n",
       "                            <span class=\"djtooltiptext\">(um) ScanImage's 0 point in the motor coordinate system</span>\n",
       "                        </div></th><th><div class=\"djtooltip\">\n",
       "                            <p id=\"nonprimary\">y</p>\n",
       "                            <span class=\"djtooltiptext\">(um) ScanImage's 0 point in the motor coordinate system</span>\n",
       "                        </div></th><th><div class=\"djtooltip\">\n",
       "                            <p id=\"nonprimary\">z</p>\n",
       "                            <span class=\"djtooltiptext\">(um) ScanImage's 0 point in the motor coordinate system</span>\n",
       "                        </div></th><th><div class=\"djtooltip\">\n",
       "                            <p id=\"nonprimary\">fps</p>\n",
       "                            <span class=\"djtooltiptext\">(Hz) frames per second - Volumetric Scan Rate</span>\n",
       "                        </div></th><th><div class=\"djtooltip\">\n",
       "                            <p id=\"nonprimary\">bidirectional</p>\n",
       "                            <span class=\"djtooltiptext\">true = bidirectional scanning</span>\n",
       "                        </div></th><th><div class=\"djtooltip\">\n",
       "                            <p id=\"nonprimary\">usecs_per_line</p>\n",
       "                            <span class=\"djtooltiptext\">microseconds per scan line</span>\n",
       "                        </div></th><th><div class=\"djtooltip\">\n",
       "                            <p id=\"nonprimary\">fill_fraction</p>\n",
       "                            <span class=\"djtooltiptext\">raster scan temporal fill fraction (see scanimage)</span>\n",
       "                        </div></th><th><div class=\"djtooltip\">\n",
       "                            <p id=\"nonprimary\">scan_datetime</p>\n",
       "                            <span class=\"djtooltiptext\">datetime of the scan</span>\n",
       "                        </div></th><th><div class=\"djtooltip\">\n",
       "                            <p id=\"nonprimary\">scan_duration</p>\n",
       "                            <span class=\"djtooltiptext\">(seconds) duration of the scan</span>\n",
       "                        </div> </th> </tr> </thead>\n",
       "            <tbody> <tr> <td>sess9FGLE1FN</td>\n",
       "<td>scan9FGLE1FN</td>\n",
       "<td>7</td>\n",
       "<td>/datajoint-data/data/tobiasr/RN_OPI-1681_2023-02-15_scan9FGLE1FN_sess9FGLE1FN</td>\n",
       "<td>bench2p</td>\n",
       "<td>ScanImage</td>\n",
       "<td>Rukhmanis awesome first recording</td>\n",
       "<td>1</td>\n",
       "<td>1</td>\n",
       "<td>1</td>\n",
       "<td>27000</td>\n",
       "<td>0</td>\n",
       "<td>nan</td>\n",
       "<td>nan</td>\n",
       "<td>nan</td>\n",
       "<td>29.9784</td>\n",
       "<td>1</td>\n",
       "<td>63.1769</td>\n",
       "<td>0.712867</td>\n",
       "<td>None</td>\n",
       "<td>900.648</td> </tr> </tbody>\n",
       "        </table>\n",
       "        \n",
       "        <p>Total: 1</p></div>\n",
       "        "
      ],
      "text/plain": [
       "*session_id    *scan_id       *user_id    *path          scanner     acq_software   scan_notes     nfields     nchannels     ndepths     nframes     nrois     x       y       z       fps         bidirectional  usecs_per_line fill_fraction  scan_datetime  scan_duration \n",
       "+------------+ +------------+ +---------+ +------------+ +---------+ +------------+ +------------+ +---------+ +-----------+ +---------+ +---------+ +-------+ +-----+ +-----+ +-----+ +---------+ +------------+ +------------+ +------------+ +------------+ +------------+\n",
       "sess9FGLE1FN   scan9FGLE1FN   7           /datajoint-dat bench2p     ScanImage      Rukhmanis awes 1           1             1           27000       0         nan     nan     nan     29.9784     1              63.1769        0.712867       None           900.648       \n",
       " (Total: 1)"
      ]
     },
     "execution_count": 10,
     "metadata": {},
     "output_type": "execute_result"
    }
   ],
   "source": [
    "scan.Scan  * scan.ScanInfo() * scan.ScanPath()"
   ]
  },
  {
   "attachments": {},
   "cell_type": "markdown",
   "id": "614a275c",
   "metadata": {},
   "source": [
    "## Run imaging processing tasks"
   ]
  },
  {
   "cell_type": "code",
   "execution_count": 11,
   "id": "416ddcc4",
   "metadata": {},
   "outputs": [
    {
     "data": {
      "text/html": [
       "\n",
       "    \n",
       "    <style type=\"text/css\">\n",
       "        .Table{\n",
       "            border-collapse:collapse;\n",
       "        }\n",
       "        .Table th{\n",
       "            background: #A0A0A0; color: #ffffff; padding:4px; border:#f0e0e0 1px solid;\n",
       "            font-weight: normal; font-family: monospace; font-size: 100%;\n",
       "        }\n",
       "        .Table td{\n",
       "            padding:4px; border:#f0e0e0 1px solid; font-size:100%;\n",
       "        }\n",
       "        .Table tr:nth-child(odd){\n",
       "            background: #ffffff;\n",
       "        }\n",
       "        .Table tr:nth-child(even){\n",
       "            background: #f3f1ff;\n",
       "        }\n",
       "        /* Tooltip container */\n",
       "        .djtooltip {\n",
       "        }\n",
       "        /* Tooltip text */\n",
       "        .djtooltip .djtooltiptext {\n",
       "            visibility: hidden;\n",
       "            width: 120px;\n",
       "            background-color: black;\n",
       "            color: #fff;\n",
       "            text-align: center;\n",
       "            padding: 5px 0;\n",
       "            border-radius: 6px;\n",
       "            /* Position the tooltip text - see examples below! */\n",
       "            position: absolute;\n",
       "            z-index: 1;\n",
       "        }\n",
       "        #primary {\n",
       "            font-weight: bold;\n",
       "            color: black;\n",
       "        }\n",
       "        #nonprimary {\n",
       "            font-weight: normal;\n",
       "            color: white;\n",
       "        }\n",
       "\n",
       "        /* Show the tooltip text when you mouse over the tooltip container */\n",
       "        .djtooltip:hover .djtooltiptext {\n",
       "            visibility: visible;\n",
       "        }\n",
       "    </style>\n",
       "    \n",
       "    <b>Manual table for defining a processing task ready to be run</b>\n",
       "        <div style=\"max-height:1000px;max-width:1500px;overflow:auto;\">\n",
       "        <table border=\"1\" class=\"Table\">\n",
       "            <thead> <tr style=\"text-align: right;\"> <th> <div class=\"djtooltip\">\n",
       "                            <p id=\"primary\">session_id</p>\n",
       "                            <span class=\"djtooltiptext\"></span>\n",
       "                        </div></th><th><div class=\"djtooltip\">\n",
       "                            <p id=\"primary\">scan_id</p>\n",
       "                            <span class=\"djtooltiptext\"></span>\n",
       "                        </div></th><th><div class=\"djtooltip\">\n",
       "                            <p id=\"primary\">paramset_idx</p>\n",
       "                            <span class=\"djtooltiptext\"></span>\n",
       "                        </div></th><th><div class=\"djtooltip\">\n",
       "                            <p id=\"nonprimary\">processing_output_dir</p>\n",
       "                            <span class=\"djtooltiptext\">output directory of the processed scan relative to root data directory</span>\n",
       "                        </div></th><th><div class=\"djtooltip\">\n",
       "                            <p id=\"nonprimary\">task_mode</p>\n",
       "                            <span class=\"djtooltiptext\">'load': load computed analysis results, 'trigger': trigger computation</span>\n",
       "                        </div> </th> </tr> </thead>\n",
       "            <tbody> <tr> <td>sess9FGLE1FN</td>\n",
       "<td>scan9FGLE1FN</td>\n",
       "<td>0</td>\n",
       "<td>/datajoint-data/data/tobiasr/RN_OPI-1681_2023-02-15_scan9FGLE1FN_sess9FGLE1FN</td>\n",
       "<td>trigger</td> </tr> </tbody>\n",
       "        </table>\n",
       "        \n",
       "        <p>Total: 1</p></div>\n",
       "        "
      ],
      "text/plain": [
       "*session_id    *scan_id       *paramset_idx  processing_out task_mode    \n",
       "+------------+ +------------+ +------------+ +------------+ +-----------+\n",
       "sess9FGLE1FN   scan9FGLE1FN   0              /datajoint-dat trigger      \n",
       " (Total: 1)"
      ]
     },
     "execution_count": 11,
     "metadata": {},
     "output_type": "execute_result"
    }
   ],
   "source": [
    "imaging.ProcessingTask()"
   ]
  },
  {
   "cell_type": "code",
   "execution_count": 12,
   "id": "41b79a9f",
   "metadata": {},
   "outputs": [
    {
     "name": "stderr",
     "output_type": "stream",
     "text": [
      "Processing:   0%|          | 0/1 [00:00<?, ?it/s]"
     ]
    },
    {
     "name": "stdout",
     "output_type": "stream",
     "text": [
      "using TorchFFT\n",
      "{'data_path': ['/datajoint-data/data/tobiasr/RN_OPI-1681_2023-02-15_scan9FGLE1FN_sess9FGLE1FN'], 'tiff_list': ['/datajoint-data/data/tobiasr/RN_OPI-1681_2023-02-15_scan9FGLE1FN_sess9FGLE1FN/scan9FGLE1FN_RN_OPI-1681_00001.tif']}\n",
      "tif\n",
      "** Found 1 tifs - converting to binary **\n",
      "time 24.31 sec. Wrote 27000 frames per binary for 1 planes\n",
      ">>>>>>>>>>>>>>>>>>>>> PLANE 0 <<<<<<<<<<<<<<<<<<<<<<\n",
      "NOTE: not registered / registration forced with ops['do_registration']>1\n",
      "      (no previous offsets to delete)\n",
      "NOTE: Applying builtin classifier at /home/tobiasr/suite2p/suite2p/classifiers/classifier.npy\n",
      "----------- REGISTRATION\n",
      "NOTE: estimated bidiphase offset from data: 1 pixels\n",
      "Reference frame, 18.87 sec.\n",
      "Registered 8000/27000 in 144.34s\n",
      "Registered 16000/27000 in 271.18s\n",
      "Registered 24000/27000 in 397.46s\n",
      "Registered 27000/27000 in 443.11s\n",
      "----------- Total 475.60 sec\n",
      "Registration metrics, 26.08 sec.\n",
      "----------- ROI DETECTION\n",
      "Binning movie in chunks of length 30\n",
      "Binned movie of size [899,420,426] created in 13.20 sec.\n",
      "Binned movie denoised (for cell detection only) in 21.86 sec.\n",
      "NOTE: estimated spatial scale ~12 pixels, time epochs 1.00, threshold 10.00 \n",
      "0 ROIs, score=301.84\n",
      "1000 ROIs, score=54.71\n",
      "2000 ROIs, score=11.17\n",
      "Detected 2344 ROIs, 47.02 sec\n",
      "After removing overlaps, 1176 ROIs remain\n",
      "----------- Total 87.01 sec.\n",
      "----------- EXTRACTION\n",
      "Masks created, 3.92 sec.\n",
      "Extracted fluorescence from 1176 ROIs in 27000 frames, 28.65 sec.\n",
      "----------- Total 33.08 sec.\n",
      "----------- CLASSIFICATION\n",
      "['npix_norm', 'compact', 'skew']\n",
      "----------- SPIKE DECONVOLUTION\n",
      "----------- Total 1.48 sec.\n",
      "deleting binary files\n",
      "Plane 0 processed in 625.77 sec (can open in GUI).\n",
      "total = 651.30 sec.\n",
      "TOTAL RUNTIME 651.30 sec\n"
     ]
    },
    {
     "name": "stderr",
     "output_type": "stream",
     "text": [
      "Processing: 100%|██████████| 1/1 [10:53<00:00, 653.95s/it]\n"
     ]
    },
    {
     "data": {
      "text/plain": [
       "[]"
      ]
     },
     "execution_count": 12,
     "metadata": {},
     "output_type": "execute_result"
    }
   ],
   "source": [
    "imaging.Processing.populate(display_progress=True,  suppress_errors=True)"
   ]
  },
  {
   "attachments": {},
   "cell_type": "markdown",
   "id": "de369dfc",
   "metadata": {},
   "source": [
    "### Do manual suite2p curation now!\n",
    "### Then: populate curation table"
   ]
  },
  {
   "cell_type": "code",
   "execution_count": 13,
   "id": "8c6c7ce1",
   "metadata": {},
   "outputs": [],
   "source": [
    "imaging.Curation().create1_from_processing_task({'session_id': \"sess9FGLE1FN\", 'scan_id': \"scan9FGLE1FN\", \"paramset_idx\":0})"
   ]
  },
  {
   "cell_type": "code",
   "execution_count": 14,
   "id": "1e1072b5",
   "metadata": {},
   "outputs": [
    {
     "data": {
      "text/html": [
       "\n",
       "    \n",
       "    <style type=\"text/css\">\n",
       "        .Table{\n",
       "            border-collapse:collapse;\n",
       "        }\n",
       "        .Table th{\n",
       "            background: #A0A0A0; color: #ffffff; padding:4px; border:#f0e0e0 1px solid;\n",
       "            font-weight: normal; font-family: monospace; font-size: 100%;\n",
       "        }\n",
       "        .Table td{\n",
       "            padding:4px; border:#f0e0e0 1px solid; font-size:100%;\n",
       "        }\n",
       "        .Table tr:nth-child(odd){\n",
       "            background: #ffffff;\n",
       "        }\n",
       "        .Table tr:nth-child(even){\n",
       "            background: #f3f1ff;\n",
       "        }\n",
       "        /* Tooltip container */\n",
       "        .djtooltip {\n",
       "        }\n",
       "        /* Tooltip text */\n",
       "        .djtooltip .djtooltiptext {\n",
       "            visibility: hidden;\n",
       "            width: 120px;\n",
       "            background-color: black;\n",
       "            color: #fff;\n",
       "            text-align: center;\n",
       "            padding: 5px 0;\n",
       "            border-radius: 6px;\n",
       "            /* Position the tooltip text - see examples below! */\n",
       "            position: absolute;\n",
       "            z-index: 1;\n",
       "        }\n",
       "        #primary {\n",
       "            font-weight: bold;\n",
       "            color: black;\n",
       "        }\n",
       "        #nonprimary {\n",
       "            font-weight: normal;\n",
       "            color: white;\n",
       "        }\n",
       "\n",
       "        /* Show the tooltip text when you mouse over the tooltip container */\n",
       "        .djtooltip:hover .djtooltiptext {\n",
       "            visibility: visible;\n",
       "        }\n",
       "    </style>\n",
       "    \n",
       "    <b>Different rounds of curation performed on the processing results of the imaging data (no-curation can also be included here)</b>\n",
       "        <div style=\"max-height:1000px;max-width:1500px;overflow:auto;\">\n",
       "        <table border=\"1\" class=\"Table\">\n",
       "            <thead> <tr style=\"text-align: right;\"> <th> <div class=\"djtooltip\">\n",
       "                            <p id=\"primary\">session_id</p>\n",
       "                            <span class=\"djtooltiptext\"></span>\n",
       "                        </div></th><th><div class=\"djtooltip\">\n",
       "                            <p id=\"primary\">scan_id</p>\n",
       "                            <span class=\"djtooltiptext\"></span>\n",
       "                        </div></th><th><div class=\"djtooltip\">\n",
       "                            <p id=\"primary\">paramset_idx</p>\n",
       "                            <span class=\"djtooltiptext\"></span>\n",
       "                        </div></th><th><div class=\"djtooltip\">\n",
       "                            <p id=\"primary\">curation_id</p>\n",
       "                            <span class=\"djtooltiptext\"></span>\n",
       "                        </div></th><th><div class=\"djtooltip\">\n",
       "                            <p id=\"nonprimary\">curation_time</p>\n",
       "                            <span class=\"djtooltiptext\">time of generation of this set of curated results</span>\n",
       "                        </div></th><th><div class=\"djtooltip\">\n",
       "                            <p id=\"nonprimary\">curation_output_dir</p>\n",
       "                            <span class=\"djtooltiptext\">output directory of the curated results, relative to root data directory</span>\n",
       "                        </div></th><th><div class=\"djtooltip\">\n",
       "                            <p id=\"nonprimary\">manual_curation</p>\n",
       "                            <span class=\"djtooltiptext\">has manual curation been performed on this result?</span>\n",
       "                        </div></th><th><div class=\"djtooltip\">\n",
       "                            <p id=\"nonprimary\">curation_note</p>\n",
       "                            <span class=\"djtooltiptext\"></span>\n",
       "                        </div> </th> </tr> </thead>\n",
       "            <tbody> <tr> <td>sess9FGLE1FN</td>\n",
       "<td>scan9FGLE1FN</td>\n",
       "<td>0</td>\n",
       "<td>1</td>\n",
       "<td>2023-03-20 08:36:02</td>\n",
       "<td>/datajoint-data/data/tobiasr/RN_OPI-1681_2023-02-15_scan9FGLE1FN_sess9FGLE1FN</td>\n",
       "<td>0</td>\n",
       "<td></td> </tr> </tbody>\n",
       "        </table>\n",
       "        \n",
       "        <p>Total: 1</p></div>\n",
       "        "
      ],
      "text/plain": [
       "*session_id    *scan_id       *paramset_idx  *curation_id   curation_time  curation_outpu manual_curatio curation_note \n",
       "+------------+ +------------+ +------------+ +------------+ +------------+ +------------+ +------------+ +------------+\n",
       "sess9FGLE1FN   scan9FGLE1FN   0              1              2023-03-20 08: /datajoint-dat 0                            \n",
       " (Total: 1)"
      ]
     },
     "execution_count": 14,
     "metadata": {},
     "output_type": "execute_result"
    }
   ],
   "source": [
    "imaging.Curation()"
   ]
  },
  {
   "attachments": {},
   "cell_type": "markdown",
   "id": "b80d7260",
   "metadata": {},
   "source": [
    "TODO: \n",
    "- figure out how to re-run s2p after curation\n"
   ]
  },
  {
   "attachments": {},
   "cell_type": "markdown",
   "id": "047e7c16",
   "metadata": {},
   "source": [
    "Populate imaging.MotionCorrection"
   ]
  },
  {
   "cell_type": "code",
   "execution_count": 15,
   "id": "ed8acf81",
   "metadata": {},
   "outputs": [
    {
     "name": "stderr",
     "output_type": "stream",
     "text": [
      "[2023-03-20 08:40:57,407][ERROR]: 'nblocks'\n"
     ]
    },
    {
     "data": {
      "text/plain": [
       "[({'session_id': 'sess9FGLE1FN',\n",
       "   'scan_id': 'scan9FGLE1FN',\n",
       "   'paramset_idx': 0,\n",
       "   'curation_id': 1},\n",
       "  \"KeyError: 'nblocks'\")]"
      ]
     },
     "execution_count": 15,
     "metadata": {},
     "output_type": "execute_result"
    }
   ],
   "source": [
    "populate_settings = {'display_progress': False, 'suppress_errors': True, 'processes': 1}\n",
    "imaging.MotionCorrection.populate(**populate_settings)"
   ]
  },
  {
   "cell_type": "code",
   "execution_count": 16,
   "id": "f02a8af2",
   "metadata": {},
   "outputs": [
    {
     "data": {
      "text/html": [
       "\n",
       "    \n",
       "    <style type=\"text/css\">\n",
       "        .Table{\n",
       "            border-collapse:collapse;\n",
       "        }\n",
       "        .Table th{\n",
       "            background: #A0A0A0; color: #ffffff; padding:4px; border:#f0e0e0 1px solid;\n",
       "            font-weight: normal; font-family: monospace; font-size: 100%;\n",
       "        }\n",
       "        .Table td{\n",
       "            padding:4px; border:#f0e0e0 1px solid; font-size:100%;\n",
       "        }\n",
       "        .Table tr:nth-child(odd){\n",
       "            background: #ffffff;\n",
       "        }\n",
       "        .Table tr:nth-child(even){\n",
       "            background: #f3f1ff;\n",
       "        }\n",
       "        /* Tooltip container */\n",
       "        .djtooltip {\n",
       "        }\n",
       "        /* Tooltip text */\n",
       "        .djtooltip .djtooltiptext {\n",
       "            visibility: hidden;\n",
       "            width: 120px;\n",
       "            background-color: black;\n",
       "            color: #fff;\n",
       "            text-align: center;\n",
       "            padding: 5px 0;\n",
       "            border-radius: 6px;\n",
       "            /* Position the tooltip text - see examples below! */\n",
       "            position: absolute;\n",
       "            z-index: 1;\n",
       "        }\n",
       "        #primary {\n",
       "            font-weight: bold;\n",
       "            color: black;\n",
       "        }\n",
       "        #nonprimary {\n",
       "            font-weight: normal;\n",
       "            color: white;\n",
       "        }\n",
       "\n",
       "        /* Show the tooltip text when you mouse over the tooltip container */\n",
       "        .djtooltip:hover .djtooltiptext {\n",
       "            visibility: visible;\n",
       "        }\n",
       "    </style>\n",
       "    \n",
       "    <b>Results of motion correction performed on the imaging data</b>\n",
       "        <div style=\"max-height:1000px;max-width:1500px;overflow:auto;\">\n",
       "        <table border=\"1\" class=\"Table\">\n",
       "            <thead> <tr style=\"text-align: right;\"> <th> <div class=\"djtooltip\">\n",
       "                            <p id=\"primary\">session_id</p>\n",
       "                            <span class=\"djtooltiptext\"></span>\n",
       "                        </div></th><th><div class=\"djtooltip\">\n",
       "                            <p id=\"primary\">scan_id</p>\n",
       "                            <span class=\"djtooltiptext\"></span>\n",
       "                        </div></th><th><div class=\"djtooltip\">\n",
       "                            <p id=\"primary\">paramset_idx</p>\n",
       "                            <span class=\"djtooltiptext\"></span>\n",
       "                        </div></th><th><div class=\"djtooltip\">\n",
       "                            <p id=\"primary\">curation_id</p>\n",
       "                            <span class=\"djtooltiptext\"></span>\n",
       "                        </div></th><th><div class=\"djtooltip\">\n",
       "                            <p id=\"nonprimary\">motion_correct_channel</p>\n",
       "                            <span class=\"djtooltiptext\">0-based indexing</span>\n",
       "                        </div> </th> </tr> </thead>\n",
       "            <tbody> <tr>  </tr> </tbody>\n",
       "        </table>\n",
       "        \n",
       "        <p>Total: 0</p></div>\n",
       "        "
      ],
      "text/plain": [
       "*session_id    *scan_id    *paramset_idx  *curation_id   motion_correct\n",
       "+------------+ +---------+ +------------+ +------------+ +------------+\n",
       "\n",
       " (Total: 0)"
      ]
     },
     "execution_count": 16,
     "metadata": {},
     "output_type": "execute_result"
    }
   ],
   "source": [
    "imaging.MotionCorrection()"
   ]
  },
  {
   "cell_type": "code",
   "execution_count": 40,
   "id": "2ecdf4cb",
   "metadata": {},
   "outputs": [
    {
     "data": {
      "text/plain": [
       "[]"
      ]
     },
     "execution_count": 40,
     "metadata": {},
     "output_type": "execute_result"
    }
   ],
   "source": [
    "imaging.Segmentation.populate(**populate_settings)"
   ]
  },
  {
   "cell_type": "code",
   "execution_count": 41,
   "id": "e963bba9",
   "metadata": {},
   "outputs": [
    {
     "data": {
      "text/html": [
       "\n",
       "    \n",
       "    <style type=\"text/css\">\n",
       "        .Table{\n",
       "            border-collapse:collapse;\n",
       "        }\n",
       "        .Table th{\n",
       "            background: #A0A0A0; color: #ffffff; padding:4px; border:#f0e0e0 1px solid;\n",
       "            font-weight: normal; font-family: monospace; font-size: 100%;\n",
       "        }\n",
       "        .Table td{\n",
       "            padding:4px; border:#f0e0e0 1px solid; font-size:100%;\n",
       "        }\n",
       "        .Table tr:nth-child(odd){\n",
       "            background: #ffffff;\n",
       "        }\n",
       "        .Table tr:nth-child(even){\n",
       "            background: #f3f1ff;\n",
       "        }\n",
       "        /* Tooltip container */\n",
       "        .djtooltip {\n",
       "        }\n",
       "        /* Tooltip text */\n",
       "        .djtooltip .djtooltiptext {\n",
       "            visibility: hidden;\n",
       "            width: 120px;\n",
       "            background-color: black;\n",
       "            color: #fff;\n",
       "            text-align: center;\n",
       "            padding: 5px 0;\n",
       "            border-radius: 6px;\n",
       "            /* Position the tooltip text - see examples below! */\n",
       "            position: absolute;\n",
       "            z-index: 1;\n",
       "        }\n",
       "        #primary {\n",
       "            font-weight: bold;\n",
       "            color: black;\n",
       "        }\n",
       "        #nonprimary {\n",
       "            font-weight: normal;\n",
       "            color: white;\n",
       "        }\n",
       "\n",
       "        /* Show the tooltip text when you mouse over the tooltip container */\n",
       "        .djtooltip:hover .djtooltiptext {\n",
       "            visibility: visible;\n",
       "        }\n",
       "    </style>\n",
       "    \n",
       "    <b>Different mask segmentations.</b>\n",
       "        <div style=\"max-height:1000px;max-width:1500px;overflow:auto;\">\n",
       "        <table border=\"1\" class=\"Table\">\n",
       "            <thead> <tr style=\"text-align: right;\"> <th> <div class=\"djtooltip\">\n",
       "                            <p id=\"primary\">session_id</p>\n",
       "                            <span class=\"djtooltiptext\"></span>\n",
       "                        </div></th><th><div class=\"djtooltip\">\n",
       "                            <p id=\"primary\">scan_id</p>\n",
       "                            <span class=\"djtooltiptext\"></span>\n",
       "                        </div></th><th><div class=\"djtooltip\">\n",
       "                            <p id=\"primary\">paramset_idx</p>\n",
       "                            <span class=\"djtooltiptext\"></span>\n",
       "                        </div></th><th><div class=\"djtooltip\">\n",
       "                            <p id=\"primary\">curation_id</p>\n",
       "                            <span class=\"djtooltiptext\"></span>\n",
       "                        </div> </th> </tr> </thead>\n",
       "            <tbody> <tr> <td>sess9FGLE1FN</td>\n",
       "<td>scan9FGLE1FN</td>\n",
       "<td>0</td>\n",
       "<td>1</td></tr><tr><td>sess9FGLE1FN</td>\n",
       "<td>scan9FGLE1FN</td>\n",
       "<td>0</td>\n",
       "<td>2</td></tr><tr><td>sess9FGLE1FN</td>\n",
       "<td>scan9FGLE1FN</td>\n",
       "<td>0</td>\n",
       "<td>3</td> </tr> </tbody>\n",
       "        </table>\n",
       "        \n",
       "        <p>Total: 3</p></div>\n",
       "        "
      ],
      "text/plain": [
       "*session_id    *scan_id       *paramset_idx  *curation_id  \n",
       "+------------+ +------------+ +------------+ +------------+\n",
       "sess9FGLE1FN   scan9FGLE1FN   0              1             \n",
       "sess9FGLE1FN   scan9FGLE1FN   0              2             \n",
       "sess9FGLE1FN   scan9FGLE1FN   0              3             \n",
       " (Total: 3)"
      ]
     },
     "execution_count": 41,
     "metadata": {},
     "output_type": "execute_result"
    }
   ],
   "source": [
    "imaging.Segmentation()"
   ]
  },
  {
   "cell_type": "code",
   "execution_count": 42,
   "id": "55087028",
   "metadata": {},
   "outputs": [
    {
     "data": {
      "text/plain": [
       "[]"
      ]
     },
     "execution_count": 42,
     "metadata": {},
     "output_type": "execute_result"
    }
   ],
   "source": [
    "imaging.MaskClassification.populate(**populate_settings)"
   ]
  },
  {
   "cell_type": "code",
   "execution_count": 43,
   "id": "ed747087",
   "metadata": {},
   "outputs": [
    {
     "data": {
      "text/html": [
       "\n",
       "    \n",
       "    <style type=\"text/css\">\n",
       "        .Table{\n",
       "            border-collapse:collapse;\n",
       "        }\n",
       "        .Table th{\n",
       "            background: #A0A0A0; color: #ffffff; padding:4px; border:#f0e0e0 1px solid;\n",
       "            font-weight: normal; font-family: monospace; font-size: 100%;\n",
       "        }\n",
       "        .Table td{\n",
       "            padding:4px; border:#f0e0e0 1px solid; font-size:100%;\n",
       "        }\n",
       "        .Table tr:nth-child(odd){\n",
       "            background: #ffffff;\n",
       "        }\n",
       "        .Table tr:nth-child(even){\n",
       "            background: #f3f1ff;\n",
       "        }\n",
       "        /* Tooltip container */\n",
       "        .djtooltip {\n",
       "        }\n",
       "        /* Tooltip text */\n",
       "        .djtooltip .djtooltiptext {\n",
       "            visibility: hidden;\n",
       "            width: 120px;\n",
       "            background-color: black;\n",
       "            color: #fff;\n",
       "            text-align: center;\n",
       "            padding: 5px 0;\n",
       "            border-radius: 6px;\n",
       "            /* Position the tooltip text - see examples below! */\n",
       "            position: absolute;\n",
       "            z-index: 1;\n",
       "        }\n",
       "        #primary {\n",
       "            font-weight: bold;\n",
       "            color: black;\n",
       "        }\n",
       "        #nonprimary {\n",
       "            font-weight: normal;\n",
       "            color: white;\n",
       "        }\n",
       "\n",
       "        /* Show the tooltip text when you mouse over the tooltip container */\n",
       "        .djtooltip:hover .djtooltiptext {\n",
       "            visibility: visible;\n",
       "        }\n",
       "    </style>\n",
       "    \n",
       "    <b></b>\n",
       "        <div style=\"max-height:1000px;max-width:1500px;overflow:auto;\">\n",
       "        <table border=\"1\" class=\"Table\">\n",
       "            <thead> <tr style=\"text-align: right;\"> <th> <div class=\"djtooltip\">\n",
       "                            <p id=\"primary\">session_id</p>\n",
       "                            <span class=\"djtooltiptext\"></span>\n",
       "                        </div></th><th><div class=\"djtooltip\">\n",
       "                            <p id=\"primary\">scan_id</p>\n",
       "                            <span class=\"djtooltiptext\"></span>\n",
       "                        </div></th><th><div class=\"djtooltip\">\n",
       "                            <p id=\"primary\">paramset_idx</p>\n",
       "                            <span class=\"djtooltiptext\"></span>\n",
       "                        </div></th><th><div class=\"djtooltip\">\n",
       "                            <p id=\"primary\">curation_id</p>\n",
       "                            <span class=\"djtooltiptext\"></span>\n",
       "                        </div></th><th><div class=\"djtooltip\">\n",
       "                            <p id=\"primary\">mask_classification_method</p>\n",
       "                            <span class=\"djtooltiptext\"></span>\n",
       "                        </div> </th> </tr> </thead>\n",
       "            <tbody> <tr> <td>sess9FGLE1FN</td>\n",
       "<td>scan9FGLE1FN</td>\n",
       "<td>0</td>\n",
       "<td>1</td>\n",
       "<td>suite2p_default_classifier</td></tr><tr><td>sess9FGLE1FN</td>\n",
       "<td>scan9FGLE1FN</td>\n",
       "<td>0</td>\n",
       "<td>2</td>\n",
       "<td>suite2p_default_classifier</td></tr><tr><td>sess9FGLE1FN</td>\n",
       "<td>scan9FGLE1FN</td>\n",
       "<td>0</td>\n",
       "<td>3</td>\n",
       "<td>suite2p_default_classifier</td> </tr> </tbody>\n",
       "        </table>\n",
       "        \n",
       "        <p>Total: 3</p></div>\n",
       "        "
      ],
      "text/plain": [
       "*session_id    *scan_id       *paramset_idx  *curation_id   *mask_classifi\n",
       "+------------+ +------------+ +------------+ +------------+ +------------+\n",
       "sess9FGLE1FN   scan9FGLE1FN   0              1              suite2p_defaul\n",
       "sess9FGLE1FN   scan9FGLE1FN   0              2              suite2p_defaul\n",
       "sess9FGLE1FN   scan9FGLE1FN   0              3              suite2p_defaul\n",
       " (Total: 3)"
      ]
     },
     "execution_count": 43,
     "metadata": {},
     "output_type": "execute_result"
    }
   ],
   "source": [
    "imaging.MaskClassification()"
   ]
  },
  {
   "cell_type": "code",
   "execution_count": 44,
   "id": "c4eb1a72",
   "metadata": {},
   "outputs": [
    {
     "data": {
      "text/plain": [
       "[]"
      ]
     },
     "execution_count": 44,
     "metadata": {},
     "output_type": "execute_result"
    }
   ],
   "source": [
    "imaging.Fluorescence.populate(**populate_settings)"
   ]
  },
  {
   "cell_type": "code",
   "execution_count": 48,
   "id": "a7417de8",
   "metadata": {},
   "outputs": [
    {
     "data": {
      "text/html": [
       "\n",
       "    \n",
       "    <style type=\"text/css\">\n",
       "        .Table{\n",
       "            border-collapse:collapse;\n",
       "        }\n",
       "        .Table th{\n",
       "            background: #A0A0A0; color: #ffffff; padding:4px; border:#f0e0e0 1px solid;\n",
       "            font-weight: normal; font-family: monospace; font-size: 100%;\n",
       "        }\n",
       "        .Table td{\n",
       "            padding:4px; border:#f0e0e0 1px solid; font-size:100%;\n",
       "        }\n",
       "        .Table tr:nth-child(odd){\n",
       "            background: #ffffff;\n",
       "        }\n",
       "        .Table tr:nth-child(even){\n",
       "            background: #f3f1ff;\n",
       "        }\n",
       "        /* Tooltip container */\n",
       "        .djtooltip {\n",
       "        }\n",
       "        /* Tooltip text */\n",
       "        .djtooltip .djtooltiptext {\n",
       "            visibility: hidden;\n",
       "            width: 120px;\n",
       "            background-color: black;\n",
       "            color: #fff;\n",
       "            text-align: center;\n",
       "            padding: 5px 0;\n",
       "            border-radius: 6px;\n",
       "            /* Position the tooltip text - see examples below! */\n",
       "            position: absolute;\n",
       "            z-index: 1;\n",
       "        }\n",
       "        #primary {\n",
       "            font-weight: bold;\n",
       "            color: black;\n",
       "        }\n",
       "        #nonprimary {\n",
       "            font-weight: normal;\n",
       "            color: white;\n",
       "        }\n",
       "\n",
       "        /* Show the tooltip text when you mouse over the tooltip container */\n",
       "        .djtooltip:hover .djtooltiptext {\n",
       "            visibility: visible;\n",
       "        }\n",
       "    </style>\n",
       "    \n",
       "    <b>fluorescence traces before spike extraction or filtering</b>\n",
       "        <div style=\"max-height:1000px;max-width:1500px;overflow:auto;\">\n",
       "        <table border=\"1\" class=\"Table\">\n",
       "            <thead> <tr style=\"text-align: right;\"> <th> <div class=\"djtooltip\">\n",
       "                            <p id=\"primary\">session_id</p>\n",
       "                            <span class=\"djtooltiptext\"></span>\n",
       "                        </div></th><th><div class=\"djtooltip\">\n",
       "                            <p id=\"primary\">scan_id</p>\n",
       "                            <span class=\"djtooltiptext\"></span>\n",
       "                        </div></th><th><div class=\"djtooltip\">\n",
       "                            <p id=\"primary\">paramset_idx</p>\n",
       "                            <span class=\"djtooltiptext\"></span>\n",
       "                        </div></th><th><div class=\"djtooltip\">\n",
       "                            <p id=\"primary\">curation_id</p>\n",
       "                            <span class=\"djtooltiptext\"></span>\n",
       "                        </div> </th> </tr> </thead>\n",
       "            <tbody> <tr> <td>sess9FGLE1FN</td>\n",
       "<td>scan9FGLE1FN</td>\n",
       "<td>0</td>\n",
       "<td>1</td></tr><tr><td>sess9FGLE1FN</td>\n",
       "<td>scan9FGLE1FN</td>\n",
       "<td>0</td>\n",
       "<td>2</td></tr><tr><td>sess9FGLE1FN</td>\n",
       "<td>scan9FGLE1FN</td>\n",
       "<td>0</td>\n",
       "<td>3</td> </tr> </tbody>\n",
       "        </table>\n",
       "        \n",
       "        <p>Total: 3</p></div>\n",
       "        "
      ],
      "text/plain": [
       "*session_id    *scan_id       *paramset_idx  *curation_id  \n",
       "+------------+ +------------+ +------------+ +------------+\n",
       "sess9FGLE1FN   scan9FGLE1FN   0              1             \n",
       "sess9FGLE1FN   scan9FGLE1FN   0              2             \n",
       "sess9FGLE1FN   scan9FGLE1FN   0              3             \n",
       " (Total: 3)"
      ]
     },
     "execution_count": 48,
     "metadata": {},
     "output_type": "execute_result"
    }
   ],
   "source": [
    "imaging.Fluorescence()"
   ]
  },
  {
   "cell_type": "code",
   "execution_count": 49,
   "id": "8abd8845",
   "metadata": {},
   "outputs": [],
   "source": [
    "imaging.Activity.populate(**populate_settings)"
   ]
  },
  {
   "cell_type": "code",
   "execution_count": 50,
   "id": "de5b3a6e",
   "metadata": {},
   "outputs": [
    {
     "data": {
      "text/html": [
       "\n",
       "    \n",
       "    <style type=\"text/css\">\n",
       "        .Table{\n",
       "            border-collapse:collapse;\n",
       "        }\n",
       "        .Table th{\n",
       "            background: #A0A0A0; color: #ffffff; padding:4px; border:#f0e0e0 1px solid;\n",
       "            font-weight: normal; font-family: monospace; font-size: 100%;\n",
       "        }\n",
       "        .Table td{\n",
       "            padding:4px; border:#f0e0e0 1px solid; font-size:100%;\n",
       "        }\n",
       "        .Table tr:nth-child(odd){\n",
       "            background: #ffffff;\n",
       "        }\n",
       "        .Table tr:nth-child(even){\n",
       "            background: #f3f1ff;\n",
       "        }\n",
       "        /* Tooltip container */\n",
       "        .djtooltip {\n",
       "        }\n",
       "        /* Tooltip text */\n",
       "        .djtooltip .djtooltiptext {\n",
       "            visibility: hidden;\n",
       "            width: 120px;\n",
       "            background-color: black;\n",
       "            color: #fff;\n",
       "            text-align: center;\n",
       "            padding: 5px 0;\n",
       "            border-radius: 6px;\n",
       "            /* Position the tooltip text - see examples below! */\n",
       "            position: absolute;\n",
       "            z-index: 1;\n",
       "        }\n",
       "        #primary {\n",
       "            font-weight: bold;\n",
       "            color: black;\n",
       "        }\n",
       "        #nonprimary {\n",
       "            font-weight: normal;\n",
       "            color: white;\n",
       "        }\n",
       "\n",
       "        /* Show the tooltip text when you mouse over the tooltip container */\n",
       "        .djtooltip:hover .djtooltiptext {\n",
       "            visibility: visible;\n",
       "        }\n",
       "    </style>\n",
       "    \n",
       "    <b>inferred neural activity from fluorescence trace - e.g. dff, spikes</b>\n",
       "        <div style=\"max-height:1000px;max-width:1500px;overflow:auto;\">\n",
       "        <table border=\"1\" class=\"Table\">\n",
       "            <thead> <tr style=\"text-align: right;\"> <th> <div class=\"djtooltip\">\n",
       "                            <p id=\"primary\">session_id</p>\n",
       "                            <span class=\"djtooltiptext\"></span>\n",
       "                        </div></th><th><div class=\"djtooltip\">\n",
       "                            <p id=\"primary\">scan_id</p>\n",
       "                            <span class=\"djtooltiptext\"></span>\n",
       "                        </div></th><th><div class=\"djtooltip\">\n",
       "                            <p id=\"primary\">paramset_idx</p>\n",
       "                            <span class=\"djtooltiptext\"></span>\n",
       "                        </div></th><th><div class=\"djtooltip\">\n",
       "                            <p id=\"primary\">curation_id</p>\n",
       "                            <span class=\"djtooltiptext\"></span>\n",
       "                        </div></th><th><div class=\"djtooltip\">\n",
       "                            <p id=\"primary\">extraction_method</p>\n",
       "                            <span class=\"djtooltiptext\"></span>\n",
       "                        </div> </th> </tr> </thead>\n",
       "            <tbody> <tr> <td>sess9FGLE1FN</td>\n",
       "<td>scan9FGLE1FN</td>\n",
       "<td>0</td>\n",
       "<td>1</td>\n",
       "<td>suite2p_deconvolution</td></tr><tr><td>sess9FGLE1FN</td>\n",
       "<td>scan9FGLE1FN</td>\n",
       "<td>0</td>\n",
       "<td>2</td>\n",
       "<td>suite2p_deconvolution</td></tr><tr><td>sess9FGLE1FN</td>\n",
       "<td>scan9FGLE1FN</td>\n",
       "<td>0</td>\n",
       "<td>3</td>\n",
       "<td>suite2p_deconvolution</td> </tr> </tbody>\n",
       "        </table>\n",
       "        \n",
       "        <p>Total: 3</p></div>\n",
       "        "
      ],
      "text/plain": [
       "*session_id    *scan_id       *paramset_idx  *curation_id   *extraction_me\n",
       "+------------+ +------------+ +------------+ +------------+ +------------+\n",
       "sess9FGLE1FN   scan9FGLE1FN   0              1              suite2p_deconv\n",
       "sess9FGLE1FN   scan9FGLE1FN   0              2              suite2p_deconv\n",
       "sess9FGLE1FN   scan9FGLE1FN   0              3              suite2p_deconv\n",
       " (Total: 3)"
      ]
     },
     "execution_count": 50,
     "metadata": {},
     "output_type": "execute_result"
    }
   ],
   "source": [
    "imaging.Activity()"
   ]
  },
  {
   "cell_type": "markdown",
   "id": "5bf7dbbf",
   "metadata": {},
   "source": [
    "## Exploring data"
   ]
  },
  {
   "cell_type": "code",
   "execution_count": 54,
   "id": "426785d1",
   "metadata": {},
   "outputs": [
    {
     "data": {
      "text/plain": [
       "{'session_id': 'sess9FGLE1FN'}"
      ]
     },
     "execution_count": 54,
     "metadata": {},
     "output_type": "execute_result"
    }
   ],
   "source": [
    "session_key = (session.Session & 'session_id = \"sess9FGLE1FN\"').fetch('KEY')[0]\n",
    "session_key"
   ]
  },
  {
   "cell_type": "code",
   "execution_count": 57,
   "id": "8a68ec98",
   "metadata": {},
   "outputs": [
    {
     "data": {
      "text/html": [
       "\n",
       "    \n",
       "    <style type=\"text/css\">\n",
       "        .Table{\n",
       "            border-collapse:collapse;\n",
       "        }\n",
       "        .Table th{\n",
       "            background: #A0A0A0; color: #ffffff; padding:4px; border:#f0e0e0 1px solid;\n",
       "            font-weight: normal; font-family: monospace; font-size: 100%;\n",
       "        }\n",
       "        .Table td{\n",
       "            padding:4px; border:#f0e0e0 1px solid; font-size:100%;\n",
       "        }\n",
       "        .Table tr:nth-child(odd){\n",
       "            background: #ffffff;\n",
       "        }\n",
       "        .Table tr:nth-child(even){\n",
       "            background: #f3f1ff;\n",
       "        }\n",
       "        /* Tooltip container */\n",
       "        .djtooltip {\n",
       "        }\n",
       "        /* Tooltip text */\n",
       "        .djtooltip .djtooltiptext {\n",
       "            visibility: hidden;\n",
       "            width: 120px;\n",
       "            background-color: black;\n",
       "            color: #fff;\n",
       "            text-align: center;\n",
       "            padding: 5px 0;\n",
       "            border-radius: 6px;\n",
       "            /* Position the tooltip text - see examples below! */\n",
       "            position: absolute;\n",
       "            z-index: 1;\n",
       "        }\n",
       "        #primary {\n",
       "            font-weight: bold;\n",
       "            color: black;\n",
       "        }\n",
       "        #nonprimary {\n",
       "            font-weight: normal;\n",
       "            color: white;\n",
       "        }\n",
       "\n",
       "        /* Show the tooltip text when you mouse over the tooltip container */\n",
       "        .djtooltip:hover .djtooltiptext {\n",
       "            visibility: visible;\n",
       "        }\n",
       "    </style>\n",
       "    \n",
       "    <b>field-specific scan information</b>\n",
       "        <div style=\"max-height:1000px;max-width:1500px;overflow:auto;\">\n",
       "        <table border=\"1\" class=\"Table\">\n",
       "            <thead> <tr style=\"text-align: right;\"> <th> <div class=\"djtooltip\">\n",
       "                            <p id=\"primary\">session_id</p>\n",
       "                            <span class=\"djtooltiptext\"></span>\n",
       "                        </div></th><th><div class=\"djtooltip\">\n",
       "                            <p id=\"primary\">scan_id</p>\n",
       "                            <span class=\"djtooltiptext\"></span>\n",
       "                        </div></th><th><div class=\"djtooltip\">\n",
       "                            <p id=\"primary\">field_idx</p>\n",
       "                            <span class=\"djtooltiptext\"></span>\n",
       "                        </div></th><th><div class=\"djtooltip\">\n",
       "                            <p id=\"nonprimary\">px_height</p>\n",
       "                            <span class=\"djtooltiptext\">height in pixels</span>\n",
       "                        </div></th><th><div class=\"djtooltip\">\n",
       "                            <p id=\"nonprimary\">px_width</p>\n",
       "                            <span class=\"djtooltiptext\">width in pixels</span>\n",
       "                        </div></th><th><div class=\"djtooltip\">\n",
       "                            <p id=\"nonprimary\">um_height</p>\n",
       "                            <span class=\"djtooltiptext\">height in microns</span>\n",
       "                        </div></th><th><div class=\"djtooltip\">\n",
       "                            <p id=\"nonprimary\">um_width</p>\n",
       "                            <span class=\"djtooltiptext\">width in microns</span>\n",
       "                        </div></th><th><div class=\"djtooltip\">\n",
       "                            <p id=\"nonprimary\">field_x</p>\n",
       "                            <span class=\"djtooltiptext\">(um) center of field in the motor coordinate system</span>\n",
       "                        </div></th><th><div class=\"djtooltip\">\n",
       "                            <p id=\"nonprimary\">field_y</p>\n",
       "                            <span class=\"djtooltiptext\">(um) center of field in the motor coordinate system</span>\n",
       "                        </div></th><th><div class=\"djtooltip\">\n",
       "                            <p id=\"nonprimary\">field_z</p>\n",
       "                            <span class=\"djtooltiptext\">(um) relative depth of field</span>\n",
       "                        </div></th><th><div class=\"djtooltip\">\n",
       "                            <p id=\"nonprimary\">delay_image</p>\n",
       "                            <span class=\"djtooltiptext\">(ms) delay between the start of the scan and pixels in this field</span>\n",
       "                        </div></th><th><div class=\"djtooltip\">\n",
       "                            <p id=\"nonprimary\">roi</p>\n",
       "                            <span class=\"djtooltiptext\">the scanning roi (as recorded in the acquisition software) containing this field - only relevant to mesoscale scans</span>\n",
       "                        </div> </th> </tr> </thead>\n",
       "            <tbody> <tr> <td>sess9FGLE1FN</td>\n",
       "<td>scan9FGLE1FN</td>\n",
       "<td>0</td>\n",
       "<td>512</td>\n",
       "<td>512</td>\n",
       "<td>450.45</td>\n",
       "<td>450.45</td>\n",
       "<td>nan</td>\n",
       "<td>nan</td>\n",
       "<td>nan</td>\n",
       "<td>=BLOB=</td>\n",
       "<td>None</td> </tr> </tbody>\n",
       "        </table>\n",
       "        \n",
       "        <p>Total: 1</p></div>\n",
       "        "
      ],
      "text/plain": [
       "*session_id    *scan_id       *field_idx    px_height     px_width     um_height     um_width     field_x     field_y     field_z     delay_imag roi     \n",
       "+------------+ +------------+ +-----------+ +-----------+ +----------+ +-----------+ +----------+ +---------+ +---------+ +---------+ +--------+ +------+\n",
       "sess9FGLE1FN   scan9FGLE1FN   0             512           512          450.45        450.45       nan         nan         nan         =BLOB=     None    \n",
       " (Total: 1)"
      ]
     },
     "execution_count": 57,
     "metadata": {},
     "output_type": "execute_result"
    }
   ],
   "source": [
    "scan.ScanInfo & session_key\n",
    "\n",
    "scan.ScanInfo.Field & session_key"
   ]
  },
  {
   "cell_type": "code",
   "execution_count": 58,
   "metadata": {},
   "outputs": [
    {
     "data": {
      "text/html": [
       "\n",
       "    \n",
       "    <style type=\"text/css\">\n",
       "        .Table{\n",
       "            border-collapse:collapse;\n",
       "        }\n",
       "        .Table th{\n",
       "            background: #A0A0A0; color: #ffffff; padding:4px; border:#f0e0e0 1px solid;\n",
       "            font-weight: normal; font-family: monospace; font-size: 100%;\n",
       "        }\n",
       "        .Table td{\n",
       "            padding:4px; border:#f0e0e0 1px solid; font-size:100%;\n",
       "        }\n",
       "        .Table tr:nth-child(odd){\n",
       "            background: #ffffff;\n",
       "        }\n",
       "        .Table tr:nth-child(even){\n",
       "            background: #f3f1ff;\n",
       "        }\n",
       "        /* Tooltip container */\n",
       "        .djtooltip {\n",
       "        }\n",
       "        /* Tooltip text */\n",
       "        .djtooltip .djtooltiptext {\n",
       "            visibility: hidden;\n",
       "            width: 120px;\n",
       "            background-color: black;\n",
       "            color: #fff;\n",
       "            text-align: center;\n",
       "            padding: 5px 0;\n",
       "            border-radius: 6px;\n",
       "            /* Position the tooltip text - see examples below! */\n",
       "            position: absolute;\n",
       "            z-index: 1;\n",
       "        }\n",
       "        #primary {\n",
       "            font-weight: bold;\n",
       "            color: black;\n",
       "        }\n",
       "        #nonprimary {\n",
       "            font-weight: normal;\n",
       "            color: white;\n",
       "        }\n",
       "\n",
       "        /* Show the tooltip text when you mouse over the tooltip container */\n",
       "        .djtooltip:hover .djtooltiptext {\n",
       "            visibility: visible;\n",
       "        }\n",
       "    </style>\n",
       "    \n",
       "    \n",
       "        <div style=\"max-height:1000px;max-width:1500px;overflow:auto;\">\n",
       "        <table border=\"1\" class=\"Table\">\n",
       "            <thead> <tr style=\"text-align: right;\"> <th> <div class=\"djtooltip\">\n",
       "                            <p id=\"primary\">session_id</p>\n",
       "                            <span class=\"djtooltiptext\"></span>\n",
       "                        </div></th><th><div class=\"djtooltip\">\n",
       "                            <p id=\"primary\">scan_id</p>\n",
       "                            <span class=\"djtooltiptext\"></span>\n",
       "                        </div></th><th><div class=\"djtooltip\">\n",
       "                            <p id=\"primary\">paramset_idx</p>\n",
       "                            <span class=\"djtooltiptext\"></span>\n",
       "                        </div></th><th><div class=\"djtooltip\">\n",
       "                            <p id=\"nonprimary\">processing_output_dir</p>\n",
       "                            <span class=\"djtooltiptext\">output directory of the processed scan relative to root data directory</span>\n",
       "                        </div></th><th><div class=\"djtooltip\">\n",
       "                            <p id=\"nonprimary\">task_mode</p>\n",
       "                            <span class=\"djtooltiptext\">'load': load computed analysis results, 'trigger': trigger computation</span>\n",
       "                        </div></th><th><div class=\"djtooltip\">\n",
       "                            <p id=\"nonprimary\">processing_time</p>\n",
       "                            <span class=\"djtooltiptext\">time of generation of this set of processed, segmented results</span>\n",
       "                        </div></th><th><div class=\"djtooltip\">\n",
       "                            <p id=\"nonprimary\">package_version</p>\n",
       "                            <span class=\"djtooltiptext\"></span>\n",
       "                        </div> </th> </tr> </thead>\n",
       "            <tbody> <tr> <td>sess9FGLE1FN</td>\n",
       "<td>scan9FGLE1FN</td>\n",
       "<td>0</td>\n",
       "<td>/datajoint-data/data/tobiasr/RN_OPI-1681_2023-02-15_scan9FGLE1FN_sess9FGLE1FN</td>\n",
       "<td>trigger</td>\n",
       "<td>2023-03-17 18:15:40</td>\n",
       "<td></td> </tr> </tbody>\n",
       "        </table>\n",
       "        \n",
       "        <p>Total: 1</p></div>\n",
       "        "
      ],
      "text/plain": [
       "*session_id    *scan_id       *paramset_idx  processing_out task_mode     processing_tim package_versio\n",
       "+------------+ +------------+ +------------+ +------------+ +-----------+ +------------+ +------------+\n",
       "sess9FGLE1FN   scan9FGLE1FN   0              /datajoint-dat trigger       2023-03-17 18:               \n",
       " (Total: 1)"
      ]
     },
     "execution_count": 58,
     "metadata": {},
     "output_type": "execute_result"
    }
   ],
   "source": [
    "imaging.ProcessingTask * imaging.Processing & session_key"
   ]
  },
  {
   "cell_type": "code",
   "execution_count": 59,
   "id": "20cd7001",
   "metadata": {},
   "outputs": [
    {
     "data": {
      "text/html": [
       "\n",
       "    \n",
       "    <style type=\"text/css\">\n",
       "        .Table{\n",
       "            border-collapse:collapse;\n",
       "        }\n",
       "        .Table th{\n",
       "            background: #A0A0A0; color: #ffffff; padding:4px; border:#f0e0e0 1px solid;\n",
       "            font-weight: normal; font-family: monospace; font-size: 100%;\n",
       "        }\n",
       "        .Table td{\n",
       "            padding:4px; border:#f0e0e0 1px solid; font-size:100%;\n",
       "        }\n",
       "        .Table tr:nth-child(odd){\n",
       "            background: #ffffff;\n",
       "        }\n",
       "        .Table tr:nth-child(even){\n",
       "            background: #f3f1ff;\n",
       "        }\n",
       "        /* Tooltip container */\n",
       "        .djtooltip {\n",
       "        }\n",
       "        /* Tooltip text */\n",
       "        .djtooltip .djtooltiptext {\n",
       "            visibility: hidden;\n",
       "            width: 120px;\n",
       "            background-color: black;\n",
       "            color: #fff;\n",
       "            text-align: center;\n",
       "            padding: 5px 0;\n",
       "            border-radius: 6px;\n",
       "            /* Position the tooltip text - see examples below! */\n",
       "            position: absolute;\n",
       "            z-index: 1;\n",
       "        }\n",
       "        #primary {\n",
       "            font-weight: bold;\n",
       "            color: black;\n",
       "        }\n",
       "        #nonprimary {\n",
       "            font-weight: normal;\n",
       "            color: white;\n",
       "        }\n",
       "\n",
       "        /* Show the tooltip text when you mouse over the tooltip container */\n",
       "        .djtooltip:hover .djtooltiptext {\n",
       "            visibility: visible;\n",
       "        }\n",
       "    </style>\n",
       "    \n",
       "    <b>Different rounds of curation performed on the processing results of the imaging data (no-curation can also be included here)</b>\n",
       "        <div style=\"max-height:1000px;max-width:1500px;overflow:auto;\">\n",
       "        <table border=\"1\" class=\"Table\">\n",
       "            <thead> <tr style=\"text-align: right;\"> <th> <div class=\"djtooltip\">\n",
       "                            <p id=\"primary\">session_id</p>\n",
       "                            <span class=\"djtooltiptext\"></span>\n",
       "                        </div></th><th><div class=\"djtooltip\">\n",
       "                            <p id=\"primary\">scan_id</p>\n",
       "                            <span class=\"djtooltiptext\"></span>\n",
       "                        </div></th><th><div class=\"djtooltip\">\n",
       "                            <p id=\"primary\">paramset_idx</p>\n",
       "                            <span class=\"djtooltiptext\"></span>\n",
       "                        </div></th><th><div class=\"djtooltip\">\n",
       "                            <p id=\"primary\">curation_id</p>\n",
       "                            <span class=\"djtooltiptext\"></span>\n",
       "                        </div></th><th><div class=\"djtooltip\">\n",
       "                            <p id=\"nonprimary\">curation_time</p>\n",
       "                            <span class=\"djtooltiptext\">time of generation of this set of curated results</span>\n",
       "                        </div></th><th><div class=\"djtooltip\">\n",
       "                            <p id=\"nonprimary\">curation_output_dir</p>\n",
       "                            <span class=\"djtooltiptext\">output directory of the curated results, relative to root data directory</span>\n",
       "                        </div></th><th><div class=\"djtooltip\">\n",
       "                            <p id=\"nonprimary\">manual_curation</p>\n",
       "                            <span class=\"djtooltiptext\">has manual curation been performed on this result?</span>\n",
       "                        </div></th><th><div class=\"djtooltip\">\n",
       "                            <p id=\"nonprimary\">curation_note</p>\n",
       "                            <span class=\"djtooltiptext\"></span>\n",
       "                        </div> </th> </tr> </thead>\n",
       "            <tbody> <tr> <td>sess9FGLE1FN</td>\n",
       "<td>scan9FGLE1FN</td>\n",
       "<td>0</td>\n",
       "<td>1</td>\n",
       "<td>2023-03-17 18:15:40</td>\n",
       "<td>/datajoint-data/data/tobiasr/RN_OPI-1681_2023-02-15_scan9FGLE1FN_sess9FGLE1FN</td>\n",
       "<td>0</td>\n",
       "<td></td></tr><tr><td>sess9FGLE1FN</td>\n",
       "<td>scan9FGLE1FN</td>\n",
       "<td>0</td>\n",
       "<td>2</td>\n",
       "<td>2023-03-17 18:15:40</td>\n",
       "<td>/datajoint-data/data/tobiasr/RN_OPI-1681_2023-02-15_scan9FGLE1FN_sess9FGLE1FN</td>\n",
       "<td>0</td>\n",
       "<td></td></tr><tr><td>sess9FGLE1FN</td>\n",
       "<td>scan9FGLE1FN</td>\n",
       "<td>0</td>\n",
       "<td>3</td>\n",
       "<td>2023-03-17 18:15:40</td>\n",
       "<td>/datajoint-data/data/tobiasr/RN_OPI-1681_2023-02-15_scan9FGLE1FN_sess9FGLE1FN</td>\n",
       "<td>0</td>\n",
       "<td></td> </tr> </tbody>\n",
       "        </table>\n",
       "        \n",
       "        <p>Total: 3</p></div>\n",
       "        "
      ],
      "text/plain": [
       "*session_id    *scan_id       *paramset_idx  *curation_id   curation_time  curation_outpu manual_curatio curation_note \n",
       "+------------+ +------------+ +------------+ +------------+ +------------+ +------------+ +------------+ +------------+\n",
       "sess9FGLE1FN   scan9FGLE1FN   0              1              2023-03-17 18: /datajoint-dat 0                            \n",
       "sess9FGLE1FN   scan9FGLE1FN   0              2              2023-03-17 18: /datajoint-dat 0                            \n",
       "sess9FGLE1FN   scan9FGLE1FN   0              3              2023-03-17 18: /datajoint-dat 0                            \n",
       " (Total: 3)"
      ]
     },
     "execution_count": 59,
     "metadata": {},
     "output_type": "execute_result"
    }
   ],
   "source": [
    "imaging.Curation & session_key"
   ]
  },
  {
   "cell_type": "code",
   "execution_count": 62,
   "id": "9d23304e",
   "metadata": {},
   "outputs": [
    {
     "data": {
      "text/plain": [
       "{'session_id': 'sess9FGLE1FN',\n",
       " 'scan_id': 'scan9FGLE1FN',\n",
       " 'paramset_idx': 0,\n",
       " 'curation_id': 1}"
      ]
     },
     "execution_count": 62,
     "metadata": {},
     "output_type": "execute_result"
    }
   ],
   "source": [
    "curation_key = (imaging.Curation & session_key & 'curation_id=1').fetch1('KEY')\n",
    "curation_key"
   ]
  },
  {
   "cell_type": "code",
   "execution_count": 65,
   "id": "dbfef1ef",
   "metadata": {},
   "outputs": [
    {
     "data": {
      "text/html": [
       "\n",
       "    \n",
       "    <style type=\"text/css\">\n",
       "        .Table{\n",
       "            border-collapse:collapse;\n",
       "        }\n",
       "        .Table th{\n",
       "            background: #A0A0A0; color: #ffffff; padding:4px; border:#f0e0e0 1px solid;\n",
       "            font-weight: normal; font-family: monospace; font-size: 100%;\n",
       "        }\n",
       "        .Table td{\n",
       "            padding:4px; border:#f0e0e0 1px solid; font-size:100%;\n",
       "        }\n",
       "        .Table tr:nth-child(odd){\n",
       "            background: #ffffff;\n",
       "        }\n",
       "        .Table tr:nth-child(even){\n",
       "            background: #f3f1ff;\n",
       "        }\n",
       "        /* Tooltip container */\n",
       "        .djtooltip {\n",
       "        }\n",
       "        /* Tooltip text */\n",
       "        .djtooltip .djtooltiptext {\n",
       "            visibility: hidden;\n",
       "            width: 120px;\n",
       "            background-color: black;\n",
       "            color: #fff;\n",
       "            text-align: center;\n",
       "            padding: 5px 0;\n",
       "            border-radius: 6px;\n",
       "            /* Position the tooltip text - see examples below! */\n",
       "            position: absolute;\n",
       "            z-index: 1;\n",
       "        }\n",
       "        #primary {\n",
       "            font-weight: bold;\n",
       "            color: black;\n",
       "        }\n",
       "        #nonprimary {\n",
       "            font-weight: normal;\n",
       "            color: white;\n",
       "        }\n",
       "\n",
       "        /* Show the tooltip text when you mouse over the tooltip container */\n",
       "        .djtooltip:hover .djtooltiptext {\n",
       "            visibility: visible;\n",
       "        }\n",
       "    </style>\n",
       "    \n",
       "    <b>Summary images for each field and channel after corrections</b>\n",
       "        <div style=\"max-height:1000px;max-width:1500px;overflow:auto;\">\n",
       "        <table border=\"1\" class=\"Table\">\n",
       "            <thead> <tr style=\"text-align: right;\"> <th> <div class=\"djtooltip\">\n",
       "                            <p id=\"primary\">session_id</p>\n",
       "                            <span class=\"djtooltiptext\"></span>\n",
       "                        </div></th><th><div class=\"djtooltip\">\n",
       "                            <p id=\"primary\">scan_id</p>\n",
       "                            <span class=\"djtooltiptext\"></span>\n",
       "                        </div></th><th><div class=\"djtooltip\">\n",
       "                            <p id=\"primary\">paramset_idx</p>\n",
       "                            <span class=\"djtooltiptext\"></span>\n",
       "                        </div></th><th><div class=\"djtooltip\">\n",
       "                            <p id=\"primary\">curation_id</p>\n",
       "                            <span class=\"djtooltiptext\"></span>\n",
       "                        </div></th><th><div class=\"djtooltip\">\n",
       "                            <p id=\"primary\">field_idx</p>\n",
       "                            <span class=\"djtooltiptext\"></span>\n",
       "                        </div></th><th><div class=\"djtooltip\">\n",
       "                            <p id=\"nonprimary\">ref_image</p>\n",
       "                            <span class=\"djtooltiptext\">image used as alignment template</span>\n",
       "                        </div></th><th><div class=\"djtooltip\">\n",
       "                            <p id=\"nonprimary\">average_image</p>\n",
       "                            <span class=\"djtooltiptext\">mean of registered frames</span>\n",
       "                        </div></th><th><div class=\"djtooltip\">\n",
       "                            <p id=\"nonprimary\">correlation_image</p>\n",
       "                            <span class=\"djtooltiptext\">correlation map (computed during cell detection)</span>\n",
       "                        </div></th><th><div class=\"djtooltip\">\n",
       "                            <p id=\"nonprimary\">max_proj_image</p>\n",
       "                            <span class=\"djtooltiptext\">max of registered frames</span>\n",
       "                        </div> </th> </tr> </thead>\n",
       "            <tbody> <tr>  </tr> </tbody>\n",
       "        </table>\n",
       "        \n",
       "        <p>Total: 0</p></div>\n",
       "        "
      ],
      "text/plain": [
       "*session_id    *scan_id    *paramset_idx  *curation_id   *field_idx    ref_image  average_im correlatio max_proj_i\n",
       "+------------+ +---------+ +------------+ +------------+ +-----------+ +--------+ +--------+ +--------+ +--------+\n",
       "\n",
       " (Total: 0)"
      ]
     },
     "execution_count": 65,
     "metadata": {},
     "output_type": "execute_result"
    }
   ],
   "source": [
    "imaging.MotionCorrection.Summary()"
   ]
  },
  {
   "cell_type": "code",
   "execution_count": 63,
   "id": "53d9eb0f",
   "metadata": {},
   "outputs": [
    {
     "ename": "DataJointError",
     "evalue": "fetch1 should only return one tuple. 0 tuples found",
     "output_type": "error",
     "traceback": [
      "\u001b[0;31m---------------------------------------------------------------------------\u001b[0m",
      "\u001b[0;31mDataJointError\u001b[0m                            Traceback (most recent call last)",
      "Cell \u001b[0;32mIn[63], line 1\u001b[0m\n\u001b[0;32m----> 1\u001b[0m average_image \u001b[39m=\u001b[39m (imaging\u001b[39m.\u001b[39;49mMotionCorrection\u001b[39m.\u001b[39;49mSummary \u001b[39m&\u001b[39;49m curation_key \u001b[39m&\u001b[39;49m \u001b[39m'\u001b[39;49m\u001b[39mfield_idx=0\u001b[39;49m\u001b[39m'\u001b[39;49m)\u001b[39m.\u001b[39;49mfetch1(\u001b[39m'\u001b[39;49m\u001b[39maverage_image\u001b[39;49m\u001b[39m'\u001b[39;49m)\n",
      "File \u001b[0;32m~/miniconda3/envs/datajoint/lib/python3.8/site-packages/datajoint/fetch.py:352\u001b[0m, in \u001b[0;36mFetch1.__call__\u001b[0;34m(self, squeeze, download_path, *attrs)\u001b[0m\n\u001b[1;32m    348\u001b[0m result \u001b[39m=\u001b[39m \u001b[39mself\u001b[39m\u001b[39m.\u001b[39m_expression\u001b[39m.\u001b[39mproj(\u001b[39m*\u001b[39mattributes)\u001b[39m.\u001b[39mfetch(\n\u001b[1;32m    349\u001b[0m     squeeze\u001b[39m=\u001b[39msqueeze, download_path\u001b[39m=\u001b[39mdownload_path, \u001b[39mformat\u001b[39m\u001b[39m=\u001b[39m\u001b[39m\"\u001b[39m\u001b[39marray\u001b[39m\u001b[39m\"\u001b[39m\n\u001b[1;32m    350\u001b[0m )\n\u001b[1;32m    351\u001b[0m \u001b[39mif\u001b[39;00m \u001b[39mlen\u001b[39m(result) \u001b[39m!=\u001b[39m \u001b[39m1\u001b[39m:\n\u001b[0;32m--> 352\u001b[0m     \u001b[39mraise\u001b[39;00m DataJointError(\n\u001b[1;32m    353\u001b[0m         \u001b[39m\"\u001b[39m\u001b[39mfetch1 should only return one tuple. \u001b[39m\u001b[39m%d\u001b[39;00m\u001b[39m tuples found\u001b[39m\u001b[39m\"\u001b[39m \u001b[39m%\u001b[39m \u001b[39mlen\u001b[39m(result)\n\u001b[1;32m    354\u001b[0m     )\n\u001b[1;32m    355\u001b[0m return_values \u001b[39m=\u001b[39m \u001b[39mtuple\u001b[39m(\n\u001b[1;32m    356\u001b[0m     \u001b[39mnext\u001b[39m(to_dicts(result[\u001b[39mself\u001b[39m\u001b[39m.\u001b[39m_expression\u001b[39m.\u001b[39mprimary_key]))\n\u001b[1;32m    357\u001b[0m     \u001b[39mif\u001b[39;00m is_key(attribute)\n\u001b[1;32m    358\u001b[0m     \u001b[39melse\u001b[39;00m result[attribute][\u001b[39m0\u001b[39m]\n\u001b[1;32m    359\u001b[0m     \u001b[39mfor\u001b[39;00m attribute \u001b[39min\u001b[39;00m attrs\n\u001b[1;32m    360\u001b[0m )\n\u001b[1;32m    361\u001b[0m ret \u001b[39m=\u001b[39m return_values[\u001b[39m0\u001b[39m] \u001b[39mif\u001b[39;00m \u001b[39mlen\u001b[39m(attrs) \u001b[39m==\u001b[39m \u001b[39m1\u001b[39m \u001b[39melse\u001b[39;00m return_values\n",
      "\u001b[0;31mDataJointError\u001b[0m: fetch1 should only return one tuple. 0 tuples found"
     ]
    }
   ],
   "source": [
    "average_image = (imaging.MotionCorrection.Summary & curation_key & 'field_idx=0').fetch1('average_image')"
   ]
  },
  {
   "cell_type": "code",
   "execution_count": null,
   "id": "43cad261",
   "metadata": {},
   "outputs": [],
   "source": []
  },
  {
   "cell_type": "markdown",
   "id": "8a6c4674",
   "metadata": {},
   "source": [
    "## Exploring updates"
   ]
  },
  {
   "cell_type": "code",
   "execution_count": 32,
   "id": "1f2021e9",
   "metadata": {},
   "outputs": [
    {
     "data": {
      "image/svg+xml": "<svg xmlns=\"http://www.w3.org/2000/svg\" xmlns:xlink=\"http://www.w3.org/1999/xlink\" width=\"662pt\" height=\"389pt\" viewBox=\"0.00 0.00 662.00 389.00\">\n<g id=\"graph0\" class=\"graph\" transform=\"scale(1 1) rotate(0) translate(4 385)\">\n<title>%3</title>\n<polygon fill=\"white\" stroke=\"transparent\" points=\"-4,4 -4,-385 658,-385 658,4 -4,4\"/>\n<!-- session.Session -->\n<g id=\"node1\" class=\"node\">\n<title>session.Session</title>\n<g id=\"a_node1\"><a xlink:title=\"session_id           \r------------------------------\r→ subject.Subject\rsession_datetime     \r\">\n<polygon fill=\"#00ff00\" fill-opacity=\"0.188235\" stroke=\"#00ff00\" stroke-opacity=\"0.188235\" points=\"521,-310 417,-310 417,-275 521,-275 521,-310\"/>\n<text text-anchor=\"start\" x=\"425\" y=\"-290.4\" font-family=\"arial\" text-decoration=\"underline\" font-size=\"12.00\" fill=\"darkgreen\">session.Session</text>\n</a>\n</g>\n</g>\n<!-- scan.Scan -->\n<g id=\"node12\" class=\"node\">\n<title>scan.Scan</title>\n<g id=\"a_node12\"><a xlink:title=\"→ session.Session\rscan_id              \r------------------------------\r→ [nullable] equipment.Equipment\r→ scan.AcquisitionSoftware\rscan_notes=&quot;&quot;        \r\">\n<polygon fill=\"#00ff00\" fill-opacity=\"0.188235\" stroke=\"#00ff00\" stroke-opacity=\"0.188235\" points=\"438.5,-239 365.5,-239 365.5,-204 438.5,-204 438.5,-239\"/>\n<text text-anchor=\"start\" x=\"373.5\" y=\"-219.4\" font-family=\"arial\" text-decoration=\"underline\" font-size=\"12.00\" fill=\"darkgreen\">scan.Scan</text>\n</a>\n</g>\n</g>\n<!-- session.Session&#45;&gt;scan.Scan -->\n<g id=\"edge1\" class=\"edge\">\n<title>session.Session-&gt;scan.Scan</title>\n<path fill=\"none\" stroke=\"#000000\" stroke-width=\"0.75\" stroke-opacity=\"0.250980\" d=\"M452.78,-274.8C442.25,-263.95 428.57,-249.87 418.07,-239.05\"/>\n</g>\n<!-- scan.ScanInfo.Field -->\n<g id=\"node2\" class=\"node\">\n<title>scan.ScanInfo.Field</title>\n<g id=\"a_node2\"><a xlink:title=\"→ scan.ScanInfo\rfield_idx            \r------------------------------\rpx_height            \rpx_width             \rum_height=null       \rum_width=null        \rfield_x=null         \rfield_y=null         \rfield_z=null         \rdelay_image=null     \rroi=null             \r\">\n<polygon fill=\"transparent\" stroke=\"transparent\" points=\"104,-93.5 0,-93.5 0,-74.5 104,-74.5 104,-93.5\"/>\n<text text-anchor=\"start\" x=\"8\" y=\"-82.5\" font-family=\"arial\" text-decoration=\"underline\" font-size=\"10.00\">scan.ScanInfo.Field</text>\n</a>\n</g>\n</g>\n<!-- imaging.Processing -->\n<g id=\"node3\" class=\"node\">\n<title>imaging.Processing</title>\n<g id=\"a_node3\"><a xlink:title=\"→ imaging.ProcessingTask\r------------------------------\rprocessing_time      \rpackage_version=&quot;&quot;   \r\">\n<ellipse fill=\"#ff0000\" fill-opacity=\"0.125490\" stroke=\"#ff0000\" stroke-opacity=\"0.125490\" cx=\"327\" cy=\"-84\" rx=\"13\" ry=\"13\"/>\n<text text-anchor=\"middle\" x=\"327\" y=\"-80.9\" font-family=\"arial\" font-size=\"12.00\" fill=\"#7f0000\" fill-opacity=\"0.627451\">imaging.Processing</text>\n</a>\n</g>\n</g>\n<!-- imaging.Curation -->\n<g id=\"node7\" class=\"node\">\n<title>imaging.Curation</title>\n<g id=\"a_node7\"><a xlink:title=\"→ imaging.Processing\rcuration_id          \r------------------------------\rcuration_time        \rcuration_output_dir  \rmanual_curation      \rcuration_note=&quot;&quot;     \r\">\n<polygon fill=\"#00ff00\" fill-opacity=\"0.188235\" stroke=\"#00ff00\" stroke-opacity=\"0.188235\" points=\"381,-35 273,-35 273,0 381,0 381,-35\"/>\n<text text-anchor=\"start\" x=\"281\" y=\"-15.4\" font-family=\"arial\" text-decoration=\"underline\" font-size=\"12.00\" fill=\"darkgreen\">imaging.Curation</text>\n</a>\n</g>\n</g>\n<!-- imaging.Processing&#45;&gt;imaging.Curation -->\n<g id=\"edge2\" class=\"edge\">\n<title>imaging.Processing-&gt;imaging.Curation</title>\n<path fill=\"none\" stroke=\"#000000\" stroke-width=\"0.75\" stroke-opacity=\"0.250980\" d=\"M327,-70.87C327,-60.8 327,-46.37 327,-35.2\"/>\n</g>\n<!-- scan.AcquisitionSoftware -->\n<g id=\"node4\" class=\"node\">\n<title>scan.AcquisitionSoftware</title>\n<g id=\"a_node4\"><a xlink:title=\"acq_software         \r\">\n<polygon fill=\"#000000\" fill-opacity=\"0.125490\" stroke=\"transparent\" points=\"399,-310 271,-310 271,-275 399,-275 399,-310\"/>\n<text text-anchor=\"start\" x=\"279\" y=\"-291\" font-family=\"arial\" text-decoration=\"underline\" font-size=\"10.00\">scan.AcquisitionSoftware</text>\n</a>\n</g>\n</g>\n<!-- scan.AcquisitionSoftware&#45;&gt;scan.Scan -->\n<g id=\"edge3\" class=\"edge\">\n<title>scan.AcquisitionSoftware-&gt;scan.Scan</title>\n<path fill=\"none\" stroke=\"#000000\" stroke-width=\"0.75\" stroke-dasharray=\"5,2\" stroke-opacity=\"0.250980\" d=\"M351.22,-274.8C361.75,-263.95 375.43,-249.87 385.93,-239.05\"/>\n</g>\n<!-- scan.ScanInfo -->\n<g id=\"node5\" class=\"node\">\n<title>scan.ScanInfo</title>\n<g id=\"a_node5\"><a xlink:title=\"→ scan.Scan\r------------------------------\rnfields              \rnchannels            \rndepths              \rnframes              \rnrois                \rx=null               \ry=null               \rz=null               \rfps                  \rbidirectional        \rusecs_per_line=null  \rfill_fraction=null   \rscan_datetime=null   \rscan_duration=null   \r\">\n<ellipse fill=\"#00007f\" fill-opacity=\"0.250980\" stroke=\"#00007f\" stroke-opacity=\"0.250980\" cx=\"178\" cy=\"-150.5\" rx=\"57.5\" ry=\"17.5\"/>\n<text text-anchor=\"middle\" x=\"178\" y=\"-147.4\" font-family=\"arial\" font-size=\"12.00\" fill=\"#00007f\" fill-opacity=\"0.627451\">scan.ScanInfo</text>\n</a>\n</g>\n</g>\n<!-- scan.ScanInfo&#45;&gt;scan.ScanInfo.Field -->\n<g id=\"edge4\" class=\"edge\">\n<title>scan.ScanInfo-&gt;scan.ScanInfo.Field</title>\n<path fill=\"none\" stroke=\"#000000\" stroke-width=\"0.75\" stroke-opacity=\"0.250980\" d=\"M150.04,-135.19C125.1,-122.42 89.41,-104.15 68.68,-93.54\"/>\n</g>\n<!-- scan.ScanInfo.ScanFile -->\n<g id=\"node11\" class=\"node\">\n<title>scan.ScanInfo.ScanFile</title>\n<g id=\"a_node11\"><a xlink:title=\"→ scan.ScanInfo\rfile_path            \r\">\n<polygon fill=\"transparent\" stroke=\"transparent\" points=\"243.5,-93.5 122.5,-93.5 122.5,-74.5 243.5,-74.5 243.5,-93.5\"/>\n<text text-anchor=\"start\" x=\"130.5\" y=\"-82.5\" font-family=\"arial\" text-decoration=\"underline\" font-size=\"10.00\">scan.ScanInfo.ScanFile</text>\n</a>\n</g>\n</g>\n<!-- scan.ScanInfo&#45;&gt;scan.ScanInfo.ScanFile -->\n<g id=\"edge5\" class=\"edge\">\n<title>scan.ScanInfo-&gt;scan.ScanInfo.ScanFile</title>\n<path fill=\"none\" stroke=\"#000000\" stroke-width=\"0.75\" stroke-opacity=\"0.250980\" d=\"M179.29,-132.89C180.26,-120.35 181.55,-103.64 182.33,-93.64\"/>\n</g>\n<!-- subject.Subject -->\n<g id=\"node6\" class=\"node\">\n<title>subject.Subject</title>\n<g id=\"a_node6\"><a xlink:title=\"subject              \r------------------------------\rearmark              \rsex                  \rbirth_date           \rdeath_date=null      \rgeneration=&quot;&quot;        \rparent_ids           \r→ subject.User.proj(owner_id=&quot;user_id&quot;)\r→ subject.User.proj(responsible_id=&quot;user_id&quot;)\r→ subject.Line\r→ subject.Protocol\r\">\n<polygon fill=\"#00ff00\" fill-opacity=\"0.188235\" stroke=\"#00ff00\" stroke-opacity=\"0.188235\" points=\"518,-381 420,-381 420,-346 518,-346 518,-381\"/>\n<text text-anchor=\"start\" x=\"428\" y=\"-361.4\" font-family=\"arial\" text-decoration=\"underline\" font-size=\"12.00\" fill=\"darkgreen\">subject.Subject</text>\n</a>\n</g>\n</g>\n<!-- subject.Subject&#45;&gt;session.Session -->\n<g id=\"edge6\" class=\"edge\">\n<title>subject.Subject-&gt;session.Session</title>\n<path fill=\"none\" stroke=\"#000000\" stroke-width=\"0.75\" stroke-dasharray=\"5,2\" stroke-opacity=\"0.250980\" d=\"M469,-345.8C469,-334.95 469,-320.87 469,-310.05\"/>\n</g>\n<!-- imaging.ProcessingTask -->\n<g id=\"node8\" class=\"node\">\n<title>imaging.ProcessingTask</title>\n<g id=\"a_node8\"><a xlink:title=\"→ scan.Scan\r→ imaging.ProcessingParamSet\r------------------------------\rprocessing_output_dir \rtask_mode=&quot;load&quot;     \r\">\n<polygon fill=\"#00ff00\" fill-opacity=\"0.188235\" stroke=\"#00ff00\" stroke-opacity=\"0.188235\" points=\"400.5,-168 253.5,-168 253.5,-133 400.5,-133 400.5,-168\"/>\n<text text-anchor=\"middle\" x=\"327\" y=\"-147.4\" font-family=\"arial\" font-size=\"12.00\" fill=\"darkgreen\">imaging.ProcessingTask</text>\n</a>\n</g>\n</g>\n<!-- imaging.ProcessingTask&#45;&gt;imaging.Processing -->\n<g id=\"edge7\" class=\"edge\">\n<title>imaging.ProcessingTask-&gt;imaging.Processing</title>\n<path fill=\"none\" stroke=\"#000000\" stroke-width=\"2\" stroke-opacity=\"0.250980\" d=\"M327,-132.89C327,-121.69 327,-107.17 327,-97.07\"/>\n</g>\n<!-- scan.Channel -->\n<g id=\"node9\" class=\"node\">\n<title>scan.Channel</title>\n<g id=\"a_node9\"><a xlink:title=\"channel              \r\">\n<polygon fill=\"#000000\" fill-opacity=\"0.125490\" stroke=\"transparent\" points=\"613.5,-381 536.5,-381 536.5,-346 613.5,-346 613.5,-381\"/>\n<text text-anchor=\"start\" x=\"544.5\" y=\"-362\" font-family=\"arial\" text-decoration=\"underline\" font-size=\"10.00\">scan.Channel</text>\n</a>\n</g>\n</g>\n<!-- scan.ScanLocation -->\n<g id=\"node10\" class=\"node\">\n<title>scan.ScanLocation</title>\n<g id=\"a_node10\"><a xlink:title=\"→ scan.Scan\r------------------------------\r→ surgery.AnatomicalLocation\r\">\n<polygon fill=\"#00ff00\" fill-opacity=\"0.188235\" stroke=\"#00ff00\" stroke-opacity=\"0.188235\" points=\"537.5,-168 418.5,-168 418.5,-133 537.5,-133 537.5,-168\"/>\n<text text-anchor=\"middle\" x=\"478\" y=\"-147.4\" font-family=\"arial\" font-size=\"12.00\" fill=\"darkgreen\">scan.ScanLocation</text>\n</a>\n</g>\n</g>\n<!-- scan.Scan&#45;&gt;scan.ScanInfo -->\n<g id=\"edge8\" class=\"edge\">\n<title>scan.Scan-&gt;scan.ScanInfo</title>\n<path fill=\"none\" stroke=\"#000000\" stroke-width=\"2\" stroke-opacity=\"0.250980\" d=\"M365.01,-209.11C324.13,-196.51 258.57,-176.32 216.93,-163.49\"/>\n</g>\n<!-- scan.Scan&#45;&gt;imaging.ProcessingTask -->\n<g id=\"edge9\" class=\"edge\">\n<title>scan.Scan-&gt;imaging.ProcessingTask</title>\n<path fill=\"none\" stroke=\"#000000\" stroke-width=\"0.75\" stroke-opacity=\"0.250980\" d=\"M383.84,-203.8C372.05,-192.95 356.75,-178.87 344.99,-168.05\"/>\n</g>\n<!-- scan.Scan&#45;&gt;scan.ScanLocation -->\n<g id=\"edge10\" class=\"edge\">\n<title>scan.Scan-&gt;scan.ScanLocation</title>\n<path fill=\"none\" stroke=\"#000000\" stroke-width=\"2\" stroke-opacity=\"0.250980\" d=\"M420.4,-203.8C432.35,-192.95 447.86,-178.87 459.77,-168.05\"/>\n</g>\n<!-- scan.ScanPath -->\n<g id=\"node13\" class=\"node\">\n<title>scan.ScanPath</title>\n<g id=\"a_node13\"><a xlink:title=\"→ scan.Scan\r→ subject.User\rpath                 \r\">\n<polygon fill=\"#00ff00\" fill-opacity=\"0.188235\" stroke=\"#00ff00\" stroke-opacity=\"0.188235\" points=\"654,-168 556,-168 556,-133 654,-133 654,-168\"/>\n<text text-anchor=\"start\" x=\"564\" y=\"-148.4\" font-family=\"arial\" text-decoration=\"underline\" font-size=\"12.00\" fill=\"darkgreen\">scan.ScanPath</text>\n</a>\n</g>\n</g>\n<!-- scan.Scan&#45;&gt;scan.ScanPath -->\n<g id=\"edge11\" class=\"edge\">\n<title>scan.Scan-&gt;scan.ScanPath</title>\n<path fill=\"none\" stroke=\"#000000\" stroke-width=\"0.75\" stroke-opacity=\"0.250980\" d=\"M438.76,-208C471.67,-196.82 520.15,-180.34 556.28,-168.06\"/>\n</g>\n</g>\n</svg>",
      "text/plain": [
       "<datajoint.diagram.Diagram at 0x7ff467b8ebb0>"
      ]
     },
     "execution_count": 32,
     "metadata": {},
     "output_type": "execute_result"
    }
   ],
   "source": [
    "dj.Diagram(subject.Subject) + dj.Diagram(session.Session) + dj.Diagram(scan) + dj.Diagram(imaging.Processing) + dj.Diagram(imaging.Curation)"
   ]
  },
  {
   "cell_type": "code",
   "execution_count": 16,
   "id": "ffca0707",
   "metadata": {},
   "outputs": [
    {
     "ename": "ModuleNotFoundError",
     "evalue": "No module named 'element_calcium_imaging.plotting'",
     "output_type": "error",
     "traceback": [
      "\u001b[0;31m---------------------------------------------------------------------------\u001b[0m",
      "\u001b[0;31mModuleNotFoundError\u001b[0m                       Traceback (most recent call last)",
      "Cell \u001b[0;32mIn[16], line 1\u001b[0m\n\u001b[0;32m----> 1\u001b[0m \u001b[39mfrom\u001b[39;00m \u001b[39melement_calcium_imaging\u001b[39;00m\u001b[39m.\u001b[39;00m\u001b[39mplotting\u001b[39;00m\u001b[39m.\u001b[39;00m\u001b[39mwidget\u001b[39;00m \u001b[39mimport\u001b[39;00m main\n",
      "\u001b[0;31mModuleNotFoundError\u001b[0m: No module named 'element_calcium_imaging.plotting'"
     ]
    }
   ],
   "source": [
    "from element_calcium_imaging.plotting.widget import main"
   ]
  },
  {
   "cell_type": "markdown",
   "id": "b919eafa",
   "metadata": {},
   "source": []
  },
  {
   "attachments": {},
   "cell_type": "markdown",
   "id": "bd20d2f6",
   "metadata": {},
   "source": [
    "selected_data"
   ]
  },
  {
   "cell_type": "code",
   "execution_count": null,
   "id": "41b48960",
   "metadata": {},
   "outputs": [],
   "source": [
    "sessi = \"sess9FG1TAXY\"\n",
    "query = session.Session() * scan.Scan() & f'session_id = \"{sessi}\"'\n",
    "scans_to_process = query.fetch(\"scan_id\")\n",
    "for j, scansi in enumerate(scans_to_process):\n",
    "    print(scansi)"
   ]
  },
  {
   "cell_type": "code",
   "execution_count": null,
   "id": "249406a8",
   "metadata": {},
   "outputs": [],
   "source": [
    "session.Session() * session.SessionRspace()"
   ]
  },
  {
   "cell_type": "code",
   "execution_count": null,
   "id": "654a9b89",
   "metadata": {},
   "outputs": [],
   "source": [
    "subject.Subject.delete()"
   ]
  },
  {
   "cell_type": "markdown",
   "id": "1874b0d0",
   "metadata": {},
   "source": [
    "### 2.1 Session notes ingest"
   ]
  },
  {
   "cell_type": "code",
   "execution_count": null,
   "id": "0ba0b342",
   "metadata": {},
   "outputs": [],
   "source": [
    "current_session = \"sess9FGTSPEH\"\n",
    "query = session.Session() * scan.Scan() & f'session_id = \"{current_session}\"'\n",
    "equipment_dropdown_value = query.fetch(\"scanner\")\n",
    "equipment_dropdown_value"
   ]
  },
  {
   "cell_type": "markdown",
   "id": "20416320",
   "metadata": {},
   "source": [
    "## 3. Scan ingest / s2p processing 1st pass"
   ]
  },
  {
   "cell_type": "code",
   "execution_count": null,
   "id": "159a6d62",
   "metadata": {},
   "outputs": [],
   "source": [
    "query = session.Session() * scan.ScanLocation() & f'session_id = \"{current_session}\"'"
   ]
  },
  {
   "cell_type": "code",
   "execution_count": null,
   "id": "c0f1f0ca",
   "metadata": {},
   "outputs": [],
   "source": [
    "query"
   ]
  },
  {
   "cell_type": "code",
   "execution_count": null,
   "id": "bb5433d4",
   "metadata": {},
   "outputs": [],
   "source": []
  }
 ],
 "metadata": {
  "jupytext": {
   "formats": "ipynb,py"
  },
  "kernelspec": {
   "display_name": "Python 3 (ipykernel)",
   "language": "python",
   "name": "python3"
  },
  "language_info": {
   "codemirror_mode": {
    "name": "ipython",
    "version": 3
   },
   "file_extension": ".py",
   "mimetype": "text/x-python",
   "name": "python",
   "nbconvert_exporter": "python",
   "pygments_lexer": "ipython3",
   "version": "3.8.16"
  },
  "vscode": {
   "interpreter": {
    "hash": "2888206d04306eefe963095373d1dcce5cd11176f3d6ee4ec3f64dd9e65fd8a1"
   }
  }
 },
 "nbformat": 4,
 "nbformat_minor": 5
}
