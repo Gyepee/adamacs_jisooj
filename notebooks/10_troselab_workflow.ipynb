{
 "cells": [
  {
   "cell_type": "markdown",
   "id": "86cc1ca7",
   "metadata": {},
   "source": [
    "# Daily workflow - troselab (DRAFT)"
   ]
  },
  {
   "cell_type": "markdown",
   "id": "5eaa674c",
   "metadata": {},
   "source": [
    "`TR TODO: Jupyter ipywidget GUI`\n",
    "\n",
    "(check Daniel's ipysheet mouse entry GUI for inspiration)\n",
    "\n",
    "1. Upload to analysis server\n",
    "    1. automatic (rcopy with file consolidation)?\n",
    "    2. WinSCP?\n",
    "\n",
    "    \n",
    "2. Session ingest - Have this script parse the user folder. \n",
    "    1. retrieve login name  **DONE**\n",
    "    2. parse user storage folder for SessionIDs, ScanIDs **DONE**\n",
    "    3. intersect with 'Session' tables **DONE**\n",
    "    4. FIRST STEP: session ingestion of new data  **DONE**\n",
    "        1. have ipywidget with list of data to be ingested with checkbox  **DONE**\n",
    "        2. have dropdowns next to SessionsFetch that expose 'Project', 'Anatomical Location', 'Equipment' (NOTE: have me or admin accept new entries? Or user?) - have a user default **DONE**\n",
    "        3. have central 'START' button **DONE**\n",
    "        5. OPTIONAL: Have a notebook section to enter and insert Session Notes\n",
    "        6. OPTIONAL: Submit Sessions to pyrat. Not sure if necessary.\n",
    "        7. TODO: Think if splitting projects off to different database suffixes (and differnt associated tables makes sense from here. Seems reasonable given the focus on the user root directory here.\n",
    "        8. TODO: Implement auto animal pyrat ingest if needed. Crashes now.\n",
    "\n",
    "\n",
    "\n",
    "3. Scan ingest / 1st stage s2p processing: \n",
    "    1. have another list with checkboxes (default checled) - now with all first stage scans of the newly ingested sessions. Have dropdown boxes with s2p parameteres. User default is selected. Followed by 'START'\n",
    "    2. TODO: suppress s2p output, just have progress bars\n",
    "    3. OPTIONAL: Have a notebook section to enter and insert Scan Notes\n",
    "    4. OPTIONAL: Submit sessions, scans and Notes to RSPACE! Upload s2p average image, max image, Source image and Rastermap \n",
    "    \n",
    "\n",
    "4. Scan Curation\n",
    "    1. DIFFERENT NOTEBOOK (or different Notebook section)\n",
    "    2. Make intersection of folder with database\n",
    "        1. list _all_ scans\n",
    "        2. have all non-curated red - the others green\n",
    "        3. bhave non-processed scans grey\n",
    "        4. have 'CURATE LOCALLY WITH s2P' buttons behind all scans. This button should spawn a local suite2p GUI which directly loads the respective suite2p stats.npy file from the server. Folder settings for server need to be set in datajoint.json file.\n",
    "\n",
    "5. SERVER: Database backup and Data folder backup\n",
    "    1. Have cronjob backup database to ana2 and isilon (midnight, incremental - only add, no delete. Increment ID to be reversible?)\n",
    "    2. Have cronjob backup data folders to ana2 and isilon (midnight, incremental - only add, no delete)"
   ]
  },
  {
   "cell_type": "markdown",
   "id": "634ec7b4",
   "metadata": {},
   "source": [
    "## Login\n",
    "\n",
    "Either log in via a local config file (see [01_pipeline](./01_pipeline.ipynb)), or enter login information manually. If you are don't have your login information, contact the administrator.\n"
   ]
  },
  {
   "cell_type": "code",
   "execution_count": 3,
   "id": "0b1bebf0",
   "metadata": {},
   "outputs": [],
   "source": [
    "import os\n",
    "# change to the upper level folder to detect dj_local_conf.json\n",
    "if os.path.basename(os.getcwd())=='notebooks': os.chdir('..')\n",
    "assert os.path.basename(os.getcwd())=='adamacs', (\"Please move to the main directory\")\n",
    "from adamacs.pipeline import subject, session, equipment, surgery \n",
    "from adamacs.ingest import session as isess\n",
    "import datajoint as dj\n",
    "import ipywidgets as widgets\n",
    "from natsort import natsorted, ns\n",
    "import re"
   ]
  },
  {
   "cell_type": "code",
   "execution_count": 4,
   "id": "d54fab2b",
   "metadata": {},
   "outputs": [
    {
     "name": "stdout",
     "output_type": "stream",
     "text": [
      "database Prefix: tobiasr_\n"
     ]
    }
   ],
   "source": [
    "db_prefix = dj.config['custom'].get('database.prefix')\n",
    "print('database Prefix:', db_prefix)"
   ]
  },
  {
   "cell_type": "markdown",
   "id": "d29453ed",
   "metadata": {},
   "source": [
    "## Activation\n",
    "Next, import from `adamacs.pipeline` to activate the relevant schema."
   ]
  },
  {
   "cell_type": "code",
   "execution_count": 5,
   "id": "f27dcb14",
   "metadata": {},
   "outputs": [],
   "source": [
    "from adamacs.utility import *\n",
    "from adamacs.nbgui import *\n",
    "from adamacs.pipeline import subject, session, surgery, scan, equipment\n",
    "import ipywidgets as widgets"
   ]
  },
  {
   "cell_type": "markdown",
   "id": "8cd8be94",
   "metadata": {},
   "source": [
    "Assign easy names for relevant tables"
   ]
  },
  {
   "cell_type": "code",
   "execution_count": 6,
   "id": "30485290",
   "metadata": {},
   "outputs": [],
   "source": [
    "sub, lab, protocol, line, mutation, user, project, subject_genotype, subject_death = (\n",
    "    subject.Subject(), subject.Lab(), subject.Protocol(), subject.Line(), \n",
    "    subject.Mutation(), subject.User(), subject.Project(), subject.SubjectGenotype(), \n",
    "    subject.SubjectDeath()\n",
    "    )"
   ]
  },
  {
   "cell_type": "markdown",
   "id": "807a36ef",
   "metadata": {},
   "source": [
    "## 1. Data upload\n",
    "(not implemented currently)"
   ]
  },
  {
   "cell_type": "markdown",
   "id": "d83b5668",
   "metadata": {},
   "source": [
    "## 2. Session ingest"
   ]
  },
  {
   "cell_type": "markdown",
   "id": "cb2fabde",
   "metadata": {},
   "source": [
    "### Define ingest GUI functions"
   ]
  },
  {
   "cell_type": "code",
   "execution_count": 13,
   "id": "4e8164fb",
   "metadata": {},
   "outputs": [],
   "source": [
    "# Tobias Rose 2023: Routine ingest helpers\n",
    "\n",
    "def select_sessions(SessionDirA, SessionDirB, Project, Recording_Location, Equipment, s2pparm):\n",
    "    \n",
    "    # Personal default values\n",
    "    user_defaults = get_user_defaults(SessionDirB)\n",
    "       \n",
    "    # Define the widgets\n",
    "    session_dropdowns = []\n",
    "    session_checkboxes = []\n",
    "    for i, session_list in enumerate(SessionDirB):\n",
    "        # Dropdowns for Project, Recording Location, Equipment\n",
    "        project_dropdown = widgets.Dropdown(options=Project, value=Project[user_defaults[i][0]])\n",
    "        location_dropdown = widgets.Dropdown(options=Recording_Location, value=Recording_Location[user_defaults[i][1]])\n",
    "        equipment_dropdown = widgets.Dropdown(options=Equipment, value=Equipment[user_defaults[i][2]])\n",
    "        s2pparms_dropdown = widgets.Dropdown(options=s2pparm, value=s2pparm[user_defaults[i][3]])\n",
    "        session_dropdowns.append((project_dropdown, location_dropdown, equipment_dropdown, s2pparms_dropdown))\n",
    "        # Checkbox for Process?\n",
    "        session_checkbox = widgets.Checkbox(description='run?', layout=widgets.Layout(width='auto'))\n",
    "        session_checkboxes.append(session_checkbox)\n",
    "\n",
    "    # Display the widgets\n",
    "    output = widgets.Output()\n",
    "\n",
    "    with output:\n",
    "        # Display the Sessions labels and associated dropdowns and checkboxes\n",
    "        hbox_list = []\n",
    "        for i, session_list in enumerate(SessionDirB): #unique_directory_strings(SessionDirA, SessionDirB)\n",
    "            # Create an HBox to hold the label and associated dropdowns and checkbox\n",
    "            hbox = widgets.HBox()\n",
    "            hbox.children = [\n",
    "                widgets.Label(value=session_list + ':', layout=widgets.Layout(width='1800px')), \n",
    "                session_dropdowns[i][0],\n",
    "                session_dropdowns[i][1],\n",
    "                session_dropdowns[i][2],\n",
    "                session_dropdowns[i][3],\n",
    "                session_checkboxes[i]\n",
    "            ]\n",
    "            if session_list in unique_directory_strings(SessionDirA, SessionDirB):\n",
    "                hbox.children[0].value = '*' + session_list + ':'\n",
    "                hbox.children[5].value = True\n",
    "            else:\n",
    "                hbox.children[5].value = False\n",
    "            hbox_list.append(hbox)\n",
    "\n",
    "        vbox = widgets.VBox(hbox_list, layout=widgets.Layout(flex='0 0 auto', overflow_y='scroll'))\n",
    "        # Display the commit button\n",
    "        commit_button = widgets.Button(description='Commit', layout=widgets.Layout(width='auto'))\n",
    "        display(vbox, commit_button)\n",
    "\n",
    "        # Define the callback function for the commit button\n",
    "        def commit_button_clicked(b):\n",
    "            selected_sessions = [SessionDirB[i] for i in range(len(SessionDirB)) if session_checkboxes[i].value]\n",
    "            selected_projects = [session_dropdowns[i][0].value for i in range(len(SessionDirB)) if session_checkboxes[i].value]\n",
    "            selected_locations = [session_dropdowns[i][1].value for i in range(len(SessionDirB)) if session_checkboxes[i].value]\n",
    "            selected_equipment = [session_dropdowns[i][2].value for i in range(len(SessionDirB)) if session_checkboxes[i].value]\n",
    "            selected_s2pparms = [session_dropdowns[i][3].value for i in range(len(SessionDirB)) if session_checkboxes[i].value]\n",
    "            \n",
    "            selected_scans = get_scan_key_from_dir(selected_sessions)\n",
    "            selected_sessions = get_session_key_from_dir(selected_sessions)\n",
    "            \n",
    "            \n",
    "            output.clear_output()\n",
    "            with output:\n",
    "                # print('Selected Sessions:', selected_sessions)\n",
    "                # print('Selected Scans:', selected_scans)\n",
    "                # print('Selected Projects:', selected_projects)\n",
    "                # print('Selected Recording Locations:', selected_locations)\n",
    "                # print('Selected Equipment:', selected_equipment)\n",
    "                # print('Selected S2PParms:', selected_s2pparms)\n",
    "            \n",
    "                for idx, sessi in tqdm(selected_sessions):\n",
    "                    isess.ingest_session_scan(sessi, verbose=True) \n",
    "                \n",
    "                print('Ingested Sessions:', selected_sessions)\n",
    "\n",
    "                # TODO: Make sure that sesssion ingest automatically pulls all data from pyrat!\n",
    "                # TODO: Ingest Scans here\n",
    "                # TODO: Queue Processing here\n",
    "                for idx, scansi in tqdm(selected_scans):\n",
    "                    # isess.ingest_session_scan(sessi, verbose=True) \n",
    "\n",
    "                print('Ingested and process-queued Scans:', selected_scans)\n",
    "\n",
    "        # Attach the callback function to the commit button\n",
    "        commit_button.on_click(commit_button_clicked)\n",
    "\n",
    "    # Display the output\n",
    "    display(output)\n",
    "\n",
    "\n",
    "def get_date_key_from_dir(directory):\n",
    "    return directory.split(\"_\")[-1]\n",
    "\n",
    "def get_session_dir_key_from_dir(directory):\n",
    "    return [path.split('/')[-1] for path in directory]\n",
    "     \n",
    "def get_scan_dir_key_from_dir(directory):\n",
    "    return [path.split('/')[-1] for path in directory]\n",
    "\n",
    "def get_session_key_from_dir(string):\n",
    "    result = [re.search(r'sess\\S+', item).group(0) for item in string]\n",
    "    return result\n",
    "\n",
    "def get_user_initials_from_dir(string):\n",
    "    result = [name[:2] for name in string]\n",
    "    return result\n",
    "\n",
    "def get_scan_key_from_dir(string):\n",
    "    result = [re.search(r'scan\\S+_', item).group(0)[:-1] for item in string]\n",
    "    return result\n",
    "\n",
    "def unique_directory_strings(dirs1, dirs2):\n",
    "    set1 = set(dirs1)\n",
    "    set2 = set(dirs2)\n",
    "    common_dirs = list(set1.intersection(set2))\n",
    "    unique_dirs = list(set(set1.union(set2)) - set(common_dirs))\n",
    "    return unique_dirs\n",
    "\n",
    "def get_user_defaults(directory):\n",
    "    RN = [1, 1, 2, 0]\n",
    "    JJ = [2, 6, 2, 0]\n",
    "    TR = [0, 6, 3, 0]\n",
    "    DB = [4, 0, 1, 2]\n",
    "\n",
    "    user_initials = get_user_initials_from_dir(directory)\n",
    "\n",
    "    user_arrays = {}\n",
    "    for initial in user_initials:\n",
    "        values = locals()[initial]\n",
    "        user_arrays[initial] = values\n",
    "\n",
    "    new_array = [user_arrays[initial] for initial in user_initials]\n",
    "    return new_array"
   ]
  },
  {
   "cell_type": "markdown",
   "id": "fb0d8e40",
   "metadata": {},
   "source": [
    "#### Populate ingest GUI variables from DJ tables and manual arrays"
   ]
  },
  {
   "cell_type": "code",
   "execution_count": 8,
   "id": "6fbe7c7d",
   "metadata": {},
   "outputs": [],
   "source": [
    "# DJ tables\n",
    "Project = project.fetch('project')\n",
    "Equipment = equipment.Equipment().fetch('scanner')\n",
    "Recording_Location = surgery.AnatomicalLocation().fetch('anatomical_location')\n",
    "\n",
    "dirs_ingested = session.SessionDirectory.fetch('session_dir')\n",
    "SessionsDirArrayingested = get_session_dir_key_from_dir(dirs_ingested)\n",
    "ScanDirArrayingested = get_scan_dir_key_from_dir(dirs_ingested)\n",
    "\n",
    "# Manual arrays\n",
    "s2pparm = ['mini2p_a', 'mini2p_b', 'bench2p_a']"
   ]
  },
  {
   "cell_type": "markdown",
   "id": "b049a5a7",
   "metadata": {},
   "source": [
    "#### Parse user data root dir and sort by date-string in directory name"
   ]
  },
  {
   "cell_type": "code",
   "execution_count": 9,
   "id": "4832c989",
   "metadata": {},
   "outputs": [],
   "source": [
    "dataroot = dj.config['custom']['exp_root_data_dir'][0]\n",
    "dirs_root = [d for d in os.listdir(dataroot) if os.path.isdir(os.path.join(dataroot, d)) and 'sess' in d]\n",
    "\n",
    "sorted_dirs_root = natsorted(dirs_root, key=get_date_key_from_dir, reverse = True)"
   ]
  },
  {
   "cell_type": "markdown",
   "id": "297a65e2",
   "metadata": {},
   "source": [
    "### Generate GUI"
   ]
  },
  {
   "cell_type": "code",
<<<<<<< HEAD
   "execution_count": 12,
=======
   "execution_count": null,
>>>>>>> 6c7c581106965f77a7b0a71d7e91af2a5dbc3b32
   "id": "523b82d8",
   "metadata": {
    "scrolled": false
   },
   "outputs": [
    {
     "name": "stdout",
     "output_type": "stream",
     "text": [
      "\u001b[1mSelect:                                           Project        Location  Setup        s2p parm\u001b[0m\n"
     ]
    },
    {
     "data": {
      "application/vnd.jupyter.widget-view+json": {
       "model_id": "e8d47e87724e4601b18353fad72d39c5",
       "version_major": 2,
       "version_minor": 0
      },
      "text/plain": [
       "Output()"
      ]
     },
     "metadata": {},
     "output_type": "display_data"
    }
   ],
   "source": [
    "print(\"\\033[1m\" + 'Select:                                           Project        Location  Setup        s2p parm' + \"\\033[0m\" )\n",
    "selected_data = select_sessions(SessionsDirArrayingested, sorted_dirs_root, Project, Recording_Location, Equipment, s2pparm)"
   ]
  },
  {
   "cell_type": "code",
   "execution_count": 11,
   "id": "654a9b89",
   "metadata": {},
   "outputs": [
    {
     "data": {
      "text/html": [
       "\n",
       "    \n",
       "    <style type=\"text/css\">\n",
       "        .Table{\n",
       "            border-collapse:collapse;\n",
       "        }\n",
       "        .Table th{\n",
       "            background: #A0A0A0; color: #ffffff; padding:4px; border:#f0e0e0 1px solid;\n",
       "            font-weight: normal; font-family: monospace; font-size: 100%;\n",
       "        }\n",
       "        .Table td{\n",
       "            padding:4px; border:#f0e0e0 1px solid; font-size:100%;\n",
       "        }\n",
       "        .Table tr:nth-child(odd){\n",
       "            background: #ffffff;\n",
       "        }\n",
       "        .Table tr:nth-child(even){\n",
       "            background: #f3f1ff;\n",
       "        }\n",
       "        /* Tooltip container */\n",
       "        .djtooltip {\n",
       "        }\n",
       "        /* Tooltip text */\n",
       "        .djtooltip .djtooltiptext {\n",
       "            visibility: hidden;\n",
       "            width: 120px;\n",
       "            background-color: black;\n",
       "            color: #fff;\n",
       "            text-align: center;\n",
       "            padding: 5px 0;\n",
       "            border-radius: 6px;\n",
       "            /* Position the tooltip text - see examples below! */\n",
       "            position: absolute;\n",
       "            z-index: 1;\n",
       "        }\n",
       "        #primary {\n",
       "            font-weight: bold;\n",
       "            color: black;\n",
       "        }\n",
       "        #nonprimary {\n",
       "            font-weight: normal;\n",
       "            color: white;\n",
       "        }\n",
       "\n",
       "        /* Show the tooltip text when you mouse over the tooltip container */\n",
       "        .djtooltip:hover .djtooltiptext {\n",
       "            visibility: visible;\n",
       "        }\n",
       "    </style>\n",
       "    \n",
       "    <b></b>\n",
       "        <div style=\"max-height:1000px;max-width:1500px;overflow:auto;\">\n",
       "        <table border=\"1\" class=\"Table\">\n",
       "            <thead> <tr style=\"text-align: right;\"> <th> <div class=\"djtooltip\">\n",
       "                            <p id=\"primary\">session_id</p>\n",
       "                            <span class=\"djtooltiptext\"></span>\n",
       "                        </div></th><th><div class=\"djtooltip\">\n",
       "                            <p id=\"nonprimary\">subject</p>\n",
       "                            <span class=\"djtooltiptext\">PyRat import uses this for earmark value</span>\n",
       "                        </div></th><th><div class=\"djtooltip\">\n",
       "                            <p id=\"nonprimary\">session_datetime</p>\n",
       "                            <span class=\"djtooltiptext\"></span>\n",
       "                        </div> </th> </tr> </thead>\n",
       "            <tbody> <tr> <td>sess9FG1SCD4</td>\n",
       "<td>WEZ-8701</td>\n",
       "<td>2023-01-13 00:00:00</td></tr><tr><td>sess9FG1TAXY</td>\n",
       "<td>WEZ-8701</td>\n",
       "<td>2023-01-13 00:00:00</td></tr><tr><td>sess9FG1UAQG</td>\n",
       "<td>ROS-1438</td>\n",
       "<td>2023-01-13 00:00:00</td></tr><tr><td>sess9FGLE1FN</td>\n",
       "<td>OPI-1681</td>\n",
       "<td>2023-02-15 00:00:00</td></tr><tr><td>sess9FGLEFJ3</td>\n",
       "<td>OPI-1681</td>\n",
       "<td>2023-02-15 00:00:00</td></tr><tr><td>sess9FGLZLRI</td>\n",
       "<td>OPI-1681</td>\n",
       "<td>2023-02-16 00:00:00</td> </tr> </tbody>\n",
       "        </table>\n",
       "        \n",
       "        <p>Total: 6</p></div>\n",
       "        "
      ],
      "text/plain": [
       "*session_id    subject      session_dateti\n",
       "+------------+ +----------+ +------------+\n",
       "sess9FG1SCD4   WEZ-8701     2023-01-13 00:\n",
       "sess9FG1TAXY   WEZ-8701     2023-01-13 00:\n",
       "sess9FG1UAQG   ROS-1438     2023-01-13 00:\n",
       "sess9FGLE1FN   OPI-1681     2023-02-15 00:\n",
       "sess9FGLEFJ3   OPI-1681     2023-02-15 00:\n",
       "sess9FGLZLRI   OPI-1681     2023-02-16 00:\n",
       " (Total: 6)"
      ]
     },
     "execution_count": 11,
     "metadata": {},
     "output_type": "execute_result"
    }
   ],
   "source": [
    "session.Session()"
   ]
  },
  {
   "cell_type": "markdown",
   "id": "1874b0d0",
   "metadata": {},
   "source": [
    "### 2.1 Session notes ingest"
   ]
  },
  {
   "cell_type": "code",
   "execution_count": null,
   "id": "0ba0b342",
   "metadata": {},
   "outputs": [],
   "source": []
  },
  {
   "cell_type": "markdown",
   "id": "20416320",
   "metadata": {},
   "source": [
    "## 3. Scan ingest / s2p processing 1st pass"
   ]
  },
  {
   "cell_type": "code",
   "execution_count": null,
   "id": "159a6d62",
   "metadata": {},
   "outputs": [],
   "source": []
  }
 ],
 "metadata": {
  "jupytext": {
   "formats": "ipynb,py"
  },
  "kernelspec": {
   "display_name": "Python 3 (ipykernel)",
   "language": "python",
   "name": "python3"
  },
  "language_info": {
   "codemirror_mode": {
    "name": "ipython",
    "version": 3
   },
   "file_extension": ".py",
   "mimetype": "text/x-python",
   "name": "python",
   "nbconvert_exporter": "python",
   "pygments_lexer": "ipython3",
   "version": "3.8.16"
  },
  "vscode": {
   "interpreter": {
    "hash": "2888206d04306eefe963095373d1dcce5cd11176f3d6ee4ec3f64dd9e65fd8a1"
   }
  }
 },
 "nbformat": 4,
 "nbformat_minor": 5
}
