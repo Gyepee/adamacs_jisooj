{
 "cells": [
  {
   "cell_type": "markdown",
   "id": "86cc1ca7",
   "metadata": {},
   "source": [
    "# Daily workflow - troselab (DRAFT)"
   ]
  },
  {
   "cell_type": "markdown",
   "id": "5eaa674c",
   "metadata": {},
   "source": [
    "`TR TODO: Jupyter ipywidget GUI`\n",
    "\n",
    "(check Daniel's ipysheet mouse entry GUI for inspiration)\n",
    "\n",
    "1. Upload to analysis server\n",
    "    1. automatic (rcopy with file consolidation)?\n",
    "    2. WinSCP?\n",
    "\n",
    "    \n",
    "2. Session ingest - Have this script parse the user folder. \n",
    "    1. retrieve login name \n",
    "    2. parse user storage folder for SessionIDs, ScanIDs\n",
    "    3. intersect with 'Session' tables\n",
    "    4. FIRST STEP: session ingestion of new data \n",
    "        1. have ipywidget with list of data to be ingested with checkbox \n",
    "        2. have dropdowns next to SessionsFetch that expose 'Project', 'Anatomical Location', 'Equipment' (NOTE: have me or admin accept new entries? Or user?) - have a user default\n",
    "        3. have central 'START' button\n",
    "    5. OPTIONAL: Have a notebook section to enter and insert Session Notes\n",
    "    6. OPTIONAL: Submit Sessions to pyrat. Not sure if necessary.\n",
    "\n",
    "\n",
    "3. Scan ingest / 1st stage s2p processing: \n",
    "    1. have another list with checkboxes (default checled) - now with all first stage scans of the newly ingested sessions. Have dropdown boxes with s2p parameteres. User default is selected. Followed by 'START'\n",
    "    2. TODO: suppress s2p output, just have progress bars\n",
    "    3. OPTIONAL: Have a notebook section to enter and insert Scan Notes\n",
    "    4. OPTIONAL: Submit sessions, scans and Notes to RSPACE! Upload s2p average image, max image, Source image and Rastermap \n",
    "    \n",
    "\n",
    "4. Scan Curation\n",
    "    1. DIFFERENT NOTEBOOK (or different Notebook section)\n",
    "    2. Make intersection of folder with database\n",
    "        1. list _all_ scans\n",
    "        2. have all non-curated red - the others green\n",
    "        3. bhave non-processed scans grey\n",
    "        4. have 'CURATE LOCALLY WITH s2P' buttons behind all scans. This button should spawn a local suite2p GUI which directly loads the respective suite2p stats.npy file from the server. Folder settings for server need to be set in datajoint.json file.\n",
    "\n",
    "5. SERVER: Database backup and Data folder backup\n",
    "    1. Have cronjob backup database to ana2 and isilon (midnight, incremental - only add, no delete. Increment ID to be reversible?)\n",
    "    2. Have cronjob backup data folders to ana2 and isilon (midnight, incremental - only add, no delete)"
   ]
  },
  {
   "cell_type": "markdown",
   "id": "634ec7b4",
   "metadata": {},
   "source": [
    "## Login\n",
    "\n",
    "Either log in via a local config file (see [01_pipeline](./01_pipeline.ipynb)), or enter login information manually. If you are don't have your login information, contact the administrator.\n"
   ]
  },
  {
   "cell_type": "code",
   "execution_count": 12,
   "id": "0b1bebf0",
   "metadata": {},
   "outputs": [],
   "source": [
    "import os\n",
    "# change to the upper level folder to detect dj_local_conf.json\n",
    "if os.path.basename(os.getcwd())=='notebooks': os.chdir('..')\n",
    "assert os.path.basename(os.getcwd())=='adamacs', (\"Please move to the main directory\")\n",
    "from adamacs.pipeline import subject, session, equipment, surgery \n",
    "import datajoint as dj\n",
    "import ipywidgets as widgets\n",
    "from natsort import natsorted, ns\n",
    "import re"
   ]
  },
  {
   "cell_type": "code",
   "execution_count": 13,
   "id": "d54fab2b",
   "metadata": {},
   "outputs": [
    {
     "name": "stdout",
     "output_type": "stream",
     "text": [
      "database Prefix: tobiasr_\n"
     ]
    }
   ],
   "source": [
    "db_prefix = dj.config['custom'].get('database.prefix')\n",
    "print('database Prefix:', db_prefix)"
   ]
  },
  {
   "cell_type": "markdown",
   "id": "d29453ed",
   "metadata": {},
   "source": [
    "## Activation\n",
    "Next, import from `adamacs.pipeline` to activate the relevant schema."
   ]
  },
  {
   "cell_type": "code",
   "execution_count": 14,
   "id": "f27dcb14",
   "metadata": {},
   "outputs": [],
   "source": [
    "from adamacs.utility import *\n",
    "from adamacs.nbgui import *\n",
    "from adamacs.pipeline import subject, session, surgery, scan, equipment\n",
    "import ipywidgets as widgets"
   ]
  },
  {
   "cell_type": "markdown",
   "id": "8cd8be94",
   "metadata": {},
   "source": [
    "Assign easy names for relevant tables"
   ]
  },
  {
   "cell_type": "code",
   "execution_count": 15,
   "id": "30485290",
   "metadata": {},
   "outputs": [],
   "source": [
    "sub, lab, protocol, line, mutation, user, project, subject_genotype, subject_death = (\n",
    "    subject.Subject(), subject.Lab(), subject.Protocol(), subject.Line(), \n",
    "    subject.Mutation(), subject.User(), subject.Project(), subject.SubjectGenotype(), \n",
    "    subject.SubjectDeath()\n",
    "    )"
   ]
  },
  {
   "cell_type": "markdown",
   "id": "807a36ef",
   "metadata": {},
   "source": [
    "## 1. Data upload\n",
    "(not implemented currently)"
   ]
  },
  {
   "cell_type": "markdown",
   "id": "d83b5668",
   "metadata": {},
   "source": [
    "## 2. Session ingest"
   ]
  },
  {
   "cell_type": "code",
   "execution_count": 68,
   "id": "4e8164fb",
   "metadata": {},
   "outputs": [],
   "source": [
    "def select_sessions(SessionDirA, SessionDirB, Project, Recording_Location, Equipment, s2pparm):\n",
    "    # Define the widgets\n",
    "    session_dropdowns = []\n",
    "    session_checkboxes = []\n",
    "    for session_list in SessionDirB:\n",
    "        # Dropdowns for Project, Recording Location, Equipment\n",
    "        project_dropdown = widgets.Dropdown(options=Project, value=Project[0])\n",
    "        location_dropdown = widgets.Dropdown(options=Recording_Location, value=Recording_Location[0])\n",
    "        equipment_dropdown = widgets.Dropdown(options=Equipment, value=Equipment[0])\n",
    "        s2pparms_dropdown = widgets.Dropdown(options=s2pparm, value=s2pparm[0])\n",
    "        session_dropdowns.append((project_dropdown, location_dropdown, equipment_dropdown, s2pparms_dropdown))\n",
    "        # Checkbox for Process?\n",
    "        session_checkbox = widgets.Checkbox(description='Process?', layout=widgets.Layout(width='auto'))\n",
    "        session_checkboxes.append(session_checkbox)\n",
    "\n",
    "    # Display the widgets\n",
    "    output = widgets.Output()\n",
    "\n",
    "    with output:\n",
    "        # Display the Sessions labels and associated dropdowns and checkboxes\n",
    "        hbox_list = []\n",
    "        for i, session_list in enumerate(SessionDirB):\n",
    "            # Create an HBox to hold the label and associated dropdowns and checkbox\n",
    "            hbox = widgets.HBox()\n",
    "            hbox.children = [\n",
    "                widgets.Label(value=session_list + ':', layout=widgets.Layout(width='1500px')), \n",
    "                session_dropdowns[i][0],\n",
    "                session_dropdowns[i][1],\n",
    "                session_dropdowns[i][2],\n",
    "                session_dropdowns[i][3],\n",
    "                session_checkboxes[i]\n",
    "            ]\n",
    "            if session_list in unique_directory_strings(SessionDirA, SessionDirB):\n",
    "                hbox.children[0].value = '* ' + session_list + ':' \n",
    "            hbox_list.append(hbox)\n",
    "\n",
    "        vbox = widgets.VBox(hbox_list, layout=widgets.Layout(flex='0 1 auto', overflow_y='scroll'))\n",
    "        # Display the commit button\n",
    "        commit_button = widgets.Button(description='Commit', layout=widgets.Layout(width='auto'))\n",
    "        display(vbox, commit_button)\n",
    "\n",
    "        # Define the callback function for the commit button\n",
    "        def commit_button_clicked(b):\n",
    "            selected_sessions = [SessionDirB[i] for i in range(len(SessionDirB)) if session_checkboxes[i].value]\n",
    "            selected_projects = [session_dropdowns[i][0].value for i in range(len(SessionDirB)) if session_checkboxes[i].value]\n",
    "            selected_locations = [session_dropdowns[i][1].value for i in range(len(SessionDirB)) if session_checkboxes[i].value]\n",
    "            selected_equipment = [session_dropdowns[i][2].value for i in range(len(SessionDirB)) if session_checkboxes[i].value]\n",
    "            selected_s2pparms = [session_dropdowns[i][3].value for i in range(len(SessionDirB)) if session_checkboxes[i].value]\n",
    "            output.clear_output()\n",
    "            with output:\n",
    "                print('Selected Sessions:', selected_sessions)\n",
    "                print('Selected Projects:', selected_projects)\n",
    "                print('Selected Recording Locations:', selected_locations)\n",
    "                print('Selected Equipment:', selected_equipment)\n",
    "                print('Selected S2PParms:', selected_s2pparms)\n",
    "            return [selected_sessions, selected_projects, selected_locations, selected_equipment, selected_s2pparms]\n",
    "\n",
    "        # Attach the callback function to the commit button\n",
    "        commit_button.on_click(commit_button_clicked)\n",
    "\n",
    "    # Display the output\n",
    "    display(output)\n",
    "\n",
    "\n",
    "def get_date_key_from_dir(directory):\n",
    "    return directory.split(\"_\")[-1]\n",
    "\n",
    "def get_session_dir_key_from_dir(directory):\n",
    "    return [path.split('/')[-1] for path in directory]\n",
    "     \n",
    "def get_scan_dir_key_from_dir(directory):\n",
    "    return [path.split('/')[-1] for path in directory]\n",
    "\n",
    "def get_session_key_from_dir(string):\n",
    "    match = re.search(r'sess\\S+', string)\n",
    "    result = match.group(0)[0:] if match else 'No match found.'\n",
    "    return result\n",
    "\n",
    "def get_scan_key_from_dir(string):\n",
    "    match = re.search(r'scan\\S+_', string)\n",
    "    result = match.group(0)[0:-1] if match else 'No match found.'\n",
    "    return result\n",
    "\n",
    "def unique_directory_strings(dirs1, dirs2):\n",
    "    set1 = set(dirs1)\n",
    "    set2 = set(dirs2)\n",
    "    common_dirs = list(set1.intersection(set2))\n",
    "    unique_dirs = list(set(set1.union(set2)) - set(common_dirs))\n",
    "    return unique_dirs\n"
   ]
  },
  {
   "cell_type": "code",
   "execution_count": 44,
   "id": "6fbe7c7d",
   "metadata": {},
   "outputs": [],
   "source": [
    "Project = project.fetch('project')\n",
    "Equipment = equipment.Equipment().fetch('scanner')\n",
    "Recording_Location = surgery.AnatomicalLocation().fetch('anatomical_location')\n",
    "s2pparm = ['a', 'b', 'c' ]\n",
    "\n",
    "dirs_ingested = session.SessionDirectory.fetch('session_dir')\n",
    "SessionsDirArrayingested = get_session_dir_key_from_dir(dirs_ingested)\n",
    "ScanDirArrayingested = get_scan_dir_key_from_dir(dirs_ingested)\n",
    "\n",
    "dataroot = dj.config['custom']['exp_root_data_dir'][0]\n",
    "dirs_root = [d for d in os.listdir(dataroot) if os.path.isdir(os.path.join(dataroot, d)) and 'sess' in d]\n",
    "\n",
    "sorted_dirs_root = natsorted(dirs_root, key=get_date_key_from_dir, reverse = True)\n",
    "# SessionsArrayRootData = get_session_key_from_dir(sorted_dirs_root)\n",
    "# ScanArrayRootData = get_scan_key_from_dir(sorted_dirs_root)\n",
    "\n",
    "# SessionsArray = session.Session().fetch('session_id')"
   ]
  },
  {
   "cell_type": "code",
   "execution_count": 11,
   "id": "523b82d8",
   "metadata": {},
   "outputs": [
    {
     "name": "stdout",
     "output_type": "stream",
     "text": [
      "\u001b[1mSelect Project, Location, Setup, s2p parm\u001b[0m\n"
     ]
    },
    {
     "data": {
      "application/vnd.jupyter.widget-view+json": {
       "model_id": "f109286c109f48b295d6f7080e2382a9",
       "version_major": 2,
       "version_minor": 0
      },
      "text/plain": [
       "Output()"
      ]
     },
     "metadata": {},
     "output_type": "display_data"
    }
   ],
   "source": [
    "print(\"\\033[1m\" + 'Select Project, Location, Setup, s2p parm' + \"\\033[0m\" )\n",
    "selected_data = select_sessions(SessionsDirArrayingested, sorted_dirs_root, Project, Recording_Location, Equipment, s2pparm)\n",
    "# print(selected_data)"
   ]
  },
  {
   "cell_type": "markdown",
   "id": "1874b0d0",
   "metadata": {},
   "source": [
    "### 2.1 Session notes ingest"
   ]
  },
  {
   "cell_type": "code",
   "execution_count": null,
   "id": "92840af0",
   "metadata": {},
   "outputs": [],
   "source": []
  },
  {
   "cell_type": "markdown",
   "id": "20416320",
   "metadata": {},
   "source": [
    "## 3. Scan ingest / s2p processing 1st pass"
   ]
  },
  {
   "cell_type": "code",
   "execution_count": null,
   "id": "a4409473",
   "metadata": {},
   "outputs": [],
   "source": [
    "def select_scans(SessionsArray, Project, Recording_Location, Equipment):\n",
    "    # Define the widgets\n",
    "    session_dropdowns = []\n",
    "    session_checkboxes = []\n",
    "    for session_list in SessionsArray:\n",
    "        # Dropdowns for Project, Recording Location, Equipment\n",
    "        project_dropdown = widgets.Dropdown(options=Project, value=Project[0])\n",
    "        location_dropdown = widgets.Dropdown(options=Recording_Location, value=Recording_Location[0])\n",
    "        equipment_dropdown = widgets.Dropdown(options=Equipment, value=Equipment[0])\n",
    "        session_dropdowns.append((project_dropdown, location_dropdown, equipment_dropdown))\n",
    "        # Checkbox for Process?\n",
    "        session_checkbox = widgets.Checkbox(description='Process?', layout=widgets.Layout(width='auto'))\n",
    "        session_checkboxes.append(session_checkbox)\n",
    "\n",
    "    # Display the widgets\n",
    "    output = widgets.Output()\n",
    "\n",
    "    with output:\n",
    "        # Display the Sessions labels and associated dropdowns and checkboxes\n",
    "        hbox_list = []\n",
    "        for i, session_list in enumerate(SessionsArray):\n",
    "            # Create an HBox to hold the label and associated dropdowns and checkbox\n",
    "            hbox = widgets.HBox()\n",
    "            hbox.children = [\n",
    "                widgets.Label(value=session_list + ':', layout=widgets.Layout(width='850px', font_weight='bold')),\n",
    "                session_dropdowns[i][0],\n",
    "                session_dropdowns[i][1],\n",
    "                session_dropdowns[i][2],\n",
    "                session_checkboxes[i]\n",
    "            ]\n",
    "            hbox_list.append(hbox)\n",
    "\n",
    "        vbox = widgets.VBox(hbox_list, layout=widgets.Layout(flex='auto auto auto', overflow_y='scroll'))\n",
    "        # Display the commit button\n",
    "        commit_button = widgets.Button(description='Commit', layout=widgets.Layout(width='auto'))\n",
    "        display(vbox, commit_button)\n",
    "\n",
    "        # Define the callback function for the commit button\n",
    "        def commit_button_clicked(b):\n",
    "            selected_sessions = [SessionsArray[i] for i in range(len(SessionsArray)) if session_checkboxes[i].value]\n",
    "            selected_projects = [session_dropdowns[i][0].value for i in range(len(SessionsArray)) if session_checkboxes[i].value]\n",
    "            selected_locations = [session_dropdowns[i][1].value for i in range(len(SessionsArray)) if session_checkboxes[i].value]\n",
    "            selected_equipment = [session_dropdowns[i][2].value for i in range(len(SessionsArray)) if session_checkboxes[i].value]\n",
    "            output.clear_output()\n",
    "            with output:\n",
    "                print('Selected Sessions:', selected_sessions)\n",
    "                print('Selected Projects:', selected_projects)\n",
    "                print('Selected Recording Locations:', selected_locations)\n",
    "                print('Selected Equipment:', selected_equipment)\n",
    "            return [selected_sessions, selected_projects, selected_locations, selected_equipment]\n",
    "\n",
    "        # Attach the callback function to the commit button\n",
    "        commit_button.on_click(commit_button_clicked)\n",
    "\n",
    "    # Display the output\n",
    "    display(output)\n"
   ]
  }
 ],
 "metadata": {
  "jupytext": {
   "formats": "ipynb,py"
  },
  "kernelspec": {
   "display_name": "Python 3 (ipykernel)",
   "language": "python",
   "name": "python3"
  },
  "language_info": {
   "codemirror_mode": {
    "name": "ipython",
    "version": 3
   },
   "file_extension": ".py",
   "mimetype": "text/x-python",
   "name": "python",
   "nbconvert_exporter": "python",
   "pygments_lexer": "ipython3",
   "version": "3.8.16"
  },
  "vscode": {
   "interpreter": {
    "hash": "2888206d04306eefe963095373d1dcce5cd11176f3d6ee4ec3f64dd9e65fd8a1"
   }
  }
 },
 "nbformat": 4,
 "nbformat_minor": 5
}
