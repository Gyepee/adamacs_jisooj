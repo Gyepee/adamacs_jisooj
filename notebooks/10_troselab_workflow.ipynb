{
 "cells": [
  {
   "attachments": {},
   "cell_type": "markdown",
   "id": "7225c769",
   "metadata": {},
   "source": [
    "# Daily workflow - troselab (DRAFT)"
   ]
  },
  {
   "attachments": {},
   "cell_type": "markdown",
   "id": "a2e9ad58-f51d-4a94-8fbd-43152bb01d06",
   "metadata": {},
   "source": [
    "`TR TODO: Jupyter ipywidget GUI`\n",
    "\n",
    "(check Daniel's ipysheet mouse entry GUI for inspiration)\n",
    "\n",
    "1. Upload to analysis server\n",
    "    1. automatic (rcopy with file consolidation)?\n",
    "    2. WinSCP?\n",
    "\n",
    "    \n",
    "2. Have this script parse the user folder. \n",
    "    1. retrieve login name \n",
    "    2. parse user storage folder for SessionIDs, ScanIDs\n",
    "    3. intersect with 'Session' / 'Scan' tables\n",
    "    4. FIRST STEP: session ingestion of new data \n",
    "        1. have ipywidget with list of data to be ingested with checkbox \n",
    "        2. have dropdowns next to SessionsFetch that expose 'Project', 'Anatomical Location', 'Equipment' (NOTE: have me or admin accept new entries? Or user?)\n",
    "        3. have a checkbox for 'PROCESS ALL SCANS WITH DEFAULT S2P SETTINGS' (needs default s2p per user)\n",
    "        4. have central 'START' button\n",
    "\n",
    "\n",
    "3. Scan ingest: \n",
    "    1. Start immediately 'PROCESS ALL SCANS' = true (use default s2p settings), or \n",
    "    2. have another list with checkboxes - now with all first stage scans. Have dropdown boxes with s2p parameteres. Followed by 'START'\n",
    "    3. TODO: suppress s2p output, just have progress bars\n",
    "    \n",
    "\n",
    "4. Scan Curation\n",
    "    1. DIFFERENT NOTEBOOK (or different Notebook section)\n",
    "    2. Make intersection of folder with database\n",
    "        1. list _all_ scans\n",
    "        2. have all non-curated red - the others green\n",
    "        3. bhave non-processed scans grey\n",
    "        4. have 'CURATE LOCALLY WITH s2P' buttons behind all scans. This button should spawn a local suite2p GUI which directly loads the respective suite2p stats.npy file from the server. Folder settings for server need to be set in datajoint.json file."
   ]
  },
  {
   "cell_type": "markdown",
   "id": "beda62fc-e678-4b77-a454-f848aa68379e",
   "metadata": {},
   "source": [
    "## Login\n",
    "\n",
    "Either log in via a local config file (see [01_pipeline](./01_pipeline.ipynb)), or enter login information manually. If you are don't have your login information, contact the administrator.\n"
   ]
  },
  {
   "cell_type": "code",
   "execution_count": 1,
   "id": "41084378-bf49-4b97-b3ea-900fb544d97c",
   "metadata": {},
   "outputs": [
    {
     "name": "stderr",
     "output_type": "stream",
     "text": [
      "[2023-02-26 16:07:13,975][INFO]: Connecting tobiasr@172.26.128.53:3306\n",
      "[2023-02-26 16:07:14,033][INFO]: Connected tobiasr@172.26.128.53:3306\n"
     ]
    }
   ],
   "source": [
    "import os\n",
    "# change to the upper level folder to detect dj_local_conf.json\n",
    "if os.path.basename(os.getcwd())=='notebooks': os.chdir('..')\n",
    "assert os.path.basename(os.getcwd())=='adamacs', (\"Please move to the main directory\")\n",
    "from adamacs.pipeline import subject, session, equipment, surgery \n",
    "import datajoint as dj\n",
    "import ipywidgets as widgets"
   ]
  },
  {
   "cell_type": "code",
   "execution_count": null,
   "id": "e3cc274c",
   "metadata": {},
   "outputs": [],
   "source": [
    "db_prefix = dj.config['custom'].get('database.prefix')\n",
    "print('database Prefix:', db_prefix)"
   ]
  },
  {
   "cell_type": "markdown",
   "id": "8e48c2ea-7f7a-430c-8dc3-89bb3ec8a705",
   "metadata": {},
   "source": [
    "## Activation\n",
    "Next, import from `adamacs.pipeline` to activate the relevant schema."
   ]
  },
  {
   "cell_type": "code",
   "execution_count": 2,
   "id": "81b34218-7b80-4257-abd3-cf449c17c374",
   "metadata": {},
   "outputs": [],
   "source": [
    "from adamacs.utility import *\n",
    "from adamacs.nbgui import *\n",
    "from adamacs.pipeline import subject"
   ]
  },
  {
   "cell_type": "markdown",
   "id": "818496d9-0add-4557-a116-10156e995076",
   "metadata": {},
   "source": [
    "Assign easy names for relevant tables"
   ]
  },
  {
   "cell_type": "code",
   "execution_count": 3,
   "id": "ae8a9093-a631-4fe5-bf66-6944ec5de1ce",
   "metadata": {},
   "outputs": [],
   "source": [
    "sub, lab, protocol, line, mutation, user, project, subject_genotype, subject_death = (\n",
    "    subject.Subject(), subject.Lab(), subject.Protocol(), subject.Line(), \n",
    "    subject.Mutation(), subject.User(), subject.Project(), subject.SubjectGenotype(), \n",
    "    subject.SubjectDeath()\n",
    "    )"
   ]
  },
  {
   "cell_type": "markdown",
   "id": "7aa77e1a",
   "metadata": {},
   "source": [
    "## Entry via GUI\n",
    "(not implemented currently)"
   ]
  },
  {
   "cell_type": "code",
   "execution_count": null,
   "id": "0561d2fb",
   "metadata": {},
   "outputs": [],
   "source": [
    "# \"\"\"Run this cell to load the subject entry sheet.\"\"\"\n",
    "# mouse_gui = MouseEntrySheet()\n",
    "# mouse_gui.app"
   ]
  },
  {
   "cell_type": "code",
   "execution_count": 7,
   "id": "242928cb",
   "metadata": {},
   "outputs": [],
   "source": [
    "Project = project.fetch('project')\n",
    "Equipment = equipment.Equipment().fetch('scanner')\n",
    "Recording_Location = surgery.AnatomicalLocation().fetch('anatomical_location')"
   ]
  },
  {
   "cell_type": "code",
   "execution_count": 8,
   "id": "927add65",
   "metadata": {},
   "outputs": [
    {
     "data": {
      "application/vnd.jupyter.widget-view+json": {
       "model_id": "a5a69a4133c74a6397e9bd184ce255bd",
       "version_major": 2,
       "version_minor": 0
      },
      "text/plain": [
       "Output()"
      ]
     },
     "metadata": {},
     "output_type": "display_data"
    },
    {
     "name": "stdout",
     "output_type": "stream",
     "text": [
      "Selected Sessions: []\n",
      "Selected Projects: []\n",
      "Selected Recording Locations: []\n",
      "Selected Equipment: []\n"
     ]
    }
   ],
   "source": [
    "import numpy as np\n",
    "import ipywidgets as widgets\n",
    "\n",
    "# Read in the numpy arrays\n",
    "Sessions = np.array(['Session 1', 'Session 2', 'Session 3'])\n",
    "# Project = np.array(['Project A', 'Project B', 'Project C'])\n",
    "# Recording_Location = np.array(['Location X', 'Location Y', 'Location Z'])\n",
    "# Equipment = np.array(['Equipment 1', 'Equipment 2', 'Equipment 3'])\n",
    "\n",
    "# Define the widgets\n",
    "session_dropdowns = []\n",
    "session_checkboxes = []\n",
    "for session in Sessions:\n",
    "    # Dropdowns for Project, Recording Location, Equipment\n",
    "    project_dropdown = widgets.Dropdown(options=Project, value=Project[0])\n",
    "    location_dropdown = widgets.Dropdown(options=Recording_Location, value=Recording_Location[0])\n",
    "    equipment_dropdown = widgets.Dropdown(options=Equipment, value=Equipment[0])\n",
    "    session_dropdowns.append((project_dropdown, location_dropdown, equipment_dropdown))\n",
    "    # Checkbox for Process?\n",
    "    session_checkbox = widgets.Checkbox(description='Process?', layout=widgets.Layout(width='auto'))\n",
    "    session_checkboxes.append(session_checkbox)\n",
    "\n",
    "# Display the widgets\n",
    "output = widgets.Output()\n",
    "\n",
    "with output:\n",
    "    # Display the Sessions labels and associated dropdowns and checkboxes\n",
    "    hbox_list = []\n",
    "    for i, session in enumerate(Sessions):\n",
    "        # Create an HBox to hold the label and associated dropdowns and checkbox\n",
    "        hbox = widgets.HBox()\n",
    "        hbox.children = [\n",
    "            widgets.Label(value=session + ':', layout=widgets.Layout(width='450px', font_weight='bold')),\n",
    "            session_dropdowns[i][0],\n",
    "            session_dropdowns[i][1],\n",
    "            session_dropdowns[i][2],\n",
    "            session_checkboxes[i]\n",
    "        ]\n",
    "        hbox_list.append(hbox)\n",
    "    \n",
    "    vbox = widgets.VBox(hbox_list, layout=widgets.Layout(flex='auto auto auto', overflow_y='scroll'))\n",
    "    # Display the commit button\n",
    "    commit_button = widgets.Button(description='Commit', layout=widgets.Layout(width='auto'))\n",
    "    display(vbox, commit_button)\n",
    "\n",
    "# Define the callback function for the commit button\n",
    "def commit_button_clicked(b):\n",
    "    selected_sessions = [Sessions[i] for i in range(len(Sessions)) if session_checkboxes[i].value]\n",
    "    selected_projects = [session_dropdowns[i][0].value for i in range(len(Sessions)) if session_checkboxes[i].value]\n",
    "    selected_locations = [session_dropdowns[i][1].value for i in range(len(Sessions)) if session_checkboxes[i].value]\n",
    "    selected_equipment = [session_dropdowns[i][2].value for i in range(len(Sessions)) if session_checkboxes[i].value]\n",
    "    print('Selected Sessions:', selected_sessions)\n",
    "    print('Selected Projects:', selected_projects)\n",
    "    print('Selected Recording Locations:', selected_locations)\n",
    "    print('Selected Equipment:', selected_equipment)\n",
    "\n",
    "# Attach the callback function to the commit button\n",
    "commit_button.on_click(commit_button_clicked)\n",
    "\n",
    "# Display the output\n",
    "display(output)\n"
   ]
  },
  {
   "cell_type": "code",
   "execution_count": 6,
   "id": "78ebf2fa",
   "metadata": {},
   "outputs": [
    {
     "name": "stdout",
     "output_type": "stream",
     "text": [
      "Select Scanner:\n"
     ]
    },
    {
     "data": {
      "application/vnd.jupyter.widget-view+json": {
       "model_id": "6bfe183361ba49baaed4ec431173e5bd",
       "version_major": 2,
       "version_minor": 0
      },
      "text/plain": [
       "Dropdown(layout=Layout(width='300px'), options=('bench2p', 'Equipment', 'equipment placeholder', 'macroscope',…"
      ]
     },
     "metadata": {},
     "output_type": "display_data"
    }
   ],
   "source": [
    "# Dropdown example\n",
    "\n",
    "allequipment = equipment.Equipment().fetch('scanner')\n",
    "\n",
    "# create a dropdown widget\n",
    "my_dropdown_equipment = widgets.Dropdown(options=allequipment, value=allequipment[0], layout=widgets.Layout(width='300px'))\n",
    "\n",
    "# define a function to handle the dropdown selection\n",
    "\n",
    "print('Select Scanner:')\n",
    "\n",
    "def on_dropdown_change(change):\n",
    "    if change['type'] == 'change' and change['name'] == 'value':\n",
    "        selected_scanner = change['new']\n",
    "        print(f\"You selected: {selected_scanner}\")\n",
    "\n",
    "# set the dropdown's event handler to our function\n",
    "test = my_dropdown_equipment.observe(on_dropdown_change)\n",
    "\n",
    "# display the dropdown widget\n",
    "display(my_dropdown_equipment)\n"
   ]
  },
  {
   "attachments": {},
   "cell_type": "markdown",
   "id": "ea197625",
   "metadata": {},
   "source": [
    "## Surgery entry"
   ]
  },
  {
   "cell_type": "code",
   "execution_count": null,
   "id": "c835005b",
   "metadata": {},
   "outputs": [],
   "source": [
    "data = [{'anatomical_location': 'V1'},\n",
    "        {'anatomical_location': 'LGNV1'},\n",
    "        {'anatomical_location': 'RSCa'},\n",
    "        {'anatomical_location': 'RSCa'},\n",
    "        {'anatomical_location': 'Ctx'}]\n",
    "surgery.AnatomicalLocation.insert(data, skip_duplicates=True) "
   ]
  },
  {
   "cell_type": "code",
   "execution_count": null,
   "id": "78ebf2fa",
   "metadata": {},
   "outputs": [],
   "source": [
    "allsuregery = surgery.AnatomicalLocation().fetch('anatomical_location')\n",
    "\n",
    "# create a dropdown widget\n",
    "my_dropdown_surgery = widgets.Dropdown(options=allsuregery, value=allsuregery[4], layout=widgets.Layout(width='300px'))\n",
    "\n",
    "# define a function to handle the dropdown selection\n",
    "\n",
    "print('Select anatomical location:')\n",
    "\n",
    "def on_dropdown_change(change):\n",
    "    if change['type'] == 'change' and change['name'] == 'value':\n",
    "        selected_anatomical_location = change['new']\n",
    "        print(f\"You selected: {selected_anatomical_location}\")\n",
    "\n",
    "# set the dropdown's event handler to our function\n",
    "my_dropdown_surgery.observe(on_dropdown_change)\n",
    "\n",
    "# display the dropdown widget\n",
    "display(my_dropdown_surgery)\n"
   ]
  },
  {
   "cell_type": "markdown",
   "id": "40f6f927",
   "metadata": {},
   "source": [
    "### Project Entry"
   ]
  },
  {
   "cell_type": "code",
   "execution_count": null,
   "id": "c1c00646",
   "metadata": {},
   "outputs": [],
   "source": [
    "# project_key = 'TEC'\n",
    "# project_description = 'Trace Eyeblink Conditioning'\n",
    "\n",
    "# project.insert1((project_key, project_description), skip_duplicates=True)\n",
    "\n",
    "data = [{'project': 'hpc-repstab', 'project_description': 'hpc-representational-stability' },\n",
    "        {'project': 'vc-lgn-repstab', 'project_description': 'vc-lgn-representational-stability'},\n",
    "        {'project': 'rsc-functop', 'project_description': 'rsc-functional-topography'},\n",
    "        {'project': 'rsc-hpc', 'project_description': 'rsc-hippocampal'},\n",
    "        {'project': 'sc-lgn-actvis', 'project_description': 'sc-lgn-active-vision'},\n",
    "        {'project': 'rsc-latent', 'project_description': 'rsc-contextual-multimodal-latent-ss'}\n",
    "        ]\n",
    "project.insert(data, skip_duplicates=True) "
   ]
  },
  {
   "cell_type": "code",
   "execution_count": null,
   "id": "5ab0c3cc",
   "metadata": {},
   "outputs": [],
   "source": [
    "project.fetch('project')"
   ]
  },
  {
   "cell_type": "code",
   "execution_count": null,
   "id": "67c18474",
   "metadata": {},
   "outputs": [],
   "source": [
    "allprojects = project.fetch('project')\n",
    "\n",
    "# create a dropdown widget\n",
    "my_dropdown_projects = widgets.Dropdown(options=allprojects, value=allprojects[4], layout=widgets.Layout(width='300px'))\n",
    "\n",
    "# define a function to handle the dropdown selection\n",
    "\n",
    "print('Select project:')\n",
    "\n",
    "def on_dropdown_change(change):\n",
    "    if change['type'] == 'change' and change['name'] == 'value':\n",
    "        selected_project = change['new']\n",
    "        print(f\"You selected: {selected_project}\")\n",
    "\n",
    "# set the dropdown's event handler to our function\n",
    "my_dropdown_projects.observe(on_dropdown_change)\n",
    "\n",
    "# display the dropdown widget\n",
    "display(my_dropdown_projects)\n"
   ]
  },
  {
   "cell_type": "code",
   "execution_count": null,
   "id": "1832445c",
   "metadata": {},
   "outputs": [],
   "source": []
  },
  {
   "cell_type": "code",
   "execution_count": null,
   "metadata": {},
   "outputs": [],
   "source": [
    "print(my_dropdown_equipment.value)\n",
    "print(my_dropdown_surgery.value)\n",
    "print(my_dropdown_projects.value)"
   ]
  },
  {
   "cell_type": "markdown",
   "id": "e03829fd",
   "metadata": {},
   "source": [
    "### Line/Mutation"
   ]
  },
  {
   "cell_type": "code",
   "execution_count": null,
   "id": "2bbe332a",
   "metadata": {},
   "outputs": [],
   "source": [
    "# POPULATED BY PYRAT INGEST\n",
    "\n",
    "line_id = 1  # Unique identifier for the line.\n",
    "line_name = 'Gcamp6-ThyC57BL/6J-Tg(Thy1-GCaMP6s)GP4.12Dkim/J'  # Description of the line.\n",
    "is_active = 1  # Whether or not the line is actively breeding.\n",
    "\n",
    "mutation_id = 2  # Unique identifier for the mutation.\n",
    "mutation_description = 'Tg(Thy1-GCaMP6s)GP4.12Dkim'  # A description of the mutation.\n",
    "\n",
    "line.insert1((line_id, line_name, is_active), skip_duplicates=True)\n",
    "mutation.insert1((line_id, mutation_id, mutation_description), skip_duplicates=True)"
   ]
  },
  {
   "cell_type": "markdown",
   "id": "d2c39382-e82f-4df8-aabe-ddf958b4d8d8",
   "metadata": {},
   "source": [
    "### Subject"
   ]
  },
  {
   "cell_type": "code",
   "execution_count": null,
   "id": "14797373-203a-44df-94bc-b153e3dca30c",
   "metadata": {},
   "outputs": [],
   "source": [
    "# POPULATED BY PYRAT INGEST\n",
    "\n",
    "# subject.Subject.delete()\n",
    "subject_id = 'Testmouse1'\n",
    "earmark = ''\n",
    "sex = 'F'\n",
    "birth_date = ''\n",
    "#subject_description = ''\n",
    "generation = ''\n",
    "parents = {}\n",
    "owner_id = 1\n",
    "responsible_id = 1\n",
    "line_id = 1\n",
    "protocol_key = 'LANUF3'\n",
    "\n",
    "sub.insert1((subject_id, earmark, sex, birth_date,  generation, \n",
    "             parents, owner_id, responsible_id, line_id, protocol_key))"
   ]
  },
  {
   "cell_type": "code",
   "execution_count": null,
   "id": "08edead7",
   "metadata": {},
   "outputs": [],
   "source": [
    "subject = 'WEZ-8701'\n",
    "earmark = ''\n",
    "sex = 'M'\n",
    "birth_date = ''\n",
    "# subject_description = ''\n",
    "generation = ''\n",
    "parents = ''\n",
    "owner_id = 1\n",
    "responsible_id = 1\n",
    "line_id = 100\n",
    "protocol_key = 'LANUF3'\n",
    "\n",
    "sub.insert1((subject, earmark, sex, birth_date, generation, \n",
    "             parents, owner_id, responsible_id, line_id, protocol_key))"
   ]
  },
  {
   "cell_type": "markdown",
   "id": "2cea0c11",
   "metadata": {},
   "source": [
    "### Subject Genotype"
   ]
  },
  {
   "cell_type": "code",
   "execution_count": null,
   "id": "1b9fc5dd",
   "metadata": {},
   "outputs": [],
   "source": [
    "# POPULATED BY PYRAT INGEST\n",
    "\n",
    "subject = 'WEZ-8701'\n",
    "line_id = 1\n",
    "mutation_id = 2  # Unique identifier for the mutation.\n",
    "genotype = 'wt/tg'  # The target phenotype of the line.\n",
    "\n",
    "subject_genotype.insert1((subject, line_id, mutation_id, genotype))"
   ]
  },
  {
   "cell_type": "code",
   "execution_count": null,
   "id": "073f5883",
   "metadata": {},
   "outputs": [],
   "source": [
    "project.describe()"
   ]
  },
  {
   "cell_type": "code",
   "execution_count": null,
   "id": "2bb1e2a3",
   "metadata": {},
   "outputs": [],
   "source": [
    "project.fetch()"
   ]
  },
  {
   "cell_type": "markdown",
   "id": "1d6cbc6b",
   "metadata": {},
   "source": [
    "### Subject Death"
   ]
  },
  {
   "cell_type": "code",
   "execution_count": null,
   "id": "364fd35e",
   "metadata": {},
   "outputs": [],
   "source": [
    "subject = 'WEZ-8701'\n",
    "death_date = '2010-12-01'\n",
    "case = 'natural'\n",
    "\n",
    "subject_death.insert1((subject, death_date, case))"
   ]
  },
  {
   "cell_type": "markdown",
   "id": "a5abac1e",
   "metadata": {},
   "source": [
    "## Fetch"
   ]
  },
  {
   "cell_type": "markdown",
   "id": "3a82ddb6-6ae4-4359-a896-b62ff80476e7",
   "metadata": {},
   "source": [
    "### As table"
   ]
  },
  {
   "cell_type": "code",
   "execution_count": null,
   "id": "02ca9d55-3b3d-410c-835d-77f94ca502fb",
   "metadata": {},
   "outputs": [],
   "source": [
    "user * lab"
   ]
  },
  {
   "cell_type": "code",
   "execution_count": null,
   "id": "477cf5c6",
   "metadata": {},
   "outputs": [],
   "source": [
    "sub"
   ]
  },
  {
   "cell_type": "code",
   "execution_count": null,
   "id": "49a8e847-17ab-40bf-be9a-4da99e7edff4",
   "metadata": {},
   "outputs": [],
   "source": [
    "line * subject_genotype"
   ]
  },
  {
   "cell_type": "code",
   "execution_count": null,
   "id": "fe28c77e-ae31-41a8-926c-fae0693d4c96",
   "metadata": {},
   "outputs": [],
   "source": [
    "subject_genotype"
   ]
  },
  {
   "cell_type": "markdown",
   "id": "0a544ab0-c987-45ca-8c55-e6b223233684",
   "metadata": {},
   "source": [
    "### As dictionary"
   ]
  },
  {
   "cell_type": "markdown",
   "id": "e61ee14c-69e4-4283-8c47-b99b994dff5f",
   "metadata": {},
   "source": [
    "One item:"
   ]
  },
  {
   "cell_type": "code",
   "execution_count": null,
   "id": "e9be8cc2-33c0-4b78-b6d4-2f1abca62420",
   "metadata": {},
   "outputs": [],
   "source": [
    "(sub & 'subject=\"WEZ-8701\"').fetch1()"
   ]
  },
  {
   "cell_type": "markdown",
   "id": "f334c381-2604-45ec-a56d-d0bde7187ed8",
   "metadata": {},
   "source": [
    "List of dictionaries:"
   ]
  },
  {
   "cell_type": "code",
   "execution_count": null,
   "id": "03a818a3-5a9d-4b43-a19f-b65197017b04",
   "metadata": {},
   "outputs": [],
   "source": [
    "(subject_genotype & 'subject=\"WEZ-8701\"').fetch(as_dict=True)"
   ]
  },
  {
   "cell_type": "code",
   "execution_count": null,
   "id": "04f659cd-c0c4-4663-8948-3591868e2765",
   "metadata": {},
   "outputs": [],
   "source": [
    "user"
   ]
  }
 ],
 "metadata": {
  "jupytext": {
   "formats": "ipynb,py"
  },
  "kernelspec": {
   "display_name": "datajoint",
   "language": "python",
   "name": "python3"
  },
  "language_info": {
   "codemirror_mode": {
    "name": "ipython",
    "version": 3
   },
   "file_extension": ".py",
   "mimetype": "text/x-python",
   "name": "python",
   "nbconvert_exporter": "python",
   "pygments_lexer": "ipython3",
   "version": "3.8.16"
  },
  "vscode": {
   "interpreter": {
    "hash": "2888206d04306eefe963095373d1dcce5cd11176f3d6ee4ec3f64dd9e65fd8a1"
   }
  }
 },
 "nbformat": 4,
 "nbformat_minor": 5
}
