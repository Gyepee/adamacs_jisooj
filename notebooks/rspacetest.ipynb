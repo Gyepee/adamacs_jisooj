#!/usr/bin/env python3

import rspace_client
from importlib.metadata import version

filename='/home/szerr/Downloads/food.jpg'
token=



client = rspace_client.Client("https://rspace.uni-bonn.de/",token)

status_response = client.get_status()
print('RSpace API server status:', status_response['message'])
try:
    print('RSpace API server version:', status_response['rspaceVersion'])
except KeyError:
    # RSpace API version is returned only since 1.42
    pass


print("rspace client version: ")
version('rspace_client')



file_to_upload = open(filename, 'rb')
for r in client.list_folder_tree()["records"]:
    if r["name"]=="Gallery":
        for r in client.list_folder_tree(r['id'])['records']:
             if r["name"]=="Images":
                    for r in client.list_folder_tree(r['id'])['records']:
                        if r['type'] == 'FOLDER':
                            print("Uploading to "+r['name'])
                            res=client.upload_file(file_to_upload, r["id"], "foodimg.jpg")
                            print(res)
