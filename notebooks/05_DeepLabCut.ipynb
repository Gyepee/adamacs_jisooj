{
 "cells": [
  {
   "cell_type": "markdown",
   "id": "b0e36d60-7e12-4c51-ac24-5e62ba586001",
   "metadata": {},
   "source": [
    "# DeepLabCut Ingestion/Inference"
   ]
  },
  {
   "cell_type": "markdown",
   "id": "75a4c8ec",
   "metadata": {},
   "source": [
    "# DeepLabCut manual:\n",
    "https://github.com/DeepLabCut/DeepLabCut/blob/main/docs/standardDeepLabCut_UserGuide.md"
   ]
  },
  {
   "cell_type": "markdown",
   "id": "2b8414eb-f4c0-4e20-a93a-f8a2901bca49",
   "metadata": {},
   "source": [
    "`Dev notes:` Currently, the path structure assumes you have one DLC project directory for all models, as specified within `adamacs.pipeline.get_dlc_root_data_dir`. The parallel function `get_dlc_processed_data_dir` can specify the output directory. "
   ]
  },
  {
   "cell_type": "markdown",
   "id": "bbce6e46",
   "metadata": {},
   "source": [
    "## TODO\n",
    "\n",
    "1. Have the DLC model as selector in the Pingest GUI (model.Model() = model_name)\n",
    "2. Add a checkbox to process DLC data\n",
    "3. model.PoseEstimationTask.insert_estimation_task(key, key[\"model_name\"], analyze_videos_params={'save_as_csv':True}, task_mode = 'trigger') - have additional options in table?\n",
    "4. model.RecordingInfo.populate()\n",
    "model.RecordingInfo()\n",
    "5. model.PoseEstimation.populate()\n",
    "6. defer population to tmux or cron jobs?\n"
   ]
  },
  {
   "cell_type": "markdown",
   "id": "661a25a5-e884-4786-994c-ef4da4bf6ae2",
   "metadata": {},
   "source": [
    "## Setup"
   ]
  },
  {
   "cell_type": "markdown",
   "id": "d82ba707-4007-49d7-9cd6-0f1af03c0270",
   "metadata": {},
   "source": [
    "### Connect to the database"
   ]
  },
  {
   "cell_type": "markdown",
   "id": "4a148dfb-472c-4932-a473-913c04b1782e",
   "metadata": {},
   "source": [
    "If you are don't have your login information, contact the administrator.\n",
    "\n",
    "Using local config file (see [01_pipeline](./01_pipeline.ipynb)):"
   ]
  },
  {
   "cell_type": "code",
   "execution_count": 15,
   "id": "99c37499-7c85-45fd-9d1d-bb66cb0854c6",
   "metadata": {},
   "outputs": [
    {
     "data": {
      "text/plain": [
       "DataJoint connection (connected) tobiasr@172.26.128.53:3306"
      ]
     },
     "execution_count": 15,
     "metadata": {},
     "output_type": "execute_result"
    }
   ],
   "source": [
    "import os\n",
    "# change to the upper level folder to detect dj_local_conf.json\n",
    "if os.path.basename(os.getcwd())=='notebooks': os.chdir('..')\n",
    "assert os.path.basename(os.getcwd())=='adamacs', (\"Please move to the main directory\")\n",
    "import datajoint as dj; dj.conn()"
   ]
  },
  {
   "cell_type": "code",
   "execution_count": 16,
   "id": "d4a2657f",
   "metadata": {},
   "outputs": [
    {
     "data": {
      "text/plain": [
       "['/datajoint-data/models/tobiasr/DB_DLC_tracking',\n",
       " '/datajoint-data/models/tobiasr/NK_DLC_tracking',\n",
       " '/']"
      ]
     },
     "execution_count": 16,
     "metadata": {},
     "output_type": "execute_result"
    }
   ],
   "source": [
    "dj.config[\"custom\"].get(\"dlc_root_data_dir\")\n"
   ]
  },
  {
   "cell_type": "markdown",
   "id": "a6adb4d4-599b-49a5-ba7f-7013b07dd83b",
   "metadata": {},
   "source": [
    "### Imports and activation\n",
    "\n",
    "Importing schema from `adamacs.pipeline` automatically activates items."
   ]
  },
  {
   "cell_type": "code",
   "execution_count": 17,
   "id": "1b76b069-3ca5-4dce-9ea8-1ba2058c3662",
   "metadata": {},
   "outputs": [],
   "source": [
    "from adamacs.pipeline import subject, train,  scan, event, trial, behavior, session, model, equipment, imaging"
   ]
  },
  {
   "cell_type": "markdown",
   "id": "83f8326a-ecca-4978-aa45-cce9ffbc164f",
   "metadata": {
    "lines_to_next_cell": 0,
    "tags": []
   },
   "source": [
    "## Ingesting videos and training parameters\n",
    "\n",
    "### Automated\n",
    "\n",
    "Refer the `user_data` folder in the `adamacs` directory contains CSVs for inserting values into DeepLabCut tables.\n",
    "\n",
    "1. `config_params.csv` is used for training parameter sets in `train.TrainingParamSet`. The following items are required, but others will also be passed to DLC's `train_network` function when called \n",
    "2. `train_videosets.csv` and `model_videos.csv` pass values to `train.VideoSet` and `model.VideoRecording` respectively.\n",
    "3. `adamacs.ingest.dlc.ingest_dlc_items` will load each of these CSVs\n",
    "\n",
    "For more information, see [this notebook](https://github.com/CBroz1/workflow-deeplabcut/blob/main/notebooks/04-Automate_Optional.ipynb)"
   ]
  },
  {
   "cell_type": "code",
   "execution_count": 18,
   "metadata": {},
   "outputs": [
    {
     "data": {
      "image/svg+xml": [
       "<svg xmlns=\"http://www.w3.org/2000/svg\" xmlns:xlink=\"http://www.w3.org/1999/xlink\" width=\"1770pt\" height=\"302pt\" viewBox=\"0.00 0.00 1770.25 301.60\">\n",
       "<g id=\"graph0\" class=\"graph\" transform=\"scale(1 1) rotate(0) translate(4 297.6)\">\n",
       "<polygon fill=\"white\" stroke=\"none\" points=\"-4,4 -4,-297.6 1766.25,-297.6 1766.25,4 -4,4\"/>\n",
       "<!-- equipment.SetupRestraint -->\n",
       "<g id=\"node1\" class=\"node\">\n",
       "<title>equipment.SetupRestraint</title>\n",
       "<g id=\"a_node1\"><a xlink:title=\"setup_restraint      \r------------------------------\rsetup_restraint_description=&quot;&quot; \r\">\n",
       "<polygon fill=\"#00ff00\" fill-opacity=\"0.188235\" stroke=\"#00ff00\" stroke-opacity=\"0.188235\" points=\"154.75,-293.6 0,-293.6 0,-259.04 154.75,-259.04 154.75,-293.6\"/>\n",
       "<text text-anchor=\"start\" x=\"8\" y=\"-273.05\" font-family=\"arial\" text-decoration=\"underline\" font-size=\"12.00\" fill=\"darkgreen\">equipment.SetupRestraint</text>\n",
       "</a>\n",
       "</g>\n",
       "</g>\n",
       "<!-- session.Session -->\n",
       "<g id=\"node2\" class=\"node\">\n",
       "<title>session.Session</title>\n",
       "<g id=\"a_node2\"><a xlink:title=\"session_id           \r------------------------------\r→ subject.Subject\rsession_datetime     \r\">\n",
       "<polygon fill=\"#00ff00\" fill-opacity=\"0.188235\" stroke=\"#00ff00\" stroke-opacity=\"0.188235\" points=\"781.25,-293.6 677.5,-293.6 677.5,-259.04 781.25,-259.04 781.25,-293.6\"/>\n",
       "<text text-anchor=\"start\" x=\"685.5\" y=\"-273.05\" font-family=\"arial\" text-decoration=\"underline\" font-size=\"12.00\" fill=\"darkgreen\">session.Session</text>\n",
       "</a>\n",
       "</g>\n",
       "</g>\n",
       "<!-- session.SessionSameSite -->\n",
       "<g id=\"node4\" class=\"node\">\n",
       "<title>session.SessionSameSite</title>\n",
       "<g id=\"a_node4\"><a xlink:title=\"→ session.Session\r------------------------------\r→ session.SessionSite\r\">\n",
       "<polygon fill=\"#00ff00\" fill-opacity=\"0.188235\" stroke=\"#00ff00\" stroke-opacity=\"0.188235\" points=\"313.5,-223.04 157.25,-223.04 157.25,-188.48 313.5,-188.48 313.5,-223.04\"/>\n",
       "<text text-anchor=\"middle\" x=\"235.38\" y=\"-201.49\" font-family=\"arial\" font-size=\"12.00\" fill=\"darkgreen\">session.SessionSameSite</text>\n",
       "</a>\n",
       "</g>\n",
       "</g>\n",
       "<!-- session.Session&#45;&gt;session.SessionSameSite -->\n",
       "<g id=\"edge1\" class=\"edge\">\n",
       "<title>session.Session-&gt;session.SessionSameSite</title>\n",
       "<path fill=\"none\" stroke=\"#000000\" stroke-width=\"2\" stroke-opacity=\"0.250980\" d=\"M677.2,-269.59C599.63,-260.84 449.39,-243.07 322.38,-223.04 319.49,-222.59 316.56,-222.11 313.59,-221.62\"/>\n",
       "</g>\n",
       "<!-- session.ProjectSession -->\n",
       "<g id=\"node7\" class=\"node\">\n",
       "<title>session.ProjectSession</title>\n",
       "<g id=\"a_node7\"><a xlink:title=\"→ subject.Project\r→ session.Session\r\">\n",
       "<polygon fill=\"#00ff00\" fill-opacity=\"0.188235\" stroke=\"#00ff00\" stroke-opacity=\"0.188235\" points=\"473,-223.04 331.75,-223.04 331.75,-188.48 473,-188.48 473,-223.04\"/>\n",
       "<text text-anchor=\"middle\" x=\"402.38\" y=\"-201.49\" font-family=\"arial\" font-size=\"12.00\" fill=\"darkgreen\">session.ProjectSession</text>\n",
       "</a>\n",
       "</g>\n",
       "</g>\n",
       "<!-- session.Session&#45;&gt;session.ProjectSession -->\n",
       "<g id=\"edge2\" class=\"edge\">\n",
       "<title>session.Session-&gt;session.ProjectSession</title>\n",
       "<path fill=\"none\" stroke=\"#000000\" stroke-width=\"0.75\" stroke-opacity=\"0.250980\" d=\"M677.2,-264.38C622.02,-252.81 534.63,-234.49 473.25,-221.62\"/>\n",
       "</g>\n",
       "<!-- session.SessionRspace -->\n",
       "<g id=\"node9\" class=\"node\">\n",
       "<title>session.SessionRspace</title>\n",
       "<g id=\"a_node9\"><a xlink:title=\"→ session.Session\r------------------------------\rrspace_id            \r\">\n",
       "<polygon fill=\"#00ff00\" fill-opacity=\"0.188235\" stroke=\"#00ff00\" stroke-opacity=\"0.188235\" points=\"635.88,-223.04 490.88,-223.04 490.88,-188.48 635.88,-188.48 635.88,-223.04\"/>\n",
       "<text text-anchor=\"middle\" x=\"563.38\" y=\"-201.49\" font-family=\"arial\" font-size=\"12.00\" fill=\"darkgreen\">session.SessionRspace</text>\n",
       "</a>\n",
       "</g>\n",
       "</g>\n",
       "<!-- session.Session&#45;&gt;session.SessionRspace -->\n",
       "<g id=\"edge3\" class=\"edge\">\n",
       "<title>session.Session-&gt;session.SessionRspace</title>\n",
       "<path fill=\"none\" stroke=\"#000000\" stroke-width=\"2\" stroke-opacity=\"0.250980\" d=\"M688.77,-258.55C662.95,-247.88 629.65,-234.13 603.85,-223.48\"/>\n",
       "</g>\n",
       "<!-- session.SessionDirectory -->\n",
       "<g id=\"node11\" class=\"node\">\n",
       "<title>session.SessionDirectory</title>\n",
       "<g id=\"a_node11\"><a xlink:title=\"→ session.Session\r------------------------------\rsession_dir          \r→ subject.User\r\">\n",
       "<polygon fill=\"#00ff00\" fill-opacity=\"0.188235\" stroke=\"#00ff00\" stroke-opacity=\"0.188235\" points=\"805.25,-223.04 653.5,-223.04 653.5,-188.48 805.25,-188.48 805.25,-223.04\"/>\n",
       "<text text-anchor=\"middle\" x=\"729.38\" y=\"-201.49\" font-family=\"arial\" font-size=\"12.00\" fill=\"darkgreen\">session.SessionDirectory</text>\n",
       "</a>\n",
       "</g>\n",
       "</g>\n",
       "<!-- session.Session&#45;&gt;session.SessionDirectory -->\n",
       "<g id=\"edge4\" class=\"edge\">\n",
       "<title>session.Session-&gt;session.SessionDirectory</title>\n",
       "<path fill=\"none\" stroke=\"#000000\" stroke-width=\"2\" stroke-opacity=\"0.250980\" d=\"M729.38,-258.72C729.38,-247.94 729.38,-233.95 729.38,-223.2\"/>\n",
       "</g>\n",
       "<!-- model.VideoRecording -->\n",
       "<g id=\"node15\" class=\"node\">\n",
       "<title>model.VideoRecording</title>\n",
       "<g id=\"a_node15\"><a xlink:title=\"→ session.Session\rrecording_id         \r------------------------------\r→ equipment.Device\r\">\n",
       "<polygon fill=\"#00ff00\" fill-opacity=\"0.188235\" stroke=\"#00ff00\" stroke-opacity=\"0.188235\" points=\"1256.5,-223.04 1118.25,-223.04 1118.25,-188.48 1256.5,-188.48 1256.5,-223.04\"/>\n",
       "<text text-anchor=\"start\" x=\"1126.25\" y=\"-202.49\" font-family=\"arial\" text-decoration=\"underline\" font-size=\"12.00\" fill=\"darkgreen\">model.VideoRecording</text>\n",
       "</a>\n",
       "</g>\n",
       "</g>\n",
       "<!-- session.Session&#45;&gt;model.VideoRecording -->\n",
       "<g id=\"edge5\" class=\"edge\">\n",
       "<title>session.Session-&gt;model.VideoRecording</title>\n",
       "<path fill=\"none\" stroke=\"#000000\" stroke-width=\"0.75\" stroke-opacity=\"0.250980\" d=\"M781.49,-269.31C854.87,-260.58 992.74,-243.21 1109.38,-223.04 1112.24,-222.54 1115.16,-222.02 1118.1,-221.48\"/>\n",
       "</g>\n",
       "<!-- session.SessionNote -->\n",
       "<g id=\"node16\" class=\"node\">\n",
       "<title>session.SessionNote</title>\n",
       "<g id=\"a_node16\"><a xlink:title=\"→ session.Session\r------------------------------\rsession_note         \r\">\n",
       "<polygon fill=\"#00ff00\" fill-opacity=\"0.188235\" stroke=\"#00ff00\" stroke-opacity=\"0.188235\" points=\"953,-223.04 823.75,-223.04 823.75,-188.48 953,-188.48 953,-223.04\"/>\n",
       "<text text-anchor=\"middle\" x=\"888.38\" y=\"-201.49\" font-family=\"arial\" font-size=\"12.00\" fill=\"darkgreen\">session.SessionNote</text>\n",
       "</a>\n",
       "</g>\n",
       "</g>\n",
       "<!-- session.Session&#45;&gt;session.SessionNote -->\n",
       "<g id=\"edge6\" class=\"edge\">\n",
       "<title>session.Session-&gt;session.SessionNote</title>\n",
       "<path fill=\"none\" stroke=\"#000000\" stroke-width=\"2\" stroke-opacity=\"0.250980\" d=\"M768.27,-258.55C793,-247.88 824.9,-234.13 849.61,-223.48\"/>\n",
       "</g>\n",
       "<!-- session.SessionUser -->\n",
       "<g id=\"node19\" class=\"node\">\n",
       "<title>session.SessionUser</title>\n",
       "<g id=\"a_node19\"><a xlink:title=\"→ session.Session\r→ subject.User\r\">\n",
       "<polygon fill=\"#00ff00\" fill-opacity=\"0.188235\" stroke=\"#00ff00\" stroke-opacity=\"0.188235\" points=\"1100,-223.04 970.75,-223.04 970.75,-188.48 1100,-188.48 1100,-223.04\"/>\n",
       "<text text-anchor=\"middle\" x=\"1035.38\" y=\"-201.49\" font-family=\"arial\" font-size=\"12.00\" fill=\"darkgreen\">session.SessionUser</text>\n",
       "</a>\n",
       "</g>\n",
       "</g>\n",
       "<!-- session.Session&#45;&gt;session.SessionUser -->\n",
       "<g id=\"edge7\" class=\"edge\">\n",
       "<title>session.Session-&gt;session.SessionUser</title>\n",
       "<path fill=\"none\" stroke=\"#000000\" stroke-width=\"0.75\" stroke-opacity=\"0.250980\" d=\"M781.63,-263.61C833.78,-251.93 914.04,-233.95 970.29,-221.34\"/>\n",
       "</g>\n",
       "<!-- equipment.Device -->\n",
       "<g id=\"node3\" class=\"node\">\n",
       "<title>equipment.Device</title>\n",
       "<g id=\"a_node3\"><a xlink:title=\"camera               \r------------------------------\rcamera_description=&quot;&quot; \r\">\n",
       "<polygon fill=\"#00ff00\" fill-opacity=\"0.188235\" stroke=\"#00ff00\" stroke-opacity=\"0.188235\" points=\"1243.75,-293.6 1131,-293.6 1131,-259.04 1243.75,-259.04 1243.75,-293.6\"/>\n",
       "<text text-anchor=\"start\" x=\"1139\" y=\"-273.05\" font-family=\"arial\" text-decoration=\"underline\" font-size=\"12.00\" fill=\"darkgreen\">equipment.Device</text>\n",
       "</a>\n",
       "</g>\n",
       "</g>\n",
       "<!-- equipment.Device&#45;&gt;model.VideoRecording -->\n",
       "<g id=\"edge8\" class=\"edge\">\n",
       "<title>equipment.Device-&gt;model.VideoRecording</title>\n",
       "<path fill=\"none\" stroke=\"#000000\" stroke-width=\"0.75\" stroke-dasharray=\"5,2\" stroke-opacity=\"0.250980\" d=\"M1187.38,-258.72C1187.38,-247.94 1187.38,-233.95 1187.38,-223.2\"/>\n",
       "</g>\n",
       "<!-- model.PoseEstimation -->\n",
       "<g id=\"node5\" class=\"node\">\n",
       "<title>model.PoseEstimation</title>\n",
       "<g id=\"a_node5\"><a xlink:title=\"→ model.PoseEstimationTask\r------------------------------\rpose_estimation_time \r\">\n",
       "<ellipse fill=\"#ff0000\" fill-opacity=\"0.125490\" stroke=\"#ff0000\" stroke-opacity=\"0.125490\" cx=\"1462.38\" cy=\"-68.96\" rx=\"12.96\" ry=\"12.96\"/>\n",
       "<text text-anchor=\"middle\" x=\"1462.38\" y=\"-64.69\" font-family=\"arial\" font-size=\"12.00\" fill=\"#7f0000\" fill-opacity=\"0.627451\">model.PoseEstimation</text>\n",
       "</a>\n",
       "</g>\n",
       "</g>\n",
       "<!-- model.PoseEstimation.BodyPartPosition -->\n",
       "<g id=\"node20\" class=\"node\">\n",
       "<title>model.PoseEstimation.BodyPartPosition</title>\n",
       "<g id=\"a_node20\"><a xlink:title=\"→ model.PoseEstimation\r→ model.Model.BodyPart\r------------------------------\rframe_index          \rx_pos                \ry_pos                \rz_pos=null           \rlikelihood           \r\">\n",
       "<polygon fill=\"none\" stroke=\"none\" points=\"1558.88,-20 1365.88,-20 1365.88,0 1558.88,0 1558.88,-20\"/>\n",
       "<text text-anchor=\"middle\" x=\"1462.38\" y=\"-6.5\" font-family=\"arial\" font-size=\"10.00\">model.PoseEstimation.BodyPartPosition</text>\n",
       "</a>\n",
       "</g>\n",
       "</g>\n",
       "<!-- model.PoseEstimation&#45;&gt;model.PoseEstimation.BodyPartPosition -->\n",
       "<g id=\"edge9\" class=\"edge\">\n",
       "<title>model.PoseEstimation-&gt;model.PoseEstimation.BodyPartPosition</title>\n",
       "<path fill=\"none\" stroke=\"#000000\" stroke-width=\"0.75\" stroke-opacity=\"0.250980\" d=\"M1462.38,-56.16C1462.38,-45.34 1462.38,-29.56 1462.38,-19.81\"/>\n",
       "</g>\n",
       "<!-- model.Model -->\n",
       "<g id=\"node6\" class=\"node\">\n",
       "<title>model.Model</title>\n",
       "<g id=\"a_node6\"><a xlink:title=\"model_name           \r------------------------------\rtask                 \rdate                 \riteration            \rsnapshotindex        \rshuffle              \rtrainingsetindex     \rscorer               \rconfig_template      \rproject_path         \rmodel_prefix=&quot;&quot;      \rmodel_description=&quot;&quot; \r→ [nullable] train.TrainingParamSet\rUNIQUE INDEX (task, date, iteration, shuffle, snapshotindex, trainingsetindex)\r\">\n",
       "<polygon fill=\"#00ff00\" fill-opacity=\"0.188235\" stroke=\"#00ff00\" stroke-opacity=\"0.188235\" points=\"1658.88,-223.04 1573.88,-223.04 1573.88,-188.48 1658.88,-188.48 1658.88,-223.04\"/>\n",
       "<text text-anchor=\"start\" x=\"1581.88\" y=\"-202.49\" font-family=\"arial\" text-decoration=\"underline\" font-size=\"12.00\" fill=\"darkgreen\">model.Model</text>\n",
       "</a>\n",
       "</g>\n",
       "</g>\n",
       "<!-- model.ModelEvaluation -->\n",
       "<g id=\"node13\" class=\"node\">\n",
       "<title>model.ModelEvaluation</title>\n",
       "<g id=\"a_node13\"><a xlink:title=\"→ model.Model\r------------------------------\rtrain_iterations     \rtrain_error=null     \rtest_error=null      \rp_cutoff=null        \rtrain_error_p=null   \rtest_error_p=null    \r\">\n",
       "<ellipse fill=\"#ff0000\" fill-opacity=\"0.125490\" stroke=\"#ff0000\" stroke-opacity=\"0.125490\" cx=\"1521.38\" cy=\"-135.2\" rx=\"12.96\" ry=\"12.96\"/>\n",
       "<text text-anchor=\"middle\" x=\"1521.38\" y=\"-130.93\" font-family=\"arial\" font-size=\"12.00\" fill=\"#7f0000\" fill-opacity=\"0.627451\">model.ModelEvaluation</text>\n",
       "</a>\n",
       "</g>\n",
       "</g>\n",
       "<!-- model.Model&#45;&gt;model.ModelEvaluation -->\n",
       "<g id=\"edge10\" class=\"edge\">\n",
       "<title>model.Model-&gt;model.ModelEvaluation</title>\n",
       "<path fill=\"none\" stroke=\"#000000\" stroke-width=\"2\" stroke-opacity=\"0.250980\" d=\"M1593.38,-188.16C1573.39,-173.74 1545.43,-153.56 1530.94,-143.1\"/>\n",
       "</g>\n",
       "<!-- model.Model.BodyPart -->\n",
       "<g id=\"node17\" class=\"node\">\n",
       "<title>model.Model.BodyPart</title>\n",
       "<g id=\"a_node17\"><a xlink:title=\"→ model.Model\r→ model.BodyPart\r\">\n",
       "<polygon fill=\"none\" stroke=\"none\" points=\"1725.88,-145.2 1610.88,-145.2 1610.88,-125.2 1725.88,-125.2 1725.88,-145.2\"/>\n",
       "<text text-anchor=\"middle\" x=\"1668.38\" y=\"-131.7\" font-family=\"arial\" font-size=\"10.00\">model.Model.BodyPart</text>\n",
       "</a>\n",
       "</g>\n",
       "</g>\n",
       "<!-- model.Model&#45;&gt;model.Model.BodyPart -->\n",
       "<g id=\"edge11\" class=\"edge\">\n",
       "<title>model.Model-&gt;model.Model.BodyPart</title>\n",
       "<path fill=\"none\" stroke=\"#000000\" stroke-width=\"0.75\" stroke-opacity=\"0.250980\" d=\"M1628.96,-188.16C1639.3,-174.53 1653.54,-155.76 1661.77,-144.91\"/>\n",
       "</g>\n",
       "<!-- model.PoseEstimationTask -->\n",
       "<g id=\"node18\" class=\"node\">\n",
       "<title>model.PoseEstimationTask</title>\n",
       "<g id=\"a_node18\"><a xlink:title=\"→ model.VideoRecording\r→ model.Model\r------------------------------\rtask_mode=&quot;load&quot;     \rpose_estimation_output_dir=&quot;&quot; \rpose_estimation_params=null \r\">\n",
       "<polygon fill=\"#00ff00\" fill-opacity=\"0.188235\" stroke=\"#00ff00\" stroke-opacity=\"0.188235\" points=\"1432.75,-152.48 1272,-152.48 1272,-117.92 1432.75,-117.92 1432.75,-152.48\"/>\n",
       "<text text-anchor=\"middle\" x=\"1352.38\" y=\"-130.93\" font-family=\"arial\" font-size=\"12.00\" fill=\"darkgreen\">model.PoseEstimationTask</text>\n",
       "</a>\n",
       "</g>\n",
       "</g>\n",
       "<!-- model.Model&#45;&gt;model.PoseEstimationTask -->\n",
       "<g id=\"edge12\" class=\"edge\">\n",
       "<title>model.Model-&gt;model.PoseEstimationTask</title>\n",
       "<path fill=\"none\" stroke=\"#000000\" stroke-width=\"0.75\" stroke-opacity=\"0.250980\" d=\"M1573.67,-193.67C1531.27,-182.66 1465.75,-165.64 1416.99,-152.98\"/>\n",
       "</g>\n",
       "<!-- model.RecordingInfo -->\n",
       "<g id=\"node8\" class=\"node\">\n",
       "<title>model.RecordingInfo</title>\n",
       "<g id=\"a_node8\"><a xlink:title=\"→ model.VideoRecording\r------------------------------\rpx_height            \rpx_width             \rnframes              \rfps=null             \rrecording_datetime=null \rrecording_duration   \r\">\n",
       "<ellipse fill=\"#00007f\" fill-opacity=\"0.250980\" stroke=\"#00007f\" stroke-opacity=\"0.250980\" cx=\"1020.38\" cy=\"-135.2\" rx=\"82.99\" ry=\"17.28\"/>\n",
       "<text text-anchor=\"middle\" x=\"1020.38\" y=\"-130.93\" font-family=\"arial\" font-size=\"12.00\" fill=\"#00007f\" fill-opacity=\"0.627451\">model.RecordingInfo</text>\n",
       "</a>\n",
       "</g>\n",
       "</g>\n",
       "<!-- equipment.Equipment -->\n",
       "<g id=\"node10\" class=\"node\">\n",
       "<title>equipment.Equipment</title>\n",
       "<g id=\"a_node10\"><a xlink:title=\"scanner              \r------------------------------\rscanner_description=&quot;&quot; \r\">\n",
       "<polygon fill=\"#00ff00\" fill-opacity=\"0.188235\" stroke=\"#00ff00\" stroke-opacity=\"0.188235\" points=\"1394.88,-293.6 1261.88,-293.6 1261.88,-259.04 1394.88,-259.04 1394.88,-293.6\"/>\n",
       "<text text-anchor=\"start\" x=\"1269.88\" y=\"-273.05\" font-family=\"arial\" text-decoration=\"underline\" font-size=\"12.00\" fill=\"darkgreen\">equipment.Equipment</text>\n",
       "</a>\n",
       "</g>\n",
       "</g>\n",
       "<!-- session.Location -->\n",
       "<g id=\"node12\" class=\"node\">\n",
       "<title>session.Location</title>\n",
       "<g id=\"a_node12\"><a xlink:title=\"location             \r------------------------------\rlocation_full=&quot;&quot;     \r\">\n",
       "<polygon fill=\"#00ff00\" fill-opacity=\"0.188235\" stroke=\"#00ff00\" stroke-opacity=\"0.188235\" points=\"1519.38,-293.6 1413.38,-293.6 1413.38,-259.04 1519.38,-259.04 1519.38,-293.6\"/>\n",
       "<text text-anchor=\"start\" x=\"1421.38\" y=\"-273.05\" font-family=\"arial\" text-decoration=\"underline\" font-size=\"12.00\" fill=\"darkgreen\">session.Location</text>\n",
       "</a>\n",
       "</g>\n",
       "</g>\n",
       "<!-- session.SessionSite -->\n",
       "<g id=\"node14\" class=\"node\">\n",
       "<title>session.SessionSite</title>\n",
       "<g id=\"a_node14\"><a xlink:title=\"same_site_id         \r\">\n",
       "<polygon fill=\"#00ff00\" fill-opacity=\"0.188235\" stroke=\"#00ff00\" stroke-opacity=\"0.188235\" points=\"297.75,-293.6 173,-293.6 173,-259.04 297.75,-259.04 297.75,-293.6\"/>\n",
       "<text text-anchor=\"start\" x=\"181\" y=\"-273.05\" font-family=\"arial\" text-decoration=\"underline\" font-size=\"12.00\" fill=\"darkgreen\">session.SessionSite</text>\n",
       "</a>\n",
       "</g>\n",
       "</g>\n",
       "<!-- session.SessionSite&#45;&gt;session.SessionSameSite -->\n",
       "<g id=\"edge13\" class=\"edge\">\n",
       "<title>session.SessionSite-&gt;session.SessionSameSite</title>\n",
       "<path fill=\"none\" stroke=\"#000000\" stroke-width=\"0.75\" stroke-dasharray=\"5,2\" stroke-opacity=\"0.250980\" d=\"M235.38,-258.72C235.38,-247.94 235.38,-233.95 235.38,-223.2\"/>\n",
       "</g>\n",
       "<!-- model.VideoRecording&#45;&gt;model.RecordingInfo -->\n",
       "<g id=\"edge14\" class=\"edge\">\n",
       "<title>model.VideoRecording-&gt;model.RecordingInfo</title>\n",
       "<path fill=\"none\" stroke=\"#000000\" stroke-width=\"2\" stroke-opacity=\"0.250980\" d=\"M1146.52,-187.99C1119.1,-176.73 1083.29,-162.03 1056.83,-151.17\"/>\n",
       "</g>\n",
       "<!-- model.VideoRecording&#45;&gt;model.PoseEstimationTask -->\n",
       "<g id=\"edge15\" class=\"edge\">\n",
       "<title>model.VideoRecording-&gt;model.PoseEstimationTask</title>\n",
       "<path fill=\"none\" stroke=\"#000000\" stroke-width=\"0.75\" stroke-opacity=\"0.250980\" d=\"M1227.74,-187.99C1253.4,-177.32 1286.5,-163.57 1312.14,-152.92\"/>\n",
       "</g>\n",
       "<!-- model.VideoRecording.File -->\n",
       "<g id=\"node23\" class=\"node\">\n",
       "<title>model.VideoRecording.File</title>\n",
       "<g id=\"a_node23\"><a xlink:title=\"→ model.VideoRecording\rfile_id              \r------------------------------\rfile_path            \r\">\n",
       "<polygon fill=\"none\" stroke=\"none\" points=\"1253.88,-145.2 1120.88,-145.2 1120.88,-125.2 1253.88,-125.2 1253.88,-145.2\"/>\n",
       "<text text-anchor=\"start\" x=\"1128.88\" y=\"-132.7\" font-family=\"arial\" text-decoration=\"underline\" font-size=\"10.00\">model.VideoRecording.File</text>\n",
       "</a>\n",
       "</g>\n",
       "</g>\n",
       "<!-- model.VideoRecording&#45;&gt;model.VideoRecording.File -->\n",
       "<g id=\"edge16\" class=\"edge\">\n",
       "<title>model.VideoRecording-&gt;model.VideoRecording.File</title>\n",
       "<path fill=\"none\" stroke=\"#000000\" stroke-width=\"0.75\" stroke-opacity=\"0.250980\" d=\"M1187.38,-188.16C1187.38,-174.53 1187.38,-155.76 1187.38,-144.91\"/>\n",
       "</g>\n",
       "<!-- model.Model.BodyPart&#45;&gt;model.PoseEstimation.BodyPartPosition -->\n",
       "<g id=\"edge17\" class=\"edge\">\n",
       "<title>model.Model.BodyPart-&gt;model.PoseEstimation.BodyPartPosition</title>\n",
       "<path fill=\"none\" stroke=\"#000000\" stroke-width=\"0.75\" stroke-opacity=\"0.250980\" d=\"M1653.72,-125.21C1629.84,-110.58 1581.01,-80.78 1539.38,-56 1518.09,-43.33 1493.33,-28.92 1477.76,-19.89\"/>\n",
       "</g>\n",
       "<!-- model.PoseEstimationTask&#45;&gt;model.PoseEstimation -->\n",
       "<g id=\"edge18\" class=\"edge\">\n",
       "<title>model.PoseEstimationTask-&gt;model.PoseEstimation</title>\n",
       "<path fill=\"none\" stroke=\"#000000\" stroke-width=\"2\" stroke-opacity=\"0.250980\" d=\"M1380.99,-117.49C1404.16,-103.96 1435.52,-85.64 1451.71,-76.19\"/>\n",
       "</g>\n",
       "<!-- session.Equipment -->\n",
       "<g id=\"node21\" class=\"node\">\n",
       "<title>session.Equipment</title>\n",
       "<g id=\"a_node21\"><a xlink:title=\"scanner              \r\">\n",
       "<polygon fill=\"#00ff00\" fill-opacity=\"0.188235\" stroke=\"#00ff00\" stroke-opacity=\"0.188235\" points=\"1655.38,-293.6 1537.38,-293.6 1537.38,-259.04 1655.38,-259.04 1655.38,-293.6\"/>\n",
       "<text text-anchor=\"start\" x=\"1545.38\" y=\"-273.05\" font-family=\"arial\" text-decoration=\"underline\" font-size=\"12.00\" fill=\"darkgreen\">session.Equipment</text>\n",
       "</a>\n",
       "</g>\n",
       "</g>\n",
       "<!-- model.BodyPart -->\n",
       "<g id=\"node22\" class=\"node\">\n",
       "<title>model.BodyPart</title>\n",
       "<g id=\"a_node22\"><a xlink:title=\"body_part            \r------------------------------\rbody_part_description=&quot;&quot; \r\">\n",
       "<polygon fill=\"#000000\" fill-opacity=\"0.125490\" stroke=\"none\" points=\"1762.25,-223.04 1676.5,-223.04 1676.5,-188.48 1762.25,-188.48 1762.25,-223.04\"/>\n",
       "<text text-anchor=\"start\" x=\"1684.5\" y=\"-203.26\" font-family=\"arial\" text-decoration=\"underline\" font-size=\"10.00\">model.BodyPart</text>\n",
       "</a>\n",
       "</g>\n",
       "</g>\n",
       "<!-- model.BodyPart&#45;&gt;model.Model.BodyPart -->\n",
       "<g id=\"edge19\" class=\"edge\">\n",
       "<title>model.BodyPart-&gt;model.Model.BodyPart</title>\n",
       "<path fill=\"none\" stroke=\"#000000\" stroke-width=\"0.75\" stroke-opacity=\"0.250980\" d=\"M1707.29,-188.51C1697.16,-174.89 1683.07,-155.96 1674.92,-145\"/>\n",
       "</g>\n",
       "</g>\n",
       "</svg>"
      ],
      "text/plain": [
       "<datajoint.diagram.Diagram at 0x7f5991d089a0>"
      ]
     },
     "execution_count": 18,
     "metadata": {},
     "output_type": "execute_result"
    }
   ],
   "source": [
    "dj.Diagram(model) + dj.Diagram(equipment) + dj.Diagram(session)"
   ]
  },
  {
   "cell_type": "code",
   "execution_count": 19,
   "id": "f93dfb26-0b38-47e0-92f2-37e8df758319",
   "metadata": {},
   "outputs": [],
   "source": [
    "    # from adamacs.ingest.dlc import ingest_dlc_items\n",
    "    # ingest_dlc_items()"
   ]
  },
  {
   "cell_type": "code",
   "execution_count": 20,
   "metadata": {},
   "outputs": [],
   "source": [
    "# model.VideoRecording().drop()\n",
    "# model.Model.delete()"
   ]
  },
  {
   "cell_type": "code",
   "execution_count": 21,
   "id": "d6ccda2f",
   "metadata": {},
   "outputs": [
    {
     "data": {
      "text/plain": [
       "['#training_param_set',\n",
       " 'video_set',\n",
       " 'video_set__file',\n",
       " 'training_task',\n",
       " '__model_training']"
      ]
     },
     "execution_count": 21,
     "metadata": {},
     "output_type": "execute_result"
    }
   ],
   "source": [
    "train.schema.list_tables()"
   ]
  },
  {
   "cell_type": "markdown",
   "id": "5d411cbb-3c2c-4bb0-b300-27a0dcd68978",
   "metadata": {},
   "source": [
    "### Manual\n",
    "\n",
    "The same training parameters as above can be manually inserted as follows."
   ]
  },
  {
   "cell_type": "code",
   "execution_count": 22,
   "id": "34060694-72bc-4814-a3a4-64de1d3d447a",
   "metadata": {},
   "outputs": [],
   "source": [
    "import yaml\n",
    "from element_interface.utils import find_full_path\n",
    "from adamacs.paths import get_dlc_root_data_dir\n",
    "import pathlib\n",
    "# config_path = find_full_path(get_dlc_root_data_dir(), \n",
    "                            #  'from_top_tracking-DJ-2022-02-23/config.yaml')\n",
    "config_path = find_full_path(get_dlc_root_data_dir(), \n",
    "                             'Topcam_2bin_wtscope-NK-2023-09-11/config.yaml')"
   ]
  },
  {
   "cell_type": "code",
   "execution_count": 23,
   "id": "30a3414f",
   "metadata": {},
   "outputs": [
    {
     "data": {
      "text/html": [
       "\n",
       "    \n",
       "    <style type=\"text/css\">\n",
       "        .Table{\n",
       "            border-collapse:collapse;\n",
       "        }\n",
       "        .Table th{\n",
       "            background: #A0A0A0; color: #ffffff; padding:4px; border:#f0e0e0 1px solid;\n",
       "            font-weight: normal; font-family: monospace; font-size: 100%;\n",
       "        }\n",
       "        .Table td{\n",
       "            padding:4px; border:#f0e0e0 1px solid; font-size:100%;\n",
       "        }\n",
       "        .Table tr:nth-child(odd){\n",
       "            background: #ffffff;\n",
       "            color: #000000;\n",
       "        }\n",
       "        .Table tr:nth-child(even){\n",
       "            background: #f3f1ff;\n",
       "            color: #000000;\n",
       "        }\n",
       "        /* Tooltip container */\n",
       "        .djtooltip {\n",
       "        }\n",
       "        /* Tooltip text */\n",
       "        .djtooltip .djtooltiptext {\n",
       "            visibility: hidden;\n",
       "            width: 120px;\n",
       "            background-color: black;\n",
       "            color: #fff;\n",
       "            text-align: center;\n",
       "            padding: 5px 0;\n",
       "            border-radius: 6px;\n",
       "            /* Position the tooltip text - see examples below! */\n",
       "            position: absolute;\n",
       "            z-index: 1;\n",
       "        }\n",
       "        #primary {\n",
       "            font-weight: bold;\n",
       "            color: black;\n",
       "        }\n",
       "        #nonprimary {\n",
       "            font-weight: normal;\n",
       "            color: white;\n",
       "        }\n",
       "\n",
       "        /* Show the tooltip text when you mouse over the tooltip container */\n",
       "        .djtooltip:hover .djtooltiptext {\n",
       "            visibility: visible;\n",
       "        }\n",
       "    </style>\n",
       "    \n",
       "    <b></b>\n",
       "        <div style=\"max-height:1000px;max-width:1500px;overflow:auto;\">\n",
       "        <table border=\"1\" class=\"Table\">\n",
       "            <thead> <tr style=\"text-align: right;\"> <th> <div class=\"djtooltip\">\n",
       "                            <p id=\"primary\">session_id</p>\n",
       "                            <span class=\"djtooltiptext\"></span>\n",
       "                        </div></th><th><div class=\"djtooltip\">\n",
       "                            <p id=\"primary\">recording_id</p>\n",
       "                            <span class=\"djtooltiptext\"></span>\n",
       "                        </div></th><th><div class=\"djtooltip\">\n",
       "                            <p id=\"primary\">file_id</p>\n",
       "                            <span class=\"djtooltiptext\"></span>\n",
       "                        </div></th><th><div class=\"djtooltip\">\n",
       "                            <p id=\"nonprimary\">file_path</p>\n",
       "                            <span class=\"djtooltiptext\">filepath of video, relative to root data directory</span>\n",
       "                        </div> </th> </tr> </thead>\n",
       "            <tbody> <tr> <td>sess9FB2LN5C</td>\n",
       "<td>scan9FB2LN5C</td>\n",
       "<td>1</td>\n",
       "<td>/datajoint-data/data/tobiasr/DB_WEZ-8701_2022-03-18_scan9FB2LN5C_sess9FB2LN5C/scan9FB2LN5C_top_video_2022-03-18T16_55_33.mp4</td></tr><tr><td>sess9FJ842C3</td>\n",
       "<td>scan9FJ842C3</td>\n",
       "<td>0</td>\n",
       "<td>/datajoint-data/data/tobiasr/RN_OPI-1681_2023-07-24_scan9FJ842C3_sess9FJ842C3/scan9FJ842C3_top_video_2023-07-24T16_38_06.mp4</td></tr><tr><td>sess9FKW82R3</td>\n",
       "<td>scan9FKW82R3</td>\n",
       "<td>0</td>\n",
       "<td>/datajoint-data/data/tobiasr/JJ_ROS-1604_2023-11-02_scan9FKW82R3_sess9FKW82R3/scan9FKW82R3_mini2p1_top_video_2023-11-02T15_40_02.mp4</td> </tr> </tbody>\n",
       "        </table>\n",
       "        \n",
       "        <p>Total: 3</p></div>\n",
       "        "
      ],
      "text/plain": [
       "*session_id    *recording_id  *file_id    file_path     \n",
       "+------------+ +------------+ +---------+ +------------+\n",
       "sess9FB2LN5C   scan9FB2LN5C   1           /datajoint-dat\n",
       "sess9FJ842C3   scan9FJ842C3   0           /datajoint-dat\n",
       "sess9FKW82R3   scan9FKW82R3   0           /datajoint-dat\n",
       " (Total: 3)"
      ]
     },
     "execution_count": 23,
     "metadata": {},
     "output_type": "execute_result"
    }
   ],
   "source": [
    "model.VideoRecording.File() "
   ]
  },
  {
   "cell_type": "code",
   "execution_count": 24,
   "id": "80ba9ae1-a614-4255-9220-99cb1b05c4fe",
   "metadata": {},
   "outputs": [],
   "source": [
    "scansi = \"scan9FJ842C3\"\n",
    "scan_key = (scan.Scan & f'scan_id = \"{scansi}\"').fetch('KEY')[0] \n",
    "moviepath = str(list(pathlib.Path((scan.ScanPath() & scan_key).fetch(\"path\")[0]).glob(\"*top*.mp4*\"))[0])\n",
    "\n",
    "key = {'session_id': scan_key[\"session_id\"],\n",
    "       'recording_id': scan_key[\"scan_id\"], \n",
    "       'camera': \"mini2p1_top\", # Currently 'scanner' due to in equipment tables\n",
    "}\n",
    "model.VideoRecording.insert1(key, skip_duplicates=True)\n",
    "# do not include an initial `/` in relative file paths   \n",
    "key.update({'file_path': moviepath,\n",
    "            'file_id': 0})\n",
    "model.VideoRecording.File.insert1(key, ignore_extra_fields=True, skip_duplicates=True)"
   ]
  },
  {
   "cell_type": "code",
   "execution_count": 25,
   "id": "db928d76",
   "metadata": {},
   "outputs": [],
   "source": [
    "scansi = \"scan9FB2LN5C\"\n",
    "scan_key = (scan.Scan & f'scan_id = \"{scansi}\"').fetch('KEY')[0] \n",
    "moviepath = str(list(pathlib.Path((scan.ScanPath() & scan_key).fetch(\"path\")[0]).glob(\"*top*.mp4*\"))[0])\n",
    "\n",
    "key = {'session_id': scan_key[\"session_id\"],\n",
    "       'recording_id': scan_key[\"scan_id\"], \n",
    "       'camera': \"mini2p1_top\", # Currently 'scanner' due to in equipment tables\n",
    "}\n",
    "model.VideoRecording.insert1(key, skip_duplicates=True)\n",
    "# do not include an initial `/` in relative file paths   \n",
    "key.update({'file_path': moviepath,\n",
    "            'file_id': 1})\n",
    "model.VideoRecording.File.insert1(key, ignore_extra_fields=True, skip_duplicates=True)"
   ]
  },
  {
   "cell_type": "code",
   "execution_count": 26,
   "id": "5c954492",
   "metadata": {},
   "outputs": [
    {
     "ename": "IndexError",
     "evalue": "list index out of range",
     "output_type": "error",
     "traceback": [
      "\u001b[0;31m---------------------------------------------------------------------------\u001b[0m",
      "\u001b[0;31mIndexError\u001b[0m                                Traceback (most recent call last)",
      "Cell \u001b[0;32mIn[26], line 2\u001b[0m\n\u001b[1;32m      1\u001b[0m scansi \u001b[38;5;241m=\u001b[39m \u001b[38;5;124m\"\u001b[39m\u001b[38;5;124mscan9FHELAYA\u001b[39m\u001b[38;5;124m\"\u001b[39m\n\u001b[0;32m----> 2\u001b[0m scan_key \u001b[38;5;241m=\u001b[39m \u001b[43m(\u001b[49m\u001b[43mscan\u001b[49m\u001b[38;5;241;43m.\u001b[39;49m\u001b[43mScan\u001b[49m\u001b[43m \u001b[49m\u001b[38;5;241;43m&\u001b[39;49m\u001b[43m \u001b[49m\u001b[38;5;124;43mf\u001b[39;49m\u001b[38;5;124;43m'\u001b[39;49m\u001b[38;5;124;43mscan_id = \u001b[39;49m\u001b[38;5;124;43m\"\u001b[39;49m\u001b[38;5;132;43;01m{\u001b[39;49;00m\u001b[43mscansi\u001b[49m\u001b[38;5;132;43;01m}\u001b[39;49;00m\u001b[38;5;124;43m\"\u001b[39;49m\u001b[38;5;124;43m'\u001b[39;49m\u001b[43m)\u001b[49m\u001b[38;5;241;43m.\u001b[39;49m\u001b[43mfetch\u001b[49m\u001b[43m(\u001b[49m\u001b[38;5;124;43m'\u001b[39;49m\u001b[38;5;124;43mKEY\u001b[39;49m\u001b[38;5;124;43m'\u001b[39;49m\u001b[43m)\u001b[49m\u001b[43m[\u001b[49m\u001b[38;5;241;43m0\u001b[39;49m\u001b[43m]\u001b[49m \n\u001b[1;32m      3\u001b[0m moviepath \u001b[38;5;241m=\u001b[39m \u001b[38;5;28mstr\u001b[39m(\u001b[38;5;28mlist\u001b[39m(pathlib\u001b[38;5;241m.\u001b[39mPath((scan\u001b[38;5;241m.\u001b[39mScanPath() \u001b[38;5;241m&\u001b[39m scan_key)\u001b[38;5;241m.\u001b[39mfetch(\u001b[38;5;124m\"\u001b[39m\u001b[38;5;124mpath\u001b[39m\u001b[38;5;124m\"\u001b[39m)[\u001b[38;5;241m0\u001b[39m])\u001b[38;5;241m.\u001b[39mglob(\u001b[38;5;124m\"\u001b[39m\u001b[38;5;124m*top*.mp4\u001b[39m\u001b[38;5;124m\"\u001b[39m))[\u001b[38;5;241m0\u001b[39m])\n\u001b[1;32m      4\u001b[0m \u001b[38;5;66;03m# moviepath = str(list(pathlib.Path((scan.ScanPath() & scan_key).fetch(\"path\")[0]).glob(\"*top*.mp4-copy.mp4\"))[0])\u001b[39;00m\n",
      "\u001b[0;31mIndexError\u001b[0m: list index out of range"
     ]
    }
   ],
   "source": [
    "scansi = \"scan9FHELAYA\"\n",
    "scan_key = (scan.Scan & f'scan_id = \"{scansi}\"').fetch('KEY')[0] \n",
    "moviepath = str(list(pathlib.Path((scan.ScanPath() & scan_key).fetch(\"path\")[0]).glob(\"*top*.mp4\"))[0])\n",
    "# moviepath = str(list(pathlib.Path((scan.ScanPath() & scan_key).fetch(\"path\")[0]).glob(\"*top*.mp4-copy.mp4\"))[0])\n",
    "\n",
    "key = {'session_id': scan_key[\"session_id\"],\n",
    "       'recording_id': scan_key[\"scan_id\"], \n",
    "       'camera': \"mini2p1_top\", # Currently 'scanner' due to in equipment tables\n",
    "}\n",
    "model.VideoRecording.insert1(key, skip_duplicates=True)\n",
    "# do not include an initial `/` in relative file paths   \n",
    "key.update({'file_path': moviepath,\n",
    "            'file_id': 2})\n",
    "model.VideoRecording.File.insert1(key, ignore_extra_fields=True, skip_duplicates=True)"
   ]
  },
  {
   "cell_type": "markdown",
   "id": "ae990c82-36a6-4662-bac8-e014bd80b084",
   "metadata": {},
   "source": [
    "## Model Training"
   ]
  },
  {
   "cell_type": "markdown",
   "id": "91befce5-f9c5-47d3-88df-5c4398eebbbe",
   "metadata": {},
   "source": [
    "The `TrainingTask` table queues up training. To launch training from a different machine, one needs to edit DLC's config files to reflect updated paths. For training, this includes `dlc-models/*/*/train/pose_cfg.yaml`\n",
    "\n",
    "`CB DEV NOTE:` I'm missing the following videos used to originally train the model:\n",
    "- top_video2022-02-17T15_56_10.mp4\n",
    "- top_video2022-02-21T12_18_09.mp4"
   ]
  },
  {
   "cell_type": "markdown",
   "id": "e0e7c363",
   "metadata": {},
   "source": [
    "#### DeepLabcut Tables"
   ]
  },
  {
   "cell_type": "markdown",
   "id": "342d30bb",
   "metadata": {},
   "source": [
    "The `VideoSet` table in the `train` schema retains records of files generated in the video labeling process (e.g., `h5`, `csv`, `png`). DeepLabCut will refer to the `mat` file located under the `training-datasets` directory.\n",
    "\n",
    "We recommend storing all paths as relative to the root in your config."
   ]
  },
  {
   "cell_type": "code",
   "execution_count": null,
   "id": "0246d207",
   "metadata": {},
   "outputs": [],
   "source": [
    "# train.VideoSet.delete()"
   ]
  },
  {
   "cell_type": "code",
   "execution_count": null,
   "id": "a154a4ed",
   "metadata": {},
   "outputs": [],
   "source": [
    "train.VideoSet.insert1({'video_set_id': 0}, skip_duplicates=True)\n",
    "project_folder = 'from_top_tracking-DJ-2022-02-23/'\n",
    "training_files = ['labeled-data/exp9FANLWRZ_top_video2022-02-21T12_18_09/CollectedData_DJ.h5',\n",
    "                  'labeled-data/exp9FANLWRZ_top_video2022-02-21T12_18_09/CollectedData_DJ.csv',\n",
    "                  'labeled-data/exp9FANLWRZ_top_video2022-02-21T12_18_09/img00674.png',\n",
    "                  'videos/exp9FANLWRZ_top_video2022-02-21T12_18_09.mp4']\n",
    "for idx, filename in enumerate(training_files):\n",
    "    train.VideoSet.File.insert1({'video_set_id': 0,\n",
    "                                 'file_id': idx,\n",
    "                                 'file_path': (project_folder + filename)}, skip_duplicates=True)\n",
    "train.VideoSet.File()"
   ]
  },
  {
   "cell_type": "code",
   "execution_count": null,
   "id": "0f6fffb8",
   "metadata": {},
   "outputs": [],
   "source": [
    "train.VideoSet.insert1({'video_set_id': 1}, skip_duplicates=True)\n",
    "project_folder = 'Head_orientation-NK-2023-07-17/'\n",
    "training_files = ['labeled-data/scan9FHF1JT7_top_video_2023-04-06T09_31_19/CollectedData_NK.h5',\n",
    "                  'labeled-data/scan9FHF1JT7_top_video_2023-04-06T09_31_19/CollectedData_NK.csv',\n",
    "                  'labeled-data/scan9FHF1JT7_top_video_2023-04-06T09_31_19/img00162.png',\n",
    "                  'videos/scan9FHF1JT7_top_video_2023-04-06T09_31_19.mp4']\n",
    "for idx, filename in enumerate(training_files):\n",
    "    train.VideoSet.File.insert1({'video_set_id': 1,\n",
    "                                 'file_id': idx,\n",
    "                                 'file_path': (project_folder + filename)}, skip_duplicates=True)\n",
    "train.VideoSet.File()"
   ]
  },
  {
   "cell_type": "code",
   "execution_count": null,
   "id": "2208217c",
   "metadata": {},
   "outputs": [],
   "source": [
    "train.VideoSet()"
   ]
  },
  {
   "cell_type": "markdown",
   "id": "4051922c",
   "metadata": {},
   "source": [
    "The `params` longblob should be a dictionary that captures all items for DeepLabCut's `train_network` function. At minimum, this is the contents of the project's config file, as well as `suffle` and `trainingsetindex`, which are not included in the config. "
   ]
  },
  {
   "cell_type": "code",
   "execution_count": null,
   "id": "f727557a",
   "metadata": {},
   "outputs": [],
   "source": [
    "from deeplabcut import train_network\n",
    "help(train_network) # for more information on optional parameters"
   ]
  },
  {
   "cell_type": "markdown",
   "id": "2b19a91e",
   "metadata": {},
   "source": [
    "Here, we give these items, load the config contents, and overwrite some defaults, including `maxiters`, to restrict our training iterations to 5."
   ]
  },
  {
   "cell_type": "code",
   "execution_count": null,
   "id": "04fdf6df",
   "metadata": {},
   "outputs": [],
   "source": [
    "train.TrainingParamSet()"
   ]
  },
  {
   "cell_type": "code",
   "execution_count": null,
   "id": "f1399310",
   "metadata": {},
   "outputs": [],
   "source": [
    "import yaml\n",
    "\n",
    "paramset_idx = 0; paramset_desc='from_top_tracking-DJ-2022-02-23'\n",
    "\n",
    "config_path = find_full_path(get_dlc_root_data_dir()[0], \n",
    "                             paramset_desc + '/config.yaml')\n",
    "\n",
    "with open(config_path, 'rb') as y:\n",
    "    config_params = yaml.safe_load(y)\n",
    "training_params = {'shuffle': '1',\n",
    "                   'trainingsetindex': '0',\n",
    "                   'maxiters': '5',\n",
    "                   'scorer_legacy': 'False',\n",
    "                   'maxiters': '5', \n",
    "                   'multianimalproject':'False'}\n",
    "config_params.update(training_params)\n",
    "train.TrainingParamSet.insert_new_params(paramset_idx=paramset_idx,\n",
    "                                         paramset_desc=paramset_desc,\n",
    "                                         params=config_params)"
   ]
  },
  {
   "cell_type": "code",
   "execution_count": null,
   "id": "18e274dc",
   "metadata": {},
   "outputs": [],
   "source": [
    "paramset_idx = 1; paramset_desc='Head_orientation-NK-2023-07-17'\n",
    "\n",
    "config_path = find_full_path(get_dlc_root_data_dir()[1], \n",
    "                             paramset_desc + '/config.yaml')\n",
    "\n",
    "with open(config_path, 'rb') as y:\n",
    "    config_params = yaml.safe_load(y)\n",
    "training_params = {'shuffle': '1',\n",
    "                   'trainingsetindex': '0',\n",
    "                   'maxiters': '5',\n",
    "                   'scorer_legacy': 'False',\n",
    "                   'maxiters': '5', \n",
    "                   'multianimalproject':'False'}\n",
    "config_params.update(training_params)\n",
    "train.TrainingParamSet.insert_new_params(paramset_idx=paramset_idx,\n",
    "                                         paramset_desc=paramset_desc,\n",
    "                                         params=config_params)"
   ]
  },
  {
   "cell_type": "code",
   "execution_count": null,
   "id": "bf5d0e88",
   "metadata": {},
   "outputs": [],
   "source": [
    "paramset_idx = 2; paramset_desc='Topcam_2bin_wtscope-NK-2023-09-11'\n",
    "\n",
    "config_path = find_full_path(get_dlc_root_data_dir()[1], \n",
    "                             paramset_desc + '/config.yaml')\n",
    "\n",
    "with open(config_path, 'rb') as y:\n",
    "    config_params = yaml.safe_load(y)\n",
    "training_params = {'shuffle': '1',\n",
    "                   'trainingsetindex': '0',\n",
    "                   'maxiters': '5',\n",
    "                   'scorer_legacy': 'False',\n",
    "                   'maxiters': '5', \n",
    "                   'multianimalproject':'False'}\n",
    "config_params.update(training_params)\n",
    "train.TrainingParamSet.insert_new_params(paramset_idx=paramset_idx,\n",
    "                                         paramset_desc=paramset_desc,\n",
    "                                         params=config_params)"
   ]
  },
  {
   "cell_type": "code",
   "execution_count": null,
   "id": "064357fe",
   "metadata": {},
   "outputs": [],
   "source": [
    "train.TrainingParamSet()"
   ]
  },
  {
   "cell_type": "code",
   "execution_count": null,
   "id": "7674018d",
   "metadata": {},
   "outputs": [],
   "source": [
    "# train.TrainingTask.delete()"
   ]
  },
  {
   "cell_type": "code",
   "execution_count": null,
   "id": "6947589c-0546-472d-8ee6-b5c5b56ffac3",
   "metadata": {},
   "outputs": [],
   "source": [
    "key={'video_set_id': 0, \n",
    "     'paramset_idx':0,\n",
    "     'training_id':0, # uniquely defines training task\n",
    "     'project_path':'from_top_tracking-DJ-2022-02-23/' # relative to dlc_root in dj.config\n",
    "    }\n",
    "train.TrainingTask.insert1(key, skip_duplicates=True)\n",
    "train.TrainingTask()"
   ]
  },
  {
   "cell_type": "code",
   "execution_count": null,
   "id": "4713381c",
   "metadata": {},
   "outputs": [],
   "source": [
    "key={'video_set_id': 1, \n",
    "     'paramset_idx':1,\n",
    "     'training_id':1, # uniquely defines training task\n",
    "     'project_path':'Head_orientation-NK-2023-07-17' # relative to dlc_root in dj.config\n",
    "    }\n",
    "train.TrainingTask.insert1(key, skip_duplicates=True)\n",
    "train.TrainingTask()"
   ]
  },
  {
   "cell_type": "code",
   "execution_count": null,
   "id": "168d4f53",
   "metadata": {},
   "outputs": [],
   "source": [
    "(train.TrainingParamSet & \"paramset_idx=1\").fetch(\"params\")"
   ]
  },
  {
   "cell_type": "code",
   "execution_count": null,
   "id": "1b15fb3c",
   "metadata": {},
   "outputs": [],
   "source": [
    "# (train.TrainingTask() & (\"video_set_id = 1\")).delete()\n",
    "train.TrainingTask()"
   ]
  },
  {
   "cell_type": "code",
   "execution_count": null,
   "id": "2a493f78-6a1d-4c5e-8606-7c01c68f7c66",
   "metadata": {
    "tags": []
   },
   "outputs": [],
   "source": [
    "train.ModelTraining.populate()"
   ]
  },
  {
   "cell_type": "markdown",
   "id": "4b8e3299-63b9-49cc-a010-04d81ba552fd",
   "metadata": {},
   "source": [
    "To start training from a previous instance, one would need to \n",
    "[edit the relevant config file](https://github.com/DeepLabCut/DeepLabCut/issues/70) and\n",
    "adjust the `maxiters` paramset (if present) to a higher threshold (e.g., 10 for 5 more itterations).\n",
    "Emperical work from the Mathis team suggests 200k iterations for any true use-case."
   ]
  },
  {
   "cell_type": "markdown",
   "id": "0f3fb14a-64a2-4bfa-9e03-0ee4e87af98e",
   "metadata": {},
   "source": [
    "## Tracking Joints/Body Parts"
   ]
  },
  {
   "cell_type": "markdown",
   "id": "b7b6a7ad-f99d-463f-82e5-901e498236b8",
   "metadata": {},
   "source": [
    "The `model` schema uses a lookup table for managing Body Parts tracked across models."
   ]
  },
  {
   "cell_type": "code",
   "execution_count": null,
   "id": "373df83b",
   "metadata": {},
   "outputs": [],
   "source": [
    "model.Model()"
   ]
  },
  {
   "cell_type": "code",
   "execution_count": null,
   "id": "70dbfc1a-cbad-43c1-9051-776a6dcc0c13",
   "metadata": {},
   "outputs": [],
   "source": [
    "model.BodyPart()"
   ]
  },
  {
   "cell_type": "markdown",
   "id": "fc134ae7-62b8-4013-a538-1f47070e430b",
   "metadata": {},
   "source": [
    "This table is equipped with two helper functions. First, we can identify all the new body parts from a given config file."
   ]
  },
  {
   "cell_type": "code",
   "execution_count": null,
   "id": "7f21c637-2554-4b6e-9a9a-e07d3cb5edae",
   "metadata": {},
   "outputs": [],
   "source": [
    "from adamacs.paths import get_dlc_root_data_dir\n",
    "config_path = find_full_path(get_dlc_root_data_dir()[1], \n",
    "                             paramset_desc + '/config.yaml')\n",
    "model.BodyPart.extract_new_body_parts(config_path)"
   ]
  },
  {
   "cell_type": "markdown",
   "id": "f354da25-1f3e-4220-aa8b-943f6260b88c",
   "metadata": {},
   "source": [
    "Now, we can make a list of descriptions in the same order, and insert them into the table"
   ]
  },
  {
   "cell_type": "code",
   "execution_count": null,
   "id": "77afed93",
   "metadata": {},
   "outputs": [],
   "source": [
    "model.BodyPart()"
   ]
  },
  {
   "cell_type": "code",
   "execution_count": null,
   "id": "14c69d60-c198-468e-a67c-b2ff77667bbb",
   "metadata": {},
   "outputs": [],
   "source": [
    "# Will be inserted with model insertion\n",
    "# bp_desc=['Body Center', 'Head', 'Base of Tail']\n",
    "# model.BodyPart.insert_from_config(config_path,bp_desc)"
   ]
  },
  {
   "cell_type": "markdown",
   "id": "d81f0302-b652-4b5d-8983-001484ef83e0",
   "metadata": {},
   "source": [
    "If we skip this step, body parts (without descriptions) will be added when we insert a model. We can [update](https://docs.datajoint.org/python/v0.13/manipulation/3-Cautious-Update.html) empty descriptions at any time."
   ]
  },
  {
   "cell_type": "markdown",
   "id": "e5643f65-19ac-4ba4-a475-21e3d7bf6e54",
   "metadata": {},
   "source": [
    "## Declaring a Model"
   ]
  },
  {
   "cell_type": "markdown",
   "id": "20dcf5df-79b3-4a0e-bc6b-5114b44b61a3",
   "metadata": {},
   "source": [
    "If training appears successful, the result can be inserted into the `Model` table for automatic evaluation."
   ]
  },
  {
   "cell_type": "code",
   "execution_count": null,
   "id": "dfd2cf75",
   "metadata": {},
   "outputs": [],
   "source": [
    "# paramset_desc='from_top_tracking-DJ-2022-02-23'\n",
    "paramset_desc='Topcam_2bin_wtscope-NK-2023-09-11'\n",
    "\n",
    "config_path = find_full_path(get_dlc_root_data_dir()[0], \n",
    "                             paramset_desc + '/config.yaml')"
   ]
  },
  {
   "cell_type": "code",
   "execution_count": null,
   "metadata": {},
   "outputs": [],
   "source": [
    "model.Model.insert_new_model(model_name='from_top_tracking-DJ',dlc_config=config_path,\n",
    "                             shuffle=1,trainingsetindex=0,\n",
    "                             model_description='From Top, trained 5 iterations',\n",
    "                             paramset_idx=0)"
   ]
  },
  {
   "cell_type": "code",
   "execution_count": null,
   "id": "ca8b2596",
   "metadata": {},
   "outputs": [],
   "source": [
    "paramset_desc='Head_orientation-NK-2023-07-17'\n",
    "# paramset_desc='Topcam_2bin_wtscope-NK-2023-09-11'\n",
    "\n",
    "config_path = find_full_path(get_dlc_root_data_dir()[1], \n",
    "                             paramset_desc + '/config.yaml')"
   ]
  },
  {
   "cell_type": "code",
   "execution_count": null,
   "id": "1f778cb9",
   "metadata": {},
   "outputs": [],
   "source": [
    "config_path"
   ]
  },
  {
   "cell_type": "code",
   "execution_count": null,
   "id": "9762e61c-0b14-4928-b7ac-3e73bab3f201",
   "metadata": {},
   "outputs": [],
   "source": [
    "model.Model.insert_new_model(model_name=paramset_desc,dlc_config=config_path,\n",
    "                             shuffle=1,trainingsetindex=0,\n",
    "                             model_description='From Top, mouse without anything',\n",
    "                             paramset_idx=1)"
   ]
  },
  {
   "cell_type": "code",
   "execution_count": null,
   "id": "8ee99aec",
   "metadata": {},
   "outputs": [],
   "source": [
    "model.VideoRecording()"
   ]
  },
  {
   "cell_type": "code",
   "execution_count": null,
   "id": "cd143378",
   "metadata": {},
   "outputs": [],
   "source": [
    "model.VideoRecording * model.VideoRecording.File() * session.SessionUser * subject.User() * session.Session() * scan.ScanInfo * scan.ScanInfo.Field()"
   ]
  },
  {
   "cell_type": "code",
   "execution_count": null,
   "id": "ae2fb0d9-df98-4e10-ae06-c0d8c33bf67b",
   "metadata": {},
   "outputs": [],
   "source": [
    "model.Model().fetch(\"config_template\")"
   ]
  },
  {
   "cell_type": "code",
   "execution_count": null,
   "metadata": {},
   "outputs": [],
   "source": [
    "model.Model()"
   ]
  },
  {
   "cell_type": "code",
   "execution_count": null,
   "id": "862fdc0f-61a7-4955-8019-78b014ad527e",
   "metadata": {},
   "outputs": [],
   "source": [
    "model.Model.BodyPart()"
   ]
  },
  {
   "cell_type": "markdown",
   "id": "f71c877f-4f1d-40f7-a898-b3bcf695e603",
   "metadata": {},
   "source": [
    "## Model Evaluation"
   ]
  },
  {
   "cell_type": "markdown",
   "id": "0657e7b6-3969-4d16-b801-e05d222285d4",
   "metadata": {},
   "source": [
    "Next, all inserted models can be evaluated with a similar `populate` method, which will\n",
    "insert the relevant output from DLC's `evaluate_network` function."
   ]
  },
  {
   "cell_type": "code",
   "execution_count": null,
   "id": "2eb626c5-f1ed-4a86-a300-ddd8066e1ac5",
   "metadata": {},
   "outputs": [],
   "source": [
    "model.ModelEvaluation.heading"
   ]
  },
  {
   "cell_type": "code",
   "execution_count": null,
   "id": "baba5035",
   "metadata": {},
   "outputs": [],
   "source": [
    "model.ModelEvaluation.populate()"
   ]
  },
  {
   "cell_type": "markdown",
   "id": "1f77889f-efc6-41ed-9ae5-b5089bd2b6ef",
   "metadata": {},
   "source": [
    "If your project was initialized in a version of DeepLabCut other than the one you're currently using, model evaluation may report key errors. Specifically, your `config.yaml` may not specify `multianimalproject: false`."
   ]
  },
  {
   "cell_type": "code",
   "execution_count": null,
   "id": "8d52b8a7-e677-4f00-a720-2aed7a266fb3",
   "metadata": {},
   "outputs": [],
   "source": [
    "model.ModelEvaluation()"
   ]
  },
  {
   "cell_type": "code",
   "execution_count": null,
   "id": "4b1487ad",
   "metadata": {},
   "outputs": [],
   "source": [
    "model.RecordingInfo.populate()\n",
    "model.RecordingInfo() * model.VideoRecording.File()"
   ]
  },
  {
   "cell_type": "markdown",
   "id": "ad698f22-4d16-413a-a30c-84e28e7ec1db",
   "metadata": {},
   "source": [
    "## Pose Estimation"
   ]
  },
  {
   "cell_type": "code",
   "execution_count": null,
   "metadata": {},
   "outputs": [
    {
     "data": {
      "text/html": [
       "\n",
       "    \n",
       "    <style type=\"text/css\">\n",
       "        .Table{\n",
       "            border-collapse:collapse;\n",
       "        }\n",
       "        .Table th{\n",
       "            background: #A0A0A0; color: #ffffff; padding:4px; border:#f0e0e0 1px solid;\n",
       "            font-weight: normal; font-family: monospace; font-size: 100%;\n",
       "        }\n",
       "        .Table td{\n",
       "            padding:4px; border:#f0e0e0 1px solid; font-size:100%;\n",
       "        }\n",
       "        .Table tr:nth-child(odd){\n",
       "            background: #ffffff;\n",
       "            color: #000000;\n",
       "        }\n",
       "        .Table tr:nth-child(even){\n",
       "            background: #f3f1ff;\n",
       "            color: #000000;\n",
       "        }\n",
       "        /* Tooltip container */\n",
       "        .djtooltip {\n",
       "        }\n",
       "        /* Tooltip text */\n",
       "        .djtooltip .djtooltiptext {\n",
       "            visibility: hidden;\n",
       "            width: 120px;\n",
       "            background-color: black;\n",
       "            color: #fff;\n",
       "            text-align: center;\n",
       "            padding: 5px 0;\n",
       "            border-radius: 6px;\n",
       "            /* Position the tooltip text - see examples below! */\n",
       "            position: absolute;\n",
       "            z-index: 1;\n",
       "        }\n",
       "        #primary {\n",
       "            font-weight: bold;\n",
       "            color: black;\n",
       "        }\n",
       "        #nonprimary {\n",
       "            font-weight: normal;\n",
       "            color: white;\n",
       "        }\n",
       "\n",
       "        /* Show the tooltip text when you mouse over the tooltip container */\n",
       "        .djtooltip:hover .djtooltiptext {\n",
       "            visibility: visible;\n",
       "        }\n",
       "    </style>\n",
       "    \n",
       "    <b></b>\n",
       "        <div style=\"max-height:1000px;max-width:1500px;overflow:auto;\">\n",
       "        <table border=\"1\" class=\"Table\">\n",
       "            <thead> <tr style=\"text-align: right;\"> <th> <div class=\"djtooltip\">\n",
       "                            <p id=\"primary\">session_id</p>\n",
       "                            <span class=\"djtooltiptext\"></span>\n",
       "                        </div></th><th><div class=\"djtooltip\">\n",
       "                            <p id=\"primary\">recording_id</p>\n",
       "                            <span class=\"djtooltiptext\"></span>\n",
       "                        </div></th><th><div class=\"djtooltip\">\n",
       "                            <p id=\"primary\">file_id</p>\n",
       "                            <span class=\"djtooltiptext\"></span>\n",
       "                        </div></th><th><div class=\"djtooltip\">\n",
       "                            <p id=\"nonprimary\">file_path</p>\n",
       "                            <span class=\"djtooltiptext\">filepath of video, relative to root data directory</span>\n",
       "                        </div> </th> </tr> </thead>\n",
       "            <tbody> <tr> <td>sess9FB2LN5C</td>\n",
       "<td>scan9FB2LN5C</td>\n",
       "<td>1</td>\n",
       "<td>/datajoint-data/data/tobiasr/DB_WEZ-8701_2022-03-18_scan9FB2LN5C_sess9FB2LN5C/scan9FB2LN5C_top_video_2022-03-18T16_55_33.mp4</td></tr><tr><td>sess9FJ842C3</td>\n",
       "<td>scan9FJ842C3</td>\n",
       "<td>0</td>\n",
       "<td>/datajoint-data/data/tobiasr/RN_OPI-1681_2023-07-24_scan9FJ842C3_sess9FJ842C3/scan9FJ842C3_top_video_2023-07-24T16_38_06.mp4</td></tr><tr><td>sess9FKW82R3</td>\n",
       "<td>scan9FKW82R3</td>\n",
       "<td>0</td>\n",
       "<td>/datajoint-data/data/tobiasr/JJ_ROS-1604_2023-11-02_scan9FKW82R3_sess9FKW82R3/scan9FKW82R3_mini2p1_top_video_2023-11-02T15_40_02.mp4</td> </tr> </tbody>\n",
       "        </table>\n",
       "        \n",
       "        <p>Total: 3</p></div>\n",
       "        "
      ],
      "text/plain": [
       "*session_id    *recording_id  *file_id    file_path     \n",
       "+------------+ +------------+ +---------+ +------------+\n",
       "sess9FB2LN5C   scan9FB2LN5C   1           /datajoint-dat\n",
       "sess9FJ842C3   scan9FJ842C3   0           /datajoint-dat\n",
       "sess9FKW82R3   scan9FKW82R3   0           /datajoint-dat\n",
       " (Total: 3)"
      ]
     },
     "execution_count": 8,
     "metadata": {},
     "output_type": "execute_result"
    }
   ],
   "source": [
    "model.VideoRecording.File()"
   ]
  },
  {
   "cell_type": "code",
   "execution_count": null,
   "id": "a51b8243-6ee2-44f5-a987-9abd10ce1b56",
   "metadata": {},
   "outputs": [],
   "source": [
    "scansi = \"scan9FB2LN5C\"\n",
    "scan_key = (model.VideoRecording.File & f'recording_id = \"{scansi}\"').fetch('KEY')[0] \n",
    "path = (model.VideoRecording.File & scan_key).fetch(\"file_path\")\n",
    "path"
   ]
  },
  {
   "cell_type": "code",
   "execution_count": null,
   "metadata": {},
   "outputs": [],
   "source": [
    "model.VideoRecording.File()"
   ]
  },
  {
   "cell_type": "markdown",
   "id": "e72c8868-3db0-4cda-98ab-96bbebc5bb0a",
   "metadata": {},
   "source": [
    "For demonstration purposes, we'll make a shorter video that will process relatively quickly `ffmpeg`, a DLC dependency ([more info here](https://github.com/datajoint/workflow-deeplabcut/blob/main/notebooks/00-DataDownload_Optional.ipynb))"
   ]
  },
  {
   "cell_type": "code",
   "execution_count": null,
   "id": "20b11cf1-2bbc-4bc6-bc87-ca77f01676eb",
   "metadata": {},
   "outputs": [],
   "source": [
    "from adamacs.paths import get_dlc_root_data_dir\n",
    "vid_path =  find_full_path(get_dlc_root_data_dir(), path[0][1::])\n",
    "print(vid_path)\n",
    "starttime = 0\n",
    "duration = 10\n",
    "cmd = (f'ffmpeg -n -hide_banner -loglevel error -ss {starttime} -t {duration} -i {vid_path} '\n",
    "       + f'-vcodec copy -acodec copy {vid_path}-copy.mp4')\n",
    "import os; os.system(cmd)"
   ]
  },
  {
   "cell_type": "markdown",
   "id": "fe97c0b2-28f3-44f7-b41c-114eb31e635b",
   "metadata": {},
   "source": [
    "Next, we need to specify if the `PoseEstimation` table should load results from an existing file or trigger the estimation command. Here, we can also specify parameters accepted by the `analyze_videos` function as a dictionary. `task_mode` determines if pose estimation results should be loaded or triggered (i.e., load vs. trigger)."
   ]
  },
  {
   "cell_type": "code",
   "execution_count": null,
   "id": "c8d23bcb-39e3-4fb0-a911-30e89adc8a91",
   "metadata": {},
   "outputs": [
    {
     "data": {
      "text/plain": [
       "{'session_id': 'sess9FKW82R3',\n",
       " 'recording_id': 'scan9FKW82R3',\n",
       " 'model_name': 'Head_orientation-NK-2023-07-17',\n",
       " 'task_mode': 'trigger'}"
      ]
     },
     "execution_count": 9,
     "metadata": {},
     "output_type": "execute_result"
    }
   ],
   "source": [
    "key = (model.VideoRecording & {'recording_id': 'scan9FKW82R3'}).fetch1('KEY')\n",
    "key.update({'model_name': 'Head_orientation-NK-2023-07-17', 'task_mode': 'trigger'})\n",
    "key\n",
    "\n"
   ]
  },
  {
   "cell_type": "markdown",
   "id": "40deac79-d482-4777-b501-261410332d65",
   "metadata": {},
   "source": [
    "The `PoseEstimationTask` table queues items for pose estimation. Additional parameters are passed to DLC's `analyze_videos` function."
   ]
  },
  {
   "cell_type": "code",
   "execution_count": null,
   "id": "3df55082",
   "metadata": {},
   "outputs": [
    {
     "data": {
      "text/html": [
       "\n",
       "    \n",
       "    <style type=\"text/css\">\n",
       "        .Table{\n",
       "            border-collapse:collapse;\n",
       "        }\n",
       "        .Table th{\n",
       "            background: #A0A0A0; color: #ffffff; padding:4px; border:#f0e0e0 1px solid;\n",
       "            font-weight: normal; font-family: monospace; font-size: 100%;\n",
       "        }\n",
       "        .Table td{\n",
       "            padding:4px; border:#f0e0e0 1px solid; font-size:100%;\n",
       "        }\n",
       "        .Table tr:nth-child(odd){\n",
       "            background: #ffffff;\n",
       "            color: #000000;\n",
       "        }\n",
       "        .Table tr:nth-child(even){\n",
       "            background: #f3f1ff;\n",
       "            color: #000000;\n",
       "        }\n",
       "        /* Tooltip container */\n",
       "        .djtooltip {\n",
       "        }\n",
       "        /* Tooltip text */\n",
       "        .djtooltip .djtooltiptext {\n",
       "            visibility: hidden;\n",
       "            width: 120px;\n",
       "            background-color: black;\n",
       "            color: #fff;\n",
       "            text-align: center;\n",
       "            padding: 5px 0;\n",
       "            border-radius: 6px;\n",
       "            /* Position the tooltip text - see examples below! */\n",
       "            position: absolute;\n",
       "            z-index: 1;\n",
       "        }\n",
       "        #primary {\n",
       "            font-weight: bold;\n",
       "            color: black;\n",
       "        }\n",
       "        #nonprimary {\n",
       "            font-weight: normal;\n",
       "            color: white;\n",
       "        }\n",
       "\n",
       "        /* Show the tooltip text when you mouse over the tooltip container */\n",
       "        .djtooltip:hover .djtooltiptext {\n",
       "            visibility: visible;\n",
       "        }\n",
       "    </style>\n",
       "    \n",
       "    <b></b>\n",
       "        <div style=\"max-height:1000px;max-width:1500px;overflow:auto;\">\n",
       "        <table border=\"1\" class=\"Table\">\n",
       "            <thead> <tr style=\"text-align: right;\"> <th> <div class=\"djtooltip\">\n",
       "                            <p id=\"primary\">session_id</p>\n",
       "                            <span class=\"djtooltiptext\"></span>\n",
       "                        </div></th><th><div class=\"djtooltip\">\n",
       "                            <p id=\"primary\">recording_id</p>\n",
       "                            <span class=\"djtooltiptext\"></span>\n",
       "                        </div></th><th><div class=\"djtooltip\">\n",
       "                            <p id=\"primary\">model_name</p>\n",
       "                            <span class=\"djtooltiptext\">User-friendly model name</span>\n",
       "                        </div></th><th><div class=\"djtooltip\">\n",
       "                            <p id=\"nonprimary\">task_mode</p>\n",
       "                            <span class=\"djtooltiptext\">load results or trigger computation</span>\n",
       "                        </div></th><th><div class=\"djtooltip\">\n",
       "                            <p id=\"nonprimary\">pose_estimation_output_dir</p>\n",
       "                            <span class=\"djtooltiptext\">output dir relative to the root dir</span>\n",
       "                        </div></th><th><div class=\"djtooltip\">\n",
       "                            <p id=\"nonprimary\">pose_estimation_params</p>\n",
       "                            <span class=\"djtooltiptext\">analyze_videos params, if not default</span>\n",
       "                        </div> </th> </tr> </thead>\n",
       "            <tbody> <tr> <td>sess9FB2LN5C</td>\n",
       "<td>scan9FB2LN5C</td>\n",
       "<td>Head_orientation-NK-2023-07-17</td>\n",
       "<td>trigger</td>\n",
       "<td>/datajoint-data/data/tobiasr/DB_WEZ-8701_2022-03-18_scan9FB2LN5C_sess9FB2LN5C/device_mini2p1_top_recording_scan9FB2LN5C_model_Head_orientation-NK-2023-07-17</td>\n",
       "<td>=BLOB=</td></tr><tr><td>sess9FKW82R3</td>\n",
       "<td>scan9FKW82R3</td>\n",
       "<td>Head_orientation-NK-2023-07-17</td>\n",
       "<td>trigger</td>\n",
       "<td>/datajoint-data/data/tobiasr/JJ_ROS-1604_2023-11-02_scan9FKW82R3_sess9FKW82R3/device_mini2p1_top_recording_scan9FKW82R3_model_Head_orientation-NK-2023-07-17</td>\n",
       "<td>=BLOB=</td> </tr> </tbody>\n",
       "        </table>\n",
       "        \n",
       "        <p>Total: 2</p></div>\n",
       "        "
      ],
      "text/plain": [
       "*session_id    *recording_id  *model_name    task_mode     pose_estimatio pose_estim\n",
       "+------------+ +------------+ +------------+ +-----------+ +------------+ +--------+\n",
       "sess9FB2LN5C   scan9FB2LN5C   Head_orientati trigger       /datajoint-dat =BLOB=    \n",
       "sess9FKW82R3   scan9FKW82R3   Head_orientati trigger       /datajoint-dat =BLOB=    \n",
       " (Total: 2)"
      ]
     },
     "execution_count": 10,
     "metadata": {},
     "output_type": "execute_result"
    }
   ],
   "source": [
    "model.PoseEstimationTask()"
   ]
  },
  {
   "cell_type": "code",
   "execution_count": null,
   "metadata": {},
   "outputs": [
    {
     "data": {
      "text/html": [
       "\n",
       "    \n",
       "    <style type=\"text/css\">\n",
       "        .Table{\n",
       "            border-collapse:collapse;\n",
       "        }\n",
       "        .Table th{\n",
       "            background: #A0A0A0; color: #ffffff; padding:4px; border:#f0e0e0 1px solid;\n",
       "            font-weight: normal; font-family: monospace; font-size: 100%;\n",
       "        }\n",
       "        .Table td{\n",
       "            padding:4px; border:#f0e0e0 1px solid; font-size:100%;\n",
       "        }\n",
       "        .Table tr:nth-child(odd){\n",
       "            background: #ffffff;\n",
       "            color: #000000;\n",
       "        }\n",
       "        .Table tr:nth-child(even){\n",
       "            background: #f3f1ff;\n",
       "            color: #000000;\n",
       "        }\n",
       "        /* Tooltip container */\n",
       "        .djtooltip {\n",
       "        }\n",
       "        /* Tooltip text */\n",
       "        .djtooltip .djtooltiptext {\n",
       "            visibility: hidden;\n",
       "            width: 120px;\n",
       "            background-color: black;\n",
       "            color: #fff;\n",
       "            text-align: center;\n",
       "            padding: 5px 0;\n",
       "            border-radius: 6px;\n",
       "            /* Position the tooltip text - see examples below! */\n",
       "            position: absolute;\n",
       "            z-index: 1;\n",
       "        }\n",
       "        #primary {\n",
       "            font-weight: bold;\n",
       "            color: black;\n",
       "        }\n",
       "        #nonprimary {\n",
       "            font-weight: normal;\n",
       "            color: white;\n",
       "        }\n",
       "\n",
       "        /* Show the tooltip text when you mouse over the tooltip container */\n",
       "        .djtooltip:hover .djtooltiptext {\n",
       "            visibility: visible;\n",
       "        }\n",
       "    </style>\n",
       "    \n",
       "    <b></b>\n",
       "        <div style=\"max-height:1000px;max-width:1500px;overflow:auto;\">\n",
       "        <table border=\"1\" class=\"Table\">\n",
       "            <thead> <tr style=\"text-align: right;\"> <th> <div class=\"djtooltip\">\n",
       "                            <p id=\"primary\">video_set_id</p>\n",
       "                            <span class=\"djtooltiptext\"></span>\n",
       "                        </div></th><th><div class=\"djtooltip\">\n",
       "                            <p id=\"primary\">paramset_idx</p>\n",
       "                            <span class=\"djtooltiptext\"></span>\n",
       "                        </div></th><th><div class=\"djtooltip\">\n",
       "                            <p id=\"primary\">training_id</p>\n",
       "                            <span class=\"djtooltiptext\"></span>\n",
       "                        </div></th><th><div class=\"djtooltip\">\n",
       "                            <p id=\"nonprimary\">latest_snapshot</p>\n",
       "                            <span class=\"djtooltiptext\">latest exact snapshot index (i.e., never -1)</span>\n",
       "                        </div></th><th><div class=\"djtooltip\">\n",
       "                            <p id=\"nonprimary\">config_template</p>\n",
       "                            <span class=\"djtooltiptext\">stored full config file</span>\n",
       "                        </div> </th> </tr> </thead>\n",
       "            <tbody> <tr>  </tr> </tbody>\n",
       "        </table>\n",
       "        \n",
       "        <p>Total: 0</p></div>\n",
       "        "
      ],
      "text/plain": [
       "*video_set_id  *paramset_idx  *training_id   latest_snapsho config_tem\n",
       "+------------+ +------------+ +------------+ +------------+ +--------+\n",
       "\n",
       " (Total: 0)"
      ]
     },
     "execution_count": 11,
     "metadata": {},
     "output_type": "execute_result"
    }
   ],
   "source": [
    "train.ModelTraining()"
   ]
  },
  {
   "cell_type": "code",
   "execution_count": null,
   "id": "ba216c1b-b608-4424-b7a1-f49795be0971",
   "metadata": {},
   "outputs": [],
   "source": [
    "# model.PoseEstimationTask.insert_estimation_task(key, key[\"model_name\"], analyze_videos_params={'save_as_csv':True})\n",
    "model.PoseEstimationTask.insert_estimation_task(key, key[\"model_name\"], analyze_videos_params={'save_as_csv':True, 'dynamic':(True,.5,100)}) # dynamic cropping"
   ]
  },
  {
   "cell_type": "code",
   "execution_count": null,
   "id": "005e9af9",
   "metadata": {},
   "outputs": [
    {
     "data": {
      "text/html": [
       "\n",
       "    \n",
       "    <style type=\"text/css\">\n",
       "        .Table{\n",
       "            border-collapse:collapse;\n",
       "        }\n",
       "        .Table th{\n",
       "            background: #A0A0A0; color: #ffffff; padding:4px; border:#f0e0e0 1px solid;\n",
       "            font-weight: normal; font-family: monospace; font-size: 100%;\n",
       "        }\n",
       "        .Table td{\n",
       "            padding:4px; border:#f0e0e0 1px solid; font-size:100%;\n",
       "        }\n",
       "        .Table tr:nth-child(odd){\n",
       "            background: #ffffff;\n",
       "            color: #000000;\n",
       "        }\n",
       "        .Table tr:nth-child(even){\n",
       "            background: #f3f1ff;\n",
       "            color: #000000;\n",
       "        }\n",
       "        /* Tooltip container */\n",
       "        .djtooltip {\n",
       "        }\n",
       "        /* Tooltip text */\n",
       "        .djtooltip .djtooltiptext {\n",
       "            visibility: hidden;\n",
       "            width: 120px;\n",
       "            background-color: black;\n",
       "            color: #fff;\n",
       "            text-align: center;\n",
       "            padding: 5px 0;\n",
       "            border-radius: 6px;\n",
       "            /* Position the tooltip text - see examples below! */\n",
       "            position: absolute;\n",
       "            z-index: 1;\n",
       "        }\n",
       "        #primary {\n",
       "            font-weight: bold;\n",
       "            color: black;\n",
       "        }\n",
       "        #nonprimary {\n",
       "            font-weight: normal;\n",
       "            color: white;\n",
       "        }\n",
       "\n",
       "        /* Show the tooltip text when you mouse over the tooltip container */\n",
       "        .djtooltip:hover .djtooltiptext {\n",
       "            visibility: visible;\n",
       "        }\n",
       "    </style>\n",
       "    \n",
       "    <b></b>\n",
       "        <div style=\"max-height:1000px;max-width:1500px;overflow:auto;\">\n",
       "        <table border=\"1\" class=\"Table\">\n",
       "            <thead> <tr style=\"text-align: right;\"> <th> <div class=\"djtooltip\">\n",
       "                            <p id=\"primary\">session_id</p>\n",
       "                            <span class=\"djtooltiptext\"></span>\n",
       "                        </div></th><th><div class=\"djtooltip\">\n",
       "                            <p id=\"primary\">recording_id</p>\n",
       "                            <span class=\"djtooltiptext\"></span>\n",
       "                        </div></th><th><div class=\"djtooltip\">\n",
       "                            <p id=\"nonprimary\">px_height</p>\n",
       "                            <span class=\"djtooltiptext\">height in pixels</span>\n",
       "                        </div></th><th><div class=\"djtooltip\">\n",
       "                            <p id=\"nonprimary\">px_width</p>\n",
       "                            <span class=\"djtooltiptext\">width in pixels</span>\n",
       "                        </div></th><th><div class=\"djtooltip\">\n",
       "                            <p id=\"nonprimary\">nframes</p>\n",
       "                            <span class=\"djtooltiptext\">number of frames</span>\n",
       "                        </div></th><th><div class=\"djtooltip\">\n",
       "                            <p id=\"nonprimary\">fps</p>\n",
       "                            <span class=\"djtooltiptext\">(Hz) frames per second</span>\n",
       "                        </div></th><th><div class=\"djtooltip\">\n",
       "                            <p id=\"nonprimary\">recording_datetime</p>\n",
       "                            <span class=\"djtooltiptext\">Datetime for the start of the recording</span>\n",
       "                        </div></th><th><div class=\"djtooltip\">\n",
       "                            <p id=\"nonprimary\">recording_duration</p>\n",
       "                            <span class=\"djtooltiptext\">video duration (s) from nframes / fps</span>\n",
       "                        </div> </th> </tr> </thead>\n",
       "            <tbody> <tr> <td>sess9FB2LN5C</td>\n",
       "<td>scan9FB2LN5C</td>\n",
       "<td>500</td>\n",
       "<td>500</td>\n",
       "<td>18000</td>\n",
       "<td>60</td>\n",
       "<td>None</td>\n",
       "<td>300.0</td></tr><tr><td>sess9FJ842C3</td>\n",
       "<td>scan9FJ842C3</td>\n",
       "<td>1000</td>\n",
       "<td>1000</td>\n",
       "<td>15851</td>\n",
       "<td>60</td>\n",
       "<td>None</td>\n",
       "<td>264.183</td></tr><tr><td>sess9FKW82R3</td>\n",
       "<td>scan9FKW82R3</td>\n",
       "<td>500</td>\n",
       "<td>500</td>\n",
       "<td>36031</td>\n",
       "<td>60</td>\n",
       "<td>None</td>\n",
       "<td>600.517</td> </tr> </tbody>\n",
       "        </table>\n",
       "        \n",
       "        <p>Total: 3</p></div>\n",
       "        "
      ],
      "text/plain": [
       "*session_id    *recording_id  px_height     px_width     nframes     fps     recording_date recording_dura\n",
       "+------------+ +------------+ +-----------+ +----------+ +---------+ +-----+ +------------+ +------------+\n",
       "sess9FB2LN5C   scan9FB2LN5C   500           500          18000       60      None           300.0         \n",
       "sess9FJ842C3   scan9FJ842C3   1000          1000         15851       60      None           264.183       \n",
       "sess9FKW82R3   scan9FKW82R3   500           500          36031       60      None           600.517       \n",
       " (Total: 3)"
      ]
     },
     "execution_count": 13,
     "metadata": {},
     "output_type": "execute_result"
    }
   ],
   "source": [
    "model.RecordingInfo.populate()\n",
    "model.RecordingInfo()"
   ]
  },
  {
   "cell_type": "code",
   "execution_count": null,
   "id": "7d1ad296-9ff5-4a2a-9ad0-8edc1ecb7ef3",
   "metadata": {},
   "outputs": [
    {
     "name": "stderr",
     "output_type": "stream",
     "text": [
      "2023-11-08 09:44:59.965817: I tensorflow/core/platform/cpu_feature_guard.cc:193] This TensorFlow binary is optimized with oneAPI Deep Neural Network Library (oneDNN) to use the following CPU instructions in performance-critical operations:  AVX2 FMA\n",
      "To enable them in other operations, rebuild TensorFlow with the appropriate compiler flags.\n",
      "2023-11-08 09:45:00.076717: W tensorflow/stream_executor/platform/default/dso_loader.cc:64] Could not load dynamic library 'libcudart.so.11.0'; dlerror: libcudart.so.11.0: cannot open shared object file: No such file or directory; LD_LIBRARY_PATH: /home/tobiasr/.local/lib/python3.8/site-packages/cv2/../../lib64:\n",
      "2023-11-08 09:45:00.076739: I tensorflow/stream_executor/cuda/cudart_stub.cc:29] Ignore above cudart dlerror if you do not have a GPU set up on your machine.\n",
      "2023-11-08 09:45:00.106483: E tensorflow/stream_executor/cuda/cuda_blas.cc:2981] Unable to register cuBLAS factory: Attempting to register factory for plugin cuBLAS when one has already been registered\n",
      "2023-11-08 09:45:00.598975: W tensorflow/stream_executor/platform/default/dso_loader.cc:64] Could not load dynamic library 'libnvinfer.so.7'; dlerror: libnvinfer.so.7: cannot open shared object file: No such file or directory; LD_LIBRARY_PATH: /home/tobiasr/.local/lib/python3.8/site-packages/cv2/../../lib64:\n",
      "2023-11-08 09:45:00.599038: W tensorflow/stream_executor/platform/default/dso_loader.cc:64] Could not load dynamic library 'libnvinfer_plugin.so.7'; dlerror: libnvinfer_plugin.so.7: cannot open shared object file: No such file or directory; LD_LIBRARY_PATH: /home/tobiasr/.local/lib/python3.8/site-packages/cv2/../../lib64:\n",
      "2023-11-08 09:45:00.599043: W tensorflow/compiler/tf2tensorrt/utils/py_utils.cc:38] TF-TRT Warning: Cannot dlopen some TensorRT libraries. If you would like to use Nvidia GPU with TensorRT, please make sure the missing libraries mentioned above are installed properly.\n"
     ]
    },
    {
     "name": "stdout",
     "output_type": "stream",
     "text": [
      "Loading DLC 2.3.5...\n",
      "DLC loaded in light mode; you cannot use any GUI (labeling, relabeling and standalone GUI)\n",
      "Using snapshot-90000 for model /datajoint-data/models/tobiasr/NK_DLC_tracking/Head_orientation-NK-2023-07-17/dlc-models/iteration-0/Head_orientationJul17-trainset95shuffle1\n",
      "Starting analysis in dynamic cropping mode with parameters: (True, 0.5, 60)\n",
      "Switching batchsize to 1, num_outputs (per animal) to 1 and TFGPUinference to False (all these features are not supported in this mode).\n"
     ]
    },
    {
     "name": "stderr",
     "output_type": "stream",
     "text": [
      "/home/tobiasr/miniconda3/envs/dj_pure/lib/python3.8/site-packages/tensorflow/python/keras/engine/base_layer_v1.py:1694: UserWarning: `layer.apply` is deprecated and will be removed in a future version. Please use `layer.__call__` method instead.\n",
      "  warnings.warn('`layer.apply` is deprecated and '\n",
      "2023-11-08 09:45:04.516690: W tensorflow/stream_executor/platform/default/dso_loader.cc:64] Could not load dynamic library 'libcuda.so.1'; dlerror: libcuda.so.1: cannot open shared object file: No such file or directory; LD_LIBRARY_PATH: /home/tobiasr/.local/lib/python3.8/site-packages/cv2/../../lib64:\n",
      "2023-11-08 09:45:04.516714: W tensorflow/stream_executor/cuda/cuda_driver.cc:263] failed call to cuInit: UNKNOWN ERROR (303)\n",
      "2023-11-08 09:45:04.516733: I tensorflow/stream_executor/cuda/cuda_diagnostics.cc:156] kernel driver does not appear to be running on this host (tatchu3): /proc/driver/nvidia/version does not exist\n",
      "2023-11-08 09:45:04.516970: I tensorflow/core/platform/cpu_feature_guard.cc:193] This TensorFlow binary is optimized with oneAPI Deep Neural Network Library (oneDNN) to use the following CPU instructions in performance-critical operations:  AVX2 FMA\n",
      "To enable them in other operations, rebuild TensorFlow with the appropriate compiler flags.\n",
      "2023-11-08 09:45:04.546935: I tensorflow/compiler/mlir/mlir_graph_optimization_pass.cc:354] MLIR V1 optimization pass is not enabled\n"
     ]
    },
    {
     "name": "stdout",
     "output_type": "stream",
     "text": [
      "Starting to analyze %  /datajoint-data/data/tobiasr/JJ_ROS-1604_2023-11-02_scan9FKW82R3_sess9FKW82R3/scan9FKW82R3_mini2p1_top_video_2023-11-02T15_40_02.mp4\n",
      "Loading  /datajoint-data/data/tobiasr/JJ_ROS-1604_2023-11-02_scan9FKW82R3_sess9FKW82R3/scan9FKW82R3_mini2p1_top_video_2023-11-02T15_40_02.mp4\n",
      "Duration of video [s]:  600.52 , recorded with  60.0 fps!\n",
      "Overall # of frames:  36031  found with (before cropping) frame dimensions:  500 500\n",
      "Starting to extract posture\n"
     ]
    },
    {
     "name": "stderr",
     "output_type": "stream",
     "text": [
      "  1%|          | 360/36031 [00:19<31:27, 18.90it/s]\n"
     ]
    },
    {
     "name": "stdout",
     "output_type": "stream",
     "text": [
      "The videos are analyzed. Now your research can truly start! \n",
      " You can create labeled videos with 'create_labeled_video'\n",
      "If the tracking is not satisfactory for some videos, consider expanding the training set. You can use the function 'extract_outlier_frames' to extract a few representative outlier frames.\n"
     ]
    },
    {
     "ename": "FileNotFoundError",
     "evalue": "No meta file (.pickle) found in: /datajoint-data/data/tobiasr/JJ_ROS-1604_2023-11-02_scan9FKW82R3_sess9FKW82R3/device_mini2p1_top_recording_scan9FKW82R3_model_Head_orientation-NK-2023-07-17",
     "output_type": "error",
     "traceback": [
      "\u001b[0;31m---------------------------------------------------------------------------\u001b[0m",
      "\u001b[0;31mFileNotFoundError\u001b[0m                         Traceback (most recent call last)",
      "Cell \u001b[0;32mIn[14], line 1\u001b[0m\n\u001b[0;32m----> 1\u001b[0m \u001b[43mmodel\u001b[49m\u001b[38;5;241;43m.\u001b[39;49m\u001b[43mPoseEstimation\u001b[49m\u001b[38;5;241;43m.\u001b[39;49m\u001b[43mpopulate\u001b[49m\u001b[43m(\u001b[49m\u001b[43m)\u001b[49m\n",
      "File \u001b[0;32m~/miniconda3/envs/dj_pure/lib/python3.8/site-packages/datajoint/autopopulate.py:241\u001b[0m, in \u001b[0;36mAutoPopulate.populate\u001b[0;34m(self, suppress_errors, return_exception_objects, reserve_jobs, order, limit, max_calls, display_progress, processes, make_kwargs, *restrictions)\u001b[0m\n\u001b[1;32m    237\u001b[0m \u001b[38;5;28;01mif\u001b[39;00m processes \u001b[38;5;241m==\u001b[39m \u001b[38;5;241m1\u001b[39m:\n\u001b[1;32m    238\u001b[0m     \u001b[38;5;28;01mfor\u001b[39;00m key \u001b[38;5;129;01min\u001b[39;00m (\n\u001b[1;32m    239\u001b[0m         tqdm(keys, desc\u001b[38;5;241m=\u001b[39m\u001b[38;5;28mself\u001b[39m\u001b[38;5;241m.\u001b[39m\u001b[38;5;18m__class__\u001b[39m\u001b[38;5;241m.\u001b[39m\u001b[38;5;18m__name__\u001b[39m) \u001b[38;5;28;01mif\u001b[39;00m display_progress \u001b[38;5;28;01melse\u001b[39;00m keys\n\u001b[1;32m    240\u001b[0m     ):\n\u001b[0;32m--> 241\u001b[0m         error \u001b[38;5;241m=\u001b[39m \u001b[38;5;28;43mself\u001b[39;49m\u001b[38;5;241;43m.\u001b[39;49m\u001b[43m_populate1\u001b[49m\u001b[43m(\u001b[49m\u001b[43mkey\u001b[49m\u001b[43m,\u001b[49m\u001b[43m \u001b[49m\u001b[43mjobs\u001b[49m\u001b[43m,\u001b[49m\u001b[43m \u001b[49m\u001b[38;5;241;43m*\u001b[39;49m\u001b[38;5;241;43m*\u001b[39;49m\u001b[43mpopulate_kwargs\u001b[49m\u001b[43m)\u001b[49m\n\u001b[1;32m    242\u001b[0m         \u001b[38;5;28;01mif\u001b[39;00m error \u001b[38;5;129;01mis\u001b[39;00m \u001b[38;5;129;01mnot\u001b[39;00m \u001b[38;5;28;01mNone\u001b[39;00m:\n\u001b[1;32m    243\u001b[0m             error_list\u001b[38;5;241m.\u001b[39mappend(error)\n",
      "File \u001b[0;32m~/miniconda3/envs/dj_pure/lib/python3.8/site-packages/datajoint/autopopulate.py:292\u001b[0m, in \u001b[0;36mAutoPopulate._populate1\u001b[0;34m(self, key, jobs, suppress_errors, return_exception_objects, make_kwargs)\u001b[0m\n\u001b[1;32m    290\u001b[0m \u001b[38;5;28mself\u001b[39m\u001b[38;5;241m.\u001b[39m\u001b[38;5;18m__class__\u001b[39m\u001b[38;5;241m.\u001b[39m_allow_insert \u001b[38;5;241m=\u001b[39m \u001b[38;5;28;01mTrue\u001b[39;00m\n\u001b[1;32m    291\u001b[0m \u001b[38;5;28;01mtry\u001b[39;00m:\n\u001b[0;32m--> 292\u001b[0m     \u001b[43mmake\u001b[49m\u001b[43m(\u001b[49m\u001b[38;5;28;43mdict\u001b[39;49m\u001b[43m(\u001b[49m\u001b[43mkey\u001b[49m\u001b[43m)\u001b[49m\u001b[43m,\u001b[49m\u001b[43m \u001b[49m\u001b[38;5;241;43m*\u001b[39;49m\u001b[38;5;241;43m*\u001b[39;49m\u001b[43m(\u001b[49m\u001b[43mmake_kwargs\u001b[49m\u001b[43m \u001b[49m\u001b[38;5;129;43;01mor\u001b[39;49;00m\u001b[43m \u001b[49m\u001b[43m{\u001b[49m\u001b[43m}\u001b[49m\u001b[43m)\u001b[49m\u001b[43m)\u001b[49m\n\u001b[1;32m    293\u001b[0m \u001b[38;5;28;01mexcept\u001b[39;00m (\u001b[38;5;167;01mKeyboardInterrupt\u001b[39;00m, \u001b[38;5;167;01mSystemExit\u001b[39;00m, \u001b[38;5;167;01mException\u001b[39;00m) \u001b[38;5;28;01mas\u001b[39;00m error:\n\u001b[1;32m    294\u001b[0m     \u001b[38;5;28;01mtry\u001b[39;00m:\n",
      "File \u001b[0;32m~/miniconda3/envs/dj_pure/lib/python3.8/site-packages/element_deeplabcut/model.py:735\u001b[0m, in \u001b[0;36mPoseEstimation.make\u001b[0;34m(self, key)\u001b[0m\n\u001b[1;32m    722\u001b[0m     analyze_video_params \u001b[38;5;241m=\u001b[39m (PoseEstimationTask \u001b[38;5;241m&\u001b[39m key)\u001b[38;5;241m.\u001b[39mfetch1(\n\u001b[1;32m    723\u001b[0m         \u001b[38;5;124m\"\u001b[39m\u001b[38;5;124mpose_estimation_params\u001b[39m\u001b[38;5;124m\"\u001b[39m\n\u001b[1;32m    724\u001b[0m     ) \u001b[38;5;129;01mor\u001b[39;00m {}\n\u001b[1;32m    726\u001b[0m     dlc_reader\u001b[38;5;241m.\u001b[39mdo_pose_estimation(\n\u001b[1;32m    727\u001b[0m         key,\n\u001b[1;32m    728\u001b[0m         video_filepaths,\n\u001b[0;32m   (...)\u001b[0m\n\u001b[1;32m    732\u001b[0m         \u001b[38;5;241m*\u001b[39m\u001b[38;5;241m*\u001b[39manalyze_video_params,\n\u001b[1;32m    733\u001b[0m     )\n\u001b[0;32m--> 735\u001b[0m dlc_result \u001b[38;5;241m=\u001b[39m \u001b[43mdlc_reader\u001b[49m\u001b[38;5;241;43m.\u001b[39;49m\u001b[43mPoseEstimation\u001b[49m\u001b[43m(\u001b[49m\u001b[43moutput_dir\u001b[49m\u001b[43m)\u001b[49m\n\u001b[1;32m    736\u001b[0m creation_time \u001b[38;5;241m=\u001b[39m datetime\u001b[38;5;241m.\u001b[39mfromtimestamp(dlc_result\u001b[38;5;241m.\u001b[39mcreation_time)\u001b[38;5;241m.\u001b[39mstrftime(\n\u001b[1;32m    737\u001b[0m     \u001b[38;5;124m\"\u001b[39m\u001b[38;5;124m%\u001b[39m\u001b[38;5;124mY-\u001b[39m\u001b[38;5;124m%\u001b[39m\u001b[38;5;124mm-\u001b[39m\u001b[38;5;132;01m%d\u001b[39;00m\u001b[38;5;124m \u001b[39m\u001b[38;5;124m%\u001b[39m\u001b[38;5;124mH:\u001b[39m\u001b[38;5;124m%\u001b[39m\u001b[38;5;124mM:\u001b[39m\u001b[38;5;124m%\u001b[39m\u001b[38;5;124mS\u001b[39m\u001b[38;5;124m\"\u001b[39m\n\u001b[1;32m    738\u001b[0m )\n\u001b[1;32m    740\u001b[0m body_parts \u001b[38;5;241m=\u001b[39m [\n\u001b[1;32m    741\u001b[0m     {\n\u001b[1;32m    742\u001b[0m         \u001b[38;5;241m*\u001b[39m\u001b[38;5;241m*\u001b[39mkey,\n\u001b[0;32m   (...)\u001b[0m\n\u001b[1;32m    750\u001b[0m     \u001b[38;5;28;01mfor\u001b[39;00m k, v \u001b[38;5;129;01min\u001b[39;00m dlc_result\u001b[38;5;241m.\u001b[39mdata\u001b[38;5;241m.\u001b[39mitems()\n\u001b[1;32m    751\u001b[0m ]\n",
      "File \u001b[0;32m~/miniconda3/envs/dj_pure/lib/python3.8/site-packages/element_deeplabcut/readers/dlc_reader.py:43\u001b[0m, in \u001b[0;36mPoseEstimation.__init__\u001b[0;34m(self, dlc_dir, pkl_path, h5_path, yml_path, filename_prefix)\u001b[0m\n\u001b[1;32m     39\u001b[0m     \u001b[38;5;28mself\u001b[39m\u001b[38;5;241m.\u001b[39mpkl_paths \u001b[38;5;241m=\u001b[39m \u001b[38;5;28msorted\u001b[39m(\n\u001b[1;32m     40\u001b[0m         \u001b[38;5;28mself\u001b[39m\u001b[38;5;241m.\u001b[39mdlc_dir\u001b[38;5;241m.\u001b[39mrglob(\u001b[38;5;124mf\u001b[39m\u001b[38;5;124m\"\u001b[39m\u001b[38;5;132;01m{\u001b[39;00mfilename_prefix\u001b[38;5;132;01m}\u001b[39;00m\u001b[38;5;124m*meta.pickle\u001b[39m\u001b[38;5;124m\"\u001b[39m)\n\u001b[1;32m     41\u001b[0m     )\n\u001b[1;32m     42\u001b[0m     \u001b[38;5;28;01mif\u001b[39;00m \u001b[38;5;129;01mnot\u001b[39;00m \u001b[38;5;28mlen\u001b[39m(\u001b[38;5;28mself\u001b[39m\u001b[38;5;241m.\u001b[39mpkl_paths) \u001b[38;5;241m>\u001b[39m \u001b[38;5;241m0\u001b[39m:\n\u001b[0;32m---> 43\u001b[0m         \u001b[38;5;28;01mraise\u001b[39;00m \u001b[38;5;167;01mFileNotFoundError\u001b[39;00m(\n\u001b[1;32m     44\u001b[0m             \u001b[38;5;124mf\u001b[39m\u001b[38;5;124m\"\u001b[39m\u001b[38;5;124mNo meta file (.pickle) found in: \u001b[39m\u001b[38;5;132;01m{\u001b[39;00m\u001b[38;5;28mself\u001b[39m\u001b[38;5;241m.\u001b[39mdlc_dir\u001b[38;5;132;01m}\u001b[39;00m\u001b[38;5;124m\"\u001b[39m\n\u001b[1;32m     45\u001b[0m         )\n\u001b[1;32m     46\u001b[0m \u001b[38;5;28;01melse\u001b[39;00m:\n\u001b[1;32m     47\u001b[0m     pkl_path \u001b[38;5;241m=\u001b[39m Path(pkl_path)\n",
      "\u001b[0;31mFileNotFoundError\u001b[0m: No meta file (.pickle) found in: /datajoint-data/data/tobiasr/JJ_ROS-1604_2023-11-02_scan9FKW82R3_sess9FKW82R3/device_mini2p1_top_recording_scan9FKW82R3_model_Head_orientation-NK-2023-07-17"
     ]
    }
   ],
   "source": [
    "model.PoseEstimation.populate()"
   ]
  },
  {
   "cell_type": "code",
   "execution_count": null,
   "id": "568cc787-f65f-4c44-ba96-091905b89534",
   "metadata": {},
   "outputs": [],
   "source": [
    "model.PoseEstimationTask().delete()\n",
    "model.PoseEstimation().delete()"
   ]
  },
  {
   "cell_type": "markdown",
   "id": "ab605a2b",
   "metadata": {},
   "source": [
    "# Data Evaluation"
   ]
  },
  {
   "cell_type": "markdown",
   "id": "91a3626a-abc9-4c21-87a5-96dcca15bc2f",
   "metadata": {},
   "source": [
    "By default, DataJoint will store the results of pose estimation in a subdirectory\n",
    ">  processed_dir / videos / device_<#>_recording_<#>_model_<name>\n",
    "\n",
    "Pulling processed_dir from `get_dlc_processed_dir`, and device/recording information \n",
    "from the `VideoRecording` table. The model name is taken from the primary key of the\n",
    "`Model` table, with spaced replaced by hyphens.\n",
    "    \n",
    "We can get this estimation directly as a pandas dataframe."
   ]
  },
  {
   "cell_type": "code",
   "execution_count": null,
   "id": "9f5902f1-0934-4abc-9ae3-e720729400c4",
   "metadata": {},
   "outputs": [],
   "source": [
    "(model.PoseEstimation() * session.Session * session.SessionUser * subject.User()).fetch(format = \"frame\", order_by = \"session_datetime\")"
   ]
  },
  {
   "cell_type": "code",
   "execution_count": null,
   "id": "91d1e570",
   "metadata": {},
   "outputs": [],
   "source": [
    "scansi = \"scan9FB2LN5C\"\n",
    "scan_key = (model.PoseEstimation & f'recording_id = \"{scansi}\"').fetch('KEY')[0] \n",
    "path = (model.VideoRecording.File & scan_key).fetch(\"file_path\")\n",
    "path"
   ]
  },
  {
   "cell_type": "code",
   "execution_count": null,
   "id": "e348ffcf-312d-4664-947c-7970a79a2f16",
   "metadata": {},
   "outputs": [],
   "source": [
    "imaging.Curation()"
   ]
  },
  {
   "cell_type": "code",
   "execution_count": null,
   "id": "55e195e7",
   "metadata": {},
   "outputs": [],
   "source": [
    "(model.PoseEstimation.BodyPartPosition() & scan_key & 'body_part = \"head_middle\"').fetch(\"x_pos\", \"y_pos\")"
   ]
  },
  {
   "cell_type": "code",
   "execution_count": null,
   "id": "45ae5b07",
   "metadata": {},
   "outputs": [],
   "source": [
    "#reduce dataframe to xy coordinates\n",
    "df=model.PoseEstimation.get_trajectory(scan_key)\n",
    "df_xy = df.iloc[:,df.columns.get_level_values(2).isin([\"x\",\"y\"])]['Head_orientation-NK-2023-07-17']\n",
    "# df_xy.mean()\n",
    "df_xy"
   ]
  },
  {
   "cell_type": "code",
   "execution_count": null,
   "id": "19fbbbd5",
   "metadata": {},
   "outputs": [],
   "source": [
    "df_xy.plot().legend(loc='right')"
   ]
  },
  {
   "cell_type": "code",
   "execution_count": null,
   "id": "5b090586",
   "metadata": {},
   "outputs": [],
   "source": [
    "df_flat = df_xy.copy()\n",
    "df_flat.columns = df_flat.columns.map('_'.join)"
   ]
  },
  {
   "cell_type": "code",
   "execution_count": null,
   "id": "76d432a7",
   "metadata": {},
   "outputs": [],
   "source": [
    "import matplotlib.pyplot as plt \n",
    "fig,ax=plt.subplots()\n",
    "df_flat.plot(x='body_middle_x',y='body_middle_y',ax=ax)\n",
    "df_flat.plot(x='head_middle_x',y='head_middle_y', ax=ax)\n",
    "df_flat.plot(x='tail_x',y='tail_y', ax=ax)\n",
    "plt.title(scan_key)\n",
    "plt.show()"
   ]
  },
  {
   "cell_type": "code",
   "execution_count": null,
   "id": "4efdeb48",
   "metadata": {},
   "outputs": [],
   "source": [
    "destfolder = model.PoseEstimationTask.infer_output_dir(key)\n",
    "destfolder"
   ]
  },
  {
   "cell_type": "code",
   "execution_count": null,
   "id": "344057e6",
   "metadata": {},
   "outputs": [],
   "source": [
    "key"
   ]
  },
  {
   "cell_type": "code",
   "execution_count": null,
   "id": "44f083b6",
   "metadata": {},
   "outputs": [],
   "source": [
    "from deeplabcut.utils.make_labeled_video import create_labeled_video\n",
    "import yaml\n",
    "from element_interface.utils import find_full_path\n",
    "from adamacs.paths import get_dlc_root_data_dir\n",
    "\n",
    "\n",
    "video_path = find_full_path( # Fetch the full video path\n",
    "    get_dlc_root_data_dir(), ((model.VideoRecording.File & key).fetch1(\"file_path\"))\n",
    ")\n",
    "\n",
    "config_paths = sorted( # Of configs in the project path, defer to the datajoint-saved\n",
    "    list(\n",
    "        find_full_path(\n",
    "            get_dlc_root_data_dir(), ((model.Model & key).fetch1(\"project_path\"))\n",
    "        ).glob(\"*.y*ml\")\n",
    "    )\n",
    ")\n",
    "\n",
    "create_labeled_video( # Pass strings to label the video\n",
    "    config=str(config_paths[-1]),\n",
    "    videos=str(video_path),\n",
    "    destfolder=str(destfolder),\n",
    ")\n",
    "\n",
    "# list(list(pathlib.Path((model.VideoRecording.File & key).fetch1(\"file_path\")).parent.glob(\"device*\"))[0].glob(\"*.y*ml\"))"
   ]
  },
  {
   "cell_type": "code",
   "execution_count": null,
   "metadata": {},
   "outputs": [],
   "source": [
    "destfolder"
   ]
  },
  {
   "cell_type": "code",
   "execution_count": null,
   "id": "09b16bb6",
   "metadata": {},
   "outputs": [],
   "source": [
    "import pathlib\n",
    "moviepath = str(list(pathlib.Path(destfolder).glob(\"*.mp4\"))[0])\n",
    "moviepath\n"
   ]
  },
  {
   "cell_type": "code",
   "execution_count": null,
   "id": "20402c74",
   "metadata": {},
   "outputs": [],
   "source": [
    "(model.VideoRecording.File & key).fetch1(\"file_path\")"
   ]
  },
  {
   "cell_type": "code",
   "execution_count": null,
   "id": "74d56a41",
   "metadata": {},
   "outputs": [],
   "source": [
    "list(list(pathlib.Path((model.VideoRecording.File & key).fetch1(\"file_path\")).parent.glob(\"device*\"))[0].glob(\"*.y*ml\"))"
   ]
  },
  {
   "cell_type": "code",
   "execution_count": null,
   "metadata": {},
   "outputs": [],
   "source": []
  }
 ],
 "metadata": {
  "kernelspec": {
   "display_name": "Python 3 (ipykernel)",
   "language": "python",
   "name": "python3"
  },
  "language_info": {
   "codemirror_mode": {
    "name": "ipython",
    "version": 3
   },
   "file_extension": ".py",
   "mimetype": "text/x-python",
   "name": "python",
   "nbconvert_exporter": "python",
   "pygments_lexer": "ipython3",
   "version": "3.8.17"
  },
  "vscode": {
   "interpreter": {
    "hash": "965cf972b663dbe25e7de0e0fe8e177cbbce2d7cfe110ae892c33d6669c5eb24"
   }
  }
 },
 "nbformat": 4,
 "nbformat_minor": 5
}
