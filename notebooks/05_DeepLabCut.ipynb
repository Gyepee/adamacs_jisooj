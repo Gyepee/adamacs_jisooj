{
 "cells": [
  {
   "cell_type": "markdown",
   "id": "b0e36d60-7e12-4c51-ac24-5e62ba586001",
   "metadata": {},
   "source": [
    "# DeepLabCut Ingestion/Inference"
   ]
  },
  {
   "cell_type": "markdown",
   "id": "2b8414eb-f4c0-4e20-a93a-f8a2901bca49",
   "metadata": {},
   "source": [
    "`Dev notes:` Currently, the path structure assumes you have one DLC project directory for all models, as specified within `adamacs.pipeline.get_dlc_root_data_dir`. The parallel function `get_dlc_processed_data_dir` can specify the output directory. "
   ]
  },
  {
   "cell_type": "markdown",
   "id": "661a25a5-e884-4786-994c-ef4da4bf6ae2",
   "metadata": {},
   "source": [
    "## Setup"
   ]
  },
  {
   "cell_type": "markdown",
   "id": "d82ba707-4007-49d7-9cd6-0f1af03c0270",
   "metadata": {},
   "source": [
    "### Connect to the database"
   ]
  },
  {
   "cell_type": "markdown",
   "id": "4a148dfb-472c-4932-a473-913c04b1782e",
   "metadata": {},
   "source": [
    "If you are don't have your login information, contact the administrator.\n",
    "\n",
    "Using local config file (see [01_pipeline](./01_pipeline.ipynb)):"
   ]
  },
  {
   "cell_type": "code",
   "execution_count": null,
   "id": "99c37499-7c85-45fd-9d1d-bb66cb0854c6",
   "metadata": {},
   "outputs": [],
   "source": [
    "import os\n",
    "# change to the upper level folder to detect dj_local_conf.json\n",
    "if os.path.basename(os.getcwd())=='notebooks': os.chdir('..')\n",
    "assert os.path.basename(os.getcwd())=='adamacs', (\"Please move to the main directory\")\n",
    "import datajoint as dj; dj.conn()"
   ]
  },
  {
   "cell_type": "markdown",
   "id": "33d2fdd6-b961-40c2-9316-6f79172ca7b2",
   "metadata": {},
   "source": [
    "Manual entry:"
   ]
  },
  {
   "cell_type": "code",
   "execution_count": null,
   "id": "2e36709e-92ca-41a5-86a8-90a725a8769d",
   "metadata": {},
   "outputs": [],
   "source": [
    "# Manual Entry\n",
    "import datajoint as dj; import getpass\n",
    "dj.config['database.host'] = '172.26.128.53'        # Put the server name between these apostrophe\n",
    "dj.config['database.user'] = 'danielmk'             # Put your user name between these apostrophe\n",
    "dj.config['database.password'] = getpass.getpass()  # Put your password in the prompt\n",
    "dj.config['custom']['dlc_root_data_dir'] = 'path'   # Path of your DLC project folder\n",
    "dj.conn()"
   ]
  },
  {
   "cell_type": "markdown",
   "id": "a6adb4d4-599b-49a5-ba7f-7013b07dd83b",
   "metadata": {},
   "source": [
    "### Imports and activation\n",
    "\n",
    "Importing schema from `adamacs.pipeline` automatically activates items."
   ]
  },
  {
   "cell_type": "code",
   "execution_count": null,
   "id": "1b76b069-3ca5-4dce-9ea8-1ba2058c3662",
   "metadata": {},
   "outputs": [],
   "source": [
    "from adamacs.pipeline import subject, train, model"
   ]
  },
  {
   "cell_type": "markdown",
   "id": "83f8326a-ecca-4978-aa45-cce9ffbc164f",
   "metadata": {
    "lines_to_next_cell": 0,
    "tags": []
   },
   "source": [
    "## Ingesting videos and training parameters\n",
    "\n",
    "### Automated\n",
    "\n",
    "Refer the `user_data` folder in the `adamacs` directory contains CSVs for inserting values into DeepLabCut tables.\n",
    "\n",
    "1. `config_params.csv` is used for training parameter sets in `train.TrainingParamSet`. The following items are required, but others will also be passed to DLC's `train_network` function when called "
   ]
  },
  {
   "cell_type": "code",
   "execution_count": null,
   "id": "40963177-1087-44c1-bb24-3198ed5a5115",
   "metadata": {
    "lines_to_next_cell": 0,
    "title": "``"
   },
   "outputs": [],
   "source": []
  },
  {
   "cell_type": "code",
   "execution_count": null,
   "id": "f514a2fa",
   "metadata": {
    "lines_to_next_cell": 0,
    "title": "`shuffle` - Training data shuffle"
   },
   "outputs": [],
   "source": []
  },
  {
   "cell_type": "code",
   "execution_count": null,
   "id": "c7f934f1",
   "metadata": {
    "title": "`trainingsetindex` - Training fraction in 0-indexed list"
   },
   "outputs": [],
   "source": [
    "# 2. `train_videosets.csv` and `model_videos.csv` pass values to `train.VideoSet` and `model.VideoRecording` respectively.\n",
    "# 3. `adamacs.ingest.dlc.ingest_dlc_items` will load each of these CSVs\n",
    "#\n",
    "# For more information, see [this notebook](https://github.com/CBroz1/workflow-deeplabcut/blob/main/notebooks/04-Automate_Optional.ipynb)"
   ]
  },
  {
   "cell_type": "code",
   "execution_count": null,
   "id": "f93dfb26-0b38-47e0-92f2-37e8df758319",
   "metadata": {},
   "outputs": [],
   "source": [
    "from adamacs.ingest.dlc import ingest_dlc_items\n",
    "ingest_dlc_items()"
   ]
  },
  {
   "cell_type": "markdown",
   "id": "5d411cbb-3c2c-4bb0-b300-27a0dcd68978",
   "metadata": {},
   "source": [
    "### Manual\n",
    "\n",
    "The same training parameters as above can be manually inserted as follows."
   ]
  },
  {
   "cell_type": "code",
   "execution_count": null,
   "id": "34060694-72bc-4814-a3a4-64de1d3d447a",
   "metadata": {},
   "outputs": [],
   "source": [
    "import yaml\n",
    "from element_interface.utils import find_full_path\n",
    "from adamacs.paths import get_dlc_root_data_dir\n",
    "\n",
    "paramset_idx = 1; paramset_desc='from_top_5iters'\n",
    "config_path = find_full_path(get_dlc_root_data_dir(), \n",
    "                             'DLC_tracking/config.yaml')\n",
    "with open(config_path, 'rb') as y:\n",
    "    config_params = yaml.safe_load(y)\n",
    "training_params = {'shuffle': '1',\n",
    "                   'trainingsetindex': '0',\n",
    "                   'maxiters': '5',\n",
    "                   'scorer_legacy': 'False',\n",
    "                   'maxiters': '5', \n",
    "                   'multianimalproject':'False'}\n",
    "config_params.update(training_params)\n",
    "train.TrainingParamSet.insert_new_params(paramset_idx=paramset_idx,\n",
    "                                         paramset_desc=paramset_desc,\n",
    "                                         params=config_params)"
   ]
  },
  {
   "cell_type": "code",
   "execution_count": null,
   "id": "80ba9ae1-a614-4255-9220-99cb1b05c4fe",
   "metadata": {},
   "outputs": [],
   "source": [
    "key = {'subject': 'subject',\n",
    "       'session_id': 'id',\n",
    "       'recording_id': 1, \n",
    "       'scanner': 1, # Currently 'scanner' due to in equipment tables\n",
    "       'recording_start_time': '0000-00-00 00:00:00'}\n",
    "model.VideoRecording.insert1(key)\n",
    "# do not include an initial `/` in relative file paths   \n",
    "key.update({'file_path': 'relative/path'})\n",
    "model.VideoRecording.File.insert1(key, ignore_extra_fields=True)"
   ]
  },
  {
   "cell_type": "markdown",
   "id": "ae990c82-36a6-4662-bac8-e014bd80b084",
   "metadata": {},
   "source": [
    "## Model Training"
   ]
  },
  {
   "cell_type": "markdown",
   "id": "91befce5-f9c5-47d3-88df-5c4398eebbbe",
   "metadata": {},
   "source": [
    "The `TrainingTask` table queues up training. To launch training from a different machine, one needs to edit DLC's config files to reflect updated paths. For training, this includes `dlc-models/*/*/train/pose_cfg.yaml`\n",
    "\n",
    "`CB DEV NOTE:` I'm missing the following videos used to originally train the model:\n",
    "- top_video2022-02-17T15_56_10.mp4\n",
    "- top_video2022-02-21T12_18_09.mp4"
   ]
  },
  {
   "cell_type": "code",
   "execution_count": null,
   "id": "6947589c-0546-472d-8ee6-b5c5b56ffac3",
   "metadata": {},
   "outputs": [],
   "source": [
    "key={'video_set_id': 1, 'paramset_idx':1,\n",
    "     'training_id':1, # uniquely defines training task\n",
    "     'project_path':'DLC_tracking/' # relative to dlc_root in dj.config\n",
    "    }\n",
    "train.TrainingTask.insert1(key, skip_duplicates=True)\n",
    "train.TrainingTask()"
   ]
  },
  {
   "cell_type": "code",
   "execution_count": null,
   "id": "2a493f78-6a1d-4c5e-8606-7c01c68f7c66",
   "metadata": {
    "tags": []
   },
   "outputs": [],
   "source": [
    "train.ModelTraining.populate()"
   ]
  },
  {
   "cell_type": "code",
   "execution_count": null,
   "id": "be4bc25b-04ae-4f97-813e-c316ddb0a739",
   "metadata": {},
   "outputs": [],
   "source": [
    "train.ModelTraining()"
   ]
  },
  {
   "cell_type": "markdown",
   "id": "4b8e3299-63b9-49cc-a010-04d81ba552fd",
   "metadata": {},
   "source": [
    "To start training from a previous instance, one would need to \n",
    "[edit the relevant config file](https://github.com/DeepLabCut/DeepLabCut/issues/70) and\n",
    "adjust the `maxiters` paramset (if present) to a higher threshold (e.g., 10 for 5 more itterations).\n",
    "Emperical work from the Mathis team suggests 200k iterations for any true use-case."
   ]
  },
  {
   "cell_type": "markdown",
   "id": "0f3fb14a-64a2-4bfa-9e03-0ee4e87af98e",
   "metadata": {},
   "source": [
    "## Tracking Joints/Body Parts"
   ]
  },
  {
   "cell_type": "markdown",
   "id": "b7b6a7ad-f99d-463f-82e5-901e498236b8",
   "metadata": {},
   "source": [
    "The `model` schema uses a lookup table for managing Body Parts tracked across models."
   ]
  },
  {
   "cell_type": "code",
   "execution_count": null,
   "id": "70dbfc1a-cbad-43c1-9051-776a6dcc0c13",
   "metadata": {},
   "outputs": [],
   "source": [
    "model.BodyPart.heading"
   ]
  },
  {
   "cell_type": "markdown",
   "id": "fc134ae7-62b8-4013-a538-1f47070e430b",
   "metadata": {},
   "source": [
    "This table is equipped with two helper functions. First, we can identify all the new body parts from a given config file."
   ]
  },
  {
   "cell_type": "code",
   "execution_count": null,
   "id": "7f21c637-2554-4b6e-9a9a-e07d3cb5edae",
   "metadata": {},
   "outputs": [],
   "source": [
    "from adamacs.paths import get_dlc_root_data_dir\n",
    "config_path = get_dlc_root_data_dir()[0] + \"/DLC_tracking/config.yaml\"\n",
    "model.BodyPart.extract_new_body_parts(config_path)"
   ]
  },
  {
   "cell_type": "markdown",
   "id": "f354da25-1f3e-4220-aa8b-943f6260b88c",
   "metadata": {},
   "source": [
    "Now, we can make a list of descriptions in the same order, and insert them into the table"
   ]
  },
  {
   "cell_type": "code",
   "execution_count": null,
   "id": "14c69d60-c198-468e-a67c-b2ff77667bbb",
   "metadata": {},
   "outputs": [],
   "source": [
    "bp_desc=['Body Center', 'Head', 'Base of Tail']\n",
    "model.BodyPart.insert_from_config(config_path,bp_desc)"
   ]
  },
  {
   "cell_type": "markdown",
   "id": "d81f0302-b652-4b5d-8983-001484ef83e0",
   "metadata": {},
   "source": [
    "If we skip this step, body parts (without descriptions) will be added when we insert a model. We can [update](https://docs.datajoint.org/python/v0.13/manipulation/3-Cautious-Update.html) empty descriptions at any time."
   ]
  },
  {
   "cell_type": "markdown",
   "id": "e5643f65-19ac-4ba4-a475-21e3d7bf6e54",
   "metadata": {},
   "source": [
    "## Declaring a Model"
   ]
  },
  {
   "cell_type": "markdown",
   "id": "20dcf5df-79b3-4a0e-bc6b-5114b44b61a3",
   "metadata": {},
   "source": [
    "If training appears successful, the result can be inserted into the `Model` table for automatic evaluation."
   ]
  },
  {
   "cell_type": "code",
   "execution_count": null,
   "id": "9762e61c-0b14-4928-b7ac-3e73bab3f201",
   "metadata": {},
   "outputs": [],
   "source": [
    "model.Model.insert_new_model(model_name='from_top_5iters',dlc_config=config_path,\n",
    "                             shuffle=1,trainingsetindex=0,\n",
    "                             model_description='From Top, trained 5 iterations',\n",
    "                             paramset_idx=1)"
   ]
  },
  {
   "cell_type": "code",
   "execution_count": null,
   "id": "ae2fb0d9-df98-4e10-ae06-c0d8c33bf67b",
   "metadata": {},
   "outputs": [],
   "source": [
    "model.Model()"
   ]
  },
  {
   "cell_type": "code",
   "execution_count": null,
   "id": "862fdc0f-61a7-4955-8019-78b014ad527e",
   "metadata": {},
   "outputs": [],
   "source": [
    "model.Model.BodyPart()"
   ]
  },
  {
   "cell_type": "markdown",
   "id": "f71c877f-4f1d-40f7-a898-b3bcf695e603",
   "metadata": {},
   "source": [
    "## Model Evaluation"
   ]
  },
  {
   "cell_type": "markdown",
   "id": "0657e7b6-3969-4d16-b801-e05d222285d4",
   "metadata": {},
   "source": [
    "Next, all inserted models can be evaluated with a similar `populate` method, which will\n",
    "insert the relevant output from DLC's `evaluate_network` function."
   ]
  },
  {
   "cell_type": "code",
   "execution_count": null,
   "id": "2eb626c5-f1ed-4a86-a300-ddd8066e1ac5",
   "metadata": {},
   "outputs": [],
   "source": [
    "model.ModelEvaluation.heading"
   ]
  },
  {
   "cell_type": "markdown",
   "id": "1f77889f-efc6-41ed-9ae5-b5089bd2b6ef",
   "metadata": {},
   "source": [
    "If your project was initialized in a version of DeepLabCut other than the one you're currently using, model evaluation may report key errors. Specifically, your `config.yaml` may not specify `multianimalproject: false`."
   ]
  },
  {
   "cell_type": "code",
   "execution_count": null,
   "id": "8d52b8a7-e677-4f00-a720-2aed7a266fb3",
   "metadata": {},
   "outputs": [],
   "source": [
    "model.ModelEvaluation.populate()"
   ]
  },
  {
   "cell_type": "code",
   "execution_count": null,
   "id": "28503f0c-d06e-46fe-ad4c-f13a1e1edb87",
   "metadata": {},
   "outputs": [],
   "source": [
    "model.ModelEvaluation()"
   ]
  },
  {
   "cell_type": "markdown",
   "id": "ad698f22-4d16-413a-a30c-84e28e7ec1db",
   "metadata": {},
   "source": [
    "## Pose Estimation"
   ]
  },
  {
   "cell_type": "code",
   "execution_count": null,
   "id": "a51b8243-6ee2-44f5-a987-9abd10ce1b56",
   "metadata": {},
   "outputs": [],
   "source": [
    "model.VideoRecording.File()"
   ]
  },
  {
   "cell_type": "markdown",
   "id": "e72c8868-3db0-4cda-98ab-96bbebc5bb0a",
   "metadata": {},
   "source": [
    "For demonstration purposes, we'll make a shorter video that will process relatively quickly `ffmpeg`, a DLC dependency ([more info here](https://github.com/datajoint/workflow-deeplabcut/blob/main/notebooks/00-DataDownload_Optional.ipynb))"
   ]
  },
  {
   "cell_type": "code",
   "execution_count": null,
   "id": "20b11cf1-2bbc-4bc6-bc87-ca77f01676eb",
   "metadata": {},
   "outputs": [],
   "source": [
    "from adamacs.paths import get_dlc_root_data_dir\n",
    "vid_path =  get_dlc_root_data_dir()[0] + '/DLC_tracking/videos/exp9FANLWRZ_top_video2022-02-21T12_18_09'\n",
    "print(vid_path)\n",
    "cmd = (f'ffmpeg -n -hide_banner -loglevel error -ss 0 -t 2 -i {vid_path}.mp4 '\n",
    "       + f'-vcodec copy -acodec copy {vid_path}-copy.mp4')\n",
    "import os; os.system(cmd)"
   ]
  },
  {
   "cell_type": "markdown",
   "id": "fe97c0b2-28f3-44f7-b41c-114eb31e635b",
   "metadata": {},
   "source": [
    "Next, we need to specify if the `PoseEstimation` table should load results from an existing file or trigger the estimation command. Here, we can also specify parameters accepted by the `analyze_videos` function as a dictionary. `task_mode` determines if pose estimation results should be loaded or triggered (i.e., load vs. trigger)."
   ]
  },
  {
   "cell_type": "code",
   "execution_count": null,
   "id": "c8d23bcb-39e3-4fb0-a911-30e89adc8a91",
   "metadata": {},
   "outputs": [],
   "source": [
    "key = (model.VideoRecording & {'recording_id': '1'}).fetch1('KEY')\n",
    "key.update({'model_name': 'from_top_5iters', 'task_mode': 'trigger'})\n",
    "key"
   ]
  },
  {
   "cell_type": "markdown",
   "id": "40deac79-d482-4777-b501-261410332d65",
   "metadata": {},
   "source": [
    "The `PoseEstimationTask` table queues items for pose estimation. Additional parameters are passed to DLC's `analyze_videos` function."
   ]
  },
  {
   "cell_type": "code",
   "execution_count": null,
   "id": "ba216c1b-b608-4424-b7a1-f49795be0971",
   "metadata": {},
   "outputs": [],
   "source": [
    "model.PoseEstimationTask.insert_estimation_task(key,params={'save_as_csv':True})"
   ]
  },
  {
   "cell_type": "code",
   "execution_count": null,
   "id": "7d1ad296-9ff5-4a2a-9ad0-8edc1ecb7ef3",
   "metadata": {},
   "outputs": [],
   "source": [
    "model.PoseEstimation.populate()"
   ]
  },
  {
   "cell_type": "code",
   "execution_count": null,
   "id": "568cc787-f65f-4c44-ba96-091905b89534",
   "metadata": {},
   "outputs": [],
   "source": [
    "model.PoseEstimation()"
   ]
  },
  {
   "cell_type": "markdown",
   "id": "91a3626a-abc9-4c21-87a5-96dcca15bc2f",
   "metadata": {},
   "source": [
    "By default, DataJoint will store the results of pose estimation in a subdirectory\n",
    ">  processed_dir / videos / device_<#>_recording_<#>_model_<name>\n",
    "\n",
    "Pulling processed_dir from `get_dlc_processed_dir`, and device/recording information \n",
    "from the `VideoRecording` table. The model name is taken from the primary key of the\n",
    "`Model` table, with spaced replaced by hyphens.\n",
    "    \n",
    "We can get this estimation directly as a pandas dataframe."
   ]
  },
  {
   "cell_type": "code",
   "execution_count": null,
   "id": "9f5902f1-0934-4abc-9ae3-e720729400c4",
   "metadata": {},
   "outputs": [],
   "source": [
    "model.PoseEstimation.BodyPartPosition()"
   ]
  },
  {
   "cell_type": "code",
   "execution_count": null,
   "id": "e348ffcf-312d-4664-947c-7970a79a2f16",
   "metadata": {},
   "outputs": [],
   "source": [
    "model.PoseEstimation.get_trajectory(key)"
   ]
  },
  {
   "cell_type": "code",
   "execution_count": null,
   "id": "45ae5b07",
   "metadata": {},
   "outputs": [],
   "source": []
  }
 ],
 "metadata": {
  "kernelspec": {
   "display_name": "base",
   "language": "python",
   "name": "python3"
  },
  "language_info": {
   "codemirror_mode": {
    "name": "ipython",
    "version": 3
   },
   "file_extension": ".py",
   "mimetype": "text/x-python",
   "name": "python",
   "nbconvert_exporter": "python",
   "pygments_lexer": "ipython3",
   "version": "3.9.7 (default, Sep 16 2021, 08:50:36) \n[Clang 10.0.0 ]"
  },
  "vscode": {
   "interpreter": {
    "hash": "965cf972b663dbe25e7de0e0fe8e177cbbce2d7cfe110ae892c33d6669c5eb24"
   }
  }
 },
 "nbformat": 4,
 "nbformat_minor": 5
}
