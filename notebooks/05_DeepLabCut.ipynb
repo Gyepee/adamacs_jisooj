{
 "cells": [
  {
   "cell_type": "markdown",
   "id": "b0e36d60-7e12-4c51-ac24-5e62ba586001",
   "metadata": {},
   "source": [
    "# DeepLabCut Ingestion/Inference"
   ]
  },
  {
   "cell_type": "markdown",
   "id": "75a4c8ec",
   "metadata": {},
   "source": [
    "# DeepLabCut manual:\n",
    "https://github.com/DeepLabCut/DeepLabCut/blob/main/docs/standardDeepLabCut_UserGuide.md"
   ]
  },
  {
   "cell_type": "markdown",
   "id": "2b8414eb-f4c0-4e20-a93a-f8a2901bca49",
   "metadata": {},
   "source": [
    "`Dev notes:` Currently, the path structure assumes you have one DLC project directory for all models, as specified within `adamacs.pipeline.get_dlc_root_data_dir`. The parallel function `get_dlc_processed_data_dir` can specify the output directory. "
   ]
  },
  {
   "cell_type": "markdown",
   "id": "bbce6e46",
   "metadata": {},
   "source": [
    "## TODO\n",
    "\n",
    "1. Have the DLC model as selector in the Pingest GUI (model.Model() = model_name)\n",
    "2. Add a checkbox to process DLC data\n",
    "3. model.PoseEstimationTask.insert_estimation_task(key, key[\"model_name\"], analyze_videos_params={'save_as_csv':True}, task_mode = 'trigger') - have additional options in table?\n",
    "4. model.RecordingInfo.populate()\n",
    "model.RecordingInfo()\n",
    "5. model.PoseEstimation.populate()\n",
    "6. defer population to tmux or cron jobs?\n"
   ]
  },
  {
   "cell_type": "markdown",
   "id": "661a25a5-e884-4786-994c-ef4da4bf6ae2",
   "metadata": {},
   "source": [
    "## Setup"
   ]
  },
  {
   "cell_type": "markdown",
   "id": "d82ba707-4007-49d7-9cd6-0f1af03c0270",
   "metadata": {},
   "source": [
    "### Connect to the database"
   ]
  },
  {
   "cell_type": "markdown",
   "id": "4a148dfb-472c-4932-a473-913c04b1782e",
   "metadata": {},
   "source": [
    "If you are don't have your login information, contact the administrator.\n",
    "\n",
    "Using local config file (see [01_pipeline](./01_pipeline.ipynb)):"
   ]
  },
  {
   "cell_type": "code",
   "execution_count": 1,
   "id": "99c37499-7c85-45fd-9d1d-bb66cb0854c6",
   "metadata": {},
   "outputs": [
    {
     "name": "stderr",
     "output_type": "stream",
     "text": [
      "[2023-11-15 09:36:11,904][INFO]: Connecting tobiasr@172.26.128.53:3306\n",
      "[2023-11-15 09:36:11,957][INFO]: Connected tobiasr@172.26.128.53:3306\n"
     ]
    },
    {
     "data": {
      "text/plain": [
       "DataJoint connection (connected) tobiasr@172.26.128.53:3306"
      ]
     },
     "execution_count": 1,
     "metadata": {},
     "output_type": "execute_result"
    }
   ],
   "source": [
    "import os\n",
    "# change to the upper level folder to detect dj_local_conf.json\n",
    "if os.path.basename(os.getcwd())=='notebooks': os.chdir('..')\n",
    "assert os.path.basename(os.getcwd())=='adamacs', (\"Please move to the main directory\")\n",
    "import datajoint as dj; dj.conn()"
   ]
  },
  {
   "cell_type": "code",
   "execution_count": 2,
   "id": "d4a2657f",
   "metadata": {},
   "outputs": [
    {
     "data": {
      "text/plain": [
       "['/datajoint-data/models/tobiasr/DB_DLC_tracking',\n",
       " '/datajoint-data/models/tobiasr/NK_DLC_tracking',\n",
       " '/']"
      ]
     },
     "execution_count": 2,
     "metadata": {},
     "output_type": "execute_result"
    }
   ],
   "source": [
    "dj.config[\"custom\"].get(\"dlc_root_data_dir\")\n"
   ]
  },
  {
   "cell_type": "markdown",
   "id": "a6adb4d4-599b-49a5-ba7f-7013b07dd83b",
   "metadata": {},
   "source": [
    "### Imports and activation\n",
    "\n",
    "Importing schema from `adamacs.pipeline` automatically activates items."
   ]
  },
  {
   "cell_type": "code",
   "execution_count": 3,
   "id": "1b76b069-3ca5-4dce-9ea8-1ba2058c3662",
   "metadata": {},
   "outputs": [],
   "source": [
    "from adamacs.pipeline import subject, train,  scan, event, trial, behavior, session, model, equipment, imaging"
   ]
  },
  {
   "cell_type": "markdown",
   "id": "83f8326a-ecca-4978-aa45-cce9ffbc164f",
   "metadata": {
    "lines_to_next_cell": 0,
    "tags": []
   },
   "source": [
    "## Ingesting videos and training parameters\n",
    "\n",
    "### Automated\n",
    "\n",
    "Refer the `user_data` folder in the `adamacs` directory contains CSVs for inserting values into DeepLabCut tables.\n",
    "\n",
    "1. `config_params.csv` is used for training parameter sets in `train.TrainingParamSet`. The following items are required, but others will also be passed to DLC's `train_network` function when called \n",
    "2. `train_videosets.csv` and `model_videos.csv` pass values to `train.VideoSet` and `model.VideoRecording` respectively.\n",
    "3. `adamacs.ingest.dlc.ingest_dlc_items` will load each of these CSVs\n",
    "\n",
    "For more information, see [this notebook](https://github.com/CBroz1/workflow-deeplabcut/blob/main/notebooks/04-Automate_Optional.ipynb)"
   ]
  },
  {
   "cell_type": "code",
   "execution_count": null,
   "metadata": {},
   "outputs": [],
   "source": [
    "dj.Diagram(model) + dj.Diagram(equipment) + dj.Diagram(session)"
   ]
  },
  {
   "cell_type": "code",
   "execution_count": null,
   "id": "f93dfb26-0b38-47e0-92f2-37e8df758319",
   "metadata": {},
   "outputs": [],
   "source": [
    "    # from adamacs.ingest.dlc import ingest_dlc_items\n",
    "    # ingest_dlc_items()"
   ]
  },
  {
   "cell_type": "code",
   "execution_count": null,
   "metadata": {},
   "outputs": [],
   "source": [
    "# model.VideoRecording().drop()\n",
    "# model.Model.delete()"
   ]
  },
  {
   "cell_type": "code",
   "execution_count": null,
   "id": "d6ccda2f",
   "metadata": {},
   "outputs": [],
   "source": [
    "train.schema.list_tables()"
   ]
  },
  {
   "cell_type": "markdown",
   "id": "5d411cbb-3c2c-4bb0-b300-27a0dcd68978",
   "metadata": {},
   "source": [
    "### Manual\n",
    "\n",
    "The same training parameters as above can be manually inserted as follows."
   ]
  },
  {
   "cell_type": "code",
   "execution_count": null,
   "id": "34060694-72bc-4814-a3a4-64de1d3d447a",
   "metadata": {},
   "outputs": [],
   "source": [
    "import yaml\n",
    "from element_interface.utils import find_full_path\n",
    "from adamacs.paths import get_dlc_root_data_dir\n",
    "import pathlib\n",
    "# config_path = find_full_path(get_dlc_root_data_dir(), \n",
    "                            #  'from_top_tracking-DJ-2022-02-23/config.yaml')\n",
    "config_path = find_full_path(get_dlc_root_data_dir(), \n",
    "                             'Topcam_2bin_wtscope-NK-2023-09-11/config.yaml')"
   ]
  },
  {
   "cell_type": "code",
   "execution_count": null,
   "id": "30a3414f",
   "metadata": {},
   "outputs": [],
   "source": [
    "model.VideoRecording.File() "
   ]
  },
  {
   "cell_type": "code",
   "execution_count": null,
   "id": "80ba9ae1-a614-4255-9220-99cb1b05c4fe",
   "metadata": {},
   "outputs": [],
   "source": [
    "scansi = \"scan9FJ842C3\"\n",
    "scan_key = (scan.Scan & f'scan_id = \"{scansi}\"').fetch('KEY')[0] \n",
    "moviepath = str(list(pathlib.Path((scan.ScanPath() & scan_key).fetch(\"path\")[0]).glob(\"*top*.mp4*\"))[0])\n",
    "\n",
    "key = {'session_id': scan_key[\"session_id\"],\n",
    "       'recording_id': scan_key[\"scan_id\"], \n",
    "       'camera': \"mini2p1_top\", # Currently 'scanner' due to in equipment tables\n",
    "}\n",
    "model.VideoRecording.insert1(key, skip_duplicates=True)\n",
    "# do not include an initial `/` in relative file paths   \n",
    "key.update({'file_path': moviepath,\n",
    "            'file_id': 0})\n",
    "model.VideoRecording.File.insert1(key, ignore_extra_fields=True, skip_duplicates=True)"
   ]
  },
  {
   "cell_type": "code",
   "execution_count": null,
   "id": "db928d76",
   "metadata": {},
   "outputs": [],
   "source": [
    "scansi = \"scan9FB2LN5C\"\n",
    "scan_key = (scan.Scan & f'scan_id = \"{scansi}\"').fetch('KEY')[0] \n",
    "moviepath = str(list(pathlib.Path((scan.ScanPath() & scan_key).fetch(\"path\")[0]).glob(\"*top*.mp4*\"))[0])\n",
    "\n",
    "key = {'session_id': scan_key[\"session_id\"],\n",
    "       'recording_id': scan_key[\"scan_id\"], \n",
    "       'camera': \"mini2p1_top\", # Currently 'scanner' due to in equipment tables\n",
    "}\n",
    "model.VideoRecording.insert1(key, skip_duplicates=True)\n",
    "# do not include an initial `/` in relative file paths   \n",
    "key.update({'file_path': moviepath,\n",
    "            'file_id': 1})\n",
    "model.VideoRecording.File.insert1(key, ignore_extra_fields=True, skip_duplicates=True)"
   ]
  },
  {
   "cell_type": "code",
   "execution_count": null,
   "id": "5c954492",
   "metadata": {},
   "outputs": [],
   "source": [
    "scansi = \"scan9FHELAYA\"\n",
    "scan_key = (scan.Scan & f'scan_id = \"{scansi}\"').fetch('KEY')[0] \n",
    "moviepath = str(list(pathlib.Path((scan.ScanPath() & scan_key).fetch(\"path\")[0]).glob(\"*top*.mp4\"))[0])\n",
    "# moviepath = str(list(pathlib.Path((scan.ScanPath() & scan_key).fetch(\"path\")[0]).glob(\"*top*.mp4-copy.mp4\"))[0])\n",
    "\n",
    "key = {'session_id': scan_key[\"session_id\"],\n",
    "       'recording_id': scan_key[\"scan_id\"], \n",
    "       'camera': \"mini2p1_top\", # Currently 'scanner' due to in equipment tables\n",
    "}\n",
    "model.VideoRecording.insert1(key, skip_duplicates=True)\n",
    "# do not include an initial `/` in relative file paths   \n",
    "key.update({'file_path': moviepath,\n",
    "            'file_id': 2})\n",
    "model.VideoRecording.File.insert1(key, ignore_extra_fields=True, skip_duplicates=True)"
   ]
  },
  {
   "cell_type": "markdown",
   "id": "ae990c82-36a6-4662-bac8-e014bd80b084",
   "metadata": {},
   "source": [
    "## Model Training"
   ]
  },
  {
   "cell_type": "markdown",
   "id": "91befce5-f9c5-47d3-88df-5c4398eebbbe",
   "metadata": {},
   "source": [
    "The `TrainingTask` table queues up training. To launch training from a different machine, one needs to edit DLC's config files to reflect updated paths. For training, this includes `dlc-models/*/*/train/pose_cfg.yaml`\n",
    "\n",
    "`CB DEV NOTE:` I'm missing the following videos used to originally train the model:\n",
    "- top_video2022-02-17T15_56_10.mp4\n",
    "- top_video2022-02-21T12_18_09.mp4"
   ]
  },
  {
   "cell_type": "markdown",
   "id": "e0e7c363",
   "metadata": {},
   "source": [
    "#### DeepLabcut Tables"
   ]
  },
  {
   "cell_type": "markdown",
   "id": "342d30bb",
   "metadata": {},
   "source": [
    "The `VideoSet` table in the `train` schema retains records of files generated in the video labeling process (e.g., `h5`, `csv`, `png`). DeepLabCut will refer to the `mat` file located under the `training-datasets` directory.\n",
    "\n",
    "We recommend storing all paths as relative to the root in your config."
   ]
  },
  {
   "cell_type": "code",
   "execution_count": null,
   "id": "0246d207",
   "metadata": {},
   "outputs": [],
   "source": [
    "# train.VideoSet.delete()"
   ]
  },
  {
   "cell_type": "code",
   "execution_count": null,
   "id": "a154a4ed",
   "metadata": {},
   "outputs": [],
   "source": [
    "train.VideoSet.insert1({'video_set_id': 0}, skip_duplicates=True)\n",
    "project_folder = 'from_top_tracking-DJ-2022-02-23/'\n",
    "training_files = ['labeled-data/exp9FANLWRZ_top_video2022-02-21T12_18_09/CollectedData_DJ.h5',\n",
    "                  'labeled-data/exp9FANLWRZ_top_video2022-02-21T12_18_09/CollectedData_DJ.csv',\n",
    "                  'labeled-data/exp9FANLWRZ_top_video2022-02-21T12_18_09/img00674.png',\n",
    "                  'videos/exp9FANLWRZ_top_video2022-02-21T12_18_09.mp4']\n",
    "for idx, filename in enumerate(training_files):\n",
    "    train.VideoSet.File.insert1({'video_set_id': 0,\n",
    "                                 'file_id': idx,\n",
    "                                 'file_path': (project_folder + filename)}, skip_duplicates=True)\n",
    "train.VideoSet.File()"
   ]
  },
  {
   "cell_type": "code",
   "execution_count": null,
   "id": "0f6fffb8",
   "metadata": {},
   "outputs": [],
   "source": [
    "train.VideoSet.insert1({'video_set_id': 1}, skip_duplicates=True)\n",
    "project_folder = 'Head_orientation-NK-2023-07-17/'\n",
    "training_files = ['labeled-data/scan9FHF1JT7_top_video_2023-04-06T09_31_19/CollectedData_NK.h5',\n",
    "                  'labeled-data/scan9FHF1JT7_top_video_2023-04-06T09_31_19/CollectedData_NK.csv',\n",
    "                  'labeled-data/scan9FHF1JT7_top_video_2023-04-06T09_31_19/img00162.png',\n",
    "                  'videos/scan9FHF1JT7_top_video_2023-04-06T09_31_19.mp4']\n",
    "for idx, filename in enumerate(training_files):\n",
    "    train.VideoSet.File.insert1({'video_set_id': 1,\n",
    "                                 'file_id': idx,\n",
    "                                 'file_path': (project_folder + filename)}, skip_duplicates=True)\n",
    "train.VideoSet.File()"
   ]
  },
  {
   "cell_type": "code",
   "execution_count": null,
   "id": "2208217c",
   "metadata": {},
   "outputs": [],
   "source": [
    "train.VideoSet()"
   ]
  },
  {
   "cell_type": "markdown",
   "id": "4051922c",
   "metadata": {},
   "source": [
    "The `params` longblob should be a dictionary that captures all items for DeepLabCut's `train_network` function. At minimum, this is the contents of the project's config file, as well as `suffle` and `trainingsetindex`, which are not included in the config. "
   ]
  },
  {
   "cell_type": "code",
   "execution_count": null,
   "id": "f727557a",
   "metadata": {},
   "outputs": [],
   "source": [
    "from deeplabcut import train_network\n",
    "help(train_network) # for more information on optional parameters"
   ]
  },
  {
   "cell_type": "markdown",
   "id": "2b19a91e",
   "metadata": {},
   "source": [
    "Here, we give these items, load the config contents, and overwrite some defaults, including `maxiters`, to restrict our training iterations to 5."
   ]
  },
  {
   "cell_type": "code",
   "execution_count": null,
   "id": "04fdf6df",
   "metadata": {},
   "outputs": [],
   "source": [
    "train.TrainingParamSet()"
   ]
  },
  {
   "cell_type": "code",
   "execution_count": null,
   "id": "f1399310",
   "metadata": {},
   "outputs": [],
   "source": [
    "import yaml\n",
    "\n",
    "paramset_idx = 0; paramset_desc='from_top_tracking-DJ-2022-02-23'\n",
    "\n",
    "config_path = find_full_path(get_dlc_root_data_dir()[0], \n",
    "                             paramset_desc + '/config.yaml')\n",
    "\n",
    "with open(config_path, 'rb') as y:\n",
    "    config_params = yaml.safe_load(y)\n",
    "training_params = {'shuffle': '1',\n",
    "                   'trainingsetindex': '0',\n",
    "                   'maxiters': '5',\n",
    "                   'scorer_legacy': 'False',\n",
    "                   'maxiters': '5', \n",
    "                   'multianimalproject':'False'}\n",
    "config_params.update(training_params)\n",
    "train.TrainingParamSet.insert_new_params(paramset_idx=paramset_idx,\n",
    "                                         paramset_desc=paramset_desc,\n",
    "                                         params=config_params)"
   ]
  },
  {
   "cell_type": "code",
   "execution_count": null,
   "id": "18e274dc",
   "metadata": {},
   "outputs": [],
   "source": [
    "paramset_idx = 1; paramset_desc='Head_orientation-NK-2023-07-17'\n",
    "\n",
    "config_path = find_full_path(get_dlc_root_data_dir()[1], \n",
    "                             paramset_desc + '/config.yaml')\n",
    "\n",
    "with open(config_path, 'rb') as y:\n",
    "    config_params = yaml.safe_load(y)\n",
    "training_params = {'shuffle': '1',\n",
    "                   'trainingsetindex': '0',\n",
    "                   'maxiters': '5',\n",
    "                   'scorer_legacy': 'False',\n",
    "                   'maxiters': '5', \n",
    "                   'multianimalproject':'False'}\n",
    "config_params.update(training_params)\n",
    "train.TrainingParamSet.insert_new_params(paramset_idx=paramset_idx,\n",
    "                                         paramset_desc=paramset_desc,\n",
    "                                         params=config_params)"
   ]
  },
  {
   "cell_type": "code",
   "execution_count": null,
   "id": "bf5d0e88",
   "metadata": {},
   "outputs": [],
   "source": [
    "paramset_idx = 2; paramset_desc='Topcam_2bin_wtscope-NK-2023-09-11'\n",
    "\n",
    "config_path = find_full_path(get_dlc_root_data_dir()[1], \n",
    "                             paramset_desc + '/config.yaml')\n",
    "\n",
    "with open(config_path, 'rb') as y:\n",
    "    config_params = yaml.safe_load(y)\n",
    "training_params = {'shuffle': '1',\n",
    "                   'trainingsetindex': '0',\n",
    "                   'maxiters': '5',\n",
    "                   'scorer_legacy': 'False',\n",
    "                   'maxiters': '5', \n",
    "                   'multianimalproject':'False'}\n",
    "config_params.update(training_params)\n",
    "train.TrainingParamSet.insert_new_params(paramset_idx=paramset_idx,\n",
    "                                         paramset_desc=paramset_desc,\n",
    "                                         params=config_params)"
   ]
  },
  {
   "cell_type": "code",
   "execution_count": null,
   "metadata": {},
   "outputs": [],
   "source": [
    "paramset_idx = 3; paramset_desc='Topcam_2bin_withscope-NK-2023-08-31'\n",
    "\n",
    "config_path = find_full_path(get_dlc_root_data_dir()[1], \n",
    "                             paramset_desc + '/config.yaml')\n",
    "\n",
    "with open(config_path, 'rb') as y:\n",
    "    config_params = yaml.safe_load(y)\n",
    "training_params = {'shuffle': '1',\n",
    "                   'trainingsetindex': '0',\n",
    "                   'maxiters': '5',\n",
    "                   'scorer_legacy': 'False',\n",
    "                   'maxiters': '5', \n",
    "                   'multianimalproject':'False'}\n",
    "config_params.update(training_params)\n",
    "train.TrainingParamSet.insert_new_params(paramset_idx=paramset_idx,\n",
    "                                         paramset_desc=paramset_desc,\n",
    "                                         params=config_params)"
   ]
  },
  {
   "cell_type": "code",
   "execution_count": null,
   "id": "064357fe",
   "metadata": {},
   "outputs": [],
   "source": [
    "train.TrainingParamSet()"
   ]
  },
  {
   "cell_type": "code",
   "execution_count": null,
   "id": "7674018d",
   "metadata": {},
   "outputs": [],
   "source": [
    "# train.TrainingTask.delete()"
   ]
  },
  {
   "cell_type": "code",
   "execution_count": null,
   "id": "6947589c-0546-472d-8ee6-b5c5b56ffac3",
   "metadata": {},
   "outputs": [],
   "source": [
    "key={'video_set_id': 0, \n",
    "     'paramset_idx':0,\n",
    "     'training_id':0, # uniquely defines training task\n",
    "     'project_path':'from_top_tracking-DJ-2022-02-23/' # relative to dlc_root in dj.config\n",
    "    }\n",
    "train.TrainingTask.insert1(key, skip_duplicates=True)\n",
    "train.TrainingTask()"
   ]
  },
  {
   "cell_type": "code",
   "execution_count": null,
   "id": "4713381c",
   "metadata": {},
   "outputs": [],
   "source": [
    "key={'video_set_id': 1, \n",
    "     'paramset_idx':1,\n",
    "     'training_id':1, # uniquely defines training task\n",
    "     'project_path':'Head_orientation-NK-2023-07-17' # relative to dlc_root in dj.config\n",
    "    }\n",
    "train.TrainingTask.insert1(key, skip_duplicates=True)\n",
    "train.TrainingTask()"
   ]
  },
  {
   "cell_type": "code",
   "execution_count": null,
   "id": "168d4f53",
   "metadata": {},
   "outputs": [],
   "source": [
    "(train.TrainingParamSet & \"paramset_idx=1\").fetch(\"params\")"
   ]
  },
  {
   "cell_type": "code",
   "execution_count": null,
   "id": "1b15fb3c",
   "metadata": {},
   "outputs": [],
   "source": [
    "# (train.TrainingTask() & (\"video_set_id = 1\")).delete()\n",
    "train.TrainingTask()"
   ]
  },
  {
   "cell_type": "code",
   "execution_count": null,
   "id": "2a493f78-6a1d-4c5e-8606-7c01c68f7c66",
   "metadata": {
    "tags": []
   },
   "outputs": [],
   "source": [
    "train.ModelTraining.populate()"
   ]
  },
  {
   "cell_type": "markdown",
   "id": "4b8e3299-63b9-49cc-a010-04d81ba552fd",
   "metadata": {},
   "source": [
    "To start training from a previous instance, one would need to \n",
    "[edit the relevant config file](https://github.com/DeepLabCut/DeepLabCut/issues/70) and\n",
    "adjust the `maxiters` paramset (if present) to a higher threshold (e.g., 10 for 5 more itterations).\n",
    "Emperical work from the Mathis team suggests 200k iterations for any true use-case."
   ]
  },
  {
   "cell_type": "markdown",
   "id": "0f3fb14a-64a2-4bfa-9e03-0ee4e87af98e",
   "metadata": {},
   "source": [
    "## Tracking Joints/Body Parts"
   ]
  },
  {
   "cell_type": "markdown",
   "id": "b7b6a7ad-f99d-463f-82e5-901e498236b8",
   "metadata": {},
   "source": [
    "The `model` schema uses a lookup table for managing Body Parts tracked across models."
   ]
  },
  {
   "cell_type": "code",
   "execution_count": null,
   "id": "373df83b",
   "metadata": {},
   "outputs": [],
   "source": [
    "model.Model()"
   ]
  },
  {
   "cell_type": "code",
   "execution_count": null,
   "id": "70dbfc1a-cbad-43c1-9051-776a6dcc0c13",
   "metadata": {},
   "outputs": [],
   "source": [
    "model.BodyPart()"
   ]
  },
  {
   "cell_type": "markdown",
   "id": "fc134ae7-62b8-4013-a538-1f47070e430b",
   "metadata": {},
   "source": [
    "This table is equipped with two helper functions. First, we can identify all the new body parts from a given config file."
   ]
  },
  {
   "cell_type": "code",
   "execution_count": null,
   "id": "7f21c637-2554-4b6e-9a9a-e07d3cb5edae",
   "metadata": {},
   "outputs": [],
   "source": [
    "from adamacs.paths import get_dlc_root_data_dir\n",
    "config_path = find_full_path(get_dlc_root_data_dir()[1], \n",
    "                             paramset_desc + '/config.yaml')\n",
    "model.BodyPart.extract_new_body_parts(config_path)"
   ]
  },
  {
   "cell_type": "markdown",
   "id": "f354da25-1f3e-4220-aa8b-943f6260b88c",
   "metadata": {},
   "source": [
    "Now, we can make a list of descriptions in the same order, and insert them into the table"
   ]
  },
  {
   "cell_type": "code",
   "execution_count": null,
   "id": "77afed93",
   "metadata": {},
   "outputs": [],
   "source": [
    "model.BodyPart()"
   ]
  },
  {
   "cell_type": "code",
   "execution_count": null,
   "id": "14c69d60-c198-468e-a67c-b2ff77667bbb",
   "metadata": {},
   "outputs": [],
   "source": [
    "# Will be inserted with model insertion\n",
    "# bp_desc=['Body Center', 'Head', 'Base of Tail']\n",
    "# model.BodyPart.insert_from_config(config_path,bp_desc)"
   ]
  },
  {
   "cell_type": "markdown",
   "id": "d81f0302-b652-4b5d-8983-001484ef83e0",
   "metadata": {},
   "source": [
    "If we skip this step, body parts (without descriptions) will be added when we insert a model. We can [update](https://docs.datajoint.org/python/v0.13/manipulation/3-Cautious-Update.html) empty descriptions at any time."
   ]
  },
  {
   "cell_type": "markdown",
   "id": "e5643f65-19ac-4ba4-a475-21e3d7bf6e54",
   "metadata": {},
   "source": [
    "## Declaring a Model"
   ]
  },
  {
   "cell_type": "markdown",
   "id": "20dcf5df-79b3-4a0e-bc6b-5114b44b61a3",
   "metadata": {},
   "source": [
    "If training appears successful, the result can be inserted into the `Model` table for automatic evaluation."
   ]
  },
  {
   "cell_type": "code",
   "execution_count": 4,
   "metadata": {},
   "outputs": [],
   "source": [
    "from element_interface.utils import find_full_path\n",
    "from adamacs.paths import get_dlc_root_data_dir\n",
    "import yaml"
   ]
  },
  {
   "cell_type": "markdown",
   "metadata": {},
   "source": [
    "\n",
    "### models need corresponding entries in train.TrainingParamSet - even if not trained in datajoint!"
   ]
  },
  {
   "cell_type": "code",
   "execution_count": 5,
   "metadata": {},
   "outputs": [
    {
     "data": {
      "text/html": [
       "\n",
       "    \n",
       "    <style type=\"text/css\">\n",
       "        .Table{\n",
       "            border-collapse:collapse;\n",
       "        }\n",
       "        .Table th{\n",
       "            background: #A0A0A0; color: #ffffff; padding:4px; border:#f0e0e0 1px solid;\n",
       "            font-weight: normal; font-family: monospace; font-size: 100%;\n",
       "        }\n",
       "        .Table td{\n",
       "            padding:4px; border:#f0e0e0 1px solid; font-size:100%;\n",
       "        }\n",
       "        .Table tr:nth-child(odd){\n",
       "            background: #ffffff;\n",
       "            color: #000000;\n",
       "        }\n",
       "        .Table tr:nth-child(even){\n",
       "            background: #f3f1ff;\n",
       "            color: #000000;\n",
       "        }\n",
       "        /* Tooltip container */\n",
       "        .djtooltip {\n",
       "        }\n",
       "        /* Tooltip text */\n",
       "        .djtooltip .djtooltiptext {\n",
       "            visibility: hidden;\n",
       "            width: 120px;\n",
       "            background-color: black;\n",
       "            color: #fff;\n",
       "            text-align: center;\n",
       "            padding: 5px 0;\n",
       "            border-radius: 6px;\n",
       "            /* Position the tooltip text - see examples below! */\n",
       "            position: absolute;\n",
       "            z-index: 1;\n",
       "        }\n",
       "        #primary {\n",
       "            font-weight: bold;\n",
       "            color: black;\n",
       "        }\n",
       "        #nonprimary {\n",
       "            font-weight: normal;\n",
       "            color: white;\n",
       "        }\n",
       "\n",
       "        /* Show the tooltip text when you mouse over the tooltip container */\n",
       "        .djtooltip:hover .djtooltiptext {\n",
       "            visibility: visible;\n",
       "        }\n",
       "    </style>\n",
       "    \n",
       "    <b>Parameters to specify a DLC model training instance</b>\n",
       "        <div style=\"max-height:1000px;max-width:1500px;overflow:auto;\">\n",
       "        <table border=\"1\" class=\"Table\">\n",
       "            <thead> <tr style=\"text-align: right;\"> <th> <div class=\"djtooltip\">\n",
       "                            <p id=\"primary\">paramset_idx</p>\n",
       "                            <span class=\"djtooltiptext\"></span>\n",
       "                        </div></th><th><div class=\"djtooltip\">\n",
       "                            <p id=\"nonprimary\">paramset_desc</p>\n",
       "                            <span class=\"djtooltiptext\"></span>\n",
       "                        </div></th><th><div class=\"djtooltip\">\n",
       "                            <p id=\"nonprimary\">param_set_hash</p>\n",
       "                            <span class=\"djtooltiptext\">hash identifying this parameterset</span>\n",
       "                        </div></th><th><div class=\"djtooltip\">\n",
       "                            <p id=\"nonprimary\">params</p>\n",
       "                            <span class=\"djtooltiptext\">dictionary of all applicable parameters</span>\n",
       "                        </div> </th> </tr> </thead>\n",
       "            <tbody> <tr> <td>0</td>\n",
       "<td>from_top_tracking-DJ-2022-02-23</td>\n",
       "<td>d5736a15-23a7-5469-c521-6929b5f1d1b7</td>\n",
       "<td>=BLOB=</td></tr><tr><td>1</td>\n",
       "<td>Head_orientation-NK-2023-07-17</td>\n",
       "<td>c6ec66ba-91f0-b916-fcbd-6dcf9f5adc23</td>\n",
       "<td>=BLOB=</td></tr><tr><td>2</td>\n",
       "<td>Topcam_2bin_wtscope-NK-2023-09-11</td>\n",
       "<td>68b7d500-347d-c656-1537-1dec4146e42e</td>\n",
       "<td>=BLOB=</td></tr><tr><td>3</td>\n",
       "<td>Topcam_2bin_withscope-NK-2023-08-31</td>\n",
       "<td>80ea37ae-20e0-dfd1-80ec-61253c33702e</td>\n",
       "<td>=BLOB=</td> </tr> </tbody>\n",
       "        </table>\n",
       "        \n",
       "        <p>Total: 4</p></div>\n",
       "        "
      ],
      "text/plain": [
       "*paramset_idx  paramset_desc  param_set_hash params    \n",
       "+------------+ +------------+ +------------+ +--------+\n",
       "0              from_top_track d5736a15-23a7- =BLOB=    \n",
       "1              Head_orientati c6ec66ba-91f0- =BLOB=    \n",
       "2              Topcam_2bin_wt 68b7d500-347d- =BLOB=    \n",
       "3              Topcam_2bin_wi 80ea37ae-20e0- =BLOB=    \n",
       " (Total: 4)"
      ]
     },
     "execution_count": 5,
     "metadata": {},
     "output_type": "execute_result"
    }
   ],
   "source": [
    "train.TrainingParamSet()"
   ]
  },
  {
   "cell_type": "code",
   "execution_count": null,
   "metadata": {},
   "outputs": [],
   "source": [
    "paramset_idx = 2; paramset_desc='Topcam_2bin_wtscope-NK-2023-09-11'\n",
    "\n",
    "config_path = find_full_path(get_dlc_root_data_dir()[1], \n",
    "                             paramset_desc + '/config.yaml')\n",
    "\n",
    "with open(config_path, 'rb') as y:\n",
    "    config_params = yaml.safe_load(y)\n",
    "training_params = {'shuffle': '1',\n",
    "                   'trainingsetindex': '0',\n",
    "                   'maxiters': '5',\n",
    "                   'scorer_legacy': 'False',\n",
    "                   'maxiters': '5', \n",
    "                   'multianimalproject':'False'}\n",
    "config_params.update(training_params)\n",
    "train.TrainingParamSet.insert_new_params(paramset_idx=paramset_idx,\n",
    "                                         paramset_desc=paramset_desc,\n",
    "                                         params=config_params)"
   ]
  },
  {
   "cell_type": "code",
   "execution_count": 6,
   "metadata": {},
   "outputs": [],
   "source": [
    "paramset_idx = 3; paramset_desc='Topcam_2bin_withscope-NK-2023-08-31'\n",
    "\n",
    "config_path = find_full_path(get_dlc_root_data_dir()[1], \n",
    "                             paramset_desc + '/config.yaml')\n",
    "\n",
    "with open(config_path, 'rb') as y:\n",
    "    config_params = yaml.safe_load(y)\n",
    "training_params = {'shuffle': '1',\n",
    "                   'trainingsetindex': '0',\n",
    "                   'maxiters': '5',\n",
    "                   'scorer_legacy': 'False',\n",
    "                   'maxiters': '5', \n",
    "                   'multianimalproject':'False'}\n",
    "config_params.update(training_params)\n",
    "train.TrainingParamSet.insert_new_params(paramset_idx=paramset_idx,\n",
    "                                         paramset_desc=paramset_desc,\n",
    "                                         params=config_params)"
   ]
  },
  {
   "cell_type": "code",
   "execution_count": 10,
   "metadata": {},
   "outputs": [
    {
     "data": {
      "text/html": [
       "\n",
       "    \n",
       "    <style type=\"text/css\">\n",
       "        .Table{\n",
       "            border-collapse:collapse;\n",
       "        }\n",
       "        .Table th{\n",
       "            background: #A0A0A0; color: #ffffff; padding:4px; border:#f0e0e0 1px solid;\n",
       "            font-weight: normal; font-family: monospace; font-size: 100%;\n",
       "        }\n",
       "        .Table td{\n",
       "            padding:4px; border:#f0e0e0 1px solid; font-size:100%;\n",
       "        }\n",
       "        .Table tr:nth-child(odd){\n",
       "            background: #ffffff;\n",
       "            color: #000000;\n",
       "        }\n",
       "        .Table tr:nth-child(even){\n",
       "            background: #f3f1ff;\n",
       "            color: #000000;\n",
       "        }\n",
       "        /* Tooltip container */\n",
       "        .djtooltip {\n",
       "        }\n",
       "        /* Tooltip text */\n",
       "        .djtooltip .djtooltiptext {\n",
       "            visibility: hidden;\n",
       "            width: 120px;\n",
       "            background-color: black;\n",
       "            color: #fff;\n",
       "            text-align: center;\n",
       "            padding: 5px 0;\n",
       "            border-radius: 6px;\n",
       "            /* Position the tooltip text - see examples below! */\n",
       "            position: absolute;\n",
       "            z-index: 1;\n",
       "        }\n",
       "        #primary {\n",
       "            font-weight: bold;\n",
       "            color: black;\n",
       "        }\n",
       "        #nonprimary {\n",
       "            font-weight: normal;\n",
       "            color: white;\n",
       "        }\n",
       "\n",
       "        /* Show the tooltip text when you mouse over the tooltip container */\n",
       "        .djtooltip:hover .djtooltiptext {\n",
       "            visibility: visible;\n",
       "        }\n",
       "    </style>\n",
       "    \n",
       "    <b></b>\n",
       "        <div style=\"max-height:1000px;max-width:1500px;overflow:auto;\">\n",
       "        <table border=\"1\" class=\"Table\">\n",
       "            <thead> <tr style=\"text-align: right;\"> <th> <div class=\"djtooltip\">\n",
       "                            <p id=\"primary\">model_name</p>\n",
       "                            <span class=\"djtooltiptext\">User-friendly model name</span>\n",
       "                        </div></th><th><div class=\"djtooltip\">\n",
       "                            <p id=\"nonprimary\">task</p>\n",
       "                            <span class=\"djtooltiptext\">Task in the config yaml</span>\n",
       "                        </div></th><th><div class=\"djtooltip\">\n",
       "                            <p id=\"nonprimary\">date</p>\n",
       "                            <span class=\"djtooltiptext\">Date in the config yaml</span>\n",
       "                        </div></th><th><div class=\"djtooltip\">\n",
       "                            <p id=\"nonprimary\">iteration</p>\n",
       "                            <span class=\"djtooltiptext\">Iteration/version of this model</span>\n",
       "                        </div></th><th><div class=\"djtooltip\">\n",
       "                            <p id=\"nonprimary\">snapshotindex</p>\n",
       "                            <span class=\"djtooltiptext\">which snapshot for prediction (if -1, latest)</span>\n",
       "                        </div></th><th><div class=\"djtooltip\">\n",
       "                            <p id=\"nonprimary\">shuffle</p>\n",
       "                            <span class=\"djtooltiptext\">Shuffle (1) or not (0)</span>\n",
       "                        </div></th><th><div class=\"djtooltip\">\n",
       "                            <p id=\"nonprimary\">trainingsetindex</p>\n",
       "                            <span class=\"djtooltiptext\">Index of training fraction list in config.yaml</span>\n",
       "                        </div></th><th><div class=\"djtooltip\">\n",
       "                            <p id=\"nonprimary\">scorer</p>\n",
       "                            <span class=\"djtooltiptext\">Scorer/network name - DLC's GetScorerName()</span>\n",
       "                        </div></th><th><div class=\"djtooltip\">\n",
       "                            <p id=\"nonprimary\">config_template</p>\n",
       "                            <span class=\"djtooltiptext\">Dictionary of the config for analyze_videos()</span>\n",
       "                        </div></th><th><div class=\"djtooltip\">\n",
       "                            <p id=\"nonprimary\">project_path</p>\n",
       "                            <span class=\"djtooltiptext\">DLC's project_path in config relative to root</span>\n",
       "                        </div></th><th><div class=\"djtooltip\">\n",
       "                            <p id=\"nonprimary\">model_prefix</p>\n",
       "                            <span class=\"djtooltiptext\"></span>\n",
       "                        </div></th><th><div class=\"djtooltip\">\n",
       "                            <p id=\"nonprimary\">model_description</p>\n",
       "                            <span class=\"djtooltiptext\"></span>\n",
       "                        </div></th><th><div class=\"djtooltip\">\n",
       "                            <p id=\"nonprimary\">paramset_idx</p>\n",
       "                            <span class=\"djtooltiptext\"></span>\n",
       "                        </div> </th> </tr> </thead>\n",
       "            <tbody> <tr> <td>Head_orientation-NK</td>\n",
       "<td>Head_orientation</td>\n",
       "<td>Jul17</td>\n",
       "<td>0</td>\n",
       "<td>3</td>\n",
       "<td>1</td>\n",
       "<td>0</td>\n",
       "<td>DLC_resnet50_Head_orientationJul17shuffle1_90000</td>\n",
       "<td>=BLOB=</td>\n",
       "<td>Head_orientation-NK-2023-07-17</td>\n",
       "<td></td>\n",
       "<td>From Top, trained 5 iterations</td>\n",
       "<td>1</td></tr><tr><td>Topcam_2bin_with_scope</td>\n",
       "<td>Topcam_2bin_withscope</td>\n",
       "<td>Aug31</td>\n",
       "<td>0</td>\n",
       "<td>2</td>\n",
       "<td>1</td>\n",
       "<td>0</td>\n",
       "<td>DLC_resnet50_Topcam_2bin_withscopeAug31shuffle1_120000</td>\n",
       "<td>=BLOB=</td>\n",
       "<td>Topcam_2bin_withscope-NK-2023-08-31</td>\n",
       "<td></td>\n",
       "<td>From Top, trained 5 iterations</td>\n",
       "<td>3</td></tr><tr><td>Topcam_2bin_wtscope-NK-2023-09-11</td>\n",
       "<td>Topcam_2bin_wtscope</td>\n",
       "<td>Sep11</td>\n",
       "<td>0</td>\n",
       "<td>-3</td>\n",
       "<td>1</td>\n",
       "<td>0</td>\n",
       "<td>DLC_resnet50_Topcam_2bin_wtscopeSep11shuffle1_130000</td>\n",
       "<td>=BLOB=</td>\n",
       "<td>Topcam_2bin_wtscope-NK-2023-09-11</td>\n",
       "<td></td>\n",
       "<td>From Top, mouse without anything</td>\n",
       "<td>1</td> </tr> </tbody>\n",
       "        </table>\n",
       "        \n",
       "        <p>Total: 3</p></div>\n",
       "        "
      ],
      "text/plain": [
       "*model_name    task           date      iteration     snapshotindex  shuffle     trainingsetind scorer         config_tem project_path   model_prefix   model_descript paramset_idx  \n",
       "+------------+ +------------+ +-------+ +-----------+ +------------+ +---------+ +------------+ +------------+ +--------+ +------------+ +------------+ +------------+ +------------+\n",
       "Head_orientati Head_orientati Jul17     0             3              1           0              DLC_resnet50_H =BLOB=     Head_orientati                From Top, trai 1             \n",
       "Topcam_2bin_wi Topcam_2bin_wi Aug31     0             2              1           0              DLC_resnet50_T =BLOB=     Topcam_2bin_wi                From Top, trai 3             \n",
       "Topcam_2bin_wt Topcam_2bin_wt Sep11     0             -3             1           0              DLC_resnet50_T =BLOB=     Topcam_2bin_wt                From Top, mous 1             \n",
       " (Total: 3)"
      ]
     },
     "execution_count": 10,
     "metadata": {},
     "output_type": "execute_result"
    }
   ],
   "source": [
    "model.Model()"
   ]
  },
  {
   "cell_type": "code",
   "execution_count": null,
   "id": "dfd2cf75",
   "metadata": {},
   "outputs": [],
   "source": [
    "# paramset_desc='from_top_tracking-DJ-2022-02-23'\n",
    "paramset_desc='Topcam_2bin_wtscope-NK-2023-09-11'\n",
    "\n",
    "config_path = find_full_path(get_dlc_root_data_dir()[1], \n",
    "                             paramset_desc + '/config.yaml')"
   ]
  },
  {
   "cell_type": "code",
   "execution_count": null,
   "metadata": {},
   "outputs": [],
   "source": [
    "model.Model.insert_new_model(model_name='Topcam_2bin_without_scope',dlc_config=config_path,\n",
    "                             shuffle=1,trainingsetindex=0,\n",
    "                             model_description='From Top, trained 5 iterations',\n",
    "                             paramset_idx=2)"
   ]
  },
  {
   "cell_type": "code",
   "execution_count": null,
   "metadata": {},
   "outputs": [],
   "source": [
    "# (model.Model & \"model_name LIKE 'from_top_tracking-DJ%'\").delete()"
   ]
  },
  {
   "cell_type": "code",
   "execution_count": 8,
   "metadata": {},
   "outputs": [],
   "source": [
    "# paramset_desc='from_top_tracking-DJ-2022-02-23'\n",
    "paramset_desc='Topcam_2bin_withscope-NK-2023-08-31'\n",
    "\n",
    "config_path = find_full_path(get_dlc_root_data_dir()[1], \n",
    "                             paramset_desc + '/config.yaml')"
   ]
  },
  {
   "cell_type": "code",
   "execution_count": 9,
   "metadata": {},
   "outputs": [
    {
     "name": "stderr",
     "output_type": "stream",
     "text": [
      "2023-11-15 09:37:05.231535: I tensorflow/core/platform/cpu_feature_guard.cc:193] This TensorFlow binary is optimized with oneAPI Deep Neural Network Library (oneDNN) to use the following CPU instructions in performance-critical operations:  AVX2 FMA\n",
      "To enable them in other operations, rebuild TensorFlow with the appropriate compiler flags.\n",
      "2023-11-15 09:37:05.361663: W tensorflow/stream_executor/platform/default/dso_loader.cc:64] Could not load dynamic library 'libcudart.so.11.0'; dlerror: libcudart.so.11.0: cannot open shared object file: No such file or directory; LD_LIBRARY_PATH: /home/tobiasr/.local/lib/python3.8/site-packages/cv2/../../lib64:\n",
      "2023-11-15 09:37:05.361687: I tensorflow/stream_executor/cuda/cudart_stub.cc:29] Ignore above cudart dlerror if you do not have a GPU set up on your machine.\n",
      "2023-11-15 09:37:05.394307: E tensorflow/stream_executor/cuda/cuda_blas.cc:2981] Unable to register cuBLAS factory: Attempting to register factory for plugin cuBLAS when one has already been registered\n",
      "2023-11-15 09:37:05.954823: W tensorflow/stream_executor/platform/default/dso_loader.cc:64] Could not load dynamic library 'libnvinfer.so.7'; dlerror: libnvinfer.so.7: cannot open shared object file: No such file or directory; LD_LIBRARY_PATH: /home/tobiasr/.local/lib/python3.8/site-packages/cv2/../../lib64:\n",
      "2023-11-15 09:37:05.954887: W tensorflow/stream_executor/platform/default/dso_loader.cc:64] Could not load dynamic library 'libnvinfer_plugin.so.7'; dlerror: libnvinfer_plugin.so.7: cannot open shared object file: No such file or directory; LD_LIBRARY_PATH: /home/tobiasr/.local/lib/python3.8/site-packages/cv2/../../lib64:\n",
      "2023-11-15 09:37:05.954893: W tensorflow/compiler/tf2tensorrt/utils/py_utils.cc:38] TF-TRT Warning: Cannot dlopen some TensorRT libraries. If you would like to use Nvidia GPU with TensorRT, please make sure the missing libraries mentioned above are installed properly.\n"
     ]
    },
    {
     "name": "stdout",
     "output_type": "stream",
     "text": [
      "Loading DLC 2.3.5...\n",
      "DLC loaded in light mode; you cannot use any GUI (labeling, relabeling and standalone GUI)\n",
      "--- DLC Model specification to be inserted ---\n",
      "\tmodel_name: Topcam_2bin_with_scope\n",
      "\tmodel_description: From Top, trained 5 iterations\n",
      "\tscorer: DLC_resnet50_Topcam_2bin_withscopeAug31shuffle1_120000\n",
      "\ttask: Topcam_2bin_withscope\n",
      "\tdate: Aug31\n",
      "\titeration: 0\n",
      "\tsnapshotindex: 2\n",
      "\tshuffle: 1\n",
      "\ttrainingsetindex: 0\n",
      "\tproject_path: Topcam_2bin_withscope-NK-2023-08-31\n",
      "\tparamset_idx: 3\n",
      "\t-- Template/Contents of config.yaml --\n",
      "\t\tTask: Topcam_2bin_withscope\n",
      "\t\tscorer: NK\n",
      "\t\tdate: Aug31\n",
      "\t\tmultianimalproject: False\n",
      "\t\tidentity: None\n",
      "\t\tproject_path: /datajoint-data/models/tobiasr/NK_DLC_tracking/Topcam_2bin_withscope-NK-2023-08-31\n",
      "\t\tvideo_sets: {'C:\\\\Git\\\\DeepLabCut\\\\Projects\\\\Topcam_2bin_withscope-NK-2023-08-31\\\\videos\\\\scan9FJULCHA_top_video_2023-08-31T10_48_24.mp4': {'crop': '0, 500, 0, 500'}, 'C:\\\\Git\\\\DeepLabCut\\\\Projects\\\\Topcam_2bin_withscope-NK-2023-08-31\\\\videos\\\\scan9FJULGKW_top_video_2023-08-31T10_55_51.mp4': {'crop': '0, 500, 0, 500'}, 'C:\\\\Git\\\\DeepLabCut\\\\Projects\\\\Topcam_2bin_withscope-NK-2023-08-31\\\\videos\\\\scan9FJZI3SN_top_video_2023-09-08T16_43_30.mp4': {'crop': '0, 500, 0, 500'}}\n",
      "\t\tbodyparts: ['left_ear', 'right_ear', 'nose', 'head_middle', 'neck', 'body_middle', 'tail']\n",
      "\t\tstart: 0\n",
      "\t\tstop: 1\n",
      "\t\tnumframes2pick: 50\n",
      "\t\tskeleton: [['left_ear', 'right_ear'], ['neck', 'head_middle'], ['left_ear', 'nose'], ['right_ear', 'nose'], ['left_ear', 'neck'], ['right_ear', 'neck'], ['neck', 'body_middle'], ['body_middle', 'tail'], ['head_middle', 'nose'], ['left_ear', 'head_middle'], ['right_ear', 'head_middle']]\n",
      "\t\tskeleton_color: white\n",
      "\t\tpcutoff: 0.6\n",
      "\t\tdotsize: 2\n",
      "\t\talphavalue: 0.7\n",
      "\t\tcolormap: rainbow\n",
      "\t\tTrainingFraction: [0.95]\n",
      "\t\titeration: 0\n",
      "\t\tdefault_net_type: resnet_50\n",
      "\t\tdefault_augmenter: default\n",
      "\t\tsnapshotindex: 2\n",
      "\t\tbatch_size: 8\n",
      "\t\tcropping: False\n",
      "\t\tx1: 0\n",
      "\t\tx2: 640\n",
      "\t\ty1: 277\n",
      "\t\ty2: 624\n",
      "\t\tcorner2move2: [50, 50]\n",
      "\t\tmove2corner: True\n"
     ]
    }
   ],
   "source": [
    "model.Model.insert_new_model(model_name='Topcam_2bin_with_scope',dlc_config=config_path,\n",
    "                             shuffle=1,trainingsetindex=0,\n",
    "                             model_description='From Top, trained 5 iterations',\n",
    "                             paramset_idx=3)"
   ]
  },
  {
   "cell_type": "code",
   "execution_count": null,
   "id": "ca8b2596",
   "metadata": {},
   "outputs": [],
   "source": [
    "paramset_desc='Head_orientation-NK-2023-07-17'\n",
    "# paramset_desc='Topcam_2bin_wtscope-NK-2023-09-11'\n",
    "\n",
    "config_path = find_full_path(get_dlc_root_data_dir()[1], \n",
    "                             paramset_desc + '/config.yaml')"
   ]
  },
  {
   "cell_type": "code",
   "execution_count": null,
   "id": "1f778cb9",
   "metadata": {},
   "outputs": [],
   "source": [
    "config_path"
   ]
  },
  {
   "cell_type": "code",
   "execution_count": null,
   "id": "9762e61c-0b14-4928-b7ac-3e73bab3f201",
   "metadata": {},
   "outputs": [],
   "source": [
    "model.Model.insert_new_model(model_name=paramset_desc,dlc_config=config_path,\n",
    "                             shuffle=1,trainingsetindex=0,\n",
    "                             model_description='From Top, mouse without anything',\n",
    "                             paramset_idx=1)"
   ]
  },
  {
   "cell_type": "code",
   "execution_count": null,
   "id": "8ee99aec",
   "metadata": {},
   "outputs": [],
   "source": [
    "model.VideoRecording()"
   ]
  },
  {
   "cell_type": "code",
   "execution_count": null,
   "id": "cd143378",
   "metadata": {},
   "outputs": [],
   "source": [
    "model.VideoRecording * model.VideoRecording.File() * session.SessionUser * subject.User() * session.Session() * scan.ScanInfo * scan.ScanInfo.Field()"
   ]
  },
  {
   "cell_type": "code",
   "execution_count": null,
   "id": "ae2fb0d9-df98-4e10-ae06-c0d8c33bf67b",
   "metadata": {},
   "outputs": [],
   "source": [
    "model.Model().fetch(\"config_template\")"
   ]
  },
  {
   "cell_type": "code",
   "execution_count": null,
   "metadata": {},
   "outputs": [],
   "source": [
    "model.Model()"
   ]
  },
  {
   "cell_type": "code",
   "execution_count": null,
   "id": "862fdc0f-61a7-4955-8019-78b014ad527e",
   "metadata": {},
   "outputs": [],
   "source": [
    "model.Model.BodyPart()"
   ]
  },
  {
   "cell_type": "markdown",
   "id": "f71c877f-4f1d-40f7-a898-b3bcf695e603",
   "metadata": {},
   "source": [
    "## Model Evaluation"
   ]
  },
  {
   "cell_type": "markdown",
   "id": "0657e7b6-3969-4d16-b801-e05d222285d4",
   "metadata": {},
   "source": [
    "Next, all inserted models can be evaluated with a similar `populate` method, which will\n",
    "insert the relevant output from DLC's `evaluate_network` function."
   ]
  },
  {
   "cell_type": "code",
   "execution_count": 11,
   "id": "2eb626c5-f1ed-4a86-a300-ddd8066e1ac5",
   "metadata": {},
   "outputs": [
    {
     "data": {
      "text/plain": [
       "model_name           : varchar(64)                  # User-friendly model name\n",
       "---\n",
       "train_iterations     : int                          # Training iterations\n",
       "train_error=null     : float                        # Train error (px)\n",
       "test_error=null      : float                        # Test error (px)\n",
       "p_cutoff=null        : float                        # p-cutoff used\n",
       "train_error_p=null   : float                        # Train error with p-cutoff\n",
       "test_error_p=null    : float                        # Test error with p-cutoff"
      ]
     },
     "execution_count": 11,
     "metadata": {},
     "output_type": "execute_result"
    }
   ],
   "source": [
    "model.ModelEvaluation.heading"
   ]
  },
  {
   "cell_type": "code",
   "execution_count": 12,
   "id": "baba5035",
   "metadata": {},
   "outputs": [
    {
     "name": "stdout",
     "output_type": "stream",
     "text": [
      "Running  DLC_resnet50_Topcam_2bin_wtscopeSep11shuffle1_130000  with # of training iterations: 130000\n",
      "This net has already been evaluated!\n",
      "Running  DLC_resnet50_Topcam_2bin_withscopeAug31shuffle1_120000  with # of training iterations: 120000\n",
      "This net has already been evaluated!\n"
     ]
    }
   ],
   "source": [
    "model.ModelEvaluation.populate()"
   ]
  },
  {
   "cell_type": "markdown",
   "id": "1f77889f-efc6-41ed-9ae5-b5089bd2b6ef",
   "metadata": {},
   "source": [
    "If your project was initialized in a version of DeepLabCut other than the one you're currently using, model evaluation may report key errors. Specifically, your `config.yaml` may not specify `multianimalproject: false`."
   ]
  },
  {
   "cell_type": "code",
   "execution_count": null,
   "id": "8d52b8a7-e677-4f00-a720-2aed7a266fb3",
   "metadata": {},
   "outputs": [],
   "source": [
    "model.ModelEvaluation()"
   ]
  },
  {
   "cell_type": "code",
   "execution_count": 13,
   "id": "4b1487ad",
   "metadata": {},
   "outputs": [
    {
     "data": {
      "text/html": [
       "\n",
       "    \n",
       "    <style type=\"text/css\">\n",
       "        .Table{\n",
       "            border-collapse:collapse;\n",
       "        }\n",
       "        .Table th{\n",
       "            background: #A0A0A0; color: #ffffff; padding:4px; border:#f0e0e0 1px solid;\n",
       "            font-weight: normal; font-family: monospace; font-size: 100%;\n",
       "        }\n",
       "        .Table td{\n",
       "            padding:4px; border:#f0e0e0 1px solid; font-size:100%;\n",
       "        }\n",
       "        .Table tr:nth-child(odd){\n",
       "            background: #ffffff;\n",
       "            color: #000000;\n",
       "        }\n",
       "        .Table tr:nth-child(even){\n",
       "            background: #f3f1ff;\n",
       "            color: #000000;\n",
       "        }\n",
       "        /* Tooltip container */\n",
       "        .djtooltip {\n",
       "        }\n",
       "        /* Tooltip text */\n",
       "        .djtooltip .djtooltiptext {\n",
       "            visibility: hidden;\n",
       "            width: 120px;\n",
       "            background-color: black;\n",
       "            color: #fff;\n",
       "            text-align: center;\n",
       "            padding: 5px 0;\n",
       "            border-radius: 6px;\n",
       "            /* Position the tooltip text - see examples below! */\n",
       "            position: absolute;\n",
       "            z-index: 1;\n",
       "        }\n",
       "        #primary {\n",
       "            font-weight: bold;\n",
       "            color: black;\n",
       "        }\n",
       "        #nonprimary {\n",
       "            font-weight: normal;\n",
       "            color: white;\n",
       "        }\n",
       "\n",
       "        /* Show the tooltip text when you mouse over the tooltip container */\n",
       "        .djtooltip:hover .djtooltiptext {\n",
       "            visibility: visible;\n",
       "        }\n",
       "    </style>\n",
       "    \n",
       "    \n",
       "        <div style=\"max-height:1000px;max-width:1500px;overflow:auto;\">\n",
       "        <table border=\"1\" class=\"Table\">\n",
       "            <thead> <tr style=\"text-align: right;\"> <th> <div class=\"djtooltip\">\n",
       "                            <p id=\"primary\">session_id</p>\n",
       "                            <span class=\"djtooltiptext\"></span>\n",
       "                        </div></th><th><div class=\"djtooltip\">\n",
       "                            <p id=\"primary\">recording_id</p>\n",
       "                            <span class=\"djtooltiptext\"></span>\n",
       "                        </div></th><th><div class=\"djtooltip\">\n",
       "                            <p id=\"primary\">file_id</p>\n",
       "                            <span class=\"djtooltiptext\"></span>\n",
       "                        </div></th><th><div class=\"djtooltip\">\n",
       "                            <p id=\"nonprimary\">px_height</p>\n",
       "                            <span class=\"djtooltiptext\">height in pixels</span>\n",
       "                        </div></th><th><div class=\"djtooltip\">\n",
       "                            <p id=\"nonprimary\">px_width</p>\n",
       "                            <span class=\"djtooltiptext\">width in pixels</span>\n",
       "                        </div></th><th><div class=\"djtooltip\">\n",
       "                            <p id=\"nonprimary\">nframes</p>\n",
       "                            <span class=\"djtooltiptext\">number of frames</span>\n",
       "                        </div></th><th><div class=\"djtooltip\">\n",
       "                            <p id=\"nonprimary\">fps</p>\n",
       "                            <span class=\"djtooltiptext\">(Hz) frames per second</span>\n",
       "                        </div></th><th><div class=\"djtooltip\">\n",
       "                            <p id=\"nonprimary\">recording_datetime</p>\n",
       "                            <span class=\"djtooltiptext\">Datetime for the start of the recording</span>\n",
       "                        </div></th><th><div class=\"djtooltip\">\n",
       "                            <p id=\"nonprimary\">recording_duration</p>\n",
       "                            <span class=\"djtooltiptext\">video duration (s) from nframes / fps</span>\n",
       "                        </div></th><th><div class=\"djtooltip\">\n",
       "                            <p id=\"nonprimary\">file_path</p>\n",
       "                            <span class=\"djtooltiptext\">filepath of video, relative to root data directory</span>\n",
       "                        </div> </th> </tr> </thead>\n",
       "            <tbody> <tr>  </tr> </tbody>\n",
       "        </table>\n",
       "        \n",
       "        <p>Total: 0</p></div>\n",
       "        "
      ],
      "text/plain": [
       "*session_id    *recording_id  *file_id    px_height     px_width     nframes     fps     recording_date recording_dura file_path    \n",
       "+------------+ +------------+ +---------+ +-----------+ +----------+ +---------+ +-----+ +------------+ +------------+ +-----------+\n",
       "\n",
       " (Total: 0)"
      ]
     },
     "execution_count": 13,
     "metadata": {},
     "output_type": "execute_result"
    }
   ],
   "source": [
    "model.RecordingInfo.populate()\n",
    "model.RecordingInfo() * model.VideoRecording.File()"
   ]
  },
  {
   "cell_type": "markdown",
   "id": "ad698f22-4d16-413a-a30c-84e28e7ec1db",
   "metadata": {},
   "source": [
    "## Pose Estimation"
   ]
  },
  {
   "cell_type": "code",
   "execution_count": null,
   "metadata": {},
   "outputs": [],
   "source": [
    "model.VideoRecording.File()"
   ]
  },
  {
   "cell_type": "code",
   "execution_count": null,
   "id": "a51b8243-6ee2-44f5-a987-9abd10ce1b56",
   "metadata": {},
   "outputs": [],
   "source": [
    "scansi = \"scan9FB2LN5C\"\n",
    "scan_key = (model.VideoRecording.File & f'recording_id = \"{scansi}\"').fetch('KEY')[0] \n",
    "path = (model.VideoRecording.File & scan_key).fetch(\"file_path\")\n",
    "path"
   ]
  },
  {
   "cell_type": "code",
   "execution_count": null,
   "metadata": {},
   "outputs": [],
   "source": [
    "model.VideoRecording.File()"
   ]
  },
  {
   "cell_type": "markdown",
   "id": "e72c8868-3db0-4cda-98ab-96bbebc5bb0a",
   "metadata": {},
   "source": [
    "For demonstration purposes, we'll make a shorter video that will process relatively quickly `ffmpeg`, a DLC dependency ([more info here](https://github.com/datajoint/workflow-deeplabcut/blob/main/notebooks/00-DataDownload_Optional.ipynb))"
   ]
  },
  {
   "cell_type": "code",
   "execution_count": null,
   "id": "20b11cf1-2bbc-4bc6-bc87-ca77f01676eb",
   "metadata": {},
   "outputs": [],
   "source": [
    "from adamacs.paths import get_dlc_root_data_dir\n",
    "vid_path =  find_full_path(get_dlc_root_data_dir(), path[0][1::])\n",
    "print(vid_path)\n",
    "starttime = 0\n",
    "duration = 10\n",
    "cmd = (f'ffmpeg -n -hide_banner -loglevel error -ss {starttime} -t {duration} -i {vid_path} '\n",
    "       + f'-vcodec copy -acodec copy {vid_path}-copy.mp4')\n",
    "import os; os.system(cmd)"
   ]
  },
  {
   "cell_type": "markdown",
   "id": "fe97c0b2-28f3-44f7-b41c-114eb31e635b",
   "metadata": {},
   "source": [
    "Next, we need to specify if the `PoseEstimation` table should load results from an existing file or trigger the estimation command. Here, we can also specify parameters accepted by the `analyze_videos` function as a dictionary. `task_mode` determines if pose estimation results should be loaded or triggered (i.e., load vs. trigger)."
   ]
  },
  {
   "cell_type": "code",
   "execution_count": null,
   "id": "c8d23bcb-39e3-4fb0-a911-30e89adc8a91",
   "metadata": {},
   "outputs": [],
   "source": [
    "key = (model.VideoRecording & {'recording_id': 'scan9FKW82R3'}).fetch1('KEY')\n",
    "key.update({'model_name': 'Head_orientation-NK-2023-07-17', 'task_mode': 'trigger'})\n",
    "key\n",
    "\n"
   ]
  },
  {
   "cell_type": "markdown",
   "id": "40deac79-d482-4777-b501-261410332d65",
   "metadata": {},
   "source": [
    "The `PoseEstimationTask` table queues items for pose estimation. Additional parameters are passed to DLC's `analyze_videos` function."
   ]
  },
  {
   "cell_type": "code",
   "execution_count": null,
   "id": "3df55082",
   "metadata": {},
   "outputs": [],
   "source": [
    "model.PoseEstimationTask()"
   ]
  },
  {
   "cell_type": "code",
   "execution_count": null,
   "metadata": {},
   "outputs": [],
   "source": [
    "train.ModelTraining()"
   ]
  },
  {
   "cell_type": "code",
   "execution_count": null,
   "id": "ba216c1b-b608-4424-b7a1-f49795be0971",
   "metadata": {},
   "outputs": [],
   "source": [
    "# model.PoseEstimationTask.insert_estimation_task(key, key[\"model_name\"], analyze_videos_params={'save_as_csv':True})\n",
    "model.PoseEstimationTask.insert_estimation_task(key, key[\"model_name\"], analyze_videos_params={'save_as_csv':True, 'dynamic':(True,.5,100)}) # dynamic cropping"
   ]
  },
  {
   "cell_type": "code",
   "execution_count": null,
   "id": "005e9af9",
   "metadata": {},
   "outputs": [],
   "source": [
    "model.RecordingInfo.populate()\n",
    "model.RecordingInfo()"
   ]
  },
  {
   "cell_type": "code",
   "execution_count": null,
   "id": "7d1ad296-9ff5-4a2a-9ad0-8edc1ecb7ef3",
   "metadata": {},
   "outputs": [],
   "source": [
    "model.PoseEstimation.populate()"
   ]
  },
  {
   "cell_type": "code",
   "execution_count": null,
   "id": "568cc787-f65f-4c44-ba96-091905b89534",
   "metadata": {},
   "outputs": [],
   "source": [
    "model.PoseEstimationTask().delete()\n",
    "model.PoseEstimation().delete()"
   ]
  },
  {
   "cell_type": "markdown",
   "id": "ab605a2b",
   "metadata": {},
   "source": [
    "# Data Evaluation"
   ]
  },
  {
   "cell_type": "markdown",
   "id": "91a3626a-abc9-4c21-87a5-96dcca15bc2f",
   "metadata": {},
   "source": [
    "By default, DataJoint will store the results of pose estimation in a subdirectory\n",
    ">  processed_dir / videos / device_<#>_recording_<#>_model_<name>\n",
    "\n",
    "Pulling processed_dir from `get_dlc_processed_dir`, and device/recording information \n",
    "from the `VideoRecording` table. The model name is taken from the primary key of the\n",
    "`Model` table, with spaced replaced by hyphens.\n",
    "    \n",
    "We can get this estimation directly as a pandas dataframe."
   ]
  },
  {
   "cell_type": "code",
   "execution_count": 14,
   "id": "9f5902f1-0934-4abc-9ae3-e720729400c4",
   "metadata": {},
   "outputs": [
    {
     "data": {
      "text/html": [
       "<div>\n",
       "<style scoped>\n",
       "    .dataframe tbody tr th:only-of-type {\n",
       "        vertical-align: middle;\n",
       "    }\n",
       "\n",
       "    .dataframe tbody tr th {\n",
       "        vertical-align: top;\n",
       "    }\n",
       "\n",
       "    .dataframe thead th {\n",
       "        text-align: right;\n",
       "    }\n",
       "</style>\n",
       "<table border=\"1\" class=\"dataframe\">\n",
       "  <thead>\n",
       "    <tr style=\"text-align: right;\">\n",
       "      <th></th>\n",
       "      <th></th>\n",
       "      <th></th>\n",
       "      <th></th>\n",
       "      <th>pose_estimation_time</th>\n",
       "      <th>subject</th>\n",
       "      <th>session_datetime</th>\n",
       "      <th>name</th>\n",
       "      <th>shorthand</th>\n",
       "      <th>initials</th>\n",
       "      <th>email</th>\n",
       "      <th>lab</th>\n",
       "    </tr>\n",
       "    <tr>\n",
       "      <th>session_id</th>\n",
       "      <th>recording_id</th>\n",
       "      <th>model_name</th>\n",
       "      <th>user_id</th>\n",
       "      <th></th>\n",
       "      <th></th>\n",
       "      <th></th>\n",
       "      <th></th>\n",
       "      <th></th>\n",
       "      <th></th>\n",
       "      <th></th>\n",
       "      <th></th>\n",
       "    </tr>\n",
       "  </thead>\n",
       "  <tbody>\n",
       "  </tbody>\n",
       "</table>\n",
       "</div>"
      ],
      "text/plain": [
       "Empty DataFrame\n",
       "Columns: [pose_estimation_time, subject, session_datetime, name, shorthand, initials, email, lab]\n",
       "Index: []"
      ]
     },
     "execution_count": 14,
     "metadata": {},
     "output_type": "execute_result"
    }
   ],
   "source": [
    "(model.PoseEstimation() * session.Session * session.SessionUser * subject.User()).fetch(format = \"frame\", order_by = \"session_datetime\")"
   ]
  },
  {
   "cell_type": "code",
   "execution_count": null,
   "id": "91d1e570",
   "metadata": {},
   "outputs": [],
   "source": [
    "scansi = \"scan9FB2LN5C\"\n",
    "scan_key = (model.PoseEstimation & f'recording_id = \"{scansi}\"').fetch('KEY')[0] \n",
    "path = (model.VideoRecording.File & scan_key).fetch(\"file_path\")\n",
    "path"
   ]
  },
  {
   "cell_type": "code",
   "execution_count": null,
   "id": "e348ffcf-312d-4664-947c-7970a79a2f16",
   "metadata": {},
   "outputs": [],
   "source": [
    "imaging.Curation()"
   ]
  },
  {
   "cell_type": "code",
   "execution_count": null,
   "id": "55e195e7",
   "metadata": {},
   "outputs": [],
   "source": [
    "(model.PoseEstimation.BodyPartPosition() & scan_key & 'body_part = \"head_middle\"').fetch(\"x_pos\", \"y_pos\")"
   ]
  },
  {
   "cell_type": "code",
   "execution_count": null,
   "id": "45ae5b07",
   "metadata": {},
   "outputs": [],
   "source": [
    "#reduce dataframe to xy coordinates\n",
    "df=model.PoseEstimation.get_trajectory(scan_key)\n",
    "df_xy = df.iloc[:,df.columns.get_level_values(2).isin([\"x\",\"y\"])]['Head_orientation-NK-2023-07-17']\n",
    "# df_xy.mean()\n",
    "df_xy"
   ]
  },
  {
   "cell_type": "code",
   "execution_count": null,
   "id": "19fbbbd5",
   "metadata": {},
   "outputs": [],
   "source": [
    "df_xy.plot().legend(loc='right')"
   ]
  },
  {
   "cell_type": "code",
   "execution_count": null,
   "id": "5b090586",
   "metadata": {},
   "outputs": [],
   "source": [
    "df_flat = df_xy.copy()\n",
    "df_flat.columns = df_flat.columns.map('_'.join)"
   ]
  },
  {
   "cell_type": "code",
   "execution_count": null,
   "id": "76d432a7",
   "metadata": {},
   "outputs": [],
   "source": [
    "import matplotlib.pyplot as plt \n",
    "fig,ax=plt.subplots()\n",
    "df_flat.plot(x='body_middle_x',y='body_middle_y',ax=ax)\n",
    "df_flat.plot(x='head_middle_x',y='head_middle_y', ax=ax)\n",
    "df_flat.plot(x='tail_x',y='tail_y', ax=ax)\n",
    "plt.title(scan_key)\n",
    "plt.show()"
   ]
  },
  {
   "cell_type": "code",
   "execution_count": null,
   "id": "4efdeb48",
   "metadata": {},
   "outputs": [],
   "source": [
    "destfolder = model.PoseEstimationTask.infer_output_dir(key)\n",
    "destfolder"
   ]
  },
  {
   "cell_type": "code",
   "execution_count": null,
   "id": "344057e6",
   "metadata": {},
   "outputs": [],
   "source": [
    "key"
   ]
  },
  {
   "cell_type": "code",
   "execution_count": null,
   "id": "44f083b6",
   "metadata": {},
   "outputs": [],
   "source": [
    "from deeplabcut.utils.make_labeled_video import create_labeled_video\n",
    "import yaml\n",
    "from element_interface.utils import find_full_path\n",
    "from adamacs.paths import get_dlc_root_data_dir\n",
    "\n",
    "\n",
    "video_path = find_full_path( # Fetch the full video path\n",
    "    get_dlc_root_data_dir(), ((model.VideoRecording.File & key).fetch1(\"file_path\"))\n",
    ")\n",
    "\n",
    "config_paths = sorted( # Of configs in the project path, defer to the datajoint-saved\n",
    "    list(\n",
    "        find_full_path(\n",
    "            get_dlc_root_data_dir(), ((model.Model & key).fetch1(\"project_path\"))\n",
    "        ).glob(\"*.y*ml\")\n",
    "    )\n",
    ")\n",
    "\n",
    "create_labeled_video( # Pass strings to label the video\n",
    "    config=str(config_paths[-1]),\n",
    "    videos=str(video_path),\n",
    "    destfolder=str(destfolder),\n",
    ")\n",
    "\n",
    "# list(list(pathlib.Path((model.VideoRecording.File & key).fetch1(\"file_path\")).parent.glob(\"device*\"))[0].glob(\"*.y*ml\"))"
   ]
  },
  {
   "cell_type": "code",
   "execution_count": null,
   "metadata": {},
   "outputs": [],
   "source": [
    "destfolder"
   ]
  },
  {
   "cell_type": "code",
   "execution_count": null,
   "id": "09b16bb6",
   "metadata": {},
   "outputs": [],
   "source": [
    "import pathlib\n",
    "moviepath = str(list(pathlib.Path(destfolder).glob(\"*.mp4\"))[0])\n",
    "moviepath\n"
   ]
  },
  {
   "cell_type": "code",
   "execution_count": null,
   "id": "20402c74",
   "metadata": {},
   "outputs": [],
   "source": [
    "(model.VideoRecording.File & key).fetch1(\"file_path\")"
   ]
  },
  {
   "cell_type": "code",
   "execution_count": null,
   "id": "74d56a41",
   "metadata": {},
   "outputs": [],
   "source": [
    "list(list(pathlib.Path((model.VideoRecording.File & key).fetch1(\"file_path\")).parent.glob(\"device*\"))[0].glob(\"*.y*ml\"))"
   ]
  },
  {
   "cell_type": "code",
   "execution_count": null,
   "metadata": {},
   "outputs": [],
   "source": []
  }
 ],
 "metadata": {
  "kernelspec": {
   "display_name": "Python 3 (ipykernel)",
   "language": "python",
   "name": "python3"
  },
  "language_info": {
   "codemirror_mode": {
    "name": "ipython",
    "version": 3
   },
   "file_extension": ".py",
   "mimetype": "text/x-python",
   "name": "python",
   "nbconvert_exporter": "python",
   "pygments_lexer": "ipython3",
   "version": "3.8.17"
  },
  "vscode": {
   "interpreter": {
    "hash": "965cf972b663dbe25e7de0e0fe8e177cbbce2d7cfe110ae892c33d6669c5eb24"
   }
  }
 },
 "nbformat": 4,
 "nbformat_minor": 5
}
