{
 "cells": [
  {
   "cell_type": "markdown",
   "id": "b0e36d60-7e12-4c51-ac24-5e62ba586001",
   "metadata": {},
   "source": [
    "# DeepLabCut Ingestion/Inference"
   ]
  },
  {
   "cell_type": "markdown",
   "id": "2b8414eb-f4c0-4e20-a93a-f8a2901bca49",
   "metadata": {},
   "source": [
    "`Dev notes:` Currently, the path structure assumes you have one DLC project directory for all models, as specified within `adamacs.pipeline.get_dlc_root_data_dir`. The parallel function `get_dlc_processed_data_dir` can specify the output directory. "
   ]
  },
  {
   "cell_type": "markdown",
   "id": "661a25a5-e884-4786-994c-ef4da4bf6ae2",
   "metadata": {},
   "source": [
    "## Setup"
   ]
  },
  {
   "cell_type": "markdown",
   "id": "d82ba707-4007-49d7-9cd6-0f1af03c0270",
   "metadata": {},
   "source": [
    "### Connect to the database"
   ]
  },
  {
   "cell_type": "markdown",
   "id": "4a148dfb-472c-4932-a473-913c04b1782e",
   "metadata": {},
   "source": [
    "If you are don't have your login information, contact the administrator.\n",
    "\n",
    "Using local config file (see [01_pipeline](./01_pipeline.ipynb)):"
   ]
  },
  {
   "cell_type": "code",
   "execution_count": 1,
   "id": "99c37499-7c85-45fd-9d1d-bb66cb0854c6",
   "metadata": {},
   "outputs": [
    {
     "name": "stderr",
     "output_type": "stream",
     "text": [
      "[2023-07-26 16:39:20,229][INFO]: Connecting tobiasr@172.26.128.53:3306\n",
      "[2023-07-26 16:39:20,276][INFO]: Connected tobiasr@172.26.128.53:3306\n"
     ]
    },
    {
     "data": {
      "text/plain": [
       "DataJoint connection (connected) tobiasr@172.26.128.53:3306"
      ]
     },
     "execution_count": 1,
     "metadata": {},
     "output_type": "execute_result"
    }
   ],
   "source": [
    "import os\n",
    "# change to the upper level folder to detect dj_local_conf.json\n",
    "if os.path.basename(os.getcwd())=='notebooks': os.chdir('..')\n",
    "assert os.path.basename(os.getcwd())=='adamacs', (\"Please move to the main directory\")\n",
    "import datajoint as dj; dj.conn()"
   ]
  },
  {
   "cell_type": "code",
   "execution_count": 2,
   "id": "d4a2657f",
   "metadata": {},
   "outputs": [
    {
     "data": {
      "text/plain": [
       "['/datajoint-data/data/tobiasr/DeepLabCutModels/DB_DLC_tracking',\n",
       " '/datajoint-data/data/tobiasr/DeepLabCutModels/NK_DLC_tracking',\n",
       " '/']"
      ]
     },
     "execution_count": 2,
     "metadata": {},
     "output_type": "execute_result"
    }
   ],
   "source": [
    "dj.config[\"custom\"].get(\"dlc_root_data_dir\")\n"
   ]
  },
  {
   "cell_type": "markdown",
   "id": "a6adb4d4-599b-49a5-ba7f-7013b07dd83b",
   "metadata": {},
   "source": [
    "### Imports and activation\n",
    "\n",
    "Importing schema from `adamacs.pipeline` automatically activates items."
   ]
  },
  {
   "cell_type": "code",
   "execution_count": 3,
   "id": "1b76b069-3ca5-4dce-9ea8-1ba2058c3662",
   "metadata": {},
   "outputs": [],
   "source": [
    "from adamacs.pipeline import subject, train,  scan, event, trial, behavior, session, model, equipment"
   ]
  },
  {
   "cell_type": "markdown",
   "id": "83f8326a-ecca-4978-aa45-cce9ffbc164f",
   "metadata": {
    "lines_to_next_cell": 0,
    "tags": []
   },
   "source": [
    "## Ingesting videos and training parameters\n",
    "\n",
    "### Automated\n",
    "\n",
    "Refer the `user_data` folder in the `adamacs` directory contains CSVs for inserting values into DeepLabCut tables.\n",
    "\n",
    "1. `config_params.csv` is used for training parameter sets in `train.TrainingParamSet`. The following items are required, but others will also be passed to DLC's `train_network` function when called \n",
    "2. `train_videosets.csv` and `model_videos.csv` pass values to `train.VideoSet` and `model.VideoRecording` respectively.\n",
    "3. `adamacs.ingest.dlc.ingest_dlc_items` will load each of these CSVs\n",
    "\n",
    "For more information, see [this notebook](https://github.com/CBroz1/workflow-deeplabcut/blob/main/notebooks/04-Automate_Optional.ipynb)"
   ]
  },
  {
   "cell_type": "code",
   "execution_count": 4,
   "id": "f93dfb26-0b38-47e0-92f2-37e8df758319",
   "metadata": {},
   "outputs": [],
   "source": [
    "    # from adamacs.ingest.dlc import ingest_dlc_items\n",
    "    # ingest_dlc_items()"
   ]
  },
  {
   "cell_type": "code",
   "execution_count": 5,
   "metadata": {},
   "outputs": [
    {
     "name": "stderr",
     "output_type": "stream",
     "text": [
      "[2023-07-26 16:39:20,754][INFO]: Deleting 0 rows from `tobiasr_model`.`video_recording`\n",
      "[2023-07-26 16:39:20,759][INFO]: Deleting 1 rows from `tobiasr_model`.`__model_evaluation`\n",
      "[2023-07-26 16:39:20,763][INFO]: Deleting 7 rows from `tobiasr_model`.`model__body_part`\n",
      "[2023-07-26 16:39:20,766][INFO]: Deleting 1 rows from `tobiasr_model`.`model`\n"
     ]
    },
    {
     "name": "stdout",
     "output_type": "stream",
     "text": [
      "Nothing to delete.\n",
      "Deletes cancelled\n"
     ]
    },
    {
     "data": {
      "text/plain": [
       "1"
      ]
     },
     "execution_count": 5,
     "metadata": {},
     "output_type": "execute_result"
    }
   ],
   "source": [
    "model.VideoRecording().delete()\n",
    "model.Model.delete()"
   ]
  },
  {
   "cell_type": "code",
   "execution_count": 6,
   "id": "d6ccda2f",
   "metadata": {},
   "outputs": [
    {
     "data": {
      "text/plain": [
       "['#training_param_set',\n",
       " 'video_set',\n",
       " 'video_set__file',\n",
       " 'training_task',\n",
       " '__model_training']"
      ]
     },
     "execution_count": 6,
     "metadata": {},
     "output_type": "execute_result"
    }
   ],
   "source": [
    "train.schema.list_tables()"
   ]
  },
  {
   "cell_type": "code",
   "execution_count": 7,
   "id": "17837d1f",
   "metadata": {},
   "outputs": [
    {
     "data": {
      "text/plain": [
       "['#body_part',\n",
       " 'model',\n",
       " 'model__body_part',\n",
       " 'video_recording',\n",
       " 'video_recording__file',\n",
       " '__model_evaluation',\n",
       " '_recording_info',\n",
       " 'pose_estimation_task',\n",
       " '__pose_estimation',\n",
       " '__pose_estimation__body_part_position']"
      ]
     },
     "execution_count": 7,
     "metadata": {},
     "output_type": "execute_result"
    }
   ],
   "source": [
    "model.schema.list_tables()"
   ]
  },
  {
   "cell_type": "markdown",
   "id": "5d411cbb-3c2c-4bb0-b300-27a0dcd68978",
   "metadata": {},
   "source": [
    "### Manual\n",
    "\n",
    "The same training parameters as above can be manually inserted as follows."
   ]
  },
  {
   "cell_type": "code",
   "execution_count": 8,
   "id": "34060694-72bc-4814-a3a4-64de1d3d447a",
   "metadata": {},
   "outputs": [
    {
     "data": {
      "text/plain": [
       "PosixPath('/datajoint-data/data/tobiasr/DeepLabCutModels/DB_DLC_tracking/from_top_tracking-DJ-2022-02-23/config.yaml')"
      ]
     },
     "execution_count": 8,
     "metadata": {},
     "output_type": "execute_result"
    }
   ],
   "source": [
    "import yaml\n",
    "from element_interface.utils import find_full_path\n",
    "from adamacs.paths import get_dlc_root_data_dir\n",
    "import pathlib\n",
    "config_path = find_full_path(get_dlc_root_data_dir(), \n",
    "                             'from_top_tracking-DJ-2022-02-23/config.yaml')\n",
    "config_path"
   ]
  },
  {
   "cell_type": "code",
   "execution_count": 9,
   "id": "30a3414f",
   "metadata": {},
   "outputs": [],
   "source": [
    "# model.VideoRecording.delete()"
   ]
  },
  {
   "cell_type": "code",
   "execution_count": 10,
   "id": "80ba9ae1-a614-4255-9220-99cb1b05c4fe",
   "metadata": {},
   "outputs": [],
   "source": [
    "scansi = \"scan9FJ842C3\"\n",
    "scan_key = (scan.Scan & f'scan_id = \"{scansi}\"').fetch('KEY')[0] \n",
    "moviepath = str(list(pathlib.Path((scan.ScanPath() & scan_key).fetch(\"path\")[0]).glob(\"*top*.mp4*\"))[0])\n",
    "\n",
    "key = {'session_id': scan_key[\"session_id\"],\n",
    "       'recording_id': scan_key[\"scan_id\"], \n",
    "       'camera': \"mini2p1_top\", # Currently 'scanner' due to in equipment tables\n",
    "}\n",
    "model.VideoRecording.insert1(key, skip_duplicates=True)\n",
    "# do not include an initial `/` in relative file paths   \n",
    "key.update({'file_path': moviepath,\n",
    "            'file_id': 0})\n",
    "model.VideoRecording.File.insert1(key, ignore_extra_fields=True, skip_duplicates=True)"
   ]
  },
  {
   "cell_type": "code",
   "execution_count": 11,
   "id": "db928d76",
   "metadata": {},
   "outputs": [],
   "source": [
    "scansi = \"scan9FB2LN5C\"\n",
    "scan_key = (scan.Scan & f'scan_id = \"{scansi}\"').fetch('KEY')[0] \n",
    "moviepath = str(list(pathlib.Path((scan.ScanPath() & scan_key).fetch(\"path\")[0]).glob(\"*top*.mp4*\"))[0])\n",
    "\n",
    "key = {'session_id': scan_key[\"session_id\"],\n",
    "       'recording_id': scan_key[\"scan_id\"], \n",
    "       'camera': \"mini2p1_top\", # Currently 'scanner' due to in equipment tables\n",
    "}\n",
    "model.VideoRecording.insert1(key, skip_duplicates=True)\n",
    "# do not include an initial `/` in relative file paths   \n",
    "key.update({'file_path': moviepath,\n",
    "            'file_id': 1})\n",
    "model.VideoRecording.File.insert1(key, ignore_extra_fields=True, skip_duplicates=True)"
   ]
  },
  {
   "cell_type": "code",
   "execution_count": 12,
   "id": "5c954492",
   "metadata": {},
   "outputs": [],
   "source": [
    "scansi = \"scan9FHELAYA\"\n",
    "scan_key = (scan.Scan & f'scan_id = \"{scansi}\"').fetch('KEY')[0] \n",
    "moviepath = str(list(pathlib.Path((scan.ScanPath() & scan_key).fetch(\"path\")[0]).glob(\"*53.mp4\"))[0])\n",
    "moviepath = str(list(pathlib.Path((scan.ScanPath() & scan_key).fetch(\"path\")[0]).glob(\"*top*.mp4-copy.mp4\"))[0])\n",
    "\n",
    "key = {'session_id': scan_key[\"session_id\"],\n",
    "       'recording_id': scan_key[\"scan_id\"], \n",
    "       'camera': \"mini2p1_top\", # Currently 'scanner' due to in equipment tables\n",
    "}\n",
    "model.VideoRecording.insert1(key, skip_duplicates=True)\n",
    "# do not include an initial `/` in relative file paths   \n",
    "key.update({'file_path': moviepath,\n",
    "            'file_id': 2})\n",
    "model.VideoRecording.File.insert1(key, ignore_extra_fields=True, skip_duplicates=True)"
   ]
  },
  {
   "cell_type": "code",
   "execution_count": 13,
   "id": "b2fed587",
   "metadata": {},
   "outputs": [
    {
     "data": {
      "text/html": [
       "\n",
       "    \n",
       "    <style type=\"text/css\">\n",
       "        .Relation{\n",
       "            border-collapse:collapse;\n",
       "        }\n",
       "        .Relation th{\n",
       "            background: #A0A0A0; color: #ffffff; padding:4px; border:#f0e0e0 1px solid;\n",
       "            font-weight: normal; font-family: monospace; font-size: 100%;\n",
       "        }\n",
       "        .Relation td{\n",
       "            padding:4px; border:#f0e0e0 1px solid; font-size:100%;\n",
       "        }\n",
       "        .Relation tr:nth-child(odd){\n",
       "            background: #ffffff;\n",
       "        }\n",
       "        .Relation tr:nth-child(even){\n",
       "            background: #f3f1ff;\n",
       "        }\n",
       "        /* Tooltip container */\n",
       "        .djtooltip {\n",
       "        }\n",
       "        /* Tooltip text */\n",
       "        .djtooltip .djtooltiptext {\n",
       "            visibility: hidden;\n",
       "            width: 120px;\n",
       "            background-color: black;\n",
       "            color: #fff;\n",
       "            text-align: center;\n",
       "            padding: 5px 0;\n",
       "            border-radius: 6px;\n",
       "            /* Position the tooltip text - see examples below! */\n",
       "            position: absolute;\n",
       "            z-index: 1;\n",
       "        }\n",
       "        #primary {\n",
       "            font-weight: bold;\n",
       "            color: black;\n",
       "        }\n",
       "        #nonprimary {\n",
       "            font-weight: normal;\n",
       "            color: white;\n",
       "        }\n",
       "\n",
       "        /* Show the tooltip text when you mouse over the tooltip container */\n",
       "        .djtooltip:hover .djtooltiptext {\n",
       "            visibility: visible;\n",
       "        }\n",
       "    </style>\n",
       "    \n",
       "    \n",
       "        <div style=\"max-height:1000px;max-width:1500px;overflow:auto;\">\n",
       "        <table border=\"1\" class=\"Relation\">\n",
       "            <thead> <tr style=\"text-align: right;\"> <th> <div class=\"djtooltip\">\n",
       "                            <p id=\"primary\">session_id</p>\n",
       "                            <span class=\"djtooltiptext\"></span>\n",
       "                        </div></th><th><div class=\"djtooltip\">\n",
       "                            <p id=\"primary\">recording_id</p>\n",
       "                            <span class=\"djtooltiptext\"></span>\n",
       "                        </div></th><th><div class=\"djtooltip\">\n",
       "                            <p id=\"primary\">file_id</p>\n",
       "                            <span class=\"djtooltiptext\"></span>\n",
       "                        </div></th><th><div class=\"djtooltip\">\n",
       "                            <p id=\"primary\">camera</p>\n",
       "                            <span class=\"djtooltiptext\"></span>\n",
       "                        </div></th><th><div class=\"djtooltip\">\n",
       "                            <p id=\"nonprimary\">file_path</p>\n",
       "                            <span class=\"djtooltiptext\">filepath of video, relative to root data directory</span>\n",
       "                        </div></th><th><div class=\"djtooltip\">\n",
       "                            <p id=\"nonprimary\">camera_description</p>\n",
       "                            <span class=\"djtooltiptext\"></span>\n",
       "                        </div> </th> </tr> </thead>\n",
       "            <tbody> <tr> <td>sess9FB2LN5C</td>\n",
       "<td>scan9FB2LN5C</td>\n",
       "<td>1</td>\n",
       "<td>mini2p1_top</td>\n",
       "<td>/datajoint-data/data/tobiasr/DB_WEZ-8701_2022-03-18_scan9FB2LN5C_sess9FB2LN5C/scan9FB2LN5C_top_video_2022-03-18T16_55_33.mp4</td>\n",
       "<td>Basler a2A1920-160umBAS, Xx objective</td></tr><tr><td>sess9FHELAYA</td>\n",
       "<td>scan9FHELAYA</td>\n",
       "<td>2</td>\n",
       "<td>mini2p1_top</td>\n",
       "<td>/datajoint-data/data/tobiasr/RN_OPI-1681_2023-04-05_scan9FHELAYA_sess9FHELAYA/scan9FHELAYA_top_video_2023-04-05T15_19_53.mp4-copy.mp4</td>\n",
       "<td>Basler a2A1920-160umBAS, Xx objective</td></tr><tr><td>sess9FJ842C3</td>\n",
       "<td>scan9FJ842C3</td>\n",
       "<td>0</td>\n",
       "<td>mini2p1_top</td>\n",
       "<td>/datajoint-data/data/tobiasr/RN_OPI-1681_2023-07-24_scan9FJ842C3_sess9FJ842C3/scan9FJ842C3_top_video_2023-07-24T16_38_06.mp4</td>\n",
       "<td>Basler a2A1920-160umBAS, Xx objective</td> </tr> </tbody>\n",
       "        </table>\n",
       "        \n",
       "        <p>Total: 3</p></div>\n",
       "        "
      ],
      "text/plain": [
       "*session_id    *recording_id  *file_id    *camera        file_path      camera_descrip\n",
       "+------------+ +------------+ +---------+ +------------+ +------------+ +------------+\n",
       "sess9FB2LN5C   scan9FB2LN5C   1           mini2p1_top    /datajoint-dat Basler a2A1920\n",
       "sess9FHELAYA   scan9FHELAYA   2           mini2p1_top    /datajoint-dat Basler a2A1920\n",
       "sess9FJ842C3   scan9FJ842C3   0           mini2p1_top    /datajoint-dat Basler a2A1920\n",
       " (Total: 3)"
      ]
     },
     "execution_count": 13,
     "metadata": {},
     "output_type": "execute_result"
    }
   ],
   "source": [
    "model.VideoRecording() * model.VideoRecording.File() * equipment.Device()"
   ]
  },
  {
   "cell_type": "markdown",
   "id": "ae990c82-36a6-4662-bac8-e014bd80b084",
   "metadata": {},
   "source": [
    "## Model Training"
   ]
  },
  {
   "cell_type": "markdown",
   "id": "91befce5-f9c5-47d3-88df-5c4398eebbbe",
   "metadata": {},
   "source": [
    "The `TrainingTask` table queues up training. To launch training from a different machine, one needs to edit DLC's config files to reflect updated paths. For training, this includes `dlc-models/*/*/train/pose_cfg.yaml`\n",
    "\n",
    "`CB DEV NOTE:` I'm missing the following videos used to originally train the model:\n",
    "- top_video2022-02-17T15_56_10.mp4\n",
    "- top_video2022-02-21T12_18_09.mp4"
   ]
  },
  {
   "cell_type": "markdown",
   "id": "e0e7c363",
   "metadata": {},
   "source": [
    "#### DeepLabcut Tables"
   ]
  },
  {
   "cell_type": "markdown",
   "id": "342d30bb",
   "metadata": {},
   "source": [
    "The `VideoSet` table in the `train` schema retains records of files generated in the video labeling process (e.g., `h5`, `csv`, `png`). DeepLabCut will refer to the `mat` file located under the `training-datasets` directory.\n",
    "\n",
    "We recommend storing all paths as relative to the root in your config."
   ]
  },
  {
   "cell_type": "code",
   "execution_count": 14,
   "id": "0246d207",
   "metadata": {},
   "outputs": [],
   "source": [
    "# train.VideoSet.delete()"
   ]
  },
  {
   "cell_type": "code",
   "execution_count": 15,
   "id": "a154a4ed",
   "metadata": {},
   "outputs": [
    {
     "data": {
      "text/html": [
       "\n",
       "    \n",
       "    <style type=\"text/css\">\n",
       "        .Relation{\n",
       "            border-collapse:collapse;\n",
       "        }\n",
       "        .Relation th{\n",
       "            background: #A0A0A0; color: #ffffff; padding:4px; border:#f0e0e0 1px solid;\n",
       "            font-weight: normal; font-family: monospace; font-size: 100%;\n",
       "        }\n",
       "        .Relation td{\n",
       "            padding:4px; border:#f0e0e0 1px solid; font-size:100%;\n",
       "        }\n",
       "        .Relation tr:nth-child(odd){\n",
       "            background: #ffffff;\n",
       "        }\n",
       "        .Relation tr:nth-child(even){\n",
       "            background: #f3f1ff;\n",
       "        }\n",
       "        /* Tooltip container */\n",
       "        .djtooltip {\n",
       "        }\n",
       "        /* Tooltip text */\n",
       "        .djtooltip .djtooltiptext {\n",
       "            visibility: hidden;\n",
       "            width: 120px;\n",
       "            background-color: black;\n",
       "            color: #fff;\n",
       "            text-align: center;\n",
       "            padding: 5px 0;\n",
       "            border-radius: 6px;\n",
       "            /* Position the tooltip text - see examples below! */\n",
       "            position: absolute;\n",
       "            z-index: 1;\n",
       "        }\n",
       "        #primary {\n",
       "            font-weight: bold;\n",
       "            color: black;\n",
       "        }\n",
       "        #nonprimary {\n",
       "            font-weight: normal;\n",
       "            color: white;\n",
       "        }\n",
       "\n",
       "        /* Show the tooltip text when you mouse over the tooltip container */\n",
       "        .djtooltip:hover .djtooltiptext {\n",
       "            visibility: visible;\n",
       "        }\n",
       "    </style>\n",
       "    \n",
       "    <b>Paths of training files (e.g., labeled pngs, CSV or video)</b>\n",
       "        <div style=\"max-height:1000px;max-width:1500px;overflow:auto;\">\n",
       "        <table border=\"1\" class=\"Relation\">\n",
       "            <thead> <tr style=\"text-align: right;\"> <th> <div class=\"djtooltip\">\n",
       "                            <p id=\"primary\">video_set_id</p>\n",
       "                            <span class=\"djtooltiptext\"></span>\n",
       "                        </div></th><th><div class=\"djtooltip\">\n",
       "                            <p id=\"primary\">file_id</p>\n",
       "                            <span class=\"djtooltiptext\"></span>\n",
       "                        </div></th><th><div class=\"djtooltip\">\n",
       "                            <p id=\"nonprimary\">file_path</p>\n",
       "                            <span class=\"djtooltiptext\"></span>\n",
       "                        </div> </th> </tr> </thead>\n",
       "            <tbody> <tr> <td>0</td>\n",
       "<td>0</td>\n",
       "<td>from_top_tracking-DJ-2022-02-23/labeled-data/exp9FANLWRZ_top_video2022-02-21T12_18_09/CollectedData_DJ.h5</td></tr><tr><td>0</td>\n",
       "<td>1</td>\n",
       "<td>from_top_tracking-DJ-2022-02-23/labeled-data/exp9FANLWRZ_top_video2022-02-21T12_18_09/CollectedData_DJ.csv</td></tr><tr><td>0</td>\n",
       "<td>2</td>\n",
       "<td>from_top_tracking-DJ-2022-02-23/labeled-data/exp9FANLWRZ_top_video2022-02-21T12_18_09/img00674.png</td></tr><tr><td>0</td>\n",
       "<td>3</td>\n",
       "<td>from_top_tracking-DJ-2022-02-23/videos/exp9FANLWRZ_top_video2022-02-21T12_18_09.mp4</td></tr><tr><td>1</td>\n",
       "<td>0</td>\n",
       "<td>Head_orientation-NK-2023-07-17/labeled-data/scan9FHF1JT7_top_video_2023-04-06T09_31_19/CollectedData_NK.h5</td></tr><tr><td>1</td>\n",
       "<td>1</td>\n",
       "<td>Head_orientation-NK-2023-07-17/labeled-data/scan9FHF1JT7_top_video_2023-04-06T09_31_19/CollectedData_NK.csv</td></tr><tr><td>1</td>\n",
       "<td>2</td>\n",
       "<td>Head_orientation-NK-2023-07-17/labeled-data/scan9FHF1JT7_top_video_2023-04-06T09_31_19/img00162.png</td></tr><tr><td>1</td>\n",
       "<td>3</td>\n",
       "<td>Head_orientation-NK-2023-07-17/videos/scan9FHF1JT7_top_video_2023-04-06T09_31_19.mp4</td> </tr> </tbody>\n",
       "        </table>\n",
       "        \n",
       "        <p>Total: 8</p></div>\n",
       "        "
      ],
      "text/plain": [
       "*video_set_id  *file_id    file_path     \n",
       "+------------+ +---------+ +------------+\n",
       "0              0           from_top_track\n",
       "0              1           from_top_track\n",
       "0              2           from_top_track\n",
       "0              3           from_top_track\n",
       "1              0           Head_orientati\n",
       "1              1           Head_orientati\n",
       "1              2           Head_orientati\n",
       "1              3           Head_orientati\n",
       " (Total: 8)"
      ]
     },
     "execution_count": 15,
     "metadata": {},
     "output_type": "execute_result"
    }
   ],
   "source": [
    "train.VideoSet.insert1({'video_set_id': 0}, skip_duplicates=True)\n",
    "project_folder = 'from_top_tracking-DJ-2022-02-23/'\n",
    "training_files = ['labeled-data/exp9FANLWRZ_top_video2022-02-21T12_18_09/CollectedData_DJ.h5',\n",
    "                  'labeled-data/exp9FANLWRZ_top_video2022-02-21T12_18_09/CollectedData_DJ.csv',\n",
    "                  'labeled-data/exp9FANLWRZ_top_video2022-02-21T12_18_09/img00674.png',\n",
    "                  'videos/exp9FANLWRZ_top_video2022-02-21T12_18_09.mp4']\n",
    "for idx, filename in enumerate(training_files):\n",
    "    train.VideoSet.File.insert1({'video_set_id': 0,\n",
    "                                 'file_id': idx,\n",
    "                                 'file_path': (project_folder + filename)}, skip_duplicates=True)\n",
    "train.VideoSet.File()"
   ]
  },
  {
   "cell_type": "code",
   "execution_count": 16,
   "id": "0f6fffb8",
   "metadata": {},
   "outputs": [
    {
     "data": {
      "text/html": [
       "\n",
       "    \n",
       "    <style type=\"text/css\">\n",
       "        .Relation{\n",
       "            border-collapse:collapse;\n",
       "        }\n",
       "        .Relation th{\n",
       "            background: #A0A0A0; color: #ffffff; padding:4px; border:#f0e0e0 1px solid;\n",
       "            font-weight: normal; font-family: monospace; font-size: 100%;\n",
       "        }\n",
       "        .Relation td{\n",
       "            padding:4px; border:#f0e0e0 1px solid; font-size:100%;\n",
       "        }\n",
       "        .Relation tr:nth-child(odd){\n",
       "            background: #ffffff;\n",
       "        }\n",
       "        .Relation tr:nth-child(even){\n",
       "            background: #f3f1ff;\n",
       "        }\n",
       "        /* Tooltip container */\n",
       "        .djtooltip {\n",
       "        }\n",
       "        /* Tooltip text */\n",
       "        .djtooltip .djtooltiptext {\n",
       "            visibility: hidden;\n",
       "            width: 120px;\n",
       "            background-color: black;\n",
       "            color: #fff;\n",
       "            text-align: center;\n",
       "            padding: 5px 0;\n",
       "            border-radius: 6px;\n",
       "            /* Position the tooltip text - see examples below! */\n",
       "            position: absolute;\n",
       "            z-index: 1;\n",
       "        }\n",
       "        #primary {\n",
       "            font-weight: bold;\n",
       "            color: black;\n",
       "        }\n",
       "        #nonprimary {\n",
       "            font-weight: normal;\n",
       "            color: white;\n",
       "        }\n",
       "\n",
       "        /* Show the tooltip text when you mouse over the tooltip container */\n",
       "        .djtooltip:hover .djtooltiptext {\n",
       "            visibility: visible;\n",
       "        }\n",
       "    </style>\n",
       "    \n",
       "    <b>Paths of training files (e.g., labeled pngs, CSV or video)</b>\n",
       "        <div style=\"max-height:1000px;max-width:1500px;overflow:auto;\">\n",
       "        <table border=\"1\" class=\"Relation\">\n",
       "            <thead> <tr style=\"text-align: right;\"> <th> <div class=\"djtooltip\">\n",
       "                            <p id=\"primary\">video_set_id</p>\n",
       "                            <span class=\"djtooltiptext\"></span>\n",
       "                        </div></th><th><div class=\"djtooltip\">\n",
       "                            <p id=\"primary\">file_id</p>\n",
       "                            <span class=\"djtooltiptext\"></span>\n",
       "                        </div></th><th><div class=\"djtooltip\">\n",
       "                            <p id=\"nonprimary\">file_path</p>\n",
       "                            <span class=\"djtooltiptext\"></span>\n",
       "                        </div> </th> </tr> </thead>\n",
       "            <tbody> <tr> <td>0</td>\n",
       "<td>0</td>\n",
       "<td>from_top_tracking-DJ-2022-02-23/labeled-data/exp9FANLWRZ_top_video2022-02-21T12_18_09/CollectedData_DJ.h5</td></tr><tr><td>0</td>\n",
       "<td>1</td>\n",
       "<td>from_top_tracking-DJ-2022-02-23/labeled-data/exp9FANLWRZ_top_video2022-02-21T12_18_09/CollectedData_DJ.csv</td></tr><tr><td>0</td>\n",
       "<td>2</td>\n",
       "<td>from_top_tracking-DJ-2022-02-23/labeled-data/exp9FANLWRZ_top_video2022-02-21T12_18_09/img00674.png</td></tr><tr><td>0</td>\n",
       "<td>3</td>\n",
       "<td>from_top_tracking-DJ-2022-02-23/videos/exp9FANLWRZ_top_video2022-02-21T12_18_09.mp4</td></tr><tr><td>1</td>\n",
       "<td>0</td>\n",
       "<td>Head_orientation-NK-2023-07-17/labeled-data/scan9FHF1JT7_top_video_2023-04-06T09_31_19/CollectedData_NK.h5</td></tr><tr><td>1</td>\n",
       "<td>1</td>\n",
       "<td>Head_orientation-NK-2023-07-17/labeled-data/scan9FHF1JT7_top_video_2023-04-06T09_31_19/CollectedData_NK.csv</td></tr><tr><td>1</td>\n",
       "<td>2</td>\n",
       "<td>Head_orientation-NK-2023-07-17/labeled-data/scan9FHF1JT7_top_video_2023-04-06T09_31_19/img00162.png</td></tr><tr><td>1</td>\n",
       "<td>3</td>\n",
       "<td>Head_orientation-NK-2023-07-17/videos/scan9FHF1JT7_top_video_2023-04-06T09_31_19.mp4</td> </tr> </tbody>\n",
       "        </table>\n",
       "        \n",
       "        <p>Total: 8</p></div>\n",
       "        "
      ],
      "text/plain": [
       "*video_set_id  *file_id    file_path     \n",
       "+------------+ +---------+ +------------+\n",
       "0              0           from_top_track\n",
       "0              1           from_top_track\n",
       "0              2           from_top_track\n",
       "0              3           from_top_track\n",
       "1              0           Head_orientati\n",
       "1              1           Head_orientati\n",
       "1              2           Head_orientati\n",
       "1              3           Head_orientati\n",
       " (Total: 8)"
      ]
     },
     "execution_count": 16,
     "metadata": {},
     "output_type": "execute_result"
    }
   ],
   "source": [
    "train.VideoSet.insert1({'video_set_id': 1}, skip_duplicates=True)\n",
    "project_folder = 'Head_orientation-NK-2023-07-17/'\n",
    "training_files = ['labeled-data/scan9FHF1JT7_top_video_2023-04-06T09_31_19/CollectedData_NK.h5',\n",
    "                  'labeled-data/scan9FHF1JT7_top_video_2023-04-06T09_31_19/CollectedData_NK.csv',\n",
    "                  'labeled-data/scan9FHF1JT7_top_video_2023-04-06T09_31_19/img00162.png',\n",
    "                  'videos/scan9FHF1JT7_top_video_2023-04-06T09_31_19.mp4']\n",
    "for idx, filename in enumerate(training_files):\n",
    "    train.VideoSet.File.insert1({'video_set_id': 1,\n",
    "                                 'file_id': idx,\n",
    "                                 'file_path': (project_folder + filename)}, skip_duplicates=True)\n",
    "train.VideoSet.File()"
   ]
  },
  {
   "cell_type": "code",
   "execution_count": 17,
   "id": "4e9edd50",
   "metadata": {},
   "outputs": [],
   "source": [
    "# train.VideoSet().delete()"
   ]
  },
  {
   "cell_type": "markdown",
   "id": "4051922c",
   "metadata": {},
   "source": [
    "The `params` longblob should be a dictionary that captures all items for DeepLabCut's `train_network` function. At minimum, this is the contents of the project's config file, as well as `suffle` and `trainingsetindex`, which are not included in the config. "
   ]
  },
  {
   "cell_type": "code",
   "execution_count": 18,
   "id": "f727557a",
   "metadata": {},
   "outputs": [
    {
     "name": "stderr",
     "output_type": "stream",
     "text": [
      "2023-07-26 16:39:30.319555: I tensorflow/core/platform/cpu_feature_guard.cc:193] This TensorFlow binary is optimized with oneAPI Deep Neural Network Library (oneDNN) to use the following CPU instructions in performance-critical operations:  AVX2 FMA\n",
      "To enable them in other operations, rebuild TensorFlow with the appropriate compiler flags.\n",
      "2023-07-26 16:39:30.446259: W tensorflow/stream_executor/platform/default/dso_loader.cc:64] Could not load dynamic library 'libcudart.so.11.0'; dlerror: libcudart.so.11.0: cannot open shared object file: No such file or directory; LD_LIBRARY_PATH: /home/tobiasr/.local/lib/python3.8/site-packages/cv2/../../lib64:\n",
      "2023-07-26 16:39:30.446279: I tensorflow/stream_executor/cuda/cudart_stub.cc:29] Ignore above cudart dlerror if you do not have a GPU set up on your machine.\n",
      "2023-07-26 16:39:30.476086: E tensorflow/stream_executor/cuda/cuda_blas.cc:2981] Unable to register cuBLAS factory: Attempting to register factory for plugin cuBLAS when one has already been registered\n",
      "2023-07-26 16:39:30.962077: W tensorflow/stream_executor/platform/default/dso_loader.cc:64] Could not load dynamic library 'libnvinfer.so.7'; dlerror: libnvinfer.so.7: cannot open shared object file: No such file or directory; LD_LIBRARY_PATH: /home/tobiasr/.local/lib/python3.8/site-packages/cv2/../../lib64:\n",
      "2023-07-26 16:39:30.962133: W tensorflow/stream_executor/platform/default/dso_loader.cc:64] Could not load dynamic library 'libnvinfer_plugin.so.7'; dlerror: libnvinfer_plugin.so.7: cannot open shared object file: No such file or directory; LD_LIBRARY_PATH: /home/tobiasr/.local/lib/python3.8/site-packages/cv2/../../lib64:\n",
      "2023-07-26 16:39:30.962139: W tensorflow/compiler/tf2tensorrt/utils/py_utils.cc:38] TF-TRT Warning: Cannot dlopen some TensorRT libraries. If you would like to use Nvidia GPU with TensorRT, please make sure the missing libraries mentioned above are installed properly.\n"
     ]
    },
    {
     "name": "stdout",
     "output_type": "stream",
     "text": [
      "Loading DLC 2.3.4...\n",
      "DLC loaded in light mode; you cannot use any GUI (labeling, relabeling and standalone GUI)\n",
      "Help on function train_network in module deeplabcut.pose_estimation_tensorflow.training:\n",
      "\n",
      "train_network(config, shuffle=1, trainingsetindex=0, max_snapshots_to_keep=5, displayiters=None, saveiters=None, maxiters=None, allow_growth=True, gputouse=None, autotune=False, keepdeconvweights=True, modelprefix='')\n",
      "    Trains the network with the labels in the training dataset.\n",
      "    \n",
      "    Parameters\n",
      "    ----------\n",
      "    config : string\n",
      "        Full path of the config.yaml file as a string.\n",
      "    \n",
      "    shuffle: int, optional, default=1\n",
      "        Integer value specifying the shuffle index to select for training.\n",
      "    \n",
      "    trainingsetindex: int, optional, default=0\n",
      "        Integer specifying which TrainingsetFraction to use.\n",
      "        Note that TrainingFraction is a list in config.yaml.\n",
      "    \n",
      "    max_snapshots_to_keep: int or None\n",
      "        Sets how many snapshots are kept, i.e. states of the trained network. Every\n",
      "        saving iteration many times a snapshot is stored, however only the last\n",
      "        ``max_snapshots_to_keep`` many are kept! If you change this to None, then all\n",
      "        are kept.\n",
      "        See: https://github.com/DeepLabCut/DeepLabCut/issues/8#issuecomment-387404835\n",
      "    \n",
      "    displayiters: optional, default=None\n",
      "        This variable is actually set in ``pose_config.yaml``. However, you can\n",
      "        overwrite it with this hack. Don't use this regularly, just if you are too lazy\n",
      "        to dig out the ``pose_config.yaml`` file for the corresponding project. If\n",
      "        ``None``, the value from there is used, otherwise it is overwritten!\n",
      "    \n",
      "    saveiters: optional, default=None\n",
      "        This variable is actually set in ``pose_config.yaml``. However, you can\n",
      "        overwrite it with this hack. Don't use this regularly, just if you are too lazy\n",
      "        to dig out the ``pose_config.yaml`` file for the corresponding project.\n",
      "        If ``None``, the value from there is used, otherwise it is overwritten!\n",
      "    \n",
      "    maxiters: optional, default=None\n",
      "        This variable is actually set in ``pose_config.yaml``. However, you can\n",
      "        overwrite it with this hack. Don't use this regularly, just if you are too lazy\n",
      "        to dig out the ``pose_config.yaml`` file for the corresponding project.\n",
      "        If ``None``, the value from there is used, otherwise it is overwritten!\n",
      "    \n",
      "    allow_growth: bool, optional, default=True.\n",
      "        For some smaller GPUs the memory issues happen. If ``True``, the memory\n",
      "        allocator does not pre-allocate the entire specified GPU memory region, instead\n",
      "        starting small and growing as needed.\n",
      "        See issue: https://forum.image.sc/t/how-to-stop-running-out-of-vram/30551/2\n",
      "    \n",
      "    gputouse: optional, default=None\n",
      "        Natural number indicating the number of your GPU (see number in nvidia-smi).\n",
      "        If you do not have a GPU put None.\n",
      "        See: https://nvidia.custhelp.com/app/answers/detail/a_id/3751/~/useful-nvidia-smi-queries\n",
      "    \n",
      "    autotune: bool, optional, default=False\n",
      "        Property of TensorFlow, somehow faster if ``False``\n",
      "        (as Eldar found out, see https://github.com/tensorflow/tensorflow/issues/13317).\n",
      "    \n",
      "    keepdeconvweights: bool, optional, default=True\n",
      "        Also restores the weights of the deconvolution layers (and the backbone) when\n",
      "        training from a snapshot. Note that if you change the number of bodyparts, you\n",
      "        need to set this to false for re-training.\n",
      "    \n",
      "    modelprefix: str, optional, default=\"\"\n",
      "        Directory containing the deeplabcut models to use when evaluating the network.\n",
      "        By default, the models are assumed to exist in the project folder.\n",
      "    \n",
      "    Returns\n",
      "    -------\n",
      "    None\n",
      "    \n",
      "    Examples\n",
      "    --------\n",
      "    To train the network for first shuffle of the training dataset\n",
      "    \n",
      "    >>> deeplabcut.train_network('/analysis/project/reaching-task/config.yaml')\n",
      "    \n",
      "    To train the network for second shuffle of the training dataset\n",
      "    \n",
      "    >>> deeplabcut.train_network(\n",
      "            '/analysis/project/reaching-task/config.yaml',\n",
      "            shuffle=2,\n",
      "            keepdeconvweights=True,\n",
      "        )\n",
      "\n"
     ]
    }
   ],
   "source": [
    "from deeplabcut import train_network\n",
    "help(train_network) # for more information on optional parameters"
   ]
  },
  {
   "cell_type": "markdown",
   "id": "2b19a91e",
   "metadata": {},
   "source": [
    "Here, we give these items, load the config contents, and overwrite some defaults, including `maxiters`, to restrict our training iterations to 5."
   ]
  },
  {
   "cell_type": "code",
   "execution_count": 19,
   "id": "04fdf6df",
   "metadata": {},
   "outputs": [
    {
     "data": {
      "text/html": [
       "\n",
       "    \n",
       "    <style type=\"text/css\">\n",
       "        .Relation{\n",
       "            border-collapse:collapse;\n",
       "        }\n",
       "        .Relation th{\n",
       "            background: #A0A0A0; color: #ffffff; padding:4px; border:#f0e0e0 1px solid;\n",
       "            font-weight: normal; font-family: monospace; font-size: 100%;\n",
       "        }\n",
       "        .Relation td{\n",
       "            padding:4px; border:#f0e0e0 1px solid; font-size:100%;\n",
       "        }\n",
       "        .Relation tr:nth-child(odd){\n",
       "            background: #ffffff;\n",
       "        }\n",
       "        .Relation tr:nth-child(even){\n",
       "            background: #f3f1ff;\n",
       "        }\n",
       "        /* Tooltip container */\n",
       "        .djtooltip {\n",
       "        }\n",
       "        /* Tooltip text */\n",
       "        .djtooltip .djtooltiptext {\n",
       "            visibility: hidden;\n",
       "            width: 120px;\n",
       "            background-color: black;\n",
       "            color: #fff;\n",
       "            text-align: center;\n",
       "            padding: 5px 0;\n",
       "            border-radius: 6px;\n",
       "            /* Position the tooltip text - see examples below! */\n",
       "            position: absolute;\n",
       "            z-index: 1;\n",
       "        }\n",
       "        #primary {\n",
       "            font-weight: bold;\n",
       "            color: black;\n",
       "        }\n",
       "        #nonprimary {\n",
       "            font-weight: normal;\n",
       "            color: white;\n",
       "        }\n",
       "\n",
       "        /* Show the tooltip text when you mouse over the tooltip container */\n",
       "        .djtooltip:hover .djtooltiptext {\n",
       "            visibility: visible;\n",
       "        }\n",
       "    </style>\n",
       "    \n",
       "    <b>Parameters to specify a DLC model training instance</b>\n",
       "        <div style=\"max-height:1000px;max-width:1500px;overflow:auto;\">\n",
       "        <table border=\"1\" class=\"Relation\">\n",
       "            <thead> <tr style=\"text-align: right;\"> <th> <div class=\"djtooltip\">\n",
       "                            <p id=\"primary\">paramset_idx</p>\n",
       "                            <span class=\"djtooltiptext\"></span>\n",
       "                        </div></th><th><div class=\"djtooltip\">\n",
       "                            <p id=\"nonprimary\">paramset_desc</p>\n",
       "                            <span class=\"djtooltiptext\"></span>\n",
       "                        </div></th><th><div class=\"djtooltip\">\n",
       "                            <p id=\"nonprimary\">param_set_hash</p>\n",
       "                            <span class=\"djtooltiptext\">hash identifying this parameterset</span>\n",
       "                        </div></th><th><div class=\"djtooltip\">\n",
       "                            <p id=\"nonprimary\">params</p>\n",
       "                            <span class=\"djtooltiptext\">dictionary of all applicable parameters</span>\n",
       "                        </div> </th> </tr> </thead>\n",
       "            <tbody> <tr> <td>0</td>\n",
       "<td>from_top_tracking-DJ-2022-02-23</td>\n",
       "<td>d5736a15-23a7-5469-c521-6929b5f1d1b7</td>\n",
       "<td>=BLOB=</td></tr><tr><td>1</td>\n",
       "<td>Head_orientation-NK-2023-07-17</td>\n",
       "<td>c6ec66ba-91f0-b916-fcbd-6dcf9f5adc23</td>\n",
       "<td>=BLOB=</td> </tr> </tbody>\n",
       "        </table>\n",
       "        \n",
       "        <p>Total: 2</p></div>\n",
       "        "
      ],
      "text/plain": [
       "*paramset_idx  paramset_desc  param_set_hash params    \n",
       "+------------+ +------------+ +------------+ +--------+\n",
       "0              from_top_track d5736a15-23a7- =BLOB=    \n",
       "1              Head_orientati c6ec66ba-91f0- =BLOB=    \n",
       " (Total: 2)"
      ]
     },
     "execution_count": 19,
     "metadata": {},
     "output_type": "execute_result"
    }
   ],
   "source": [
    "train.TrainingParamSet()"
   ]
  },
  {
   "cell_type": "code",
   "execution_count": 20,
   "id": "f1399310",
   "metadata": {},
   "outputs": [],
   "source": [
    "import yaml\n",
    "\n",
    "paramset_idx = 0; paramset_desc='from_top_tracking-DJ-2022-02-23'\n",
    "\n",
    "config_path = find_full_path(get_dlc_root_data_dir()[0], \n",
    "                             paramset_desc + '/config.yaml')\n",
    "\n",
    "with open(config_path, 'rb') as y:\n",
    "    config_params = yaml.safe_load(y)\n",
    "training_params = {'shuffle': '1',\n",
    "                   'trainingsetindex': '0',\n",
    "                   'maxiters': '5',\n",
    "                   'scorer_legacy': 'False',\n",
    "                   'maxiters': '5', \n",
    "                   'multianimalproject':'False'}\n",
    "config_params.update(training_params)\n",
    "train.TrainingParamSet.insert_new_params(paramset_idx=paramset_idx,\n",
    "                                         paramset_desc=paramset_desc,\n",
    "                                         params=config_params)"
   ]
  },
  {
   "cell_type": "code",
   "execution_count": 21,
   "id": "18e274dc",
   "metadata": {},
   "outputs": [],
   "source": [
    "paramset_idx = 1; paramset_desc='Head_orientation-NK-2023-07-17'\n",
    "\n",
    "config_path = find_full_path(get_dlc_root_data_dir()[1], \n",
    "                             paramset_desc + '/config.yaml')\n",
    "\n",
    "with open(config_path, 'rb') as y:\n",
    "    config_params = yaml.safe_load(y)\n",
    "training_params = {'shuffle': '1',\n",
    "                   'trainingsetindex': '0',\n",
    "                   'maxiters': '5',\n",
    "                   'scorer_legacy': 'False',\n",
    "                   'maxiters': '5', \n",
    "                   'multianimalproject':'False'}\n",
    "config_params.update(training_params)\n",
    "train.TrainingParamSet.insert_new_params(paramset_idx=paramset_idx,\n",
    "                                         paramset_desc=paramset_desc,\n",
    "                                         params=config_params)"
   ]
  },
  {
   "cell_type": "code",
   "execution_count": 22,
   "id": "064357fe",
   "metadata": {},
   "outputs": [
    {
     "data": {
      "text/html": [
       "\n",
       "    \n",
       "    <style type=\"text/css\">\n",
       "        .Relation{\n",
       "            border-collapse:collapse;\n",
       "        }\n",
       "        .Relation th{\n",
       "            background: #A0A0A0; color: #ffffff; padding:4px; border:#f0e0e0 1px solid;\n",
       "            font-weight: normal; font-family: monospace; font-size: 100%;\n",
       "        }\n",
       "        .Relation td{\n",
       "            padding:4px; border:#f0e0e0 1px solid; font-size:100%;\n",
       "        }\n",
       "        .Relation tr:nth-child(odd){\n",
       "            background: #ffffff;\n",
       "        }\n",
       "        .Relation tr:nth-child(even){\n",
       "            background: #f3f1ff;\n",
       "        }\n",
       "        /* Tooltip container */\n",
       "        .djtooltip {\n",
       "        }\n",
       "        /* Tooltip text */\n",
       "        .djtooltip .djtooltiptext {\n",
       "            visibility: hidden;\n",
       "            width: 120px;\n",
       "            background-color: black;\n",
       "            color: #fff;\n",
       "            text-align: center;\n",
       "            padding: 5px 0;\n",
       "            border-radius: 6px;\n",
       "            /* Position the tooltip text - see examples below! */\n",
       "            position: absolute;\n",
       "            z-index: 1;\n",
       "        }\n",
       "        #primary {\n",
       "            font-weight: bold;\n",
       "            color: black;\n",
       "        }\n",
       "        #nonprimary {\n",
       "            font-weight: normal;\n",
       "            color: white;\n",
       "        }\n",
       "\n",
       "        /* Show the tooltip text when you mouse over the tooltip container */\n",
       "        .djtooltip:hover .djtooltiptext {\n",
       "            visibility: visible;\n",
       "        }\n",
       "    </style>\n",
       "    \n",
       "    <b>Parameters to specify a DLC model training instance</b>\n",
       "        <div style=\"max-height:1000px;max-width:1500px;overflow:auto;\">\n",
       "        <table border=\"1\" class=\"Relation\">\n",
       "            <thead> <tr style=\"text-align: right;\"> <th> <div class=\"djtooltip\">\n",
       "                            <p id=\"primary\">paramset_idx</p>\n",
       "                            <span class=\"djtooltiptext\"></span>\n",
       "                        </div></th><th><div class=\"djtooltip\">\n",
       "                            <p id=\"nonprimary\">paramset_desc</p>\n",
       "                            <span class=\"djtooltiptext\"></span>\n",
       "                        </div></th><th><div class=\"djtooltip\">\n",
       "                            <p id=\"nonprimary\">param_set_hash</p>\n",
       "                            <span class=\"djtooltiptext\">hash identifying this parameterset</span>\n",
       "                        </div></th><th><div class=\"djtooltip\">\n",
       "                            <p id=\"nonprimary\">params</p>\n",
       "                            <span class=\"djtooltiptext\">dictionary of all applicable parameters</span>\n",
       "                        </div> </th> </tr> </thead>\n",
       "            <tbody> <tr> <td>0</td>\n",
       "<td>from_top_tracking-DJ-2022-02-23</td>\n",
       "<td>d5736a15-23a7-5469-c521-6929b5f1d1b7</td>\n",
       "<td>=BLOB=</td></tr><tr><td>1</td>\n",
       "<td>Head_orientation-NK-2023-07-17</td>\n",
       "<td>c6ec66ba-91f0-b916-fcbd-6dcf9f5adc23</td>\n",
       "<td>=BLOB=</td> </tr> </tbody>\n",
       "        </table>\n",
       "        \n",
       "        <p>Total: 2</p></div>\n",
       "        "
      ],
      "text/plain": [
       "*paramset_idx  paramset_desc  param_set_hash params    \n",
       "+------------+ +------------+ +------------+ +--------+\n",
       "0              from_top_track d5736a15-23a7- =BLOB=    \n",
       "1              Head_orientati c6ec66ba-91f0- =BLOB=    \n",
       " (Total: 2)"
      ]
     },
     "execution_count": 22,
     "metadata": {},
     "output_type": "execute_result"
    }
   ],
   "source": [
    "train.TrainingParamSet()"
   ]
  },
  {
   "cell_type": "code",
   "execution_count": 23,
   "id": "7674018d",
   "metadata": {},
   "outputs": [],
   "source": [
    "# train.TrainingTask.delete()"
   ]
  },
  {
   "cell_type": "code",
   "execution_count": 24,
   "id": "6947589c-0546-472d-8ee6-b5c5b56ffac3",
   "metadata": {},
   "outputs": [
    {
     "data": {
      "text/html": [
       "\n",
       "    \n",
       "    <style type=\"text/css\">\n",
       "        .Relation{\n",
       "            border-collapse:collapse;\n",
       "        }\n",
       "        .Relation th{\n",
       "            background: #A0A0A0; color: #ffffff; padding:4px; border:#f0e0e0 1px solid;\n",
       "            font-weight: normal; font-family: monospace; font-size: 100%;\n",
       "        }\n",
       "        .Relation td{\n",
       "            padding:4px; border:#f0e0e0 1px solid; font-size:100%;\n",
       "        }\n",
       "        .Relation tr:nth-child(odd){\n",
       "            background: #ffffff;\n",
       "        }\n",
       "        .Relation tr:nth-child(even){\n",
       "            background: #f3f1ff;\n",
       "        }\n",
       "        /* Tooltip container */\n",
       "        .djtooltip {\n",
       "        }\n",
       "        /* Tooltip text */\n",
       "        .djtooltip .djtooltiptext {\n",
       "            visibility: hidden;\n",
       "            width: 120px;\n",
       "            background-color: black;\n",
       "            color: #fff;\n",
       "            text-align: center;\n",
       "            padding: 5px 0;\n",
       "            border-radius: 6px;\n",
       "            /* Position the tooltip text - see examples below! */\n",
       "            position: absolute;\n",
       "            z-index: 1;\n",
       "        }\n",
       "        #primary {\n",
       "            font-weight: bold;\n",
       "            color: black;\n",
       "        }\n",
       "        #nonprimary {\n",
       "            font-weight: normal;\n",
       "            color: white;\n",
       "        }\n",
       "\n",
       "        /* Show the tooltip text when you mouse over the tooltip container */\n",
       "        .djtooltip:hover .djtooltiptext {\n",
       "            visibility: visible;\n",
       "        }\n",
       "    </style>\n",
       "    \n",
       "    <b>Specification for a DLC model training instance</b>\n",
       "        <div style=\"max-height:1000px;max-width:1500px;overflow:auto;\">\n",
       "        <table border=\"1\" class=\"Relation\">\n",
       "            <thead> <tr style=\"text-align: right;\"> <th> <div class=\"djtooltip\">\n",
       "                            <p id=\"primary\">video_set_id</p>\n",
       "                            <span class=\"djtooltiptext\"></span>\n",
       "                        </div></th><th><div class=\"djtooltip\">\n",
       "                            <p id=\"primary\">paramset_idx</p>\n",
       "                            <span class=\"djtooltiptext\"></span>\n",
       "                        </div></th><th><div class=\"djtooltip\">\n",
       "                            <p id=\"primary\">training_id</p>\n",
       "                            <span class=\"djtooltiptext\"></span>\n",
       "                        </div></th><th><div class=\"djtooltip\">\n",
       "                            <p id=\"nonprimary\">model_prefix</p>\n",
       "                            <span class=\"djtooltiptext\"></span>\n",
       "                        </div></th><th><div class=\"djtooltip\">\n",
       "                            <p id=\"nonprimary\">project_path</p>\n",
       "                            <span class=\"djtooltiptext\">DLC's project_path in config relative to root</span>\n",
       "                        </div> </th> </tr> </thead>\n",
       "            <tbody> <tr> <td>0</td>\n",
       "<td>0</td>\n",
       "<td>0</td>\n",
       "<td></td>\n",
       "<td>from_top_tracking-DJ-2022-02-23/</td></tr><tr><td>1</td>\n",
       "<td>1</td>\n",
       "<td>1</td>\n",
       "<td></td>\n",
       "<td>Head_orientation-NK-2023-07-17</td> </tr> </tbody>\n",
       "        </table>\n",
       "        \n",
       "        <p>Total: 2</p></div>\n",
       "        "
      ],
      "text/plain": [
       "*video_set_id  *paramset_idx  *training_id   model_prefix   project_path  \n",
       "+------------+ +------------+ +------------+ +------------+ +------------+\n",
       "0              0              0                             from_top_track\n",
       "1              1              1                             Head_orientati\n",
       " (Total: 2)"
      ]
     },
     "execution_count": 24,
     "metadata": {},
     "output_type": "execute_result"
    }
   ],
   "source": [
    "key={'video_set_id': 0, \n",
    "     'paramset_idx':0,\n",
    "     'training_id':0, # uniquely defines training task\n",
    "     'project_path':'from_top_tracking-DJ-2022-02-23/' # relative to dlc_root in dj.config\n",
    "    }\n",
    "train.TrainingTask.insert1(key, skip_duplicates=True)\n",
    "train.TrainingTask()"
   ]
  },
  {
   "cell_type": "code",
   "execution_count": 25,
   "id": "4713381c",
   "metadata": {},
   "outputs": [
    {
     "data": {
      "text/html": [
       "\n",
       "    \n",
       "    <style type=\"text/css\">\n",
       "        .Relation{\n",
       "            border-collapse:collapse;\n",
       "        }\n",
       "        .Relation th{\n",
       "            background: #A0A0A0; color: #ffffff; padding:4px; border:#f0e0e0 1px solid;\n",
       "            font-weight: normal; font-family: monospace; font-size: 100%;\n",
       "        }\n",
       "        .Relation td{\n",
       "            padding:4px; border:#f0e0e0 1px solid; font-size:100%;\n",
       "        }\n",
       "        .Relation tr:nth-child(odd){\n",
       "            background: #ffffff;\n",
       "        }\n",
       "        .Relation tr:nth-child(even){\n",
       "            background: #f3f1ff;\n",
       "        }\n",
       "        /* Tooltip container */\n",
       "        .djtooltip {\n",
       "        }\n",
       "        /* Tooltip text */\n",
       "        .djtooltip .djtooltiptext {\n",
       "            visibility: hidden;\n",
       "            width: 120px;\n",
       "            background-color: black;\n",
       "            color: #fff;\n",
       "            text-align: center;\n",
       "            padding: 5px 0;\n",
       "            border-radius: 6px;\n",
       "            /* Position the tooltip text - see examples below! */\n",
       "            position: absolute;\n",
       "            z-index: 1;\n",
       "        }\n",
       "        #primary {\n",
       "            font-weight: bold;\n",
       "            color: black;\n",
       "        }\n",
       "        #nonprimary {\n",
       "            font-weight: normal;\n",
       "            color: white;\n",
       "        }\n",
       "\n",
       "        /* Show the tooltip text when you mouse over the tooltip container */\n",
       "        .djtooltip:hover .djtooltiptext {\n",
       "            visibility: visible;\n",
       "        }\n",
       "    </style>\n",
       "    \n",
       "    <b>Specification for a DLC model training instance</b>\n",
       "        <div style=\"max-height:1000px;max-width:1500px;overflow:auto;\">\n",
       "        <table border=\"1\" class=\"Relation\">\n",
       "            <thead> <tr style=\"text-align: right;\"> <th> <div class=\"djtooltip\">\n",
       "                            <p id=\"primary\">video_set_id</p>\n",
       "                            <span class=\"djtooltiptext\"></span>\n",
       "                        </div></th><th><div class=\"djtooltip\">\n",
       "                            <p id=\"primary\">paramset_idx</p>\n",
       "                            <span class=\"djtooltiptext\"></span>\n",
       "                        </div></th><th><div class=\"djtooltip\">\n",
       "                            <p id=\"primary\">training_id</p>\n",
       "                            <span class=\"djtooltiptext\"></span>\n",
       "                        </div></th><th><div class=\"djtooltip\">\n",
       "                            <p id=\"nonprimary\">model_prefix</p>\n",
       "                            <span class=\"djtooltiptext\"></span>\n",
       "                        </div></th><th><div class=\"djtooltip\">\n",
       "                            <p id=\"nonprimary\">project_path</p>\n",
       "                            <span class=\"djtooltiptext\">DLC's project_path in config relative to root</span>\n",
       "                        </div> </th> </tr> </thead>\n",
       "            <tbody> <tr> <td>0</td>\n",
       "<td>0</td>\n",
       "<td>0</td>\n",
       "<td></td>\n",
       "<td>from_top_tracking-DJ-2022-02-23/</td></tr><tr><td>1</td>\n",
       "<td>1</td>\n",
       "<td>1</td>\n",
       "<td></td>\n",
       "<td>Head_orientation-NK-2023-07-17</td> </tr> </tbody>\n",
       "        </table>\n",
       "        \n",
       "        <p>Total: 2</p></div>\n",
       "        "
      ],
      "text/plain": [
       "*video_set_id  *paramset_idx  *training_id   model_prefix   project_path  \n",
       "+------------+ +------------+ +------------+ +------------+ +------------+\n",
       "0              0              0                             from_top_track\n",
       "1              1              1                             Head_orientati\n",
       " (Total: 2)"
      ]
     },
     "execution_count": 25,
     "metadata": {},
     "output_type": "execute_result"
    }
   ],
   "source": [
    "key={'video_set_id': 1, \n",
    "     'paramset_idx':1,\n",
    "     'training_id':1, # uniquely defines training task\n",
    "     'project_path':'Head_orientation-NK-2023-07-17' # relative to dlc_root in dj.config\n",
    "    }\n",
    "train.TrainingTask.insert1(key, skip_duplicates=True)\n",
    "train.TrainingTask()"
   ]
  },
  {
   "cell_type": "code",
   "execution_count": 26,
   "id": "168d4f53",
   "metadata": {},
   "outputs": [
    {
     "data": {
      "text/plain": [
       "array([{'Task': 'Head_orientation', 'scorer': 'NK', 'date': 'Jul17', 'multianimalproject': 'False', 'identity': None, 'bodyparts': ['left_ear', 'right_ear', 'nose', 'head_middle', 'neck', 'body_middle', 'tail'], 'start': 0, 'stop': 1, 'numframes2pick': 100, 'skeleton': [['bodypart1', 'bodypart2'], ['objectA', 'bodypart3']], 'skeleton_color': 'black', 'pcutoff': 0.6, 'dotsize': 12, 'alphavalue': 0.7, 'colormap': 'rainbow', 'TrainingFraction': [0.95], 'iteration': 0, 'default_net_type': 'resnet_50', 'default_augmenter': 'default', 'snapshotindex': 3, 'batch_size': 8, 'cropping': False, 'x1': 0, 'x2': 640, 'y1': 277, 'y2': 624, 'corner2move2': [50, 50], 'move2corner': True, 'shuffle': '1', 'trainingsetindex': '0', 'maxiters': '5', 'scorer_legacy': 'False'}],\n",
       "      dtype=object)"
      ]
     },
     "execution_count": 26,
     "metadata": {},
     "output_type": "execute_result"
    }
   ],
   "source": [
    "(train.TrainingParamSet & \"paramset_idx=1\").fetch(\"params\")"
   ]
  },
  {
   "cell_type": "code",
   "execution_count": 27,
   "id": "1b15fb3c",
   "metadata": {},
   "outputs": [
    {
     "data": {
      "text/html": [
       "\n",
       "    \n",
       "    <style type=\"text/css\">\n",
       "        .Relation{\n",
       "            border-collapse:collapse;\n",
       "        }\n",
       "        .Relation th{\n",
       "            background: #A0A0A0; color: #ffffff; padding:4px; border:#f0e0e0 1px solid;\n",
       "            font-weight: normal; font-family: monospace; font-size: 100%;\n",
       "        }\n",
       "        .Relation td{\n",
       "            padding:4px; border:#f0e0e0 1px solid; font-size:100%;\n",
       "        }\n",
       "        .Relation tr:nth-child(odd){\n",
       "            background: #ffffff;\n",
       "        }\n",
       "        .Relation tr:nth-child(even){\n",
       "            background: #f3f1ff;\n",
       "        }\n",
       "        /* Tooltip container */\n",
       "        .djtooltip {\n",
       "        }\n",
       "        /* Tooltip text */\n",
       "        .djtooltip .djtooltiptext {\n",
       "            visibility: hidden;\n",
       "            width: 120px;\n",
       "            background-color: black;\n",
       "            color: #fff;\n",
       "            text-align: center;\n",
       "            padding: 5px 0;\n",
       "            border-radius: 6px;\n",
       "            /* Position the tooltip text - see examples below! */\n",
       "            position: absolute;\n",
       "            z-index: 1;\n",
       "        }\n",
       "        #primary {\n",
       "            font-weight: bold;\n",
       "            color: black;\n",
       "        }\n",
       "        #nonprimary {\n",
       "            font-weight: normal;\n",
       "            color: white;\n",
       "        }\n",
       "\n",
       "        /* Show the tooltip text when you mouse over the tooltip container */\n",
       "        .djtooltip:hover .djtooltiptext {\n",
       "            visibility: visible;\n",
       "        }\n",
       "    </style>\n",
       "    \n",
       "    <b>Specification for a DLC model training instance</b>\n",
       "        <div style=\"max-height:1000px;max-width:1500px;overflow:auto;\">\n",
       "        <table border=\"1\" class=\"Relation\">\n",
       "            <thead> <tr style=\"text-align: right;\"> <th> <div class=\"djtooltip\">\n",
       "                            <p id=\"primary\">video_set_id</p>\n",
       "                            <span class=\"djtooltiptext\"></span>\n",
       "                        </div></th><th><div class=\"djtooltip\">\n",
       "                            <p id=\"primary\">paramset_idx</p>\n",
       "                            <span class=\"djtooltiptext\"></span>\n",
       "                        </div></th><th><div class=\"djtooltip\">\n",
       "                            <p id=\"primary\">training_id</p>\n",
       "                            <span class=\"djtooltiptext\"></span>\n",
       "                        </div></th><th><div class=\"djtooltip\">\n",
       "                            <p id=\"nonprimary\">model_prefix</p>\n",
       "                            <span class=\"djtooltiptext\"></span>\n",
       "                        </div></th><th><div class=\"djtooltip\">\n",
       "                            <p id=\"nonprimary\">project_path</p>\n",
       "                            <span class=\"djtooltiptext\">DLC's project_path in config relative to root</span>\n",
       "                        </div> </th> </tr> </thead>\n",
       "            <tbody> <tr> <td>0</td>\n",
       "<td>0</td>\n",
       "<td>0</td>\n",
       "<td></td>\n",
       "<td>from_top_tracking-DJ-2022-02-23/</td></tr><tr><td>1</td>\n",
       "<td>1</td>\n",
       "<td>1</td>\n",
       "<td></td>\n",
       "<td>Head_orientation-NK-2023-07-17</td> </tr> </tbody>\n",
       "        </table>\n",
       "        \n",
       "        <p>Total: 2</p></div>\n",
       "        "
      ],
      "text/plain": [
       "*video_set_id  *paramset_idx  *training_id   model_prefix   project_path  \n",
       "+------------+ +------------+ +------------+ +------------+ +------------+\n",
       "0              0              0                             from_top_track\n",
       "1              1              1                             Head_orientati\n",
       " (Total: 2)"
      ]
     },
     "execution_count": 27,
     "metadata": {},
     "output_type": "execute_result"
    }
   ],
   "source": [
    "# (train.TrainingTask() & (\"video_set_id = 1\")).delete()\n",
    "train.TrainingTask()"
   ]
  },
  {
   "cell_type": "code",
   "execution_count": 28,
   "id": "2a493f78-6a1d-4c5e-8606-7c01c68f7c66",
   "metadata": {
    "tags": []
   },
   "outputs": [
    {
     "name": "stderr",
     "output_type": "stream",
     "text": [
      "Config:\n",
      "{'all_joints': [[0], [1], [2]],\n",
      " 'all_joints_names': ['head', 'bodycenter', 'tailbase'],\n",
      " 'alpha_r': 0.02,\n",
      " 'apply_prob': 0.5,\n",
      " 'batch_size': 1,\n",
      " 'clahe': True,\n",
      " 'claheratio': 0.1,\n",
      " 'crop_pad': 0,\n",
      " 'crop_sampling': 'hybrid',\n",
      " 'crop_size': [400, 400],\n",
      " 'cropratio': 0.4,\n",
      " 'dataset': 'training-datasets\\\\iteration-0\\\\UnaugmentedDataSet_from_top_trackingFeb23\\\\from_top_tracking_DJ95shuffle1.mat',\n",
      " 'dataset_type': 'imgaug',\n",
      " 'decay_steps': 30000,\n",
      " 'deterministic': False,\n",
      " 'display_iters': 1000,\n",
      " 'edge': False,\n",
      " 'emboss': {'alpha': [0.0, 1.0], 'embossratio': 0.1, 'strength': [0.5, 1.5]},\n",
      " 'fg_fraction': 0.25,\n",
      " 'global_scale': 0.8,\n",
      " 'histeq': True,\n",
      " 'histeqratio': 0.1,\n",
      " 'init_weights': 'C:\\\\Users\\\\mini2p_1_aux\\\\.conda\\\\envs\\\\DEEPLABCUT_GPU\\\\lib\\\\site-packages\\\\deeplabcut\\\\pose_estimation_tensorflow\\\\models\\\\pretrained\\\\mobilenet_v2_1.0_224.ckpt',\n",
      " 'intermediate_supervision': False,\n",
      " 'intermediate_supervision_layer': 12,\n",
      " 'location_refinement': True,\n",
      " 'locref_huber_loss': True,\n",
      " 'locref_loss_weight': 0.05,\n",
      " 'locref_stdev': 7.2801,\n",
      " 'log_dir': 'log',\n",
      " 'lr_init': 0.0005,\n",
      " 'max_input_size': 1500,\n",
      " 'max_shift': 0.4,\n",
      " 'mean_pixel': [123.68, 116.779, 103.939],\n",
      " 'metadataset': 'training-datasets\\\\iteration-0\\\\UnaugmentedDataSet_from_top_trackingFeb23\\\\Documentation_data-from_top_tracking_95shuffle1.pickle',\n",
      " 'min_input_size': 64,\n",
      " 'mirror': False,\n",
      " 'multi_stage': False,\n",
      " 'multi_step': [[0.005, 10000],\n",
      "                [0.02, 430000],\n",
      "                [0.002, 730000],\n",
      "                [0.001, 1030000]],\n",
      " 'net_type': 'mobilenet_v2_1.0',\n",
      " 'num_joints': 3,\n",
      " 'optimizer': 'sgd',\n",
      " 'pairwise_huber_loss': False,\n",
      " 'pairwise_predict': False,\n",
      " 'partaffinityfield_predict': False,\n",
      " 'pos_dist_thresh': 17,\n",
      " 'pre_resize': [],\n",
      " 'project_path': 'C:\\\\Users\\\\mini2p_1_aux\\\\DLC\\\\NEW\\\\from_top_tracking-DJ-2022-02-23',\n",
      " 'regularize': False,\n",
      " 'rotation': 25,\n",
      " 'rotratio': 0.4,\n",
      " 'save_iters': 50000,\n",
      " 'scale_jitter_lo': 0.5,\n",
      " 'scale_jitter_up': 1.25,\n",
      " 'scoremap_dir': 'test',\n",
      " 'sharpen': False,\n",
      " 'sharpenratio': 0.3,\n",
      " 'shuffle': True,\n",
      " 'snapshot_prefix': '/datajoint-data/data/tobiasr/DeepLabCutModels/DB_DLC_tracking/from_top_tracking-DJ-2022-02-23/dlc-models/iteration-0/from_top_trackingFeb23-trainset95shuffle1/train/snapshot',\n",
      " 'stride': 8.0,\n",
      " 'weigh_negatives': False,\n",
      " 'weigh_only_present_joints': False,\n",
      " 'weigh_part_predictions': False,\n",
      " 'weight_decay': 0.0001}\n"
     ]
    },
    {
     "name": "stdout",
     "output_type": "stream",
     "text": [
      "Selecting single-animal trainer\n"
     ]
    },
    {
     "ename": "FileNotFoundError",
     "evalue": "[Errno 2] No such file or directory: 'C:\\\\Users\\\\mini2p_1_aux\\\\DLC\\\\NEW\\\\from_top_tracking-DJ-2022-02-23/training-datasets\\\\iteration-0\\\\UnaugmentedDataSet_from_top_trackingFeb23\\\\from_top_tracking_DJ95shuffle1.mat'",
     "output_type": "error",
     "traceback": [
      "\u001b[0;31m---------------------------------------------------------------------------\u001b[0m",
      "\u001b[0;31mFileNotFoundError\u001b[0m                         Traceback (most recent call last)",
      "File \u001b[0;32m~/miniconda3/envs/datajoint/lib/python3.8/site-packages/scipy/io/matlab/_mio.py:39\u001b[0m, in \u001b[0;36m_open_file\u001b[0;34m(file_like, appendmat, mode)\u001b[0m\n\u001b[1;32m     38\u001b[0m \u001b[39mtry\u001b[39;00m:\n\u001b[0;32m---> 39\u001b[0m     \u001b[39mreturn\u001b[39;00m \u001b[39mopen\u001b[39;49m(file_like, mode), \u001b[39mTrue\u001b[39;00m\n\u001b[1;32m     40\u001b[0m \u001b[39mexcept\u001b[39;00m \u001b[39mOSError\u001b[39;00m \u001b[39mas\u001b[39;00m e:\n\u001b[1;32m     41\u001b[0m     \u001b[39m# Probably \"not found\"\u001b[39;00m\n",
      "\u001b[0;31mFileNotFoundError\u001b[0m: [Errno 2] No such file or directory: 'C:\\\\Users\\\\mini2p_1_aux\\\\DLC\\\\NEW\\\\from_top_tracking-DJ-2022-02-23/training-datasets\\\\iteration-0\\\\UnaugmentedDataSet_from_top_trackingFeb23\\\\from_top_tracking_DJ95shuffle1.mat'",
      "\nDuring handling of the above exception, another exception occurred:\n",
      "\u001b[0;31mFileNotFoundError\u001b[0m                         Traceback (most recent call last)",
      "\u001b[1;32m/home/tobiasr/adamacs/notebooks/05_DeepLabCut.ipynb Cell 42\u001b[0m in \u001b[0;36m<cell line: 1>\u001b[0;34m()\u001b[0m\n\u001b[0;32m----> <a href='vscode-notebook-cell://ssh-remote%2B172.26.128.53/home/tobiasr/adamacs/notebooks/05_DeepLabCut.ipynb#X55sdnNjb2RlLXJlbW90ZQ%3D%3D?line=0'>1</a>\u001b[0m train\u001b[39m.\u001b[39;49mModelTraining\u001b[39m.\u001b[39;49mpopulate()\n",
      "File \u001b[0;32m~/miniconda3/envs/datajoint/lib/python3.8/site-packages/datajoint/autopopulate.py:230\u001b[0m, in \u001b[0;36mAutoPopulate.populate\u001b[0;34m(self, suppress_errors, return_exception_objects, reserve_jobs, order, limit, max_calls, display_progress, processes, make_kwargs, *restrictions)\u001b[0m\n\u001b[1;32m    226\u001b[0m \u001b[39mif\u001b[39;00m processes \u001b[39m==\u001b[39m \u001b[39m1\u001b[39m:\n\u001b[1;32m    227\u001b[0m     \u001b[39mfor\u001b[39;00m key \u001b[39min\u001b[39;00m (\n\u001b[1;32m    228\u001b[0m         tqdm(keys, desc\u001b[39m=\u001b[39m\u001b[39mself\u001b[39m\u001b[39m.\u001b[39m\u001b[39m__class__\u001b[39m\u001b[39m.\u001b[39m\u001b[39m__name__\u001b[39m) \u001b[39mif\u001b[39;00m display_progress \u001b[39melse\u001b[39;00m keys\n\u001b[1;32m    229\u001b[0m     ):\n\u001b[0;32m--> 230\u001b[0m         error \u001b[39m=\u001b[39m \u001b[39mself\u001b[39;49m\u001b[39m.\u001b[39;49m_populate1(key, jobs, \u001b[39m*\u001b[39;49m\u001b[39m*\u001b[39;49mpopulate_kwargs)\n\u001b[1;32m    231\u001b[0m         \u001b[39mif\u001b[39;00m error \u001b[39mis\u001b[39;00m \u001b[39mnot\u001b[39;00m \u001b[39mNone\u001b[39;00m:\n\u001b[1;32m    232\u001b[0m             error_list\u001b[39m.\u001b[39mappend(error)\n",
      "File \u001b[0;32m~/miniconda3/envs/datajoint/lib/python3.8/site-packages/datajoint/autopopulate.py:281\u001b[0m, in \u001b[0;36mAutoPopulate._populate1\u001b[0;34m(self, key, jobs, suppress_errors, return_exception_objects, make_kwargs)\u001b[0m\n\u001b[1;32m    279\u001b[0m \u001b[39mself\u001b[39m\u001b[39m.\u001b[39m\u001b[39m__class__\u001b[39m\u001b[39m.\u001b[39m_allow_insert \u001b[39m=\u001b[39m \u001b[39mTrue\u001b[39;00m\n\u001b[1;32m    280\u001b[0m \u001b[39mtry\u001b[39;00m:\n\u001b[0;32m--> 281\u001b[0m     make(\u001b[39mdict\u001b[39;49m(key), \u001b[39m*\u001b[39;49m\u001b[39m*\u001b[39;49m(make_kwargs \u001b[39mor\u001b[39;49;00m {}))\n\u001b[1;32m    282\u001b[0m \u001b[39mexcept\u001b[39;00m (\u001b[39mKeyboardInterrupt\u001b[39;00m, \u001b[39mSystemExit\u001b[39;00m, \u001b[39mException\u001b[39;00m) \u001b[39mas\u001b[39;00m error:\n\u001b[1;32m    283\u001b[0m     \u001b[39mtry\u001b[39;00m:\n",
      "File \u001b[0;32m~/github/element-deeplabcut/element_deeplabcut/train.py:288\u001b[0m, in \u001b[0;36mModelTraining.make\u001b[0;34m(self, key)\u001b[0m\n\u001b[1;32m    285\u001b[0m     train_network_kwargs[k] \u001b[39m=\u001b[39m \u001b[39mint\u001b[39m(train_network_kwargs[k])\n\u001b[1;32m    287\u001b[0m \u001b[39mtry\u001b[39;00m:\n\u001b[0;32m--> 288\u001b[0m     train_network(dlc_cfg_filepath, \u001b[39m*\u001b[39;49m\u001b[39m*\u001b[39;49mtrain_network_kwargs)\n\u001b[1;32m    289\u001b[0m \u001b[39mexcept\u001b[39;00m \u001b[39mKeyboardInterrupt\u001b[39;00m:  \u001b[39m# Instructions indicate to train until interrupt\u001b[39;00m\n\u001b[1;32m    290\u001b[0m     \u001b[39mprint\u001b[39m(\u001b[39m\"\u001b[39m\u001b[39mDLC training stopped via Keyboard Interrupt\u001b[39m\u001b[39m\"\u001b[39m)\n",
      "File \u001b[0;32m~/miniconda3/envs/datajoint/lib/python3.8/site-packages/deeplabcut/pose_estimation_tensorflow/training.py:223\u001b[0m, in \u001b[0;36mtrain_network\u001b[0;34m(config, shuffle, trainingsetindex, max_snapshots_to_keep, displayiters, saveiters, maxiters, allow_growth, gputouse, autotune, keepdeconvweights, modelprefix)\u001b[0m\n\u001b[1;32m    212\u001b[0m         train(\n\u001b[1;32m    213\u001b[0m             \u001b[39mstr\u001b[39m(poseconfigfile),\n\u001b[1;32m    214\u001b[0m             displayiters,\n\u001b[0;32m   (...)\u001b[0m\n\u001b[1;32m    219\u001b[0m             allow_growth\u001b[39m=\u001b[39mallow_growth,\n\u001b[1;32m    220\u001b[0m         )  \u001b[39m# pass on path and file name for pose_cfg.yaml!\u001b[39;00m\n\u001b[1;32m    222\u001b[0m \u001b[39mexcept\u001b[39;00m \u001b[39mBaseException\u001b[39;00m \u001b[39mas\u001b[39;00m e:\n\u001b[0;32m--> 223\u001b[0m     \u001b[39mraise\u001b[39;00m e\n\u001b[1;32m    224\u001b[0m \u001b[39mfinally\u001b[39;00m:\n\u001b[1;32m    225\u001b[0m     os\u001b[39m.\u001b[39mchdir(\u001b[39mstr\u001b[39m(start_path))\n",
      "File \u001b[0;32m~/miniconda3/envs/datajoint/lib/python3.8/site-packages/deeplabcut/pose_estimation_tensorflow/training.py:212\u001b[0m, in \u001b[0;36mtrain_network\u001b[0;34m(config, shuffle, trainingsetindex, max_snapshots_to_keep, displayiters, saveiters, maxiters, allow_growth, gputouse, autotune, keepdeconvweights, modelprefix)\u001b[0m\n\u001b[1;32m    209\u001b[0m         \u001b[39mfrom\u001b[39;00m \u001b[39mdeeplabcut\u001b[39;00m\u001b[39m.\u001b[39;00m\u001b[39mpose_estimation_tensorflow\u001b[39;00m\u001b[39m.\u001b[39;00m\u001b[39mcore\u001b[39;00m\u001b[39m.\u001b[39;00m\u001b[39mtrain\u001b[39;00m \u001b[39mimport\u001b[39;00m train\n\u001b[1;32m    211\u001b[0m         \u001b[39mprint\u001b[39m(\u001b[39m\"\u001b[39m\u001b[39mSelecting single-animal trainer\u001b[39m\u001b[39m\"\u001b[39m)\n\u001b[0;32m--> 212\u001b[0m         train(\n\u001b[1;32m    213\u001b[0m             \u001b[39mstr\u001b[39;49m(poseconfigfile),\n\u001b[1;32m    214\u001b[0m             displayiters,\n\u001b[1;32m    215\u001b[0m             saveiters,\n\u001b[1;32m    216\u001b[0m             maxiters,\n\u001b[1;32m    217\u001b[0m             max_to_keep\u001b[39m=\u001b[39;49mmax_snapshots_to_keep,\n\u001b[1;32m    218\u001b[0m             keepdeconvweights\u001b[39m=\u001b[39;49mkeepdeconvweights,\n\u001b[1;32m    219\u001b[0m             allow_growth\u001b[39m=\u001b[39;49mallow_growth,\n\u001b[1;32m    220\u001b[0m         )  \u001b[39m# pass on path and file name for pose_cfg.yaml!\u001b[39;00m\n\u001b[1;32m    222\u001b[0m \u001b[39mexcept\u001b[39;00m \u001b[39mBaseException\u001b[39;00m \u001b[39mas\u001b[39;00m e:\n\u001b[1;32m    223\u001b[0m     \u001b[39mraise\u001b[39;00m e\n",
      "File \u001b[0;32m~/miniconda3/envs/datajoint/lib/python3.8/site-packages/deeplabcut/pose_estimation_tensorflow/core/train.py:169\u001b[0m, in \u001b[0;36mtrain\u001b[0;34m(config_yaml, displayiters, saveiters, maxiters, max_to_keep, keepdeconvweights, allow_growth)\u001b[0m\n\u001b[1;32m    164\u001b[0m     \u001b[39mprint\u001b[39m(\n\u001b[1;32m    165\u001b[0m         \u001b[39m\"\u001b[39m\u001b[39mSwitching batchsize to 1, as tensorpack/scalecrop/deterministic loaders do not support batches >1. Use imgaug/default loader.\u001b[39m\u001b[39m\"\u001b[39m\n\u001b[1;32m    166\u001b[0m     )\n\u001b[1;32m    167\u001b[0m     cfg[\u001b[39m\"\u001b[39m\u001b[39mbatch_size\u001b[39m\u001b[39m\"\u001b[39m] \u001b[39m=\u001b[39m \u001b[39m1\u001b[39m  \u001b[39m# in case this was edited for analysis.-\u001b[39;00m\n\u001b[0;32m--> 169\u001b[0m dataset \u001b[39m=\u001b[39m PoseDatasetFactory\u001b[39m.\u001b[39;49mcreate(cfg)\n\u001b[1;32m    170\u001b[0m batch_spec \u001b[39m=\u001b[39m get_batch_spec(cfg)\n\u001b[1;32m    171\u001b[0m batch, enqueue_op, placeholders \u001b[39m=\u001b[39m setup_preloading(batch_spec)\n",
      "File \u001b[0;32m~/miniconda3/envs/datajoint/lib/python3.8/site-packages/deeplabcut/pose_estimation_tensorflow/datasets/factory.py:38\u001b[0m, in \u001b[0;36mPoseDatasetFactory.create\u001b[0;34m(cls, cfg)\u001b[0m\n\u001b[1;32m     36\u001b[0m \u001b[39mif\u001b[39;00m dataset \u001b[39mis\u001b[39;00m \u001b[39mNone\u001b[39;00m:\n\u001b[1;32m     37\u001b[0m     \u001b[39mraise\u001b[39;00m \u001b[39mValueError\u001b[39;00m(\u001b[39mf\u001b[39m\u001b[39m\"\u001b[39m\u001b[39mUnsupported dataset of type \u001b[39m\u001b[39m{\u001b[39;00mdataset_type\u001b[39m}\u001b[39;00m\u001b[39m\"\u001b[39m)\n\u001b[0;32m---> 38\u001b[0m \u001b[39mreturn\u001b[39;00m dataset(cfg)\n",
      "File \u001b[0;32m~/miniconda3/envs/datajoint/lib/python3.8/site-packages/deeplabcut/pose_estimation_tensorflow/datasets/pose_imgaug.py:38\u001b[0m, in \u001b[0;36mImgaugPoseDataset.__init__\u001b[0;34m(self, cfg)\u001b[0m\n\u001b[1;32m     36\u001b[0m \u001b[39msuper\u001b[39m(ImgaugPoseDataset, \u001b[39mself\u001b[39m)\u001b[39m.\u001b[39m\u001b[39m__init__\u001b[39m(cfg)\n\u001b[1;32m     37\u001b[0m \u001b[39mself\u001b[39m\u001b[39m.\u001b[39m_n_kpts \u001b[39m=\u001b[39m \u001b[39mlen\u001b[39m(cfg[\u001b[39m\"\u001b[39m\u001b[39mall_joints_names\u001b[39m\u001b[39m\"\u001b[39m])\n\u001b[0;32m---> 38\u001b[0m \u001b[39mself\u001b[39m\u001b[39m.\u001b[39mdata \u001b[39m=\u001b[39m \u001b[39mself\u001b[39;49m\u001b[39m.\u001b[39;49mload_dataset()\n\u001b[1;32m     39\u001b[0m \u001b[39mself\u001b[39m\u001b[39m.\u001b[39mbatch_size \u001b[39m=\u001b[39m cfg\u001b[39m.\u001b[39mget(\u001b[39m\"\u001b[39m\u001b[39mbatch_size\u001b[39m\u001b[39m\"\u001b[39m, \u001b[39m1\u001b[39m)\n\u001b[1;32m     40\u001b[0m \u001b[39mself\u001b[39m\u001b[39m.\u001b[39mnum_images \u001b[39m=\u001b[39m \u001b[39mlen\u001b[39m(\u001b[39mself\u001b[39m\u001b[39m.\u001b[39mdata)\n",
      "File \u001b[0;32m~/miniconda3/envs/datajoint/lib/python3.8/site-packages/deeplabcut/pose_estimation_tensorflow/datasets/pose_imgaug.py:83\u001b[0m, in \u001b[0;36mImgaugPoseDataset.load_dataset\u001b[0;34m(self)\u001b[0m\n\u001b[1;32m     81\u001b[0m file_name \u001b[39m=\u001b[39m os\u001b[39m.\u001b[39mpath\u001b[39m.\u001b[39mjoin(\u001b[39mself\u001b[39m\u001b[39m.\u001b[39mcfg[\u001b[39m\"\u001b[39m\u001b[39mproject_path\u001b[39m\u001b[39m\"\u001b[39m], cfg[\u001b[39m\"\u001b[39m\u001b[39mdataset\u001b[39m\u001b[39m\"\u001b[39m])\n\u001b[1;32m     82\u001b[0m \u001b[39mif\u001b[39;00m \u001b[39m\"\u001b[39m\u001b[39m.mat\u001b[39m\u001b[39m\"\u001b[39m \u001b[39min\u001b[39;00m file_name:  \u001b[39m# legacy loader\u001b[39;00m\n\u001b[0;32m---> 83\u001b[0m     mlab \u001b[39m=\u001b[39m sio\u001b[39m.\u001b[39;49mloadmat(file_name)\n\u001b[1;32m     84\u001b[0m     \u001b[39mself\u001b[39m\u001b[39m.\u001b[39mraw_data \u001b[39m=\u001b[39m mlab\n\u001b[1;32m     85\u001b[0m     mlab \u001b[39m=\u001b[39m mlab[\u001b[39m\"\u001b[39m\u001b[39mdataset\u001b[39m\u001b[39m\"\u001b[39m]\n",
      "File \u001b[0;32m~/miniconda3/envs/datajoint/lib/python3.8/site-packages/scipy/io/matlab/_mio.py:224\u001b[0m, in \u001b[0;36mloadmat\u001b[0;34m(file_name, mdict, appendmat, **kwargs)\u001b[0m\n\u001b[1;32m     87\u001b[0m \u001b[39m\u001b[39m\u001b[39m\"\"\"\u001b[39;00m\n\u001b[1;32m     88\u001b[0m \u001b[39mLoad MATLAB file.\u001b[39;00m\n\u001b[1;32m     89\u001b[0m \n\u001b[0;32m   (...)\u001b[0m\n\u001b[1;32m    221\u001b[0m \u001b[39m    3.14159265+3.14159265j])\u001b[39;00m\n\u001b[1;32m    222\u001b[0m \u001b[39m\"\"\"\u001b[39;00m\n\u001b[1;32m    223\u001b[0m variable_names \u001b[39m=\u001b[39m kwargs\u001b[39m.\u001b[39mpop(\u001b[39m'\u001b[39m\u001b[39mvariable_names\u001b[39m\u001b[39m'\u001b[39m, \u001b[39mNone\u001b[39;00m)\n\u001b[0;32m--> 224\u001b[0m \u001b[39mwith\u001b[39;00m _open_file_context(file_name, appendmat) \u001b[39mas\u001b[39;00m f:\n\u001b[1;32m    225\u001b[0m     MR, _ \u001b[39m=\u001b[39m mat_reader_factory(f, \u001b[39m*\u001b[39m\u001b[39m*\u001b[39mkwargs)\n\u001b[1;32m    226\u001b[0m     matfile_dict \u001b[39m=\u001b[39m MR\u001b[39m.\u001b[39mget_variables(variable_names)\n",
      "File \u001b[0;32m~/miniconda3/envs/datajoint/lib/python3.8/contextlib.py:113\u001b[0m, in \u001b[0;36m_GeneratorContextManager.__enter__\u001b[0;34m(self)\u001b[0m\n\u001b[1;32m    111\u001b[0m \u001b[39mdel\u001b[39;00m \u001b[39mself\u001b[39m\u001b[39m.\u001b[39margs, \u001b[39mself\u001b[39m\u001b[39m.\u001b[39mkwds, \u001b[39mself\u001b[39m\u001b[39m.\u001b[39mfunc\n\u001b[1;32m    112\u001b[0m \u001b[39mtry\u001b[39;00m:\n\u001b[0;32m--> 113\u001b[0m     \u001b[39mreturn\u001b[39;00m \u001b[39mnext\u001b[39;49m(\u001b[39mself\u001b[39;49m\u001b[39m.\u001b[39;49mgen)\n\u001b[1;32m    114\u001b[0m \u001b[39mexcept\u001b[39;00m \u001b[39mStopIteration\u001b[39;00m:\n\u001b[1;32m    115\u001b[0m     \u001b[39mraise\u001b[39;00m \u001b[39mRuntimeError\u001b[39;00m(\u001b[39m\"\u001b[39m\u001b[39mgenerator didn\u001b[39m\u001b[39m'\u001b[39m\u001b[39mt yield\u001b[39m\u001b[39m\"\u001b[39m) \u001b[39mfrom\u001b[39;00m \u001b[39mNone\u001b[39;00m\n",
      "File \u001b[0;32m~/miniconda3/envs/datajoint/lib/python3.8/site-packages/scipy/io/matlab/_mio.py:17\u001b[0m, in \u001b[0;36m_open_file_context\u001b[0;34m(file_like, appendmat, mode)\u001b[0m\n\u001b[1;32m     15\u001b[0m \u001b[39m@contextmanager\u001b[39m\n\u001b[1;32m     16\u001b[0m \u001b[39mdef\u001b[39;00m \u001b[39m_open_file_context\u001b[39m(file_like, appendmat, mode\u001b[39m=\u001b[39m\u001b[39m'\u001b[39m\u001b[39mrb\u001b[39m\u001b[39m'\u001b[39m):\n\u001b[0;32m---> 17\u001b[0m     f, opened \u001b[39m=\u001b[39m _open_file(file_like, appendmat, mode)\n\u001b[1;32m     18\u001b[0m     \u001b[39mtry\u001b[39;00m:\n\u001b[1;32m     19\u001b[0m         \u001b[39myield\u001b[39;00m f\n",
      "File \u001b[0;32m~/miniconda3/envs/datajoint/lib/python3.8/site-packages/scipy/io/matlab/_mio.py:45\u001b[0m, in \u001b[0;36m_open_file\u001b[0;34m(file_like, appendmat, mode)\u001b[0m\n\u001b[1;32m     43\u001b[0m     \u001b[39mif\u001b[39;00m appendmat \u001b[39mand\u001b[39;00m \u001b[39mnot\u001b[39;00m file_like\u001b[39m.\u001b[39mendswith(\u001b[39m'\u001b[39m\u001b[39m.mat\u001b[39m\u001b[39m'\u001b[39m):\n\u001b[1;32m     44\u001b[0m         file_like \u001b[39m+\u001b[39m\u001b[39m=\u001b[39m \u001b[39m'\u001b[39m\u001b[39m.mat\u001b[39m\u001b[39m'\u001b[39m\n\u001b[0;32m---> 45\u001b[0m     \u001b[39mreturn\u001b[39;00m \u001b[39mopen\u001b[39;49m(file_like, mode), \u001b[39mTrue\u001b[39;00m\n\u001b[1;32m     46\u001b[0m \u001b[39melse\u001b[39;00m:\n\u001b[1;32m     47\u001b[0m     \u001b[39mraise\u001b[39;00m \u001b[39mOSError\u001b[39;00m(\n\u001b[1;32m     48\u001b[0m         \u001b[39m'\u001b[39m\u001b[39mReader needs file name or open file-like object\u001b[39m\u001b[39m'\u001b[39m\n\u001b[1;32m     49\u001b[0m     ) \u001b[39mfrom\u001b[39;00m \u001b[39me\u001b[39;00m\n",
      "\u001b[0;31mFileNotFoundError\u001b[0m: [Errno 2] No such file or directory: 'C:\\\\Users\\\\mini2p_1_aux\\\\DLC\\\\NEW\\\\from_top_tracking-DJ-2022-02-23/training-datasets\\\\iteration-0\\\\UnaugmentedDataSet_from_top_trackingFeb23\\\\from_top_tracking_DJ95shuffle1.mat'"
     ]
    }
   ],
   "source": [
    "train.ModelTraining.populate()"
   ]
  },
  {
   "cell_type": "code",
   "execution_count": null,
   "id": "be4bc25b-04ae-4f97-813e-c316ddb0a739",
   "metadata": {},
   "outputs": [],
   "source": [
    "train.ModelTraining()"
   ]
  },
  {
   "cell_type": "markdown",
   "id": "4b8e3299-63b9-49cc-a010-04d81ba552fd",
   "metadata": {},
   "source": [
    "To start training from a previous instance, one would need to \n",
    "[edit the relevant config file](https://github.com/DeepLabCut/DeepLabCut/issues/70) and\n",
    "adjust the `maxiters` paramset (if present) to a higher threshold (e.g., 10 for 5 more itterations).\n",
    "Emperical work from the Mathis team suggests 200k iterations for any true use-case."
   ]
  },
  {
   "cell_type": "markdown",
   "id": "0f3fb14a-64a2-4bfa-9e03-0ee4e87af98e",
   "metadata": {},
   "source": [
    "## Tracking Joints/Body Parts"
   ]
  },
  {
   "cell_type": "markdown",
   "id": "b7b6a7ad-f99d-463f-82e5-901e498236b8",
   "metadata": {},
   "source": [
    "The `model` schema uses a lookup table for managing Body Parts tracked across models."
   ]
  },
  {
   "cell_type": "code",
   "execution_count": null,
   "id": "373df83b",
   "metadata": {},
   "outputs": [],
   "source": [
    "model.Model()"
   ]
  },
  {
   "cell_type": "code",
   "execution_count": null,
   "id": "70dbfc1a-cbad-43c1-9051-776a6dcc0c13",
   "metadata": {},
   "outputs": [],
   "source": [
    "model.BodyPart.heading"
   ]
  },
  {
   "cell_type": "markdown",
   "id": "fc134ae7-62b8-4013-a538-1f47070e430b",
   "metadata": {},
   "source": [
    "This table is equipped with two helper functions. First, we can identify all the new body parts from a given config file."
   ]
  },
  {
   "cell_type": "code",
   "execution_count": 29,
   "id": "7f21c637-2554-4b6e-9a9a-e07d3cb5edae",
   "metadata": {},
   "outputs": [
    {
     "name": "stdout",
     "output_type": "stream",
     "text": [
      "Existing body parts: ['body_middle' 'head_middle' 'left_ear' 'neck' 'nose' 'right_ear' 'tail']\n",
      "New body parts: []\n"
     ]
    },
    {
     "data": {
      "text/plain": [
       "array([], dtype='<U11')"
      ]
     },
     "execution_count": 29,
     "metadata": {},
     "output_type": "execute_result"
    }
   ],
   "source": [
    "from adamacs.paths import get_dlc_root_data_dir\n",
    "config_path = find_full_path(get_dlc_root_data_dir()[1], \n",
    "                             paramset_desc + '/config.yaml')\n",
    "model.BodyPart.extract_new_body_parts(config_path)"
   ]
  },
  {
   "cell_type": "markdown",
   "id": "f354da25-1f3e-4220-aa8b-943f6260b88c",
   "metadata": {},
   "source": [
    "Now, we can make a list of descriptions in the same order, and insert them into the table"
   ]
  },
  {
   "cell_type": "code",
   "execution_count": 30,
   "id": "77afed93",
   "metadata": {},
   "outputs": [
    {
     "data": {
      "text/html": [
       "\n",
       "    \n",
       "    <style type=\"text/css\">\n",
       "        .Relation{\n",
       "            border-collapse:collapse;\n",
       "        }\n",
       "        .Relation th{\n",
       "            background: #A0A0A0; color: #ffffff; padding:4px; border:#f0e0e0 1px solid;\n",
       "            font-weight: normal; font-family: monospace; font-size: 100%;\n",
       "        }\n",
       "        .Relation td{\n",
       "            padding:4px; border:#f0e0e0 1px solid; font-size:100%;\n",
       "        }\n",
       "        .Relation tr:nth-child(odd){\n",
       "            background: #ffffff;\n",
       "        }\n",
       "        .Relation tr:nth-child(even){\n",
       "            background: #f3f1ff;\n",
       "        }\n",
       "        /* Tooltip container */\n",
       "        .djtooltip {\n",
       "        }\n",
       "        /* Tooltip text */\n",
       "        .djtooltip .djtooltiptext {\n",
       "            visibility: hidden;\n",
       "            width: 120px;\n",
       "            background-color: black;\n",
       "            color: #fff;\n",
       "            text-align: center;\n",
       "            padding: 5px 0;\n",
       "            border-radius: 6px;\n",
       "            /* Position the tooltip text - see examples below! */\n",
       "            position: absolute;\n",
       "            z-index: 1;\n",
       "        }\n",
       "        #primary {\n",
       "            font-weight: bold;\n",
       "            color: black;\n",
       "        }\n",
       "        #nonprimary {\n",
       "            font-weight: normal;\n",
       "            color: white;\n",
       "        }\n",
       "\n",
       "        /* Show the tooltip text when you mouse over the tooltip container */\n",
       "        .djtooltip:hover .djtooltiptext {\n",
       "            visibility: visible;\n",
       "        }\n",
       "    </style>\n",
       "    \n",
       "    <b></b>\n",
       "        <div style=\"max-height:1000px;max-width:1500px;overflow:auto;\">\n",
       "        <table border=\"1\" class=\"Relation\">\n",
       "            <thead> <tr style=\"text-align: right;\"> <th> <div class=\"djtooltip\">\n",
       "                            <p id=\"primary\">body_part</p>\n",
       "                            <span class=\"djtooltiptext\"></span>\n",
       "                        </div></th><th><div class=\"djtooltip\">\n",
       "                            <p id=\"nonprimary\">body_part_description</p>\n",
       "                            <span class=\"djtooltiptext\"></span>\n",
       "                        </div> </th> </tr> </thead>\n",
       "            <tbody> <tr> <td>body_middle</td>\n",
       "<td></td></tr><tr><td>head_middle</td>\n",
       "<td></td></tr><tr><td>left_ear</td>\n",
       "<td></td></tr><tr><td>neck</td>\n",
       "<td></td></tr><tr><td>nose</td>\n",
       "<td></td></tr><tr><td>right_ear</td>\n",
       "<td></td></tr><tr><td>tail</td>\n",
       "<td></td> </tr> </tbody>\n",
       "        </table>\n",
       "        \n",
       "        <p>Total: 7</p></div>\n",
       "        "
      ],
      "text/plain": [
       "*body_part     body_part_desc\n",
       "+------------+ +------------+\n",
       "body_middle                  \n",
       "head_middle                  \n",
       "left_ear                     \n",
       "neck                         \n",
       "nose                         \n",
       "right_ear                    \n",
       "tail                         \n",
       " (Total: 7)"
      ]
     },
     "execution_count": 30,
     "metadata": {},
     "output_type": "execute_result"
    }
   ],
   "source": [
    "model.BodyPart()"
   ]
  },
  {
   "cell_type": "code",
   "execution_count": 31,
   "id": "14c69d60-c198-468e-a67c-b2ff77667bbb",
   "metadata": {},
   "outputs": [],
   "source": [
    "# Will be inserted with model insertion\n",
    "# bp_desc=['Body Center', 'Head', 'Base of Tail']\n",
    "# model.BodyPart.insert_from_config(config_path,bp_desc)"
   ]
  },
  {
   "cell_type": "markdown",
   "id": "d81f0302-b652-4b5d-8983-001484ef83e0",
   "metadata": {},
   "source": [
    "If we skip this step, body parts (without descriptions) will be added when we insert a model. We can [update](https://docs.datajoint.org/python/v0.13/manipulation/3-Cautious-Update.html) empty descriptions at any time."
   ]
  },
  {
   "cell_type": "markdown",
   "id": "e5643f65-19ac-4ba4-a475-21e3d7bf6e54",
   "metadata": {},
   "source": [
    "## Declaring a Model"
   ]
  },
  {
   "cell_type": "markdown",
   "id": "20dcf5df-79b3-4a0e-bc6b-5114b44b61a3",
   "metadata": {},
   "source": [
    "If training appears successful, the result can be inserted into the `Model` table for automatic evaluation."
   ]
  },
  {
   "cell_type": "code",
   "execution_count": 32,
   "id": "dfd2cf75",
   "metadata": {},
   "outputs": [],
   "source": [
    "paramset_desc='from_top_tracking-DJ-2022-02-23'\n",
    "\n",
    "config_path = find_full_path(get_dlc_root_data_dir()[0], \n",
    "                             paramset_desc + '/config.yaml')"
   ]
  },
  {
   "cell_type": "code",
   "execution_count": 33,
   "metadata": {},
   "outputs": [
    {
     "ename": "IndexError",
     "evalue": "list index out of range",
     "output_type": "error",
     "traceback": [
      "\u001b[0;31m---------------------------------------------------------------------------\u001b[0m",
      "\u001b[0;31mIndexError\u001b[0m                                Traceback (most recent call last)",
      "\u001b[1;32m/home/tobiasr/adamacs/notebooks/05_DeepLabCut.ipynb Cell 58\u001b[0m in \u001b[0;36m<cell line: 1>\u001b[0;34m()\u001b[0m\n\u001b[0;32m----> <a href='vscode-notebook-cell://ssh-remote%2B172.26.128.53/home/tobiasr/adamacs/notebooks/05_DeepLabCut.ipynb#Y110sdnNjb2RlLXJlbW90ZQ%3D%3D?line=0'>1</a>\u001b[0m model\u001b[39m.\u001b[39;49mModel\u001b[39m.\u001b[39;49minsert_new_model(model_name\u001b[39m=\u001b[39;49m\u001b[39m'\u001b[39;49m\u001b[39mfrom_top_tracking-DJ\u001b[39;49m\u001b[39m'\u001b[39;49m,dlc_config\u001b[39m=\u001b[39;49mconfig_path,\n\u001b[1;32m      <a href='vscode-notebook-cell://ssh-remote%2B172.26.128.53/home/tobiasr/adamacs/notebooks/05_DeepLabCut.ipynb#Y110sdnNjb2RlLXJlbW90ZQ%3D%3D?line=1'>2</a>\u001b[0m                              shuffle\u001b[39m=\u001b[39;49m\u001b[39m1\u001b[39;49m,trainingsetindex\u001b[39m=\u001b[39;49m\u001b[39m0\u001b[39;49m,\n\u001b[1;32m      <a href='vscode-notebook-cell://ssh-remote%2B172.26.128.53/home/tobiasr/adamacs/notebooks/05_DeepLabCut.ipynb#Y110sdnNjb2RlLXJlbW90ZQ%3D%3D?line=2'>3</a>\u001b[0m                              model_description\u001b[39m=\u001b[39;49m\u001b[39m'\u001b[39;49m\u001b[39mFrom Top, trained 5 iterations\u001b[39;49m\u001b[39m'\u001b[39;49m,\n\u001b[1;32m      <a href='vscode-notebook-cell://ssh-remote%2B172.26.128.53/home/tobiasr/adamacs/notebooks/05_DeepLabCut.ipynb#Y110sdnNjb2RlLXJlbW90ZQ%3D%3D?line=3'>4</a>\u001b[0m                              paramset_idx\u001b[39m=\u001b[39;49m\u001b[39m0\u001b[39;49m)\n",
      "File \u001b[0;32m~/github/element-deeplabcut/element_deeplabcut/model.py:413\u001b[0m, in \u001b[0;36mModel.insert_new_model\u001b[0;34m(cls, model_name, dlc_config, shuffle, trainingsetindex, project_path, model_description, model_prefix, paramset_idx, prompt, params)\u001b[0m\n\u001b[1;32m    409\u001b[0m \u001b[39m# ---- Get scorer name ----\u001b[39;00m\n\u001b[1;32m    410\u001b[0m \u001b[39m# \"or 'f'\" below covers case where config returns None. str_to_bool handles else\u001b[39;00m\n\u001b[1;32m    411\u001b[0m scorer_legacy \u001b[39m=\u001b[39m str_to_bool(dlc_config\u001b[39m.\u001b[39mget(\u001b[39m\"\u001b[39m\u001b[39mscorer_legacy\u001b[39m\u001b[39m\"\u001b[39m, \u001b[39m\"\u001b[39m\u001b[39mf\u001b[39m\u001b[39m\"\u001b[39m))\n\u001b[0;32m--> 413\u001b[0m dlc_scorer \u001b[39m=\u001b[39m GetScorerName(\n\u001b[1;32m    414\u001b[0m     cfg\u001b[39m=\u001b[39;49mdlc_config,\n\u001b[1;32m    415\u001b[0m     shuffle\u001b[39m=\u001b[39;49mshuffle,\n\u001b[1;32m    416\u001b[0m     trainFraction\u001b[39m=\u001b[39;49mdlc_config[\u001b[39m\"\u001b[39;49m\u001b[39mTrainingFraction\u001b[39;49m\u001b[39m\"\u001b[39;49m][\u001b[39mint\u001b[39;49m(trainingsetindex)],\n\u001b[1;32m    417\u001b[0m     modelprefix\u001b[39m=\u001b[39;49mmodel_prefix,\n\u001b[1;32m    418\u001b[0m )[scorer_legacy]\n\u001b[1;32m    419\u001b[0m \u001b[39mif\u001b[39;00m dlc_config[\u001b[39m\"\u001b[39m\u001b[39msnapshotindex\u001b[39m\u001b[39m\"\u001b[39m] \u001b[39m==\u001b[39m \u001b[39m-\u001b[39m\u001b[39m1\u001b[39m:\n\u001b[1;32m    420\u001b[0m     dlc_scorer \u001b[39m=\u001b[39m \u001b[39m\"\u001b[39m\u001b[39m\"\u001b[39m\u001b[39m.\u001b[39mjoin(dlc_scorer\u001b[39m.\u001b[39msplit(\u001b[39m\"\u001b[39m\u001b[39m_\u001b[39m\u001b[39m\"\u001b[39m)[:\u001b[39m-\u001b[39m\u001b[39m1\u001b[39m])\n",
      "File \u001b[0;32m~/miniconda3/envs/datajoint/lib/python3.8/site-packages/deeplabcut/utils/auxiliaryfunctions.py:594\u001b[0m, in \u001b[0;36mget_scorer_name\u001b[0;34m(cfg, shuffle, trainFraction, trainingsiterations, modelprefix)\u001b[0m\n\u001b[1;32m    586\u001b[0m modelfolder \u001b[39m=\u001b[39m os\u001b[39m.\u001b[39mpath\u001b[39m.\u001b[39mjoin(\n\u001b[1;32m    587\u001b[0m     cfg[\u001b[39m\"\u001b[39m\u001b[39mproject_path\u001b[39m\u001b[39m\"\u001b[39m],\n\u001b[1;32m    588\u001b[0m     \u001b[39mstr\u001b[39m(get_model_folder(trainFraction, shuffle, cfg, modelprefix\u001b[39m=\u001b[39mmodelprefix)),\n\u001b[1;32m    589\u001b[0m     \u001b[39m\"\u001b[39m\u001b[39mtrain\u001b[39m\u001b[39m\"\u001b[39m,\n\u001b[1;32m    590\u001b[0m )\n\u001b[1;32m    591\u001b[0m Snapshots \u001b[39m=\u001b[39m np\u001b[39m.\u001b[39marray(\n\u001b[1;32m    592\u001b[0m     [fn\u001b[39m.\u001b[39msplit(\u001b[39m\"\u001b[39m\u001b[39m.\u001b[39m\u001b[39m\"\u001b[39m)[\u001b[39m0\u001b[39m] \u001b[39mfor\u001b[39;00m fn \u001b[39min\u001b[39;00m os\u001b[39m.\u001b[39mlistdir(modelfolder) \u001b[39mif\u001b[39;00m \u001b[39m\"\u001b[39m\u001b[39mindex\u001b[39m\u001b[39m\"\u001b[39m \u001b[39min\u001b[39;00m fn]\n\u001b[1;32m    593\u001b[0m )\n\u001b[0;32m--> 594\u001b[0m increasing_indices \u001b[39m=\u001b[39m np\u001b[39m.\u001b[39margsort([\u001b[39mint\u001b[39m(m\u001b[39m.\u001b[39msplit(\u001b[39m\"\u001b[39m\u001b[39m-\u001b[39m\u001b[39m\"\u001b[39m)[\u001b[39m1\u001b[39m]) \u001b[39mfor\u001b[39;00m m \u001b[39min\u001b[39;00m Snapshots])\n\u001b[1;32m    595\u001b[0m Snapshots \u001b[39m=\u001b[39m Snapshots[increasing_indices]\n\u001b[1;32m    596\u001b[0m SNP \u001b[39m=\u001b[39m Snapshots[snapshotindex]\n",
      "File \u001b[0;32m~/miniconda3/envs/datajoint/lib/python3.8/site-packages/deeplabcut/utils/auxiliaryfunctions.py:594\u001b[0m, in \u001b[0;36m<listcomp>\u001b[0;34m(.0)\u001b[0m\n\u001b[1;32m    586\u001b[0m modelfolder \u001b[39m=\u001b[39m os\u001b[39m.\u001b[39mpath\u001b[39m.\u001b[39mjoin(\n\u001b[1;32m    587\u001b[0m     cfg[\u001b[39m\"\u001b[39m\u001b[39mproject_path\u001b[39m\u001b[39m\"\u001b[39m],\n\u001b[1;32m    588\u001b[0m     \u001b[39mstr\u001b[39m(get_model_folder(trainFraction, shuffle, cfg, modelprefix\u001b[39m=\u001b[39mmodelprefix)),\n\u001b[1;32m    589\u001b[0m     \u001b[39m\"\u001b[39m\u001b[39mtrain\u001b[39m\u001b[39m\"\u001b[39m,\n\u001b[1;32m    590\u001b[0m )\n\u001b[1;32m    591\u001b[0m Snapshots \u001b[39m=\u001b[39m np\u001b[39m.\u001b[39marray(\n\u001b[1;32m    592\u001b[0m     [fn\u001b[39m.\u001b[39msplit(\u001b[39m\"\u001b[39m\u001b[39m.\u001b[39m\u001b[39m\"\u001b[39m)[\u001b[39m0\u001b[39m] \u001b[39mfor\u001b[39;00m fn \u001b[39min\u001b[39;00m os\u001b[39m.\u001b[39mlistdir(modelfolder) \u001b[39mif\u001b[39;00m \u001b[39m\"\u001b[39m\u001b[39mindex\u001b[39m\u001b[39m\"\u001b[39m \u001b[39min\u001b[39;00m fn]\n\u001b[1;32m    593\u001b[0m )\n\u001b[0;32m--> 594\u001b[0m increasing_indices \u001b[39m=\u001b[39m np\u001b[39m.\u001b[39margsort([\u001b[39mint\u001b[39m(m\u001b[39m.\u001b[39;49msplit(\u001b[39m\"\u001b[39;49m\u001b[39m-\u001b[39;49m\u001b[39m\"\u001b[39;49m)[\u001b[39m1\u001b[39;49m]) \u001b[39mfor\u001b[39;00m m \u001b[39min\u001b[39;00m Snapshots])\n\u001b[1;32m    595\u001b[0m Snapshots \u001b[39m=\u001b[39m Snapshots[increasing_indices]\n\u001b[1;32m    596\u001b[0m SNP \u001b[39m=\u001b[39m Snapshots[snapshotindex]\n",
      "\u001b[0;31mIndexError\u001b[0m: list index out of range"
     ]
    }
   ],
   "source": [
    "model.Model.insert_new_model(model_name='from_top_tracking-DJ',dlc_config=config_path,\n",
    "                             shuffle=1,trainingsetindex=0,\n",
    "                             model_description='From Top, trained 5 iterations',\n",
    "                             paramset_idx=0)"
   ]
  },
  {
   "cell_type": "code",
   "execution_count": 34,
   "id": "ca8b2596",
   "metadata": {},
   "outputs": [],
   "source": [
    "paramset_desc='Head_orientation-NK-2023-07-17'\n",
    "\n",
    "config_path = find_full_path(get_dlc_root_data_dir()[1], \n",
    "                             paramset_desc + '/config.yaml')"
   ]
  },
  {
   "cell_type": "code",
   "execution_count": 35,
   "id": "9762e61c-0b14-4928-b7ac-3e73bab3f201",
   "metadata": {},
   "outputs": [
    {
     "name": "stdout",
     "output_type": "stream",
     "text": [
      "--- DLC Model specification to be inserted ---\n",
      "\tmodel_name: Head_orientation-NK\n",
      "\tmodel_description: From Top, trained 5 iterations\n",
      "\tscorer: DLC_resnet50_Head_orientationJul17shuffle1_90000\n",
      "\ttask: Head_orientation\n",
      "\tdate: Jul17\n",
      "\titeration: 0\n",
      "\tsnapshotindex: 3\n",
      "\tshuffle: 1\n",
      "\ttrainingsetindex: 0\n",
      "\tproject_path: Head_orientation-NK-2023-07-17\n",
      "\tparamset_idx: 1\n",
      "\t-- Template/Contents of config.yaml --\n",
      "\t\tTask: Head_orientation\n",
      "\t\tscorer: NK\n",
      "\t\tdate: Jul17\n",
      "\t\tmultianimalproject: False\n",
      "\t\tidentity: None\n",
      "\t\tproject_path: /datajoint-data/data/tobiasr/DeepLabCutModels/NK_DLC_tracking/Head_orientation-NK-2023-07-17\n",
      "\t\tvideo_sets: {'/datajoint-data/data/tobiasr/DeepLabCutModels/NK_DLC_tracking/Head_orientation-NK-2023-07-17/videos/scan9FHF1JT7_top_video_2023-04-06T09_31_19.mp4': {'crop': '0, 1000, 0, 1000'}}\n",
      "\t\tbodyparts: ['left_ear', 'right_ear', 'nose', 'head_middle', 'neck', 'body_middle', 'tail']\n",
      "\t\tstart: 0\n",
      "\t\tstop: 1\n",
      "\t\tnumframes2pick: 100\n",
      "\t\tskeleton: [['bodypart1', 'bodypart2'], ['objectA', 'bodypart3']]\n",
      "\t\tskeleton_color: black\n",
      "\t\tpcutoff: 0.6\n",
      "\t\tdotsize: 12\n",
      "\t\talphavalue: 0.7\n",
      "\t\tcolormap: rainbow\n",
      "\t\tTrainingFraction: [0.95]\n",
      "\t\titeration: 0\n",
      "\t\tdefault_net_type: resnet_50\n",
      "\t\tdefault_augmenter: default\n",
      "\t\tsnapshotindex: 3\n",
      "\t\tbatch_size: 8\n",
      "\t\tcropping: False\n",
      "\t\tx1: 0\n",
      "\t\tx2: 640\n",
      "\t\ty1: 277\n",
      "\t\ty2: 624\n",
      "\t\tcorner2move2: [50, 50]\n",
      "\t\tmove2corner: True\n",
      "Canceled insert.\n"
     ]
    }
   ],
   "source": [
    "model.Model.insert_new_model(model_name='Head_orientation-NK',dlc_config=config_path,\n",
    "                             shuffle=1,trainingsetindex=0,\n",
    "                             model_description='From Top, trained 5 iterations',\n",
    "                             paramset_idx=1)"
   ]
  },
  {
   "cell_type": "code",
   "execution_count": 36,
   "id": "8ee99aec",
   "metadata": {},
   "outputs": [
    {
     "data": {
      "text/html": [
       "\n",
       "    \n",
       "    <style type=\"text/css\">\n",
       "        .Relation{\n",
       "            border-collapse:collapse;\n",
       "        }\n",
       "        .Relation th{\n",
       "            background: #A0A0A0; color: #ffffff; padding:4px; border:#f0e0e0 1px solid;\n",
       "            font-weight: normal; font-family: monospace; font-size: 100%;\n",
       "        }\n",
       "        .Relation td{\n",
       "            padding:4px; border:#f0e0e0 1px solid; font-size:100%;\n",
       "        }\n",
       "        .Relation tr:nth-child(odd){\n",
       "            background: #ffffff;\n",
       "        }\n",
       "        .Relation tr:nth-child(even){\n",
       "            background: #f3f1ff;\n",
       "        }\n",
       "        /* Tooltip container */\n",
       "        .djtooltip {\n",
       "        }\n",
       "        /* Tooltip text */\n",
       "        .djtooltip .djtooltiptext {\n",
       "            visibility: hidden;\n",
       "            width: 120px;\n",
       "            background-color: black;\n",
       "            color: #fff;\n",
       "            text-align: center;\n",
       "            padding: 5px 0;\n",
       "            border-radius: 6px;\n",
       "            /* Position the tooltip text - see examples below! */\n",
       "            position: absolute;\n",
       "            z-index: 1;\n",
       "        }\n",
       "        #primary {\n",
       "            font-weight: bold;\n",
       "            color: black;\n",
       "        }\n",
       "        #nonprimary {\n",
       "            font-weight: normal;\n",
       "            color: white;\n",
       "        }\n",
       "\n",
       "        /* Show the tooltip text when you mouse over the tooltip container */\n",
       "        .djtooltip:hover .djtooltiptext {\n",
       "            visibility: visible;\n",
       "        }\n",
       "    </style>\n",
       "    \n",
       "    <b></b>\n",
       "        <div style=\"max-height:1000px;max-width:1500px;overflow:auto;\">\n",
       "        <table border=\"1\" class=\"Relation\">\n",
       "            <thead> <tr style=\"text-align: right;\"> <th> <div class=\"djtooltip\">\n",
       "                            <p id=\"primary\">model_name</p>\n",
       "                            <span class=\"djtooltiptext\">User-friendly model name</span>\n",
       "                        </div></th><th><div class=\"djtooltip\">\n",
       "                            <p id=\"nonprimary\">task</p>\n",
       "                            <span class=\"djtooltiptext\">Task in the config yaml</span>\n",
       "                        </div></th><th><div class=\"djtooltip\">\n",
       "                            <p id=\"nonprimary\">date</p>\n",
       "                            <span class=\"djtooltiptext\">Date in the config yaml</span>\n",
       "                        </div></th><th><div class=\"djtooltip\">\n",
       "                            <p id=\"nonprimary\">iteration</p>\n",
       "                            <span class=\"djtooltiptext\">Iteration/version of this model</span>\n",
       "                        </div></th><th><div class=\"djtooltip\">\n",
       "                            <p id=\"nonprimary\">snapshotindex</p>\n",
       "                            <span class=\"djtooltiptext\">which snapshot for prediction (if -1, latest)</span>\n",
       "                        </div></th><th><div class=\"djtooltip\">\n",
       "                            <p id=\"nonprimary\">shuffle</p>\n",
       "                            <span class=\"djtooltiptext\">Shuffle (1) or not (0)</span>\n",
       "                        </div></th><th><div class=\"djtooltip\">\n",
       "                            <p id=\"nonprimary\">trainingsetindex</p>\n",
       "                            <span class=\"djtooltiptext\">Index of training fraction list in config.yaml</span>\n",
       "                        </div></th><th><div class=\"djtooltip\">\n",
       "                            <p id=\"nonprimary\">scorer</p>\n",
       "                            <span class=\"djtooltiptext\">Scorer/network name - DLC's GetScorerName()</span>\n",
       "                        </div></th><th><div class=\"djtooltip\">\n",
       "                            <p id=\"nonprimary\">config_template</p>\n",
       "                            <span class=\"djtooltiptext\">Dictionary of the config for analyze_videos()</span>\n",
       "                        </div></th><th><div class=\"djtooltip\">\n",
       "                            <p id=\"nonprimary\">project_path</p>\n",
       "                            <span class=\"djtooltiptext\">DLC's project_path in config relative to root</span>\n",
       "                        </div></th><th><div class=\"djtooltip\">\n",
       "                            <p id=\"nonprimary\">model_prefix</p>\n",
       "                            <span class=\"djtooltiptext\"></span>\n",
       "                        </div></th><th><div class=\"djtooltip\">\n",
       "                            <p id=\"nonprimary\">model_description</p>\n",
       "                            <span class=\"djtooltiptext\"></span>\n",
       "                        </div></th><th><div class=\"djtooltip\">\n",
       "                            <p id=\"nonprimary\">paramset_idx</p>\n",
       "                            <span class=\"djtooltiptext\"></span>\n",
       "                        </div> </th> </tr> </thead>\n",
       "            <tbody> <tr> <td>Head_orientation-NK</td>\n",
       "<td>Head_orientation</td>\n",
       "<td>Jul17</td>\n",
       "<td>0</td>\n",
       "<td>3</td>\n",
       "<td>1</td>\n",
       "<td>0</td>\n",
       "<td>DLC_resnet50_Head_orientationJul17shuffle1_90000</td>\n",
       "<td>=BLOB=</td>\n",
       "<td>Head_orientation-NK-2023-07-17</td>\n",
       "<td></td>\n",
       "<td>From Top, trained 5 iterations</td>\n",
       "<td>1</td> </tr> </tbody>\n",
       "        </table>\n",
       "        \n",
       "        <p>Total: 1</p></div>\n",
       "        "
      ],
      "text/plain": [
       "*model_name    task           date      iteration     snapshotindex  shuffle     trainingsetind scorer         config_tem project_path   model_prefix   model_descript paramset_idx  \n",
       "+------------+ +------------+ +-------+ +-----------+ +------------+ +---------+ +------------+ +------------+ +--------+ +------------+ +------------+ +------------+ +------------+\n",
       "Head_orientati Head_orientati Jul17     0             3              1           0              DLC_resnet50_H =BLOB=     Head_orientati                From Top, trai 1             \n",
       " (Total: 1)"
      ]
     },
     "execution_count": 36,
     "metadata": {},
     "output_type": "execute_result"
    }
   ],
   "source": [
    "model.Model()"
   ]
  },
  {
   "cell_type": "code",
   "execution_count": 37,
   "id": "cd143378",
   "metadata": {},
   "outputs": [
    {
     "data": {
      "text/html": [
       "\n",
       "    \n",
       "    <style type=\"text/css\">\n",
       "        .Relation{\n",
       "            border-collapse:collapse;\n",
       "        }\n",
       "        .Relation th{\n",
       "            background: #A0A0A0; color: #ffffff; padding:4px; border:#f0e0e0 1px solid;\n",
       "            font-weight: normal; font-family: monospace; font-size: 100%;\n",
       "        }\n",
       "        .Relation td{\n",
       "            padding:4px; border:#f0e0e0 1px solid; font-size:100%;\n",
       "        }\n",
       "        .Relation tr:nth-child(odd){\n",
       "            background: #ffffff;\n",
       "        }\n",
       "        .Relation tr:nth-child(even){\n",
       "            background: #f3f1ff;\n",
       "        }\n",
       "        /* Tooltip container */\n",
       "        .djtooltip {\n",
       "        }\n",
       "        /* Tooltip text */\n",
       "        .djtooltip .djtooltiptext {\n",
       "            visibility: hidden;\n",
       "            width: 120px;\n",
       "            background-color: black;\n",
       "            color: #fff;\n",
       "            text-align: center;\n",
       "            padding: 5px 0;\n",
       "            border-radius: 6px;\n",
       "            /* Position the tooltip text - see examples below! */\n",
       "            position: absolute;\n",
       "            z-index: 1;\n",
       "        }\n",
       "        #primary {\n",
       "            font-weight: bold;\n",
       "            color: black;\n",
       "        }\n",
       "        #nonprimary {\n",
       "            font-weight: normal;\n",
       "            color: white;\n",
       "        }\n",
       "\n",
       "        /* Show the tooltip text when you mouse over the tooltip container */\n",
       "        .djtooltip:hover .djtooltiptext {\n",
       "            visibility: visible;\n",
       "        }\n",
       "    </style>\n",
       "    \n",
       "    \n",
       "        <div style=\"max-height:1000px;max-width:1500px;overflow:auto;\">\n",
       "        <table border=\"1\" class=\"Relation\">\n",
       "            <thead> <tr style=\"text-align: right;\"> <th> <div class=\"djtooltip\">\n",
       "                            <p id=\"primary\">session_id</p>\n",
       "                            <span class=\"djtooltiptext\"></span>\n",
       "                        </div></th><th><div class=\"djtooltip\">\n",
       "                            <p id=\"primary\">recording_id</p>\n",
       "                            <span class=\"djtooltiptext\"></span>\n",
       "                        </div></th><th><div class=\"djtooltip\">\n",
       "                            <p id=\"primary\">file_id</p>\n",
       "                            <span class=\"djtooltiptext\"></span>\n",
       "                        </div></th><th><div class=\"djtooltip\">\n",
       "                            <p id=\"nonprimary\">camera</p>\n",
       "                            <span class=\"djtooltiptext\"></span>\n",
       "                        </div></th><th><div class=\"djtooltip\">\n",
       "                            <p id=\"nonprimary\">file_path</p>\n",
       "                            <span class=\"djtooltiptext\">filepath of video, relative to root data directory</span>\n",
       "                        </div> </th> </tr> </thead>\n",
       "            <tbody> <tr> <td>sess9FB2LN5C</td>\n",
       "<td>scan9FB2LN5C</td>\n",
       "<td>1</td>\n",
       "<td>mini2p1_top</td>\n",
       "<td>/datajoint-data/data/tobiasr/DB_WEZ-8701_2022-03-18_scan9FB2LN5C_sess9FB2LN5C/scan9FB2LN5C_top_video_2022-03-18T16_55_33.mp4</td></tr><tr><td>sess9FHELAYA</td>\n",
       "<td>scan9FHELAYA</td>\n",
       "<td>2</td>\n",
       "<td>mini2p1_top</td>\n",
       "<td>/datajoint-data/data/tobiasr/RN_OPI-1681_2023-04-05_scan9FHELAYA_sess9FHELAYA/scan9FHELAYA_top_video_2023-04-05T15_19_53.mp4-copy.mp4</td></tr><tr><td>sess9FJ842C3</td>\n",
       "<td>scan9FJ842C3</td>\n",
       "<td>0</td>\n",
       "<td>mini2p1_top</td>\n",
       "<td>/datajoint-data/data/tobiasr/RN_OPI-1681_2023-07-24_scan9FJ842C3_sess9FJ842C3/scan9FJ842C3_top_video_2023-07-24T16_38_06.mp4</td> </tr> </tbody>\n",
       "        </table>\n",
       "        \n",
       "        <p>Total: 3</p></div>\n",
       "        "
      ],
      "text/plain": [
       "*session_id    *recording_id  *file_id    camera         file_path     \n",
       "+------------+ +------------+ +---------+ +------------+ +------------+\n",
       "sess9FB2LN5C   scan9FB2LN5C   1           mini2p1_top    /datajoint-dat\n",
       "sess9FHELAYA   scan9FHELAYA   2           mini2p1_top    /datajoint-dat\n",
       "sess9FJ842C3   scan9FJ842C3   0           mini2p1_top    /datajoint-dat\n",
       " (Total: 3)"
      ]
     },
     "execution_count": 37,
     "metadata": {},
     "output_type": "execute_result"
    }
   ],
   "source": [
    "model.VideoRecording * model.VideoRecording.File()"
   ]
  },
  {
   "cell_type": "code",
   "execution_count": 38,
   "id": "ae2fb0d9-df98-4e10-ae06-c0d8c33bf67b",
   "metadata": {},
   "outputs": [
    {
     "data": {
      "text/plain": [
       "array([{'Task': 'Head_orientation', 'scorer': 'NK', 'date': 'Jul17', 'multianimalproject': False, 'identity': None, 'project_path': '/datajoint-data/data/tobiasr/DeepLabCutModels/NK_DLC_tracking/Head_orientation-NK-2023-07-17', 'video_sets': {'/datajoint-data/data/tobiasr/DeepLabCutModels/NK_DLC_tracking/Head_orientation-NK-2023-07-17/videos/scan9FHF1JT7_top_video_2023-04-06T09_31_19.mp4': {'crop': '0, 1000, 0, 1000'}}, 'bodyparts': ['left_ear', 'right_ear', 'nose', 'head_middle', 'neck', 'body_middle', 'tail'], 'start': 0, 'stop': 1, 'numframes2pick': 100, 'skeleton': [['bodypart1', 'bodypart2'], ['objectA', 'bodypart3']], 'skeleton_color': 'black', 'pcutoff': 0.6, 'dotsize': 12, 'alphavalue': 0.7, 'colormap': 'rainbow', 'TrainingFraction': [0.95], 'iteration': 0, 'default_net_type': 'resnet_50', 'default_augmenter': 'default', 'snapshotindex': 3, 'batch_size': 8, 'cropping': False, 'x1': 0, 'x2': 640, 'y1': 277, 'y2': 624, 'corner2move2': [50, 50], 'move2corner': True}],\n",
       "      dtype=object)"
      ]
     },
     "execution_count": 38,
     "metadata": {},
     "output_type": "execute_result"
    }
   ],
   "source": [
    "model.Model().fetch(\"config_template\")"
   ]
  },
  {
   "cell_type": "code",
   "execution_count": 39,
   "id": "862fdc0f-61a7-4955-8019-78b014ad527e",
   "metadata": {},
   "outputs": [
    {
     "data": {
      "text/html": [
       "\n",
       "    \n",
       "    <style type=\"text/css\">\n",
       "        .Relation{\n",
       "            border-collapse:collapse;\n",
       "        }\n",
       "        .Relation th{\n",
       "            background: #A0A0A0; color: #ffffff; padding:4px; border:#f0e0e0 1px solid;\n",
       "            font-weight: normal; font-family: monospace; font-size: 100%;\n",
       "        }\n",
       "        .Relation td{\n",
       "            padding:4px; border:#f0e0e0 1px solid; font-size:100%;\n",
       "        }\n",
       "        .Relation tr:nth-child(odd){\n",
       "            background: #ffffff;\n",
       "        }\n",
       "        .Relation tr:nth-child(even){\n",
       "            background: #f3f1ff;\n",
       "        }\n",
       "        /* Tooltip container */\n",
       "        .djtooltip {\n",
       "        }\n",
       "        /* Tooltip text */\n",
       "        .djtooltip .djtooltiptext {\n",
       "            visibility: hidden;\n",
       "            width: 120px;\n",
       "            background-color: black;\n",
       "            color: #fff;\n",
       "            text-align: center;\n",
       "            padding: 5px 0;\n",
       "            border-radius: 6px;\n",
       "            /* Position the tooltip text - see examples below! */\n",
       "            position: absolute;\n",
       "            z-index: 1;\n",
       "        }\n",
       "        #primary {\n",
       "            font-weight: bold;\n",
       "            color: black;\n",
       "        }\n",
       "        #nonprimary {\n",
       "            font-weight: normal;\n",
       "            color: white;\n",
       "        }\n",
       "\n",
       "        /* Show the tooltip text when you mouse over the tooltip container */\n",
       "        .djtooltip:hover .djtooltiptext {\n",
       "            visibility: visible;\n",
       "        }\n",
       "    </style>\n",
       "    \n",
       "    <b></b>\n",
       "        <div style=\"max-height:1000px;max-width:1500px;overflow:auto;\">\n",
       "        <table border=\"1\" class=\"Relation\">\n",
       "            <thead> <tr style=\"text-align: right;\"> <th> <div class=\"djtooltip\">\n",
       "                            <p id=\"primary\">model_name</p>\n",
       "                            <span class=\"djtooltiptext\">User-friendly model name</span>\n",
       "                        </div></th><th><div class=\"djtooltip\">\n",
       "                            <p id=\"primary\">body_part</p>\n",
       "                            <span class=\"djtooltiptext\"></span>\n",
       "                        </div> </th> </tr> </thead>\n",
       "            <tbody> <tr> <td>Head_orientation-NK</td>\n",
       "<td>body_middle</td></tr><tr><td>Head_orientation-NK</td>\n",
       "<td>head_middle</td></tr><tr><td>Head_orientation-NK</td>\n",
       "<td>left_ear</td></tr><tr><td>Head_orientation-NK</td>\n",
       "<td>neck</td></tr><tr><td>Head_orientation-NK</td>\n",
       "<td>nose</td></tr><tr><td>Head_orientation-NK</td>\n",
       "<td>right_ear</td></tr><tr><td>Head_orientation-NK</td>\n",
       "<td>tail</td> </tr> </tbody>\n",
       "        </table>\n",
       "        \n",
       "        <p>Total: 7</p></div>\n",
       "        "
      ],
      "text/plain": [
       "*model_name    *body_part    \n",
       "+------------+ +------------+\n",
       "Head_orientati body_middle   \n",
       "Head_orientati head_middle   \n",
       "Head_orientati left_ear      \n",
       "Head_orientati neck          \n",
       "Head_orientati nose          \n",
       "Head_orientati right_ear     \n",
       "Head_orientati tail          \n",
       " (Total: 7)"
      ]
     },
     "execution_count": 39,
     "metadata": {},
     "output_type": "execute_result"
    }
   ],
   "source": [
    "model.Model.BodyPart()"
   ]
  },
  {
   "cell_type": "markdown",
   "id": "f71c877f-4f1d-40f7-a898-b3bcf695e603",
   "metadata": {},
   "source": [
    "## Model Evaluation"
   ]
  },
  {
   "cell_type": "markdown",
   "id": "0657e7b6-3969-4d16-b801-e05d222285d4",
   "metadata": {},
   "source": [
    "Next, all inserted models can be evaluated with a similar `populate` method, which will\n",
    "insert the relevant output from DLC's `evaluate_network` function."
   ]
  },
  {
   "cell_type": "code",
   "execution_count": 40,
   "id": "2eb626c5-f1ed-4a86-a300-ddd8066e1ac5",
   "metadata": {},
   "outputs": [
    {
     "data": {
      "text/plain": [
       "model_name           : varchar(64)                  # User-friendly model name\n",
       "---\n",
       "train_iterations     : int                          # Training iterations\n",
       "train_error=null     : float                        # Train error (px)\n",
       "test_error=null      : float                        # Test error (px)\n",
       "p_cutoff=null        : float                        # p-cutoff used\n",
       "train_error_p=null   : float                        # Train error with p-cutoff\n",
       "test_error_p=null    : float                        # Test error with p-cutoff"
      ]
     },
     "execution_count": 40,
     "metadata": {},
     "output_type": "execute_result"
    }
   ],
   "source": [
    "model.ModelEvaluation.heading"
   ]
  },
  {
   "cell_type": "code",
   "execution_count": 41,
   "id": "baba5035",
   "metadata": {},
   "outputs": [],
   "source": [
    "model.ModelEvaluation.populate()"
   ]
  },
  {
   "cell_type": "markdown",
   "id": "1f77889f-efc6-41ed-9ae5-b5089bd2b6ef",
   "metadata": {},
   "source": [
    "If your project was initialized in a version of DeepLabCut other than the one you're currently using, model evaluation may report key errors. Specifically, your `config.yaml` may not specify `multianimalproject: false`."
   ]
  },
  {
   "cell_type": "code",
   "execution_count": null,
   "id": "8d52b8a7-e677-4f00-a720-2aed7a266fb3",
   "metadata": {},
   "outputs": [],
   "source": [
    "model.ModelEvaluation()"
   ]
  },
  {
   "cell_type": "code",
   "execution_count": 42,
   "id": "4b1487ad",
   "metadata": {},
   "outputs": [
    {
     "data": {
      "text/html": [
       "\n",
       "    \n",
       "    <style type=\"text/css\">\n",
       "        .Relation{\n",
       "            border-collapse:collapse;\n",
       "        }\n",
       "        .Relation th{\n",
       "            background: #A0A0A0; color: #ffffff; padding:4px; border:#f0e0e0 1px solid;\n",
       "            font-weight: normal; font-family: monospace; font-size: 100%;\n",
       "        }\n",
       "        .Relation td{\n",
       "            padding:4px; border:#f0e0e0 1px solid; font-size:100%;\n",
       "        }\n",
       "        .Relation tr:nth-child(odd){\n",
       "            background: #ffffff;\n",
       "        }\n",
       "        .Relation tr:nth-child(even){\n",
       "            background: #f3f1ff;\n",
       "        }\n",
       "        /* Tooltip container */\n",
       "        .djtooltip {\n",
       "        }\n",
       "        /* Tooltip text */\n",
       "        .djtooltip .djtooltiptext {\n",
       "            visibility: hidden;\n",
       "            width: 120px;\n",
       "            background-color: black;\n",
       "            color: #fff;\n",
       "            text-align: center;\n",
       "            padding: 5px 0;\n",
       "            border-radius: 6px;\n",
       "            /* Position the tooltip text - see examples below! */\n",
       "            position: absolute;\n",
       "            z-index: 1;\n",
       "        }\n",
       "        #primary {\n",
       "            font-weight: bold;\n",
       "            color: black;\n",
       "        }\n",
       "        #nonprimary {\n",
       "            font-weight: normal;\n",
       "            color: white;\n",
       "        }\n",
       "\n",
       "        /* Show the tooltip text when you mouse over the tooltip container */\n",
       "        .djtooltip:hover .djtooltiptext {\n",
       "            visibility: visible;\n",
       "        }\n",
       "    </style>\n",
       "    \n",
       "    <b></b>\n",
       "        <div style=\"max-height:1000px;max-width:1500px;overflow:auto;\">\n",
       "        <table border=\"1\" class=\"Relation\">\n",
       "            <thead> <tr style=\"text-align: right;\"> <th> <div class=\"djtooltip\">\n",
       "                            <p id=\"primary\">session_id</p>\n",
       "                            <span class=\"djtooltiptext\"></span>\n",
       "                        </div></th><th><div class=\"djtooltip\">\n",
       "                            <p id=\"primary\">recording_id</p>\n",
       "                            <span class=\"djtooltiptext\"></span>\n",
       "                        </div></th><th><div class=\"djtooltip\">\n",
       "                            <p id=\"nonprimary\">px_height</p>\n",
       "                            <span class=\"djtooltiptext\">height in pixels</span>\n",
       "                        </div></th><th><div class=\"djtooltip\">\n",
       "                            <p id=\"nonprimary\">px_width</p>\n",
       "                            <span class=\"djtooltiptext\">width in pixels</span>\n",
       "                        </div></th><th><div class=\"djtooltip\">\n",
       "                            <p id=\"nonprimary\">nframes</p>\n",
       "                            <span class=\"djtooltiptext\">number of frames</span>\n",
       "                        </div></th><th><div class=\"djtooltip\">\n",
       "                            <p id=\"nonprimary\">fps</p>\n",
       "                            <span class=\"djtooltiptext\">(Hz) frames per second</span>\n",
       "                        </div></th><th><div class=\"djtooltip\">\n",
       "                            <p id=\"nonprimary\">recording_datetime</p>\n",
       "                            <span class=\"djtooltiptext\">Datetime for the start of the recording</span>\n",
       "                        </div></th><th><div class=\"djtooltip\">\n",
       "                            <p id=\"nonprimary\">recording_duration</p>\n",
       "                            <span class=\"djtooltiptext\">video duration (s) from nframes / fps</span>\n",
       "                        </div> </th> </tr> </thead>\n",
       "            <tbody> <tr> <td>sess9FB2LN5C</td>\n",
       "<td>scan9FB2LN5C</td>\n",
       "<td>500</td>\n",
       "<td>500</td>\n",
       "<td>18000</td>\n",
       "<td>60</td>\n",
       "<td>None</td>\n",
       "<td>300.0</td></tr><tr><td>sess9FHELAYA</td>\n",
       "<td>scan9FHELAYA</td>\n",
       "<td>1000</td>\n",
       "<td>1000</td>\n",
       "<td>123</td>\n",
       "<td>60</td>\n",
       "<td>None</td>\n",
       "<td>2.05</td></tr><tr><td>sess9FJ842C3</td>\n",
       "<td>scan9FJ842C3</td>\n",
       "<td>1000</td>\n",
       "<td>1000</td>\n",
       "<td>15851</td>\n",
       "<td>60</td>\n",
       "<td>None</td>\n",
       "<td>264.183</td> </tr> </tbody>\n",
       "        </table>\n",
       "        \n",
       "        <p>Total: 3</p></div>\n",
       "        "
      ],
      "text/plain": [
       "*session_id    *recording_id  px_height     px_width     nframes     fps     recording_date recording_dura\n",
       "+------------+ +------------+ +-----------+ +----------+ +---------+ +-----+ +------------+ +------------+\n",
       "sess9FB2LN5C   scan9FB2LN5C   500           500          18000       60      None           300.0         \n",
       "sess9FHELAYA   scan9FHELAYA   1000          1000         123         60      None           2.05          \n",
       "sess9FJ842C3   scan9FJ842C3   1000          1000         15851       60      None           264.183       \n",
       " (Total: 3)"
      ]
     },
     "execution_count": 42,
     "metadata": {},
     "output_type": "execute_result"
    }
   ],
   "source": [
    "model.RecordingInfo.populate()\n",
    "model.RecordingInfo()"
   ]
  },
  {
   "cell_type": "markdown",
   "id": "ad698f22-4d16-413a-a30c-84e28e7ec1db",
   "metadata": {},
   "source": [
    "## Pose Estimation"
   ]
  },
  {
   "cell_type": "code",
   "execution_count": 43,
   "id": "a51b8243-6ee2-44f5-a987-9abd10ce1b56",
   "metadata": {},
   "outputs": [
    {
     "data": {
      "text/plain": [
       "array(['/datajoint-data/data/tobiasr/RN_OPI-1681_2023-04-05_scan9FHELAYA_sess9FHELAYA/scan9FHELAYA_top_video_2023-04-05T15_19_53.mp4-copy.mp4'],\n",
       "      dtype=object)"
      ]
     },
     "execution_count": 43,
     "metadata": {},
     "output_type": "execute_result"
    }
   ],
   "source": [
    "scansi = \"scan9FHELAYA\"\n",
    "scan_key = (scan.Scan & f'scan_id = \"{scansi}\"').fetch('KEY')[0] \n",
    "path = (model.VideoRecording.File & scan_key).fetch(\"file_path\")\n",
    "path"
   ]
  },
  {
   "cell_type": "markdown",
   "id": "e72c8868-3db0-4cda-98ab-96bbebc5bb0a",
   "metadata": {},
   "source": [
    "For demonstration purposes, we'll make a shorter video that will process relatively quickly `ffmpeg`, a DLC dependency ([more info here](https://github.com/datajoint/workflow-deeplabcut/blob/main/notebooks/00-DataDownload_Optional.ipynb))"
   ]
  },
  {
   "cell_type": "code",
   "execution_count": null,
   "id": "20b11cf1-2bbc-4bc6-bc87-ca77f01676eb",
   "metadata": {},
   "outputs": [],
   "source": [
    "from adamacs.paths import get_dlc_root_data_dir\n",
    "vid_path =  find_full_path(get_dlc_root_data_dir(), path[0][1::])\n",
    "print(vid_path)\n",
    "cmd = (f'ffmpeg -n -hide_banner -loglevel error -ss 0 -t 2 -i {vid_path} '\n",
    "       + f'-vcodec copy -acodec copy {vid_path}-copy.mp4')\n",
    "import os; os.system(cmd)"
   ]
  },
  {
   "cell_type": "markdown",
   "id": "fe97c0b2-28f3-44f7-b41c-114eb31e635b",
   "metadata": {},
   "source": [
    "Next, we need to specify if the `PoseEstimation` table should load results from an existing file or trigger the estimation command. Here, we can also specify parameters accepted by the `analyze_videos` function as a dictionary. `task_mode` determines if pose estimation results should be loaded or triggered (i.e., load vs. trigger)."
   ]
  },
  {
   "cell_type": "code",
   "execution_count": 44,
   "id": "c8d23bcb-39e3-4fb0-a911-30e89adc8a91",
   "metadata": {},
   "outputs": [
    {
     "data": {
      "text/plain": [
       "{'session_id': 'sess9FHELAYA',\n",
       " 'recording_id': 'scan9FHELAYA',\n",
       " 'model_name': 'Head_orientation-NK',\n",
       " 'task_mode': 'trigger'}"
      ]
     },
     "execution_count": 44,
     "metadata": {},
     "output_type": "execute_result"
    }
   ],
   "source": [
    "key = (model.VideoRecording & {'recording_id': 'scan9FHELAYA'}).fetch1('KEY')\n",
    "key.update({'model_name': 'Head_orientation-NK', 'task_mode': 'trigger'})\n",
    "key\n",
    "\n"
   ]
  },
  {
   "cell_type": "markdown",
   "id": "40deac79-d482-4777-b501-261410332d65",
   "metadata": {},
   "source": [
    "The `PoseEstimationTask` table queues items for pose estimation. Additional parameters are passed to DLC's `analyze_videos` function."
   ]
  },
  {
   "cell_type": "code",
   "execution_count": 45,
   "id": "ba216c1b-b608-4424-b7a1-f49795be0971",
   "metadata": {},
   "outputs": [],
   "source": [
    "model.PoseEstimationTask.insert_estimation_task(key, key[\"model_name\"], analyze_videos_params={'save_as_csv':True})"
   ]
  },
  {
   "cell_type": "code",
   "execution_count": 46,
   "id": "005e9af9",
   "metadata": {},
   "outputs": [
    {
     "data": {
      "text/html": [
       "\n",
       "    \n",
       "    <style type=\"text/css\">\n",
       "        .Relation{\n",
       "            border-collapse:collapse;\n",
       "        }\n",
       "        .Relation th{\n",
       "            background: #A0A0A0; color: #ffffff; padding:4px; border:#f0e0e0 1px solid;\n",
       "            font-weight: normal; font-family: monospace; font-size: 100%;\n",
       "        }\n",
       "        .Relation td{\n",
       "            padding:4px; border:#f0e0e0 1px solid; font-size:100%;\n",
       "        }\n",
       "        .Relation tr:nth-child(odd){\n",
       "            background: #ffffff;\n",
       "        }\n",
       "        .Relation tr:nth-child(even){\n",
       "            background: #f3f1ff;\n",
       "        }\n",
       "        /* Tooltip container */\n",
       "        .djtooltip {\n",
       "        }\n",
       "        /* Tooltip text */\n",
       "        .djtooltip .djtooltiptext {\n",
       "            visibility: hidden;\n",
       "            width: 120px;\n",
       "            background-color: black;\n",
       "            color: #fff;\n",
       "            text-align: center;\n",
       "            padding: 5px 0;\n",
       "            border-radius: 6px;\n",
       "            /* Position the tooltip text - see examples below! */\n",
       "            position: absolute;\n",
       "            z-index: 1;\n",
       "        }\n",
       "        #primary {\n",
       "            font-weight: bold;\n",
       "            color: black;\n",
       "        }\n",
       "        #nonprimary {\n",
       "            font-weight: normal;\n",
       "            color: white;\n",
       "        }\n",
       "\n",
       "        /* Show the tooltip text when you mouse over the tooltip container */\n",
       "        .djtooltip:hover .djtooltiptext {\n",
       "            visibility: visible;\n",
       "        }\n",
       "    </style>\n",
       "    \n",
       "    <b></b>\n",
       "        <div style=\"max-height:1000px;max-width:1500px;overflow:auto;\">\n",
       "        <table border=\"1\" class=\"Relation\">\n",
       "            <thead> <tr style=\"text-align: right;\"> <th> <div class=\"djtooltip\">\n",
       "                            <p id=\"primary\">session_id</p>\n",
       "                            <span class=\"djtooltiptext\"></span>\n",
       "                        </div></th><th><div class=\"djtooltip\">\n",
       "                            <p id=\"primary\">recording_id</p>\n",
       "                            <span class=\"djtooltiptext\"></span>\n",
       "                        </div></th><th><div class=\"djtooltip\">\n",
       "                            <p id=\"nonprimary\">px_height</p>\n",
       "                            <span class=\"djtooltiptext\">height in pixels</span>\n",
       "                        </div></th><th><div class=\"djtooltip\">\n",
       "                            <p id=\"nonprimary\">px_width</p>\n",
       "                            <span class=\"djtooltiptext\">width in pixels</span>\n",
       "                        </div></th><th><div class=\"djtooltip\">\n",
       "                            <p id=\"nonprimary\">nframes</p>\n",
       "                            <span class=\"djtooltiptext\">number of frames</span>\n",
       "                        </div></th><th><div class=\"djtooltip\">\n",
       "                            <p id=\"nonprimary\">fps</p>\n",
       "                            <span class=\"djtooltiptext\">(Hz) frames per second</span>\n",
       "                        </div></th><th><div class=\"djtooltip\">\n",
       "                            <p id=\"nonprimary\">recording_datetime</p>\n",
       "                            <span class=\"djtooltiptext\">Datetime for the start of the recording</span>\n",
       "                        </div></th><th><div class=\"djtooltip\">\n",
       "                            <p id=\"nonprimary\">recording_duration</p>\n",
       "                            <span class=\"djtooltiptext\">video duration (s) from nframes / fps</span>\n",
       "                        </div> </th> </tr> </thead>\n",
       "            <tbody> <tr> <td>sess9FB2LN5C</td>\n",
       "<td>scan9FB2LN5C</td>\n",
       "<td>500</td>\n",
       "<td>500</td>\n",
       "<td>18000</td>\n",
       "<td>60</td>\n",
       "<td>None</td>\n",
       "<td>300.0</td></tr><tr><td>sess9FHELAYA</td>\n",
       "<td>scan9FHELAYA</td>\n",
       "<td>1000</td>\n",
       "<td>1000</td>\n",
       "<td>123</td>\n",
       "<td>60</td>\n",
       "<td>None</td>\n",
       "<td>2.05</td></tr><tr><td>sess9FJ842C3</td>\n",
       "<td>scan9FJ842C3</td>\n",
       "<td>1000</td>\n",
       "<td>1000</td>\n",
       "<td>15851</td>\n",
       "<td>60</td>\n",
       "<td>None</td>\n",
       "<td>264.183</td> </tr> </tbody>\n",
       "        </table>\n",
       "        \n",
       "        <p>Total: 3</p></div>\n",
       "        "
      ],
      "text/plain": [
       "*session_id    *recording_id  px_height     px_width     nframes     fps     recording_date recording_dura\n",
       "+------------+ +------------+ +-----------+ +----------+ +---------+ +-----+ +------------+ +------------+\n",
       "sess9FB2LN5C   scan9FB2LN5C   500           500          18000       60      None           300.0         \n",
       "sess9FHELAYA   scan9FHELAYA   1000          1000         123         60      None           2.05          \n",
       "sess9FJ842C3   scan9FJ842C3   1000          1000         15851       60      None           264.183       \n",
       " (Total: 3)"
      ]
     },
     "execution_count": 46,
     "metadata": {},
     "output_type": "execute_result"
    }
   ],
   "source": [
    "model.RecordingInfo.populate()\n",
    "model.RecordingInfo()"
   ]
  },
  {
   "cell_type": "code",
   "execution_count": 47,
   "id": "7d1ad296-9ff5-4a2a-9ad0-8edc1ecb7ef3",
   "metadata": {},
   "outputs": [],
   "source": [
    "model.PoseEstimation.populate()"
   ]
  },
  {
   "cell_type": "code",
   "execution_count": null,
   "id": "568cc787-f65f-4c44-ba96-091905b89534",
   "metadata": {},
   "outputs": [],
   "source": [
    "model.PoseEstimation()."
   ]
  },
  {
   "cell_type": "markdown",
   "id": "91a3626a-abc9-4c21-87a5-96dcca15bc2f",
   "metadata": {},
   "source": [
    "By default, DataJoint will store the results of pose estimation in a subdirectory\n",
    ">  processed_dir / videos / device_<#>_recording_<#>_model_<name>\n",
    "\n",
    "Pulling processed_dir from `get_dlc_processed_dir`, and device/recording information \n",
    "from the `VideoRecording` table. The model name is taken from the primary key of the\n",
    "`Model` table, with spaced replaced by hyphens.\n",
    "    \n",
    "We can get this estimation directly as a pandas dataframe."
   ]
  },
  {
   "cell_type": "code",
   "execution_count": null,
   "id": "9f5902f1-0934-4abc-9ae3-e720729400c4",
   "metadata": {},
   "outputs": [],
   "source": [
    "model.PoseEstimation.BodyPartPosition()"
   ]
  },
  {
   "cell_type": "code",
   "execution_count": null,
   "id": "e348ffcf-312d-4664-947c-7970a79a2f16",
   "metadata": {},
   "outputs": [],
   "source": [
    "model.PoseEstimation.get_trajectory(key)"
   ]
  },
  {
   "cell_type": "code",
   "execution_count": null,
   "id": "45ae5b07",
   "metadata": {},
   "outputs": [],
   "source": [
    "df=model.PoseEstimation.get_trajectory(key)\n",
    "df_xy = df.iloc[:,df.columns.get_level_values(2).isin([\"x\",\"y\"])]['Head_orientation-NK']\n",
    "df_xy.mean()\n"
   ]
  },
  {
   "cell_type": "code",
   "execution_count": null,
   "id": "19fbbbd5",
   "metadata": {},
   "outputs": [],
   "source": [
    "df_xy.plot().legend(loc='right')"
   ]
  },
  {
   "cell_type": "code",
   "execution_count": null,
   "id": "5b090586",
   "metadata": {},
   "outputs": [],
   "source": [
    "df_flat = df_xy.copy()\n",
    "df_flat.columns = df_flat.columns.map('_'.join)"
   ]
  },
  {
   "cell_type": "code",
   "execution_count": null,
   "id": "76d432a7",
   "metadata": {},
   "outputs": [],
   "source": [
    "import matplotlib.pyplot as plt \n",
    "fig,ax=plt.subplots()\n",
    "df_flat.plot(x='body_middle_x',y='body_middle_y',ax=ax)\n",
    "df_flat.plot(x='head_middle_x',y='head_middle_y', ax=ax)\n",
    "df_flat.plot(x='tail_x',y='tail_y', ax=ax)"
   ]
  },
  {
   "cell_type": "code",
   "execution_count": 49,
   "id": "4efdeb48",
   "metadata": {},
   "outputs": [
    {
     "data": {
      "text/plain": [
       "PosixPath('/datajoint-data/data/tobiasr/RN_OPI-1681_2023-04-05_scan9FHELAYA_sess9FHELAYA/device_mini2p1_top_recording_scan9FHELAYA_model_Head_orientation-NK')"
      ]
     },
     "execution_count": 49,
     "metadata": {},
     "output_type": "execute_result"
    }
   ],
   "source": [
    "destfolder = model.PoseEstimationTask.infer_output_dir(key)\n",
    "destfolder"
   ]
  },
  {
   "cell_type": "code",
   "execution_count": 50,
   "id": "44f083b6",
   "metadata": {},
   "outputs": [
    {
     "name": "stdout",
     "output_type": "stream",
     "text": [
      "Starting to process video: /datajoint-data/data/tobiasr/RN_OPI-1681_2023-04-05_scan9FHELAYA_sess9FHELAYA/scan9FHELAYA_top_video_2023-04-05T15_19_53.mp4-copy.mp4\n",
      "Loading /datajoint-data/data/tobiasr/RN_OPI-1681_2023-04-05_scan9FHELAYA_sess9FHELAYA/scan9FHELAYA_top_video_2023-04-05T15_19_53.mp4-copy.mp4 and data.\n"
     ]
    },
    {
     "name": "stdout",
     "output_type": "stream",
     "text": [
      "Duration of video [s]: 2.05, recorded with 60.0 fps!\n",
      "Overall # of frames: 123 with cropped frame dimensions: 1000 1000\n",
      "Generating frames and creating video.\n"
     ]
    },
    {
     "name": "stderr",
     "output_type": "stream",
     "text": [
      "100%|██████████| 123/123 [00:00<00:00, 136.35it/s]\n"
     ]
    },
    {
     "data": {
      "text/plain": [
       "[True]"
      ]
     },
     "execution_count": 50,
     "metadata": {},
     "output_type": "execute_result"
    }
   ],
   "source": [
    "from deeplabcut.utils.make_labeled_video import create_labeled_video\n",
    "\n",
    "video_path = find_full_path( # Fetch the full video path\n",
    "    get_dlc_root_data_dir(), ((model.VideoRecording.File & key).fetch1(\"file_path\"))\n",
    ")\n",
    "\n",
    "config_paths = sorted( # Of configs in the project path, defer to the datajoint-saved\n",
    "    list(\n",
    "        find_full_path(\n",
    "            get_dlc_root_data_dir(), ((model.Model & key).fetch1(\"project_path\"))\n",
    "        ).glob(\"*.y*ml\")\n",
    "    )\n",
    ")\n",
    "\n",
    "create_labeled_video( # Pass strings to label the video\n",
    "    config=str(config_paths[-1]),\n",
    "    videos=str(video_path),\n",
    "    destfolder=str(destfolder),\n",
    ")\n",
    "\n",
    "# list(list(pathlib.Path((model.VideoRecording.File & key).fetch1(\"file_path\")).parent.glob(\"device*\"))[0].glob(\"*.y*ml\"))"
   ]
  },
  {
   "cell_type": "code",
   "execution_count": null,
   "id": "09b16bb6",
   "metadata": {},
   "outputs": [],
   "source": [
    "moviepath = str(list(pathlib.Path((model.VideoRecording.File & key).fetch1(\"file_path\")).glob(\"*53.mp4\"))[0])\n",
    "moviepath\n"
   ]
  },
  {
   "cell_type": "code",
   "execution_count": null,
   "id": "20402c74",
   "metadata": {},
   "outputs": [],
   "source": [
    "(model.VideoRecording.File & key).fetch1(\"file_path\")"
   ]
  },
  {
   "cell_type": "code",
   "execution_count": null,
   "id": "74d56a41",
   "metadata": {},
   "outputs": [],
   "source": [
    "list(list(pathlib.Path((model.VideoRecording.File & key).fetch1(\"file_path\")).parent.glob(\"device*\"))[0].glob(\"*.y*ml\"))"
   ]
  },
  {
   "cell_type": "code",
   "execution_count": null,
   "metadata": {},
   "outputs": [],
   "source": []
  }
 ],
 "metadata": {
  "kernelspec": {
   "display_name": "base",
   "language": "python",
   "name": "python3"
  },
  "language_info": {
   "codemirror_mode": {
    "name": "ipython",
    "version": 3
   },
   "file_extension": ".py",
   "mimetype": "text/x-python",
   "name": "python",
   "nbconvert_exporter": "python",
   "pygments_lexer": "ipython3",
   "version": "3.8.16"
  },
  "vscode": {
   "interpreter": {
    "hash": "965cf972b663dbe25e7de0e0fe8e177cbbce2d7cfe110ae892c33d6669c5eb24"
   }
  }
 },
 "nbformat": 4,
 "nbformat_minor": 5
}
