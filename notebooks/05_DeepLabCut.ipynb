{
 "cells": [
  {
   "cell_type": "markdown",
   "id": "b0e36d60-7e12-4c51-ac24-5e62ba586001",
   "metadata": {},
   "source": [
    "# DeepLabCut Ingestion/Inference"
   ]
  },
  {
   "cell_type": "markdown",
   "id": "2b8414eb-f4c0-4e20-a93a-f8a2901bca49",
   "metadata": {},
   "source": [
    "`Dev notes:` Currently, the path structure assumes you have one DLC project directory for all models, as specified within `adamacs.pipeline.get_dlc_root_data_dir`. The parallel function `get_dlc_processed_data_dir` can specify the output directory. "
   ]
  },
  {
   "cell_type": "markdown",
   "id": "661a25a5-e884-4786-994c-ef4da4bf6ae2",
   "metadata": {},
   "source": [
    "## Setup"
   ]
  },
  {
   "cell_type": "markdown",
   "id": "d82ba707-4007-49d7-9cd6-0f1af03c0270",
   "metadata": {},
   "source": [
    "### Connect to the database"
   ]
  },
  {
   "cell_type": "markdown",
   "id": "4a148dfb-472c-4932-a473-913c04b1782e",
   "metadata": {},
   "source": [
    "If you are don't have your login information, contact the administrator.\n",
    "\n",
    "Using local config file (see [01_pipeline](./01_pipeline.ipynb)):"
   ]
  },
  {
   "cell_type": "code",
   "execution_count": 1,
   "id": "99c37499-7c85-45fd-9d1d-bb66cb0854c6",
   "metadata": {},
   "outputs": [
    {
     "name": "stdout",
     "output_type": "stream",
     "text": [
      "Connecting cbroz@dss-db.datajoint.io:3306\n"
     ]
    },
    {
     "data": {
      "text/plain": [
       "DataJoint connection (connected) cbroz@dss-db.datajoint.io:3306"
      ]
     },
     "execution_count": 1,
     "metadata": {},
     "output_type": "execute_result"
    }
   ],
   "source": [
    "import os\n",
    "# change to the upper level folder to detect dj_local_conf.json\n",
    "if os.path.basename(os.getcwd())=='notebooks': os.chdir('..')\n",
    "assert os.path.basename(os.getcwd())=='adamacs', (\"Please move to the main directory\")\n",
    "import datajoint as dj; dj.conn()"
   ]
  },
  {
   "cell_type": "markdown",
   "id": "33d2fdd6-b961-40c2-9316-6f79172ca7b2",
   "metadata": {},
   "source": [
    "Manual entry:"
   ]
  },
  {
   "cell_type": "code",
   "execution_count": null,
   "id": "2e36709e-92ca-41a5-86a8-90a725a8769d",
   "metadata": {},
   "outputs": [],
   "source": [
    "# Manual Entry\n",
    "import datajoint as dj; import getpass\n",
    "dj.config['database.host'] = '172.26.128.53'        # Put the server name between these apostrophe\n",
    "dj.config['database.user'] = 'danielmk'             # Put your user name between these apostrophe\n",
    "dj.config['database.password'] = getpass.getpass()  # Put your password in the prompt\n",
    "dj.config['custom']['dlc_root_data_dir'] = 'path'   # Path of your DLC project folder\n",
    "dj.conn()"
   ]
  },
  {
   "cell_type": "markdown",
   "id": "a6adb4d4-599b-49a5-ba7f-7013b07dd83b",
   "metadata": {},
   "source": [
    "### Imports and activation\n",
    "\n",
    "Importing schema from `adamacs.pipeline` automatically activates items."
   ]
  },
  {
   "cell_type": "code",
   "execution_count": 2,
   "id": "1b76b069-3ca5-4dce-9ea8-1ba2058c3662",
   "metadata": {},
   "outputs": [],
   "source": [
    "from adamacs.pipeline import subject, train, model"
   ]
  },
  {
   "cell_type": "markdown",
   "id": "83f8326a-ecca-4978-aa45-cce9ffbc164f",
   "metadata": {
    "lines_to_next_cell": 0,
    "tags": []
   },
   "source": [
    "## Ingesting videos and training parameters\n",
    "\n",
    "### Automated\n",
    "\n",
    "Refer the `user_data` folder in the `adamacs` directory contains CSVs for inserting values into DeepLabCut tables.\n",
    "\n",
    "1. `config_params.csv` is used for training parameter sets in `train.TrainingParamSet`. The following items are required, but others will also be passed to DLC's `train_network` function when called "
   ]
  },
  {
   "cell_type": "code",
   "execution_count": null,
   "id": "40963177-1087-44c1-bb24-3198ed5a5115",
   "metadata": {
    "lines_to_next_cell": 0,
    "title": "``"
   },
   "outputs": [],
   "source": []
  },
  {
   "cell_type": "code",
   "execution_count": null,
   "id": "f514a2fa",
   "metadata": {
    "lines_to_next_cell": 0,
    "title": "`shuffle` - Training data shuffle"
   },
   "outputs": [],
   "source": []
  },
  {
   "cell_type": "code",
   "execution_count": null,
   "id": "c7f934f1",
   "metadata": {
    "title": "`trainingsetindex` - Training fraction in 0-indexed list"
   },
   "outputs": [],
   "source": [
    "# 2. `train_videosets.csv` and `model_videos.csv` pass values to `train.VideoSet` and `model.VideoRecording` respectively.\n",
    "# 3. `adamacs.ingest.dlc.ingest_dlc_items` will load each of these CSVs\n",
    "#\n",
    "# For more information, see [this notebook](https://github.com/CBroz1/workflow-deeplabcut/blob/main/notebooks/04-Automate_Optional.ipynb)"
   ]
  },
  {
   "cell_type": "code",
   "execution_count": 12,
   "id": "f93dfb26-0b38-47e0-92f2-37e8df758319",
   "metadata": {},
   "outputs": [
    {
     "name": "stdout",
     "output_type": "stream",
     "text": [
      "\n",
      "---- Inserting 0 entry(s) into #model_training_param_set ----\n",
      "\n",
      "---- Inserting 0 entry(s) into video_set ----\n",
      "\n",
      "---- Inserting 0 entry(s) into video_set__file ----\n",
      "\n",
      "---- Inserting 1 entry(s) into video_recording ----\n",
      "\n",
      "---- Inserting 1 entry(s) into video_recording__file ----\n"
     ]
    }
   ],
   "source": [
    "from adamacs.ingest.dlc import ingest_dlc_items\n",
    "ingest_dlc_items()"
   ]
  },
  {
   "cell_type": "markdown",
   "id": "5d411cbb-3c2c-4bb0-b300-27a0dcd68978",
   "metadata": {},
   "source": [
    "### Manual\n",
    "\n",
    "The same training parameters as above can be manually inserted as follows."
   ]
  },
  {
   "cell_type": "code",
   "execution_count": 7,
   "id": "34060694-72bc-4814-a3a4-64de1d3d447a",
   "metadata": {},
   "outputs": [],
   "source": [
    "import yaml\n",
    "from element_interface.utils import find_full_path\n",
    "from adamacs.paths import get_dlc_root_data_dir\n",
    "\n",
    "paramset_idx = 1; paramset_desc='from_top_5iters'\n",
    "config_path = find_full_path(get_dlc_root_data_dir(), \n",
    "                             'DLC_tracking/config.yaml')\n",
    "with open(config_path, 'rb') as y:\n",
    "    config_params = yaml.safe_load(y)\n",
    "training_params = {'shuffle': '1',\n",
    "                   'trainingsetindex': '0',\n",
    "                   'maxiters': '5',\n",
    "                   'scorer_legacy': 'False',\n",
    "                   'maxiters': '5', \n",
    "                   'multianimalproject':'False'}\n",
    "config_params.update(training_params)\n",
    "train.TrainingParamSet.insert_new_params(paramset_idx=paramset_idx,\n",
    "                                         paramset_desc=paramset_desc,\n",
    "                                         params=config_params)"
   ]
  },
  {
   "cell_type": "code",
   "execution_count": null,
   "id": "80ba9ae1-a614-4255-9220-99cb1b05c4fe",
   "metadata": {},
   "outputs": [],
   "source": [
    "key = {'subject': 'subject',\n",
    "       'session_id': 'id',\n",
    "       'recording_id': 1, \n",
    "       'scanner': 1, # Currently 'scanner' due to in equipment tables\n",
    "       'recording_start_time': '0000-00-00 00:00:00'}\n",
    "model.VideoRecording.insert1(key)\n",
    "# do not include an initial `/` in relative file paths   \n",
    "key.update({'file_path': 'relative/path'})\n",
    "model.VideoRecording.File.insert1(key, ignore_extra_fields=True)"
   ]
  },
  {
   "cell_type": "markdown",
   "id": "ae990c82-36a6-4662-bac8-e014bd80b084",
   "metadata": {},
   "source": [
    "## Model Training"
   ]
  },
  {
   "cell_type": "markdown",
   "id": "91befce5-f9c5-47d3-88df-5c4398eebbbe",
   "metadata": {},
   "source": [
    "The `TrainingTask` table queues up training. To launch training from a different machine, one needs to edit DLC's config files to reflect updated paths. For training, this includes `dlc-models/*/*/train/pose_cfg.yaml`\n",
    "\n",
    "`CB DEV NOTE:` I'm missing the following videos used to originally train the model:\n",
    "- top_video2022-02-17T15_56_10.mp4\n",
    "- top_video2022-02-21T12_18_09.mp4"
   ]
  },
  {
   "cell_type": "code",
   "execution_count": 6,
   "id": "6947589c-0546-472d-8ee6-b5c5b56ffac3",
   "metadata": {},
   "outputs": [
    {
     "data": {
      "text/html": [
       "\n",
       "    \n",
       "    <style type=\"text/css\">\n",
       "        .Relation{\n",
       "            border-collapse:collapse;\n",
       "        }\n",
       "        .Relation th{\n",
       "            background: #A0A0A0; color: #ffffff; padding:4px; border:#f0e0e0 1px solid;\n",
       "            font-weight: normal; font-family: monospace; font-size: 100%;\n",
       "        }\n",
       "        .Relation td{\n",
       "            padding:4px; border:#f0e0e0 1px solid; font-size:100%;\n",
       "        }\n",
       "        .Relation tr:nth-child(odd){\n",
       "            background: #ffffff;\n",
       "        }\n",
       "        .Relation tr:nth-child(even){\n",
       "            background: #f3f1ff;\n",
       "        }\n",
       "        /* Tooltip container */\n",
       "        .djtooltip {\n",
       "        }\n",
       "        /* Tooltip text */\n",
       "        .djtooltip .djtooltiptext {\n",
       "            visibility: hidden;\n",
       "            width: 120px;\n",
       "            background-color: black;\n",
       "            color: #fff;\n",
       "            text-align: center;\n",
       "            padding: 5px 0;\n",
       "            border-radius: 6px;\n",
       "            /* Position the tooltip text - see examples below! */\n",
       "            position: absolute;\n",
       "            z-index: 1;\n",
       "        }\n",
       "        #primary {\n",
       "            font-weight: bold;\n",
       "            color: black;\n",
       "        }\n",
       "        #nonprimary {\n",
       "            font-weight: normal;\n",
       "            color: white;\n",
       "        }\n",
       "\n",
       "        /* Show the tooltip text when you mouse over the tooltip container */\n",
       "        .djtooltip:hover .djtooltiptext {\n",
       "            visibility: visible;\n",
       "        }\n",
       "    </style>\n",
       "    \n",
       "    <b>Specification for a DLC model training instance</b>\n",
       "        <div style=\"max-height:1000px;max-width:1500px;overflow:auto;\">\n",
       "        <table border=\"1\" class=\"Relation\">\n",
       "            <thead> <tr style=\"text-align: right;\"> <th> <div class=\"djtooltip\">\n",
       "                            <p id=\"primary\">video_set_id</p>\n",
       "                            <span class=\"djtooltiptext\"></span>\n",
       "                        </div></th><th><div class=\"djtooltip\">\n",
       "                            <p id=\"primary\">paramset_idx</p>\n",
       "                            <span class=\"djtooltiptext\"></span>\n",
       "                        </div></th><th><div class=\"djtooltip\">\n",
       "                            <p id=\"primary\">training_id</p>\n",
       "                            <span class=\"djtooltiptext\"></span>\n",
       "                        </div></th><th><div class=\"djtooltip\">\n",
       "                            <p id=\"nonprimary\">model_prefix</p>\n",
       "                            <span class=\"djtooltiptext\"></span>\n",
       "                        </div></th><th><div class=\"djtooltip\">\n",
       "                            <p id=\"nonprimary\">project_path</p>\n",
       "                            <span class=\"djtooltiptext\">DLC's project_path in config relative to root</span>\n",
       "                        </div> </th> </tr> </thead>\n",
       "            <tbody> <tr> <td>1</td>\n",
       "<td>1</td>\n",
       "<td>1</td>\n",
       "<td></td>\n",
       "<td>DLC_tracking/</td> </tr> </tbody>\n",
       "        </table>\n",
       "        \n",
       "        <p>Total: 1</p></div>\n",
       "        "
      ],
      "text/plain": [
       "*video_set_id  *paramset_idx  *training_id   model_prefix   project_path  \n",
       "+------------+ +------------+ +------------+ +------------+ +------------+\n",
       "1              1              1                             DLC_tracking/ \n",
       " (Total: 1)"
      ]
     },
     "execution_count": 6,
     "metadata": {},
     "output_type": "execute_result"
    }
   ],
   "source": [
    "key={'video_set_id': 1, 'paramset_idx':1,\n",
    "     'training_id':1, # uniquely defines training task\n",
    "     'project_path':'DLC_tracking/' # relative to dlc_root in dj.config\n",
    "    }\n",
    "train.TrainingTask.insert1(key, skip_duplicates=True)\n",
    "train.TrainingTask()"
   ]
  },
  {
   "cell_type": "code",
   "execution_count": null,
   "id": "2a493f78-6a1d-4c5e-8606-7c01c68f7c66",
   "metadata": {
    "tags": []
   },
   "outputs": [],
   "source": [
    "train.ModelTraining.populate()"
   ]
  },
  {
   "cell_type": "code",
   "execution_count": 10,
   "id": "be4bc25b-04ae-4f97-813e-c316ddb0a739",
   "metadata": {},
   "outputs": [
    {
     "data": {
      "text/html": [
       "\n",
       "    \n",
       "    <style type=\"text/css\">\n",
       "        .Relation{\n",
       "            border-collapse:collapse;\n",
       "        }\n",
       "        .Relation th{\n",
       "            background: #A0A0A0; color: #ffffff; padding:4px; border:#f0e0e0 1px solid;\n",
       "            font-weight: normal; font-family: monospace; font-size: 100%;\n",
       "        }\n",
       "        .Relation td{\n",
       "            padding:4px; border:#f0e0e0 1px solid; font-size:100%;\n",
       "        }\n",
       "        .Relation tr:nth-child(odd){\n",
       "            background: #ffffff;\n",
       "        }\n",
       "        .Relation tr:nth-child(even){\n",
       "            background: #f3f1ff;\n",
       "        }\n",
       "        /* Tooltip container */\n",
       "        .djtooltip {\n",
       "        }\n",
       "        /* Tooltip text */\n",
       "        .djtooltip .djtooltiptext {\n",
       "            visibility: hidden;\n",
       "            width: 120px;\n",
       "            background-color: black;\n",
       "            color: #fff;\n",
       "            text-align: center;\n",
       "            padding: 5px 0;\n",
       "            border-radius: 6px;\n",
       "            /* Position the tooltip text - see examples below! */\n",
       "            position: absolute;\n",
       "            z-index: 1;\n",
       "        }\n",
       "        #primary {\n",
       "            font-weight: bold;\n",
       "            color: black;\n",
       "        }\n",
       "        #nonprimary {\n",
       "            font-weight: normal;\n",
       "            color: white;\n",
       "        }\n",
       "\n",
       "        /* Show the tooltip text when you mouse over the tooltip container */\n",
       "        .djtooltip:hover .djtooltiptext {\n",
       "            visibility: visible;\n",
       "        }\n",
       "    </style>\n",
       "    \n",
       "    <b></b>\n",
       "        <div style=\"max-height:1000px;max-width:1500px;overflow:auto;\">\n",
       "        <table border=\"1\" class=\"Relation\">\n",
       "            <thead> <tr style=\"text-align: right;\"> <th> <div class=\"djtooltip\">\n",
       "                            <p id=\"primary\">video_set_id</p>\n",
       "                            <span class=\"djtooltiptext\"></span>\n",
       "                        </div></th><th><div class=\"djtooltip\">\n",
       "                            <p id=\"primary\">paramset_idx</p>\n",
       "                            <span class=\"djtooltiptext\"></span>\n",
       "                        </div></th><th><div class=\"djtooltip\">\n",
       "                            <p id=\"primary\">training_id</p>\n",
       "                            <span class=\"djtooltiptext\"></span>\n",
       "                        </div></th><th><div class=\"djtooltip\">\n",
       "                            <p id=\"nonprimary\">latest_snapshot</p>\n",
       "                            <span class=\"djtooltiptext\">latest exact snapshot index (i.e., never -1)</span>\n",
       "                        </div></th><th><div class=\"djtooltip\">\n",
       "                            <p id=\"nonprimary\">config_template</p>\n",
       "                            <span class=\"djtooltiptext\">stored full config file</span>\n",
       "                        </div> </th> </tr> </thead>\n",
       "            <tbody> <tr> <td>1</td>\n",
       "<td>1</td>\n",
       "<td>1</td>\n",
       "<td>5</td>\n",
       "<td>=BLOB=</td> </tr> </tbody>\n",
       "        </table>\n",
       "        \n",
       "        <p>Total: 1</p></div>\n",
       "        "
      ],
      "text/plain": [
       "*video_set_id  *paramset_idx  *training_id   latest_snapsho config_tem\n",
       "+------------+ +------------+ +------------+ +------------+ +--------+\n",
       "1              1              1              5              =BLOB=    \n",
       " (Total: 1)"
      ]
     },
     "execution_count": 10,
     "metadata": {},
     "output_type": "execute_result"
    }
   ],
   "source": [
    "train.ModelTraining()"
   ]
  },
  {
   "cell_type": "markdown",
   "id": "4b8e3299-63b9-49cc-a010-04d81ba552fd",
   "metadata": {},
   "source": [
    "To start training from a previous instance, one would need to \n",
    "[edit the relevant config file](https://github.com/DeepLabCut/DeepLabCut/issues/70) and\n",
    "adjust the `maxiters` paramset (if present) to a higher threshold (e.g., 10 for 5 more itterations).\n",
    "Emperical work from the Mathis team suggests 200k iterations for any true use-case."
   ]
  },
  {
   "cell_type": "markdown",
   "id": "0f3fb14a-64a2-4bfa-9e03-0ee4e87af98e",
   "metadata": {},
   "source": [
    "## Tracking Joints/Body Parts"
   ]
  },
  {
   "cell_type": "markdown",
   "id": "b7b6a7ad-f99d-463f-82e5-901e498236b8",
   "metadata": {},
   "source": [
    "The `model` schema uses a lookup table for managing Body Parts tracked across models."
   ]
  },
  {
   "cell_type": "code",
   "execution_count": 11,
   "id": "70dbfc1a-cbad-43c1-9051-776a6dcc0c13",
   "metadata": {},
   "outputs": [
    {
     "data": {
      "text/plain": [
       "body_part            : varchar(32)                  # \n",
       "---\n",
       "body_part_description=\"\" : varchar(1000)                # "
      ]
     },
     "execution_count": 11,
     "metadata": {},
     "output_type": "execute_result"
    }
   ],
   "source": [
    "model.BodyPart.heading"
   ]
  },
  {
   "cell_type": "markdown",
   "id": "fc134ae7-62b8-4013-a538-1f47070e430b",
   "metadata": {},
   "source": [
    "This table is equipped with two helper functions. First, we can identify all the new body parts from a given config file."
   ]
  },
  {
   "cell_type": "code",
   "execution_count": 14,
   "id": "7f21c637-2554-4b6e-9a9a-e07d3cb5edae",
   "metadata": {},
   "outputs": [
    {
     "name": "stdout",
     "output_type": "stream",
     "text": [
      "Existing body parts: []\n",
      "New body parts: ['bodycenter' 'head' 'tailbase']\n"
     ]
    },
    {
     "data": {
      "text/plain": [
       "array(['bodycenter', 'head', 'tailbase'], dtype='<U10')"
      ]
     },
     "execution_count": 14,
     "metadata": {},
     "output_type": "execute_result"
    }
   ],
   "source": [
    "from adamacs.paths import get_dlc_root_data_dir\n",
    "config_path = get_dlc_root_data_dir()[0] + \"/DLC_tracking/config.yaml\"\n",
    "model.BodyPart.extract_new_body_parts(config_path)"
   ]
  },
  {
   "cell_type": "markdown",
   "id": "f354da25-1f3e-4220-aa8b-943f6260b88c",
   "metadata": {},
   "source": [
    "Now, we can make a list of descriptions in the same order, and insert them into the table"
   ]
  },
  {
   "cell_type": "code",
   "execution_count": 15,
   "id": "14c69d60-c198-468e-a67c-b2ff77667bbb",
   "metadata": {},
   "outputs": [
    {
     "name": "stdout",
     "output_type": "stream",
     "text": [
      "Existing body parts: []\n",
      "New body parts: ['bodycenter' 'head' 'tailbase']\n",
      "New descriptions: ['Body Center', 'Head', 'Base of Tail']\n"
     ]
    },
    {
     "name": "stdout",
     "output_type": "stream",
     "text": [
      "Insert 3 new body part(s)? [yes, no]:  yes\n"
     ]
    }
   ],
   "source": [
    "bp_desc=['Body Center', 'Head', 'Base of Tail']\n",
    "model.BodyPart.insert_from_config(config_path,bp_desc)"
   ]
  },
  {
   "cell_type": "markdown",
   "id": "d81f0302-b652-4b5d-8983-001484ef83e0",
   "metadata": {},
   "source": [
    "If we skip this step, body parts (without descriptions) will be added when we insert a model. We can [update](https://docs.datajoint.org/python/v0.13/manipulation/3-Cautious-Update.html) empty descriptions at any time."
   ]
  },
  {
   "cell_type": "markdown",
   "id": "e5643f65-19ac-4ba4-a475-21e3d7bf6e54",
   "metadata": {},
   "source": [
    "## Declaring a Model"
   ]
  },
  {
   "cell_type": "markdown",
   "id": "20dcf5df-79b3-4a0e-bc6b-5114b44b61a3",
   "metadata": {},
   "source": [
    "If training appears successful, the result can be inserted into the `Model` table for automatic evaluation."
   ]
  },
  {
   "cell_type": "code",
   "execution_count": 16,
   "id": "9762e61c-0b14-4928-b7ac-3e73bab3f201",
   "metadata": {},
   "outputs": [
    {
     "name": "stdout",
     "output_type": "stream",
     "text": [
      "--- DLC Model specification to be inserted ---\n",
      "\tmodel_name: from_top_5iters\n",
      "\tmodel_description: From Top, trained 5 iterations\n",
      "\tscorer: DLCmobnet100fromtoptrackingFeb23shuffle1\n",
      "\ttask: from_top_tracking\n",
      "\tdate: Feb23\n",
      "\titeration: 0\n",
      "\tsnapshotindex: -1\n",
      "\tshuffle: 1\n",
      "\ttrainingsetindex: 0\n",
      "\tproject_path: DLC_tracking\n",
      "\tparamset_idx: 1\n",
      "\t-- Template for config.yaml --\n",
      "\t\tTask: from_top_tracking\n",
      "\t\tTrainingFraction: [0.95]\n",
      "\t\tbatch_size: 8\n",
      "\t\tcropping: False\n",
      "\t\tdate: Feb23\n",
      "\t\titeration: 0\n",
      "\t\tproject_path: /Users/cb/Documents/Bonn/DLC_tracking\n",
      "\t\tsnapshotindex: -1\n",
      "\t\tx1: 0\n",
      "\t\tx2: 640\n",
      "\t\ty1: 277\n",
      "\t\ty2: 624\n"
     ]
    },
    {
     "name": "stdout",
     "output_type": "stream",
     "text": [
      "Proceed with new DLC model insert? [yes, no]:  yes\n"
     ]
    },
    {
     "name": "stdout",
     "output_type": "stream",
     "text": [
      "Existing body parts: ['bodycenter' 'head' 'tailbase']\n",
      "New body parts: []\n"
     ]
    },
    {
     "name": "stdout",
     "output_type": "stream",
     "text": [
      "Insert 0 new body part(s)? [yes, no]:  yes\n"
     ]
    }
   ],
   "source": [
    "model.Model.insert_new_model(model_name='from_top_5iters',dlc_config=config_path,\n",
    "                             shuffle=1,trainingsetindex=0,\n",
    "                             model_description='From Top, trained 5 iterations',\n",
    "                             paramset_idx=1)"
   ]
  },
  {
   "cell_type": "code",
   "execution_count": 9,
   "id": "ae2fb0d9-df98-4e10-ae06-c0d8c33bf67b",
   "metadata": {},
   "outputs": [
    {
     "data": {
      "text/html": [
       "\n",
       "    \n",
       "    <style type=\"text/css\">\n",
       "        .Relation{\n",
       "            border-collapse:collapse;\n",
       "        }\n",
       "        .Relation th{\n",
       "            background: #A0A0A0; color: #ffffff; padding:4px; border:#f0e0e0 1px solid;\n",
       "            font-weight: normal; font-family: monospace; font-size: 100%;\n",
       "        }\n",
       "        .Relation td{\n",
       "            padding:4px; border:#f0e0e0 1px solid; font-size:100%;\n",
       "        }\n",
       "        .Relation tr:nth-child(odd){\n",
       "            background: #ffffff;\n",
       "        }\n",
       "        .Relation tr:nth-child(even){\n",
       "            background: #f3f1ff;\n",
       "        }\n",
       "        /* Tooltip container */\n",
       "        .djtooltip {\n",
       "        }\n",
       "        /* Tooltip text */\n",
       "        .djtooltip .djtooltiptext {\n",
       "            visibility: hidden;\n",
       "            width: 120px;\n",
       "            background-color: black;\n",
       "            color: #fff;\n",
       "            text-align: center;\n",
       "            padding: 5px 0;\n",
       "            border-radius: 6px;\n",
       "            /* Position the tooltip text - see examples below! */\n",
       "            position: absolute;\n",
       "            z-index: 1;\n",
       "        }\n",
       "        #primary {\n",
       "            font-weight: bold;\n",
       "            color: black;\n",
       "        }\n",
       "        #nonprimary {\n",
       "            font-weight: normal;\n",
       "            color: white;\n",
       "        }\n",
       "\n",
       "        /* Show the tooltip text when you mouse over the tooltip container */\n",
       "        .djtooltip:hover .djtooltiptext {\n",
       "            visibility: visible;\n",
       "        }\n",
       "    </style>\n",
       "    \n",
       "    <b></b>\n",
       "        <div style=\"max-height:1000px;max-width:1500px;overflow:auto;\">\n",
       "        <table border=\"1\" class=\"Relation\">\n",
       "            <thead> <tr style=\"text-align: right;\"> <th> <div class=\"djtooltip\">\n",
       "                            <p id=\"primary\">model_name</p>\n",
       "                            <span class=\"djtooltiptext\">user-friendly model name</span>\n",
       "                        </div></th><th><div class=\"djtooltip\">\n",
       "                            <p id=\"nonprimary\">task</p>\n",
       "                            <span class=\"djtooltiptext\">task in the config yaml</span>\n",
       "                        </div></th><th><div class=\"djtooltip\">\n",
       "                            <p id=\"nonprimary\">date</p>\n",
       "                            <span class=\"djtooltiptext\">date in the config yaml</span>\n",
       "                        </div></th><th><div class=\"djtooltip\">\n",
       "                            <p id=\"nonprimary\">iteration</p>\n",
       "                            <span class=\"djtooltiptext\">iteration/version of this model</span>\n",
       "                        </div></th><th><div class=\"djtooltip\">\n",
       "                            <p id=\"nonprimary\">snapshotindex</p>\n",
       "                            <span class=\"djtooltiptext\">which snapshot for prediction (if -1, latest)</span>\n",
       "                        </div></th><th><div class=\"djtooltip\">\n",
       "                            <p id=\"nonprimary\">shuffle</p>\n",
       "                            <span class=\"djtooltiptext\">which shuffle of the training dataset</span>\n",
       "                        </div></th><th><div class=\"djtooltip\">\n",
       "                            <p id=\"nonprimary\">trainingsetindex</p>\n",
       "                            <span class=\"djtooltiptext\">which training set fraction to generate model</span>\n",
       "                        </div></th><th><div class=\"djtooltip\">\n",
       "                            <p id=\"nonprimary\">scorer</p>\n",
       "                            <span class=\"djtooltiptext\">scorer/network name - DLC's GetScorerName()</span>\n",
       "                        </div></th><th><div class=\"djtooltip\">\n",
       "                            <p id=\"nonprimary\">config_template</p>\n",
       "                            <span class=\"djtooltiptext\">dictionary of the config for analyze_videos()</span>\n",
       "                        </div></th><th><div class=\"djtooltip\">\n",
       "                            <p id=\"nonprimary\">project_path</p>\n",
       "                            <span class=\"djtooltiptext\">DLC's project_path in config relative to root</span>\n",
       "                        </div></th><th><div class=\"djtooltip\">\n",
       "                            <p id=\"nonprimary\">model_prefix</p>\n",
       "                            <span class=\"djtooltiptext\"></span>\n",
       "                        </div></th><th><div class=\"djtooltip\">\n",
       "                            <p id=\"nonprimary\">model_description</p>\n",
       "                            <span class=\"djtooltiptext\"></span>\n",
       "                        </div></th><th><div class=\"djtooltip\">\n",
       "                            <p id=\"nonprimary\">paramset_idx</p>\n",
       "                            <span class=\"djtooltiptext\"></span>\n",
       "                        </div> </th> </tr> </thead>\n",
       "            <tbody> <tr> <td>from_top_5iters</td>\n",
       "<td>from_top_tracking</td>\n",
       "<td>Feb23</td>\n",
       "<td>0</td>\n",
       "<td>-1</td>\n",
       "<td>1</td>\n",
       "<td>0</td>\n",
       "<td>DLCmobnet100fromtoptrackingFeb23shuffle1</td>\n",
       "<td>=BLOB=</td>\n",
       "<td>DLC_tracking</td>\n",
       "<td></td>\n",
       "<td>From Top, trained 5 iterations</td>\n",
       "<td>1</td> </tr> </tbody>\n",
       "        </table>\n",
       "        \n",
       "        <p>Total: 1</p></div>\n",
       "        "
      ],
      "text/plain": [
       "*model_name    task           date      iteration     snapshotindex  shuffle     trainingsetind scorer         config_tem project_path   model_prefix   model_descript paramset_idx  \n",
       "+------------+ +------------+ +-------+ +-----------+ +------------+ +---------+ +------------+ +------------+ +--------+ +------------+ +------------+ +------------+ +------------+\n",
       "from_top_5iter from_top_track Feb23     0             -1             1           0              DLCmobnet100fr =BLOB=     DLC_tracking                  From Top, trai 1             \n",
       " (Total: 1)"
      ]
     },
     "execution_count": 9,
     "metadata": {},
     "output_type": "execute_result"
    }
   ],
   "source": [
    "model.Model()"
   ]
  },
  {
   "cell_type": "code",
   "execution_count": 10,
   "id": "862fdc0f-61a7-4955-8019-78b014ad527e",
   "metadata": {},
   "outputs": [
    {
     "data": {
      "text/html": [
       "\n",
       "    \n",
       "    <style type=\"text/css\">\n",
       "        .Relation{\n",
       "            border-collapse:collapse;\n",
       "        }\n",
       "        .Relation th{\n",
       "            background: #A0A0A0; color: #ffffff; padding:4px; border:#f0e0e0 1px solid;\n",
       "            font-weight: normal; font-family: monospace; font-size: 100%;\n",
       "        }\n",
       "        .Relation td{\n",
       "            padding:4px; border:#f0e0e0 1px solid; font-size:100%;\n",
       "        }\n",
       "        .Relation tr:nth-child(odd){\n",
       "            background: #ffffff;\n",
       "        }\n",
       "        .Relation tr:nth-child(even){\n",
       "            background: #f3f1ff;\n",
       "        }\n",
       "        /* Tooltip container */\n",
       "        .djtooltip {\n",
       "        }\n",
       "        /* Tooltip text */\n",
       "        .djtooltip .djtooltiptext {\n",
       "            visibility: hidden;\n",
       "            width: 120px;\n",
       "            background-color: black;\n",
       "            color: #fff;\n",
       "            text-align: center;\n",
       "            padding: 5px 0;\n",
       "            border-radius: 6px;\n",
       "            /* Position the tooltip text - see examples below! */\n",
       "            position: absolute;\n",
       "            z-index: 1;\n",
       "        }\n",
       "        #primary {\n",
       "            font-weight: bold;\n",
       "            color: black;\n",
       "        }\n",
       "        #nonprimary {\n",
       "            font-weight: normal;\n",
       "            color: white;\n",
       "        }\n",
       "\n",
       "        /* Show the tooltip text when you mouse over the tooltip container */\n",
       "        .djtooltip:hover .djtooltiptext {\n",
       "            visibility: visible;\n",
       "        }\n",
       "    </style>\n",
       "    \n",
       "    <b></b>\n",
       "        <div style=\"max-height:1000px;max-width:1500px;overflow:auto;\">\n",
       "        <table border=\"1\" class=\"Relation\">\n",
       "            <thead> <tr style=\"text-align: right;\"> <th> <div class=\"djtooltip\">\n",
       "                            <p id=\"primary\">model_name</p>\n",
       "                            <span class=\"djtooltiptext\">user-friendly model name</span>\n",
       "                        </div></th><th><div class=\"djtooltip\">\n",
       "                            <p id=\"primary\">body_part</p>\n",
       "                            <span class=\"djtooltiptext\"></span>\n",
       "                        </div> </th> </tr> </thead>\n",
       "            <tbody> <tr> <td>from_top_5iters</td>\n",
       "<td>bodycenter</td></tr><tr><td>from_top_5iters</td>\n",
       "<td>head</td></tr><tr><td>from_top_5iters</td>\n",
       "<td>tailbase</td> </tr> </tbody>\n",
       "        </table>\n",
       "        \n",
       "        <p>Total: 3</p></div>\n",
       "        "
      ],
      "text/plain": [
       "*model_name    *body_part    \n",
       "+------------+ +------------+\n",
       "from_top_5iter bodycenter    \n",
       "from_top_5iter head          \n",
       "from_top_5iter tailbase      \n",
       " (Total: 3)"
      ]
     },
     "execution_count": 10,
     "metadata": {},
     "output_type": "execute_result"
    }
   ],
   "source": [
    "model.Model.BodyPart()"
   ]
  },
  {
   "cell_type": "markdown",
   "id": "f71c877f-4f1d-40f7-a898-b3bcf695e603",
   "metadata": {},
   "source": [
    "## Model Evaluation"
   ]
  },
  {
   "cell_type": "markdown",
   "id": "0657e7b6-3969-4d16-b801-e05d222285d4",
   "metadata": {},
   "source": [
    "Next, all inserted models can be evaluated with a similar `populate` method, which will\n",
    "insert the relevant output from DLC's `evaluate_network` function."
   ]
  },
  {
   "cell_type": "code",
   "execution_count": 11,
   "id": "2eb626c5-f1ed-4a86-a300-ddd8066e1ac5",
   "metadata": {},
   "outputs": [
    {
     "data": {
      "text/plain": [
       "model_name           : varchar(64)                  # user-friendly model name\n",
       "---\n",
       "train_iterations     : int                          # Training iterations\n",
       "train_error=null     : float                        # Train error (px)\n",
       "test_error=null      : float                        # Test error (px)\n",
       "p_cutoff=null        : float                        # p-cutoff used\n",
       "train_error_p=null   : float                        # Train error with p-cutoff\n",
       "test_error_p=null    : float                        # Test error with p-cutoff"
      ]
     },
     "execution_count": 11,
     "metadata": {},
     "output_type": "execute_result"
    }
   ],
   "source": [
    "model.ModelEvaluation.heading"
   ]
  },
  {
   "cell_type": "markdown",
   "id": "1f77889f-efc6-41ed-9ae5-b5089bd2b6ef",
   "metadata": {},
   "source": [
    "If your project was initialized in a version of DeepLabCut other than the one you're currently using, model evaluation may report key errors. Specifically, your `config.yaml` may not specify `multianimalproject: false`."
   ]
  },
  {
   "cell_type": "code",
   "execution_count": 12,
   "id": "8d52b8a7-e677-4f00-a720-2aed7a266fb3",
   "metadata": {},
   "outputs": [
    {
     "name": "stdout",
     "output_type": "stream",
     "text": [
      "DLC loaded in light mode; you cannot use any GUI (labeling, relabeling and standalone GUI)\n",
      "Running  DLC_mobnet_100_from_top_trackingFeb23shuffle1_103000  with # of training iterations: 103000\n",
      "This net has already been evaluated!\n"
     ]
    }
   ],
   "source": [
    "model.ModelEvaluation.populate()"
   ]
  },
  {
   "cell_type": "code",
   "execution_count": 20,
   "id": "28503f0c-d06e-46fe-ad4c-f13a1e1edb87",
   "metadata": {},
   "outputs": [
    {
     "data": {
      "text/html": [
       "\n",
       "    \n",
       "    <style type=\"text/css\">\n",
       "        .Relation{\n",
       "            border-collapse:collapse;\n",
       "        }\n",
       "        .Relation th{\n",
       "            background: #A0A0A0; color: #ffffff; padding:4px; border:#f0e0e0 1px solid;\n",
       "            font-weight: normal; font-family: monospace; font-size: 100%;\n",
       "        }\n",
       "        .Relation td{\n",
       "            padding:4px; border:#f0e0e0 1px solid; font-size:100%;\n",
       "        }\n",
       "        .Relation tr:nth-child(odd){\n",
       "            background: #ffffff;\n",
       "        }\n",
       "        .Relation tr:nth-child(even){\n",
       "            background: #f3f1ff;\n",
       "        }\n",
       "        /* Tooltip container */\n",
       "        .djtooltip {\n",
       "        }\n",
       "        /* Tooltip text */\n",
       "        .djtooltip .djtooltiptext {\n",
       "            visibility: hidden;\n",
       "            width: 120px;\n",
       "            background-color: black;\n",
       "            color: #fff;\n",
       "            text-align: center;\n",
       "            padding: 5px 0;\n",
       "            border-radius: 6px;\n",
       "            /* Position the tooltip text - see examples below! */\n",
       "            position: absolute;\n",
       "            z-index: 1;\n",
       "        }\n",
       "        #primary {\n",
       "            font-weight: bold;\n",
       "            color: black;\n",
       "        }\n",
       "        #nonprimary {\n",
       "            font-weight: normal;\n",
       "            color: white;\n",
       "        }\n",
       "\n",
       "        /* Show the tooltip text when you mouse over the tooltip container */\n",
       "        .djtooltip:hover .djtooltiptext {\n",
       "            visibility: visible;\n",
       "        }\n",
       "    </style>\n",
       "    \n",
       "    <b></b>\n",
       "        <div style=\"max-height:1000px;max-width:1500px;overflow:auto;\">\n",
       "        <table border=\"1\" class=\"Relation\">\n",
       "            <thead> <tr style=\"text-align: right;\"> <th> <div class=\"djtooltip\">\n",
       "                            <p id=\"primary\">model_name</p>\n",
       "                            <span class=\"djtooltiptext\">user-friendly model name</span>\n",
       "                        </div></th><th><div class=\"djtooltip\">\n",
       "                            <p id=\"nonprimary\">train_iterations</p>\n",
       "                            <span class=\"djtooltiptext\">Training iterations</span>\n",
       "                        </div></th><th><div class=\"djtooltip\">\n",
       "                            <p id=\"nonprimary\">train_error</p>\n",
       "                            <span class=\"djtooltiptext\">Train error (px)</span>\n",
       "                        </div></th><th><div class=\"djtooltip\">\n",
       "                            <p id=\"nonprimary\">test_error</p>\n",
       "                            <span class=\"djtooltiptext\">Test error (px)</span>\n",
       "                        </div></th><th><div class=\"djtooltip\">\n",
       "                            <p id=\"nonprimary\">p_cutoff</p>\n",
       "                            <span class=\"djtooltiptext\">p-cutoff used</span>\n",
       "                        </div></th><th><div class=\"djtooltip\">\n",
       "                            <p id=\"nonprimary\">train_error_p</p>\n",
       "                            <span class=\"djtooltiptext\">Train error with p-cutoff</span>\n",
       "                        </div></th><th><div class=\"djtooltip\">\n",
       "                            <p id=\"nonprimary\">test_error_p</p>\n",
       "                            <span class=\"djtooltiptext\">Test error with p-cutoff</span>\n",
       "                        </div> </th> </tr> </thead>\n",
       "            <tbody> <tr> <td>from_top_5iters</td>\n",
       "<td>10300</td>\n",
       "<td>3.2</td>\n",
       "<td>25.28</td>\n",
       "<td>0.6</td>\n",
       "<td>3.2</td>\n",
       "<td>25.28</td> </tr> </tbody>\n",
       "        </table>\n",
       "        \n",
       "        <p>Total: 1</p></div>\n",
       "        "
      ],
      "text/plain": [
       "*model_name    train_iteratio train_error    test_error     p_cutoff     train_error_p  test_error_p  \n",
       "+------------+ +------------+ +------------+ +------------+ +----------+ +------------+ +------------+\n",
       "from_top_5iter 10300          3.2            25.28          0.6          3.2            25.28         \n",
       " (Total: 1)"
      ]
     },
     "execution_count": 20,
     "metadata": {},
     "output_type": "execute_result"
    }
   ],
   "source": [
    "model.ModelEvaluation()"
   ]
  },
  {
   "cell_type": "markdown",
   "id": "ad698f22-4d16-413a-a30c-84e28e7ec1db",
   "metadata": {},
   "source": [
    "## Pose Estimation"
   ]
  },
  {
   "cell_type": "code",
   "execution_count": 13,
   "id": "a51b8243-6ee2-44f5-a987-9abd10ce1b56",
   "metadata": {},
   "outputs": [
    {
     "data": {
      "text/html": [
       "\n",
       "    \n",
       "    <style type=\"text/css\">\n",
       "        .Relation{\n",
       "            border-collapse:collapse;\n",
       "        }\n",
       "        .Relation th{\n",
       "            background: #A0A0A0; color: #ffffff; padding:4px; border:#f0e0e0 1px solid;\n",
       "            font-weight: normal; font-family: monospace; font-size: 100%;\n",
       "        }\n",
       "        .Relation td{\n",
       "            padding:4px; border:#f0e0e0 1px solid; font-size:100%;\n",
       "        }\n",
       "        .Relation tr:nth-child(odd){\n",
       "            background: #ffffff;\n",
       "        }\n",
       "        .Relation tr:nth-child(even){\n",
       "            background: #f3f1ff;\n",
       "        }\n",
       "        /* Tooltip container */\n",
       "        .djtooltip {\n",
       "        }\n",
       "        /* Tooltip text */\n",
       "        .djtooltip .djtooltiptext {\n",
       "            visibility: hidden;\n",
       "            width: 120px;\n",
       "            background-color: black;\n",
       "            color: #fff;\n",
       "            text-align: center;\n",
       "            padding: 5px 0;\n",
       "            border-radius: 6px;\n",
       "            /* Position the tooltip text - see examples below! */\n",
       "            position: absolute;\n",
       "            z-index: 1;\n",
       "        }\n",
       "        #primary {\n",
       "            font-weight: bold;\n",
       "            color: black;\n",
       "        }\n",
       "        #nonprimary {\n",
       "            font-weight: normal;\n",
       "            color: white;\n",
       "        }\n",
       "\n",
       "        /* Show the tooltip text when you mouse over the tooltip container */\n",
       "        .djtooltip:hover .djtooltiptext {\n",
       "            visibility: visible;\n",
       "        }\n",
       "    </style>\n",
       "    \n",
       "    <b></b>\n",
       "        <div style=\"max-height:1000px;max-width:1500px;overflow:auto;\">\n",
       "        <table border=\"1\" class=\"Relation\">\n",
       "            <thead> <tr style=\"text-align: right;\"> <th> <div class=\"djtooltip\">\n",
       "                            <p id=\"primary\">session_id</p>\n",
       "                            <span class=\"djtooltiptext\"></span>\n",
       "                        </div></th><th><div class=\"djtooltip\">\n",
       "                            <p id=\"primary\">scanner</p>\n",
       "                            <span class=\"djtooltiptext\"></span>\n",
       "                        </div></th><th><div class=\"djtooltip\">\n",
       "                            <p id=\"primary\">recording_id</p>\n",
       "                            <span class=\"djtooltiptext\"></span>\n",
       "                        </div></th><th><div class=\"djtooltip\">\n",
       "                            <p id=\"primary\">file_path</p>\n",
       "                            <span class=\"djtooltiptext\">filepath of video, relative to root data directory</span>\n",
       "                        </div> </th> </tr> </thead>\n",
       "            <tbody> <tr> <td>sess9FB2LN5C</td>\n",
       "<td>Equipment</td>\n",
       "<td>1</td>\n",
       "<td>DLC_tracking/videos/exp9FANLWRZ_top_video2022-02-21T12_18_09-copy.mp4</td> </tr> </tbody>\n",
       "        </table>\n",
       "        \n",
       "        <p>Total: 1</p></div>\n",
       "        "
      ],
      "text/plain": [
       "*session_id    *scanner      *recording_id  *file_path    \n",
       "+------------+ +-----------+ +------------+ +------------+\n",
       "sess9FB2LN5C   Equipment     1              DLC_tracking/v\n",
       " (Total: 1)"
      ]
     },
     "execution_count": 13,
     "metadata": {},
     "output_type": "execute_result"
    }
   ],
   "source": [
    "model.VideoRecording.File()"
   ]
  },
  {
   "cell_type": "markdown",
   "id": "e72c8868-3db0-4cda-98ab-96bbebc5bb0a",
   "metadata": {},
   "source": [
    "For demonstration purposes, we'll make a shorter video that will process relatively quickly `ffmpeg`, a DLC dependency ([more info here](https://github.com/datajoint/workflow-deeplabcut/blob/main/notebooks/00-DataDownload_Optional.ipynb))"
   ]
  },
  {
   "cell_type": "code",
   "execution_count": 15,
   "id": "20b11cf1-2bbc-4bc6-bc87-ca77f01676eb",
   "metadata": {},
   "outputs": [
    {
     "name": "stdout",
     "output_type": "stream",
     "text": [
      "/Users/cb/Documents/Bonn//DLC_tracking/videos/exp9FANLWRZ_top_video2022-02-21T12_18_09\n"
     ]
    },
    {
     "name": "stderr",
     "output_type": "stream",
     "text": [
      "File '/Users/cb/Documents/Bonn//DLC_tracking/videos/exp9FANLWRZ_top_video2022-02-21T12_18_09-copy.mp4' already exists. Exiting.\n"
     ]
    },
    {
     "data": {
      "text/plain": [
       "256"
      ]
     },
     "execution_count": 15,
     "metadata": {},
     "output_type": "execute_result"
    }
   ],
   "source": [
    "from adamacs.paths import get_dlc_root_data_dir\n",
    "vid_path =  get_dlc_root_data_dir()[0] + '/DLC_tracking/videos/exp9FANLWRZ_top_video2022-02-21T12_18_09'\n",
    "print(vid_path)\n",
    "cmd = (f'ffmpeg -n -hide_banner -loglevel error -ss 0 -t 2 -i {vid_path}.mp4 '\n",
    "       + f'-vcodec copy -acodec copy {vid_path}-copy.mp4')\n",
    "import os; os.system(cmd)"
   ]
  },
  {
   "cell_type": "markdown",
   "id": "fe97c0b2-28f3-44f7-b41c-114eb31e635b",
   "metadata": {},
   "source": [
    "Next, we need to specify if the `PoseEstimation` table should load results from an existing file or trigger the estimation command. Here, we can also specify parameters accepted by the `analyze_videos` function as a dictionary. `task_mode` determines if pose estimation results should be loaded or triggered (i.e., load vs. trigger)."
   ]
  },
  {
   "cell_type": "code",
   "execution_count": 13,
   "id": "c8d23bcb-39e3-4fb0-a911-30e89adc8a91",
   "metadata": {},
   "outputs": [
    {
     "data": {
      "text/plain": [
       "{'session_id': 'sess9FB2LN5C',\n",
       " 'scanner': 'Equipment',\n",
       " 'recording_id': 1,\n",
       " 'model_name': 'from_top_5iters',\n",
       " 'task_mode': 'trigger'}"
      ]
     },
     "execution_count": 13,
     "metadata": {},
     "output_type": "execute_result"
    }
   ],
   "source": [
    "key = (model.VideoRecording & {'recording_id': '1'}).fetch1('KEY')\n",
    "key.update({'model_name': 'from_top_5iters', 'task_mode': 'trigger'})\n",
    "key"
   ]
  },
  {
   "cell_type": "markdown",
   "id": "40deac79-d482-4777-b501-261410332d65",
   "metadata": {},
   "source": [
    "The `PoseEstimationTask` table queues items for pose estimation. Additional parameters are passed to DLC's `analyze_videos` function."
   ]
  },
  {
   "cell_type": "code",
   "execution_count": 14,
   "id": "ba216c1b-b608-4424-b7a1-f49795be0971",
   "metadata": {},
   "outputs": [],
   "source": [
    "model.PoseEstimationTask.insert_estimation_task(key,params={'save_as_csv':True})"
   ]
  },
  {
   "cell_type": "code",
   "execution_count": 15,
   "id": "7d1ad296-9ff5-4a2a-9ad0-8edc1ecb7ef3",
   "metadata": {},
   "outputs": [
    {
     "name": "stdout",
     "output_type": "stream",
     "text": [
      "Using snapshot-103000 for model /Users/cb/Documents/Bonn/DLC_tracking/dlc-models/iteration-0/from_top_trackingFeb23-trainset95shuffle1\n"
     ]
    },
    {
     "name": "stderr",
     "output_type": "stream",
     "text": [
      "/Library/Frameworks/Python.framework/Versions/3.9/lib/python3.9/site-packages/tensorflow/python/keras/engine/base_layer_v1.py:1694: UserWarning: `layer.apply` is deprecated and will be removed in a future version. Please use `layer.__call__` method instead.\n",
      "  warnings.warn('`layer.apply` is deprecated and '\n",
      "/Library/Frameworks/Python.framework/Versions/3.9/lib/python3.9/site-packages/tf_slim/layers/layers.py:684: UserWarning: `layer.apply` is deprecated and will be removed in a future version. Please use `layer.__call__` method instead.\n",
      "  outputs = layer.apply(inputs, training=is_training)\n"
     ]
    },
    {
     "name": "stdout",
     "output_type": "stream",
     "text": [
      "Starting to analyze %  /Users/cb/Documents/Bonn/DLC_tracking/videos/exp9FANLWRZ_top_video2022-02-21T12_18_09-copy.mp4\n",
      "The videos are analyzed. Now your research can truly start! \n",
      " You can create labeled videos with 'create_labeled_video'\n",
      "If the tracking is not satisfactory for some videos, consider expanding the training set. You can use the function 'extract_outlier_frames' to extract a few representative outlier frames.\n"
     ]
    }
   ],
   "source": [
    "model.PoseEstimation.populate()"
   ]
  },
  {
   "cell_type": "code",
   "execution_count": 16,
   "id": "568cc787-f65f-4c44-ba96-091905b89534",
   "metadata": {},
   "outputs": [
    {
     "data": {
      "text/html": [
       "\n",
       "    \n",
       "    <style type=\"text/css\">\n",
       "        .Relation{\n",
       "            border-collapse:collapse;\n",
       "        }\n",
       "        .Relation th{\n",
       "            background: #A0A0A0; color: #ffffff; padding:4px; border:#f0e0e0 1px solid;\n",
       "            font-weight: normal; font-family: monospace; font-size: 100%;\n",
       "        }\n",
       "        .Relation td{\n",
       "            padding:4px; border:#f0e0e0 1px solid; font-size:100%;\n",
       "        }\n",
       "        .Relation tr:nth-child(odd){\n",
       "            background: #ffffff;\n",
       "        }\n",
       "        .Relation tr:nth-child(even){\n",
       "            background: #f3f1ff;\n",
       "        }\n",
       "        /* Tooltip container */\n",
       "        .djtooltip {\n",
       "        }\n",
       "        /* Tooltip text */\n",
       "        .djtooltip .djtooltiptext {\n",
       "            visibility: hidden;\n",
       "            width: 120px;\n",
       "            background-color: black;\n",
       "            color: #fff;\n",
       "            text-align: center;\n",
       "            padding: 5px 0;\n",
       "            border-radius: 6px;\n",
       "            /* Position the tooltip text - see examples below! */\n",
       "            position: absolute;\n",
       "            z-index: 1;\n",
       "        }\n",
       "        #primary {\n",
       "            font-weight: bold;\n",
       "            color: black;\n",
       "        }\n",
       "        #nonprimary {\n",
       "            font-weight: normal;\n",
       "            color: white;\n",
       "        }\n",
       "\n",
       "        /* Show the tooltip text when you mouse over the tooltip container */\n",
       "        .djtooltip:hover .djtooltiptext {\n",
       "            visibility: visible;\n",
       "        }\n",
       "    </style>\n",
       "    \n",
       "    <b></b>\n",
       "        <div style=\"max-height:1000px;max-width:1500px;overflow:auto;\">\n",
       "        <table border=\"1\" class=\"Relation\">\n",
       "            <thead> <tr style=\"text-align: right;\"> <th> <div class=\"djtooltip\">\n",
       "                            <p id=\"primary\">session_id</p>\n",
       "                            <span class=\"djtooltiptext\"></span>\n",
       "                        </div></th><th><div class=\"djtooltip\">\n",
       "                            <p id=\"primary\">scanner</p>\n",
       "                            <span class=\"djtooltiptext\"></span>\n",
       "                        </div></th><th><div class=\"djtooltip\">\n",
       "                            <p id=\"primary\">recording_id</p>\n",
       "                            <span class=\"djtooltiptext\"></span>\n",
       "                        </div></th><th><div class=\"djtooltip\">\n",
       "                            <p id=\"primary\">model_name</p>\n",
       "                            <span class=\"djtooltiptext\">user-friendly model name</span>\n",
       "                        </div></th><th><div class=\"djtooltip\">\n",
       "                            <p id=\"nonprimary\">post_estimation_time</p>\n",
       "                            <span class=\"djtooltiptext\">time of generation of this set of DLC results</span>\n",
       "                        </div> </th> </tr> </thead>\n",
       "            <tbody> <tr> <td>sess9FB2LN5C</td>\n",
       "<td>Equipment</td>\n",
       "<td>1</td>\n",
       "<td>from_top_5iters</td>\n",
       "<td>2022-04-13 15:54:24</td> </tr> </tbody>\n",
       "        </table>\n",
       "        \n",
       "        <p>Total: 1</p></div>\n",
       "        "
      ],
      "text/plain": [
       "*session_id    *scanner      *recording_id  *model_name    post_estimatio\n",
       "+------------+ +-----------+ +------------+ +------------+ +------------+\n",
       "sess9FB2LN5C   Equipment     1              from_top_5iter 2022-04-13 15:\n",
       " (Total: 1)"
      ]
     },
     "execution_count": 16,
     "metadata": {},
     "output_type": "execute_result"
    }
   ],
   "source": [
    "model.PoseEstimation()"
   ]
  },
  {
   "cell_type": "markdown",
   "id": "91a3626a-abc9-4c21-87a5-96dcca15bc2f",
   "metadata": {},
   "source": [
    "By default, DataJoint will store the results of pose estimation in a subdirectory\n",
    ">  processed_dir / videos / device_<#>_recording_<#>_model_<name>\n",
    "\n",
    "Pulling processed_dir from `get_dlc_processed_dir`, and device/recording information \n",
    "from the `VideoRecording` table. The model name is taken from the primary key of the\n",
    "`Model` table, with spaced replaced by hyphens.\n",
    "    \n",
    "We can get this estimation directly as a pandas dataframe."
   ]
  },
  {
   "cell_type": "code",
   "execution_count": 18,
   "id": "9f5902f1-0934-4abc-9ae3-e720729400c4",
   "metadata": {},
   "outputs": [
    {
     "data": {
      "text/html": [
       "\n",
       "    \n",
       "    <style type=\"text/css\">\n",
       "        .Relation{\n",
       "            border-collapse:collapse;\n",
       "        }\n",
       "        .Relation th{\n",
       "            background: #A0A0A0; color: #ffffff; padding:4px; border:#f0e0e0 1px solid;\n",
       "            font-weight: normal; font-family: monospace; font-size: 100%;\n",
       "        }\n",
       "        .Relation td{\n",
       "            padding:4px; border:#f0e0e0 1px solid; font-size:100%;\n",
       "        }\n",
       "        .Relation tr:nth-child(odd){\n",
       "            background: #ffffff;\n",
       "        }\n",
       "        .Relation tr:nth-child(even){\n",
       "            background: #f3f1ff;\n",
       "        }\n",
       "        /* Tooltip container */\n",
       "        .djtooltip {\n",
       "        }\n",
       "        /* Tooltip text */\n",
       "        .djtooltip .djtooltiptext {\n",
       "            visibility: hidden;\n",
       "            width: 120px;\n",
       "            background-color: black;\n",
       "            color: #fff;\n",
       "            text-align: center;\n",
       "            padding: 5px 0;\n",
       "            border-radius: 6px;\n",
       "            /* Position the tooltip text - see examples below! */\n",
       "            position: absolute;\n",
       "            z-index: 1;\n",
       "        }\n",
       "        #primary {\n",
       "            font-weight: bold;\n",
       "            color: black;\n",
       "        }\n",
       "        #nonprimary {\n",
       "            font-weight: normal;\n",
       "            color: white;\n",
       "        }\n",
       "\n",
       "        /* Show the tooltip text when you mouse over the tooltip container */\n",
       "        .djtooltip:hover .djtooltiptext {\n",
       "            visibility: visible;\n",
       "        }\n",
       "    </style>\n",
       "    \n",
       "    <b>uses DeepLabCut h5 output for body part position</b>\n",
       "        <div style=\"max-height:1000px;max-width:1500px;overflow:auto;\">\n",
       "        <table border=\"1\" class=\"Relation\">\n",
       "            <thead> <tr style=\"text-align: right;\"> <th> <div class=\"djtooltip\">\n",
       "                            <p id=\"primary\">session_id</p>\n",
       "                            <span class=\"djtooltiptext\"></span>\n",
       "                        </div></th><th><div class=\"djtooltip\">\n",
       "                            <p id=\"primary\">scanner</p>\n",
       "                            <span class=\"djtooltiptext\"></span>\n",
       "                        </div></th><th><div class=\"djtooltip\">\n",
       "                            <p id=\"primary\">recording_id</p>\n",
       "                            <span class=\"djtooltiptext\"></span>\n",
       "                        </div></th><th><div class=\"djtooltip\">\n",
       "                            <p id=\"primary\">model_name</p>\n",
       "                            <span class=\"djtooltiptext\">user-friendly model name</span>\n",
       "                        </div></th><th><div class=\"djtooltip\">\n",
       "                            <p id=\"primary\">body_part</p>\n",
       "                            <span class=\"djtooltiptext\"></span>\n",
       "                        </div></th><th><div class=\"djtooltip\">\n",
       "                            <p id=\"nonprimary\">frame_index</p>\n",
       "                            <span class=\"djtooltiptext\">frame index in model</span>\n",
       "                        </div></th><th><div class=\"djtooltip\">\n",
       "                            <p id=\"nonprimary\">x_pos</p>\n",
       "                            <span class=\"djtooltiptext\"></span>\n",
       "                        </div></th><th><div class=\"djtooltip\">\n",
       "                            <p id=\"nonprimary\">y_pos</p>\n",
       "                            <span class=\"djtooltiptext\"></span>\n",
       "                        </div></th><th><div class=\"djtooltip\">\n",
       "                            <p id=\"nonprimary\">z_pos</p>\n",
       "                            <span class=\"djtooltiptext\"></span>\n",
       "                        </div></th><th><div class=\"djtooltip\">\n",
       "                            <p id=\"nonprimary\">likelihood</p>\n",
       "                            <span class=\"djtooltiptext\"></span>\n",
       "                        </div> </th> </tr> </thead>\n",
       "            <tbody> <tr> <td>sess9FB2LN5C</td>\n",
       "<td>Equipment</td>\n",
       "<td>1</td>\n",
       "<td>from_top_5iters</td>\n",
       "<td>bodycenter</td>\n",
       "<td>=BLOB=</td>\n",
       "<td>=BLOB=</td>\n",
       "<td>=BLOB=</td>\n",
       "<td>=BLOB=</td>\n",
       "<td>=BLOB=</td></tr><tr><td>sess9FB2LN5C</td>\n",
       "<td>Equipment</td>\n",
       "<td>1</td>\n",
       "<td>from_top_5iters</td>\n",
       "<td>head</td>\n",
       "<td>=BLOB=</td>\n",
       "<td>=BLOB=</td>\n",
       "<td>=BLOB=</td>\n",
       "<td>=BLOB=</td>\n",
       "<td>=BLOB=</td></tr><tr><td>sess9FB2LN5C</td>\n",
       "<td>Equipment</td>\n",
       "<td>1</td>\n",
       "<td>from_top_5iters</td>\n",
       "<td>tailbase</td>\n",
       "<td>=BLOB=</td>\n",
       "<td>=BLOB=</td>\n",
       "<td>=BLOB=</td>\n",
       "<td>=BLOB=</td>\n",
       "<td>=BLOB=</td> </tr> </tbody>\n",
       "        </table>\n",
       "        \n",
       "        <p>Total: 3</p></div>\n",
       "        "
      ],
      "text/plain": [
       "*session_id    *scanner      *recording_id  *model_name    *body_part     frame_inde x_pos      y_pos      z_pos      likelihood\n",
       "+------------+ +-----------+ +------------+ +------------+ +------------+ +--------+ +--------+ +--------+ +--------+ +--------+\n",
       "sess9FB2LN5C   Equipment     1              from_top_5iter bodycenter     =BLOB=     =BLOB=     =BLOB=     =BLOB=     =BLOB=    \n",
       "sess9FB2LN5C   Equipment     1              from_top_5iter head           =BLOB=     =BLOB=     =BLOB=     =BLOB=     =BLOB=    \n",
       "sess9FB2LN5C   Equipment     1              from_top_5iter tailbase       =BLOB=     =BLOB=     =BLOB=     =BLOB=     =BLOB=    \n",
       " (Total: 3)"
      ]
     },
     "execution_count": 18,
     "metadata": {},
     "output_type": "execute_result"
    }
   ],
   "source": [
    "model.PoseEstimation.BodyPartPosition()"
   ]
  },
  {
   "cell_type": "code",
   "execution_count": 19,
   "id": "e348ffcf-312d-4664-947c-7970a79a2f16",
   "metadata": {},
   "outputs": [
    {
     "data": {
      "text/html": [
       "<div>\n",
       "<style scoped>\n",
       "    .dataframe tbody tr th:only-of-type {\n",
       "        vertical-align: middle;\n",
       "    }\n",
       "\n",
       "    .dataframe tbody tr th {\n",
       "        vertical-align: top;\n",
       "    }\n",
       "\n",
       "    .dataframe thead tr th {\n",
       "        text-align: left;\n",
       "    }\n",
       "</style>\n",
       "<table border=\"1\" class=\"dataframe\">\n",
       "  <thead>\n",
       "    <tr>\n",
       "      <th>scorer</th>\n",
       "      <th colspan=\"12\" halign=\"left\">from_top_5iters</th>\n",
       "    </tr>\n",
       "    <tr>\n",
       "      <th>bodyparts</th>\n",
       "      <th colspan=\"4\" halign=\"left\">bodycenter</th>\n",
       "      <th colspan=\"4\" halign=\"left\">head</th>\n",
       "      <th colspan=\"4\" halign=\"left\">tailbase</th>\n",
       "    </tr>\n",
       "    <tr>\n",
       "      <th>coords</th>\n",
       "      <th>x</th>\n",
       "      <th>y</th>\n",
       "      <th>z</th>\n",
       "      <th>likelihood</th>\n",
       "      <th>x</th>\n",
       "      <th>y</th>\n",
       "      <th>z</th>\n",
       "      <th>likelihood</th>\n",
       "      <th>x</th>\n",
       "      <th>y</th>\n",
       "      <th>z</th>\n",
       "      <th>likelihood</th>\n",
       "    </tr>\n",
       "  </thead>\n",
       "  <tbody>\n",
       "    <tr>\n",
       "      <th>0</th>\n",
       "      <td>263.233643</td>\n",
       "      <td>295.701965</td>\n",
       "      <td>0.0</td>\n",
       "      <td>0.999968</td>\n",
       "      <td>270.341034</td>\n",
       "      <td>312.154083</td>\n",
       "      <td>0.0</td>\n",
       "      <td>0.999293</td>\n",
       "      <td>256.796326</td>\n",
       "      <td>279.632538</td>\n",
       "      <td>0.0</td>\n",
       "      <td>0.999994</td>\n",
       "    </tr>\n",
       "    <tr>\n",
       "      <th>1</th>\n",
       "      <td>263.131531</td>\n",
       "      <td>296.109619</td>\n",
       "      <td>0.0</td>\n",
       "      <td>0.999968</td>\n",
       "      <td>271.406586</td>\n",
       "      <td>313.803741</td>\n",
       "      <td>0.0</td>\n",
       "      <td>0.999348</td>\n",
       "      <td>256.890808</td>\n",
       "      <td>279.653290</td>\n",
       "      <td>0.0</td>\n",
       "      <td>0.999994</td>\n",
       "    </tr>\n",
       "    <tr>\n",
       "      <th>2</th>\n",
       "      <td>263.089874</td>\n",
       "      <td>296.135345</td>\n",
       "      <td>0.0</td>\n",
       "      <td>0.999969</td>\n",
       "      <td>271.372955</td>\n",
       "      <td>313.819061</td>\n",
       "      <td>0.0</td>\n",
       "      <td>0.999315</td>\n",
       "      <td>256.887085</td>\n",
       "      <td>279.740051</td>\n",
       "      <td>0.0</td>\n",
       "      <td>0.999994</td>\n",
       "    </tr>\n",
       "    <tr>\n",
       "      <th>3</th>\n",
       "      <td>263.164276</td>\n",
       "      <td>296.068878</td>\n",
       "      <td>0.0</td>\n",
       "      <td>0.999970</td>\n",
       "      <td>271.475769</td>\n",
       "      <td>313.860046</td>\n",
       "      <td>0.0</td>\n",
       "      <td>0.999379</td>\n",
       "      <td>256.704987</td>\n",
       "      <td>279.777924</td>\n",
       "      <td>0.0</td>\n",
       "      <td>0.999992</td>\n",
       "    </tr>\n",
       "    <tr>\n",
       "      <th>4</th>\n",
       "      <td>263.548950</td>\n",
       "      <td>295.879852</td>\n",
       "      <td>0.0</td>\n",
       "      <td>0.999967</td>\n",
       "      <td>271.408325</td>\n",
       "      <td>313.501617</td>\n",
       "      <td>0.0</td>\n",
       "      <td>0.999314</td>\n",
       "      <td>256.435089</td>\n",
       "      <td>279.724518</td>\n",
       "      <td>0.0</td>\n",
       "      <td>0.999987</td>\n",
       "    </tr>\n",
       "    <tr>\n",
       "      <th>...</th>\n",
       "      <td>...</td>\n",
       "      <td>...</td>\n",
       "      <td>...</td>\n",
       "      <td>...</td>\n",
       "      <td>...</td>\n",
       "      <td>...</td>\n",
       "      <td>...</td>\n",
       "      <td>...</td>\n",
       "      <td>...</td>\n",
       "      <td>...</td>\n",
       "      <td>...</td>\n",
       "      <td>...</td>\n",
       "    </tr>\n",
       "    <tr>\n",
       "      <th>118</th>\n",
       "      <td>250.145859</td>\n",
       "      <td>338.050140</td>\n",
       "      <td>0.0</td>\n",
       "      <td>0.999997</td>\n",
       "      <td>242.960190</td>\n",
       "      <td>352.420898</td>\n",
       "      <td>0.0</td>\n",
       "      <td>0.999814</td>\n",
       "      <td>256.850525</td>\n",
       "      <td>321.103699</td>\n",
       "      <td>0.0</td>\n",
       "      <td>0.999994</td>\n",
       "    </tr>\n",
       "    <tr>\n",
       "      <th>119</th>\n",
       "      <td>250.232315</td>\n",
       "      <td>338.017792</td>\n",
       "      <td>0.0</td>\n",
       "      <td>0.999997</td>\n",
       "      <td>243.117798</td>\n",
       "      <td>352.093384</td>\n",
       "      <td>0.0</td>\n",
       "      <td>0.999695</td>\n",
       "      <td>256.709595</td>\n",
       "      <td>321.358917</td>\n",
       "      <td>0.0</td>\n",
       "      <td>0.999993</td>\n",
       "    </tr>\n",
       "    <tr>\n",
       "      <th>120</th>\n",
       "      <td>250.193817</td>\n",
       "      <td>338.008331</td>\n",
       "      <td>0.0</td>\n",
       "      <td>0.999997</td>\n",
       "      <td>242.929077</td>\n",
       "      <td>351.984344</td>\n",
       "      <td>0.0</td>\n",
       "      <td>0.999509</td>\n",
       "      <td>256.314819</td>\n",
       "      <td>321.240753</td>\n",
       "      <td>0.0</td>\n",
       "      <td>0.999990</td>\n",
       "    </tr>\n",
       "    <tr>\n",
       "      <th>121</th>\n",
       "      <td>249.979782</td>\n",
       "      <td>337.976837</td>\n",
       "      <td>0.0</td>\n",
       "      <td>0.999997</td>\n",
       "      <td>242.714447</td>\n",
       "      <td>351.682861</td>\n",
       "      <td>0.0</td>\n",
       "      <td>0.999384</td>\n",
       "      <td>256.012238</td>\n",
       "      <td>318.641510</td>\n",
       "      <td>0.0</td>\n",
       "      <td>0.999986</td>\n",
       "    </tr>\n",
       "    <tr>\n",
       "      <th>122</th>\n",
       "      <td>248.650726</td>\n",
       "      <td>338.937225</td>\n",
       "      <td>0.0</td>\n",
       "      <td>0.999998</td>\n",
       "      <td>240.472458</td>\n",
       "      <td>352.139862</td>\n",
       "      <td>0.0</td>\n",
       "      <td>0.999711</td>\n",
       "      <td>256.448822</td>\n",
       "      <td>322.226898</td>\n",
       "      <td>0.0</td>\n",
       "      <td>0.999994</td>\n",
       "    </tr>\n",
       "  </tbody>\n",
       "</table>\n",
       "<p>123 rows × 12 columns</p>\n",
       "</div>"
      ],
      "text/plain": [
       "scorer    from_top_5iters                                                      \\\n",
       "bodyparts      bodycenter                                    head               \n",
       "coords                  x           y    z likelihood           x           y   \n",
       "0              263.233643  295.701965  0.0   0.999968  270.341034  312.154083   \n",
       "1              263.131531  296.109619  0.0   0.999968  271.406586  313.803741   \n",
       "2              263.089874  296.135345  0.0   0.999969  271.372955  313.819061   \n",
       "3              263.164276  296.068878  0.0   0.999970  271.475769  313.860046   \n",
       "4              263.548950  295.879852  0.0   0.999967  271.408325  313.501617   \n",
       "..                    ...         ...  ...        ...         ...         ...   \n",
       "118            250.145859  338.050140  0.0   0.999997  242.960190  352.420898   \n",
       "119            250.232315  338.017792  0.0   0.999997  243.117798  352.093384   \n",
       "120            250.193817  338.008331  0.0   0.999997  242.929077  351.984344   \n",
       "121            249.979782  337.976837  0.0   0.999997  242.714447  351.682861   \n",
       "122            248.650726  338.937225  0.0   0.999998  240.472458  352.139862   \n",
       "\n",
       "scorer                                                             \n",
       "bodyparts                    tailbase                              \n",
       "coords       z likelihood           x           y    z likelihood  \n",
       "0          0.0   0.999293  256.796326  279.632538  0.0   0.999994  \n",
       "1          0.0   0.999348  256.890808  279.653290  0.0   0.999994  \n",
       "2          0.0   0.999315  256.887085  279.740051  0.0   0.999994  \n",
       "3          0.0   0.999379  256.704987  279.777924  0.0   0.999992  \n",
       "4          0.0   0.999314  256.435089  279.724518  0.0   0.999987  \n",
       "..         ...        ...         ...         ...  ...        ...  \n",
       "118        0.0   0.999814  256.850525  321.103699  0.0   0.999994  \n",
       "119        0.0   0.999695  256.709595  321.358917  0.0   0.999993  \n",
       "120        0.0   0.999509  256.314819  321.240753  0.0   0.999990  \n",
       "121        0.0   0.999384  256.012238  318.641510  0.0   0.999986  \n",
       "122        0.0   0.999711  256.448822  322.226898  0.0   0.999994  \n",
       "\n",
       "[123 rows x 12 columns]"
      ]
     },
     "execution_count": 19,
     "metadata": {},
     "output_type": "execute_result"
    }
   ],
   "source": [
    "model.PoseEstimation.get_trajectory(key)"
   ]
  },
  {
   "cell_type": "code",
   "execution_count": null,
   "id": "45ae5b07",
   "metadata": {},
   "outputs": [],
   "source": []
  }
 ],
 "metadata": {
  "kernelspec": {
   "display_name": "base",
   "language": "python",
   "name": "python3"
  },
  "language_info": {
   "codemirror_mode": {
    "name": "ipython",
    "version": 3
   },
   "file_extension": ".py",
   "mimetype": "text/x-python",
   "name": "python",
   "nbconvert_exporter": "python",
   "pygments_lexer": "ipython3",
   "version": "3.9.7 (default, Sep 16 2021, 08:50:36) \n[Clang 10.0.0 ]"
  },
  "vscode": {
   "interpreter": {
    "hash": "965cf972b663dbe25e7de0e0fe8e177cbbce2d7cfe110ae892c33d6669c5eb24"
   }
  }
 },
 "nbformat": 4,
 "nbformat_minor": 5
}
