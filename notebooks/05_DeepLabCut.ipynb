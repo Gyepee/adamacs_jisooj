{
 "cells": [
  {
   "cell_type": "markdown",
   "id": "b0e36d60-7e12-4c51-ac24-5e62ba586001",
   "metadata": {},
   "source": [
    "# DeepLabCut Ingestion/Inference"
   ]
  },
  {
   "cell_type": "markdown",
   "id": "75a4c8ec",
   "metadata": {},
   "source": [
    "# DeepLabCut manual:\n",
    "https://github.com/DeepLabCut/DeepLabCut/blob/main/docs/standardDeepLabCut_UserGuide.md"
   ]
  },
  {
   "cell_type": "markdown",
   "id": "2b8414eb-f4c0-4e20-a93a-f8a2901bca49",
   "metadata": {},
   "source": [
    "`Dev notes:` Currently, the path structure assumes you have one DLC project directory for all models, as specified within `adamacs.pipeline.get_dlc_root_data_dir`. The parallel function `get_dlc_processed_data_dir` can specify the output directory. "
   ]
  },
  {
   "cell_type": "markdown",
   "id": "bbce6e46",
   "metadata": {},
   "source": [
    "## TODO\n",
    "\n",
    "1. Have the DLC model as selector in the Pingest GUI (model.Model() = model_name)\n",
    "2. Add a checkbox to process DLC data\n",
    "3. model.PoseEstimationTask.insert_estimation_task(key, key[\"model_name\"], analyze_videos_params={'save_as_csv':True}, task_mode = 'trigger') - have additional options in table?\n",
    "4. model.RecordingInfo.populate()\n",
    "model.RecordingInfo()\n",
    "5. model.PoseEstimation.populate()\n",
    "6. defer population to tmux or cron jobs?\n"
   ]
  },
  {
   "cell_type": "markdown",
   "id": "661a25a5-e884-4786-994c-ef4da4bf6ae2",
   "metadata": {},
   "source": [
    "## Setup"
   ]
  },
  {
   "cell_type": "markdown",
   "id": "d82ba707-4007-49d7-9cd6-0f1af03c0270",
   "metadata": {},
   "source": [
    "### Connect to the database"
   ]
  },
  {
   "cell_type": "markdown",
   "id": "4a148dfb-472c-4932-a473-913c04b1782e",
   "metadata": {},
   "source": [
    "If you are don't have your login information, contact the administrator.\n",
    "\n",
    "Using local config file (see [01_pipeline](./01_pipeline.ipynb)):"
   ]
  },
  {
   "cell_type": "code",
   "execution_count": 1,
   "id": "99c37499-7c85-45fd-9d1d-bb66cb0854c6",
   "metadata": {},
   "outputs": [
    {
     "name": "stderr",
     "output_type": "stream",
     "text": [
      "[2023-07-27 13:31:29,614][INFO]: Connecting tobiasr@172.26.128.53:3306\n",
      "[2023-07-27 13:31:29,665][INFO]: Connected tobiasr@172.26.128.53:3306\n"
     ]
    },
    {
     "data": {
      "text/plain": [
       "DataJoint connection (connected) tobiasr@172.26.128.53:3306"
      ]
     },
     "execution_count": 1,
     "metadata": {},
     "output_type": "execute_result"
    }
   ],
   "source": [
    "import os\n",
    "# change to the upper level folder to detect dj_local_conf.json\n",
    "if os.path.basename(os.getcwd())=='notebooks': os.chdir('..')\n",
    "assert os.path.basename(os.getcwd())=='adamacs', (\"Please move to the main directory\")\n",
    "import datajoint as dj; dj.conn()"
   ]
  },
  {
   "cell_type": "code",
   "execution_count": 2,
   "id": "d4a2657f",
   "metadata": {},
   "outputs": [
    {
     "data": {
      "text/plain": [
       "['/datajoint-data/data/tobiasr/DeepLabCutModels/DB_DLC_tracking',\n",
       " '/datajoint-data/data/tobiasr/DeepLabCutModels/NK_DLC_tracking',\n",
       " '/']"
      ]
     },
     "execution_count": 2,
     "metadata": {},
     "output_type": "execute_result"
    }
   ],
   "source": [
    "dj.config[\"custom\"].get(\"dlc_root_data_dir\")\n"
   ]
  },
  {
   "cell_type": "markdown",
   "id": "a6adb4d4-599b-49a5-ba7f-7013b07dd83b",
   "metadata": {},
   "source": [
    "### Imports and activation\n",
    "\n",
    "Importing schema from `adamacs.pipeline` automatically activates items."
   ]
  },
  {
   "cell_type": "code",
   "execution_count": 3,
   "id": "1b76b069-3ca5-4dce-9ea8-1ba2058c3662",
   "metadata": {},
   "outputs": [],
   "source": [
    "from adamacs.pipeline import subject, train,  scan, event, trial, behavior, session, model, equipment"
   ]
  },
  {
   "cell_type": "markdown",
   "id": "83f8326a-ecca-4978-aa45-cce9ffbc164f",
   "metadata": {
    "lines_to_next_cell": 0,
    "tags": []
   },
   "source": [
    "## Ingesting videos and training parameters\n",
    "\n",
    "### Automated\n",
    "\n",
    "Refer the `user_data` folder in the `adamacs` directory contains CSVs for inserting values into DeepLabCut tables.\n",
    "\n",
    "1. `config_params.csv` is used for training parameter sets in `train.TrainingParamSet`. The following items are required, but others will also be passed to DLC's `train_network` function when called \n",
    "2. `train_videosets.csv` and `model_videos.csv` pass values to `train.VideoSet` and `model.VideoRecording` respectively.\n",
    "3. `adamacs.ingest.dlc.ingest_dlc_items` will load each of these CSVs\n",
    "\n",
    "For more information, see [this notebook](https://github.com/CBroz1/workflow-deeplabcut/blob/main/notebooks/04-Automate_Optional.ipynb)"
   ]
  },
  {
   "cell_type": "code",
   "execution_count": 4,
   "id": "f93dfb26-0b38-47e0-92f2-37e8df758319",
   "metadata": {},
   "outputs": [],
   "source": [
    "    # from adamacs.ingest.dlc import ingest_dlc_items\n",
    "    # ingest_dlc_items()"
   ]
  },
  {
   "cell_type": "code",
   "execution_count": 5,
   "metadata": {},
   "outputs": [
    {
     "name": "stderr",
     "output_type": "stream",
     "text": [
      "[2023-07-27 13:31:32,921][INFO]: Deleting 0 rows from `tobiasr_model`.`video_recording`\n",
      "[2023-07-27 13:31:32,924][INFO]: Deleting 0 rows from `tobiasr_model`.`model`\n"
     ]
    },
    {
     "name": "stdout",
     "output_type": "stream",
     "text": [
      "Nothing to delete.\n",
      "Nothing to delete.\n"
     ]
    },
    {
     "data": {
      "text/plain": [
       "0"
      ]
     },
     "execution_count": 5,
     "metadata": {},
     "output_type": "execute_result"
    }
   ],
   "source": [
    "model.VideoRecording().delete()\n",
    "model.Model.delete()"
   ]
  },
  {
   "cell_type": "code",
   "execution_count": 6,
   "id": "d6ccda2f",
   "metadata": {},
   "outputs": [
    {
     "data": {
      "text/plain": [
       "['#training_param_set',\n",
       " 'video_set',\n",
       " 'video_set__file',\n",
       " 'training_task',\n",
       " '__model_training']"
      ]
     },
     "execution_count": 6,
     "metadata": {},
     "output_type": "execute_result"
    }
   ],
   "source": [
    "train.schema.list_tables()"
   ]
  },
  {
   "cell_type": "code",
   "execution_count": 7,
   "id": "17837d1f",
   "metadata": {},
   "outputs": [
    {
     "data": {
      "text/plain": [
       "['model',\n",
       " 'model__body_part',\n",
       " 'video_recording',\n",
       " 'video_recording__file',\n",
       " '#body_part',\n",
       " '__model_evaluation',\n",
       " '_recording_info',\n",
       " 'pose_estimation_task',\n",
       " '__pose_estimation',\n",
       " '__pose_estimation__body_part_position']"
      ]
     },
     "execution_count": 7,
     "metadata": {},
     "output_type": "execute_result"
    }
   ],
   "source": [
    "model.schema.list_tables()"
   ]
  },
  {
   "cell_type": "markdown",
   "id": "5d411cbb-3c2c-4bb0-b300-27a0dcd68978",
   "metadata": {},
   "source": [
    "### Manual\n",
    "\n",
    "The same training parameters as above can be manually inserted as follows."
   ]
  },
  {
   "cell_type": "code",
   "execution_count": 8,
   "id": "34060694-72bc-4814-a3a4-64de1d3d447a",
   "metadata": {},
   "outputs": [
    {
     "data": {
      "text/plain": [
       "PosixPath('/datajoint-data/data/tobiasr/DeepLabCutModels/DB_DLC_tracking/from_top_tracking-DJ-2022-02-23/config.yaml')"
      ]
     },
     "execution_count": 8,
     "metadata": {},
     "output_type": "execute_result"
    }
   ],
   "source": [
    "import yaml\n",
    "from element_interface.utils import find_full_path\n",
    "from adamacs.paths import get_dlc_root_data_dir\n",
    "import pathlib\n",
    "config_path = find_full_path(get_dlc_root_data_dir(), \n",
    "                             'from_top_tracking-DJ-2022-02-23/config.yaml')\n",
    "config_path"
   ]
  },
  {
   "cell_type": "code",
   "execution_count": null,
   "id": "30a3414f",
   "metadata": {},
   "outputs": [],
   "source": [
    "model.VideoRecording.delete()"
   ]
  },
  {
   "cell_type": "code",
   "execution_count": 9,
   "id": "80ba9ae1-a614-4255-9220-99cb1b05c4fe",
   "metadata": {},
   "outputs": [],
   "source": [
    "scansi = \"scan9FJ842C3\"\n",
    "scan_key = (scan.Scan & f'scan_id = \"{scansi}\"').fetch('KEY')[0] \n",
    "moviepath = str(list(pathlib.Path((scan.ScanPath() & scan_key).fetch(\"path\")[0]).glob(\"*top*.mp4*\"))[0])\n",
    "\n",
    "key = {'session_id': scan_key[\"session_id\"],\n",
    "       'recording_id': scan_key[\"scan_id\"], \n",
    "       'camera': \"mini2p1_top\", # Currently 'scanner' due to in equipment tables\n",
    "}\n",
    "model.VideoRecording.insert1(key, skip_duplicates=True)\n",
    "# do not include an initial `/` in relative file paths   \n",
    "key.update({'file_path': moviepath,\n",
    "            'file_id': 0})\n",
    "model.VideoRecording.File.insert1(key, ignore_extra_fields=True, skip_duplicates=True)"
   ]
  },
  {
   "cell_type": "code",
   "execution_count": 10,
   "id": "db928d76",
   "metadata": {},
   "outputs": [],
   "source": [
    "scansi = \"scan9FB2LN5C\"\n",
    "scan_key = (scan.Scan & f'scan_id = \"{scansi}\"').fetch('KEY')[0] \n",
    "moviepath = str(list(pathlib.Path((scan.ScanPath() & scan_key).fetch(\"path\")[0]).glob(\"*top*.mp4*\"))[0])\n",
    "\n",
    "key = {'session_id': scan_key[\"session_id\"],\n",
    "       'recording_id': scan_key[\"scan_id\"], \n",
    "       'camera': \"mini2p1_top\", # Currently 'scanner' due to in equipment tables\n",
    "}\n",
    "model.VideoRecording.insert1(key, skip_duplicates=True)\n",
    "# do not include an initial `/` in relative file paths   \n",
    "key.update({'file_path': moviepath,\n",
    "            'file_id': 1})\n",
    "model.VideoRecording.File.insert1(key, ignore_extra_fields=True, skip_duplicates=True)"
   ]
  },
  {
   "cell_type": "code",
   "execution_count": 29,
   "id": "5c954492",
   "metadata": {},
   "outputs": [],
   "source": [
    "scansi = \"scan9FHELAYA\"\n",
    "scan_key = (scan.Scan & f'scan_id = \"{scansi}\"').fetch('KEY')[0] \n",
    "moviepath = str(list(pathlib.Path((scan.ScanPath() & scan_key).fetch(\"path\")[0]).glob(\"*copy*.mp4\"))[0])\n",
    "# moviepath = str(list(pathlib.Path((scan.ScanPath() & scan_key).fetch(\"path\")[0]).glob(\"*top*.mp4-copy.mp4\"))[0])\n",
    "\n",
    "key = {'session_id': scan_key[\"session_id\"],\n",
    "       'recording_id': scan_key[\"scan_id\"], \n",
    "       'camera': \"mini2p1_top\", # Currently 'scanner' due to in equipment tables\n",
    "}\n",
    "model.VideoRecording.insert1(key, skip_duplicates=True)\n",
    "# do not include an initial `/` in relative file paths   \n",
    "key.update({'file_path': moviepath,\n",
    "            'file_id': 2})\n",
    "model.VideoRecording.File.insert1(key, ignore_extra_fields=True, skip_duplicates=True)"
   ]
  },
  {
   "cell_type": "code",
   "execution_count": 30,
   "id": "b2fed587",
   "metadata": {},
   "outputs": [
    {
     "data": {
      "text/html": [
       "\n",
       "    \n",
       "    <style type=\"text/css\">\n",
       "        .Relation{\n",
       "            border-collapse:collapse;\n",
       "        }\n",
       "        .Relation th{\n",
       "            background: #A0A0A0; color: #ffffff; padding:4px; border:#f0e0e0 1px solid;\n",
       "            font-weight: normal; font-family: monospace; font-size: 100%;\n",
       "        }\n",
       "        .Relation td{\n",
       "            padding:4px; border:#f0e0e0 1px solid; font-size:100%;\n",
       "        }\n",
       "        .Relation tr:nth-child(odd){\n",
       "            background: #ffffff;\n",
       "        }\n",
       "        .Relation tr:nth-child(even){\n",
       "            background: #f3f1ff;\n",
       "        }\n",
       "        /* Tooltip container */\n",
       "        .djtooltip {\n",
       "        }\n",
       "        /* Tooltip text */\n",
       "        .djtooltip .djtooltiptext {\n",
       "            visibility: hidden;\n",
       "            width: 120px;\n",
       "            background-color: black;\n",
       "            color: #fff;\n",
       "            text-align: center;\n",
       "            padding: 5px 0;\n",
       "            border-radius: 6px;\n",
       "            /* Position the tooltip text - see examples below! */\n",
       "            position: absolute;\n",
       "            z-index: 1;\n",
       "        }\n",
       "        #primary {\n",
       "            font-weight: bold;\n",
       "            color: black;\n",
       "        }\n",
       "        #nonprimary {\n",
       "            font-weight: normal;\n",
       "            color: white;\n",
       "        }\n",
       "\n",
       "        /* Show the tooltip text when you mouse over the tooltip container */\n",
       "        .djtooltip:hover .djtooltiptext {\n",
       "            visibility: visible;\n",
       "        }\n",
       "    </style>\n",
       "    \n",
       "    \n",
       "        <div style=\"max-height:1000px;max-width:1500px;overflow:auto;\">\n",
       "        <table border=\"1\" class=\"Relation\">\n",
       "            <thead> <tr style=\"text-align: right;\"> <th> <div class=\"djtooltip\">\n",
       "                            <p id=\"primary\">session_id</p>\n",
       "                            <span class=\"djtooltiptext\"></span>\n",
       "                        </div></th><th><div class=\"djtooltip\">\n",
       "                            <p id=\"primary\">recording_id</p>\n",
       "                            <span class=\"djtooltiptext\"></span>\n",
       "                        </div></th><th><div class=\"djtooltip\">\n",
       "                            <p id=\"primary\">file_id</p>\n",
       "                            <span class=\"djtooltiptext\"></span>\n",
       "                        </div></th><th><div class=\"djtooltip\">\n",
       "                            <p id=\"primary\">camera</p>\n",
       "                            <span class=\"djtooltiptext\"></span>\n",
       "                        </div></th><th><div class=\"djtooltip\">\n",
       "                            <p id=\"nonprimary\">file_path</p>\n",
       "                            <span class=\"djtooltiptext\">filepath of video, relative to root data directory</span>\n",
       "                        </div></th><th><div class=\"djtooltip\">\n",
       "                            <p id=\"nonprimary\">camera_description</p>\n",
       "                            <span class=\"djtooltiptext\"></span>\n",
       "                        </div> </th> </tr> </thead>\n",
       "            <tbody> <tr> <td>sess9FHELAYA</td>\n",
       "<td>scan9FHELAYA</td>\n",
       "<td>2</td>\n",
       "<td>mini2p1_top</td>\n",
       "<td>/datajoint-data/data/tobiasr/RN_OPI-1681_2023-04-05_scan9FHELAYA_sess9FHELAYA/scan9FHELAYA_top_video_2023-04-05T15_19_53.mp4-copy.mp4</td>\n",
       "<td>Basler a2A1920-160umBAS, Xx objective</td> </tr> </tbody>\n",
       "        </table>\n",
       "        \n",
       "        <p>Total: 1</p></div>\n",
       "        "
      ],
      "text/plain": [
       "*session_id    *recording_id  *file_id    *camera        file_path      camera_descrip\n",
       "+------------+ +------------+ +---------+ +------------+ +------------+ +------------+\n",
       "sess9FHELAYA   scan9FHELAYA   2           mini2p1_top    /datajoint-dat Basler a2A1920\n",
       " (Total: 1)"
      ]
     },
     "execution_count": 30,
     "metadata": {},
     "output_type": "execute_result"
    }
   ],
   "source": [
    "model.VideoRecording() * model.VideoRecording.File() * equipment.Device()"
   ]
  },
  {
   "cell_type": "markdown",
   "id": "ae990c82-36a6-4662-bac8-e014bd80b084",
   "metadata": {},
   "source": [
    "## Model Training"
   ]
  },
  {
   "cell_type": "markdown",
   "id": "91befce5-f9c5-47d3-88df-5c4398eebbbe",
   "metadata": {},
   "source": [
    "The `TrainingTask` table queues up training. To launch training from a different machine, one needs to edit DLC's config files to reflect updated paths. For training, this includes `dlc-models/*/*/train/pose_cfg.yaml`\n",
    "\n",
    "`CB DEV NOTE:` I'm missing the following videos used to originally train the model:\n",
    "- top_video2022-02-17T15_56_10.mp4\n",
    "- top_video2022-02-21T12_18_09.mp4"
   ]
  },
  {
   "cell_type": "markdown",
   "id": "e0e7c363",
   "metadata": {},
   "source": [
    "#### DeepLabcut Tables"
   ]
  },
  {
   "cell_type": "markdown",
   "id": "342d30bb",
   "metadata": {},
   "source": [
    "The `VideoSet` table in the `train` schema retains records of files generated in the video labeling process (e.g., `h5`, `csv`, `png`). DeepLabCut will refer to the `mat` file located under the `training-datasets` directory.\n",
    "\n",
    "We recommend storing all paths as relative to the root in your config."
   ]
  },
  {
   "cell_type": "code",
   "execution_count": 13,
   "id": "0246d207",
   "metadata": {},
   "outputs": [
    {
     "name": "stderr",
     "output_type": "stream",
     "text": [
      "[2023-07-27 13:32:09,002][INFO]: Deleting 2 rows from `tobiasr_train`.`training_task`\n",
      "[2023-07-27 13:32:09,006][INFO]: Deleting 8 rows from `tobiasr_train`.`video_set__file`\n",
      "[2023-07-27 13:32:09,008][INFO]: Deleting 2 rows from `tobiasr_train`.`video_set`\n"
     ]
    },
    {
     "name": "stdout",
     "output_type": "stream",
     "text": [
      "Deletes committed.\n"
     ]
    },
    {
     "data": {
      "text/plain": [
       "2"
      ]
     },
     "execution_count": 13,
     "metadata": {},
     "output_type": "execute_result"
    }
   ],
   "source": [
    "train.VideoSet.delete()"
   ]
  },
  {
   "cell_type": "code",
   "execution_count": 14,
   "id": "a154a4ed",
   "metadata": {},
   "outputs": [
    {
     "data": {
      "text/html": [
       "\n",
       "    \n",
       "    <style type=\"text/css\">\n",
       "        .Relation{\n",
       "            border-collapse:collapse;\n",
       "        }\n",
       "        .Relation th{\n",
       "            background: #A0A0A0; color: #ffffff; padding:4px; border:#f0e0e0 1px solid;\n",
       "            font-weight: normal; font-family: monospace; font-size: 100%;\n",
       "        }\n",
       "        .Relation td{\n",
       "            padding:4px; border:#f0e0e0 1px solid; font-size:100%;\n",
       "        }\n",
       "        .Relation tr:nth-child(odd){\n",
       "            background: #ffffff;\n",
       "        }\n",
       "        .Relation tr:nth-child(even){\n",
       "            background: #f3f1ff;\n",
       "        }\n",
       "        /* Tooltip container */\n",
       "        .djtooltip {\n",
       "        }\n",
       "        /* Tooltip text */\n",
       "        .djtooltip .djtooltiptext {\n",
       "            visibility: hidden;\n",
       "            width: 120px;\n",
       "            background-color: black;\n",
       "            color: #fff;\n",
       "            text-align: center;\n",
       "            padding: 5px 0;\n",
       "            border-radius: 6px;\n",
       "            /* Position the tooltip text - see examples below! */\n",
       "            position: absolute;\n",
       "            z-index: 1;\n",
       "        }\n",
       "        #primary {\n",
       "            font-weight: bold;\n",
       "            color: black;\n",
       "        }\n",
       "        #nonprimary {\n",
       "            font-weight: normal;\n",
       "            color: white;\n",
       "        }\n",
       "\n",
       "        /* Show the tooltip text when you mouse over the tooltip container */\n",
       "        .djtooltip:hover .djtooltiptext {\n",
       "            visibility: visible;\n",
       "        }\n",
       "    </style>\n",
       "    \n",
       "    <b>Paths of training files (e.g., labeled pngs, CSV or video)</b>\n",
       "        <div style=\"max-height:1000px;max-width:1500px;overflow:auto;\">\n",
       "        <table border=\"1\" class=\"Relation\">\n",
       "            <thead> <tr style=\"text-align: right;\"> <th> <div class=\"djtooltip\">\n",
       "                            <p id=\"primary\">video_set_id</p>\n",
       "                            <span class=\"djtooltiptext\"></span>\n",
       "                        </div></th><th><div class=\"djtooltip\">\n",
       "                            <p id=\"primary\">file_id</p>\n",
       "                            <span class=\"djtooltiptext\"></span>\n",
       "                        </div></th><th><div class=\"djtooltip\">\n",
       "                            <p id=\"nonprimary\">file_path</p>\n",
       "                            <span class=\"djtooltiptext\"></span>\n",
       "                        </div> </th> </tr> </thead>\n",
       "            <tbody> <tr> <td>0</td>\n",
       "<td>0</td>\n",
       "<td>from_top_tracking-DJ-2022-02-23/labeled-data/exp9FANLWRZ_top_video2022-02-21T12_18_09/CollectedData_DJ.h5</td></tr><tr><td>0</td>\n",
       "<td>1</td>\n",
       "<td>from_top_tracking-DJ-2022-02-23/labeled-data/exp9FANLWRZ_top_video2022-02-21T12_18_09/CollectedData_DJ.csv</td></tr><tr><td>0</td>\n",
       "<td>2</td>\n",
       "<td>from_top_tracking-DJ-2022-02-23/labeled-data/exp9FANLWRZ_top_video2022-02-21T12_18_09/img00674.png</td></tr><tr><td>0</td>\n",
       "<td>3</td>\n",
       "<td>from_top_tracking-DJ-2022-02-23/videos/exp9FANLWRZ_top_video2022-02-21T12_18_09.mp4</td> </tr> </tbody>\n",
       "        </table>\n",
       "        \n",
       "        <p>Total: 4</p></div>\n",
       "        "
      ],
      "text/plain": [
       "*video_set_id  *file_id    file_path     \n",
       "+------------+ +---------+ +------------+\n",
       "0              0           from_top_track\n",
       "0              1           from_top_track\n",
       "0              2           from_top_track\n",
       "0              3           from_top_track\n",
       " (Total: 4)"
      ]
     },
     "execution_count": 14,
     "metadata": {},
     "output_type": "execute_result"
    }
   ],
   "source": [
    "train.VideoSet.insert1({'video_set_id': 0}, skip_duplicates=True)\n",
    "project_folder = 'from_top_tracking-DJ-2022-02-23/'\n",
    "training_files = ['labeled-data/exp9FANLWRZ_top_video2022-02-21T12_18_09/CollectedData_DJ.h5',\n",
    "                  'labeled-data/exp9FANLWRZ_top_video2022-02-21T12_18_09/CollectedData_DJ.csv',\n",
    "                  'labeled-data/exp9FANLWRZ_top_video2022-02-21T12_18_09/img00674.png',\n",
    "                  'videos/exp9FANLWRZ_top_video2022-02-21T12_18_09.mp4']\n",
    "for idx, filename in enumerate(training_files):\n",
    "    train.VideoSet.File.insert1({'video_set_id': 0,\n",
    "                                 'file_id': idx,\n",
    "                                 'file_path': (project_folder + filename)}, skip_duplicates=True)\n",
    "train.VideoSet.File()"
   ]
  },
  {
   "cell_type": "code",
   "execution_count": 15,
   "id": "0f6fffb8",
   "metadata": {},
   "outputs": [
    {
     "data": {
      "text/html": [
       "\n",
       "    \n",
       "    <style type=\"text/css\">\n",
       "        .Relation{\n",
       "            border-collapse:collapse;\n",
       "        }\n",
       "        .Relation th{\n",
       "            background: #A0A0A0; color: #ffffff; padding:4px; border:#f0e0e0 1px solid;\n",
       "            font-weight: normal; font-family: monospace; font-size: 100%;\n",
       "        }\n",
       "        .Relation td{\n",
       "            padding:4px; border:#f0e0e0 1px solid; font-size:100%;\n",
       "        }\n",
       "        .Relation tr:nth-child(odd){\n",
       "            background: #ffffff;\n",
       "        }\n",
       "        .Relation tr:nth-child(even){\n",
       "            background: #f3f1ff;\n",
       "        }\n",
       "        /* Tooltip container */\n",
       "        .djtooltip {\n",
       "        }\n",
       "        /* Tooltip text */\n",
       "        .djtooltip .djtooltiptext {\n",
       "            visibility: hidden;\n",
       "            width: 120px;\n",
       "            background-color: black;\n",
       "            color: #fff;\n",
       "            text-align: center;\n",
       "            padding: 5px 0;\n",
       "            border-radius: 6px;\n",
       "            /* Position the tooltip text - see examples below! */\n",
       "            position: absolute;\n",
       "            z-index: 1;\n",
       "        }\n",
       "        #primary {\n",
       "            font-weight: bold;\n",
       "            color: black;\n",
       "        }\n",
       "        #nonprimary {\n",
       "            font-weight: normal;\n",
       "            color: white;\n",
       "        }\n",
       "\n",
       "        /* Show the tooltip text when you mouse over the tooltip container */\n",
       "        .djtooltip:hover .djtooltiptext {\n",
       "            visibility: visible;\n",
       "        }\n",
       "    </style>\n",
       "    \n",
       "    <b>Paths of training files (e.g., labeled pngs, CSV or video)</b>\n",
       "        <div style=\"max-height:1000px;max-width:1500px;overflow:auto;\">\n",
       "        <table border=\"1\" class=\"Relation\">\n",
       "            <thead> <tr style=\"text-align: right;\"> <th> <div class=\"djtooltip\">\n",
       "                            <p id=\"primary\">video_set_id</p>\n",
       "                            <span class=\"djtooltiptext\"></span>\n",
       "                        </div></th><th><div class=\"djtooltip\">\n",
       "                            <p id=\"primary\">file_id</p>\n",
       "                            <span class=\"djtooltiptext\"></span>\n",
       "                        </div></th><th><div class=\"djtooltip\">\n",
       "                            <p id=\"nonprimary\">file_path</p>\n",
       "                            <span class=\"djtooltiptext\"></span>\n",
       "                        </div> </th> </tr> </thead>\n",
       "            <tbody> <tr> <td>0</td>\n",
       "<td>0</td>\n",
       "<td>from_top_tracking-DJ-2022-02-23/labeled-data/exp9FANLWRZ_top_video2022-02-21T12_18_09/CollectedData_DJ.h5</td></tr><tr><td>0</td>\n",
       "<td>1</td>\n",
       "<td>from_top_tracking-DJ-2022-02-23/labeled-data/exp9FANLWRZ_top_video2022-02-21T12_18_09/CollectedData_DJ.csv</td></tr><tr><td>0</td>\n",
       "<td>2</td>\n",
       "<td>from_top_tracking-DJ-2022-02-23/labeled-data/exp9FANLWRZ_top_video2022-02-21T12_18_09/img00674.png</td></tr><tr><td>0</td>\n",
       "<td>3</td>\n",
       "<td>from_top_tracking-DJ-2022-02-23/videos/exp9FANLWRZ_top_video2022-02-21T12_18_09.mp4</td></tr><tr><td>1</td>\n",
       "<td>0</td>\n",
       "<td>Head_orientation-NK-2023-07-17/labeled-data/scan9FHF1JT7_top_video_2023-04-06T09_31_19/CollectedData_NK.h5</td></tr><tr><td>1</td>\n",
       "<td>1</td>\n",
       "<td>Head_orientation-NK-2023-07-17/labeled-data/scan9FHF1JT7_top_video_2023-04-06T09_31_19/CollectedData_NK.csv</td></tr><tr><td>1</td>\n",
       "<td>2</td>\n",
       "<td>Head_orientation-NK-2023-07-17/labeled-data/scan9FHF1JT7_top_video_2023-04-06T09_31_19/img00162.png</td></tr><tr><td>1</td>\n",
       "<td>3</td>\n",
       "<td>Head_orientation-NK-2023-07-17/videos/scan9FHF1JT7_top_video_2023-04-06T09_31_19.mp4</td> </tr> </tbody>\n",
       "        </table>\n",
       "        \n",
       "        <p>Total: 8</p></div>\n",
       "        "
      ],
      "text/plain": [
       "*video_set_id  *file_id    file_path     \n",
       "+------------+ +---------+ +------------+\n",
       "0              0           from_top_track\n",
       "0              1           from_top_track\n",
       "0              2           from_top_track\n",
       "0              3           from_top_track\n",
       "1              0           Head_orientati\n",
       "1              1           Head_orientati\n",
       "1              2           Head_orientati\n",
       "1              3           Head_orientati\n",
       " (Total: 8)"
      ]
     },
     "execution_count": 15,
     "metadata": {},
     "output_type": "execute_result"
    }
   ],
   "source": [
    "train.VideoSet.insert1({'video_set_id': 1}, skip_duplicates=True)\n",
    "project_folder = 'Head_orientation-NK-2023-07-17/'\n",
    "training_files = ['labeled-data/scan9FHF1JT7_top_video_2023-04-06T09_31_19/CollectedData_NK.h5',\n",
    "                  'labeled-data/scan9FHF1JT7_top_video_2023-04-06T09_31_19/CollectedData_NK.csv',\n",
    "                  'labeled-data/scan9FHF1JT7_top_video_2023-04-06T09_31_19/img00162.png',\n",
    "                  'videos/scan9FHF1JT7_top_video_2023-04-06T09_31_19.mp4']\n",
    "for idx, filename in enumerate(training_files):\n",
    "    train.VideoSet.File.insert1({'video_set_id': 1,\n",
    "                                 'file_id': idx,\n",
    "                                 'file_path': (project_folder + filename)}, skip_duplicates=True)\n",
    "train.VideoSet.File()"
   ]
  },
  {
   "cell_type": "markdown",
   "id": "4051922c",
   "metadata": {},
   "source": [
    "The `params` longblob should be a dictionary that captures all items for DeepLabCut's `train_network` function. At minimum, this is the contents of the project's config file, as well as `suffle` and `trainingsetindex`, which are not included in the config. "
   ]
  },
  {
   "cell_type": "code",
   "execution_count": null,
   "id": "f727557a",
   "metadata": {},
   "outputs": [],
   "source": [
    "from deeplabcut import train_network\n",
    "help(train_network) # for more information on optional parameters"
   ]
  },
  {
   "cell_type": "markdown",
   "id": "2b19a91e",
   "metadata": {},
   "source": [
    "Here, we give these items, load the config contents, and overwrite some defaults, including `maxiters`, to restrict our training iterations to 5."
   ]
  },
  {
   "cell_type": "code",
   "execution_count": 17,
   "id": "04fdf6df",
   "metadata": {},
   "outputs": [
    {
     "data": {
      "text/html": [
       "\n",
       "    \n",
       "    <style type=\"text/css\">\n",
       "        .Relation{\n",
       "            border-collapse:collapse;\n",
       "        }\n",
       "        .Relation th{\n",
       "            background: #A0A0A0; color: #ffffff; padding:4px; border:#f0e0e0 1px solid;\n",
       "            font-weight: normal; font-family: monospace; font-size: 100%;\n",
       "        }\n",
       "        .Relation td{\n",
       "            padding:4px; border:#f0e0e0 1px solid; font-size:100%;\n",
       "        }\n",
       "        .Relation tr:nth-child(odd){\n",
       "            background: #ffffff;\n",
       "        }\n",
       "        .Relation tr:nth-child(even){\n",
       "            background: #f3f1ff;\n",
       "        }\n",
       "        /* Tooltip container */\n",
       "        .djtooltip {\n",
       "        }\n",
       "        /* Tooltip text */\n",
       "        .djtooltip .djtooltiptext {\n",
       "            visibility: hidden;\n",
       "            width: 120px;\n",
       "            background-color: black;\n",
       "            color: #fff;\n",
       "            text-align: center;\n",
       "            padding: 5px 0;\n",
       "            border-radius: 6px;\n",
       "            /* Position the tooltip text - see examples below! */\n",
       "            position: absolute;\n",
       "            z-index: 1;\n",
       "        }\n",
       "        #primary {\n",
       "            font-weight: bold;\n",
       "            color: black;\n",
       "        }\n",
       "        #nonprimary {\n",
       "            font-weight: normal;\n",
       "            color: white;\n",
       "        }\n",
       "\n",
       "        /* Show the tooltip text when you mouse over the tooltip container */\n",
       "        .djtooltip:hover .djtooltiptext {\n",
       "            visibility: visible;\n",
       "        }\n",
       "    </style>\n",
       "    \n",
       "    <b>Parameters to specify a DLC model training instance</b>\n",
       "        <div style=\"max-height:1000px;max-width:1500px;overflow:auto;\">\n",
       "        <table border=\"1\" class=\"Relation\">\n",
       "            <thead> <tr style=\"text-align: right;\"> <th> <div class=\"djtooltip\">\n",
       "                            <p id=\"primary\">paramset_idx</p>\n",
       "                            <span class=\"djtooltiptext\"></span>\n",
       "                        </div></th><th><div class=\"djtooltip\">\n",
       "                            <p id=\"nonprimary\">paramset_desc</p>\n",
       "                            <span class=\"djtooltiptext\"></span>\n",
       "                        </div></th><th><div class=\"djtooltip\">\n",
       "                            <p id=\"nonprimary\">param_set_hash</p>\n",
       "                            <span class=\"djtooltiptext\">hash identifying this parameterset</span>\n",
       "                        </div></th><th><div class=\"djtooltip\">\n",
       "                            <p id=\"nonprimary\">params</p>\n",
       "                            <span class=\"djtooltiptext\">dictionary of all applicable parameters</span>\n",
       "                        </div> </th> </tr> </thead>\n",
       "            <tbody> <tr> <td>0</td>\n",
       "<td>from_top_tracking-DJ-2022-02-23</td>\n",
       "<td>d5736a15-23a7-5469-c521-6929b5f1d1b7</td>\n",
       "<td>=BLOB=</td></tr><tr><td>1</td>\n",
       "<td>Head_orientation-NK-2023-07-17</td>\n",
       "<td>c6ec66ba-91f0-b916-fcbd-6dcf9f5adc23</td>\n",
       "<td>=BLOB=</td> </tr> </tbody>\n",
       "        </table>\n",
       "        \n",
       "        <p>Total: 2</p></div>\n",
       "        "
      ],
      "text/plain": [
       "*paramset_idx  paramset_desc  param_set_hash params    \n",
       "+------------+ +------------+ +------------+ +--------+\n",
       "0              from_top_track d5736a15-23a7- =BLOB=    \n",
       "1              Head_orientati c6ec66ba-91f0- =BLOB=    \n",
       " (Total: 2)"
      ]
     },
     "execution_count": 17,
     "metadata": {},
     "output_type": "execute_result"
    }
   ],
   "source": [
    "train.TrainingParamSet()"
   ]
  },
  {
   "cell_type": "code",
   "execution_count": null,
   "id": "f1399310",
   "metadata": {},
   "outputs": [],
   "source": [
    "import yaml\n",
    "\n",
    "paramset_idx = 0; paramset_desc='from_top_tracking-DJ-2022-02-23'\n",
    "\n",
    "config_path = find_full_path(get_dlc_root_data_dir()[0], \n",
    "                             paramset_desc + '/config.yaml')\n",
    "\n",
    "with open(config_path, 'rb') as y:\n",
    "    config_params = yaml.safe_load(y)\n",
    "training_params = {'shuffle': '1',\n",
    "                   'trainingsetindex': '0',\n",
    "                   'maxiters': '5',\n",
    "                   'scorer_legacy': 'False',\n",
    "                   'maxiters': '5', \n",
    "                   'multianimalproject':'False'}\n",
    "config_params.update(training_params)\n",
    "train.TrainingParamSet.insert_new_params(paramset_idx=paramset_idx,\n",
    "                                         paramset_desc=paramset_desc,\n",
    "                                         params=config_params)"
   ]
  },
  {
   "cell_type": "code",
   "execution_count": null,
   "id": "18e274dc",
   "metadata": {},
   "outputs": [],
   "source": [
    "paramset_idx = 1; paramset_desc='Head_orientation-NK-2023-07-17'\n",
    "\n",
    "config_path = find_full_path(get_dlc_root_data_dir()[1], \n",
    "                             paramset_desc + '/config.yaml')\n",
    "\n",
    "with open(config_path, 'rb') as y:\n",
    "    config_params = yaml.safe_load(y)\n",
    "training_params = {'shuffle': '1',\n",
    "                   'trainingsetindex': '0',\n",
    "                   'maxiters': '5',\n",
    "                   'scorer_legacy': 'False',\n",
    "                   'maxiters': '5', \n",
    "                   'multianimalproject':'False'}\n",
    "config_params.update(training_params)\n",
    "train.TrainingParamSet.insert_new_params(paramset_idx=paramset_idx,\n",
    "                                         paramset_desc=paramset_desc,\n",
    "                                         params=config_params)"
   ]
  },
  {
   "cell_type": "code",
   "execution_count": null,
   "id": "064357fe",
   "metadata": {},
   "outputs": [],
   "source": [
    "train.TrainingParamSet()"
   ]
  },
  {
   "cell_type": "code",
   "execution_count": null,
   "id": "7674018d",
   "metadata": {},
   "outputs": [],
   "source": [
    "# train.TrainingTask.delete()"
   ]
  },
  {
   "cell_type": "code",
   "execution_count": null,
   "id": "6947589c-0546-472d-8ee6-b5c5b56ffac3",
   "metadata": {},
   "outputs": [],
   "source": [
    "key={'video_set_id': 0, \n",
    "     'paramset_idx':0,\n",
    "     'training_id':0, # uniquely defines training task\n",
    "     'project_path':'from_top_tracking-DJ-2022-02-23/' # relative to dlc_root in dj.config\n",
    "    }\n",
    "train.TrainingTask.insert1(key, skip_duplicates=True)\n",
    "train.TrainingTask()"
   ]
  },
  {
   "cell_type": "code",
   "execution_count": null,
   "id": "4713381c",
   "metadata": {},
   "outputs": [],
   "source": [
    "key={'video_set_id': 1, \n",
    "     'paramset_idx':1,\n",
    "     'training_id':1, # uniquely defines training task\n",
    "     'project_path':'Head_orientation-NK-2023-07-17' # relative to dlc_root in dj.config\n",
    "    }\n",
    "train.TrainingTask.insert1(key, skip_duplicates=True)\n",
    "train.TrainingTask()"
   ]
  },
  {
   "cell_type": "code",
   "execution_count": null,
   "id": "168d4f53",
   "metadata": {},
   "outputs": [],
   "source": [
    "(train.TrainingParamSet & \"paramset_idx=1\").fetch(\"params\")"
   ]
  },
  {
   "cell_type": "code",
   "execution_count": null,
   "id": "1b15fb3c",
   "metadata": {},
   "outputs": [],
   "source": [
    "# (train.TrainingTask() & (\"video_set_id = 1\")).delete()\n",
    "train.TrainingTask()"
   ]
  },
  {
   "cell_type": "code",
   "execution_count": null,
   "id": "2a493f78-6a1d-4c5e-8606-7c01c68f7c66",
   "metadata": {
    "tags": []
   },
   "outputs": [],
   "source": [
    "train.ModelTraining.populate()"
   ]
  },
  {
   "cell_type": "code",
   "execution_count": null,
   "id": "be4bc25b-04ae-4f97-813e-c316ddb0a739",
   "metadata": {},
   "outputs": [],
   "source": [
    "train.ModelTraining()"
   ]
  },
  {
   "cell_type": "markdown",
   "id": "4b8e3299-63b9-49cc-a010-04d81ba552fd",
   "metadata": {},
   "source": [
    "To start training from a previous instance, one would need to \n",
    "[edit the relevant config file](https://github.com/DeepLabCut/DeepLabCut/issues/70) and\n",
    "adjust the `maxiters` paramset (if present) to a higher threshold (e.g., 10 for 5 more itterations).\n",
    "Emperical work from the Mathis team suggests 200k iterations for any true use-case."
   ]
  },
  {
   "cell_type": "markdown",
   "id": "0f3fb14a-64a2-4bfa-9e03-0ee4e87af98e",
   "metadata": {},
   "source": [
    "## Tracking Joints/Body Parts"
   ]
  },
  {
   "cell_type": "markdown",
   "id": "b7b6a7ad-f99d-463f-82e5-901e498236b8",
   "metadata": {},
   "source": [
    "The `model` schema uses a lookup table for managing Body Parts tracked across models."
   ]
  },
  {
   "cell_type": "code",
   "execution_count": 31,
   "id": "373df83b",
   "metadata": {},
   "outputs": [
    {
     "data": {
      "text/html": [
       "\n",
       "    \n",
       "    <style type=\"text/css\">\n",
       "        .Relation{\n",
       "            border-collapse:collapse;\n",
       "        }\n",
       "        .Relation th{\n",
       "            background: #A0A0A0; color: #ffffff; padding:4px; border:#f0e0e0 1px solid;\n",
       "            font-weight: normal; font-family: monospace; font-size: 100%;\n",
       "        }\n",
       "        .Relation td{\n",
       "            padding:4px; border:#f0e0e0 1px solid; font-size:100%;\n",
       "        }\n",
       "        .Relation tr:nth-child(odd){\n",
       "            background: #ffffff;\n",
       "        }\n",
       "        .Relation tr:nth-child(even){\n",
       "            background: #f3f1ff;\n",
       "        }\n",
       "        /* Tooltip container */\n",
       "        .djtooltip {\n",
       "        }\n",
       "        /* Tooltip text */\n",
       "        .djtooltip .djtooltiptext {\n",
       "            visibility: hidden;\n",
       "            width: 120px;\n",
       "            background-color: black;\n",
       "            color: #fff;\n",
       "            text-align: center;\n",
       "            padding: 5px 0;\n",
       "            border-radius: 6px;\n",
       "            /* Position the tooltip text - see examples below! */\n",
       "            position: absolute;\n",
       "            z-index: 1;\n",
       "        }\n",
       "        #primary {\n",
       "            font-weight: bold;\n",
       "            color: black;\n",
       "        }\n",
       "        #nonprimary {\n",
       "            font-weight: normal;\n",
       "            color: white;\n",
       "        }\n",
       "\n",
       "        /* Show the tooltip text when you mouse over the tooltip container */\n",
       "        .djtooltip:hover .djtooltiptext {\n",
       "            visibility: visible;\n",
       "        }\n",
       "    </style>\n",
       "    \n",
       "    <b></b>\n",
       "        <div style=\"max-height:1000px;max-width:1500px;overflow:auto;\">\n",
       "        <table border=\"1\" class=\"Relation\">\n",
       "            <thead> <tr style=\"text-align: right;\"> <th> <div class=\"djtooltip\">\n",
       "                            <p id=\"primary\">model_name</p>\n",
       "                            <span class=\"djtooltiptext\">User-friendly model name</span>\n",
       "                        </div></th><th><div class=\"djtooltip\">\n",
       "                            <p id=\"nonprimary\">task</p>\n",
       "                            <span class=\"djtooltiptext\">Task in the config yaml</span>\n",
       "                        </div></th><th><div class=\"djtooltip\">\n",
       "                            <p id=\"nonprimary\">date</p>\n",
       "                            <span class=\"djtooltiptext\">Date in the config yaml</span>\n",
       "                        </div></th><th><div class=\"djtooltip\">\n",
       "                            <p id=\"nonprimary\">iteration</p>\n",
       "                            <span class=\"djtooltiptext\">Iteration/version of this model</span>\n",
       "                        </div></th><th><div class=\"djtooltip\">\n",
       "                            <p id=\"nonprimary\">snapshotindex</p>\n",
       "                            <span class=\"djtooltiptext\">which snapshot for prediction (if -1, latest)</span>\n",
       "                        </div></th><th><div class=\"djtooltip\">\n",
       "                            <p id=\"nonprimary\">shuffle</p>\n",
       "                            <span class=\"djtooltiptext\">Shuffle (1) or not (0)</span>\n",
       "                        </div></th><th><div class=\"djtooltip\">\n",
       "                            <p id=\"nonprimary\">trainingsetindex</p>\n",
       "                            <span class=\"djtooltiptext\">Index of training fraction list in config.yaml</span>\n",
       "                        </div></th><th><div class=\"djtooltip\">\n",
       "                            <p id=\"nonprimary\">scorer</p>\n",
       "                            <span class=\"djtooltiptext\">Scorer/network name - DLC's GetScorerName()</span>\n",
       "                        </div></th><th><div class=\"djtooltip\">\n",
       "                            <p id=\"nonprimary\">config_template</p>\n",
       "                            <span class=\"djtooltiptext\">Dictionary of the config for analyze_videos()</span>\n",
       "                        </div></th><th><div class=\"djtooltip\">\n",
       "                            <p id=\"nonprimary\">project_path</p>\n",
       "                            <span class=\"djtooltiptext\">DLC's project_path in config relative to root</span>\n",
       "                        </div></th><th><div class=\"djtooltip\">\n",
       "                            <p id=\"nonprimary\">model_prefix</p>\n",
       "                            <span class=\"djtooltiptext\"></span>\n",
       "                        </div></th><th><div class=\"djtooltip\">\n",
       "                            <p id=\"nonprimary\">model_description</p>\n",
       "                            <span class=\"djtooltiptext\"></span>\n",
       "                        </div></th><th><div class=\"djtooltip\">\n",
       "                            <p id=\"nonprimary\">paramset_idx</p>\n",
       "                            <span class=\"djtooltiptext\"></span>\n",
       "                        </div> </th> </tr> </thead>\n",
       "            <tbody> <tr> <td>Head_orientation-NK</td>\n",
       "<td>Head_orientation</td>\n",
       "<td>Jul17</td>\n",
       "<td>0</td>\n",
       "<td>3</td>\n",
       "<td>1</td>\n",
       "<td>0</td>\n",
       "<td>DLC_resnet50_Head_orientationJul17shuffle1_90000</td>\n",
       "<td>=BLOB=</td>\n",
       "<td>Head_orientation-NK-2023-07-17</td>\n",
       "<td></td>\n",
       "<td>From Top, trained 5 iterations</td>\n",
       "<td>1</td> </tr> </tbody>\n",
       "        </table>\n",
       "        \n",
       "        <p>Total: 1</p></div>\n",
       "        "
      ],
      "text/plain": [
       "*model_name    task           date      iteration     snapshotindex  shuffle     trainingsetind scorer         config_tem project_path   model_prefix   model_descript paramset_idx  \n",
       "+------------+ +------------+ +-------+ +-----------+ +------------+ +---------+ +------------+ +------------+ +--------+ +------------+ +------------+ +------------+ +------------+\n",
       "Head_orientati Head_orientati Jul17     0             3              1           0              DLC_resnet50_H =BLOB=     Head_orientati                From Top, trai 1             \n",
       " (Total: 1)"
      ]
     },
     "execution_count": 31,
     "metadata": {},
     "output_type": "execute_result"
    }
   ],
   "source": [
    "model.Model()"
   ]
  },
  {
   "cell_type": "code",
   "execution_count": null,
   "id": "70dbfc1a-cbad-43c1-9051-776a6dcc0c13",
   "metadata": {},
   "outputs": [],
   "source": [
    "model.BodyPart.heading"
   ]
  },
  {
   "cell_type": "markdown",
   "id": "fc134ae7-62b8-4013-a538-1f47070e430b",
   "metadata": {},
   "source": [
    "This table is equipped with two helper functions. First, we can identify all the new body parts from a given config file."
   ]
  },
  {
   "cell_type": "code",
   "execution_count": 19,
   "id": "7f21c637-2554-4b6e-9a9a-e07d3cb5edae",
   "metadata": {},
   "outputs": [
    {
     "ename": "NameError",
     "evalue": "name 'paramset_desc' is not defined",
     "output_type": "error",
     "traceback": [
      "\u001b[0;31m---------------------------------------------------------------------------\u001b[0m",
      "\u001b[0;31mNameError\u001b[0m                                 Traceback (most recent call last)",
      "\u001b[1;32m/home/tobiasr/adamacs/notebooks/05_DeepLabCut.ipynb Cell 51\u001b[0m in \u001b[0;36m<cell line: 2>\u001b[0;34m()\u001b[0m\n\u001b[1;32m      <a href='vscode-notebook-cell://ssh-remote%2B172.26.128.53/home/tobiasr/adamacs/notebooks/05_DeepLabCut.ipynb#Y101sdnNjb2RlLXJlbW90ZQ%3D%3D?line=0'>1</a>\u001b[0m \u001b[39mfrom\u001b[39;00m \u001b[39madamacs\u001b[39;00m\u001b[39m.\u001b[39;00m\u001b[39mpaths\u001b[39;00m \u001b[39mimport\u001b[39;00m get_dlc_root_data_dir\n\u001b[1;32m      <a href='vscode-notebook-cell://ssh-remote%2B172.26.128.53/home/tobiasr/adamacs/notebooks/05_DeepLabCut.ipynb#Y101sdnNjb2RlLXJlbW90ZQ%3D%3D?line=1'>2</a>\u001b[0m config_path \u001b[39m=\u001b[39m find_full_path(get_dlc_root_data_dir()[\u001b[39m1\u001b[39m], \n\u001b[0;32m----> <a href='vscode-notebook-cell://ssh-remote%2B172.26.128.53/home/tobiasr/adamacs/notebooks/05_DeepLabCut.ipynb#Y101sdnNjb2RlLXJlbW90ZQ%3D%3D?line=2'>3</a>\u001b[0m                              paramset_desc \u001b[39m+\u001b[39m \u001b[39m'\u001b[39m\u001b[39m/config.yaml\u001b[39m\u001b[39m'\u001b[39m)\n\u001b[1;32m      <a href='vscode-notebook-cell://ssh-remote%2B172.26.128.53/home/tobiasr/adamacs/notebooks/05_DeepLabCut.ipynb#Y101sdnNjb2RlLXJlbW90ZQ%3D%3D?line=3'>4</a>\u001b[0m model\u001b[39m.\u001b[39mBodyPart\u001b[39m.\u001b[39mextract_new_body_parts(config_path)\n",
      "\u001b[0;31mNameError\u001b[0m: name 'paramset_desc' is not defined"
     ]
    }
   ],
   "source": [
    "from adamacs.paths import get_dlc_root_data_dir\n",
    "config_path = find_full_path(get_dlc_root_data_dir()[1], \n",
    "                             paramset_desc + '/config.yaml')\n",
    "model.BodyPart.extract_new_body_parts(config_path)"
   ]
  },
  {
   "cell_type": "markdown",
   "id": "f354da25-1f3e-4220-aa8b-943f6260b88c",
   "metadata": {},
   "source": [
    "Now, we can make a list of descriptions in the same order, and insert them into the table"
   ]
  },
  {
   "cell_type": "code",
   "execution_count": null,
   "id": "77afed93",
   "metadata": {},
   "outputs": [],
   "source": [
    "model.BodyPart()"
   ]
  },
  {
   "cell_type": "code",
   "execution_count": null,
   "id": "14c69d60-c198-468e-a67c-b2ff77667bbb",
   "metadata": {},
   "outputs": [],
   "source": [
    "# Will be inserted with model insertion\n",
    "# bp_desc=['Body Center', 'Head', 'Base of Tail']\n",
    "# model.BodyPart.insert_from_config(config_path,bp_desc)"
   ]
  },
  {
   "cell_type": "markdown",
   "id": "d81f0302-b652-4b5d-8983-001484ef83e0",
   "metadata": {},
   "source": [
    "If we skip this step, body parts (without descriptions) will be added when we insert a model. We can [update](https://docs.datajoint.org/python/v0.13/manipulation/3-Cautious-Update.html) empty descriptions at any time."
   ]
  },
  {
   "cell_type": "markdown",
   "id": "e5643f65-19ac-4ba4-a475-21e3d7bf6e54",
   "metadata": {},
   "source": [
    "## Declaring a Model"
   ]
  },
  {
   "cell_type": "markdown",
   "id": "20dcf5df-79b3-4a0e-bc6b-5114b44b61a3",
   "metadata": {},
   "source": [
    "If training appears successful, the result can be inserted into the `Model` table for automatic evaluation."
   ]
  },
  {
   "cell_type": "code",
   "execution_count": null,
   "id": "dfd2cf75",
   "metadata": {},
   "outputs": [],
   "source": [
    "paramset_desc='from_top_tracking-DJ-2022-02-23'\n",
    "\n",
    "config_path = find_full_path(get_dlc_root_data_dir()[0], \n",
    "                             paramset_desc + '/config.yaml')"
   ]
  },
  {
   "cell_type": "code",
   "execution_count": null,
   "metadata": {},
   "outputs": [],
   "source": [
    "model.Model.insert_new_model(model_name='from_top_tracking-DJ',dlc_config=config_path,\n",
    "                             shuffle=1,trainingsetindex=0,\n",
    "                             model_description='From Top, trained 5 iterations',\n",
    "                             paramset_idx=0)"
   ]
  },
  {
   "cell_type": "code",
   "execution_count": 20,
   "id": "ca8b2596",
   "metadata": {},
   "outputs": [],
   "source": [
    "paramset_desc='Head_orientation-NK-2023-07-17'\n",
    "\n",
    "config_path = find_full_path(get_dlc_root_data_dir()[1], \n",
    "                             paramset_desc + '/config.yaml')"
   ]
  },
  {
   "cell_type": "code",
   "execution_count": 21,
   "id": "9762e61c-0b14-4928-b7ac-3e73bab3f201",
   "metadata": {},
   "outputs": [
    {
     "name": "stderr",
     "output_type": "stream",
     "text": [
      "2023-07-27 13:33:30.378786: I tensorflow/core/platform/cpu_feature_guard.cc:193] This TensorFlow binary is optimized with oneAPI Deep Neural Network Library (oneDNN) to use the following CPU instructions in performance-critical operations:  AVX2 FMA\n",
      "To enable them in other operations, rebuild TensorFlow with the appropriate compiler flags.\n",
      "2023-07-27 13:33:30.502166: W tensorflow/stream_executor/platform/default/dso_loader.cc:64] Could not load dynamic library 'libcudart.so.11.0'; dlerror: libcudart.so.11.0: cannot open shared object file: No such file or directory; LD_LIBRARY_PATH: /home/tobiasr/.local/lib/python3.8/site-packages/cv2/../../lib64:\n",
      "2023-07-27 13:33:30.502186: I tensorflow/stream_executor/cuda/cudart_stub.cc:29] Ignore above cudart dlerror if you do not have a GPU set up on your machine.\n",
      "2023-07-27 13:33:30.532599: E tensorflow/stream_executor/cuda/cuda_blas.cc:2981] Unable to register cuBLAS factory: Attempting to register factory for plugin cuBLAS when one has already been registered\n",
      "2023-07-27 13:33:31.034129: W tensorflow/stream_executor/platform/default/dso_loader.cc:64] Could not load dynamic library 'libnvinfer.so.7'; dlerror: libnvinfer.so.7: cannot open shared object file: No such file or directory; LD_LIBRARY_PATH: /home/tobiasr/.local/lib/python3.8/site-packages/cv2/../../lib64:\n",
      "2023-07-27 13:33:31.034188: W tensorflow/stream_executor/platform/default/dso_loader.cc:64] Could not load dynamic library 'libnvinfer_plugin.so.7'; dlerror: libnvinfer_plugin.so.7: cannot open shared object file: No such file or directory; LD_LIBRARY_PATH: /home/tobiasr/.local/lib/python3.8/site-packages/cv2/../../lib64:\n",
      "2023-07-27 13:33:31.034194: W tensorflow/compiler/tf2tensorrt/utils/py_utils.cc:38] TF-TRT Warning: Cannot dlopen some TensorRT libraries. If you would like to use Nvidia GPU with TensorRT, please make sure the missing libraries mentioned above are installed properly.\n"
     ]
    },
    {
     "name": "stdout",
     "output_type": "stream",
     "text": [
      "Loading DLC 2.3.4...\n",
      "DLC loaded in light mode; you cannot use any GUI (labeling, relabeling and standalone GUI)\n",
      "--- DLC Model specification to be inserted ---\n",
      "\tmodel_name: Head_orientation-NK\n",
      "\tmodel_description: From Top, trained 5 iterations\n",
      "\tscorer: DLC_resnet50_Head_orientationJul17shuffle1_90000\n",
      "\ttask: Head_orientation\n",
      "\tdate: Jul17\n",
      "\titeration: 0\n",
      "\tsnapshotindex: 3\n",
      "\tshuffle: 1\n",
      "\ttrainingsetindex: 0\n",
      "\tproject_path: Head_orientation-NK-2023-07-17\n",
      "\tparamset_idx: 1\n",
      "\t-- Template/Contents of config.yaml --\n",
      "\t\tTask: Head_orientation\n",
      "\t\tscorer: NK\n",
      "\t\tdate: Jul17\n",
      "\t\tmultianimalproject: False\n",
      "\t\tidentity: None\n",
      "\t\tproject_path: /datajoint-data/data/tobiasr/DeepLabCutModels/NK_DLC_tracking/Head_orientation-NK-2023-07-17\n",
      "\t\tvideo_sets: {'/datajoint-data/data/tobiasr/DeepLabCutModels/NK_DLC_tracking/Head_orientation-NK-2023-07-17/videos/scan9FHF1JT7_top_video_2023-04-06T09_31_19.mp4': {'crop': '0, 1000, 0, 1000'}}\n",
      "\t\tbodyparts: ['left_ear', 'right_ear', 'nose', 'head_middle', 'neck', 'body_middle', 'tail']\n",
      "\t\tstart: 0\n",
      "\t\tstop: 1\n",
      "\t\tnumframes2pick: 100\n",
      "\t\tskeleton: [['bodypart1', 'bodypart2'], ['objectA', 'bodypart3']]\n",
      "\t\tskeleton_color: black\n",
      "\t\tpcutoff: 0.6\n",
      "\t\tdotsize: 12\n",
      "\t\talphavalue: 0.7\n",
      "\t\tcolormap: rainbow\n",
      "\t\tTrainingFraction: [0.95]\n",
      "\t\titeration: 0\n",
      "\t\tdefault_net_type: resnet_50\n",
      "\t\tdefault_augmenter: default\n",
      "\t\tsnapshotindex: 3\n",
      "\t\tbatch_size: 8\n",
      "\t\tcropping: False\n",
      "\t\tx1: 0\n",
      "\t\tx2: 640\n",
      "\t\ty1: 277\n",
      "\t\ty2: 624\n",
      "\t\tcorner2move2: [50, 50]\n",
      "\t\tmove2corner: True\n"
     ]
    }
   ],
   "source": [
    "model.Model.insert_new_model(model_name='Head_orientation-NK',dlc_config=config_path,\n",
    "                             shuffle=1,trainingsetindex=0,\n",
    "                             model_description='From Top, trained 5 iterations',\n",
    "                             paramset_idx=1)"
   ]
  },
  {
   "cell_type": "code",
   "execution_count": null,
   "id": "8ee99aec",
   "metadata": {},
   "outputs": [],
   "source": [
    "model.Model()"
   ]
  },
  {
   "cell_type": "code",
   "execution_count": null,
   "id": "cd143378",
   "metadata": {},
   "outputs": [],
   "source": [
    "model.VideoRecording * model.VideoRecording.File()"
   ]
  },
  {
   "cell_type": "code",
   "execution_count": null,
   "id": "ae2fb0d9-df98-4e10-ae06-c0d8c33bf67b",
   "metadata": {},
   "outputs": [],
   "source": [
    "model.Model().fetch(\"config_template\")"
   ]
  },
  {
   "cell_type": "code",
   "execution_count": null,
   "id": "862fdc0f-61a7-4955-8019-78b014ad527e",
   "metadata": {},
   "outputs": [],
   "source": [
    "model.Model.BodyPart()"
   ]
  },
  {
   "cell_type": "markdown",
   "id": "f71c877f-4f1d-40f7-a898-b3bcf695e603",
   "metadata": {},
   "source": [
    "## Model Evaluation"
   ]
  },
  {
   "cell_type": "markdown",
   "id": "0657e7b6-3969-4d16-b801-e05d222285d4",
   "metadata": {},
   "source": [
    "Next, all inserted models can be evaluated with a similar `populate` method, which will\n",
    "insert the relevant output from DLC's `evaluate_network` function."
   ]
  },
  {
   "cell_type": "code",
   "execution_count": null,
   "id": "2eb626c5-f1ed-4a86-a300-ddd8066e1ac5",
   "metadata": {},
   "outputs": [],
   "source": [
    "model.ModelEvaluation.heading"
   ]
  },
  {
   "cell_type": "code",
   "execution_count": null,
   "id": "baba5035",
   "metadata": {},
   "outputs": [],
   "source": [
    "model.ModelEvaluation.populate()"
   ]
  },
  {
   "cell_type": "markdown",
   "id": "1f77889f-efc6-41ed-9ae5-b5089bd2b6ef",
   "metadata": {},
   "source": [
    "If your project was initialized in a version of DeepLabCut other than the one you're currently using, model evaluation may report key errors. Specifically, your `config.yaml` may not specify `multianimalproject: false`."
   ]
  },
  {
   "cell_type": "code",
   "execution_count": null,
   "id": "8d52b8a7-e677-4f00-a720-2aed7a266fb3",
   "metadata": {},
   "outputs": [],
   "source": [
    "model.ModelEvaluation()"
   ]
  },
  {
   "cell_type": "code",
   "execution_count": null,
   "id": "4b1487ad",
   "metadata": {},
   "outputs": [],
   "source": [
    "model.RecordingInfo.populate()\n",
    "model.RecordingInfo() * model.VideoRecording.File()"
   ]
  },
  {
   "cell_type": "markdown",
   "id": "ad698f22-4d16-413a-a30c-84e28e7ec1db",
   "metadata": {},
   "source": [
    "## Pose Estimation"
   ]
  },
  {
   "cell_type": "code",
   "execution_count": 23,
   "id": "a51b8243-6ee2-44f5-a987-9abd10ce1b56",
   "metadata": {},
   "outputs": [
    {
     "data": {
      "text/plain": [
       "array(['/datajoint-data/data/tobiasr/RN_OPI-1681_2023-04-05_scan9FHELAYA_sess9FHELAYA/scan9FHELAYA_top_video_2023-04-05T15_19_53.mp4'],\n",
       "      dtype=object)"
      ]
     },
     "execution_count": 23,
     "metadata": {},
     "output_type": "execute_result"
    }
   ],
   "source": [
    "scansi = \"scan9FHELAYA\"\n",
    "scan_key = (scan.Scan & f'scan_id = \"{scansi}\"').fetch('KEY')[0] \n",
    "path = (model.VideoRecording.File & scan_key).fetch(\"file_path\")\n",
    "path"
   ]
  },
  {
   "cell_type": "markdown",
   "id": "e72c8868-3db0-4cda-98ab-96bbebc5bb0a",
   "metadata": {},
   "source": [
    "For demonstration purposes, we'll make a shorter video that will process relatively quickly `ffmpeg`, a DLC dependency ([more info here](https://github.com/datajoint/workflow-deeplabcut/blob/main/notebooks/00-DataDownload_Optional.ipynb))"
   ]
  },
  {
   "cell_type": "code",
   "execution_count": 46,
   "id": "20b11cf1-2bbc-4bc6-bc87-ca77f01676eb",
   "metadata": {},
   "outputs": [
    {
     "name": "stdout",
     "output_type": "stream",
     "text": [
      "/datajoint-data/data/tobiasr/RN_OPI-1681_2023-04-05_scan9FHELAYA_sess9FHELAYA/scan9FHELAYA_top_video_2023-04-05T15_19_53.mp4\n"
     ]
    },
    {
     "data": {
      "text/plain": [
       "0"
      ]
     },
     "execution_count": 46,
     "metadata": {},
     "output_type": "execute_result"
    }
   ],
   "source": [
    "from adamacs.paths import get_dlc_root_data_dir\n",
    "vid_path =  find_full_path(get_dlc_root_data_dir(), path[0][1::])\n",
    "print(vid_path)\n",
    "starttime = 0\n",
    "duration = 10\n",
    "cmd = (f'ffmpeg -n -hide_banner -loglevel error -ss {starttime} -t {duration} -i {vid_path} '\n",
    "       + f'-vcodec copy -acodec copy {vid_path}-copy.mp4')\n",
    "import os; os.system(cmd)"
   ]
  },
  {
   "cell_type": "code",
   "execution_count": 28,
   "id": "69f6228a",
   "metadata": {},
   "outputs": [
    {
     "name": "stderr",
     "output_type": "stream",
     "text": [
      "[2023-07-27 13:35:57,303][INFO]: Deleting 3 rows from `tobiasr_model`.`video_recording__file`\n",
      "[2023-07-27 13:35:57,314][INFO]: Deleting 3 rows from `tobiasr_model`.`video_recording`\n"
     ]
    },
    {
     "name": "stdout",
     "output_type": "stream",
     "text": [
      "Deletes committed.\n"
     ]
    },
    {
     "data": {
      "text/plain": [
       "3"
      ]
     },
     "execution_count": 28,
     "metadata": {},
     "output_type": "execute_result"
    }
   ],
   "source": [
    "model.VideoRecording.delete()"
   ]
  },
  {
   "cell_type": "markdown",
   "id": "fe97c0b2-28f3-44f7-b41c-114eb31e635b",
   "metadata": {},
   "source": [
    "Next, we need to specify if the `PoseEstimation` table should load results from an existing file or trigger the estimation command. Here, we can also specify parameters accepted by the `analyze_videos` function as a dictionary. `task_mode` determines if pose estimation results should be loaded or triggered (i.e., load vs. trigger)."
   ]
  },
  {
   "cell_type": "code",
   "execution_count": 131,
   "id": "c8d23bcb-39e3-4fb0-a911-30e89adc8a91",
   "metadata": {},
   "outputs": [
    {
     "data": {
      "text/plain": [
       "{'session_id': 'sess9FHELAYA',\n",
       " 'recording_id': 'scan9FHELAYA',\n",
       " 'model_name': 'Head_orientation-NK',\n",
       " 'task_mode': 'trigger'}"
      ]
     },
     "execution_count": 131,
     "metadata": {},
     "output_type": "execute_result"
    }
   ],
   "source": [
    "key = (model.VideoRecording & {'recording_id': 'scan9FHELAYA'}).fetch1('KEY')\n",
    "key.update({'model_name': 'Head_orientation-NK', 'task_mode': 'trigger'})\n",
    "key\n",
    "\n"
   ]
  },
  {
   "cell_type": "markdown",
   "id": "40deac79-d482-4777-b501-261410332d65",
   "metadata": {},
   "source": [
    "The `PoseEstimationTask` table queues items for pose estimation. Additional parameters are passed to DLC's `analyze_videos` function."
   ]
  },
  {
   "cell_type": "code",
   "execution_count": 121,
   "id": "ba216c1b-b608-4424-b7a1-f49795be0971",
   "metadata": {},
   "outputs": [],
   "source": [
    "# model.PoseEstimationTask.insert_estimation_task(key, key[\"model_name\"], analyze_videos_params={'save_as_csv':True})\n",
    "model.PoseEstimationTask.insert_estimation_task(key, key[\"model_name\"], analyze_videos_params={'save_as_csv':True, 'dynamic':(True,.5,100)}) # dynamic cropping"
   ]
  },
  {
   "cell_type": "code",
   "execution_count": 122,
   "id": "005e9af9",
   "metadata": {},
   "outputs": [
    {
     "data": {
      "text/html": [
       "\n",
       "    \n",
       "    <style type=\"text/css\">\n",
       "        .Relation{\n",
       "            border-collapse:collapse;\n",
       "        }\n",
       "        .Relation th{\n",
       "            background: #A0A0A0; color: #ffffff; padding:4px; border:#f0e0e0 1px solid;\n",
       "            font-weight: normal; font-family: monospace; font-size: 100%;\n",
       "        }\n",
       "        .Relation td{\n",
       "            padding:4px; border:#f0e0e0 1px solid; font-size:100%;\n",
       "        }\n",
       "        .Relation tr:nth-child(odd){\n",
       "            background: #ffffff;\n",
       "        }\n",
       "        .Relation tr:nth-child(even){\n",
       "            background: #f3f1ff;\n",
       "        }\n",
       "        /* Tooltip container */\n",
       "        .djtooltip {\n",
       "        }\n",
       "        /* Tooltip text */\n",
       "        .djtooltip .djtooltiptext {\n",
       "            visibility: hidden;\n",
       "            width: 120px;\n",
       "            background-color: black;\n",
       "            color: #fff;\n",
       "            text-align: center;\n",
       "            padding: 5px 0;\n",
       "            border-radius: 6px;\n",
       "            /* Position the tooltip text - see examples below! */\n",
       "            position: absolute;\n",
       "            z-index: 1;\n",
       "        }\n",
       "        #primary {\n",
       "            font-weight: bold;\n",
       "            color: black;\n",
       "        }\n",
       "        #nonprimary {\n",
       "            font-weight: normal;\n",
       "            color: white;\n",
       "        }\n",
       "\n",
       "        /* Show the tooltip text when you mouse over the tooltip container */\n",
       "        .djtooltip:hover .djtooltiptext {\n",
       "            visibility: visible;\n",
       "        }\n",
       "    </style>\n",
       "    \n",
       "    <b></b>\n",
       "        <div style=\"max-height:1000px;max-width:1500px;overflow:auto;\">\n",
       "        <table border=\"1\" class=\"Relation\">\n",
       "            <thead> <tr style=\"text-align: right;\"> <th> <div class=\"djtooltip\">\n",
       "                            <p id=\"primary\">session_id</p>\n",
       "                            <span class=\"djtooltiptext\"></span>\n",
       "                        </div></th><th><div class=\"djtooltip\">\n",
       "                            <p id=\"primary\">recording_id</p>\n",
       "                            <span class=\"djtooltiptext\"></span>\n",
       "                        </div></th><th><div class=\"djtooltip\">\n",
       "                            <p id=\"nonprimary\">px_height</p>\n",
       "                            <span class=\"djtooltiptext\">height in pixels</span>\n",
       "                        </div></th><th><div class=\"djtooltip\">\n",
       "                            <p id=\"nonprimary\">px_width</p>\n",
       "                            <span class=\"djtooltiptext\">width in pixels</span>\n",
       "                        </div></th><th><div class=\"djtooltip\">\n",
       "                            <p id=\"nonprimary\">nframes</p>\n",
       "                            <span class=\"djtooltiptext\">number of frames</span>\n",
       "                        </div></th><th><div class=\"djtooltip\">\n",
       "                            <p id=\"nonprimary\">fps</p>\n",
       "                            <span class=\"djtooltiptext\">(Hz) frames per second</span>\n",
       "                        </div></th><th><div class=\"djtooltip\">\n",
       "                            <p id=\"nonprimary\">recording_datetime</p>\n",
       "                            <span class=\"djtooltiptext\">Datetime for the start of the recording</span>\n",
       "                        </div></th><th><div class=\"djtooltip\">\n",
       "                            <p id=\"nonprimary\">recording_duration</p>\n",
       "                            <span class=\"djtooltiptext\">video duration (s) from nframes / fps</span>\n",
       "                        </div> </th> </tr> </thead>\n",
       "            <tbody> <tr> <td>sess9FHELAYA</td>\n",
       "<td>scan9FHELAYA</td>\n",
       "<td>1000</td>\n",
       "<td>1000</td>\n",
       "<td>3603</td>\n",
       "<td>60</td>\n",
       "<td>None</td>\n",
       "<td>60.05</td> </tr> </tbody>\n",
       "        </table>\n",
       "        \n",
       "        <p>Total: 1</p></div>\n",
       "        "
      ],
      "text/plain": [
       "*session_id    *recording_id  px_height     px_width     nframes     fps     recording_date recording_dura\n",
       "+------------+ +------------+ +-----------+ +----------+ +---------+ +-----+ +------------+ +------------+\n",
       "sess9FHELAYA   scan9FHELAYA   1000          1000         3603        60      None           60.05         \n",
       " (Total: 1)"
      ]
     },
     "execution_count": 122,
     "metadata": {},
     "output_type": "execute_result"
    }
   ],
   "source": [
    "model.RecordingInfo.populate()\n",
    "model.RecordingInfo()"
   ]
  },
  {
   "cell_type": "code",
   "execution_count": 123,
   "id": "7d1ad296-9ff5-4a2a-9ad0-8edc1ecb7ef3",
   "metadata": {},
   "outputs": [
    {
     "name": "stdout",
     "output_type": "stream",
     "text": [
      "Using snapshot-90000 for model /datajoint-data/data/tobiasr/DeepLabCutModels/NK_DLC_tracking/Head_orientation-NK-2023-07-17/dlc-models/iteration-0/Head_orientationJul17-trainset95shuffle1\n"
     ]
    },
    {
     "name": "stderr",
     "output_type": "stream",
     "text": [
      "/home/tobiasr/miniconda3/envs/datajoint/lib/python3.8/site-packages/tensorflow/python/keras/engine/base_layer_v1.py:1694: UserWarning: `layer.apply` is deprecated and will be removed in a future version. Please use `layer.__call__` method instead.\n",
      "  warnings.warn('`layer.apply` is deprecated and '\n"
     ]
    },
    {
     "name": "stdout",
     "output_type": "stream",
     "text": [
      "Starting to analyze %  /datajoint-data/data/tobiasr/RN_OPI-1681_2023-04-05_scan9FHELAYA_sess9FHELAYA/scan9FHELAYA_top_video_2023-04-05T15_19_53.mp4-copy.mp4\n",
      "Loading  /datajoint-data/data/tobiasr/RN_OPI-1681_2023-04-05_scan9FHELAYA_sess9FHELAYA/scan9FHELAYA_top_video_2023-04-05T15_19_53.mp4-copy.mp4\n",
      "Duration of video [s]:  10.05 , recorded with  60.0 fps!\n",
      "Overall # of frames:  603  found with (before cropping) frame dimensions:  1000 1000\n",
      "Starting to extract posture\n"
     ]
    },
    {
     "name": "stderr",
     "output_type": "stream",
     "text": [
      "100%|██████████████████████████████████████████████████████████████████████████████████████████████████████████████████████████████████████████████████████████████████████████████████████████████████████████████████████████████| 603/603 [02:31<00:00,  3.97it/s]"
     ]
    },
    {
     "name": "stdout",
     "output_type": "stream",
     "text": [
      "Saving results in /datajoint-data/data/tobiasr/RN_OPI-1681_2023-04-05_scan9FHELAYA_sess9FHELAYA/device_mini2p1_top_recording_scan9FHELAYA_model_Head_orientation-NK...\n",
      "Saving csv poses!\n",
      "The videos are analyzed. Now your research can truly start! \n",
      " You can create labeled videos with 'create_labeled_video'\n",
      "If the tracking is not satisfactory for some videos, consider expanding the training set. You can use the function 'extract_outlier_frames' to extract a few representative outlier frames.\n"
     ]
    },
    {
     "name": "stderr",
     "output_type": "stream",
     "text": [
      "\n"
     ]
    }
   ],
   "source": [
    "model.PoseEstimation.populate()"
   ]
  },
  {
   "cell_type": "code",
   "execution_count": 130,
   "id": "568cc787-f65f-4c44-ba96-091905b89534",
   "metadata": {},
   "outputs": [
    {
     "name": "stderr",
     "output_type": "stream",
     "text": [
      "[2023-07-27 14:25:10,429][INFO]: Deleting 7 rows from `tobiasr_model`.`__pose_estimation__body_part_position`\n",
      "INFO:datajoint:Deleting 7 rows from `tobiasr_model`.`__pose_estimation__body_part_position`\n",
      "[2023-07-27 14:25:10,432][INFO]: Deleting 1 rows from `tobiasr_model`.`__pose_estimation`\n",
      "INFO:datajoint:Deleting 1 rows from `tobiasr_model`.`__pose_estimation`\n",
      "[2023-07-27 14:25:10,435][INFO]: Deleting 1 rows from `tobiasr_model`.`pose_estimation_task`\n",
      "INFO:datajoint:Deleting 1 rows from `tobiasr_model`.`pose_estimation_task`\n",
      "[2023-07-27 14:25:11,690][INFO]: Deleting 0 rows from `tobiasr_model`.`__pose_estimation`\n",
      "INFO:datajoint:Deleting 0 rows from `tobiasr_model`.`__pose_estimation`\n"
     ]
    },
    {
     "name": "stdout",
     "output_type": "stream",
     "text": [
      "Deletes committed.\n",
      "Nothing to delete.\n"
     ]
    },
    {
     "data": {
      "text/plain": [
       "0"
      ]
     },
     "execution_count": 130,
     "metadata": {},
     "output_type": "execute_result"
    }
   ],
   "source": [
    "model.PoseEstimationTask().delete()\n",
    "model.PoseEstimation().delete()"
   ]
  },
  {
   "cell_type": "markdown",
   "id": "ab605a2b",
   "metadata": {},
   "source": [
    "# Data Evaluation"
   ]
  },
  {
   "cell_type": "markdown",
   "id": "91a3626a-abc9-4c21-87a5-96dcca15bc2f",
   "metadata": {},
   "source": [
    "By default, DataJoint will store the results of pose estimation in a subdirectory\n",
    ">  processed_dir / videos / device_<#>_recording_<#>_model_<name>\n",
    "\n",
    "Pulling processed_dir from `get_dlc_processed_dir`, and device/recording information \n",
    "from the `VideoRecording` table. The model name is taken from the primary key of the\n",
    "`Model` table, with spaced replaced by hyphens.\n",
    "    \n",
    "We can get this estimation directly as a pandas dataframe."
   ]
  },
  {
   "cell_type": "code",
   "execution_count": 124,
   "id": "9f5902f1-0934-4abc-9ae3-e720729400c4",
   "metadata": {},
   "outputs": [
    {
     "data": {
      "text/html": [
       "\n",
       "    \n",
       "    <style type=\"text/css\">\n",
       "        .Relation{\n",
       "            border-collapse:collapse;\n",
       "        }\n",
       "        .Relation th{\n",
       "            background: #A0A0A0; color: #ffffff; padding:4px; border:#f0e0e0 1px solid;\n",
       "            font-weight: normal; font-family: monospace; font-size: 100%;\n",
       "        }\n",
       "        .Relation td{\n",
       "            padding:4px; border:#f0e0e0 1px solid; font-size:100%;\n",
       "        }\n",
       "        .Relation tr:nth-child(odd){\n",
       "            background: #ffffff;\n",
       "        }\n",
       "        .Relation tr:nth-child(even){\n",
       "            background: #f3f1ff;\n",
       "        }\n",
       "        /* Tooltip container */\n",
       "        .djtooltip {\n",
       "        }\n",
       "        /* Tooltip text */\n",
       "        .djtooltip .djtooltiptext {\n",
       "            visibility: hidden;\n",
       "            width: 120px;\n",
       "            background-color: black;\n",
       "            color: #fff;\n",
       "            text-align: center;\n",
       "            padding: 5px 0;\n",
       "            border-radius: 6px;\n",
       "            /* Position the tooltip text - see examples below! */\n",
       "            position: absolute;\n",
       "            z-index: 1;\n",
       "        }\n",
       "        #primary {\n",
       "            font-weight: bold;\n",
       "            color: black;\n",
       "        }\n",
       "        #nonprimary {\n",
       "            font-weight: normal;\n",
       "            color: white;\n",
       "        }\n",
       "\n",
       "        /* Show the tooltip text when you mouse over the tooltip container */\n",
       "        .djtooltip:hover .djtooltiptext {\n",
       "            visibility: visible;\n",
       "        }\n",
       "    </style>\n",
       "    \n",
       "    <b>uses DeepLabCut h5 output for body part position</b>\n",
       "        <div style=\"max-height:1000px;max-width:1500px;overflow:auto;\">\n",
       "        <table border=\"1\" class=\"Relation\">\n",
       "            <thead> <tr style=\"text-align: right;\"> <th> <div class=\"djtooltip\">\n",
       "                            <p id=\"primary\">session_id</p>\n",
       "                            <span class=\"djtooltiptext\"></span>\n",
       "                        </div></th><th><div class=\"djtooltip\">\n",
       "                            <p id=\"primary\">recording_id</p>\n",
       "                            <span class=\"djtooltiptext\"></span>\n",
       "                        </div></th><th><div class=\"djtooltip\">\n",
       "                            <p id=\"primary\">model_name</p>\n",
       "                            <span class=\"djtooltiptext\">User-friendly model name</span>\n",
       "                        </div></th><th><div class=\"djtooltip\">\n",
       "                            <p id=\"primary\">body_part</p>\n",
       "                            <span class=\"djtooltiptext\"></span>\n",
       "                        </div></th><th><div class=\"djtooltip\">\n",
       "                            <p id=\"nonprimary\">frame_index</p>\n",
       "                            <span class=\"djtooltiptext\">frame index in model</span>\n",
       "                        </div></th><th><div class=\"djtooltip\">\n",
       "                            <p id=\"nonprimary\">x_pos</p>\n",
       "                            <span class=\"djtooltiptext\"></span>\n",
       "                        </div></th><th><div class=\"djtooltip\">\n",
       "                            <p id=\"nonprimary\">y_pos</p>\n",
       "                            <span class=\"djtooltiptext\"></span>\n",
       "                        </div></th><th><div class=\"djtooltip\">\n",
       "                            <p id=\"nonprimary\">z_pos</p>\n",
       "                            <span class=\"djtooltiptext\"></span>\n",
       "                        </div></th><th><div class=\"djtooltip\">\n",
       "                            <p id=\"nonprimary\">likelihood</p>\n",
       "                            <span class=\"djtooltiptext\"></span>\n",
       "                        </div> </th> </tr> </thead>\n",
       "            <tbody> <tr> <td>sess9FHELAYA</td>\n",
       "<td>scan9FHELAYA</td>\n",
       "<td>Head_orientation-NK</td>\n",
       "<td>body_middle</td>\n",
       "<td>=BLOB=</td>\n",
       "<td>=BLOB=</td>\n",
       "<td>=BLOB=</td>\n",
       "<td>=BLOB=</td>\n",
       "<td>=BLOB=</td></tr><tr><td>sess9FHELAYA</td>\n",
       "<td>scan9FHELAYA</td>\n",
       "<td>Head_orientation-NK</td>\n",
       "<td>head_middle</td>\n",
       "<td>=BLOB=</td>\n",
       "<td>=BLOB=</td>\n",
       "<td>=BLOB=</td>\n",
       "<td>=BLOB=</td>\n",
       "<td>=BLOB=</td></tr><tr><td>sess9FHELAYA</td>\n",
       "<td>scan9FHELAYA</td>\n",
       "<td>Head_orientation-NK</td>\n",
       "<td>left_ear</td>\n",
       "<td>=BLOB=</td>\n",
       "<td>=BLOB=</td>\n",
       "<td>=BLOB=</td>\n",
       "<td>=BLOB=</td>\n",
       "<td>=BLOB=</td></tr><tr><td>sess9FHELAYA</td>\n",
       "<td>scan9FHELAYA</td>\n",
       "<td>Head_orientation-NK</td>\n",
       "<td>neck</td>\n",
       "<td>=BLOB=</td>\n",
       "<td>=BLOB=</td>\n",
       "<td>=BLOB=</td>\n",
       "<td>=BLOB=</td>\n",
       "<td>=BLOB=</td></tr><tr><td>sess9FHELAYA</td>\n",
       "<td>scan9FHELAYA</td>\n",
       "<td>Head_orientation-NK</td>\n",
       "<td>nose</td>\n",
       "<td>=BLOB=</td>\n",
       "<td>=BLOB=</td>\n",
       "<td>=BLOB=</td>\n",
       "<td>=BLOB=</td>\n",
       "<td>=BLOB=</td></tr><tr><td>sess9FHELAYA</td>\n",
       "<td>scan9FHELAYA</td>\n",
       "<td>Head_orientation-NK</td>\n",
       "<td>right_ear</td>\n",
       "<td>=BLOB=</td>\n",
       "<td>=BLOB=</td>\n",
       "<td>=BLOB=</td>\n",
       "<td>=BLOB=</td>\n",
       "<td>=BLOB=</td></tr><tr><td>sess9FHELAYA</td>\n",
       "<td>scan9FHELAYA</td>\n",
       "<td>Head_orientation-NK</td>\n",
       "<td>tail</td>\n",
       "<td>=BLOB=</td>\n",
       "<td>=BLOB=</td>\n",
       "<td>=BLOB=</td>\n",
       "<td>=BLOB=</td>\n",
       "<td>=BLOB=</td> </tr> </tbody>\n",
       "        </table>\n",
       "        \n",
       "        <p>Total: 7</p></div>\n",
       "        "
      ],
      "text/plain": [
       "*session_id    *recording_id  *model_name    *body_part     frame_inde x_pos      y_pos      z_pos      likelihood\n",
       "+------------+ +------------+ +------------+ +------------+ +--------+ +--------+ +--------+ +--------+ +--------+\n",
       "sess9FHELAYA   scan9FHELAYA   Head_orientati body_middle    =BLOB=     =BLOB=     =BLOB=     =BLOB=     =BLOB=    \n",
       "sess9FHELAYA   scan9FHELAYA   Head_orientati head_middle    =BLOB=     =BLOB=     =BLOB=     =BLOB=     =BLOB=    \n",
       "sess9FHELAYA   scan9FHELAYA   Head_orientati left_ear       =BLOB=     =BLOB=     =BLOB=     =BLOB=     =BLOB=    \n",
       "sess9FHELAYA   scan9FHELAYA   Head_orientati neck           =BLOB=     =BLOB=     =BLOB=     =BLOB=     =BLOB=    \n",
       "sess9FHELAYA   scan9FHELAYA   Head_orientati nose           =BLOB=     =BLOB=     =BLOB=     =BLOB=     =BLOB=    \n",
       "sess9FHELAYA   scan9FHELAYA   Head_orientati right_ear      =BLOB=     =BLOB=     =BLOB=     =BLOB=     =BLOB=    \n",
       "sess9FHELAYA   scan9FHELAYA   Head_orientati tail           =BLOB=     =BLOB=     =BLOB=     =BLOB=     =BLOB=    \n",
       " (Total: 7)"
      ]
     },
     "execution_count": 124,
     "metadata": {},
     "output_type": "execute_result"
    }
   ],
   "source": [
    "model.PoseEstimation.BodyPartPosition() & scan_key"
   ]
  },
  {
   "cell_type": "code",
   "execution_count": 125,
   "id": "91d1e570",
   "metadata": {},
   "outputs": [
    {
     "data": {
      "text/plain": [
       "array(['/datajoint-data/data/tobiasr/RN_OPI-1681_2023-04-05_scan9FHELAYA_sess9FHELAYA/scan9FHELAYA_top_video_2023-04-05T15_19_53.mp4-copy.mp4'],\n",
       "      dtype=object)"
      ]
     },
     "execution_count": 125,
     "metadata": {},
     "output_type": "execute_result"
    }
   ],
   "source": [
    "scansi = \"scan9FHELAYA\"\n",
    "scan_key = (model.PoseEstimation & f'recording_id = \"{scansi}\"').fetch('KEY')[0] \n",
    "path = (model.VideoRecording.File & scan_key).fetch(\"file_path\")\n",
    "path"
   ]
  },
  {
   "cell_type": "code",
   "execution_count": 126,
   "id": "e348ffcf-312d-4664-947c-7970a79a2f16",
   "metadata": {},
   "outputs": [
    {
     "data": {
      "text/html": [
       "<div>\n",
       "<style scoped>\n",
       "    .dataframe tbody tr th:only-of-type {\n",
       "        vertical-align: middle;\n",
       "    }\n",
       "\n",
       "    .dataframe tbody tr th {\n",
       "        vertical-align: top;\n",
       "    }\n",
       "\n",
       "    .dataframe thead tr th {\n",
       "        text-align: left;\n",
       "    }\n",
       "</style>\n",
       "<table border=\"1\" class=\"dataframe\">\n",
       "  <thead>\n",
       "    <tr>\n",
       "      <th>scorer</th>\n",
       "      <th colspan=\"21\" halign=\"left\">Head_orientation-NK</th>\n",
       "    </tr>\n",
       "    <tr>\n",
       "      <th>bodyparts</th>\n",
       "      <th colspan=\"4\" halign=\"left\">body_middle</th>\n",
       "      <th colspan=\"4\" halign=\"left\">head_middle</th>\n",
       "      <th colspan=\"2\" halign=\"left\">left_ear</th>\n",
       "      <th>...</th>\n",
       "      <th colspan=\"2\" halign=\"left\">nose</th>\n",
       "      <th colspan=\"4\" halign=\"left\">right_ear</th>\n",
       "      <th colspan=\"4\" halign=\"left\">tail</th>\n",
       "    </tr>\n",
       "    <tr>\n",
       "      <th>coords</th>\n",
       "      <th>x</th>\n",
       "      <th>y</th>\n",
       "      <th>z</th>\n",
       "      <th>likelihood</th>\n",
       "      <th>x</th>\n",
       "      <th>y</th>\n",
       "      <th>z</th>\n",
       "      <th>likelihood</th>\n",
       "      <th>x</th>\n",
       "      <th>y</th>\n",
       "      <th>...</th>\n",
       "      <th>z</th>\n",
       "      <th>likelihood</th>\n",
       "      <th>x</th>\n",
       "      <th>y</th>\n",
       "      <th>z</th>\n",
       "      <th>likelihood</th>\n",
       "      <th>x</th>\n",
       "      <th>y</th>\n",
       "      <th>z</th>\n",
       "      <th>likelihood</th>\n",
       "    </tr>\n",
       "  </thead>\n",
       "  <tbody>\n",
       "    <tr>\n",
       "      <th>0</th>\n",
       "      <td>460.246979</td>\n",
       "      <td>855.983521</td>\n",
       "      <td>0.0</td>\n",
       "      <td>0.997851</td>\n",
       "      <td>380.738831</td>\n",
       "      <td>859.864197</td>\n",
       "      <td>0.0</td>\n",
       "      <td>0.960348</td>\n",
       "      <td>393.243683</td>\n",
       "      <td>878.373108</td>\n",
       "      <td>...</td>\n",
       "      <td>0.0</td>\n",
       "      <td>0.213514</td>\n",
       "      <td>390.024384</td>\n",
       "      <td>845.088318</td>\n",
       "      <td>0.0</td>\n",
       "      <td>0.745351</td>\n",
       "      <td>487.513000</td>\n",
       "      <td>861.669128</td>\n",
       "      <td>0.0</td>\n",
       "      <td>0.999002</td>\n",
       "    </tr>\n",
       "    <tr>\n",
       "      <th>1</th>\n",
       "      <td>458.828033</td>\n",
       "      <td>855.768677</td>\n",
       "      <td>0.0</td>\n",
       "      <td>0.997960</td>\n",
       "      <td>373.421967</td>\n",
       "      <td>862.058411</td>\n",
       "      <td>0.0</td>\n",
       "      <td>0.912822</td>\n",
       "      <td>386.833923</td>\n",
       "      <td>878.455750</td>\n",
       "      <td>...</td>\n",
       "      <td>0.0</td>\n",
       "      <td>0.162598</td>\n",
       "      <td>387.866943</td>\n",
       "      <td>847.462708</td>\n",
       "      <td>0.0</td>\n",
       "      <td>0.686224</td>\n",
       "      <td>484.235565</td>\n",
       "      <td>861.926758</td>\n",
       "      <td>0.0</td>\n",
       "      <td>0.999647</td>\n",
       "    </tr>\n",
       "    <tr>\n",
       "      <th>2</th>\n",
       "      <td>457.008698</td>\n",
       "      <td>856.073608</td>\n",
       "      <td>0.0</td>\n",
       "      <td>0.998856</td>\n",
       "      <td>366.799225</td>\n",
       "      <td>860.275146</td>\n",
       "      <td>0.0</td>\n",
       "      <td>0.921448</td>\n",
       "      <td>366.915558</td>\n",
       "      <td>873.032776</td>\n",
       "      <td>...</td>\n",
       "      <td>0.0</td>\n",
       "      <td>0.065097</td>\n",
       "      <td>386.702332</td>\n",
       "      <td>847.478821</td>\n",
       "      <td>0.0</td>\n",
       "      <td>0.522189</td>\n",
       "      <td>481.707062</td>\n",
       "      <td>861.348511</td>\n",
       "      <td>0.0</td>\n",
       "      <td>0.999775</td>\n",
       "    </tr>\n",
       "    <tr>\n",
       "      <th>3</th>\n",
       "      <td>455.438416</td>\n",
       "      <td>854.980347</td>\n",
       "      <td>0.0</td>\n",
       "      <td>0.998423</td>\n",
       "      <td>368.002136</td>\n",
       "      <td>860.548218</td>\n",
       "      <td>0.0</td>\n",
       "      <td>0.949071</td>\n",
       "      <td>383.696045</td>\n",
       "      <td>880.250427</td>\n",
       "      <td>...</td>\n",
       "      <td>0.0</td>\n",
       "      <td>0.088976</td>\n",
       "      <td>376.138885</td>\n",
       "      <td>847.368774</td>\n",
       "      <td>0.0</td>\n",
       "      <td>0.706119</td>\n",
       "      <td>479.934479</td>\n",
       "      <td>861.332275</td>\n",
       "      <td>0.0</td>\n",
       "      <td>0.999646</td>\n",
       "    </tr>\n",
       "    <tr>\n",
       "      <th>4</th>\n",
       "      <td>454.187164</td>\n",
       "      <td>855.474243</td>\n",
       "      <td>0.0</td>\n",
       "      <td>0.997923</td>\n",
       "      <td>368.466980</td>\n",
       "      <td>862.223755</td>\n",
       "      <td>0.0</td>\n",
       "      <td>0.986105</td>\n",
       "      <td>377.371643</td>\n",
       "      <td>881.222473</td>\n",
       "      <td>...</td>\n",
       "      <td>0.0</td>\n",
       "      <td>0.069884</td>\n",
       "      <td>380.678711</td>\n",
       "      <td>849.420837</td>\n",
       "      <td>0.0</td>\n",
       "      <td>0.795906</td>\n",
       "      <td>477.956482</td>\n",
       "      <td>861.925171</td>\n",
       "      <td>0.0</td>\n",
       "      <td>0.999565</td>\n",
       "    </tr>\n",
       "    <tr>\n",
       "      <th>...</th>\n",
       "      <td>...</td>\n",
       "      <td>...</td>\n",
       "      <td>...</td>\n",
       "      <td>...</td>\n",
       "      <td>...</td>\n",
       "      <td>...</td>\n",
       "      <td>...</td>\n",
       "      <td>...</td>\n",
       "      <td>...</td>\n",
       "      <td>...</td>\n",
       "      <td>...</td>\n",
       "      <td>...</td>\n",
       "      <td>...</td>\n",
       "      <td>...</td>\n",
       "      <td>...</td>\n",
       "      <td>...</td>\n",
       "      <td>...</td>\n",
       "      <td>...</td>\n",
       "      <td>...</td>\n",
       "      <td>...</td>\n",
       "      <td>...</td>\n",
       "    </tr>\n",
       "    <tr>\n",
       "      <th>598</th>\n",
       "      <td>257.349487</td>\n",
       "      <td>823.548828</td>\n",
       "      <td>0.0</td>\n",
       "      <td>0.999427</td>\n",
       "      <td>214.917847</td>\n",
       "      <td>778.749390</td>\n",
       "      <td>0.0</td>\n",
       "      <td>0.998397</td>\n",
       "      <td>208.156403</td>\n",
       "      <td>795.625061</td>\n",
       "      <td>...</td>\n",
       "      <td>0.0</td>\n",
       "      <td>0.108343</td>\n",
       "      <td>231.258575</td>\n",
       "      <td>772.008484</td>\n",
       "      <td>0.0</td>\n",
       "      <td>0.997109</td>\n",
       "      <td>273.528320</td>\n",
       "      <td>844.026733</td>\n",
       "      <td>0.0</td>\n",
       "      <td>0.999196</td>\n",
       "    </tr>\n",
       "    <tr>\n",
       "      <th>599</th>\n",
       "      <td>254.607132</td>\n",
       "      <td>820.940369</td>\n",
       "      <td>0.0</td>\n",
       "      <td>0.999146</td>\n",
       "      <td>209.222366</td>\n",
       "      <td>775.531738</td>\n",
       "      <td>0.0</td>\n",
       "      <td>0.999691</td>\n",
       "      <td>204.118637</td>\n",
       "      <td>794.570435</td>\n",
       "      <td>...</td>\n",
       "      <td>0.0</td>\n",
       "      <td>0.076571</td>\n",
       "      <td>227.296494</td>\n",
       "      <td>770.259216</td>\n",
       "      <td>0.0</td>\n",
       "      <td>0.999354</td>\n",
       "      <td>267.513947</td>\n",
       "      <td>842.404846</td>\n",
       "      <td>0.0</td>\n",
       "      <td>0.998021</td>\n",
       "    </tr>\n",
       "    <tr>\n",
       "      <th>600</th>\n",
       "      <td>249.512100</td>\n",
       "      <td>818.159668</td>\n",
       "      <td>0.0</td>\n",
       "      <td>0.998966</td>\n",
       "      <td>205.220444</td>\n",
       "      <td>773.121887</td>\n",
       "      <td>0.0</td>\n",
       "      <td>0.998967</td>\n",
       "      <td>196.071045</td>\n",
       "      <td>792.240662</td>\n",
       "      <td>...</td>\n",
       "      <td>0.0</td>\n",
       "      <td>0.166492</td>\n",
       "      <td>221.938965</td>\n",
       "      <td>765.470215</td>\n",
       "      <td>0.0</td>\n",
       "      <td>0.997764</td>\n",
       "      <td>263.765442</td>\n",
       "      <td>840.851746</td>\n",
       "      <td>0.0</td>\n",
       "      <td>0.999324</td>\n",
       "    </tr>\n",
       "    <tr>\n",
       "      <th>601</th>\n",
       "      <td>246.339035</td>\n",
       "      <td>815.202942</td>\n",
       "      <td>0.0</td>\n",
       "      <td>0.998944</td>\n",
       "      <td>200.757812</td>\n",
       "      <td>770.054260</td>\n",
       "      <td>0.0</td>\n",
       "      <td>0.999652</td>\n",
       "      <td>190.759537</td>\n",
       "      <td>788.553040</td>\n",
       "      <td>...</td>\n",
       "      <td>0.0</td>\n",
       "      <td>0.121612</td>\n",
       "      <td>217.852463</td>\n",
       "      <td>763.198730</td>\n",
       "      <td>0.0</td>\n",
       "      <td>0.995635</td>\n",
       "      <td>260.100952</td>\n",
       "      <td>838.567261</td>\n",
       "      <td>0.0</td>\n",
       "      <td>0.999634</td>\n",
       "    </tr>\n",
       "    <tr>\n",
       "      <th>602</th>\n",
       "      <td>238.316879</td>\n",
       "      <td>810.374390</td>\n",
       "      <td>0.0</td>\n",
       "      <td>0.998220</td>\n",
       "      <td>185.504562</td>\n",
       "      <td>764.361328</td>\n",
       "      <td>0.0</td>\n",
       "      <td>0.998246</td>\n",
       "      <td>177.232147</td>\n",
       "      <td>782.255127</td>\n",
       "      <td>...</td>\n",
       "      <td>0.0</td>\n",
       "      <td>0.132696</td>\n",
       "      <td>200.521591</td>\n",
       "      <td>757.182617</td>\n",
       "      <td>0.0</td>\n",
       "      <td>0.997629</td>\n",
       "      <td>256.839935</td>\n",
       "      <td>829.345825</td>\n",
       "      <td>0.0</td>\n",
       "      <td>0.998526</td>\n",
       "    </tr>\n",
       "  </tbody>\n",
       "</table>\n",
       "<p>603 rows × 28 columns</p>\n",
       "</div>"
      ],
      "text/plain": [
       "scorer    Head_orientation-NK                                           \n",
       "bodyparts         body_middle                             head_middle   \n",
       "coords                      x           y    z likelihood           x   \n",
       "0                  460.246979  855.983521  0.0   0.997851  380.738831  \\\n",
       "1                  458.828033  855.768677  0.0   0.997960  373.421967   \n",
       "2                  457.008698  856.073608  0.0   0.998856  366.799225   \n",
       "3                  455.438416  854.980347  0.0   0.998423  368.002136   \n",
       "4                  454.187164  855.474243  0.0   0.997923  368.466980   \n",
       "..                        ...         ...  ...        ...         ...   \n",
       "598                257.349487  823.548828  0.0   0.999427  214.917847   \n",
       "599                254.607132  820.940369  0.0   0.999146  209.222366   \n",
       "600                249.512100  818.159668  0.0   0.998966  205.220444   \n",
       "601                246.339035  815.202942  0.0   0.998944  200.757812   \n",
       "602                238.316879  810.374390  0.0   0.998220  185.504562   \n",
       "\n",
       "scorer                                                         ...        \n",
       "bodyparts                                left_ear              ... nose   \n",
       "coords              y    z likelihood           x           y  ...    z   \n",
       "0          859.864197  0.0   0.960348  393.243683  878.373108  ...  0.0  \\\n",
       "1          862.058411  0.0   0.912822  386.833923  878.455750  ...  0.0   \n",
       "2          860.275146  0.0   0.921448  366.915558  873.032776  ...  0.0   \n",
       "3          860.548218  0.0   0.949071  383.696045  880.250427  ...  0.0   \n",
       "4          862.223755  0.0   0.986105  377.371643  881.222473  ...  0.0   \n",
       "..                ...  ...        ...         ...         ...  ...  ...   \n",
       "598        778.749390  0.0   0.998397  208.156403  795.625061  ...  0.0   \n",
       "599        775.531738  0.0   0.999691  204.118637  794.570435  ...  0.0   \n",
       "600        773.121887  0.0   0.998967  196.071045  792.240662  ...  0.0   \n",
       "601        770.054260  0.0   0.999652  190.759537  788.553040  ...  0.0   \n",
       "602        764.361328  0.0   0.998246  177.232147  782.255127  ...  0.0   \n",
       "\n",
       "scorer                                                                     \n",
       "bodyparts              right_ear                                    tail   \n",
       "coords    likelihood           x           y    z likelihood           x   \n",
       "0           0.213514  390.024384  845.088318  0.0   0.745351  487.513000  \\\n",
       "1           0.162598  387.866943  847.462708  0.0   0.686224  484.235565   \n",
       "2           0.065097  386.702332  847.478821  0.0   0.522189  481.707062   \n",
       "3           0.088976  376.138885  847.368774  0.0   0.706119  479.934479   \n",
       "4           0.069884  380.678711  849.420837  0.0   0.795906  477.956482   \n",
       "..               ...         ...         ...  ...        ...         ...   \n",
       "598         0.108343  231.258575  772.008484  0.0   0.997109  273.528320   \n",
       "599         0.076571  227.296494  770.259216  0.0   0.999354  267.513947   \n",
       "600         0.166492  221.938965  765.470215  0.0   0.997764  263.765442   \n",
       "601         0.121612  217.852463  763.198730  0.0   0.995635  260.100952   \n",
       "602         0.132696  200.521591  757.182617  0.0   0.997629  256.839935   \n",
       "\n",
       "scorer                                 \n",
       "bodyparts                              \n",
       "coords              y    z likelihood  \n",
       "0          861.669128  0.0   0.999002  \n",
       "1          861.926758  0.0   0.999647  \n",
       "2          861.348511  0.0   0.999775  \n",
       "3          861.332275  0.0   0.999646  \n",
       "4          861.925171  0.0   0.999565  \n",
       "..                ...  ...        ...  \n",
       "598        844.026733  0.0   0.999196  \n",
       "599        842.404846  0.0   0.998021  \n",
       "600        840.851746  0.0   0.999324  \n",
       "601        838.567261  0.0   0.999634  \n",
       "602        829.345825  0.0   0.998526  \n",
       "\n",
       "[603 rows x 28 columns]"
      ]
     },
     "execution_count": 126,
     "metadata": {},
     "output_type": "execute_result"
    }
   ],
   "source": [
    "model.PoseEstimation.get_trajectory(scan_key)"
   ]
  },
  {
   "cell_type": "code",
   "execution_count": 127,
   "id": "55e195e7",
   "metadata": {},
   "outputs": [
    {
     "data": {
      "text/plain": [
       "[array([array([380.73883057, 373.42196655, 366.79922485, 368.00213623,\n",
       "               368.46697998, 367.32061768, 363.25109863, 363.73666382,\n",
       "               354.87908936, 351.59863281, 340.79199219, 339.62283325,\n",
       "               340.71844482, 340.19284058, 338.60888672, 326.39480591,\n",
       "               322.98330688, 322.16995239, 322.59417725, 317.05334473,\n",
       "               316.90167236, 318.43527222, 314.96539307, 309.43502808,\n",
       "               304.70928955, 299.26269531, 296.09545898, 296.99969482,\n",
       "               293.34564209, 289.00018311, 287.17715454, 285.00909424,\n",
       "               282.03897095, 278.91952515, 280.34313965, 280.5385437 ,\n",
       "               277.53591919, 279.05352783, 278.90155029, 276.34500122,\n",
       "               275.91629028, 277.08285522, 278.22796631, 276.35653687,\n",
       "               277.57382202, 280.56329346, 291.94937134, 292.70993042,\n",
       "               294.4145813 , 294.61749268, 303.00183105, 304.46551514,\n",
       "               308.43515015, 311.09768677, 309.87631226, 313.72634888,\n",
       "               320.92538452, 321.81552124, 326.85861206, 332.11062622,\n",
       "               335.50164795, 332.85098267, 335.98797607, 337.44992065,\n",
       "               337.56604004, 336.98751831, 335.24060059, 333.28048706,\n",
       "               332.328125  , 332.26116943, 331.32937622, 336.33538818,\n",
       "               339.4888916 , 339.26043701, 340.11547852, 345.95153809,\n",
       "               347.53274536, 349.25158691, 350.65274048, 353.51202393,\n",
       "               358.11340332, 361.51266479, 364.5508728 , 367.17080688,\n",
       "               371.73422241, 373.92907715, 379.24407959, 381.72595215,\n",
       "               387.64993286, 390.01586914, 393.48257446, 395.47003174,\n",
       "               398.95291138, 398.61148071, 393.72912598, 400.125     ,\n",
       "               399.59265137, 399.84146118, 401.64630127, 404.02999878,\n",
       "               404.91036987, 403.96890259, 403.01132202, 404.02630615,\n",
       "               404.27850342, 405.01272583, 406.37908936, 410.03790283,\n",
       "               409.49710083, 410.61557007, 410.83560181, 412.09628296,\n",
       "               413.51434326, 414.92593384, 414.71731567, 414.48745728,\n",
       "               415.26177979, 416.55267334, 417.05075073, 417.43557739,\n",
       "               418.690979  , 421.76889038, 421.23748779, 422.04705811,\n",
       "               423.10415649, 424.16479492, 425.2779541 , 421.82635498,\n",
       "               423.46298218, 425.63821411, 425.97891235, 426.74111938,\n",
       "               426.90936279, 426.27377319, 426.77410889, 426.60491943,\n",
       "               426.13604736, 427.10021973, 426.21328735, 425.59213257,\n",
       "               425.44592285, 421.96759033, 414.96124268, 416.45123291,\n",
       "               414.25540161, 411.90640259, 411.30987549, 409.93005371,\n",
       "               400.78170776, 394.23986816, 389.72241211, 388.16976929,\n",
       "               387.12991333, 386.97024536, 379.81900024, 377.05923462,\n",
       "               374.15158081, 370.0958252 , 368.23236084, 362.91995239,\n",
       "               360.34707642, 358.52368164, 352.79171753, 347.80282593,\n",
       "               343.77407837, 340.94366455, 338.09017944, 333.35501099,\n",
       "               330.82302856, 325.51150513, 319.04534912, 291.46130371,\n",
       "               288.95275879, 287.18829346, 286.04852295, 284.44772339,\n",
       "               281.5960083 , 284.98468018, 281.49603271, 278.52957153,\n",
       "               275.24276733, 272.46630859, 270.22946167, 269.38827515,\n",
       "               269.51037598, 267.37393188, 264.15286255, 265.52139282,\n",
       "               265.54229736, 264.73876953, 212.44758606, 212.75967407,\n",
       "               260.09524536, 259.62973022, 259.14849854, 259.14794922,\n",
       "               259.78057861, 263.5223999 , 260.20343018, 259.14535522,\n",
       "               257.66317749, 256.99761963, 255.63867188, 256.62768555,\n",
       "               258.25491333, 258.20123291, 257.10360718, 257.41317749,\n",
       "               256.53042603, 255.66316223, 254.74363708, 253.86334229,\n",
       "               254.31983948, 254.72120667, 254.67999268, 253.97563171,\n",
       "               253.74394226, 253.76280212, 253.74221802, 254.29325867,\n",
       "               254.83850098, 255.12400818, 255.77922058, 255.83673096,\n",
       "               255.78288269, 256.75564575, 258.6060791 , 259.94985962,\n",
       "               261.69146729, 262.90533447, 262.10266113, 263.26519775,\n",
       "               274.27587891, 276.64807129, 282.03845215, 276.7093811 ,\n",
       "               276.87469482, 275.02648926, 274.82278442, 270.89413452,\n",
       "               267.55358887, 264.55551147, 266.54916382, 273.65826416,\n",
       "               276.6993103 , 277.42160034, 271.32272339, 269.16830444,\n",
       "               269.10906982, 267.20986938, 264.47479248, 261.30541992,\n",
       "               258.42520142, 262.07995605, 259.85150146, 260.22164917,\n",
       "               261.82540894, 260.11645508, 260.83129883, 263.08255005,\n",
       "               267.9095459 , 263.27734375, 270.07766724, 270.0803833 ,\n",
       "               268.36209106, 268.01477051, 271.50653076, 277.18154907,\n",
       "               280.36245728, 275.8331604 , 275.04049683, 275.99804688,\n",
       "               278.08685303, 278.13040161, 278.33660889, 276.79016113,\n",
       "               274.0697937 , 273.78796387, 294.47436523, 295.51367188,\n",
       "               294.1368103 , 294.13616943, 294.0541687 , 293.4914856 ,\n",
       "               293.01074219, 292.16650391, 291.09429932, 290.64657593,\n",
       "               289.79867554, 288.8895874 , 288.24740601, 286.71575928,\n",
       "               286.0909729 , 285.70562744, 287.80010986, 288.89971924,\n",
       "               289.02755737, 289.34951782, 290.22558594, 290.95413208,\n",
       "               290.26763916, 289.97198486, 289.628479  , 288.53643799,\n",
       "               287.75204468, 287.49383545, 286.85366821, 286.49176025,\n",
       "               285.86169434, 285.66424561, 284.85250854, 284.17248535,\n",
       "               282.92337036, 282.18093872, 281.36669922, 280.91433716,\n",
       "               280.95217896, 281.39294434, 280.9598999 , 281.48318481,\n",
       "               280.52685547, 280.24887085, 280.49957275, 281.45324707,\n",
       "               281.93395996, 282.22320557, 281.25018311, 280.71463013,\n",
       "               279.79040527, 281.13400269, 280.11407471, 281.47027588,\n",
       "               281.36148071, 282.1413269 , 281.39974976, 281.13806152,\n",
       "               281.0932312 , 280.87054443, 280.39529419, 279.6612854 ,\n",
       "               279.99731445, 280.45297241, 280.5954895 , 280.57348633,\n",
       "               280.68673706, 280.53933716, 280.28039551, 280.1942749 ,\n",
       "               280.3548584 , 280.69851685, 281.00961304, 280.95214844,\n",
       "               280.29782104, 279.40029907, 278.91699219, 278.72808838,\n",
       "               279.30422974, 280.53009033, 281.19015503, 280.26217651,\n",
       "               280.58169556, 281.80316162, 281.29858398, 280.69760132,\n",
       "               280.43551636, 280.37680054, 279.94778442, 279.37542725,\n",
       "               279.73074341, 280.42831421, 281.20993042, 281.64370728,\n",
       "               281.41488647, 280.51702881, 280.02075195, 279.93167114,\n",
       "               280.36813354, 280.53384399, 280.64868164, 280.32937622,\n",
       "               280.01928711, 279.56561279, 279.01055908, 278.78897095,\n",
       "               278.44607544, 279.06433105, 279.51541138, 280.53131104,\n",
       "               280.52954102, 280.54388428, 281.48373413, 283.52801514,\n",
       "               284.99526978, 285.0803833 , 284.57843018, 285.38806152,\n",
       "               284.98962402, 285.23016357, 283.95062256, 283.83465576,\n",
       "               283.57904053, 283.27886963, 283.02905273, 282.86065674,\n",
       "               282.25274658, 281.81039429, 281.90914917, 282.60714722,\n",
       "               283.02755737, 282.87371826, 282.74041748, 282.90170288,\n",
       "               283.16931152, 283.11746216, 282.82000732, 282.26034546,\n",
       "               282.16506958, 282.44122314, 282.73458862, 282.73928833,\n",
       "               282.57501221, 282.30581665, 282.45358276, 282.44876099,\n",
       "               282.21835327, 282.03512573, 281.66775513, 281.32165527,\n",
       "               281.51342773, 281.2388916 , 280.69784546, 281.06454468,\n",
       "               280.2678833 , 280.18093872, 280.50894165, 281.14923096,\n",
       "               281.37701416, 281.39535522, 280.92001343, 280.98376465,\n",
       "               281.79360962, 280.88671875, 281.38134766, 281.46658325,\n",
       "               281.42144775, 281.32952881, 280.66390991, 281.52279663,\n",
       "               281.6361084 , 281.7432251 , 281.70452881, 281.43917847,\n",
       "               280.89859009, 280.27493286, 280.06515503, 280.26043701,\n",
       "               280.3762207 , 279.86190796, 279.79083252, 279.67697144,\n",
       "               279.33499146, 279.34881592, 279.56613159, 280.13223267,\n",
       "               281.63589478, 281.67416382, 282.53207397, 282.5227356 ,\n",
       "               281.46847534, 280.668396  , 280.27841187, 280.15219116,\n",
       "               281.44454956, 281.01123047, 280.48529053, 280.13922119,\n",
       "               280.21691895, 280.48797607, 279.90570068, 279.23135376,\n",
       "               278.76031494, 279.16009521, 279.47171021, 280.21841431,\n",
       "               280.91653442, 280.74624634, 280.31832886, 280.39291382,\n",
       "               280.89331055, 281.66543579, 283.31216431, 283.58728027,\n",
       "               283.6166687 , 283.54745483, 282.27026367, 283.25131226,\n",
       "               283.70910645, 283.92849731, 283.57977295, 283.43411255,\n",
       "               283.89953613, 284.25396729, 284.70761108, 284.83740234,\n",
       "               284.62469482, 284.14297485, 284.20455933, 284.2557373 ,\n",
       "               284.71057129, 285.19467163, 285.65667725, 285.76586914,\n",
       "               285.51141357, 284.81768799, 284.41769409, 284.7204895 ,\n",
       "               284.97668457, 285.29718018, 285.42456055, 285.49435425,\n",
       "               285.92819214, 286.12069702, 286.02655029, 285.72384644,\n",
       "               285.93490601, 286.57839966, 286.94372559, 287.31723022,\n",
       "               286.98812866, 287.36303711, 287.87863159, 287.80526733,\n",
       "               287.34063721, 286.43649292, 285.04998779, 285.57919312,\n",
       "               285.78677368, 285.59674072, 286.62799072, 287.26403809,\n",
       "               287.76651001, 288.74108887, 289.47555542, 290.71353149,\n",
       "               291.19415283, 292.42126465, 293.92837524, 295.11660767,\n",
       "               295.03723145, 295.7286377 , 295.74111938, 295.04989624,\n",
       "               294.24468994, 293.06332397, 292.4387207 , 291.86993408,\n",
       "               292.17956543, 291.35324097, 288.85217285, 288.93664551,\n",
       "               288.29415894, 288.56069946, 287.43988037, 285.47387695,\n",
       "               283.39956665, 284.18380737, 278.63555908, 279.81176758,\n",
       "               276.46749878, 276.49252319, 275.7918396 , 273.67974854,\n",
       "               270.29702759, 270.62857056, 270.38208008, 267.94311523,\n",
       "               266.49185181, 264.37002563, 264.54760742, 262.93746948,\n",
       "               261.88400269, 260.95431519, 257.4407959 , 255.24934387,\n",
       "               255.05563354, 253.10671997, 252.19433594, 248.60824585,\n",
       "               245.00610352, 242.44319153, 238.48632812, 235.5453949 ,\n",
       "               231.58061218, 229.41456604, 225.95906067, 224.36575317,\n",
       "               222.67765808, 219.64955139, 214.91784668, 209.22236633,\n",
       "               205.22044373, 200.7578125 , 185.50456238])             ],\n",
       "       dtype=object),\n",
       " array([array([859.86419678, 862.05841064, 860.27514648, 860.54821777,\n",
       "               862.22375488, 864.55169678, 868.8414917 , 870.44659424,\n",
       "               871.78820801, 873.75592041, 875.14813232, 876.21246338,\n",
       "               876.93048096, 878.78857422, 886.89483643, 882.81518555,\n",
       "               884.97784424, 883.11779785, 881.20611572, 884.20452881,\n",
       "               887.34259033, 892.19885254, 899.94244385, 903.2711792 ,\n",
       "               905.30224609, 906.6706543 , 908.47869873, 911.2456665 ,\n",
       "               914.93096924, 913.42407227, 916.40368652, 919.99530029,\n",
       "               920.00964355, 920.3996582 , 925.57019043, 929.96838379,\n",
       "               926.49780273, 924.17791748, 922.23248291, 919.4765625 ,\n",
       "               918.54626465, 916.59960938, 915.67700195, 914.83575439,\n",
       "               918.18902588, 920.66778564, 920.20153809, 921.1461792 ,\n",
       "               923.39111328, 924.8583374 , 924.01165771, 925.45147705,\n",
       "               924.82965088, 930.80059814, 936.32641602, 940.13500977,\n",
       "               940.99664307, 948.72589111, 952.31921387, 953.36541748,\n",
       "               954.61425781, 959.65985107, 956.55541992, 957.71606445,\n",
       "               956.99353027, 956.25372314, 954.92077637, 957.79754639,\n",
       "               956.97814941, 953.45153809, 957.00299072, 952.28594971,\n",
       "               952.33062744, 956.32116699, 947.91088867, 954.01953125,\n",
       "               951.46398926, 949.06616211, 948.49072266, 944.19268799,\n",
       "               943.66229248, 948.31469727, 944.94433594, 945.07452393,\n",
       "               947.34552002, 947.07049561, 948.69506836, 949.92993164,\n",
       "               951.48223877, 951.81890869, 951.45068359, 953.01196289,\n",
       "               950.97125244, 950.60687256, 950.94787598, 950.27050781,\n",
       "               950.75579834, 951.70092773, 951.35046387, 952.58990479,\n",
       "               954.91186523, 955.33129883, 955.11187744, 954.37255859,\n",
       "               954.6472168 , 954.21185303, 955.09515381, 955.54138184,\n",
       "               956.65893555, 958.24902344, 959.41851807, 961.1151123 ,\n",
       "               962.17138672, 962.93304443, 963.06384277, 963.29364014,\n",
       "               963.92706299, 964.56829834, 964.21435547, 964.82104492,\n",
       "               965.05932617, 963.18548584, 961.73876953, 960.55987549,\n",
       "               960.41265869, 961.07763672, 962.14459229, 965.46191406,\n",
       "               968.37683105, 970.01873779, 971.41790771, 971.83636475,\n",
       "               972.89715576, 973.18365479, 973.84301758, 973.95428467,\n",
       "               973.74237061, 972.88891602, 972.43707275, 973.33538818,\n",
       "               972.88983154, 972.20727539, 970.12225342, 969.78540039,\n",
       "               967.41949463, 965.17236328, 958.38006592, 957.9855957 ,\n",
       "               947.94934082, 948.53869629, 945.38012695, 945.24615479,\n",
       "               944.94573975, 948.01916504, 945.63085938, 945.09173584,\n",
       "               948.10656738, 937.6696167 , 942.13543701, 939.53039551,\n",
       "               935.96081543, 932.96661377, 928.39141846, 925.03729248,\n",
       "               923.15734863, 923.57470703, 925.00769043, 924.26159668,\n",
       "               924.86669922, 926.13171387, 928.27008057, 920.51031494,\n",
       "               923.75494385, 925.30883789, 923.66113281, 918.70629883,\n",
       "               914.51269531, 910.22436523, 905.01293945, 904.02612305,\n",
       "               900.74346924, 901.13378906, 902.55487061, 903.87200928,\n",
       "               903.91900635, 902.6184082 , 900.64221191, 894.72625732,\n",
       "               892.75109863, 895.04455566, 302.50921631, 301.80099487,\n",
       "               906.56787109, 904.98693848, 905.13116455, 904.68273926,\n",
       "               905.10614014, 896.52661133, 905.01885986, 908.07885742,\n",
       "               908.97375488, 909.48284912, 910.85546875, 909.23413086,\n",
       "               908.31121826, 909.7890625 , 910.3067627 , 910.00384521,\n",
       "               910.84777832, 911.27172852, 911.36743164, 911.63299561,\n",
       "               910.17401123, 909.62939453, 909.44592285, 909.74871826,\n",
       "               909.80786133, 909.86328125, 909.77130127, 910.67895508,\n",
       "               910.26672363, 910.26171875, 911.24517822, 912.24713135,\n",
       "               913.74700928, 916.38098145, 916.7253418 , 916.01049805,\n",
       "               917.05523682, 916.88500977, 921.60784912, 923.39215088,\n",
       "               929.84069824, 930.03112793, 928.44744873, 894.30072021,\n",
       "               892.88702393, 888.22039795, 891.55822754, 889.85882568,\n",
       "               891.14831543, 892.71472168, 894.73065186, 896.76422119,\n",
       "               898.11737061, 896.47375488, 894.58563232, 893.996521  ,\n",
       "               896.41479492, 897.95355225, 898.1975708 , 898.29614258,\n",
       "               896.15429688, 899.5647583 , 900.44891357, 901.53149414,\n",
       "               903.31463623, 901.734375  , 901.6852417 , 903.53741455,\n",
       "               903.04632568, 900.105896  , 905.65979004, 906.73468018,\n",
       "               909.36767578, 914.4175415 , 916.69055176, 919.02062988,\n",
       "               921.23931885, 921.46191406, 923.02441406, 923.85821533,\n",
       "               924.76574707, 924.69488525, 923.66369629, 922.99005127,\n",
       "               921.25622559, 920.42266846, 915.61315918, 915.80633545,\n",
       "               917.34606934, 917.41564941, 916.72113037, 916.1005249 ,\n",
       "               916.30883789, 916.38769531, 915.77319336, 915.50976562,\n",
       "               915.71203613, 915.58660889, 915.39520264, 915.83728027,\n",
       "               915.45751953, 914.73999023, 912.43878174, 910.66778564,\n",
       "               910.09838867, 911.7411499 , 912.53887939, 913.5335083 ,\n",
       "               914.53485107, 913.98474121, 913.10449219, 913.17175293,\n",
       "               913.58447266, 913.22503662, 913.5012207 , 912.29425049,\n",
       "               911.99536133, 911.57080078, 911.49194336, 911.57983398,\n",
       "               910.63824463, 909.78326416, 909.5838623 , 909.72906494,\n",
       "               910.03277588, 910.15289307, 910.35894775, 910.40948486,\n",
       "               910.25634766, 910.26153564, 910.65155029, 910.56463623,\n",
       "               910.68469238, 910.83270264, 911.74499512, 912.15917969,\n",
       "               912.2979126 , 911.49432373, 910.57684326, 909.69500732,\n",
       "               909.24041748, 909.90856934, 910.81213379, 912.55285645,\n",
       "               912.76159668, 912.6842041 , 913.03479004, 912.9831543 ,\n",
       "               913.15716553, 912.9776001 , 912.89178467, 912.81121826,\n",
       "               912.84326172, 912.73901367, 912.78137207, 912.62139893,\n",
       "               912.49645996, 912.53265381, 912.76348877, 912.98205566,\n",
       "               913.05566406, 912.95343018, 912.45074463, 912.36975098,\n",
       "               912.67608643, 912.71228027, 912.95776367, 913.24822998,\n",
       "               913.04315186, 912.0458374 , 911.41357422, 911.45843506,\n",
       "               911.4989624 , 911.42230225, 911.59838867, 911.56433105,\n",
       "               910.46069336, 909.82751465, 909.99572754, 909.58276367,\n",
       "               909.80548096, 910.24407959, 911.01226807, 910.94714355,\n",
       "               910.90313721, 910.7678833 , 910.5178833 , 910.32043457,\n",
       "               910.66540527, 910.80596924, 911.07318115, 910.76306152,\n",
       "               910.87518311, 911.6751709 , 911.63146973, 911.56170654,\n",
       "               911.82373047, 912.2434082 , 910.81512451, 910.20727539,\n",
       "               909.80426025, 909.1864624 , 908.60314941, 909.93334961,\n",
       "               909.84338379, 909.72808838, 908.91015625, 909.10540771,\n",
       "               909.16070557, 909.16949463, 909.37457275, 909.76837158,\n",
       "               909.98687744, 910.27819824, 910.49310303, 910.69104004,\n",
       "               910.79992676, 910.7276001 , 910.68676758, 910.81829834,\n",
       "               910.96435547, 911.17810059, 911.10290527, 910.90515137,\n",
       "               910.74780273, 910.80267334, 910.77142334, 910.82043457,\n",
       "               910.6451416 , 910.47344971, 910.21459961, 910.31188965,\n",
       "               910.60717773, 911.35333252, 911.77282715, 912.54949951,\n",
       "               912.98925781, 913.02416992, 912.90942383, 912.90655518,\n",
       "               912.95635986, 912.80328369, 912.52752686, 911.88653564,\n",
       "               911.40887451, 911.7645874 , 912.35717773, 912.29815674,\n",
       "               911.56469727, 912.24719238, 912.66131592, 913.34082031,\n",
       "               913.43737793, 913.35345459, 913.31781006, 912.87335205,\n",
       "               912.21777344, 911.7678833 , 911.22180176, 911.00384521,\n",
       "               910.27838135, 910.00366211, 909.79370117, 909.96734619,\n",
       "               909.85400391, 910.07061768, 909.84960938, 909.98846436,\n",
       "               910.16760254, 910.0760498 , 909.84881592, 909.59265137,\n",
       "               910.21453857, 908.49700928, 908.37200928, 908.67010498,\n",
       "               909.65063477, 910.46130371, 911.3057251 , 911.79205322,\n",
       "               911.27148438, 910.90258789, 911.10614014, 911.27514648,\n",
       "               911.5032959 , 911.71728516, 911.91644287, 911.70056152,\n",
       "               911.25292969, 911.39080811, 911.77923584, 911.76690674,\n",
       "               911.28387451, 911.45507812, 911.60778809, 911.40863037,\n",
       "               910.66937256, 909.55181885, 909.25183105, 909.05969238,\n",
       "               908.921875  , 909.96960449, 909.37524414, 909.75744629,\n",
       "               909.65911865, 909.71691895, 909.95428467, 910.23986816,\n",
       "               910.64489746, 910.57727051, 910.07873535, 909.75250244,\n",
       "               909.78552246, 910.14367676, 910.61151123, 910.8223877 ,\n",
       "               910.98626709, 910.70245361, 910.24511719, 909.65869141,\n",
       "               909.35192871, 909.87976074, 910.26147461, 910.16387939,\n",
       "               910.03491211, 909.77111816, 909.79571533, 909.74487305,\n",
       "               909.6449585 , 909.55664062, 909.67736816, 909.97979736,\n",
       "               910.19903564, 910.71417236, 911.27886963, 911.3024292 ,\n",
       "               910.64135742, 909.95031738, 909.33410645, 909.57409668,\n",
       "               908.85675049, 907.44342041, 905.54498291, 903.44073486,\n",
       "               901.92993164, 901.21496582, 900.93798828, 899.91821289,\n",
       "               899.5791626 , 898.99041748, 898.68280029, 897.82672119,\n",
       "               896.24206543, 894.08911133, 893.40527344, 892.90124512,\n",
       "               892.33642578, 891.11291504, 890.52032471, 889.2802124 ,\n",
       "               888.11688232, 886.33044434, 884.57843018, 882.41906738,\n",
       "               879.52313232, 877.04211426, 874.38952637, 872.22528076,\n",
       "               870.65740967, 869.31811523, 866.6149292 , 864.74511719,\n",
       "               864.13708496, 860.09661865, 855.42932129, 853.03112793,\n",
       "               850.17156982, 844.7053833 , 841.07006836, 837.54864502,\n",
       "               832.83258057, 828.71087646, 824.69647217, 821.70758057,\n",
       "               819.51641846, 816.9911499 , 812.77630615, 810.44897461,\n",
       "               807.61956787, 804.40771484, 800.76916504, 796.95318604,\n",
       "               795.8984375 , 796.28588867, 797.44927979, 796.22570801,\n",
       "               795.42095947, 795.34991455, 793.35040283, 793.19390869,\n",
       "               791.04907227, 788.77862549, 786.36920166, 783.00384521,\n",
       "               780.8684082 , 780.45294189, 778.74938965, 775.53173828,\n",
       "               773.12188721, 770.05426025, 764.36132812])             ],\n",
       "       dtype=object)]"
      ]
     },
     "execution_count": 127,
     "metadata": {},
     "output_type": "execute_result"
    }
   ],
   "source": [
    "(model.PoseEstimation.BodyPartPosition() & scan_key & 'body_part = \"head_middle\"').fetch(\"x_pos\", \"y_pos\")"
   ]
  },
  {
   "cell_type": "code",
   "execution_count": 128,
   "id": "45ae5b07",
   "metadata": {},
   "outputs": [
    {
     "data": {
      "text/html": [
       "<div>\n",
       "<style scoped>\n",
       "    .dataframe tbody tr th:only-of-type {\n",
       "        vertical-align: middle;\n",
       "    }\n",
       "\n",
       "    .dataframe tbody tr th {\n",
       "        vertical-align: top;\n",
       "    }\n",
       "\n",
       "    .dataframe thead tr th {\n",
       "        text-align: left;\n",
       "    }\n",
       "</style>\n",
       "<table border=\"1\" class=\"dataframe\">\n",
       "  <thead>\n",
       "    <tr>\n",
       "      <th>bodyparts</th>\n",
       "      <th colspan=\"2\" halign=\"left\">body_middle</th>\n",
       "      <th colspan=\"2\" halign=\"left\">head_middle</th>\n",
       "      <th colspan=\"2\" halign=\"left\">left_ear</th>\n",
       "      <th colspan=\"2\" halign=\"left\">neck</th>\n",
       "      <th colspan=\"2\" halign=\"left\">nose</th>\n",
       "      <th colspan=\"2\" halign=\"left\">right_ear</th>\n",
       "      <th colspan=\"2\" halign=\"left\">tail</th>\n",
       "    </tr>\n",
       "    <tr>\n",
       "      <th>coords</th>\n",
       "      <th>x</th>\n",
       "      <th>y</th>\n",
       "      <th>x</th>\n",
       "      <th>y</th>\n",
       "      <th>x</th>\n",
       "      <th>y</th>\n",
       "      <th>x</th>\n",
       "      <th>y</th>\n",
       "      <th>x</th>\n",
       "      <th>y</th>\n",
       "      <th>x</th>\n",
       "      <th>y</th>\n",
       "      <th>x</th>\n",
       "      <th>y</th>\n",
       "    </tr>\n",
       "  </thead>\n",
       "  <tbody>\n",
       "    <tr>\n",
       "      <th>0</th>\n",
       "      <td>460.246979</td>\n",
       "      <td>855.983521</td>\n",
       "      <td>380.738831</td>\n",
       "      <td>859.864197</td>\n",
       "      <td>393.243683</td>\n",
       "      <td>878.373108</td>\n",
       "      <td>396.091553</td>\n",
       "      <td>859.018005</td>\n",
       "      <td>354.869110</td>\n",
       "      <td>861.102112</td>\n",
       "      <td>390.024384</td>\n",
       "      <td>845.088318</td>\n",
       "      <td>487.513000</td>\n",
       "      <td>861.669128</td>\n",
       "    </tr>\n",
       "    <tr>\n",
       "      <th>1</th>\n",
       "      <td>458.828033</td>\n",
       "      <td>855.768677</td>\n",
       "      <td>373.421967</td>\n",
       "      <td>862.058411</td>\n",
       "      <td>386.833923</td>\n",
       "      <td>878.455750</td>\n",
       "      <td>393.634521</td>\n",
       "      <td>861.332642</td>\n",
       "      <td>353.445465</td>\n",
       "      <td>865.551636</td>\n",
       "      <td>387.866943</td>\n",
       "      <td>847.462708</td>\n",
       "      <td>484.235565</td>\n",
       "      <td>861.926758</td>\n",
       "    </tr>\n",
       "    <tr>\n",
       "      <th>2</th>\n",
       "      <td>457.008698</td>\n",
       "      <td>856.073608</td>\n",
       "      <td>366.799225</td>\n",
       "      <td>860.275146</td>\n",
       "      <td>366.915558</td>\n",
       "      <td>873.032776</td>\n",
       "      <td>389.202911</td>\n",
       "      <td>861.830139</td>\n",
       "      <td>346.696777</td>\n",
       "      <td>861.692566</td>\n",
       "      <td>386.702332</td>\n",
       "      <td>847.478821</td>\n",
       "      <td>481.707062</td>\n",
       "      <td>861.348511</td>\n",
       "    </tr>\n",
       "    <tr>\n",
       "      <th>3</th>\n",
       "      <td>455.438416</td>\n",
       "      <td>854.980347</td>\n",
       "      <td>368.002136</td>\n",
       "      <td>860.548218</td>\n",
       "      <td>383.696045</td>\n",
       "      <td>880.250427</td>\n",
       "      <td>387.417358</td>\n",
       "      <td>862.242554</td>\n",
       "      <td>340.240875</td>\n",
       "      <td>861.229492</td>\n",
       "      <td>376.138885</td>\n",
       "      <td>847.368774</td>\n",
       "      <td>479.934479</td>\n",
       "      <td>861.332275</td>\n",
       "    </tr>\n",
       "    <tr>\n",
       "      <th>4</th>\n",
       "      <td>454.187164</td>\n",
       "      <td>855.474243</td>\n",
       "      <td>368.466980</td>\n",
       "      <td>862.223755</td>\n",
       "      <td>377.371643</td>\n",
       "      <td>881.222473</td>\n",
       "      <td>385.916199</td>\n",
       "      <td>864.693176</td>\n",
       "      <td>358.974945</td>\n",
       "      <td>847.342712</td>\n",
       "      <td>380.678711</td>\n",
       "      <td>849.420837</td>\n",
       "      <td>477.956482</td>\n",
       "      <td>861.925171</td>\n",
       "    </tr>\n",
       "    <tr>\n",
       "      <th>...</th>\n",
       "      <td>...</td>\n",
       "      <td>...</td>\n",
       "      <td>...</td>\n",
       "      <td>...</td>\n",
       "      <td>...</td>\n",
       "      <td>...</td>\n",
       "      <td>...</td>\n",
       "      <td>...</td>\n",
       "      <td>...</td>\n",
       "      <td>...</td>\n",
       "      <td>...</td>\n",
       "      <td>...</td>\n",
       "      <td>...</td>\n",
       "      <td>...</td>\n",
       "    </tr>\n",
       "    <tr>\n",
       "      <th>598</th>\n",
       "      <td>257.349487</td>\n",
       "      <td>823.548828</td>\n",
       "      <td>214.917847</td>\n",
       "      <td>778.749390</td>\n",
       "      <td>208.156403</td>\n",
       "      <td>795.625061</td>\n",
       "      <td>222.469772</td>\n",
       "      <td>785.320923</td>\n",
       "      <td>223.136948</td>\n",
       "      <td>765.724915</td>\n",
       "      <td>231.258575</td>\n",
       "      <td>772.008484</td>\n",
       "      <td>273.528320</td>\n",
       "      <td>844.026733</td>\n",
       "    </tr>\n",
       "    <tr>\n",
       "      <th>599</th>\n",
       "      <td>254.607132</td>\n",
       "      <td>820.940369</td>\n",
       "      <td>209.222366</td>\n",
       "      <td>775.531738</td>\n",
       "      <td>204.118637</td>\n",
       "      <td>794.570435</td>\n",
       "      <td>219.218597</td>\n",
       "      <td>785.212646</td>\n",
       "      <td>216.450653</td>\n",
       "      <td>764.140015</td>\n",
       "      <td>227.296494</td>\n",
       "      <td>770.259216</td>\n",
       "      <td>267.513947</td>\n",
       "      <td>842.404846</td>\n",
       "    </tr>\n",
       "    <tr>\n",
       "      <th>600</th>\n",
       "      <td>249.512100</td>\n",
       "      <td>818.159668</td>\n",
       "      <td>205.220444</td>\n",
       "      <td>773.121887</td>\n",
       "      <td>196.071045</td>\n",
       "      <td>792.240662</td>\n",
       "      <td>214.346451</td>\n",
       "      <td>782.822327</td>\n",
       "      <td>204.573425</td>\n",
       "      <td>762.590820</td>\n",
       "      <td>221.938965</td>\n",
       "      <td>765.470215</td>\n",
       "      <td>263.765442</td>\n",
       "      <td>840.851746</td>\n",
       "    </tr>\n",
       "    <tr>\n",
       "      <th>601</th>\n",
       "      <td>246.339035</td>\n",
       "      <td>815.202942</td>\n",
       "      <td>200.757812</td>\n",
       "      <td>770.054260</td>\n",
       "      <td>190.759537</td>\n",
       "      <td>788.553040</td>\n",
       "      <td>209.129517</td>\n",
       "      <td>778.886353</td>\n",
       "      <td>203.199249</td>\n",
       "      <td>756.219971</td>\n",
       "      <td>217.852463</td>\n",
       "      <td>763.198730</td>\n",
       "      <td>260.100952</td>\n",
       "      <td>838.567261</td>\n",
       "    </tr>\n",
       "    <tr>\n",
       "      <th>602</th>\n",
       "      <td>238.316879</td>\n",
       "      <td>810.374390</td>\n",
       "      <td>185.504562</td>\n",
       "      <td>764.361328</td>\n",
       "      <td>177.232147</td>\n",
       "      <td>782.255127</td>\n",
       "      <td>193.003204</td>\n",
       "      <td>770.879761</td>\n",
       "      <td>188.614365</td>\n",
       "      <td>751.951782</td>\n",
       "      <td>200.521591</td>\n",
       "      <td>757.182617</td>\n",
       "      <td>256.839935</td>\n",
       "      <td>829.345825</td>\n",
       "    </tr>\n",
       "  </tbody>\n",
       "</table>\n",
       "<p>603 rows × 14 columns</p>\n",
       "</div>"
      ],
      "text/plain": [
       "bodyparts body_middle             head_middle                left_ear   \n",
       "coords              x           y           x           y           x   \n",
       "0          460.246979  855.983521  380.738831  859.864197  393.243683  \\\n",
       "1          458.828033  855.768677  373.421967  862.058411  386.833923   \n",
       "2          457.008698  856.073608  366.799225  860.275146  366.915558   \n",
       "3          455.438416  854.980347  368.002136  860.548218  383.696045   \n",
       "4          454.187164  855.474243  368.466980  862.223755  377.371643   \n",
       "..                ...         ...         ...         ...         ...   \n",
       "598        257.349487  823.548828  214.917847  778.749390  208.156403   \n",
       "599        254.607132  820.940369  209.222366  775.531738  204.118637   \n",
       "600        249.512100  818.159668  205.220444  773.121887  196.071045   \n",
       "601        246.339035  815.202942  200.757812  770.054260  190.759537   \n",
       "602        238.316879  810.374390  185.504562  764.361328  177.232147   \n",
       "\n",
       "bodyparts                    neck                    nose               \n",
       "coords              y           x           y           x           y   \n",
       "0          878.373108  396.091553  859.018005  354.869110  861.102112  \\\n",
       "1          878.455750  393.634521  861.332642  353.445465  865.551636   \n",
       "2          873.032776  389.202911  861.830139  346.696777  861.692566   \n",
       "3          880.250427  387.417358  862.242554  340.240875  861.229492   \n",
       "4          881.222473  385.916199  864.693176  358.974945  847.342712   \n",
       "..                ...         ...         ...         ...         ...   \n",
       "598        795.625061  222.469772  785.320923  223.136948  765.724915   \n",
       "599        794.570435  219.218597  785.212646  216.450653  764.140015   \n",
       "600        792.240662  214.346451  782.822327  204.573425  762.590820   \n",
       "601        788.553040  209.129517  778.886353  203.199249  756.219971   \n",
       "602        782.255127  193.003204  770.879761  188.614365  751.951782   \n",
       "\n",
       "bodyparts   right_ear                    tail              \n",
       "coords              x           y           x           y  \n",
       "0          390.024384  845.088318  487.513000  861.669128  \n",
       "1          387.866943  847.462708  484.235565  861.926758  \n",
       "2          386.702332  847.478821  481.707062  861.348511  \n",
       "3          376.138885  847.368774  479.934479  861.332275  \n",
       "4          380.678711  849.420837  477.956482  861.925171  \n",
       "..                ...         ...         ...         ...  \n",
       "598        231.258575  772.008484  273.528320  844.026733  \n",
       "599        227.296494  770.259216  267.513947  842.404846  \n",
       "600        221.938965  765.470215  263.765442  840.851746  \n",
       "601        217.852463  763.198730  260.100952  838.567261  \n",
       "602        200.521591  757.182617  256.839935  829.345825  \n",
       "\n",
       "[603 rows x 14 columns]"
      ]
     },
     "execution_count": 128,
     "metadata": {},
     "output_type": "execute_result"
    }
   ],
   "source": [
    "#reduce dataframe to xy coordinates\n",
    "df=model.PoseEstimation.get_trajectory(scan_key)\n",
    "df_xy = df.iloc[:,df.columns.get_level_values(2).isin([\"x\",\"y\"])]['Head_orientation-NK']\n",
    "# df_xy.mean()\n",
    "df_xy"
   ]
  },
  {
   "cell_type": "code",
   "execution_count": 129,
   "id": "19fbbbd5",
   "metadata": {},
   "outputs": [
    {
     "data": {
      "text/plain": [
       "<matplotlib.legend.Legend at 0x7fddeb7a7790>"
      ]
     },
     "execution_count": 129,
     "metadata": {},
     "output_type": "execute_result"
    },
    {
     "data": {
      "image/png": "[encoded data removed]",
      "text/plain": [
       "<Figure size 640x480 with 1 Axes>"
      ]
     },
     "metadata": {},
     "output_type": "display_data"
    }
   ],
   "source": [
    "df_xy.plot().legend(loc='right')"
   ]
  },
  {
   "cell_type": "code",
   "execution_count": null,
   "id": "5b090586",
   "metadata": {},
   "outputs": [],
   "source": [
    "df_flat = df_xy.copy()\n",
    "df_flat.columns = df_flat.columns.map('_'.join)"
   ]
  },
  {
   "cell_type": "code",
   "execution_count": null,
   "id": "76d432a7",
   "metadata": {},
   "outputs": [],
   "source": [
    "import matplotlib.pyplot as plt \n",
    "fig,ax=plt.subplots()\n",
    "df_flat.plot(x='body_middle_x',y='body_middle_y',ax=ax)\n",
    "df_flat.plot(x='head_middle_x',y='head_middle_y', ax=ax)\n",
    "df_flat.plot(x='tail_x',y='tail_y', ax=ax)"
   ]
  },
  {
   "cell_type": "code",
   "execution_count": 74,
   "id": "4efdeb48",
   "metadata": {},
   "outputs": [
    {
     "data": {
      "text/plain": [
       "PosixPath('/datajoint-data/data/tobiasr/RN_OPI-1681_2023-04-05_scan9FHELAYA_sess9FHELAYA/device_mini2p1_top_recording_scan9FHELAYA_model_Head_orientation-NK')"
      ]
     },
     "execution_count": 74,
     "metadata": {},
     "output_type": "execute_result"
    }
   ],
   "source": [
    "destfolder = model.PoseEstimationTask.infer_output_dir(key)\n",
    "destfolder"
   ]
  },
  {
   "cell_type": "code",
   "execution_count": 75,
   "id": "44f083b6",
   "metadata": {},
   "outputs": [
    {
     "name": "stdout",
     "output_type": "stream",
     "text": [
      "Starting to process video: /datajoint-data/data/tobiasr/RN_OPI-1681_2023-04-05_scan9FHELAYA_sess9FHELAYA/scan9FHELAYA_top_video_2023-04-05T15_19_53.mp4-copy.mp4\n",
      "Loading /datajoint-data/data/tobiasr/RN_OPI-1681_2023-04-05_scan9FHELAYA_sess9FHELAYA/scan9FHELAYA_top_video_2023-04-05T15_19_53.mp4-copy.mp4 and data.\n",
      "Duration of video [s]: 10.05, recorded with 60.0 fps!\n",
      "Overall # of frames: 603 with cropped frame dimensions: 1000 1000\n",
      "Generating frames and creating video.\n"
     ]
    },
    {
     "name": "stderr",
     "output_type": "stream",
     "text": [
      "100%|█████████████████████████████████████████████████████████████████████████████████████████████████████████████████████████████████████████████████████████████████████████████████████████████████████████████████████████████| 603/603 [00:04<00:00, 130.04it/s]\n"
     ]
    },
    {
     "data": {
      "text/plain": [
       "[True]"
      ]
     },
     "execution_count": 75,
     "metadata": {},
     "output_type": "execute_result"
    }
   ],
   "source": [
    "from deeplabcut.utils.make_labeled_video import create_labeled_video\n",
    "\n",
    "video_path = find_full_path( # Fetch the full video path\n",
    "    get_dlc_root_data_dir(), ((model.VideoRecording.File & key).fetch1(\"file_path\"))\n",
    ")\n",
    "\n",
    "config_paths = sorted( # Of configs in the project path, defer to the datajoint-saved\n",
    "    list(\n",
    "        find_full_path(\n",
    "            get_dlc_root_data_dir(), ((model.Model & key).fetch1(\"project_path\"))\n",
    "        ).glob(\"*.y*ml\")\n",
    "    )\n",
    ")\n",
    "\n",
    "create_labeled_video( # Pass strings to label the video\n",
    "    config=str(config_paths[-1]),\n",
    "    videos=str(video_path),\n",
    "    destfolder=str(destfolder),\n",
    ")\n",
    "\n",
    "# list(list(pathlib.Path((model.VideoRecording.File & key).fetch1(\"file_path\")).parent.glob(\"device*\"))[0].glob(\"*.y*ml\"))"
   ]
  },
  {
   "cell_type": "code",
   "execution_count": 59,
   "id": "09b16bb6",
   "metadata": {},
   "outputs": [
    {
     "ename": "IndexError",
     "evalue": "list index out of range",
     "output_type": "error",
     "traceback": [
      "\u001b[0;31m---------------------------------------------------------------------------\u001b[0m",
      "\u001b[0;31mIndexError\u001b[0m                                Traceback (most recent call last)",
      "\u001b[1;32m/home/tobiasr/adamacs/notebooks/05_DeepLabCut.ipynb Cell 99\u001b[0m in \u001b[0;36m<cell line: 1>\u001b[0;34m()\u001b[0m\n\u001b[0;32m----> <a href='vscode-notebook-cell://ssh-remote%2B172.26.128.53/home/tobiasr/adamacs/notebooks/05_DeepLabCut.ipynb#Y165sdnNjb2RlLXJlbW90ZQ%3D%3D?line=0'>1</a>\u001b[0m moviepath \u001b[39m=\u001b[39m \u001b[39mstr\u001b[39m(\u001b[39mlist\u001b[39;49m(pathlib\u001b[39m.\u001b[39;49mPath((model\u001b[39m.\u001b[39;49mVideoRecording\u001b[39m.\u001b[39;49mFile \u001b[39m&\u001b[39;49m key)\u001b[39m.\u001b[39;49mfetch1(\u001b[39m\"\u001b[39;49m\u001b[39mfile_path\u001b[39;49m\u001b[39m\"\u001b[39;49m))\u001b[39m.\u001b[39;49mglob(\u001b[39m\"\u001b[39;49m\u001b[39m*53.mp4\u001b[39;49m\u001b[39m\"\u001b[39;49m))[\u001b[39m0\u001b[39;49m])\n\u001b[1;32m      <a href='vscode-notebook-cell://ssh-remote%2B172.26.128.53/home/tobiasr/adamacs/notebooks/05_DeepLabCut.ipynb#Y165sdnNjb2RlLXJlbW90ZQ%3D%3D?line=1'>2</a>\u001b[0m moviepath\n",
      "\u001b[0;31mIndexError\u001b[0m: list index out of range"
     ]
    }
   ],
   "source": [
    "moviepath = str(list(pathlib.Path((model.VideoRecording.File & key).fetch1(\"file_path\")).glob(\"*53.mp4\"))[0])\n",
    "moviepath\n"
   ]
  },
  {
   "cell_type": "code",
   "execution_count": null,
   "id": "20402c74",
   "metadata": {},
   "outputs": [],
   "source": [
    "(model.VideoRecording.File & key).fetch1(\"file_path\")"
   ]
  },
  {
   "cell_type": "code",
   "execution_count": null,
   "id": "74d56a41",
   "metadata": {},
   "outputs": [],
   "source": [
    "list(list(pathlib.Path((model.VideoRecording.File & key).fetch1(\"file_path\")).parent.glob(\"device*\"))[0].glob(\"*.y*ml\"))"
   ]
  },
  {
   "cell_type": "code",
   "execution_count": null,
   "metadata": {},
   "outputs": [],
   "source": []
  }
 ],
 "metadata": {
  "kernelspec": {
   "display_name": "Python 3 (ipykernel)",
   "language": "python",
   "name": "python3"
  },
  "language_info": {
   "codemirror_mode": {
    "name": "ipython",
    "version": 3
   },
   "file_extension": ".py",
   "mimetype": "text/x-python",
   "name": "python",
   "nbconvert_exporter": "python",
   "pygments_lexer": "ipython3",
   "version": "3.8.16"
  },
  "vscode": {
   "interpreter": {
    "hash": "965cf972b663dbe25e7de0e0fe8e177cbbce2d7cfe110ae892c33d6669c5eb24"
   }
  }
 },
 "nbformat": 4,
 "nbformat_minor": 5
}
