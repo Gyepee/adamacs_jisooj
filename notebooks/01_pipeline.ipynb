{
 "cells": [
  {
   "cell_type": "markdown",
   "id": "211fb11c-9578-4d06-82a9-4269c293b599",
   "metadata": {},
   "source": [
    "# Pipeline Activation"
   ]
  },
  {
   "cell_type": "markdown",
   "id": "c152098b-b7ec-4d17-93b6-d0d8320cc90a",
   "metadata": {},
   "source": [
    "## Setup"
   ]
  },
  {
   "cell_type": "markdown",
   "id": "31465ce8-abfe-4dff-9948-9afd2c7a1253",
   "metadata": {},
   "source": [
    "First, login information. If you are don't have your login information, contact the administrator. To set this information, you can\n",
    "1. One can either change to a directory with a local config file `dj_local_conf.json`, example below.\n",
    "2. Set these permissions on a machine globally (see [documentation](https://docs.datajoint.org/python/v0.13/setup/01-Install-and-Connect.html))\n",
    "3. Set these values for each session.\n",
    "\n",
    "Example local config:\n",
    "```json\n",
    "{\n",
    "    \"database.host\": \"host\",\n",
    "    \"database.password\": \"pass\",\n",
    "    \"database.user\": \"USER\",\n",
    "    \"database.port\": 3306,\n",
    "    \"database.reconnect\": true,\n",
    "    \"connection.init_function\": null,\n",
    "    \"connection.charset\": \"\",\n",
    "    \"loglevel\": \"INFO\",\n",
    "    \"safemode\": true,\n",
    "    \"fetch_format\": \"array\",\n",
    "    \"display.limit\": 12,\n",
    "    \"display.width\": 14,\n",
    "    \"display.show_tuple_count\": true,\n",
    "    \"database.use_tls\": null,\n",
    "    \"enable_python_native_blobs\": true,\n",
    "    \"database.ingest_filename_short\": \"\",\n",
    "    \"database.ingest_filename_full\": \"\",\n",
    "    \"custom\": {\n",
    "        \"database.prefix\": \"adamacs_\",\n",
    "        \"dlc_root_data_dir\": [\n",
    "            \"/My/Local/Dir1\",\n",
    "            \"/My/Local/Dir2\"\n",
    "        ],\n",
    "        \"dlc_output_dir\": \"/My/Local/Dir3/optional\",\n",
    "        \"imaging_root_data_dir\" : [\n",
    "            \"/My/Local/Dir4\",\n",
    "            \"/My/Local/Dir5\"\n",
    "        ],\n",
    "        \"pyrat_user_token\": \"token\",\n",
    "        \"pyrat_client_token\": \"token\"\n",
    "    }\n",
    "}\n",
    "\n",
    "```"
   ]
  },
  {
   "cell_type": "markdown",
   "id": "08538e7a-074a-46d7-96b5-7f4d77375da9",
   "metadata": {},
   "source": [
    "Move to detect local config:"
   ]
  },
  {
   "cell_type": "code",
   "execution_count": null,
   "id": "016819d5-3623-4dce-9e8c-0410579ac69b",
   "metadata": {},
   "outputs": [],
   "source": [
    "import os\n",
    "# change to the upper level folder to detect dj_local_conf.json\n",
    "if os.path.basename(os.getcwd())=='notebooks': os.chdir('..')\n",
    "assert os.path.basename(os.getcwd())=='adamacs', (\"Please move to the main directory\")\n",
    "from adamacs.pipeline import subject, session\n",
    "import datajoint as dj"
   ]
  },
  {
   "cell_type": "code",
   "execution_count": null,
   "id": "3bae565c-0450-4a6a-b9c1-11eb72c1dbc8",
   "metadata": {},
   "outputs": [],
   "source": [
    "import os\n",
    "if os.path.basename(os.getcwd())=='notebooks': os.chdir('..')\n",
    "assert os.path.basename(os.getcwd())=='adamacs', (\"Please move to the main directory\")\n",
    "import datajoint as dj; dj.conn()"
   ]
  },
  {
   "cell_type": "markdown",
   "id": "ed77c1c0-8341-4dbe-8be6-5f20f152cb24",
   "metadata": {},
   "source": [
    "Alternatively, set login information during this session:"
   ]
  },
  {
   "cell_type": "code",
   "execution_count": null,
   "id": "b44e65cd-b898-4ca8-9017-0985e38ad6de",
   "metadata": {},
   "outputs": [],
   "source": [
    "import datajoint as dj; import getpass\n",
    "dj.config['database.host'] = '172.26.128.53'\n",
    "dj.config['database.user'] = 'danielmk'\n",
    "dj.config['database.password'] = getpass.getpass() # enter the password securily\n",
    "dj.conn()"
   ]
  },
  {
   "cell_type": "markdown",
   "id": "4f1c49c5-22aa-41e4-863c-23bb1d104333",
   "metadata": {},
   "source": [
    "## Activation"
   ]
  },
  {
   "cell_type": "markdown",
   "id": "a74f3d80-8744-47cc-a705-a6c2445ae58c",
   "metadata": {},
   "source": [
    "Next, activate the schema. \n",
    "\n",
    "`adamacs/pipeline.py` includes all the pieces required to activate the whole pipeline via import."
   ]
  },
  {
   "cell_type": "code",
   "execution_count": null,
   "id": "a271fd94-f9de-4832-acef-48634209ef04",
   "metadata": {},
   "outputs": [],
   "source": [
    "from adamacs.pipeline import subject, session, surgery, session, behavior, equipment, \\\n",
    "                             imaging, scan, train, model"
   ]
  },
  {
   "cell_type": "markdown",
   "id": "4b7eb9ea-41ec-4957-9046-c7fcf4c35990",
   "metadata": {},
   "source": [
    "To visualize the pipeline, we can generate diagrams for any combination of schemas."
   ]
  },
  {
   "cell_type": "code",
   "execution_count": null,
   "id": "bf715a61-0134-4dc7-a5ce-a393406dcbf3",
   "metadata": {
    "scrolled": true
   },
   "outputs": [],
   "source": [
    "dj.Diagram(session) + dj.Diagram(subject)"
   ]
  },
  {
   "cell_type": "code",
   "execution_count": null,
   "id": "a7bfb955-8df2-4537-86e5-e86863052a42",
   "metadata": {
    "scrolled": true
   },
   "outputs": [],
   "source": [
    "dj.Diagram(subject) + dj.Diagram(behavior) "
   ]
  },
  {
   "cell_type": "code",
   "execution_count": null,
   "id": "dcd34047-4e4a-4d52-a6b0-1585c41ee3e0",
   "metadata": {},
   "outputs": [],
   "source": [
    "dj.Diagram(subject) + dj.Diagram(model)"
   ]
  }
 ],
 "metadata": {
  "jupytext": {
   "formats": "ipynb,py"
  },
  "kernelspec": {
   "display_name": "datajoint",
   "language": "python",
   "name": "python3"
  },
  "language_info": {
   "codemirror_mode": {
    "name": "ipython",
    "version": 3
   },
   "file_extension": ".py",
   "mimetype": "text/x-python",
   "name": "python",
   "nbconvert_exporter": "python",
   "pygments_lexer": "ipython3",
   "version": "3.8.13 (default, Mar 28 2022, 06:16:26) \n[Clang 12.0.0 ]"
  },
  "vscode": {
   "interpreter": {
    "hash": "b6b88a8194cd92b549912c5fccf4f99c3c2f8b37389322b86781a2268700b256"
   }
  }
 },
 "nbformat": 4,
 "nbformat_minor": 5
}
