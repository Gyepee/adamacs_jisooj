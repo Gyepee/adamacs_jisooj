{
 "cells": [
  {
   "cell_type": "markdown",
   "id": "211fb11c-9578-4d06-82a9-4269c293b599",
   "metadata": {},
   "source": [
    "# Pipeline Activation"
   ]
  },
  {
   "cell_type": "markdown",
   "id": "c152098b-b7ec-4d17-93b6-d0d8320cc90a",
   "metadata": {},
   "source": [
    "## Setup"
   ]
  },
  {
   "cell_type": "markdown",
   "id": "31465ce8-abfe-4dff-9948-9afd2c7a1253",
   "metadata": {},
   "source": [
    "First, login information. If you are don't have your login information, contact the administrator. To set this information, you can\n",
    "1. One can either change to a directory with a local config file `dj_local_conf.json`, example below.\n",
    "2. Set these permissions on a machine globally (see [documentation](https://docs.datajoint.org/python/v0.13/setup/01-Install-and-Connect.html))\n",
    "3. Set these values for each session.\n",
    "\n",
    "Example local config:\n",
    "```json\n",
    "{\n",
    "    \"database.host\": \"host\",\n",
    "    \"database.password\": \"pass\",\n",
    "    \"database.user\": \"USER\",\n",
    "    \"database.port\": 3306,\n",
    "    \"database.reconnect\": true,\n",
    "    \"connection.init_function\": null,\n",
    "    \"connection.charset\": \"\",\n",
    "    \"loglevel\": \"INFO\",\n",
    "    \"safemode\": true,\n",
    "    \"fetch_format\": \"array\",\n",
    "    \"display.limit\": 12,\n",
    "    \"display.width\": 14,\n",
    "    \"display.show_tuple_count\": true,\n",
    "    \"database.use_tls\": null,\n",
    "    \"enable_python_native_blobs\": true,\n",
    "    \"database.ingest_filename_short\": \"\",\n",
    "    \"database.ingest_filename_full\": \"\",\n",
    "    \"custom\": {\n",
    "        \"database.prefix\": \"adamacs_\",\n",
    "        \"dlc_root_data_dir\": [\n",
    "            \"/My/Local/Dir1\",\n",
    "            \"/My/Local/Dir2\"\n",
    "        ],\n",
    "        \"dlc_output_dir\": \"/My/Local/Dir3/optional\",\n",
    "        \"imaging_root_data_dir\" : [\n",
    "            \"/My/Local/Dir4\",\n",
    "            \"/My/Local/Dir5\"\n",
    "        ],\n",
    "        \"pyrat_user_token\": \"token\",\n",
    "        \"pyrat_client_token\": \"token\"\n",
    "    }\n",
    "}\n",
    "\n",
    "```"
   ]
  },
  {
   "cell_type": "markdown",
   "id": "08538e7a-074a-46d7-96b5-7f4d77375da9",
   "metadata": {},
   "source": [
    "Move to detect local config:"
   ]
  },
  {
   "cell_type": "code",
   "execution_count": 1,
   "id": "016819d5-3623-4dce-9e8c-0410579ac69b",
   "metadata": {},
   "outputs": [
    {
     "name": "stderr",
     "output_type": "stream",
     "text": [
      "[2023-01-09 15:09:03,810][INFO]: Connecting tobiasr@172.26.128.53:3306\n",
      "[2023-01-09 15:09:03,862][INFO]: Connected tobiasr@172.26.128.53:3306\n"
     ]
    },
    {
     "name": "stdout",
     "output_type": "stream",
     "text": [
      "Loading DLC 2.2.1.1...\n"
     ]
    },
    {
     "name": "stderr",
     "output_type": "stream",
     "text": [
      "/Users/trose/opt/miniconda3/envs/datajoint/lib/python3.8/site-packages/statsmodels/compat/pandas.py:65: FutureWarning: pandas.Int64Index is deprecated and will be removed from pandas in a future version. Use pandas.Index with the appropriate dtype instead.\n",
      "  from pandas import Int64Index as NumericIndex\n"
     ]
    },
    {
     "name": "stdout",
     "output_type": "stream",
     "text": [
      "DLC loaded in light mode; you cannot use any GUI (labeling, relabeling and standalone GUI)\n"
     ]
    }
   ],
   "source": [
    "import os\n",
    "# change to the upper level folder to detect dj_local_conf.json\n",
    "if os.path.basename(os.getcwd())=='notebooks': os.chdir('..')\n",
    "assert os.path.basename(os.getcwd())=='adamacs', (\"Please move to the main directory\")\n",
    "from adamacs.pipeline import subject, session\n",
    "import datajoint as dj"
   ]
  },
  {
   "cell_type": "code",
   "execution_count": null,
   "id": "3bae565c-0450-4a6a-b9c1-11eb72c1dbc8",
   "metadata": {},
   "outputs": [],
   "source": [
    "import os\n",
    "if os.path.basename(os.getcwd())=='notebooks': os.chdir('..')\n",
    "assert os.path.basename(os.getcwd())=='adamacs', (\"Please move to the main directory\")\n",
    "import datajoint as dj; dj.conn()"
   ]
  },
  {
   "cell_type": "markdown",
   "id": "ed77c1c0-8341-4dbe-8be6-5f20f152cb24",
   "metadata": {},
   "source": [
    "Alternatively, set login information during this session:"
   ]
  },
  {
   "cell_type": "code",
   "execution_count": null,
   "id": "b44e65cd-b898-4ca8-9017-0985e38ad6de",
   "metadata": {},
   "outputs": [],
   "source": [
    "import datajoint as dj; import getpass\n",
    "dj.config['database.host'] = '172.26.128.53'\n",
    "dj.config['database.user'] = 'danielmk'\n",
    "dj.config['database.password'] = getpass.getpass() # enter the password securily\n",
    "dj.conn()"
   ]
  },
  {
   "cell_type": "markdown",
   "id": "4f1c49c5-22aa-41e4-863c-23bb1d104333",
   "metadata": {},
   "source": [
    "## Activation"
   ]
  },
  {
   "cell_type": "markdown",
   "id": "a74f3d80-8744-47cc-a705-a6c2445ae58c",
   "metadata": {},
   "source": [
    "Next, activate the schema. \n",
    "\n",
    "`adamacs/pipeline.py` includes all the pieces required to activate the whole pipeline via import."
   ]
  },
  {
   "cell_type": "code",
   "execution_count": 2,
   "id": "a271fd94-f9de-4832-acef-48634209ef04",
   "metadata": {},
   "outputs": [],
   "source": [
    "from adamacs.pipeline import subject, session, surgery, session, behavior, equipment, \\\n",
    "                             imaging, scan, train, model"
   ]
  },
  {
   "cell_type": "markdown",
   "id": "4b7eb9ea-41ec-4957-9046-c7fcf4c35990",
   "metadata": {},
   "source": [
    "To visualize the pipeline, we can generate diagrams for any combination of schemas."
   ]
  },
  {
   "cell_type": "code",
   "execution_count": 3,
   "id": "bf715a61-0134-4dc7-a5ce-a393406dcbf3",
   "metadata": {
    "scrolled": true
   },
   "outputs": [
    {
     "name": "stderr",
     "output_type": "stream",
     "text": [
      "/Users/trose/opt/miniconda3/envs/datajoint/lib/python3.8/inspect.py:350: FutureWarning: pandas.Float64Index is deprecated and will be removed from pandas in a future version. Use pandas.Index with the appropriate dtype instead.\n",
      "  value = getattr(object, key)\n",
      "/Users/trose/opt/miniconda3/envs/datajoint/lib/python3.8/inspect.py:350: FutureWarning: pandas.Int64Index is deprecated and will be removed from pandas in a future version. Use pandas.Index with the appropriate dtype instead.\n",
      "  value = getattr(object, key)\n",
      "/Users/trose/opt/miniconda3/envs/datajoint/lib/python3.8/inspect.py:350: FutureWarning: pandas.UInt64Index is deprecated and will be removed from pandas in a future version. Use pandas.Index with the appropriate dtype instead.\n",
      "  value = getattr(object, key)\n"
     ]
    },
    {
     "ename": "TypeError",
     "evalue": "argument of type 'bool' is not iterable",
     "output_type": "error",
     "traceback": [
      "\u001b[0;31m---------------------------------------------------------------------------\u001b[0m",
      "\u001b[0;31mTypeError\u001b[0m                                 Traceback (most recent call last)",
      "File \u001b[0;32m~/opt/miniconda3/envs/datajoint/lib/python3.8/site-packages/IPython/core/formatters.py:342\u001b[0m, in \u001b[0;36mBaseFormatter.__call__\u001b[0;34m(self, obj)\u001b[0m\n\u001b[1;32m    340\u001b[0m     method \u001b[38;5;241m=\u001b[39m get_real_method(obj, \u001b[38;5;28mself\u001b[39m\u001b[38;5;241m.\u001b[39mprint_method)\n\u001b[1;32m    341\u001b[0m     \u001b[38;5;28;01mif\u001b[39;00m method \u001b[38;5;129;01mis\u001b[39;00m \u001b[38;5;129;01mnot\u001b[39;00m \u001b[38;5;28;01mNone\u001b[39;00m:\n\u001b[0;32m--> 342\u001b[0m         \u001b[38;5;28;01mreturn\u001b[39;00m \u001b[43mmethod\u001b[49m\u001b[43m(\u001b[49m\u001b[43m)\u001b[49m\n\u001b[1;32m    343\u001b[0m     \u001b[38;5;28;01mreturn\u001b[39;00m \u001b[38;5;28;01mNone\u001b[39;00m\n\u001b[1;32m    344\u001b[0m \u001b[38;5;28;01melse\u001b[39;00m:\n",
      "File \u001b[0;32m~/opt/miniconda3/envs/datajoint/lib/python3.8/site-packages/datajoint/diagram.py:440\u001b[0m, in \u001b[0;36mDiagram._repr_svg_\u001b[0;34m(self)\u001b[0m\n\u001b[1;32m    439\u001b[0m \u001b[38;5;28;01mdef\u001b[39;00m \u001b[38;5;21m_repr_svg_\u001b[39m(\u001b[38;5;28mself\u001b[39m):\n\u001b[0;32m--> 440\u001b[0m     \u001b[38;5;28;01mreturn\u001b[39;00m \u001b[38;5;28;43mself\u001b[39;49m\u001b[38;5;241;43m.\u001b[39;49m\u001b[43mmake_svg\u001b[49m\u001b[43m(\u001b[49m\u001b[43m)\u001b[49m\u001b[38;5;241m.\u001b[39m_repr_svg_()\n",
      "File \u001b[0;32m~/opt/miniconda3/envs/datajoint/lib/python3.8/site-packages/datajoint/diagram.py:428\u001b[0m, in \u001b[0;36mDiagram.make_svg\u001b[0;34m(self)\u001b[0m\n\u001b[1;32m    425\u001b[0m \u001b[38;5;28;01mdef\u001b[39;00m \u001b[38;5;21mmake_svg\u001b[39m(\u001b[38;5;28mself\u001b[39m):\n\u001b[1;32m    426\u001b[0m     \u001b[38;5;28;01mfrom\u001b[39;00m \u001b[38;5;21;01mIPython\u001b[39;00m\u001b[38;5;21;01m.\u001b[39;00m\u001b[38;5;21;01mdisplay\u001b[39;00m \u001b[38;5;28;01mimport\u001b[39;00m SVG\n\u001b[0;32m--> 428\u001b[0m     \u001b[38;5;28;01mreturn\u001b[39;00m SVG(\u001b[38;5;28;43mself\u001b[39;49m\u001b[38;5;241;43m.\u001b[39;49m\u001b[43mmake_dot\u001b[49m\u001b[43m(\u001b[49m\u001b[43m)\u001b[49m\u001b[38;5;241m.\u001b[39mcreate_svg())\n",
      "File \u001b[0;32m~/opt/miniconda3/envs/datajoint/lib/python3.8/site-packages/datajoint/diagram.py:373\u001b[0m, in \u001b[0;36mDiagram.make_dot\u001b[0;34m(self)\u001b[0m\n\u001b[1;32m    310\u001b[0m label_props \u001b[38;5;241m=\u001b[39m {  \u001b[38;5;66;03m# http://matplotlib.org/examples/color/named_colors.html\u001b[39;00m\n\u001b[1;32m    311\u001b[0m     \u001b[38;5;28;01mNone\u001b[39;00m: \u001b[38;5;28mdict\u001b[39m(\n\u001b[1;32m    312\u001b[0m         shape\u001b[38;5;241m=\u001b[39m\u001b[38;5;124m\"\u001b[39m\u001b[38;5;124mcircle\u001b[39m\u001b[38;5;124m\"\u001b[39m,\n\u001b[0;32m   (...)\u001b[0m\n\u001b[1;32m    366\u001b[0m     ),\n\u001b[1;32m    367\u001b[0m }\n\u001b[1;32m    368\u001b[0m node_props \u001b[38;5;241m=\u001b[39m {\n\u001b[1;32m    369\u001b[0m     node: label_props[d[\u001b[38;5;124m\"\u001b[39m\u001b[38;5;124mnode_type\u001b[39m\u001b[38;5;124m\"\u001b[39m]]\n\u001b[1;32m    370\u001b[0m     \u001b[38;5;28;01mfor\u001b[39;00m node, d \u001b[38;5;129;01min\u001b[39;00m \u001b[38;5;28mdict\u001b[39m(graph\u001b[38;5;241m.\u001b[39mnodes(data\u001b[38;5;241m=\u001b[39m\u001b[38;5;28;01mTrue\u001b[39;00m))\u001b[38;5;241m.\u001b[39mitems()\n\u001b[1;32m    371\u001b[0m }\n\u001b[0;32m--> 373\u001b[0m dot \u001b[38;5;241m=\u001b[39m \u001b[43mnx\u001b[49m\u001b[38;5;241;43m.\u001b[39;49m\u001b[43mdrawing\u001b[49m\u001b[38;5;241;43m.\u001b[39;49m\u001b[43mnx_pydot\u001b[49m\u001b[38;5;241;43m.\u001b[39;49m\u001b[43mto_pydot\u001b[49m\u001b[43m(\u001b[49m\u001b[43mgraph\u001b[49m\u001b[43m)\u001b[49m\n\u001b[1;32m    374\u001b[0m \u001b[38;5;28;01mfor\u001b[39;00m node \u001b[38;5;129;01min\u001b[39;00m dot\u001b[38;5;241m.\u001b[39mget_nodes():\n\u001b[1;32m    375\u001b[0m     node\u001b[38;5;241m.\u001b[39mset_shape(\u001b[38;5;124m\"\u001b[39m\u001b[38;5;124mcircle\u001b[39m\u001b[38;5;124m\"\u001b[39m)\n",
      "File \u001b[0;32m~/opt/miniconda3/envs/datajoint/lib/python3.8/site-packages/networkx/drawing/nx_pydot.py:302\u001b[0m, in \u001b[0;36mto_pydot\u001b[0;34m(N)\u001b[0m\n\u001b[1;32m    296\u001b[0m str_edgedata \u001b[38;5;241m=\u001b[39m {k: \u001b[38;5;28mstr\u001b[39m(v) \u001b[38;5;28;01mfor\u001b[39;00m k, v \u001b[38;5;129;01min\u001b[39;00m edgedata\u001b[38;5;241m.\u001b[39mitems()}\n\u001b[1;32m    297\u001b[0m u, v \u001b[38;5;241m=\u001b[39m \u001b[38;5;28mstr\u001b[39m(u), \u001b[38;5;28mstr\u001b[39m(v)\n\u001b[1;32m    298\u001b[0m raise_error \u001b[38;5;241m=\u001b[39m (\n\u001b[1;32m    299\u001b[0m     _check_colon_quotes(u)\n\u001b[1;32m    300\u001b[0m     \u001b[38;5;129;01mor\u001b[39;00m _check_colon_quotes(v)\n\u001b[1;32m    301\u001b[0m     \u001b[38;5;129;01mor\u001b[39;00m (\n\u001b[0;32m--> 302\u001b[0m         \u001b[38;5;28;43many\u001b[39;49m\u001b[43m(\u001b[49m\n\u001b[1;32m    303\u001b[0m \u001b[43m            \u001b[49m\u001b[43m(\u001b[49m\u001b[43m_check_colon_quotes\u001b[49m\u001b[43m(\u001b[49m\u001b[43mk\u001b[49m\u001b[43m)\u001b[49m\u001b[43m \u001b[49m\u001b[38;5;129;43;01mor\u001b[39;49;00m\u001b[43m \u001b[49m\u001b[43m_check_colon_quotes\u001b[49m\u001b[43m(\u001b[49m\u001b[43mv\u001b[49m\u001b[43m)\u001b[49m\u001b[43m)\u001b[49m\n\u001b[1;32m    304\u001b[0m \u001b[43m            \u001b[49m\u001b[38;5;28;43;01mfor\u001b[39;49;00m\u001b[43m \u001b[49m\u001b[43mk\u001b[49m\u001b[43m,\u001b[49m\u001b[43m \u001b[49m\u001b[43mv\u001b[49m\u001b[43m \u001b[49m\u001b[38;5;129;43;01min\u001b[39;49;00m\u001b[43m \u001b[49m\u001b[43medgedata\u001b[49m\u001b[38;5;241;43m.\u001b[39;49m\u001b[43mitems\u001b[49m\u001b[43m(\u001b[49m\u001b[43m)\u001b[49m\n\u001b[1;32m    305\u001b[0m \u001b[43m        \u001b[49m\u001b[43m)\u001b[49m\n\u001b[1;32m    306\u001b[0m     )\n\u001b[1;32m    307\u001b[0m )\n\u001b[1;32m    308\u001b[0m \u001b[38;5;28;01mif\u001b[39;00m raise_error:\n\u001b[1;32m    309\u001b[0m     \u001b[38;5;28;01mraise\u001b[39;00m \u001b[38;5;167;01mValueError\u001b[39;00m(\n\u001b[1;32m    310\u001b[0m         \u001b[38;5;124mf\u001b[39m\u001b[38;5;124m'\u001b[39m\u001b[38;5;124mNode names and attributes should not contain \u001b[39m\u001b[38;5;124m\"\u001b[39m\u001b[38;5;124m:\u001b[39m\u001b[38;5;124m\"\u001b[39m\u001b[38;5;124m unless they are quoted with \u001b[39m\u001b[38;5;124m\"\u001b[39m\u001b[38;5;124m\"\u001b[39m\u001b[38;5;124m.\u001b[39m\u001b[38;5;130;01m\\\u001b[39;00m\n\u001b[1;32m    311\u001b[0m \u001b[38;5;124m        For example the string \u001b[39m\u001b[38;5;130;01m\\'\u001b[39;00m\u001b[38;5;124mattribute:data1\u001b[39m\u001b[38;5;130;01m\\'\u001b[39;00m\u001b[38;5;124m should be written as \u001b[39m\u001b[38;5;130;01m\\'\u001b[39;00m\u001b[38;5;124m\"\u001b[39m\u001b[38;5;124mattribute:data1\u001b[39m\u001b[38;5;124m\"\u001b[39m\u001b[38;5;130;01m\\'\u001b[39;00m\u001b[38;5;124m.\u001b[39m\u001b[38;5;130;01m\\\u001b[39;00m\n\u001b[1;32m    312\u001b[0m \u001b[38;5;124m        Please refer https://github.com/pydot/pydot/issues/258\u001b[39m\u001b[38;5;124m'\u001b[39m\n\u001b[1;32m    313\u001b[0m     )\n",
      "File \u001b[0;32m~/opt/miniconda3/envs/datajoint/lib/python3.8/site-packages/networkx/drawing/nx_pydot.py:303\u001b[0m, in \u001b[0;36m<genexpr>\u001b[0;34m(.0)\u001b[0m\n\u001b[1;32m    296\u001b[0m str_edgedata \u001b[38;5;241m=\u001b[39m {k: \u001b[38;5;28mstr\u001b[39m(v) \u001b[38;5;28;01mfor\u001b[39;00m k, v \u001b[38;5;129;01min\u001b[39;00m edgedata\u001b[38;5;241m.\u001b[39mitems()}\n\u001b[1;32m    297\u001b[0m u, v \u001b[38;5;241m=\u001b[39m \u001b[38;5;28mstr\u001b[39m(u), \u001b[38;5;28mstr\u001b[39m(v)\n\u001b[1;32m    298\u001b[0m raise_error \u001b[38;5;241m=\u001b[39m (\n\u001b[1;32m    299\u001b[0m     _check_colon_quotes(u)\n\u001b[1;32m    300\u001b[0m     \u001b[38;5;129;01mor\u001b[39;00m _check_colon_quotes(v)\n\u001b[1;32m    301\u001b[0m     \u001b[38;5;129;01mor\u001b[39;00m (\n\u001b[1;32m    302\u001b[0m         \u001b[38;5;28many\u001b[39m(\n\u001b[0;32m--> 303\u001b[0m             (_check_colon_quotes(k) \u001b[38;5;129;01mor\u001b[39;00m \u001b[43m_check_colon_quotes\u001b[49m\u001b[43m(\u001b[49m\u001b[43mv\u001b[49m\u001b[43m)\u001b[49m)\n\u001b[1;32m    304\u001b[0m             \u001b[38;5;28;01mfor\u001b[39;00m k, v \u001b[38;5;129;01min\u001b[39;00m edgedata\u001b[38;5;241m.\u001b[39mitems()\n\u001b[1;32m    305\u001b[0m         )\n\u001b[1;32m    306\u001b[0m     )\n\u001b[1;32m    307\u001b[0m )\n\u001b[1;32m    308\u001b[0m \u001b[38;5;28;01mif\u001b[39;00m raise_error:\n\u001b[1;32m    309\u001b[0m     \u001b[38;5;28;01mraise\u001b[39;00m \u001b[38;5;167;01mValueError\u001b[39;00m(\n\u001b[1;32m    310\u001b[0m         \u001b[38;5;124mf\u001b[39m\u001b[38;5;124m'\u001b[39m\u001b[38;5;124mNode names and attributes should not contain \u001b[39m\u001b[38;5;124m\"\u001b[39m\u001b[38;5;124m:\u001b[39m\u001b[38;5;124m\"\u001b[39m\u001b[38;5;124m unless they are quoted with \u001b[39m\u001b[38;5;124m\"\u001b[39m\u001b[38;5;124m\"\u001b[39m\u001b[38;5;124m.\u001b[39m\u001b[38;5;130;01m\\\u001b[39;00m\n\u001b[1;32m    311\u001b[0m \u001b[38;5;124m        For example the string \u001b[39m\u001b[38;5;130;01m\\'\u001b[39;00m\u001b[38;5;124mattribute:data1\u001b[39m\u001b[38;5;130;01m\\'\u001b[39;00m\u001b[38;5;124m should be written as \u001b[39m\u001b[38;5;130;01m\\'\u001b[39;00m\u001b[38;5;124m\"\u001b[39m\u001b[38;5;124mattribute:data1\u001b[39m\u001b[38;5;124m\"\u001b[39m\u001b[38;5;130;01m\\'\u001b[39;00m\u001b[38;5;124m.\u001b[39m\u001b[38;5;130;01m\\\u001b[39;00m\n\u001b[1;32m    312\u001b[0m \u001b[38;5;124m        Please refer https://github.com/pydot/pydot/issues/258\u001b[39m\u001b[38;5;124m'\u001b[39m\n\u001b[1;32m    313\u001b[0m     )\n",
      "File \u001b[0;32m~/opt/miniconda3/envs/datajoint/lib/python3.8/site-packages/networkx/drawing/nx_pydot.py:199\u001b[0m, in \u001b[0;36m_check_colon_quotes\u001b[0;34m(s)\u001b[0m\n\u001b[1;32m    195\u001b[0m \u001b[38;5;28;01mdef\u001b[39;00m \u001b[38;5;21m_check_colon_quotes\u001b[39m(s):\n\u001b[1;32m    196\u001b[0m     \u001b[38;5;66;03m# A quick helper function to check if a string has a colon in it\u001b[39;00m\n\u001b[1;32m    197\u001b[0m     \u001b[38;5;66;03m# and if it is quoted properly with double quotes.\u001b[39;00m\n\u001b[1;32m    198\u001b[0m     \u001b[38;5;66;03m# refer https://github.com/pydot/pydot/issues/258\u001b[39;00m\n\u001b[0;32m--> 199\u001b[0m     \u001b[38;5;28;01mreturn\u001b[39;00m \u001b[38;5;124;43m\"\u001b[39;49m\u001b[38;5;124;43m:\u001b[39;49m\u001b[38;5;124;43m\"\u001b[39;49m\u001b[43m \u001b[49m\u001b[38;5;129;43;01min\u001b[39;49;00m\u001b[43m \u001b[49m\u001b[43ms\u001b[49m \u001b[38;5;129;01mand\u001b[39;00m (s[\u001b[38;5;241m0\u001b[39m] \u001b[38;5;241m!=\u001b[39m \u001b[38;5;124m'\u001b[39m\u001b[38;5;124m\"\u001b[39m\u001b[38;5;124m'\u001b[39m \u001b[38;5;129;01mor\u001b[39;00m s[\u001b[38;5;241m-\u001b[39m\u001b[38;5;241m1\u001b[39m] \u001b[38;5;241m!=\u001b[39m \u001b[38;5;124m'\u001b[39m\u001b[38;5;124m\"\u001b[39m\u001b[38;5;124m'\u001b[39m)\n",
      "\u001b[0;31mTypeError\u001b[0m: argument of type 'bool' is not iterable"
     ]
    },
    {
     "data": {
      "text/plain": [
       "<datajoint.diagram.Diagram at 0x7f840b8ef370>"
      ]
     },
     "execution_count": 3,
     "metadata": {},
     "output_type": "execute_result"
    }
   ],
   "source": [
    "dj.Diagram(session) + dj.Diagram(subject)"
   ]
  },
  {
   "cell_type": "code",
   "execution_count": 4,
   "id": "a7bfb955-8df2-4537-86e5-e86863052a42",
   "metadata": {
    "scrolled": true
   },
   "outputs": [
    {
     "name": "stderr",
     "output_type": "stream",
     "text": [
      "/Users/trose/opt/miniconda3/envs/datajoint/lib/python3.8/inspect.py:350: FutureWarning: pandas.Float64Index is deprecated and will be removed from pandas in a future version. Use pandas.Index with the appropriate dtype instead.\n",
      "  value = getattr(object, key)\n",
      "/Users/trose/opt/miniconda3/envs/datajoint/lib/python3.8/inspect.py:350: FutureWarning: pandas.Int64Index is deprecated and will be removed from pandas in a future version. Use pandas.Index with the appropriate dtype instead.\n",
      "  value = getattr(object, key)\n",
      "/Users/trose/opt/miniconda3/envs/datajoint/lib/python3.8/inspect.py:350: FutureWarning: pandas.UInt64Index is deprecated and will be removed from pandas in a future version. Use pandas.Index with the appropriate dtype instead.\n",
      "  value = getattr(object, key)\n"
     ]
    },
    {
     "ename": "TypeError",
     "evalue": "argument of type 'bool' is not iterable",
     "output_type": "error",
     "traceback": [
      "\u001b[0;31m---------------------------------------------------------------------------\u001b[0m",
      "\u001b[0;31mTypeError\u001b[0m                                 Traceback (most recent call last)",
      "File \u001b[0;32m~/opt/miniconda3/envs/datajoint/lib/python3.8/site-packages/IPython/core/formatters.py:342\u001b[0m, in \u001b[0;36mBaseFormatter.__call__\u001b[0;34m(self, obj)\u001b[0m\n\u001b[1;32m    340\u001b[0m     method \u001b[38;5;241m=\u001b[39m get_real_method(obj, \u001b[38;5;28mself\u001b[39m\u001b[38;5;241m.\u001b[39mprint_method)\n\u001b[1;32m    341\u001b[0m     \u001b[38;5;28;01mif\u001b[39;00m method \u001b[38;5;129;01mis\u001b[39;00m \u001b[38;5;129;01mnot\u001b[39;00m \u001b[38;5;28;01mNone\u001b[39;00m:\n\u001b[0;32m--> 342\u001b[0m         \u001b[38;5;28;01mreturn\u001b[39;00m \u001b[43mmethod\u001b[49m\u001b[43m(\u001b[49m\u001b[43m)\u001b[49m\n\u001b[1;32m    343\u001b[0m     \u001b[38;5;28;01mreturn\u001b[39;00m \u001b[38;5;28;01mNone\u001b[39;00m\n\u001b[1;32m    344\u001b[0m \u001b[38;5;28;01melse\u001b[39;00m:\n",
      "File \u001b[0;32m~/opt/miniconda3/envs/datajoint/lib/python3.8/site-packages/datajoint/diagram.py:440\u001b[0m, in \u001b[0;36mDiagram._repr_svg_\u001b[0;34m(self)\u001b[0m\n\u001b[1;32m    439\u001b[0m \u001b[38;5;28;01mdef\u001b[39;00m \u001b[38;5;21m_repr_svg_\u001b[39m(\u001b[38;5;28mself\u001b[39m):\n\u001b[0;32m--> 440\u001b[0m     \u001b[38;5;28;01mreturn\u001b[39;00m \u001b[38;5;28;43mself\u001b[39;49m\u001b[38;5;241;43m.\u001b[39;49m\u001b[43mmake_svg\u001b[49m\u001b[43m(\u001b[49m\u001b[43m)\u001b[49m\u001b[38;5;241m.\u001b[39m_repr_svg_()\n",
      "File \u001b[0;32m~/opt/miniconda3/envs/datajoint/lib/python3.8/site-packages/datajoint/diagram.py:428\u001b[0m, in \u001b[0;36mDiagram.make_svg\u001b[0;34m(self)\u001b[0m\n\u001b[1;32m    425\u001b[0m \u001b[38;5;28;01mdef\u001b[39;00m \u001b[38;5;21mmake_svg\u001b[39m(\u001b[38;5;28mself\u001b[39m):\n\u001b[1;32m    426\u001b[0m     \u001b[38;5;28;01mfrom\u001b[39;00m \u001b[38;5;21;01mIPython\u001b[39;00m\u001b[38;5;21;01m.\u001b[39;00m\u001b[38;5;21;01mdisplay\u001b[39;00m \u001b[38;5;28;01mimport\u001b[39;00m SVG\n\u001b[0;32m--> 428\u001b[0m     \u001b[38;5;28;01mreturn\u001b[39;00m SVG(\u001b[38;5;28;43mself\u001b[39;49m\u001b[38;5;241;43m.\u001b[39;49m\u001b[43mmake_dot\u001b[49m\u001b[43m(\u001b[49m\u001b[43m)\u001b[49m\u001b[38;5;241m.\u001b[39mcreate_svg())\n",
      "File \u001b[0;32m~/opt/miniconda3/envs/datajoint/lib/python3.8/site-packages/datajoint/diagram.py:373\u001b[0m, in \u001b[0;36mDiagram.make_dot\u001b[0;34m(self)\u001b[0m\n\u001b[1;32m    310\u001b[0m label_props \u001b[38;5;241m=\u001b[39m {  \u001b[38;5;66;03m# http://matplotlib.org/examples/color/named_colors.html\u001b[39;00m\n\u001b[1;32m    311\u001b[0m     \u001b[38;5;28;01mNone\u001b[39;00m: \u001b[38;5;28mdict\u001b[39m(\n\u001b[1;32m    312\u001b[0m         shape\u001b[38;5;241m=\u001b[39m\u001b[38;5;124m\"\u001b[39m\u001b[38;5;124mcircle\u001b[39m\u001b[38;5;124m\"\u001b[39m,\n\u001b[0;32m   (...)\u001b[0m\n\u001b[1;32m    366\u001b[0m     ),\n\u001b[1;32m    367\u001b[0m }\n\u001b[1;32m    368\u001b[0m node_props \u001b[38;5;241m=\u001b[39m {\n\u001b[1;32m    369\u001b[0m     node: label_props[d[\u001b[38;5;124m\"\u001b[39m\u001b[38;5;124mnode_type\u001b[39m\u001b[38;5;124m\"\u001b[39m]]\n\u001b[1;32m    370\u001b[0m     \u001b[38;5;28;01mfor\u001b[39;00m node, d \u001b[38;5;129;01min\u001b[39;00m \u001b[38;5;28mdict\u001b[39m(graph\u001b[38;5;241m.\u001b[39mnodes(data\u001b[38;5;241m=\u001b[39m\u001b[38;5;28;01mTrue\u001b[39;00m))\u001b[38;5;241m.\u001b[39mitems()\n\u001b[1;32m    371\u001b[0m }\n\u001b[0;32m--> 373\u001b[0m dot \u001b[38;5;241m=\u001b[39m \u001b[43mnx\u001b[49m\u001b[38;5;241;43m.\u001b[39;49m\u001b[43mdrawing\u001b[49m\u001b[38;5;241;43m.\u001b[39;49m\u001b[43mnx_pydot\u001b[49m\u001b[38;5;241;43m.\u001b[39;49m\u001b[43mto_pydot\u001b[49m\u001b[43m(\u001b[49m\u001b[43mgraph\u001b[49m\u001b[43m)\u001b[49m\n\u001b[1;32m    374\u001b[0m \u001b[38;5;28;01mfor\u001b[39;00m node \u001b[38;5;129;01min\u001b[39;00m dot\u001b[38;5;241m.\u001b[39mget_nodes():\n\u001b[1;32m    375\u001b[0m     node\u001b[38;5;241m.\u001b[39mset_shape(\u001b[38;5;124m\"\u001b[39m\u001b[38;5;124mcircle\u001b[39m\u001b[38;5;124m\"\u001b[39m)\n",
      "File \u001b[0;32m~/opt/miniconda3/envs/datajoint/lib/python3.8/site-packages/networkx/drawing/nx_pydot.py:302\u001b[0m, in \u001b[0;36mto_pydot\u001b[0;34m(N)\u001b[0m\n\u001b[1;32m    296\u001b[0m str_edgedata \u001b[38;5;241m=\u001b[39m {k: \u001b[38;5;28mstr\u001b[39m(v) \u001b[38;5;28;01mfor\u001b[39;00m k, v \u001b[38;5;129;01min\u001b[39;00m edgedata\u001b[38;5;241m.\u001b[39mitems()}\n\u001b[1;32m    297\u001b[0m u, v \u001b[38;5;241m=\u001b[39m \u001b[38;5;28mstr\u001b[39m(u), \u001b[38;5;28mstr\u001b[39m(v)\n\u001b[1;32m    298\u001b[0m raise_error \u001b[38;5;241m=\u001b[39m (\n\u001b[1;32m    299\u001b[0m     _check_colon_quotes(u)\n\u001b[1;32m    300\u001b[0m     \u001b[38;5;129;01mor\u001b[39;00m _check_colon_quotes(v)\n\u001b[1;32m    301\u001b[0m     \u001b[38;5;129;01mor\u001b[39;00m (\n\u001b[0;32m--> 302\u001b[0m         \u001b[38;5;28;43many\u001b[39;49m\u001b[43m(\u001b[49m\n\u001b[1;32m    303\u001b[0m \u001b[43m            \u001b[49m\u001b[43m(\u001b[49m\u001b[43m_check_colon_quotes\u001b[49m\u001b[43m(\u001b[49m\u001b[43mk\u001b[49m\u001b[43m)\u001b[49m\u001b[43m \u001b[49m\u001b[38;5;129;43;01mor\u001b[39;49;00m\u001b[43m \u001b[49m\u001b[43m_check_colon_quotes\u001b[49m\u001b[43m(\u001b[49m\u001b[43mv\u001b[49m\u001b[43m)\u001b[49m\u001b[43m)\u001b[49m\n\u001b[1;32m    304\u001b[0m \u001b[43m            \u001b[49m\u001b[38;5;28;43;01mfor\u001b[39;49;00m\u001b[43m \u001b[49m\u001b[43mk\u001b[49m\u001b[43m,\u001b[49m\u001b[43m \u001b[49m\u001b[43mv\u001b[49m\u001b[43m \u001b[49m\u001b[38;5;129;43;01min\u001b[39;49;00m\u001b[43m \u001b[49m\u001b[43medgedata\u001b[49m\u001b[38;5;241;43m.\u001b[39;49m\u001b[43mitems\u001b[49m\u001b[43m(\u001b[49m\u001b[43m)\u001b[49m\n\u001b[1;32m    305\u001b[0m \u001b[43m        \u001b[49m\u001b[43m)\u001b[49m\n\u001b[1;32m    306\u001b[0m     )\n\u001b[1;32m    307\u001b[0m )\n\u001b[1;32m    308\u001b[0m \u001b[38;5;28;01mif\u001b[39;00m raise_error:\n\u001b[1;32m    309\u001b[0m     \u001b[38;5;28;01mraise\u001b[39;00m \u001b[38;5;167;01mValueError\u001b[39;00m(\n\u001b[1;32m    310\u001b[0m         \u001b[38;5;124mf\u001b[39m\u001b[38;5;124m'\u001b[39m\u001b[38;5;124mNode names and attributes should not contain \u001b[39m\u001b[38;5;124m\"\u001b[39m\u001b[38;5;124m:\u001b[39m\u001b[38;5;124m\"\u001b[39m\u001b[38;5;124m unless they are quoted with \u001b[39m\u001b[38;5;124m\"\u001b[39m\u001b[38;5;124m\"\u001b[39m\u001b[38;5;124m.\u001b[39m\u001b[38;5;130;01m\\\u001b[39;00m\n\u001b[1;32m    311\u001b[0m \u001b[38;5;124m        For example the string \u001b[39m\u001b[38;5;130;01m\\'\u001b[39;00m\u001b[38;5;124mattribute:data1\u001b[39m\u001b[38;5;130;01m\\'\u001b[39;00m\u001b[38;5;124m should be written as \u001b[39m\u001b[38;5;130;01m\\'\u001b[39;00m\u001b[38;5;124m\"\u001b[39m\u001b[38;5;124mattribute:data1\u001b[39m\u001b[38;5;124m\"\u001b[39m\u001b[38;5;130;01m\\'\u001b[39;00m\u001b[38;5;124m.\u001b[39m\u001b[38;5;130;01m\\\u001b[39;00m\n\u001b[1;32m    312\u001b[0m \u001b[38;5;124m        Please refer https://github.com/pydot/pydot/issues/258\u001b[39m\u001b[38;5;124m'\u001b[39m\n\u001b[1;32m    313\u001b[0m     )\n",
      "File \u001b[0;32m~/opt/miniconda3/envs/datajoint/lib/python3.8/site-packages/networkx/drawing/nx_pydot.py:303\u001b[0m, in \u001b[0;36m<genexpr>\u001b[0;34m(.0)\u001b[0m\n\u001b[1;32m    296\u001b[0m str_edgedata \u001b[38;5;241m=\u001b[39m {k: \u001b[38;5;28mstr\u001b[39m(v) \u001b[38;5;28;01mfor\u001b[39;00m k, v \u001b[38;5;129;01min\u001b[39;00m edgedata\u001b[38;5;241m.\u001b[39mitems()}\n\u001b[1;32m    297\u001b[0m u, v \u001b[38;5;241m=\u001b[39m \u001b[38;5;28mstr\u001b[39m(u), \u001b[38;5;28mstr\u001b[39m(v)\n\u001b[1;32m    298\u001b[0m raise_error \u001b[38;5;241m=\u001b[39m (\n\u001b[1;32m    299\u001b[0m     _check_colon_quotes(u)\n\u001b[1;32m    300\u001b[0m     \u001b[38;5;129;01mor\u001b[39;00m _check_colon_quotes(v)\n\u001b[1;32m    301\u001b[0m     \u001b[38;5;129;01mor\u001b[39;00m (\n\u001b[1;32m    302\u001b[0m         \u001b[38;5;28many\u001b[39m(\n\u001b[0;32m--> 303\u001b[0m             (_check_colon_quotes(k) \u001b[38;5;129;01mor\u001b[39;00m \u001b[43m_check_colon_quotes\u001b[49m\u001b[43m(\u001b[49m\u001b[43mv\u001b[49m\u001b[43m)\u001b[49m)\n\u001b[1;32m    304\u001b[0m             \u001b[38;5;28;01mfor\u001b[39;00m k, v \u001b[38;5;129;01min\u001b[39;00m edgedata\u001b[38;5;241m.\u001b[39mitems()\n\u001b[1;32m    305\u001b[0m         )\n\u001b[1;32m    306\u001b[0m     )\n\u001b[1;32m    307\u001b[0m )\n\u001b[1;32m    308\u001b[0m \u001b[38;5;28;01mif\u001b[39;00m raise_error:\n\u001b[1;32m    309\u001b[0m     \u001b[38;5;28;01mraise\u001b[39;00m \u001b[38;5;167;01mValueError\u001b[39;00m(\n\u001b[1;32m    310\u001b[0m         \u001b[38;5;124mf\u001b[39m\u001b[38;5;124m'\u001b[39m\u001b[38;5;124mNode names and attributes should not contain \u001b[39m\u001b[38;5;124m\"\u001b[39m\u001b[38;5;124m:\u001b[39m\u001b[38;5;124m\"\u001b[39m\u001b[38;5;124m unless they are quoted with \u001b[39m\u001b[38;5;124m\"\u001b[39m\u001b[38;5;124m\"\u001b[39m\u001b[38;5;124m.\u001b[39m\u001b[38;5;130;01m\\\u001b[39;00m\n\u001b[1;32m    311\u001b[0m \u001b[38;5;124m        For example the string \u001b[39m\u001b[38;5;130;01m\\'\u001b[39;00m\u001b[38;5;124mattribute:data1\u001b[39m\u001b[38;5;130;01m\\'\u001b[39;00m\u001b[38;5;124m should be written as \u001b[39m\u001b[38;5;130;01m\\'\u001b[39;00m\u001b[38;5;124m\"\u001b[39m\u001b[38;5;124mattribute:data1\u001b[39m\u001b[38;5;124m\"\u001b[39m\u001b[38;5;130;01m\\'\u001b[39;00m\u001b[38;5;124m.\u001b[39m\u001b[38;5;130;01m\\\u001b[39;00m\n\u001b[1;32m    312\u001b[0m \u001b[38;5;124m        Please refer https://github.com/pydot/pydot/issues/258\u001b[39m\u001b[38;5;124m'\u001b[39m\n\u001b[1;32m    313\u001b[0m     )\n",
      "File \u001b[0;32m~/opt/miniconda3/envs/datajoint/lib/python3.8/site-packages/networkx/drawing/nx_pydot.py:199\u001b[0m, in \u001b[0;36m_check_colon_quotes\u001b[0;34m(s)\u001b[0m\n\u001b[1;32m    195\u001b[0m \u001b[38;5;28;01mdef\u001b[39;00m \u001b[38;5;21m_check_colon_quotes\u001b[39m(s):\n\u001b[1;32m    196\u001b[0m     \u001b[38;5;66;03m# A quick helper function to check if a string has a colon in it\u001b[39;00m\n\u001b[1;32m    197\u001b[0m     \u001b[38;5;66;03m# and if it is quoted properly with double quotes.\u001b[39;00m\n\u001b[1;32m    198\u001b[0m     \u001b[38;5;66;03m# refer https://github.com/pydot/pydot/issues/258\u001b[39;00m\n\u001b[0;32m--> 199\u001b[0m     \u001b[38;5;28;01mreturn\u001b[39;00m \u001b[38;5;124;43m\"\u001b[39;49m\u001b[38;5;124;43m:\u001b[39;49m\u001b[38;5;124;43m\"\u001b[39;49m\u001b[43m \u001b[49m\u001b[38;5;129;43;01min\u001b[39;49;00m\u001b[43m \u001b[49m\u001b[43ms\u001b[49m \u001b[38;5;129;01mand\u001b[39;00m (s[\u001b[38;5;241m0\u001b[39m] \u001b[38;5;241m!=\u001b[39m \u001b[38;5;124m'\u001b[39m\u001b[38;5;124m\"\u001b[39m\u001b[38;5;124m'\u001b[39m \u001b[38;5;129;01mor\u001b[39;00m s[\u001b[38;5;241m-\u001b[39m\u001b[38;5;241m1\u001b[39m] \u001b[38;5;241m!=\u001b[39m \u001b[38;5;124m'\u001b[39m\u001b[38;5;124m\"\u001b[39m\u001b[38;5;124m'\u001b[39m)\n",
      "\u001b[0;31mTypeError\u001b[0m: argument of type 'bool' is not iterable"
     ]
    },
    {
     "data": {
      "text/plain": [
       "<datajoint.diagram.Diagram at 0x7f840b8ef130>"
      ]
     },
     "execution_count": 4,
     "metadata": {},
     "output_type": "execute_result"
    }
   ],
   "source": [
    "dj.Diagram(subject) + dj.Diagram(behavior) "
   ]
  },
  {
   "cell_type": "code",
   "execution_count": 5,
   "id": "dcd34047-4e4a-4d52-a6b0-1585c41ee3e0",
   "metadata": {},
   "outputs": [
    {
     "name": "stderr",
     "output_type": "stream",
     "text": [
      "/Users/trose/opt/miniconda3/envs/datajoint/lib/python3.8/inspect.py:350: FutureWarning: pandas.Float64Index is deprecated and will be removed from pandas in a future version. Use pandas.Index with the appropriate dtype instead.\n",
      "  value = getattr(object, key)\n",
      "/Users/trose/opt/miniconda3/envs/datajoint/lib/python3.8/inspect.py:350: FutureWarning: pandas.Int64Index is deprecated and will be removed from pandas in a future version. Use pandas.Index with the appropriate dtype instead.\n",
      "  value = getattr(object, key)\n",
      "/Users/trose/opt/miniconda3/envs/datajoint/lib/python3.8/inspect.py:350: FutureWarning: pandas.UInt64Index is deprecated and will be removed from pandas in a future version. Use pandas.Index with the appropriate dtype instead.\n",
      "  value = getattr(object, key)\n"
     ]
    },
    {
     "ename": "TypeError",
     "evalue": "argument of type 'bool' is not iterable",
     "output_type": "error",
     "traceback": [
      "\u001b[0;31m---------------------------------------------------------------------------\u001b[0m",
      "\u001b[0;31mTypeError\u001b[0m                                 Traceback (most recent call last)",
      "File \u001b[0;32m~/opt/miniconda3/envs/datajoint/lib/python3.8/site-packages/IPython/core/formatters.py:342\u001b[0m, in \u001b[0;36mBaseFormatter.__call__\u001b[0;34m(self, obj)\u001b[0m\n\u001b[1;32m    340\u001b[0m     method \u001b[38;5;241m=\u001b[39m get_real_method(obj, \u001b[38;5;28mself\u001b[39m\u001b[38;5;241m.\u001b[39mprint_method)\n\u001b[1;32m    341\u001b[0m     \u001b[38;5;28;01mif\u001b[39;00m method \u001b[38;5;129;01mis\u001b[39;00m \u001b[38;5;129;01mnot\u001b[39;00m \u001b[38;5;28;01mNone\u001b[39;00m:\n\u001b[0;32m--> 342\u001b[0m         \u001b[38;5;28;01mreturn\u001b[39;00m \u001b[43mmethod\u001b[49m\u001b[43m(\u001b[49m\u001b[43m)\u001b[49m\n\u001b[1;32m    343\u001b[0m     \u001b[38;5;28;01mreturn\u001b[39;00m \u001b[38;5;28;01mNone\u001b[39;00m\n\u001b[1;32m    344\u001b[0m \u001b[38;5;28;01melse\u001b[39;00m:\n",
      "File \u001b[0;32m~/opt/miniconda3/envs/datajoint/lib/python3.8/site-packages/datajoint/diagram.py:440\u001b[0m, in \u001b[0;36mDiagram._repr_svg_\u001b[0;34m(self)\u001b[0m\n\u001b[1;32m    439\u001b[0m \u001b[38;5;28;01mdef\u001b[39;00m \u001b[38;5;21m_repr_svg_\u001b[39m(\u001b[38;5;28mself\u001b[39m):\n\u001b[0;32m--> 440\u001b[0m     \u001b[38;5;28;01mreturn\u001b[39;00m \u001b[38;5;28;43mself\u001b[39;49m\u001b[38;5;241;43m.\u001b[39;49m\u001b[43mmake_svg\u001b[49m\u001b[43m(\u001b[49m\u001b[43m)\u001b[49m\u001b[38;5;241m.\u001b[39m_repr_svg_()\n",
      "File \u001b[0;32m~/opt/miniconda3/envs/datajoint/lib/python3.8/site-packages/datajoint/diagram.py:428\u001b[0m, in \u001b[0;36mDiagram.make_svg\u001b[0;34m(self)\u001b[0m\n\u001b[1;32m    425\u001b[0m \u001b[38;5;28;01mdef\u001b[39;00m \u001b[38;5;21mmake_svg\u001b[39m(\u001b[38;5;28mself\u001b[39m):\n\u001b[1;32m    426\u001b[0m     \u001b[38;5;28;01mfrom\u001b[39;00m \u001b[38;5;21;01mIPython\u001b[39;00m\u001b[38;5;21;01m.\u001b[39;00m\u001b[38;5;21;01mdisplay\u001b[39;00m \u001b[38;5;28;01mimport\u001b[39;00m SVG\n\u001b[0;32m--> 428\u001b[0m     \u001b[38;5;28;01mreturn\u001b[39;00m SVG(\u001b[38;5;28;43mself\u001b[39;49m\u001b[38;5;241;43m.\u001b[39;49m\u001b[43mmake_dot\u001b[49m\u001b[43m(\u001b[49m\u001b[43m)\u001b[49m\u001b[38;5;241m.\u001b[39mcreate_svg())\n",
      "File \u001b[0;32m~/opt/miniconda3/envs/datajoint/lib/python3.8/site-packages/datajoint/diagram.py:373\u001b[0m, in \u001b[0;36mDiagram.make_dot\u001b[0;34m(self)\u001b[0m\n\u001b[1;32m    310\u001b[0m label_props \u001b[38;5;241m=\u001b[39m {  \u001b[38;5;66;03m# http://matplotlib.org/examples/color/named_colors.html\u001b[39;00m\n\u001b[1;32m    311\u001b[0m     \u001b[38;5;28;01mNone\u001b[39;00m: \u001b[38;5;28mdict\u001b[39m(\n\u001b[1;32m    312\u001b[0m         shape\u001b[38;5;241m=\u001b[39m\u001b[38;5;124m\"\u001b[39m\u001b[38;5;124mcircle\u001b[39m\u001b[38;5;124m\"\u001b[39m,\n\u001b[0;32m   (...)\u001b[0m\n\u001b[1;32m    366\u001b[0m     ),\n\u001b[1;32m    367\u001b[0m }\n\u001b[1;32m    368\u001b[0m node_props \u001b[38;5;241m=\u001b[39m {\n\u001b[1;32m    369\u001b[0m     node: label_props[d[\u001b[38;5;124m\"\u001b[39m\u001b[38;5;124mnode_type\u001b[39m\u001b[38;5;124m\"\u001b[39m]]\n\u001b[1;32m    370\u001b[0m     \u001b[38;5;28;01mfor\u001b[39;00m node, d \u001b[38;5;129;01min\u001b[39;00m \u001b[38;5;28mdict\u001b[39m(graph\u001b[38;5;241m.\u001b[39mnodes(data\u001b[38;5;241m=\u001b[39m\u001b[38;5;28;01mTrue\u001b[39;00m))\u001b[38;5;241m.\u001b[39mitems()\n\u001b[1;32m    371\u001b[0m }\n\u001b[0;32m--> 373\u001b[0m dot \u001b[38;5;241m=\u001b[39m \u001b[43mnx\u001b[49m\u001b[38;5;241;43m.\u001b[39;49m\u001b[43mdrawing\u001b[49m\u001b[38;5;241;43m.\u001b[39;49m\u001b[43mnx_pydot\u001b[49m\u001b[38;5;241;43m.\u001b[39;49m\u001b[43mto_pydot\u001b[49m\u001b[43m(\u001b[49m\u001b[43mgraph\u001b[49m\u001b[43m)\u001b[49m\n\u001b[1;32m    374\u001b[0m \u001b[38;5;28;01mfor\u001b[39;00m node \u001b[38;5;129;01min\u001b[39;00m dot\u001b[38;5;241m.\u001b[39mget_nodes():\n\u001b[1;32m    375\u001b[0m     node\u001b[38;5;241m.\u001b[39mset_shape(\u001b[38;5;124m\"\u001b[39m\u001b[38;5;124mcircle\u001b[39m\u001b[38;5;124m\"\u001b[39m)\n",
      "File \u001b[0;32m~/opt/miniconda3/envs/datajoint/lib/python3.8/site-packages/networkx/drawing/nx_pydot.py:302\u001b[0m, in \u001b[0;36mto_pydot\u001b[0;34m(N)\u001b[0m\n\u001b[1;32m    296\u001b[0m str_edgedata \u001b[38;5;241m=\u001b[39m {k: \u001b[38;5;28mstr\u001b[39m(v) \u001b[38;5;28;01mfor\u001b[39;00m k, v \u001b[38;5;129;01min\u001b[39;00m edgedata\u001b[38;5;241m.\u001b[39mitems()}\n\u001b[1;32m    297\u001b[0m u, v \u001b[38;5;241m=\u001b[39m \u001b[38;5;28mstr\u001b[39m(u), \u001b[38;5;28mstr\u001b[39m(v)\n\u001b[1;32m    298\u001b[0m raise_error \u001b[38;5;241m=\u001b[39m (\n\u001b[1;32m    299\u001b[0m     _check_colon_quotes(u)\n\u001b[1;32m    300\u001b[0m     \u001b[38;5;129;01mor\u001b[39;00m _check_colon_quotes(v)\n\u001b[1;32m    301\u001b[0m     \u001b[38;5;129;01mor\u001b[39;00m (\n\u001b[0;32m--> 302\u001b[0m         \u001b[38;5;28;43many\u001b[39;49m\u001b[43m(\u001b[49m\n\u001b[1;32m    303\u001b[0m \u001b[43m            \u001b[49m\u001b[43m(\u001b[49m\u001b[43m_check_colon_quotes\u001b[49m\u001b[43m(\u001b[49m\u001b[43mk\u001b[49m\u001b[43m)\u001b[49m\u001b[43m \u001b[49m\u001b[38;5;129;43;01mor\u001b[39;49;00m\u001b[43m \u001b[49m\u001b[43m_check_colon_quotes\u001b[49m\u001b[43m(\u001b[49m\u001b[43mv\u001b[49m\u001b[43m)\u001b[49m\u001b[43m)\u001b[49m\n\u001b[1;32m    304\u001b[0m \u001b[43m            \u001b[49m\u001b[38;5;28;43;01mfor\u001b[39;49;00m\u001b[43m \u001b[49m\u001b[43mk\u001b[49m\u001b[43m,\u001b[49m\u001b[43m \u001b[49m\u001b[43mv\u001b[49m\u001b[43m \u001b[49m\u001b[38;5;129;43;01min\u001b[39;49;00m\u001b[43m \u001b[49m\u001b[43medgedata\u001b[49m\u001b[38;5;241;43m.\u001b[39;49m\u001b[43mitems\u001b[49m\u001b[43m(\u001b[49m\u001b[43m)\u001b[49m\n\u001b[1;32m    305\u001b[0m \u001b[43m        \u001b[49m\u001b[43m)\u001b[49m\n\u001b[1;32m    306\u001b[0m     )\n\u001b[1;32m    307\u001b[0m )\n\u001b[1;32m    308\u001b[0m \u001b[38;5;28;01mif\u001b[39;00m raise_error:\n\u001b[1;32m    309\u001b[0m     \u001b[38;5;28;01mraise\u001b[39;00m \u001b[38;5;167;01mValueError\u001b[39;00m(\n\u001b[1;32m    310\u001b[0m         \u001b[38;5;124mf\u001b[39m\u001b[38;5;124m'\u001b[39m\u001b[38;5;124mNode names and attributes should not contain \u001b[39m\u001b[38;5;124m\"\u001b[39m\u001b[38;5;124m:\u001b[39m\u001b[38;5;124m\"\u001b[39m\u001b[38;5;124m unless they are quoted with \u001b[39m\u001b[38;5;124m\"\u001b[39m\u001b[38;5;124m\"\u001b[39m\u001b[38;5;124m.\u001b[39m\u001b[38;5;130;01m\\\u001b[39;00m\n\u001b[1;32m    311\u001b[0m \u001b[38;5;124m        For example the string \u001b[39m\u001b[38;5;130;01m\\'\u001b[39;00m\u001b[38;5;124mattribute:data1\u001b[39m\u001b[38;5;130;01m\\'\u001b[39;00m\u001b[38;5;124m should be written as \u001b[39m\u001b[38;5;130;01m\\'\u001b[39;00m\u001b[38;5;124m\"\u001b[39m\u001b[38;5;124mattribute:data1\u001b[39m\u001b[38;5;124m\"\u001b[39m\u001b[38;5;130;01m\\'\u001b[39;00m\u001b[38;5;124m.\u001b[39m\u001b[38;5;130;01m\\\u001b[39;00m\n\u001b[1;32m    312\u001b[0m \u001b[38;5;124m        Please refer https://github.com/pydot/pydot/issues/258\u001b[39m\u001b[38;5;124m'\u001b[39m\n\u001b[1;32m    313\u001b[0m     )\n",
      "File \u001b[0;32m~/opt/miniconda3/envs/datajoint/lib/python3.8/site-packages/networkx/drawing/nx_pydot.py:303\u001b[0m, in \u001b[0;36m<genexpr>\u001b[0;34m(.0)\u001b[0m\n\u001b[1;32m    296\u001b[0m str_edgedata \u001b[38;5;241m=\u001b[39m {k: \u001b[38;5;28mstr\u001b[39m(v) \u001b[38;5;28;01mfor\u001b[39;00m k, v \u001b[38;5;129;01min\u001b[39;00m edgedata\u001b[38;5;241m.\u001b[39mitems()}\n\u001b[1;32m    297\u001b[0m u, v \u001b[38;5;241m=\u001b[39m \u001b[38;5;28mstr\u001b[39m(u), \u001b[38;5;28mstr\u001b[39m(v)\n\u001b[1;32m    298\u001b[0m raise_error \u001b[38;5;241m=\u001b[39m (\n\u001b[1;32m    299\u001b[0m     _check_colon_quotes(u)\n\u001b[1;32m    300\u001b[0m     \u001b[38;5;129;01mor\u001b[39;00m _check_colon_quotes(v)\n\u001b[1;32m    301\u001b[0m     \u001b[38;5;129;01mor\u001b[39;00m (\n\u001b[1;32m    302\u001b[0m         \u001b[38;5;28many\u001b[39m(\n\u001b[0;32m--> 303\u001b[0m             (_check_colon_quotes(k) \u001b[38;5;129;01mor\u001b[39;00m \u001b[43m_check_colon_quotes\u001b[49m\u001b[43m(\u001b[49m\u001b[43mv\u001b[49m\u001b[43m)\u001b[49m)\n\u001b[1;32m    304\u001b[0m             \u001b[38;5;28;01mfor\u001b[39;00m k, v \u001b[38;5;129;01min\u001b[39;00m edgedata\u001b[38;5;241m.\u001b[39mitems()\n\u001b[1;32m    305\u001b[0m         )\n\u001b[1;32m    306\u001b[0m     )\n\u001b[1;32m    307\u001b[0m )\n\u001b[1;32m    308\u001b[0m \u001b[38;5;28;01mif\u001b[39;00m raise_error:\n\u001b[1;32m    309\u001b[0m     \u001b[38;5;28;01mraise\u001b[39;00m \u001b[38;5;167;01mValueError\u001b[39;00m(\n\u001b[1;32m    310\u001b[0m         \u001b[38;5;124mf\u001b[39m\u001b[38;5;124m'\u001b[39m\u001b[38;5;124mNode names and attributes should not contain \u001b[39m\u001b[38;5;124m\"\u001b[39m\u001b[38;5;124m:\u001b[39m\u001b[38;5;124m\"\u001b[39m\u001b[38;5;124m unless they are quoted with \u001b[39m\u001b[38;5;124m\"\u001b[39m\u001b[38;5;124m\"\u001b[39m\u001b[38;5;124m.\u001b[39m\u001b[38;5;130;01m\\\u001b[39;00m\n\u001b[1;32m    311\u001b[0m \u001b[38;5;124m        For example the string \u001b[39m\u001b[38;5;130;01m\\'\u001b[39;00m\u001b[38;5;124mattribute:data1\u001b[39m\u001b[38;5;130;01m\\'\u001b[39;00m\u001b[38;5;124m should be written as \u001b[39m\u001b[38;5;130;01m\\'\u001b[39;00m\u001b[38;5;124m\"\u001b[39m\u001b[38;5;124mattribute:data1\u001b[39m\u001b[38;5;124m\"\u001b[39m\u001b[38;5;130;01m\\'\u001b[39;00m\u001b[38;5;124m.\u001b[39m\u001b[38;5;130;01m\\\u001b[39;00m\n\u001b[1;32m    312\u001b[0m \u001b[38;5;124m        Please refer https://github.com/pydot/pydot/issues/258\u001b[39m\u001b[38;5;124m'\u001b[39m\n\u001b[1;32m    313\u001b[0m     )\n",
      "File \u001b[0;32m~/opt/miniconda3/envs/datajoint/lib/python3.8/site-packages/networkx/drawing/nx_pydot.py:199\u001b[0m, in \u001b[0;36m_check_colon_quotes\u001b[0;34m(s)\u001b[0m\n\u001b[1;32m    195\u001b[0m \u001b[38;5;28;01mdef\u001b[39;00m \u001b[38;5;21m_check_colon_quotes\u001b[39m(s):\n\u001b[1;32m    196\u001b[0m     \u001b[38;5;66;03m# A quick helper function to check if a string has a colon in it\u001b[39;00m\n\u001b[1;32m    197\u001b[0m     \u001b[38;5;66;03m# and if it is quoted properly with double quotes.\u001b[39;00m\n\u001b[1;32m    198\u001b[0m     \u001b[38;5;66;03m# refer https://github.com/pydot/pydot/issues/258\u001b[39;00m\n\u001b[0;32m--> 199\u001b[0m     \u001b[38;5;28;01mreturn\u001b[39;00m \u001b[38;5;124;43m\"\u001b[39;49m\u001b[38;5;124;43m:\u001b[39;49m\u001b[38;5;124;43m\"\u001b[39;49m\u001b[43m \u001b[49m\u001b[38;5;129;43;01min\u001b[39;49;00m\u001b[43m \u001b[49m\u001b[43ms\u001b[49m \u001b[38;5;129;01mand\u001b[39;00m (s[\u001b[38;5;241m0\u001b[39m] \u001b[38;5;241m!=\u001b[39m \u001b[38;5;124m'\u001b[39m\u001b[38;5;124m\"\u001b[39m\u001b[38;5;124m'\u001b[39m \u001b[38;5;129;01mor\u001b[39;00m s[\u001b[38;5;241m-\u001b[39m\u001b[38;5;241m1\u001b[39m] \u001b[38;5;241m!=\u001b[39m \u001b[38;5;124m'\u001b[39m\u001b[38;5;124m\"\u001b[39m\u001b[38;5;124m'\u001b[39m)\n",
      "\u001b[0;31mTypeError\u001b[0m: argument of type 'bool' is not iterable"
     ]
    },
    {
     "data": {
      "text/plain": [
       "<datajoint.diagram.Diagram at 0x7f840b8ef2b0>"
      ]
     },
     "execution_count": 5,
     "metadata": {},
     "output_type": "execute_result"
    }
   ],
   "source": [
    "dj.Diagram(subject) + dj.Diagram(model)"
   ]
  },
  {
   "cell_type": "code",
   "execution_count": null,
   "id": "e2437960-a09f-44e0-a37e-eddd703138f7",
   "metadata": {},
   "outputs": [],
   "source": []
  }
 ],
 "metadata": {
  "jupytext": {
   "formats": "ipynb,py"
  },
  "kernelspec": {
   "display_name": "Python 3 (ipykernel)",
   "language": "python",
   "name": "python3"
  },
  "language_info": {
   "codemirror_mode": {
    "name": "ipython",
    "version": 3
   },
   "file_extension": ".py",
   "mimetype": "text/x-python",
   "name": "python",
   "nbconvert_exporter": "python",
   "pygments_lexer": "ipython3",
   "version": "3.8.13"
  },
  "vscode": {
   "interpreter": {
    "hash": "b6b88a8194cd92b549912c5fccf4f99c3c2f8b37389322b86781a2268700b256"
   }
  }
 },
 "nbformat": 4,
 "nbformat_minor": 5
}
