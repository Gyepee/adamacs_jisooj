{
 "cells": [
  {
   "attachments": {},
   "cell_type": "markdown",
   "id": "46f28eb7-1fcc-4b9a-803e-097202fd899d",
   "metadata": {},
   "source": [
    "# Behavior Session Ingestion"
   ]
  },
  {
   "attachments": {},
   "cell_type": "markdown",
   "id": "bba759c2-4cc1-45ee-9212-422a604c32a4",
   "metadata": {},
   "source": [
    "## Setup"
   ]
  },
  {
   "attachments": {},
   "cell_type": "markdown",
   "id": "0da9aa77-afbf-43b2-ad19-e497e05e8627",
   "metadata": {},
   "source": [
    "### Connect to the database"
   ]
  },
  {
   "attachments": {},
   "cell_type": "markdown",
   "id": "bd1468c3-3915-49e6-89a9-10c7940017fd",
   "metadata": {},
   "source": [
    "If you are don't have your login information, contact the administrator.\n",
    "\n",
    "Using local config file (see [01_pipeline](./01_pipeline.ipynb)):\n",
    "\n",
    "Check out the respective elements video: https://www.youtube.com/watch?v=DLYqnj40eAM\n",
    "\n",
    "Use this as info NB https://github.com/SFB1089/workflow-calcium-imaging/blob/main/notebooks/07-downstream-analysis-optional.ipynb\n"
   ]
  },
  {
   "cell_type": "code",
   "execution_count": 1,
   "id": "301f9675-53e0-4ff6-bf3d-baba6589d6e3",
   "metadata": {},
   "outputs": [
    {
     "name": "stderr",
     "output_type": "stream",
     "text": [
      "[2023-11-21 15:54:20,906][INFO]: Connecting tobiasr@172.26.128.53:3306\n",
      "[2023-11-21 15:54:20,951][INFO]: Connected tobiasr@172.26.128.53:3306\n"
     ]
    },
    {
     "data": {
      "text/plain": [
       "DataJoint connection (connected) tobiasr@172.26.128.53:3306"
      ]
     },
     "execution_count": 1,
     "metadata": {},
     "output_type": "execute_result"
    }
   ],
   "source": [
    "import os\n",
    "# change to the upper level folder to detect dj_loc<al_conf.json\n",
    "if os.path.basename(os.getcwd())=='notebooks': os.chdir('..')\n",
    "assert os.path.basename(os.getcwd())=='adamacs', (\"Please move to the main directory\")\n",
    "import datajoint as dj; dj.conn()\n"
   ]
  },
  {
   "attachments": {},
   "cell_type": "markdown",
   "id": "7a2e2ccf-01d6-4d31-932b-aa12f8cd05a8",
   "metadata": {},
   "source": [
    "Manual entry:"
   ]
  },
  {
   "attachments": {},
   "cell_type": "markdown",
   "id": "6596a27a-164b-4540-8a30-5e03713574fd",
   "metadata": {},
   "source": [
    "### Imports and activation\n",
    "\n",
    "Importing schema from `adamacs.pipeline` automatically activates relevant schema."
   ]
  },
  {
   "cell_type": "code",
   "execution_count": 2,
   "id": "a974a493-4d5e-48e9-a981-b203932c4f6d",
   "metadata": {},
   "outputs": [],
   "source": [
    "from adamacs.pipeline import subject, session, surgery, scan, event, trial, imaging, behavior\n",
    "from adamacs import utility\n",
    "from adamacs.ingest import behavior as ibe\n",
    "from pywavesurfer import ws\n",
    "import matplotlib.pyplot as plt\n",
    "import numpy as np\n",
    "# check https://elements.datajoint.org/description/event/ for doc"
   ]
  },
  {
   "attachments": {},
   "cell_type": "markdown",
   "id": "cd62e6a3-20a9-4175-bbf8-5b3247c2de5b",
   "metadata": {},
   "source": [
    "Assign easy names for relevant tables"
   ]
  },
  {
   "cell_type": "code",
   "execution_count": 3,
   "id": "67d55cbc",
   "metadata": {},
   "outputs": [],
   "source": [
    "sub, lab, protocol, line, mutation, user, project, subject_genotype, subject_death = (\n",
    "    subject.Subject(), subject.Lab(), subject.Protocol(), subject.Line(), \n",
    "    subject.Mutation(), subject.User(), subject.Project(), subject.SubjectGenotype(), \n",
    "    subject.SubjectDeath())"
   ]
  },
  {
   "attachments": {},
   "cell_type": "markdown",
   "id": "bb115bfc-2abb-45c9-bcba-c5c9e73b8990",
   "metadata": {},
   "source": [
    "## Ingesting behavior"
   ]
  },
  {
   "cell_type": "code",
   "execution_count": 4,
   "id": "038ae4f5",
   "metadata": {},
   "outputs": [
    {
     "data": {
      "text/html": [
       "\n",
       "    \n",
       "    <style type=\"text/css\">\n",
       "        .Table{\n",
       "            border-collapse:collapse;\n",
       "        }\n",
       "        .Table th{\n",
       "            background: #A0A0A0; color: #ffffff; padding:4px; border:#f0e0e0 1px solid;\n",
       "            font-weight: normal; font-family: monospace; font-size: 100%;\n",
       "        }\n",
       "        .Table td{\n",
       "            padding:4px; border:#f0e0e0 1px solid; font-size:100%;\n",
       "        }\n",
       "        .Table tr:nth-child(odd){\n",
       "            background: #ffffff;\n",
       "            color: #000000;\n",
       "        }\n",
       "        .Table tr:nth-child(even){\n",
       "            background: #f3f1ff;\n",
       "            color: #000000;\n",
       "        }\n",
       "        /* Tooltip container */\n",
       "        .djtooltip {\n",
       "        }\n",
       "        /* Tooltip text */\n",
       "        .djtooltip .djtooltiptext {\n",
       "            visibility: hidden;\n",
       "            width: 120px;\n",
       "            background-color: black;\n",
       "            color: #fff;\n",
       "            text-align: center;\n",
       "            padding: 5px 0;\n",
       "            border-radius: 6px;\n",
       "            /* Position the tooltip text - see examples below! */\n",
       "            position: absolute;\n",
       "            z-index: 1;\n",
       "        }\n",
       "        #primary {\n",
       "            font-weight: bold;\n",
       "            color: black;\n",
       "        }\n",
       "        #nonprimary {\n",
       "            font-weight: normal;\n",
       "            color: white;\n",
       "        }\n",
       "\n",
       "        /* Show the tooltip text when you mouse over the tooltip container */\n",
       "        .djtooltip:hover .djtooltiptext {\n",
       "            visibility: visible;\n",
       "        }\n",
       "    </style>\n",
       "    \n",
       "    <b>general data about the reso/meso scans from header</b>\n",
       "        <div style=\"max-height:1000px;max-width:1500px;overflow:auto;\">\n",
       "        <table border=\"1\" class=\"Table\">\n",
       "            <thead> <tr style=\"text-align: right;\"> <th> <div class=\"djtooltip\">\n",
       "                            <p id=\"primary\">session_id</p>\n",
       "                            <span class=\"djtooltiptext\"></span>\n",
       "                        </div></th><th><div class=\"djtooltip\">\n",
       "                            <p id=\"primary\">scan_id</p>\n",
       "                            <span class=\"djtooltiptext\"></span>\n",
       "                        </div></th><th><div class=\"djtooltip\">\n",
       "                            <p id=\"nonprimary\">nfields</p>\n",
       "                            <span class=\"djtooltiptext\">number of fields</span>\n",
       "                        </div></th><th><div class=\"djtooltip\">\n",
       "                            <p id=\"nonprimary\">nchannels</p>\n",
       "                            <span class=\"djtooltiptext\">number of channels</span>\n",
       "                        </div></th><th><div class=\"djtooltip\">\n",
       "                            <p id=\"nonprimary\">ndepths</p>\n",
       "                            <span class=\"djtooltiptext\">Number of scanning depths (planes)</span>\n",
       "                        </div></th><th><div class=\"djtooltip\">\n",
       "                            <p id=\"nonprimary\">nframes</p>\n",
       "                            <span class=\"djtooltiptext\">number of recorded frames</span>\n",
       "                        </div></th><th><div class=\"djtooltip\">\n",
       "                            <p id=\"nonprimary\">nrois</p>\n",
       "                            <span class=\"djtooltiptext\">number of ROIs (see scanimage's multi ROI imaging)</span>\n",
       "                        </div></th><th><div class=\"djtooltip\">\n",
       "                            <p id=\"nonprimary\">x</p>\n",
       "                            <span class=\"djtooltiptext\">(um) ScanImage's 0 point in the motor coordinate system</span>\n",
       "                        </div></th><th><div class=\"djtooltip\">\n",
       "                            <p id=\"nonprimary\">y</p>\n",
       "                            <span class=\"djtooltiptext\">(um) ScanImage's 0 point in the motor coordinate system</span>\n",
       "                        </div></th><th><div class=\"djtooltip\">\n",
       "                            <p id=\"nonprimary\">z</p>\n",
       "                            <span class=\"djtooltiptext\">(um) ScanImage's 0 point in the motor coordinate system</span>\n",
       "                        </div></th><th><div class=\"djtooltip\">\n",
       "                            <p id=\"nonprimary\">fps</p>\n",
       "                            <span class=\"djtooltiptext\">(Hz) frames per second - Volumetric Scan Rate</span>\n",
       "                        </div></th><th><div class=\"djtooltip\">\n",
       "                            <p id=\"nonprimary\">bidirectional</p>\n",
       "                            <span class=\"djtooltiptext\">true = bidirectional scanning</span>\n",
       "                        </div></th><th><div class=\"djtooltip\">\n",
       "                            <p id=\"nonprimary\">usecs_per_line</p>\n",
       "                            <span class=\"djtooltiptext\">microseconds per scan line</span>\n",
       "                        </div></th><th><div class=\"djtooltip\">\n",
       "                            <p id=\"nonprimary\">fill_fraction</p>\n",
       "                            <span class=\"djtooltiptext\">raster scan temporal fill fraction (see scanimage)</span>\n",
       "                        </div></th><th><div class=\"djtooltip\">\n",
       "                            <p id=\"nonprimary\">scan_datetime</p>\n",
       "                            <span class=\"djtooltiptext\">datetime of the scan</span>\n",
       "                        </div></th><th><div class=\"djtooltip\">\n",
       "                            <p id=\"nonprimary\">scan_duration</p>\n",
       "                            <span class=\"djtooltiptext\">(seconds) duration of the scan</span>\n",
       "                        </div></th><th><div class=\"djtooltip\">\n",
       "                            <p id=\"nonprimary\">userfunction_info</p>\n",
       "                            <span class=\"djtooltiptext\">string argument of file consolidation userfunction 1</span>\n",
       "                        </div> </th> </tr> </thead>\n",
       "            <tbody> <tr> <td>sess9FI8ALGO</td>\n",
       "<td>scan9FI8ALGO</td>\n",
       "<td>1</td>\n",
       "<td>1</td>\n",
       "<td>1</td>\n",
       "<td>4550</td>\n",
       "<td>0</td>\n",
       "<td>0.0</td>\n",
       "<td>0.0</td>\n",
       "<td>0.0</td>\n",
       "<td>7.57571</td>\n",
       "<td>1</td>\n",
       "<td>250.001</td>\n",
       "<td>0.9</td>\n",
       "<td>None</td>\n",
       "<td>600.604</td>\n",
       "<td>openfield</td></tr><tr><td>sess9FK60RLK</td>\n",
       "<td>scan9FK60RLK</td>\n",
       "<td>1</td>\n",
       "<td>1</td>\n",
       "<td>1</td>\n",
       "<td>25200</td>\n",
       "<td>0</td>\n",
       "<td>22382.3</td>\n",
       "<td>23852.2</td>\n",
       "<td>48474.3</td>\n",
       "<td>29.9784</td>\n",
       "<td>1</td>\n",
       "<td>63.1769</td>\n",
       "<td>0.712867</td>\n",
       "<td>None</td>\n",
       "<td>840.605</td>\n",
       "<td>bench2p</td></tr><tr><td>sess9FK618YH</td>\n",
       "<td>scan9FK618YH</td>\n",
       "<td>1</td>\n",
       "<td>1</td>\n",
       "<td>1</td>\n",
       "<td>25200</td>\n",
       "<td>0</td>\n",
       "<td>22382.3</td>\n",
       "<td>23852.2</td>\n",
       "<td>48472.3</td>\n",
       "<td>29.9784</td>\n",
       "<td>1</td>\n",
       "<td>63.1769</td>\n",
       "<td>0.712867</td>\n",
       "<td>None</td>\n",
       "<td>840.605</td>\n",
       "<td>bench2p</td></tr><tr><td>sess9FK61UDV</td>\n",
       "<td>scan9FK61UDV</td>\n",
       "<td>1</td>\n",
       "<td>1</td>\n",
       "<td>1</td>\n",
       "<td>57600</td>\n",
       "<td>0</td>\n",
       "<td>22382.3</td>\n",
       "<td>23852.2</td>\n",
       "<td>48468.4</td>\n",
       "<td>29.9784</td>\n",
       "<td>1</td>\n",
       "<td>63.1769</td>\n",
       "<td>0.712867</td>\n",
       "<td>None</td>\n",
       "<td>1921.38</td>\n",
       "<td>bench2p</td></tr><tr><td>sess9FK6L4WD</td>\n",
       "<td>scan9FK6L4WD</td>\n",
       "<td>1</td>\n",
       "<td>1</td>\n",
       "<td>1</td>\n",
       "<td>10200</td>\n",
       "<td>0</td>\n",
       "<td>22355.7</td>\n",
       "<td>23633.1</td>\n",
       "<td>48519.0</td>\n",
       "<td>29.9784</td>\n",
       "<td>1</td>\n",
       "<td>63.1769</td>\n",
       "<td>0.712867</td>\n",
       "<td>None</td>\n",
       "<td>340.245</td>\n",
       "<td>bench2p</td></tr><tr><td>sess9FKFM3IW</td>\n",
       "<td>scan9FKFM3IW</td>\n",
       "<td>1</td>\n",
       "<td>1</td>\n",
       "<td>1</td>\n",
       "<td>9000</td>\n",
       "<td>0</td>\n",
       "<td>17671.7</td>\n",
       "<td>25554.3</td>\n",
       "<td>11490.5</td>\n",
       "<td>29.9592</td>\n",
       "<td>1</td>\n",
       "<td>63.2172</td>\n",
       "<td>0.712867</td>\n",
       "<td>None</td>\n",
       "<td>300.409</td>\n",
       "<td>bench2p</td></tr><tr><td>sess9FKOI7ZY</td>\n",
       "<td>scan9FKOI7ZY</td>\n",
       "<td>1</td>\n",
       "<td>1</td>\n",
       "<td>1</td>\n",
       "<td>47</td>\n",
       "<td>0</td>\n",
       "<td>0.0</td>\n",
       "<td>0.0</td>\n",
       "<td>0.0</td>\n",
       "<td>14.7058</td>\n",
       "<td>1</td>\n",
       "<td>250.001</td>\n",
       "<td>0.9</td>\n",
       "<td>None</td>\n",
       "<td>3.19602</td>\n",
       "<td>mini2p1_openfield</td></tr><tr><td>sess9FKSMSMZ</td>\n",
       "<td>scan9FKSMSMZ</td>\n",
       "<td>1</td>\n",
       "<td>1</td>\n",
       "<td>1</td>\n",
       "<td>8820</td>\n",
       "<td>0</td>\n",
       "<td>0.0</td>\n",
       "<td>0.0</td>\n",
       "<td>0.0</td>\n",
       "<td>14.7058</td>\n",
       "<td>1</td>\n",
       "<td>250.001</td>\n",
       "<td>0.9</td>\n",
       "<td>None</td>\n",
       "<td>599.763</td>\n",
       "<td>mini2p1_openfield</td></tr><tr><td>sess9FKSMYYS</td>\n",
       "<td>scan9FKSMYYS</td>\n",
       "<td>1</td>\n",
       "<td>1</td>\n",
       "<td>1</td>\n",
       "<td>8820</td>\n",
       "<td>0</td>\n",
       "<td>0.0</td>\n",
       "<td>0.0</td>\n",
       "<td>0.0</td>\n",
       "<td>14.7058</td>\n",
       "<td>1</td>\n",
       "<td>250.001</td>\n",
       "<td>0.9</td>\n",
       "<td>None</td>\n",
       "<td>599.763</td>\n",
       "<td>mini2p1_openfield</td></tr><tr><td>sess9FKSN4XD</td>\n",
       "<td>scan9FKSN4XD</td>\n",
       "<td>1</td>\n",
       "<td>1</td>\n",
       "<td>1</td>\n",
       "<td>8820</td>\n",
       "<td>0</td>\n",
       "<td>0.0</td>\n",
       "<td>0.0</td>\n",
       "<td>0.0</td>\n",
       "<td>14.7058</td>\n",
       "<td>1</td>\n",
       "<td>250.001</td>\n",
       "<td>0.9</td>\n",
       "<td>None</td>\n",
       "<td>599.763</td>\n",
       "<td>mini2p1_openfield</td></tr><tr><td>sess9FKW82R3</td>\n",
       "<td>scan9FKW82R3</td>\n",
       "<td>1</td>\n",
       "<td>1</td>\n",
       "<td>1</td>\n",
       "<td>8800</td>\n",
       "<td>0</td>\n",
       "<td>0.0</td>\n",
       "<td>0.0</td>\n",
       "<td>0.0</td>\n",
       "<td>14.7058</td>\n",
       "<td>1</td>\n",
       "<td>250.001</td>\n",
       "<td>0.9</td>\n",
       "<td>None</td>\n",
       "<td>598.403</td>\n",
       "<td>mini2p1_openfield</td></tr><tr><td>sess9FKWT2RT</td>\n",
       "<td>scan9FKWT2RT</td>\n",
       "<td>1</td>\n",
       "<td>1</td>\n",
       "<td>1</td>\n",
       "<td>8800</td>\n",
       "<td>0</td>\n",
       "<td>0.0</td>\n",
       "<td>0.0</td>\n",
       "<td>0.0</td>\n",
       "<td>14.7058</td>\n",
       "<td>1</td>\n",
       "<td>250.001</td>\n",
       "<td>0.9</td>\n",
       "<td>None</td>\n",
       "<td>598.403</td>\n",
       "<td>mini2p1_openfield</td></tr><tr><td>sess9FKWT95S</td>\n",
       "<td>scan9FKWT95S</td>\n",
       "<td>1</td>\n",
       "<td>1</td>\n",
       "<td>1</td>\n",
       "<td>8800</td>\n",
       "<td>0</td>\n",
       "<td>0.0</td>\n",
       "<td>0.0</td>\n",
       "<td>0.0</td>\n",
       "<td>14.7058</td>\n",
       "<td>1</td>\n",
       "<td>250.001</td>\n",
       "<td>0.9</td>\n",
       "<td>None</td>\n",
       "<td>598.403</td>\n",
       "<td>mini2p1_openfield</td></tr><tr><td>sess9FKWTLNS</td>\n",
       "<td>scan9FKWTLNS</td>\n",
       "<td>1</td>\n",
       "<td>1</td>\n",
       "<td>1</td>\n",
       "<td>8800</td>\n",
       "<td>0</td>\n",
       "<td>0.0</td>\n",
       "<td>0.0</td>\n",
       "<td>0.0</td>\n",
       "<td>7.57571</td>\n",
       "<td>1</td>\n",
       "<td>250.001</td>\n",
       "<td>0.9</td>\n",
       "<td>None</td>\n",
       "<td>1161.61</td>\n",
       "<td>mini2p1_openfield</td></tr><tr><td>sess9FKYPPYS</td>\n",
       "<td>scan9FKYPPYS</td>\n",
       "<td>1</td>\n",
       "<td>1</td>\n",
       "<td>1</td>\n",
       "<td>9000</td>\n",
       "<td>0</td>\n",
       "<td>22359.0</td>\n",
       "<td>22732.6</td>\n",
       "<td>47810.5</td>\n",
       "<td>29.97</td>\n",
       "<td>1</td>\n",
       "<td>63.1946</td>\n",
       "<td>0.712867</td>\n",
       "<td>None</td>\n",
       "<td>300.3</td>\n",
       "<td>bench2p</td></tr><tr><td>sess9FKYPVYG</td>\n",
       "<td>scan9FKYPVYG</td>\n",
       "<td>1</td>\n",
       "<td>1</td>\n",
       "<td>1</td>\n",
       "<td>5400</td>\n",
       "<td>0</td>\n",
       "<td>22540.4</td>\n",
       "<td>22714.0</td>\n",
       "<td>47707.4</td>\n",
       "<td>29.9572</td>\n",
       "<td>1</td>\n",
       "<td>63.2214</td>\n",
       "<td>0.712867</td>\n",
       "<td>None</td>\n",
       "<td>180.257</td>\n",
       "<td>bench2p</td> </tr> </tbody>\n",
       "        </table>\n",
       "        \n",
       "        <p>Total: 16</p></div>\n",
       "        "
      ],
      "text/plain": [
       "*session_id    *scan_id       nfields     nchannels     ndepths     nframes     nrois     x           y           z           fps         bidirectional  usecs_per_line fill_fraction  scan_datetime  scan_duration  userfunction_i\n",
       "+------------+ +------------+ +---------+ +-----------+ +---------+ +---------+ +-------+ +---------+ +---------+ +---------+ +---------+ +------------+ +------------+ +------------+ +------------+ +------------+ +------------+\n",
       "sess9FI8ALGO   scan9FI8ALGO   1           1             1           4550        0         0.0         0.0         0.0         7.57571     1              250.001        0.9            None           600.604        openfield     \n",
       "sess9FK60RLK   scan9FK60RLK   1           1             1           25200       0         22382.3     23852.2     48474.3     29.9784     1              63.1769        0.712867       None           840.605        bench2p       \n",
       "sess9FK618YH   scan9FK618YH   1           1             1           25200       0         22382.3     23852.2     48472.3     29.9784     1              63.1769        0.712867       None           840.605        bench2p       \n",
       "sess9FK61UDV   scan9FK61UDV   1           1             1           57600       0         22382.3     23852.2     48468.4     29.9784     1              63.1769        0.712867       None           1921.38        bench2p       \n",
       "sess9FK6L4WD   scan9FK6L4WD   1           1             1           10200       0         22355.7     23633.1     48519.0     29.9784     1              63.1769        0.712867       None           340.245        bench2p       \n",
       "sess9FKFM3IW   scan9FKFM3IW   1           1             1           9000        0         17671.7     25554.3     11490.5     29.9592     1              63.2172        0.712867       None           300.409        bench2p       \n",
       "sess9FKOI7ZY   scan9FKOI7ZY   1           1             1           47          0         0.0         0.0         0.0         14.7058     1              250.001        0.9            None           3.19602        mini2p1_openfi\n",
       "sess9FKSMSMZ   scan9FKSMSMZ   1           1             1           8820        0         0.0         0.0         0.0         14.7058     1              250.001        0.9            None           599.763        mini2p1_openfi\n",
       "sess9FKSMYYS   scan9FKSMYYS   1           1             1           8820        0         0.0         0.0         0.0         14.7058     1              250.001        0.9            None           599.763        mini2p1_openfi\n",
       "sess9FKSN4XD   scan9FKSN4XD   1           1             1           8820        0         0.0         0.0         0.0         14.7058     1              250.001        0.9            None           599.763        mini2p1_openfi\n",
       "sess9FKW82R3   scan9FKW82R3   1           1             1           8800        0         0.0         0.0         0.0         14.7058     1              250.001        0.9            None           598.403        mini2p1_openfi\n",
       "sess9FKWT2RT   scan9FKWT2RT   1           1             1           8800        0         0.0         0.0         0.0         14.7058     1              250.001        0.9            None           598.403        mini2p1_openfi\n",
       "sess9FKWT95S   scan9FKWT95S   1           1             1           8800        0         0.0         0.0         0.0         14.7058     1              250.001        0.9            None           598.403        mini2p1_openfi\n",
       "sess9FKWTLNS   scan9FKWTLNS   1           1             1           8800        0         0.0         0.0         0.0         7.57571     1              250.001        0.9            None           1161.61        mini2p1_openfi\n",
       "sess9FKYPPYS   scan9FKYPPYS   1           1             1           9000        0         22359.0     22732.6     47810.5     29.97       1              63.1946        0.712867       None           300.3          bench2p       \n",
       "sess9FKYPVYG   scan9FKYPVYG   1           1             1           5400        0         22540.4     22714.0     47707.4     29.9572     1              63.2214        0.712867       None           180.257        bench2p       \n",
       " (Total: 16)"
      ]
     },
     "execution_count": 4,
     "metadata": {},
     "output_type": "execute_result"
    }
   ],
   "source": [
    "scan.ScanInfo()"
   ]
  },
  {
   "cell_type": "code",
   "execution_count": null,
   "id": "9f5e289b",
   "metadata": {},
   "outputs": [],
   "source": [
    "# (session.Session & scan_key).delete()"
   ]
  },
  {
   "cell_type": "code",
   "execution_count": null,
   "id": "1036ffca",
   "metadata": {},
   "outputs": [],
   "source": [
    "# trial.TrialType().delete()\n",
    "# trial.Trial.delete()\n",
    "# trial.TrialEvent.delete()"
   ]
  },
  {
   "cell_type": "markdown",
   "id": "66f02259",
   "metadata": {},
   "source": []
  },
  {
   "cell_type": "code",
   "execution_count": 5,
   "id": "681d737d-721e-4f3a-8386-c1c55968f0ff",
   "metadata": {},
   "outputs": [],
   "source": [
    "# scansi = \"scan9FJ4IJOQ\"\n",
    "scansi = \"scan9FK6L4WD\"\n",
    "scan_key = (scan.Scan & f'scan_id = \"{scansi}\"').fetch('KEY')[0]\n",
    "sessi = (scan.Scan & f'scan_id = \"{scansi}\"').fetch('session_id')[0]\n",
    "aux_setup_typestr = (scan.ScanInfo() & scan_key).fetch(\"userfunction_info\")[0]\n",
    "\n",
    "# ibe.ingest_aux(sessi,scansi,verbose=False, aux_setup_type=aux_setup_typestr)"
   ]
  },
  {
   "cell_type": "code",
   "execution_count": 6,
   "id": "be1bdbc0",
   "metadata": {},
   "outputs": [
    {
     "data": {
      "text/html": [
       "\n",
       "    \n",
       "    <style type=\"text/css\">\n",
       "        .Table{\n",
       "            border-collapse:collapse;\n",
       "        }\n",
       "        .Table th{\n",
       "            background: #A0A0A0; color: #ffffff; padding:4px; border:#f0e0e0 1px solid;\n",
       "            font-weight: normal; font-family: monospace; font-size: 100%;\n",
       "        }\n",
       "        .Table td{\n",
       "            padding:4px; border:#f0e0e0 1px solid; font-size:100%;\n",
       "        }\n",
       "        .Table tr:nth-child(odd){\n",
       "            background: #ffffff;\n",
       "            color: #000000;\n",
       "        }\n",
       "        .Table tr:nth-child(even){\n",
       "            background: #f3f1ff;\n",
       "            color: #000000;\n",
       "        }\n",
       "        /* Tooltip container */\n",
       "        .djtooltip {\n",
       "        }\n",
       "        /* Tooltip text */\n",
       "        .djtooltip .djtooltiptext {\n",
       "            visibility: hidden;\n",
       "            width: 120px;\n",
       "            background-color: black;\n",
       "            color: #fff;\n",
       "            text-align: center;\n",
       "            padding: 5px 0;\n",
       "            border-radius: 6px;\n",
       "            /* Position the tooltip text - see examples below! */\n",
       "            position: absolute;\n",
       "            z-index: 1;\n",
       "        }\n",
       "        #primary {\n",
       "            font-weight: bold;\n",
       "            color: black;\n",
       "        }\n",
       "        #nonprimary {\n",
       "            font-weight: normal;\n",
       "            color: white;\n",
       "        }\n",
       "\n",
       "        /* Show the tooltip text when you mouse over the tooltip container */\n",
       "        .djtooltip:hover .djtooltiptext {\n",
       "            visibility: visible;\n",
       "        }\n",
       "    </style>\n",
       "    \n",
       "    <b>general data about the reso/meso scans from header</b>\n",
       "        <div style=\"max-height:1000px;max-width:1500px;overflow:auto;\">\n",
       "        <table border=\"1\" class=\"Table\">\n",
       "            <thead> <tr style=\"text-align: right;\"> <th> <div class=\"djtooltip\">\n",
       "                            <p id=\"primary\">session_id</p>\n",
       "                            <span class=\"djtooltiptext\"></span>\n",
       "                        </div></th><th><div class=\"djtooltip\">\n",
       "                            <p id=\"primary\">scan_id</p>\n",
       "                            <span class=\"djtooltiptext\"></span>\n",
       "                        </div></th><th><div class=\"djtooltip\">\n",
       "                            <p id=\"nonprimary\">nfields</p>\n",
       "                            <span class=\"djtooltiptext\">number of fields</span>\n",
       "                        </div></th><th><div class=\"djtooltip\">\n",
       "                            <p id=\"nonprimary\">nchannels</p>\n",
       "                            <span class=\"djtooltiptext\">number of channels</span>\n",
       "                        </div></th><th><div class=\"djtooltip\">\n",
       "                            <p id=\"nonprimary\">ndepths</p>\n",
       "                            <span class=\"djtooltiptext\">Number of scanning depths (planes)</span>\n",
       "                        </div></th><th><div class=\"djtooltip\">\n",
       "                            <p id=\"nonprimary\">nframes</p>\n",
       "                            <span class=\"djtooltiptext\">number of recorded frames</span>\n",
       "                        </div></th><th><div class=\"djtooltip\">\n",
       "                            <p id=\"nonprimary\">nrois</p>\n",
       "                            <span class=\"djtooltiptext\">number of ROIs (see scanimage's multi ROI imaging)</span>\n",
       "                        </div></th><th><div class=\"djtooltip\">\n",
       "                            <p id=\"nonprimary\">x</p>\n",
       "                            <span class=\"djtooltiptext\">(um) ScanImage's 0 point in the motor coordinate system</span>\n",
       "                        </div></th><th><div class=\"djtooltip\">\n",
       "                            <p id=\"nonprimary\">y</p>\n",
       "                            <span class=\"djtooltiptext\">(um) ScanImage's 0 point in the motor coordinate system</span>\n",
       "                        </div></th><th><div class=\"djtooltip\">\n",
       "                            <p id=\"nonprimary\">z</p>\n",
       "                            <span class=\"djtooltiptext\">(um) ScanImage's 0 point in the motor coordinate system</span>\n",
       "                        </div></th><th><div class=\"djtooltip\">\n",
       "                            <p id=\"nonprimary\">fps</p>\n",
       "                            <span class=\"djtooltiptext\">(Hz) frames per second - Volumetric Scan Rate</span>\n",
       "                        </div></th><th><div class=\"djtooltip\">\n",
       "                            <p id=\"nonprimary\">bidirectional</p>\n",
       "                            <span class=\"djtooltiptext\">true = bidirectional scanning</span>\n",
       "                        </div></th><th><div class=\"djtooltip\">\n",
       "                            <p id=\"nonprimary\">usecs_per_line</p>\n",
       "                            <span class=\"djtooltiptext\">microseconds per scan line</span>\n",
       "                        </div></th><th><div class=\"djtooltip\">\n",
       "                            <p id=\"nonprimary\">fill_fraction</p>\n",
       "                            <span class=\"djtooltiptext\">raster scan temporal fill fraction (see scanimage)</span>\n",
       "                        </div></th><th><div class=\"djtooltip\">\n",
       "                            <p id=\"nonprimary\">scan_datetime</p>\n",
       "                            <span class=\"djtooltiptext\">datetime of the scan</span>\n",
       "                        </div></th><th><div class=\"djtooltip\">\n",
       "                            <p id=\"nonprimary\">scan_duration</p>\n",
       "                            <span class=\"djtooltiptext\">(seconds) duration of the scan</span>\n",
       "                        </div></th><th><div class=\"djtooltip\">\n",
       "                            <p id=\"nonprimary\">userfunction_info</p>\n",
       "                            <span class=\"djtooltiptext\">string argument of file consolidation userfunction 1</span>\n",
       "                        </div> </th> </tr> </thead>\n",
       "            <tbody> <tr> <td>sess9FK6L4WD</td>\n",
       "<td>scan9FK6L4WD</td>\n",
       "<td>1</td>\n",
       "<td>1</td>\n",
       "<td>1</td>\n",
       "<td>10200</td>\n",
       "<td>0</td>\n",
       "<td>22355.7</td>\n",
       "<td>23633.1</td>\n",
       "<td>48519.0</td>\n",
       "<td>29.9784</td>\n",
       "<td>1</td>\n",
       "<td>63.1769</td>\n",
       "<td>0.712867</td>\n",
       "<td>None</td>\n",
       "<td>340.245</td>\n",
       "<td>bench2p</td> </tr> </tbody>\n",
       "        </table>\n",
       "        \n",
       "        <p>Total: 1</p></div>\n",
       "        "
      ],
      "text/plain": [
       "*session_id    *scan_id       nfields     nchannels     ndepths     nframes     nrois     x           y           z           fps         bidirectional  usecs_per_line fill_fraction  scan_datetime  scan_duration  userfunction_i\n",
       "+------------+ +------------+ +---------+ +-----------+ +---------+ +---------+ +-------+ +---------+ +---------+ +---------+ +---------+ +------------+ +------------+ +------------+ +------------+ +------------+ +------------+\n",
       "sess9FK6L4WD   scan9FK6L4WD   1           1             1           10200       0         22355.7     23633.1     48519.0     29.9784     1              63.1769        0.712867       None           340.245        bench2p       \n",
       " (Total: 1)"
      ]
     },
     "execution_count": 6,
     "metadata": {},
     "output_type": "execute_result"
    }
   ],
   "source": [
    "scan.ScanInfo() & scan_key"
   ]
  },
  {
   "cell_type": "code",
   "execution_count": 7,
   "id": "e7cf3793",
   "metadata": {},
   "outputs": [
    {
     "data": {
      "text/html": [
       "\n",
       "    \n",
       "    <style type=\"text/css\">\n",
       "        .Table{\n",
       "            border-collapse:collapse;\n",
       "        }\n",
       "        .Table th{\n",
       "            background: #A0A0A0; color: #ffffff; padding:4px; border:#f0e0e0 1px solid;\n",
       "            font-weight: normal; font-family: monospace; font-size: 100%;\n",
       "        }\n",
       "        .Table td{\n",
       "            padding:4px; border:#f0e0e0 1px solid; font-size:100%;\n",
       "        }\n",
       "        .Table tr:nth-child(odd){\n",
       "            background: #ffffff;\n",
       "            color: #000000;\n",
       "        }\n",
       "        .Table tr:nth-child(even){\n",
       "            background: #f3f1ff;\n",
       "            color: #000000;\n",
       "        }\n",
       "        /* Tooltip container */\n",
       "        .djtooltip {\n",
       "        }\n",
       "        /* Tooltip text */\n",
       "        .djtooltip .djtooltiptext {\n",
       "            visibility: hidden;\n",
       "            width: 120px;\n",
       "            background-color: black;\n",
       "            color: #fff;\n",
       "            text-align: center;\n",
       "            padding: 5px 0;\n",
       "            border-radius: 6px;\n",
       "            /* Position the tooltip text - see examples below! */\n",
       "            position: absolute;\n",
       "            z-index: 1;\n",
       "        }\n",
       "        #primary {\n",
       "            font-weight: bold;\n",
       "            color: black;\n",
       "        }\n",
       "        #nonprimary {\n",
       "            font-weight: normal;\n",
       "            color: white;\n",
       "        }\n",
       "\n",
       "        /* Show the tooltip text when you mouse over the tooltip container */\n",
       "        .djtooltip:hover .djtooltiptext {\n",
       "            visibility: visible;\n",
       "        }\n",
       "    </style>\n",
       "    \n",
       "    <b></b>\n",
       "        <div style=\"max-height:1000px;max-width:1500px;overflow:auto;\">\n",
       "        <table border=\"1\" class=\"Table\">\n",
       "            <thead> <tr style=\"text-align: right;\"> <th> <div class=\"djtooltip\">\n",
       "                            <p id=\"primary\">session_id</p>\n",
       "                            <span class=\"djtooltiptext\"></span>\n",
       "                        </div></th><th><div class=\"djtooltip\">\n",
       "                            <p id=\"primary\">scan_id</p>\n",
       "                            <span class=\"djtooltiptext\"></span>\n",
       "                        </div></th><th><div class=\"djtooltip\">\n",
       "                            <p id=\"primary\">event_type</p>\n",
       "                            <span class=\"djtooltiptext\"></span>\n",
       "                        </div></th><th><div class=\"djtooltip\">\n",
       "                            <p id=\"primary\">event_start_time</p>\n",
       "                            <span class=\"djtooltiptext\">(second) relative to recording start</span>\n",
       "                        </div></th><th><div class=\"djtooltip\">\n",
       "                            <p id=\"nonprimary\">event_end_time</p>\n",
       "                            <span class=\"djtooltiptext\">(second) relative to recording start</span>\n",
       "                        </div> </th> </tr> </thead>\n",
       "            <tbody> <tr> <td>sess9FK6L4WD</td>\n",
       "<td>scan9FK6L4WD</td>\n",
       "<td>Amplitude_Ramp;Full_Field_Chirp;0;0;254.5:57.9;0;0;0;</td>\n",
       "<td>30.3538</td>\n",
       "<td>38.2355</td></tr><tr><td>sess9FK6L4WD</td>\n",
       "<td>scan9FK6L4WD</td>\n",
       "<td>Amplitude_Ramp;Full_Field_Chirp;0;0;254.5:57.9;0;0;0;</td>\n",
       "<td>64.344</td>\n",
       "<td>72.2312</td></tr><tr><td>sess9FK6L4WD</td>\n",
       "<td>scan9FK6L4WD</td>\n",
       "<td>Amplitude_Ramp;Full_Field_Chirp;0;0;254.5:57.9;0;0;0;</td>\n",
       "<td>98.3486</td>\n",
       "<td>106.248</td></tr><tr><td>sess9FK6L4WD</td>\n",
       "<td>scan9FK6L4WD</td>\n",
       "<td>Amplitude_Ramp;Full_Field_Chirp;0;0;254.5:57.9;0;0;0;</td>\n",
       "<td>132.373</td>\n",
       "<td>140.264</td></tr><tr><td>sess9FK6L4WD</td>\n",
       "<td>scan9FK6L4WD</td>\n",
       "<td>Amplitude_Ramp;Full_Field_Chirp;0;0;254.5:57.9;0;0;0;</td>\n",
       "<td>166.382</td>\n",
       "<td>174.289</td></tr><tr><td>sess9FK6L4WD</td>\n",
       "<td>scan9FK6L4WD</td>\n",
       "<td>Amplitude_Ramp;Full_Field_Chirp;0;0;254.5:57.9;0;0;0;</td>\n",
       "<td>200.398</td>\n",
       "<td>208.312</td></tr><tr><td>sess9FK6L4WD</td>\n",
       "<td>scan9FK6L4WD</td>\n",
       "<td>Amplitude_Ramp;Full_Field_Chirp;0;0;254.5:57.9;0;0;0;</td>\n",
       "<td>234.415</td>\n",
       "<td>242.317</td></tr><tr><td>sess9FK6L4WD</td>\n",
       "<td>scan9FK6L4WD</td>\n",
       "<td>Amplitude_Ramp;Full_Field_Chirp;0;0;254.5:57.9;0;0;0;</td>\n",
       "<td>268.432</td>\n",
       "<td>276.333</td></tr><tr><td>sess9FK6L4WD</td>\n",
       "<td>scan9FK6L4WD</td>\n",
       "<td>Amplitude_Ramp;Full_Field_Chirp;0;0;254.5:57.9;0;0;0;</td>\n",
       "<td>302.448</td>\n",
       "<td>310.353</td></tr><tr><td>sess9FK6L4WD</td>\n",
       "<td>scan9FK6L4WD</td>\n",
       "<td>Amplitude_Ramp;Full_Field_Chirp;0;0;254.5:57.9;0;0;0;</td>\n",
       "<td>336.465</td>\n",
       "<td>343.368</td></tr><tr><td>sess9FK6L4WD</td>\n",
       "<td>scan9FK6L4WD</td>\n",
       "<td>aux_cam</td>\n",
       "<td>0.99995</td>\n",
       "<td>1.00495</td></tr><tr><td>sess9FK6L4WD</td>\n",
       "<td>scan9FK6L4WD</td>\n",
       "<td>aux_cam</td>\n",
       "<td>1.01665</td>\n",
       "<td>1.02165</td></tr><tr><td>sess9FK6L4WD</td>\n",
       "<td>scan9FK6L4WD</td>\n",
       "<td>aux_cam</td>\n",
       "<td>1.03335</td>\n",
       "<td>1.03835</td></tr><tr><td>sess9FK6L4WD</td>\n",
       "<td>scan9FK6L4WD</td>\n",
       "<td>aux_cam</td>\n",
       "<td>1.05005</td>\n",
       "<td>1.05505</td></tr><tr><td>sess9FK6L4WD</td>\n",
       "<td>scan9FK6L4WD</td>\n",
       "<td>aux_cam</td>\n",
       "<td>1.06675</td>\n",
       "<td>1.07175</td></tr><tr><td>sess9FK6L4WD</td>\n",
       "<td>scan9FK6L4WD</td>\n",
       "<td>aux_cam</td>\n",
       "<td>1.08345</td>\n",
       "<td>1.08845</td></tr><tr><td>sess9FK6L4WD</td>\n",
       "<td>scan9FK6L4WD</td>\n",
       "<td>aux_cam</td>\n",
       "<td>1.10015</td>\n",
       "<td>1.10515</td></tr><tr><td>sess9FK6L4WD</td>\n",
       "<td>scan9FK6L4WD</td>\n",
       "<td>aux_cam</td>\n",
       "<td>1.11685</td>\n",
       "<td>1.12185</td></tr><tr><td>sess9FK6L4WD</td>\n",
       "<td>scan9FK6L4WD</td>\n",
       "<td>aux_cam</td>\n",
       "<td>1.13355</td>\n",
       "<td>1.13855</td></tr><tr><td>sess9FK6L4WD</td>\n",
       "<td>scan9FK6L4WD</td>\n",
       "<td>aux_cam</td>\n",
       "<td>1.15025</td>\n",
       "<td>1.15525</td></tr><tr><td>sess9FK6L4WD</td>\n",
       "<td>scan9FK6L4WD</td>\n",
       "<td>aux_cam</td>\n",
       "<td>1.16695</td>\n",
       "<td>1.17195</td></tr><tr><td>sess9FK6L4WD</td>\n",
       "<td>scan9FK6L4WD</td>\n",
       "<td>aux_cam</td>\n",
       "<td>1.18365</td>\n",
       "<td>1.18865</td></tr><tr><td>sess9FK6L4WD</td>\n",
       "<td>scan9FK6L4WD</td>\n",
       "<td>aux_cam</td>\n",
       "<td>1.20035</td>\n",
       "<td>1.20535</td></tr><tr><td>sess9FK6L4WD</td>\n",
       "<td>scan9FK6L4WD</td>\n",
       "<td>aux_cam</td>\n",
       "<td>1.21705</td>\n",
       "<td>1.22205</td></tr><tr><td>sess9FK6L4WD</td>\n",
       "<td>scan9FK6L4WD</td>\n",
       "<td>aux_cam</td>\n",
       "<td>1.23375</td>\n",
       "<td>1.23875</td></tr><tr><td>sess9FK6L4WD</td>\n",
       "<td>scan9FK6L4WD</td>\n",
       "<td>aux_cam</td>\n",
       "<td>1.25045</td>\n",
       "<td>1.25545</td></tr><tr><td>sess9FK6L4WD</td>\n",
       "<td>scan9FK6L4WD</td>\n",
       "<td>aux_cam</td>\n",
       "<td>1.26715</td>\n",
       "<td>1.27215</td></tr><tr><td>sess9FK6L4WD</td>\n",
       "<td>scan9FK6L4WD</td>\n",
       "<td>aux_cam</td>\n",
       "<td>1.28385</td>\n",
       "<td>1.28885</td></tr><tr><td>sess9FK6L4WD</td>\n",
       "<td>scan9FK6L4WD</td>\n",
       "<td>aux_cam</td>\n",
       "<td>1.30055</td>\n",
       "<td>1.30555</td></tr><tr><td>sess9FK6L4WD</td>\n",
       "<td>scan9FK6L4WD</td>\n",
       "<td>aux_cam</td>\n",
       "<td>1.31725</td>\n",
       "<td>1.32225</td></tr><tr><td>sess9FK6L4WD</td>\n",
       "<td>scan9FK6L4WD</td>\n",
       "<td>aux_cam</td>\n",
       "<td>1.33395</td>\n",
       "<td>1.33895</td></tr><tr><td>sess9FK6L4WD</td>\n",
       "<td>scan9FK6L4WD</td>\n",
       "<td>aux_cam</td>\n",
       "<td>1.35065</td>\n",
       "<td>1.35565</td></tr><tr><td>sess9FK6L4WD</td>\n",
       "<td>scan9FK6L4WD</td>\n",
       "<td>aux_cam</td>\n",
       "<td>1.36735</td>\n",
       "<td>1.37235</td></tr><tr><td>sess9FK6L4WD</td>\n",
       "<td>scan9FK6L4WD</td>\n",
       "<td>aux_cam</td>\n",
       "<td>1.38405</td>\n",
       "<td>1.38905</td></tr><tr><td>sess9FK6L4WD</td>\n",
       "<td>scan9FK6L4WD</td>\n",
       "<td>aux_cam</td>\n",
       "<td>1.40075</td>\n",
       "<td>1.40575</td></tr><tr><td>sess9FK6L4WD</td>\n",
       "<td>scan9FK6L4WD</td>\n",
       "<td>aux_cam</td>\n",
       "<td>1.41745</td>\n",
       "<td>1.42245</td></tr><tr><td>sess9FK6L4WD</td>\n",
       "<td>scan9FK6L4WD</td>\n",
       "<td>aux_cam</td>\n",
       "<td>1.43415</td>\n",
       "<td>1.43915</td></tr><tr><td>sess9FK6L4WD</td>\n",
       "<td>scan9FK6L4WD</td>\n",
       "<td>aux_cam</td>\n",
       "<td>1.45085</td>\n",
       "<td>1.45585</td></tr><tr><td>sess9FK6L4WD</td>\n",
       "<td>scan9FK6L4WD</td>\n",
       "<td>aux_cam</td>\n",
       "<td>1.46755</td>\n",
       "<td>1.47255</td></tr><tr><td>sess9FK6L4WD</td>\n",
       "<td>scan9FK6L4WD</td>\n",
       "<td>aux_cam</td>\n",
       "<td>1.48425</td>\n",
       "<td>1.48925</td></tr><tr><td>sess9FK6L4WD</td>\n",
       "<td>scan9FK6L4WD</td>\n",
       "<td>aux_cam</td>\n",
       "<td>1.50095</td>\n",
       "<td>1.50595</td></tr><tr><td>sess9FK6L4WD</td>\n",
       "<td>scan9FK6L4WD</td>\n",
       "<td>aux_cam</td>\n",
       "<td>1.51765</td>\n",
       "<td>1.52265</td></tr><tr><td>sess9FK6L4WD</td>\n",
       "<td>scan9FK6L4WD</td>\n",
       "<td>aux_cam</td>\n",
       "<td>1.53435</td>\n",
       "<td>1.53935</td></tr><tr><td>sess9FK6L4WD</td>\n",
       "<td>scan9FK6L4WD</td>\n",
       "<td>aux_cam</td>\n",
       "<td>1.55105</td>\n",
       "<td>1.55605</td></tr><tr><td>sess9FK6L4WD</td>\n",
       "<td>scan9FK6L4WD</td>\n",
       "<td>aux_cam</td>\n",
       "<td>1.56775</td>\n",
       "<td>1.57275</td></tr><tr><td>sess9FK6L4WD</td>\n",
       "<td>scan9FK6L4WD</td>\n",
       "<td>aux_cam</td>\n",
       "<td>1.58445</td>\n",
       "<td>1.58945</td></tr><tr><td>sess9FK6L4WD</td>\n",
       "<td>scan9FK6L4WD</td>\n",
       "<td>aux_cam</td>\n",
       "<td>1.60115</td>\n",
       "<td>1.60615</td></tr><tr><td>sess9FK6L4WD</td>\n",
       "<td>scan9FK6L4WD</td>\n",
       "<td>aux_cam</td>\n",
       "<td>1.61785</td>\n",
       "<td>1.62285</td></tr><tr><td>sess9FK6L4WD</td>\n",
       "<td>scan9FK6L4WD</td>\n",
       "<td>aux_cam</td>\n",
       "<td>1.63455</td>\n",
       "<td>1.63955</td></tr><tr><td>sess9FK6L4WD</td>\n",
       "<td>scan9FK6L4WD</td>\n",
       "<td>aux_cam</td>\n",
       "<td>1.65125</td>\n",
       "<td>1.65625</td> </tr> </tbody>\n",
       "        </table>\n",
       "        <p>...</p>\n",
       "        <p>Total: 40970</p></div>\n",
       "        "
      ],
      "text/plain": [
       "*session_id    *scan_id       *event_type    *event_start_t event_end_time\n",
       "+------------+ +------------+ +------------+ +------------+ +------------+\n",
       "sess9FK6L4WD   scan9FK6L4WD   Amplitude_Ramp 30.3538        38.2355       \n",
       "sess9FK6L4WD   scan9FK6L4WD   Amplitude_Ramp 64.344         72.2312       \n",
       "sess9FK6L4WD   scan9FK6L4WD   Amplitude_Ramp 98.3486        106.248       \n",
       "sess9FK6L4WD   scan9FK6L4WD   Amplitude_Ramp 132.373        140.264       \n",
       "sess9FK6L4WD   scan9FK6L4WD   Amplitude_Ramp 166.382        174.289       \n",
       "sess9FK6L4WD   scan9FK6L4WD   Amplitude_Ramp 200.398        208.312       \n",
       "sess9FK6L4WD   scan9FK6L4WD   Amplitude_Ramp 234.415        242.317       \n",
       "sess9FK6L4WD   scan9FK6L4WD   Amplitude_Ramp 268.432        276.333       \n",
       "sess9FK6L4WD   scan9FK6L4WD   Amplitude_Ramp 302.448        310.353       \n",
       "sess9FK6L4WD   scan9FK6L4WD   Amplitude_Ramp 336.465        343.368       \n",
       "sess9FK6L4WD   scan9FK6L4WD   aux_cam        0.99995        1.00495       \n",
       "sess9FK6L4WD   scan9FK6L4WD   aux_cam        1.01665        1.02165       \n",
       "sess9FK6L4WD   scan9FK6L4WD   aux_cam        1.03335        1.03835       \n",
       "sess9FK6L4WD   scan9FK6L4WD   aux_cam        1.05005        1.05505       \n",
       "sess9FK6L4WD   scan9FK6L4WD   aux_cam        1.06675        1.07175       \n",
       "sess9FK6L4WD   scan9FK6L4WD   aux_cam        1.08345        1.08845       \n",
       "sess9FK6L4WD   scan9FK6L4WD   aux_cam        1.10015        1.10515       \n",
       "sess9FK6L4WD   scan9FK6L4WD   aux_cam        1.11685        1.12185       \n",
       "sess9FK6L4WD   scan9FK6L4WD   aux_cam        1.13355        1.13855       \n",
       "sess9FK6L4WD   scan9FK6L4WD   aux_cam        1.15025        1.15525       \n",
       "sess9FK6L4WD   scan9FK6L4WD   aux_cam        1.16695        1.17195       \n",
       "sess9FK6L4WD   scan9FK6L4WD   aux_cam        1.18365        1.18865       \n",
       "sess9FK6L4WD   scan9FK6L4WD   aux_cam        1.20035        1.20535       \n",
       "sess9FK6L4WD   scan9FK6L4WD   aux_cam        1.21705        1.22205       \n",
       "sess9FK6L4WD   scan9FK6L4WD   aux_cam        1.23375        1.23875       \n",
       "sess9FK6L4WD   scan9FK6L4WD   aux_cam        1.25045        1.25545       \n",
       "sess9FK6L4WD   scan9FK6L4WD   aux_cam        1.26715        1.27215       \n",
       "sess9FK6L4WD   scan9FK6L4WD   aux_cam        1.28385        1.28885       \n",
       "sess9FK6L4WD   scan9FK6L4WD   aux_cam        1.30055        1.30555       \n",
       "sess9FK6L4WD   scan9FK6L4WD   aux_cam        1.31725        1.32225       \n",
       "sess9FK6L4WD   scan9FK6L4WD   aux_cam        1.33395        1.33895       \n",
       "sess9FK6L4WD   scan9FK6L4WD   aux_cam        1.35065        1.35565       \n",
       "sess9FK6L4WD   scan9FK6L4WD   aux_cam        1.36735        1.37235       \n",
       "sess9FK6L4WD   scan9FK6L4WD   aux_cam        1.38405        1.38905       \n",
       "sess9FK6L4WD   scan9FK6L4WD   aux_cam        1.40075        1.40575       \n",
       "sess9FK6L4WD   scan9FK6L4WD   aux_cam        1.41745        1.42245       \n",
       "sess9FK6L4WD   scan9FK6L4WD   aux_cam        1.43415        1.43915       \n",
       "sess9FK6L4WD   scan9FK6L4WD   aux_cam        1.45085        1.45585       \n",
       "sess9FK6L4WD   scan9FK6L4WD   aux_cam        1.46755        1.47255       \n",
       "sess9FK6L4WD   scan9FK6L4WD   aux_cam        1.48425        1.48925       \n",
       "sess9FK6L4WD   scan9FK6L4WD   aux_cam        1.50095        1.50595       \n",
       "sess9FK6L4WD   scan9FK6L4WD   aux_cam        1.51765        1.52265       \n",
       "sess9FK6L4WD   scan9FK6L4WD   aux_cam        1.53435        1.53935       \n",
       "sess9FK6L4WD   scan9FK6L4WD   aux_cam        1.55105        1.55605       \n",
       "sess9FK6L4WD   scan9FK6L4WD   aux_cam        1.56775        1.57275       \n",
       "sess9FK6L4WD   scan9FK6L4WD   aux_cam        1.58445        1.58945       \n",
       "sess9FK6L4WD   scan9FK6L4WD   aux_cam        1.60115        1.60615       \n",
       "sess9FK6L4WD   scan9FK6L4WD   aux_cam        1.61785        1.62285       \n",
       "sess9FK6L4WD   scan9FK6L4WD   aux_cam        1.63455        1.63955       \n",
       "sess9FK6L4WD   scan9FK6L4WD   aux_cam        1.65125        1.65625       \n",
       "   ...\n",
       " (Total: 40970)"
      ]
     },
     "execution_count": 7,
     "metadata": {},
     "output_type": "execute_result"
    }
   ],
   "source": [
    "event.Event & scan_key "
   ]
  },
  {
   "cell_type": "code",
   "execution_count": 29,
   "id": "7e6e9638",
   "metadata": {},
   "outputs": [
    {
     "name": "stdout",
     "output_type": "stream",
     "text": [
      "4\n",
      "{'Amplitude_Ramp;Full_Field_Chirp;0;0;254.5:57.9;0;0;0;': 10, 'Black_Flash;Full_Field_Chirp;0;0;254.5:57.9;0;0;0;': 20, 'Frequency_Ramp;Full_Field_Chirp;0;0;254.5:57.9;0;0;0;': 10, 'White_Flash;Full_Field_Chirp;0;0;254.5:57.9;0;0;0;': 10}\n",
      "{10, 20}\n",
      "50\n"
     ]
    }
   ],
   "source": [
    "stims_per_trial = len(set((event.Event & scan_key & 'event_type LIKE \"%;%\"').fetch(\"event_type\")))\n",
    "all_stims = (event.Event & scan_key & 'event_type LIKE \"%;%\"').fetch(\"event_type\")\n",
    "trial_stims = {x: list(all_stims).count(x) for x in all_stims}\n",
    "trials = set([list(all_stims).count(x) for x in all_stims])\n",
    "total_trials = len(all_stims)\n",
    "\n",
    "print(stims_per_trial)\n",
    "print(trial_stims)\n",
    "print(trials)\n",
    "print(total_trials)\n"
   ]
  },
  {
   "cell_type": "code",
   "execution_count": 30,
   "metadata": {},
   "outputs": [
    {
     "data": {
      "text/plain": [
       "10"
      ]
     },
     "execution_count": 30,
     "metadata": {},
     "output_type": "execute_result"
    }
   ],
   "source": [
    "min(trials)"
   ]
  },
  {
   "cell_type": "code",
   "execution_count": null,
   "metadata": {},
   "outputs": [],
   "source": [
    "(event.Event & scan_key & 'event_type LIKE \"%mini2p%\"')"
   ]
  },
  {
   "cell_type": "code",
   "execution_count": 9,
   "id": "d431f3ae",
   "metadata": {},
   "outputs": [],
   "source": [
    "trial_start_edges = (event.Event & scan_key & 'event_type LIKE \"%;%\"').fetch(\"event_start_time\",order_by = \"event_start_time\")[::stims_per_trial] \n",
    "trial_end_edges = (event.Event & scan_key & 'event_type LIKE \"%;%\"').fetch(\"event_end_time\",order_by = \"event_end_time\")[stims_per_trial-1::stims_per_trial] \n",
    "trial_event_name = (event.Event & scan_key & 'event_type LIKE \"%;%\"').fetch(\"event_type\")[0].split(':')[0]\n",
    "# trial.TrialType().insert1({'trial_type': trial_event_name, 'trial_type_description': ''}, skip_duplicates=True) "
   ]
  },
  {
   "cell_type": "code",
   "execution_count": null,
   "id": "8bc36f0d",
   "metadata": {},
   "outputs": [],
   "source": [
    "(event.Event & scan_key & 'event_type LIKE \"%;%\"').fetch(format = \"frame\",order_by = \"event_start_time\")"
   ]
  },
  {
   "cell_type": "code",
   "execution_count": null,
   "id": "af6b3f79",
   "metadata": {},
   "outputs": [],
   "source": [
    "trial.TrialType()"
   ]
  },
  {
   "cell_type": "code",
   "execution_count": null,
   "id": "29778623",
   "metadata": {},
   "outputs": [],
   "source": [
    "trial_start_edges"
   ]
  },
  {
   "cell_type": "code",
   "execution_count": null,
   "id": "c1335e3b",
   "metadata": {},
   "outputs": [],
   "source": [
    "trial_end_edges"
   ]
  },
  {
   "cell_type": "code",
   "execution_count": null,
   "id": "fae508c6",
   "metadata": {},
   "outputs": [],
   "source": [
    "event_names = (event.Event & scan_key & 'event_type LIKE \"%;%\"' & f\"event_end_time < {trial_end_edges[0]}\").fetch(\"event_type\",order_by = \"event_start_time\")\n",
    "event_onsets = (event.Event & scan_key & 'event_type LIKE \"%;%\"' & f\"event_end_time < {trial_end_edges[0]}\").fetch(\"event_start_time\",order_by = \"event_start_time\")"
   ]
  },
  {
   "cell_type": "code",
   "execution_count": null,
   "id": "e67ca985",
   "metadata": {},
   "outputs": [],
   "source": [
    "event_onsets"
   ]
  },
  {
   "cell_type": "markdown",
   "id": "6427b8bc",
   "metadata": {},
   "source": [
    "# Ingestions!"
   ]
  },
  {
   "cell_type": "code",
   "execution_count": null,
   "id": "d6e9cdfe",
   "metadata": {},
   "outputs": [],
   "source": [
    "ibe.ingest_aux(sessi,scansi, verbose=True, aux_setup_type=\"bench2p\")"
   ]
  },
  {
   "cell_type": "code",
   "execution_count": null,
   "id": "b405fdf4",
   "metadata": {},
   "outputs": [],
   "source": [
    "\n",
    "# ibe.ingest_aux(sessi,scansi, verbose=True, aux_setup_type=\"bench2p\")\n",
    "ibe.get_and_ingest_trial_times(scansi, aux_setup_typestr)     "
   ]
  },
  {
   "cell_type": "markdown",
   "id": "771af329",
   "metadata": {},
   "source": [
    "# example queries"
   ]
  },
  {
   "cell_type": "code",
   "execution_count": null,
   "id": "0eda5860",
   "metadata": {},
   "outputs": [],
   "source": [
    "scansi = \"scan9FJ5LVCL\"\n",
    "scan_key = (scan.Scan & f'scan_id = \"{scansi}\"').fetch('KEY')[0] \n",
    "\n",
    "(event.Event & scan_key & f'event_type LIKE \"%;%\"').fetch(format = \"frame\", order_by = \"event_start_time\")"
   ]
  },
  {
   "cell_type": "code",
   "execution_count": null,
   "id": "60475e03",
   "metadata": {},
   "outputs": [],
   "source": [
    "# example: get stimulus onsets and offsets of certain trials fro a single stimulus\n",
    "\n",
    "scansi = \"scan9FJ5LVCL\"\n",
    "scan_key = (scan.Scan & f'scan_id = \"{scansi}\"').fetch('KEY')[0] \n",
    "\n",
    "orientation = 180\n",
    "\n",
    "trialnum = 2\n",
    "\n",
    "dataframe = (event.Event * trial.TrialEvent & scan_key & f'event_type LIKE \"%{orientation}%\"' & f\"trial_id <= {trialnum}\").fetch(format = \"frame\")\n",
    "dataframe"
   ]
  },
  {
   "cell_type": "code",
   "execution_count": null,
   "id": "ebe69760",
   "metadata": {},
   "outputs": [],
   "source": [
    "# example: get stimulus onsets and offsets of certain trials fro a single stimulus\n",
    "temporal_freq = (event.Event * trial.TrialEvent & scan_key & f'event_type LIKE \"%{orientation}%\"' & f\"trial_id <= {trialnum}\").fetch(\"event_type\")[0].split(\";\")[7]\n",
    "\n",
    "print(temporal_freq)"
   ]
  },
  {
   "cell_type": "code",
   "execution_count": null,
   "id": "5a8b909f",
   "metadata": {},
   "outputs": [],
   "source": [
    "trialnum = 1 # 1-indexed!\n",
    "TrialEvent_query_keys = (event.Event * trial.Trial & scan_key & f'event_type LIKE \"%;%\"' & f'event_start_time <= \"{trial_end_edges[trialnum-1]}\"' & f'event_end_time >= \"{trial_start_edges[trialnum-1]}\"' & f'trial_id= \"{trialnum}\"').fetch(format = \"frame\", order_by = \"event_start_time\")"
   ]
  },
  {
   "cell_type": "code",
   "execution_count": null,
   "id": "a8240506",
   "metadata": {},
   "outputs": [],
   "source": [
    "trial.TrialEvent.insert(TrialEvent_query_keys,  allow_direct_insert=True, skip_duplicates=True, ignore_extra_fields=True)"
   ]
  },
  {
   "cell_type": "code",
   "execution_count": null,
   "id": "5d60a350",
   "metadata": {},
   "outputs": [],
   "source": []
  },
  {
   "cell_type": "code",
   "execution_count": null,
   "id": "29895939",
   "metadata": {},
   "outputs": [],
   "source": [
    "trial_start_edges = (event.Event & scan_key & 'event_type LIKE \"%;%\"').fetch(\"event_start_time\",order_by = \"event_start_time\")[::stims_per_trial] \n",
    "trial_end_edges = (event.Event & scan_key & 'event_type LIKE \"%;%\"').fetch(\"event_end_time\",order_by = \"event_end_time\")[stims_per_trial-1::stims_per_trial]     \n",
    "    \n",
    "trial_event_name = (event.Event & scan_key & 'event_type LIKE \"%;%\"').fetch(\"event_type\")[0].split(':')[0]\n",
    "trial.TrialType().insert1({'trial_type': trial_event_name, 'trial_type_description': ''}, skip_duplicates=True)\n"
   ]
  },
  {
   "cell_type": "code",
   "execution_count": null,
   "id": "471507c0",
   "metadata": {},
   "outputs": [],
   "source": [
    "for trialnum in enumerate(trial_start_edges):\n",
    "    trial.Trial.insert1({'session_id': sessi, 'scan_id': scansi, 'trial_id': trialnum[0], 'trial_type': trial_event_name, 'trial_start_time': trial_start_edges[trialnum[0]], 'trial_stop_time': trial_end_edges[trialnum[0]]},  allow_direct_insert=True, skip_duplicates=True)\n",
    "                \n",
    "    event_names = (event.Event & scan_key & 'event_type LIKE \"%;%\"' & f\"event_end_time < {trial_end_edges[0]}\").fetch(\"event_type\",order_by = \"event_start_time\")\n",
    "    event_onsets = (event.Event & scan_key & 'event_type LIKE \"%;%\"' & f\"event_end_time < {trial_end_edges[0]}\").fetch(\"event_start_time\",order_by = \"event_start_time\")\n",
    "    "
   ]
  },
  {
   "cell_type": "code",
   "execution_count": null,
   "id": "7375f760",
   "metadata": {},
   "outputs": [],
   "source": [
    "event_names"
   ]
  },
  {
   "cell_type": "code",
   "execution_count": null,
   "id": "00f1f2c7",
   "metadata": {},
   "outputs": [],
   "source": [
    "                trial.TrialEvent.insert1({'session_id': session_key, 'scan_id': scan_key, 'trial_id': trialnum[0], 'event_type': event_single, 'event_start_time': event_onsets[trialnum[0]]},  allow_direct_insert=True, skip_duplicates=True)"
   ]
  },
  {
   "cell_type": "code",
   "execution_count": null,
   "id": "bd27822c",
   "metadata": {},
   "outputs": [],
   "source": [
    "event_names = (event.Event & scan_key & 'event_type LIKE \"%;%\"' & f\"event_end_time < {trial_end_edges[0]}\").fetch(\"event_type\",order_by = \"event_start_time\")\n",
    "event_onsets = (event.Event & scan_key & 'event_type LIKE \"%;%\"' & f\"event_end_time < {trial_end_edges[0]}\").fetch(\"event_start_time\",order_by = \"event_start_time\")\n"
   ]
  },
  {
   "cell_type": "code",
   "execution_count": null,
   "id": "1c8db534",
   "metadata": {},
   "outputs": [],
   "source": [
    "scan_key"
   ]
  },
  {
   "cell_type": "code",
   "execution_count": null,
   "id": "615cae45",
   "metadata": {},
   "outputs": [],
   "source": [
    " trial.TrialEvent.insert1({'session_id': sessi, 'scan_id': scansi, 'trial_id': 0, 'trial_type': trial_event_name})"
   ]
  },
  {
   "cell_type": "code",
   "execution_count": null,
   "id": "3921e414",
   "metadata": {},
   "outputs": [],
   "source": [
    "trial.TrialEvent.insert1({'session_id': session_key, 'scan_id': scan_key, 'trial_id': trialnum[0], 'trial_type': trial_event_name, 'trial_start_time': trial_start_edges[trialnum[0]], 'trial_stop_time': trial_end_edges[trialnum[0]]},  allow_direct_insert=True, skip_duplicates=True)"
   ]
  },
  {
   "cell_type": "markdown",
   "id": "85f878e6",
   "metadata": {},
   "source": [
    "#  Plot the aux file"
   ]
  },
  {
   "cell_type": "code",
   "execution_count": null,
   "id": "c89ee0c7",
   "metadata": {},
   "outputs": [],
   "source": [
    "from element_interface.utils import find_full_path\n",
    "from adamacs.paths import get_experiment_root_data_dir\n",
    "\n",
    "bpod_path_relative = (event.BehaviorRecording.File & scan_key).fetch1(\"filepath\")\n",
    "auxpath = list(find_full_path(\n",
    "    get_experiment_root_data_dir(), bpod_path_relative\n",
    ").parent.glob(\"*h5\"))\n",
    "\n",
    "print(auxpath)"
   ]
  },
  {
   "cell_type": "code",
   "execution_count": null,
   "id": "ab1a1ab1",
   "metadata": {},
   "outputs": [],
   "source": [
    "aux_setup_typestr = (scan.ScanInfo() & 'scan_id = \"' + scansi + '\"').fetch(\"userfunction_info\")[0]\n",
    "aux_setup_typestr"
   ]
  },
  {
   "cell_type": "code",
   "execution_count": null,
   "id": "f83d9a4f",
   "metadata": {},
   "outputs": [],
   "source": [
    "curr_file = ws.loadDataFile(filename=auxpath[0], format_string='double' )"
   ]
  },
  {
   "cell_type": "code",
   "execution_count": null,
   "id": "bc84df51",
   "metadata": {},
   "outputs": [],
   "source": [
    "sweep = [x for x in curr_file.keys() if 'sweep' in x][0]"
   ]
  },
  {
   "cell_type": "code",
   "execution_count": null,
   "id": "0163efc3",
   "metadata": {},
   "outputs": [],
   "source": []
  },
  {
   "cell_type": "code",
   "execution_count": null,
   "id": "925fcc79",
   "metadata": {},
   "outputs": [],
   "source": [
    "import numpy as np\n",
    "\n",
    "analog_scans = curr_file[sweep]['analogScans']\n",
    "analog_labels = curr_file['header']['AIChannelNames']\n",
    "digital_labels = curr_file['header']['DIChannelNames']\n",
    "sr = curr_file['header']['AcquisitionSampleRate'][0][0]\n",
    "digital_scans = ibe.demultiplex(curr_file[sweep]['digitalScans'][0], np.shape(digital_labels)[0])\n",
    "step = 1000\n",
    "\n",
    "# Plotting analogScans\n",
    "# plt.figure(figsize=(12, 6))\n",
    "# plt.title(\"Analog Scans\")\n",
    "\n",
    "# Creating subplots\n",
    "fig, axes = plt.subplots(nrows=analog_scans.shape[0], ncols=1, figsize=(50, 10))\n",
    "\n",
    "# Plotting analogScans\n",
    "axes[0].set_title(f\"Analog Scans - Every {step}th Sample\")\n",
    "for i in range(analog_scans.shape[0]):\n",
    "     axes[i].plot(analog_scans[i][::step], label=f\"AI {analog_labels[i]}\")\n",
    "     axes[i].legend()\n",
    "     axes[i].set_xlabel(\"Sample Index\")\n",
    "     axes[i].set_ylabel(\"Signal\")\n",
    "\n",
    "plt.show()\n",
    "\n",
    "\n",
    "# Creating subplots\n",
    "fig, axes = plt.subplots(nrows=digital_scans.shape[0], ncols=1, figsize=(50, 10))\n",
    "\n",
    "# Plotting analogScans\n",
    "axes[0].set_title(f\"Digital Scans - Every {step}th Sample\")\n",
    "for i in range(digital_scans.shape[0]):\n",
    "     axes[i].plot(digital_scans[i][::step], label=f\"DI {digital_labels[::-1][i]}\")\n",
    "     axes[i].set_xlabel(\"Sample Index\")\n",
    "     axes[i].set_ylabel(\"Signal\")\n",
    "     axes[i].legend()\n",
    "     # axes.xlim(0, 10000)\n",
    "fig.suptitle(scan_key[\"scan_id\"], fontsize=16)\n",
    "\n",
    "\n",
    "plt.show()\n"
   ]
  },
  {
   "cell_type": "code",
   "execution_count": null,
   "metadata": {},
   "outputs": [],
   "source": [
    "step = 100\n",
    "\n",
    "# Plotting analogScans\n",
    "axes[0].set_title(f\"Analog Scans - Every {step}th Sample\")\n",
    "for i in range(analog_scans.shape[0]):\n",
    "     axes[i].plot(analog_scans[i][::step], label=f\"AI {analog_labels[i]}\")\n",
    "     axes[i].legend()\n",
    "     axes[i].set_xlim([xmin, xmax]) \n",
    "     axes[i].set_xlabel(\"Sample Index\")\n",
    "     axes[i].set_ylabel(\"Signal\")\n",
    "\n",
    "plt.show()\n",
    "\n",
    "\n",
    "# Creating subplots\n",
    "fig, axes = plt.subplots(nrows=digital_scans.shape[0], ncols=1, figsize=(50, 10))\n",
    "\n",
    "xmin = 0\n",
    "xmax = 100000\n",
    "\n",
    "# Plotting analogScans\n",
    "axes[0].set_title(f\"Digital Scans - Every {step}th Sample\")\n",
    "for i in range(digital_scans.shape[0]):\n",
    "     axes[i].plot(digital_scans[i][::step], label=f\"DI {digital_labels[::-1][i]}\")\n",
    "     axes[i].set_xlabel(\"Sample Index\")\n",
    "     axes[i].set_ylabel(\"Signal\")\n",
    "     axes[i].legend()\n",
    "     axes[i].set_xlim([xmin, xmax]) \n",
    "fig.suptitle(scan_key[\"scan_id\"], fontsize=16)\n",
    "\n",
    "\n",
    "plt.show()"
   ]
  },
  {
   "cell_type": "code",
   "execution_count": null,
   "id": "95dd5463",
   "metadata": {},
   "outputs": [],
   "source": [
    "(event.Event & scan_key & 'event_type LIKE \"%;%\"').fetch(\"event_start_time\",order_by = \"event_start_time\")[::stims_per_trial] "
   ]
  },
  {
   "cell_type": "code",
   "execution_count": null,
   "id": "00f8331a",
   "metadata": {},
   "outputs": [],
   "source": [
    "# import seaborn as sns\n",
    "# step = 1\n",
    "# # Define the threshold\n",
    "# threshold = 0.05\n",
    "\n",
    "# # Initialize the list of stimuli, onsets, and offsets\n",
    "# stimuli = []\n",
    "# onsets = []\n",
    "# offsets = []\n",
    "\n",
    "# # Initialize the current stimulus, onset, and offset\n",
    "# current_stimulus = analog_scans[0][0]\n",
    "# current_onset = 0\n",
    "\n",
    "# # Iterate over the array\n",
    "# for i in range(1, len(analog_scans[0])):\n",
    "#     # If the difference between the current and previous element exceeds the threshold\n",
    "#     if abs(analog_scans[0][i] - current_stimulus) > threshold:\n",
    "#         # Add the current stimulus and onset to their respective lists\n",
    "#         stimuli.append(current_stimulus)\n",
    "#         onsets.append(current_onset)\n",
    "        \n",
    "#         # Add the previous index as an offset\n",
    "#         offsets.append(i-1)\n",
    "        \n",
    "#         # Update the current stimulus and onset\n",
    "#         current_stimulus = analog_scans[0][i]\n",
    "#         current_onset = i\n",
    "\n",
    "# # Add the last stimulus and onset to their respective lists\n",
    "# stimuli.append(current_stimulus)\n",
    "# onsets.append(current_onset)\n",
    "\n",
    "# # Add the last index as an offset\n",
    "# offsets.append(len(analog_scans[0])-1)\n",
    "\n",
    "# # Print the stimuli, onsets, and offsets\n",
    "# print(\"Stimuli:\", stimuli)\n",
    "# print(\"Onsets:\", onsets)\n",
    "# print(\"Offsets:\", offsets)\n",
    "\n",
    "# import matplotlib.pyplot as plt\n",
    "\n",
    "\n",
    "# sns.set_style(\"whitegrid\")\n",
    "# # Define colors for different stimuli\n",
    "# colors = ['r', 'g', 'b', 'y', 'm']\n",
    "\n",
    "# fig, ax = plt.subplots(figsize=(50, 10))\n",
    "\n",
    "# # Plot the analog signal\n",
    "# ax.plot(analog_scans[0][::step], label='Analog Signal', color='k')\n",
    "# ax.set_xlabel(\"Time (s)\")\n",
    "# ax.set_ylabel(\"Signal\")\n",
    "\n",
    "# # Overlay the onsets and offsets\n",
    "# for i in range(len(stimuli)):\n",
    "#     ax.axvline(x=onsets[i], color=colors[i % len(colors)], linestyle='--', label=f'Stimulus {i+1} Onset')\n",
    "#     # ax.axvline(x=offsets[i], color=colors[i % len(colors)], linestyle=':', label=f'Stimulus {i+1} Offset')\n",
    "\n",
    "# # ax.legend()\n",
    "# plt.show()"
   ]
  },
  {
   "cell_type": "code",
   "execution_count": null,
   "id": "6a732e7d",
   "metadata": {},
   "outputs": [],
   "source": [
    "def find_plateaus(signal, threshold=0.1, min_duration=10):\n",
    "    \"\"\"\n",
    "    Find plateaus in a signal.\n",
    "\n",
    "    Parameters:\n",
    "    - signal: The input signal (numpy array).\n",
    "    - threshold: The maximum allowed deviation within a plateau.\n",
    "    - min_duration: The minimum duration (in samples) for a segment to be considered a plateau.\n",
    "\n",
    "    Returns:\n",
    "    - A list of tuples, each tuple containing the start and end indices of a plateau.\n",
    "    \"\"\"\n",
    "    plateaus = []\n",
    "    start_idx = None\n",
    "    for i in range(1, len(signal)):\n",
    "        if start_idx is None and abs(signal[i] - signal[i - 1]) <= threshold:\n",
    "            start_idx = i - 1  # potential start of a plateau\n",
    "        elif start_idx is not None and abs(signal[i] - signal[i - 1]) > threshold:\n",
    "            if i - start_idx >= min_duration:\n",
    "                plateaus.append((start_idx, i - 1))  # end of a plateau\n",
    "            start_idx = None  # reset for next potential plateau\n",
    "\n",
    "    # Check if the last segment is a plateau\n",
    "    if start_idx is not None and len(signal) - start_idx >= min_duration:\n",
    "        plateaus.append((start_idx, len(signal) - 1))\n",
    "\n",
    "    return plateaus"
   ]
  },
  {
   "cell_type": "code",
   "execution_count": null,
   "id": "bac540eb",
   "metadata": {},
   "outputs": [],
   "source": []
  },
  {
   "cell_type": "code",
   "execution_count": null,
   "id": "e7ac7ca0",
   "metadata": {},
   "outputs": [],
   "source": [
    "a = find_plateaus(analog_scans[0], threshold=0.1, min_duration=10)\n",
    "print(a)"
   ]
  },
  {
   "cell_type": "code",
   "execution_count": null,
   "id": "96f4f191",
   "metadata": {},
   "outputs": [],
   "source": [
    "def find_plateaus(signal, threshold=0.1, min_duration=10):\n",
    "    \"\"\"\n",
    "    Find plateaus in a signal, round their average values to 0.1, and exclude plateaus around zero.\n",
    "\n",
    "    Parameters:\n",
    "    - signal: The input signal (numpy array).\n",
    "    - threshold: The maximum allowed deviation within a plateau and the range around zero to exclude.\n",
    "    - min_duration: The minimum duration (in samples) for a segment to be considered a plateau.\n",
    "\n",
    "    Returns:\n",
    "    - A list of tuples, each tuple containing the start, end indices, and rounded average value of a plateau.\n",
    "    \"\"\"\n",
    "    plateaus = []\n",
    "    start_idx = None\n",
    "    for i in range(1, len(signal)):\n",
    "        if start_idx is None and abs(signal[i] - signal[i - 1]) <= threshold:\n",
    "            start_idx = i - 1  # potential start of a plateau\n",
    "        elif start_idx is not None and abs(signal[i] - signal[i - 1]) > threshold:\n",
    "            if i - start_idx >= min_duration:\n",
    "                average_value = np.mean(signal[start_idx:i])\n",
    "                # Exclude plateaus around zero and round the average value\n",
    "                if abs(average_value) > threshold:\n",
    "                    rounded_value = round(average_value, 1)\n",
    "                    plateaus.append((start_idx, i - 1, rounded_value))  # end of a plateau\n",
    "            start_idx = None  # reset for next potential plateau\n",
    "\n",
    "    # Check if the last segment is a plateau\n",
    "    if start_idx is not None and len(signal) - start_idx >= min_duration:\n",
    "        average_value = np.mean(signal[start_idx:])\n",
    "        # Exclude plateaus around zero and round the average value\n",
    "        if abs(average_value) > threshold:\n",
    "            rounded_value = round(average_value, 1)\n",
    "            plateaus.append((start_idx, len(signal) - 1, rounded_value))\n",
    "\n",
    "    return plateaus\n"
   ]
  },
  {
   "cell_type": "code",
   "execution_count": null,
   "id": "949b31eb",
   "metadata": {},
   "outputs": [],
   "source": [
    "plateaus = find_plateaus(analog_scans[0], threshold=0.1, min_duration=10)"
   ]
  },
  {
   "cell_type": "code",
   "execution_count": null,
   "id": "40f99e84",
   "metadata": {},
   "outputs": [],
   "source": [
    "np.array([[t[0], t[1]] for t in plateaus]).flatten()"
   ]
  },
  {
   "cell_type": "code",
   "execution_count": null,
   "id": "ed1d7ece",
   "metadata": {},
   "outputs": [],
   "source": [
    "np.array([t[0:1] for t in plateaus]).squeeze()"
   ]
  },
  {
   "cell_type": "code",
   "execution_count": null,
   "id": "52ea12f6",
   "metadata": {},
   "outputs": [],
   "source": [
    "from adamacs.helpers import dj_helpers as djh\n",
    "from adamacs.helpers import stack_helpers as sh"
   ]
  },
  {
   "cell_type": "code",
   "execution_count": null,
   "id": "395814f8",
   "metadata": {},
   "outputs": [],
   "source": [
    "# Fetching data from the event.Event and trial.Trial tables\n",
    "event_data = (event.Event & scan_key).fetch('event_type', 'event_start_time', as_dict=True)\n",
    "trial_data = (trial.Trial & scan_key).fetch('trial_id', 'trial_type', 'trial_start_time', as_dict=True)\n",
    "\n",
    "djh.plot_event_trial_start_times(event_data, trial_data)"
   ]
  },
  {
   "cell_type": "code",
   "execution_count": null,
   "id": "7491dee9",
   "metadata": {},
   "outputs": [],
   "source": [
    "step = 1000\n",
    "\n",
    "# Create timebase\n",
    "timebase = np.arange(0, len(analog_scans[i]), step) / sr\n",
    "\n",
    "fig, axes = plt.subplots(nrows=2, ncols=1, figsize=(50, 10))\n",
    "sr = curr_file['header']['AcquisitionSampleRate'][0][0]\n",
    "# Plotting analogScans\n",
    "axes[0].set_title(f\"Analog Scans - Every {step}th Sample\")\n",
    "# for i in range(analog_scans.shape[0]):\n",
    "i = 0\n",
    "axes[i].plot(timebase, (analog_scans[i][::step]), label=f\"AI {analog_labels[i]}\")\n",
    "axes[i].legend()\n",
    "axes[i].set_xlabel(\"Time (s)\")\n",
    "axes[i].set_ylabel(\"Signal\")\n",
    "\n",
    "\n",
    "\n",
    "if i == 0:\n",
    "     onsets = (event.Event & scan_key & 'event_type LIKE \"%;%\"').fetch(\"event_start_time\",order_by = \"event_start_time\") \n",
    "     offsets = (event.Event & scan_key & 'event_type LIKE \"%;%\"').fetch(\"event_start_time\",order_by = \"event_end_time\") \n",
    "     edges = (event.Event & scan_key & 'event_type LIKE \"%;%\"').fetch(\"event_start_time\",order_by = \"event_start_time\")[::stims_per_trial] \n",
    "     edgesoff = (event.Event & scan_key & 'event_type LIKE \"%;%\"').fetch(\"event_end_time\",order_by = \"event_end_time\")[stims_per_trial-1::stims_per_trial] \n",
    "     for xc in onsets:\n",
    "          axes[i].axvline(x=xc, color = 'r')\n",
    "     # for xc in offsets:\n",
    "          # axes[i].axvline(x=xc, color = 'r')\n",
    "          # axes[i].axvline(x=xc, color = 'w')\n",
    "     for xc in edges:\n",
    "          # axes[i].axvline(x=xc, color = 'r')\n",
    "          axes[i].axvline(x=xc, color = 'b')\n",
    "     for xc in edgesoff:\n",
    "          # axes[i].axvline(x=xc, color = 'r')\n",
    "          axes[i].axvline(x=xc, color = 'y')"
   ]
  },
  {
   "cell_type": "code",
   "execution_count": null,
   "id": "29e21813",
   "metadata": {},
   "outputs": [],
   "source": [
    "ibe.get_timestamps(np.abs(analog_scans[i]), sr, 1)"
   ]
  },
  {
   "cell_type": "code",
   "execution_count": null,
   "id": "5314f394",
   "metadata": {},
   "outputs": [],
   "source": [
    "event.Event & scan_key"
   ]
  },
  {
   "cell_type": "code",
   "execution_count": null,
   "id": "7efa25f4",
   "metadata": {},
   "outputs": [],
   "source": [
    "(event.Event & scan_key & \"event_type = 'aux_bonsai_vis'\").fetch('event_start_time')\n",
    "# auxgatetimestamp_end = (event.Event()  &  \"event_type='main_track_gate'\" &  scanquery ).fetch('event_end_time')"
   ]
  },
  {
   "cell_type": "code",
   "execution_count": null,
   "metadata": {},
   "outputs": [],
   "source": [
    "dj.Diagram(trial) + dj.Diagram(event) +100\n"
   ]
  },
  {
   "cell_type": "code",
   "execution_count": null,
   "id": "149d9df0",
   "metadata": {},
   "outputs": [],
   "source": [
    "surgery"
   ]
  },
  {
   "cell_type": "code",
   "execution_count": null,
   "id": "dbff5145",
   "metadata": {},
   "outputs": [],
   "source": [
    "dj.Diagram(subject.Subject) + dj.Diagram(event) + dj.Diagram(scan)"
   ]
  },
  {
   "cell_type": "code",
   "execution_count": null,
   "id": "86a8bab4",
   "metadata": {},
   "outputs": [],
   "source": [
    "fp = event.BehaviorRecording.File().fetch('filepath')\n",
    "print(fp)\n"
   ]
  },
  {
   "cell_type": "code",
   "execution_count": null,
   "id": "a21dae63",
   "metadata": {},
   "outputs": [],
   "source": [
    "scan.Scan()"
   ]
  },
  {
   "cell_type": "code",
   "execution_count": null,
   "id": "85f354f2",
   "metadata": {},
   "outputs": [],
   "source": [
    "event.AlignmentEvent()"
   ]
  },
  {
   "cell_type": "code",
   "execution_count": null,
   "id": "44f105c0",
   "metadata": {},
   "outputs": [],
   "source": [
    "trial.Trial()"
   ]
  },
  {
   "cell_type": "code",
   "execution_count": null,
   "id": "2fbc8ccf",
   "metadata": {},
   "outputs": [],
   "source": [
    "dj.Diagram(event)"
   ]
  },
  {
   "cell_type": "code",
   "execution_count": null,
   "id": "c4c8bb54-ae93-4974-9ff7-ac74dfa2baa0",
   "metadata": {},
   "outputs": [],
   "source": [
    "session.Session * session.SessionDirectory"
   ]
  },
  {
   "cell_type": "code",
   "execution_count": null,
   "id": "bdfe449c-9ecc-4b49-93ee-9c73295b12eb",
   "metadata": {},
   "outputs": [],
   "source": [
    "key='scan9FF6U114'\n",
    "(scan.Scan & f'scan_id=\\\"{key}\\\"')"
   ]
  },
  {
   "cell_type": "code",
   "execution_count": null,
   "id": "362c221b",
   "metadata": {},
   "outputs": [],
   "source": [
    "scan.Scan()"
   ]
  },
  {
   "attachments": {},
   "cell_type": "markdown",
   "id": "773962c7-6ae0-487d-9d5f-93ecf4d03c55",
   "metadata": {},
   "source": [
    "`CB DEV NOTE:` In demo file, there are no `scan.motor_position_at_zero` values. Set to 0 here to avoid downstream type errors when adding. Future would should set these to null when not present and revise downstream code."
   ]
  },
  {
   "cell_type": "code",
   "execution_count": null,
   "id": "f917744b-503a-4e3b-88db-6559cbab2eea",
   "metadata": {},
   "outputs": [],
   "source": [
    "scan.ScanInfo()"
   ]
  },
  {
   "cell_type": "code",
   "execution_count": null,
   "id": "d73f4e1e",
   "metadata": {},
   "outputs": [],
   "source": [
    "scan.ScanInfo.Field()"
   ]
  },
  {
   "attachments": {},
   "cell_type": "markdown",
   "id": "bcd8798c-e1b2-4855-89cf-53f5b1b25bec",
   "metadata": {},
   "source": [
    "Note the relative path below:"
   ]
  },
  {
   "cell_type": "code",
   "execution_count": null,
   "id": "5d0c8693",
   "metadata": {},
   "outputs": [],
   "source": [
    "scan.ScanInfo.ScanFile()"
   ]
  },
  {
   "cell_type": "code",
   "execution_count": null,
   "id": "9ad7d47e",
   "metadata": {},
   "outputs": [],
   "source": [
    "event.BehaviorRecording.File()\n"
   ]
  },
  {
   "cell_type": "code",
   "execution_count": null,
   "id": "c5884534",
   "metadata": {},
   "outputs": [],
   "source": [
    "(event.BehaviorRecording.File ).fetch1(\"filepath\")"
   ]
  },
  {
   "cell_type": "markdown",
   "id": "f19a6a5c",
   "metadata": {},
   "source": [
    "# Treadmill handling and ingestion"
   ]
  },
  {
   "cell_type": "code",
   "execution_count": null,
   "metadata": {},
   "outputs": [],
   "source": [
    "behavior.TreadmillDevice()"
   ]
  },
  {
   "cell_type": "code",
   "execution_count": null,
   "id": "55a98369",
   "metadata": {},
   "outputs": [],
   "source": [
    "behavior.TreadmillRecording.Channel() "
   ]
  },
  {
   "cell_type": "code",
   "execution_count": null,
   "id": "a515e03a",
   "metadata": {},
   "outputs": [],
   "source": [
    "treadmill = (behavior.TreadmillRecording.Channel() & scan_key).fetch(\"data\")[0]\n",
    "time = (behavior.TreadmillRecording.Channel() & scan_key).fetch(\"time\")[0]"
   ]
  },
  {
   "cell_type": "code",
   "execution_count": null,
   "id": "3f59c4e9",
   "metadata": {},
   "outputs": [],
   "source": [
    "# smoothing window size (ms)\n",
    "window = 1000\n",
    "\n",
    "# convert voltage to degree\n",
    "treadmillnorm = (treadmill-np.min(treadmill)) / np.max(treadmill) * 360\n",
    "\n",
    "# compute running speed (see function above)\n",
    "angular_velocity_smoothed, unwrapped_angle_smoothed = ibe.compute_angular_velocity(time, treadmillnorm, window)\n",
    "\n",
    "\n",
    "fig, axes = plt.subplots(nrows=3, ncols=1, figsize=(25, 10))\n",
    "# plt.rcParams['agg.path.chunksize'] = 10000  # Add this line if it does not rende\n",
    "\n",
    "# Plotting the time series\n",
    "axes[0].plot(time, treadmillnorm)\n",
    "axes[0].set_ylim([-10, 370])\n",
    "axes[0].set_ylabel(\"Wheel position [degree]\")\n",
    "axes[0].set_xlabel(\"Time [s]\")\n",
    "\n",
    "axes[1].plot(time[:-window+1],unwrapped_angle_smoothed )\n",
    "# axes[1].set_ylim([-10000, 10000])\n",
    "axes[1].set_ylabel(\"Unwrapped wheel position [cumulative degree]\")\n",
    "axes[1].set_xlabel(\"Time [s]\")\n",
    "\n",
    "axes[2].plot(time[:-window],angular_velocity_smoothed)\n",
    "axes[2].set_ylim([-100, 500])\n",
    "axes[2].set_ylabel(\"Running speed [degree / s]\")\n",
    "axes[2].set_xlabel(\"Time [s]\")\n",
    "\n",
    "# plt.show() "
   ]
  },
  {
   "cell_type": "code",
   "execution_count": null,
   "id": "87f6e9f7",
   "metadata": {},
   "outputs": [],
   "source": [
    "dj.Diagram(behavior) + dj.Diagram(event)-10 + dj.Diagram(trial)"
   ]
  },
  {
   "cell_type": "markdown",
   "id": "02796736",
   "metadata": {},
   "source": []
  }
 ],
 "metadata": {
  "jupytext": {
   "formats": "ipynb,py"
  },
  "kernelspec": {
   "display_name": "Python 3 (ipykernel)",
   "language": "python",
   "name": "python3"
  },
  "language_info": {
   "codemirror_mode": {
    "name": "ipython",
    "version": 3
   },
   "file_extension": ".py",
   "mimetype": "text/x-python",
   "name": "python",
   "nbconvert_exporter": "python",
   "pygments_lexer": "ipython3",
   "version": "3.8.17"
  },
  "vscode": {
   "interpreter": {
    "hash": "b6b88a8194cd92b549912c5fccf4f99c3c2f8b37389322b86781a2268700b256"
   }
  }
 },
 "nbformat": 4,
 "nbformat_minor": 5
}
