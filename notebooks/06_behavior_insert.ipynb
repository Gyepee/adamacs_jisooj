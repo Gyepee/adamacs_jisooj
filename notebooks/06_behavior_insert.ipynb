{
 "cells": [
  {
   "attachments": {},
   "cell_type": "markdown",
   "id": "46f28eb7-1fcc-4b9a-803e-097202fd899d",
   "metadata": {},
   "source": [
    "# Behavior Session Ingestion"
   ]
  },
  {
   "attachments": {},
   "cell_type": "markdown",
   "id": "bba759c2-4cc1-45ee-9212-422a604c32a4",
   "metadata": {},
   "source": [
    "## Setup"
   ]
  },
  {
   "attachments": {},
   "cell_type": "markdown",
   "id": "0da9aa77-afbf-43b2-ad19-e497e05e8627",
   "metadata": {},
   "source": [
    "### Connect to the database"
   ]
  },
  {
   "attachments": {},
   "cell_type": "markdown",
   "id": "bd1468c3-3915-49e6-89a9-10c7940017fd",
   "metadata": {},
   "source": [
    "If you are don't have your login information, contact the administrator.\n",
    "\n",
    "Using local config file (see [01_pipeline](./01_pipeline.ipynb)):\n",
    "\n",
    "Check out the respective elements video: https://www.youtube.com/watch?v=DLYqnj40eAM\n",
    "\n",
    "Use this as info NB https://github.com/SFB1089/workflow-calcium-imaging/blob/main/notebooks/07-downstream-analysis-optional.ipynb\n"
   ]
  },
  {
   "cell_type": "code",
   "execution_count": 1,
   "id": "301f9675-53e0-4ff6-bf3d-baba6589d6e3",
   "metadata": {},
   "outputs": [
    {
     "name": "stderr",
     "output_type": "stream",
     "text": [
      "[2023-08-01 14:18:51,363][INFO]: Connecting tobiasr@172.26.128.53:3306\n",
      "[2023-08-01 14:18:51,410][INFO]: Connected tobiasr@172.26.128.53:3306\n"
     ]
    },
    {
     "data": {
      "text/plain": [
       "DataJoint connection (connected) tobiasr@172.26.128.53:3306"
      ]
     },
     "execution_count": 1,
     "metadata": {},
     "output_type": "execute_result"
    }
   ],
   "source": [
    "import os\n",
    "# change to the upper level folder to detect dj_local_conf.json\n",
    "if os.path.basename(os.getcwd())=='notebooks': os.chdir('..')\n",
    "assert os.path.basename(os.getcwd())=='adamacs', (\"Please move to the main directory\")\n",
    "import datajoint as dj; dj.conn()\n"
   ]
  },
  {
   "attachments": {},
   "cell_type": "markdown",
   "id": "7a2e2ccf-01d6-4d31-932b-aa12f8cd05a8",
   "metadata": {},
   "source": [
    "Manual entry:"
   ]
  },
  {
   "attachments": {},
   "cell_type": "markdown",
   "id": "6596a27a-164b-4540-8a30-5e03713574fd",
   "metadata": {},
   "source": [
    "### Imports and activation\n",
    "\n",
    "Importing schema from `adamacs.pipeline` automatically activates relevant schema."
   ]
  },
  {
   "cell_type": "code",
   "execution_count": 2,
   "id": "a974a493-4d5e-48e9-a981-b203932c4f6d",
   "metadata": {},
   "outputs": [],
   "source": [
    "import datajoint as dj\n",
    "from adamacs.pipeline import subject, session, surgery, scan, event, trial, imaging, behavior\n",
    "from adamacs import utility\n",
    "from adamacs.ingest import behavior as ibe\n",
    "from pywavesurfer import ws\n",
    "import matplotlib.pyplot as plt\n",
    "import numpy as np\n",
    "# check https://elements.datajoint.org/description/event/ for doc"
   ]
  },
  {
   "attachments": {},
   "cell_type": "markdown",
   "id": "cd62e6a3-20a9-4175-bbf8-5b3247c2de5b",
   "metadata": {},
   "source": [
    "Assign easy names for relevant tables"
   ]
  },
  {
   "cell_type": "code",
   "execution_count": 3,
   "id": "67d55cbc",
   "metadata": {},
   "outputs": [],
   "source": [
    "sub, lab, protocol, line, mutation, user, project, subject_genotype, subject_death = (\n",
    "    subject.Subject(), subject.Lab(), subject.Protocol(), subject.Line(), \n",
    "    subject.Mutation(), subject.User(), subject.Project(), subject.SubjectGenotype(), \n",
    "    subject.SubjectDeath())"
   ]
  },
  {
   "attachments": {},
   "cell_type": "markdown",
   "id": "bb115bfc-2abb-45c9-bcba-c5c9e73b8990",
   "metadata": {},
   "source": [
    "## Ingesting behavior"
   ]
  },
  {
   "cell_type": "code",
   "execution_count": 4,
   "id": "038ae4f5",
   "metadata": {},
   "outputs": [
    {
     "data": {
      "text/html": [
       "\n",
       "    \n",
       "    <style type=\"text/css\">\n",
       "        .Table{\n",
       "            border-collapse:collapse;\n",
       "        }\n",
       "        .Table th{\n",
       "            background: #A0A0A0; color: #ffffff; padding:4px; border:#f0e0e0 1px solid;\n",
       "            font-weight: normal; font-family: monospace; font-size: 100%;\n",
       "        }\n",
       "        .Table td{\n",
       "            padding:4px; border:#f0e0e0 1px solid; font-size:100%;\n",
       "        }\n",
       "        .Table tr:nth-child(odd){\n",
       "            background: #ffffff;\n",
       "            color: #000000;\n",
       "        }\n",
       "        .Table tr:nth-child(even){\n",
       "            background: #f3f1ff;\n",
       "            color: #000000;\n",
       "        }\n",
       "        /* Tooltip container */\n",
       "        .djtooltip {\n",
       "        }\n",
       "        /* Tooltip text */\n",
       "        .djtooltip .djtooltiptext {\n",
       "            visibility: hidden;\n",
       "            width: 120px;\n",
       "            background-color: black;\n",
       "            color: #fff;\n",
       "            text-align: center;\n",
       "            padding: 5px 0;\n",
       "            border-radius: 6px;\n",
       "            /* Position the tooltip text - see examples below! */\n",
       "            position: absolute;\n",
       "            z-index: 1;\n",
       "        }\n",
       "        #primary {\n",
       "            font-weight: bold;\n",
       "            color: black;\n",
       "        }\n",
       "        #nonprimary {\n",
       "            font-weight: normal;\n",
       "            color: white;\n",
       "        }\n",
       "\n",
       "        /* Show the tooltip text when you mouse over the tooltip container */\n",
       "        .djtooltip:hover .djtooltiptext {\n",
       "            visibility: visible;\n",
       "        }\n",
       "    </style>\n",
       "    \n",
       "    <b>general data about the reso/meso scans from header</b>\n",
       "        <div style=\"max-height:1000px;max-width:1500px;overflow:auto;\">\n",
       "        <table border=\"1\" class=\"Table\">\n",
       "            <thead> <tr style=\"text-align: right;\"> <th> <div class=\"djtooltip\">\n",
       "                            <p id=\"primary\">session_id</p>\n",
       "                            <span class=\"djtooltiptext\"></span>\n",
       "                        </div></th><th><div class=\"djtooltip\">\n",
       "                            <p id=\"primary\">scan_id</p>\n",
       "                            <span class=\"djtooltiptext\"></span>\n",
       "                        </div></th><th><div class=\"djtooltip\">\n",
       "                            <p id=\"nonprimary\">nfields</p>\n",
       "                            <span class=\"djtooltiptext\">number of fields</span>\n",
       "                        </div></th><th><div class=\"djtooltip\">\n",
       "                            <p id=\"nonprimary\">nchannels</p>\n",
       "                            <span class=\"djtooltiptext\">number of channels</span>\n",
       "                        </div></th><th><div class=\"djtooltip\">\n",
       "                            <p id=\"nonprimary\">ndepths</p>\n",
       "                            <span class=\"djtooltiptext\">Number of scanning depths (planes)</span>\n",
       "                        </div></th><th><div class=\"djtooltip\">\n",
       "                            <p id=\"nonprimary\">nframes</p>\n",
       "                            <span class=\"djtooltiptext\">number of recorded frames</span>\n",
       "                        </div></th><th><div class=\"djtooltip\">\n",
       "                            <p id=\"nonprimary\">nrois</p>\n",
       "                            <span class=\"djtooltiptext\">number of ROIs (see scanimage's multi ROI imaging)</span>\n",
       "                        </div></th><th><div class=\"djtooltip\">\n",
       "                            <p id=\"nonprimary\">x</p>\n",
       "                            <span class=\"djtooltiptext\">(um) ScanImage's 0 point in the motor coordinate system</span>\n",
       "                        </div></th><th><div class=\"djtooltip\">\n",
       "                            <p id=\"nonprimary\">y</p>\n",
       "                            <span class=\"djtooltiptext\">(um) ScanImage's 0 point in the motor coordinate system</span>\n",
       "                        </div></th><th><div class=\"djtooltip\">\n",
       "                            <p id=\"nonprimary\">z</p>\n",
       "                            <span class=\"djtooltiptext\">(um) ScanImage's 0 point in the motor coordinate system</span>\n",
       "                        </div></th><th><div class=\"djtooltip\">\n",
       "                            <p id=\"nonprimary\">fps</p>\n",
       "                            <span class=\"djtooltiptext\">(Hz) frames per second - Volumetric Scan Rate</span>\n",
       "                        </div></th><th><div class=\"djtooltip\">\n",
       "                            <p id=\"nonprimary\">bidirectional</p>\n",
       "                            <span class=\"djtooltiptext\">true = bidirectional scanning</span>\n",
       "                        </div></th><th><div class=\"djtooltip\">\n",
       "                            <p id=\"nonprimary\">usecs_per_line</p>\n",
       "                            <span class=\"djtooltiptext\">microseconds per scan line</span>\n",
       "                        </div></th><th><div class=\"djtooltip\">\n",
       "                            <p id=\"nonprimary\">fill_fraction</p>\n",
       "                            <span class=\"djtooltiptext\">raster scan temporal fill fraction (see scanimage)</span>\n",
       "                        </div></th><th><div class=\"djtooltip\">\n",
       "                            <p id=\"nonprimary\">scan_datetime</p>\n",
       "                            <span class=\"djtooltiptext\">datetime of the scan</span>\n",
       "                        </div></th><th><div class=\"djtooltip\">\n",
       "                            <p id=\"nonprimary\">scan_duration</p>\n",
       "                            <span class=\"djtooltiptext\">(seconds) duration of the scan</span>\n",
       "                        </div></th><th><div class=\"djtooltip\">\n",
       "                            <p id=\"nonprimary\">userfunction_info</p>\n",
       "                            <span class=\"djtooltiptext\">string argument of file consolidation userfunction 1</span>\n",
       "                        </div> </th> </tr> </thead>\n",
       "            <tbody> <tr> <td>sess9FH37WBZ</td>\n",
       "<td>scan9FH37WBZ</td>\n",
       "<td>1</td>\n",
       "<td>1</td>\n",
       "<td>1</td>\n",
       "<td>27000</td>\n",
       "<td>0</td>\n",
       "<td>39110.1</td>\n",
       "<td>16727.9</td>\n",
       "<td>19543.1</td>\n",
       "<td>29.9592</td>\n",
       "<td>1</td>\n",
       "<td>63.2172</td>\n",
       "<td>0.712867</td>\n",
       "<td>None</td>\n",
       "<td>901.226</td>\n",
       "<td>bench2p</td></tr><tr><td>sess9FHELAYA</td>\n",
       "<td>scan9FHELAYA</td>\n",
       "<td>1</td>\n",
       "<td>1</td>\n",
       "<td>1</td>\n",
       "<td>9230</td>\n",
       "<td>0</td>\n",
       "<td>-2687.11</td>\n",
       "<td>-30474300.0</td>\n",
       "<td>-123831000.0</td>\n",
       "<td>15.3845</td>\n",
       "<td>1</td>\n",
       "<td>250.001</td>\n",
       "<td>0.95</td>\n",
       "<td>None</td>\n",
       "<td>599.955</td>\n",
       "<td>openfield</td></tr><tr><td>sess9FHELAYA</td>\n",
       "<td>scan9FHELMRY</td>\n",
       "<td>1</td>\n",
       "<td>1</td>\n",
       "<td>1</td>\n",
       "<td>9230</td>\n",
       "<td>0</td>\n",
       "<td>-2687.11</td>\n",
       "<td>-30474300.0</td>\n",
       "<td>-123831000.0</td>\n",
       "<td>15.3845</td>\n",
       "<td>1</td>\n",
       "<td>250.001</td>\n",
       "<td>0.95</td>\n",
       "<td>None</td>\n",
       "<td>599.955</td>\n",
       "<td>openfield</td></tr><tr><td>sess9FHELAYA</td>\n",
       "<td>scan9FHELX2S</td>\n",
       "<td>1</td>\n",
       "<td>1</td>\n",
       "<td>1</td>\n",
       "<td>9230</td>\n",
       "<td>0</td>\n",
       "<td>-2687.11</td>\n",
       "<td>-30474300.0</td>\n",
       "<td>-123831000.0</td>\n",
       "<td>15.3845</td>\n",
       "<td>1</td>\n",
       "<td>250.001</td>\n",
       "<td>0.95</td>\n",
       "<td>None</td>\n",
       "<td>599.955</td>\n",
       "<td>openfield</td></tr><tr><td>sess9FHELAYA</td>\n",
       "<td>scan9FHEMBE2</td>\n",
       "<td>1</td>\n",
       "<td>1</td>\n",
       "<td>1</td>\n",
       "<td>9230</td>\n",
       "<td>0</td>\n",
       "<td>-2687.11</td>\n",
       "<td>-30474300.0</td>\n",
       "<td>-123831000.0</td>\n",
       "<td>15.3845</td>\n",
       "<td>1</td>\n",
       "<td>250.001</td>\n",
       "<td>0.95</td>\n",
       "<td>None</td>\n",
       "<td>599.955</td>\n",
       "<td>openfield</td></tr><tr><td>sess9FHS7Y22</td>\n",
       "<td>scan9FHS7Y22</td>\n",
       "<td>1</td>\n",
       "<td>1</td>\n",
       "<td>1</td>\n",
       "<td>9230</td>\n",
       "<td>0</td>\n",
       "<td>0.0</td>\n",
       "<td>0.0</td>\n",
       "<td>0.0</td>\n",
       "<td>15.3845</td>\n",
       "<td>1</td>\n",
       "<td>250.003</td>\n",
       "<td>0.9</td>\n",
       "<td>None</td>\n",
       "<td>599.955</td>\n",
       "<td>openfield</td></tr><tr><td>sess9FHS7Y22</td>\n",
       "<td>scan9FHS845A</td>\n",
       "<td>1</td>\n",
       "<td>1</td>\n",
       "<td>1</td>\n",
       "<td>9230</td>\n",
       "<td>0</td>\n",
       "<td>0.0</td>\n",
       "<td>0.0</td>\n",
       "<td>0.0</td>\n",
       "<td>15.3845</td>\n",
       "<td>1</td>\n",
       "<td>250.003</td>\n",
       "<td>0.9</td>\n",
       "<td>None</td>\n",
       "<td>599.955</td>\n",
       "<td>openfield</td></tr><tr><td>sess9FIG39RU</td>\n",
       "<td>scan9FIG39RU</td>\n",
       "<td>1</td>\n",
       "<td>1</td>\n",
       "<td>1</td>\n",
       "<td>4450</td>\n",
       "<td>0</td>\n",
       "<td>0.0</td>\n",
       "<td>0.0</td>\n",
       "<td>0.0</td>\n",
       "<td>14.7058</td>\n",
       "<td>1</td>\n",
       "<td>250.001</td>\n",
       "<td>0.9</td>\n",
       "<td>None</td>\n",
       "<td>302.602</td>\n",
       "<td>openfield</td></tr><tr><td>sess9FIG39RU</td>\n",
       "<td>scan9FIG3GCJ</td>\n",
       "<td>1</td>\n",
       "<td>1</td>\n",
       "<td>1</td>\n",
       "<td>4450</td>\n",
       "<td>0</td>\n",
       "<td>0.0</td>\n",
       "<td>0.0</td>\n",
       "<td>0.0</td>\n",
       "<td>14.7058</td>\n",
       "<td>1</td>\n",
       "<td>250.001</td>\n",
       "<td>0.9</td>\n",
       "<td>None</td>\n",
       "<td>302.602</td>\n",
       "<td>openfield</td></tr><tr><td>sess9FIG39RU</td>\n",
       "<td>scan9FIG3MU8</td>\n",
       "<td>1</td>\n",
       "<td>1</td>\n",
       "<td>1</td>\n",
       "<td>8850</td>\n",
       "<td>0</td>\n",
       "<td>0.0</td>\n",
       "<td>0.0</td>\n",
       "<td>0.0</td>\n",
       "<td>14.7058</td>\n",
       "<td>1</td>\n",
       "<td>250.001</td>\n",
       "<td>0.9</td>\n",
       "<td>None</td>\n",
       "<td>601.803</td>\n",
       "<td>openfield</td></tr><tr><td>sess9FJ4IJOQ</td>\n",
       "<td>scan9FJ4IJOQ</td>\n",
       "<td>1</td>\n",
       "<td>1</td>\n",
       "<td>1</td>\n",
       "<td>25200</td>\n",
       "<td>0</td>\n",
       "<td>666.75</td>\n",
       "<td>20448.5</td>\n",
       "<td>23697.1</td>\n",
       "<td>29.9649</td>\n",
       "<td>1</td>\n",
       "<td>63.2052</td>\n",
       "<td>0.712867</td>\n",
       "<td>None</td>\n",
       "<td>840.984</td>\n",
       "<td>bench2p</td></tr><tr><td>sess9FJ5KHBX</td>\n",
       "<td>scan9FJ5KHBX</td>\n",
       "<td>1</td>\n",
       "<td>1</td>\n",
       "<td>1</td>\n",
       "<td>9000</td>\n",
       "<td>0</td>\n",
       "<td>16696.4</td>\n",
       "<td>20372.3</td>\n",
       "<td>49623.0</td>\n",
       "<td>29.9784</td>\n",
       "<td>1</td>\n",
       "<td>63.1769</td>\n",
       "<td>0.712867</td>\n",
       "<td>None</td>\n",
       "<td>300.216</td>\n",
       "<td>bench2p</td></tr><tr><td>sess9FJ5L18B</td>\n",
       "<td>scan9FJ5L18B</td>\n",
       "<td>1</td>\n",
       "<td>1</td>\n",
       "<td>1</td>\n",
       "<td>63300</td>\n",
       "<td>0</td>\n",
       "<td>16696.4</td>\n",
       "<td>20372.3</td>\n",
       "<td>49623.0</td>\n",
       "<td>29.9784</td>\n",
       "<td>1</td>\n",
       "<td>63.1769</td>\n",
       "<td>0.712867</td>\n",
       "<td>None</td>\n",
       "<td>2111.52</td>\n",
       "<td>bench2p</td></tr><tr><td>sess9FJ5L9VD</td>\n",
       "<td>scan9FJ5L9VD</td>\n",
       "<td>1</td>\n",
       "<td>1</td>\n",
       "<td>1</td>\n",
       "<td>25200</td>\n",
       "<td>0</td>\n",
       "<td>16696.4</td>\n",
       "<td>20372.3</td>\n",
       "<td>49623.0</td>\n",
       "<td>29.9784</td>\n",
       "<td>1</td>\n",
       "<td>63.1769</td>\n",
       "<td>0.712867</td>\n",
       "<td>None</td>\n",
       "<td>840.605</td>\n",
       "<td>bench2p</td></tr><tr><td>sess9FJ5LHYE</td>\n",
       "<td>scan9FJ5LHYE</td>\n",
       "<td>1</td>\n",
       "<td>1</td>\n",
       "<td>1</td>\n",
       "<td>25200</td>\n",
       "<td>0</td>\n",
       "<td>16696.4</td>\n",
       "<td>20372.3</td>\n",
       "<td>49623.0</td>\n",
       "<td>29.9784</td>\n",
       "<td>1</td>\n",
       "<td>63.1769</td>\n",
       "<td>0.712867</td>\n",
       "<td>None</td>\n",
       "<td>840.605</td>\n",
       "<td>bench2p</td></tr><tr><td>sess9FJ5LVCL</td>\n",
       "<td>scan9FJ5LVCL</td>\n",
       "<td>1</td>\n",
       "<td>1</td>\n",
       "<td>1</td>\n",
       "<td>25200</td>\n",
       "<td>0</td>\n",
       "<td>16696.4</td>\n",
       "<td>20372.3</td>\n",
       "<td>49623.0</td>\n",
       "<td>29.9784</td>\n",
       "<td>1</td>\n",
       "<td>63.1769</td>\n",
       "<td>0.712867</td>\n",
       "<td>None</td>\n",
       "<td>840.605</td>\n",
       "<td>bench2p</td></tr><tr><td>sess9FJ5LZ1C</td>\n",
       "<td>scan9FJ5LZ1C</td>\n",
       "<td>1</td>\n",
       "<td>1</td>\n",
       "<td>1</td>\n",
       "<td>10200</td>\n",
       "<td>0</td>\n",
       "<td>16696.4</td>\n",
       "<td>20372.3</td>\n",
       "<td>49623.0</td>\n",
       "<td>29.9784</td>\n",
       "<td>1</td>\n",
       "<td>63.1769</td>\n",
       "<td>0.712867</td>\n",
       "<td>None</td>\n",
       "<td>340.245</td>\n",
       "<td>bench2p</td></tr><tr><td>sess9FJ5MGQ9</td>\n",
       "<td>scan9FJ5MGQ9</td>\n",
       "<td>1</td>\n",
       "<td>1</td>\n",
       "<td>1</td>\n",
       "<td>57600</td>\n",
       "<td>0</td>\n",
       "<td>16696.4</td>\n",
       "<td>20372.3</td>\n",
       "<td>49623.0</td>\n",
       "<td>29.9784</td>\n",
       "<td>1</td>\n",
       "<td>63.1769</td>\n",
       "<td>0.712867</td>\n",
       "<td>None</td>\n",
       "<td>1921.38</td>\n",
       "<td>bench2p</td></tr><tr><td>sess9FJ5MPW6</td>\n",
       "<td>scan9FJ5MPW6</td>\n",
       "<td>1</td>\n",
       "<td>1</td>\n",
       "<td>1</td>\n",
       "<td>27000</td>\n",
       "<td>0</td>\n",
       "<td>16696.4</td>\n",
       "<td>20372.3</td>\n",
       "<td>49623.0</td>\n",
       "<td>29.9784</td>\n",
       "<td>1</td>\n",
       "<td>63.1769</td>\n",
       "<td>0.712867</td>\n",
       "<td>None</td>\n",
       "<td>900.648</td>\n",
       "<td>bench2p</td></tr><tr><td>sess9FJ5MVC0</td>\n",
       "<td>scan9FJ5MVC0</td>\n",
       "<td>1</td>\n",
       "<td>1</td>\n",
       "<td>1</td>\n",
       "<td>13350</td>\n",
       "<td>0</td>\n",
       "<td>16696.4</td>\n",
       "<td>20372.3</td>\n",
       "<td>49623.0</td>\n",
       "<td>29.9784</td>\n",
       "<td>1</td>\n",
       "<td>63.1769</td>\n",
       "<td>0.712867</td>\n",
       "<td>None</td>\n",
       "<td>445.321</td>\n",
       "<td>bench2p</td></tr><tr><td>sess9FJBPNSP</td>\n",
       "<td>scan9FJBPNSP</td>\n",
       "<td>1</td>\n",
       "<td>1</td>\n",
       "<td>1</td>\n",
       "<td>9000</td>\n",
       "<td>0</td>\n",
       "<td>0.0</td>\n",
       "<td>0.0</td>\n",
       "<td>0.0</td>\n",
       "<td>14.9253</td>\n",
       "<td>1</td>\n",
       "<td>250.001</td>\n",
       "<td>0.9</td>\n",
       "<td>None</td>\n",
       "<td>603.003</td>\n",
       "<td>openfield</td> </tr> </tbody>\n",
       "        </table>\n",
       "        \n",
       "        <p>Total: 21</p></div>\n",
       "        "
      ],
      "text/plain": [
       "*session_id    *scan_id       nfields     nchannels     ndepths     nframes     nrois     x            y              z              fps         bidirectional  usecs_per_line fill_fraction  scan_datetime  scan_duration  userfunction_i\n",
       "+------------+ +------------+ +---------+ +-----------+ +---------+ +---------+ +-------+ +----------+ +------------+ +------------+ +---------+ +------------+ +------------+ +------------+ +------------+ +------------+ +------------+\n",
       "sess9FH37WBZ   scan9FH37WBZ   1           1             1           27000       0         39110.1      16727.9        19543.1        29.9592     1              63.2172        0.712867       None           901.226        bench2p       \n",
       "sess9FHELAYA   scan9FHELAYA   1           1             1           9230        0         -2687.11     -30474300.0    -123831000.0   15.3845     1              250.001        0.95           None           599.955        openfield     \n",
       "sess9FHELAYA   scan9FHELMRY   1           1             1           9230        0         -2687.11     -30474300.0    -123831000.0   15.3845     1              250.001        0.95           None           599.955        openfield     \n",
       "sess9FHELAYA   scan9FHELX2S   1           1             1           9230        0         -2687.11     -30474300.0    -123831000.0   15.3845     1              250.001        0.95           None           599.955        openfield     \n",
       "sess9FHELAYA   scan9FHEMBE2   1           1             1           9230        0         -2687.11     -30474300.0    -123831000.0   15.3845     1              250.001        0.95           None           599.955        openfield     \n",
       "sess9FHS7Y22   scan9FHS7Y22   1           1             1           9230        0         0.0          0.0            0.0            15.3845     1              250.003        0.9            None           599.955        openfield     \n",
       "sess9FHS7Y22   scan9FHS845A   1           1             1           9230        0         0.0          0.0            0.0            15.3845     1              250.003        0.9            None           599.955        openfield     \n",
       "sess9FIG39RU   scan9FIG39RU   1           1             1           4450        0         0.0          0.0            0.0            14.7058     1              250.001        0.9            None           302.602        openfield     \n",
       "sess9FIG39RU   scan9FIG3GCJ   1           1             1           4450        0         0.0          0.0            0.0            14.7058     1              250.001        0.9            None           302.602        openfield     \n",
       "sess9FIG39RU   scan9FIG3MU8   1           1             1           8850        0         0.0          0.0            0.0            14.7058     1              250.001        0.9            None           601.803        openfield     \n",
       "sess9FJ4IJOQ   scan9FJ4IJOQ   1           1             1           25200       0         666.75       20448.5        23697.1        29.9649     1              63.2052        0.712867       None           840.984        bench2p       \n",
       "sess9FJ5KHBX   scan9FJ5KHBX   1           1             1           9000        0         16696.4      20372.3        49623.0        29.9784     1              63.1769        0.712867       None           300.216        bench2p       \n",
       "sess9FJ5L18B   scan9FJ5L18B   1           1             1           63300       0         16696.4      20372.3        49623.0        29.9784     1              63.1769        0.712867       None           2111.52        bench2p       \n",
       "sess9FJ5L9VD   scan9FJ5L9VD   1           1             1           25200       0         16696.4      20372.3        49623.0        29.9784     1              63.1769        0.712867       None           840.605        bench2p       \n",
       "sess9FJ5LHYE   scan9FJ5LHYE   1           1             1           25200       0         16696.4      20372.3        49623.0        29.9784     1              63.1769        0.712867       None           840.605        bench2p       \n",
       "sess9FJ5LVCL   scan9FJ5LVCL   1           1             1           25200       0         16696.4      20372.3        49623.0        29.9784     1              63.1769        0.712867       None           840.605        bench2p       \n",
       "sess9FJ5LZ1C   scan9FJ5LZ1C   1           1             1           10200       0         16696.4      20372.3        49623.0        29.9784     1              63.1769        0.712867       None           340.245        bench2p       \n",
       "sess9FJ5MGQ9   scan9FJ5MGQ9   1           1             1           57600       0         16696.4      20372.3        49623.0        29.9784     1              63.1769        0.712867       None           1921.38        bench2p       \n",
       "sess9FJ5MPW6   scan9FJ5MPW6   1           1             1           27000       0         16696.4      20372.3        49623.0        29.9784     1              63.1769        0.712867       None           900.648        bench2p       \n",
       "sess9FJ5MVC0   scan9FJ5MVC0   1           1             1           13350       0         16696.4      20372.3        49623.0        29.9784     1              63.1769        0.712867       None           445.321        bench2p       \n",
       "sess9FJBPNSP   scan9FJBPNSP   1           1             1           9000        0         0.0          0.0            0.0            14.9253     1              250.001        0.9            None           603.003        openfield     \n",
       " (Total: 21)"
      ]
     },
     "execution_count": 4,
     "metadata": {},
     "output_type": "execute_result"
    }
   ],
   "source": [
    "scan.ScanInfo()"
   ]
  },
  {
   "cell_type": "code",
   "execution_count": 5,
   "id": "1036ffca",
   "metadata": {},
   "outputs": [],
   "source": [
    "# trial.TrialType().delete()\n",
    "# trial.Trial.delete()\n",
    "# trial.TrialEvent.delete()"
   ]
  },
  {
   "cell_type": "code",
   "execution_count": 6,
   "id": "681d737d-721e-4f3a-8386-c1c55968f0ff",
   "metadata": {},
   "outputs": [
    {
     "name": "stdout",
     "output_type": "stream",
     "text": [
      "More or less than 1 stim_files found in JJ_ROS-1487_2023-03-17_scan9FH37WBZ_sess9FH37WBZ - not extracting stim IDs\n"
     ]
    }
   ],
   "source": [
    "# scansi = \"scan9FJ4IJOQ\"\n",
    "scansi = \"scan9FH37WBZ\"\n",
    "scan_key = (scan.Scan & f'scan_id = \"{scansi}\"').fetch('KEY')[0]\n",
    "sessi = (scan.Scan & f'scan_id = \"{scansi}\"').fetch('session_id')[0]\n",
    "aux_setup_typestr = (scan.ScanInfo() & scan_key).fetch(\"userfunction_info\")[0]\n",
    "\n",
    "ibe.ingest_aux(sessi,scansi,verbose=False, aux_setup_type=aux_setup_typestr)"
   ]
  },
  {
   "cell_type": "code",
   "execution_count": null,
   "id": "6ab982e1",
   "metadata": {},
   "outputs": [],
   "source": []
  },
  {
   "cell_type": "code",
   "execution_count": null,
   "id": "be1bdbc0",
   "metadata": {},
   "outputs": [],
   "source": [
    "scan.ScanInfo() & scan_key"
   ]
  },
  {
   "cell_type": "code",
   "execution_count": null,
   "id": "e7cf3793",
   "metadata": {},
   "outputs": [],
   "source": [
    "event.Event & scan_key "
   ]
  },
  {
   "cell_type": "code",
   "execution_count": null,
   "id": "7e6e9638",
   "metadata": {},
   "outputs": [],
   "source": [
    "stims_per_trial = len(set((event.Event & scan_key & 'event_type LIKE \"%;%\"').fetch(\"event_type\")))\n",
    "all_stims = (event.Event & scan_key & 'event_type LIKE \"%;%\"').fetch(\"event_type\")\n",
    "trial_stims = {x: list(all_stims).count(x) for x in all_stims}\n",
    "trials = set([list(all_stims).count(x) for x in all_stims])\n",
    "stims = len\n",
    "print(trial_stims)\n",
    "print(trials)\n"
   ]
  },
  {
   "cell_type": "code",
   "execution_count": null,
   "id": "d431f3ae",
   "metadata": {},
   "outputs": [],
   "source": [
    "trial_start_edges = (event.Event & scan_key & 'event_type LIKE \"%;%\"').fetch(\"event_start_time\",order_by = \"event_start_time\")[::stims_per_trial] \n",
    "trial_end_edges = (event.Event & scan_key & 'event_type LIKE \"%;%\"').fetch(\"event_end_time\",order_by = \"event_end_time\")[stims_per_trial-1::stims_per_trial] \n",
    "trial_event_name = (event.Event & scan_key & 'event_type LIKE \"%;%\"').fetch(\"event_type\")[0].split(':')[0]\n",
    "# trial.TrialType().insert1({'trial_type': trial_event_name, 'trial_type_description': ''}, skip_duplicates=True) "
   ]
  },
  {
   "cell_type": "code",
   "execution_count": null,
   "id": "8bc36f0d",
   "metadata": {},
   "outputs": [],
   "source": [
    "(event.Event & scan_key & 'event_type LIKE \"%;%\"').fetch(format = \"frame\",order_by = \"event_start_time\")"
   ]
  },
  {
   "cell_type": "code",
   "execution_count": null,
   "id": "af6b3f79",
   "metadata": {},
   "outputs": [],
   "source": [
    "trial.TrialType()"
   ]
  },
  {
   "cell_type": "code",
   "execution_count": null,
   "id": "29778623",
   "metadata": {},
   "outputs": [],
   "source": [
    "trial_start_edges"
   ]
  },
  {
   "cell_type": "code",
   "execution_count": null,
   "id": "c1335e3b",
   "metadata": {},
   "outputs": [],
   "source": [
    "trial_end_edges"
   ]
  },
  {
   "cell_type": "code",
   "execution_count": null,
   "id": "fae508c6",
   "metadata": {},
   "outputs": [],
   "source": [
    "event_names = (event.Event & scan_key & 'event_type LIKE \"%;%\"' & f\"event_end_time < {trial_end_edges[0]}\").fetch(\"event_type\",order_by = \"event_start_time\")\n",
    "event_onsets = (event.Event & scan_key & 'event_type LIKE \"%;%\"' & f\"event_end_time < {trial_end_edges[0]}\").fetch(\"event_start_time\",order_by = \"event_start_time\")"
   ]
  },
  {
   "cell_type": "code",
   "execution_count": null,
   "id": "e67ca985",
   "metadata": {},
   "outputs": [],
   "source": [
    "event_onsets"
   ]
  },
  {
   "cell_type": "markdown",
   "id": "6427b8bc",
   "metadata": {},
   "source": [
    "# Ingestions!"
   ]
  },
  {
   "cell_type": "code",
   "execution_count": 7,
   "id": "b405fdf4",
   "metadata": {},
   "outputs": [
    {
     "ename": "ValueError",
     "evalue": "slice step cannot be zero",
     "output_type": "error",
     "traceback": [
      "\u001b[0;31m---------------------------------------------------------------------------\u001b[0m",
      "\u001b[0;31mValueError\u001b[0m                                Traceback (most recent call last)",
      "\u001b[1;32m/home/tobiasr/adamacs/notebooks/06_behavior_insert.ipynb Cell 27\u001b[0m in \u001b[0;36m<cell line: 2>\u001b[0;34m()\u001b[0m\n\u001b[1;32m      <a href='vscode-notebook-cell://ssh-remote%2B172.26.128.53/home/tobiasr/adamacs/notebooks/06_behavior_insert.ipynb#X34sdnNjb2RlLXJlbW90ZQ%3D%3D?line=0'>1</a>\u001b[0m \u001b[39m# ibe.ingest_aux(sessi,scansi, verbose=True, aux_setup_type=\"bench2p\")\u001b[39;00m\n\u001b[0;32m----> <a href='vscode-notebook-cell://ssh-remote%2B172.26.128.53/home/tobiasr/adamacs/notebooks/06_behavior_insert.ipynb#X34sdnNjb2RlLXJlbW90ZQ%3D%3D?line=1'>2</a>\u001b[0m ibe\u001b[39m.\u001b[39;49mget_and_ingest_trial_times(scansi, aux_setup_typestr)     \n",
      "File \u001b[0;32m~/adamacs/adamacs/ingest/behavior.py:314\u001b[0m, in \u001b[0;36mget_and_ingest_trial_times\u001b[0;34m(scan_key, aux_setup_type)\u001b[0m\n\u001b[1;32m    309\u001b[0m stims_per_trial \u001b[39m=\u001b[39m \u001b[39mlen\u001b[39m(\u001b[39mset\u001b[39m((event\u001b[39m.\u001b[39mEvent \u001b[39m&\u001b[39m scan_key_key \u001b[39m&\u001b[39m \u001b[39m'\u001b[39m\u001b[39mevent_type LIKE \u001b[39m\u001b[39m\"\u001b[39m\u001b[39m%\u001b[39m\u001b[39m;\u001b[39m\u001b[39m%\u001b[39m\u001b[39m\"\u001b[39m\u001b[39m'\u001b[39m)\u001b[39m.\u001b[39mfetch(\u001b[39m\"\u001b[39m\u001b[39mevent_type\u001b[39m\u001b[39m\"\u001b[39m)))\n\u001b[1;32m    310\u001b[0m \u001b[39m# all_stims = (event.Event & scan_key & 'event_type LIKE \"%;%\"').fetch(\"event_type\")\u001b[39;00m\n\u001b[1;32m    311\u001b[0m \u001b[39m# trial_stims = {x: list(all_stims).count(x) for x in all_stims}\u001b[39;00m\n\u001b[1;32m    312\u001b[0m \u001b[39m# trials = set([list(all_stims).count(x) for x in all_stims])\u001b[39;00m\n\u001b[0;32m--> 314\u001b[0m trial_start_edges \u001b[39m=\u001b[39m (event\u001b[39m.\u001b[39;49mEvent \u001b[39m&\u001b[39;49m scan_key_key \u001b[39m&\u001b[39;49m \u001b[39m'\u001b[39;49m\u001b[39mevent_type LIKE \u001b[39;49m\u001b[39m\"\u001b[39;49m\u001b[39m%\u001b[39;49m\u001b[39m;\u001b[39;49m\u001b[39m%\u001b[39;49m\u001b[39m\"\u001b[39;49m\u001b[39m'\u001b[39;49m)\u001b[39m.\u001b[39;49mfetch(\u001b[39m\"\u001b[39;49m\u001b[39mevent_start_time\u001b[39;49m\u001b[39m\"\u001b[39;49m,order_by \u001b[39m=\u001b[39;49m \u001b[39m\"\u001b[39;49m\u001b[39mevent_start_time\u001b[39;49m\u001b[39m\"\u001b[39;49m)[::stims_per_trial] \n\u001b[1;32m    315\u001b[0m trial_end_edges \u001b[39m=\u001b[39m (event\u001b[39m.\u001b[39mEvent \u001b[39m&\u001b[39m scan_key_key \u001b[39m&\u001b[39m \u001b[39m'\u001b[39m\u001b[39mevent_type LIKE \u001b[39m\u001b[39m\"\u001b[39m\u001b[39m%\u001b[39m\u001b[39m;\u001b[39m\u001b[39m%\u001b[39m\u001b[39m\"\u001b[39m\u001b[39m'\u001b[39m)\u001b[39m.\u001b[39mfetch(\u001b[39m\"\u001b[39m\u001b[39mevent_end_time\u001b[39m\u001b[39m\"\u001b[39m,order_by \u001b[39m=\u001b[39m \u001b[39m\"\u001b[39m\u001b[39mevent_end_time\u001b[39m\u001b[39m\"\u001b[39m)[stims_per_trial\u001b[39m-\u001b[39m\u001b[39m1\u001b[39m::stims_per_trial]     \n\u001b[1;32m    317\u001b[0m trial_event_name \u001b[39m=\u001b[39m (event\u001b[39m.\u001b[39mEvent \u001b[39m&\u001b[39m scan_key_key \u001b[39m&\u001b[39m \u001b[39m'\u001b[39m\u001b[39mevent_type LIKE \u001b[39m\u001b[39m\"\u001b[39m\u001b[39m%\u001b[39m\u001b[39m;\u001b[39m\u001b[39m%\u001b[39m\u001b[39m\"\u001b[39m\u001b[39m'\u001b[39m)\u001b[39m.\u001b[39mfetch(\u001b[39m\"\u001b[39m\u001b[39mevent_type\u001b[39m\u001b[39m\"\u001b[39m)[\u001b[39m0\u001b[39m]\u001b[39m.\u001b[39msplit(\u001b[39m'\u001b[39m\u001b[39m:\u001b[39m\u001b[39m'\u001b[39m)[\u001b[39m0\u001b[39m]\n",
      "\u001b[0;31mValueError\u001b[0m: slice step cannot be zero"
     ]
    }
   ],
   "source": [
    "\n",
    "# ibe.ingest_aux(sessi,scansi, verbose=True, aux_setup_type=\"bench2p\")\n",
    "ibe.get_and_ingest_trial_times(scansi, aux_setup_typestr)     "
   ]
  },
  {
   "cell_type": "markdown",
   "id": "771af329",
   "metadata": {},
   "source": [
    "# example queries"
   ]
  },
  {
   "cell_type": "code",
   "execution_count": 8,
   "id": "0eda5860",
   "metadata": {},
   "outputs": [
    {
     "data": {
      "text/html": [
       "<div>\n",
       "<style scoped>\n",
       "    .dataframe tbody tr th:only-of-type {\n",
       "        vertical-align: middle;\n",
       "    }\n",
       "\n",
       "    .dataframe tbody tr th {\n",
       "        vertical-align: top;\n",
       "    }\n",
       "\n",
       "    .dataframe thead th {\n",
       "        text-align: right;\n",
       "    }\n",
       "</style>\n",
       "<table border=\"1\" class=\"dataframe\">\n",
       "  <thead>\n",
       "    <tr style=\"text-align: right;\">\n",
       "      <th></th>\n",
       "      <th></th>\n",
       "      <th></th>\n",
       "      <th></th>\n",
       "      <th>event_end_time</th>\n",
       "    </tr>\n",
       "    <tr>\n",
       "      <th>session_id</th>\n",
       "      <th>scan_id</th>\n",
       "      <th>event_type</th>\n",
       "      <th>event_start_time</th>\n",
       "      <th></th>\n",
       "    </tr>\n",
       "  </thead>\n",
       "  <tbody>\n",
       "  </tbody>\n",
       "</table>\n",
       "</div>"
      ],
      "text/plain": [
       "Empty DataFrame\n",
       "Columns: [event_end_time]\n",
       "Index: []"
      ]
     },
     "execution_count": 8,
     "metadata": {},
     "output_type": "execute_result"
    }
   ],
   "source": [
    "scansi = \"scan9FH37WBZ\"\n",
    "scan_key = (scan.Scan & f'scan_id = \"{scansi}\"').fetch('KEY')[0] \n",
    "\n",
    "(event.Event & scan_key & f'event_type LIKE \"%;%\"').fetch(format = \"frame\", order_by = \"event_start_time\")"
   ]
  },
  {
   "cell_type": "code",
   "execution_count": 9,
   "id": "60475e03",
   "metadata": {},
   "outputs": [
    {
     "data": {
      "text/html": [
       "<div>\n",
       "<style scoped>\n",
       "    .dataframe tbody tr th:only-of-type {\n",
       "        vertical-align: middle;\n",
       "    }\n",
       "\n",
       "    .dataframe tbody tr th {\n",
       "        vertical-align: top;\n",
       "    }\n",
       "\n",
       "    .dataframe thead th {\n",
       "        text-align: right;\n",
       "    }\n",
       "</style>\n",
       "<table border=\"1\" class=\"dataframe\">\n",
       "  <thead>\n",
       "    <tr style=\"text-align: right;\">\n",
       "      <th></th>\n",
       "      <th></th>\n",
       "      <th></th>\n",
       "      <th></th>\n",
       "      <th></th>\n",
       "      <th>event_end_time</th>\n",
       "    </tr>\n",
       "    <tr>\n",
       "      <th>session_id</th>\n",
       "      <th>scan_id</th>\n",
       "      <th>event_type</th>\n",
       "      <th>event_start_time</th>\n",
       "      <th>trial_id</th>\n",
       "      <th></th>\n",
       "    </tr>\n",
       "  </thead>\n",
       "  <tbody>\n",
       "  </tbody>\n",
       "</table>\n",
       "</div>"
      ],
      "text/plain": [
       "Empty DataFrame\n",
       "Columns: [event_end_time]\n",
       "Index: []"
      ]
     },
     "execution_count": 9,
     "metadata": {},
     "output_type": "execute_result"
    }
   ],
   "source": [
    "# example: get stimulus onsets and offsets of certain trials fro a single stimulus\n",
    "\n",
    "scansi = \"scan9FH37WBZ\"\n",
    "scan_key = (scan.Scan & f'scan_id = \"{scansi}\"').fetch('KEY')[0] \n",
    "\n",
    "orientation = 180\n",
    "\n",
    "trialnum = 2\n",
    "\n",
    "dataframe = (event.Event * trial.TrialEvent & scan_key & f'event_type LIKE \"%{orientation}%\"' & f\"trial_id <= {trialnum}\").fetch(format = \"frame\")\n",
    "dataframe"
   ]
  },
  {
   "cell_type": "code",
   "execution_count": null,
   "id": "ebe69760",
   "metadata": {},
   "outputs": [],
   "source": [
    "# example: get stimulus onsets and offsets of certain trials fro a single stimulus\n",
    "temporal_freq = (event.Event * trial.TrialEvent & scan_key & f'event_type LIKE \"%{orientation}%\"' & f\"trial_id <= {trialnum}\").fetch(\"event_type\")[0].split(\";\")[7]\n",
    "\n",
    "print(temporal_freq)"
   ]
  },
  {
   "cell_type": "code",
   "execution_count": null,
   "id": "5a8b909f",
   "metadata": {},
   "outputs": [],
   "source": [
    "trialnum = 1 # 1-indexed!\n",
    "TrialEvent_query_keys = (event.Event * trial.Trial & scan_key & f'event_type LIKE \"%;%\"' & f'event_start_time <= \"{trial_end_edges[trialnum-1]}\"' & f'event_end_time >= \"{trial_start_edges[trialnum-1]}\"' & f'trial_id= \"{trialnum}\"').fetch(format = \"frame\", order_by = \"event_start_time\")"
   ]
  },
  {
   "cell_type": "code",
   "execution_count": null,
   "id": "f2e35a87",
   "metadata": {},
   "outputs": [],
   "source": [
    "TrialEvent_query_keys"
   ]
  },
  {
   "cell_type": "code",
   "execution_count": null,
   "id": "e4d49746",
   "metadata": {},
   "outputs": [],
   "source": [
    "len(TrialEvent_query_keys)"
   ]
  },
  {
   "cell_type": "code",
   "execution_count": null,
   "id": "a8240506",
   "metadata": {},
   "outputs": [],
   "source": [
    "trial.TrialEvent.insert(TrialEvent_query_keys,  allow_direct_insert=True, skip_duplicates=True, ignore_extra_fields=True)"
   ]
  },
  {
   "cell_type": "code",
   "execution_count": null,
   "id": "29895939",
   "metadata": {},
   "outputs": [],
   "source": [
    "trial_start_edges = (event.Event & scan_key & 'event_type LIKE \"%;%\"').fetch(\"event_start_time\",order_by = \"event_start_time\")[::stims_per_trial] \n",
    "trial_end_edges = (event.Event & scan_key & 'event_type LIKE \"%;%\"').fetch(\"event_end_time\",order_by = \"event_end_time\")[stims_per_trial-1::stims_per_trial]     \n",
    "    \n",
    "trial_event_name = (event.Event & scan_key & 'event_type LIKE \"%;%\"').fetch(\"event_type\")[0].split(':')[0]\n",
    "trial.TrialType().insert1({'trial_type': trial_event_name, 'trial_type_description': ''}, skip_duplicates=True)\n"
   ]
  },
  {
   "cell_type": "code",
   "execution_count": null,
   "id": "471507c0",
   "metadata": {},
   "outputs": [],
   "source": [
    "for trialnum in enumerate(trial_start_edges):\n",
    "    trial.Trial.insert1({'session_id': sessi, 'scan_id': scansi, 'trial_id': trialnum[0], 'trial_type': trial_event_name, 'trial_start_time': trial_start_edges[trialnum[0]], 'trial_stop_time': trial_end_edges[trialnum[0]]},  allow_direct_insert=True, skip_duplicates=True)\n",
    "                \n",
    "    event_names = (event.Event & scan_key & 'event_type LIKE \"%;%\"' & f\"event_end_time < {trial_end_edges[0]}\").fetch(\"event_type\",order_by = \"event_start_time\")\n",
    "    event_onsets = (event.Event & scan_key & 'event_type LIKE \"%;%\"' & f\"event_end_time < {trial_end_edges[0]}\").fetch(\"event_start_time\",order_by = \"event_start_time\")\n",
    "    "
   ]
  },
  {
   "cell_type": "code",
   "execution_count": null,
   "id": "7375f760",
   "metadata": {},
   "outputs": [],
   "source": [
    "event_names"
   ]
  },
  {
   "cell_type": "code",
   "execution_count": null,
   "id": "00f1f2c7",
   "metadata": {},
   "outputs": [],
   "source": [
    "                trial.TrialEvent.insert1({'session_id': session_key, 'scan_id': scan_key, 'trial_id': trialnum[0], 'event_type': event_single, 'event_start_time': event_onsets[trialnum[0]]},  allow_direct_insert=True, skip_duplicates=True)"
   ]
  },
  {
   "cell_type": "code",
   "execution_count": null,
   "id": "bd27822c",
   "metadata": {},
   "outputs": [],
   "source": [
    "event_names = (event.Event & scan_key & 'event_type LIKE \"%;%\"' & f\"event_end_time < {trial_end_edges[0]}\").fetch(\"event_type\",order_by = \"event_start_time\")\n",
    "event_onsets = (event.Event & scan_key & 'event_type LIKE \"%;%\"' & f\"event_end_time < {trial_end_edges[0]}\").fetch(\"event_start_time\",order_by = \"event_start_time\")\n"
   ]
  },
  {
   "cell_type": "code",
   "execution_count": null,
   "id": "1c8db534",
   "metadata": {},
   "outputs": [],
   "source": [
    "scan_key"
   ]
  },
  {
   "cell_type": "code",
   "execution_count": null,
   "id": "615cae45",
   "metadata": {},
   "outputs": [],
   "source": [
    " trial.TrialEvent.insert1({'session_id': sessi, 'scan_id': scansi, 'trial_id': 0, 'trial_type': trial_event_name})"
   ]
  },
  {
   "cell_type": "code",
   "execution_count": null,
   "id": "3921e414",
   "metadata": {},
   "outputs": [],
   "source": [
    "trial.TrialEvent.insert1({'session_id': session_key, 'scan_id': scan_key, 'trial_id': trialnum[0], 'trial_type': trial_event_name, 'trial_start_time': trial_start_edges[trialnum[0]], 'trial_stop_time': trial_end_edges[trialnum[0]]},  allow_direct_insert=True, skip_duplicates=True)"
   ]
  },
  {
   "cell_type": "markdown",
   "id": "85f878e6",
   "metadata": {},
   "source": [
    "#  Plot the aux file"
   ]
  },
  {
   "cell_type": "code",
   "execution_count": null,
   "id": "c89ee0c7",
   "metadata": {},
   "outputs": [],
   "source": [
    "from element_interface.utils import find_full_path\n",
    "from adamacs.paths import get_experiment_root_data_dir\n",
    "\n",
    "bpod_path_relative = (event.BehaviorRecording.File & scan_key).fetch1(\"filepath\")\n",
    "auxpath = list(find_full_path(\n",
    "    get_experiment_root_data_dir(), bpod_path_relative\n",
    ").parent.glob(\"*h5\"))\n",
    "\n",
    "print(auxpath)"
   ]
  },
  {
   "cell_type": "code",
   "execution_count": null,
   "id": "ab1a1ab1",
   "metadata": {},
   "outputs": [],
   "source": [
    "aux_setup_typestr = (scan.ScanInfo() & 'scan_id = \"' + scansi + '\"').fetch(\"userfunction_info\")[0]\n",
    "aux_setup_typestr"
   ]
  },
  {
   "cell_type": "code",
   "execution_count": null,
   "id": "f83d9a4f",
   "metadata": {},
   "outputs": [],
   "source": [
    "curr_file = ws.loadDataFile(filename=auxpath[0], format_string='double' )"
   ]
  },
  {
   "cell_type": "code",
   "execution_count": null,
   "id": "bc84df51",
   "metadata": {},
   "outputs": [],
   "source": [
    "sweep = [x for x in curr_file.keys() if 'sweep' in x][0]"
   ]
  },
  {
   "cell_type": "code",
   "execution_count": null,
   "id": "925fcc79",
   "metadata": {},
   "outputs": [],
   "source": [
    "import numpy as np\n",
    "\n",
    "analog_scans = curr_file[sweep]['analogScans']\n",
    "analog_labels = curr_file['header']['AIChannelNames']\n",
    "digital_labels = curr_file['header']['DIChannelNames']\n",
    "sr = curr_file['header']['AcquisitionSampleRate'][0][0]\n",
    "digital_scans = ibe.demultiplex(curr_file[sweep]['digitalScans'][0], np.shape(digital_labels)[0])\n",
    "step = 10\n",
    "\n",
    "# Plotting analogScans\n",
    "# plt.figure(figsize=(12, 6))\n",
    "# plt.title(\"Analog Scans\")\n",
    "\n",
    "# Creating subplots\n",
    "fig, axes = plt.subplots(nrows=analog_scans.shape[0], ncols=1, figsize=(50, 10))\n",
    "\n",
    "# Plotting analogScans\n",
    "axes[0].set_title(f\"Analog Scans - Every {step}th Sample\")\n",
    "for i in range(analog_scans.shape[0]):\n",
    "     axes[i].plot(analog_scans[i][::step], label=f\"AI {analog_labels[i]}\")\n",
    "     axes[i].legend()\n",
    "     axes[i].set_xlabel(\"Sample Index\")\n",
    "     axes[i].set_ylabel(\"Signal\")\n",
    "\n",
    "plt.show()\n",
    "\n",
    "\n",
    "# Creating subplots\n",
    "fig, axes = plt.subplots(nrows=digital_scans.shape[0], ncols=1, figsize=(50, 10))\n",
    "\n",
    "# Plotting analogScans\n",
    "axes[0].set_title(f\"Digital Scans - Every {step}th Sample\")\n",
    "for i in range(digital_scans.shape[0]):\n",
    "     axes[i].plot(digital_scans[i][::step], label=f\"DI {digital_labels[::-1][i]}\")\n",
    "     axes[i].set_xlabel(\"Sample Index\")\n",
    "     axes[i].set_ylabel(\"Signal\")\n",
    "     axes[i].legend()\n",
    "     \n",
    "fig.suptitle(scan_key[\"scan_id\"], fontsize=16)\n",
    "\n",
    "plt.show()\n"
   ]
  },
  {
   "cell_type": "code",
   "execution_count": null,
   "id": "f9bcefce",
   "metadata": {},
   "outputs": [],
   "source": []
  },
  {
   "cell_type": "code",
   "execution_count": null,
   "id": "a43353c6",
   "metadata": {},
   "outputs": [],
   "source": [
    "fig, axes = plt.subplots(nrows=2, ncols=1, figsize=(50, 10))\n",
    "sr = curr_file['header']['AcquisitionSampleRate'][0][0]\n",
    "# Plotting analogScans\n",
    "axes[0].set_title(f\"Analog Scans - Every {step}th Sample\")\n",
    "# for i in range(analog_scans.shape[0]):\n",
    "i = 0\n",
    "axes[i].plot(np.abs(analog_scans[i][::step]), label=f\"AI {analog_labels[i]}\")\n",
    "axes[i].legend()\n",
    "axes[i].set_xlabel(\"Sample Index\")\n",
    "axes[i].set_ylabel(\"Signal\")\n",
    "\n",
    "\n",
    "if i == 0:\n",
    "     onsets = (event.Event & scan_key & \"event_type = 'aux_bonsai_vis'\").fetch('event_start_time') * sr / step\n",
    "     offsets = (event.Event & scan_key & \"event_type = 'aux_bonsai_vis'\").fetch('event_end_time') * sr / step\n",
    "     edges = (event.Event & scan_key & 'event_type LIKE \"%;%\"').fetch(\"event_start_time\",order_by = \"event_start_time\")[::stims_per_trial] * sr / step\n",
    "     edgesoff = (event.Event & scan_key & 'event_type LIKE \"%;%\"').fetch(\"event_end_time\",order_by = \"event_end_time\")[stims_per_trial-1::stims_per_trial] * sr / step\n",
    "     for xc in onsets:\n",
    "          axes[i].axvline(x=xc, color = 'r')\n",
    "     for xc in offsets:\n",
    "          # axes[i].axvline(x=xc, color = 'r')\n",
    "          axes[i].axvline(x=xc, color = 'w')\n",
    "     for xc in edges:\n",
    "          # axes[i].axvline(x=xc, color = 'r')\n",
    "          axes[i].axvline(x=xc, color = 'b')\n",
    "     for xc in edgesoff:\n",
    "          # axes[i].axvline(x=xc, color = 'r')\n",
    "          axes[i].axvline(x=xc, color = 'y')"
   ]
  },
  {
   "cell_type": "code",
   "execution_count": null,
   "id": "29e21813",
   "metadata": {},
   "outputs": [],
   "source": [
    "ibe.get_timestamps(np.abs(analog_scans[i]), sr, 1)"
   ]
  },
  {
   "cell_type": "code",
   "execution_count": null,
   "id": "5314f394",
   "metadata": {},
   "outputs": [],
   "source": [
    "event.Event & scan_key"
   ]
  },
  {
   "cell_type": "code",
   "execution_count": null,
   "id": "7efa25f4",
   "metadata": {},
   "outputs": [],
   "source": [
    "(event.Event & scan_key & \"event_type = 'aux_bonsai_vis'\").fetch('event_start_time')\n",
    "# auxgatetimestamp_end = (event.Event()  &  \"event_type='main_track_gate'\" &  scanquery ).fetch('event_end_time')"
   ]
  },
  {
   "cell_type": "code",
   "execution_count": null,
   "metadata": {},
   "outputs": [],
   "source": [
    "dj.Diagram(trial) + dj.Diagram(event) +100\n"
   ]
  },
  {
   "cell_type": "code",
   "execution_count": null,
   "id": "149d9df0",
   "metadata": {},
   "outputs": [],
   "source": [
    "surgery"
   ]
  },
  {
   "cell_type": "code",
   "execution_count": null,
   "id": "dbff5145",
   "metadata": {},
   "outputs": [],
   "source": [
    "dj.Diagram(subject.Subject) + dj.Diagram(event) + dj.Diagram(scan)"
   ]
  },
  {
   "cell_type": "code",
   "execution_count": null,
   "id": "86a8bab4",
   "metadata": {},
   "outputs": [],
   "source": [
    "fp = event.BehaviorRecording.File().fetch('filepath')\n",
    "print(fp)\n"
   ]
  },
  {
   "cell_type": "code",
   "execution_count": null,
   "id": "a21dae63",
   "metadata": {},
   "outputs": [],
   "source": [
    "scan.Scan()"
   ]
  },
  {
   "cell_type": "code",
   "execution_count": null,
   "id": "85f354f2",
   "metadata": {},
   "outputs": [],
   "source": [
    "event.AlignmentEvent()"
   ]
  },
  {
   "cell_type": "code",
   "execution_count": null,
   "id": "44f105c0",
   "metadata": {},
   "outputs": [],
   "source": [
    "trial.Trial()"
   ]
  },
  {
   "cell_type": "code",
   "execution_count": null,
   "id": "2fbc8ccf",
   "metadata": {},
   "outputs": [],
   "source": [
    "dj.Diagram(event)"
   ]
  },
  {
   "cell_type": "code",
   "execution_count": null,
   "id": "c4c8bb54-ae93-4974-9ff7-ac74dfa2baa0",
   "metadata": {},
   "outputs": [],
   "source": [
    "session.Session * session.SessionDirectory"
   ]
  },
  {
   "cell_type": "code",
   "execution_count": null,
   "id": "bdfe449c-9ecc-4b49-93ee-9c73295b12eb",
   "metadata": {},
   "outputs": [],
   "source": [
    "key='scan9FF6U114'\n",
    "(scan.Scan & f'scan_id=\\\"{key}\\\"')"
   ]
  },
  {
   "cell_type": "code",
   "execution_count": null,
   "id": "362c221b",
   "metadata": {},
   "outputs": [],
   "source": [
    "scan.Scan()"
   ]
  },
  {
   "attachments": {},
   "cell_type": "markdown",
   "id": "773962c7-6ae0-487d-9d5f-93ecf4d03c55",
   "metadata": {},
   "source": [
    "`CB DEV NOTE:` In demo file, there are no `scan.motor_position_at_zero` values. Set to 0 here to avoid downstream type errors when adding. Future would should set these to null when not present and revise downstream code."
   ]
  },
  {
   "cell_type": "code",
   "execution_count": null,
   "id": "f917744b-503a-4e3b-88db-6559cbab2eea",
   "metadata": {},
   "outputs": [],
   "source": [
    "scan.ScanInfo()"
   ]
  },
  {
   "cell_type": "code",
   "execution_count": null,
   "id": "d73f4e1e",
   "metadata": {},
   "outputs": [],
   "source": [
    "scan.ScanInfo.Field()"
   ]
  },
  {
   "attachments": {},
   "cell_type": "markdown",
   "id": "bcd8798c-e1b2-4855-89cf-53f5b1b25bec",
   "metadata": {},
   "source": [
    "Note the relative path below:"
   ]
  },
  {
   "cell_type": "code",
   "execution_count": null,
   "id": "5d0c8693",
   "metadata": {},
   "outputs": [],
   "source": [
    "scan.ScanInfo.ScanFile()"
   ]
  },
  {
   "cell_type": "code",
   "execution_count": null,
   "id": "9ad7d47e",
   "metadata": {},
   "outputs": [],
   "source": [
    "event.BehaviorRecording.File()\n"
   ]
  },
  {
   "cell_type": "code",
   "execution_count": null,
   "id": "c5884534",
   "metadata": {},
   "outputs": [],
   "source": [
    "(event.BehaviorRecording.File ).fetch1(\"filepath\")"
   ]
  },
  {
   "cell_type": "markdown",
   "id": "f19a6a5c",
   "metadata": {},
   "source": [
    "# Treadmill handling and ingestion"
   ]
  },
  {
   "cell_type": "code",
   "execution_count": 10,
   "metadata": {},
   "outputs": [
    {
     "data": {
      "text/html": [
       "\n",
       "    \n",
       "    <style type=\"text/css\">\n",
       "        .Table{\n",
       "            border-collapse:collapse;\n",
       "        }\n",
       "        .Table th{\n",
       "            background: #A0A0A0; color: #ffffff; padding:4px; border:#f0e0e0 1px solid;\n",
       "            font-weight: normal; font-family: monospace; font-size: 100%;\n",
       "        }\n",
       "        .Table td{\n",
       "            padding:4px; border:#f0e0e0 1px solid; font-size:100%;\n",
       "        }\n",
       "        .Table tr:nth-child(odd){\n",
       "            background: #ffffff;\n",
       "            color: #000000;\n",
       "        }\n",
       "        .Table tr:nth-child(even){\n",
       "            background: #f3f1ff;\n",
       "            color: #000000;\n",
       "        }\n",
       "        /* Tooltip container */\n",
       "        .djtooltip {\n",
       "        }\n",
       "        /* Tooltip text */\n",
       "        .djtooltip .djtooltiptext {\n",
       "            visibility: hidden;\n",
       "            width: 120px;\n",
       "            background-color: black;\n",
       "            color: #fff;\n",
       "            text-align: center;\n",
       "            padding: 5px 0;\n",
       "            border-radius: 6px;\n",
       "            /* Position the tooltip text - see examples below! */\n",
       "            position: absolute;\n",
       "            z-index: 1;\n",
       "        }\n",
       "        #primary {\n",
       "            font-weight: bold;\n",
       "            color: black;\n",
       "        }\n",
       "        #nonprimary {\n",
       "            font-weight: normal;\n",
       "            color: white;\n",
       "        }\n",
       "\n",
       "        /* Show the tooltip text when you mouse over the tooltip container */\n",
       "        .djtooltip:hover .djtooltiptext {\n",
       "            visibility: visible;\n",
       "        }\n",
       "    </style>\n",
       "    \n",
       "    <b></b>\n",
       "        <div style=\"max-height:1000px;max-width:1500px;overflow:auto;\">\n",
       "        <table border=\"1\" class=\"Table\">\n",
       "            <thead> <tr style=\"text-align: right;\"> <th> <div class=\"djtooltip\">\n",
       "                            <p id=\"primary\">treadmill_device_id</p>\n",
       "                            <span class=\"djtooltiptext\"></span>\n",
       "                        </div></th><th><div class=\"djtooltip\">\n",
       "                            <p id=\"nonprimary\">treadmill_device_name</p>\n",
       "                            <span class=\"djtooltiptext\"></span>\n",
       "                        </div></th><th><div class=\"djtooltip\">\n",
       "                            <p id=\"nonprimary\">treadmill_device_description</p>\n",
       "                            <span class=\"djtooltiptext\"></span>\n",
       "                        </div> </th> </tr> </thead>\n",
       "            <tbody> <tr> <td>1</td>\n",
       "<td>rotary encoder</td>\n",
       "<td>BPod rotary encoder on running wheel</td> </tr> </tbody>\n",
       "        </table>\n",
       "        \n",
       "        <p>Total: 1</p></div>\n",
       "        "
      ],
      "text/plain": [
       "*treadmill_dev treadmill_devi treadmill_devi\n",
       "+------------+ +------------+ +------------+\n",
       "1              rotary encoder BPod rotary en\n",
       " (Total: 1)"
      ]
     },
     "execution_count": 10,
     "metadata": {},
     "output_type": "execute_result"
    }
   ],
   "source": [
    "behavior.TreadmillDevice()"
   ]
  },
  {
   "cell_type": "code",
   "execution_count": 11,
   "id": "55a98369",
   "metadata": {},
   "outputs": [
    {
     "data": {
      "text/html": [
       "\n",
       "    \n",
       "    <style type=\"text/css\">\n",
       "        .Table{\n",
       "            border-collapse:collapse;\n",
       "        }\n",
       "        .Table th{\n",
       "            background: #A0A0A0; color: #ffffff; padding:4px; border:#f0e0e0 1px solid;\n",
       "            font-weight: normal; font-family: monospace; font-size: 100%;\n",
       "        }\n",
       "        .Table td{\n",
       "            padding:4px; border:#f0e0e0 1px solid; font-size:100%;\n",
       "        }\n",
       "        .Table tr:nth-child(odd){\n",
       "            background: #ffffff;\n",
       "            color: #000000;\n",
       "        }\n",
       "        .Table tr:nth-child(even){\n",
       "            background: #f3f1ff;\n",
       "            color: #000000;\n",
       "        }\n",
       "        /* Tooltip container */\n",
       "        .djtooltip {\n",
       "        }\n",
       "        /* Tooltip text */\n",
       "        .djtooltip .djtooltiptext {\n",
       "            visibility: hidden;\n",
       "            width: 120px;\n",
       "            background-color: black;\n",
       "            color: #fff;\n",
       "            text-align: center;\n",
       "            padding: 5px 0;\n",
       "            border-radius: 6px;\n",
       "            /* Position the tooltip text - see examples below! */\n",
       "            position: absolute;\n",
       "            z-index: 1;\n",
       "        }\n",
       "        #primary {\n",
       "            font-weight: bold;\n",
       "            color: black;\n",
       "        }\n",
       "        #nonprimary {\n",
       "            font-weight: normal;\n",
       "            color: white;\n",
       "        }\n",
       "\n",
       "        /* Show the tooltip text when you mouse over the tooltip container */\n",
       "        .djtooltip:hover .djtooltiptext {\n",
       "            visibility: visible;\n",
       "        }\n",
       "    </style>\n",
       "    \n",
       "    <b></b>\n",
       "        <div style=\"max-height:1000px;max-width:1500px;overflow:auto;\">\n",
       "        <table border=\"1\" class=\"Table\">\n",
       "            <thead> <tr style=\"text-align: right;\"> <th> <div class=\"djtooltip\">\n",
       "                            <p id=\"primary\">session_id</p>\n",
       "                            <span class=\"djtooltiptext\"></span>\n",
       "                        </div></th><th><div class=\"djtooltip\">\n",
       "                            <p id=\"primary\">scan_id</p>\n",
       "                            <span class=\"djtooltiptext\"></span>\n",
       "                        </div></th><th><div class=\"djtooltip\">\n",
       "                            <p id=\"primary\">treadmill_device_id</p>\n",
       "                            <span class=\"djtooltiptext\"></span>\n",
       "                        </div></th><th><div class=\"djtooltip\">\n",
       "                            <p id=\"primary\">channel_name</p>\n",
       "                            <span class=\"djtooltiptext\"></span>\n",
       "                        </div></th><th><div class=\"djtooltip\">\n",
       "                            <p id=\"nonprimary\">data</p>\n",
       "                            <span class=\"djtooltiptext\">1d array of acquired data for this channel</span>\n",
       "                        </div></th><th><div class=\"djtooltip\">\n",
       "                            <p id=\"nonprimary\">time</p>\n",
       "                            <span class=\"djtooltiptext\">1d array of timestamps for this channel</span>\n",
       "                        </div> </th> </tr> </thead>\n",
       "            <tbody> <tr> <td>sess9FH37WBZ</td>\n",
       "<td>scan9FH37WBZ</td>\n",
       "<td>1</td>\n",
       "<td>wheel_pos</td>\n",
       "<td>=BLOB=</td>\n",
       "<td>=BLOB=</td></tr><tr><td>sess9FHELAYA</td>\n",
       "<td>scan9FHELAYA</td>\n",
       "<td>1</td>\n",
       "<td>wheel_pos</td>\n",
       "<td>=BLOB=</td>\n",
       "<td>=BLOB=</td></tr><tr><td>sess9FHELAYA</td>\n",
       "<td>scan9FHELMRY</td>\n",
       "<td>1</td>\n",
       "<td>wheel_pos</td>\n",
       "<td>=BLOB=</td>\n",
       "<td>=BLOB=</td></tr><tr><td>sess9FHELAYA</td>\n",
       "<td>scan9FHELX2S</td>\n",
       "<td>1</td>\n",
       "<td>wheel_pos</td>\n",
       "<td>=BLOB=</td>\n",
       "<td>=BLOB=</td></tr><tr><td>sess9FHELAYA</td>\n",
       "<td>scan9FHEMBE2</td>\n",
       "<td>1</td>\n",
       "<td>wheel_pos</td>\n",
       "<td>=BLOB=</td>\n",
       "<td>=BLOB=</td></tr><tr><td>sess9FHS7Y22</td>\n",
       "<td>scan9FHS7Y22</td>\n",
       "<td>1</td>\n",
       "<td>wheel_pos</td>\n",
       "<td>=BLOB=</td>\n",
       "<td>=BLOB=</td></tr><tr><td>sess9FHS7Y22</td>\n",
       "<td>scan9FHS845A</td>\n",
       "<td>1</td>\n",
       "<td>wheel_pos</td>\n",
       "<td>=BLOB=</td>\n",
       "<td>=BLOB=</td></tr><tr><td>sess9FIG39RU</td>\n",
       "<td>scan9FIG39RU</td>\n",
       "<td>1</td>\n",
       "<td>wheel_pos</td>\n",
       "<td>=BLOB=</td>\n",
       "<td>=BLOB=</td></tr><tr><td>sess9FIG39RU</td>\n",
       "<td>scan9FIG3GCJ</td>\n",
       "<td>1</td>\n",
       "<td>wheel_pos</td>\n",
       "<td>=BLOB=</td>\n",
       "<td>=BLOB=</td></tr><tr><td>sess9FIG39RU</td>\n",
       "<td>scan9FIG3MU8</td>\n",
       "<td>1</td>\n",
       "<td>wheel_pos</td>\n",
       "<td>=BLOB=</td>\n",
       "<td>=BLOB=</td></tr><tr><td>sess9FJ4IJOQ</td>\n",
       "<td>scan9FJ4IJOQ</td>\n",
       "<td>1</td>\n",
       "<td>wheel_pos</td>\n",
       "<td>=BLOB=</td>\n",
       "<td>=BLOB=</td></tr><tr><td>sess9FJ5KHBX</td>\n",
       "<td>scan9FJ5KHBX</td>\n",
       "<td>1</td>\n",
       "<td>wheel_pos</td>\n",
       "<td>=BLOB=</td>\n",
       "<td>=BLOB=</td></tr><tr><td>sess9FJ5L18B</td>\n",
       "<td>scan9FJ5L18B</td>\n",
       "<td>1</td>\n",
       "<td>wheel_pos</td>\n",
       "<td>=BLOB=</td>\n",
       "<td>=BLOB=</td></tr><tr><td>sess9FJ5L9VD</td>\n",
       "<td>scan9FJ5L9VD</td>\n",
       "<td>1</td>\n",
       "<td>wheel_pos</td>\n",
       "<td>=BLOB=</td>\n",
       "<td>=BLOB=</td></tr><tr><td>sess9FJ5LHYE</td>\n",
       "<td>scan9FJ5LHYE</td>\n",
       "<td>1</td>\n",
       "<td>wheel_pos</td>\n",
       "<td>=BLOB=</td>\n",
       "<td>=BLOB=</td></tr><tr><td>sess9FJ5LVCL</td>\n",
       "<td>scan9FJ5LVCL</td>\n",
       "<td>1</td>\n",
       "<td>wheel_pos</td>\n",
       "<td>=BLOB=</td>\n",
       "<td>=BLOB=</td></tr><tr><td>sess9FJ5LZ1C</td>\n",
       "<td>scan9FJ5LZ1C</td>\n",
       "<td>1</td>\n",
       "<td>wheel_pos</td>\n",
       "<td>=BLOB=</td>\n",
       "<td>=BLOB=</td></tr><tr><td>sess9FJ5MGQ9</td>\n",
       "<td>scan9FJ5MGQ9</td>\n",
       "<td>1</td>\n",
       "<td>wheel_pos</td>\n",
       "<td>=BLOB=</td>\n",
       "<td>=BLOB=</td></tr><tr><td>sess9FJ5MPW6</td>\n",
       "<td>scan9FJ5MPW6</td>\n",
       "<td>1</td>\n",
       "<td>wheel_pos</td>\n",
       "<td>=BLOB=</td>\n",
       "<td>=BLOB=</td></tr><tr><td>sess9FJ5MVC0</td>\n",
       "<td>scan9FJ5MVC0</td>\n",
       "<td>1</td>\n",
       "<td>wheel_pos</td>\n",
       "<td>=BLOB=</td>\n",
       "<td>=BLOB=</td></tr><tr><td>sess9FJBPNSP</td>\n",
       "<td>scan9FJBPNSP</td>\n",
       "<td>1</td>\n",
       "<td>wheel_pos</td>\n",
       "<td>=BLOB=</td>\n",
       "<td>=BLOB=</td> </tr> </tbody>\n",
       "        </table>\n",
       "        \n",
       "        <p>Total: 21</p></div>\n",
       "        "
      ],
      "text/plain": [
       "*session_id    *scan_id       *treadmill_dev *channel_name  data       time      \n",
       "+------------+ +------------+ +------------+ +------------+ +--------+ +--------+\n",
       "sess9FH37WBZ   scan9FH37WBZ   1              wheel_pos      =BLOB=     =BLOB=    \n",
       "sess9FHELAYA   scan9FHELAYA   1              wheel_pos      =BLOB=     =BLOB=    \n",
       "sess9FHELAYA   scan9FHELMRY   1              wheel_pos      =BLOB=     =BLOB=    \n",
       "sess9FHELAYA   scan9FHELX2S   1              wheel_pos      =BLOB=     =BLOB=    \n",
       "sess9FHELAYA   scan9FHEMBE2   1              wheel_pos      =BLOB=     =BLOB=    \n",
       "sess9FHS7Y22   scan9FHS7Y22   1              wheel_pos      =BLOB=     =BLOB=    \n",
       "sess9FHS7Y22   scan9FHS845A   1              wheel_pos      =BLOB=     =BLOB=    \n",
       "sess9FIG39RU   scan9FIG39RU   1              wheel_pos      =BLOB=     =BLOB=    \n",
       "sess9FIG39RU   scan9FIG3GCJ   1              wheel_pos      =BLOB=     =BLOB=    \n",
       "sess9FIG39RU   scan9FIG3MU8   1              wheel_pos      =BLOB=     =BLOB=    \n",
       "sess9FJ4IJOQ   scan9FJ4IJOQ   1              wheel_pos      =BLOB=     =BLOB=    \n",
       "sess9FJ5KHBX   scan9FJ5KHBX   1              wheel_pos      =BLOB=     =BLOB=    \n",
       "sess9FJ5L18B   scan9FJ5L18B   1              wheel_pos      =BLOB=     =BLOB=    \n",
       "sess9FJ5L9VD   scan9FJ5L9VD   1              wheel_pos      =BLOB=     =BLOB=    \n",
       "sess9FJ5LHYE   scan9FJ5LHYE   1              wheel_pos      =BLOB=     =BLOB=    \n",
       "sess9FJ5LVCL   scan9FJ5LVCL   1              wheel_pos      =BLOB=     =BLOB=    \n",
       "sess9FJ5LZ1C   scan9FJ5LZ1C   1              wheel_pos      =BLOB=     =BLOB=    \n",
       "sess9FJ5MGQ9   scan9FJ5MGQ9   1              wheel_pos      =BLOB=     =BLOB=    \n",
       "sess9FJ5MPW6   scan9FJ5MPW6   1              wheel_pos      =BLOB=     =BLOB=    \n",
       "sess9FJ5MVC0   scan9FJ5MVC0   1              wheel_pos      =BLOB=     =BLOB=    \n",
       "sess9FJBPNSP   scan9FJBPNSP   1              wheel_pos      =BLOB=     =BLOB=    \n",
       " (Total: 21)"
      ]
     },
     "execution_count": 11,
     "metadata": {},
     "output_type": "execute_result"
    }
   ],
   "source": [
    "behavior.TreadmillRecording.Channel() "
   ]
  },
  {
   "cell_type": "code",
   "execution_count": 15,
   "id": "a515e03a",
   "metadata": {},
   "outputs": [],
   "source": [
    "treadmill = (behavior.TreadmillRecording.Channel() & scan_key).fetch(\"data\")[0]\n",
    "time = (behavior.TreadmillRecording.Channel() & scan_key).fetch(\"time\")[0]"
   ]
  },
  {
   "cell_type": "code",
   "execution_count": 17,
   "id": "3f59c4e9",
   "metadata": {},
   "outputs": [
    {
     "data": {
      "text/plain": [
       "Text(0.5, 0, 'Time [s]')"
      ]
     },
     "execution_count": 17,
     "metadata": {},
     "output_type": "execute_result"
    },
    {
     "data": {
      "image/png": "[encoded data removed]",
      "text/plain": [
       "<Figure size 2500x1000 with 3 Axes>"
      ]
     },
     "metadata": {},
     "output_type": "display_data"
    }
   ],
   "source": [
    "# smoothing window size (ms)\n",
    "window = 1000\n",
    "\n",
    "# convert voltage to degree\n",
    "treadmillnorm = (treadmill-np.min(treadmill)) / np.max(treadmill) * 360\n",
    "\n",
    "# compute running speed (see function above)\n",
    "angular_velocity_smoothed, unwrapped_angle_smoothed = ibe.compute_angular_velocity(time, treadmillnorm, window)\n",
    "\n",
    "\n",
    "fig, axes = plt.subplots(nrows=3, ncols=1, figsize=(25, 10))\n",
    "# plt.rcParams['agg.path.chunksize'] = 10000  # Add this line if it does not rende\n",
    "\n",
    "# Plotting the time series\n",
    "axes[0].plot(time, treadmillnorm)\n",
    "axes[0].set_ylim([-10, 370])\n",
    "axes[0].set_ylabel(\"Wheel position [degree]\")\n",
    "axes[0].set_xlabel(\"Time [s]\")\n",
    "\n",
    "axes[1].plot(time[:-window+1],unwrapped_angle_smoothed )\n",
    "# axes[1].set_ylim([-10000, 10000])\n",
    "axes[1].set_ylabel(\"Unwrapped wheel position [cumulative degree]\")\n",
    "axes[1].set_xlabel(\"Time [s]\")\n",
    "\n",
    "axes[2].plot(time[:-window],angular_velocity_smoothed)\n",
    "axes[2].set_ylim([-100, 500])\n",
    "axes[2].set_ylabel(\"Running speed [degree / s]\")\n",
    "axes[2].set_xlabel(\"Time [s]\")\n",
    "\n",
    "# plt.show() "
   ]
  },
  {
   "cell_type": "code",
   "execution_count": null,
   "id": "87f6e9f7",
   "metadata": {},
   "outputs": [],
   "source": [
    "dj.Diagram(behavior) + dj.Diagram(event)-10 + dj.Diagram(trial)"
   ]
  },
  {
   "cell_type": "markdown",
   "id": "02796736",
   "metadata": {},
   "source": []
  }
 ],
 "metadata": {
  "jupytext": {
   "formats": "ipynb,py"
  },
  "kernelspec": {
   "display_name": "Python 3 (ipykernel)",
   "language": "python",
   "name": "python3"
  },
  "language_info": {
   "codemirror_mode": {
    "name": "ipython",
    "version": 3
   },
   "file_extension": ".py",
   "mimetype": "text/x-python",
   "name": "python",
   "nbconvert_exporter": "python",
   "pygments_lexer": "ipython3",
   "version": "3.8.16"
  },
  "vscode": {
   "interpreter": {
    "hash": "b6b88a8194cd92b549912c5fccf4f99c3c2f8b37389322b86781a2268700b256"
   }
  }
 },
 "nbformat": 4,
 "nbformat_minor": 5
}
