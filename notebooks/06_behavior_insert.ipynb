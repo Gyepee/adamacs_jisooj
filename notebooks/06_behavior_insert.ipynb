{
 "cells": [
  {
   "attachments": {},
   "cell_type": "markdown",
   "id": "46f28eb7-1fcc-4b9a-803e-097202fd899d",
   "metadata": {},
   "source": [
    "# Scanning Session Ingestion"
   ]
  },
  {
   "attachments": {},
   "cell_type": "markdown",
   "id": "bba759c2-4cc1-45ee-9212-422a604c32a4",
   "metadata": {},
   "source": [
    "## Setup"
   ]
  },
  {
   "attachments": {},
   "cell_type": "markdown",
   "id": "0da9aa77-afbf-43b2-ad19-e497e05e8627",
   "metadata": {},
   "source": [
    "### Connect to the database"
   ]
  },
  {
   "attachments": {},
   "cell_type": "markdown",
   "id": "bd1468c3-3915-49e6-89a9-10c7940017fd",
   "metadata": {},
   "source": [
    "If you are don't have your login information, contact the administrator.\n",
    "\n",
    "Using local config file (see [01_pipeline](./01_pipeline.ipynb)):\n",
    "\n",
    "Check out the respective elements video: https://www.youtube.com/watch?v=DLYqnj40eAM\n",
    "\n",
    "Use this as info NB https://github.com/SFB1089/workflow-calcium-imaging/blob/main/notebooks/07-downstream-analysis-optional.ipynb\n"
   ]
  },
  {
   "cell_type": "code",
   "execution_count": null,
   "id": "301f9675-53e0-4ff6-bf3d-baba6589d6e3",
   "metadata": {},
   "outputs": [],
   "source": [
    "import os\n",
    "# change to the upper level folder to detect dj_local_conf.json\n",
    "if os.path.basename(os.getcwd())=='notebooks': os.chdir('..')\n",
    "assert os.path.basename(os.getcwd())=='adamacs', (\"Please move to the main directory\")\n",
    "import datajoint as dj; dj.conn()\n"
   ]
  },
  {
   "attachments": {},
   "cell_type": "markdown",
   "id": "7a2e2ccf-01d6-4d31-932b-aa12f8cd05a8",
   "metadata": {},
   "source": [
    "Manual entry:"
   ]
  },
  {
   "attachments": {},
   "cell_type": "markdown",
   "id": "6596a27a-164b-4540-8a30-5e03713574fd",
   "metadata": {},
   "source": [
    "### Imports and activation\n",
    "\n",
    "Importing schema from `adamacs.pipeline` automatically activates relevant schema."
   ]
  },
  {
   "cell_type": "code",
   "execution_count": null,
   "id": "a974a493-4d5e-48e9-a981-b203932c4f6d",
   "metadata": {},
   "outputs": [],
   "source": [
    "import datajoint as dj\n",
    "from adamacs.pipeline import subject, session, surgery, scan, event, trial, imaging\n",
    "from adamacs import utility\n",
    "from adamacs.ingest import behavior as ibe\n",
    "from pywavesurfer import ws\n",
    "import matplotlib.pyplot as plt\n",
    "# check https://elements.datajoint.org/description/event/ for doc"
   ]
  },
  {
   "attachments": {},
   "cell_type": "markdown",
   "id": "cd62e6a3-20a9-4175-bbf8-5b3247c2de5b",
   "metadata": {},
   "source": [
    "Assign easy names for relevant tables"
   ]
  },
  {
   "cell_type": "code",
   "execution_count": null,
   "id": "67d55cbc",
   "metadata": {},
   "outputs": [],
   "source": [
    "sub, lab, protocol, line, mutation, user, project, subject_genotype, subject_death = (\n",
    "    subject.Subject(), subject.Lab(), subject.Protocol(), subject.Line(), \n",
    "    subject.Mutation(), subject.User(), subject.Project(), subject.SubjectGenotype(), \n",
    "    subject.SubjectDeath())"
   ]
  },
  {
   "attachments": {},
   "cell_type": "markdown",
   "id": "bb115bfc-2abb-45c9-bcba-c5c9e73b8990",
   "metadata": {},
   "source": [
    "## Ingesting behavior"
   ]
  },
  {
   "cell_type": "code",
   "execution_count": null,
   "id": "681d737d-721e-4f3a-8386-c1c55968f0ff",
   "metadata": {},
   "outputs": [],
   "source": [
    "ibe.ingest_aux(\"sess9FHELAYA\",\"scan9FHELX2S\", verbose=True)"
   ]
  },
  {
   "cell_type": "code",
   "execution_count": null,
   "id": "85136ee6",
   "metadata": {},
   "outputs": [],
   "source": [
    "scansi = \"scan9FHELX2S\"\n",
    "scan_key = (scan.Scan & f'scan_id = \"{scansi}\"').fetch('KEY')[0]"
   ]
  },
  {
   "cell_type": "code",
   "execution_count": null,
   "id": "002c1fd8",
   "metadata": {},
   "outputs": [],
   "source": [
    "event.Event()  &  \"event_type='HARP_gate'\"\n"
   ]
  },
  {
   "cell_type": "code",
   "execution_count": null,
   "id": "0a761040",
   "metadata": {},
   "outputs": [],
   "source": [
    "event.Event()  &  \"event_type='shutter'\" \n"
   ]
  },
  {
   "cell_type": "code",
   "execution_count": null,
   "id": "e3156153",
   "metadata": {},
   "outputs": [],
   "source": [
    "event.Event()  &  \"event_type='arena_LED'\" &  \"scan_id='scan9FHS7Y22'\"\n"
   ]
  },
  {
   "cell_type": "code",
   "execution_count": null,
   "id": "216ca5e7",
   "metadata": {},
   "outputs": [],
   "source": [
    "event.EventType()"
   ]
  },
  {
   "cell_type": "code",
   "execution_count": null,
   "id": "6387c0c9",
   "metadata": {},
   "outputs": [],
   "source": [
    "event.Event()"
   ]
  },
  {
   "cell_type": "code",
   "execution_count": null,
   "id": "c89ee0c7",
   "metadata": {},
   "outputs": [],
   "source": [
    "auxpath = (event.BehaviorRecording.File() & scan_key).fetch('filepath')\n",
    "print(auxpath)"
   ]
  },
  {
   "cell_type": "code",
   "execution_count": null,
   "id": "f83d9a4f",
   "metadata": {},
   "outputs": [],
   "source": [
    "curr_file = ws.loadDataFile(filename=auxpath[0], format_string='double' )\n",
    "sweep = \"sweep_0008\""
   ]
  },
  {
   "cell_type": "code",
   "execution_count": null,
   "id": "925fcc79",
   "metadata": {},
   "outputs": [],
   "source": [
    "analog_scans = curr_file[sweep]['analogScans']\n",
    "analog_labels = curr_file['header']['AIChannelNames']\n",
    "digital_scans = ibe.demultiplex(curr_file[sweep]['digitalScans'][0], 6)\n",
    "digital_labels = curr_file['header']['DIChannelNames']\n",
    "step = 1000\n",
    "\n",
    "# Plotting analogScans\n",
    "# plt.figure(figsize=(12, 6))\n",
    "# plt.title(\"Analog Scans\")\n",
    "\n",
    "# Creating subplots\n",
    "fig, axes = plt.subplots(nrows=5, ncols=1, figsize=(50, 10))\n",
    "\n",
    "# Plotting analogScans\n",
    "axes[0].set_title(f\"Analog Scans - Every {step}th Sample\")\n",
    "for i in range(analog_scans.shape[0]):\n",
    "     axes[i].plot(analog_scans[i][::step], label=f\"AI {analog_labels[i]}\")\n",
    "     axes[i].legend()\n",
    "     axes[i].set_xlabel(\"Sample Index\")\n",
    "     axes[i].set_ylabel(\"Signal\")\n",
    "\n",
    "plt.show()\n",
    "\n",
    "\n",
    "# Creating subplots\n",
    "fig, axes = plt.subplots(nrows=6, ncols=1, figsize=(50, 10))\n",
    "\n",
    "# Plotting analogScans\n",
    "axes[0].set_title(f\"Digital Scans - Every {step}th Sample\")\n",
    "for i in range(digital_scans.shape[0]):\n",
    "     axes[i].plot(digital_scans[i][::step], label=f\"DI {digital_labels[::-1][i]}\")\n",
    "     axes[i].set_xlabel(\"Sample Index\")\n",
    "     axes[i].set_ylabel(\"Signal\")\n",
    "     axes[i].legend()\n",
    "plt.show()\n"
   ]
  },
  {
   "cell_type": "code",
   "execution_count": 26,
   "id": "149d9df0",
   "metadata": {},
   "outputs": [
    {
     "data": {
      "text/html": [
       "\n",
       "    \n",
       "    <style type=\"text/css\">\n",
       "        .Table{\n",
       "            border-collapse:collapse;\n",
       "        }\n",
       "        .Table th{\n",
       "            background: #A0A0A0; color: #ffffff; padding:4px; border:#f0e0e0 1px solid;\n",
       "            font-weight: normal; font-family: monospace; font-size: 100%;\n",
       "        }\n",
       "        .Table td{\n",
       "            padding:4px; border:#f0e0e0 1px solid; font-size:100%;\n",
       "        }\n",
       "        .Table tr:nth-child(odd){\n",
       "            background: #ffffff;\n",
       "        }\n",
       "        .Table tr:nth-child(even){\n",
       "            background: #f3f1ff;\n",
       "        }\n",
       "        /* Tooltip container */\n",
       "        .djtooltip {\n",
       "        }\n",
       "        /* Tooltip text */\n",
       "        .djtooltip .djtooltiptext {\n",
       "            visibility: hidden;\n",
       "            width: 120px;\n",
       "            background-color: black;\n",
       "            color: #fff;\n",
       "            text-align: center;\n",
       "            padding: 5px 0;\n",
       "            border-radius: 6px;\n",
       "            /* Position the tooltip text - see examples below! */\n",
       "            position: absolute;\n",
       "            z-index: 1;\n",
       "        }\n",
       "        #primary {\n",
       "            font-weight: bold;\n",
       "            color: black;\n",
       "        }\n",
       "        #nonprimary {\n",
       "            font-weight: normal;\n",
       "            color: white;\n",
       "        }\n",
       "\n",
       "        /* Show the tooltip text when you mouse over the tooltip container */\n",
       "        .djtooltip:hover .djtooltiptext {\n",
       "            visibility: visible;\n",
       "        }\n",
       "    </style>\n",
       "    \n",
       "    <b></b>\n",
       "        <div style=\"max-height:1000px;max-width:1500px;overflow:auto;\">\n",
       "        <table border=\"1\" class=\"Table\">\n",
       "            <thead> <tr style=\"text-align: right;\"> <th> <div class=\"djtooltip\">\n",
       "                            <p id=\"primary\">coordinates</p>\n",
       "                            <span class=\"djtooltiptext\"></span>\n",
       "                        </div></th><th><div class=\"djtooltip\">\n",
       "                            <p id=\"nonprimary\">x_coordinate</p>\n",
       "                            <span class=\"djtooltiptext\">in mm</span>\n",
       "                        </div></th><th><div class=\"djtooltip\">\n",
       "                            <p id=\"nonprimary\">y_coordinate</p>\n",
       "                            <span class=\"djtooltiptext\">in mm</span>\n",
       "                        </div></th><th><div class=\"djtooltip\">\n",
       "                            <p id=\"nonprimary\">z_coordinate</p>\n",
       "                            <span class=\"djtooltiptext\">in mm</span>\n",
       "                        </div></th><th><div class=\"djtooltip\">\n",
       "                            <p id=\"nonprimary\">description</p>\n",
       "                            <span class=\"djtooltiptext\"></span>\n",
       "                        </div> </th> </tr> </thead>\n",
       "            <tbody> <tr>  </tr> </tbody>\n",
       "        </table>\n",
       "        \n",
       "        <p>Total: 0</p></div>\n",
       "        "
      ],
      "text/plain": [
       "*coordinates   x_coordinate   y_coordinate   z_coordinate   description   \n",
       "+------------+ +------------+ +------------+ +------------+ +------------+\n",
       "\n",
       " (Total: 0)"
      ]
     },
     "execution_count": 26,
     "metadata": {},
     "output_type": "execute_result"
    }
   ],
   "source": [
    "surgery"
   ]
  },
  {
   "cell_type": "code",
   "execution_count": 27,
   "id": "dbff5145",
   "metadata": {},
   "outputs": [
    {
     "data": {
      "image/svg+xml": [
       "<svg xmlns=\"http://www.w3.org/2000/svg\" xmlns:xlink=\"http://www.w3.org/1999/xlink\" width=\"795pt\" height=\"395pt\" viewBox=\"0.00 0.00 794.50 395.36\">\n",
       "<g id=\"graph0\" class=\"graph\" transform=\"scale(1 1) rotate(0) translate(4 391.36)\">\n",
       "<polygon fill=\"white\" stroke=\"none\" points=\"-4,4 -4,-391.36 790.5,-391.36 790.5,4 -4,4\"/>\n",
       "<!-- 0 -->\n",
       "<g id=\"node1\" class=\"node\">\n",
       "<title>0</title>\n",
       "<ellipse fill=\"#ff8800\" fill-opacity=\"0.501961\" stroke=\"#ff8800\" stroke-opacity=\"0.501961\" cx=\"31.5\" cy=\"-87.84\" rx=\"2.16\" ry=\"2.16\"/>\n",
       "<text text-anchor=\"middle\" x=\"31.5\" y=\"-88.02\" font-family=\"arial\" font-size=\"1.00\" fill=\"#ff8800\" fill-opacity=\"0.501961\">0</text>\n",
       "</g>\n",
       "<!-- event.AlignmentEvent -->\n",
       "<g id=\"node5\" class=\"node\">\n",
       "<title>event.AlignmentEvent</title>\n",
       "<g id=\"a_node5\"><a xlink:title=\"alignment_name       \r------------------------------\ralignment_description=&quot;&quot; \r→ event.EventType.proj(alignment_event_type=&quot;event_type&quot;)\ralignment_time_shift \r→ event.EventType.proj(start_event_type=&quot;event_type&quot;)\rstart_time_shift     \r→ event.EventType.proj(end_event_type=&quot;event_type&quot;)\rend_time_shift       \r\">\n",
       "<polygon fill=\"#00ff00\" fill-opacity=\"0.188235\" stroke=\"#00ff00\" stroke-opacity=\"0.188235\" points=\"133,-34.56 0,-34.56 0,0 133,0 133,-34.56\"/>\n",
       "<text text-anchor=\"start\" x=\"8\" y=\"-14.01\" font-family=\"arial\" text-decoration=\"underline\" font-size=\"12.00\" fill=\"darkgreen\">event.AlignmentEvent</text>\n",
       "</a>\n",
       "</g>\n",
       "</g>\n",
       "<!-- 0&#45;&gt;event.AlignmentEvent -->\n",
       "<g id=\"edge1\" class=\"edge\">\n",
       "<title>0-&gt;event.AlignmentEvent</title>\n",
       "<path fill=\"none\" stroke=\"#000000\" stroke-width=\"0.75\" stroke-dasharray=\"5,2\" stroke-opacity=\"0.250980\" d=\"M31.99,-85.87C34.79,-80.4 48.77,-53 58.06,-34.81\"/>\n",
       "</g>\n",
       "<!-- 2 -->\n",
       "<g id=\"node2\" class=\"node\">\n",
       "<title>2</title>\n",
       "<ellipse fill=\"#ff8800\" fill-opacity=\"0.501961\" stroke=\"#ff8800\" stroke-opacity=\"0.501961\" cx=\"66.5\" cy=\"-87.84\" rx=\"2.16\" ry=\"2.16\"/>\n",
       "<text text-anchor=\"middle\" x=\"66.5\" y=\"-88.02\" font-family=\"arial\" font-size=\"1.00\" fill=\"#ff8800\" fill-opacity=\"0.501961\">2</text>\n",
       "</g>\n",
       "<!-- 2&#45;&gt;event.AlignmentEvent -->\n",
       "<g id=\"edge2\" class=\"edge\">\n",
       "<title>2-&gt;event.AlignmentEvent</title>\n",
       "<path fill=\"none\" stroke=\"#000000\" stroke-width=\"0.75\" stroke-dasharray=\"5,2\" stroke-opacity=\"0.250980\" d=\"M66.5,-85.87C66.5,-80.4 66.5,-53 66.5,-34.81\"/>\n",
       "</g>\n",
       "<!-- 1 -->\n",
       "<g id=\"node3\" class=\"node\">\n",
       "<title>1</title>\n",
       "<ellipse fill=\"#ff8800\" fill-opacity=\"0.501961\" stroke=\"#ff8800\" stroke-opacity=\"0.501961\" cx=\"101.5\" cy=\"-87.84\" rx=\"2.16\" ry=\"2.16\"/>\n",
       "<text text-anchor=\"middle\" x=\"101.5\" y=\"-88.02\" font-family=\"arial\" font-size=\"1.00\" fill=\"#ff8800\" fill-opacity=\"0.501961\">1</text>\n",
       "</g>\n",
       "<!-- 1&#45;&gt;event.AlignmentEvent -->\n",
       "<g id=\"edge3\" class=\"edge\">\n",
       "<title>1-&gt;event.AlignmentEvent</title>\n",
       "<path fill=\"none\" stroke=\"#000000\" stroke-width=\"0.75\" stroke-dasharray=\"5,2\" stroke-opacity=\"0.250980\" d=\"M101.01,-85.87C98.21,-80.4 84.23,-53 74.94,-34.81\"/>\n",
       "</g>\n",
       "<!-- scan.AcquisitionSoftware -->\n",
       "<g id=\"node4\" class=\"node\">\n",
       "<title>scan.AcquisitionSoftware</title>\n",
       "<g id=\"a_node4\"><a xlink:title=\"acq_software         \r\">\n",
       "<polygon fill=\"#000000\" fill-opacity=\"0.125490\" stroke=\"none\" points=\"539,-316.8 412,-316.8 412,-282.24 539,-282.24 539,-316.8\"/>\n",
       "<text text-anchor=\"start\" x=\"420\" y=\"-297.02\" font-family=\"arial\" text-decoration=\"underline\" font-size=\"10.00\">scan.AcquisitionSoftware</text>\n",
       "</a>\n",
       "</g>\n",
       "</g>\n",
       "<!-- scan.Scan -->\n",
       "<g id=\"node9\" class=\"node\">\n",
       "<title>scan.Scan</title>\n",
       "<g id=\"a_node9\"><a xlink:title=\"→ session.Session\rscan_id              \r------------------------------\r→ [nullable] `tobiasr_equipment`.`equipment`\r→ scan.AcquisitionSoftware\rscan_notes=&quot;&quot;        \r\">\n",
       "<polygon fill=\"#00ff00\" fill-opacity=\"0.188235\" stroke=\"#00ff00\" stroke-opacity=\"0.188235\" points=\"511.62,-246.24 439.38,-246.24 439.38,-211.68 511.62,-211.68 511.62,-246.24\"/>\n",
       "<text text-anchor=\"start\" x=\"447.38\" y=\"-225.69\" font-family=\"arial\" text-decoration=\"underline\" font-size=\"12.00\" fill=\"darkgreen\">scan.Scan</text>\n",
       "</a>\n",
       "</g>\n",
       "</g>\n",
       "<!-- scan.AcquisitionSoftware&#45;&gt;scan.Scan -->\n",
       "<g id=\"edge4\" class=\"edge\">\n",
       "<title>scan.AcquisitionSoftware-&gt;scan.Scan</title>\n",
       "<path fill=\"none\" stroke=\"#000000\" stroke-width=\"0.75\" stroke-dasharray=\"5,2\" stroke-opacity=\"0.250980\" d=\"M475.5,-282.27C475.5,-271.5 475.5,-257.41 475.5,-246.57\"/>\n",
       "</g>\n",
       "<!-- event.BehaviorRecording.File -->\n",
       "<g id=\"node6\" class=\"node\">\n",
       "<title>event.BehaviorRecording.File</title>\n",
       "<g id=\"a_node6\"><a xlink:title=\"→ event.BehaviorRecording\rfilepath             \r\">\n",
       "<polygon fill=\"none\" stroke=\"none\" points=\"393.62,-97.84 249.38,-97.84 249.38,-77.84 393.62,-77.84 393.62,-97.84\"/>\n",
       "<text text-anchor=\"start\" x=\"257.38\" y=\"-85.34\" font-family=\"arial\" text-decoration=\"underline\" font-size=\"10.00\">event.BehaviorRecording.File</text>\n",
       "</a>\n",
       "</g>\n",
       "</g>\n",
       "<!-- scan.ScanInfo -->\n",
       "<g id=\"node7\" class=\"node\">\n",
       "<title>scan.ScanInfo</title>\n",
       "<g id=\"a_node7\"><a xlink:title=\"→ scan.Scan\r------------------------------\rnfields              \rnchannels            \rndepths              \rnframes              \rnrois                \rx=null               \ry=null               \rz=null               \rfps                  \rbidirectional        \rusecs_per_line=null  \rfill_fraction=null   \rscan_datetime=null   \rscan_duration=null   \ruserfunction_info    \r\">\n",
       "<ellipse fill=\"#00007f\" fill-opacity=\"0.250980\" stroke=\"#00007f\" stroke-opacity=\"0.250980\" cx=\"475.5\" cy=\"-158.4\" rx=\"59.95\" ry=\"17.28\"/>\n",
       "<text text-anchor=\"middle\" x=\"475.5\" y=\"-154.12\" font-family=\"arial\" font-size=\"12.00\" fill=\"#00007f\" fill-opacity=\"0.627451\">scan.ScanInfo</text>\n",
       "</a>\n",
       "</g>\n",
       "</g>\n",
       "<!-- scan.ScanInfo.Field -->\n",
       "<g id=\"node8\" class=\"node\">\n",
       "<title>scan.ScanInfo.Field</title>\n",
       "<g id=\"a_node8\"><a xlink:title=\"→ scan.ScanInfo\rfield_idx            \r------------------------------\rpx_height            \rpx_width             \rum_height=null       \rum_width=null        \rzoom                 \rfield_x=null         \rfield_y=null         \rfield_z=null         \rdelay_image=null     \rroi=null             \r\">\n",
       "<polygon fill=\"none\" stroke=\"none\" points=\"521,-97.84 418,-97.84 418,-77.84 521,-77.84 521,-97.84\"/>\n",
       "<text text-anchor=\"start\" x=\"426\" y=\"-85.34\" font-family=\"arial\" text-decoration=\"underline\" font-size=\"10.00\">scan.ScanInfo.Field</text>\n",
       "</a>\n",
       "</g>\n",
       "</g>\n",
       "<!-- scan.ScanInfo&#45;&gt;scan.ScanInfo.Field -->\n",
       "<g id=\"edge5\" class=\"edge\">\n",
       "<title>scan.ScanInfo-&gt;scan.ScanInfo.Field</title>\n",
       "<path fill=\"none\" stroke=\"#000000\" stroke-width=\"0.75\" stroke-opacity=\"0.250980\" d=\"M474.05,-140.8C472.85,-127.17 471.21,-108.4 470.26,-97.55\"/>\n",
       "</g>\n",
       "<!-- scan.ScanInfo.ScanFile -->\n",
       "<g id=\"node11\" class=\"node\">\n",
       "<title>scan.ScanInfo.ScanFile</title>\n",
       "<g id=\"a_node11\"><a xlink:title=\"→ scan.ScanInfo\rfile_path            \r\">\n",
       "<polygon fill=\"none\" stroke=\"none\" points=\"659.62,-97.84 539.38,-97.84 539.38,-77.84 659.62,-77.84 659.62,-97.84\"/>\n",
       "<text text-anchor=\"start\" x=\"547.38\" y=\"-85.34\" font-family=\"arial\" text-decoration=\"underline\" font-size=\"10.00\">scan.ScanInfo.ScanFile</text>\n",
       "</a>\n",
       "</g>\n",
       "</g>\n",
       "<!-- scan.ScanInfo&#45;&gt;scan.ScanInfo.ScanFile -->\n",
       "<g id=\"edge6\" class=\"edge\">\n",
       "<title>scan.ScanInfo-&gt;scan.ScanInfo.ScanFile</title>\n",
       "<path fill=\"none\" stroke=\"#000000\" stroke-width=\"0.75\" stroke-opacity=\"0.250980\" d=\"M502.41,-142.52C527.05,-128.9 562.73,-109.17 583.27,-97.81\"/>\n",
       "</g>\n",
       "<!-- scan.Scan&#45;&gt;scan.ScanInfo -->\n",
       "<g id=\"edge7\" class=\"edge\">\n",
       "<title>scan.Scan-&gt;scan.ScanInfo</title>\n",
       "<path fill=\"none\" stroke=\"#000000\" stroke-width=\"2\" stroke-opacity=\"0.250980\" d=\"M475.5,-211.36C475.5,-200.58 475.5,-186.59 475.5,-175.84\"/>\n",
       "</g>\n",
       "<!-- scan.ScanPath -->\n",
       "<g id=\"node12\" class=\"node\">\n",
       "<title>scan.ScanPath</title>\n",
       "<g id=\"a_node12\"><a xlink:title=\"→ scan.Scan\r→ subject.User\rpath                 \r\">\n",
       "<polygon fill=\"#00ff00\" fill-opacity=\"0.188235\" stroke=\"#00ff00\" stroke-opacity=\"0.188235\" points=\"650,-175.68 553,-175.68 553,-141.12 650,-141.12 650,-175.68\"/>\n",
       "<text text-anchor=\"start\" x=\"561\" y=\"-155.12\" font-family=\"arial\" text-decoration=\"underline\" font-size=\"12.00\" fill=\"darkgreen\">scan.ScanPath</text>\n",
       "</a>\n",
       "</g>\n",
       "</g>\n",
       "<!-- scan.Scan&#45;&gt;scan.ScanPath -->\n",
       "<g id=\"edge8\" class=\"edge\">\n",
       "<title>scan.Scan-&gt;scan.ScanPath</title>\n",
       "<path fill=\"none\" stroke=\"#000000\" stroke-width=\"0.75\" stroke-opacity=\"0.250980\" d=\"M506.32,-211.19C525.99,-200.48 551.39,-186.67 571,-176\"/>\n",
       "</g>\n",
       "<!-- scan.ScanLocation -->\n",
       "<g id=\"node13\" class=\"node\">\n",
       "<title>scan.ScanLocation</title>\n",
       "<g id=\"a_node13\"><a xlink:title=\"→ scan.Scan\r------------------------------\r→ surgery.AnatomicalLocation\r\">\n",
       "<polygon fill=\"#00ff00\" fill-opacity=\"0.188235\" stroke=\"#00ff00\" stroke-opacity=\"0.188235\" points=\"786.5,-175.68 668.5,-175.68 668.5,-141.12 786.5,-141.12 786.5,-175.68\"/>\n",
       "<text text-anchor=\"middle\" x=\"727.5\" y=\"-154.12\" font-family=\"arial\" font-size=\"12.00\" fill=\"darkgreen\">scan.ScanLocation</text>\n",
       "</a>\n",
       "</g>\n",
       "</g>\n",
       "<!-- scan.Scan&#45;&gt;scan.ScanLocation -->\n",
       "<g id=\"edge9\" class=\"edge\">\n",
       "<title>scan.Scan-&gt;scan.ScanLocation</title>\n",
       "<path fill=\"none\" stroke=\"#000000\" stroke-width=\"2\" stroke-opacity=\"0.250980\" d=\"M511.87,-218.06C552.76,-206.94 619.77,-188.71 668.24,-175.52\"/>\n",
       "</g>\n",
       "<!-- event.BehaviorRecording -->\n",
       "<g id=\"node14\" class=\"node\">\n",
       "<title>event.BehaviorRecording</title>\n",
       "<g id=\"a_node14\"><a xlink:title=\"→ session.Session\r→ scan.Scan\r------------------------------\rrecording_start_time=null \rrecording_duration=null \rrecording_notes=&quot;&quot;   \r\">\n",
       "<polygon fill=\"#00ff00\" fill-opacity=\"0.188235\" stroke=\"#00ff00\" stroke-opacity=\"0.188235\" points=\"397.38,-175.68 245.62,-175.68 245.62,-141.12 397.38,-141.12 397.38,-175.68\"/>\n",
       "<text text-anchor=\"middle\" x=\"321.5\" y=\"-154.12\" font-family=\"arial\" font-size=\"12.00\" fill=\"darkgreen\">event.BehaviorRecording</text>\n",
       "</a>\n",
       "</g>\n",
       "</g>\n",
       "<!-- scan.Scan&#45;&gt;event.BehaviorRecording -->\n",
       "<g id=\"edge10\" class=\"edge\">\n",
       "<title>scan.Scan-&gt;event.BehaviorRecording</title>\n",
       "<path fill=\"none\" stroke=\"#000000\" stroke-width=\"2\" stroke-opacity=\"0.250980\" d=\"M439,-211.71C414.9,-200.98 383.39,-186.95 359.07,-176.13\"/>\n",
       "</g>\n",
       "<!-- subject.Subject -->\n",
       "<g id=\"node10\" class=\"node\">\n",
       "<title>subject.Subject</title>\n",
       "<g id=\"a_node10\"><a xlink:title=\"subject              \r------------------------------\rearmark              \rsex                  \rbirth_date           \rdeath_date=null      \rgeneration=&quot;&quot;        \rparent_ids           \r→ subject.User.proj(owner_id=&quot;user_id&quot;)\r→ subject.User.proj(responsible_id=&quot;user_id&quot;)\r→ subject.Line\r→ subject.Protocol\r\">\n",
       "<polygon fill=\"#00ff00\" fill-opacity=\"0.188235\" stroke=\"#00ff00\" stroke-opacity=\"0.188235\" points=\"386.38,-387.36 288.62,-387.36 288.62,-352.8 386.38,-352.8 386.38,-387.36\"/>\n",
       "<text text-anchor=\"start\" x=\"296.62\" y=\"-366.81\" font-family=\"arial\" text-decoration=\"underline\" font-size=\"12.00\" fill=\"darkgreen\">subject.Subject</text>\n",
       "</a>\n",
       "</g>\n",
       "</g>\n",
       "<!-- session.Session -->\n",
       "<g id=\"node15\" class=\"node\">\n",
       "<title>session.Session</title>\n",
       "<g id=\"a_node15\"><a xlink:title=\"session_id           \r------------------------------\r→ subject.Subject\rsession_datetime     \r\">\n",
       "<polygon fill=\"#00ff00\" fill-opacity=\"0.188235\" stroke=\"#00ff00\" stroke-opacity=\"0.188235\" points=\"389.38,-316.8 285.62,-316.8 285.62,-282.24 389.38,-282.24 389.38,-316.8\"/>\n",
       "<text text-anchor=\"middle\" x=\"337.5\" y=\"-295.25\" font-family=\"arial\" font-size=\"12.00\" fill=\"darkgreen\">session.Session</text>\n",
       "</a>\n",
       "</g>\n",
       "</g>\n",
       "<!-- subject.Subject&#45;&gt;session.Session -->\n",
       "<g id=\"edge11\" class=\"edge\">\n",
       "<title>subject.Subject-&gt;session.Session</title>\n",
       "<path fill=\"none\" stroke=\"#000000\" stroke-width=\"0.75\" stroke-dasharray=\"5,2\" stroke-opacity=\"0.250980\" d=\"M337.5,-352.48C337.5,-341.7 337.5,-327.71 337.5,-316.96\"/>\n",
       "</g>\n",
       "<!-- event.BehaviorRecording&#45;&gt;event.BehaviorRecording.File -->\n",
       "<g id=\"edge12\" class=\"edge\">\n",
       "<title>event.BehaviorRecording-&gt;event.BehaviorRecording.File</title>\n",
       "<path fill=\"none\" stroke=\"#000000\" stroke-width=\"0.75\" stroke-opacity=\"0.250980\" d=\"M321.5,-140.8C321.5,-127.17 321.5,-108.4 321.5,-97.55\"/>\n",
       "</g>\n",
       "<!-- event.Event -->\n",
       "<g id=\"node17\" class=\"node\">\n",
       "<title>event.Event</title>\n",
       "<g id=\"a_node17\"><a xlink:title=\"→ event.BehaviorRecording\r→ event.EventType\revent_start_time     \r------------------------------\revent_end_time=null  \r\">\n",
       "<ellipse fill=\"#00007f\" fill-opacity=\"0.250980\" stroke=\"#00007f\" stroke-opacity=\"0.250980\" cx=\"179.5\" cy=\"-87.84\" rx=\"51.62\" ry=\"17.28\"/>\n",
       "<text text-anchor=\"start\" x=\"148\" y=\"-84.56\" font-family=\"arial\" text-decoration=\"underline\" font-size=\"12.00\" fill=\"#00007f\" fill-opacity=\"0.627451\">event.Event</text>\n",
       "</a>\n",
       "</g>\n",
       "</g>\n",
       "<!-- event.BehaviorRecording&#45;&gt;event.Event -->\n",
       "<g id=\"edge13\" class=\"edge\">\n",
       "<title>event.BehaviorRecording-&gt;event.Event</title>\n",
       "<path fill=\"none\" stroke=\"#000000\" stroke-width=\"0.75\" stroke-opacity=\"0.250980\" d=\"M286.76,-140.63C262.62,-128.97 230.84,-113.63 208.15,-102.67\"/>\n",
       "</g>\n",
       "<!-- session.Session&#45;&gt;scan.Scan -->\n",
       "<g id=\"edge14\" class=\"edge\">\n",
       "<title>session.Session-&gt;scan.Scan</title>\n",
       "<path fill=\"none\" stroke=\"#000000\" stroke-width=\"0.75\" stroke-opacity=\"0.250980\" d=\"M371.26,-281.75C392.8,-271.04 420.61,-257.23 442.09,-246.56\"/>\n",
       "</g>\n",
       "<!-- session.Session&#45;&gt;event.BehaviorRecording -->\n",
       "<g id=\"edge15\" class=\"edge\">\n",
       "<title>session.Session-&gt;event.BehaviorRecording</title>\n",
       "<path fill=\"none\" stroke=\"#000000\" stroke-width=\"0.75\" stroke-opacity=\"0.250980\" d=\"M335.6,-282.01C332.52,-255.24 326.47,-202.64 323.4,-175.88\"/>\n",
       "</g>\n",
       "<!-- event.EventType -->\n",
       "<g id=\"node16\" class=\"node\">\n",
       "<title>event.EventType</title>\n",
       "<g id=\"a_node16\"><a xlink:title=\"event_type           \r------------------------------\revent_type_description=&quot;&quot; \r\">\n",
       "<polygon fill=\"#000000\" fill-opacity=\"0.125490\" stroke=\"none\" points=\"129.25,-175.68 39.75,-175.68 39.75,-141.12 129.25,-141.12 129.25,-175.68\"/>\n",
       "<text text-anchor=\"start\" x=\"47.75\" y=\"-155.9\" font-family=\"arial\" text-decoration=\"underline\" font-size=\"10.00\">event.EventType</text>\n",
       "</a>\n",
       "</g>\n",
       "</g>\n",
       "<!-- event.EventType&#45;&gt;0 -->\n",
       "<g id=\"edge16\" class=\"edge\">\n",
       "<title>event.EventType-&gt;0</title>\n",
       "<path fill=\"none\" stroke=\"#000000\" stroke-width=\"0.75\" stroke-dasharray=\"5,2\" stroke-opacity=\"0.250980\" d=\"M71.94,-141.15C57.74,-122.78 36.06,-94.74 32.13,-89.65\"/>\n",
       "</g>\n",
       "<!-- event.EventType&#45;&gt;2 -->\n",
       "<g id=\"edge18\" class=\"edge\">\n",
       "<title>event.EventType-&gt;2</title>\n",
       "<path fill=\"none\" stroke=\"#000000\" stroke-width=\"0.75\" stroke-dasharray=\"5,2\" stroke-opacity=\"0.250980\" d=\"M80.23,-141.15C75.41,-122.78 68.05,-94.74 66.71,-89.65\"/>\n",
       "</g>\n",
       "<!-- event.EventType&#45;&gt;1 -->\n",
       "<g id=\"edge17\" class=\"edge\">\n",
       "<title>event.EventType-&gt;1</title>\n",
       "<path fill=\"none\" stroke=\"#000000\" stroke-width=\"0.75\" stroke-dasharray=\"5,2\" stroke-opacity=\"0.250980\" d=\"M88.53,-141.15C93.08,-122.78 100.04,-94.74 101.3,-89.65\"/>\n",
       "</g>\n",
       "<!-- event.EventType&#45;&gt;event.Event -->\n",
       "<g id=\"edge19\" class=\"edge\">\n",
       "<title>event.EventType-&gt;event.Event</title>\n",
       "<path fill=\"none\" stroke=\"#000000\" stroke-width=\"0.75\" stroke-opacity=\"0.250980\" d=\"M107.01,-141.15C122.6,-129.91 143.19,-115.04 158.45,-104.03\"/>\n",
       "</g>\n",
       "<!-- scan.Channel -->\n",
       "<g id=\"node18\" class=\"node\">\n",
       "<title>scan.Channel</title>\n",
       "<g id=\"a_node18\"><a xlink:title=\"channel              \r\">\n",
       "<polygon fill=\"#000000\" fill-opacity=\"0.125490\" stroke=\"none\" points=\"480.5,-387.36 404.5,-387.36 404.5,-352.8 480.5,-352.8 480.5,-387.36\"/>\n",
       "<text text-anchor=\"start\" x=\"412.5\" y=\"-367.58\" font-family=\"arial\" text-decoration=\"underline\" font-size=\"10.00\">scan.Channel</text>\n",
       "</a>\n",
       "</g>\n",
       "</g>\n",
       "</g>\n",
       "</svg>"
      ],
      "text/plain": [
       "<datajoint.diagram.Diagram at 0x7fbbb841edf0>"
      ]
     },
     "execution_count": 27,
     "metadata": {},
     "output_type": "execute_result"
    }
   ],
   "source": [
    "dj.Diagram(subject.Subject) + dj.Diagram(event) + dj.Diagram(scan)"
   ]
  },
  {
   "cell_type": "code",
   "execution_count": 28,
   "id": "86a8bab4",
   "metadata": {},
   "outputs": [
    {
     "name": "stdout",
     "output_type": "stream",
     "text": [
      "['/datajoint-data/data/tobiasr/RN_OPI-1681_2023-04-05_scan9FHELAYA_sess9FHELAYA/scan9FHELAYA_RN_OPI-1681_0006.h5'\n",
      " '/datajoint-data/data/tobiasr/RN_OPI-1681_2023-04-05_scan9FHELMRY_sess9FHELAYA/scan9FHELMRY_RN_OPI-1681_0007.h5'\n",
      " '/datajoint-data/data/tobiasr/RN_OPI-1681_2023-04-05_scan9FHELX2S_sess9FHELAYA/scan9FHELX2S_RN_OPI-1681_0008.h5'\n",
      " '/datajoint-data/data/tobiasr/RN_OPI-1681_2023-04-05_scan9FHEMBE2_sess9FHELAYA/scan9FHEMBE2_RN_OPI-1681_0011.h5'\n",
      " '/datajoint-data/data/tobiasr/NK_ROS-1485_2023-04-28_scan9FHS7Y22_sess9FHS7Y22/scan9FHS7Y22_NK_ROS-1485_2024.h5'\n",
      " '/datajoint-data/data/tobiasr/NK_ROS-1485_2023-04-28_scan9FHS845A_sess9FHS7Y22/scan9FHS845A_NK_ROS-1485_2025.h5']\n"
     ]
    }
   ],
   "source": [
    "fp = event.BehaviorRecording.File().fetch('filepath')\n",
    "print(fp)\n"
   ]
  },
  {
   "cell_type": "code",
   "execution_count": null,
   "id": "a21dae63",
   "metadata": {},
   "outputs": [],
   "source": [
    "scan.Scan()"
   ]
  },
  {
   "cell_type": "code",
   "execution_count": null,
   "id": "85f354f2",
   "metadata": {},
   "outputs": [],
   "source": [
    "event.AlignmentEvent()"
   ]
  },
  {
   "cell_type": "code",
   "execution_count": null,
   "id": "44f105c0",
   "metadata": {},
   "outputs": [],
   "source": [
    "trial.Trial()"
   ]
  },
  {
   "cell_type": "code",
   "execution_count": null,
   "id": "2fbc8ccf",
   "metadata": {},
   "outputs": [],
   "source": [
    "dj.Diagram(event)"
   ]
  },
  {
   "cell_type": "code",
   "execution_count": null,
   "id": "c4c8bb54-ae93-4974-9ff7-ac74dfa2baa0",
   "metadata": {},
   "outputs": [],
   "source": [
    "session.Session * session.SessionDirectory"
   ]
  },
  {
   "cell_type": "code",
   "execution_count": null,
   "id": "bdfe449c-9ecc-4b49-93ee-9c73295b12eb",
   "metadata": {},
   "outputs": [],
   "source": [
    "key='scan9FF6U114'\n",
    "(scan.Scan & f'scan_id=\\\"{key}\\\"')"
   ]
  },
  {
   "cell_type": "code",
   "execution_count": null,
   "id": "362c221b",
   "metadata": {},
   "outputs": [],
   "source": [
    "scan.Scan()"
   ]
  },
  {
   "attachments": {},
   "cell_type": "markdown",
   "id": "773962c7-6ae0-487d-9d5f-93ecf4d03c55",
   "metadata": {},
   "source": [
    "`CB DEV NOTE:` In demo file, there are no `scan.motor_position_at_zero` values. Set to 0 here to avoid downstream type errors when adding. Future would should set these to null when not present and revise downstream code."
   ]
  },
  {
   "cell_type": "code",
   "execution_count": null,
   "id": "f917744b-503a-4e3b-88db-6559cbab2eea",
   "metadata": {},
   "outputs": [],
   "source": [
    "scan.ScanInfo()"
   ]
  },
  {
   "cell_type": "code",
   "execution_count": null,
   "id": "d73f4e1e",
   "metadata": {},
   "outputs": [],
   "source": [
    "scan.ScanInfo.Field()"
   ]
  },
  {
   "attachments": {},
   "cell_type": "markdown",
   "id": "bcd8798c-e1b2-4855-89cf-53f5b1b25bec",
   "metadata": {},
   "source": [
    "Note the relative path below:"
   ]
  },
  {
   "cell_type": "code",
   "execution_count": null,
   "id": "5d0c8693",
   "metadata": {},
   "outputs": [],
   "source": [
    "scan.ScanInfo.ScanFile()"
   ]
  },
  {
   "cell_type": "code",
   "execution_count": null,
   "id": "9ad7d47e",
   "metadata": {},
   "outputs": [],
   "source": []
  }
 ],
 "metadata": {
  "jupytext": {
   "formats": "ipynb,py"
  },
  "kernelspec": {
   "display_name": "datajoint",
   "language": "python",
   "name": "python3"
  },
  "language_info": {
   "codemirror_mode": {
    "name": "ipython",
    "version": 3
   },
   "file_extension": ".py",
   "mimetype": "text/x-python",
   "name": "python",
   "nbconvert_exporter": "python",
   "pygments_lexer": "ipython3",
   "version": "3.8.16"
  },
  "vscode": {
   "interpreter": {
    "hash": "b6b88a8194cd92b549912c5fccf4f99c3c2f8b37389322b86781a2268700b256"
   }
  }
 },
 "nbformat": 4,
 "nbformat_minor": 5
}
