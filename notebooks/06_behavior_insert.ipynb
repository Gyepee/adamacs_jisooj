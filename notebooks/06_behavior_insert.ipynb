{
 "cells": [
  {
   "attachments": {},
   "cell_type": "markdown",
   "id": "46f28eb7-1fcc-4b9a-803e-097202fd899d",
   "metadata": {},
   "source": [
    "# Scanning Session Ingestion"
   ]
  },
  {
   "attachments": {},
   "cell_type": "markdown",
   "id": "bba759c2-4cc1-45ee-9212-422a604c32a4",
   "metadata": {},
   "source": [
    "## Setup"
   ]
  },
  {
   "attachments": {},
   "cell_type": "markdown",
   "id": "0da9aa77-afbf-43b2-ad19-e497e05e8627",
   "metadata": {},
   "source": [
    "### Connect to the database"
   ]
  },
  {
   "attachments": {},
   "cell_type": "markdown",
   "id": "bd1468c3-3915-49e6-89a9-10c7940017fd",
   "metadata": {},
   "source": [
    "If you are don't have your login information, contact the administrator.\n",
    "\n",
    "Using local config file (see [01_pipeline](./01_pipeline.ipynb)):\n",
    "\n",
    "Check out the respective elements video: https://www.youtube.com/watch?v=DLYqnj40eAM\n",
    "\n",
    "Use this as info NB https://github.com/SFB1089/workflow-calcium-imaging/blob/main/notebooks/07-downstream-analysis-optional.ipynb\n"
   ]
  },
  {
   "cell_type": "code",
   "execution_count": 1,
   "id": "301f9675-53e0-4ff6-bf3d-baba6589d6e3",
   "metadata": {},
   "outputs": [
    {
     "name": "stderr",
     "output_type": "stream",
     "text": [
      "[2023-07-18 09:12:35,031][INFO]: Connecting tobiasr@172.26.128.53:3306\n",
      "[2023-07-18 09:12:35,080][INFO]: Connected tobiasr@172.26.128.53:3306\n"
     ]
    },
    {
     "data": {
      "text/plain": [
       "DataJoint connection (connected) tobiasr@172.26.128.53:3306"
      ]
     },
     "execution_count": 1,
     "metadata": {},
     "output_type": "execute_result"
    }
   ],
   "source": [
    "import os\n",
    "# change to the upper level folder to detect dj_local_conf.json\n",
    "if os.path.basename(os.getcwd())=='notebooks': os.chdir('..')\n",
    "assert os.path.basename(os.getcwd())=='adamacs', (\"Please move to the main directory\")\n",
    "import datajoint as dj; dj.conn()\n"
   ]
  },
  {
   "attachments": {},
   "cell_type": "markdown",
   "id": "7a2e2ccf-01d6-4d31-932b-aa12f8cd05a8",
   "metadata": {},
   "source": [
    "Manual entry:"
   ]
  },
  {
   "attachments": {},
   "cell_type": "markdown",
   "id": "6596a27a-164b-4540-8a30-5e03713574fd",
   "metadata": {},
   "source": [
    "### Imports and activation\n",
    "\n",
    "Importing schema from `adamacs.pipeline` automatically activates relevant schema."
   ]
  },
  {
   "cell_type": "code",
   "execution_count": 2,
   "id": "a974a493-4d5e-48e9-a981-b203932c4f6d",
   "metadata": {},
   "outputs": [],
   "source": [
    "import datajoint as dj\n",
    "from adamacs.pipeline import subject, session, surgery, scan, event, trial, imaging\n",
    "from adamacs import utility\n",
    "from adamacs.ingest import behavior as ibe\n",
    "from pywavesurfer import ws\n",
    "import matplotlib.pyplot as plt\n",
    "# check https://elements.datajoint.org/description/event/ for doc"
   ]
  },
  {
   "attachments": {},
   "cell_type": "markdown",
   "id": "cd62e6a3-20a9-4175-bbf8-5b3247c2de5b",
   "metadata": {},
   "source": [
    "Assign easy names for relevant tables"
   ]
  },
  {
   "cell_type": "code",
   "execution_count": 3,
   "id": "67d55cbc",
   "metadata": {},
   "outputs": [],
   "source": [
    "sub, lab, protocol, line, mutation, user, project, subject_genotype, subject_death = (\n",
    "    subject.Subject(), subject.Lab(), subject.Protocol(), subject.Line(), \n",
    "    subject.Mutation(), subject.User(), subject.Project(), subject.SubjectGenotype(), \n",
    "    subject.SubjectDeath())"
   ]
  },
  {
   "attachments": {},
   "cell_type": "markdown",
   "id": "bb115bfc-2abb-45c9-bcba-c5c9e73b8990",
   "metadata": {},
   "source": [
    "## Ingesting behavior"
   ]
  },
  {
   "cell_type": "code",
   "execution_count": 4,
   "id": "038ae4f5",
   "metadata": {},
   "outputs": [
    {
     "data": {
      "text/html": [
       "\n",
       "    \n",
       "    <style type=\"text/css\">\n",
       "        .Table{\n",
       "            border-collapse:collapse;\n",
       "        }\n",
       "        .Table th{\n",
       "            background: #A0A0A0; color: #ffffff; padding:4px; border:#f0e0e0 1px solid;\n",
       "            font-weight: normal; font-family: monospace; font-size: 100%;\n",
       "        }\n",
       "        .Table td{\n",
       "            padding:4px; border:#f0e0e0 1px solid; font-size:100%;\n",
       "        }\n",
       "        .Table tr:nth-child(odd){\n",
       "            background: #ffffff;\n",
       "            color: #000000;\n",
       "        }\n",
       "        .Table tr:nth-child(even){\n",
       "            background: #f3f1ff;\n",
       "            color: #000000;\n",
       "        }\n",
       "        /* Tooltip container */\n",
       "        .djtooltip {\n",
       "        }\n",
       "        /* Tooltip text */\n",
       "        .djtooltip .djtooltiptext {\n",
       "            visibility: hidden;\n",
       "            width: 120px;\n",
       "            background-color: black;\n",
       "            color: #fff;\n",
       "            text-align: center;\n",
       "            padding: 5px 0;\n",
       "            border-radius: 6px;\n",
       "            /* Position the tooltip text - see examples below! */\n",
       "            position: absolute;\n",
       "            z-index: 1;\n",
       "        }\n",
       "        #primary {\n",
       "            font-weight: bold;\n",
       "            color: black;\n",
       "        }\n",
       "        #nonprimary {\n",
       "            font-weight: normal;\n",
       "            color: white;\n",
       "        }\n",
       "\n",
       "        /* Show the tooltip text when you mouse over the tooltip container */\n",
       "        .djtooltip:hover .djtooltiptext {\n",
       "            visibility: visible;\n",
       "        }\n",
       "    </style>\n",
       "    \n",
       "    <b></b>\n",
       "        <div style=\"max-height:1000px;max-width:1500px;overflow:auto;\">\n",
       "        <table border=\"1\" class=\"Table\">\n",
       "            <thead> <tr style=\"text-align: right;\"> <th> <div class=\"djtooltip\">\n",
       "                            <p id=\"primary\">session_id</p>\n",
       "                            <span class=\"djtooltiptext\"></span>\n",
       "                        </div></th><th><div class=\"djtooltip\">\n",
       "                            <p id=\"nonprimary\">subject</p>\n",
       "                            <span class=\"djtooltiptext\">PyRat import uses this for earmark value</span>\n",
       "                        </div></th><th><div class=\"djtooltip\">\n",
       "                            <p id=\"nonprimary\">session_datetime</p>\n",
       "                            <span class=\"djtooltiptext\"></span>\n",
       "                        </div> </th> </tr> </thead>\n",
       "            <tbody> <tr> <td>sess9FJ0W5JJ</td>\n",
       "<td>ROS-1571</td>\n",
       "<td>2023-07-12 00:00:00</td></tr><tr><td>sess9FJ0WPJZ</td>\n",
       "<td>ROS-1571</td>\n",
       "<td>2023-07-12 00:00:00</td></tr><tr><td>sess9FJ0WZC7</td>\n",
       "<td>ROS-1571</td>\n",
       "<td>2023-07-12 00:00:00</td></tr><tr><td>sess9FJ1ISOK</td>\n",
       "<td>WEZ-8873</td>\n",
       "<td>2023-07-13 00:00:00</td> </tr> </tbody>\n",
       "        </table>\n",
       "        \n",
       "        <p>Total: 4</p></div>\n",
       "        "
      ],
      "text/plain": [
       "*session_id    subject      session_dateti\n",
       "+------------+ +----------+ +------------+\n",
       "sess9FJ0W5JJ   ROS-1571     2023-07-12 00:\n",
       "sess9FJ0WPJZ   ROS-1571     2023-07-12 00:\n",
       "sess9FJ0WZC7   ROS-1571     2023-07-12 00:\n",
       "sess9FJ1ISOK   WEZ-8873     2023-07-13 00:\n",
       " (Total: 4)"
      ]
     },
     "execution_count": 4,
     "metadata": {},
     "output_type": "execute_result"
    }
   ],
   "source": [
    "session.Session()"
   ]
  },
  {
   "cell_type": "code",
   "execution_count": 5,
   "id": "26977a6f",
   "metadata": {},
   "outputs": [
    {
     "name": "stdout",
     "output_type": "stream",
     "text": [
      "event_type           : varchar(300)                 \n",
      "---\n",
      "event_type_description=\"\" : varchar(300)                 \n",
      "\n"
     ]
    }
   ],
   "source": [
    "print(event.EventType.describe())"
   ]
  },
  {
   "cell_type": "code",
   "execution_count": 6,
   "id": "681d737d-721e-4f3a-8386-c1c55968f0ff",
   "metadata": {},
   "outputs": [
    {
     "name": "stdout",
     "output_type": "stream",
     "text": [
      "Number of aux-files found: 1\n"
     ]
    },
    {
     "name": "stderr",
     "output_type": "stream",
     "text": [
      "/home/tobiasr/miniconda3/envs/datajoint/lib/python3.8/site-packages/pywavesurfer/ws.py:46: RuntimeWarning: You are reading a WaveSurfer file version this module was not tested with: file version 1.0.6, latest version tested: 0.982\n",
      "  warnings.warn('You are reading a WaveSurfer file version this module was not tested with: '\n"
     ]
    },
    {
     "name": "stdout",
     "output_type": "stream",
     "text": [
      "main_track_gate\n",
      "shutter\n",
      "bench2p_frames\n",
      "bench2p_volumes\n",
      "aux_cam\n",
      "aux_bonsai_vis\n",
      "Appearing_Checkerboard_Noise:0;Appearing_Checkerboard_Noise;-2;15;20:50;0;0;3;\n",
      "Appearing_Checkerboard_Noise:0;Appearing_Checkerboard_Noise;-9;15;20:50;0;0;3;\n",
      "Appearing_Checkerboard_Noise:0;Appearing_Checkerboard_Noise;-5;15;20:50;0;0;3;\n",
      "Appearing_Checkerboard_Noise:0;Appearing_Checkerboard_Noise;3;15;20:50;0;0;3;\n",
      "Appearing_Checkerboard_Noise:0;Appearing_Checkerboard_Noise;8;15;20:50;0;0;3;\n",
      "Appearing_Checkerboard_Noise:90;Appearing_Checkerboard_Noise;0;30;20:50;90;0;3;\n",
      "Appearing_Checkerboard_Noise:90;Appearing_Checkerboard_Noise;0;4;20:50;90;0;3;\n",
      "Appearing_Checkerboard_Noise:0;Appearing_Checkerboard_Noise;-6;15;20:50;0;0;3;\n",
      "Appearing_Checkerboard_Noise:90;Appearing_Checkerboard_Noise;0;15;20:50;90;0;3;\n",
      "Appearing_Checkerboard_Noise:90;Appearing_Checkerboard_Noise;0;19;20:50;90;0;3;\n",
      "Appearing_Checkerboard_Noise:0;Appearing_Checkerboard_Noise;-17;15;20:50;0;0;3;\n",
      "Appearing_Checkerboard_Noise:0;Appearing_Checkerboard_Noise;-1;15;20:50;0;0;3;\n",
      "Appearing_Checkerboard_Noise:0;Appearing_Checkerboard_Noise;12;15;20:50;0;0;3;\n",
      "Appearing_Checkerboard_Noise:90;Appearing_Checkerboard_Noise;0;20;20:50;90;0;3;\n",
      "Appearing_Checkerboard_Noise:0;Appearing_Checkerboard_Noise;-19;15;20:50;0;0;3;\n",
      "Appearing_Checkerboard_Noise:0;Appearing_Checkerboard_Noise;4;15;20:50;0;0;3;\n",
      "Appearing_Checkerboard_Noise:0;Appearing_Checkerboard_Noise;10;15;20:50;0;0;3;\n",
      "Appearing_Checkerboard_Noise:90;Appearing_Checkerboard_Noise;0;17;20:50;90;0;3;\n",
      "Appearing_Checkerboard_Noise:90;Appearing_Checkerboard_Noise;0;24;20:50;90;0;3;\n",
      "Appearing_Checkerboard_Noise:0;Appearing_Checkerboard_Noise;-20;15;20:50;0;0;3;\n",
      "Appearing_Checkerboard_Noise:0;Appearing_Checkerboard_Noise;13;15;20:50;0;0;3;\n",
      "Appearing_Checkerboard_Noise:0;Appearing_Checkerboard_Noise;14;15;20:50;0;0;3;\n",
      "Appearing_Checkerboard_Noise:0;Appearing_Checkerboard_Noise;0;15;20:50;0;0;3;\n",
      "Appearing_Checkerboard_Noise:90;Appearing_Checkerboard_Noise;0;8;20:50;90;0;3;\n",
      "Appearing_Checkerboard_Noise:0;Appearing_Checkerboard_Noise;-15;15;20:50;0;0;3;\n",
      "Appearing_Checkerboard_Noise:90;Appearing_Checkerboard_Noise;0;13;20:50;90;0;3;\n",
      "Appearing_Checkerboard_Noise:0;Appearing_Checkerboard_Noise;1;15;20:50;0;0;3;\n",
      "Appearing_Checkerboard_Noise:90;Appearing_Checkerboard_Noise;0;18;20:50;90;0;3;\n",
      "Appearing_Checkerboard_Noise:0;Appearing_Checkerboard_Noise;-10;15;20:50;0;0;3;\n",
      "Appearing_Checkerboard_Noise:90;Appearing_Checkerboard_Noise;0;3;20:50;90;0;3;\n",
      "Appearing_Checkerboard_Noise:0;Appearing_Checkerboard_Noise;-13;15;20:50;0;0;3;\n",
      "Appearing_Checkerboard_Noise:0;Appearing_Checkerboard_Noise;-11;15;20:50;0;0;3;\n",
      "Appearing_Checkerboard_Noise:90;Appearing_Checkerboard_Noise;0;5;20:50;90;0;3;\n",
      "Appearing_Checkerboard_Noise:90;Appearing_Checkerboard_Noise;0;9;20:50;90;0;3;\n",
      "Appearing_Checkerboard_Noise:90;Appearing_Checkerboard_Noise;0;25;20:50;90;0;3;\n",
      "Appearing_Checkerboard_Noise:90;Appearing_Checkerboard_Noise;0;14;20:50;90;0;3;\n",
      "Appearing_Checkerboard_Noise:0;Appearing_Checkerboard_Noise;-3;15;20:50;0;0;3;\n",
      "Appearing_Checkerboard_Noise:90;Appearing_Checkerboard_Noise;0;22;20:50;90;0;3;\n",
      "Appearing_Checkerboard_Noise:0;Appearing_Checkerboard_Noise;-16;15;20:50;0;0;3;\n",
      "Appearing_Checkerboard_Noise:0;Appearing_Checkerboard_Noise;-23;15;20:50;0;0;3;\n",
      "Appearing_Checkerboard_Noise:0;Appearing_Checkerboard_Noise;-18;15;20:50;0;0;3;\n",
      "Appearing_Checkerboard_Noise:0;Appearing_Checkerboard_Noise;-7;15;20:50;0;0;3;\n",
      "Appearing_Checkerboard_Noise:90;Appearing_Checkerboard_Noise;0;28;20:50;90;0;3;\n",
      "Appearing_Checkerboard_Noise:0;Appearing_Checkerboard_Noise;7;15;20:50;0;0;3;\n",
      "Appearing_Checkerboard_Noise:90;Appearing_Checkerboard_Noise;0;6;20:50;90;0;3;\n",
      "Appearing_Checkerboard_Noise:90;Appearing_Checkerboard_Noise;0;27;20:50;90;0;3;\n",
      "Appearing_Checkerboard_Noise:0;Appearing_Checkerboard_Noise;-21;15;20:50;0;0;3;\n",
      "Appearing_Checkerboard_Noise:90;Appearing_Checkerboard_Noise;0;29;20:50;90;0;3;\n",
      "Appearing_Checkerboard_Noise:90;Appearing_Checkerboard_Noise;0;26;20:50;90;0;3;\n",
      "Appearing_Checkerboard_Noise:0;Appearing_Checkerboard_Noise;-8;15;20:50;0;0;3;\n",
      "Appearing_Checkerboard_Noise:90;Appearing_Checkerboard_Noise;0;21;20:50;90;0;3;\n",
      "Appearing_Checkerboard_Noise:0;Appearing_Checkerboard_Noise;-4;15;20:50;0;0;3;\n",
      "Appearing_Checkerboard_Noise:0;Appearing_Checkerboard_Noise;5;15;20:50;0;0;3;\n",
      "Appearing_Checkerboard_Noise:90;Appearing_Checkerboard_Noise;0;12;20:50;90;0;3;\n",
      "Appearing_Checkerboard_Noise:90;Appearing_Checkerboard_Noise;0;16;20:50;90;0;3;\n",
      "Appearing_Checkerboard_Noise:90;Appearing_Checkerboard_Noise;0;10;20:50;90;0;3;\n",
      "Appearing_Checkerboard_Noise:0;Appearing_Checkerboard_Noise;-24;15;20:50;0;0;3;\n",
      "Appearing_Checkerboard_Noise:0;Appearing_Checkerboard_Noise;2;15;20:50;0;0;3;\n",
      "Appearing_Checkerboard_Noise:90;Appearing_Checkerboard_Noise;0;23;20:50;90;0;3;\n",
      "Appearing_Checkerboard_Noise:0;Appearing_Checkerboard_Noise;-12;15;20:50;0;0;3;\n",
      "Appearing_Checkerboard_Noise:0;Appearing_Checkerboard_Noise;15;15;20:50;0;0;3;\n",
      "Appearing_Checkerboard_Noise:90;Appearing_Checkerboard_Noise;0;1;20:50;90;0;3;\n",
      "Appearing_Checkerboard_Noise:0;Appearing_Checkerboard_Noise;11;15;20:50;0;0;3;\n",
      "Appearing_Checkerboard_Noise:90;Appearing_Checkerboard_Noise;0;2;20:50;90;0;3;\n",
      "Appearing_Checkerboard_Noise:90;Appearing_Checkerboard_Noise;0;11;20:50;90;0;3;\n",
      "Appearing_Checkerboard_Noise:0;Appearing_Checkerboard_Noise;-22;15;20:50;0;0;3;\n",
      "Appearing_Checkerboard_Noise:0;Appearing_Checkerboard_Noise;9;15;20:50;0;0;3;\n",
      "Appearing_Checkerboard_Noise:0;Appearing_Checkerboard_Noise;6;15;20:50;0;0;3;\n",
      "Appearing_Checkerboard_Noise:0;Appearing_Checkerboard_Noise;-14;15;20:50;0;0;3;\n",
      "Appearing_Checkerboard_Noise:0;Appearing_Checkerboard_Noise;-25;0;20:50;0;0;3;\n",
      "Appearing_Checkerboard_Noise:90;Appearing_Checkerboard_Noise;0;7;20:50;90;0;3;\n"
     ]
    }
   ],
   "source": [
    "scansi = \"scan9FJ0WPJZ\"\n",
    "scan_key = (scan.Scan & f'scan_id = \"{scansi}\"').fetch('KEY')[0]\n",
    "aux_setup_typestr = (scan.ScanInfo() & scan_key).fetch(\"userfunction_info\")[0]\n",
    "\n",
    "\n",
    "\n",
    "ibe.ingest_aux(\"sess9FJ0WPJZ\",\"scan9FJ0WPJZ\", verbose=True, aux_setup_type=aux_setup_typestr)"
   ]
  },
  {
   "cell_type": "code",
   "execution_count": null,
   "id": "c89ee0c7",
   "metadata": {},
   "outputs": [],
   "source": [
    "auxpath = (event.BehaviorRecording.File() & scan_key).fetch('filepath')\n",
    "print(auxpath)"
   ]
  },
  {
   "cell_type": "code",
   "execution_count": null,
   "id": "f83d9a4f",
   "metadata": {},
   "outputs": [],
   "source": [
    "curr_file = ws.loadDataFile(filename=auxpath[0], format_string='double' )\n",
    "sweep = \"sweep_2027\""
   ]
  },
  {
   "cell_type": "code",
   "execution_count": null,
   "id": "9feb5385",
   "metadata": {},
   "outputs": [],
   "source": [
    "# from element_interface.utils import find_full_path\n",
    "# from adamacs.paths import get_experiment_root_data_dir\n",
    "# bpod_path_relative = (event.BehaviorRecording.File() & scan_key).fetch('filepath')\n",
    "# harp_paths = list(find_full_path(\n",
    "#             get_experiment_root_data_dir(), bpod_path_relative\n",
    "#         ).parent.glob)"
   ]
  },
  {
   "cell_type": "code",
   "execution_count": 8,
   "id": "7e6e9638",
   "metadata": {},
   "outputs": [
    {
     "data": {
      "text/html": [
       "\n",
       "    \n",
       "    <style type=\"text/css\">\n",
       "        .Table{\n",
       "            border-collapse:collapse;\n",
       "        }\n",
       "        .Table th{\n",
       "            background: #A0A0A0; color: #ffffff; padding:4px; border:#f0e0e0 1px solid;\n",
       "            font-weight: normal; font-family: monospace; font-size: 100%;\n",
       "        }\n",
       "        .Table td{\n",
       "            padding:4px; border:#f0e0e0 1px solid; font-size:100%;\n",
       "        }\n",
       "        .Table tr:nth-child(odd){\n",
       "            background: #ffffff;\n",
       "            color: #000000;\n",
       "        }\n",
       "        .Table tr:nth-child(even){\n",
       "            background: #f3f1ff;\n",
       "            color: #000000;\n",
       "        }\n",
       "        /* Tooltip container */\n",
       "        .djtooltip {\n",
       "        }\n",
       "        /* Tooltip text */\n",
       "        .djtooltip .djtooltiptext {\n",
       "            visibility: hidden;\n",
       "            width: 120px;\n",
       "            background-color: black;\n",
       "            color: #fff;\n",
       "            text-align: center;\n",
       "            padding: 5px 0;\n",
       "            border-radius: 6px;\n",
       "            /* Position the tooltip text - see examples below! */\n",
       "            position: absolute;\n",
       "            z-index: 1;\n",
       "        }\n",
       "        #primary {\n",
       "            font-weight: bold;\n",
       "            color: black;\n",
       "        }\n",
       "        #nonprimary {\n",
       "            font-weight: normal;\n",
       "            color: white;\n",
       "        }\n",
       "\n",
       "        /* Show the tooltip text when you mouse over the tooltip container */\n",
       "        .djtooltip:hover .djtooltiptext {\n",
       "            visibility: visible;\n",
       "        }\n",
       "    </style>\n",
       "    \n",
       "    <b></b>\n",
       "        <div style=\"max-height:1000px;max-width:1500px;overflow:auto;\">\n",
       "        <table border=\"1\" class=\"Table\">\n",
       "            <thead> <tr style=\"text-align: right;\"> <th> <div class=\"djtooltip\">\n",
       "                            <p id=\"primary\">session_id</p>\n",
       "                            <span class=\"djtooltiptext\"></span>\n",
       "                        </div></th><th><div class=\"djtooltip\">\n",
       "                            <p id=\"primary\">scan_id</p>\n",
       "                            <span class=\"djtooltiptext\"></span>\n",
       "                        </div></th><th><div class=\"djtooltip\">\n",
       "                            <p id=\"primary\">event_type</p>\n",
       "                            <span class=\"djtooltiptext\"></span>\n",
       "                        </div></th><th><div class=\"djtooltip\">\n",
       "                            <p id=\"primary\">event_start_time</p>\n",
       "                            <span class=\"djtooltiptext\">(second) relative to recording start</span>\n",
       "                        </div></th><th><div class=\"djtooltip\">\n",
       "                            <p id=\"nonprimary\">event_end_time</p>\n",
       "                            <span class=\"djtooltiptext\">(second) relative to recording start</span>\n",
       "                        </div> </th> </tr> </thead>\n",
       "            <tbody> <tr> <td>sess9FJ0WPJZ</td>\n",
       "<td>scan9FJ0WPJZ</td>\n",
       "<td>Appearing_Checkerboard_Noise:0;Appearing_Checkerboard_Noise;-12;15;20:50;0;0;3;</td>\n",
       "<td>182.593</td>\n",
       "<td>183.592</td></tr><tr><td>sess9FJ0WPJZ</td>\n",
       "<td>scan9FJ0WPJZ</td>\n",
       "<td>Appearing_Checkerboard_Noise:0;Appearing_Checkerboard_Noise;-12;15;20:50;0;0;3;</td>\n",
       "<td>264.193</td>\n",
       "<td>265.192</td></tr><tr><td>sess9FJ0WPJZ</td>\n",
       "<td>scan9FJ0WPJZ</td>\n",
       "<td>Appearing_Checkerboard_Noise:0;Appearing_Checkerboard_Noise;-12;15;20:50;0;0;3;</td>\n",
       "<td>454.193</td>\n",
       "<td>455.203</td></tr><tr><td>sess9FJ0WPJZ</td>\n",
       "<td>scan9FJ0WPJZ</td>\n",
       "<td>Appearing_Checkerboard_Noise:0;Appearing_Checkerboard_Noise;-12;15;20:50;0;0;3;</td>\n",
       "<td>791.192</td>\n",
       "<td>792.193</td></tr><tr><td>sess9FJ0WPJZ</td>\n",
       "<td>scan9FJ0WPJZ</td>\n",
       "<td>Appearing_Checkerboard_Noise:0;Appearing_Checkerboard_Noise;-12;15;20:50;0;0;3;</td>\n",
       "<td>894.192</td>\n",
       "<td>895.192</td></tr><tr><td>sess9FJ0WPJZ</td>\n",
       "<td>scan9FJ0WPJZ</td>\n",
       "<td>Appearing_Checkerboard_Noise:0;Appearing_Checkerboard_Noise;-12;15;20:50;0;0;3;</td>\n",
       "<td>1138.19</td>\n",
       "<td>1139.21</td></tr><tr><td>sess9FJ0WPJZ</td>\n",
       "<td>scan9FJ0WPJZ</td>\n",
       "<td>Appearing_Checkerboard_Noise:0;Appearing_Checkerboard_Noise;-12;15;20:50;0;0;3;</td>\n",
       "<td>1439.2</td>\n",
       "<td>1440.21</td></tr><tr><td>sess9FJ0WPJZ</td>\n",
       "<td>scan9FJ0WPJZ</td>\n",
       "<td>Appearing_Checkerboard_Noise:0;Appearing_Checkerboard_Noise;-12;15;20:50;0;0;3;</td>\n",
       "<td>1650.2</td>\n",
       "<td>1651.19</td></tr><tr><td>sess9FJ0WPJZ</td>\n",
       "<td>scan9FJ0WPJZ</td>\n",
       "<td>Appearing_Checkerboard_Noise:0;Appearing_Checkerboard_Noise;-12;15;20:50;0;0;3;</td>\n",
       "<td>1894.19</td>\n",
       "<td>1895.19</td></tr><tr><td>sess9FJ0WPJZ</td>\n",
       "<td>scan9FJ0WPJZ</td>\n",
       "<td>Appearing_Checkerboard_Noise:0;Appearing_Checkerboard_Noise;-12;15;20:50;0;0;3;</td>\n",
       "<td>1985.2</td>\n",
       "<td>1986.19</td> </tr> </tbody>\n",
       "        </table>\n",
       "        \n",
       "        <p>Total: 10</p></div>\n",
       "        "
      ],
      "text/plain": [
       "*session_id    *scan_id       *event_type    *event_start_t event_end_time\n",
       "+------------+ +------------+ +------------+ +------------+ +------------+\n",
       "sess9FJ0WPJZ   scan9FJ0WPJZ   Appearing_Chec 182.593        183.592       \n",
       "sess9FJ0WPJZ   scan9FJ0WPJZ   Appearing_Chec 264.193        265.192       \n",
       "sess9FJ0WPJZ   scan9FJ0WPJZ   Appearing_Chec 454.193        455.203       \n",
       "sess9FJ0WPJZ   scan9FJ0WPJZ   Appearing_Chec 791.192        792.193       \n",
       "sess9FJ0WPJZ   scan9FJ0WPJZ   Appearing_Chec 894.192        895.192       \n",
       "sess9FJ0WPJZ   scan9FJ0WPJZ   Appearing_Chec 1138.19        1139.21       \n",
       "sess9FJ0WPJZ   scan9FJ0WPJZ   Appearing_Chec 1439.2         1440.21       \n",
       "sess9FJ0WPJZ   scan9FJ0WPJZ   Appearing_Chec 1650.2         1651.19       \n",
       "sess9FJ0WPJZ   scan9FJ0WPJZ   Appearing_Chec 1894.19        1895.19       \n",
       "sess9FJ0WPJZ   scan9FJ0WPJZ   Appearing_Chec 1985.2         1986.19       \n",
       " (Total: 10)"
      ]
     },
     "execution_count": 8,
     "metadata": {},
     "output_type": "execute_result"
    }
   ],
   "source": [
    "(event.Event & scan_key & 'event_type LIKE \"%Appearing_Checkerboard_Noise;-12;15;20:50;0;0;3;%\"')"
   ]
  },
  {
   "cell_type": "code",
   "execution_count": null,
   "id": "925fcc79",
   "metadata": {},
   "outputs": [],
   "source": [
    "import numpy as np\n",
    "\n",
    "analog_scans = curr_file[sweep]['analogScans']\n",
    "analog_labels = curr_file['header']['AIChannelNames']\n",
    "digital_labels = curr_file['header']['DIChannelNames']\n",
    "sr = curr_file['header']['AcquisitionSampleRate'][0][0]\n",
    "digital_scans = ibe.demultiplex(curr_file[sweep]['digitalScans'][0], np.shape(digital_labels)[0])\n",
    "step = 10\n",
    "\n",
    "# Plotting analogScans\n",
    "# plt.figure(figsize=(12, 6))\n",
    "# plt.title(\"Analog Scans\")\n",
    "\n",
    "# Creating subplots\n",
    "fig, axes = plt.subplots(nrows=analog_scans.shape[0], ncols=1, figsize=(50, 10))\n",
    "\n",
    "# Plotting analogScans\n",
    "axes[0].set_title(f\"Analog Scans - Every {step}th Sample\")\n",
    "for i in range(analog_scans.shape[0]):\n",
    "     axes[i].plot(analog_scans[i][::step], label=f\"AI {analog_labels[i]}\")\n",
    "     axes[i].legend()\n",
    "     axes[i].set_xlabel(\"Sample Index\")\n",
    "     axes[i].set_ylabel(\"Signal\")\n",
    "\n",
    "plt.show()\n",
    "\n",
    "\n",
    "# Creating subplots\n",
    "fig, axes = plt.subplots(nrows=digital_scans.shape[0], ncols=1, figsize=(50, 10))\n",
    "\n",
    "# Plotting analogScans\n",
    "axes[0].set_title(f\"Digital Scans - Every {step}th Sample\")\n",
    "for i in range(digital_scans.shape[0]):\n",
    "     axes[i].plot(digital_scans[i][::step], label=f\"DI {digital_labels[::-1][i]}\")\n",
    "     axes[i].set_xlabel(\"Sample Index\")\n",
    "     axes[i].set_ylabel(\"Signal\")\n",
    "     axes[i].legend()\n",
    "plt.show()\n"
   ]
  },
  {
   "cell_type": "code",
   "execution_count": null,
   "id": "a43353c6",
   "metadata": {},
   "outputs": [],
   "source": [
    "fig, axes = plt.subplots(nrows=2, ncols=1, figsize=(50, 10))\n",
    "sr = curr_file['header']['AcquisitionSampleRate'][0][0]\n",
    "# Plotting analogScans\n",
    "axes[0].set_title(f\"Analog Scans - Every {step}th Sample\")\n",
    "# for i in range(analog_scans.shape[0]):\n",
    "i = 0\n",
    "axes[i].plot(np.abs(analog_scans[i][::step]), label=f\"AI {analog_labels[i]}\")\n",
    "axes[i].legend()\n",
    "axes[i].set_xlabel(\"Sample Index\")\n",
    "axes[i].set_ylabel(\"Signal\")\n",
    "\n",
    "if i == 0:\n",
    "     onsets = (event.Event & scan_key & \"event_type = 'aux_bonsai_vis'\").fetch('event_start_time') * sr / step\n",
    "     offsets = (event.Event & scan_key & \"event_type = 'aux_bonsai_vis'\").fetch('event_end_time') * sr / step\n",
    "     for xc in onsets:\n",
    "          axes[i].axvline(x=xc, color = 'r')\n",
    "     for xc in offsets:\n",
    "          # axes[i].axvline(x=xc, color = 'r')\n",
    "          axes[i].axvline(x=xc, color = 'w')\n",
    "     "
   ]
  },
  {
   "cell_type": "code",
   "execution_count": null,
   "id": "29e21813",
   "metadata": {},
   "outputs": [],
   "source": [
    "ibe.get_timestamps(np.abs(analog_scans[i]), sr, 1)"
   ]
  },
  {
   "cell_type": "code",
   "execution_count": null,
   "id": "5314f394",
   "metadata": {},
   "outputs": [],
   "source": [
    "event.Event & scan_key"
   ]
  },
  {
   "cell_type": "code",
   "execution_count": null,
   "id": "7efa25f4",
   "metadata": {},
   "outputs": [],
   "source": [
    "(event.Event & scan_key & \"event_type = 'aux_bonsai_vis'\").fetch('event_start_time')\n",
    "# auxgatetimestamp_end = (event.Event()  &  \"event_type='main_track_gate'\" &  scanquery ).fetch('event_end_time')"
   ]
  },
  {
   "cell_type": "code",
   "execution_count": null,
   "metadata": {},
   "outputs": [],
   "source": [
    "dj.Diagram(trial) + dj.Diagram(event) +100\n"
   ]
  },
  {
   "cell_type": "code",
   "execution_count": null,
   "id": "149d9df0",
   "metadata": {},
   "outputs": [],
   "source": [
    "surgery"
   ]
  },
  {
   "cell_type": "code",
   "execution_count": null,
   "id": "dbff5145",
   "metadata": {},
   "outputs": [],
   "source": [
    "dj.Diagram(subject.Subject) + dj.Diagram(event) + dj.Diagram(scan)"
   ]
  },
  {
   "cell_type": "code",
   "execution_count": null,
   "id": "86a8bab4",
   "metadata": {},
   "outputs": [],
   "source": [
    "fp = event.BehaviorRecording.File().fetch('filepath')\n",
    "print(fp)\n"
   ]
  },
  {
   "cell_type": "code",
   "execution_count": null,
   "id": "a21dae63",
   "metadata": {},
   "outputs": [],
   "source": [
    "scan.Scan()"
   ]
  },
  {
   "cell_type": "code",
   "execution_count": null,
   "id": "85f354f2",
   "metadata": {},
   "outputs": [],
   "source": [
    "event.AlignmentEvent()"
   ]
  },
  {
   "cell_type": "code",
   "execution_count": null,
   "id": "44f105c0",
   "metadata": {},
   "outputs": [],
   "source": [
    "trial.Trial()"
   ]
  },
  {
   "cell_type": "code",
   "execution_count": null,
   "id": "2fbc8ccf",
   "metadata": {},
   "outputs": [],
   "source": [
    "dj.Diagram(event)"
   ]
  },
  {
   "cell_type": "code",
   "execution_count": null,
   "id": "c4c8bb54-ae93-4974-9ff7-ac74dfa2baa0",
   "metadata": {},
   "outputs": [],
   "source": [
    "session.Session * session.SessionDirectory"
   ]
  },
  {
   "cell_type": "code",
   "execution_count": null,
   "id": "bdfe449c-9ecc-4b49-93ee-9c73295b12eb",
   "metadata": {},
   "outputs": [],
   "source": [
    "key='scan9FF6U114'\n",
    "(scan.Scan & f'scan_id=\\\"{key}\\\"')"
   ]
  },
  {
   "cell_type": "code",
   "execution_count": null,
   "id": "362c221b",
   "metadata": {},
   "outputs": [],
   "source": [
    "scan.Scan()"
   ]
  },
  {
   "attachments": {},
   "cell_type": "markdown",
   "id": "773962c7-6ae0-487d-9d5f-93ecf4d03c55",
   "metadata": {},
   "source": [
    "`CB DEV NOTE:` In demo file, there are no `scan.motor_position_at_zero` values. Set to 0 here to avoid downstream type errors when adding. Future would should set these to null when not present and revise downstream code."
   ]
  },
  {
   "cell_type": "code",
   "execution_count": null,
   "id": "f917744b-503a-4e3b-88db-6559cbab2eea",
   "metadata": {},
   "outputs": [],
   "source": [
    "scan.ScanInfo()"
   ]
  },
  {
   "cell_type": "code",
   "execution_count": null,
   "id": "d73f4e1e",
   "metadata": {},
   "outputs": [],
   "source": [
    "scan.ScanInfo.Field()"
   ]
  },
  {
   "attachments": {},
   "cell_type": "markdown",
   "id": "bcd8798c-e1b2-4855-89cf-53f5b1b25bec",
   "metadata": {},
   "source": [
    "Note the relative path below:"
   ]
  },
  {
   "cell_type": "code",
   "execution_count": null,
   "id": "5d0c8693",
   "metadata": {},
   "outputs": [],
   "source": [
    "scan.ScanInfo.ScanFile()"
   ]
  },
  {
   "cell_type": "code",
   "execution_count": null,
   "id": "9ad7d47e",
   "metadata": {},
   "outputs": [],
   "source": []
  }
 ],
 "metadata": {
  "jupytext": {
   "formats": "ipynb,py"
  },
  "kernelspec": {
   "display_name": "datajoint",
   "language": "python",
   "name": "python3"
  },
  "language_info": {
   "codemirror_mode": {
    "name": "ipython",
    "version": 3
   },
   "file_extension": ".py",
   "mimetype": "text/x-python",
   "name": "python",
   "nbconvert_exporter": "python",
   "pygments_lexer": "ipython3",
   "version": "3.8.16"
  },
  "vscode": {
   "interpreter": {
    "hash": "b6b88a8194cd92b549912c5fccf4f99c3c2f8b37389322b86781a2268700b256"
   }
  }
 },
 "nbformat": 4,
 "nbformat_minor": 5
}
