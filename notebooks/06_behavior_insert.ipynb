{
 "cells": [
  {
   "attachments": {},
   "cell_type": "markdown",
   "id": "46f28eb7-1fcc-4b9a-803e-097202fd899d",
   "metadata": {},
   "source": [
    "# Scanning Session Ingestion"
   ]
  },
  {
   "attachments": {},
   "cell_type": "markdown",
   "id": "bba759c2-4cc1-45ee-9212-422a604c32a4",
   "metadata": {},
   "source": [
    "## Setup"
   ]
  },
  {
   "attachments": {},
   "cell_type": "markdown",
   "id": "0da9aa77-afbf-43b2-ad19-e497e05e8627",
   "metadata": {},
   "source": [
    "### Connect to the database"
   ]
  },
  {
   "attachments": {},
   "cell_type": "markdown",
   "id": "bd1468c3-3915-49e6-89a9-10c7940017fd",
   "metadata": {},
   "source": [
    "If you are don't have your login information, contact the administrator.\n",
    "\n",
    "Using local config file (see [01_pipeline](./01_pipeline.ipynb)):\n",
    "\n",
    "Check out the respective elements video: https://www.youtube.com/watch?v=DLYqnj40eAM\n"
   ]
  },
  {
   "cell_type": "code",
   "execution_count": 1,
   "id": "301f9675-53e0-4ff6-bf3d-baba6589d6e3",
   "metadata": {},
   "outputs": [
    {
     "name": "stderr",
     "output_type": "stream",
     "text": [
      "[2023-05-08 14:15:16,093][INFO]: Connecting tobiasr@172.26.128.53:3306\n",
      "[2023-05-08 14:15:16,139][INFO]: Connected tobiasr@172.26.128.53:3306\n"
     ]
    },
    {
     "data": {
      "text/plain": [
       "DataJoint connection (connected) tobiasr@172.26.128.53:3306"
      ]
     },
     "execution_count": 1,
     "metadata": {},
     "output_type": "execute_result"
    }
   ],
   "source": [
    "import os\n",
    "# change to the upper level folder to detect dj_local_conf.json\n",
    "if os.path.basename(os.getcwd())=='notebooks': os.chdir('..')\n",
    "assert os.path.basename(os.getcwd())=='adamacs', (\"Please move to the main directory\")\n",
    "import datajoint as dj; dj.conn()"
   ]
  },
  {
   "attachments": {},
   "cell_type": "markdown",
   "id": "7a2e2ccf-01d6-4d31-932b-aa12f8cd05a8",
   "metadata": {},
   "source": [
    "Manual entry:"
   ]
  },
  {
   "attachments": {},
   "cell_type": "markdown",
   "id": "6596a27a-164b-4540-8a30-5e03713574fd",
   "metadata": {},
   "source": [
    "### Imports and activation\n",
    "\n",
    "Importing schema from `adamacs.pipeline` automatically activates relevant schema."
   ]
  },
  {
   "cell_type": "code",
   "execution_count": 2,
   "id": "a974a493-4d5e-48e9-a981-b203932c4f6d",
   "metadata": {},
   "outputs": [
    {
     "ename": "DataJointError",
     "evalue": "Foreign key reference Scan could not be resolved",
     "output_type": "error",
     "traceback": [
      "\u001b[0;31m---------------------------------------------------------------------------\u001b[0m",
      "\u001b[0;31mDataJointError\u001b[0m                            Traceback (most recent call last)",
      "Cell \u001b[0;32mIn[2], line 2\u001b[0m\n\u001b[1;32m      1\u001b[0m \u001b[39mimport\u001b[39;00m \u001b[39mdatajoint\u001b[39;00m \u001b[39mas\u001b[39;00m \u001b[39mdj\u001b[39;00m\n\u001b[0;32m----> 2\u001b[0m \u001b[39mfrom\u001b[39;00m \u001b[39madamacs\u001b[39;00m\u001b[39m.\u001b[39;00m\u001b[39mpipeline\u001b[39;00m \u001b[39mimport\u001b[39;00m subject, session, surgery, scan, event, trial\n\u001b[1;32m      3\u001b[0m \u001b[39mfrom\u001b[39;00m \u001b[39madamacs\u001b[39;00m \u001b[39mimport\u001b[39;00m utility\n\u001b[1;32m      4\u001b[0m \u001b[39mfrom\u001b[39;00m \u001b[39madamacs\u001b[39;00m\u001b[39m.\u001b[39;00m\u001b[39mingest\u001b[39;00m \u001b[39mimport\u001b[39;00m behavior \u001b[39mas\u001b[39;00m ibe\n",
      "File \u001b[0;32m~/adamacs/adamacs/pipeline.py:47\u001b[0m\n\u001b[1;32m     40\u001b[0m \u001b[39m# Activate \"imaging\" and \"scan\" schema ----------------------------------\u001b[39;00m\n\u001b[1;32m     41\u001b[0m \n\u001b[1;32m     42\u001b[0m \u001b[39m# requires Location activated above\u001b[39;00m\n\u001b[1;32m     43\u001b[0m imaging\u001b[39m.\u001b[39mactivate(db_prefix \u001b[39m+\u001b[39m \u001b[39m'\u001b[39m\u001b[39mimaging\u001b[39m\u001b[39m'\u001b[39m,\n\u001b[1;32m     44\u001b[0m                  db_prefix \u001b[39m+\u001b[39m \u001b[39m'\u001b[39m\u001b[39mscan\u001b[39m\u001b[39m'\u001b[39m,\n\u001b[1;32m     45\u001b[0m                  linking_module\u001b[39m=\u001b[39m\u001b[39m__name__\u001b[39m)\n\u001b[0;32m---> 47\u001b[0m trial\u001b[39m.\u001b[39;49mactivate(db_prefix \u001b[39m+\u001b[39;49m \u001b[39m'\u001b[39;49m\u001b[39mtrial\u001b[39;49m\u001b[39m'\u001b[39;49m,\n\u001b[1;32m     48\u001b[0m                db_prefix \u001b[39m+\u001b[39;49m \u001b[39m'\u001b[39;49m\u001b[39mevent\u001b[39;49m\u001b[39m'\u001b[39;49m,\n\u001b[1;32m     49\u001b[0m                linking_module\u001b[39m=\u001b[39;49m\u001b[39m__name__\u001b[39;49m)\n\u001b[1;32m     51\u001b[0m \u001b[39m# Behavior downstream of event\u001b[39;00m\n\u001b[1;32m     52\u001b[0m \u001b[39mfrom\u001b[39;00m \u001b[39madamacs\u001b[39;00m\u001b[39m.\u001b[39;00m\u001b[39mschemas\u001b[39;00m \u001b[39mimport\u001b[39;00m behavior\n",
      "File \u001b[0;32m~/github/element-event/element_event/trial.py:41\u001b[0m, in \u001b[0;36mactivate\u001b[0;34m(trial_schema_name, event_schema_name, create_schema, create_tables, linking_module)\u001b[0m\n\u001b[1;32m     38\u001b[0m \u001b[39mglobal\u001b[39;00m _linking_module\n\u001b[1;32m     39\u001b[0m _linking_module \u001b[39m=\u001b[39m linking_module\n\u001b[0;32m---> 41\u001b[0m event\u001b[39m.\u001b[39;49mactivate(event_schema_name, create_schema\u001b[39m=\u001b[39;49mcreate_schema,\n\u001b[1;32m     42\u001b[0m                create_tables\u001b[39m=\u001b[39;49mcreate_tables, linking_module\u001b[39m=\u001b[39;49m_linking_module)\n\u001b[1;32m     44\u001b[0m schema\u001b[39m.\u001b[39mactivate(trial_schema_name, create_schema\u001b[39m=\u001b[39mcreate_schema,\n\u001b[1;32m     45\u001b[0m                 create_tables\u001b[39m=\u001b[39mcreate_tables,\n\u001b[1;32m     46\u001b[0m                 add_objects\u001b[39m=\u001b[39m_linking_module\u001b[39m.\u001b[39m\u001b[39m__dict__\u001b[39m)\n",
      "File \u001b[0;32m~/github/element-event/element_event/event.py:46\u001b[0m, in \u001b[0;36mactivate\u001b[0;34m(schema_name, create_schema, create_tables, linking_module)\u001b[0m\n\u001b[1;32m     42\u001b[0m     linking_module \u001b[39m=\u001b[39m importlib\u001b[39m.\u001b[39mimport_module(linking_module)\n\u001b[1;32m     43\u001b[0m \u001b[39massert\u001b[39;00m inspect\u001b[39m.\u001b[39mismodule(linking_module), \u001b[39m\"\u001b[39m\u001b[39mThe argument \u001b[39m\u001b[39m'\u001b[39m\u001b[39mdependency\u001b[39m\u001b[39m'\u001b[39m\u001b[39m must\u001b[39m\u001b[39m\"\u001b[39m\\\n\u001b[1;32m     44\u001b[0m                                          \u001b[39m+\u001b[39m \u001b[39m\"\u001b[39m\u001b[39m be a module or module name\u001b[39m\u001b[39m\"\u001b[39m\n\u001b[0;32m---> 46\u001b[0m schema\u001b[39m.\u001b[39;49mactivate(schema_name, create_schema\u001b[39m=\u001b[39;49mcreate_schema,\n\u001b[1;32m     47\u001b[0m                 create_tables\u001b[39m=\u001b[39;49mcreate_tables,\n\u001b[1;32m     48\u001b[0m                 add_objects\u001b[39m=\u001b[39;49mlinking_module\u001b[39m.\u001b[39;49m\u001b[39m__dict__\u001b[39;49m)\n",
      "File \u001b[0;32m~/miniconda3/envs/datajoint/lib/python3.8/site-packages/datajoint/schemas.py:155\u001b[0m, in \u001b[0;36mSchema.activate\u001b[0;34m(self, schema_name, connection, create_schema, create_tables, add_objects)\u001b[0m\n\u001b[1;32m    153\u001b[0m \u001b[39mif\u001b[39;00m \u001b[39mself\u001b[39m\u001b[39m.\u001b[39madd_objects:\n\u001b[1;32m    154\u001b[0m     context \u001b[39m=\u001b[39m \u001b[39mdict\u001b[39m(context, \u001b[39m*\u001b[39m\u001b[39m*\u001b[39m\u001b[39mself\u001b[39m\u001b[39m.\u001b[39madd_objects)\n\u001b[0;32m--> 155\u001b[0m \u001b[39mself\u001b[39;49m\u001b[39m.\u001b[39;49m_decorate_master(\u001b[39mcls\u001b[39;49m, context)\n",
      "File \u001b[0;32m~/miniconda3/envs/datajoint/lib/python3.8/site-packages/datajoint/schemas.py:188\u001b[0m, in \u001b[0;36mSchema._decorate_master\u001b[0;34m(self, cls, context)\u001b[0m\n\u001b[1;32m    182\u001b[0m \u001b[39mdef\u001b[39;00m \u001b[39m_decorate_master\u001b[39m(\u001b[39mself\u001b[39m, \u001b[39mcls\u001b[39m, context):\n\u001b[1;32m    183\u001b[0m \u001b[39m    \u001b[39m\u001b[39m\"\"\"\u001b[39;00m\n\u001b[1;32m    184\u001b[0m \n\u001b[1;32m    185\u001b[0m \u001b[39m    :param cls: the master class to process\u001b[39;00m\n\u001b[1;32m    186\u001b[0m \u001b[39m    :param context: the class' declaration context\u001b[39;00m\n\u001b[1;32m    187\u001b[0m \u001b[39m    \"\"\"\u001b[39;00m\n\u001b[0;32m--> 188\u001b[0m     \u001b[39mself\u001b[39;49m\u001b[39m.\u001b[39;49m_decorate_table(\n\u001b[1;32m    189\u001b[0m         \u001b[39mcls\u001b[39;49m, context\u001b[39m=\u001b[39;49m\u001b[39mdict\u001b[39;49m(context, \u001b[39mself\u001b[39;49m\u001b[39m=\u001b[39;49m\u001b[39mcls\u001b[39;49m, \u001b[39m*\u001b[39;49m\u001b[39m*\u001b[39;49m{\u001b[39mcls\u001b[39;49m\u001b[39m.\u001b[39;49m\u001b[39m__name__\u001b[39;49m: \u001b[39mcls\u001b[39;49m})\n\u001b[1;32m    190\u001b[0m     )\n\u001b[1;32m    191\u001b[0m     \u001b[39m# Process part tables\u001b[39;00m\n\u001b[1;32m    192\u001b[0m     \u001b[39mfor\u001b[39;00m part \u001b[39min\u001b[39;00m ordered_dir(\u001b[39mcls\u001b[39m):\n",
      "File \u001b[0;32m~/miniconda3/envs/datajoint/lib/python3.8/site-packages/datajoint/schemas.py:226\u001b[0m, in \u001b[0;36mSchema._decorate_table\u001b[0;34m(self, table_class, context, assert_declared)\u001b[0m\n\u001b[1;32m    224\u001b[0m is_declared \u001b[39m=\u001b[39m instance\u001b[39m.\u001b[39mis_declared\n\u001b[1;32m    225\u001b[0m \u001b[39mif\u001b[39;00m \u001b[39mnot\u001b[39;00m is_declared \u001b[39mand\u001b[39;00m \u001b[39mnot\u001b[39;00m assert_declared \u001b[39mand\u001b[39;00m \u001b[39mself\u001b[39m\u001b[39m.\u001b[39mcreate_tables:\n\u001b[0;32m--> 226\u001b[0m     instance\u001b[39m.\u001b[39;49mdeclare(context)\n\u001b[1;32m    227\u001b[0m     \u001b[39mself\u001b[39m\u001b[39m.\u001b[39mconnection\u001b[39m.\u001b[39mdependencies\u001b[39m.\u001b[39mclear()\n\u001b[1;32m    228\u001b[0m is_declared \u001b[39m=\u001b[39m is_declared \u001b[39mor\u001b[39;00m instance\u001b[39m.\u001b[39mis_declared\n",
      "File \u001b[0;32m~/miniconda3/envs/datajoint/lib/python3.8/site-packages/datajoint/table.py:96\u001b[0m, in \u001b[0;36mTable.declare\u001b[0;34m(self, context)\u001b[0m\n\u001b[1;32m     91\u001b[0m \u001b[39mif\u001b[39;00m \u001b[39mself\u001b[39m\u001b[39m.\u001b[39mconnection\u001b[39m.\u001b[39min_transaction:\n\u001b[1;32m     92\u001b[0m     \u001b[39mraise\u001b[39;00m DataJointError(\n\u001b[1;32m     93\u001b[0m         \u001b[39m\"\u001b[39m\u001b[39mCannot declare new tables inside a transaction, \u001b[39m\u001b[39m\"\u001b[39m\n\u001b[1;32m     94\u001b[0m         \u001b[39m\"\u001b[39m\u001b[39me.g. from inside a populate/make call\u001b[39m\u001b[39m\"\u001b[39m\n\u001b[1;32m     95\u001b[0m     )\n\u001b[0;32m---> 96\u001b[0m sql, external_stores \u001b[39m=\u001b[39m declare(\u001b[39mself\u001b[39;49m\u001b[39m.\u001b[39;49mfull_table_name, \u001b[39mself\u001b[39;49m\u001b[39m.\u001b[39;49mdefinition, context)\n\u001b[1;32m     97\u001b[0m sql \u001b[39m=\u001b[39m sql\u001b[39m.\u001b[39mformat(database\u001b[39m=\u001b[39m\u001b[39mself\u001b[39m\u001b[39m.\u001b[39mdatabase)\n\u001b[1;32m     98\u001b[0m \u001b[39mtry\u001b[39;00m:\n\u001b[1;32m     99\u001b[0m     \u001b[39m# declare all external tables before declaring main table\u001b[39;00m\n",
      "File \u001b[0;32m~/miniconda3/envs/datajoint/lib/python3.8/site-packages/datajoint/declare.py:310\u001b[0m, in \u001b[0;36mdeclare\u001b[0;34m(full_table_name, definition, context)\u001b[0m\n\u001b[1;32m    296\u001b[0m \u001b[39mif\u001b[39;00m \u001b[39mlen\u001b[39m(table_name) \u001b[39m>\u001b[39m MAX_TABLE_NAME_LENGTH:\n\u001b[1;32m    297\u001b[0m     \u001b[39mraise\u001b[39;00m DataJointError(\n\u001b[1;32m    298\u001b[0m         \u001b[39m\"\u001b[39m\u001b[39mTable name `\u001b[39m\u001b[39m{name}\u001b[39;00m\u001b[39m` exceeds the max length of \u001b[39m\u001b[39m{max_length}\u001b[39;00m\u001b[39m\"\u001b[39m\u001b[39m.\u001b[39mformat(\n\u001b[1;32m    299\u001b[0m             name\u001b[39m=\u001b[39mtable_name, max_length\u001b[39m=\u001b[39mMAX_TABLE_NAME_LENGTH\n\u001b[1;32m    300\u001b[0m         )\n\u001b[1;32m    301\u001b[0m     )\n\u001b[1;32m    303\u001b[0m (\n\u001b[1;32m    304\u001b[0m     table_comment,\n\u001b[1;32m    305\u001b[0m     primary_key,\n\u001b[1;32m    306\u001b[0m     attribute_sql,\n\u001b[1;32m    307\u001b[0m     foreign_key_sql,\n\u001b[1;32m    308\u001b[0m     index_sql,\n\u001b[1;32m    309\u001b[0m     external_stores,\n\u001b[0;32m--> 310\u001b[0m ) \u001b[39m=\u001b[39m prepare_declare(definition, context)\n\u001b[1;32m    312\u001b[0m \u001b[39mif\u001b[39;00m \u001b[39mnot\u001b[39;00m primary_key:\n\u001b[1;32m    313\u001b[0m     \u001b[39mraise\u001b[39;00m DataJointError(\u001b[39m\"\u001b[39m\u001b[39mTable must have a primary key\u001b[39m\u001b[39m\"\u001b[39m)\n",
      "File \u001b[0;32m~/miniconda3/envs/datajoint/lib/python3.8/site-packages/datajoint/declare.py:255\u001b[0m, in \u001b[0;36mprepare_declare\u001b[0;34m(definition, context)\u001b[0m\n\u001b[1;32m    253\u001b[0m     in_key \u001b[39m=\u001b[39m \u001b[39mFalse\u001b[39;00m  \u001b[39m# start parsing dependent attributes\u001b[39;00m\n\u001b[1;32m    254\u001b[0m \u001b[39melif\u001b[39;00m is_foreign_key(line):\n\u001b[0;32m--> 255\u001b[0m     compile_foreign_key(\n\u001b[1;32m    256\u001b[0m         line,\n\u001b[1;32m    257\u001b[0m         context,\n\u001b[1;32m    258\u001b[0m         attributes,\n\u001b[1;32m    259\u001b[0m         primary_key \u001b[39mif\u001b[39;49;00m in_key \u001b[39melse\u001b[39;49;00m \u001b[39mNone\u001b[39;49;00m,\n\u001b[1;32m    260\u001b[0m         attribute_sql,\n\u001b[1;32m    261\u001b[0m         foreign_key_sql,\n\u001b[1;32m    262\u001b[0m         index_sql,\n\u001b[1;32m    263\u001b[0m     )\n\u001b[1;32m    264\u001b[0m \u001b[39melif\u001b[39;00m re\u001b[39m.\u001b[39mmatch(\u001b[39mr\u001b[39m\u001b[39m\"\u001b[39m\u001b[39m^(unique\u001b[39m\u001b[39m\\\u001b[39m\u001b[39ms+)?index\u001b[39m\u001b[39m\\\u001b[39m\u001b[39ms*.*$\u001b[39m\u001b[39m\"\u001b[39m, line, re\u001b[39m.\u001b[39mI):  \u001b[39m# index\u001b[39;00m\n\u001b[1;32m    265\u001b[0m     compile_index(line, index_sql)\n",
      "File \u001b[0;32m~/miniconda3/envs/datajoint/lib/python3.8/site-packages/datajoint/declare.py:174\u001b[0m, in \u001b[0;36mcompile_foreign_key\u001b[0;34m(line, context, attributes, primary_key, attr_sql, foreign_key_sql, index_sql)\u001b[0m\n\u001b[1;32m    172\u001b[0m     ref \u001b[39m=\u001b[39m \u001b[39meval\u001b[39m(result\u001b[39m.\u001b[39mref_table, context)\n\u001b[1;32m    173\u001b[0m \u001b[39mexcept\u001b[39;00m \u001b[39mException\u001b[39;00m:\n\u001b[0;32m--> 174\u001b[0m     \u001b[39mraise\u001b[39;00m DataJointError(\n\u001b[1;32m    175\u001b[0m         \u001b[39m\"\u001b[39m\u001b[39mForeign key reference \u001b[39m\u001b[39m%s\u001b[39;00m\u001b[39m could not be resolved\u001b[39m\u001b[39m\"\u001b[39m \u001b[39m%\u001b[39m result\u001b[39m.\u001b[39mref_table\n\u001b[1;32m    176\u001b[0m     )\n\u001b[1;32m    178\u001b[0m options \u001b[39m=\u001b[39m [opt\u001b[39m.\u001b[39mupper() \u001b[39mfor\u001b[39;00m opt \u001b[39min\u001b[39;00m result\u001b[39m.\u001b[39moptions]\n\u001b[1;32m    179\u001b[0m \u001b[39mfor\u001b[39;00m opt \u001b[39min\u001b[39;00m options:  \u001b[39m# check for invalid options\u001b[39;00m\n",
      "\u001b[0;31mDataJointError\u001b[0m: Foreign key reference Scan could not be resolved"
     ]
    }
   ],
   "source": [
    "import datajoint as dj\n",
    "from adamacs.pipeline import subject, session, surgery, scan, event, trial\n",
    "from adamacs import utility\n",
    "from adamacs.ingest import behavior as ibe\n",
    "# check https://elements.datajoint.org/description/event/ for doc"
   ]
  },
  {
   "attachments": {},
   "cell_type": "markdown",
   "id": "cd62e6a3-20a9-4175-bbf8-5b3247c2de5b",
   "metadata": {},
   "source": [
    "Assign easy names for relevant tables"
   ]
  },
  {
   "cell_type": "code",
   "execution_count": null,
   "id": "67d55cbc",
   "metadata": {},
   "outputs": [],
   "source": [
    "sub, lab, protocol, line, mutation, user, project, subject_genotype, subject_death = (\n",
    "    subject.Subject(), subject.Lab(), subject.Protocol(), subject.Line(), \n",
    "    subject.Mutation(), subject.User(), subject.Project(), subject.SubjectGenotype(), \n",
    "    subject.SubjectDeath())"
   ]
  },
  {
   "cell_type": "code",
   "execution_count": null,
   "id": "fe6d3a40",
   "metadata": {},
   "outputs": [],
   "source": [
    "event_types = ['main_track_gate', 'shutter', 'mini2p_frames', 'mini2p_lines', 'mini2p_volumes', 'aux_bpod_cam',\n",
    "               'aux_bpod_visual', 'aux_bpod_reward', 'aux_bpod_tone']\n",
    "\n",
    "for e in event_types:\n",
    "    event.EventType.insert1({'event_type': e, 'event_type_description': ''}, skip_duplicates=True,)"
   ]
  },
  {
   "cell_type": "code",
   "execution_count": null,
   "id": "4ed51071",
   "metadata": {},
   "outputs": [],
   "source": [
    "event.BehaviorRecording.drop()"
   ]
  },
  {
   "cell_type": "code",
   "execution_count": null,
   "id": "837d121d",
   "metadata": {},
   "outputs": [],
   "source": [
    "scan.Scan()"
   ]
  },
  {
   "attachments": {},
   "cell_type": "markdown",
   "id": "bb115bfc-2abb-45c9-bcba-c5c9e73b8990",
   "metadata": {},
   "source": [
    "## Ingesting behavior"
   ]
  },
  {
   "cell_type": "code",
   "execution_count": null,
   "id": "681d737d-721e-4f3a-8386-c1c55968f0ff",
   "metadata": {},
   "outputs": [],
   "source": [
    "ibe.ingest_aux(\"sess9FHS7Y22\",verbose=True)"
   ]
  },
  {
   "cell_type": "code",
   "execution_count": null,
   "id": "c89ee0c7",
   "metadata": {},
   "outputs": [],
   "source": [
    "event.Event()"
   ]
  },
  {
   "cell_type": "code",
   "execution_count": null,
   "id": "f3382610",
   "metadata": {},
   "outputs": [],
   "source": [
    "event.EventType()"
   ]
  },
  {
   "cell_type": "code",
   "execution_count": null,
   "id": "86a8bab4",
   "metadata": {},
   "outputs": [],
   "source": [
    "event.BehaviorRecording()"
   ]
  },
  {
   "cell_type": "code",
   "execution_count": null,
   "id": "dbff5145",
   "metadata": {},
   "outputs": [],
   "source": [
    "dj.Diagram(subject.Subject) + dj.Diagram(event) + dj.Diagram(scan)"
   ]
  },
  {
   "cell_type": "code",
   "execution_count": null,
   "id": "3d2938ac",
   "metadata": {},
   "outputs": [],
   "source": [
    "from pywavesurfer import ws"
   ]
  },
  {
   "cell_type": "code",
   "execution_count": null,
   "id": "86a8bab4",
   "metadata": {},
   "outputs": [],
   "source": [
    "fp = event.BehaviorRecording.File().fetch('filepath')\n",
    "print(fp)\n",
    "curr_file = ws.loadDataFile(filename=fp[0], format_string='double' )\n"
   ]
  },
  {
   "cell_type": "code",
   "execution_count": null,
   "id": "a21dae63",
   "metadata": {},
   "outputs": [],
   "source": [
    "event.BehaviorRecording.File()"
   ]
  },
  {
   "cell_type": "code",
   "execution_count": null,
   "id": "71a03b11",
   "metadata": {},
   "outputs": [],
   "source": [
    "fp = event.BehaviorRecording.File().fetch('filepath')\n",
    "print(fp)"
   ]
  },
  {
   "cell_type": "code",
   "execution_count": null,
   "id": "85f354f2",
   "metadata": {},
   "outputs": [],
   "source": [
    "event.AlignmentEvent()"
   ]
  },
  {
   "cell_type": "code",
   "execution_count": null,
   "id": "44f105c0",
   "metadata": {},
   "outputs": [],
   "source": [
    "trial.Trial()"
   ]
  },
  {
   "cell_type": "code",
   "execution_count": null,
   "id": "2fbc8ccf",
   "metadata": {},
   "outputs": [],
   "source": [
    "dj.Diagram(event)"
   ]
  },
  {
   "cell_type": "code",
   "execution_count": null,
   "id": "c4c8bb54-ae93-4974-9ff7-ac74dfa2baa0",
   "metadata": {},
   "outputs": [],
   "source": [
    "session.Session * session.SessionDirectory"
   ]
  },
  {
   "cell_type": "code",
   "execution_count": null,
   "id": "bdfe449c-9ecc-4b49-93ee-9c73295b12eb",
   "metadata": {},
   "outputs": [],
   "source": [
    "key='scan9FF6U114'\n",
    "(scan.Scan & f'scan_id=\\\"{key}\\\"')"
   ]
  },
  {
   "cell_type": "code",
   "execution_count": null,
   "id": "362c221b",
   "metadata": {},
   "outputs": [],
   "source": [
    "scan.Scan()"
   ]
  },
  {
   "cell_type": "code",
   "execution_count": null,
   "id": "00754a0e",
   "metadata": {},
   "outputs": [],
   "source": [
    "scan.ScanInfo.populate()"
   ]
  },
  {
   "attachments": {},
   "cell_type": "markdown",
   "id": "773962c7-6ae0-487d-9d5f-93ecf4d03c55",
   "metadata": {},
   "source": [
    "`CB DEV NOTE:` In demo file, there are no `scan.motor_position_at_zero` values. Set to 0 here to avoid downstream type errors when adding. Future would should set these to null when not present and revise downstream code."
   ]
  },
  {
   "cell_type": "code",
   "execution_count": null,
   "id": "f917744b-503a-4e3b-88db-6559cbab2eea",
   "metadata": {},
   "outputs": [],
   "source": [
    "scan.ScanInfo()"
   ]
  },
  {
   "cell_type": "code",
   "execution_count": null,
   "id": "d73f4e1e",
   "metadata": {},
   "outputs": [],
   "source": [
    "scan.ScanInfo.Field()"
   ]
  },
  {
   "attachments": {},
   "cell_type": "markdown",
   "id": "bcd8798c-e1b2-4855-89cf-53f5b1b25bec",
   "metadata": {},
   "source": [
    "Note the relative path below:"
   ]
  },
  {
   "cell_type": "code",
   "execution_count": null,
   "id": "5d0c8693",
   "metadata": {},
   "outputs": [],
   "source": [
    "scan.ScanInfo.ScanFile()"
   ]
  },
  {
   "cell_type": "code",
   "execution_count": null,
   "id": "9ad7d47e",
   "metadata": {},
   "outputs": [],
   "source": []
  }
 ],
 "metadata": {
  "jupytext": {
   "formats": "ipynb,py"
  },
  "kernelspec": {
   "display_name": "datajoint",
   "language": "python",
   "name": "python3"
  },
  "language_info": {
   "codemirror_mode": {
    "name": "ipython",
    "version": 3
   },
   "file_extension": ".py",
   "mimetype": "text/x-python",
   "name": "python",
   "nbconvert_exporter": "python",
   "pygments_lexer": "ipython3",
   "version": "3.8.16"
  },
  "vscode": {
   "interpreter": {
    "hash": "b6b88a8194cd92b549912c5fccf4f99c3c2f8b37389322b86781a2268700b256"
   }
  }
 },
 "nbformat": 4,
 "nbformat_minor": 5
}
