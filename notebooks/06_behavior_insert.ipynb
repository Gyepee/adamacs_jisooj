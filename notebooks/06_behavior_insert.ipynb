{
 "cells": [
  {
   "attachments": {},
   "cell_type": "markdown",
   "id": "46f28eb7-1fcc-4b9a-803e-097202fd899d",
   "metadata": {},
   "source": [
    "# Scanning Session Ingestion"
   ]
  },
  {
   "attachments": {},
   "cell_type": "markdown",
   "id": "bba759c2-4cc1-45ee-9212-422a604c32a4",
   "metadata": {},
   "source": [
    "## Setup"
   ]
  },
  {
   "attachments": {},
   "cell_type": "markdown",
   "id": "0da9aa77-afbf-43b2-ad19-e497e05e8627",
   "metadata": {},
   "source": [
    "### Connect to the database"
   ]
  },
  {
   "attachments": {},
   "cell_type": "markdown",
   "id": "bd1468c3-3915-49e6-89a9-10c7940017fd",
   "metadata": {},
   "source": [
    "If you are don't have your login information, contact the administrator.\n",
    "\n",
    "Using local config file (see [01_pipeline](./01_pipeline.ipynb)):\n",
    "\n",
    "Check out the respective elements video: https://www.youtube.com/watch?v=DLYqnj40eAM\n",
    "\n",
    "Use this as info NB https://github.com/SFB1089/workflow-calcium-imaging/blob/main/notebooks/07-downstream-analysis-optional.ipynb\n"
   ]
  },
  {
   "cell_type": "code",
   "execution_count": null,
   "id": "301f9675-53e0-4ff6-bf3d-baba6589d6e3",
   "metadata": {},
   "outputs": [],
   "source": [
    "import os\n",
    "# change to the upper level folder to detect dj_local_conf.json\n",
    "if os.path.basename(os.getcwd())=='notebooks': os.chdir('..')\n",
    "assert os.path.basename(os.getcwd())=='adamacs', (\"Please move to the main directory\")\n",
    "import datajoint as dj; dj.conn()\n"
   ]
  },
  {
   "attachments": {},
   "cell_type": "markdown",
   "id": "7a2e2ccf-01d6-4d31-932b-aa12f8cd05a8",
   "metadata": {},
   "source": [
    "Manual entry:"
   ]
  },
  {
   "attachments": {},
   "cell_type": "markdown",
   "id": "6596a27a-164b-4540-8a30-5e03713574fd",
   "metadata": {},
   "source": [
    "### Imports and activation\n",
    "\n",
    "Importing schema from `adamacs.pipeline` automatically activates relevant schema."
   ]
  },
  {
   "cell_type": "code",
   "execution_count": null,
   "id": "a974a493-4d5e-48e9-a981-b203932c4f6d",
   "metadata": {},
   "outputs": [],
   "source": [
    "import datajoint as dj\n",
    "from adamacs.pipeline import subject, session, surgery, scan, event, trial, imaging\n",
    "from adamacs import utility\n",
    "from adamacs.ingest import behavior as ibe\n",
    "from pywavesurfer import ws\n",
    "import matplotlib.pyplot as plt\n",
    "import numpy as np\n",
    "# check https://elements.datajoint.org/description/event/ for doc"
   ]
  },
  {
   "attachments": {},
   "cell_type": "markdown",
   "id": "cd62e6a3-20a9-4175-bbf8-5b3247c2de5b",
   "metadata": {},
   "source": [
    "Assign easy names for relevant tables"
   ]
  },
  {
   "cell_type": "code",
   "execution_count": null,
   "id": "67d55cbc",
   "metadata": {},
   "outputs": [],
   "source": [
    "sub, lab, protocol, line, mutation, user, project, subject_genotype, subject_death = (\n",
    "    subject.Subject(), subject.Lab(), subject.Protocol(), subject.Line(), \n",
    "    subject.Mutation(), subject.User(), subject.Project(), subject.SubjectGenotype(), \n",
    "    subject.SubjectDeath())"
   ]
  },
  {
   "attachments": {},
   "cell_type": "markdown",
   "id": "bb115bfc-2abb-45c9-bcba-c5c9e73b8990",
   "metadata": {},
   "source": [
    "## Ingesting behavior"
   ]
  },
  {
   "cell_type": "code",
   "execution_count": null,
   "id": "038ae4f5",
   "metadata": {},
   "outputs": [],
   "source": [
    "scan.ScanInfo()"
   ]
  },
  {
   "cell_type": "code",
   "execution_count": null,
   "id": "1036ffca",
   "metadata": {},
   "outputs": [],
   "source": [
    "trial.TrialType()"
   ]
  },
  {
   "cell_type": "code",
   "execution_count": null,
   "id": "681d737d-721e-4f3a-8386-c1c55968f0ff",
   "metadata": {},
   "outputs": [],
   "source": [
    "scansi = \"scan9FJ4IJOQ\"\n",
    "scan_key = (scan.Scan & f'scan_id = \"{scansi}\"').fetch('KEY')[0]\n",
    "sessi = (scan.Scan & f'scan_id = \"{scansi}\"').fetch('session_id')[0]\n",
    "aux_setup_typestr = (scan.ScanInfo() & scan_key).fetch(\"userfunction_info\")[0]\n",
    "\n"
   ]
  },
  {
   "cell_type": "code",
   "execution_count": null,
   "id": "be1bdbc0",
   "metadata": {},
   "outputs": [],
   "source": [
    "scan.ScanInfo() & scan_key"
   ]
  },
  {
   "cell_type": "code",
   "execution_count": null,
   "id": "7e6e9638",
   "metadata": {},
   "outputs": [],
   "source": [
    "stims_per_trial = len(set((event.Event & scan_key & 'event_type LIKE \"%;%\"').fetch(\"event_type\")))\n",
    "all_stims = (event.Event & scan_key & 'event_type LIKE \"%;%\"').fetch(\"event_type\")\n",
    "trial_stims = {x: list(all_stims).count(x) for x in all_stims}\n",
    "trials = set([list(all_stims).count(x) for x in all_stims])\n",
    "stims = len\n",
    "trial_stims\n",
    "trials"
   ]
  },
  {
   "cell_type": "code",
   "execution_count": null,
   "id": "d431f3ae",
   "metadata": {},
   "outputs": [],
   "source": [
    "trial_start_edges = (event.Event & scan_key & 'event_type LIKE \"%;%\"').fetch(\"event_start_time\",order_by = \"event_start_time\")[::stims_per_trial] \n",
    "trial_end_edges = (event.Event & scan_key & 'event_type LIKE \"%;%\"').fetch(\"event_end_time\",order_by = \"event_end_time\")[stims_per_trial-1::stims_per_trial] \n",
    "trial_event_name = (event.Event & scan_key & 'event_type LIKE \"%;%\"').fetch(\"event_type\")[0].split(':')[0]\n",
    "trial.TrialType().insert1({'trial_type': trial_event_name, 'trial_type_description': ''}, skip_duplicates=True) "
   ]
  },
  {
   "cell_type": "code",
   "execution_count": null,
   "id": "29778623",
   "metadata": {},
   "outputs": [],
   "source": [
    "trial_start_edges"
   ]
  },
  {
   "cell_type": "code",
   "execution_count": null,
   "id": "1ea96c12",
   "metadata": {},
   "outputs": [],
   "source": [
    "trial_end_edges"
   ]
  },
  {
   "cell_type": "code",
   "execution_count": null,
   "id": "01d2013c",
   "metadata": {},
   "outputs": [],
   "source": [
    "trial.Trial()"
   ]
  },
  {
   "cell_type": "code",
   "execution_count": null,
   "id": "d0ea8b27",
   "metadata": {},
   "outputs": [],
   "source": [
    "trial.TrialEvent()"
   ]
  },
  {
   "cell_type": "code",
   "execution_count": null,
   "id": "fae508c6",
   "metadata": {},
   "outputs": [],
   "source": [
    "    event_names = (event.Event & scan_key & 'event_type LIKE \"%;%\"' & f\"event_end_time < {trial_end_edges[0]}\").fetch(\"event_type\",order_by = \"event_start_time\")\n",
    "    event_onsets = (event.Event & scan_key & 'event_type LIKE \"%;%\"' & f\"event_end_time < {trial_end_edges[0]}\").fetch(\"event_start_time\",order_by = \"event_start_time\")\n"
   ]
  },
  {
   "cell_type": "code",
   "execution_count": 37,
   "metadata": {},
   "outputs": [],
   "source": [
    "for trialnum in enumerate(trial_start_edges):\n",
    "    trial.Trial.insert1({'session_id': sessi, 'scan_id': scansi, 'trial_id': trialnum[0], 'trial_type': trial_event_name, 'trial_start_time': trial_start_edges[trialnum[0]], 'trial_stop_time': trial_end_edges[trialnum[0]]},  allow_direct_insert=True, skip_duplicates=True)\n",
    "\n",
    "    event_names = (event.Event & scan_key & 'event_type LIKE \"%;%\"' & f\"event_end_time < {trial_end_edges[0]}\").fetch(\"event_type\",order_by = \"event_start_time\")\n",
    "    event_onsets = (event.Event & scan_key & 'event_type LIKE \"%;%\"' & f\"event_end_time < {trial_end_edges[0]}\").fetch(\"event_start_time\",order_by = \"event_start_time\")\n",
    "\n",
    "    for stim, event_single in enumerate(event_names):\n",
    "        trial.TrialEvent.insert1({'session_id': sessi, 'scan_id': scansi, 'trial_id': trialnum[0], 'event_type': event_single, 'event_start_time': event_onsets[stim]},  allow_direct_insert=True, skip_duplicates=True)\n"
   ]
  },
  {
   "cell_type": "code",
   "execution_count": 38,
   "id": "12123624",
   "metadata": {},
   "outputs": [
    {
     "data": {
      "text/plain": [
       "{'session_id': 'sess9FJ4IJOQ',\n",
       " 'scan_id': 'scan9FJ4IJOQ',\n",
       " 'trial_id': 9,\n",
       " 'event_type': 'Moving_Gratings:150;Moving_Gratings;0;10;50:50;150;0.1;3;',\n",
       " 'event_start_time': 83.9371,\n",
       " 0: {'session_id': 'sess9FJ4IJOQ',\n",
       "  'scan_id': 'scan9FJ4IJOQ',\n",
       "  'trial_id': 9,\n",
       "  'event_type': 'Moving_Gratings:60;Moving_Gratings;0;10;50:50;60;0.1;3;',\n",
       "  'event_start_time': 6.755},\n",
       " 1: {'session_id': 'sess9FJ4IJOQ',\n",
       "  'scan_id': 'scan9FJ4IJOQ',\n",
       "  'trial_id': 9,\n",
       "  'event_type': 'Moving_Gratings:90;Moving_Gratings;0;10;50:50;90;0.1;3;',\n",
       "  'event_start_time': 13.7706},\n",
       " 2: {'session_id': 'sess9FJ4IJOQ',\n",
       "  'scan_id': 'scan9FJ4IJOQ',\n",
       "  'trial_id': 9,\n",
       "  'event_type': 'Moving_Gratings:300;Moving_Gratings;0;10;50:50;300;0.1;3;',\n",
       "  'event_start_time': 20.7888},\n",
       " 3: {'session_id': 'sess9FJ4IJOQ',\n",
       "  'scan_id': 'scan9FJ4IJOQ',\n",
       "  'trial_id': 9,\n",
       "  'event_type': 'Moving_Gratings:180;Moving_Gratings;0;10;50:50;180;0.1;3;',\n",
       "  'event_start_time': 27.8148},\n",
       " 4: {'session_id': 'sess9FJ4IJOQ',\n",
       "  'scan_id': 'scan9FJ4IJOQ',\n",
       "  'trial_id': 9,\n",
       "  'event_type': 'Moving_Gratings:120;Moving_Gratings;0;10;50:50;120;0.1;3;',\n",
       "  'event_start_time': 34.8169},\n",
       " 5: {'session_id': 'sess9FJ4IJOQ',\n",
       "  'scan_id': 'scan9FJ4IJOQ',\n",
       "  'trial_id': 9,\n",
       "  'event_type': 'Moving_Gratings:30;Moving_Gratings;0;10;50:50;30;0.1;3;',\n",
       "  'event_start_time': 41.8437},\n",
       " 6: {'session_id': 'sess9FJ4IJOQ',\n",
       "  'scan_id': 'scan9FJ4IJOQ',\n",
       "  'trial_id': 9,\n",
       "  'event_type': 'Moving_Gratings:270;Moving_Gratings;0;10;50:50;270;0.1;3;',\n",
       "  'event_start_time': 48.8462},\n",
       " 7: {'session_id': 'sess9FJ4IJOQ',\n",
       "  'scan_id': 'scan9FJ4IJOQ',\n",
       "  'trial_id': 9,\n",
       "  'event_type': 'Moving_Gratings:210;Moving_Gratings;0;10;50:50;210;0.1;3;',\n",
       "  'event_start_time': 55.8713},\n",
       " 8: {'session_id': 'sess9FJ4IJOQ',\n",
       "  'scan_id': 'scan9FJ4IJOQ',\n",
       "  'trial_id': 9,\n",
       "  'event_type': 'Moving_Gratings:330;Moving_Gratings;0;10;50:50;330;0.1;3;',\n",
       "  'event_start_time': 62.8993},\n",
       " 9: {'session_id': 'sess9FJ4IJOQ',\n",
       "  'scan_id': 'scan9FJ4IJOQ',\n",
       "  'trial_id': 9,\n",
       "  'event_type': 'Moving_Gratings:240;Moving_Gratings;0;10;50:50;240;0.1;3;',\n",
       "  'event_start_time': 69.9062},\n",
       " 10: {'session_id': 'sess9FJ4IJOQ',\n",
       "  'scan_id': 'scan9FJ4IJOQ',\n",
       "  'trial_id': 9,\n",
       "  'event_type': 'Moving_Gratings:0;Moving_Gratings;0;10;50:50;0;0.1;3;',\n",
       "  'event_start_time': 76.9119},\n",
       " 11: {'session_id': 'sess9FJ4IJOQ',\n",
       "  'scan_id': 'scan9FJ4IJOQ',\n",
       "  'trial_id': 9,\n",
       "  'event_type': 'Moving_Gratings:150;Moving_Gratings;0;10;50:50;150;0.1;3;',\n",
       "  'event_start_time': 83.9371}}"
      ]
     },
     "execution_count": 38,
     "metadata": {},
     "output_type": "execute_result"
    }
   ],
   "source": [
    "toinser"
   ]
  },
  {
   "cell_type": "code",
   "execution_count": null,
   "id": "74299688",
   "metadata": {},
   "outputs": [],
   "source": [
    "\n"
   ]
  },
  {
   "cell_type": "code",
   "execution_count": null,
   "id": "73f048ea",
   "metadata": {},
   "outputs": [],
   "source": [
    "\n",
    "ibe.ingest_aux(sessi,scansi, verbose=True, aux_setup_type=\"bench2p\")"
   ]
  },
  {
   "cell_type": "code",
   "execution_count": null,
   "id": "47da0017",
   "metadata": {},
   "outputs": [],
   "source": [
    "ibe.get_and_ingest_trial_times(scansi, aux_setup_typestr)     "
   ]
  },
  {
   "cell_type": "code",
   "execution_count": null,
   "id": "29895939",
   "metadata": {},
   "outputs": [],
   "source": [
    "trial_start_edges = (event.Event & scan_key & 'event_type LIKE \"%;%\"').fetch(\"event_start_time\",order_by = \"event_start_time\")[::stims_per_trial] \n",
    "trial_end_edges = (event.Event & scan_key & 'event_type LIKE \"%;%\"').fetch(\"event_end_time\",order_by = \"event_end_time\")[stims_per_trial-1::stims_per_trial]     \n",
    "    \n",
    "trial_event_name = (event.Event & scan_key & 'event_type LIKE \"%;%\"').fetch(\"event_type\")[0].split(':')[0]\n",
    "trial.TrialType().insert1({'trial_type': trial_event_name, 'trial_type_description': ''}, skip_duplicates=True)\n"
   ]
  },
  {
   "cell_type": "code",
   "execution_count": null,
   "id": "471507c0",
   "metadata": {},
   "outputs": [],
   "source": [
    "for trialnum in enumerate(trial_start_edges):\n",
    "    trial.Trial.insert1({'session_id': sessi, 'scan_id': scansi, 'trial_id': trialnum[0], 'trial_type': trial_event_name, 'trial_start_time': trial_start_edges[trialnum[0]], 'trial_stop_time': trial_end_edges[trialnum[0]]},  allow_direct_insert=True, skip_duplicates=True)\n",
    "                \n",
    "    event_names = (event.Event & scan_key & 'event_type LIKE \"%;%\"' & f\"event_end_time < {trial_end_edges[0]}\").fetch(\"event_type\",order_by = \"event_start_time\")\n",
    "    event_onsets = (event.Event & scan_key & 'event_type LIKE \"%;%\"' & f\"event_end_time < {trial_end_edges[0]}\").fetch(\"event_start_time\",order_by = \"event_start_time\")\n",
    "    "
   ]
  },
  {
   "cell_type": "code",
   "execution_count": null,
   "id": "7375f760",
   "metadata": {},
   "outputs": [],
   "source": [
    "event_names"
   ]
  },
  {
   "cell_type": "code",
   "execution_count": null,
   "id": "00f1f2c7",
   "metadata": {},
   "outputs": [],
   "source": [
    "                trial.TrialEvent.insert1({'session_id': session_key, 'scan_id': scan_key, 'trial_id': trialnum[0], 'event_type': event_single, 'event_start_time': event_onsets[trialnum[0]]},  allow_direct_insert=True, skip_duplicates=True)"
   ]
  },
  {
   "cell_type": "code",
   "execution_count": null,
   "id": "bd27822c",
   "metadata": {},
   "outputs": [],
   "source": [
    "event_names = (event.Event & scan_key & 'event_type LIKE \"%;%\"' & f\"event_end_time < {trial_end_edges[0]}\").fetch(\"event_type\",order_by = \"event_start_time\")\n",
    "event_onsets = (event.Event & scan_key & 'event_type LIKE \"%;%\"' & f\"event_end_time < {trial_end_edges[0]}\").fetch(\"event_start_time\",order_by = \"event_start_time\")\n"
   ]
  },
  {
   "cell_type": "code",
   "execution_count": null,
   "id": "1c8db534",
   "metadata": {},
   "outputs": [],
   "source": [
    "scan_key"
   ]
  },
  {
   "cell_type": "code",
   "execution_count": null,
   "id": "615cae45",
   "metadata": {},
   "outputs": [],
   "source": [
    " trial.TrialEvent.insert1({'session_id': sessi, 'scan_id': scansi, 'trial_id': 0, 'trial_type': trial_event_name})"
   ]
  },
  {
   "cell_type": "code",
   "execution_count": null,
   "id": "3921e414",
   "metadata": {},
   "outputs": [],
   "source": [
    "trial.TrialEvent.insert1({'session_id': session_key, 'scan_id': scan_key, 'trial_id': trialnum[0], 'trial_type': trial_event_name, 'trial_start_time': trial_start_edges[trialnum[0]], 'trial_stop_time': trial_end_edges[trialnum[0]]},  allow_direct_insert=True, skip_duplicates=True)"
   ]
  },
  {
   "cell_type": "code",
   "execution_count": null,
   "id": "c89ee0c7",
   "metadata": {},
   "outputs": [],
   "source": [
    "auxpath = (event.BehaviorRecording.File() & scan_key).fetch('filepath')\n",
    "print(auxpath)"
   ]
  },
  {
   "cell_type": "code",
   "execution_count": null,
   "id": "a8f8f903",
   "metadata": {},
   "outputs": [],
   "source": []
  },
  {
   "cell_type": "code",
   "execution_count": null,
   "id": "ab1a1ab1",
   "metadata": {},
   "outputs": [],
   "source": [
    "aux_setup_typestr = (scan.ScanInfo() & 'scan_id = \"' + scansi + '\"').fetch(\"userfunction_info\")[0]\n",
    "aux_setup_typestr"
   ]
  },
  {
   "cell_type": "code",
   "execution_count": null,
   "id": "f83d9a4f",
   "metadata": {},
   "outputs": [],
   "source": [
    "curr_file = ws.loadDataFile(filename=auxpath[0], format_string='double' )"
   ]
  },
  {
   "cell_type": "code",
   "execution_count": null,
   "id": "bc84df51",
   "metadata": {},
   "outputs": [],
   "source": [
    " sweep = [x for x in curr_file.keys() if 'sweep' in x][0]"
   ]
  },
  {
   "cell_type": "code",
   "execution_count": null,
   "id": "925fcc79",
   "metadata": {},
   "outputs": [],
   "source": [
    "import numpy as np\n",
    "\n",
    "analog_scans = curr_file[sweep]['analogScans']\n",
    "analog_labels = curr_file['header']['AIChannelNames']\n",
    "digital_labels = curr_file['header']['DIChannelNames']\n",
    "sr = curr_file['header']['AcquisitionSampleRate'][0][0]\n",
    "digital_scans = ibe.demultiplex(curr_file[sweep]['digitalScans'][0], np.shape(digital_labels)[0])\n",
    "step = 10\n",
    "\n",
    "# Plotting analogScans\n",
    "# plt.figure(figsize=(12, 6))\n",
    "# plt.title(\"Analog Scans\")\n",
    "\n",
    "# Creating subplots\n",
    "fig, axes = plt.subplots(nrows=analog_scans.shape[0], ncols=1, figsize=(50, 10))\n",
    "\n",
    "# Plotting analogScans\n",
    "axes[0].set_title(f\"Analog Scans - Every {step}th Sample\")\n",
    "for i in range(analog_scans.shape[0]):\n",
    "     axes[i].plot(analog_scans[i][::step], label=f\"AI {analog_labels[i]}\")\n",
    "     axes[i].legend()\n",
    "     axes[i].set_xlabel(\"Sample Index\")\n",
    "     axes[i].set_ylabel(\"Signal\")\n",
    "\n",
    "plt.show()\n",
    "\n",
    "\n",
    "# Creating subplots\n",
    "fig, axes = plt.subplots(nrows=digital_scans.shape[0], ncols=1, figsize=(50, 10))\n",
    "\n",
    "# Plotting analogScans\n",
    "axes[0].set_title(f\"Digital Scans - Every {step}th Sample\")\n",
    "for i in range(digital_scans.shape[0]):\n",
    "     axes[i].plot(digital_scans[i][::step], label=f\"DI {digital_labels[::-1][i]}\")\n",
    "     axes[i].set_xlabel(\"Sample Index\")\n",
    "     axes[i].set_ylabel(\"Signal\")\n",
    "     axes[i].legend()\n",
    "plt.show()\n"
   ]
  },
  {
   "cell_type": "code",
   "execution_count": null,
   "id": "a43353c6",
   "metadata": {},
   "outputs": [],
   "source": [
    "fig, axes = plt.subplots(nrows=2, ncols=1, figsize=(50, 10))\n",
    "sr = curr_file['header']['AcquisitionSampleRate'][0][0]\n",
    "# Plotting analogScans\n",
    "axes[0].set_title(f\"Analog Scans - Every {step}th Sample\")\n",
    "# for i in range(analog_scans.shape[0]):\n",
    "i = 0\n",
    "axes[i].plot(np.abs(analog_scans[i][::step]), label=f\"AI {analog_labels[i]}\")\n",
    "axes[i].legend()\n",
    "axes[i].set_xlabel(\"Sample Index\")\n",
    "axes[i].set_ylabel(\"Signal\")\n",
    "\n",
    "\n",
    "if i == 0:\n",
    "     onsets = (event.Event & scan_key & \"event_type = 'aux_bonsai_vis'\").fetch('event_start_time') * sr / step\n",
    "     offsets = (event.Event & scan_key & \"event_type = 'aux_bonsai_vis'\").fetch('event_end_time') * sr / step\n",
    "     edges = (event.Event & scan_key & 'event_type LIKE \"%;%\"').fetch(\"event_start_time\",order_by = \"event_start_time\")[::stims_per_trial] * sr / step\n",
    "     edgesoff = (event.Event & scan_key & 'event_type LIKE \"%;%\"').fetch(\"event_end_time\",order_by = \"event_end_time\")[stims_per_trial-1::stims_per_trial] * sr / step\n",
    "     for xc in onsets:\n",
    "          axes[i].axvline(x=xc, color = 'r')\n",
    "     for xc in offsets:\n",
    "          # axes[i].axvline(x=xc, color = 'r')\n",
    "          axes[i].axvline(x=xc, color = 'w')\n",
    "     for xc in edges:\n",
    "          # axes[i].axvline(x=xc, color = 'r')\n",
    "          axes[i].axvline(x=xc, color = 'b')\n",
    "     for xc in edgesoff:\n",
    "          # axes[i].axvline(x=xc, color = 'r')\n",
    "          axes[i].axvline(x=xc, color = 'y')"
   ]
  },
  {
   "cell_type": "code",
   "execution_count": null,
   "id": "29e21813",
   "metadata": {},
   "outputs": [],
   "source": [
    "ibe.get_timestamps(np.abs(analog_scans[i]), sr, 1)"
   ]
  },
  {
   "cell_type": "code",
   "execution_count": null,
   "id": "5314f394",
   "metadata": {},
   "outputs": [],
   "source": [
    "event.Event & scan_key"
   ]
  },
  {
   "cell_type": "code",
   "execution_count": null,
   "id": "7efa25f4",
   "metadata": {},
   "outputs": [],
   "source": [
    "(event.Event & scan_key & \"event_type = 'aux_bonsai_vis'\").fetch('event_start_time')\n",
    "# auxgatetimestamp_end = (event.Event()  &  \"event_type='main_track_gate'\" &  scanquery ).fetch('event_end_time')"
   ]
  },
  {
   "cell_type": "code",
   "execution_count": null,
   "metadata": {},
   "outputs": [],
   "source": [
    "dj.Diagram(trial) + dj.Diagram(event) +100\n"
   ]
  },
  {
   "cell_type": "code",
   "execution_count": null,
   "id": "149d9df0",
   "metadata": {},
   "outputs": [],
   "source": [
    "surgery"
   ]
  },
  {
   "cell_type": "code",
   "execution_count": null,
   "id": "dbff5145",
   "metadata": {},
   "outputs": [],
   "source": [
    "dj.Diagram(subject.Subject) + dj.Diagram(event) + dj.Diagram(scan)"
   ]
  },
  {
   "cell_type": "code",
   "execution_count": null,
   "id": "86a8bab4",
   "metadata": {},
   "outputs": [],
   "source": [
    "fp = event.BehaviorRecording.File().fetch('filepath')\n",
    "print(fp)\n"
   ]
  },
  {
   "cell_type": "code",
   "execution_count": null,
   "id": "a21dae63",
   "metadata": {},
   "outputs": [],
   "source": [
    "scan.Scan()"
   ]
  },
  {
   "cell_type": "code",
   "execution_count": null,
   "id": "85f354f2",
   "metadata": {},
   "outputs": [],
   "source": [
    "event.AlignmentEvent()"
   ]
  },
  {
   "cell_type": "code",
   "execution_count": null,
   "id": "44f105c0",
   "metadata": {},
   "outputs": [],
   "source": [
    "trial.Trial()"
   ]
  },
  {
   "cell_type": "code",
   "execution_count": null,
   "id": "2fbc8ccf",
   "metadata": {},
   "outputs": [],
   "source": [
    "dj.Diagram(event)"
   ]
  },
  {
   "cell_type": "code",
   "execution_count": null,
   "id": "c4c8bb54-ae93-4974-9ff7-ac74dfa2baa0",
   "metadata": {},
   "outputs": [],
   "source": [
    "session.Session * session.SessionDirectory"
   ]
  },
  {
   "cell_type": "code",
   "execution_count": null,
   "id": "bdfe449c-9ecc-4b49-93ee-9c73295b12eb",
   "metadata": {},
   "outputs": [],
   "source": [
    "key='scan9FF6U114'\n",
    "(scan.Scan & f'scan_id=\\\"{key}\\\"')"
   ]
  },
  {
   "cell_type": "code",
   "execution_count": null,
   "id": "362c221b",
   "metadata": {},
   "outputs": [],
   "source": [
    "scan.Scan()"
   ]
  },
  {
   "attachments": {},
   "cell_type": "markdown",
   "id": "773962c7-6ae0-487d-9d5f-93ecf4d03c55",
   "metadata": {},
   "source": [
    "`CB DEV NOTE:` In demo file, there are no `scan.motor_position_at_zero` values. Set to 0 here to avoid downstream type errors when adding. Future would should set these to null when not present and revise downstream code."
   ]
  },
  {
   "cell_type": "code",
   "execution_count": null,
   "id": "f917744b-503a-4e3b-88db-6559cbab2eea",
   "metadata": {},
   "outputs": [],
   "source": [
    "scan.ScanInfo()"
   ]
  },
  {
   "cell_type": "code",
   "execution_count": null,
   "id": "d73f4e1e",
   "metadata": {},
   "outputs": [],
   "source": [
    "scan.ScanInfo.Field()"
   ]
  },
  {
   "attachments": {},
   "cell_type": "markdown",
   "id": "bcd8798c-e1b2-4855-89cf-53f5b1b25bec",
   "metadata": {},
   "source": [
    "Note the relative path below:"
   ]
  },
  {
   "cell_type": "code",
   "execution_count": null,
   "id": "5d0c8693",
   "metadata": {},
   "outputs": [],
   "source": [
    "scan.ScanInfo.ScanFile()"
   ]
  },
  {
   "cell_type": "code",
   "execution_count": null,
   "id": "9ad7d47e",
   "metadata": {},
   "outputs": [],
   "source": []
  }
 ],
 "metadata": {
  "jupytext": {
   "formats": "ipynb,py"
  },
  "kernelspec": {
   "display_name": "datajoint",
   "language": "python",
   "name": "python3"
  },
  "language_info": {
   "codemirror_mode": {
    "name": "ipython",
    "version": 3
   },
   "file_extension": ".py",
   "mimetype": "text/x-python",
   "name": "python",
   "nbconvert_exporter": "python",
   "pygments_lexer": "ipython3",
   "version": "3.8.16"
  },
  "vscode": {
   "interpreter": {
    "hash": "b6b88a8194cd92b549912c5fccf4f99c3c2f8b37389322b86781a2268700b256"
   }
  }
 },
 "nbformat": 4,
 "nbformat_minor": 5
}
