{
 "cells": [
  {
   "cell_type": "markdown",
   "id": "d1aa3e29-e39c-44a9-b29d-d37b73aab85d",
   "metadata": {},
   "source": [
    "# PyRAT subject ingestion"
   ]
  },
  {
   "cell_type": "markdown",
   "id": "ed2651bb-ce83-4b87-a268-98169a69309d",
   "metadata": {},
   "source": [
    "## Setup"
   ]
  },
  {
   "cell_type": "markdown",
   "id": "6e95a682-afac-4834-b6e5-0dd4886467f9",
   "metadata": {},
   "source": [
    "Using local config file (see [01_pipeline](./01_pipeline.ipynb))"
   ]
  },
  {
   "cell_type": "code",
   "execution_count": 1,
   "id": "016819d5-3623-4dce-9e8c-0410579ac69b",
   "metadata": {},
   "outputs": [
    {
     "name": "stderr",
     "output_type": "stream",
     "text": [
      "[2022-12-12 15:37:47,385][INFO]: Connecting tobiasr@172.26.128.53:3306\n",
      "[2022-12-12 15:37:47,441][INFO]: Connected tobiasr@172.26.128.53:3306\n"
     ]
    },
    {
     "name": "stdout",
     "output_type": "stream",
     "text": [
      "Loading DLC 2.2.1.1...\n"
     ]
    },
    {
     "name": "stderr",
     "output_type": "stream",
     "text": [
      "/Users/trose/opt/miniconda3/envs/datajoint/lib/python3.8/site-packages/statsmodels/compat/pandas.py:65: FutureWarning: pandas.Int64Index is deprecated and will be removed from pandas in a future version. Use pandas.Index with the appropriate dtype instead.\n",
      "  from pandas import Int64Index as NumericIndex\n"
     ]
    },
    {
     "name": "stdout",
     "output_type": "stream",
     "text": [
      "DLC loaded in light mode; you cannot use any GUI (labeling, relabeling and standalone GUI)\n"
     ]
    }
   ],
   "source": [
    "import os\n",
    "# change to the upper level folder to detect dj_local_conf.json\n",
    "if os.path.basename(os.getcwd())=='notebooks': os.chdir('..')\n",
    "assert os.path.basename(os.getcwd())=='adamacs', (\"Please move to the main directory\")\n",
    "from adamacs.pipeline import subject"
   ]
  },
  {
   "cell_type": "markdown",
   "id": "5dd49a4c-d391-4f0e-bfe9-0930ed744e93",
   "metadata": {},
   "source": [
    "Manual entry"
   ]
  },
  {
   "cell_type": "code",
   "execution_count": null,
   "id": "183003b5-f45c-4851-80c5-34c30e808816",
   "metadata": {},
   "outputs": [],
   "source": [
    "# Manual Entry\n",
    "import datajoint as dj; import getpass\n",
    "dj.config['database.host'] = '172.26.128.53'        # Put the server name between these apostrophe\n",
    "dj.config['database.user'] = 'tobiasr'             # Put your user name between these apostrophe\n",
    "dj.config['database.password'] = getpass.getpass(prompt='Database password:')\n",
    "dj.config['custom']['pyrat_client_token'] = getpass.getpass(prompt=\"Pyrat client token:\")\n",
    "dj.config['custom']['pyrat_user_token'] = getpass.getpass(prompt=\"Pyrat user token:\")\n",
    "dj.conn()"
   ]
  },
  {
   "cell_type": "markdown",
   "id": "4c258e07-6165-4116-bec7-edc764e2170c",
   "metadata": {},
   "source": [
    "## Initial check of tables"
   ]
  },
  {
   "cell_type": "code",
   "execution_count": 2,
   "id": "75bb3517-f2f9-47ac-84fe-15c5aa1530e0",
   "metadata": {},
   "outputs": [
    {
     "name": "stdout",
     "output_type": "stream",
     "text": [
      "Deleting 1 rows from `bonn_subject`.`subject_genotype`\n",
      "Deleting 5 rows from `bonn_subject`.`subject`\n",
      "Deleting 2 rows from `bonn_subject`.`#user`\n",
      "Deletes committed.\n",
      "Deleting 3 rows from `bonn_subject`.`protocol`\n",
      "Deletes committed.\n",
      "Deleting 1 rows from `bonn_subject`.`mutation`\n",
      "Deleting 2 rows from `bonn_subject`.`line`\n",
      "Deletes committed.\n",
      "Deleting 0 rows from `bonn_subject`.`subject`\n",
      "Nothing to delete.\n",
      "User 0\n",
      "Protocol 0\n",
      "Line 0\n",
      "Mutation 0\n",
      "Subject 0\n",
      "SubjectGenotype 0\n"
     ]
    }
   ],
   "source": [
    "subject.User.delete(); subject.Protocol.delete()\n",
    "subject.Line.delete(); subject.Subject.delete()\n",
    "print('User', len(subject.User()))\n",
    "print('Protocol', len(subject.Protocol()))\n",
    "print('Line', len(subject.Line()))\n",
    "print('Mutation', len(subject.Mutation()))\n",
    "print('Subject', len(subject.Subject()))\n",
    "print('SubjectGenotype', len(subject.SubjectGenotype()))"
   ]
  },
  {
   "cell_type": "markdown",
   "id": "c10761a2-0304-4ea3-9af3-bb6981aae83f",
   "metadata": {},
   "source": [
    "## Automated ingestion"
   ]
  },
  {
   "cell_type": "markdown",
   "id": "b44bbdd6-536d-41e5-87b5-1820a631f1bf",
   "metadata": {},
   "source": [
    "The function is designed to list all proposed insertions and ask for a confirmation before entered into the schema."
   ]
  },
  {
   "cell_type": "code",
   "execution_count": 3,
   "id": "cc50c2bb-a03f-46b7-83f5-492d63fa0081",
   "metadata": {},
   "outputs": [
    {
     "name": "stdout",
     "output_type": "stream",
     "text": [
      "Connected\n",
      "Gathering users...\n",
      "Gathering protocols...\n",
      "Gathering lines/mutations...\n",
      "Gathering subjects...\n",
      "--- PyRAT items to be inserted ---\n",
      "User(s):  ['Rose Tobias', 'Kück Laura'] \n",
      "\n",
      "Protocol(s):  ['02_Zucht'] \n",
      "\n",
      "Line(s):  ['C57BL6/ N'] \n",
      "\n",
      "Mutation(s):  [] \n",
      "\n",
      "Subjects:  ['ROS-1371'] \n",
      "\n"
     ]
    }
   ],
   "source": [
    "from adamacs.schemas import subject\n",
    "from adamacs.ingest.pyrat import PyratIngestion\n",
    "PyratIngestion().ingest_animal(\"ROS-1371\")"
   ]
  },
  {
   "cell_type": "markdown",
   "id": "d8410737-51f6-495d-ae0c-d25fddca3503",
   "metadata": {},
   "source": [
    "This function also permits wildcards when querying [the API](https://pyrat.uniklinik-bonn.de/pyrat-test/api/v2/specification/ui#/Listing/get_animals)."
   ]
  },
  {
   "cell_type": "code",
   "execution_count": 4,
   "id": "a24dce2c",
   "metadata": {},
   "outputs": [
    {
     "name": "stdout",
     "output_type": "stream",
     "text": [
      "Connected\n",
      "Gathering users...\n",
      "Gathering protocols...\n",
      "Gathering lines/mutations...\n",
      "Gathering subjects...\n",
      "--- PyRAT items to be inserted ---\n",
      "User(s):  [] \n",
      "\n",
      "Protocol(s):  ['81-02.04.2019.A193', '81-02.04.2018.A006'] \n",
      "\n",
      "Line(s):  ['Gcamp6-Thy'] \n",
      "\n",
      "Mutation(s):  ['Tg(Thy1-GCaMP6s)'] \n",
      "\n",
      "Subjects:  ['ROS-1375', 'ROS-1377', 'ROS-1378', 'ROS-1379'] \n",
      "\n"
     ]
    }
   ],
   "source": [
    "PyratIngestion().ingest_animal(\"ROS-137*\")"
   ]
  },
  {
   "cell_type": "markdown",
   "id": "d4c5e1bf-1808-411f-a192-ff0881ebff84",
   "metadata": {},
   "source": [
    "## Confirm entry"
   ]
  },
  {
   "cell_type": "code",
   "execution_count": 5,
   "id": "a0d7be9c-e166-41cf-a04f-99cea903378d",
   "metadata": {},
   "outputs": [
    {
     "name": "stdout",
     "output_type": "stream",
     "text": [
      "User 2\n",
      "Protocol 3\n",
      "Line 2\n",
      "Mutation 1\n",
      "Subject 5\n",
      "SubjectGenotype 1\n"
     ]
    }
   ],
   "source": [
    "print('User', len(subject.User()))\n",
    "print('Protocol', len(subject.Protocol()))\n",
    "print('Line', len(subject.Line()))\n",
    "print('Mutation', len(subject.Mutation()))\n",
    "print('Subject', len(subject.Subject()))\n",
    "print('SubjectGenotype', len(subject.SubjectGenotype()))"
   ]
  },
  {
   "cell_type": "code",
   "execution_count": null,
   "id": "c25e941a-517e-4997-8ee4-7e2029a3bb09",
   "metadata": {},
   "outputs": [],
   "source": []
  }
 ],
 "metadata": {
  "jupytext": {
   "formats": "ipynb,py"
  },
  "kernelspec": {
   "display_name": "datajoint",
   "language": "python",
   "name": "python3"
  },
  "language_info": {
   "codemirror_mode": {
    "name": "ipython",
    "version": 3
   },
   "file_extension": ".py",
   "mimetype": "text/x-python",
   "name": "python",
   "nbconvert_exporter": "python",
   "pygments_lexer": "ipython3",
   "version": "3.8.13"
  },
  "vscode": {
   "interpreter": {
    "hash": "b6b88a8194cd92b549912c5fccf4f99c3c2f8b37389322b86781a2268700b256"
   }
  }
 },
 "nbformat": 4,
 "nbformat_minor": 5
}
