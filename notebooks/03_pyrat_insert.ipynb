{
 "cells": [
  {
   "cell_type": "markdown",
   "id": "d1aa3e29-e39c-44a9-b29d-d37b73aab85d",
   "metadata": {},
   "source": [
    "# PyRAT subject ingestion"
   ]
  },
  {
   "cell_type": "markdown",
   "id": "ed2651bb-ce83-4b87-a268-98169a69309d",
   "metadata": {},
   "source": [
    "## Setup"
   ]
  },
  {
   "cell_type": "markdown",
   "id": "6e95a682-afac-4834-b6e5-0dd4886467f9",
   "metadata": {},
   "source": [
    "Using local config file (see [01_pipeline](./01_pipeline.ipynb))"
   ]
  },
  {
   "cell_type": "code",
   "execution_count": 1,
   "id": "016819d5-3623-4dce-9e8c-0410579ac69b",
   "metadata": {},
   "outputs": [
    {
     "name": "stderr",
     "output_type": "stream",
     "text": [
      "[2022-12-15 14:45:55,567][INFO]: Connecting tobiasr@172.26.128.53:3306\n",
      "[2022-12-15 14:45:55,606][INFO]: Connected tobiasr@172.26.128.53:3306\n",
      "2022-12-15 14:45:55.730167: W tensorflow/stream_executor/platform/default/dso_loader.cc:64] Could not load dynamic library 'libcudart.so.11.0'; dlerror: libcudart.so.11.0: cannot open shared object file: No such file or directory\n",
      "2022-12-15 14:45:55.730193: I tensorflow/stream_executor/cuda/cudart_stub.cc:29] Ignore above cudart dlerror if you do not have a GPU set up on your machine.\n"
     ]
    },
    {
     "name": "stdout",
     "output_type": "stream",
     "text": [
      "Loading DLC 2.2.1.1...\n"
     ]
    },
    {
     "name": "stderr",
     "output_type": "stream",
     "text": [
      "/home/tobiasr/anaconda3/envs/datajoint/lib/python3.8/site-packages/statsmodels/compat/pandas.py:65: FutureWarning: pandas.Int64Index is deprecated and will be removed from pandas in a future version. Use pandas.Index with the appropriate dtype instead.\n",
      "  from pandas import Int64Index as NumericIndex\n"
     ]
    },
    {
     "name": "stdout",
     "output_type": "stream",
     "text": [
      "DLC loaded in light mode; you cannot use any GUI (labeling, relabeling and standalone GUI)\n"
     ]
    }
   ],
   "source": [
    "import os\n",
    "# change to the upper level folder to detect dj_local_conf.json\n",
    "if os.path.basename(os.getcwd())=='notebooks': os.chdir('..')\n",
    "assert os.path.basename(os.getcwd())=='adamacs', (\"Please move to the main directory\")\n",
    "from adamacs.pipeline import subject, session\n",
    "import datajoint as dj"
   ]
  },
  {
   "cell_type": "code",
   "execution_count": 2,
   "id": "18e596e5",
   "metadata": {},
   "outputs": [
    {
     "name": "stdout",
     "output_type": "stream",
     "text": [
      "database Prefix: tobiasr_\n"
     ]
    }
   ],
   "source": [
    "db_prefix = dj.config['custom'].get('database.prefix')\n",
    "print('database Prefix:', db_prefix)"
   ]
  },
  {
   "cell_type": "markdown",
   "id": "5dd49a4c-d391-4f0e-bfe9-0930ed744e93",
   "metadata": {},
   "source": [
    "Manual entry"
   ]
  },
  {
   "cell_type": "code",
   "execution_count": null,
   "id": "183003b5-f45c-4851-80c5-34c30e808816",
   "metadata": {},
   "outputs": [],
   "source": [
    "# Manual Entry\n",
    "import datajoint as dj; import getpass\n",
    "dj.config['database.host'] = '172.26.128.53'        # Put the server name between these apostrophe\n",
    "dj.config['database.user'] = 'tobiasr'             # Put your user name between these apostrophe\n",
    "dj.config['database.password'] = getpass.getpass(prompt='Database password:')\n",
    "dj.config['custom']['pyrat_client_token'] = getpass.getpass(prompt=\"Pyrat client token:\")\n",
    "dj.config['custom']['pyrat_user_token'] = getpass.getpass(prompt=\"Pyrat user token:\")\n",
    "dj.conn()"
   ]
  },
  {
   "cell_type": "markdown",
   "id": "4c258e07-6165-4116-bec7-edc764e2170c",
   "metadata": {},
   "source": [
    "## Initial check of tables"
   ]
  },
  {
   "cell_type": "code",
   "execution_count": null,
   "id": "75bb3517-f2f9-47ac-84fe-15c5aa1530e0",
   "metadata": {},
   "outputs": [],
   "source": [
    "print('User', len(subject.User()))\n",
    "print('Protocol', len(subject.Protocol()))\n",
    "print('Line', len(subject.Line()))\n",
    "print('Mutation', len(subject.Mutation()))\n",
    "print('Subject', len(subject.Subject()))\n",
    "print('SubjectGenotype', len(subject.SubjectGenotype()))"
   ]
  },
  {
   "cell_type": "markdown",
   "id": "8aaf9ac9",
   "metadata": {},
   "source": [
    "## delete entries - USE WITH CAUTION "
   ]
  },
  {
   "cell_type": "code",
   "execution_count": 3,
   "id": "b67fce32",
   "metadata": {},
   "outputs": [],
   "source": [
    "#subject.User.delete()\n",
    "#subject.Protocol.delete()\n",
    "#subject.Line.delete()\n",
    "#subject.Subject.delete()"
   ]
  },
  {
   "cell_type": "markdown",
   "id": "c10761a2-0304-4ea3-9af3-bb6981aae83f",
   "metadata": {},
   "source": [
    "## Automated ingestion"
   ]
  },
  {
   "cell_type": "markdown",
   "id": "b44bbdd6-536d-41e5-87b5-1820a631f1bf",
   "metadata": {},
   "source": [
    "The function is designed to list all proposed insertions and ask for a confirmation before entered into the schema."
   ]
  },
  {
   "cell_type": "code",
   "execution_count": 4,
   "id": "cc50c2bb-a03f-46b7-83f5-492d63fa0081",
   "metadata": {},
   "outputs": [
    {
     "name": "stdout",
     "output_type": "stream",
     "text": [
      "Connected\n",
      "Gathering users...\n",
      "Gathering protocols...\n",
      "Gathering lines/mutations...\n",
      "Gathering subjects...\n",
      "--- PyRAT items to be inserted ---\n",
      "User(s):  [] \n",
      "\n",
      "Protocol(s):  ['81-02.05.40.19.027', '02_Zucht', '81-02.04.2019.A192'] \n",
      "\n",
      "Line(s):  ['Gcamp6-Thy', 'C57BL6/ N', 'Vglut', 'GAD2'] \n",
      "\n",
      "Mutation(s):  ['Tg(Thy1-GCaMP6s)', 'Slc17a6tm2(cre)', 'Gad2tm2(cre)'] \n",
      "\n",
      "Subjects:  ['ROS-1367', 'ROS-1368', 'ROS-1371', 'ROS-1380', 'ROS-1381', 'ROS-1382', 'ROS-1383', 'ROS-1384', 'ROS-1391', 'ROS-1392', 'ROS-1393', 'ROS-1395', 'ROS-1400', 'ROS-1402', 'ROS-1403', 'ROS-1404', 'ROS-1407', 'ROS-1408', 'ROS-1409', 'ROS-1410', 'ROS-1411', 'ROS-1412', 'ROS-1413', 'ROS-1418', 'ROS-1419', 'ROS-1420', 'ROS-1421', 'ROS-1422', 'ROS-1423', 'ROS-1424', 'ROS-1425', 'ROS-1426', 'ROS-1427', 'ROS-1428', 'ROS-1429', 'ROS-1430', 'ROS-1431', 'ROS-1433', 'ROS-1434', 'ROS-1451', 'ROS-1453', 'ROS-1456', 'ROS-1457', 'ROS-1458', 'ROS-1459', 'ROS-1460', 'ROS-1461', 'ROS-1463', 'ROS-1466', 'ROS-1467', 'ROS-1468', 'ROS-1469', 'ROS-1470', 'ROS-1471', 'ROS-1472', 'ROS-1473', 'ROS-1474', 'ROS-1475', 'ROS-1476', 'ROS-1477', 'ROS-1478', 'ROS-1479', 'ROS-1480', 'ROS-1481', 'ROS-1482', 'ROS-1483', 'ROS-1484', 'ROS-1485', 'ROS-1486', 'ROS-1487', 'ROS-1488', 'ROS-1489', 'ROS-1490', 'ROS-1491', 'ROS-1492', 'ROS-1493'] \n",
      "\n",
      "Proceed with new subject(s) insert? [yes, no]: yes\n"
     ]
    }
   ],
   "source": [
    "from adamacs.schemas import subject\n",
    "from adamacs.ingest.pyrat import PyratIngestion\n",
    "# PyratIngestion().ingest_animal(\"ROS-1483\")\n",
    "PyratIngestion().ingest_animal(\"ROS-1*\")"
   ]
  },
  {
   "cell_type": "markdown",
   "id": "d8410737-51f6-495d-ae0c-d25fddca3503",
   "metadata": {},
   "source": [
    "This function also permits wildcards when querying [the API](https://pyrat.uniklinik-bonn.de/pyrat-test/api/v2/specification/ui#/Listing/get_animals)."
   ]
  },
  {
   "cell_type": "code",
   "execution_count": 5,
   "id": "a24dce2c",
   "metadata": {
    "scrolled": true
   },
   "outputs": [
    {
     "name": "stdout",
     "output_type": "stream",
     "text": [
      "Connected\n",
      "Found no live entries for WEZ-8701. Testing sacrificed.\n",
      "Gathering users...\n",
      "Gathering protocols...\n",
      "Gathering lines/mutations...\n",
      "Gathering subjects...\n",
      "--- PyRAT items to be inserted ---\n",
      "User(s):  [] \n",
      "\n",
      "Protocol(s):  ['01_Organentnahme'] \n",
      "\n",
      "Line(s):  [] \n",
      "\n",
      "Mutation(s):  [] \n",
      "\n",
      "Subjects:  ['WEZ-8701'] \n",
      "\n",
      "Proceed with new subject(s) insert? [yes, no]: yes\n"
     ]
    }
   ],
   "source": [
    "PyratIngestion().ingest_animal(\"WEZ-8701\")"
   ]
  },
  {
   "cell_type": "code",
   "execution_count": 6,
   "id": "6feb419a",
   "metadata": {},
   "outputs": [
    {
     "name": "stdout",
     "output_type": "stream",
     "text": [
      "Connected\n",
      "Found no live entries for ROS-1346. Testing sacrificed.\n",
      "Gathering users...\n",
      "Gathering protocols...\n",
      "Gathering lines/mutations...\n",
      "Gathering subjects...\n",
      "--- PyRAT items to be inserted ---\n",
      "User(s):  [] \n",
      "\n",
      "Protocol(s):  [] \n",
      "\n",
      "Line(s):  [] \n",
      "\n",
      "Mutation(s):  [] \n",
      "\n",
      "Subjects:  ['ROS-1346'] \n",
      "\n",
      "Proceed with new subject(s) insert? [yes, no]: yes\n"
     ]
    }
   ],
   "source": [
    "PyratIngestion().ingest_animal(\"ROS-1346\")"
   ]
  },
  {
   "cell_type": "markdown",
   "id": "d4c5e1bf-1808-411f-a192-ff0881ebff84",
   "metadata": {},
   "source": [
    "## Confirm entry"
   ]
  },
  {
   "cell_type": "code",
   "execution_count": 7,
   "id": "a0d7be9c-e166-41cf-a04f-99cea903378d",
   "metadata": {},
   "outputs": [
    {
     "name": "stdout",
     "output_type": "stream",
     "text": [
      "User 8\n",
      "Protocol 4\n",
      "Line 4\n",
      "Mutation 3\n",
      "Subject 78\n",
      "SubjectGenotype 69\n"
     ]
    }
   ],
   "source": [
    "print('User', len(subject.User()))\n",
    "print('Protocol', len(subject.Protocol()))\n",
    "print('Line', len(subject.Line()))\n",
    "print('Mutation', len(subject.Mutation()))\n",
    "print('Subject', len(subject.Subject()))\n",
    "print('SubjectGenotype', len(subject.SubjectGenotype()))"
   ]
  },
  {
   "cell_type": "code",
   "execution_count": 8,
   "id": "52e3631d",
   "metadata": {},
   "outputs": [
    {
     "data": {
      "text/html": [
       "\n",
       "    \n",
       "    <style type=\"text/css\">\n",
       "        .Relation{\n",
       "            border-collapse:collapse;\n",
       "        }\n",
       "        .Relation th{\n",
       "            background: #A0A0A0; color: #ffffff; padding:4px; border:#f0e0e0 1px solid;\n",
       "            font-weight: normal; font-family: monospace; font-size: 100%;\n",
       "        }\n",
       "        .Relation td{\n",
       "            padding:4px; border:#f0e0e0 1px solid; font-size:100%;\n",
       "        }\n",
       "        .Relation tr:nth-child(odd){\n",
       "            background: #ffffff;\n",
       "        }\n",
       "        .Relation tr:nth-child(even){\n",
       "            background: #f3f1ff;\n",
       "        }\n",
       "        /* Tooltip container */\n",
       "        .djtooltip {\n",
       "        }\n",
       "        /* Tooltip text */\n",
       "        .djtooltip .djtooltiptext {\n",
       "            visibility: hidden;\n",
       "            width: 120px;\n",
       "            background-color: black;\n",
       "            color: #fff;\n",
       "            text-align: center;\n",
       "            padding: 5px 0;\n",
       "            border-radius: 6px;\n",
       "            /* Position the tooltip text - see examples below! */\n",
       "            position: absolute;\n",
       "            z-index: 1;\n",
       "        }\n",
       "        #primary {\n",
       "            font-weight: bold;\n",
       "            color: black;\n",
       "        }\n",
       "        #nonprimary {\n",
       "            font-weight: normal;\n",
       "            color: white;\n",
       "        }\n",
       "\n",
       "        /* Show the tooltip text when you mouse over the tooltip container */\n",
       "        .djtooltip:hover .djtooltiptext {\n",
       "            visibility: visible;\n",
       "        }\n",
       "    </style>\n",
       "    \n",
       "    <b></b>\n",
       "        <div style=\"max-height:1000px;max-width:1500px;overflow:auto;\">\n",
       "        <table border=\"1\" class=\"Relation\">\n",
       "            <thead> <tr style=\"text-align: right;\"> <th> <div class=\"djtooltip\">\n",
       "                            <p id=\"primary\">user_id</p>\n",
       "                            <span class=\"djtooltiptext\"></span>\n",
       "                        </div></th><th><div class=\"djtooltip\">\n",
       "                            <p id=\"nonprimary\">name</p>\n",
       "                            <span class=\"djtooltiptext\"></span>\n",
       "                        </div></th><th><div class=\"djtooltip\">\n",
       "                            <p id=\"nonprimary\">shorthand</p>\n",
       "                            <span class=\"djtooltiptext\">TR: added name_FirstInitialSurname shorthand</span>\n",
       "                        </div></th><th><div class=\"djtooltip\">\n",
       "                            <p id=\"nonprimary\">initials</p>\n",
       "                            <span class=\"djtooltiptext\">Update after pyrat ingestion</span>\n",
       "                        </div></th><th><div class=\"djtooltip\">\n",
       "                            <p id=\"nonprimary\">email</p>\n",
       "                            <span class=\"djtooltiptext\">TR: for completeness' sake also email</span>\n",
       "                        </div></th><th><div class=\"djtooltip\">\n",
       "                            <p id=\"nonprimary\">lab</p>\n",
       "                            <span class=\"djtooltiptext\">short lab name, pyrat labid</span>\n",
       "                        </div> </th> </tr> </thead>\n",
       "            <tbody> <tr> <td>1</td>\n",
       "<td>Rose Tobias</td>\n",
       "<td>tobiasr</td>\n",
       "<td>TR</td>\n",
       "<td>trose@uni-bonn.de</td>\n",
       "<td>Rose</td></tr><tr><td>2</td>\n",
       "<td>Kück Laura</td>\n",
       "<td>laurak</td>\n",
       "<td>LK</td>\n",
       "<td>laura.kueck@ukbonn.de</td>\n",
       "<td>Rose</td></tr><tr><td>3</td>\n",
       "<td>Krasilshchikova Natalia</td>\n",
       "<td>nataliak</td>\n",
       "<td>NK</td>\n",
       "<td> nkra1@uni-bonn.de</td>\n",
       "<td>Rose</td></tr><tr><td>4</td>\n",
       "<td>Bühler Daniel</td>\n",
       "<td>danielb</td>\n",
       "<td>DB</td>\n",
       "<td>Db247@uni-bonn.de</td>\n",
       "<td>Rose</td></tr><tr><td>5</td>\n",
       "<td>Luxem Kevin</td>\n",
       "<td>kevinl</td>\n",
       "<td>KL</td>\n",
       "<td>luxemk@uni-bonn.de</td>\n",
       "<td>Rose</td></tr><tr><td>6</td>\n",
       "<td>Jung Jisoo</td>\n",
       "<td>natashak</td>\n",
       "<td>JJ</td>\n",
       "<td>jjun1@uni-bonn.de</td>\n",
       "<td>Rose</td></tr><tr><td>7</td>\n",
       "<td>Narayanamurthy Rukhmani</td>\n",
       "<td>rukhmanin</td>\n",
       "<td>RN</td>\n",
       "<td>rnar@uni-bonn.de</td>\n",
       "<td>Rose</td></tr><tr><td>8</td>\n",
       "<td>Kremers Leon</td>\n",
       "<td>leonk</td>\n",
       "<td>LE</td>\n",
       "<td>leon.kremers@uni-bonn.de</td>\n",
       "<td>Rose</td> </tr> </tbody>\n",
       "        </table>\n",
       "        \n",
       "        <p>Total: 8</p></div>\n",
       "        "
      ],
      "text/plain": [
       "*user_id    name           shorthand     initials     email          lab     \n",
       "+---------+ +------------+ +-----------+ +----------+ +------------+ +------+\n",
       "1           Rose Tobias    tobiasr       TR           trose@uni-bonn Rose    \n",
       "2           Kück Laura     laurak        LK           laura.kueck@uk Rose    \n",
       "3           Krasilshchikov nataliak      NK            nkra1@uni-bon Rose    \n",
       "4           Bühler Daniel  danielb       DB           Db247@uni-bonn Rose    \n",
       "5           Luxem Kevin    kevinl        KL           luxemk@uni-bon Rose    \n",
       "6           Jung Jisoo     natashak      JJ           jjun1@uni-bonn Rose    \n",
       "7           Narayanamurthy rukhmanin     RN           rnar@uni-bonn. Rose    \n",
       "8           Kremers Leon   leonk         LE           leon.kremers@u Rose    \n",
       " (Total: 8)"
      ]
     },
     "execution_count": 8,
     "metadata": {},
     "output_type": "execute_result"
    }
   ],
   "source": [
    "subject.User()"
   ]
  },
  {
   "cell_type": "code",
   "execution_count": 9,
   "id": "c4759290",
   "metadata": {},
   "outputs": [
    {
     "data": {
      "text/html": [
       "\n",
       "    \n",
       "    <style type=\"text/css\">\n",
       "        .Relation{\n",
       "            border-collapse:collapse;\n",
       "        }\n",
       "        .Relation th{\n",
       "            background: #A0A0A0; color: #ffffff; padding:4px; border:#f0e0e0 1px solid;\n",
       "            font-weight: normal; font-family: monospace; font-size: 100%;\n",
       "        }\n",
       "        .Relation td{\n",
       "            padding:4px; border:#f0e0e0 1px solid; font-size:100%;\n",
       "        }\n",
       "        .Relation tr:nth-child(odd){\n",
       "            background: #ffffff;\n",
       "        }\n",
       "        .Relation tr:nth-child(even){\n",
       "            background: #f3f1ff;\n",
       "        }\n",
       "        /* Tooltip container */\n",
       "        .djtooltip {\n",
       "        }\n",
       "        /* Tooltip text */\n",
       "        .djtooltip .djtooltiptext {\n",
       "            visibility: hidden;\n",
       "            width: 120px;\n",
       "            background-color: black;\n",
       "            color: #fff;\n",
       "            text-align: center;\n",
       "            padding: 5px 0;\n",
       "            border-radius: 6px;\n",
       "            /* Position the tooltip text - see examples below! */\n",
       "            position: absolute;\n",
       "            z-index: 1;\n",
       "        }\n",
       "        #primary {\n",
       "            font-weight: bold;\n",
       "            color: black;\n",
       "        }\n",
       "        #nonprimary {\n",
       "            font-weight: normal;\n",
       "            color: white;\n",
       "        }\n",
       "\n",
       "        /* Show the tooltip text when you mouse over the tooltip container */\n",
       "        .djtooltip:hover .djtooltiptext {\n",
       "            visibility: visible;\n",
       "        }\n",
       "    </style>\n",
       "    \n",
       "    <b>Animal Subject</b>\n",
       "        <div style=\"max-height:1000px;max-width:1500px;overflow:auto;\">\n",
       "        <table border=\"1\" class=\"Relation\">\n",
       "            <thead> <tr style=\"text-align: right;\"> <th> <div class=\"djtooltip\">\n",
       "                            <p id=\"primary\">subject</p>\n",
       "                            <span class=\"djtooltiptext\">PyRat import uses this for earmark value</span>\n",
       "                        </div></th><th><div class=\"djtooltip\">\n",
       "                            <p id=\"nonprimary\">earmark</p>\n",
       "                            <span class=\"djtooltiptext\"></span>\n",
       "                        </div></th><th><div class=\"djtooltip\">\n",
       "                            <p id=\"nonprimary\">sex</p>\n",
       "                            <span class=\"djtooltiptext\">Geschlecht</span>\n",
       "                        </div></th><th><div class=\"djtooltip\">\n",
       "                            <p id=\"nonprimary\">birth_date</p>\n",
       "                            <span class=\"djtooltiptext\">Geb.</span>\n",
       "                        </div></th><th><div class=\"djtooltip\">\n",
       "                            <p id=\"nonprimary\">death_date</p>\n",
       "                            <span class=\"djtooltiptext\">Gest.</span>\n",
       "                        </div></th><th><div class=\"djtooltip\">\n",
       "                            <p id=\"nonprimary\">generation</p>\n",
       "                            <span class=\"djtooltiptext\">Generation (F2 in example sheet)</span>\n",
       "                        </div></th><th><div class=\"djtooltip\">\n",
       "                            <p id=\"nonprimary\">parent_ids</p>\n",
       "                            <span class=\"djtooltiptext\">dict of parent_sex: parent_eartag</span>\n",
       "                        </div></th><th><div class=\"djtooltip\">\n",
       "                            <p id=\"nonprimary\">owner_id</p>\n",
       "                            <span class=\"djtooltiptext\"></span>\n",
       "                        </div></th><th><div class=\"djtooltip\">\n",
       "                            <p id=\"nonprimary\">responsible_id</p>\n",
       "                            <span class=\"djtooltiptext\"></span>\n",
       "                        </div></th><th><div class=\"djtooltip\">\n",
       "                            <p id=\"nonprimary\">line</p>\n",
       "                            <span class=\"djtooltiptext\">strain_id within PyRAT. Not name_id seen in GUI</span>\n",
       "                        </div></th><th><div class=\"djtooltip\">\n",
       "                            <p id=\"nonprimary\">protocol</p>\n",
       "                            <span class=\"djtooltiptext\"></span>\n",
       "                        </div> </th> </tr> </thead>\n",
       "            <tbody> <tr> <td>ROS-1346</td>\n",
       "<td>G127</td>\n",
       "<td>M</td>\n",
       "<td>2022-01-25T00:00:00</td>\n",
       "<td>2022-07-26T11:37:03</td>\n",
       "<td>F4 a</td>\n",
       "<td>=BLOB=</td>\n",
       "<td>1</td>\n",
       "<td>2</td>\n",
       "<td>373</td>\n",
       "<td>81-02.04.2019.A192</td></tr><tr><td>ROS-1367</td>\n",
       "<td>T504</td>\n",
       "<td>M</td>\n",
       "<td>2022-03-04T00:00:00</td>\n",
       "<td>None</td>\n",
       "<td>F5 c</td>\n",
       "<td>=BLOB=</td>\n",
       "<td>1</td>\n",
       "<td>2</td>\n",
       "<td>376</td>\n",
       "<td>81-02.05.40.19.027</td></tr><tr><td>ROS-1368</td>\n",
       "<td>T523</td>\n",
       "<td>M</td>\n",
       "<td>2022-03-04T00:00:00</td>\n",
       "<td>None</td>\n",
       "<td>F5 c</td>\n",
       "<td>=BLOB=</td>\n",
       "<td>1</td>\n",
       "<td>2</td>\n",
       "<td>376</td>\n",
       "<td>81-02.05.40.19.027</td></tr><tr><td>ROS-1371</td>\n",
       "<td>T499</td>\n",
       "<td>F</td>\n",
       "<td>2022-03-04T00:00:00</td>\n",
       "<td>None</td>\n",
       "<td>F5 c</td>\n",
       "<td>=BLOB=</td>\n",
       "<td>1</td>\n",
       "<td>2</td>\n",
       "<td>376</td>\n",
       "<td>02_Zucht</td></tr><tr><td>ROS-1380</td>\n",
       "<td>T516</td>\n",
       "<td>F</td>\n",
       "<td>2022-04-12T12:09:35</td>\n",
       "<td>None</td>\n",
       "<td>F5 c</td>\n",
       "<td>=BLOB=</td>\n",
       "<td>1</td>\n",
       "<td>2</td>\n",
       "<td>376</td>\n",
       "<td>02_Zucht</td></tr><tr><td>ROS-1381</td>\n",
       "<td>T524</td>\n",
       "<td>M</td>\n",
       "<td>2022-04-12T12:09:35</td>\n",
       "<td>None</td>\n",
       "<td>F5 c</td>\n",
       "<td>=BLOB=</td>\n",
       "<td>1</td>\n",
       "<td>2</td>\n",
       "<td>376</td>\n",
       "<td>02_Zucht</td></tr><tr><td>ROS-1382</td>\n",
       "<td>T518/ 2L</td>\n",
       "<td>F</td>\n",
       "<td>2022-04-12T12:09:35</td>\n",
       "<td>None</td>\n",
       "<td>F5 c</td>\n",
       "<td>=BLOB=</td>\n",
       "<td>1</td>\n",
       "<td>2</td>\n",
       "<td>376</td>\n",
       "<td>81-02.05.40.19.027</td></tr><tr><td>ROS-1383</td>\n",
       "<td>T519</td>\n",
       "<td>M</td>\n",
       "<td>2022-04-12T12:09:35</td>\n",
       "<td>None</td>\n",
       "<td>F5 c</td>\n",
       "<td>=BLOB=</td>\n",
       "<td>1</td>\n",
       "<td>2</td>\n",
       "<td>376</td>\n",
       "<td>02_Zucht</td></tr><tr><td>ROS-1384</td>\n",
       "<td>T520/ 1R</td>\n",
       "<td>F</td>\n",
       "<td>2022-04-12T12:09:35</td>\n",
       "<td>None</td>\n",
       "<td>F5 c</td>\n",
       "<td>=BLOB=</td>\n",
       "<td>1</td>\n",
       "<td>2</td>\n",
       "<td>376</td>\n",
       "<td>81-02.05.40.19.027</td></tr><tr><td>ROS-1391</td>\n",
       "<td>001</td>\n",
       "<td>F</td>\n",
       "<td>2022-04-15T00:00:00</td>\n",
       "<td>None</td>\n",
       "<td>F1 c</td>\n",
       "<td>=BLOB=</td>\n",
       "<td>1</td>\n",
       "<td>2</td>\n",
       "<td>81</td>\n",
       "<td>02_Zucht</td></tr><tr><td>ROS-1392</td>\n",
       "<td>002</td>\n",
       "<td>F</td>\n",
       "<td>2022-04-15T00:00:00</td>\n",
       "<td>None</td>\n",
       "<td>F1 c</td>\n",
       "<td>=BLOB=</td>\n",
       "<td>1</td>\n",
       "<td>2</td>\n",
       "<td>81</td>\n",
       "<td>02_Zucht</td></tr><tr><td>ROS-1393</td>\n",
       "<td>003</td>\n",
       "<td>F</td>\n",
       "<td>2022-04-15T00:00:00</td>\n",
       "<td>None</td>\n",
       "<td>F1 c</td>\n",
       "<td>=BLOB=</td>\n",
       "<td>1</td>\n",
       "<td>2</td>\n",
       "<td>81</td>\n",
       "<td>02_Zucht</td> </tr> </tbody>\n",
       "        </table>\n",
       "        <p>...</p>\n",
       "        <p>Total: 78</p></div>\n",
       "        "
      ],
      "text/plain": [
       "*subject     earmark      sex     birth_date     death_date     generation     parent_ids owner_id     responsible_id line     protocol      \n",
       "+----------+ +----------+ +-----+ +------------+ +------------+ +------------+ +--------+ +----------+ +------------+ +------+ +------------+\n",
       "ROS-1346     G127         M       2022-01-25T00: 2022-07-26T11: F4 a           =BLOB=     1            2              373      81-02.04.2019.\n",
       "ROS-1367     T504         M       2022-03-04T00: None           F5 c           =BLOB=     1            2              376      81-02.05.40.19\n",
       "ROS-1368     T523         M       2022-03-04T00: None           F5 c           =BLOB=     1            2              376      81-02.05.40.19\n",
       "ROS-1371     T499         F       2022-03-04T00: None           F5 c           =BLOB=     1            2              376      02_Zucht      \n",
       "ROS-1380     T516         F       2022-04-12T12: None           F5 c           =BLOB=     1            2              376      02_Zucht      \n",
       "ROS-1381     T524         M       2022-04-12T12: None           F5 c           =BLOB=     1            2              376      02_Zucht      \n",
       "ROS-1382     T518/ 2L     F       2022-04-12T12: None           F5 c           =BLOB=     1            2              376      81-02.05.40.19\n",
       "ROS-1383     T519         M       2022-04-12T12: None           F5 c           =BLOB=     1            2              376      02_Zucht      \n",
       "ROS-1384     T520/ 1R     F       2022-04-12T12: None           F5 c           =BLOB=     1            2              376      81-02.05.40.19\n",
       "ROS-1391     001          F       2022-04-15T00: None           F1 c           =BLOB=     1            2              81       02_Zucht      \n",
       "ROS-1392     002          F       2022-04-15T00: None           F1 c           =BLOB=     1            2              81       02_Zucht      \n",
       "ROS-1393     003          F       2022-04-15T00: None           F1 c           =BLOB=     1            2              81       02_Zucht      \n",
       "   ...\n",
       " (Total: 78)"
      ]
     },
     "execution_count": 9,
     "metadata": {},
     "output_type": "execute_result"
    }
   ],
   "source": [
    "subject.Subject()"
   ]
  },
  {
   "cell_type": "code",
   "execution_count": null,
   "id": "24cc7a7e",
   "metadata": {},
   "outputs": [],
   "source": []
  }
 ],
 "metadata": {
  "jupytext": {
   "formats": "ipynb,py"
  },
  "kernelspec": {
   "display_name": "Python 3 (ipykernel)",
   "language": "python",
   "name": "python3"
  },
  "language_info": {
   "codemirror_mode": {
    "name": "ipython",
    "version": 3
   },
   "file_extension": ".py",
   "mimetype": "text/x-python",
   "name": "python",
   "nbconvert_exporter": "python",
   "pygments_lexer": "ipython3",
   "version": "3.8.13"
  },
  "vscode": {
   "interpreter": {
    "hash": "b6b88a8194cd92b549912c5fccf4f99c3c2f8b37389322b86781a2268700b256"
   }
  }
 },
 "nbformat": 4,
 "nbformat_minor": 5
}
