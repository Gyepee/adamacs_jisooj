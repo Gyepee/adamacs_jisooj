{
 "cells": [
  {
   "cell_type": "markdown",
   "id": "d1aa3e29-e39c-44a9-b29d-d37b73aab85d",
   "metadata": {},
   "source": [
    "# PyRAT subject ingestion"
   ]
  },
  {
   "cell_type": "markdown",
   "id": "ed2651bb-ce83-4b87-a268-98169a69309d",
   "metadata": {},
   "source": [
    "## Setup"
   ]
  },
  {
   "cell_type": "markdown",
   "id": "6e95a682-afac-4834-b6e5-0dd4886467f9",
   "metadata": {},
   "source": [
    "Using local config file (see [01_pipeline](./01_pipeline.ipynb))"
   ]
  },
  {
   "cell_type": "code",
   "execution_count": 14,
   "id": "016819d5-3623-4dce-9e8c-0410579ac69b",
   "metadata": {},
   "outputs": [],
   "source": [
    "import os\n",
    "# change to the upper level folder to detect dj_local_conf.json\n",
    "if os.path.basename(os.getcwd())=='notebooks': os.chdir('..')\n",
    "assert os.path.basename(os.getcwd())=='adamacs', (\"Please move to the main directory\")\n",
    "from adamacs.pipeline import subject\n",
    "import datajoint as dj"
   ]
  },
  {
   "cell_type": "code",
   "execution_count": 19,
   "id": "18e596e5",
   "metadata": {},
   "outputs": [
    {
     "name": "stdout",
     "output_type": "stream",
     "text": [
      "database Prefix: main_\n"
     ]
    }
   ],
   "source": [
    "db_prefix = dj.config['custom'].get('database.prefix')\n",
    "print('database Prefix:', db_prefix)"
   ]
  },
  {
   "cell_type": "markdown",
   "id": "5dd49a4c-d391-4f0e-bfe9-0930ed744e93",
   "metadata": {},
   "source": [
    "Manual entry"
   ]
  },
  {
   "cell_type": "code",
   "execution_count": null,
   "id": "183003b5-f45c-4851-80c5-34c30e808816",
   "metadata": {},
   "outputs": [],
   "source": [
    "# Manual Entry\n",
    "import datajoint as dj; import getpass\n",
    "dj.config['database.host'] = '172.26.128.53'        # Put the server name between these apostrophe\n",
    "dj.config['database.user'] = 'tobiasr'             # Put your user name between these apostrophe\n",
    "dj.config['database.password'] = getpass.getpass(prompt='Database password:')\n",
    "dj.config['custom']['pyrat_client_token'] = getpass.getpass(prompt=\"Pyrat client token:\")\n",
    "dj.config['custom']['pyrat_user_token'] = getpass.getpass(prompt=\"Pyrat user token:\")\n",
    "dj.conn()"
   ]
  },
  {
   "cell_type": "markdown",
   "id": "4c258e07-6165-4116-bec7-edc764e2170c",
   "metadata": {},
   "source": [
    "## Initial check of tables"
   ]
  },
  {
   "cell_type": "code",
   "execution_count": 2,
   "id": "75bb3517-f2f9-47ac-84fe-15c5aa1530e0",
   "metadata": {},
   "outputs": [
    {
     "name": "stderr",
     "output_type": "stream",
     "text": [
      "[2022-12-12 15:38:42,132][INFO]: Deleting 1 rows from `main_subject`.`subject_genotype`\n",
      "[2022-12-12 15:38:42,142][INFO]: Deleting 1 rows from `main_subject`.`subject`\n",
      "[2022-12-12 15:38:42,154][INFO]: Deleting 2 rows from `main_subject`.`#user`\n",
      "[2022-12-12 15:38:56,287][INFO]: Deleting 1 rows from `main_subject`.`protocol`\n"
     ]
    },
    {
     "name": "stdout",
     "output_type": "stream",
     "text": [
      "Deletes committed.\n"
     ]
    },
    {
     "name": "stderr",
     "output_type": "stream",
     "text": [
      "[2022-12-12 15:39:01,305][INFO]: Deleting 1 rows from `main_subject`.`mutation`\n",
      "[2022-12-12 15:39:01,315][INFO]: Deleting 1 rows from `main_subject`.`line`\n"
     ]
    },
    {
     "name": "stdout",
     "output_type": "stream",
     "text": [
      "Deletes committed.\n"
     ]
    },
    {
     "name": "stderr",
     "output_type": "stream",
     "text": [
      "[2022-12-12 15:39:02,739][INFO]: Deleting 0 rows from `main_subject`.`subject`\n"
     ]
    },
    {
     "name": "stdout",
     "output_type": "stream",
     "text": [
      "Deletes committed.\n",
      "Nothing to delete.\n",
      "User 0\n",
      "Protocol 0\n",
      "Line 0\n",
      "Mutation 0\n",
      "Subject 0\n",
      "SubjectGenotype 0\n"
     ]
    }
   ],
   "source": [
    "subject.User.delete(); subject.Protocol.delete()\n",
    "subject.Line.delete(); subject.Subject.delete()\n",
    "print('User', len(subject.User()))\n",
    "print('Protocol', len(subject.Protocol()))\n",
    "print('Line', len(subject.Line()))\n",
    "print('Mutation', len(subject.Mutation()))\n",
    "print('Subject', len(subject.Subject()))\n",
    "print('SubjectGenotype', len(subject.SubjectGenotype()))"
   ]
  },
  {
   "cell_type": "markdown",
   "id": "c10761a2-0304-4ea3-9af3-bb6981aae83f",
   "metadata": {},
   "source": [
    "## Automated ingestion"
   ]
  },
  {
   "cell_type": "markdown",
   "id": "b44bbdd6-536d-41e5-87b5-1820a631f1bf",
   "metadata": {},
   "source": [
    "The function is designed to list all proposed insertions and ask for a confirmation before entered into the schema."
   ]
  },
  {
   "cell_type": "code",
   "execution_count": 4,
   "id": "cc50c2bb-a03f-46b7-83f5-492d63fa0081",
   "metadata": {},
   "outputs": [
    {
     "name": "stdout",
     "output_type": "stream",
     "text": [
      "Connected\n",
      "Gathering users...\n",
      "Gathering protocols...\n",
      "Gathering lines/mutations...\n",
      "Gathering subjects...\n",
      "--- PyRAT items to be inserted ---\n",
      "User(s):  [] \n",
      "\n",
      "Protocol(s):  [] \n",
      "\n",
      "Line(s):  [] \n",
      "\n",
      "Mutation(s):  [] \n",
      "\n",
      "Subjects:  [] \n",
      "\n"
     ]
    }
   ],
   "source": [
    "from adamacs.schemas import subject\n",
    "from adamacs.ingest.pyrat import PyratIngestion\n",
    "PyratIngestion().ingest_animal(\"ROS-1371\")"
   ]
  },
  {
   "cell_type": "markdown",
   "id": "d8410737-51f6-495d-ae0c-d25fddca3503",
   "metadata": {},
   "source": [
    "This function also permits wildcards when querying [the API](https://pyrat.uniklinik-bonn.de/pyrat-test/api/v2/specification/ui#/Listing/get_animals)."
   ]
  },
  {
   "cell_type": "code",
   "execution_count": 9,
   "id": "a24dce2c",
   "metadata": {},
   "outputs": [
    {
     "name": "stdout",
     "output_type": "stream",
     "text": [
      "Connected\n",
      "Gathering users...\n",
      "Gathering protocols...\n",
      "Gathering lines/mutations...\n",
      "Gathering subjects...\n",
      "--- PyRAT items to be inserted ---\n",
      "User(s):  [] \n",
      "\n",
      "Protocol(s):  ['81-02.05.40.19.027'] \n",
      "\n",
      "Line(s):  [] \n",
      "\n",
      "Mutation(s):  [] \n",
      "\n",
      "Subjects:  ['ROS-1380', 'ROS-1381', 'ROS-1382', 'ROS-1383', 'ROS-1384'] \n",
      "\n"
     ]
    },
    {
     "ename": "MissingAttributeError",
     "evalue": "Field 'owner_id' doesn't have a default value",
     "output_type": "error",
     "traceback": [
      "\u001b[0;31m---------------------------------------------------------------------------\u001b[0m",
      "\u001b[0;31mMissingAttributeError\u001b[0m                     Traceback (most recent call last)",
      "Cell \u001b[0;32mIn [9], line 1\u001b[0m\n\u001b[0;32m----> 1\u001b[0m PyratIngestion()\u001b[39m.\u001b[39;49mingest_animal(\u001b[39m\"\u001b[39;49m\u001b[39mROS-138*\u001b[39;49m\u001b[39m\"\u001b[39;49m)\n",
      "File \u001b[0;32m~/Documents/GitHub/troselab/adamacs/adamacs/ingest/pyrat.py:203\u001b[0m, in \u001b[0;36mPyratIngestion.ingest_animal\u001b[0;34m(self, SubjectID, prompt)\u001b[0m\n\u001b[1;32m    201\u001b[0m subject\u001b[39m.\u001b[39mLine\u001b[39m.\u001b[39minsert(line_list)\n\u001b[1;32m    202\u001b[0m subject\u001b[39m.\u001b[39mMutation\u001b[39m.\u001b[39minsert(mutation_list)\n\u001b[0;32m--> 203\u001b[0m subject\u001b[39m.\u001b[39;49mSubject\u001b[39m.\u001b[39;49minsert(subject_list)\n\u001b[1;32m    204\u001b[0m subject\u001b[39m.\u001b[39mSubjectGenotype\u001b[39m.\u001b[39minsert(genotype_list)\n",
      "File \u001b[0;32m~/opt/miniconda3/envs/datajoint/lib/python3.8/site-packages/datajoint/table.py:430\u001b[0m, in \u001b[0;36mTable.insert\u001b[0;34m(self, rows, replace, skip_duplicates, ignore_extra_fields, allow_direct_insert)\u001b[0m\n\u001b[1;32m    414\u001b[0m \u001b[39mtry\u001b[39;00m:\n\u001b[1;32m    415\u001b[0m     query \u001b[39m=\u001b[39m \u001b[39m\"\u001b[39m\u001b[39m{command}\u001b[39;00m\u001b[39m INTO \u001b[39m\u001b[39m{destination}\u001b[39;00m\u001b[39m(`\u001b[39m\u001b[39m{fields}\u001b[39;00m\u001b[39m`) VALUES \u001b[39m\u001b[39m{placeholders}\u001b[39;00m\u001b[39m{duplicate}\u001b[39;00m\u001b[39m\"\u001b[39m\u001b[39m.\u001b[39mformat(\n\u001b[1;32m    416\u001b[0m         command\u001b[39m=\u001b[39m\u001b[39m\"\u001b[39m\u001b[39mREPLACE\u001b[39m\u001b[39m\"\u001b[39m \u001b[39mif\u001b[39;00m replace \u001b[39melse\u001b[39;00m \u001b[39m\"\u001b[39m\u001b[39mINSERT\u001b[39m\u001b[39m\"\u001b[39m,\n\u001b[1;32m    417\u001b[0m         destination\u001b[39m=\u001b[39m\u001b[39mself\u001b[39m\u001b[39m.\u001b[39mfrom_clause(),\n\u001b[0;32m   (...)\u001b[0m\n\u001b[1;32m    428\u001b[0m         ),\n\u001b[1;32m    429\u001b[0m     )\n\u001b[0;32m--> 430\u001b[0m     \u001b[39mself\u001b[39;49m\u001b[39m.\u001b[39;49mconnection\u001b[39m.\u001b[39;49mquery(\n\u001b[1;32m    431\u001b[0m         query,\n\u001b[1;32m    432\u001b[0m         args\u001b[39m=\u001b[39;49m\u001b[39mlist\u001b[39;49m(\n\u001b[1;32m    433\u001b[0m             itertools\u001b[39m.\u001b[39;49mchain\u001b[39m.\u001b[39;49mfrom_iterable(\n\u001b[1;32m    434\u001b[0m                 (v \u001b[39mfor\u001b[39;49;00m v \u001b[39min\u001b[39;49;00m r[\u001b[39m\"\u001b[39;49m\u001b[39mvalues\u001b[39;49m\u001b[39m\"\u001b[39;49m] \u001b[39mif\u001b[39;49;00m v \u001b[39mis\u001b[39;49;00m \u001b[39mnot\u001b[39;49;00m \u001b[39mNone\u001b[39;49;00m) \u001b[39mfor\u001b[39;49;00m r \u001b[39min\u001b[39;49;00m rows\n\u001b[1;32m    435\u001b[0m             )\n\u001b[1;32m    436\u001b[0m         ),\n\u001b[1;32m    437\u001b[0m     )\n\u001b[1;32m    438\u001b[0m \u001b[39mexcept\u001b[39;00m UnknownAttributeError \u001b[39mas\u001b[39;00m err:\n\u001b[1;32m    439\u001b[0m     \u001b[39mraise\u001b[39;00m err\u001b[39m.\u001b[39msuggest(\n\u001b[1;32m    440\u001b[0m         \u001b[39m\"\u001b[39m\u001b[39mTo ignore extra fields in insert, set ignore_extra_fields=True\u001b[39m\u001b[39m\"\u001b[39m\n\u001b[1;32m    441\u001b[0m     )\n",
      "File \u001b[0;32m~/opt/miniconda3/envs/datajoint/lib/python3.8/site-packages/datajoint/connection.py:340\u001b[0m, in \u001b[0;36mConnection.query\u001b[0;34m(self, query, args, as_dict, suppress_warnings, reconnect)\u001b[0m\n\u001b[1;32m    338\u001b[0m cursor \u001b[39m=\u001b[39m \u001b[39mself\u001b[39m\u001b[39m.\u001b[39m_conn\u001b[39m.\u001b[39mcursor(cursor\u001b[39m=\u001b[39mcursor_class)\n\u001b[1;32m    339\u001b[0m \u001b[39mtry\u001b[39;00m:\n\u001b[0;32m--> 340\u001b[0m     \u001b[39mself\u001b[39;49m\u001b[39m.\u001b[39;49m_execute_query(cursor, query, args, suppress_warnings)\n\u001b[1;32m    341\u001b[0m \u001b[39mexcept\u001b[39;00m errors\u001b[39m.\u001b[39mLostConnectionError:\n\u001b[1;32m    342\u001b[0m     \u001b[39mif\u001b[39;00m \u001b[39mnot\u001b[39;00m reconnect:\n",
      "File \u001b[0;32m~/opt/miniconda3/envs/datajoint/lib/python3.8/site-packages/datajoint/connection.py:296\u001b[0m, in \u001b[0;36mConnection._execute_query\u001b[0;34m(cursor, query, args, suppress_warnings)\u001b[0m\n\u001b[1;32m    294\u001b[0m         cursor\u001b[39m.\u001b[39mexecute(query, args)\n\u001b[1;32m    295\u001b[0m \u001b[39mexcept\u001b[39;00m client\u001b[39m.\u001b[39merr\u001b[39m.\u001b[39mError \u001b[39mas\u001b[39;00m err:\n\u001b[0;32m--> 296\u001b[0m     \u001b[39mraise\u001b[39;00m translate_query_error(err, query)\n",
      "\u001b[0;31mMissingAttributeError\u001b[0m: Field 'owner_id' doesn't have a default value"
     ]
    }
   ],
   "source": [
    "PyratIngestion().ingest_animal(\"ROS-138*\")"
   ]
  },
  {
   "cell_type": "markdown",
   "id": "d4c5e1bf-1808-411f-a192-ff0881ebff84",
   "metadata": {},
   "source": [
    "## Confirm entry"
   ]
  },
  {
   "cell_type": "code",
   "execution_count": 5,
   "id": "a0d7be9c-e166-41cf-a04f-99cea903378d",
   "metadata": {},
   "outputs": [
    {
     "name": "stdout",
     "output_type": "stream",
     "text": [
      "User 2\n",
      "Protocol 3\n",
      "Line 2\n",
      "Mutation 1\n",
      "Subject 5\n",
      "SubjectGenotype 1\n"
     ]
    }
   ],
   "source": [
    "print('User', len(subject.User()))\n",
    "print('Protocol', len(subject.Protocol()))\n",
    "print('Line', len(subject.Line()))\n",
    "print('Mutation', len(subject.Mutation()))\n",
    "print('Subject', len(subject.Subject()))\n",
    "print('SubjectGenotype', len(subject.SubjectGenotype()))"
   ]
  },
  {
   "cell_type": "code",
   "execution_count": null,
   "id": "c25e941a-517e-4997-8ee4-7e2029a3bb09",
   "metadata": {},
   "outputs": [],
   "source": []
  }
 ],
 "metadata": {
  "jupytext": {
   "formats": "ipynb,py"
  },
  "kernelspec": {
   "display_name": "datajoint",
   "language": "python",
   "name": "python3"
  },
  "language_info": {
   "codemirror_mode": {
    "name": "ipython",
    "version": 3
   },
   "file_extension": ".py",
   "mimetype": "text/x-python",
   "name": "python",
   "nbconvert_exporter": "python",
   "pygments_lexer": "ipython3",
   "version": "3.8.13"
  },
  "vscode": {
   "interpreter": {
    "hash": "b6b88a8194cd92b549912c5fccf4f99c3c2f8b37389322b86781a2268700b256"
   }
  }
 },
 "nbformat": 4,
 "nbformat_minor": 5
}
