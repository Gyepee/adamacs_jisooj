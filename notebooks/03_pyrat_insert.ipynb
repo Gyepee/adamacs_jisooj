{
 "cells": [
  {
   "cell_type": "markdown",
   "id": "d1aa3e29-e39c-44a9-b29d-d37b73aab85d",
   "metadata": {},
   "source": [
    "# PyRAT subject ingestion"
   ]
  },
  {
   "cell_type": "markdown",
   "id": "ed2651bb-ce83-4b87-a268-98169a69309d",
   "metadata": {},
   "source": [
    "## Setup"
   ]
  },
  {
   "cell_type": "markdown",
   "id": "6e95a682-afac-4834-b6e5-0dd4886467f9",
   "metadata": {},
   "source": [
    "Using local config file (see [01_pipeline](./01_pipeline.ipynb))"
   ]
  },
  {
   "cell_type": "code",
   "execution_count": 1,
   "id": "016819d5-3623-4dce-9e8c-0410579ac69b",
   "metadata": {},
   "outputs": [
    {
     "name": "stderr",
     "output_type": "stream",
     "text": [
      "[2023-01-16 19:00:06,346][INFO]: Connecting tobiasr@172.26.128.53:3306\n",
      "[2023-01-16 19:00:06,421][INFO]: Connected tobiasr@172.26.128.53:3306\n"
     ]
    }
   ],
   "source": [
    "import os\n",
    "# change to the upper level folder to detect dj_local_conf.json\n",
    "if os.path.basename(os.getcwd())=='notebooks': os.chdir('..')\n",
    "assert os.path.basename(os.getcwd())=='adamacs', (\"Please move to the main directory\")\n",
    "from adamacs.pipeline import subject, session\n",
    "import datajoint as dj"
   ]
  },
  {
   "cell_type": "code",
   "execution_count": null,
   "id": "18e596e5",
   "metadata": {},
   "outputs": [],
   "source": [
    "db_prefix = dj.config['custom'].get('database.prefix')\n",
    "print('database Prefix:', db_prefix)"
   ]
  },
  {
   "cell_type": "markdown",
   "id": "5dd49a4c-d391-4f0e-bfe9-0930ed744e93",
   "metadata": {},
   "source": [
    "Manual entry"
   ]
  },
  {
   "cell_type": "code",
   "execution_count": null,
   "id": "183003b5-f45c-4851-80c5-34c30e808816",
   "metadata": {},
   "outputs": [],
   "source": [
    "# Manual Entry\n",
    "import datajoint as dj; import getpass\n",
    "dj.config['database.host'] = '172.26.128.53'        # Put the server name between these apostrophe\n",
    "dj.config['database.user'] = 'tobiasr'             # Put your user name between these apostrophe\n",
    "dj.config['database.password'] = getpass.getpass(prompt='Database password:')\n",
    "dj.config['custom']['pyrat_client_token'] = getpass.getpass(prompt=\"Pyrat client token:\")\n",
    "dj.config['custom']['pyrat_user_token'] = getpass.getpass(prompt=\"Pyrat user token:\")\n",
    "dj.conn()"
   ]
  },
  {
   "cell_type": "markdown",
   "id": "4c258e07-6165-4116-bec7-edc764e2170c",
   "metadata": {},
   "source": [
    "## Initial check of tables"
   ]
  },
  {
   "cell_type": "code",
   "execution_count": 2,
   "id": "75bb3517-f2f9-47ac-84fe-15c5aa1530e0",
   "metadata": {},
   "outputs": [
    {
     "name": "stdout",
     "output_type": "stream",
     "text": [
      "User 8\n",
      "Protocol 3\n",
      "Line 2\n",
      "Mutation 2\n",
      "Subject 2\n",
      "SubjectGenotype 2\n"
     ]
    }
   ],
   "source": [
    "# subject.User.delete(); \n",
    "# subject.Protocol.delete()\n",
    "# subject.Line.delete(); \n",
    "# subject.Subject.delete()\n",
    "print('User', len(subject.User()))\n",
    "print('Protocol', len(subject.Protocol()))\n",
    "print('Line', len(subject.Line()))\n",
    "print('Mutation', len(subject.Mutation()))\n",
    "print('Subject', len(subject.Subject()))\n",
    "print('SubjectGenotype', len(subject.SubjectGenotype()))"
   ]
  },
  {
   "cell_type": "code",
   "execution_count": null,
   "id": "9d52072e",
   "metadata": {},
   "outputs": [],
   "source": [
    "subject.User()\n"
   ]
  },
  {
   "cell_type": "markdown",
   "id": "c10761a2-0304-4ea3-9af3-bb6981aae83f",
   "metadata": {},
   "source": [
    "## Automated ingestion"
   ]
  },
  {
   "cell_type": "markdown",
   "id": "b44bbdd6-536d-41e5-87b5-1820a631f1bf",
   "metadata": {},
   "source": [
    "The function is designed to list all proposed insertions and ask for a confirmation before entered into the schema."
   ]
  },
  {
   "cell_type": "code",
   "execution_count": 4,
   "id": "cc50c2bb-a03f-46b7-83f5-492d63fa0081",
   "metadata": {},
   "outputs": [],
   "source": [
    "from adamacs.schemas import subject\n",
    "from adamacs.ingest.pyrat import PyratIngestion\n"
   ]
  },
  {
   "cell_type": "code",
   "execution_count": null,
   "id": "9d569a74",
   "metadata": {},
   "outputs": [],
   "source": [
    "# PyratIngestion().ingest_ani\n",
    "# mal(\"ROS-1483\")\n",
    "PyratIngestion().ingest_animal(\"WEZ*\")"
   ]
  },
  {
   "cell_type": "markdown",
   "id": "d8410737-51f6-495d-ae0c-d25fddca3503",
   "metadata": {},
   "source": [
    "This function also permits wildcards when querying [the API](https://pyrat.uniklinik-bonn.de/pyrat-test/api/v2/specification/ui#/Listing/get_animals)."
   ]
  },
  {
   "cell_type": "code",
   "execution_count": 5,
   "id": "a24dce2c",
   "metadata": {},
   "outputs": [
    {
     "name": "stdout",
     "output_type": "stream",
     "text": [
      "Connected\n",
      "Found no live entries for WEZ-8701. Testing sacrificed.\n",
      "Gathering users...\n",
      "Gathering protocols...\n",
      "Gathering lines/mutations...\n",
      "Gathering subjects...\n",
      "--- PyRAT items to be inserted ---\n",
      "User(s):  [] \n",
      "\n",
      "Protocol(s):  [] \n",
      "\n",
      "Line(s):  [] \n",
      "\n",
      "Mutation(s):  [] \n",
      "\n",
      "Subjects:  [] \n",
      "\n"
     ]
    }
   ],
   "source": [
    "PyratIngestion().ingest_animal(\"WEZ-8701\")"
   ]
  },
  {
   "cell_type": "code",
   "execution_count": null,
   "id": "a24dce2c",
   "metadata": {},
   "outputs": [],
   "source": [
    "PyratIngestion().ingest_animal(\"ROS-1438\")"
   ]
  },
  {
   "cell_type": "markdown",
   "id": "d4c5e1bf-1808-411f-a192-ff0881ebff84",
   "metadata": {},
   "source": [
    "## Confirm entry"
   ]
  },
  {
   "cell_type": "code",
   "execution_count": null,
   "id": "a0d7be9c-e166-41cf-a04f-99cea903378d",
   "metadata": {},
   "outputs": [],
   "source": [
    "print('User', len(subject.User()))\n",
    "print('Protocol', len(subject.Protocol()))\n",
    "print('Line', len(subject.Line()))\n",
    "print('Mutation', len(subject.Mutation()))\n",
    "print('Subject', len(subject.Subject()))\n",
    "print('SubjectGenotype', len(subject.SubjectGenotype()))"
   ]
  },
  {
   "cell_type": "code",
   "execution_count": 6,
   "id": "52e3631d",
   "metadata": {},
   "outputs": [
    {
     "data": {
      "text/html": [
       "\n",
       "    \n",
       "    <style type=\"text/css\">\n",
       "        .Relation{\n",
       "            border-collapse:collapse;\n",
       "        }\n",
       "        .Relation th{\n",
       "            background: #A0A0A0; color: #ffffff; padding:4px; border:#f0e0e0 1px solid;\n",
       "            font-weight: normal; font-family: monospace; font-size: 100%;\n",
       "        }\n",
       "        .Relation td{\n",
       "            padding:4px; border:#f0e0e0 1px solid; font-size:100%;\n",
       "        }\n",
       "        .Relation tr:nth-child(odd){\n",
       "            background: #ffffff;\n",
       "        }\n",
       "        .Relation tr:nth-child(even){\n",
       "            background: #f3f1ff;\n",
       "        }\n",
       "        /* Tooltip container */\n",
       "        .djtooltip {\n",
       "        }\n",
       "        /* Tooltip text */\n",
       "        .djtooltip .djtooltiptext {\n",
       "            visibility: hidden;\n",
       "            width: 120px;\n",
       "            background-color: black;\n",
       "            color: #fff;\n",
       "            text-align: center;\n",
       "            padding: 5px 0;\n",
       "            border-radius: 6px;\n",
       "            /* Position the tooltip text - see examples below! */\n",
       "            position: absolute;\n",
       "            z-index: 1;\n",
       "        }\n",
       "        #primary {\n",
       "            font-weight: bold;\n",
       "            color: black;\n",
       "        }\n",
       "        #nonprimary {\n",
       "            font-weight: normal;\n",
       "            color: white;\n",
       "        }\n",
       "\n",
       "        /* Show the tooltip text when you mouse over the tooltip container */\n",
       "        .djtooltip:hover .djtooltiptext {\n",
       "            visibility: visible;\n",
       "        }\n",
       "    </style>\n",
       "    \n",
       "    <b></b>\n",
       "        <div style=\"max-height:1000px;max-width:1500px;overflow:auto;\">\n",
       "        <table border=\"1\" class=\"Relation\">\n",
       "            <thead> <tr style=\"text-align: right;\"> <th> <div class=\"djtooltip\">\n",
       "                            <p id=\"primary\">user_id</p>\n",
       "                            <span class=\"djtooltiptext\"></span>\n",
       "                        </div></th><th><div class=\"djtooltip\">\n",
       "                            <p id=\"nonprimary\">name</p>\n",
       "                            <span class=\"djtooltiptext\"></span>\n",
       "                        </div></th><th><div class=\"djtooltip\">\n",
       "                            <p id=\"nonprimary\">shorthand</p>\n",
       "                            <span class=\"djtooltiptext\">TR: added name_FirstInitialSurname shorthand</span>\n",
       "                        </div></th><th><div class=\"djtooltip\">\n",
       "                            <p id=\"nonprimary\">initials</p>\n",
       "                            <span class=\"djtooltiptext\">Update after pyrat ingestion</span>\n",
       "                        </div></th><th><div class=\"djtooltip\">\n",
       "                            <p id=\"nonprimary\">email</p>\n",
       "                            <span class=\"djtooltiptext\">TR: for completeness' sake also email</span>\n",
       "                        </div></th><th><div class=\"djtooltip\">\n",
       "                            <p id=\"nonprimary\">lab</p>\n",
       "                            <span class=\"djtooltiptext\">short lab name, pyrat labid</span>\n",
       "                        </div> </th> </tr> </thead>\n",
       "            <tbody> <tr> <td>1</td>\n",
       "<td>Rose Tobias</td>\n",
       "<td>tobiasr</td>\n",
       "<td>TR</td>\n",
       "<td>trose@uni-bonn.de</td>\n",
       "<td>Rose</td></tr><tr><td>2</td>\n",
       "<td>Kück Laura</td>\n",
       "<td>laurak</td>\n",
       "<td>LK</td>\n",
       "<td>laura.kueck@ukbonn.de</td>\n",
       "<td>Rose</td></tr><tr><td>3</td>\n",
       "<td>Krasilshchikova Natalia</td>\n",
       "<td>nataliak</td>\n",
       "<td>NK</td>\n",
       "<td> nkra1@uni-bonn.de</td>\n",
       "<td>Rose</td></tr><tr><td>4</td>\n",
       "<td>Bühler Daniel</td>\n",
       "<td>danielb</td>\n",
       "<td>DB</td>\n",
       "<td>Db247@uni-bonn.de</td>\n",
       "<td>Rose</td></tr><tr><td>5</td>\n",
       "<td>Luxem Kevin</td>\n",
       "<td>kevinl</td>\n",
       "<td>KL</td>\n",
       "<td>luxemk@uni-bonn.de</td>\n",
       "<td>Rose</td></tr><tr><td>6</td>\n",
       "<td>Jung Jisoo</td>\n",
       "<td>jisooj</td>\n",
       "<td>JJ</td>\n",
       "<td>jjun1@uni-bonn.de</td>\n",
       "<td>Rose</td></tr><tr><td>7</td>\n",
       "<td>Narayanamurthy Rukhmani</td>\n",
       "<td>rukhun</td>\n",
       "<td>RN</td>\n",
       "<td>rnar@uni-bonn.de</td>\n",
       "<td>Rose</td></tr><tr><td>8</td>\n",
       "<td>Kremers Leon</td>\n",
       "<td>leonk</td>\n",
       "<td>LE</td>\n",
       "<td>leon.kremers@uni-bonn.de</td>\n",
       "<td>Rose</td> </tr> </tbody>\n",
       "        </table>\n",
       "        \n",
       "        <p>Total: 8</p></div>\n",
       "        "
      ],
      "text/plain": [
       "*user_id    name           shorthand     initials     email          lab     \n",
       "+---------+ +------------+ +-----------+ +----------+ +------------+ +------+\n",
       "1           Rose Tobias    tobiasr       TR           trose@uni-bonn Rose    \n",
       "2           Kück Laura     laurak        LK           laura.kueck@uk Rose    \n",
       "3           Krasilshchikov nataliak      NK            nkra1@uni-bon Rose    \n",
       "4           Bühler Daniel  danielb       DB           Db247@uni-bonn Rose    \n",
       "5           Luxem Kevin    kevinl        KL           luxemk@uni-bon Rose    \n",
       "6           Jung Jisoo     jisooj        JJ           jjun1@uni-bonn Rose    \n",
       "7           Narayanamurthy rukhun        RN           rnar@uni-bonn. Rose    \n",
       "8           Kremers Leon   leonk         LE           leon.kremers@u Rose    \n",
       " (Total: 8)"
      ]
     },
     "execution_count": 6,
     "metadata": {},
     "output_type": "execute_result"
    }
   ],
   "source": [
    "subject.User()"
   ]
  },
  {
   "cell_type": "code",
   "execution_count": 7,
   "id": "c4759290",
   "metadata": {},
   "outputs": [],
   "source": [
    "p = subject.Subject()\n"
   ]
  },
  {
   "cell_type": "code",
   "execution_count": 8,
   "id": "d0a147c4",
   "metadata": {},
   "outputs": [
    {
     "name": "stdout",
     "output_type": "stream",
     "text": [
      "*subject     earmark     sex     birth_date     death_date     generation     parent_ids owner_id     responsible_id line     protocol      \n",
      "+----------+ +---------+ +-----+ +------------+ +------------+ +------------+ +--------+ +----------+ +------------+ +------+ +------------+\n",
      "ROS-1438     G152        M       2022-06-22T13: 2022-12-07T14:                =BLOB=     1            2              373      81-02.04.2019.\n",
      "WEZ-8701     T453        M       2021-10-19T00: 2022-09-19T19:                =BLOB=     1            2              376      01_Organentnah\n",
      " (Total: 2)\n",
      "\n"
     ]
    }
   ],
   "source": [
    "print(p)"
   ]
  },
  {
   "cell_type": "code",
   "execution_count": null,
   "id": "24cc7a7e",
   "metadata": {},
   "outputs": [],
   "source": [
    "query = subject.Subject() & 'subject = \"WEZ-8701\"'\n",
    "l = subject.Subject.fetch('death_date').tolist"
   ]
  },
  {
   "cell_type": "code",
   "execution_count": null,
   "id": "d2dd8019",
   "metadata": {},
   "outputs": [],
   "source": [
    "print(l())"
   ]
  },
  {
   "cell_type": "code",
   "execution_count": null,
   "id": "b0eb8fd1",
   "metadata": {},
   "outputs": [],
   "source": [
    "l"
   ]
  },
  {
   "cell_type": "code",
   "execution_count": null,
   "id": "307c6eaa",
   "metadata": {},
   "outputs": [],
   "source": [
    "l['subject']"
   ]
  },
  {
   "cell_type": "code",
   "execution_count": null,
   "id": "8135bff7",
   "metadata": {},
   "outputs": [],
   "source": [
    "l()[0]\n"
   ]
  },
  {
   "cell_type": "code",
   "execution_count": null,
   "id": "ac6baecd",
   "metadata": {},
   "outputs": [],
   "source": []
  }
 ],
 "metadata": {
  "jupytext": {
   "formats": "ipynb,py"
  },
  "kernelspec": {
   "display_name": "datajoint",
   "language": "python",
   "name": "python3"
  },
  "language_info": {
   "codemirror_mode": {
    "name": "ipython",
    "version": 3
   },
   "file_extension": ".py",
   "mimetype": "text/x-python",
   "name": "python",
   "nbconvert_exporter": "python",
   "pygments_lexer": "ipython3",
   "version": "3.8.15"
  },
  "vscode": {
   "interpreter": {
    "hash": "b6b88a8194cd92b549912c5fccf4f99c3c2f8b37389322b86781a2268700b256"
   }
  }
 },
 "nbformat": 4,
 "nbformat_minor": 5
}
