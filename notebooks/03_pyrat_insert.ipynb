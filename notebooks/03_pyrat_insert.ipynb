{
 "cells": [
  {
   "cell_type": "markdown",
   "id": "d1aa3e29-e39c-44a9-b29d-d37b73aab85d",
   "metadata": {},
   "source": [
    "# PyRAT subject ingestion"
   ]
  },
  {
   "cell_type": "markdown",
   "id": "ed2651bb-ce83-4b87-a268-98169a69309d",
   "metadata": {},
   "source": [
    "## Setup"
   ]
  },
  {
   "cell_type": "markdown",
   "id": "6e95a682-afac-4834-b6e5-0dd4886467f9",
   "metadata": {},
   "source": [
    "Using local config file (see [01_pipeline](./01_pipeline.ipynb))"
   ]
  },
  {
   "cell_type": "code",
   "execution_count": 1,
   "id": "016819d5-3623-4dce-9e8c-0410579ac69b",
   "metadata": {},
   "outputs": [
    {
     "name": "stderr",
     "output_type": "stream",
     "text": [
      "[2023-01-16 16:38:11,294][INFO]: Connecting tobiasr@172.26.128.53:3306\n",
      "[2023-01-16 16:38:11,335][INFO]: Connected tobiasr@172.26.128.53:3306\n",
      "2023-01-16 16:38:11.462412: W tensorflow/stream_executor/platform/default/dso_loader.cc:64] Could not load dynamic library 'libcudart.so.11.0'; dlerror: libcudart.so.11.0: cannot open shared object file: No such file or directory\n",
      "2023-01-16 16:38:11.462436: I tensorflow/stream_executor/cuda/cudart_stub.cc:29] Ignore above cudart dlerror if you do not have a GPU set up on your machine.\n"
     ]
    },
    {
     "name": "stdout",
     "output_type": "stream",
     "text": [
      "Loading DLC 2.2.1.1...\n"
     ]
    },
    {
     "name": "stderr",
     "output_type": "stream",
     "text": [
      "/home/tobiasr/anaconda3/envs/datajoint/lib/python3.8/site-packages/statsmodels/compat/pandas.py:65: FutureWarning: pandas.Int64Index is deprecated and will be removed from pandas in a future version. Use pandas.Index with the appropriate dtype instead.\n",
      "  from pandas import Int64Index as NumericIndex\n"
     ]
    },
    {
     "name": "stdout",
     "output_type": "stream",
     "text": [
      "DLC loaded in light mode; you cannot use any GUI (labeling, relabeling and standalone GUI)\n"
     ]
    }
   ],
   "source": [
    "import os\n",
    "# change to the upper level folder to detect dj_local_conf.json\n",
    "if os.path.basename(os.getcwd())=='notebooks': os.chdir('..')\n",
    "assert os.path.basename(os.getcwd())=='adamacs', (\"Please move to the main directory\")\n",
    "from adamacs.pipeline import subject, session\n",
    "import datajoint as dj"
   ]
  },
  {
   "cell_type": "code",
   "execution_count": null,
   "id": "18e596e5",
   "metadata": {},
   "outputs": [],
   "source": [
    "db_prefix = dj.config['custom'].get('database.prefix')\n",
    "print('database Prefix:', db_prefix)"
   ]
  },
  {
   "cell_type": "markdown",
   "id": "5dd49a4c-d391-4f0e-bfe9-0930ed744e93",
   "metadata": {},
   "source": [
    "Manual entry"
   ]
  },
  {
   "cell_type": "code",
   "execution_count": null,
   "id": "183003b5-f45c-4851-80c5-34c30e808816",
   "metadata": {},
   "outputs": [],
   "source": [
    "# Manual Entry\n",
    "import datajoint as dj; import getpass\n",
    "dj.config['database.host'] = '172.26.128.53'        # Put the server name between these apostrophe\n",
    "dj.config['database.user'] = 'tobiasr'             # Put your user name between these apostrophe\n",
    "dj.config['database.password'] = getpass.getpass(prompt='Database password:')\n",
    "dj.config['custom']['pyrat_client_token'] = getpass.getpass(prompt=\"Pyrat client token:\")\n",
    "dj.config['custom']['pyrat_user_token'] = getpass.getpass(prompt=\"Pyrat user token:\")\n",
    "dj.conn()"
   ]
  },
  {
   "cell_type": "markdown",
   "id": "4c258e07-6165-4116-bec7-edc764e2170c",
   "metadata": {},
   "source": [
    "## Initial check of tables"
   ]
  },
  {
   "cell_type": "code",
   "execution_count": 2,
   "id": "75bb3517-f2f9-47ac-84fe-15c5aa1530e0",
   "metadata": {},
   "outputs": [
    {
     "name": "stdout",
     "output_type": "stream",
     "text": [
      "User 8\n",
      "Protocol 2\n",
      "Line 2\n",
      "Mutation 2\n",
      "Subject 2\n",
      "SubjectGenotype 2\n"
     ]
    }
   ],
   "source": [
    "# subject.User.delete(); \n",
    "# subject.Protocol.delete()\n",
    "# subject.Line.delete(); \n",
    "# subject.Subject.delete()\n",
    "print('User', len(subject.User()))\n",
    "print('Protocol', len(subject.Protocol()))\n",
    "print('Line', len(subject.Line()))\n",
    "print('Mutation', len(subject.Mutation()))\n",
    "print('Subject', len(subject.Subject()))\n",
    "print('SubjectGenotype', len(subject.SubjectGenotype()))"
   ]
  },
  {
   "cell_type": "code",
   "execution_count": null,
   "id": "9d52072e",
   "metadata": {},
   "outputs": [],
   "source": [
    "subject.User()\n"
   ]
  },
  {
   "cell_type": "markdown",
   "id": "c10761a2-0304-4ea3-9af3-bb6981aae83f",
   "metadata": {},
   "source": [
    "## Automated ingestion"
   ]
  },
  {
   "cell_type": "markdown",
   "id": "b44bbdd6-536d-41e5-87b5-1820a631f1bf",
   "metadata": {},
   "source": [
    "The function is designed to list all proposed insertions and ask for a confirmation before entered into the schema."
   ]
  },
  {
   "cell_type": "code",
   "execution_count": 3,
   "id": "cc50c2bb-a03f-46b7-83f5-492d63fa0081",
   "metadata": {},
   "outputs": [],
   "source": [
    "from adamacs.schemas import subject\n",
    "from adamacs.ingest.pyrat import PyratIngestion\n"
   ]
  },
  {
   "cell_type": "code",
   "execution_count": null,
   "id": "9d569a74",
   "metadata": {},
   "outputs": [],
   "source": [
    "# PyratIngestion().ingest_ani\n",
    "# mal(\"ROS-1483\")\n",
    "PyratIngestion().ingest_animal(\"WEZ*\")"
   ]
  },
  {
   "cell_type": "markdown",
   "id": "d8410737-51f6-495d-ae0c-d25fddca3503",
   "metadata": {},
   "source": [
    "This function also permits wildcards when querying [the API](https://pyrat.uniklinik-bonn.de/pyrat-test/api/v2/specification/ui#/Listing/get_animals)."
   ]
  },
  {
   "cell_type": "code",
   "execution_count": null,
   "id": "a24dce2c",
   "metadata": {},
   "outputs": [],
   "source": [
    "PyratIngestion().ingest_animal(\"WEZ-8701\")"
   ]
  },
  {
   "cell_type": "code",
   "execution_count": null,
   "id": "a24dce2c",
   "metadata": {},
   "outputs": [],
   "source": [
    "PyratIngestion().ingest_animal(\"ROS-1438\")"
   ]
  },
  {
   "cell_type": "markdown",
   "id": "d4c5e1bf-1808-411f-a192-ff0881ebff84",
   "metadata": {},
   "source": [
    "## Confirm entry"
   ]
  },
  {
   "cell_type": "code",
   "execution_count": null,
   "id": "a0d7be9c-e166-41cf-a04f-99cea903378d",
   "metadata": {},
   "outputs": [],
   "source": [
    "print('User', len(subject.User()))\n",
    "print('Protocol', len(subject.Protocol()))\n",
    "print('Line', len(subject.Line()))\n",
    "print('Mutation', len(subject.Mutation()))\n",
    "print('Subject', len(subject.Subject()))\n",
    "print('SubjectGenotype', len(subject.SubjectGenotype()))"
   ]
  },
  {
   "cell_type": "code",
   "execution_count": null,
   "id": "52e3631d",
   "metadata": {},
   "outputs": [],
   "source": [
    "subject.User()"
   ]
  },
  {
   "cell_type": "code",
   "execution_count": null,
   "id": "c4759290",
   "metadata": {},
   "outputs": [],
   "source": [
    "p = subject.Subject()\n"
   ]
  },
  {
   "cell_type": "code",
   "execution_count": null,
   "id": "d0a147c4",
   "metadata": {},
   "outputs": [],
   "source": [
    "print(p)"
   ]
  },
  {
   "cell_type": "code",
   "execution_count": null,
   "id": "24cc7a7e",
   "metadata": {},
   "outputs": [],
   "source": [
    "query = subject.Subject() & 'subject = \"WEZ-8701\"'\n",
    "l = subject.Subject.fetch('death_date').tolist"
   ]
  },
  {
   "cell_type": "code",
   "execution_count": null,
   "id": "d2dd8019",
   "metadata": {},
   "outputs": [],
   "source": [
    "print(l())"
   ]
  },
  {
   "cell_type": "code",
   "execution_count": null,
   "id": "b0eb8fd1",
   "metadata": {},
   "outputs": [],
   "source": [
    "l"
   ]
  },
  {
   "cell_type": "code",
   "execution_count": null,
   "id": "307c6eaa",
   "metadata": {},
   "outputs": [],
   "source": [
    "l['subject']"
   ]
  },
  {
   "cell_type": "code",
   "execution_count": null,
   "id": "8135bff7",
   "metadata": {},
   "outputs": [],
   "source": [
    "l()[0]\n"
   ]
  },
  {
   "cell_type": "code",
   "execution_count": null,
   "id": "ac6baecd",
   "metadata": {},
   "outputs": [],
   "source": []
  }
 ],
 "metadata": {
  "jupytext": {
   "formats": "ipynb,py"
  },
  "kernelspec": {
   "display_name": "datajoint",
   "language": "python",
   "name": "python3"
  },
  "language_info": {
   "codemirror_mode": {
    "name": "ipython",
    "version": 3
   },
   "file_extension": ".py",
   "mimetype": "text/x-python",
   "name": "python",
   "nbconvert_exporter": "python",
   "pygments_lexer": "ipython3",
   "version": "3.8.15"
  },
  "vscode": {
   "interpreter": {
    "hash": "bd7f39a125d9af0c5f94f12aa24bfe519be4db914ef815626e6471f370755b2f"
   }
  }
 },
 "nbformat": 4,
 "nbformat_minor": 5
}
