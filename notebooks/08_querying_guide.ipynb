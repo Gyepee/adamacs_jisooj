{
 "cells": [
  {
   "cell_type": "markdown",
   "id": "174ea219",
   "metadata": {},
   "source": [
    "# Querying Guide"
   ]
  },
  {
   "cell_type": "markdown",
   "id": "ccd94378",
   "metadata": {},
   "source": [
    "Database access with config file:"
   ]
  },
  {
   "cell_type": "code",
   "execution_count": null,
   "id": "a198b070",
   "metadata": {},
   "outputs": [],
   "source": [
    "import os\n",
    "# change to the upper level folder to detect dj_local_conf.json\n",
    "if os.path.basename(os.getcwd())=='notebooks': os.chdir('..')\n",
    "assert os.path.basename(os.getcwd())=='adamacs', (\"Please move to the main directory\")\n",
    "import datajoint as dj; dj.conn()\n",
    "\n",
    "from adamacs.pipeline import subject, session, surgery, scan, event\n",
    "from adamacs import utility\n",
    "from adamacs.ingest import session as isess\n",
    "sub, lab, protocol, line, mutation, user, project, subject_genotype, subject_death = (\n",
    "    subject.Subject(), subject.Lab(), subject.Protocol(), subject.Line(), \n",
    "    subject.Mutation(), subject.User(), subject.Project(), subject.SubjectGenotype(), \n",
    "    subject.SubjectDeath())"
   ]
  },
  {
   "cell_type": "markdown",
   "id": "d4044141",
   "metadata": {},
   "source": [
    "Manual entry database access:"
   ]
  },
  {
   "cell_type": "code",
   "execution_count": null,
   "id": "8cbb2ec1",
   "metadata": {},
   "outputs": [],
   "source": [
    "# Manual Entry\n",
    "import datajoint as dj; import getpass\n",
    "dj.config['database.host'] = '172.26.128.53'        # Put the server name between these apostrophe\n",
    "dj.config['database.user'] = 'danielmk'             # Put your user name between these apostrophe\n",
    "dj.config['database.password'] = getpass.getpass()  # Put your password in the prompt\n",
    "dj.conn()\n",
    "\n",
    "from adamacs.pipeline import subject, session, surgery, scan, event\n",
    "from adamacs import utility\n",
    "from adamacs.ingest import session as isess\n",
    "sub, lab, protocol, line, mutation, user, project, subject_genotype, subject_death = (\n",
    "    subject.Subject(), subject.Lab(), subject.Protocol(), subject.Line(), \n",
    "    subject.Mutation(), subject.User(), subject.Project(), subject.SubjectGenotype(), \n",
    "    subject.SubjectDeath())"
   ]
  },
  {
   "cell_type": "markdown",
   "id": "bd2683b7",
   "metadata": {},
   "source": [
    "### Get all Sessions and Scans of an Animal"
   ]
  },
  {
   "cell_type": "code",
   "execution_count": null,
   "id": "8ac15e35",
   "metadata": {},
   "outputs": [],
   "source": [
    "query = session.Session() * scan.Scan() & 'subject = \"ROS-1438\"'"
   ]
  },
  {
   "cell_type": "code",
   "execution_count": null,
   "id": "e167ab3b",
   "metadata": {},
   "outputs": [],
   "source": [
    "query"
   ]
  },
  {
   "cell_type": "code",
   "execution_count": null,
   "id": "23a51a20",
   "metadata": {},
   "outputs": [],
   "source": [
    "v"
   ]
  },
  {
   "cell_type": "code",
   "execution_count": null,
   "id": "a8e5d690",
   "metadata": {},
   "outputs": [],
   "source": [
    "query = session.Session() * event.Event() & 'event_type = \"mini2p_frames\"'"
   ]
  },
  {
   "cell_type": "code",
   "execution_count": null,
   "id": "62ef4791",
   "metadata": {},
   "outputs": [],
   "source": [
    "query"
   ]
  },
  {
   "cell_type": "code",
   "execution_count": null,
   "id": "2d00ddfc",
   "metadata": {},
   "outputs": [],
   "source": [
    "query = session.Session() * event.Event() & 'event_type = \"main_track_gate\"'"
   ]
  },
  {
   "cell_type": "code",
   "execution_count": null,
   "id": "386843c7",
   "metadata": {},
   "outputs": [],
   "source": [
    "query"
   ]
  },
  {
   "cell_type": "code",
   "execution_count": null,
   "id": "67af3b57",
   "metadata": {},
   "outputs": [],
   "source": [
    "query = session.Session() * event.Event() & 'event_type = \"shutter\"'\n",
    "query"
   ]
  },
  {
   "cell_type": "code",
   "execution_count": null,
   "id": "b69fdf27",
   "metadata": {},
   "outputs": [],
   "source": [
    "from pywavesurfer import ws\n",
    "path = event.BehaviorRecording.File().fetch('filepath')\n",
    "print(fp)\n",
    "\n",
    "path = ws.loadDataFile(filename=fp[0], format_string='double' )"
   ]
  },
  {
   "cell_type": "code",
   "execution_count": null,
   "id": "5f4abe70",
   "metadata": {},
   "outputs": [],
   "source": [
    "\n",
    "import numpy as np\n",
    "import h5py\n",
    "import matplotlib.pyplot as plt\n",
    "from pywavesurfer import ws\n",
    "from IPython.display import display\n",
    "import pdb\n",
    "\n",
    "path = event.BehaviorRecording.File().fetch('filepath')\n",
    "path = r'/Users/trose/Data/DB_WEZ-8701_2022-03-18_scan9FB2LN5C_sess9FB2LN5C/scan9FB2LN5C_DB_WEZ-8701_2027.h5'\n",
    "\n",
    "hf = ws.loadDataFile(filename=path, format_string='double' )\n",
    "\n",
    "def demultiplex(auxdata, channels=5):\n",
    "    \"\"\"Demultiplex the digital data\"\"\"\n",
    "    auxdata = auxdata.flatten()\n",
    "    binary = [[int(x) for x in f'{x:0{channels}b}'] for x in auxdata]\n",
    "    return np.array(binary, dtype=bool).T\n",
    "\n",
    "sweep = [x for x in hf.keys() if 'sweep' in x][0]\n",
    "\n",
    "sr = hf['header']['AcquisitionSampleRate'][0][0]\n",
    "timebase = np.arange(hf[sweep]['analogScans'].shape[1]) / sr\n",
    "\n",
    "# DIGITAL SIGNALS\n",
    "digital_channels = demultiplex(hf[sweep]['digitalScans'][0], 5)\n",
    "main_track_gate_chan = digital_channels[4]\n",
    "shutter_chan = digital_channels[3]\n",
    "mini2p_frame_chan = digital_channels[2]\n",
    "mini2p_line_chan = digital_channels[1]\n",
    "mini2p_vol_chan = digital_channels[0]\n",
    "\n",
    "# ANALOG SIGNALS\n",
    "cam_trigger = hf[sweep]['analogScans'][0]\n",
    "bpod_trial_vis_chan = hf[sweep]['analogScans'][1]\n",
    "bpod_reward1_chan = hf[sweep]['analogScans'][2]\n",
    "bpod_tone_chan = hf[sweep]['analogScans'][3]\n",
    "\n"
   ]
  },
  {
   "cell_type": "code",
   "execution_count": null,
   "id": "f394b0d0",
   "metadata": {},
   "outputs": [],
   "source": [
    "fig, ax = plt.subplots(9, 1, figsize=(18, 18))\n",
    "ax[0].plot(timebase, main_track_gate_chan)\n",
    "ax[1].plot(timebase, shutter_chan)\n",
    "ax[2].plot(timebase, mini2p_frame_chan)\n",
    "ax[3].plot(timebase, mini2p_line_chan)\n",
    "ax[4].plot(timebase, mini2p_vol_chan)\n",
    "ax[5].plot(timebase, cam_trigger)\n",
    "ax[6].plot(timebase, bpod_trial_vis_chan)\n",
    "ax[7].plot(timebase,bpod_tone_chan)\n",
    "ax[8].plot(timebase, bpod_reward1_chan)\n",
    "\n",
    "for a in ax[:-1]:\n",
    "    a.set_xticks([])\n",
    "\n",
    "ax[0].set_ylabel('Track Gate /\\nMaster trigger')\n",
    "ax[1].set_ylabel('Laser Shutter')\n",
    "ax[2].set_ylabel(\"mini2p frames\")\n",
    "ax[3].set_ylabel(\"mini2p lines\")\n",
    "ax[4].set_ylabel(\"mini2p volumes\")\n",
    "ax[5].set_ylabel(\"Track cam\\nframes\")\n",
    "ax[6].set_ylabel(\"BPOD Trial start\")\n",
    "ax[7].set_ylabel(\"BPOD Tone\")\n",
    "ax[8].set_ylabel(\"BPOD reward /\\npunish\")\n",
    "ax[8].set_xlabel(\"time (s)\")\n",
    "\n",
    "#display(fig, width=\"100%\")\n"
   ]
  },
  {
   "cell_type": "code",
   "execution_count": null,
   "id": "33ee76e7",
   "metadata": {},
   "outputs": [],
   "source": [
    "\n",
    "\"\"\"Calculate timestamps\"\"\"\n",
    "def get_timestamps(data, sr, thr=1, inverse=False):\n",
    "    if data.dtype == 'bool':\n",
    "        data = data > 0.5\n",
    "    else:\n",
    "        data = data > thr\n",
    "    if inverse: data = not data\n",
    "    \n",
    "    diff = np.diff(data)\n",
    "    idc = np.argwhere(diff != 0)[:, 0]\n",
    "    timestamps = idc / sr\n",
    "\n",
    "    return timestamps\n",
    "\n",
    "ts_main_track_gate_chan = get_timestamps(main_track_gate_chan, sr)\n",
    "ts_shutter_chan = get_timestamps(shutter_chan, sr)\n",
    "ts_mini2p_frame_chan = get_timestamps(mini2p_frame_chan, sr)\n",
    "ts_mini2p_line_chan = get_timestamps(mini2p_line_chan, sr)\n",
    "ts_mini2p_vol_chan = get_timestamps(mini2p_vol_chan, sr)\n",
    "\n",
    "ts_bpod_tone_chan = get_timestamps(bpod_tone_chan, sr)"
   ]
  },
  {
   "cell_type": "code",
   "execution_count": null,
   "id": "a0982ddf",
   "metadata": {},
   "outputs": [],
   "source": []
  },
  {
   "attachments": {},
   "cell_type": "markdown",
   "id": "8e2891b9",
   "metadata": {},
   "source": [
    "### How many mice?\n"
   ]
  },
  {
   "cell_type": "code",
   "execution_count": null,
   "id": "a0ddd4a8",
   "metadata": {},
   "outputs": [],
   "source": [
    "query = subject.Subject()\n",
    "query.fetch().size"
   ]
  },
  {
   "cell_type": "markdown",
   "id": "ef222d90",
   "metadata": {},
   "source": [
    "### How many scans per mouse"
   ]
  },
  {
   "cell_type": "code",
   "execution_count": null,
   "id": "1aaed631",
   "metadata": {},
   "outputs": [],
   "source": [
    "query = session.Session() * scan.Scan() & 'subject = \"WEZ-8701\"'\n",
    "query.fetch().size"
   ]
  },
  {
   "cell_type": "code",
   "execution_count": null,
   "id": "1c69a162",
   "metadata": {},
   "outputs": [],
   "source": [
    "query"
   ]
  },
  {
   "cell_type": "markdown",
   "id": "3286cc0e",
   "metadata": {},
   "source": [
    "### Plot events"
   ]
  },
  {
   "cell_type": "code",
   "execution_count": null,
   "id": "66b2d190",
   "metadata": {},
   "outputs": [],
   "source": [
    "query = session.Session() * scan.Scan() & 'subject = \"ROS-1438\"'"
   ]
  }
 ],
 "metadata": {
  "kernelspec": {
   "display_name": "datajoint",
   "language": "python",
   "name": "python3"
  },
  "language_info": {
   "codemirror_mode": {
    "name": "ipython",
    "version": 3
   },
   "file_extension": ".py",
   "mimetype": "text/x-python",
   "name": "python",
   "nbconvert_exporter": "python",
   "pygments_lexer": "ipython3",
   "version": "3.8.13 (default, Mar 28 2022, 06:16:26) \n[Clang 12.0.0 ]"
  },
  "vscode": {
   "interpreter": {
    "hash": "b6b88a8194cd92b549912c5fccf4f99c3c2f8b37389322b86781a2268700b256"
   }
  }
 },
 "nbformat": 4,
 "nbformat_minor": 5
}
