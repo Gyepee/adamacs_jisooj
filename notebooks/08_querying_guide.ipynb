{
 "cells": [
  {
   "cell_type": "markdown",
   "id": "174ea219",
   "metadata": {},
   "source": [
    "# Querying Guide"
   ]
  },
  {
   "cell_type": "markdown",
   "id": "ccd94378",
   "metadata": {},
   "source": [
    "Database access with config file:"
   ]
  },
  {
   "cell_type": "code",
   "execution_count": null,
   "id": "a198b070",
   "metadata": {},
   "outputs": [],
   "source": [
    "import os\n",
    "# change to the upper level folder to detect dj_local_conf.json\n",
    "if os.path.basename(os.getcwd())=='notebooks': os.chdir('..')\n",
    "assert os.path.basename(os.getcwd())=='adamacs', (\"Please move to the main directory\")\n",
    "import datajoint as dj; dj.conn()\n",
    "\n",
    "from adamacs.pipeline import subject, session, surgery, scan\n",
    "from adamacs import utility\n",
    "from adamacs.ingest import session as isess\n",
    "sub, lab, protocol, line, mutation, user, project, subject_genotype, subject_death = (\n",
    "    subject.Subject(), subject.Lab(), subject.Protocol(), subject.Line(), \n",
    "    subject.Mutation(), subject.User(), subject.Project(), subject.SubjectGenotype(), \n",
    "    subject.SubjectDeath())"
   ]
  },
  {
   "cell_type": "markdown",
   "id": "d4044141",
   "metadata": {},
   "source": [
    "Manual entry database access:"
   ]
  },
  {
   "cell_type": "code",
   "execution_count": null,
   "id": "8cbb2ec1",
   "metadata": {},
   "outputs": [],
   "source": [
    "# Manual Entry\n",
    "import datajoint as dj; import getpass\n",
    "dj.config['database.host'] = '172.26.128.53'        # Put the server name between these apostrophe\n",
    "dj.config['database.user'] = 'danielmk'             # Put your user name between these apostrophe\n",
    "dj.config['database.password'] = getpass.getpass()  # Put your password in the prompt\n",
    "dj.conn()\n",
    "\n",
    "from adamacs.pipeline import subject, session, surgery, scan\n",
    "from adamacs import utility\n",
    "from adamacs.ingest import session as isess\n",
    "sub, lab, protocol, line, mutation, user, project, subject_genotype, subject_death = (\n",
    "    subject.Subject(), subject.Lab(), subject.Protocol(), subject.Line(), \n",
    "    subject.Mutation(), subject.User(), subject.Project(), subject.SubjectGenotype(), \n",
    "    subject.SubjectDeath())"
   ]
  },
  {
   "cell_type": "markdown",
   "id": "bd2683b7",
   "metadata": {},
   "source": [
    "### Get all Sessions and Scans of an Animal"
   ]
  },
  {
   "cell_type": "code",
   "execution_count": null,
   "id": "8ac15e35",
   "metadata": {},
   "outputs": [],
   "source": []
  },
  {
   "attachments": {},
   "cell_type": "markdown",
   "id": "8e2891b9",
   "metadata": {},
   "source": [
    "### How many mice?\n"
   ]
  },
  {
   "cell_type": "code",
   "execution_count": null,
   "id": "a0ddd4a8",
   "metadata": {},
   "outputs": [],
   "source": [
    "query = subject.Subject()\n",
    "query.fetch().size"
   ]
  },
  {
   "cell_type": "markdown",
   "id": "ef222d90",
   "metadata": {},
   "source": [
    "### How many scans per mouse"
   ]
  },
  {
   "cell_type": "code",
   "execution_count": null,
   "id": "1aaed631",
   "metadata": {},
   "outputs": [],
   "source": [
    "query = session.Session() * scan.Scan() & 'subject = \"WEZ-8701\"'\n",
    "query.fetch().size"
   ]
  }
 ],
 "metadata": {
  "kernelspec": {
   "display_name": "base",
   "language": "python",
   "name": "python3"
  },
  "language_info": {
   "codemirror_mode": {
    "name": "ipython",
    "version": 3
   },
   "file_extension": ".py",
   "mimetype": "text/x-python",
   "name": "python",
   "nbconvert_exporter": "python",
   "pygments_lexer": "ipython3",
   "version": "3.9.7 (default, Sep 16 2021, 08:50:36) \n[Clang 10.0.0 ]"
  },
  "vscode": {
   "interpreter": {
    "hash": "965cf972b663dbe25e7de0e0fe8e177cbbce2d7cfe110ae892c33d6669c5eb24"
   }
  }
 },
 "nbformat": 4,
 "nbformat_minor": 5
}
