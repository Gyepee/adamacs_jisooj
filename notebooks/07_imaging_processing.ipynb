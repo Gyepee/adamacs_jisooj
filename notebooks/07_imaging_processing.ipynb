{
 "cells": [
  {
   "cell_type": "markdown",
   "id": "46f28eb7-1fcc-4b9a-803e-097202fd899d",
   "metadata": {},
   "source": [
    "# Scanning Session Ingestion"
   ]
  },
  {
   "cell_type": "markdown",
   "id": "bba759c2-4cc1-45ee-9212-422a604c32a4",
   "metadata": {},
   "source": [
    "## Setup"
   ]
  },
  {
   "cell_type": "markdown",
   "id": "0da9aa77-afbf-43b2-ad19-e497e05e8627",
   "metadata": {},
   "source": [
    "### Connect to the database"
   ]
  },
  {
   "cell_type": "markdown",
   "id": "bd1468c3-3915-49e6-89a9-10c7940017fd",
   "metadata": {},
   "source": [
    "If you are don't have your login information, contact the administrator.\n",
    "\n",
    "Using local config file (see [01_pipeline](./01_pipeline.ipynb)):"
   ]
  },
  {
   "cell_type": "code",
   "execution_count": 1,
   "id": "301f9675-53e0-4ff6-bf3d-baba6589d6e3",
   "metadata": {},
   "outputs": [
    {
     "name": "stderr",
     "output_type": "stream",
     "text": [
      "[2023-01-17 08:58:29,743][INFO]: Connecting tobiasr@172.26.128.53:3306\n",
      "[2023-01-17 08:58:30,386][INFO]: Connected tobiasr@172.26.128.53:3306\n"
     ]
    }
   ],
   "source": [
    "import os\n",
    "# change to the upper level folder to detect dj_local_conf.json\n",
    "if os.path.basename(os.getcwd())=='notebooks': os.chdir('..')\n",
    "assert os.path.basename(os.getcwd())=='adamacs', (\"Please move to the main directory\")\n",
    "import datajoint as dj; dj.conn()\n",
    "\n",
    "from adamacs.pipeline import subject, session, surgery, scan, event, trial, imaging\n",
    "from adamacs import utility\n",
    "from adamacs.ingest import behavior as ibe\n",
    "import numpy as np\n",
    "import scanreader"
   ]
  },
  {
   "cell_type": "markdown",
   "id": "7a2e2ccf-01d6-4d31-932b-aa12f8cd05a8",
   "metadata": {},
   "source": [
    "Manual entry:"
   ]
  },
  {
   "cell_type": "code",
   "execution_count": null,
   "id": "333074dc-2962-4c3f-ae66-d4164d6ceac9",
   "metadata": {},
   "outputs": [],
   "source": [
    "# Manual Entry\n",
    "import datajoint as dj; import getpass\n",
    "dj.config['database.host'] = '172.26.128.53'        # Put the server name between these apostrophe\n",
    "dj.config['database.user'] = 'root'             # Put your user name between these apostrophe\n",
    "dj.config['database.password'] = getpass.getpass()  # Put your password in the prompt\n",
    "dj.conn()\n",
    "\n",
    "from adamacs.pipeline import subject, session, surgery, scan, event, trial, imaging\n",
    "from adamacs import utility\n",
    "from adamacs.ingest import behavior as ibe\n",
    "import numpy as np"
   ]
  },
  {
   "cell_type": "markdown",
   "id": "4b1d4d39",
   "metadata": {},
   "source": [
    "## populate scaninfo"
   ]
  },
  {
   "cell_type": "code",
   "execution_count": null,
   "id": "dc973669",
   "metadata": {},
   "outputs": [],
   "source": [
    "scan.ScanInfo.describe()"
   ]
  },
  {
   "cell_type": "code",
   "execution_count": 2,
   "id": "888d83a0",
   "metadata": {},
   "outputs": [
    {
     "data": {
      "text/plain": [
       "session_id           : varchar(12)                  # \n",
       "scan_id              : varchar(12)                  # \n",
       "---\n",
       "nfields              : tinyint                      # number of fields\n",
       "nchannels            : tinyint                      # number of channels\n",
       "ndepths              : int                          # Number of scanning depths (planes)\n",
       "nframes              : int                          # number of recorded frames\n",
       "nrois                : tinyint                      # number of ROIs (see scanimage's multi ROI imaging)\n",
       "x=null               : float                        # (um) ScanImage's 0 point in the motor coordinate system\n",
       "y=null               : float                        # (um) ScanImage's 0 point in the motor coordinate system\n",
       "z=null               : float                        # (um) ScanImage's 0 point in the motor coordinate system\n",
       "fps                  : float                        # (Hz) frames per second - Volumetric Scan Rate\n",
       "bidirectional        : tinyint                      # true = bidirectional scanning\n",
       "usecs_per_line=null  : float                        # microseconds per scan line\n",
       "fill_fraction=null   : float                        # raster scan temporal fill fraction (see scanimage)\n",
       "scan_datetime=null   : datetime                     # datetime of the scan\n",
       "scan_duration=null   : float                        # (seconds) duration of the scan"
      ]
     },
     "execution_count": 2,
     "metadata": {},
     "output_type": "execute_result"
    }
   ],
   "source": [
    "scan.ScanInfo.heading"
   ]
  },
  {
   "cell_type": "code",
   "execution_count": 3,
   "id": "bd67bfac",
   "metadata": {},
   "outputs": [
    {
     "data": {
      "image/svg+xml": "<svg xmlns=\"http://www.w3.org/2000/svg\" xmlns:xlink=\"http://www.w3.org/1999/xlink\" width=\"610pt\" height=\"318pt\" viewBox=\"0.00 0.00 610.00 318.00\">\n<g id=\"graph0\" class=\"graph\" transform=\"scale(1 1) rotate(0) translate(4 314)\">\n<polygon fill=\"white\" stroke=\"transparent\" points=\"-4,4 -4,-314 606,-314 606,4 -4,4\"/>\n<!-- scan.ScanInfo.ScanFile -->\n<g id=\"node1\" class=\"node\">\n<title>scan.ScanInfo.ScanFile</title>\n<g id=\"a_node1\"><a xlink:title=\"→ scan.ScanInfo\rfile_path            \r\">\n<polygon fill=\"transparent\" stroke=\"transparent\" points=\"121,-22.5 0,-22.5 0,-3.5 121,-3.5 121,-22.5\"/>\n<text text-anchor=\"start\" x=\"8\" y=\"-11.5\" font-family=\"arial\" text-decoration=\"underline\" font-size=\"10.00\">scan.ScanInfo.ScanFile</text>\n</a>\n</g>\n</g>\n<!-- session.Session -->\n<g id=\"node2\" class=\"node\">\n<title>session.Session</title>\n<g id=\"a_node2\"><a xlink:title=\"session_id           \r------------------------------\r→ subject.Subject\rsession_datetime     \r\">\n<polygon fill=\"#00ff00\" fill-opacity=\"0.188235\" stroke=\"#00ff00\" stroke-opacity=\"0.188235\" points=\"305.5,-239 201.5,-239 201.5,-204 305.5,-204 305.5,-239\"/>\n<text text-anchor=\"start\" x=\"209.5\" y=\"-219.4\" font-family=\"arial\" text-decoration=\"underline\" font-size=\"12.00\" fill=\"darkgreen\">session.Session</text>\n</a>\n</g>\n</g>\n<!-- scan.Scan -->\n<g id=\"node6\" class=\"node\">\n<title>scan.Scan</title>\n<g id=\"a_node6\"><a xlink:title=\"→ session.Session\rscan_id              \r------------------------------\r→ [nullable] `tobiasr01_equipment`.`equipment`\r→ scan.AcquisitionSoftware\rscan_notes=&quot;&quot;        \r\">\n<polygon fill=\"#00ff00\" fill-opacity=\"0.188235\" stroke=\"#00ff00\" stroke-opacity=\"0.188235\" points=\"357,-168 284,-168 284,-133 357,-133 357,-168\"/>\n<text text-anchor=\"start\" x=\"292\" y=\"-148.4\" font-family=\"arial\" text-decoration=\"underline\" font-size=\"12.00\" fill=\"darkgreen\">scan.Scan</text>\n</a>\n</g>\n</g>\n<!-- session.Session&#45;&gt;scan.Scan -->\n<g id=\"edge1\" class=\"edge\">\n<title>session.Session-&gt;scan.Scan</title>\n<path fill=\"none\" stroke=\"#000000\" stroke-width=\"0.75\" stroke-opacity=\"0.250980\" d=\"M269.72,-203.8C280.25,-192.95 293.93,-178.87 304.43,-168.05\"/>\n</g>\n<!-- scan.AcquisitionSoftware -->\n<g id=\"node3\" class=\"node\">\n<title>scan.AcquisitionSoftware</title>\n<g id=\"a_node3\"><a xlink:title=\"acq_software         \r\">\n<polygon fill=\"#000000\" fill-opacity=\"0.125490\" stroke=\"transparent\" points=\"451.5,-239 323.5,-239 323.5,-204 451.5,-204 451.5,-239\"/>\n<text text-anchor=\"start\" x=\"331.5\" y=\"-220\" font-family=\"arial\" text-decoration=\"underline\" font-size=\"10.00\">scan.AcquisitionSoftware</text>\n</a>\n</g>\n</g>\n<!-- scan.AcquisitionSoftware&#45;&gt;scan.Scan -->\n<g id=\"edge2\" class=\"edge\">\n<title>scan.AcquisitionSoftware-&gt;scan.Scan</title>\n<path fill=\"none\" stroke=\"#000000\" stroke-width=\"0.75\" stroke-dasharray=\"5,2\" stroke-opacity=\"0.250980\" d=\"M371.28,-203.8C360.75,-192.95 347.07,-178.87 336.57,-168.05\"/>\n</g>\n<!-- scan.ScanInfo -->\n<g id=\"node4\" class=\"node\">\n<title>scan.ScanInfo</title>\n<g id=\"a_node4\"><a xlink:title=\"→ scan.Scan\r------------------------------\rnfields              \rnchannels            \rndepths              \rnframes              \rnrois                \rx=null               \ry=null               \rz=null               \rfps                  \rbidirectional        \rusecs_per_line=null  \rfill_fraction=null   \rscan_datetime=null   \rscan_duration=null   \r\">\n<ellipse fill=\"#00007f\" fill-opacity=\"0.250980\" stroke=\"#00007f\" stroke-opacity=\"0.250980\" cx=\"125.5\" cy=\"-79.5\" rx=\"57.5\" ry=\"17.5\"/>\n<text text-anchor=\"middle\" x=\"125.5\" y=\"-76.4\" font-family=\"arial\" font-size=\"12.00\" fill=\"#00007f\" fill-opacity=\"0.627451\">scan.ScanInfo</text>\n</a>\n</g>\n</g>\n<!-- scan.ScanInfo&#45;&gt;scan.ScanInfo.ScanFile -->\n<g id=\"edge3\" class=\"edge\">\n<title>scan.ScanInfo-&gt;scan.ScanInfo.ScanFile</title>\n<path fill=\"none\" stroke=\"#000000\" stroke-width=\"0.75\" stroke-opacity=\"0.250980\" d=\"M109.43,-62.56C96.8,-50.02 79.67,-33.03 69.39,-22.82\"/>\n</g>\n<!-- scan.ScanInfo.Field -->\n<g id=\"node11\" class=\"node\">\n<title>scan.ScanInfo.Field</title>\n<g id=\"a_node11\"><a xlink:title=\"→ scan.ScanInfo\rfield_idx            \r------------------------------\rpx_height            \rpx_width             \rum_height=null       \rum_width=null        \rfield_x=null         \rfield_y=null         \rfield_z=null         \rdelay_image=null     \rroi=null             \r\">\n<polygon fill=\"transparent\" stroke=\"transparent\" points=\"243.5,-22.5 139.5,-22.5 139.5,-3.5 243.5,-3.5 243.5,-22.5\"/>\n<text text-anchor=\"start\" x=\"147.5\" y=\"-11.5\" font-family=\"arial\" text-decoration=\"underline\" font-size=\"10.00\">scan.ScanInfo.Field</text>\n</a>\n</g>\n</g>\n<!-- scan.ScanInfo&#45;&gt;scan.ScanInfo.Field -->\n<g id=\"edge4\" class=\"edge\">\n<title>scan.ScanInfo-&gt;scan.ScanInfo.Field</title>\n<path fill=\"none\" stroke=\"#000000\" stroke-width=\"0.75\" stroke-opacity=\"0.250980\" d=\"M141.81,-62.56C154.64,-50.02 172.03,-33.03 182.47,-22.82\"/>\n</g>\n<!-- subject.Subject -->\n<g id=\"node5\" class=\"node\">\n<title>subject.Subject</title>\n<g id=\"a_node5\"><a xlink:title=\"subject              \r------------------------------\rearmark              \rsex                  \rbirth_date           \rdeath_date=null      \rgeneration=&quot;&quot;        \rparent_ids           \r→ subject.User.proj(owner_id=&quot;user_id&quot;)\r→ subject.User.proj(responsible_id=&quot;user_id&quot;)\r→ subject.Line\r→ subject.Protocol\r\">\n<polygon fill=\"#00ff00\" fill-opacity=\"0.188235\" stroke=\"#00ff00\" stroke-opacity=\"0.188235\" points=\"302.5,-310 204.5,-310 204.5,-275 302.5,-275 302.5,-310\"/>\n<text text-anchor=\"start\" x=\"212.5\" y=\"-290.4\" font-family=\"arial\" text-decoration=\"underline\" font-size=\"12.00\" fill=\"darkgreen\">subject.Subject</text>\n</a>\n</g>\n</g>\n<!-- subject.Subject&#45;&gt;session.Session -->\n<g id=\"edge5\" class=\"edge\">\n<title>subject.Subject-&gt;session.Session</title>\n<path fill=\"none\" stroke=\"#000000\" stroke-width=\"0.75\" stroke-dasharray=\"5,2\" stroke-opacity=\"0.250980\" d=\"M253.5,-274.8C253.5,-263.95 253.5,-249.87 253.5,-239.05\"/>\n</g>\n<!-- scan.Scan&#45;&gt;scan.ScanInfo -->\n<g id=\"edge6\" class=\"edge\">\n<title>scan.Scan-&gt;scan.ScanInfo</title>\n<path fill=\"none\" stroke=\"#000000\" stroke-width=\"2\" stroke-opacity=\"0.250980\" d=\"M283.82,-136.52C248.74,-124.11 196.16,-105.5 161.35,-93.19\"/>\n</g>\n<!-- scan.ScanPath -->\n<g id=\"node7\" class=\"node\">\n<title>scan.ScanPath</title>\n<g id=\"a_node7\"><a xlink:title=\"→ scan.Scan\r→ subject.User\rpath                 \r\">\n<polygon fill=\"#00ff00\" fill-opacity=\"0.188235\" stroke=\"#00ff00\" stroke-opacity=\"0.188235\" points=\"299.5,-97 201.5,-97 201.5,-62 299.5,-62 299.5,-97\"/>\n<text text-anchor=\"start\" x=\"209.5\" y=\"-77.4\" font-family=\"arial\" text-decoration=\"underline\" font-size=\"12.00\" fill=\"darkgreen\">scan.ScanPath</text>\n</a>\n</g>\n</g>\n<!-- scan.Scan&#45;&gt;scan.ScanPath -->\n<g id=\"edge7\" class=\"edge\">\n<title>scan.Scan-&gt;scan.ScanPath</title>\n<path fill=\"none\" stroke=\"#000000\" stroke-width=\"0.75\" stroke-opacity=\"0.250980\" d=\"M303.55,-132.8C292.55,-121.95 278.26,-107.87 267.29,-97.05\"/>\n</g>\n<!-- imaging.ProcessingTask -->\n<g id=\"node10\" class=\"node\">\n<title>imaging.ProcessingTask</title>\n<g id=\"a_node10\"><a xlink:title=\"→ scan.Scan\r→ imaging.ProcessingParamSet\r------------------------------\rprocessing_output_dir \rtask_mode=&quot;load&quot;     \r\">\n<polygon fill=\"#00ff00\" fill-opacity=\"0.188235\" stroke=\"#00ff00\" stroke-opacity=\"0.188235\" points=\"465,-97 318,-97 318,-62 465,-62 465,-97\"/>\n<text text-anchor=\"middle\" x=\"391.5\" y=\"-76.4\" font-family=\"arial\" font-size=\"12.00\" fill=\"darkgreen\">imaging.ProcessingTask</text>\n</a>\n</g>\n</g>\n<!-- scan.Scan&#45;&gt;imaging.ProcessingTask -->\n<g id=\"edge8\" class=\"edge\">\n<title>scan.Scan-&gt;imaging.ProcessingTask</title>\n<path fill=\"none\" stroke=\"#000000\" stroke-width=\"0.75\" stroke-opacity=\"0.250980\" d=\"M337.69,-132.8C348.85,-121.95 363.34,-107.87 374.47,-97.05\"/>\n</g>\n<!-- scan.ScanLocation -->\n<g id=\"node12\" class=\"node\">\n<title>scan.ScanLocation</title>\n<g id=\"a_node12\"><a xlink:title=\"→ scan.Scan\r------------------------------\r→ surgery.AnatomicalLocation\r\">\n<polygon fill=\"#00ff00\" fill-opacity=\"0.188235\" stroke=\"#00ff00\" stroke-opacity=\"0.188235\" points=\"602,-97 483,-97 483,-62 602,-62 602,-97\"/>\n<text text-anchor=\"middle\" x=\"542.5\" y=\"-76.4\" font-family=\"arial\" font-size=\"12.00\" fill=\"darkgreen\">scan.ScanLocation</text>\n</a>\n</g>\n</g>\n<!-- scan.Scan&#45;&gt;scan.ScanLocation -->\n<g id=\"edge9\" class=\"edge\">\n<title>scan.Scan-&gt;scan.ScanLocation</title>\n<path fill=\"none\" stroke=\"#000000\" stroke-width=\"2\" stroke-opacity=\"0.250980\" d=\"M357.16,-138.11C393.12,-126.93 448.35,-109.76 489.17,-97.08\"/>\n</g>\n<!-- scan.Channel -->\n<g id=\"node8\" class=\"node\">\n<title>scan.Channel</title>\n<g id=\"a_node8\"><a xlink:title=\"channel              \r\">\n<polygon fill=\"#000000\" fill-opacity=\"0.125490\" stroke=\"transparent\" points=\"398,-310 321,-310 321,-275 398,-275 398,-310\"/>\n<text text-anchor=\"start\" x=\"329\" y=\"-291\" font-family=\"arial\" text-decoration=\"underline\" font-size=\"10.00\">scan.Channel</text>\n</a>\n</g>\n</g>\n<!-- imaging.Processing -->\n<g id=\"node9\" class=\"node\">\n<title>imaging.Processing</title>\n<g id=\"a_node9\"><a xlink:title=\"→ imaging.ProcessingTask\r------------------------------\rprocessing_time      \rpackage_version=&quot;&quot;   \r\">\n<ellipse fill=\"#ff0000\" fill-opacity=\"0.125490\" stroke=\"#ff0000\" stroke-opacity=\"0.125490\" cx=\"391.5\" cy=\"-13\" rx=\"13\" ry=\"13\"/>\n<text text-anchor=\"middle\" x=\"391.5\" y=\"-9.9\" font-family=\"arial\" font-size=\"12.00\" fill=\"#7f0000\" fill-opacity=\"0.627451\">imaging.Processing</text>\n</a>\n</g>\n</g>\n<!-- imaging.ProcessingTask&#45;&gt;imaging.Processing -->\n<g id=\"edge10\" class=\"edge\">\n<title>imaging.ProcessingTask-&gt;imaging.Processing</title>\n<path fill=\"none\" stroke=\"#000000\" stroke-width=\"2\" stroke-opacity=\"0.250980\" d=\"M391.5,-61.89C391.5,-50.69 391.5,-36.17 391.5,-26.07\"/>\n</g>\n</g>\n</svg>",
      "text/plain": [
       "<datajoint.diagram.Diagram at 0x7fae82d70a90>"
      ]
     },
     "execution_count": 3,
     "metadata": {},
     "output_type": "execute_result"
    }
   ],
   "source": [
    "dj.Diagram(subject.Subject) + dj.Diagram(session.Session) + dj.Diagram(scan) + dj.Diagram(imaging.Processing)"
   ]
  },
  {
   "cell_type": "code",
   "execution_count": null,
   "id": "8e944ab4",
   "metadata": {},
   "outputs": [],
   "source": [
    "# scan.ScanInfo.delete()\n",
    "# scan.Scan.delete()\n",
    "# session.Session.delete()"
   ]
  },
  {
   "cell_type": "code",
   "execution_count": null,
   "id": "70bca68f",
   "metadata": {},
   "outputs": [],
   "source": [
    "scan.Scan()"
   ]
  },
  {
   "attachments": {},
   "cell_type": "markdown",
   "id": "13385a76",
   "metadata": {},
   "source": [
    "## populate scan!"
   ]
  },
  {
   "cell_type": "code",
   "execution_count": null,
   "id": "1f950c59",
   "metadata": {},
   "outputs": [],
   "source": [
    "populate_settings = {'display_progress': True}"
   ]
  },
  {
   "cell_type": "code",
   "execution_count": 13,
   "id": "df045a76",
   "metadata": {},
   "outputs": [
    {
     "data": {
      "text/html": [
       "\n",
       "    \n",
       "    <style type=\"text/css\">\n",
       "        .Relation{\n",
       "            border-collapse:collapse;\n",
       "        }\n",
       "        .Relation th{\n",
       "            background: #A0A0A0; color: #ffffff; padding:4px; border:#f0e0e0 1px solid;\n",
       "            font-weight: normal; font-family: monospace; font-size: 100%;\n",
       "        }\n",
       "        .Relation td{\n",
       "            padding:4px; border:#f0e0e0 1px solid; font-size:100%;\n",
       "        }\n",
       "        .Relation tr:nth-child(odd){\n",
       "            background: #ffffff;\n",
       "        }\n",
       "        .Relation tr:nth-child(even){\n",
       "            background: #f3f1ff;\n",
       "        }\n",
       "        /* Tooltip container */\n",
       "        .djtooltip {\n",
       "        }\n",
       "        /* Tooltip text */\n",
       "        .djtooltip .djtooltiptext {\n",
       "            visibility: hidden;\n",
       "            width: 120px;\n",
       "            background-color: black;\n",
       "            color: #fff;\n",
       "            text-align: center;\n",
       "            padding: 5px 0;\n",
       "            border-radius: 6px;\n",
       "            /* Position the tooltip text - see examples below! */\n",
       "            position: absolute;\n",
       "            z-index: 1;\n",
       "        }\n",
       "        #primary {\n",
       "            font-weight: bold;\n",
       "            color: black;\n",
       "        }\n",
       "        #nonprimary {\n",
       "            font-weight: normal;\n",
       "            color: white;\n",
       "        }\n",
       "\n",
       "        /* Show the tooltip text when you mouse over the tooltip container */\n",
       "        .djtooltip:hover .djtooltiptext {\n",
       "            visibility: visible;\n",
       "        }\n",
       "    </style>\n",
       "    \n",
       "    <b>general data about the reso/meso scans from header</b>\n",
       "        <div style=\"max-height:1000px;max-width:1500px;overflow:auto;\">\n",
       "        <table border=\"1\" class=\"Relation\">\n",
       "            <thead> <tr style=\"text-align: right;\"> <th> <div class=\"djtooltip\">\n",
       "                            <p id=\"primary\">session_id</p>\n",
       "                            <span class=\"djtooltiptext\"></span>\n",
       "                        </div></th><th><div class=\"djtooltip\">\n",
       "                            <p id=\"primary\">scan_id</p>\n",
       "                            <span class=\"djtooltiptext\"></span>\n",
       "                        </div></th><th><div class=\"djtooltip\">\n",
       "                            <p id=\"nonprimary\">nfields</p>\n",
       "                            <span class=\"djtooltiptext\">number of fields</span>\n",
       "                        </div></th><th><div class=\"djtooltip\">\n",
       "                            <p id=\"nonprimary\">nchannels</p>\n",
       "                            <span class=\"djtooltiptext\">number of channels</span>\n",
       "                        </div></th><th><div class=\"djtooltip\">\n",
       "                            <p id=\"nonprimary\">ndepths</p>\n",
       "                            <span class=\"djtooltiptext\">Number of scanning depths (planes)</span>\n",
       "                        </div></th><th><div class=\"djtooltip\">\n",
       "                            <p id=\"nonprimary\">nframes</p>\n",
       "                            <span class=\"djtooltiptext\">number of recorded frames</span>\n",
       "                        </div></th><th><div class=\"djtooltip\">\n",
       "                            <p id=\"nonprimary\">nrois</p>\n",
       "                            <span class=\"djtooltiptext\">number of ROIs (see scanimage's multi ROI imaging)</span>\n",
       "                        </div></th><th><div class=\"djtooltip\">\n",
       "                            <p id=\"nonprimary\">x</p>\n",
       "                            <span class=\"djtooltiptext\">(um) ScanImage's 0 point in the motor coordinate system</span>\n",
       "                        </div></th><th><div class=\"djtooltip\">\n",
       "                            <p id=\"nonprimary\">y</p>\n",
       "                            <span class=\"djtooltiptext\">(um) ScanImage's 0 point in the motor coordinate system</span>\n",
       "                        </div></th><th><div class=\"djtooltip\">\n",
       "                            <p id=\"nonprimary\">z</p>\n",
       "                            <span class=\"djtooltiptext\">(um) ScanImage's 0 point in the motor coordinate system</span>\n",
       "                        </div></th><th><div class=\"djtooltip\">\n",
       "                            <p id=\"nonprimary\">fps</p>\n",
       "                            <span class=\"djtooltiptext\">(Hz) frames per second - Volumetric Scan Rate</span>\n",
       "                        </div></th><th><div class=\"djtooltip\">\n",
       "                            <p id=\"nonprimary\">bidirectional</p>\n",
       "                            <span class=\"djtooltiptext\">true = bidirectional scanning</span>\n",
       "                        </div></th><th><div class=\"djtooltip\">\n",
       "                            <p id=\"nonprimary\">usecs_per_line</p>\n",
       "                            <span class=\"djtooltiptext\">microseconds per scan line</span>\n",
       "                        </div></th><th><div class=\"djtooltip\">\n",
       "                            <p id=\"nonprimary\">fill_fraction</p>\n",
       "                            <span class=\"djtooltiptext\">raster scan temporal fill fraction (see scanimage)</span>\n",
       "                        </div></th><th><div class=\"djtooltip\">\n",
       "                            <p id=\"nonprimary\">scan_datetime</p>\n",
       "                            <span class=\"djtooltiptext\">datetime of the scan</span>\n",
       "                        </div></th><th><div class=\"djtooltip\">\n",
       "                            <p id=\"nonprimary\">scan_duration</p>\n",
       "                            <span class=\"djtooltiptext\">(seconds) duration of the scan</span>\n",
       "                        </div> </th> </tr> </thead>\n",
       "            <tbody> <tr> <td>sess9FG1TAXY</td>\n",
       "<td>scan9FG1THFD</td>\n",
       "<td>1</td>\n",
       "<td>2</td>\n",
       "<td>1</td>\n",
       "<td>1500</td>\n",
       "<td>0</td>\n",
       "<td>nan</td>\n",
       "<td>nan</td>\n",
       "<td>nan</td>\n",
       "<td>15.3845</td>\n",
       "<td>1</td>\n",
       "<td>250.003</td>\n",
       "<td>0.95</td>\n",
       "<td>None</td>\n",
       "<td>97.5007</td></tr><tr><td>sess9FG1UAQG</td>\n",
       "<td>scan9FG1UAQG</td>\n",
       "<td>4</td>\n",
       "<td>1</td>\n",
       "<td>4</td>\n",
       "<td>12</td>\n",
       "<td>0</td>\n",
       "<td>nan</td>\n",
       "<td>nan</td>\n",
       "<td>nan</td>\n",
       "<td>3.0769</td>\n",
       "<td>1</td>\n",
       "<td>250.003</td>\n",
       "<td>0.95</td>\n",
       "<td>None</td>\n",
       "<td>3.90003</td> </tr> </tbody>\n",
       "        </table>\n",
       "        \n",
       "        <p>Total: 2</p></div>\n",
       "        "
      ],
      "text/plain": [
       "*session_id    *scan_id       nfields     nchannels     ndepths     nframes     nrois     x       y       z       fps         bidirectional  usecs_per_line fill_fraction  scan_datetime  scan_duration \n",
       "+------------+ +------------+ +---------+ +-----------+ +---------+ +---------+ +-------+ +-----+ +-----+ +-----+ +---------+ +------------+ +------------+ +------------+ +------------+ +------------+\n",
       "sess9FG1TAXY   scan9FG1THFD   1           2             1           1500        0         nan     nan     nan     15.3845     1              250.003        0.95           None           97.5007       \n",
       "sess9FG1UAQG   scan9FG1UAQG   4           1             4           12          0         nan     nan     nan     3.0769      1              250.003        0.95           None           3.90003       \n",
       " (Total: 2)"
      ]
     },
     "execution_count": 13,
     "metadata": {},
     "output_type": "execute_result"
    }
   ],
   "source": [
    "scan.ScanInfo.populate(**populate_settings)\n",
    "scan.ScanInfo()"
   ]
  },
  {
   "cell_type": "code",
   "execution_count": null,
   "id": "63a67372",
   "metadata": {},
   "outputs": [],
   "source": [
    "scan.ScanInfo()"
   ]
  },
  {
   "cell_type": "code",
   "execution_count": null,
   "id": "e5c43c1c",
   "metadata": {},
   "outputs": [],
   "source": [
    "scan.Scan() * scan.ScanLocation()"
   ]
  },
  {
   "cell_type": "markdown",
   "id": "c566758c",
   "metadata": {},
   "source": [
    "Example to update an entry post-hoc. TODO: imnplement in elements \"Scan\" function based on userfunction stringa"
   ]
  },
  {
   "cell_type": "code",
   "execution_count": null,
   "id": "72b0d407",
   "metadata": {},
   "outputs": [],
   "source": [
    "scan.Scan.update1({'session_id': 'sess9FF6TL96', 'scan_id': 'scan9FF6TL96', 'scan_notes': \"test2\"})"
   ]
  },
  {
   "cell_type": "code",
   "execution_count": null,
   "id": "72b0d407",
   "metadata": {},
   "outputs": [],
   "source": [
    "scan.ScanLocation.update1({'session_id': 'sess9FF6TL96', 'scan_id': 'scan9FF6TL96', 'anatomical_location': \"V1\"})"
   ]
  },
  {
   "cell_type": "code",
   "execution_count": null,
   "id": "b691fbe6",
   "metadata": {},
   "outputs": [],
   "source": [
    "session.ProjectSession()"
   ]
  },
  {
   "cell_type": "code",
   "execution_count": null,
   "id": "60bc3889",
   "metadata": {},
   "outputs": [],
   "source": [
    "scan.Scan()"
   ]
  },
  {
   "cell_type": "code",
   "execution_count": null,
   "id": "f69f0f3d",
   "metadata": {},
   "outputs": [],
   "source": [
    "scan.ScanLocation()"
   ]
  },
  {
   "cell_type": "markdown",
   "id": "bb115bfc-2abb-45c9-bcba-c5c9e73b8990",
   "metadata": {},
   "source": [
    "### Creating a Parameter Set"
   ]
  },
  {
   "cell_type": "markdown",
   "id": "a3824b13",
   "metadata": {},
   "source": [
    "What exactly happens during processing dependso on the parameter set. This is an example of a parameter set and its insert:"
   ]
  },
  {
   "cell_type": "code",
   "execution_count": null,
   "id": "681d737d-721e-4f3a-8386-c1c55968f0ff",
   "metadata": {},
   "outputs": [],
   "source": [
    "# Insert the param_set\n",
    "\n",
    "# TODO: Parameter set needs to be updated with ScanInfo settings\n",
    "\n",
    "params_suite2p = {'look_one_level_down': 0.0,\n",
    "                  'fast_disk': [],\n",
    "                  'delete_bin': False,\n",
    "                  'mesoscan': False,\n",
    "                  'h5py': [],\n",
    "                  'h5py_key': 'data',\n",
    "                  'save_path0': [],\n",
    "                  'subfolders': [],\n",
    "                  'nplanes': 1,\n",
    "                  'nchannels': 1,\n",
    "                  'functional_chan': 1,\n",
    "                  'tau': 1.0,\n",
    "                  'fs': 10.0,\n",
    "                  'force_sktiff': False,\n",
    "                  'preclassify': 0.0,\n",
    "                  'save_mat': False,\n",
    "                  'combined': True,\n",
    "                  'aspect': 1.0,\n",
    "                  'do_bidiphase': False,\n",
    "                  'bidiphase': 0.0,\n",
    "                  'do_registration': True,\n",
    "                  'keep_movie_raw': False,\n",
    "                  'nimg_init': 300,\n",
    "                  'batch_size': 500,\n",
    "                  'maxregshift': 0.1,\n",
    "                  'align_by_chan': 1,\n",
    "                  'reg_tif': False,\n",
    "                  'reg_tif_chan2': False,\n",
    "                  'subpixel': 10,\n",
    "                  'smooth_sigma': 1.15,\n",
    "                  'th_badframes': 1.0,\n",
    "                  'pad_fft': False,\n",
    "                  'nonrigid': True,\n",
    "                  'block_size': [128, 128],\n",
    "                  'snr_thresh': 1.2,\n",
    "                  'maxregshiftNR': 5.0,\n",
    "                  '1Preg': False,\n",
    "                  'spatial_hp': 50.0,\n",
    "                  'pre_smooth': 2.0,\n",
    "                  'spatial_taper': 50.0,\n",
    "                  'roidetect': True,\n",
    "                  'sparse_mode': False,\n",
    "                  'diameter': 12,\n",
    "                  'spatial_scale': 0,\n",
    "                  'connected': True,\n",
    "                  'nbinned': 5000,\n",
    "                  'max_iterations': 20,\n",
    "                  'threshold_scaling': 1.0,\n",
    "                  'max_overlap': 0.75,\n",
    "                  'high_pass': 100.0,\n",
    "                  'inner_neuropil_radius': 2,\n",
    "                  'min_neuropil_pixels': 350,\n",
    "                  'allow_overlap': False,\n",
    "                  'chan2_thres': 0.65,\n",
    "                  'baseline': 'maximin',\n",
    "                  'win_baseline': 60.0,\n",
    "                  'sig_baseline': 10.0,\n",
    "                  'prctile_baseline': 8.0,\n",
    "                  'neucoeff': 0.7,\n",
    "                  'xrange': np.array([0, 0]),\n",
    "                  'yrange': np.array([0, 0])}\n",
    "\n",
    "imaging.ProcessingParamSet.insert_new_params('suite2p', 2, 'basic params', params_suite2p)"
   ]
  },
  {
   "cell_type": "code",
   "execution_count": 22,
   "id": "4017c769",
   "metadata": {},
   "outputs": [
    {
     "name": "stderr",
     "output_type": "stream",
     "text": [
      "[2023-01-16 21:51:42,245][INFO]: Deleting 1 rows from `tobiasr01_imaging`.`processing_task`\n"
     ]
    },
    {
     "name": "stdout",
     "output_type": "stream",
     "text": [
      "Deletes committed.\n"
     ]
    },
    {
     "data": {
      "text/plain": [
       "1"
      ]
     },
     "execution_count": 22,
     "metadata": {},
     "output_type": "execute_result"
    }
   ],
   "source": [
    "imaging.ProcessingTask().delete()\n",
    "# imaging.ProcessingTask().drop()\n",
    "# imaging.ProcessingParamSet().drop()"
   ]
  },
  {
   "cell_type": "code",
   "execution_count": 15,
   "id": "9e8bce51",
   "metadata": {},
   "outputs": [
    {
     "data": {
      "text/html": [
       "\n",
       "    \n",
       "    <style type=\"text/css\">\n",
       "        .Relation{\n",
       "            border-collapse:collapse;\n",
       "        }\n",
       "        .Relation th{\n",
       "            background: #A0A0A0; color: #ffffff; padding:4px; border:#f0e0e0 1px solid;\n",
       "            font-weight: normal; font-family: monospace; font-size: 100%;\n",
       "        }\n",
       "        .Relation td{\n",
       "            padding:4px; border:#f0e0e0 1px solid; font-size:100%;\n",
       "        }\n",
       "        .Relation tr:nth-child(odd){\n",
       "            background: #ffffff;\n",
       "        }\n",
       "        .Relation tr:nth-child(even){\n",
       "            background: #f3f1ff;\n",
       "        }\n",
       "        /* Tooltip container */\n",
       "        .djtooltip {\n",
       "        }\n",
       "        /* Tooltip text */\n",
       "        .djtooltip .djtooltiptext {\n",
       "            visibility: hidden;\n",
       "            width: 120px;\n",
       "            background-color: black;\n",
       "            color: #fff;\n",
       "            text-align: center;\n",
       "            padding: 5px 0;\n",
       "            border-radius: 6px;\n",
       "            /* Position the tooltip text - see examples below! */\n",
       "            position: absolute;\n",
       "            z-index: 1;\n",
       "        }\n",
       "        #primary {\n",
       "            font-weight: bold;\n",
       "            color: black;\n",
       "        }\n",
       "        #nonprimary {\n",
       "            font-weight: normal;\n",
       "            color: white;\n",
       "        }\n",
       "\n",
       "        /* Show the tooltip text when you mouse over the tooltip container */\n",
       "        .djtooltip:hover .djtooltiptext {\n",
       "            visibility: visible;\n",
       "        }\n",
       "    </style>\n",
       "    \n",
       "    <b></b>\n",
       "        <div style=\"max-height:1000px;max-width:1500px;overflow:auto;\">\n",
       "        <table border=\"1\" class=\"Relation\">\n",
       "            <thead> <tr style=\"text-align: right;\"> <th> <div class=\"djtooltip\">\n",
       "                            <p id=\"primary\">session_id</p>\n",
       "                            <span class=\"djtooltiptext\"></span>\n",
       "                        </div></th><th><div class=\"djtooltip\">\n",
       "                            <p id=\"primary\">scan_id</p>\n",
       "                            <span class=\"djtooltiptext\"></span>\n",
       "                        </div></th><th><div class=\"djtooltip\">\n",
       "                            <p id=\"nonprimary\">scanner</p>\n",
       "                            <span class=\"djtooltiptext\"></span>\n",
       "                        </div></th><th><div class=\"djtooltip\">\n",
       "                            <p id=\"nonprimary\">acq_software</p>\n",
       "                            <span class=\"djtooltiptext\"></span>\n",
       "                        </div></th><th><div class=\"djtooltip\">\n",
       "                            <p id=\"nonprimary\">scan_notes</p>\n",
       "                            <span class=\"djtooltiptext\">free-notes</span>\n",
       "                        </div> </th> </tr> </thead>\n",
       "            <tbody> <tr> <td>sess9FG1TAXY</td>\n",
       "<td>scan9FG1THFD</td>\n",
       "<td>mini2p1</td>\n",
       "<td>ScanImage</td>\n",
       "<td></td></tr><tr><td>sess9FG1UAQG</td>\n",
       "<td>scan9FG1UAQG</td>\n",
       "<td>mini2p1</td>\n",
       "<td>ScanImage</td>\n",
       "<td></td> </tr> </tbody>\n",
       "        </table>\n",
       "        \n",
       "        <p>Total: 2</p></div>\n",
       "        "
      ],
      "text/plain": [
       "*session_id    *scan_id       scanner     acq_software   scan_notes    \n",
       "+------------+ +------------+ +---------+ +------------+ +------------+\n",
       "sess9FG1TAXY   scan9FG1THFD   mini2p1     ScanImage                    \n",
       "sess9FG1UAQG   scan9FG1UAQG   mini2p1     ScanImage                    \n",
       " (Total: 2)"
      ]
     },
     "execution_count": 15,
     "metadata": {},
     "output_type": "execute_result"
    }
   ],
   "source": [
    "scan.Scan()"
   ]
  },
  {
   "cell_type": "markdown",
   "id": "92fc5cf3",
   "metadata": {},
   "source": [
    "### Create and Run a Processing Task"
   ]
  },
  {
   "cell_type": "code",
   "execution_count": 25,
   "id": "c89ee0c7",
   "metadata": {},
   "outputs": [
    {
     "ename": "DuplicateError",
     "evalue": "(\"Duplicate entry 'sess9FG1TAXY-scan9FG1THFD-2' for key 'PRIMARY'\", 'To ignore duplicate entries in insert, set skip_duplicates=True')",
     "output_type": "error",
     "traceback": [
      "\u001b[0;31m---------------------------------------------------------------------------\u001b[0m",
      "\u001b[0;31mDuplicateError\u001b[0m                            Traceback (most recent call last)",
      "Cell \u001b[0;32mIn[25], line 1\u001b[0m\n\u001b[0;32m----> 1\u001b[0m imaging\u001b[39m.\u001b[39;49mProcessingTask\u001b[39m.\u001b[39;49minsert1((\u001b[39m'\u001b[39;49m\u001b[39msess9FG1TAXY\u001b[39;49m\u001b[39m'\u001b[39;49m,\n\u001b[1;32m      2\u001b[0m                                 \u001b[39m'\u001b[39;49m\u001b[39mscan9FG1THFD\u001b[39;49m\u001b[39m'\u001b[39;49m,\n\u001b[1;32m      3\u001b[0m                                 \u001b[39m2\u001b[39;49m,\n\u001b[1;32m      4\u001b[0m                                 \u001b[39m'\u001b[39;49m\u001b[39m'\u001b[39;49m,\n\u001b[1;32m      5\u001b[0m                                 \u001b[39m'\u001b[39;49m\u001b[39mtrigger\u001b[39;49m\u001b[39m'\u001b[39;49m))\n\u001b[1;32m      7\u001b[0m \u001b[39m# inject directory names \u001b[39;00m\n",
      "File \u001b[0;32m~/opt/miniconda3/envs/datajoint/lib/python3.8/site-packages/datajoint/table.py:334\u001b[0m, in \u001b[0;36mTable.insert1\u001b[0;34m(self, row, **kwargs)\u001b[0m\n\u001b[1;32m    327\u001b[0m \u001b[39mdef\u001b[39;00m \u001b[39minsert1\u001b[39m(\u001b[39mself\u001b[39m, row, \u001b[39m*\u001b[39m\u001b[39m*\u001b[39mkwargs):\n\u001b[1;32m    328\u001b[0m \u001b[39m    \u001b[39m\u001b[39m\"\"\"\u001b[39;00m\n\u001b[1;32m    329\u001b[0m \u001b[39m    Insert one data record into the table. For ``kwargs``, see ``insert()``.\u001b[39;00m\n\u001b[1;32m    330\u001b[0m \n\u001b[1;32m    331\u001b[0m \u001b[39m    :param row: a numpy record, a dict-like object, or an ordered sequence to be inserted\u001b[39;00m\n\u001b[1;32m    332\u001b[0m \u001b[39m        as one row.\u001b[39;00m\n\u001b[1;32m    333\u001b[0m \u001b[39m    \"\"\"\u001b[39;00m\n\u001b[0;32m--> 334\u001b[0m     \u001b[39mself\u001b[39;49m\u001b[39m.\u001b[39;49minsert((row,), \u001b[39m*\u001b[39;49m\u001b[39m*\u001b[39;49mkwargs)\n",
      "File \u001b[0;32m~/opt/miniconda3/envs/datajoint/lib/python3.8/site-packages/datajoint/table.py:443\u001b[0m, in \u001b[0;36mTable.insert\u001b[0;34m(self, rows, replace, skip_duplicates, ignore_extra_fields, allow_direct_insert)\u001b[0m\n\u001b[1;32m    439\u001b[0m     \u001b[39mraise\u001b[39;00m err\u001b[39m.\u001b[39msuggest(\n\u001b[1;32m    440\u001b[0m         \u001b[39m\"\u001b[39m\u001b[39mTo ignore extra fields in insert, set ignore_extra_fields=True\u001b[39m\u001b[39m\"\u001b[39m\n\u001b[1;32m    441\u001b[0m     )\n\u001b[1;32m    442\u001b[0m \u001b[39mexcept\u001b[39;00m DuplicateError \u001b[39mas\u001b[39;00m err:\n\u001b[0;32m--> 443\u001b[0m     \u001b[39mraise\u001b[39;00m err\u001b[39m.\u001b[39msuggest(\n\u001b[1;32m    444\u001b[0m         \u001b[39m\"\u001b[39m\u001b[39mTo ignore duplicate entries in insert, set skip_duplicates=True\u001b[39m\u001b[39m\"\u001b[39m\n\u001b[1;32m    445\u001b[0m     )\n",
      "\u001b[0;31mDuplicateError\u001b[0m: (\"Duplicate entry 'sess9FG1TAXY-scan9FG1THFD-2' for key 'PRIMARY'\", 'To ignore duplicate entries in insert, set skip_duplicates=True')"
     ]
    }
   ],
   "source": [
    "imaging.ProcessingTask.insert1(('sess9FG1TAXY',\n",
    "                                'scan9FG1THFD',\n",
    "                                2,\n",
    "                                '',\n",
    "                                'trigger'))\n",
    "\n",
    "# inject directory names "
   ]
  },
  {
   "cell_type": "markdown",
   "id": "568cf5a8",
   "metadata": {},
   "source": [
    "To run all unprocessed processing task we call populate on processing:"
   ]
  },
  {
   "cell_type": "code",
   "execution_count": 24,
   "id": "c4c8bb54-ae93-4974-9ff7-ac74dfa2baa0",
   "metadata": {
    "scrolled": true
   },
   "outputs": [
    {
     "name": "stderr",
     "output_type": "stream",
     "text": [
      "Processing:   0%|          | 0/1 [00:00<?, ?it/s]OMP: Info #276: omp_set_nested routine deprecated, please use omp_set_max_active_levels instead.\n",
      "/Users/trose/opt/miniconda3/envs/datajoint/lib/python3.8/site-packages/tqdm/auto.py:22: TqdmWarning: IProgress not found. Please update jupyter and ipywidgets. See https://ipywidgets.readthedocs.io/en/stable/user_install.html\n",
      "  from .autonotebook import tqdm as notebook_tqdm\n"
     ]
    },
    {
     "name": "stdout",
     "output_type": "stream",
     "text": [
      "{'data_path': ['/Users/trose/Data/TR_WEZ-8701_2023-01-13_scan9FG1THFD_sess9FG1TAXY'], 'tiff_list': ['/Users/trose/Data/TR_WEZ-8701_2023-01-13_scan9FG1THFD_sess9FG1TAXY/scan9FG1THFD_TR_WEZ-8701_00033.tif']}\n",
      "tif\n",
      "** Found 1 tifs - converting to binary **\n",
      "2000 frames of binary, time 1.96 sec.\n",
      "time 2.52 sec. Wrote 3000 frames per binary for 1 planes\n",
      ">>>>>>>>>>>>>>>>>>>>> PLANE 0 <<<<<<<<<<<<<<<<<<<<<<\n",
      "NOTE: not registered / registration forced with ops['do_registration']>1\n",
      "      (no previous offsets to delete)\n",
      "NOTE: applying default /Users/trose/.suite2p/classifiers/classifier_user.npy\n",
      "----------- REGISTRATION\n",
      "Reference frame, 8.85 sec.\n",
      "Registered 500/3000 in 9.03s\n",
      "Registered 1000/3000 in 16.08s\n",
      "Registered 1500/3000 in 22.67s\n",
      "Registered 2000/3000 in 29.26s\n",
      "Registered 2500/3000 in 35.78s\n",
      "Registered 3000/3000 in 42.32s\n",
      "----------- Total 54.76 sec\n",
      "Registration metrics, 6.69 sec.\n",
      "----------- ROI DETECTION\n",
      "Binning movie in chunks of length 15\n",
      "Binned movie of size [200,208,208] created in 0.67 sec.\n",
      "ROIs: 21, cost: 0.3667, time: 327.1412\n",
      "ROIs: 35, cost: 0.3505, time: 335.4436\n",
      "ROIs: 39, cost: 0.3464, time: 369.7704\n",
      "ROIs: 40, cost: 0.3451, time: 597.3625\n",
      "ROIs: 40, cost: 0.5563, time: 598.6805\n",
      "ROIs: 40, cost: 0.5292, time: 623.7415\n",
      "ROIs: 40, cost: 0.5225, time: 632.1321\n",
      "Detected 40 ROIs, 653.11 sec\n",
      "After removing overlaps, 37 ROIs remain\n",
      "----------- Total 654.34 sec.\n",
      "----------- EXTRACTION\n",
      "Masks created, 49.17 sec.\n",
      "Extracted fluorescence from 37 ROIs in 3000 frames, 9.71 sec.\n",
      "----------- Total 58.95 sec.\n",
      "----------- CLASSIFICATION\n",
      "['npix_norm', 'compact', 'skew']\n",
      "----------- SPIKE DECONVOLUTION\n",
      "----------- Total 0.02 sec.\n",
      "Plane 0 processed in 774.91 sec (can open in GUI).\n",
      "total = 777.53 sec.\n",
      "TOTAL RUNTIME 777.53 sec\n"
     ]
    },
    {
     "name": "stderr",
     "output_type": "stream",
     "text": [
      "[2023-01-16 22:08:16,362][WARNING]: MySQL server has gone away. Reconnecting to the server.\n",
      "Processing:   0%|          | 0/1 [16:19<?, ?it/s]\n"
     ]
    },
    {
     "ename": "LostConnectionError",
     "evalue": "Connection was lost during a transaction.",
     "output_type": "error",
     "traceback": [
      "\u001b[0;31m---------------------------------------------------------------------------\u001b[0m",
      "\u001b[0;31mLostConnectionError\u001b[0m                       Traceback (most recent call last)",
      "Cell \u001b[0;32mIn[24], line 1\u001b[0m\n\u001b[0;32m----> 1\u001b[0m imaging\u001b[39m.\u001b[39;49mProcessing\u001b[39m.\u001b[39;49mpopulate(display_progress\u001b[39m=\u001b[39;49m\u001b[39mTrue\u001b[39;49;00m)\n",
      "File \u001b[0;32m~/opt/miniconda3/envs/datajoint/lib/python3.8/site-packages/datajoint/autopopulate.py:230\u001b[0m, in \u001b[0;36mAutoPopulate.populate\u001b[0;34m(self, suppress_errors, return_exception_objects, reserve_jobs, order, limit, max_calls, display_progress, processes, make_kwargs, *restrictions)\u001b[0m\n\u001b[1;32m    226\u001b[0m \u001b[39mif\u001b[39;00m processes \u001b[39m==\u001b[39m \u001b[39m1\u001b[39m:\n\u001b[1;32m    227\u001b[0m     \u001b[39mfor\u001b[39;00m key \u001b[39min\u001b[39;00m (\n\u001b[1;32m    228\u001b[0m         tqdm(keys, desc\u001b[39m=\u001b[39m\u001b[39mself\u001b[39m\u001b[39m.\u001b[39m\u001b[39m__class__\u001b[39m\u001b[39m.\u001b[39m\u001b[39m__name__\u001b[39m) \u001b[39mif\u001b[39;00m display_progress \u001b[39melse\u001b[39;00m keys\n\u001b[1;32m    229\u001b[0m     ):\n\u001b[0;32m--> 230\u001b[0m         error \u001b[39m=\u001b[39m \u001b[39mself\u001b[39;49m\u001b[39m.\u001b[39;49m_populate1(key, jobs, \u001b[39m*\u001b[39;49m\u001b[39m*\u001b[39;49mpopulate_kwargs)\n\u001b[1;32m    231\u001b[0m         \u001b[39mif\u001b[39;00m error \u001b[39mis\u001b[39;00m \u001b[39mnot\u001b[39;00m \u001b[39mNone\u001b[39;00m:\n\u001b[1;32m    232\u001b[0m             error_list\u001b[39m.\u001b[39mappend(error)\n",
      "File \u001b[0;32m~/opt/miniconda3/envs/datajoint/lib/python3.8/site-packages/datajoint/autopopulate.py:281\u001b[0m, in \u001b[0;36mAutoPopulate._populate1\u001b[0;34m(self, key, jobs, suppress_errors, return_exception_objects, make_kwargs)\u001b[0m\n\u001b[1;32m    279\u001b[0m \u001b[39mself\u001b[39m\u001b[39m.\u001b[39m\u001b[39m__class__\u001b[39m\u001b[39m.\u001b[39m_allow_insert \u001b[39m=\u001b[39m \u001b[39mTrue\u001b[39;00m\n\u001b[1;32m    280\u001b[0m \u001b[39mtry\u001b[39;00m:\n\u001b[0;32m--> 281\u001b[0m     make(\u001b[39mdict\u001b[39;49m(key), \u001b[39m*\u001b[39;49m\u001b[39m*\u001b[39;49m(make_kwargs \u001b[39mor\u001b[39;49;00m {}))\n\u001b[1;32m    282\u001b[0m \u001b[39mexcept\u001b[39;00m (\u001b[39mKeyboardInterrupt\u001b[39;00m, \u001b[39mSystemExit\u001b[39;00m, \u001b[39mException\u001b[39;00m) \u001b[39mas\u001b[39;00m error:\n\u001b[1;32m    283\u001b[0m     \u001b[39mtry\u001b[39;00m:\n",
      "File \u001b[0;32m~/opt/miniconda3/envs/datajoint/lib/python3.8/site-packages/element_calcium_imaging/imaging.py:233\u001b[0m, in \u001b[0;36mProcessing.make\u001b[0;34m(self, key)\u001b[0m\n\u001b[1;32m    226\u001b[0m suite2p_paths \u001b[39m=\u001b[39m {\n\u001b[1;32m    227\u001b[0m     \u001b[39m'\u001b[39m\u001b[39mdata_path\u001b[39m\u001b[39m'\u001b[39m: [image_files[\u001b[39m0\u001b[39m]\u001b[39m.\u001b[39mparent\u001b[39m.\u001b[39mas_posix()],\n\u001b[1;32m    228\u001b[0m     \u001b[39m'\u001b[39m\u001b[39mtiff_list\u001b[39m\u001b[39m'\u001b[39m: [f\u001b[39m.\u001b[39mas_posix() \u001b[39mfor\u001b[39;00m f \u001b[39min\u001b[39;00m image_files]\n\u001b[1;32m    229\u001b[0m }\n\u001b[1;32m    231\u001b[0m suite2p\u001b[39m.\u001b[39mrun_s2p(ops\u001b[39m=\u001b[39msuite2p_params, db\u001b[39m=\u001b[39msuite2p_paths)  \u001b[39m# Run suite2p\u001b[39;00m\n\u001b[0;32m--> 233\u001b[0m _, imaging_dataset \u001b[39m=\u001b[39m get_loader_result(key, ProcessingTask)\n\u001b[1;32m    234\u001b[0m suite2p_dataset \u001b[39m=\u001b[39m imaging_dataset\n\u001b[1;32m    235\u001b[0m key \u001b[39m=\u001b[39m {\u001b[39m*\u001b[39m\u001b[39m*\u001b[39mkey, \u001b[39m'\u001b[39m\u001b[39mprocessing_time\u001b[39m\u001b[39m'\u001b[39m: suite2p_dataset\u001b[39m.\u001b[39mcreation_time}\n",
      "File \u001b[0;32m~/opt/miniconda3/envs/datajoint/lib/python3.8/site-packages/element_calcium_imaging/imaging.py:861\u001b[0m, in \u001b[0;36mget_loader_result\u001b[0;34m(key, table)\u001b[0m\n\u001b[1;32m    852\u001b[0m \u001b[39mdef\u001b[39;00m \u001b[39mget_loader_result\u001b[39m(key, table):\n\u001b[1;32m    853\u001b[0m \u001b[39m    \u001b[39m\u001b[39m\"\"\"\u001b[39;00m\n\u001b[1;32m    854\u001b[0m \u001b[39m    Retrieve the loaded processed imaging results from the loader (e.g. suite2p, caiman, etc.)\u001b[39;00m\n\u001b[1;32m    855\u001b[0m \u001b[39m        :param key: the `key` to one entry of ProcessingTask or Curation\u001b[39;00m\n\u001b[0;32m   (...)\u001b[0m\n\u001b[1;32m    859\u001b[0m \u001b[39m         (e.g. suite2p.Suite2p, caiman.CaImAn, etc.)\u001b[39;00m\n\u001b[1;32m    860\u001b[0m \u001b[39m    \"\"\"\u001b[39;00m\n\u001b[0;32m--> 861\u001b[0m     method, output_dir \u001b[39m=\u001b[39m (ProcessingParamSet \u001b[39m*\u001b[39;49m table \u001b[39m&\u001b[39;49m key)\u001b[39m.\u001b[39;49mfetch1(\n\u001b[1;32m    862\u001b[0m         \u001b[39m'\u001b[39;49m\u001b[39mprocessing_method\u001b[39;49m\u001b[39m'\u001b[39;49m, _table_attribute_mapper[table\u001b[39m.\u001b[39;49m\u001b[39m__name__\u001b[39;49m])\n\u001b[1;32m    864\u001b[0m     output_path \u001b[39m=\u001b[39m find_full_path(get_imaging_root_data_dir(), output_dir)\n\u001b[1;32m    866\u001b[0m     \u001b[39mif\u001b[39;00m method \u001b[39m==\u001b[39m \u001b[39m'\u001b[39m\u001b[39msuite2p\u001b[39m\u001b[39m'\u001b[39m:\n",
      "File \u001b[0;32m~/opt/miniconda3/envs/datajoint/lib/python3.8/site-packages/datajoint/fetch.py:346\u001b[0m, in \u001b[0;36mFetch1.__call__\u001b[0;34m(self, squeeze, download_path, *attrs)\u001b[0m\n\u001b[1;32m    344\u001b[0m \u001b[39melse\u001b[39;00m:  \u001b[39m# fetch some attributes, return as tuple\u001b[39;00m\n\u001b[1;32m    345\u001b[0m     attributes \u001b[39m=\u001b[39m [a \u001b[39mfor\u001b[39;00m a \u001b[39min\u001b[39;00m attrs \u001b[39mif\u001b[39;00m \u001b[39mnot\u001b[39;00m is_key(a)]\n\u001b[0;32m--> 346\u001b[0m     result \u001b[39m=\u001b[39m \u001b[39mself\u001b[39;49m\u001b[39m.\u001b[39;49m_expression\u001b[39m.\u001b[39;49mproj(\u001b[39m*\u001b[39;49mattributes)\u001b[39m.\u001b[39;49mfetch(\n\u001b[1;32m    347\u001b[0m         squeeze\u001b[39m=\u001b[39;49msqueeze, download_path\u001b[39m=\u001b[39;49mdownload_path, \u001b[39mformat\u001b[39;49m\u001b[39m=\u001b[39;49m\u001b[39m\"\u001b[39;49m\u001b[39marray\u001b[39;49m\u001b[39m\"\u001b[39;49m\n\u001b[1;32m    348\u001b[0m     )\n\u001b[1;32m    349\u001b[0m     \u001b[39mif\u001b[39;00m \u001b[39mlen\u001b[39m(result) \u001b[39m!=\u001b[39m \u001b[39m1\u001b[39m:\n\u001b[1;32m    350\u001b[0m         \u001b[39mraise\u001b[39;00m DataJointError(\n\u001b[1;32m    351\u001b[0m             \u001b[39m\"\u001b[39m\u001b[39mfetch1 should only return one tuple. \u001b[39m\u001b[39m%d\u001b[39;00m\u001b[39m tuples found\u001b[39m\u001b[39m\"\u001b[39m \u001b[39m%\u001b[39m \u001b[39mlen\u001b[39m(result)\n\u001b[1;32m    352\u001b[0m         )\n",
      "File \u001b[0;32m~/opt/miniconda3/envs/datajoint/lib/python3.8/site-packages/datajoint/fetch.py:256\u001b[0m, in \u001b[0;36mFetch.__call__\u001b[0;34m(self, offset, limit, order_by, format, as_dict, squeeze, download_path, *attrs)\u001b[0m\n\u001b[1;32m    254\u001b[0m         ret \u001b[39m=\u001b[39m return_values[\u001b[39m0\u001b[39m] \u001b[39mif\u001b[39;00m \u001b[39mlen\u001b[39m(attrs) \u001b[39m==\u001b[39m \u001b[39m1\u001b[39m \u001b[39melse\u001b[39;00m return_values\n\u001b[1;32m    255\u001b[0m \u001b[39melse\u001b[39;00m:  \u001b[39m# fetch all attributes as a numpy.record_array or pandas.DataFrame\u001b[39;00m\n\u001b[0;32m--> 256\u001b[0m     cur \u001b[39m=\u001b[39m \u001b[39mself\u001b[39;49m\u001b[39m.\u001b[39;49m_expression\u001b[39m.\u001b[39;49mcursor(\n\u001b[1;32m    257\u001b[0m         as_dict\u001b[39m=\u001b[39;49mas_dict, limit\u001b[39m=\u001b[39;49mlimit, offset\u001b[39m=\u001b[39;49moffset, order_by\u001b[39m=\u001b[39;49morder_by\n\u001b[1;32m    258\u001b[0m     )\n\u001b[1;32m    259\u001b[0m     heading \u001b[39m=\u001b[39m \u001b[39mself\u001b[39m\u001b[39m.\u001b[39m_expression\u001b[39m.\u001b[39mheading\n\u001b[1;32m    260\u001b[0m     \u001b[39mif\u001b[39;00m as_dict:\n",
      "File \u001b[0;32m~/opt/miniconda3/envs/datajoint/lib/python3.8/site-packages/datajoint/expression.py:629\u001b[0m, in \u001b[0;36mQueryExpression.cursor\u001b[0;34m(self, offset, limit, order_by, as_dict)\u001b[0m\n\u001b[1;32m    627\u001b[0m     sql \u001b[39m+\u001b[39m\u001b[39m=\u001b[39m \u001b[39m\"\u001b[39m\u001b[39m LIMIT \u001b[39m\u001b[39m%d\u001b[39;00m\u001b[39m\"\u001b[39m \u001b[39m%\u001b[39m limit \u001b[39m+\u001b[39m (\u001b[39m\"\u001b[39m\u001b[39m OFFSET \u001b[39m\u001b[39m%d\u001b[39;00m\u001b[39m\"\u001b[39m \u001b[39m%\u001b[39m offset \u001b[39mif\u001b[39;00m offset \u001b[39melse\u001b[39;00m \u001b[39m\"\u001b[39m\u001b[39m\"\u001b[39m)\n\u001b[1;32m    628\u001b[0m logger\u001b[39m.\u001b[39mdebug(sql)\n\u001b[0;32m--> 629\u001b[0m \u001b[39mreturn\u001b[39;00m \u001b[39mself\u001b[39;49m\u001b[39m.\u001b[39;49mconnection\u001b[39m.\u001b[39;49mquery(sql, as_dict\u001b[39m=\u001b[39;49mas_dict)\n",
      "File \u001b[0;32m~/opt/miniconda3/envs/datajoint/lib/python3.8/site-packages/datajoint/connection.py:348\u001b[0m, in \u001b[0;36mConnection.query\u001b[0;34m(self, query, args, as_dict, suppress_warnings, reconnect)\u001b[0m\n\u001b[1;32m    346\u001b[0m \u001b[39mif\u001b[39;00m \u001b[39mself\u001b[39m\u001b[39m.\u001b[39m_in_transaction:\n\u001b[1;32m    347\u001b[0m     \u001b[39mself\u001b[39m\u001b[39m.\u001b[39mcancel_transaction()\n\u001b[0;32m--> 348\u001b[0m     \u001b[39mraise\u001b[39;00m errors\u001b[39m.\u001b[39mLostConnectionError(\n\u001b[1;32m    349\u001b[0m         \u001b[39m\"\u001b[39m\u001b[39mConnection was lost during a transaction.\u001b[39m\u001b[39m\"\u001b[39m\n\u001b[1;32m    350\u001b[0m     )\n\u001b[1;32m    351\u001b[0m logger\u001b[39m.\u001b[39mdebug(\u001b[39m\"\u001b[39m\u001b[39mRe-executing\u001b[39m\u001b[39m\"\u001b[39m)\n\u001b[1;32m    352\u001b[0m cursor \u001b[39m=\u001b[39m \u001b[39mself\u001b[39m\u001b[39m.\u001b[39m_conn\u001b[39m.\u001b[39mcursor(cursor\u001b[39m=\u001b[39mcursor_class)\n",
      "\u001b[0;31mLostConnectionError\u001b[0m: Connection was lost during a transaction."
     ]
    }
   ],
   "source": [
    "imaging.Processing.populate(display_progress=True)"
   ]
  },
  {
   "cell_type": "code",
   "execution_count": null,
   "id": "1dfdff8d",
   "metadata": {},
   "outputs": [],
   "source": [
    "imaging.scan()"
   ]
  },
  {
   "cell_type": "code",
   "execution_count": null,
   "id": "cf114ad9",
   "metadata": {},
   "outputs": [],
   "source": [
    "imaging.ProcessingTask()"
   ]
  },
  {
   "cell_type": "code",
   "execution_count": null,
   "id": "f6ba28b3",
   "metadata": {},
   "outputs": [],
   "source": [
    "imaging.Processing()"
   ]
  },
  {
   "cell_type": "code",
   "execution_count": null,
   "id": "c598dad8",
   "metadata": {},
   "outputs": [],
   "source": [
    "session_key = (session.Session & 'subject = \"ROS-1438\"').fetch('KEY')[0]"
   ]
  },
  {
   "cell_type": "code",
   "execution_count": null,
   "id": "69eba07f",
   "metadata": {},
   "outputs": [],
   "source": [
    "scan.ScanInfo.ScanFile()\n"
   ]
  },
  {
   "cell_type": "code",
   "execution_count": null,
   "id": "aa0c6524",
   "metadata": {},
   "outputs": [],
   "source": [
    "scan.Scan & session_key"
   ]
  },
  {
   "cell_type": "code",
   "execution_count": null,
   "id": "85fa0ff3",
   "metadata": {},
   "outputs": [],
   "source": [
    "scan.ScanInfo & session_key"
   ]
  },
  {
   "cell_type": "code",
   "execution_count": null,
   "id": "1a264f1f",
   "metadata": {},
   "outputs": [],
   "source": [
    "scan.ScanInfo.Field & session_key"
   ]
  },
  {
   "cell_type": "code",
   "execution_count": null,
   "id": "0b67e2d1",
   "metadata": {},
   "outputs": [],
   "source": [
    "imaging.ProcessingParamSet()"
   ]
  },
  {
   "cell_type": "code",
   "execution_count": null,
   "id": "f5f520c4",
   "metadata": {},
   "outputs": [],
   "source": [
    "imaging.ProcessingTask * imaging.Processing & session_key"
   ]
  },
  {
   "cell_type": "code",
   "execution_count": null,
   "id": "0c0286e0",
   "metadata": {},
   "outputs": [],
   "source": [
    "imaging.Curation & session_key"
   ]
  },
  {
   "cell_type": "markdown",
   "id": "165b6c61",
   "metadata": {},
   "source": [
    "Scanreader payload testing"
   ]
  },
  {
   "cell_type": "code",
   "execution_count": null,
   "id": "044cb299",
   "metadata": {},
   "outputs": [],
   "source": [
    "path = scan.ScanInfo.ScanFile().fetch('file_path')[0]\n",
    "infoscan = scanreader.read_scan(path)"
   ]
  },
  {
   "cell_type": "code",
   "execution_count": null,
   "id": "559560fc",
   "metadata": {},
   "outputs": [],
   "source": [
    "\n",
    "infoscan.user_funtion\n"
   ]
  },
  {
   "cell_type": "code",
   "execution_count": null,
   "id": "2e3c1269",
   "metadata": {},
   "outputs": [],
   "source": [
    "scan.ScanInfo()"
   ]
  },
  {
   "cell_type": "code",
   "execution_count": null,
   "id": "075702a4",
   "metadata": {},
   "outputs": [],
   "source": [
    "session.Session()"
   ]
  },
  {
   "cell_type": "code",
   "execution_count": null,
   "id": "964ebb81",
   "metadata": {},
   "outputs": [],
   "source": [
    "Sess"
   ]
  }
 ],
 "metadata": {
  "jupytext": {
   "formats": "ipynb,py"
  },
  "kernelspec": {
   "display_name": "datajoint",
   "language": "python",
   "name": "python3"
  },
  "language_info": {
   "codemirror_mode": {
    "name": "ipython",
    "version": 3
   },
   "file_extension": ".py",
   "mimetype": "text/x-python",
   "name": "python",
   "nbconvert_exporter": "python",
   "pygments_lexer": "ipython3",
   "version": "3.8.15"
  },
  "vscode": {
   "interpreter": {
    "hash": "b6b88a8194cd92b549912c5fccf4f99c3c2f8b37389322b86781a2268700b256"
   }
  }
 },
 "nbformat": 4,
 "nbformat_minor": 5
}
