{
 "cells": [
  {
   "cell_type": "markdown",
   "id": "46f28eb7-1fcc-4b9a-803e-097202fd899d",
   "metadata": {},
   "source": [
    "# Scanning Session Ingestion"
   ]
  },
  {
   "cell_type": "markdown",
   "id": "bba759c2-4cc1-45ee-9212-422a604c32a4",
   "metadata": {},
   "source": [
    "## Setup"
   ]
  },
  {
   "cell_type": "markdown",
   "id": "0da9aa77-afbf-43b2-ad19-e497e05e8627",
   "metadata": {},
   "source": [
    "### Connect to the database"
   ]
  },
  {
   "cell_type": "markdown",
   "id": "bd1468c3-3915-49e6-89a9-10c7940017fd",
   "metadata": {},
   "source": [
    "If you are don't have your login information, contact the administrator.\n",
    "\n",
    "Using local config file (see [01_pipeline](./01_pipeline.ipynb)):"
   ]
  },
  {
   "cell_type": "code",
   "execution_count": 1,
   "id": "301f9675-53e0-4ff6-bf3d-baba6589d6e3",
   "metadata": {},
   "outputs": [
    {
     "name": "stderr",
     "output_type": "stream",
     "text": [
      "[2022-12-18 11:54:11,336][INFO]: Connecting tobiasr@172.26.128.53:3306\n",
      "[2022-12-18 11:54:11,661][INFO]: Connected tobiasr@172.26.128.53:3306\n"
     ]
    },
    {
     "name": "stdout",
     "output_type": "stream",
     "text": [
      "Loading DLC 2.2.1.1...\n"
     ]
    },
    {
     "name": "stderr",
     "output_type": "stream",
     "text": [
      "/Users/trose/opt/miniconda3/envs/datajoint/lib/python3.8/site-packages/statsmodels/compat/pandas.py:65: FutureWarning: pandas.Int64Index is deprecated and will be removed from pandas in a future version. Use pandas.Index with the appropriate dtype instead.\n",
      "  from pandas import Int64Index as NumericIndex\n"
     ]
    },
    {
     "name": "stdout",
     "output_type": "stream",
     "text": [
      "DLC loaded in light mode; you cannot use any GUI (labeling, relabeling and standalone GUI)\n"
     ]
    }
   ],
   "source": [
    "import os\n",
    "# change to the upper level folder to detect dj_local_conf.json\n",
    "if os.path.basename(os.getcwd())=='notebooks': os.chdir('..')\n",
    "assert os.path.basename(os.getcwd())=='adamacs', (\"Please move to the main directory\")\n",
    "import datajoint as dj; dj.conn()\n",
    "\n",
    "from adamacs.pipeline import subject, session, surgery, scan, event, trial, imaging\n",
    "from adamacs import utility\n",
    "from adamacs.ingest import behavior as ibe\n",
    "import numpy as np\n",
    "import scanreader"
   ]
  },
  {
   "cell_type": "markdown",
   "id": "7a2e2ccf-01d6-4d31-932b-aa12f8cd05a8",
   "metadata": {},
   "source": [
    "Manual entry:"
   ]
  },
  {
   "cell_type": "code",
   "execution_count": null,
   "id": "333074dc-2962-4c3f-ae66-d4164d6ceac9",
   "metadata": {},
   "outputs": [],
   "source": [
    "# Manual Entry\n",
    "import datajoint as dj; import getpass\n",
    "dj.config['database.host'] = '172.26.128.53'        # Put the server name between these apostrophe\n",
    "dj.config['database.user'] = 'root'             # Put your user name between these apostrophe\n",
    "dj.config['database.password'] = getpass.getpass()  # Put your password in the prompt\n",
    "dj.conn()\n",
    "\n",
    "from adamacs.pipeline import subject, session, surgery, scan, event, trial, imaging\n",
    "from adamacs import utility\n",
    "from adamacs.ingest import behavior as ibe\n",
    "import numpy as np"
   ]
  },
  {
   "cell_type": "markdown",
   "id": "4b1d4d39",
   "metadata": {},
   "source": [
    "## populate scaninfo"
   ]
  },
  {
   "cell_type": "code",
   "execution_count": 2,
   "id": "dc973669",
   "metadata": {},
   "outputs": [
    {
     "name": "stdout",
     "output_type": "stream",
     "text": [
      "# general data about the reso/meso scans from header\n",
      "-> scan.Scan\n",
      "---\n",
      "nfields              : tinyint                      # number of fields\n",
      "nchannels            : tinyint                      # number of channels\n",
      "ndepths              : int                          # Number of scanning depths (planes)\n",
      "nframes              : int                          # number of recorded frames\n",
      "nrois                : tinyint                      # number of ROIs (see scanimage's multi ROI imaging)\n",
      "x=null               : float                        # (um) ScanImage's 0 point in the motor coordinate system\n",
      "y=null               : float                        # (um) ScanImage's 0 point in the motor coordinate system\n",
      "z=null               : float                        # (um) ScanImage's 0 point in the motor coordinate system\n",
      "fps                  : float                        # (Hz) frames per second - Volumetric Scan Rate\n",
      "bidirectional        : tinyint                      # true = bidirectional scanning\n",
      "usecs_per_line=null  : float                        # microseconds per scan line\n",
      "fill_fraction=null   : float                        # raster scan temporal fill fraction (see scanimage)\n",
      "scan_datetime=null   : datetime                     # datetime of the scan\n",
      "scan_duration=null   : float                        # (seconds) duration of the scan\n",
      "\n"
     ]
    },
    {
     "data": {
      "text/plain": [
       "\"# general data about the reso/meso scans from header\\n-> scan.Scan\\n---\\nnfields              : tinyint                      # number of fields\\nnchannels            : tinyint                      # number of channels\\nndepths              : int                          # Number of scanning depths (planes)\\nnframes              : int                          # number of recorded frames\\nnrois                : tinyint                      # number of ROIs (see scanimage's multi ROI imaging)\\nx=null               : float                        # (um) ScanImage's 0 point in the motor coordinate system\\ny=null               : float                        # (um) ScanImage's 0 point in the motor coordinate system\\nz=null               : float                        # (um) ScanImage's 0 point in the motor coordinate system\\nfps                  : float                        # (Hz) frames per second - Volumetric Scan Rate\\nbidirectional        : tinyint                      # true = bidirectional scanning\\nusecs_per_line=null  : float                        # microseconds per scan line\\nfill_fraction=null   : float                        # raster scan temporal fill fraction (see scanimage)\\nscan_datetime=null   : datetime                     # datetime of the scan\\nscan_duration=null   : float                        # (seconds) duration of the scan\\n\""
      ]
     },
     "execution_count": 2,
     "metadata": {},
     "output_type": "execute_result"
    }
   ],
   "source": [
    "scan.ScanInfo.describe()"
   ]
  },
  {
   "cell_type": "code",
   "execution_count": null,
   "id": "888d83a0",
   "metadata": {},
   "outputs": [],
   "source": [
    "scan.ScanInfo.heading"
   ]
  },
  {
   "cell_type": "code",
   "execution_count": 3,
   "id": "1f950c59",
   "metadata": {},
   "outputs": [],
   "source": [
    "populate_settings = {'display_progress': True}"
   ]
  },
  {
   "cell_type": "code",
   "execution_count": 4,
   "id": "bd67bfac",
   "metadata": {},
   "outputs": [
    {
     "ename": "TypeError",
     "evalue": "argument of type 'bool' is not iterable",
     "output_type": "error",
     "traceback": [
      "\u001b[0;31m---------------------------------------------------------------------------\u001b[0m",
      "\u001b[0;31mTypeError\u001b[0m                                 Traceback (most recent call last)",
      "File \u001b[0;32m~/opt/miniconda3/envs/datajoint/lib/python3.8/site-packages/IPython/core/formatters.py:342\u001b[0m, in \u001b[0;36mBaseFormatter.__call__\u001b[0;34m(self, obj)\u001b[0m\n\u001b[1;32m    340\u001b[0m     method \u001b[39m=\u001b[39m get_real_method(obj, \u001b[39mself\u001b[39m\u001b[39m.\u001b[39mprint_method)\n\u001b[1;32m    341\u001b[0m     \u001b[39mif\u001b[39;00m method \u001b[39mis\u001b[39;00m \u001b[39mnot\u001b[39;00m \u001b[39mNone\u001b[39;00m:\n\u001b[0;32m--> 342\u001b[0m         \u001b[39mreturn\u001b[39;00m method()\n\u001b[1;32m    343\u001b[0m     \u001b[39mreturn\u001b[39;00m \u001b[39mNone\u001b[39;00m\n\u001b[1;32m    344\u001b[0m \u001b[39melse\u001b[39;00m:\n",
      "File \u001b[0;32m~/opt/miniconda3/envs/datajoint/lib/python3.8/site-packages/datajoint/diagram.py:440\u001b[0m, in \u001b[0;36mDiagram._repr_svg_\u001b[0;34m(self)\u001b[0m\n\u001b[1;32m    439\u001b[0m \u001b[39mdef\u001b[39;00m \u001b[39m_repr_svg_\u001b[39m(\u001b[39mself\u001b[39m):\n\u001b[0;32m--> 440\u001b[0m     \u001b[39mreturn\u001b[39;00m \u001b[39mself\u001b[39;49m\u001b[39m.\u001b[39;49mmake_svg()\u001b[39m.\u001b[39m_repr_svg_()\n",
      "File \u001b[0;32m~/opt/miniconda3/envs/datajoint/lib/python3.8/site-packages/datajoint/diagram.py:428\u001b[0m, in \u001b[0;36mDiagram.make_svg\u001b[0;34m(self)\u001b[0m\n\u001b[1;32m    425\u001b[0m \u001b[39mdef\u001b[39;00m \u001b[39mmake_svg\u001b[39m(\u001b[39mself\u001b[39m):\n\u001b[1;32m    426\u001b[0m     \u001b[39mfrom\u001b[39;00m \u001b[39mIPython\u001b[39;00m\u001b[39m.\u001b[39;00m\u001b[39mdisplay\u001b[39;00m \u001b[39mimport\u001b[39;00m SVG\n\u001b[0;32m--> 428\u001b[0m     \u001b[39mreturn\u001b[39;00m SVG(\u001b[39mself\u001b[39;49m\u001b[39m.\u001b[39;49mmake_dot()\u001b[39m.\u001b[39mcreate_svg())\n",
      "File \u001b[0;32m~/opt/miniconda3/envs/datajoint/lib/python3.8/site-packages/datajoint/diagram.py:373\u001b[0m, in \u001b[0;36mDiagram.make_dot\u001b[0;34m(self)\u001b[0m\n\u001b[1;32m    310\u001b[0m label_props \u001b[39m=\u001b[39m {  \u001b[39m# http://matplotlib.org/examples/color/named_colors.html\u001b[39;00m\n\u001b[1;32m    311\u001b[0m     \u001b[39mNone\u001b[39;00m: \u001b[39mdict\u001b[39m(\n\u001b[1;32m    312\u001b[0m         shape\u001b[39m=\u001b[39m\u001b[39m\"\u001b[39m\u001b[39mcircle\u001b[39m\u001b[39m\"\u001b[39m,\n\u001b[0;32m   (...)\u001b[0m\n\u001b[1;32m    366\u001b[0m     ),\n\u001b[1;32m    367\u001b[0m }\n\u001b[1;32m    368\u001b[0m node_props \u001b[39m=\u001b[39m {\n\u001b[1;32m    369\u001b[0m     node: label_props[d[\u001b[39m\"\u001b[39m\u001b[39mnode_type\u001b[39m\u001b[39m\"\u001b[39m]]\n\u001b[1;32m    370\u001b[0m     \u001b[39mfor\u001b[39;00m node, d \u001b[39min\u001b[39;00m \u001b[39mdict\u001b[39m(graph\u001b[39m.\u001b[39mnodes(data\u001b[39m=\u001b[39m\u001b[39mTrue\u001b[39;00m))\u001b[39m.\u001b[39mitems()\n\u001b[1;32m    371\u001b[0m }\n\u001b[0;32m--> 373\u001b[0m dot \u001b[39m=\u001b[39m nx\u001b[39m.\u001b[39;49mdrawing\u001b[39m.\u001b[39;49mnx_pydot\u001b[39m.\u001b[39;49mto_pydot(graph)\n\u001b[1;32m    374\u001b[0m \u001b[39mfor\u001b[39;00m node \u001b[39min\u001b[39;00m dot\u001b[39m.\u001b[39mget_nodes():\n\u001b[1;32m    375\u001b[0m     node\u001b[39m.\u001b[39mset_shape(\u001b[39m\"\u001b[39m\u001b[39mcircle\u001b[39m\u001b[39m\"\u001b[39m)\n",
      "File \u001b[0;32m~/opt/miniconda3/envs/datajoint/lib/python3.8/site-packages/networkx/drawing/nx_pydot.py:302\u001b[0m, in \u001b[0;36mto_pydot\u001b[0;34m(N)\u001b[0m\n\u001b[1;32m    296\u001b[0m str_edgedata \u001b[39m=\u001b[39m {k: \u001b[39mstr\u001b[39m(v) \u001b[39mfor\u001b[39;00m k, v \u001b[39min\u001b[39;00m edgedata\u001b[39m.\u001b[39mitems()}\n\u001b[1;32m    297\u001b[0m u, v \u001b[39m=\u001b[39m \u001b[39mstr\u001b[39m(u), \u001b[39mstr\u001b[39m(v)\n\u001b[1;32m    298\u001b[0m raise_error \u001b[39m=\u001b[39m (\n\u001b[1;32m    299\u001b[0m     _check_colon_quotes(u)\n\u001b[1;32m    300\u001b[0m     \u001b[39mor\u001b[39;00m _check_colon_quotes(v)\n\u001b[1;32m    301\u001b[0m     \u001b[39mor\u001b[39;00m (\n\u001b[0;32m--> 302\u001b[0m         \u001b[39many\u001b[39;49m(\n\u001b[1;32m    303\u001b[0m             (_check_colon_quotes(k) \u001b[39mor\u001b[39;49;00m _check_colon_quotes(v))\n\u001b[1;32m    304\u001b[0m             \u001b[39mfor\u001b[39;49;00m k, v \u001b[39min\u001b[39;49;00m edgedata\u001b[39m.\u001b[39;49mitems()\n\u001b[1;32m    305\u001b[0m         )\n\u001b[1;32m    306\u001b[0m     )\n\u001b[1;32m    307\u001b[0m )\n\u001b[1;32m    308\u001b[0m \u001b[39mif\u001b[39;00m raise_error:\n\u001b[1;32m    309\u001b[0m     \u001b[39mraise\u001b[39;00m \u001b[39mValueError\u001b[39;00m(\n\u001b[1;32m    310\u001b[0m         \u001b[39mf\u001b[39m\u001b[39m'\u001b[39m\u001b[39mNode names and attributes should not contain \u001b[39m\u001b[39m\"\u001b[39m\u001b[39m:\u001b[39m\u001b[39m\"\u001b[39m\u001b[39m unless they are quoted with \u001b[39m\u001b[39m\"\u001b[39m\u001b[39m\"\u001b[39m\u001b[39m.\u001b[39m\u001b[39m\\\u001b[39;00m\n\u001b[1;32m    311\u001b[0m \u001b[39m        For example the string \u001b[39m\u001b[39m\\'\u001b[39;00m\u001b[39mattribute:data1\u001b[39m\u001b[39m\\'\u001b[39;00m\u001b[39m should be written as \u001b[39m\u001b[39m\\'\u001b[39;00m\u001b[39m\"\u001b[39m\u001b[39mattribute:data1\u001b[39m\u001b[39m\"\u001b[39m\u001b[39m\\'\u001b[39;00m\u001b[39m.\u001b[39m\u001b[39m\\\u001b[39;00m\n\u001b[1;32m    312\u001b[0m \u001b[39m        Please refer https://github.com/pydot/pydot/issues/258\u001b[39m\u001b[39m'\u001b[39m\n\u001b[1;32m    313\u001b[0m     )\n",
      "File \u001b[0;32m~/opt/miniconda3/envs/datajoint/lib/python3.8/site-packages/networkx/drawing/nx_pydot.py:303\u001b[0m, in \u001b[0;36m<genexpr>\u001b[0;34m(.0)\u001b[0m\n\u001b[1;32m    296\u001b[0m str_edgedata \u001b[39m=\u001b[39m {k: \u001b[39mstr\u001b[39m(v) \u001b[39mfor\u001b[39;00m k, v \u001b[39min\u001b[39;00m edgedata\u001b[39m.\u001b[39mitems()}\n\u001b[1;32m    297\u001b[0m u, v \u001b[39m=\u001b[39m \u001b[39mstr\u001b[39m(u), \u001b[39mstr\u001b[39m(v)\n\u001b[1;32m    298\u001b[0m raise_error \u001b[39m=\u001b[39m (\n\u001b[1;32m    299\u001b[0m     _check_colon_quotes(u)\n\u001b[1;32m    300\u001b[0m     \u001b[39mor\u001b[39;00m _check_colon_quotes(v)\n\u001b[1;32m    301\u001b[0m     \u001b[39mor\u001b[39;00m (\n\u001b[1;32m    302\u001b[0m         \u001b[39many\u001b[39m(\n\u001b[0;32m--> 303\u001b[0m             (_check_colon_quotes(k) \u001b[39mor\u001b[39;00m _check_colon_quotes(v))\n\u001b[1;32m    304\u001b[0m             \u001b[39mfor\u001b[39;00m k, v \u001b[39min\u001b[39;00m edgedata\u001b[39m.\u001b[39mitems()\n\u001b[1;32m    305\u001b[0m         )\n\u001b[1;32m    306\u001b[0m     )\n\u001b[1;32m    307\u001b[0m )\n\u001b[1;32m    308\u001b[0m \u001b[39mif\u001b[39;00m raise_error:\n\u001b[1;32m    309\u001b[0m     \u001b[39mraise\u001b[39;00m \u001b[39mValueError\u001b[39;00m(\n\u001b[1;32m    310\u001b[0m         \u001b[39mf\u001b[39m\u001b[39m'\u001b[39m\u001b[39mNode names and attributes should not contain \u001b[39m\u001b[39m\"\u001b[39m\u001b[39m:\u001b[39m\u001b[39m\"\u001b[39m\u001b[39m unless they are quoted with \u001b[39m\u001b[39m\"\u001b[39m\u001b[39m\"\u001b[39m\u001b[39m.\u001b[39m\u001b[39m\\\u001b[39;00m\n\u001b[1;32m    311\u001b[0m \u001b[39m        For example the string \u001b[39m\u001b[39m\\'\u001b[39;00m\u001b[39mattribute:data1\u001b[39m\u001b[39m\\'\u001b[39;00m\u001b[39m should be written as \u001b[39m\u001b[39m\\'\u001b[39;00m\u001b[39m\"\u001b[39m\u001b[39mattribute:data1\u001b[39m\u001b[39m\"\u001b[39m\u001b[39m\\'\u001b[39;00m\u001b[39m.\u001b[39m\u001b[39m\\\u001b[39;00m\n\u001b[1;32m    312\u001b[0m \u001b[39m        Please refer https://github.com/pydot/pydot/issues/258\u001b[39m\u001b[39m'\u001b[39m\n\u001b[1;32m    313\u001b[0m     )\n",
      "File \u001b[0;32m~/opt/miniconda3/envs/datajoint/lib/python3.8/site-packages/networkx/drawing/nx_pydot.py:199\u001b[0m, in \u001b[0;36m_check_colon_quotes\u001b[0;34m(s)\u001b[0m\n\u001b[1;32m    195\u001b[0m \u001b[39mdef\u001b[39;00m \u001b[39m_check_colon_quotes\u001b[39m(s):\n\u001b[1;32m    196\u001b[0m     \u001b[39m# A quick helper function to check if a string has a colon in it\u001b[39;00m\n\u001b[1;32m    197\u001b[0m     \u001b[39m# and if it is quoted properly with double quotes.\u001b[39;00m\n\u001b[1;32m    198\u001b[0m     \u001b[39m# refer https://github.com/pydot/pydot/issues/258\u001b[39;00m\n\u001b[0;32m--> 199\u001b[0m     \u001b[39mreturn\u001b[39;00m \u001b[39m\"\u001b[39;49m\u001b[39m:\u001b[39;49m\u001b[39m\"\u001b[39;49m \u001b[39min\u001b[39;49;00m s \u001b[39mand\u001b[39;00m (s[\u001b[39m0\u001b[39m] \u001b[39m!=\u001b[39m \u001b[39m'\u001b[39m\u001b[39m\"\u001b[39m\u001b[39m'\u001b[39m \u001b[39mor\u001b[39;00m s[\u001b[39m-\u001b[39m\u001b[39m1\u001b[39m] \u001b[39m!=\u001b[39m \u001b[39m'\u001b[39m\u001b[39m\"\u001b[39m\u001b[39m'\u001b[39m)\n",
      "\u001b[0;31mTypeError\u001b[0m: argument of type 'bool' is not iterable"
     ]
    },
    {
     "data": {
      "text/plain": [
       "<datajoint.diagram.Diagram at 0x7fdf3b038b50>"
      ]
     },
     "execution_count": 4,
     "metadata": {},
     "output_type": "execute_result"
    }
   ],
   "source": [
    "dj.Diagram(subject.Subject) + dj.Diagram(session.Session) + dj.Diagram(scan) + dj.Diagram(imaging.Processing)"
   ]
  },
  {
   "cell_type": "code",
   "execution_count": 5,
   "id": "8e944ab4",
   "metadata": {},
   "outputs": [
    {
     "name": "stderr",
     "output_type": "stream",
     "text": [
      "[2022-12-16 16:16:30,259][INFO]: Deleting 2 rows from `tobiasr_scan`.`_scan_info__field`\n",
      "[2022-12-16 16:16:30,276][INFO]: Deleting 2 rows from `tobiasr_scan`.`_scan_info__scan_file`\n",
      "[2022-12-16 16:16:30,284][INFO]: Deleting 2 rows from `tobiasr_scan`.`_scan_info`\n",
      "[2022-12-16 16:16:33,005][INFO]: Deleting 1 rows from `tobiasr_imaging`.`processing_task`\n",
      "[2022-12-16 16:16:33,021][INFO]: Deleting 2 rows from `tobiasr_scan`.`scan_location`\n",
      "[2022-12-16 16:16:33,039][INFO]: Deleting 2 rows from `tobiasr_scan`.`scan_path`\n",
      "[2022-12-16 16:16:33,050][INFO]: Deleting 2 rows from `tobiasr_scan`.`scan`\n"
     ]
    },
    {
     "name": "stdout",
     "output_type": "stream",
     "text": [
      "Deletes committed.\n",
      "Deletes committed.\n"
     ]
    },
    {
     "data": {
      "text/plain": [
       "2"
      ]
     },
     "execution_count": 5,
     "metadata": {},
     "output_type": "execute_result"
    }
   ],
   "source": [
    "#scan.ScanInfo.delete()\n",
    "#scan.Scan.delete()"
   ]
  },
  {
   "cell_type": "code",
   "execution_count": 5,
   "id": "70bca68f",
   "metadata": {},
   "outputs": [
    {
     "data": {
      "text/html": [
       "\n",
       "    \n",
       "    <style type=\"text/css\">\n",
       "        .Relation{\n",
       "            border-collapse:collapse;\n",
       "        }\n",
       "        .Relation th{\n",
       "            background: #A0A0A0; color: #ffffff; padding:4px; border:#f0e0e0 1px solid;\n",
       "            font-weight: normal; font-family: monospace; font-size: 100%;\n",
       "        }\n",
       "        .Relation td{\n",
       "            padding:4px; border:#f0e0e0 1px solid; font-size:100%;\n",
       "        }\n",
       "        .Relation tr:nth-child(odd){\n",
       "            background: #ffffff;\n",
       "        }\n",
       "        .Relation tr:nth-child(even){\n",
       "            background: #f3f1ff;\n",
       "        }\n",
       "        /* Tooltip container */\n",
       "        .djtooltip {\n",
       "        }\n",
       "        /* Tooltip text */\n",
       "        .djtooltip .djtooltiptext {\n",
       "            visibility: hidden;\n",
       "            width: 120px;\n",
       "            background-color: black;\n",
       "            color: #fff;\n",
       "            text-align: center;\n",
       "            padding: 5px 0;\n",
       "            border-radius: 6px;\n",
       "            /* Position the tooltip text - see examples below! */\n",
       "            position: absolute;\n",
       "            z-index: 1;\n",
       "        }\n",
       "        #primary {\n",
       "            font-weight: bold;\n",
       "            color: black;\n",
       "        }\n",
       "        #nonprimary {\n",
       "            font-weight: normal;\n",
       "            color: white;\n",
       "        }\n",
       "\n",
       "        /* Show the tooltip text when you mouse over the tooltip container */\n",
       "        .djtooltip:hover .djtooltiptext {\n",
       "            visibility: visible;\n",
       "        }\n",
       "    </style>\n",
       "    \n",
       "    <b></b>\n",
       "        <div style=\"max-height:1000px;max-width:1500px;overflow:auto;\">\n",
       "        <table border=\"1\" class=\"Relation\">\n",
       "            <thead> <tr style=\"text-align: right;\"> <th> <div class=\"djtooltip\">\n",
       "                            <p id=\"primary\">session_id</p>\n",
       "                            <span class=\"djtooltiptext\"></span>\n",
       "                        </div></th><th><div class=\"djtooltip\">\n",
       "                            <p id=\"primary\">scan_id</p>\n",
       "                            <span class=\"djtooltiptext\"></span>\n",
       "                        </div></th><th><div class=\"djtooltip\">\n",
       "                            <p id=\"nonprimary\">scanner</p>\n",
       "                            <span class=\"djtooltiptext\"></span>\n",
       "                        </div></th><th><div class=\"djtooltip\">\n",
       "                            <p id=\"nonprimary\">acq_software</p>\n",
       "                            <span class=\"djtooltiptext\"></span>\n",
       "                        </div></th><th><div class=\"djtooltip\">\n",
       "                            <p id=\"nonprimary\">scan_notes</p>\n",
       "                            <span class=\"djtooltiptext\">free-notes</span>\n",
       "                        </div> </th> </tr> </thead>\n",
       "            <tbody> <tr> <td>sess9FF6TL96</td>\n",
       "<td>scan9FF6TL96</td>\n",
       "<td>mini2p1</td>\n",
       "<td>ScanImage</td>\n",
       "<td></td></tr><tr><td>sess9FF6U114</td>\n",
       "<td>scan9FF6U114</td>\n",
       "<td>mini2p1</td>\n",
       "<td>ScanImage</td>\n",
       "<td></td> </tr> </tbody>\n",
       "        </table>\n",
       "        \n",
       "        <p>Total: 2</p></div>\n",
       "        "
      ],
      "text/plain": [
       "*session_id    *scan_id       scanner     acq_software   scan_notes    \n",
       "+------------+ +------------+ +---------+ +------------+ +------------+\n",
       "sess9FF6TL96   scan9FF6TL96   mini2p1     ScanImage                    \n",
       "sess9FF6U114   scan9FF6U114   mini2p1     ScanImage                    \n",
       " (Total: 2)"
      ]
     },
     "execution_count": 5,
     "metadata": {},
     "output_type": "execute_result"
    }
   ],
   "source": [
    "scan.Scan()"
   ]
  },
  {
   "attachments": {},
   "cell_type": "markdown",
   "id": "13385a76",
   "metadata": {},
   "source": [
    "## populate scan!"
   ]
  },
  {
   "cell_type": "code",
   "execution_count": 6,
   "id": "df045a76",
   "metadata": {},
   "outputs": [
    {
     "data": {
      "text/html": [
       "\n",
       "    \n",
       "    <style type=\"text/css\">\n",
       "        .Relation{\n",
       "            border-collapse:collapse;\n",
       "        }\n",
       "        .Relation th{\n",
       "            background: #A0A0A0; color: #ffffff; padding:4px; border:#f0e0e0 1px solid;\n",
       "            font-weight: normal; font-family: monospace; font-size: 100%;\n",
       "        }\n",
       "        .Relation td{\n",
       "            padding:4px; border:#f0e0e0 1px solid; font-size:100%;\n",
       "        }\n",
       "        .Relation tr:nth-child(odd){\n",
       "            background: #ffffff;\n",
       "        }\n",
       "        .Relation tr:nth-child(even){\n",
       "            background: #f3f1ff;\n",
       "        }\n",
       "        /* Tooltip container */\n",
       "        .djtooltip {\n",
       "        }\n",
       "        /* Tooltip text */\n",
       "        .djtooltip .djtooltiptext {\n",
       "            visibility: hidden;\n",
       "            width: 120px;\n",
       "            background-color: black;\n",
       "            color: #fff;\n",
       "            text-align: center;\n",
       "            padding: 5px 0;\n",
       "            border-radius: 6px;\n",
       "            /* Position the tooltip text - see examples below! */\n",
       "            position: absolute;\n",
       "            z-index: 1;\n",
       "        }\n",
       "        #primary {\n",
       "            font-weight: bold;\n",
       "            color: black;\n",
       "        }\n",
       "        #nonprimary {\n",
       "            font-weight: normal;\n",
       "            color: white;\n",
       "        }\n",
       "\n",
       "        /* Show the tooltip text when you mouse over the tooltip container */\n",
       "        .djtooltip:hover .djtooltiptext {\n",
       "            visibility: visible;\n",
       "        }\n",
       "    </style>\n",
       "    \n",
       "    <b>general data about the reso/meso scans from header</b>\n",
       "        <div style=\"max-height:1000px;max-width:1500px;overflow:auto;\">\n",
       "        <table border=\"1\" class=\"Relation\">\n",
       "            <thead> <tr style=\"text-align: right;\"> <th> <div class=\"djtooltip\">\n",
       "                            <p id=\"primary\">session_id</p>\n",
       "                            <span class=\"djtooltiptext\"></span>\n",
       "                        </div></th><th><div class=\"djtooltip\">\n",
       "                            <p id=\"primary\">scan_id</p>\n",
       "                            <span class=\"djtooltiptext\"></span>\n",
       "                        </div></th><th><div class=\"djtooltip\">\n",
       "                            <p id=\"nonprimary\">nfields</p>\n",
       "                            <span class=\"djtooltiptext\">number of fields</span>\n",
       "                        </div></th><th><div class=\"djtooltip\">\n",
       "                            <p id=\"nonprimary\">nchannels</p>\n",
       "                            <span class=\"djtooltiptext\">number of channels</span>\n",
       "                        </div></th><th><div class=\"djtooltip\">\n",
       "                            <p id=\"nonprimary\">ndepths</p>\n",
       "                            <span class=\"djtooltiptext\">Number of scanning depths (planes)</span>\n",
       "                        </div></th><th><div class=\"djtooltip\">\n",
       "                            <p id=\"nonprimary\">nframes</p>\n",
       "                            <span class=\"djtooltiptext\">number of recorded frames</span>\n",
       "                        </div></th><th><div class=\"djtooltip\">\n",
       "                            <p id=\"nonprimary\">nrois</p>\n",
       "                            <span class=\"djtooltiptext\">number of ROIs (see scanimage's multi ROI imaging)</span>\n",
       "                        </div></th><th><div class=\"djtooltip\">\n",
       "                            <p id=\"nonprimary\">x</p>\n",
       "                            <span class=\"djtooltiptext\">(um) ScanImage's 0 point in the motor coordinate system</span>\n",
       "                        </div></th><th><div class=\"djtooltip\">\n",
       "                            <p id=\"nonprimary\">y</p>\n",
       "                            <span class=\"djtooltiptext\">(um) ScanImage's 0 point in the motor coordinate system</span>\n",
       "                        </div></th><th><div class=\"djtooltip\">\n",
       "                            <p id=\"nonprimary\">z</p>\n",
       "                            <span class=\"djtooltiptext\">(um) ScanImage's 0 point in the motor coordinate system</span>\n",
       "                        </div></th><th><div class=\"djtooltip\">\n",
       "                            <p id=\"nonprimary\">fps</p>\n",
       "                            <span class=\"djtooltiptext\">(Hz) frames per second - Volumetric Scan Rate</span>\n",
       "                        </div></th><th><div class=\"djtooltip\">\n",
       "                            <p id=\"nonprimary\">bidirectional</p>\n",
       "                            <span class=\"djtooltiptext\">true = bidirectional scanning</span>\n",
       "                        </div></th><th><div class=\"djtooltip\">\n",
       "                            <p id=\"nonprimary\">usecs_per_line</p>\n",
       "                            <span class=\"djtooltiptext\">microseconds per scan line</span>\n",
       "                        </div></th><th><div class=\"djtooltip\">\n",
       "                            <p id=\"nonprimary\">fill_fraction</p>\n",
       "                            <span class=\"djtooltiptext\">raster scan temporal fill fraction (see scanimage)</span>\n",
       "                        </div></th><th><div class=\"djtooltip\">\n",
       "                            <p id=\"nonprimary\">scan_datetime</p>\n",
       "                            <span class=\"djtooltiptext\">datetime of the scan</span>\n",
       "                        </div></th><th><div class=\"djtooltip\">\n",
       "                            <p id=\"nonprimary\">scan_duration</p>\n",
       "                            <span class=\"djtooltiptext\">(seconds) duration of the scan</span>\n",
       "                        </div> </th> </tr> </thead>\n",
       "            <tbody> <tr> <td>sess9FF6TL96</td>\n",
       "<td>scan9FF6TL96</td>\n",
       "<td>1</td>\n",
       "<td>2</td>\n",
       "<td>1</td>\n",
       "<td>9250</td>\n",
       "<td>0</td>\n",
       "<td>nan</td>\n",
       "<td>nan</td>\n",
       "<td>nan</td>\n",
       "<td>15.3845</td>\n",
       "<td>1</td>\n",
       "<td>250.001</td>\n",
       "<td>0.95</td>\n",
       "<td>None</td>\n",
       "<td>601.255</td></tr><tr><td>sess9FF6U114</td>\n",
       "<td>scan9FF6U114</td>\n",
       "<td>1</td>\n",
       "<td>1</td>\n",
       "<td>1</td>\n",
       "<td>9250</td>\n",
       "<td>0</td>\n",
       "<td>nan</td>\n",
       "<td>nan</td>\n",
       "<td>nan</td>\n",
       "<td>15.3845</td>\n",
       "<td>1</td>\n",
       "<td>250.003</td>\n",
       "<td>0.95</td>\n",
       "<td>None</td>\n",
       "<td>601.255</td> </tr> </tbody>\n",
       "        </table>\n",
       "        \n",
       "        <p>Total: 2</p></div>\n",
       "        "
      ],
      "text/plain": [
       "*session_id    *scan_id       nfields     nchannels     ndepths     nframes     nrois     x       y       z       fps         bidirectional  usecs_per_line fill_fraction  scan_datetime  scan_duration \n",
       "+------------+ +------------+ +---------+ +-----------+ +---------+ +---------+ +-------+ +-----+ +-----+ +-----+ +---------+ +------------+ +------------+ +------------+ +------------+ +------------+\n",
       "sess9FF6TL96   scan9FF6TL96   1           2             1           9250        0         nan     nan     nan     15.3845     1              250.001        0.95           None           601.255       \n",
       "sess9FF6U114   scan9FF6U114   1           1             1           9250        0         nan     nan     nan     15.3845     1              250.003        0.95           None           601.255       \n",
       " (Total: 2)"
      ]
     },
     "execution_count": 6,
     "metadata": {},
     "output_type": "execute_result"
    }
   ],
   "source": [
    "scan.ScanInfo.populate(**populate_settings)\n",
    "scan.ScanInfo()"
   ]
  },
  {
   "cell_type": "code",
   "execution_count": 7,
   "id": "e5c43c1c",
   "metadata": {},
   "outputs": [
    {
     "data": {
      "text/html": [
       "\n",
       "    \n",
       "    <style type=\"text/css\">\n",
       "        .Relation{\n",
       "            border-collapse:collapse;\n",
       "        }\n",
       "        .Relation th{\n",
       "            background: #A0A0A0; color: #ffffff; padding:4px; border:#f0e0e0 1px solid;\n",
       "            font-weight: normal; font-family: monospace; font-size: 100%;\n",
       "        }\n",
       "        .Relation td{\n",
       "            padding:4px; border:#f0e0e0 1px solid; font-size:100%;\n",
       "        }\n",
       "        .Relation tr:nth-child(odd){\n",
       "            background: #ffffff;\n",
       "        }\n",
       "        .Relation tr:nth-child(even){\n",
       "            background: #f3f1ff;\n",
       "        }\n",
       "        /* Tooltip container */\n",
       "        .djtooltip {\n",
       "        }\n",
       "        /* Tooltip text */\n",
       "        .djtooltip .djtooltiptext {\n",
       "            visibility: hidden;\n",
       "            width: 120px;\n",
       "            background-color: black;\n",
       "            color: #fff;\n",
       "            text-align: center;\n",
       "            padding: 5px 0;\n",
       "            border-radius: 6px;\n",
       "            /* Position the tooltip text - see examples below! */\n",
       "            position: absolute;\n",
       "            z-index: 1;\n",
       "        }\n",
       "        #primary {\n",
       "            font-weight: bold;\n",
       "            color: black;\n",
       "        }\n",
       "        #nonprimary {\n",
       "            font-weight: normal;\n",
       "            color: white;\n",
       "        }\n",
       "\n",
       "        /* Show the tooltip text when you mouse over the tooltip container */\n",
       "        .djtooltip:hover .djtooltiptext {\n",
       "            visibility: visible;\n",
       "        }\n",
       "    </style>\n",
       "    \n",
       "    \n",
       "        <div style=\"max-height:1000px;max-width:1500px;overflow:auto;\">\n",
       "        <table border=\"1\" class=\"Relation\">\n",
       "            <thead> <tr style=\"text-align: right;\"> <th> <div class=\"djtooltip\">\n",
       "                            <p id=\"primary\">session_id</p>\n",
       "                            <span class=\"djtooltiptext\"></span>\n",
       "                        </div></th><th><div class=\"djtooltip\">\n",
       "                            <p id=\"primary\">scan_id</p>\n",
       "                            <span class=\"djtooltiptext\"></span>\n",
       "                        </div></th><th><div class=\"djtooltip\">\n",
       "                            <p id=\"nonprimary\">scanner</p>\n",
       "                            <span class=\"djtooltiptext\"></span>\n",
       "                        </div></th><th><div class=\"djtooltip\">\n",
       "                            <p id=\"nonprimary\">acq_software</p>\n",
       "                            <span class=\"djtooltiptext\"></span>\n",
       "                        </div></th><th><div class=\"djtooltip\">\n",
       "                            <p id=\"nonprimary\">scan_notes</p>\n",
       "                            <span class=\"djtooltiptext\">free-notes</span>\n",
       "                        </div></th><th><div class=\"djtooltip\">\n",
       "                            <p id=\"nonprimary\">anatomical_location</p>\n",
       "                            <span class=\"djtooltiptext\"></span>\n",
       "                        </div> </th> </tr> </thead>\n",
       "            <tbody> <tr> <td>sess9FF6TL96</td>\n",
       "<td>scan9FF6TL96</td>\n",
       "<td>mini2p1</td>\n",
       "<td>ScanImage</td>\n",
       "<td></td>\n",
       "<td>RSCa</td></tr><tr><td>sess9FF6U114</td>\n",
       "<td>scan9FF6U114</td>\n",
       "<td>mini2p1</td>\n",
       "<td>ScanImage</td>\n",
       "<td></td>\n",
       "<td>RSCa</td> </tr> </tbody>\n",
       "        </table>\n",
       "        \n",
       "        <p>Total: 2</p></div>\n",
       "        "
      ],
      "text/plain": [
       "*session_id    *scan_id       scanner     acq_software   scan_notes     anatomical_loc\n",
       "+------------+ +------------+ +---------+ +------------+ +------------+ +------------+\n",
       "sess9FF6TL96   scan9FF6TL96   mini2p1     ScanImage                     RSCa          \n",
       "sess9FF6U114   scan9FF6U114   mini2p1     ScanImage                     RSCa          \n",
       " (Total: 2)"
      ]
     },
     "execution_count": 7,
     "metadata": {},
     "output_type": "execute_result"
    }
   ],
   "source": [
    "scan.Scan() * scan.ScanLocation()"
   ]
  },
  {
   "cell_type": "markdown",
   "id": "c566758c",
   "metadata": {},
   "source": [
    "Example to update an entry post-hoc. TODO: imnplement in elements \"Scan\" function based on userfunction stringa"
   ]
  },
  {
   "cell_type": "code",
   "execution_count": null,
   "id": "72b0d407",
   "metadata": {},
   "outputs": [],
   "source": [
    "scan.Scan.update1({'session_id': 'sess9FF6TL96', 'scan_id': 'scan9FF6TL96', 'scan_notes': \"test2\"})"
   ]
  },
  {
   "cell_type": "code",
   "execution_count": null,
   "id": "72b0d407",
   "metadata": {},
   "outputs": [],
   "source": [
    "scan.ScanLocation.update1({'session_id': 'sess9FF6TL96', 'scan_id': 'scan9FF6TL96', 'anatomical_location': \"V1\"})"
   ]
  },
  {
   "cell_type": "code",
   "execution_count": 6,
   "id": "b691fbe6",
   "metadata": {},
   "outputs": [
    {
     "data": {
      "text/html": [
       "\n",
       "    \n",
       "    <style type=\"text/css\">\n",
       "        .Relation{\n",
       "            border-collapse:collapse;\n",
       "        }\n",
       "        .Relation th{\n",
       "            background: #A0A0A0; color: #ffffff; padding:4px; border:#f0e0e0 1px solid;\n",
       "            font-weight: normal; font-family: monospace; font-size: 100%;\n",
       "        }\n",
       "        .Relation td{\n",
       "            padding:4px; border:#f0e0e0 1px solid; font-size:100%;\n",
       "        }\n",
       "        .Relation tr:nth-child(odd){\n",
       "            background: #ffffff;\n",
       "        }\n",
       "        .Relation tr:nth-child(even){\n",
       "            background: #f3f1ff;\n",
       "        }\n",
       "        /* Tooltip container */\n",
       "        .djtooltip {\n",
       "        }\n",
       "        /* Tooltip text */\n",
       "        .djtooltip .djtooltiptext {\n",
       "            visibility: hidden;\n",
       "            width: 120px;\n",
       "            background-color: black;\n",
       "            color: #fff;\n",
       "            text-align: center;\n",
       "            padding: 5px 0;\n",
       "            border-radius: 6px;\n",
       "            /* Position the tooltip text - see examples below! */\n",
       "            position: absolute;\n",
       "            z-index: 1;\n",
       "        }\n",
       "        #primary {\n",
       "            font-weight: bold;\n",
       "            color: black;\n",
       "        }\n",
       "        #nonprimary {\n",
       "            font-weight: normal;\n",
       "            color: white;\n",
       "        }\n",
       "\n",
       "        /* Show the tooltip text when you mouse over the tooltip container */\n",
       "        .djtooltip:hover .djtooltiptext {\n",
       "            visibility: visible;\n",
       "        }\n",
       "    </style>\n",
       "    \n",
       "    <b></b>\n",
       "        <div style=\"max-height:1000px;max-width:1500px;overflow:auto;\">\n",
       "        <table border=\"1\" class=\"Relation\">\n",
       "            <thead> <tr style=\"text-align: right;\"> <th> <div class=\"djtooltip\">\n",
       "                            <p id=\"primary\">project</p>\n",
       "                            <span class=\"djtooltiptext\"></span>\n",
       "                        </div></th><th><div class=\"djtooltip\">\n",
       "                            <p id=\"primary\">session_id</p>\n",
       "                            <span class=\"djtooltiptext\"></span>\n",
       "                        </div> </th> </tr> </thead>\n",
       "            <tbody> <tr>  </tr> </tbody>\n",
       "        </table>\n",
       "        \n",
       "        <p>Total: 0</p></div>\n",
       "        "
      ],
      "text/plain": [
       "*project    *session_id   \n",
       "+---------+ +------------+\n",
       "\n",
       " (Total: 0)"
      ]
     },
     "execution_count": 6,
     "metadata": {},
     "output_type": "execute_result"
    }
   ],
   "source": [
    "session.ProjectSession()"
   ]
  },
  {
   "cell_type": "code",
   "execution_count": null,
   "id": "60bc3889",
   "metadata": {},
   "outputs": [],
   "source": [
    "scan.Scan()"
   ]
  },
  {
   "cell_type": "code",
   "execution_count": null,
   "id": "f69f0f3d",
   "metadata": {},
   "outputs": [],
   "source": [
    "scan.ScanLocation()"
   ]
  },
  {
   "cell_type": "markdown",
   "id": "bb115bfc-2abb-45c9-bcba-c5c9e73b8990",
   "metadata": {},
   "source": [
    "### Creating a Parameter Set"
   ]
  },
  {
   "cell_type": "markdown",
   "id": "a3824b13",
   "metadata": {},
   "source": [
    "What exactly happens during processing dependso on the parameter set. This is an example of a parameter set and its insert:"
   ]
  },
  {
   "cell_type": "code",
   "execution_count": null,
   "id": "681d737d-721e-4f3a-8386-c1c55968f0ff",
   "metadata": {},
   "outputs": [],
   "source": [
    "# Insert the param_set\n",
    "\n",
    "# TODO: Parameter set needs to be updated with ScanInfo settings\n",
    "\n",
    "params_suite2p = {'look_one_level_down': 0.0,\n",
    "                  'fast_disk': [],\n",
    "                  'delete_bin': False,\n",
    "                  'mesoscan': False,\n",
    "                  'h5py': [],\n",
    "                  'h5py_key': 'data',\n",
    "                  'save_path0': [],\n",
    "                  'subfolders': [],\n",
    "                  'nplanes': 1,\n",
    "                  'nchannels': 1,\n",
    "                  'functional_chan': 1,\n",
    "                  'tau': 1.0,\n",
    "                  'fs': 10.0,\n",
    "                  'force_sktiff': False,\n",
    "                  'preclassify': 0.0,\n",
    "                  'save_mat': False,\n",
    "                  'combined': True,\n",
    "                  'aspect': 1.0,\n",
    "                  'do_bidiphase': False,\n",
    "                  'bidiphase': 0.0,\n",
    "                  'do_registration': True,\n",
    "                  'keep_movie_raw': False,\n",
    "                  'nimg_init': 300,\n",
    "                  'batch_size': 500,\n",
    "                  'maxregshift': 0.1,\n",
    "                  'align_by_chan': 1,\n",
    "                  'reg_tif': False,\n",
    "                  'reg_tif_chan2': False,\n",
    "                  'subpixel': 10,\n",
    "                  'smooth_sigma': 1.15,\n",
    "                  'th_badframes': 1.0,\n",
    "                  'pad_fft': False,\n",
    "                  'nonrigid': True,\n",
    "                  'block_size': [128, 128],\n",
    "                  'snr_thresh': 1.2,\n",
    "                  'maxregshiftNR': 5.0,\n",
    "                  '1Preg': False,\n",
    "                  'spatial_hp': 50.0,\n",
    "                  'pre_smooth': 2.0,\n",
    "                  'spatial_taper': 50.0,\n",
    "                  'roidetect': True,\n",
    "                  'sparse_mode': False,\n",
    "                  'diameter': 12,\n",
    "                  'spatial_scale': 0,\n",
    "                  'connected': True,\n",
    "                  'nbinned': 5000,\n",
    "                  'max_iterations': 20,\n",
    "                  'threshold_scaling': 1.0,\n",
    "                  'max_overlap': 0.75,\n",
    "                  'high_pass': 100.0,\n",
    "                  'inner_neuropil_radius': 2,\n",
    "                  'min_neuropil_pixels': 350,\n",
    "                  'allow_overlap': False,\n",
    "                  'chan2_thres': 0.65,\n",
    "                  'baseline': 'maximin',\n",
    "                  'win_baseline': 60.0,\n",
    "                  'sig_baseline': 10.0,\n",
    "                  'prctile_baseline': 8.0,\n",
    "                  'neucoeff': 0.7,\n",
    "                  'xrange': np.array([0, 0]),\n",
    "                  'yrange': np.array([0, 0])}\n",
    "\n",
    "imaging.ProcessingParamSet.insert_new_params('suite2p', 2, 'basic params', params_suite2p)"
   ]
  },
  {
   "cell_type": "code",
   "execution_count": null,
   "id": "4017c769",
   "metadata": {},
   "outputs": [],
   "source": [
    "imaging.ProcessingTask().delete()\n",
    "imaging.ProcessingTask().drop()\n",
    "imaging.ProcessingParamSet().drop()"
   ]
  },
  {
   "cell_type": "markdown",
   "id": "92fc5cf3",
   "metadata": {},
   "source": [
    "### Create and Run a Processing Task"
   ]
  },
  {
   "cell_type": "code",
   "execution_count": null,
   "id": "c89ee0c7",
   "metadata": {},
   "outputs": [],
   "source": [
    "imaging.ProcessingTask.insert1(('sess9FF6TL96',\n",
    "                                'scan9FF6TL96',\n",
    "                                2,\n",
    "                                'JJ_ROS-1438_2022-11-22_scan9FF6TL96_sess9FF6TL96/suite2p',\n",
    "                                'trigger'))"
   ]
  },
  {
   "cell_type": "markdown",
   "id": "568cf5a8",
   "metadata": {},
   "source": [
    "To run all unprocessed processing task we call populate on processing:"
   ]
  },
  {
   "cell_type": "code",
   "execution_count": null,
   "id": "c4c8bb54-ae93-4974-9ff7-ac74dfa2baa0",
   "metadata": {
    "scrolled": true
   },
   "outputs": [],
   "source": [
    "imaging.Processing.populate(display_progress=True)"
   ]
  },
  {
   "cell_type": "code",
   "execution_count": null,
   "id": "1dfdff8d",
   "metadata": {},
   "outputs": [],
   "source": [
    "imaging.scan()"
   ]
  },
  {
   "cell_type": "code",
   "execution_count": null,
   "id": "cf114ad9",
   "metadata": {},
   "outputs": [],
   "source": [
    "imaging.ProcessingTask()"
   ]
  },
  {
   "cell_type": "code",
   "execution_count": null,
   "id": "f6ba28b3",
   "metadata": {},
   "outputs": [],
   "source": [
    "imaging.Processing()"
   ]
  },
  {
   "cell_type": "code",
   "execution_count": null,
   "id": "c598dad8",
   "metadata": {},
   "outputs": [],
   "source": [
    "session_key = (session.Session & 'subject = \"ROS-1438\"').fetch('KEY')[0]"
   ]
  },
  {
   "cell_type": "code",
   "execution_count": 22,
   "id": "69eba07f",
   "metadata": {},
   "outputs": [
    {
     "data": {
      "text/html": [
       "\n",
       "    \n",
       "    <style type=\"text/css\">\n",
       "        .Relation{\n",
       "            border-collapse:collapse;\n",
       "        }\n",
       "        .Relation th{\n",
       "            background: #A0A0A0; color: #ffffff; padding:4px; border:#f0e0e0 1px solid;\n",
       "            font-weight: normal; font-family: monospace; font-size: 100%;\n",
       "        }\n",
       "        .Relation td{\n",
       "            padding:4px; border:#f0e0e0 1px solid; font-size:100%;\n",
       "        }\n",
       "        .Relation tr:nth-child(odd){\n",
       "            background: #ffffff;\n",
       "        }\n",
       "        .Relation tr:nth-child(even){\n",
       "            background: #f3f1ff;\n",
       "        }\n",
       "        /* Tooltip container */\n",
       "        .djtooltip {\n",
       "        }\n",
       "        /* Tooltip text */\n",
       "        .djtooltip .djtooltiptext {\n",
       "            visibility: hidden;\n",
       "            width: 120px;\n",
       "            background-color: black;\n",
       "            color: #fff;\n",
       "            text-align: center;\n",
       "            padding: 5px 0;\n",
       "            border-radius: 6px;\n",
       "            /* Position the tooltip text - see examples below! */\n",
       "            position: absolute;\n",
       "            z-index: 1;\n",
       "        }\n",
       "        #primary {\n",
       "            font-weight: bold;\n",
       "            color: black;\n",
       "        }\n",
       "        #nonprimary {\n",
       "            font-weight: normal;\n",
       "            color: white;\n",
       "        }\n",
       "\n",
       "        /* Show the tooltip text when you mouse over the tooltip container */\n",
       "        .djtooltip:hover .djtooltiptext {\n",
       "            visibility: visible;\n",
       "        }\n",
       "    </style>\n",
       "    \n",
       "    <b></b>\n",
       "        <div style=\"max-height:1000px;max-width:1500px;overflow:auto;\">\n",
       "        <table border=\"1\" class=\"Relation\">\n",
       "            <thead> <tr style=\"text-align: right;\"> <th> <div class=\"djtooltip\">\n",
       "                            <p id=\"primary\">session_id</p>\n",
       "                            <span class=\"djtooltiptext\"></span>\n",
       "                        </div></th><th><div class=\"djtooltip\">\n",
       "                            <p id=\"primary\">scan_id</p>\n",
       "                            <span class=\"djtooltiptext\"></span>\n",
       "                        </div></th><th><div class=\"djtooltip\">\n",
       "                            <p id=\"primary\">file_path</p>\n",
       "                            <span class=\"djtooltiptext\">filepath relative to root data directory</span>\n",
       "                        </div> </th> </tr> </thead>\n",
       "            <tbody> <tr> <td>sess9FF6TL96</td>\n",
       "<td>scan9FF6TL96</td>\n",
       "<td>/Users/trose/Data/JJ_ROS-1438_2022-11-22_scan9FF6TL96_sess9FF6TL96/scan9FF6TL96_JJ_ROS_1438_00002.tif</td></tr><tr><td>sess9FF6U114</td>\n",
       "<td>scan9FF6U114</td>\n",
       "<td>/Users/trose/Data/JJ_ROS-1438_2022-11-22_scan9FF6U114_sess9FF6U114/scan9FF6U114_JJ_ROS_1438_00004.tif</td> </tr> </tbody>\n",
       "        </table>\n",
       "        \n",
       "        <p>Total: 2</p></div>\n",
       "        "
      ],
      "text/plain": [
       "*session_id    *scan_id       *file_path    \n",
       "+------------+ +------------+ +------------+\n",
       "sess9FF6TL96   scan9FF6TL96   /Users/trose/D\n",
       "sess9FF6U114   scan9FF6U114   /Users/trose/D\n",
       " (Total: 2)"
      ]
     },
     "execution_count": 22,
     "metadata": {},
     "output_type": "execute_result"
    }
   ],
   "source": [
    "scan.ScanInfo.ScanFile()\n"
   ]
  },
  {
   "cell_type": "code",
   "execution_count": null,
   "id": "aa0c6524",
   "metadata": {},
   "outputs": [],
   "source": [
    "scan.Scan & session_key"
   ]
  },
  {
   "cell_type": "code",
   "execution_count": 23,
   "id": "85fa0ff3",
   "metadata": {},
   "outputs": [
    {
     "ename": "NameError",
     "evalue": "name 'session_key' is not defined",
     "output_type": "error",
     "traceback": [
      "\u001b[0;31m---------------------------------------------------------------------------\u001b[0m",
      "\u001b[0;31mNameError\u001b[0m                                 Traceback (most recent call last)",
      "Cell \u001b[0;32mIn [23], line 1\u001b[0m\n\u001b[0;32m----> 1\u001b[0m scan\u001b[39m.\u001b[39mScanInfo \u001b[39m&\u001b[39m session_key\n",
      "\u001b[0;31mNameError\u001b[0m: name 'session_key' is not defined"
     ]
    }
   ],
   "source": [
    "scan.ScanInfo & session_key"
   ]
  },
  {
   "cell_type": "code",
   "execution_count": null,
   "id": "1a264f1f",
   "metadata": {},
   "outputs": [],
   "source": [
    "scan.ScanInfo.Field & session_key"
   ]
  },
  {
   "cell_type": "code",
   "execution_count": null,
   "id": "0b67e2d1",
   "metadata": {},
   "outputs": [],
   "source": [
    "imaging.ProcessingParamSet()"
   ]
  },
  {
   "cell_type": "code",
   "execution_count": null,
   "id": "f5f520c4",
   "metadata": {},
   "outputs": [],
   "source": [
    "imaging.ProcessingTask * imaging.Processing & session_key"
   ]
  },
  {
   "cell_type": "code",
   "execution_count": null,
   "id": "0c0286e0",
   "metadata": {},
   "outputs": [],
   "source": [
    "imaging.Curation & session_key"
   ]
  },
  {
   "cell_type": "markdown",
   "id": "165b6c61",
   "metadata": {},
   "source": [
    "Scanreader payload testing"
   ]
  },
  {
   "cell_type": "code",
   "execution_count": 34,
   "id": "044cb299",
   "metadata": {},
   "outputs": [],
   "source": [
    "path = scan.ScanInfo.ScanFile().fetch('file_path')[0]\n",
    "infoscan = scanreader.read_scan(path)"
   ]
  },
  {
   "cell_type": "code",
   "execution_count": 38,
   "id": "559560fc",
   "metadata": {},
   "outputs": [
    {
     "ename": "AttributeError",
     "evalue": "'Scan2021' object has no attribute 'user_funtion'",
     "output_type": "error",
     "traceback": [
      "\u001b[0;31m---------------------------------------------------------------------------\u001b[0m",
      "\u001b[0;31mAttributeError\u001b[0m                            Traceback (most recent call last)",
      "Cell \u001b[0;32mIn [38], line 1\u001b[0m\n\u001b[0;32m----> 1\u001b[0m infoscan\u001b[39m.\u001b[39;49muser_funtion\n",
      "\u001b[0;31mAttributeError\u001b[0m: 'Scan2021' object has no attribute 'user_funtion'"
     ]
    }
   ],
   "source": [
    "\n",
    "infoscan.user_funtion\n"
   ]
  },
  {
   "cell_type": "code",
   "execution_count": null,
   "id": "2e3c1269",
   "metadata": {},
   "outputs": [],
   "source": [
    "scan.ScanInfo()"
   ]
  },
  {
   "cell_type": "code",
   "execution_count": null,
   "id": "075702a4",
   "metadata": {},
   "outputs": [],
   "source": [
    "session.Session()"
   ]
  },
  {
   "cell_type": "code",
   "execution_count": null,
   "id": "964ebb81",
   "metadata": {},
   "outputs": [],
   "source": [
    "Sess"
   ]
  }
 ],
 "metadata": {
  "jupytext": {
   "formats": "ipynb,py"
  },
  "kernelspec": {
   "display_name": "datajoint",
   "language": "python",
   "name": "python3"
  },
  "language_info": {
   "codemirror_mode": {
    "name": "ipython",
    "version": 3
   },
   "file_extension": ".py",
   "mimetype": "text/x-python",
   "name": "python",
   "nbconvert_exporter": "python",
   "pygments_lexer": "ipython3",
   "version": "3.8.13 (default, Mar 28 2022, 06:16:26) \n[Clang 12.0.0 ]"
  },
  "vscode": {
   "interpreter": {
    "hash": "b6b88a8194cd92b549912c5fccf4f99c3c2f8b37389322b86781a2268700b256"
   }
  }
 },
 "nbformat": 4,
 "nbformat_minor": 5
}
