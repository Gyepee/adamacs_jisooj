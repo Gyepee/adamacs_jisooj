{
 "cells": [
  {
   "cell_type": "markdown",
   "id": "46f28eb7-1fcc-4b9a-803e-097202fd899d",
   "metadata": {},
   "source": [
    "# Scanning Session Ingestion"
   ]
  },
  {
   "cell_type": "markdown",
   "id": "bba759c2-4cc1-45ee-9212-422a604c32a4",
   "metadata": {},
   "source": [
    "## Setup"
   ]
  },
  {
   "cell_type": "markdown",
   "id": "0da9aa77-afbf-43b2-ad19-e497e05e8627",
   "metadata": {},
   "source": [
    "### Connect to the database"
   ]
  },
  {
   "cell_type": "markdown",
   "id": "bd1468c3-3915-49e6-89a9-10c7940017fd",
   "metadata": {},
   "source": [
    "If you are don't have your login information, contact the administrator.\n",
    "\n",
    "Using local config file (see [01_pipeline](./01_pipeline.ipynb)):"
   ]
  },
  {
   "cell_type": "code",
   "execution_count": 1,
   "id": "301f9675-53e0-4ff6-bf3d-baba6589d6e3",
   "metadata": {},
   "outputs": [
    {
     "name": "stderr",
     "output_type": "stream",
     "text": [
      "[2022-12-16 15:52:23,748][INFO]: Connecting tobiasr@172.26.128.53:3306\n",
      "[2022-12-16 15:52:23,801][INFO]: Connected tobiasr@172.26.128.53:3306\n"
     ]
    },
    {
     "name": "stdout",
     "output_type": "stream",
     "text": [
      "Loading DLC 2.2.1.1...\n"
     ]
    },
    {
     "name": "stderr",
     "output_type": "stream",
     "text": [
      "/Users/trose/opt/miniconda3/envs/datajoint/lib/python3.8/site-packages/statsmodels/compat/pandas.py:65: FutureWarning: pandas.Int64Index is deprecated and will be removed from pandas in a future version. Use pandas.Index with the appropriate dtype instead.\n",
      "  from pandas import Int64Index as NumericIndex\n"
     ]
    },
    {
     "name": "stdout",
     "output_type": "stream",
     "text": [
      "DLC loaded in light mode; you cannot use any GUI (labeling, relabeling and standalone GUI)\n"
     ]
    }
   ],
   "source": [
    "import os\n",
    "# change to the upper level folder to detect dj_local_conf.json\n",
    "if os.path.basename(os.getcwd())=='notebooks': os.chdir('..')\n",
    "assert os.path.basename(os.getcwd())=='adamacs', (\"Please move to the main directory\")\n",
    "import datajoint as dj; dj.conn()\n",
    "\n",
    "from adamacs.pipeline import subject, session, surgery, scan, event, trial, imaging\n",
    "from adamacs import utility\n",
    "from adamacs.ingest import behavior as ibe\n",
    "import numpy as np\n",
    "import scanreader"
   ]
  },
  {
   "cell_type": "markdown",
   "id": "7a2e2ccf-01d6-4d31-932b-aa12f8cd05a8",
   "metadata": {},
   "source": [
    "Manual entry:"
   ]
  },
  {
   "cell_type": "code",
   "execution_count": null,
   "id": "333074dc-2962-4c3f-ae66-d4164d6ceac9",
   "metadata": {},
   "outputs": [],
   "source": [
    "# Manual Entry\n",
    "import datajoint as dj; import getpass\n",
    "dj.config['database.host'] = '172.26.128.53'        # Put the server name between these apostrophe\n",
    "dj.config['database.user'] = 'root'             # Put your user name between these apostrophe\n",
    "dj.config['database.password'] = getpass.getpass()  # Put your password in the prompt\n",
    "dj.conn()\n",
    "\n",
    "from adamacs.pipeline import subject, session, surgery, scan, event, trial, imaging\n",
    "from adamacs import utility\n",
    "from adamacs.ingest import behavior as ibe\n",
    "import numpy as np"
   ]
  },
  {
   "cell_type": "markdown",
   "id": "4b1d4d39",
   "metadata": {},
   "source": [
    "## populate scaninfo"
   ]
  },
  {
   "cell_type": "code",
   "execution_count": null,
   "id": "dc973669",
   "metadata": {},
   "outputs": [],
   "source": [
    "scan.ScanInfo.describe()"
   ]
  },
  {
   "cell_type": "code",
   "execution_count": null,
   "id": "888d83a0",
   "metadata": {},
   "outputs": [],
   "source": [
    "scan.ScanInfo.heading"
   ]
  },
  {
   "cell_type": "code",
   "execution_count": null,
   "id": "1f950c59",
   "metadata": {},
   "outputs": [],
   "source": [
    "populate_settings = {'display_progress': True}"
   ]
  },
  {
   "cell_type": "code",
   "execution_count": null,
   "id": "bd67bfac",
   "metadata": {},
   "outputs": [],
   "source": [
    "dj.Diagram(subject.Subject) + dj.Diagram(session.Session) + dj.Diagram(scan) + dj.Diagram(imaging.Processing)"
   ]
  },
  {
   "cell_type": "code",
   "execution_count": null,
   "id": "8e944ab4",
   "metadata": {},
   "outputs": [],
   "source": [
    "scan.ScanInfo.delete()\n",
    "scan.Scan.delete()"
   ]
  },
  {
   "cell_type": "code",
   "execution_count": null,
   "id": "70bca68f",
   "metadata": {},
   "outputs": [],
   "source": [
    "scan.Scan()"
   ]
  },
  {
   "cell_type": "code",
   "execution_count": null,
   "id": "df045a76",
   "metadata": {},
   "outputs": [],
   "source": [
    "scan.ScanInfo.populate(**populate_settings)\n",
    "scan.ScanInfo()"
   ]
  },
  {
   "cell_type": "code",
   "execution_count": null,
   "id": "5ed7dca9",
   "metadata": {},
   "outputs": [],
   "source": [
    "acq_software =scan.Scan"
   ]
  },
  {
   "cell_type": "code",
   "execution_count": null,
   "id": "e5c43c1c",
   "metadata": {},
   "outputs": [],
   "source": [
    "scan.Scan() * scan.ScanLocation()"
   ]
  },
  {
   "cell_type": "markdown",
   "id": "c566758c",
   "metadata": {},
   "source": [
    "Example to update an entry post-hoc. TODO: imnplement in elements \"Scan\" function based on userfunction stringa"
   ]
  },
  {
   "cell_type": "code",
   "execution_count": null,
   "id": "72b0d407",
   "metadata": {},
   "outputs": [],
   "source": [
    "scan.Scan.update1({'session_id': 'sess9FF6TL96', 'scan_id': 'scan9FF6TL96', 'scan_notes': \"test2\"})"
   ]
  },
  {
   "cell_type": "code",
   "execution_count": null,
   "id": "72b0d407",
   "metadata": {},
   "outputs": [],
   "source": [
    "scan.ScanLocation.update1({'session_id': 'sess9FF6TL96', 'scan_id': 'scan9FF6TL96', 'anatomical_location': \"V1\"})"
   ]
  },
  {
   "cell_type": "code",
   "execution_count": null,
   "id": "60bc3889",
   "metadata": {},
   "outputs": [],
   "source": [
    "scan.Scan()"
   ]
  },
  {
   "cell_type": "code",
   "execution_count": null,
   "id": "f69f0f3d",
   "metadata": {},
   "outputs": [],
   "source": [
    "scan.ScanLocation()"
   ]
  },
  {
   "cell_type": "markdown",
   "id": "bb115bfc-2abb-45c9-bcba-c5c9e73b8990",
   "metadata": {},
   "source": [
    "### Creating a Parameter Set"
   ]
  },
  {
   "cell_type": "markdown",
   "id": "a3824b13",
   "metadata": {},
   "source": [
    "What exactly happens during processing dependso on the parameter set. This is an example of a parameter set and its insert:"
   ]
  },
  {
   "cell_type": "code",
   "execution_count": 3,
   "id": "681d737d-721e-4f3a-8386-c1c55968f0ff",
   "metadata": {},
   "outputs": [
    {
     "ename": "DataJointError",
     "evalue": "The specified param-set already exists - name: 1",
     "output_type": "error",
     "traceback": [
      "\u001b[0;31m---------------------------------------------------------------------------\u001b[0m",
      "\u001b[0;31mDataJointError\u001b[0m                            Traceback (most recent call last)",
      "Cell \u001b[0;32mIn [3], line 67\u001b[0m\n\u001b[1;32m      1\u001b[0m \u001b[39m# Insert the param_set\u001b[39;00m\n\u001b[1;32m      2\u001b[0m \n\u001b[1;32m      3\u001b[0m \u001b[39m# TODO: Parameter set needs to be updated with ScanInfo settings\u001b[39;00m\n\u001b[1;32m      5\u001b[0m params_suite2p \u001b[39m=\u001b[39m {\u001b[39m'\u001b[39m\u001b[39mlook_one_level_down\u001b[39m\u001b[39m'\u001b[39m: \u001b[39m0.0\u001b[39m,\n\u001b[1;32m      6\u001b[0m                   \u001b[39m'\u001b[39m\u001b[39mfast_disk\u001b[39m\u001b[39m'\u001b[39m: [],\n\u001b[1;32m      7\u001b[0m                   \u001b[39m'\u001b[39m\u001b[39mdelete_bin\u001b[39m\u001b[39m'\u001b[39m: \u001b[39mFalse\u001b[39;00m,\n\u001b[0;32m   (...)\u001b[0m\n\u001b[1;32m     64\u001b[0m                   \u001b[39m'\u001b[39m\u001b[39mxrange\u001b[39m\u001b[39m'\u001b[39m: np\u001b[39m.\u001b[39marray([\u001b[39m0\u001b[39m, \u001b[39m0\u001b[39m]),\n\u001b[1;32m     65\u001b[0m                   \u001b[39m'\u001b[39m\u001b[39myrange\u001b[39m\u001b[39m'\u001b[39m: np\u001b[39m.\u001b[39marray([\u001b[39m0\u001b[39m, \u001b[39m0\u001b[39m])}\n\u001b[0;32m---> 67\u001b[0m imaging\u001b[39m.\u001b[39;49mProcessingParamSet\u001b[39m.\u001b[39;49minsert_new_params(\u001b[39m'\u001b[39;49m\u001b[39msuite2p\u001b[39;49m\u001b[39m'\u001b[39;49m, \u001b[39m2\u001b[39;49m, \u001b[39m'\u001b[39;49m\u001b[39mbasic params\u001b[39;49m\u001b[39m'\u001b[39;49m, params_suite2p)\n",
      "File \u001b[0;32m~/opt/miniconda3/envs/datajoint/lib/python3.8/site-packages/element_calcium_imaging/imaging.py:86\u001b[0m, in \u001b[0;36mProcessingParamSet.insert_new_params\u001b[0;34m(cls, processing_method, paramset_idx, paramset_desc, params)\u001b[0m\n\u001b[1;32m     84\u001b[0m         \u001b[39mreturn\u001b[39;00m\n\u001b[1;32m     85\u001b[0m     \u001b[39melse\u001b[39;00m:  \u001b[39m# If not same name: human error, trying to add the same paramset with different name\u001b[39;00m\n\u001b[0;32m---> 86\u001b[0m         \u001b[39mraise\u001b[39;00m dj\u001b[39m.\u001b[39mDataJointError(\n\u001b[1;32m     87\u001b[0m             \u001b[39m'\u001b[39m\u001b[39mThe specified param-set already exists - name: \u001b[39m\u001b[39m{}\u001b[39;00m\u001b[39m'\u001b[39m\u001b[39m.\u001b[39mformat(pname))\n\u001b[1;32m     88\u001b[0m \u001b[39melse\u001b[39;00m:\n\u001b[1;32m     89\u001b[0m     \u001b[39mcls\u001b[39m\u001b[39m.\u001b[39minsert1(param_dict)\n",
      "\u001b[0;31mDataJointError\u001b[0m: The specified param-set already exists - name: 1"
     ]
    }
   ],
   "source": [
    "# Insert the param_set\n",
    "\n",
    "# TODO: Parameter set needs to be updated with ScanInfo settings\n",
    "\n",
    "params_suite2p = {'look_one_level_down': 0.0,\n",
    "                  'fast_disk': [],\n",
    "                  'delete_bin': False,\n",
    "                  'mesoscan': False,\n",
    "                  'h5py': [],\n",
    "                  'h5py_key': 'data',\n",
    "                  'save_path0': [],\n",
    "                  'subfolders': [],\n",
    "                  'nplanes': 1,\n",
    "                  'nchannels': 1,\n",
    "                  'functional_chan': 1,\n",
    "                  'tau': 1.0,\n",
    "                  'fs': 10.0,\n",
    "                  'force_sktiff': False,\n",
    "                  'preclassify': 0.0,\n",
    "                  'save_mat': False,\n",
    "                  'combined': True,\n",
    "                  'aspect': 1.0,\n",
    "                  'do_bidiphase': False,\n",
    "                  'bidiphase': 0.0,\n",
    "                  'do_registration': True,\n",
    "                  'keep_movie_raw': False,\n",
    "                  'nimg_init': 300,\n",
    "                  'batch_size': 500,\n",
    "                  'maxregshift': 0.1,\n",
    "                  'align_by_chan': 1,\n",
    "                  'reg_tif': False,\n",
    "                  'reg_tif_chan2': False,\n",
    "                  'subpixel': 10,\n",
    "                  'smooth_sigma': 1.15,\n",
    "                  'th_badframes': 1.0,\n",
    "                  'pad_fft': False,\n",
    "                  'nonrigid': True,\n",
    "                  'block_size': [128, 128],\n",
    "                  'snr_thresh': 1.2,\n",
    "                  'maxregshiftNR': 5.0,\n",
    "                  '1Preg': False,\n",
    "                  'spatial_hp': 50.0,\n",
    "                  'pre_smooth': 2.0,\n",
    "                  'spatial_taper': 50.0,\n",
    "                  'roidetect': True,\n",
    "                  'sparse_mode': False,\n",
    "                  'diameter': 12,\n",
    "                  'spatial_scale': 0,\n",
    "                  'connected': True,\n",
    "                  'nbinned': 5000,\n",
    "                  'max_iterations': 20,\n",
    "                  'threshold_scaling': 1.0,\n",
    "                  'max_overlap': 0.75,\n",
    "                  'high_pass': 100.0,\n",
    "                  'inner_neuropil_radius': 2,\n",
    "                  'min_neuropil_pixels': 350,\n",
    "                  'allow_overlap': False,\n",
    "                  'chan2_thres': 0.65,\n",
    "                  'baseline': 'maximin',\n",
    "                  'win_baseline': 60.0,\n",
    "                  'sig_baseline': 10.0,\n",
    "                  'prctile_baseline': 8.0,\n",
    "                  'neucoeff': 0.7,\n",
    "                  'xrange': np.array([0, 0]),\n",
    "                  'yrange': np.array([0, 0])}\n",
    "\n",
    "imaging.ProcessingParamSet.insert_new_params('suite2p', 2, 'basic params', params_suite2p)"
   ]
  },
  {
   "cell_type": "code",
   "execution_count": 4,
   "id": "4017c769",
   "metadata": {},
   "outputs": [
    {
     "name": "stderr",
     "output_type": "stream",
     "text": [
      "[2022-12-16 15:53:25,372][INFO]: Deleting 0 rows from `tobiasr_imaging`.`processing_task`\n"
     ]
    },
    {
     "name": "stdout",
     "output_type": "stream",
     "text": [
      "Nothing to delete.\n",
      "`tobiasr_imaging`.`processing_task` (0 tuples)\n",
      "`tobiasr_imaging`.`__processing` (0 tuples)\n",
      "`tobiasr_imaging`.`curation` (0 tuples)\n",
      "`tobiasr_imaging`.`__segmentation` (0 tuples)\n",
      "`tobiasr_imaging`.`__segmentation__mask` (0 tuples)\n",
      "`tobiasr_imaging`.`_motion_correction` (0 tuples)\n",
      "`tobiasr_imaging`.`_motion_correction__non_rigid_motion_correction` (0 tuples)\n",
      "`tobiasr_imaging`.`_motion_correction__rigid_motion_correction` (0 tuples)\n",
      "`tobiasr_imaging`.`_motion_correction__summary` (0 tuples)\n",
      "`tobiasr_imaging`.`_motion_correction__block` (0 tuples)\n",
      "`tobiasr_imaging`.`__fluorescence` (0 tuples)\n",
      "`tobiasr_imaging`.`__fluorescence__trace` (0 tuples)\n",
      "`tobiasr_imaging`.`__mask_classification` (0 tuples)\n",
      "`tobiasr_imaging`.`__mask_classification__mask_type` (0 tuples)\n",
      "`tobiasr_imaging`.`__activity` (0 tuples)\n",
      "`tobiasr_imaging`.`__activity__trace` (0 tuples)\n"
     ]
    },
    {
     "name": "stderr",
     "output_type": "stream",
     "text": [
      "[2022-12-16 15:53:26,704][INFO]: Dropped table `tobiasr_imaging`.`__activity__trace`\n",
      "[2022-12-16 15:53:26,715][INFO]: Dropped table `tobiasr_imaging`.`__activity`\n",
      "[2022-12-16 15:53:26,726][INFO]: Dropped table `tobiasr_imaging`.`__mask_classification__mask_type`\n",
      "[2022-12-16 15:53:26,735][INFO]: Dropped table `tobiasr_imaging`.`__mask_classification`\n",
      "[2022-12-16 15:53:26,744][INFO]: Dropped table `tobiasr_imaging`.`__fluorescence__trace`\n",
      "[2022-12-16 15:53:26,753][INFO]: Dropped table `tobiasr_imaging`.`__fluorescence`\n",
      "[2022-12-16 15:53:26,762][INFO]: Dropped table `tobiasr_imaging`.`_motion_correction__block`\n",
      "[2022-12-16 15:53:26,771][INFO]: Dropped table `tobiasr_imaging`.`_motion_correction__summary`\n",
      "[2022-12-16 15:53:26,780][INFO]: Dropped table `tobiasr_imaging`.`_motion_correction__rigid_motion_correction`\n",
      "[2022-12-16 15:53:26,791][INFO]: Dropped table `tobiasr_imaging`.`_motion_correction__non_rigid_motion_correction`\n",
      "[2022-12-16 15:53:26,800][INFO]: Dropped table `tobiasr_imaging`.`_motion_correction`\n",
      "[2022-12-16 15:53:26,809][INFO]: Dropped table `tobiasr_imaging`.`__segmentation__mask`\n",
      "[2022-12-16 15:53:26,817][INFO]: Dropped table `tobiasr_imaging`.`__segmentation`\n",
      "[2022-12-16 15:53:26,828][INFO]: Dropped table `tobiasr_imaging`.`curation`\n",
      "[2022-12-16 15:53:26,846][INFO]: Dropped table `tobiasr_imaging`.`__processing`\n",
      "[2022-12-16 15:53:26,856][INFO]: Dropped table `tobiasr_imaging`.`processing_task`\n"
     ]
    },
    {
     "name": "stdout",
     "output_type": "stream",
     "text": [
      "Tables dropped.  Restart kernel.\n",
      "`tobiasr_imaging`.`#processing_param_set` (1 tuples)\n"
     ]
    },
    {
     "name": "stderr",
     "output_type": "stream",
     "text": [
      "[2022-12-16 15:53:28,009][INFO]: Dropped table `tobiasr_imaging`.`#processing_param_set`\n"
     ]
    },
    {
     "name": "stdout",
     "output_type": "stream",
     "text": [
      "Tables dropped.  Restart kernel.\n"
     ]
    }
   ],
   "source": [
    "imaging.ProcessingTask().delete()\n",
    "imaging.ProcessingTask().drop()\n",
    "imaging.ProcessingParamSet().drop()"
   ]
  },
  {
   "cell_type": "markdown",
   "id": "92fc5cf3",
   "metadata": {},
   "source": [
    "### Create and Run a Processing Task"
   ]
  },
  {
   "cell_type": "code",
   "execution_count": 2,
   "id": "c89ee0c7",
   "metadata": {},
   "outputs": [
    {
     "ename": "IntegrityError",
     "evalue": "Cannot add or update a child row: a foreign key constraint fails (`tobiasr_imaging`.`processing_task`, CONSTRAINT `processing_task_ibfk_2` FOREIGN KEY (`paramset_idx`) REFERENCES `#processing_param_set` (`paramset_idx`) ON UPDATE CASCADE)",
     "output_type": "error",
     "traceback": [
      "\u001b[0;31m---------------------------------------------------------------------------\u001b[0m",
      "\u001b[0;31mIntegrityError\u001b[0m                            Traceback (most recent call last)",
      "Cell \u001b[0;32mIn [2], line 1\u001b[0m\n\u001b[0;32m----> 1\u001b[0m imaging\u001b[39m.\u001b[39;49mProcessingTask\u001b[39m.\u001b[39;49minsert1((\u001b[39m'\u001b[39;49m\u001b[39msess9FF6TL96\u001b[39;49m\u001b[39m'\u001b[39;49m,\n\u001b[1;32m      2\u001b[0m                                 \u001b[39m'\u001b[39;49m\u001b[39mscan9FF6TL96\u001b[39;49m\u001b[39m'\u001b[39;49m,\n\u001b[1;32m      3\u001b[0m                                 \u001b[39m5\u001b[39;49m,\n\u001b[1;32m      4\u001b[0m                                 \u001b[39m'\u001b[39;49m\u001b[39mJJ_ROS-1438_2022-11-22_scan9FF6TL96_sess9FF6TL96/suite2p\u001b[39;49m\u001b[39m'\u001b[39;49m,\n\u001b[1;32m      5\u001b[0m                                 \u001b[39m'\u001b[39;49m\u001b[39mtrigger\u001b[39;49m\u001b[39m'\u001b[39;49m))\n",
      "File \u001b[0;32m~/opt/miniconda3/envs/datajoint/lib/python3.8/site-packages/datajoint/table.py:334\u001b[0m, in \u001b[0;36mTable.insert1\u001b[0;34m(self, row, **kwargs)\u001b[0m\n\u001b[1;32m    327\u001b[0m \u001b[39mdef\u001b[39;00m \u001b[39minsert1\u001b[39m(\u001b[39mself\u001b[39m, row, \u001b[39m*\u001b[39m\u001b[39m*\u001b[39mkwargs):\n\u001b[1;32m    328\u001b[0m     \u001b[39m\"\"\"\u001b[39;00m\n\u001b[1;32m    329\u001b[0m \u001b[39m    Insert one data record into the table. For ``kwargs``, see ``insert()``.\u001b[39;00m\n\u001b[1;32m    330\u001b[0m \n\u001b[1;32m    331\u001b[0m \u001b[39m    :param row: a numpy record, a dict-like object, or an ordered sequence to be inserted\u001b[39;00m\n\u001b[1;32m    332\u001b[0m \u001b[39m        as one row.\u001b[39;00m\n\u001b[1;32m    333\u001b[0m \u001b[39m    \"\"\"\u001b[39;00m\n\u001b[0;32m--> 334\u001b[0m     \u001b[39mself\u001b[39;49m\u001b[39m.\u001b[39;49minsert((row,), \u001b[39m*\u001b[39;49m\u001b[39m*\u001b[39;49mkwargs)\n",
      "File \u001b[0;32m~/opt/miniconda3/envs/datajoint/lib/python3.8/site-packages/datajoint/table.py:430\u001b[0m, in \u001b[0;36mTable.insert\u001b[0;34m(self, rows, replace, skip_duplicates, ignore_extra_fields, allow_direct_insert)\u001b[0m\n\u001b[1;32m    414\u001b[0m \u001b[39mtry\u001b[39;00m:\n\u001b[1;32m    415\u001b[0m     query \u001b[39m=\u001b[39m \u001b[39m\"\u001b[39m\u001b[39m{command}\u001b[39;00m\u001b[39m INTO \u001b[39m\u001b[39m{destination}\u001b[39;00m\u001b[39m(`\u001b[39m\u001b[39m{fields}\u001b[39;00m\u001b[39m`) VALUES \u001b[39m\u001b[39m{placeholders}\u001b[39;00m\u001b[39m{duplicate}\u001b[39;00m\u001b[39m\"\u001b[39m\u001b[39m.\u001b[39mformat(\n\u001b[1;32m    416\u001b[0m         command\u001b[39m=\u001b[39m\u001b[39m\"\u001b[39m\u001b[39mREPLACE\u001b[39m\u001b[39m\"\u001b[39m \u001b[39mif\u001b[39;00m replace \u001b[39melse\u001b[39;00m \u001b[39m\"\u001b[39m\u001b[39mINSERT\u001b[39m\u001b[39m\"\u001b[39m,\n\u001b[1;32m    417\u001b[0m         destination\u001b[39m=\u001b[39m\u001b[39mself\u001b[39m\u001b[39m.\u001b[39mfrom_clause(),\n\u001b[0;32m   (...)\u001b[0m\n\u001b[1;32m    428\u001b[0m         ),\n\u001b[1;32m    429\u001b[0m     )\n\u001b[0;32m--> 430\u001b[0m     \u001b[39mself\u001b[39;49m\u001b[39m.\u001b[39;49mconnection\u001b[39m.\u001b[39;49mquery(\n\u001b[1;32m    431\u001b[0m         query,\n\u001b[1;32m    432\u001b[0m         args\u001b[39m=\u001b[39;49m\u001b[39mlist\u001b[39;49m(\n\u001b[1;32m    433\u001b[0m             itertools\u001b[39m.\u001b[39;49mchain\u001b[39m.\u001b[39;49mfrom_iterable(\n\u001b[1;32m    434\u001b[0m                 (v \u001b[39mfor\u001b[39;49;00m v \u001b[39min\u001b[39;49;00m r[\u001b[39m\"\u001b[39;49m\u001b[39mvalues\u001b[39;49m\u001b[39m\"\u001b[39;49m] \u001b[39mif\u001b[39;49;00m v \u001b[39mis\u001b[39;49;00m \u001b[39mnot\u001b[39;49;00m \u001b[39mNone\u001b[39;49;00m) \u001b[39mfor\u001b[39;49;00m r \u001b[39min\u001b[39;49;00m rows\n\u001b[1;32m    435\u001b[0m             )\n\u001b[1;32m    436\u001b[0m         ),\n\u001b[1;32m    437\u001b[0m     )\n\u001b[1;32m    438\u001b[0m \u001b[39mexcept\u001b[39;00m UnknownAttributeError \u001b[39mas\u001b[39;00m err:\n\u001b[1;32m    439\u001b[0m     \u001b[39mraise\u001b[39;00m err\u001b[39m.\u001b[39msuggest(\n\u001b[1;32m    440\u001b[0m         \u001b[39m\"\u001b[39m\u001b[39mTo ignore extra fields in insert, set ignore_extra_fields=True\u001b[39m\u001b[39m\"\u001b[39m\n\u001b[1;32m    441\u001b[0m     )\n",
      "File \u001b[0;32m~/opt/miniconda3/envs/datajoint/lib/python3.8/site-packages/datajoint/connection.py:340\u001b[0m, in \u001b[0;36mConnection.query\u001b[0;34m(self, query, args, as_dict, suppress_warnings, reconnect)\u001b[0m\n\u001b[1;32m    338\u001b[0m cursor \u001b[39m=\u001b[39m \u001b[39mself\u001b[39m\u001b[39m.\u001b[39m_conn\u001b[39m.\u001b[39mcursor(cursor\u001b[39m=\u001b[39mcursor_class)\n\u001b[1;32m    339\u001b[0m \u001b[39mtry\u001b[39;00m:\n\u001b[0;32m--> 340\u001b[0m     \u001b[39mself\u001b[39;49m\u001b[39m.\u001b[39;49m_execute_query(cursor, query, args, suppress_warnings)\n\u001b[1;32m    341\u001b[0m \u001b[39mexcept\u001b[39;00m errors\u001b[39m.\u001b[39mLostConnectionError:\n\u001b[1;32m    342\u001b[0m     \u001b[39mif\u001b[39;00m \u001b[39mnot\u001b[39;00m reconnect:\n",
      "File \u001b[0;32m~/opt/miniconda3/envs/datajoint/lib/python3.8/site-packages/datajoint/connection.py:296\u001b[0m, in \u001b[0;36mConnection._execute_query\u001b[0;34m(cursor, query, args, suppress_warnings)\u001b[0m\n\u001b[1;32m    294\u001b[0m         cursor\u001b[39m.\u001b[39mexecute(query, args)\n\u001b[1;32m    295\u001b[0m \u001b[39mexcept\u001b[39;00m client\u001b[39m.\u001b[39merr\u001b[39m.\u001b[39mError \u001b[39mas\u001b[39;00m err:\n\u001b[0;32m--> 296\u001b[0m     \u001b[39mraise\u001b[39;00m translate_query_error(err, query)\n",
      "\u001b[0;31mIntegrityError\u001b[0m: Cannot add or update a child row: a foreign key constraint fails (`tobiasr_imaging`.`processing_task`, CONSTRAINT `processing_task_ibfk_2` FOREIGN KEY (`paramset_idx`) REFERENCES `#processing_param_set` (`paramset_idx`) ON UPDATE CASCADE)"
     ]
    }
   ],
   "source": [
    "imaging.ProcessingTask.insert1(('sess9FF6TL96',\n",
    "                                'scan9FF6TL96',\n",
    "                                5,\n",
    "                                'JJ_ROS-1438_2022-11-22_scan9FF6TL96_sess9FF6TL96/suite2p',\n",
    "                                'trigger'))"
   ]
  },
  {
   "cell_type": "markdown",
   "id": "568cf5a8",
   "metadata": {},
   "source": [
    "To run all unprocessed processing task we call populate on processing:"
   ]
  },
  {
   "cell_type": "code",
   "execution_count": null,
   "id": "c4c8bb54-ae93-4974-9ff7-ac74dfa2baa0",
   "metadata": {
    "scrolled": true
   },
   "outputs": [],
   "source": [
    "imaging.Processing.populate(display_progress=True)"
   ]
  },
  {
   "cell_type": "code",
   "execution_count": null,
   "id": "1dfdff8d",
   "metadata": {},
   "outputs": [],
   "source": [
    "imaging.scan()"
   ]
  },
  {
   "cell_type": "code",
   "execution_count": null,
   "id": "cf114ad9",
   "metadata": {},
   "outputs": [],
   "source": [
    "imaging.ProcessingTask()"
   ]
  },
  {
   "cell_type": "code",
   "execution_count": null,
   "id": "f6ba28b3",
   "metadata": {},
   "outputs": [],
   "source": [
    "imaging.Processing()"
   ]
  },
  {
   "cell_type": "code",
   "execution_count": null,
   "id": "c598dad8",
   "metadata": {},
   "outputs": [],
   "source": [
    "session_key = (session.Session & 'subject = \"ROS-1438\"').fetch('KEY')[0]"
   ]
  },
  {
   "cell_type": "code",
   "execution_count": null,
   "id": "69eba07f",
   "metadata": {},
   "outputs": [],
   "source": [
    "session.Session()"
   ]
  },
  {
   "cell_type": "code",
   "execution_count": null,
   "id": "aa0c6524",
   "metadata": {},
   "outputs": [],
   "source": [
    "scan.Scan & session_key"
   ]
  },
  {
   "cell_type": "code",
   "execution_count": null,
   "id": "85fa0ff3",
   "metadata": {},
   "outputs": [],
   "source": [
    "scan.ScanInfo & session_key"
   ]
  },
  {
   "cell_type": "code",
   "execution_count": null,
   "id": "1a264f1f",
   "metadata": {},
   "outputs": [],
   "source": [
    "scan.ScanInfo.Field & session_key"
   ]
  },
  {
   "cell_type": "code",
   "execution_count": null,
   "id": "0b67e2d1",
   "metadata": {},
   "outputs": [],
   "source": [
    "imaging.ProcessingParamSet()"
   ]
  },
  {
   "cell_type": "code",
   "execution_count": null,
   "id": "f5f520c4",
   "metadata": {},
   "outputs": [],
   "source": [
    "imaging.ProcessingTask * imaging.Processing & session_key"
   ]
  },
  {
   "cell_type": "code",
   "execution_count": null,
   "id": "0c0286e0",
   "metadata": {},
   "outputs": [],
   "source": [
    "imaging.Curation & session_key"
   ]
  },
  {
   "cell_type": "code",
   "execution_count": null,
   "id": "044cb299",
   "metadata": {},
   "outputs": [],
   "source": []
  }
 ],
 "metadata": {
  "jupytext": {
   "formats": "ipynb,py"
  },
  "kernelspec": {
   "display_name": "datajoint",
   "language": "python",
   "name": "python3"
  },
  "language_info": {
   "codemirror_mode": {
    "name": "ipython",
    "version": 3
   },
   "file_extension": ".py",
   "mimetype": "text/x-python",
   "name": "python",
   "nbconvert_exporter": "python",
   "pygments_lexer": "ipython3",
   "version": "3.8.13"
  },
  "vscode": {
   "interpreter": {
    "hash": "b6b88a8194cd92b549912c5fccf4f99c3c2f8b37389322b86781a2268700b256"
   }
  }
 },
 "nbformat": 4,
 "nbformat_minor": 5
}
