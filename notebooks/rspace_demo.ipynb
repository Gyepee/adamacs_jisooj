{
 "cells": [
  {
   "cell_type": "markdown",
   "id": "969a6f99",
   "metadata": {},
   "source": [
    "### Working with RSpace data.\n",
    "\n",
    "This notebook illustrates a workflow to get data from RSpace, analyse it, and send back results to RSpace.\n",
    "To work with this tutorial, you'll need an account on RSpace, an RSpace API key and Python 3.6 or later.\n",
    "\n",
    "This project requires modules `rspace_client` (Version 2) , `pandas` and `matplotlib`.\n",
    "\n",
    "To install rspace client `pip install rspace-client==2.0.1`\n",
    "\n",
    "The top-level README.md has more information on getting set up. \n",
    "\n",
    "The notebook is split into 3 sections:\n",
    "\n",
    "1. Adding some data to RSpace to analyse. In reality, this might be done manually by a wet-lab scientist or be delivered programmatically by an instrument. \n",
    "2. Getting the datasets to analyse\n",
    "3. Sending back the  analysis linked to an experimental record"
   ]
  },
  {
   "cell_type": "markdown",
   "id": "61f18825",
   "metadata": {},
   "source": [
    "#### Setup Step 1 - configuring the RSpace Client. `rspace_client` is available from pip.\n",
    "\n",
    "It's good practice to store API keys as environment variables rather than hard-coding it."
   ]
  },
  {
   "cell_type": "code",
   "execution_count": 1,
   "id": "d87b348c",
   "metadata": {},
   "outputs": [
    {
     "name": "stdout",
     "output_type": "stream",
     "text": [
      "{'verify': False}\n"
     ]
    },
    {
     "ename": "ConnectionError",
     "evalue": "HTTPSConnectionPool(host='rspace.rhrz.uni-bonn.de', port=443): Max retries exceeded with url: /api/v1/status?verify=False (Caused by SSLError(SSLCertVerificationError(1, '[SSL: CERTIFICATE_VERIFY_FAILED] certificate verify failed: unable to get local issuer certificate (_ssl.c:1131)')))",
     "output_type": "error",
     "traceback": [
      "\u001b[0;31m---------------------------------------------------------------------------\u001b[0m",
      "\u001b[0;31mSSLCertVerificationError\u001b[0m                  Traceback (most recent call last)",
      "File \u001b[0;32m~/miniconda3/envs/dj/lib/python3.8/site-packages/urllib3/connectionpool.py:703\u001b[0m, in \u001b[0;36mHTTPConnectionPool.urlopen\u001b[0;34m(self, method, url, body, headers, retries, redirect, assert_same_host, timeout, pool_timeout, release_conn, chunked, body_pos, **response_kw)\u001b[0m\n\u001b[1;32m    702\u001b[0m \u001b[39m# Make the request on the httplib connection object.\u001b[39;00m\n\u001b[0;32m--> 703\u001b[0m httplib_response \u001b[39m=\u001b[39m \u001b[39mself\u001b[39;49m\u001b[39m.\u001b[39;49m_make_request(\n\u001b[1;32m    704\u001b[0m     conn,\n\u001b[1;32m    705\u001b[0m     method,\n\u001b[1;32m    706\u001b[0m     url,\n\u001b[1;32m    707\u001b[0m     timeout\u001b[39m=\u001b[39;49mtimeout_obj,\n\u001b[1;32m    708\u001b[0m     body\u001b[39m=\u001b[39;49mbody,\n\u001b[1;32m    709\u001b[0m     headers\u001b[39m=\u001b[39;49mheaders,\n\u001b[1;32m    710\u001b[0m     chunked\u001b[39m=\u001b[39;49mchunked,\n\u001b[1;32m    711\u001b[0m )\n\u001b[1;32m    713\u001b[0m \u001b[39m# If we're going to release the connection in ``finally:``, then\u001b[39;00m\n\u001b[1;32m    714\u001b[0m \u001b[39m# the response doesn't need to know about the connection. Otherwise\u001b[39;00m\n\u001b[1;32m    715\u001b[0m \u001b[39m# it will also try to release it and we'll have a double-release\u001b[39;00m\n\u001b[1;32m    716\u001b[0m \u001b[39m# mess.\u001b[39;00m\n",
      "File \u001b[0;32m~/miniconda3/envs/dj/lib/python3.8/site-packages/urllib3/connectionpool.py:386\u001b[0m, in \u001b[0;36mHTTPConnectionPool._make_request\u001b[0;34m(self, conn, method, url, timeout, chunked, **httplib_request_kw)\u001b[0m\n\u001b[1;32m    385\u001b[0m \u001b[39mtry\u001b[39;00m:\n\u001b[0;32m--> 386\u001b[0m     \u001b[39mself\u001b[39;49m\u001b[39m.\u001b[39;49m_validate_conn(conn)\n\u001b[1;32m    387\u001b[0m \u001b[39mexcept\u001b[39;00m (SocketTimeout, BaseSSLError) \u001b[39mas\u001b[39;00m e:\n\u001b[1;32m    388\u001b[0m     \u001b[39m# Py2 raises this as a BaseSSLError, Py3 raises it as socket timeout.\u001b[39;00m\n",
      "File \u001b[0;32m~/miniconda3/envs/dj/lib/python3.8/site-packages/urllib3/connectionpool.py:1042\u001b[0m, in \u001b[0;36mHTTPSConnectionPool._validate_conn\u001b[0;34m(self, conn)\u001b[0m\n\u001b[1;32m   1041\u001b[0m \u001b[39mif\u001b[39;00m \u001b[39mnot\u001b[39;00m \u001b[39mgetattr\u001b[39m(conn, \u001b[39m\"\u001b[39m\u001b[39msock\u001b[39m\u001b[39m\"\u001b[39m, \u001b[39mNone\u001b[39;00m):  \u001b[39m# AppEngine might not have  `.sock`\u001b[39;00m\n\u001b[0;32m-> 1042\u001b[0m     conn\u001b[39m.\u001b[39;49mconnect()\n\u001b[1;32m   1044\u001b[0m \u001b[39mif\u001b[39;00m \u001b[39mnot\u001b[39;00m conn\u001b[39m.\u001b[39mis_verified:\n",
      "File \u001b[0;32m~/miniconda3/envs/dj/lib/python3.8/site-packages/urllib3/connection.py:419\u001b[0m, in \u001b[0;36mHTTPSConnection.connect\u001b[0;34m(self)\u001b[0m\n\u001b[1;32m    417\u001b[0m     context\u001b[39m.\u001b[39mload_default_certs()\n\u001b[0;32m--> 419\u001b[0m \u001b[39mself\u001b[39m\u001b[39m.\u001b[39msock \u001b[39m=\u001b[39m ssl_wrap_socket(\n\u001b[1;32m    420\u001b[0m     sock\u001b[39m=\u001b[39;49mconn,\n\u001b[1;32m    421\u001b[0m     keyfile\u001b[39m=\u001b[39;49m\u001b[39mself\u001b[39;49m\u001b[39m.\u001b[39;49mkey_file,\n\u001b[1;32m    422\u001b[0m     certfile\u001b[39m=\u001b[39;49m\u001b[39mself\u001b[39;49m\u001b[39m.\u001b[39;49mcert_file,\n\u001b[1;32m    423\u001b[0m     key_password\u001b[39m=\u001b[39;49m\u001b[39mself\u001b[39;49m\u001b[39m.\u001b[39;49mkey_password,\n\u001b[1;32m    424\u001b[0m     ca_certs\u001b[39m=\u001b[39;49m\u001b[39mself\u001b[39;49m\u001b[39m.\u001b[39;49mca_certs,\n\u001b[1;32m    425\u001b[0m     ca_cert_dir\u001b[39m=\u001b[39;49m\u001b[39mself\u001b[39;49m\u001b[39m.\u001b[39;49mca_cert_dir,\n\u001b[1;32m    426\u001b[0m     ca_cert_data\u001b[39m=\u001b[39;49m\u001b[39mself\u001b[39;49m\u001b[39m.\u001b[39;49mca_cert_data,\n\u001b[1;32m    427\u001b[0m     server_hostname\u001b[39m=\u001b[39;49mserver_hostname,\n\u001b[1;32m    428\u001b[0m     ssl_context\u001b[39m=\u001b[39;49mcontext,\n\u001b[1;32m    429\u001b[0m     tls_in_tls\u001b[39m=\u001b[39;49mtls_in_tls,\n\u001b[1;32m    430\u001b[0m )\n\u001b[1;32m    432\u001b[0m \u001b[39m# If we're using all defaults and the connection\u001b[39;00m\n\u001b[1;32m    433\u001b[0m \u001b[39m# is TLSv1 or TLSv1.1 we throw a DeprecationWarning\u001b[39;00m\n\u001b[1;32m    434\u001b[0m \u001b[39m# for the host.\u001b[39;00m\n",
      "File \u001b[0;32m~/miniconda3/envs/dj/lib/python3.8/site-packages/urllib3/util/ssl_.py:449\u001b[0m, in \u001b[0;36mssl_wrap_socket\u001b[0;34m(sock, keyfile, certfile, cert_reqs, ca_certs, server_hostname, ssl_version, ciphers, ssl_context, ca_cert_dir, key_password, ca_cert_data, tls_in_tls)\u001b[0m\n\u001b[1;32m    448\u001b[0m \u001b[39mif\u001b[39;00m send_sni:\n\u001b[0;32m--> 449\u001b[0m     ssl_sock \u001b[39m=\u001b[39m _ssl_wrap_socket_impl(\n\u001b[1;32m    450\u001b[0m         sock, context, tls_in_tls, server_hostname\u001b[39m=\u001b[39;49mserver_hostname\n\u001b[1;32m    451\u001b[0m     )\n\u001b[1;32m    452\u001b[0m \u001b[39melse\u001b[39;00m:\n",
      "File \u001b[0;32m~/miniconda3/envs/dj/lib/python3.8/site-packages/urllib3/util/ssl_.py:493\u001b[0m, in \u001b[0;36m_ssl_wrap_socket_impl\u001b[0;34m(sock, ssl_context, tls_in_tls, server_hostname)\u001b[0m\n\u001b[1;32m    492\u001b[0m \u001b[39mif\u001b[39;00m server_hostname:\n\u001b[0;32m--> 493\u001b[0m     \u001b[39mreturn\u001b[39;00m ssl_context\u001b[39m.\u001b[39;49mwrap_socket(sock, server_hostname\u001b[39m=\u001b[39;49mserver_hostname)\n\u001b[1;32m    494\u001b[0m \u001b[39melse\u001b[39;00m:\n",
      "File \u001b[0;32m~/miniconda3/envs/dj/lib/python3.8/ssl.py:500\u001b[0m, in \u001b[0;36mSSLContext.wrap_socket\u001b[0;34m(self, sock, server_side, do_handshake_on_connect, suppress_ragged_eofs, server_hostname, session)\u001b[0m\n\u001b[1;32m    494\u001b[0m \u001b[39mdef\u001b[39;00m \u001b[39mwrap_socket\u001b[39m(\u001b[39mself\u001b[39m, sock, server_side\u001b[39m=\u001b[39m\u001b[39mFalse\u001b[39;00m,\n\u001b[1;32m    495\u001b[0m                 do_handshake_on_connect\u001b[39m=\u001b[39m\u001b[39mTrue\u001b[39;00m,\n\u001b[1;32m    496\u001b[0m                 suppress_ragged_eofs\u001b[39m=\u001b[39m\u001b[39mTrue\u001b[39;00m,\n\u001b[1;32m    497\u001b[0m                 server_hostname\u001b[39m=\u001b[39m\u001b[39mNone\u001b[39;00m, session\u001b[39m=\u001b[39m\u001b[39mNone\u001b[39;00m):\n\u001b[1;32m    498\u001b[0m     \u001b[39m# SSLSocket class handles server_hostname encoding before it calls\u001b[39;00m\n\u001b[1;32m    499\u001b[0m     \u001b[39m# ctx._wrap_socket()\u001b[39;00m\n\u001b[0;32m--> 500\u001b[0m     \u001b[39mreturn\u001b[39;00m \u001b[39mself\u001b[39;49m\u001b[39m.\u001b[39;49msslsocket_class\u001b[39m.\u001b[39;49m_create(\n\u001b[1;32m    501\u001b[0m         sock\u001b[39m=\u001b[39;49msock,\n\u001b[1;32m    502\u001b[0m         server_side\u001b[39m=\u001b[39;49mserver_side,\n\u001b[1;32m    503\u001b[0m         do_handshake_on_connect\u001b[39m=\u001b[39;49mdo_handshake_on_connect,\n\u001b[1;32m    504\u001b[0m         suppress_ragged_eofs\u001b[39m=\u001b[39;49msuppress_ragged_eofs,\n\u001b[1;32m    505\u001b[0m         server_hostname\u001b[39m=\u001b[39;49mserver_hostname,\n\u001b[1;32m    506\u001b[0m         context\u001b[39m=\u001b[39;49m\u001b[39mself\u001b[39;49m,\n\u001b[1;32m    507\u001b[0m         session\u001b[39m=\u001b[39;49msession\n\u001b[1;32m    508\u001b[0m     )\n",
      "File \u001b[0;32m~/miniconda3/envs/dj/lib/python3.8/ssl.py:1040\u001b[0m, in \u001b[0;36mSSLSocket._create\u001b[0;34m(cls, sock, server_side, do_handshake_on_connect, suppress_ragged_eofs, server_hostname, context, session)\u001b[0m\n\u001b[1;32m   1039\u001b[0m             \u001b[39mraise\u001b[39;00m \u001b[39mValueError\u001b[39;00m(\u001b[39m\"\u001b[39m\u001b[39mdo_handshake_on_connect should not be specified for non-blocking sockets\u001b[39m\u001b[39m\"\u001b[39m)\n\u001b[0;32m-> 1040\u001b[0m         \u001b[39mself\u001b[39;49m\u001b[39m.\u001b[39;49mdo_handshake()\n\u001b[1;32m   1041\u001b[0m \u001b[39mexcept\u001b[39;00m (\u001b[39mOSError\u001b[39;00m, \u001b[39mValueError\u001b[39;00m):\n",
      "File \u001b[0;32m~/miniconda3/envs/dj/lib/python3.8/ssl.py:1309\u001b[0m, in \u001b[0;36mSSLSocket.do_handshake\u001b[0;34m(self, block)\u001b[0m\n\u001b[1;32m   1308\u001b[0m         \u001b[39mself\u001b[39m\u001b[39m.\u001b[39msettimeout(\u001b[39mNone\u001b[39;00m)\n\u001b[0;32m-> 1309\u001b[0m     \u001b[39mself\u001b[39;49m\u001b[39m.\u001b[39;49m_sslobj\u001b[39m.\u001b[39;49mdo_handshake()\n\u001b[1;32m   1310\u001b[0m \u001b[39mfinally\u001b[39;00m:\n",
      "\u001b[0;31mSSLCertVerificationError\u001b[0m: [SSL: CERTIFICATE_VERIFY_FAILED] certificate verify failed: unable to get local issuer certificate (_ssl.c:1131)",
      "\nDuring handling of the above exception, another exception occurred:\n",
      "\u001b[0;31mMaxRetryError\u001b[0m                             Traceback (most recent call last)",
      "File \u001b[0;32m~/miniconda3/envs/dj/lib/python3.8/site-packages/requests/adapters.py:486\u001b[0m, in \u001b[0;36mHTTPAdapter.send\u001b[0;34m(self, request, stream, timeout, verify, cert, proxies)\u001b[0m\n\u001b[1;32m    485\u001b[0m \u001b[39mtry\u001b[39;00m:\n\u001b[0;32m--> 486\u001b[0m     resp \u001b[39m=\u001b[39m conn\u001b[39m.\u001b[39;49murlopen(\n\u001b[1;32m    487\u001b[0m         method\u001b[39m=\u001b[39;49mrequest\u001b[39m.\u001b[39;49mmethod,\n\u001b[1;32m    488\u001b[0m         url\u001b[39m=\u001b[39;49murl,\n\u001b[1;32m    489\u001b[0m         body\u001b[39m=\u001b[39;49mrequest\u001b[39m.\u001b[39;49mbody,\n\u001b[1;32m    490\u001b[0m         headers\u001b[39m=\u001b[39;49mrequest\u001b[39m.\u001b[39;49mheaders,\n\u001b[1;32m    491\u001b[0m         redirect\u001b[39m=\u001b[39;49m\u001b[39mFalse\u001b[39;49;00m,\n\u001b[1;32m    492\u001b[0m         assert_same_host\u001b[39m=\u001b[39;49m\u001b[39mFalse\u001b[39;49;00m,\n\u001b[1;32m    493\u001b[0m         preload_content\u001b[39m=\u001b[39;49m\u001b[39mFalse\u001b[39;49;00m,\n\u001b[1;32m    494\u001b[0m         decode_content\u001b[39m=\u001b[39;49m\u001b[39mFalse\u001b[39;49;00m,\n\u001b[1;32m    495\u001b[0m         retries\u001b[39m=\u001b[39;49m\u001b[39mself\u001b[39;49m\u001b[39m.\u001b[39;49mmax_retries,\n\u001b[1;32m    496\u001b[0m         timeout\u001b[39m=\u001b[39;49mtimeout,\n\u001b[1;32m    497\u001b[0m         chunked\u001b[39m=\u001b[39;49mchunked,\n\u001b[1;32m    498\u001b[0m     )\n\u001b[1;32m    500\u001b[0m \u001b[39mexcept\u001b[39;00m (ProtocolError, \u001b[39mOSError\u001b[39;00m) \u001b[39mas\u001b[39;00m err:\n",
      "File \u001b[0;32m~/miniconda3/envs/dj/lib/python3.8/site-packages/urllib3/connectionpool.py:787\u001b[0m, in \u001b[0;36mHTTPConnectionPool.urlopen\u001b[0;34m(self, method, url, body, headers, retries, redirect, assert_same_host, timeout, pool_timeout, release_conn, chunked, body_pos, **response_kw)\u001b[0m\n\u001b[1;32m    785\u001b[0m     e \u001b[39m=\u001b[39m ProtocolError(\u001b[39m\"\u001b[39m\u001b[39mConnection aborted.\u001b[39m\u001b[39m\"\u001b[39m, e)\n\u001b[0;32m--> 787\u001b[0m retries \u001b[39m=\u001b[39m retries\u001b[39m.\u001b[39;49mincrement(\n\u001b[1;32m    788\u001b[0m     method, url, error\u001b[39m=\u001b[39;49me, _pool\u001b[39m=\u001b[39;49m\u001b[39mself\u001b[39;49m, _stacktrace\u001b[39m=\u001b[39;49msys\u001b[39m.\u001b[39;49mexc_info()[\u001b[39m2\u001b[39;49m]\n\u001b[1;32m    789\u001b[0m )\n\u001b[1;32m    790\u001b[0m retries\u001b[39m.\u001b[39msleep()\n",
      "File \u001b[0;32m~/miniconda3/envs/dj/lib/python3.8/site-packages/urllib3/util/retry.py:592\u001b[0m, in \u001b[0;36mRetry.increment\u001b[0;34m(self, method, url, response, error, _pool, _stacktrace)\u001b[0m\n\u001b[1;32m    591\u001b[0m \u001b[39mif\u001b[39;00m new_retry\u001b[39m.\u001b[39mis_exhausted():\n\u001b[0;32m--> 592\u001b[0m     \u001b[39mraise\u001b[39;00m MaxRetryError(_pool, url, error \u001b[39mor\u001b[39;00m ResponseError(cause))\n\u001b[1;32m    594\u001b[0m log\u001b[39m.\u001b[39mdebug(\u001b[39m\"\u001b[39m\u001b[39mIncremented Retry for (url=\u001b[39m\u001b[39m'\u001b[39m\u001b[39m%s\u001b[39;00m\u001b[39m'\u001b[39m\u001b[39m): \u001b[39m\u001b[39m%r\u001b[39;00m\u001b[39m\"\u001b[39m, url, new_retry)\n",
      "\u001b[0;31mMaxRetryError\u001b[0m: HTTPSConnectionPool(host='rspace.rhrz.uni-bonn.de', port=443): Max retries exceeded with url: /api/v1/status?verify=False (Caused by SSLError(SSLCertVerificationError(1, '[SSL: CERTIFICATE_VERIFY_FAILED] certificate verify failed: unable to get local issuer certificate (_ssl.c:1131)')))",
      "\nDuring handling of the above exception, another exception occurred:\n",
      "\u001b[0;31mSSLError\u001b[0m                                  Traceback (most recent call last)",
      "File \u001b[0;32m~/miniconda3/envs/dj/lib/python3.8/site-packages/rspace_client/client_base.py:132\u001b[0m, in \u001b[0;36mClientBase.retrieve_api_results\u001b[0;34m(self, endpoint, params, content_type, request_type)\u001b[0m\n\u001b[1;32m    131\u001b[0m \u001b[39mif\u001b[39;00m request_type \u001b[39m==\u001b[39m \u001b[39m\"\u001b[39m\u001b[39mGET\u001b[39m\u001b[39m\"\u001b[39m:\n\u001b[0;32m--> 132\u001b[0m     response \u001b[39m=\u001b[39m requests\u001b[39m.\u001b[39;49mget(url, params\u001b[39m=\u001b[39;49mparams, headers\u001b[39m=\u001b[39;49mheaders)\n\u001b[1;32m    133\u001b[0m \u001b[39melif\u001b[39;00m (\n\u001b[1;32m    134\u001b[0m     request_type \u001b[39m==\u001b[39m \u001b[39m\"\u001b[39m\u001b[39mPUT\u001b[39m\u001b[39m\"\u001b[39m\n\u001b[1;32m    135\u001b[0m     \u001b[39mor\u001b[39;00m request_type \u001b[39m==\u001b[39m \u001b[39m\"\u001b[39m\u001b[39mPOST\u001b[39m\u001b[39m\"\u001b[39m\n\u001b[1;32m    136\u001b[0m     \u001b[39mor\u001b[39;00m request_type \u001b[39m==\u001b[39m \u001b[39m\"\u001b[39m\u001b[39mDELETE\u001b[39m\u001b[39m\"\u001b[39m\n\u001b[1;32m    137\u001b[0m ):\n",
      "File \u001b[0;32m~/miniconda3/envs/dj/lib/python3.8/site-packages/requests/api.py:73\u001b[0m, in \u001b[0;36mget\u001b[0;34m(url, params, **kwargs)\u001b[0m\n\u001b[1;32m     63\u001b[0m \u001b[39m\u001b[39m\u001b[39mr\u001b[39m\u001b[39m\"\"\"Sends a GET request.\u001b[39;00m\n\u001b[1;32m     64\u001b[0m \n\u001b[1;32m     65\u001b[0m \u001b[39m:param url: URL for the new :class:`Request` object.\u001b[39;00m\n\u001b[0;32m   (...)\u001b[0m\n\u001b[1;32m     70\u001b[0m \u001b[39m:rtype: requests.Response\u001b[39;00m\n\u001b[1;32m     71\u001b[0m \u001b[39m\"\"\"\u001b[39;00m\n\u001b[0;32m---> 73\u001b[0m \u001b[39mreturn\u001b[39;00m request(\u001b[39m\"\u001b[39;49m\u001b[39mget\u001b[39;49m\u001b[39m\"\u001b[39;49m, url, params\u001b[39m=\u001b[39;49mparams, \u001b[39m*\u001b[39;49m\u001b[39m*\u001b[39;49mkwargs)\n",
      "File \u001b[0;32m~/miniconda3/envs/dj/lib/python3.8/site-packages/requests/api.py:59\u001b[0m, in \u001b[0;36mrequest\u001b[0;34m(method, url, **kwargs)\u001b[0m\n\u001b[1;32m     58\u001b[0m \u001b[39mwith\u001b[39;00m sessions\u001b[39m.\u001b[39mSession() \u001b[39mas\u001b[39;00m session:\n\u001b[0;32m---> 59\u001b[0m     \u001b[39mreturn\u001b[39;00m session\u001b[39m.\u001b[39;49mrequest(method\u001b[39m=\u001b[39;49mmethod, url\u001b[39m=\u001b[39;49murl, \u001b[39m*\u001b[39;49m\u001b[39m*\u001b[39;49mkwargs)\n",
      "File \u001b[0;32m~/miniconda3/envs/dj/lib/python3.8/site-packages/requests/sessions.py:587\u001b[0m, in \u001b[0;36mSession.request\u001b[0;34m(self, method, url, params, data, headers, cookies, files, auth, timeout, allow_redirects, proxies, hooks, stream, verify, cert, json)\u001b[0m\n\u001b[1;32m    586\u001b[0m send_kwargs\u001b[39m.\u001b[39mupdate(settings)\n\u001b[0;32m--> 587\u001b[0m resp \u001b[39m=\u001b[39m \u001b[39mself\u001b[39;49m\u001b[39m.\u001b[39;49msend(prep, \u001b[39m*\u001b[39;49m\u001b[39m*\u001b[39;49msend_kwargs)\n\u001b[1;32m    589\u001b[0m \u001b[39mreturn\u001b[39;00m resp\n",
      "File \u001b[0;32m~/miniconda3/envs/dj/lib/python3.8/site-packages/requests/sessions.py:701\u001b[0m, in \u001b[0;36mSession.send\u001b[0;34m(self, request, **kwargs)\u001b[0m\n\u001b[1;32m    700\u001b[0m \u001b[39m# Send the request\u001b[39;00m\n\u001b[0;32m--> 701\u001b[0m r \u001b[39m=\u001b[39m adapter\u001b[39m.\u001b[39;49msend(request, \u001b[39m*\u001b[39;49m\u001b[39m*\u001b[39;49mkwargs)\n\u001b[1;32m    703\u001b[0m \u001b[39m# Total elapsed time of the request (approximately)\u001b[39;00m\n",
      "File \u001b[0;32m~/miniconda3/envs/dj/lib/python3.8/site-packages/requests/adapters.py:517\u001b[0m, in \u001b[0;36mHTTPAdapter.send\u001b[0;34m(self, request, stream, timeout, verify, cert, proxies)\u001b[0m\n\u001b[1;32m    515\u001b[0m \u001b[39mif\u001b[39;00m \u001b[39misinstance\u001b[39m(e\u001b[39m.\u001b[39mreason, _SSLError):\n\u001b[1;32m    516\u001b[0m     \u001b[39m# This branch is for urllib3 v1.22 and later.\u001b[39;00m\n\u001b[0;32m--> 517\u001b[0m     \u001b[39mraise\u001b[39;00m SSLError(e, request\u001b[39m=\u001b[39mrequest)\n\u001b[1;32m    519\u001b[0m \u001b[39mraise\u001b[39;00m \u001b[39mConnectionError\u001b[39;00m(e, request\u001b[39m=\u001b[39mrequest)\n",
      "\u001b[0;31mSSLError\u001b[0m: HTTPSConnectionPool(host='rspace.rhrz.uni-bonn.de', port=443): Max retries exceeded with url: /api/v1/status?verify=False (Caused by SSLError(SSLCertVerificationError(1, '[SSL: CERTIFICATE_VERIFY_FAILED] certificate verify failed: unable to get local issuer certificate (_ssl.c:1131)')))",
      "\nDuring handling of the above exception, another exception occurred:\n",
      "\u001b[0;31mConnectionError\u001b[0m                           Traceback (most recent call last)",
      "\u001b[1;32m/home/tobiasr/adamacs/notebooks/rspace_demo.ipynb Cell 3\u001b[0m in \u001b[0;36m<cell line: 13>\u001b[0;34m()\u001b[0m\n\u001b[1;32m     <a href='vscode-notebook-cell://ssh-remote%2B172.26.128.53/home/tobiasr/adamacs/notebooks/rspace_demo.ipynb#W2sdnNjb2RlLXJlbW90ZQ%3D%3D?line=9'>10</a>\u001b[0m api \u001b[39m=\u001b[39m eln\u001b[39m.\u001b[39mELNClient(URL, API_KEY)\n\u001b[1;32m     <a href='vscode-notebook-cell://ssh-remote%2B172.26.128.53/home/tobiasr/adamacs/notebooks/rspace_demo.ipynb#W2sdnNjb2RlLXJlbW90ZQ%3D%3D?line=11'>12</a>\u001b[0m \u001b[39m## sanity check that that the client is configured correctly\u001b[39;00m\n\u001b[0;32m---> <a href='vscode-notebook-cell://ssh-remote%2B172.26.128.53/home/tobiasr/adamacs/notebooks/rspace_demo.ipynb#W2sdnNjb2RlLXJlbW90ZQ%3D%3D?line=12'>13</a>\u001b[0m api\u001b[39m.\u001b[39;49mget_status()\n",
      "File \u001b[0;32m~/miniconda3/envs/dj/lib/python3.8/site-packages/rspace_client/eln/eln.py:873\u001b[0m, in \u001b[0;36mELNClient.get_status\u001b[0;34m(self)\u001b[0m\n\u001b[1;32m    867\u001b[0m \u001b[39mdef\u001b[39;00m \u001b[39mget_status\u001b[39m(\u001b[39mself\u001b[39m):\n\u001b[1;32m    868\u001b[0m \u001b[39m    \u001b[39m\u001b[39m\"\"\"\u001b[39;00m\n\u001b[1;32m    869\u001b[0m \u001b[39m    Simple API call to check that API service is available. Throws an AuthenticationError if authentication fails.\u001b[39;00m\n\u001b[1;32m    870\u001b[0m \u001b[39m    More information on https://community.researchspace.com/public/apiDocs (or your own instance's /public/apiDocs).\u001b[39;00m\n\u001b[1;32m    871\u001b[0m \u001b[39m    :return: parsed response as a dictionary (most important field is 'message' which is supposed to be 'OK')\u001b[39;00m\n\u001b[1;32m    872\u001b[0m \u001b[39m    \"\"\"\u001b[39;00m\n\u001b[0;32m--> 873\u001b[0m     \u001b[39mreturn\u001b[39;00m \u001b[39mself\u001b[39;49m\u001b[39m.\u001b[39;49mretrieve_api_results(\u001b[39m\"\u001b[39;49m\u001b[39m/status\u001b[39;49m\u001b[39m\"\u001b[39;49m)\n",
      "File \u001b[0;32m~/miniconda3/envs/dj/lib/python3.8/site-packages/rspace_client/client_base.py:150\u001b[0m, in \u001b[0;36mClientBase.retrieve_api_results\u001b[0;34m(self, endpoint, params, content_type, request_type)\u001b[0m\n\u001b[1;32m    148\u001b[0m     \u001b[39mreturn\u001b[39;00m \u001b[39mself\u001b[39m\u001b[39m.\u001b[39m_handle_response(response)\n\u001b[1;32m    149\u001b[0m \u001b[39mexcept\u001b[39;00m requests\u001b[39m.\u001b[39mexceptions\u001b[39m.\u001b[39mConnectionError \u001b[39mas\u001b[39;00m e:\n\u001b[0;32m--> 150\u001b[0m     \u001b[39mraise\u001b[39;00m ClientBase\u001b[39m.\u001b[39mConnectionError(e)\n",
      "\u001b[0;31mConnectionError\u001b[0m: HTTPSConnectionPool(host='rspace.rhrz.uni-bonn.de', port=443): Max retries exceeded with url: /api/v1/status?verify=False (Caused by SSLError(SSLCertVerificationError(1, '[SSL: CERTIFICATE_VERIFY_FAILED] certificate verify failed: unable to get local issuer certificate (_ssl.c:1131)')))"
     ]
    }
   ],
   "source": [
    "from rspace_client.eln import eln\n",
    "import os\n",
    "\n",
    "\n",
    "#API_KEY=os.environ.get('RSPACE_API_KEY')\n",
    "#URL=os.environ.get('RSPACE_URL')\n",
    "URL='https://rspace.rhrz.uni-bonn.de'\n",
    "API_KEY='CuJO1X8jtrmqvbPWtHhP99qg6u1zWnzp'\n",
    "\n",
    "api = eln.ELNClient(URL, API_KEY)\n",
    "\n",
    "## sanity check that that the client is configured correctly\n",
    "api.get_status()"
   ]
  },
  {
   "cell_type": "code",
   "execution_count": null,
   "id": "d7cb880a",
   "metadata": {},
   "outputs": [],
   "source": [
    "params = {\"orderBy\": 2, \"pageSize\": 432, \"pageNumber\": 234}\n",
    "params[\"verify\"] = None\n",
    "params"
   ]
  },
  {
   "cell_type": "markdown",
   "id": "5beea213",
   "metadata": {},
   "source": [
    "#### Setup Step 2 - adding some test data.\n",
    "\n",
    "Here we'll add a CSV file to RSpace, containing some synthetic weather-related data."
   ]
  },
  {
   "cell_type": "code",
   "execution_count": null,
   "id": "572199eb",
   "metadata": {},
   "outputs": [],
   "source": [
    "with open ('temp_data.csv') as f:\n",
    "    raw_data_file = api.upload_file(f)['id']\n",
    "raw_data_file_id= raw_data_file\n",
    "print(raw_data_file_id)"
   ]
  },
  {
   "cell_type": "markdown",
   "id": "c06e9bfe",
   "metadata": {},
   "source": [
    "#### Analysis Step 1 - retrieving dataset\n",
    "\n",
    "OK, now we can start working with this dataset. If this dataset had been uploaded by a colleague, we could have been notified by Slack, Teams, email or within RSpace itself that this file was available for analysis."
   ]
  },
  {
   "cell_type": "code",
   "execution_count": null,
   "id": "e9377ad0",
   "metadata": {},
   "outputs": [],
   "source": [
    "file_name = \"downloaded_\"+(api.get_file_info(raw_data_file_id)['name'])\n",
    "print(file_name)\n",
    "\n",
    "## retrieve from RSpace - here we are downloading the file\n",
    "raw_temp_data = api.download_file(raw_data_file_id, file_name)"
   ]
  },
  {
   "cell_type": "markdown",
   "id": "6bf66c96",
   "metadata": {},
   "source": [
    "#### Analysis Step 2 - the analysis\n",
    "\n",
    "Here is where you do your actual analysis of the data... here we'll just plot the data and generate a summary, saving both to file."
   ]
  },
  {
   "cell_type": "code",
   "execution_count": null,
   "id": "031453ef",
   "metadata": {},
   "outputs": [],
   "source": [
    "import pandas as pd;\n",
    "df = pd.read_csv(file_name)\n",
    "summary_stats = df.describe()\n",
    "\n",
    "df = df.set_index('city_id')\n",
    "plot = df.plot(ylabel='Celsius', title=f'Temperature plots from dataset {raw_data_file_id}')\n",
    "img_f= f'Temperature_per_city-{raw_data_file_id}'\n",
    "plot.get_figure().savefig(img_f)\n",
    "\n",
    "summary_stats_csv = f'{file_name[:file_name.rindex(\".\")]}-summarystats.csv'\n",
    "summary_stats.to_csv(summary_stats_csv)"
   ]
  },
  {
   "cell_type": "markdown",
   "id": "0e4dbf42",
   "metadata": {},
   "source": [
    "#### Analysis Step 3 - uploading back to RSpace\n",
    "\n",
    "You can add captions to the file to help describe your analysis."
   ]
  },
  {
   "cell_type": "code",
   "execution_count": null,
   "id": "78677b42",
   "metadata": {},
   "outputs": [],
   "source": [
    "with open(summary_stats_csv, 'rb') as f:\n",
    "    summary_file = api.upload_file(f, caption=f\"Summary data for {raw_data_file_id}\")\n",
    "    print(f\"uploaded id = {summary_file['id']}\")\n",
    "with open(img_f+\".png\", 'rb') as f:\n",
    "    uploaded_image = api.upload_file(f, caption=f\"City vs temperature for  {raw_data_file_id}\")\n",
    "    print(f\"uploaded id = {uploaded_image['id']}\") "
   ]
  },
  {
   "cell_type": "markdown",
   "id": "3edcc2a3",
   "metadata": {},
   "source": [
    "There are several  options now:\n",
    "\n",
    "* You can create an RSpace document, and insert these files, and share the document with your group or colleage. \n",
    "* Your colleagues may have already created and shared document describing an experiment that generated these files, in which case you would already have access to a document.\n",
    "\n",
    "Here we'll go with a simple flow where we create a new RSpace document to share with the rest of our research group.\n",
    "\n",
    "The content we'll insert will be HTML. However you don't need to figure out how to display the linked files. Just include file links as `<fileId=XXXX>` syntax and RSpace will turn these into formatted links.\n"
   ]
  },
  {
   "cell_type": "code",
   "execution_count": null,
   "id": "478909c7",
   "metadata": {},
   "outputs": [],
   "source": [
    "new_doc = api.create_document(name=f\"Analysis of dataset {raw_data_file_id}\")\n",
    "content = f\"\"\"\n",
    "<p>Analysis of temperature dataset from our standard locations.\n",
    "<p>No variation between locations:\n",
    "Raw data: <fileId={raw_data_file_id}>\n",
    "<p>\n",
    "Statistical summary: <fileId={summary_file['id']}>\n",
    "<p>\n",
    "Location vs temperature: <fileId={uploaded_image['id']}>\n",
    "\"\"\"\n",
    "\n",
    "updated_doc = api.append_content(new_doc['id'], content)\n",
    "\n",
    "## a simple utility function so you can get a link to view the updated contents in a browser.\n",
    "def api_to_browser(link):\n",
    "    return '/globalId/SD'.join(link.split('/api/v1/documents/'))\n",
    "\n",
    "print(f\"You can view this in a browser at {api_to_browser(updated_doc['_links'][0]['link'])}\")\n"
   ]
  },
  {
   "cell_type": "markdown",
   "id": "f39125f6",
   "metadata": {},
   "source": [
    "If you're in a  group, you can now share this with your group. You can get your groups' IDs: "
   ]
  },
  {
   "cell_type": "code",
   "execution_count": null,
   "id": "dc355c76",
   "metadata": {},
   "outputs": [],
   "source": [
    "groups = api.get_groups()"
   ]
  },
  {
   "cell_type": "code",
   "execution_count": null,
   "id": "cb75bba2",
   "metadata": {},
   "outputs": [],
   "source": [
    "api.shareDocuments([new_doc['id']], groups[0]['id'], permission=\"EDIT\")"
   ]
  },
  {
   "cell_type": "code",
   "execution_count": null,
   "id": "4d4c1752",
   "metadata": {},
   "outputs": [],
   "source": []
  }
 ],
 "metadata": {
  "kernelspec": {
   "display_name": "Python 3 (ipykernel)",
   "language": "python",
   "name": "python3"
  },
  "language_info": {
   "codemirror_mode": {
    "name": "ipython",
    "version": 3
   },
   "file_extension": ".py",
   "mimetype": "text/x-python",
   "name": "python",
   "nbconvert_exporter": "python",
   "pygments_lexer": "ipython3",
   "version": "3.8.16"
  }
 },
 "nbformat": 4,
 "nbformat_minor": 5
}
