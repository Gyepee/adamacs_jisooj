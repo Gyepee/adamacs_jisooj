{
 "cells": [
  {
   "cell_type": "code",
   "execution_count": 1,
   "metadata": {},
   "outputs": [
    {
     "name": "stderr",
     "output_type": "stream",
     "text": [
      "[2023-05-12 16:16:06,196][INFO]: Connecting tobiasr@172.26.128.53:3306\n",
      "[2023-05-12 16:16:06,241][INFO]: Connected tobiasr@172.26.128.53:3306\n"
     ]
    },
    {
     "data": {
      "text/plain": [
       "'0.14.0'"
      ]
     },
     "execution_count": 1,
     "metadata": {},
     "output_type": "execute_result"
    }
   ],
   "source": [
    "import os\n",
    "# change to the upper level folder to detect dj_local_conf.json\n",
    "if os.path.basename(os.getcwd())=='notebooks': os.chdir('..')\n",
    "assert os.path.basename(os.getcwd())=='adamacs', (\"Please move to the main directory\")\n",
    "from adamacs.pipeline import subject, session, equipment, surgery, event, trial, imaging\n",
    "from adamacs.ingest import session as isess\n",
    "from adamacs.helpers import stack_helpers as sh\n",
    "from adamacs.ingest import behavior as ibe\n",
    "import datajoint as dj\n",
    "from rspace_client.eln import eln\n",
    "import pandas as pd\n",
    "import numpy as np\n",
    "import matplotlib.pyplot as plt\n",
    "dj.__version__"
   ]
  },
  {
   "cell_type": "code",
   "execution_count": 3,
   "metadata": {},
   "outputs": [],
   "source": [
    "dj.config['stores'] = {\n",
    "  'external': dict(  # 'regular' external storage for this pipeline\n",
    "                protocol='s3',\n",
    "                endpoint='s3.amazonaws.com:9000',\n",
    "                bucket = 'testbucket',\n",
    "                location = 'datajoint-projects/lab1',\n",
    "                access_key='1234567',\n",
    "                secret_key='foaf1234'),\n",
    "  'external-raw': dict( # 'raw' storage for this pipeline\n",
    "                protocol='file',\n",
    "                location='/net/djblobs/myschema')}"
   ]
  },
  {
   "cell_type": "code",
   "execution_count": 5,
   "metadata": {},
   "outputs": [
    {
     "data": {
      "text/plain": [
       "{   'connection.charset': '',\n",
       "    'connection.init_function': None,\n",
       "    'custom': {   'database.prefix': 'tobiasr_',\n",
       "                  'dlc_output_dir': '/My/Local/Dir3/optional',\n",
       "                  'dlc_root_data_dir': [   '/datajoint-data/data/tobiasr/Dir1',\n",
       "                                           '/datajoint-data/data/tobiasr/Dir2'],\n",
       "                  'exp_root_data_dir': ['/datajoint-data/data/tobiasr'],\n",
       "                  'imaging_root_data_dir': ['/datajoint-data/data/tobiasr'],\n",
       "                  'pyrat_client_token': '2-KNgH619evtL6stOvMQl19X',\n",
       "                  'pyrat_user_token': '6-uRxp552avVQdlE2VNEcRKC',\n",
       "                  'rspace_API_key': 'SvMDsvzYNfJY36E0aHc5c2TriwsHWqs5',\n",
       "                  'rspace_URL': 'https://rspace.rhrz.uni-bonn.de/',\n",
       "                  'suite2p_fast_tmp': ['/home/tobiasr/tmp/'],\n",
       "                  'suite2p_tif_tmp': ['/home/tobiasr/s2p_tiff/']},\n",
       "    'database.host': '172.26.128.53',\n",
       "    'database.ingest_filename_full': '',\n",
       "    'database.ingest_filename_short': '',\n",
       "    'database.password': 'K0%kS0',\n",
       "    'database.port': 3306,\n",
       "    'database.reconnect': True,\n",
       "    'database.use_tls': None,\n",
       "    'database.user': 'tobiasr',\n",
       "    'display.limit': 12,\n",
       "    'display.show_tuple_count': True,\n",
       "    'display.width': 14,\n",
       "    'enable_python_native_blobs': True,\n",
       "    'fetch_format': 'array',\n",
       "    'filepath_checksum_size_limit': None,\n",
       "    'loglevel': 'INFO',\n",
       "    'safemode': True,\n",
       "    'stores': {   'external': {   'access_key': '1234567',\n",
       "                                  'bucket': 'testbucket',\n",
       "                                  'endpoint': 's3.amazonaws.com:9000',\n",
       "                                  'location': 'datajoint-projects/lab1',\n",
       "                                  'protocol': 's3',\n",
       "                                  'secret_key': 'foaf1234'},\n",
       "                  'external-raw': {   'location': '/net/djblobs/myschema',\n",
       "                                      'protocol': 'file'}}}"
      ]
     },
     "execution_count": 5,
     "metadata": {},
     "output_type": "execute_result"
    }
   ],
   "source": [
    "dj.config"
   ]
  },
  {
   "cell_type": "code",
   "execution_count": 3,
   "metadata": {},
   "outputs": [
    {
     "data": {
      "text/plain": [
       "{   'connection.charset': '',\n",
       "    'connection.init_function': None,\n",
       "    'custom': {   'database.prefix': 'tobiasr_',\n",
       "                  'dlc_output_dir': '/My/Local/Dir3/optional',\n",
       "                  'dlc_root_data_dir': [   '/datajoint-data/data/tobiasr/Dir1',\n",
       "                                           '/datajoint-data/data/tobiasr/Dir2'],\n",
       "                  'exp_root_data_dir': ['/datajoint-data/data/tobiasr'],\n",
       "                  'imaging_root_data_dir': ['/datajoint-data/data/tobiasr'],\n",
       "                  'pyrat_client_token': '2-KNgH619evtL6stOvMQl19X',\n",
       "                  'pyrat_user_token': '6-uRxp552avVQdlE2VNEcRKC',\n",
       "                  'rspace_API_key': 'SvMDsvzYNfJY36E0aHc5c2TriwsHWqs5',\n",
       "                  'rspace_URL': 'https://rspace.rhrz.uni-bonn.de/',\n",
       "                  'suite2p_fast_tmp': ['/home/tobiasr/tmp/'],\n",
       "                  'suite2p_tif_tmp': ['/home/tobiasr/s2p_tiff/']},\n",
       "    'database.host': '172.26.128.53',\n",
       "    'database.ingest_filename_full': '',\n",
       "    'database.ingest_filename_short': '',\n",
       "    'database.password': 'K0%kS0',\n",
       "    'database.port': 3306,\n",
       "    'database.reconnect': True,\n",
       "    'database.use_tls': None,\n",
       "    'database.user': 'tobiasr',\n",
       "    'display.limit': 50,\n",
       "    'display.show_tuple_count': True,\n",
       "    'display.width': 14,\n",
       "    'enable_python_native_blobs': True,\n",
       "    'fetch_format': 'array',\n",
       "    'filepath_checksum_size_limit': None,\n",
       "    'loglevel': 'INFO',\n",
       "    'safemode': True,\n",
       "    'stores': {   'external': {   'access_key': '1234567',\n",
       "                                  'bucket': 'testbucket',\n",
       "                                  'endpoint': 's3.amazonaws.com:9000',\n",
       "                                  'location': 'datajoint-projects/lab1',\n",
       "                                  'protocol': 's3',\n",
       "                                  'secret_key': 'foaf1234'},\n",
       "                  'external-raw': {   'location': '/datajoint-db/blobs/adamacs',\n",
       "                                      'protocol': 'file'}}}"
      ]
     },
     "execution_count": 3,
     "metadata": {},
     "output_type": "execute_result"
    }
   ],
   "source": [
    "dj.config"
   ]
  },
  {
   "cell_type": "code",
   "execution_count": null,
   "metadata": {},
   "outputs": [],
   "source": []
  }
 ],
 "metadata": {
  "kernelspec": {
   "display_name": "dj",
   "language": "python",
   "name": "python3"
  },
  "language_info": {
   "codemirror_mode": {
    "name": "ipython",
    "version": 3
   },
   "file_extension": ".py",
   "mimetype": "text/x-python",
   "name": "python",
   "nbconvert_exporter": "python",
   "pygments_lexer": "ipython3",
   "version": "3.8.16"
  },
  "orig_nbformat": 4
 },
 "nbformat": 4,
 "nbformat_minor": 2
}
