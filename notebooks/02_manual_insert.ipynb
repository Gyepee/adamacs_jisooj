{
 "cells": [
  {
   "attachments": {},
   "cell_type": "markdown",
   "id": "7225c769",
   "metadata": {},
   "source": [
    "# Subject Related Data"
   ]
  },
  {
   "attachments": {},
   "cell_type": "markdown",
   "id": "a2e9ad58-f51d-4a94-8fbd-43152bb01d06",
   "metadata": {},
   "source": [
    "`CB DEV NOTES`\n",
    "1. Some table structures and data types changed for pyrat ingestion\n",
    "2. The GUI didn't work for me. Maybe an error on my end.\n",
    "\n",
    "`TR TODO`\n",
    "1. Prevent pyrat ingest to push in userIDs (ownerID is not UserID)\n",
    "2. Have Pyrate ingest work with duplicate entries  \n",
    "3. Find way to push setup info into the pipeline with userfunctions (scanimage swetup specifics)\n",
    "4. Add user initials (TR), user shorthand (tobiasr) and user full name (\"Tobias Rose\") to user table.\n",
    "5. Add animal weighyt table handling. use pyrat post!"
   ]
  },
  {
   "attachments": {},
   "cell_type": "markdown",
   "id": "beda62fc-e678-4b77-a454-f848aa68379e",
   "metadata": {},
   "source": [
    "## Login\n",
    "\n",
    "Either log in via a local config file (see [01_pipeline](./01_pipeline.ipynb)), or enter login information manually. If you are don't have your login information, contact the administrator.\n"
   ]
  },
  {
   "cell_type": "code",
   "execution_count": 1,
   "id": "41084378-bf49-4b97-b3ea-900fb544d97c",
   "metadata": {},
   "outputs": [
    {
     "name": "stderr",
     "output_type": "stream",
     "text": [
      "[2023-06-14 11:32:48,134][INFO]: Connecting tobiasr@172.26.128.53:3306\n",
      "[2023-06-14 11:32:48,181][INFO]: Connected tobiasr@172.26.128.53:3306\n"
     ]
    }
   ],
   "source": [
    "import os\n",
    "# change to the upper level folder to detect dj_local_conf.json\n",
    "if os.path.basename(os.getcwd())=='notebooks': os.chdir('..')\n",
    "assert os.path.basename(os.getcwd())=='adamacs', (\"Please move to the main directory\")\n",
    "from adamacs.pipeline import subject, session, equipment, surgery, scan, imaging\n",
    "import datajoint as dj\n",
    "import ipywidgets as widgets"
   ]
  },
  {
   "cell_type": "code",
   "execution_count": 2,
   "id": "e3cc274c",
   "metadata": {},
   "outputs": [
    {
     "name": "stdout",
     "output_type": "stream",
     "text": [
      "database Prefix: tobiasr_\n"
     ]
    }
   ],
   "source": [
    "db_prefix = dj.config['custom'].get('database.prefix')\n",
    "print('database Prefix:', db_prefix)"
   ]
  },
  {
   "cell_type": "code",
   "execution_count": 3,
   "id": "69cdaaeb",
   "metadata": {},
   "outputs": [
    {
     "data": {
      "text/plain": [
       "'0.14.0'"
      ]
     },
     "execution_count": 3,
     "metadata": {},
     "output_type": "execute_result"
    }
   ],
   "source": [
    "dj.__version__"
   ]
  },
  {
   "cell_type": "code",
   "execution_count": 4,
   "id": "132cf444",
   "metadata": {},
   "outputs": [
    {
     "data": {
      "text/plain": [
       "DataJoint connection (connected) tobiasr@172.26.128.53:3306"
      ]
     },
     "execution_count": 4,
     "metadata": {},
     "output_type": "execute_result"
    }
   ],
   "source": [
    "# Manual Entry\n",
    "import datajoint as dj; import getpass\n",
    "dj.config['database.host'] = '172.26.128.53'        # Put the server name between these apostrophe\n",
    "dj.config['database.user'] = 'tobiasr'             # Put your user name between these apostrophe\n",
    "dj.config['database.password'] = getpass.getpass()  # Put your password in the prompt\n",
    "dj.conn()"
   ]
  },
  {
   "attachments": {},
   "cell_type": "markdown",
   "id": "8e48c2ea-7f7a-430c-8dc3-89bb3ec8a705",
   "metadata": {},
   "source": [
    "## Activation\n",
    "Next, import from `adamacs.pipeline` to activate the relevant schema."
   ]
  },
  {
   "cell_type": "code",
   "execution_count": 5,
   "id": "81b34218-7b80-4257-abd3-cf449c17c374",
   "metadata": {},
   "outputs": [],
   "source": [
    "# from adamacs.utility import *\n",
    "# from adamacs.nbgui import *\n",
    "from adamacs.pipeline import subject"
   ]
  },
  {
   "attachments": {},
   "cell_type": "markdown",
   "id": "818496d9-0add-4557-a116-10156e995076",
   "metadata": {},
   "source": [
    "Assign easy names for relevant tables"
   ]
  },
  {
   "cell_type": "code",
   "execution_count": 6,
   "id": "ae8a9093-a631-4fe5-bf66-6944ec5de1ce",
   "metadata": {},
   "outputs": [],
   "source": [
    "sub, lab, protocol, line, mutation, user, project, subject_genotype, subject_death = (\n",
    "    subject.Subject(), subject.Lab(), subject.Protocol(), subject.Line(), \n",
    "    subject.Mutation(), subject.User(), subject.Project(), subject.SubjectGenotype(), \n",
    "    subject.SubjectDeath()\n",
    "    )"
   ]
  },
  {
   "attachments": {},
   "cell_type": "markdown",
   "id": "7aa77e1a",
   "metadata": {},
   "source": [
    "## Entry via GUI\n",
    "(not implemented currently)"
   ]
  },
  {
   "cell_type": "code",
   "execution_count": 7,
   "id": "0561d2fb",
   "metadata": {},
   "outputs": [],
   "source": [
    "# \"\"\"Run this cell to load the subject entry sheet.\"\"\"\n",
    "# mouse_gui = MouseEntrySheet()\n",
    "# mouse_gui.app"
   ]
  },
  {
   "attachments": {},
   "cell_type": "markdown",
   "id": "883ef954",
   "metadata": {},
   "source": [
    "## Entry via `insert()`\n",
    "\n",
    "### **WARNING** \n",
    "Only run these manual entry cells if you know what you are doing!\n",
    "\n",
    "Strings for these values may be edited to insert single rows into corresponding tables.\n",
    "\n",
    "### Lab"
   ]
  },
  {
   "cell_type": "code",
   "execution_count": 9,
   "id": "b03e1536",
   "metadata": {},
   "outputs": [
    {
     "ename": "DuplicateError",
     "evalue": "(\"Duplicate entry 'Rose' for key 'PRIMARY'\", 'To ignore duplicate entries in insert, set skip_duplicates=True')",
     "output_type": "error",
     "traceback": [
      "\u001b[0;31m---------------------------------------------------------------------------\u001b[0m",
      "\u001b[0;31mDuplicateError\u001b[0m                            Traceback (most recent call last)",
      "Cell \u001b[0;32mIn[9], line 6\u001b[0m\n\u001b[1;32m      3\u001b[0m institution \u001b[39m=\u001b[39m \u001b[39m'\u001b[39m\u001b[39mInstitute for Experimental Epileptology and Cognition Research (IEECR)\u001b[39m\u001b[39m'\u001b[39m  \u001b[39m# The institution the laboratory belongs to.\u001b[39;00m\n\u001b[1;32m      4\u001b[0m address \u001b[39m=\u001b[39m \u001b[39m'\u001b[39m\u001b[39mVenusberg-Campus 1, 53127 Bonn\u001b[39m\u001b[39m'\u001b[39m  \u001b[39m# The postal address of the laboratory.\u001b[39;00m\n\u001b[0;32m----> 6\u001b[0m lab\u001b[39m.\u001b[39;49minsert1((lab_key, lab_name, institution, address))\n",
      "File \u001b[0;32m~/miniconda3/envs/datajoint/lib/python3.8/site-packages/datajoint/table.py:337\u001b[0m, in \u001b[0;36mTable.insert1\u001b[0;34m(self, row, **kwargs)\u001b[0m\n\u001b[1;32m    330\u001b[0m \u001b[39mdef\u001b[39;00m \u001b[39minsert1\u001b[39m(\u001b[39mself\u001b[39m, row, \u001b[39m*\u001b[39m\u001b[39m*\u001b[39mkwargs):\n\u001b[1;32m    331\u001b[0m \u001b[39m    \u001b[39m\u001b[39m\"\"\"\u001b[39;00m\n\u001b[1;32m    332\u001b[0m \u001b[39m    Insert one data record into the table. For ``kwargs``, see ``insert()``.\u001b[39;00m\n\u001b[1;32m    333\u001b[0m \n\u001b[1;32m    334\u001b[0m \u001b[39m    :param row: a numpy record, a dict-like object, or an ordered sequence to be inserted\u001b[39;00m\n\u001b[1;32m    335\u001b[0m \u001b[39m        as one row.\u001b[39;00m\n\u001b[1;32m    336\u001b[0m \u001b[39m    \"\"\"\u001b[39;00m\n\u001b[0;32m--> 337\u001b[0m     \u001b[39mself\u001b[39;49m\u001b[39m.\u001b[39;49minsert((row,), \u001b[39m*\u001b[39;49m\u001b[39m*\u001b[39;49mkwargs)\n",
      "File \u001b[0;32m~/miniconda3/envs/datajoint/lib/python3.8/site-packages/datajoint/table.py:453\u001b[0m, in \u001b[0;36mTable.insert\u001b[0;34m(self, rows, replace, skip_duplicates, ignore_extra_fields, allow_direct_insert)\u001b[0m\n\u001b[1;32m    449\u001b[0m     \u001b[39mraise\u001b[39;00m err\u001b[39m.\u001b[39msuggest(\n\u001b[1;32m    450\u001b[0m         \u001b[39m\"\u001b[39m\u001b[39mTo ignore extra fields in insert, set ignore_extra_fields=True\u001b[39m\u001b[39m\"\u001b[39m\n\u001b[1;32m    451\u001b[0m     )\n\u001b[1;32m    452\u001b[0m \u001b[39mexcept\u001b[39;00m DuplicateError \u001b[39mas\u001b[39;00m err:\n\u001b[0;32m--> 453\u001b[0m     \u001b[39mraise\u001b[39;00m err\u001b[39m.\u001b[39msuggest(\n\u001b[1;32m    454\u001b[0m         \u001b[39m\"\u001b[39m\u001b[39mTo ignore duplicate entries in insert, set skip_duplicates=True\u001b[39m\u001b[39m\"\u001b[39m\n\u001b[1;32m    455\u001b[0m     )\n",
      "\u001b[0;31mDuplicateError\u001b[0m: (\"Duplicate entry 'Rose' for key 'PRIMARY'\", 'To ignore duplicate entries in insert, set skip_duplicates=True')"
     ]
    }
   ],
   "source": [
    "lab_key = 'Rose'  # Short, unique identifier for the lab. Maximum 8 characters. Example: 'Rose'.\n",
    "lab_name = 'Circut Mechanisms of Behavior'  # A longer, more descriptive name for the laboratory.\n",
    "institution = 'Institute for Experimental Epileptology and Cognition Research (IEECR)'  # The institution the laboratory belongs to.\n",
    "address = 'Venusberg-Campus 1, 53127 Bonn'  # The postal address of the laboratory.\n",
    "\n",
    "lab.insert1((lab_key, lab_name, institution, address), skip_duplicates=True)"
   ]
  },
  {
   "attachments": {},
   "cell_type": "markdown",
   "id": "bcab35a7",
   "metadata": {},
   "source": [
    "### Protocol"
   ]
  },
  {
   "cell_type": "code",
   "execution_count": 18,
   "id": "352ef703",
   "metadata": {},
   "outputs": [],
   "source": [
    "# POPULATED BY PYRAT INGEST!\n",
    "\n",
    "protocol_key = '81-02.05.40.19.027'  # Short, unique identifier for the protocol. Maximum 16 characters.\n",
    "protocol_description = 'Another dummy protocol ID for testing purposes'  # Description of the protocol.\n",
    "\n",
    "protocol.insert1((protocol_key, protocol_description), skip_duplicates=True)\n"
   ]
  },
  {
   "cell_type": "code",
   "execution_count": 19,
   "id": "ed724ae8",
   "metadata": {},
   "outputs": [
    {
     "data": {
      "text/html": [
       "\n",
       "    \n",
       "    <style type=\"text/css\">\n",
       "        .Table{\n",
       "            border-collapse:collapse;\n",
       "        }\n",
       "        .Table th{\n",
       "            background: #A0A0A0; color: #ffffff; padding:4px; border:#f0e0e0 1px solid;\n",
       "            font-weight: normal; font-family: monospace; font-size: 100%;\n",
       "        }\n",
       "        .Table td{\n",
       "            padding:4px; border:#f0e0e0 1px solid; font-size:100%;\n",
       "        }\n",
       "        .Table tr:nth-child(odd){\n",
       "            background: #ffffff;\n",
       "        }\n",
       "        .Table tr:nth-child(even){\n",
       "            background: #f3f1ff;\n",
       "        }\n",
       "        /* Tooltip container */\n",
       "        .djtooltip {\n",
       "        }\n",
       "        /* Tooltip text */\n",
       "        .djtooltip .djtooltiptext {\n",
       "            visibility: hidden;\n",
       "            width: 120px;\n",
       "            background-color: black;\n",
       "            color: #fff;\n",
       "            text-align: center;\n",
       "            padding: 5px 0;\n",
       "            border-radius: 6px;\n",
       "            /* Position the tooltip text - see examples below! */\n",
       "            position: absolute;\n",
       "            z-index: 1;\n",
       "        }\n",
       "        #primary {\n",
       "            font-weight: bold;\n",
       "            color: black;\n",
       "        }\n",
       "        #nonprimary {\n",
       "            font-weight: normal;\n",
       "            color: white;\n",
       "        }\n",
       "\n",
       "        /* Show the tooltip text when you mouse over the tooltip container */\n",
       "        .djtooltip:hover .djtooltiptext {\n",
       "            visibility: visible;\n",
       "        }\n",
       "    </style>\n",
       "    \n",
       "    <b>PyRAT licence number and title</b>\n",
       "        <div style=\"max-height:1000px;max-width:1500px;overflow:auto;\">\n",
       "        <table border=\"1\" class=\"Table\">\n",
       "            <thead> <tr style=\"text-align: right;\"> <th> <div class=\"djtooltip\">\n",
       "                            <p id=\"primary\">protocol</p>\n",
       "                            <span class=\"djtooltiptext\"></span>\n",
       "                        </div></th><th><div class=\"djtooltip\">\n",
       "                            <p id=\"nonprimary\">protocol_description</p>\n",
       "                            <span class=\"djtooltiptext\"></span>\n",
       "                        </div> </th> </tr> </thead>\n",
       "            <tbody> <tr> <td>01_Organentnahme</td>\n",
       "<td>Organentnahme</td></tr><tr><td>81-02.04.2019.A192</td>\n",
       "<td>Der Gyrus dentatus als regulierter Eingang zum Hippokampus</td></tr><tr><td>81-02.04.2022.A427</td>\n",
       "<td>Allokation und Konsolidierung des räumlichen Gedächtnisses im  Retrosplenialen Kortex</td></tr><tr><td>81-02.05.40.19.027</td>\n",
       "<td>Another dummy protocol ID for testing purposes</td> </tr> </tbody>\n",
       "        </table>\n",
       "        \n",
       "        <p>Total: 4</p></div>\n",
       "        "
      ],
      "text/plain": [
       "*protocol      protocol_descr\n",
       "+------------+ +------------+\n",
       "01_Organentnah Organentnahme \n",
       "81-02.04.2019. Der Gyrus dent\n",
       "81-02.04.2022. Allokation und\n",
       "81-02.05.40.19 Another dummy \n",
       " (Total: 4)"
      ]
     },
     "execution_count": 19,
     "metadata": {},
     "output_type": "execute_result"
    }
   ],
   "source": [
    "protocol"
   ]
  },
  {
   "attachments": {},
   "cell_type": "markdown",
   "id": "94e97132-3c99-4cd0-9ef9-4dd5fdd105ad",
   "metadata": {},
   "source": [
    "### User Entry"
   ]
  },
  {
   "cell_type": "code",
   "execution_count": 14,
   "id": "14933f75",
   "metadata": {},
   "outputs": [],
   "source": [
    "# DO NOT CHANGE\n",
    "\n",
    "# insert multiple entries\n",
    "# subject.User.delete()\n",
    "\n",
    "data = [{'user_id': 1, 'name': 'Rose Tobias', 'initials': 'TR', 'shorthand': 'tobiasr', 'email': 'trose@uni-bonn.de', 'lab': 'Rose'},\n",
    "        {'user_id': 2, 'name': 'Kück Laura', 'initials': 'LK', 'shorthand': 'laurak', 'email': 'laura.kueck@ukbonn.de', 'lab': 'Rose'},\n",
    "        {'user_id': 3, 'name': 'Krasilshchikova Natalia', 'initials': 'NK', 'shorthand': 'nataliak', 'email': ' nkra1@uni-bonn.de', 'lab': 'Rose'},\n",
    "        {'user_id': 4, 'name': 'Bühler Daniel', 'initials': 'DB', 'shorthand': 'danielb', 'email': 'Db247@uni-bonn.de', 'lab': 'Rose'},\n",
    "        {'user_id': 5, 'name': 'Luxem Kevin', 'initials': 'KL', 'shorthand': 'kevinl', 'email': 'luxemk@uni-bonn.de', 'lab': 'Rose'},\n",
    "        {'user_id': 6, 'name': 'Jung Jisoo', 'initials': 'JJ', 'shorthand': 'jisooj', 'email': 'jjun1@uni-bonn.de', 'lab': 'Rose'},\n",
    "        {'user_id': 7, 'name': 'Narayanamurthy Rukhmani', 'initials': 'RN', 'shorthand': 'rukhun', 'email': 'rnar@uni-bonn.de', 'lab': 'Rose'},\n",
    "        {'user_id': 8, 'name': 'Kremers Leon', 'initials': 'LE', 'shorthand': 'leonk', 'email': 'leon.kremers@uni-bonn.de', 'lab': 'Rose'},\n",
    "        {'user_id': 9, 'name': 'Asma Mekhnache', 'initials': 'AM', 'shorthand': 'asmam', 'email': 's4asmekh@uni-bonn.de', 'lab': 'Rose'}]\n",
    "user.insert(data, skip_duplicates=True) "
   ]
  },
  {
   "cell_type": "code",
   "execution_count": 17,
   "id": "8c9a9b7d",
   "metadata": {},
   "outputs": [
    {
     "data": {
      "text/html": [
       "\n",
       "    \n",
       "    <style type=\"text/css\">\n",
       "        .Table{\n",
       "            border-collapse:collapse;\n",
       "        }\n",
       "        .Table th{\n",
       "            background: #A0A0A0; color: #ffffff; padding:4px; border:#f0e0e0 1px solid;\n",
       "            font-weight: normal; font-family: monospace; font-size: 100%;\n",
       "        }\n",
       "        .Table td{\n",
       "            padding:4px; border:#f0e0e0 1px solid; font-size:100%;\n",
       "        }\n",
       "        .Table tr:nth-child(odd){\n",
       "            background: #ffffff;\n",
       "        }\n",
       "        .Table tr:nth-child(even){\n",
       "            background: #f3f1ff;\n",
       "        }\n",
       "        /* Tooltip container */\n",
       "        .djtooltip {\n",
       "        }\n",
       "        /* Tooltip text */\n",
       "        .djtooltip .djtooltiptext {\n",
       "            visibility: hidden;\n",
       "            width: 120px;\n",
       "            background-color: black;\n",
       "            color: #fff;\n",
       "            text-align: center;\n",
       "            padding: 5px 0;\n",
       "            border-radius: 6px;\n",
       "            /* Position the tooltip text - see examples below! */\n",
       "            position: absolute;\n",
       "            z-index: 1;\n",
       "        }\n",
       "        #primary {\n",
       "            font-weight: bold;\n",
       "            color: black;\n",
       "        }\n",
       "        #nonprimary {\n",
       "            font-weight: normal;\n",
       "            color: white;\n",
       "        }\n",
       "\n",
       "        /* Show the tooltip text when you mouse over the tooltip container */\n",
       "        .djtooltip:hover .djtooltiptext {\n",
       "            visibility: visible;\n",
       "        }\n",
       "    </style>\n",
       "    \n",
       "    <b></b>\n",
       "        <div style=\"max-height:1000px;max-width:1500px;overflow:auto;\">\n",
       "        <table border=\"1\" class=\"Table\">\n",
       "            <thead> <tr style=\"text-align: right;\"> <th> <div class=\"djtooltip\">\n",
       "                            <p id=\"primary\">user_id</p>\n",
       "                            <span class=\"djtooltiptext\"></span>\n",
       "                        </div></th><th><div class=\"djtooltip\">\n",
       "                            <p id=\"nonprimary\">name</p>\n",
       "                            <span class=\"djtooltiptext\"></span>\n",
       "                        </div></th><th><div class=\"djtooltip\">\n",
       "                            <p id=\"nonprimary\">shorthand</p>\n",
       "                            <span class=\"djtooltiptext\">TR: added name_FirstInitialSurname shorthand</span>\n",
       "                        </div></th><th><div class=\"djtooltip\">\n",
       "                            <p id=\"nonprimary\">initials</p>\n",
       "                            <span class=\"djtooltiptext\">Update after pyrat ingestion</span>\n",
       "                        </div></th><th><div class=\"djtooltip\">\n",
       "                            <p id=\"nonprimary\">email</p>\n",
       "                            <span class=\"djtooltiptext\">TR: for completeness' sake also email</span>\n",
       "                        </div></th><th><div class=\"djtooltip\">\n",
       "                            <p id=\"nonprimary\">lab</p>\n",
       "                            <span class=\"djtooltiptext\">short lab name, pyrat labid</span>\n",
       "                        </div> </th> </tr> </thead>\n",
       "            <tbody> <tr> <td>1</td>\n",
       "<td>Rose Tobias</td>\n",
       "<td>tobiasr</td>\n",
       "<td>TR</td>\n",
       "<td>trose@uni-bonn.de</td>\n",
       "<td>Rose</td></tr><tr><td>2</td>\n",
       "<td>Kück Laura</td>\n",
       "<td>laurak</td>\n",
       "<td>LK</td>\n",
       "<td>laura.kueck@ukbonn.de</td>\n",
       "<td>Rose</td></tr><tr><td>3</td>\n",
       "<td>Krasilshchikova Natalia</td>\n",
       "<td>nataliak</td>\n",
       "<td>NK</td>\n",
       "<td> nkra1@uni-bonn.de</td>\n",
       "<td>Rose</td></tr><tr><td>4</td>\n",
       "<td>Bühler Daniel</td>\n",
       "<td>danielb</td>\n",
       "<td>DB</td>\n",
       "<td>Db247@uni-bonn.de</td>\n",
       "<td>Rose</td></tr><tr><td>5</td>\n",
       "<td>Luxem Kevin</td>\n",
       "<td>kevinl</td>\n",
       "<td>KL</td>\n",
       "<td>luxemk@uni-bonn.de</td>\n",
       "<td>Rose</td></tr><tr><td>6</td>\n",
       "<td>Jung Jisoo</td>\n",
       "<td>jisooj</td>\n",
       "<td>JJ</td>\n",
       "<td>jjun1@uni-bonn.de</td>\n",
       "<td>Rose</td></tr><tr><td>7</td>\n",
       "<td>Narayanamurthy Rukhmani</td>\n",
       "<td>rukhun</td>\n",
       "<td>RN</td>\n",
       "<td>rnar@uni-bonn.de</td>\n",
       "<td>Rose</td></tr><tr><td>8</td>\n",
       "<td>Kremers Leon</td>\n",
       "<td>leonk</td>\n",
       "<td>LE</td>\n",
       "<td>leon.kremers@uni-bonn.de</td>\n",
       "<td>Rose</td></tr><tr><td>9</td>\n",
       "<td>Asma Mekhnache</td>\n",
       "<td>asmam</td>\n",
       "<td>AM</td>\n",
       "<td>s4asmekh@uni-bonn.de</td>\n",
       "<td>Rose</td> </tr> </tbody>\n",
       "        </table>\n",
       "        \n",
       "        <p>Total: 9</p></div>\n",
       "        "
      ],
      "text/plain": [
       "*user_id    name           shorthand     initials     email          lab     \n",
       "+---------+ +------------+ +-----------+ +----------+ +------------+ +------+\n",
       "1           Rose Tobias    tobiasr       TR           trose@uni-bonn Rose    \n",
       "2           Kück Laura     laurak        LK           laura.kueck@uk Rose    \n",
       "3           Krasilshchikov nataliak      NK            nkra1@uni-bon Rose    \n",
       "4           Bühler Daniel  danielb       DB           Db247@uni-bonn Rose    \n",
       "5           Luxem Kevin    kevinl        KL           luxemk@uni-bon Rose    \n",
       "6           Jung Jisoo     jisooj        JJ           jjun1@uni-bonn Rose    \n",
       "7           Narayanamurthy rukhun        RN           rnar@uni-bonn. Rose    \n",
       "8           Kremers Leon   leonk         LE           leon.kremers@u Rose    \n",
       "9           Asma Mekhnache asmam         AM           s4asmekh@uni-b Rose    \n",
       " (Total: 9)"
      ]
     },
     "execution_count": 17,
     "metadata": {},
     "output_type": "execute_result"
    }
   ],
   "source": [
    "subject.User()"
   ]
  },
  {
   "cell_type": "code",
   "execution_count": 7,
   "id": "75199620",
   "metadata": {},
   "outputs": [
    {
     "data": {
      "text/html": [
       "\n",
       "    \n",
       "    <style type=\"text/css\">\n",
       "        .Table{\n",
       "            border-collapse:collapse;\n",
       "        }\n",
       "        .Table th{\n",
       "            background: #A0A0A0; color: #ffffff; padding:4px; border:#f0e0e0 1px solid;\n",
       "            font-weight: normal; font-family: monospace; font-size: 100%;\n",
       "        }\n",
       "        .Table td{\n",
       "            padding:4px; border:#f0e0e0 1px solid; font-size:100%;\n",
       "        }\n",
       "        .Table tr:nth-child(odd){\n",
       "            background: #ffffff;\n",
       "        }\n",
       "        .Table tr:nth-child(even){\n",
       "            background: #f3f1ff;\n",
       "        }\n",
       "        /* Tooltip container */\n",
       "        .djtooltip {\n",
       "        }\n",
       "        /* Tooltip text */\n",
       "        .djtooltip .djtooltiptext {\n",
       "            visibility: hidden;\n",
       "            width: 120px;\n",
       "            background-color: black;\n",
       "            color: #fff;\n",
       "            text-align: center;\n",
       "            padding: 5px 0;\n",
       "            border-radius: 6px;\n",
       "            /* Position the tooltip text - see examples below! */\n",
       "            position: absolute;\n",
       "            z-index: 1;\n",
       "        }\n",
       "        #primary {\n",
       "            font-weight: bold;\n",
       "            color: black;\n",
       "        }\n",
       "        #nonprimary {\n",
       "            font-weight: normal;\n",
       "            color: white;\n",
       "        }\n",
       "\n",
       "        /* Show the tooltip text when you mouse over the tooltip container */\n",
       "        .djtooltip:hover .djtooltiptext {\n",
       "            visibility: visible;\n",
       "        }\n",
       "    </style>\n",
       "    \n",
       "    <b></b>\n",
       "        <div style=\"max-height:1000px;max-width:1500px;overflow:auto;\">\n",
       "        <table border=\"1\" class=\"Table\">\n",
       "            <thead> <tr style=\"text-align: right;\"> <th> <div class=\"djtooltip\">\n",
       "                            <p id=\"primary\">scanner</p>\n",
       "                            <span class=\"djtooltiptext\"></span>\n",
       "                        </div></th><th><div class=\"djtooltip\">\n",
       "                            <p id=\"nonprimary\">scanner_description</p>\n",
       "                            <span class=\"djtooltiptext\"></span>\n",
       "                        </div> </th> </tr> </thead>\n",
       "            <tbody> <tr>  </tr> </tbody>\n",
       "        </table>\n",
       "        \n",
       "        <p>Total: 0</p></div>\n",
       "        "
      ],
      "text/plain": [
       "*scanner    scanner_descri\n",
       "+---------+ +------------+\n",
       "\n",
       " (Total: 0)"
      ]
     },
     "execution_count": 7,
     "metadata": {},
     "output_type": "execute_result"
    }
   ],
   "source": [
    "equipment.Equipment()"
   ]
  },
  {
   "attachments": {},
   "cell_type": "markdown",
   "id": "ea197625",
   "metadata": {},
   "source": [
    "## Equipment entry"
   ]
  },
  {
   "cell_type": "code",
   "execution_count": null,
   "id": "fbe9cbca",
   "metadata": {},
   "outputs": [],
   "source": [
    "# # equipment.Equipment.delete()\n",
    "# droppi = equipment.Equipment()\n",
    "# droppi.drop()"
   ]
  },
  {
   "cell_type": "code",
   "execution_count": 8,
   "id": "c835005b",
   "metadata": {},
   "outputs": [],
   "source": [
    "# TR TODO: should be populated manually or automatically by session or scan imgest\n",
    "# 1. Session ingest: userfunction_consolidate_files argument could be auto-added to filename\n",
    "# 2. Scan ingest: userfunction_consolidate_files argument could be parsed from tiff-header\n",
    "# 3. Manual entry in post-exp subject entry sheet. In the latter case this should be implemented as dropdown widget (ipywidget)\n",
    "#       3.1 read in equipment.Equipment table\n",
    "\n",
    "\n",
    "\n",
    "data = [{'scanner': 'mini2p_01', 'scanner_description': 'the oldest mini2p (USABLE - v3)'},\n",
    "        {'scanner': 'mini2p_02', 'scanner_description': 'the first last gen mini2p (REPAIR - fast MEMS broken)'},\n",
    "        {'scanner': 'mini2p_03', 'scanner_description': 'the second last gen mini2p (REPAIR - utlens broken, z-offset not best at 0V)'},\n",
    "        {'scanner': 'mini2p_04', 'scanner_description': 'MEMS#: AA010 - the third last gen mini2p (USABLE - scanfield offset / dichroic or MEMS misaligned)'},\n",
    "        {'scanner': 'mini2p_05', 'scanner_description': 'MEMS#:AA082 - the fourth last gen mini2p (the one you are currently finishing)'},\n",
    "        {'scanner': 'bench2p', 'scanner_description': 'INSS RGG two-photon'},\n",
    "        {'scanner': 'macroscope', 'scanner_description': 'Macroscope dual excitation'},\n",
    "        {'scanner': 'dummy', 'scanner_description': 'dummy'}]\n",
    "equipment.Equipment.insert(data, skip_duplicates=True) "
   ]
  },
  {
   "cell_type": "code",
   "execution_count": 11,
   "id": "8145ff86",
   "metadata": {},
   "outputs": [
    {
     "data": {
      "text/html": [
       "\n",
       "    \n",
       "    <style type=\"text/css\">\n",
       "        .Table{\n",
       "            border-collapse:collapse;\n",
       "        }\n",
       "        .Table th{\n",
       "            background: #A0A0A0; color: #ffffff; padding:4px; border:#f0e0e0 1px solid;\n",
       "            font-weight: normal; font-family: monospace; font-size: 100%;\n",
       "        }\n",
       "        .Table td{\n",
       "            padding:4px; border:#f0e0e0 1px solid; font-size:100%;\n",
       "        }\n",
       "        .Table tr:nth-child(odd){\n",
       "            background: #ffffff;\n",
       "        }\n",
       "        .Table tr:nth-child(even){\n",
       "            background: #f3f1ff;\n",
       "        }\n",
       "        /* Tooltip container */\n",
       "        .djtooltip {\n",
       "        }\n",
       "        /* Tooltip text */\n",
       "        .djtooltip .djtooltiptext {\n",
       "            visibility: hidden;\n",
       "            width: 120px;\n",
       "            background-color: black;\n",
       "            color: #fff;\n",
       "            text-align: center;\n",
       "            padding: 5px 0;\n",
       "            border-radius: 6px;\n",
       "            /* Position the tooltip text - see examples below! */\n",
       "            position: absolute;\n",
       "            z-index: 1;\n",
       "        }\n",
       "        #primary {\n",
       "            font-weight: bold;\n",
       "            color: black;\n",
       "        }\n",
       "        #nonprimary {\n",
       "            font-weight: normal;\n",
       "            color: white;\n",
       "        }\n",
       "\n",
       "        /* Show the tooltip text when you mouse over the tooltip container */\n",
       "        .djtooltip:hover .djtooltiptext {\n",
       "            visibility: visible;\n",
       "        }\n",
       "    </style>\n",
       "    \n",
       "    <b></b>\n",
       "        <div style=\"max-height:1000px;max-width:1500px;overflow:auto;\">\n",
       "        <table border=\"1\" class=\"Table\">\n",
       "            <thead> <tr style=\"text-align: right;\"> <th> <div class=\"djtooltip\">\n",
       "                            <p id=\"primary\">scanner</p>\n",
       "                            <span class=\"djtooltiptext\"></span>\n",
       "                        </div></th><th><div class=\"djtooltip\">\n",
       "                            <p id=\"nonprimary\">scanner_description</p>\n",
       "                            <span class=\"djtooltiptext\"></span>\n",
       "                        </div> </th> </tr> </thead>\n",
       "            <tbody> <tr> <td>bench2p</td>\n",
       "<td>INSS RGG two-photon</td></tr><tr><td>dummy</td>\n",
       "<td>dummy</td></tr><tr><td>macroscope</td>\n",
       "<td>Macroscope dual excitation</td></tr><tr><td>mini2p_01</td>\n",
       "<td>the oldest mini2p (USABLE - v3)</td></tr><tr><td>mini2p_02</td>\n",
       "<td>the first last gen mini2p (REPAIR - fast MEMS broken)</td></tr><tr><td>mini2p_03</td>\n",
       "<td>the second last gen mini2p (REPAIR - utlens broken, z-offset not best at 0V)</td></tr><tr><td>mini2p_04</td>\n",
       "<td>MEMS#: AA010 - the third last gen mini2p (USABLE - scanfield offset / dichroic or MEMS misaligned)</td></tr><tr><td>mini2p_05</td>\n",
       "<td>MEMS#:AA082 - the fourth last gen mini2p (the one you are currently finishing)</td> </tr> </tbody>\n",
       "        </table>\n",
       "        \n",
       "        <p>Total: 8</p></div>\n",
       "        "
      ],
      "text/plain": [
       "*scanner       scanner_descri\n",
       "+------------+ +------------+\n",
       "bench2p        INSS RGG two-p\n",
       "dummy          dummy         \n",
       "macroscope     Macroscope dua\n",
       "mini2p_01      the oldest min\n",
       "mini2p_02      the first last\n",
       "mini2p_03      the second las\n",
       "mini2p_04      MEMS#: AA010 -\n",
       "mini2p_05      MEMS#:AA082 - \n",
       " (Total: 8)"
      ]
     },
     "execution_count": 11,
     "metadata": {},
     "output_type": "execute_result"
    }
   ],
   "source": [
    "equipment.Equipment()"
   ]
  },
  {
   "cell_type": "code",
   "execution_count": 24,
   "id": "18f9bae3",
   "metadata": {},
   "outputs": [
    {
     "ename": "NetworkXError",
     "evalue": "The node `tobiasr_session`.`session` is not in the graph.",
     "output_type": "error",
     "traceback": [
      "\u001b[0;31m---------------------------------------------------------------------------\u001b[0m",
      "\u001b[0;31mNetworkXError\u001b[0m                             Traceback (most recent call last)",
      "Cell \u001b[0;32mIn[24], line 2\u001b[0m\n\u001b[1;32m      1\u001b[0m \u001b[39m# # # # equipment.Equipment.drop()\u001b[39;00m\n\u001b[0;32m----> 2\u001b[0m session\u001b[39m.\u001b[39;49mSession\u001b[39m.\u001b[39;49mdrop()\n\u001b[1;32m      3\u001b[0m scan\u001b[39m.\u001b[39mScan\u001b[39m.\u001b[39mdrop()\n\u001b[1;32m      4\u001b[0m \u001b[39m# subject.Subject.drop()\u001b[39;00m\n\u001b[1;32m      5\u001b[0m \u001b[39m# imaging.MotionCorrection.drop()\u001b[39;00m\n",
      "File \u001b[0;32m~/miniconda3/envs/datajoint/lib/python3.8/site-packages/datajoint/table.py:651\u001b[0m, in \u001b[0;36mTable.drop\u001b[0;34m(self)\u001b[0m\n\u001b[1;32m    647\u001b[0m \u001b[39mself\u001b[39m\u001b[39m.\u001b[39mconnection\u001b[39m.\u001b[39mdependencies\u001b[39m.\u001b[39mload()\n\u001b[1;32m    648\u001b[0m do_drop \u001b[39m=\u001b[39m \u001b[39mTrue\u001b[39;00m\n\u001b[1;32m    649\u001b[0m tables \u001b[39m=\u001b[39m [\n\u001b[1;32m    650\u001b[0m     table\n\u001b[0;32m--> 651\u001b[0m     \u001b[39mfor\u001b[39;00m table \u001b[39min\u001b[39;00m \u001b[39mself\u001b[39;49m\u001b[39m.\u001b[39;49mconnection\u001b[39m.\u001b[39;49mdependencies\u001b[39m.\u001b[39;49mdescendants(\u001b[39mself\u001b[39;49m\u001b[39m.\u001b[39;49mfull_table_name)\n\u001b[1;32m    652\u001b[0m     \u001b[39mif\u001b[39;00m \u001b[39mnot\u001b[39;00m table\u001b[39m.\u001b[39misdigit()\n\u001b[1;32m    653\u001b[0m ]\n\u001b[1;32m    655\u001b[0m \u001b[39m# avoid dropping part tables without their masters: See issue #374\u001b[39;00m\n\u001b[1;32m    656\u001b[0m \u001b[39mfor\u001b[39;00m part \u001b[39min\u001b[39;00m tables:\n",
      "File \u001b[0;32m~/miniconda3/envs/datajoint/lib/python3.8/site-packages/datajoint/dependencies.py:170\u001b[0m, in \u001b[0;36mDependencies.descendants\u001b[0;34m(self, full_table_name)\u001b[0m\n\u001b[1;32m    165\u001b[0m \u001b[39m\u001b[39m\u001b[39m\"\"\"\u001b[39;00m\n\u001b[1;32m    166\u001b[0m \u001b[39m:param full_table_name:  In form `schema`.`table_name`\u001b[39;00m\n\u001b[1;32m    167\u001b[0m \u001b[39m:return: all dependent tables sorted in topological order.  Self is included.\u001b[39;00m\n\u001b[1;32m    168\u001b[0m \u001b[39m\"\"\"\u001b[39;00m\n\u001b[1;32m    169\u001b[0m \u001b[39mself\u001b[39m\u001b[39m.\u001b[39mload(force\u001b[39m=\u001b[39m\u001b[39mFalse\u001b[39;00m)\n\u001b[0;32m--> 170\u001b[0m nodes \u001b[39m=\u001b[39m \u001b[39mself\u001b[39m\u001b[39m.\u001b[39msubgraph(nx\u001b[39m.\u001b[39;49malgorithms\u001b[39m.\u001b[39;49mdag\u001b[39m.\u001b[39;49mdescendants(\u001b[39mself\u001b[39;49m, full_table_name))\n\u001b[1;32m    171\u001b[0m \u001b[39mreturn\u001b[39;00m unite_master_parts(\n\u001b[1;32m    172\u001b[0m     [full_table_name] \u001b[39m+\u001b[39m \u001b[39mlist\u001b[39m(nx\u001b[39m.\u001b[39malgorithms\u001b[39m.\u001b[39mdag\u001b[39m.\u001b[39mtopological_sort(nodes))\n\u001b[1;32m    173\u001b[0m )\n",
      "File \u001b[0;32m~/miniconda3/envs/datajoint/lib/python3.8/site-packages/networkx/algorithms/dag.py:53\u001b[0m, in \u001b[0;36mdescendants\u001b[0;34m(G, source)\u001b[0m\n\u001b[1;32m     39\u001b[0m \u001b[39m\u001b[39m\u001b[39m\"\"\"Returns all nodes reachable from `source` in `G`.\u001b[39;00m\n\u001b[1;32m     40\u001b[0m \n\u001b[1;32m     41\u001b[0m \u001b[39mParameters\u001b[39;00m\n\u001b[0;32m   (...)\u001b[0m\n\u001b[1;32m     50\u001b[0m \u001b[39m    The descendants of `source` in `G`\u001b[39;00m\n\u001b[1;32m     51\u001b[0m \u001b[39m\"\"\"\u001b[39;00m\n\u001b[1;32m     52\u001b[0m \u001b[39mif\u001b[39;00m \u001b[39mnot\u001b[39;00m G\u001b[39m.\u001b[39mhas_node(source):\n\u001b[0;32m---> 53\u001b[0m     \u001b[39mraise\u001b[39;00m nx\u001b[39m.\u001b[39mNetworkXError(\u001b[39mf\u001b[39m\u001b[39m\"\u001b[39m\u001b[39mThe node \u001b[39m\u001b[39m{\u001b[39;00msource\u001b[39m}\u001b[39;00m\u001b[39m is not in the graph.\u001b[39m\u001b[39m\"\u001b[39m)\n\u001b[1;32m     54\u001b[0m des \u001b[39m=\u001b[39m {n \u001b[39mfor\u001b[39;00m n, d \u001b[39min\u001b[39;00m nx\u001b[39m.\u001b[39mshortest_path_length(G, source\u001b[39m=\u001b[39msource)\u001b[39m.\u001b[39mitems()}\n\u001b[1;32m     55\u001b[0m \u001b[39mreturn\u001b[39;00m des \u001b[39m-\u001b[39m {source}\n",
      "\u001b[0;31mNetworkXError\u001b[0m: The node `tobiasr_session`.`session` is not in the graph."
     ]
    }
   ],
   "source": [
    "# # # # equipment.Equipment.drop()\n",
    "session.Session.drop()\n",
    "scan.Scan.drop()\n",
    "# subject.Subject.drop()\n",
    "# imaging.MotionCorrection.drop()\n",
    "scan.Scan.drop()"
   ]
  },
  {
   "cell_type": "code",
   "execution_count": null,
   "id": "146231b2",
   "metadata": {},
   "outputs": [],
   "source": [
    "# equipment.Equipment.drop()"
   ]
  },
  {
   "cell_type": "code",
   "execution_count": null,
   "id": "78ebf2fa",
   "metadata": {},
   "outputs": [],
   "source": [
    "# Dropdown example\n",
    "\n",
    "allequipment = equipment.Equipment().fetch('scanner')\n",
    "\n",
    "# create a dropdown widget\n",
    "my_dropdown_equipment = widgets.Dropdown(options=allequipment, value=allequipment[0], layout=widgets.Layout(width='300px'))\n",
    "\n",
    "# define a function to handle the dropdown selection\n",
    "\n",
    "print('Select Scanner:')\n",
    "\n",
    "def on_dropdown_change(change):\n",
    "    if change['type'] == 'change' and change['name'] == 'value':\n",
    "        selected_scanner = change['new']\n",
    "        print(f\"You selected: {selected_scanner}\")\n",
    "\n",
    "# set the dropdown's event handler to our function\n",
    "test = my_dropdown_equipment.observe(on_dropdown_change)\n",
    "\n",
    "# display the dropdown widget\n",
    "display(my_dropdown_equipment)\n"
   ]
  },
  {
   "cell_type": "code",
   "execution_count": null,
   "id": "bd498093",
   "metadata": {},
   "outputs": [],
   "source": [
    "surgery.AnatomicalLocation()"
   ]
  },
  {
   "attachments": {},
   "cell_type": "markdown",
   "id": "ca115ed0",
   "metadata": {},
   "source": [
    "## Surgery entry"
   ]
  },
  {
   "cell_type": "code",
   "execution_count": null,
   "id": "bf6c20af",
   "metadata": {},
   "outputs": [],
   "source": [
    "data = [{'anatomical_location': 'V1'},\n",
    "        {'anatomical_location': 'LGNV1'},\n",
    "        {'anatomical_location': 'ATN'},\n",
    "        {'anatomical_location': 'RSCa'},\n",
    "        {'anatomical_location': 'RSCa'},\n",
    "        {'anatomical_location': 'dCA1'},\n",
    "        {'anatomical_location': 'DG'},\n",
    "        {'anatomical_location': 'Ctx'},\n",
    "        {'anatomical_location': 'dummy'}]\n",
    "surgery.AnatomicalLocation.insert(data, skip_duplicates=True) "
   ]
  },
  {
   "cell_type": "code",
   "execution_count": null,
   "id": "6021c5bb",
   "metadata": {},
   "outputs": [],
   "source": [
    "allsurgery = surgery.AnatomicalLocation().fetch('anatomical_location')\n",
    "\n",
    "# create a dropdown widget\n",
    "my_dropdown_surgery = widgets.Dropdown(options=allsurgery, value=allsurgery[4], layout=widgets.Layout(width='300px'))\n",
    "\n",
    "# define a function to handle the dropdown selection\n",
    "\n",
    "print('Select anatomical location:')\n",
    "\n",
    "def on_dropdown_change(change):\n",
    "    if change['type'] == 'change' and change['name'] == 'value':\n",
    "        selected_anatomical_location = change['new']\n",
    "        print(f\"You selected: {selected_anatomical_location}\")\n",
    "\n",
    "# set the dropdown's event handler to our function\n",
    "my_dropdown_surgery.observe(on_dropdown_change)\n",
    "\n",
    "# display the dropdown widget\n",
    "display(my_dropdown_surgery)\n"
   ]
  },
  {
   "attachments": {},
   "cell_type": "markdown",
   "id": "40f6f927",
   "metadata": {},
   "source": [
    "### Project Entry"
   ]
  },
  {
   "cell_type": "code",
   "execution_count": 28,
   "id": "c1c00646",
   "metadata": {},
   "outputs": [
    {
     "name": "stderr",
     "output_type": "stream",
     "text": [
      "[2023-06-14 11:54:06,359][INFO]: Deleting 1 rows from `tobiasr_subject`.`#project`\n",
      "[2023-06-14 11:54:08,917][INFO]: Deletes committed.\n"
     ]
    },
    {
     "data": {
      "text/plain": [
       "1"
      ]
     },
     "execution_count": 28,
     "metadata": {},
     "output_type": "execute_result"
    }
   ],
   "source": [
    "# project_key = 'TEC'\n",
    "# project_description = 'Trace Eyeblink Conditioning'\n",
    "\n",
    "# project.insert1((project_key, project_description), skip_duplicates=True)\n",
    "\n",
    "data = [{'project': 'hpc-repstab', 'project_description': 'hpc-representational-stability' },\n",
    "        {'project': 'vc-lgn-repstab', 'project_description': 'vc-lgn-representational-stability'},\n",
    "        {'project': 'rsc-functop', 'project_description': 'rsc-functional-topography'},\n",
    "        {'project': 'rsc-hpc', 'project_description': 'rsc-hippocampal'},\n",
    "        {'project': 'sc-lgn-actvis', 'project_description': 'sc-lgn-active-vision'},\n",
    "        {'project': 'ATN', 'project_description': 'ATN-functional-characterization'},\n",
    "        {'project': 'rsc-latent', 'project_description': 'rsc-contextual-multimodal-latent-ss'},\n",
    "        {'project': 'V1-oddball', 'project_description': 'v1-oddball-predicitve-prior'},\n",
    "        {'project': 'dummy', 'project_description': 'dummy'}\n",
    "        ]\n",
    "project.insert(data, skip_duplicates=True) \n",
    "# to update one\n",
    "# (subject.Project & \"project = 'V1-oddball'\").delete()"
   ]
  },
  {
   "cell_type": "code",
   "execution_count": 26,
   "id": "39f1f7da",
   "metadata": {},
   "outputs": [
    {
     "data": {
      "text/html": [
       "\n",
       "    \n",
       "    <style type=\"text/css\">\n",
       "        .Table{\n",
       "            border-collapse:collapse;\n",
       "        }\n",
       "        .Table th{\n",
       "            background: #A0A0A0; color: #ffffff; padding:4px; border:#f0e0e0 1px solid;\n",
       "            font-weight: normal; font-family: monospace; font-size: 100%;\n",
       "        }\n",
       "        .Table td{\n",
       "            padding:4px; border:#f0e0e0 1px solid; font-size:100%;\n",
       "        }\n",
       "        .Table tr:nth-child(odd){\n",
       "            background: #ffffff;\n",
       "        }\n",
       "        .Table tr:nth-child(even){\n",
       "            background: #f3f1ff;\n",
       "        }\n",
       "        /* Tooltip container */\n",
       "        .djtooltip {\n",
       "        }\n",
       "        /* Tooltip text */\n",
       "        .djtooltip .djtooltiptext {\n",
       "            visibility: hidden;\n",
       "            width: 120px;\n",
       "            background-color: black;\n",
       "            color: #fff;\n",
       "            text-align: center;\n",
       "            padding: 5px 0;\n",
       "            border-radius: 6px;\n",
       "            /* Position the tooltip text - see examples below! */\n",
       "            position: absolute;\n",
       "            z-index: 1;\n",
       "        }\n",
       "        #primary {\n",
       "            font-weight: bold;\n",
       "            color: black;\n",
       "        }\n",
       "        #nonprimary {\n",
       "            font-weight: normal;\n",
       "            color: white;\n",
       "        }\n",
       "\n",
       "        /* Show the tooltip text when you mouse over the tooltip container */\n",
       "        .djtooltip:hover .djtooltiptext {\n",
       "            visibility: visible;\n",
       "        }\n",
       "    </style>\n",
       "    \n",
       "    <b></b>\n",
       "        <div style=\"max-height:1000px;max-width:1500px;overflow:auto;\">\n",
       "        <table border=\"1\" class=\"Table\">\n",
       "            <thead> <tr style=\"text-align: right;\"> <th> <div class=\"djtooltip\">\n",
       "                            <p id=\"primary\">project</p>\n",
       "                            <span class=\"djtooltiptext\"></span>\n",
       "                        </div></th><th><div class=\"djtooltip\">\n",
       "                            <p id=\"nonprimary\">project_description</p>\n",
       "                            <span class=\"djtooltiptext\"></span>\n",
       "                        </div> </th> </tr> </thead>\n",
       "            <tbody> <tr> <td>ATN</td>\n",
       "<td>ATN-functional-characterization</td></tr><tr><td>dummy</td>\n",
       "<td>dummy</td></tr><tr><td>hpc-repstab</td>\n",
       "<td>hpc-representational-stability</td></tr><tr><td>rsc-functop</td>\n",
       "<td>rsc-functional-topography</td></tr><tr><td>rsc-hpc</td>\n",
       "<td>rsc-hippocampal</td></tr><tr><td>rsc-latent</td>\n",
       "<td>rsc-contextual-multimodal-latent-ss</td></tr><tr><td>sc-lgn-actvis</td>\n",
       "<td>sc-lgn-active-vision</td></tr><tr><td>V1-oddball</td>\n",
       "<td>v1-oddbal-predicitve-prior</td></tr><tr><td>vc-lgn-repstab</td>\n",
       "<td>vc-lgn-representational-stability</td> </tr> </tbody>\n",
       "        </table>\n",
       "        \n",
       "        <p>Total: 9</p></div>\n",
       "        "
      ],
      "text/plain": [
       "*project       project_descri\n",
       "+------------+ +------------+\n",
       "ATN            ATN-functional\n",
       "dummy          dummy         \n",
       "hpc-repstab    hpc-representa\n",
       "rsc-functop    rsc-functional\n",
       "rsc-hpc        rsc-hippocampa\n",
       "rsc-latent     rsc-contextual\n",
       "sc-lgn-actvis  sc-lgn-active-\n",
       "V1-oddball     v1-oddbal-pred\n",
       "vc-lgn-repstab vc-lgn-represe\n",
       " (Total: 9)"
      ]
     },
     "execution_count": 26,
     "metadata": {},
     "output_type": "execute_result"
    }
   ],
   "source": [
    "subject.Project()"
   ]
  },
  {
   "cell_type": "code",
   "execution_count": 22,
   "id": "67c18474",
   "metadata": {},
   "outputs": [
    {
     "name": "stdout",
     "output_type": "stream",
     "text": [
      "Select project:\n"
     ]
    },
    {
     "data": {
      "application/vnd.jupyter.widget-view+json": {
       "model_id": "35bf142991e14535b0088f74649dba0a",
       "version_major": 2,
       "version_minor": 0
      },
      "text/plain": [
       "Dropdown(index=4, layout=Layout(width='300px'), options=('ATN', 'dummy', 'hpc-repstab', 'rsc-functop', 'rsc-hp…"
      ]
     },
     "metadata": {},
     "output_type": "display_data"
    },
    {
     "name": "stdout",
     "output_type": "stream",
     "text": [
      "You selected: V1-oddball\n"
     ]
    }
   ],
   "source": [
    "allprojects = project.fetch('project')\n",
    "\n",
    "# create a dropdown widget\n",
    "my_dropdown_projects = widgets.Dropdown(options=allprojects, value=allprojects[4], layout=widgets.Layout(width='300px'))\n",
    "\n",
    "# define a function to handle the dropdown selection\n",
    "\n",
    "print('Select project:')\n",
    "\n",
    "def on_dropdown_change(change):\n",
    "    if change['type'] == 'change' and change['name'] == 'value':\n",
    "        selected_project = change['new']\n",
    "        print(f\"You selected: {selected_project}\")\n",
    "\n",
    "# set the dropdown's event handler to our function\n",
    "my_dropdown_projects.observe(on_dropdown_change)\n",
    "\n",
    "# display the dropdown widget\n",
    "display(my_dropdown_projects)\n"
   ]
  },
  {
   "cell_type": "code",
   "execution_count": null,
   "id": "a770f8d9",
   "metadata": {},
   "outputs": [],
   "source": [
    "print(my_dropdown_equipment.value)\n",
    "print(my_dropdown_surgery.value)\n",
    "print(my_dropdown_projects.value)"
   ]
  },
  {
   "attachments": {},
   "cell_type": "markdown",
   "id": "e03829fd",
   "metadata": {},
   "source": [
    "### Line/Mutation"
   ]
  },
  {
   "cell_type": "code",
   "execution_count": null,
   "id": "2bbe332a",
   "metadata": {},
   "outputs": [],
   "source": [
    "# POPULATED BY PYRAT INGEST\n",
    "\n",
    "line_id = 1  # Unique identifier for the line.\n",
    "line_name = 'Gcamp6-ThyC57BL/6J-Tg(Thy1-GCaMP6s)GP4.12Dkim/J'  # Description of the line.\n",
    "is_active = 1  # Whether or not the line is actively breeding.\n",
    "\n",
    "mutation_id = 2  # Unique identifier for the mutation.\n",
    "mutation_description = 'Tg(Thy1-GCaMP6s)GP4.12Dkim'  # A description of the mutation.\n",
    "\n",
    "line.insert1((line_id, line_name, is_active), skip_duplicates=True)\n",
    "mutation.insert1((line_id, mutation_id, mutation_description), skip_duplicates=True)"
   ]
  },
  {
   "attachments": {},
   "cell_type": "markdown",
   "id": "d2c39382-e82f-4df8-aabe-ddf958b4d8d8",
   "metadata": {},
   "source": [
    "### Subject"
   ]
  },
  {
   "cell_type": "code",
   "execution_count": null,
   "id": "14797373-203a-44df-94bc-b153e3dca30c",
   "metadata": {},
   "outputs": [],
   "source": [
    "# POPULATED BY PYRAT INGEST\n",
    "\n",
    "# subject.Subject.delete()\n",
    "subject_id = 'Testmouse1'\n",
    "earmark = ''\n",
    "sex = 'F'\n",
    "birth_date = ''\n",
    "#subject_description = ''\n",
    "generation = ''\n",
    "parents = {}\n",
    "owner_id = 1\n",
    "responsible_id = 1\n",
    "line_id = 1\n",
    "protocol_key = 'LANUF3'\n",
    "\n",
    "sub.insert1((subject_id, earmark, sex, birth_date,  generation, \n",
    "             parents, owner_id, responsible_id, line_id, protocol_key))"
   ]
  },
  {
   "cell_type": "code",
   "execution_count": null,
   "id": "08edead7",
   "metadata": {},
   "outputs": [],
   "source": [
    "subject = 'WEZ-8701'\n",
    "earmark = ''\n",
    "sex = 'M'\n",
    "birth_date = ''\n",
    "# subject_description = ''\n",
    "generation = ''\n",
    "parents = ''\n",
    "owner_id = 1\n",
    "responsible_id = 1\n",
    "line_id = 100\n",
    "protocol_key = 'LANUF3'\n",
    "\n",
    "sub.insert1((subject, earmark, sex, birth_date, generation, \n",
    "             parents, owner_id, responsible_id, line_id, protocol_key))"
   ]
  },
  {
   "attachments": {},
   "cell_type": "markdown",
   "id": "2cea0c11",
   "metadata": {},
   "source": [
    "### Subject Genotype"
   ]
  },
  {
   "cell_type": "code",
   "execution_count": null,
   "id": "1b9fc5dd",
   "metadata": {},
   "outputs": [],
   "source": [
    "# POPULATED BY PYRAT INGEST\n",
    "\n",
    "subject = 'WEZ-8701'\n",
    "line_id = 1\n",
    "mutation_id = 2  # Unique identifier for the mutation.\n",
    "genotype = 'wt/tg'  # The target phenotype of the line.\n",
    "\n",
    "subject_genotype.insert1((subject, line_id, mutation_id, genotype))"
   ]
  },
  {
   "cell_type": "code",
   "execution_count": null,
   "id": "073f5883",
   "metadata": {},
   "outputs": [],
   "source": [
    "project.describe()"
   ]
  },
  {
   "cell_type": "code",
   "execution_count": null,
   "id": "2bb1e2a3",
   "metadata": {},
   "outputs": [],
   "source": [
    "project.fetch()"
   ]
  },
  {
   "attachments": {},
   "cell_type": "markdown",
   "id": "1d6cbc6b",
   "metadata": {},
   "source": [
    "### Subject Death"
   ]
  },
  {
   "cell_type": "code",
   "execution_count": null,
   "id": "364fd35e",
   "metadata": {},
   "outputs": [],
   "source": [
    "subject = 'WEZ-8701'\n",
    "death_date = '2010-12-01'\n",
    "case = 'natural'\n",
    "\n",
    "subject_death.insert1((subject, death_date, case))"
   ]
  },
  {
   "attachments": {},
   "cell_type": "markdown",
   "id": "a5abac1e",
   "metadata": {},
   "source": [
    "## Fetch"
   ]
  },
  {
   "attachments": {},
   "cell_type": "markdown",
   "id": "3a82ddb6-6ae4-4359-a896-b62ff80476e7",
   "metadata": {},
   "source": [
    "### As table"
   ]
  },
  {
   "cell_type": "code",
   "execution_count": null,
   "id": "02ca9d55-3b3d-410c-835d-77f94ca502fb",
   "metadata": {},
   "outputs": [],
   "source": [
    "user * lab"
   ]
  },
  {
   "cell_type": "code",
   "execution_count": null,
   "id": "477cf5c6",
   "metadata": {},
   "outputs": [],
   "source": [
    "sub"
   ]
  },
  {
   "cell_type": "code",
   "execution_count": null,
   "id": "49a8e847-17ab-40bf-be9a-4da99e7edff4",
   "metadata": {},
   "outputs": [],
   "source": [
    "line * subject_genotype"
   ]
  },
  {
   "cell_type": "code",
   "execution_count": null,
   "id": "fe28c77e-ae31-41a8-926c-fae0693d4c96",
   "metadata": {},
   "outputs": [],
   "source": [
    "subject_genotype"
   ]
  },
  {
   "attachments": {},
   "cell_type": "markdown",
   "id": "0a544ab0-c987-45ca-8c55-e6b223233684",
   "metadata": {},
   "source": [
    "### As dictionary"
   ]
  },
  {
   "attachments": {},
   "cell_type": "markdown",
   "id": "e61ee14c-69e4-4283-8c47-b99b994dff5f",
   "metadata": {},
   "source": [
    "One item:"
   ]
  },
  {
   "cell_type": "code",
   "execution_count": null,
   "id": "e9be8cc2-33c0-4b78-b6d4-2f1abca62420",
   "metadata": {},
   "outputs": [],
   "source": [
    "(sub & 'subject=\"WEZ-8701\"').fetch1()"
   ]
  },
  {
   "attachments": {},
   "cell_type": "markdown",
   "id": "f334c381-2604-45ec-a56d-d0bde7187ed8",
   "metadata": {},
   "source": [
    "List of dictionaries:"
   ]
  },
  {
   "cell_type": "code",
   "execution_count": null,
   "id": "03a818a3-5a9d-4b43-a19f-b65197017b04",
   "metadata": {},
   "outputs": [],
   "source": [
    "(subject_genotype & 'subject=\"WEZ-8701\"').fetch(as_dict=True)"
   ]
  },
  {
   "cell_type": "code",
   "execution_count": null,
   "id": "04f659cd-c0c4-4663-8948-3591868e2765",
   "metadata": {},
   "outputs": [],
   "source": [
    "user"
   ]
  }
 ],
 "metadata": {
  "jupytext": {
   "formats": "ipynb,py"
  },
  "kernelspec": {
   "display_name": "Python 3 (ipykernel)",
   "language": "python",
   "name": "python3"
  },
  "language_info": {
   "codemirror_mode": {
    "name": "ipython",
    "version": 3
   },
   "file_extension": ".py",
   "mimetype": "text/x-python",
   "name": "python",
   "nbconvert_exporter": "python",
   "pygments_lexer": "ipython3",
   "version": "3.8.16"
  },
  "vscode": {
   "interpreter": {
    "hash": "2888206d04306eefe963095373d1dcce5cd11176f3d6ee4ec3f64dd9e65fd8a1"
   }
  }
 },
 "nbformat": 4,
 "nbformat_minor": 5
}
