{
 "cells": [
  {
   "cell_type": "markdown",
   "id": "7225c769",
   "metadata": {},
   "source": [
    "# Subject Related Data"
   ]
  },
  {
   "cell_type": "markdown",
   "id": "a2e9ad58-f51d-4a94-8fbd-43152bb01d06",
   "metadata": {},
   "source": [
    "`CB DEV NOTES`\n",
    "1. Some table structures and data types changed for pyrat ingestion\n",
    "2. The GUI didn't work for me. Maybe an error on my end.\n",
    "\n",
    "`TR TODO`\n",
    "1. Prevent pyrat ingest to push in userIDs (ownerID is not UserID)\n",
    "2. Have Pyrate ingest work with duplicate entries  \n",
    "3. Find way to push setup info into the pipeline with userfunctions (scanimage swetup specifics)\n",
    "4. Add user initials (TR), user shorthand (tobiasr) and user full name (\"Tobias Rose\") to user table.\n",
    "5. Add animal weighyt table handling. use pyrat post!"
   ]
  },
  {
   "cell_type": "markdown",
   "id": "beda62fc-e678-4b77-a454-f848aa68379e",
   "metadata": {},
   "source": [
    "## Login\n",
    "\n",
    "Either log in via a local config file (see [01_pipeline](./01_pipeline.ipynb)), or enter login information manually. If you are don't have your login information, contact the administrator.\n"
   ]
  },
  {
   "cell_type": "code",
   "execution_count": 1,
   "id": "41084378-bf49-4b97-b3ea-900fb544d97c",
   "metadata": {},
   "outputs": [
    {
     "name": "stderr",
     "output_type": "stream",
     "text": [
      "[2023-03-16 15:52:54,839][INFO]: Connecting tobiasr@172.26.128.53:3306\n",
      "[2023-03-16 15:52:54,899][INFO]: Connected tobiasr@172.26.128.53:3306\n"
     ]
    }
   ],
   "source": [
    "import os\n",
    "# change to the upper level folder to detect dj_local_conf.json\n",
    "if os.path.basename(os.getcwd())=='notebooks': os.chdir('..')\n",
    "assert os.path.basename(os.getcwd())=='adamacs', (\"Please move to the main directory\")\n",
    "from adamacs.pipeline import subject, session, equipment, surgery \n",
    "import datajoint as dj\n",
    "import ipywidgets as widgets"
   ]
  },
  {
   "cell_type": "code",
   "execution_count": 2,
   "id": "e3cc274c",
   "metadata": {},
   "outputs": [
    {
     "name": "stdout",
     "output_type": "stream",
     "text": [
      "database Prefix: tobiasr_\n"
     ]
    }
   ],
   "source": [
    "db_prefix = dj.config['custom'].get('database.prefix')\n",
    "print('database Prefix:', db_prefix)"
   ]
  },
  {
   "cell_type": "code",
   "execution_count": 6,
   "id": "69cdaaeb",
   "metadata": {},
   "outputs": [
    {
     "data": {
      "text/plain": [
       "'0.14.0'"
      ]
     },
     "execution_count": 6,
     "metadata": {},
     "output_type": "execute_result"
    }
   ],
   "source": [
    "dj.__version__"
   ]
  },
  {
   "cell_type": "code",
   "execution_count": 3,
   "id": "132cf444",
   "metadata": {},
   "outputs": [
    {
     "data": {
      "text/plain": [
       "DataJoint connection (connected) tobiasr@172.26.128.53:3306"
      ]
     },
     "execution_count": 3,
     "metadata": {},
     "output_type": "execute_result"
    }
   ],
   "source": [
    "# Manual Entry\n",
    "import datajoint as dj; import getpass\n",
    "dj.config['database.host'] = '172.26.128.53'        # Put the server name between these apostrophe\n",
    "dj.config['database.user'] = 'tobiasr'             # Put your user name between these apostrophe\n",
    "dj.config['database.password'] = getpass.getpass()  # Put your password in the prompt\n",
    "dj.conn()"
   ]
  },
  {
   "cell_type": "markdown",
   "id": "8e48c2ea-7f7a-430c-8dc3-89bb3ec8a705",
   "metadata": {},
   "source": [
    "## Activation\n",
    "Next, import from `adamacs.pipeline` to activate the relevant schema."
   ]
  },
  {
   "cell_type": "code",
   "execution_count": 4,
   "id": "81b34218-7b80-4257-abd3-cf449c17c374",
   "metadata": {},
   "outputs": [],
   "source": [
    "# from adamacs.utility import *\n",
    "# from adamacs.nbgui import *\n",
    "from adamacs.pipeline import subject"
   ]
  },
  {
   "cell_type": "markdown",
   "id": "818496d9-0add-4557-a116-10156e995076",
   "metadata": {},
   "source": [
    "Assign easy names for relevant tables"
   ]
  },
  {
   "cell_type": "code",
   "execution_count": 5,
   "id": "ae8a9093-a631-4fe5-bf66-6944ec5de1ce",
   "metadata": {},
   "outputs": [],
   "source": [
    "sub, lab, protocol, line, mutation, user, project, subject_genotype, subject_death = (\n",
    "    subject.Subject(), subject.Lab(), subject.Protocol(), subject.Line(), \n",
    "    subject.Mutation(), subject.User(), subject.Project(), subject.SubjectGenotype(), \n",
    "    subject.SubjectDeath()\n",
    "    )"
   ]
  },
  {
   "cell_type": "markdown",
   "id": "7aa77e1a",
   "metadata": {},
   "source": [
    "## Entry via GUI\n",
    "(not implemented currently)"
   ]
  },
  {
   "cell_type": "code",
   "execution_count": null,
   "id": "0561d2fb",
   "metadata": {},
   "outputs": [],
   "source": [
    "# \"\"\"Run this cell to load the subject entry sheet.\"\"\"\n",
    "# mouse_gui = MouseEntrySheet()\n",
    "# mouse_gui.app"
   ]
  },
  {
   "cell_type": "markdown",
   "id": "883ef954",
   "metadata": {},
   "source": [
    "## Entry via `insert()`\n",
    "\n",
    "### **WARNING** \n",
    "Only run these manual entry cells if you know what you are doing!\n",
    "\n",
    "Strings for these values may be edited to insert single rows into corresponding tables.\n",
    "\n",
    "### Lab"
   ]
  },
  {
   "cell_type": "code",
   "execution_count": null,
   "id": "b03e1536",
   "metadata": {},
   "outputs": [],
   "source": [
    "lab_key = 'Rose'  # Short, unique identifier for the lab. Maximum 8 characters. Example: 'Rose'.\n",
    "lab_name = 'Circut Mechanisms of Behavior'  # A longer, more descriptive name for the laboratory.\n",
    "institution = 'Institute for Experimental Epileptology and Cognition Research (IEECR)'  # The institution the laboratory belongs to.\n",
    "address = 'Venusberg-Campus 1, 53127 Bonn'  # The postal address of the laboratory.\n",
    "\n",
    "lab.insert1((lab_key, lab_name, institution, address))"
   ]
  },
  {
   "cell_type": "markdown",
   "id": "bcab35a7",
   "metadata": {},
   "source": [
    "### Protocol"
   ]
  },
  {
   "cell_type": "code",
   "execution_count": null,
   "id": "352ef703",
   "metadata": {},
   "outputs": [],
   "source": [
    "# POPULATED BY PYRAT INGEST!\n",
    "\n",
    "protocol_key = '81-02.05.40.19.027'  # Short, unique identifier for the protocol. Maximum 16 characters.\n",
    "protocol_description = 'Another dummy protocol ID for testing purposes'  # Description of the protocol.\n",
    "\n",
    "protocol.insert1((protocol_key, protocol_description))\n"
   ]
  },
  {
   "cell_type": "code",
   "execution_count": null,
   "id": "ed724ae8",
   "metadata": {},
   "outputs": [],
   "source": [
    "protocol"
   ]
  },
  {
   "cell_type": "markdown",
   "id": "94e97132-3c99-4cd0-9ef9-4dd5fdd105ad",
   "metadata": {},
   "source": [
    "### User Entry"
   ]
  },
  {
   "cell_type": "code",
   "execution_count": null,
   "id": "14933f75",
   "metadata": {},
   "outputs": [],
   "source": [
    "# DO NOT CHANGE\n",
    "\n",
    "# insert multiple entries\n",
    "# subject.User.delete()\n",
    "\n",
    "data = [{'user_id': 1, 'name': 'Rose Tobias', 'initials': 'TR', 'shorthand': 'tobiasr', 'email': 'trose@uni-bonn.de', 'lab': 'Rose'},\n",
    "        {'user_id': 2, 'name': 'Kück Laura', 'initials': 'LK', 'shorthand': 'laurak', 'email': 'laura.kueck@ukbonn.de', 'lab': 'Rose'},\n",
    "        {'user_id': 3, 'name': 'Krasilshchikova Natalia', 'initials': 'NK', 'shorthand': 'nataliak', 'email': ' nkra1@uni-bonn.de', 'lab': 'Rose'},\n",
    "        {'user_id': 4, 'name': 'Bühler Daniel', 'initials': 'DB', 'shorthand': 'danielb', 'email': 'Db247@uni-bonn.de', 'lab': 'Rose'},\n",
    "        {'user_id': 5, 'name': 'Luxem Kevin', 'initials': 'KL', 'shorthand': 'kevinl', 'email': 'luxemk@uni-bonn.de', 'lab': 'Rose'},\n",
    "        {'user_id': 6, 'name': 'Jung Jisoo', 'initials': 'JJ', 'shorthand': 'jisooj', 'email': 'jjun1@uni-bonn.de', 'lab': 'Rose'},\n",
    "        {'user_id': 7, 'name': 'Narayanamurthy Rukhmani', 'initials': 'RN', 'shorthand': 'rukhun', 'email': 'rnar@uni-bonn.de', 'lab': 'Rose'},\n",
    "        {'user_id': 8, 'name': 'Kremers Leon', 'initials': 'LE', 'shorthand': 'leonk', 'email': 'leon.kremers@uni-bonn.de', 'lab': 'Rose'}]\n",
    "user.insert(data) "
   ]
  },
  {
   "cell_type": "code",
   "execution_count": 6,
   "id": "75199620",
   "metadata": {},
   "outputs": [
    {
     "data": {
      "text/html": [
       "\n",
       "    \n",
       "    <style type=\"text/css\">\n",
       "        .Table{\n",
       "            border-collapse:collapse;\n",
       "        }\n",
       "        .Table th{\n",
       "            background: #A0A0A0; color: #ffffff; padding:4px; border:#f0e0e0 1px solid;\n",
       "            font-weight: normal; font-family: monospace; font-size: 100%;\n",
       "        }\n",
       "        .Table td{\n",
       "            padding:4px; border:#f0e0e0 1px solid; font-size:100%;\n",
       "        }\n",
       "        .Table tr:nth-child(odd){\n",
       "            background: #ffffff;\n",
       "        }\n",
       "        .Table tr:nth-child(even){\n",
       "            background: #f3f1ff;\n",
       "        }\n",
       "        /* Tooltip container */\n",
       "        .djtooltip {\n",
       "        }\n",
       "        /* Tooltip text */\n",
       "        .djtooltip .djtooltiptext {\n",
       "            visibility: hidden;\n",
       "            width: 120px;\n",
       "            background-color: black;\n",
       "            color: #fff;\n",
       "            text-align: center;\n",
       "            padding: 5px 0;\n",
       "            border-radius: 6px;\n",
       "            /* Position the tooltip text - see examples below! */\n",
       "            position: absolute;\n",
       "            z-index: 1;\n",
       "        }\n",
       "        #primary {\n",
       "            font-weight: bold;\n",
       "            color: black;\n",
       "        }\n",
       "        #nonprimary {\n",
       "            font-weight: normal;\n",
       "            color: white;\n",
       "        }\n",
       "\n",
       "        /* Show the tooltip text when you mouse over the tooltip container */\n",
       "        .djtooltip:hover .djtooltiptext {\n",
       "            visibility: visible;\n",
       "        }\n",
       "    </style>\n",
       "    \n",
       "    <b></b>\n",
       "        <div style=\"max-height:1000px;max-width:1500px;overflow:auto;\">\n",
       "        <table border=\"1\" class=\"Table\">\n",
       "            <thead> <tr style=\"text-align: right;\"> <th> <div class=\"djtooltip\">\n",
       "                            <p id=\"primary\">scanner</p>\n",
       "                            <span class=\"djtooltiptext\"></span>\n",
       "                        </div> </th> </tr> </thead>\n",
       "            <tbody> <tr>  </tr> </tbody>\n",
       "        </table>\n",
       "        \n",
       "        <p>Total: 0</p></div>\n",
       "        "
      ],
      "text/plain": [
       "*scanner   \n",
       "+---------+\n",
       "\n",
       " (Total: 0)"
      ]
     },
     "execution_count": 6,
     "metadata": {},
     "output_type": "execute_result"
    }
   ],
   "source": [
    "equipment.Equipment()"
   ]
  },
  {
   "cell_type": "markdown",
   "id": "ea197625",
   "metadata": {},
   "source": [
    "## Equipment entry"
   ]
  },
  {
   "cell_type": "code",
   "execution_count": 7,
   "id": "fbe9cbca",
   "metadata": {},
   "outputs": [
    {
     "name": "stderr",
     "output_type": "stream",
     "text": [
      "[2023-03-16 13:05:39,728][INFO]: `tobiasr_equipment`.`equipment` (0 tuples)\n",
      "[2023-03-16 13:05:39,730][INFO]: `tobiasr_scan`.`scan` (0 tuples)\n",
      "[2023-03-16 13:05:39,732][INFO]: `tobiasr_model`.`video_recording` (0 tuples)\n",
      "[2023-03-16 13:05:39,733][INFO]: `tobiasr_model`.`video_recording__file` (0 tuples)\n",
      "[2023-03-16 13:05:39,735][INFO]: `tobiasr_imaging`.`processing_task` (0 tuples)\n",
      "[2023-03-16 13:05:39,737][INFO]: `tobiasr_scan`.`_scan_info` (0 tuples)\n",
      "[2023-03-16 13:05:39,739][INFO]: `tobiasr_scan`.`_scan_info__field` (0 tuples)\n",
      "[2023-03-16 13:05:39,741][INFO]: `tobiasr_scan`.`_scan_info__scan_file` (0 tuples)\n",
      "[2023-03-16 13:05:39,743][INFO]: `tobiasr_scan`.`scan_location` (0 tuples)\n",
      "[2023-03-16 13:05:39,744][INFO]: `tobiasr_scan`.`scan_path` (0 tuples)\n",
      "[2023-03-16 13:05:39,746][INFO]: `tobiasr_model`.`_recording_info` (0 tuples)\n",
      "[2023-03-16 13:05:39,748][INFO]: `tobiasr_model`.`pose_estimation_task` (0 tuples)\n",
      "[2023-03-16 13:05:39,750][INFO]: `tobiasr_imaging`.`__processing` (0 tuples)\n",
      "[2023-03-16 13:05:39,752][INFO]: `tobiasr_model`.`__pose_estimation` (0 tuples)\n",
      "[2023-03-16 13:05:39,753][INFO]: `tobiasr_model`.`__pose_estimation__body_part_position` (0 tuples)\n",
      "[2023-03-16 13:05:39,755][INFO]: `tobiasr_imaging`.`curation` (0 tuples)\n",
      "[2023-03-16 13:05:39,757][INFO]: `tobiasr_imaging`.`__segmentation` (0 tuples)\n",
      "[2023-03-16 13:05:39,759][INFO]: `tobiasr_imaging`.`__segmentation__mask` (0 tuples)\n",
      "[2023-03-16 13:05:39,761][INFO]: `tobiasr_imaging`.`_motion_correction` (0 tuples)\n",
      "[2023-03-16 13:05:39,763][INFO]: `tobiasr_imaging`.`_motion_correction__non_rigid_motion_correction` (0 tuples)\n",
      "[2023-03-16 13:05:39,765][INFO]: `tobiasr_imaging`.`_motion_correction__rigid_motion_correction` (0 tuples)\n",
      "[2023-03-16 13:05:39,767][INFO]: `tobiasr_imaging`.`_motion_correction__summary` (0 tuples)\n",
      "[2023-03-16 13:05:39,769][INFO]: `tobiasr_imaging`.`_motion_correction__block` (0 tuples)\n",
      "[2023-03-16 13:05:39,771][INFO]: `tobiasr_imaging`.`__fluorescence` (0 tuples)\n",
      "[2023-03-16 13:05:39,773][INFO]: `tobiasr_imaging`.`__fluorescence__trace` (0 tuples)\n",
      "[2023-03-16 13:05:39,775][INFO]: `tobiasr_imaging`.`__mask_classification` (0 tuples)\n",
      "[2023-03-16 13:05:39,777][INFO]: `tobiasr_imaging`.`__mask_classification__mask_type` (0 tuples)\n",
      "[2023-03-16 13:05:39,778][INFO]: `tobiasr_imaging`.`__activity` (0 tuples)\n",
      "[2023-03-16 13:05:39,780][INFO]: `tobiasr_imaging`.`__activity__trace` (0 tuples)\n",
      "[2023-03-16 13:05:41,719][INFO]: Dropped table `tobiasr_imaging`.`__activity__trace`\n",
      "[2023-03-16 13:05:41,723][INFO]: Dropped table `tobiasr_imaging`.`__activity`\n",
      "[2023-03-16 13:05:41,726][INFO]: Dropped table `tobiasr_imaging`.`__mask_classification__mask_type`\n",
      "[2023-03-16 13:05:41,729][INFO]: Dropped table `tobiasr_imaging`.`__mask_classification`\n",
      "[2023-03-16 13:05:41,732][INFO]: Dropped table `tobiasr_imaging`.`__fluorescence__trace`\n",
      "[2023-03-16 13:05:41,735][INFO]: Dropped table `tobiasr_imaging`.`__fluorescence`\n",
      "[2023-03-16 13:05:41,739][INFO]: Dropped table `tobiasr_imaging`.`_motion_correction__block`\n",
      "[2023-03-16 13:05:41,742][INFO]: Dropped table `tobiasr_imaging`.`_motion_correction__summary`\n",
      "[2023-03-16 13:05:41,745][INFO]: Dropped table `tobiasr_imaging`.`_motion_correction__rigid_motion_correction`\n",
      "[2023-03-16 13:05:41,748][INFO]: Dropped table `tobiasr_imaging`.`_motion_correction__non_rigid_motion_correction`\n",
      "[2023-03-16 13:05:41,751][INFO]: Dropped table `tobiasr_imaging`.`_motion_correction`\n",
      "[2023-03-16 13:05:41,754][INFO]: Dropped table `tobiasr_imaging`.`__segmentation__mask`\n",
      "[2023-03-16 13:05:41,757][INFO]: Dropped table `tobiasr_imaging`.`__segmentation`\n",
      "[2023-03-16 13:05:41,760][INFO]: Dropped table `tobiasr_imaging`.`curation`\n",
      "[2023-03-16 13:05:41,763][INFO]: Dropped table `tobiasr_model`.`__pose_estimation__body_part_position`\n",
      "[2023-03-16 13:05:41,766][INFO]: Dropped table `tobiasr_model`.`__pose_estimation`\n",
      "[2023-03-16 13:05:41,769][INFO]: Dropped table `tobiasr_imaging`.`__processing`\n",
      "[2023-03-16 13:05:41,772][INFO]: Dropped table `tobiasr_model`.`pose_estimation_task`\n",
      "[2023-03-16 13:05:41,775][INFO]: Dropped table `tobiasr_model`.`_recording_info`\n",
      "[2023-03-16 13:05:41,778][INFO]: Dropped table `tobiasr_scan`.`scan_path`\n",
      "[2023-03-16 13:05:41,781][INFO]: Dropped table `tobiasr_scan`.`scan_location`\n",
      "[2023-03-16 13:05:41,784][INFO]: Dropped table `tobiasr_scan`.`_scan_info__scan_file`\n",
      "[2023-03-16 13:05:41,787][INFO]: Dropped table `tobiasr_scan`.`_scan_info__field`\n",
      "[2023-03-16 13:05:41,790][INFO]: Dropped table `tobiasr_scan`.`_scan_info`\n",
      "[2023-03-16 13:05:41,793][INFO]: Dropped table `tobiasr_imaging`.`processing_task`\n",
      "[2023-03-16 13:05:41,796][INFO]: Dropped table `tobiasr_model`.`video_recording__file`\n",
      "[2023-03-16 13:05:41,799][INFO]: Dropped table `tobiasr_model`.`video_recording`\n",
      "[2023-03-16 13:05:41,802][INFO]: Dropped table `tobiasr_scan`.`scan`\n",
      "[2023-03-16 13:05:41,805][INFO]: Dropped table `tobiasr_equipment`.`equipment`\n",
      "[2023-03-16 13:05:41,807][INFO]: Tables dropped. Restart kernel.\n"
     ]
    }
   ],
   "source": [
    "# # equipment.Equipment.delete()\n",
    "# droppi = equipment.Equipment()\n",
    "# droppi.drop()"
   ]
  },
  {
   "cell_type": "code",
   "execution_count": 16,
   "id": "c835005b",
   "metadata": {},
   "outputs": [],
   "source": [
    "# TR TODO: should be populated manually or automatically by session or scan imgest\n",
    "# 1. Session ingest: userfunction_consolidate_files argument could be auto-added to filename\n",
    "# 2. Scan ingest: userfunction_consolidate_files argument could be parsed from tiff-header\n",
    "# 3. Manual entry in post-exp subject entry sheet. In the latter case this should be implemented as dropdown widget (ipywidget)\n",
    "#       3.1 read in equipment.Equipment table\n",
    "\n",
    "\n",
    "\n",
    "data = [{'scanner': 'mini2p_01', 'scanner_description': 'the oldest mini2p (USABLE - v3)'},\n",
    "        {'scanner': 'mini2p_02', 'scanner_description': 'the first last gen mini2p (REPAIR - fast MEMS broken)'},\n",
    "        {'scanner': 'mini2p_03', 'scanner_description': 'the second last gen mini2p (REPAIR - utlens broken, z-offset not best at 0V)'},\n",
    "        {'scanner': 'mini2p_04', 'scanner_description': 'MEMS#: AA010 - the third last gen mini2p (USABLE - scanfield offset / dichroic or MEMS misaligned)'},\n",
    "        {'scanner': 'mini2p_05', 'scanner_description': 'MEMS#:AA082 - the fourth last gen mini2p (the one you are currently finishing)'},\n",
    "        {'scanner': 'bench2p', 'scanner_description': 'INSS RGG two-photon'},\n",
    "        {'scanner': 'macroscope', 'scanner_description': 'Macroscope dual excitation'},\n",
    "        {'scanner': 'dummy', 'scanner_description': 'dummy'}]\n",
    "equipment.Equipment.insert(data, skip_duplicates=True) "
   ]
  },
  {
   "cell_type": "code",
   "execution_count": 13,
   "id": "18f9bae3",
   "metadata": {},
   "outputs": [
    {
     "data": {
      "text/html": [
       "\n",
       "    \n",
       "    <style type=\"text/css\">\n",
       "        .Table{\n",
       "            border-collapse:collapse;\n",
       "        }\n",
       "        .Table th{\n",
       "            background: #A0A0A0; color: #ffffff; padding:4px; border:#f0e0e0 1px solid;\n",
       "            font-weight: normal; font-family: monospace; font-size: 100%;\n",
       "        }\n",
       "        .Table td{\n",
       "            padding:4px; border:#f0e0e0 1px solid; font-size:100%;\n",
       "        }\n",
       "        .Table tr:nth-child(odd){\n",
       "            background: #ffffff;\n",
       "        }\n",
       "        .Table tr:nth-child(even){\n",
       "            background: #f3f1ff;\n",
       "        }\n",
       "        /* Tooltip container */\n",
       "        .djtooltip {\n",
       "        }\n",
       "        /* Tooltip text */\n",
       "        .djtooltip .djtooltiptext {\n",
       "            visibility: hidden;\n",
       "            width: 120px;\n",
       "            background-color: black;\n",
       "            color: #fff;\n",
       "            text-align: center;\n",
       "            padding: 5px 0;\n",
       "            border-radius: 6px;\n",
       "            /* Position the tooltip text - see examples below! */\n",
       "            position: absolute;\n",
       "            z-index: 1;\n",
       "        }\n",
       "        #primary {\n",
       "            font-weight: bold;\n",
       "            color: black;\n",
       "        }\n",
       "        #nonprimary {\n",
       "            font-weight: normal;\n",
       "            color: white;\n",
       "        }\n",
       "\n",
       "        /* Show the tooltip text when you mouse over the tooltip container */\n",
       "        .djtooltip:hover .djtooltiptext {\n",
       "            visibility: visible;\n",
       "        }\n",
       "    </style>\n",
       "    \n",
       "    <b></b>\n",
       "        <div style=\"max-height:1000px;max-width:1500px;overflow:auto;\">\n",
       "        <table border=\"1\" class=\"Table\">\n",
       "            <thead> <tr style=\"text-align: right;\"> <th> <div class=\"djtooltip\">\n",
       "                            <p id=\"primary\">scanner</p>\n",
       "                            <span class=\"djtooltiptext\"></span>\n",
       "                        </div></th><th><div class=\"djtooltip\">\n",
       "                            <p id=\"nonprimary\">scanner_description</p>\n",
       "                            <span class=\"djtooltiptext\"></span>\n",
       "                        </div> </th> </tr> </thead>\n",
       "            <tbody> <tr> <td>bench2p</td>\n",
       "<td>INSS RGG two-photon</td></tr><tr><td>macroscope</td>\n",
       "<td>Macroscope dual excitation</td></tr><tr><td>mini2p_01</td>\n",
       "<td>the oldest mini2p (USABLE - v3)</td></tr><tr><td>mini2p_02</td>\n",
       "<td>the first last gen mini2p (REPAIR - fast MEMS broken)</td></tr><tr><td>mini2p_03</td>\n",
       "<td>the second last gen mini2p (REPAIR - utlens broken, z-offset not best at 0V)</td></tr><tr><td>mini2p_04</td>\n",
       "<td>MEMS#: AA010 - the third last gen mini2p (USABLE - scanfield offset / dichroic or MEMS misaligned)</td></tr><tr><td>mini2p_05</td>\n",
       "<td>MEMS#:AA082 - the fourth last gen mini2p (the one you are currently finishing)</td> </tr> </tbody>\n",
       "        </table>\n",
       "        \n",
       "        <p>Total: 7</p></div>\n",
       "        "
      ],
      "text/plain": [
       "*scanner       scanner_descri\n",
       "+------------+ +------------+\n",
       "bench2p        INSS RGG two-p\n",
       "macroscope     Macroscope dua\n",
       "mini2p_01      the oldest min\n",
       "mini2p_02      the first last\n",
       "mini2p_03      the second las\n",
       "mini2p_04      MEMS#: AA010 -\n",
       "mini2p_05      MEMS#:AA082 - \n",
       " (Total: 7)"
      ]
     },
     "execution_count": 13,
     "metadata": {},
     "output_type": "execute_result"
    }
   ],
   "source": [
    "equipment.Equipment()"
   ]
  },
  {
   "cell_type": "code",
   "execution_count": null,
   "id": "146231b2",
   "metadata": {},
   "outputs": [],
   "source": []
  },
  {
   "cell_type": "code",
   "execution_count": null,
   "id": "78ebf2fa",
   "metadata": {},
   "outputs": [],
   "source": [
    "# Dropdown example\n",
    "\n",
    "allequipment = equipment.Equipment().fetch('scanner')\n",
    "\n",
    "# create a dropdown widget\n",
    "my_dropdown_equipment = widgets.Dropdown(options=allequipment, value=allequipment[0], layout=widgets.Layout(width='300px'))\n",
    "\n",
    "# define a function to handle the dropdown selection\n",
    "\n",
    "print('Select Scanner:')\n",
    "\n",
    "def on_dropdown_change(change):\n",
    "    if change['type'] == 'change' and change['name'] == 'value':\n",
    "        selected_scanner = change['new']\n",
    "        print(f\"You selected: {selected_scanner}\")\n",
    "\n",
    "# set the dropdown's event handler to our function\n",
    "test = my_dropdown_equipment.observe(on_dropdown_change)\n",
    "\n",
    "# display the dropdown widget\n",
    "display(my_dropdown_equipment)\n"
   ]
  },
  {
   "cell_type": "code",
   "execution_count": null,
   "id": "bd498093",
   "metadata": {},
   "outputs": [],
   "source": [
    "surgery.AnatomicalLocation()"
   ]
  },
  {
   "cell_type": "markdown",
   "id": "ca115ed0",
   "metadata": {},
   "source": [
    "## Surgery entry"
   ]
  },
  {
   "cell_type": "code",
   "execution_count": 17,
   "id": "bf6c20af",
   "metadata": {},
   "outputs": [],
   "source": [
    "data = [{'anatomical_location': 'V1'},\n",
    "        {'anatomical_location': 'LGNV1'},\n",
    "        {'anatomical_location': 'ATN'},\n",
    "        {'anatomical_location': 'RSCa'},\n",
    "        {'anatomical_location': 'RSCa'},\n",
    "        {'anatomical_location': 'dCA1'},\n",
    "        {'anatomical_location': 'DG'},\n",
    "        {'anatomical_location': 'Ctx'},\n",
    "        {'anatomical_location': 'dummy'}]\n",
    "surgery.AnatomicalLocation.insert(data, skip_duplicates=True) "
   ]
  },
  {
   "cell_type": "code",
   "execution_count": null,
   "id": "6021c5bb",
   "metadata": {},
   "outputs": [],
   "source": [
    "allsuregery = surgery.AnatomicalLocation().fetch('anatomical_location')\n",
    "\n",
    "# create a dropdown widget\n",
    "my_dropdown_surgery = widgets.Dropdown(options=allsuregery, value=allsuregery[4], layout=widgets.Layout(width='300px'))\n",
    "\n",
    "# define a function to handle the dropdown selection\n",
    "\n",
    "print('Select anatomical location:')\n",
    "\n",
    "def on_dropdown_change(change):\n",
    "    if change['type'] == 'change' and change['name'] == 'value':\n",
    "        selected_anatomical_location = change['new']\n",
    "        print(f\"You selected: {selected_anatomical_location}\")\n",
    "\n",
    "# set the dropdown's event handler to our function\n",
    "my_dropdown_surgery.observe(on_dropdown_change)\n",
    "\n",
    "# display the dropdown widget\n",
    "display(my_dropdown_surgery)\n"
   ]
  },
  {
   "cell_type": "markdown",
   "id": "40f6f927",
   "metadata": {},
   "source": [
    "### Project Entry"
   ]
  },
  {
   "cell_type": "code",
   "execution_count": 18,
   "id": "c1c00646",
   "metadata": {},
   "outputs": [],
   "source": [
    "# project_key = 'TEC'\n",
    "# project_description = 'Trace Eyeblink Conditioning'\n",
    "\n",
    "# project.insert1((project_key, project_description), skip_duplicates=True)\n",
    "\n",
    "data = [{'project': 'hpc-repstab', 'project_description': 'hpc-representational-stability' },\n",
    "        {'project': 'vc-lgn-repstab', 'project_description': 'vc-lgn-representational-stability'},\n",
    "        {'project': 'rsc-functop', 'project_description': 'rsc-functional-topography'},\n",
    "        {'project': 'rsc-hpc', 'project_description': 'rsc-hippocampal'},\n",
    "        {'project': 'sc-lgn-actvis', 'project_description': 'sc-lgn-active-vision'},\n",
    "        {'project': 'ATN', 'project_description': 'ATN-functional-characterization'},\n",
    "        {'project': 'rsc-latent', 'project_description': 'rsc-contextual-multimodal-latent-ss'},\n",
    "        {'project': 'dummy', 'project_description': 'dummy'}\n",
    "        ]\n",
    "project.insert(data, skip_duplicates=True) "
   ]
  },
  {
   "cell_type": "code",
   "execution_count": null,
   "id": "67c18474",
   "metadata": {},
   "outputs": [],
   "source": [
    "allprojects = project.fetch('project')\n",
    "\n",
    "# create a dropdown widget\n",
    "my_dropdown_projects = widgets.Dropdown(options=allprojects, value=allprojects[4], layout=widgets.Layout(width='300px'))\n",
    "\n",
    "# define a function to handle the dropdown selection\n",
    "\n",
    "print('Select project:')\n",
    "\n",
    "def on_dropdown_change(change):\n",
    "    if change['type'] == 'change' and change['name'] == 'value':\n",
    "        selected_project = change['new']\n",
    "        print(f\"You selected: {selected_project}\")\n",
    "\n",
    "# set the dropdown's event handler to our function\n",
    "my_dropdown_projects.observe(on_dropdown_change)\n",
    "\n",
    "# display the dropdown widget\n",
    "display(my_dropdown_projects)\n"
   ]
  },
  {
   "cell_type": "code",
   "execution_count": null,
   "id": "a770f8d9",
   "metadata": {},
   "outputs": [],
   "source": [
    "print(my_dropdown_equipment.value)\n",
    "print(my_dropdown_surgery.value)\n",
    "print(my_dropdown_projects.value)"
   ]
  },
  {
   "cell_type": "markdown",
   "id": "e03829fd",
   "metadata": {},
   "source": [
    "### Line/Mutation"
   ]
  },
  {
   "cell_type": "code",
   "execution_count": null,
   "id": "2bbe332a",
   "metadata": {},
   "outputs": [],
   "source": [
    "# POPULATED BY PYRAT INGEST\n",
    "\n",
    "line_id = 1  # Unique identifier for the line.\n",
    "line_name = 'Gcamp6-ThyC57BL/6J-Tg(Thy1-GCaMP6s)GP4.12Dkim/J'  # Description of the line.\n",
    "is_active = 1  # Whether or not the line is actively breeding.\n",
    "\n",
    "mutation_id = 2  # Unique identifier for the mutation.\n",
    "mutation_description = 'Tg(Thy1-GCaMP6s)GP4.12Dkim'  # A description of the mutation.\n",
    "\n",
    "line.insert1((line_id, line_name, is_active), skip_duplicates=True)\n",
    "mutation.insert1((line_id, mutation_id, mutation_description), skip_duplicates=True)"
   ]
  },
  {
   "cell_type": "markdown",
   "id": "d2c39382-e82f-4df8-aabe-ddf958b4d8d8",
   "metadata": {},
   "source": [
    "### Subject"
   ]
  },
  {
   "cell_type": "code",
   "execution_count": null,
   "id": "14797373-203a-44df-94bc-b153e3dca30c",
   "metadata": {},
   "outputs": [],
   "source": [
    "# POPULATED BY PYRAT INGEST\n",
    "\n",
    "# subject.Subject.delete()\n",
    "subject_id = 'Testmouse1'\n",
    "earmark = ''\n",
    "sex = 'F'\n",
    "birth_date = ''\n",
    "#subject_description = ''\n",
    "generation = ''\n",
    "parents = {}\n",
    "owner_id = 1\n",
    "responsible_id = 1\n",
    "line_id = 1\n",
    "protocol_key = 'LANUF3'\n",
    "\n",
    "sub.insert1((subject_id, earmark, sex, birth_date,  generation, \n",
    "             parents, owner_id, responsible_id, line_id, protocol_key))"
   ]
  },
  {
   "cell_type": "code",
   "execution_count": null,
   "id": "08edead7",
   "metadata": {},
   "outputs": [],
   "source": [
    "subject = 'WEZ-8701'\n",
    "earmark = ''\n",
    "sex = 'M'\n",
    "birth_date = ''\n",
    "# subject_description = ''\n",
    "generation = ''\n",
    "parents = ''\n",
    "owner_id = 1\n",
    "responsible_id = 1\n",
    "line_id = 100\n",
    "protocol_key = 'LANUF3'\n",
    "\n",
    "sub.insert1((subject, earmark, sex, birth_date, generation, \n",
    "             parents, owner_id, responsible_id, line_id, protocol_key))"
   ]
  },
  {
   "cell_type": "markdown",
   "id": "2cea0c11",
   "metadata": {},
   "source": [
    "### Subject Genotype"
   ]
  },
  {
   "cell_type": "code",
   "execution_count": null,
   "id": "1b9fc5dd",
   "metadata": {},
   "outputs": [],
   "source": [
    "# POPULATED BY PYRAT INGEST\n",
    "\n",
    "subject = 'WEZ-8701'\n",
    "line_id = 1\n",
    "mutation_id = 2  # Unique identifier for the mutation.\n",
    "genotype = 'wt/tg'  # The target phenotype of the line.\n",
    "\n",
    "subject_genotype.insert1((subject, line_id, mutation_id, genotype))"
   ]
  },
  {
   "cell_type": "code",
   "execution_count": null,
   "id": "073f5883",
   "metadata": {},
   "outputs": [],
   "source": [
    "project.describe()"
   ]
  },
  {
   "cell_type": "code",
   "execution_count": null,
   "id": "2bb1e2a3",
   "metadata": {},
   "outputs": [],
   "source": [
    "project.fetch()"
   ]
  },
  {
   "cell_type": "markdown",
   "id": "1d6cbc6b",
   "metadata": {},
   "source": [
    "### Subject Death"
   ]
  },
  {
   "cell_type": "code",
   "execution_count": null,
   "id": "364fd35e",
   "metadata": {},
   "outputs": [],
   "source": [
    "subject = 'WEZ-8701'\n",
    "death_date = '2010-12-01'\n",
    "case = 'natural'\n",
    "\n",
    "subject_death.insert1((subject, death_date, case))"
   ]
  },
  {
   "cell_type": "markdown",
   "id": "a5abac1e",
   "metadata": {},
   "source": [
    "## Fetch"
   ]
  },
  {
   "cell_type": "markdown",
   "id": "3a82ddb6-6ae4-4359-a896-b62ff80476e7",
   "metadata": {},
   "source": [
    "### As table"
   ]
  },
  {
   "cell_type": "code",
   "execution_count": null,
   "id": "02ca9d55-3b3d-410c-835d-77f94ca502fb",
   "metadata": {},
   "outputs": [],
   "source": [
    "user * lab"
   ]
  },
  {
   "cell_type": "code",
   "execution_count": null,
   "id": "477cf5c6",
   "metadata": {},
   "outputs": [],
   "source": [
    "sub"
   ]
  },
  {
   "cell_type": "code",
   "execution_count": null,
   "id": "49a8e847-17ab-40bf-be9a-4da99e7edff4",
   "metadata": {},
   "outputs": [],
   "source": [
    "line * subject_genotype"
   ]
  },
  {
   "cell_type": "code",
   "execution_count": null,
   "id": "fe28c77e-ae31-41a8-926c-fae0693d4c96",
   "metadata": {},
   "outputs": [],
   "source": [
    "subject_genotype"
   ]
  },
  {
   "cell_type": "markdown",
   "id": "0a544ab0-c987-45ca-8c55-e6b223233684",
   "metadata": {},
   "source": [
    "### As dictionary"
   ]
  },
  {
   "cell_type": "markdown",
   "id": "e61ee14c-69e4-4283-8c47-b99b994dff5f",
   "metadata": {},
   "source": [
    "One item:"
   ]
  },
  {
   "cell_type": "code",
   "execution_count": null,
   "id": "e9be8cc2-33c0-4b78-b6d4-2f1abca62420",
   "metadata": {},
   "outputs": [],
   "source": [
    "(sub & 'subject=\"WEZ-8701\"').fetch1()"
   ]
  },
  {
   "cell_type": "markdown",
   "id": "f334c381-2604-45ec-a56d-d0bde7187ed8",
   "metadata": {},
   "source": [
    "List of dictionaries:"
   ]
  },
  {
   "cell_type": "code",
   "execution_count": null,
   "id": "03a818a3-5a9d-4b43-a19f-b65197017b04",
   "metadata": {},
   "outputs": [],
   "source": [
    "(subject_genotype & 'subject=\"WEZ-8701\"').fetch(as_dict=True)"
   ]
  },
  {
   "cell_type": "code",
   "execution_count": null,
   "id": "04f659cd-c0c4-4663-8948-3591868e2765",
   "metadata": {},
   "outputs": [],
   "source": [
    "user"
   ]
  }
 ],
 "metadata": {
  "jupytext": {
   "formats": "ipynb,py"
  },
  "kernelspec": {
   "display_name": "Python 3 (ipykernel)",
   "language": "python",
   "name": "python3"
  },
  "language_info": {
   "codemirror_mode": {
    "name": "ipython",
    "version": 3
   },
   "file_extension": ".py",
   "mimetype": "text/x-python",
   "name": "python",
   "nbconvert_exporter": "python",
   "pygments_lexer": "ipython3",
   "version": "3.8.16"
  },
  "vscode": {
   "interpreter": {
    "hash": "2888206d04306eefe963095373d1dcce5cd11176f3d6ee4ec3f64dd9e65fd8a1"
   }
  }
 },
 "nbformat": 4,
 "nbformat_minor": 5
}
