{
 "cells": [
  {
   "cell_type": "markdown",
   "id": "7225c769",
   "metadata": {},
   "source": [
    "# Subject Related Data"
   ]
  },
  {
   "cell_type": "markdown",
   "id": "a2e9ad58-f51d-4a94-8fbd-43152bb01d06",
   "metadata": {},
   "source": [
    "`CB DEV NOTES`\n",
    "1. Some table structures and data types changed for pyrat ingestion\n",
    "2. The GUI didn't work for me. Maybe an error on my end."
   ]
  },
  {
   "cell_type": "markdown",
   "id": "beda62fc-e678-4b77-a454-f848aa68379e",
   "metadata": {},
   "source": [
    "## Login\n",
    "\n",
    "Either log in via a local config file (see [01_pipeline](./01_pipeline.ipynb)), or enter login information manually. If you are don't have your login information, contact the administrator.\n"
   ]
  },
  {
   "cell_type": "code",
   "execution_count": null,
   "id": "41084378-bf49-4b97-b3ea-900fb544d97c",
   "metadata": {},
   "outputs": [],
   "source": [
    "# Local Config\n",
    "import os\n",
    "if os.path.basename(os.getcwd())=='notebooks': os.chdir('..')\n",
    "assert os.path.basename(os.getcwd())=='adamacs', (\"Please move to the main directory\")\n",
    "import datajoint as dj; dj.conn()"
   ]
  },
  {
   "cell_type": "code",
   "execution_count": null,
   "id": "132cf444",
   "metadata": {},
   "outputs": [],
   "source": [
    "# Manual Entry\n",
    "import datajoint as dj; import getpass\n",
    "dj.config['database.host'] = '172.26.128.53'        # Put the server name between these apostrophe\n",
    "dj.config['database.user'] = 'danielmk'             # Put your user name between these apostrophe\n",
    "dj.config['database.password'] = getpass.getpass()  # Put your password in the prompt\n",
    "dj.conn()"
   ]
  },
  {
   "cell_type": "markdown",
   "id": "8e48c2ea-7f7a-430c-8dc3-89bb3ec8a705",
   "metadata": {},
   "source": [
    "## Activation\n",
    "Next, import from `adamacs.pipeline` to activate the relevant schema."
   ]
  },
  {
   "cell_type": "code",
   "execution_count": null,
   "id": "81b34218-7b80-4257-abd3-cf449c17c374",
   "metadata": {},
   "outputs": [],
   "source": [
    "# from adamacs.utility import *\n",
    "# from adamacs.nbgui import *\n",
    "from adamacs.pipeline import subject"
   ]
  },
  {
   "cell_type": "markdown",
   "id": "818496d9-0add-4557-a116-10156e995076",
   "metadata": {},
   "source": [
    "Assign easy names for relevant tables"
   ]
  },
  {
   "cell_type": "code",
   "execution_count": null,
   "id": "ae8a9093-a631-4fe5-bf66-6944ec5de1ce",
   "metadata": {},
   "outputs": [],
   "source": [
    "sub, lab, protocol, line, mutation, user, project, subject_genotype, subject_death = (\n",
    "    subject.Subject(), subject.Lab(), subject.Protocol(), subject.Line(), \n",
    "    subject.Mutation(), subject.User(), subject.Project(), subject.SubjectGenotype(), \n",
    "    subject.SubjectDeath()\n",
    "    )"
   ]
  },
  {
   "attachments": {},
   "cell_type": "markdown",
   "id": "7aa77e1a",
   "metadata": {},
   "source": [
    "## Entry via GUI\n",
    "(not implemented currently)"
   ]
  },
  {
   "cell_type": "code",
   "execution_count": null,
   "id": "0561d2fb",
   "metadata": {},
   "outputs": [],
   "source": [
    "# \"\"\"Run this cell to load the subject entry sheet.\"\"\"\n",
    "# mouse_gui = MouseEntrySheet()\n",
    "# mouse_gui.app"
   ]
  },
  {
   "cell_type": "markdown",
   "id": "883ef954",
   "metadata": {},
   "source": [
    "## Entry via `insert()`\n",
    "\n",
    "### **WARNING** \n",
    "Only run these manual entry cells if you know what you are doing!\n",
    "\n",
    "Strings for these values may be edited to insert single rows into corresponding tables.\n",
    "\n",
    "### Lab"
   ]
  },
  {
   "cell_type": "code",
   "execution_count": null,
   "id": "b03e1536",
   "metadata": {},
   "outputs": [],
   "source": [
    "lab_key = 'Rose'  # Short, unique identifier for the lab. Maximum 8 characters. Example: 'Rose'.\n",
    "lab_name = 'Circut Mechanisms of Behavior'  # A longer, more descriptive name for the laboratory.\n",
    "institution = 'Institute for Experimental Epileptology and Cognition Research (IEECR)'  # The institution the laboratory belongs to.\n",
    "address = 'Venusberg-Campus 1, 53127 Bonn'  # The postal address of the laboratory.\n",
    "\n",
    "lab.insert1((lab_key, lab_name, institution, address))"
   ]
  },
  {
   "cell_type": "code",
   "execution_count": 19,
   "id": "8417162b",
   "metadata": {},
   "outputs": [
    {
     "data": {
      "text/html": [
       "\n",
       "    \n",
       "    <style type=\"text/css\">\n",
       "        .Relation{\n",
       "            border-collapse:collapse;\n",
       "        }\n",
       "        .Relation th{\n",
       "            background: #A0A0A0; color: #ffffff; padding:4px; border:#f0e0e0 1px solid;\n",
       "            font-weight: normal; font-family: monospace; font-size: 100%;\n",
       "        }\n",
       "        .Relation td{\n",
       "            padding:4px; border:#f0e0e0 1px solid; font-size:100%;\n",
       "        }\n",
       "        .Relation tr:nth-child(odd){\n",
       "            background: #ffffff;\n",
       "        }\n",
       "        .Relation tr:nth-child(even){\n",
       "            background: #f3f1ff;\n",
       "        }\n",
       "        /* Tooltip container */\n",
       "        .djtooltip {\n",
       "        }\n",
       "        /* Tooltip text */\n",
       "        .djtooltip .djtooltiptext {\n",
       "            visibility: hidden;\n",
       "            width: 120px;\n",
       "            background-color: black;\n",
       "            color: #fff;\n",
       "            text-align: center;\n",
       "            padding: 5px 0;\n",
       "            border-radius: 6px;\n",
       "            /* Position the tooltip text - see examples below! */\n",
       "            position: absolute;\n",
       "            z-index: 1;\n",
       "        }\n",
       "        #primary {\n",
       "            font-weight: bold;\n",
       "            color: black;\n",
       "        }\n",
       "        #nonprimary {\n",
       "            font-weight: normal;\n",
       "            color: white;\n",
       "        }\n",
       "\n",
       "        /* Show the tooltip text when you mouse over the tooltip container */\n",
       "        .djtooltip:hover .djtooltiptext {\n",
       "            visibility: visible;\n",
       "        }\n",
       "    </style>\n",
       "    \n",
       "    <b></b>\n",
       "        <div style=\"max-height:1000px;max-width:1500px;overflow:auto;\">\n",
       "        <table border=\"1\" class=\"Relation\">\n",
       "            <thead> <tr style=\"text-align: right;\"> <th> <div class=\"djtooltip\">\n",
       "                            <p id=\"primary\">lab</p>\n",
       "                            <span class=\"djtooltiptext\">short lab name, pyrat labid</span>\n",
       "                        </div></th><th><div class=\"djtooltip\">\n",
       "                            <p id=\"nonprimary\">lab_name</p>\n",
       "                            <span class=\"djtooltiptext\"></span>\n",
       "                        </div></th><th><div class=\"djtooltip\">\n",
       "                            <p id=\"nonprimary\">institution</p>\n",
       "                            <span class=\"djtooltiptext\"></span>\n",
       "                        </div></th><th><div class=\"djtooltip\">\n",
       "                            <p id=\"nonprimary\">address</p>\n",
       "                            <span class=\"djtooltiptext\"></span>\n",
       "                        </div> </th> </tr> </thead>\n",
       "            <tbody> <tr> <td>Rose</td>\n",
       "<td>Circut Mechanisms of Behavior</td>\n",
       "<td>Institute for Experimental Epileptology and Cognition Research (IEECR)</td>\n",
       "<td>Venusberg-Campus 1, 53127 Bonn</td> </tr> </tbody>\n",
       "        </table>\n",
       "        \n",
       "        <p>Total: 1</p></div>\n",
       "        "
      ],
      "text/plain": [
       "*lab     lab_name       institution    address       \n",
       "+------+ +------------+ +------------+ +------------+\n",
       "Rose     Circut Mechani Institute for  Venusberg-Camp\n",
       " (Total: 1)"
      ]
     },
     "execution_count": 19,
     "metadata": {},
     "output_type": "execute_result"
    }
   ],
   "source": [
    "lab"
   ]
  },
  {
   "cell_type": "markdown",
   "id": "bcab35a7",
   "metadata": {},
   "source": [
    "### Protocol"
   ]
  },
  {
   "cell_type": "code",
   "execution_count": null,
   "id": "352ef703",
   "metadata": {},
   "outputs": [],
   "source": [
    "protocol_key = 'LANUF3'  # Short, unique identifier for the protocol. Maximum 16 characters.\n",
    "protocol_description = 'Another dummy protocol ID for testing purposes'  # Description of the protocol.\n",
    "\n",
    "protocol.insert1((protocol_key, protocol_description))"
   ]
  },
  {
   "cell_type": "code",
   "execution_count": 21,
   "id": "4598c8a4",
   "metadata": {},
   "outputs": [
    {
     "data": {
      "text/html": [
       "\n",
       "    \n",
       "    <style type=\"text/css\">\n",
       "        .Relation{\n",
       "            border-collapse:collapse;\n",
       "        }\n",
       "        .Relation th{\n",
       "            background: #A0A0A0; color: #ffffff; padding:4px; border:#f0e0e0 1px solid;\n",
       "            font-weight: normal; font-family: monospace; font-size: 100%;\n",
       "        }\n",
       "        .Relation td{\n",
       "            padding:4px; border:#f0e0e0 1px solid; font-size:100%;\n",
       "        }\n",
       "        .Relation tr:nth-child(odd){\n",
       "            background: #ffffff;\n",
       "        }\n",
       "        .Relation tr:nth-child(even){\n",
       "            background: #f3f1ff;\n",
       "        }\n",
       "        /* Tooltip container */\n",
       "        .djtooltip {\n",
       "        }\n",
       "        /* Tooltip text */\n",
       "        .djtooltip .djtooltiptext {\n",
       "            visibility: hidden;\n",
       "            width: 120px;\n",
       "            background-color: black;\n",
       "            color: #fff;\n",
       "            text-align: center;\n",
       "            padding: 5px 0;\n",
       "            border-radius: 6px;\n",
       "            /* Position the tooltip text - see examples below! */\n",
       "            position: absolute;\n",
       "            z-index: 1;\n",
       "        }\n",
       "        #primary {\n",
       "            font-weight: bold;\n",
       "            color: black;\n",
       "        }\n",
       "        #nonprimary {\n",
       "            font-weight: normal;\n",
       "            color: white;\n",
       "        }\n",
       "\n",
       "        /* Show the tooltip text when you mouse over the tooltip container */\n",
       "        .djtooltip:hover .djtooltiptext {\n",
       "            visibility: visible;\n",
       "        }\n",
       "    </style>\n",
       "    \n",
       "    <b>PyRAT licence number and title</b>\n",
       "        <div style=\"max-height:1000px;max-width:1500px;overflow:auto;\">\n",
       "        <table border=\"1\" class=\"Relation\">\n",
       "            <thead> <tr style=\"text-align: right;\"> <th> <div class=\"djtooltip\">\n",
       "                            <p id=\"primary\">protocol</p>\n",
       "                            <span class=\"djtooltiptext\"></span>\n",
       "                        </div></th><th><div class=\"djtooltip\">\n",
       "                            <p id=\"nonprimary\">protocol_description</p>\n",
       "                            <span class=\"djtooltiptext\"></span>\n",
       "                        </div> </th> </tr> </thead>\n",
       "            <tbody> <tr> <td>02_Zucht</td>\n",
       "<td>Zucht</td></tr><tr><td>LANUF3</td>\n",
       "<td>Another dummy protocol ID for testing purposes</td> </tr> </tbody>\n",
       "        </table>\n",
       "        \n",
       "        <p>Total: 2</p></div>\n",
       "        "
      ],
      "text/plain": [
       "*protocol    protocol_descr\n",
       "+----------+ +------------+\n",
       "02_Zucht     Zucht         \n",
       "LANUF3       Another dummy \n",
       " (Total: 2)"
      ]
     },
     "execution_count": 21,
     "metadata": {},
     "output_type": "execute_result"
    }
   ],
   "source": [
    "protocol"
   ]
  },
  {
   "cell_type": "markdown",
   "id": "94e97132-3c99-4cd0-9ef9-4dd5fdd105ad",
   "metadata": {},
   "source": [
    "### User Entry"
   ]
  },
  {
   "cell_type": "code",
   "execution_count": null,
   "id": "14933f75",
   "metadata": {},
   "outputs": [],
   "source": [
    "# insert multiple entries\n",
    "# subject.User.delete()\n",
    "data = [{'user_id': 1, 'name': 'natashak', 'lab': 'Rose'},\n",
    "        {'user_id': 2, 'name': 'tobiasr', 'lab': 'Rose'},\n",
    "        {'user_id': 3, 'name': 'kevinl', 'lab': 'Rose'},\n",
    "        {'user_id': 4, 'name': 'danielb', 'lab': 'Rose'},\n",
    "        {'user_id': 5, 'name': 'leonk', 'lab': 'Rose'},\n",
    "        {'user_id': 6, 'name': 'laurak', 'lab': 'Rose'},\n",
    "        {'user_id': 7, 'name': 'rukhun', 'lab': 'Rose'},\n",
    "        {'user_id': 8, 'name': 'jisooj', 'lab': 'Rose'}]\n",
    "user.insert(data)"
   ]
  },
  {
   "cell_type": "code",
   "execution_count": 20,
   "id": "8c811984",
   "metadata": {},
   "outputs": [
    {
     "data": {
      "text/html": [
       "\n",
       "    \n",
       "    <style type=\"text/css\">\n",
       "        .Relation{\n",
       "            border-collapse:collapse;\n",
       "        }\n",
       "        .Relation th{\n",
       "            background: #A0A0A0; color: #ffffff; padding:4px; border:#f0e0e0 1px solid;\n",
       "            font-weight: normal; font-family: monospace; font-size: 100%;\n",
       "        }\n",
       "        .Relation td{\n",
       "            padding:4px; border:#f0e0e0 1px solid; font-size:100%;\n",
       "        }\n",
       "        .Relation tr:nth-child(odd){\n",
       "            background: #ffffff;\n",
       "        }\n",
       "        .Relation tr:nth-child(even){\n",
       "            background: #f3f1ff;\n",
       "        }\n",
       "        /* Tooltip container */\n",
       "        .djtooltip {\n",
       "        }\n",
       "        /* Tooltip text */\n",
       "        .djtooltip .djtooltiptext {\n",
       "            visibility: hidden;\n",
       "            width: 120px;\n",
       "            background-color: black;\n",
       "            color: #fff;\n",
       "            text-align: center;\n",
       "            padding: 5px 0;\n",
       "            border-radius: 6px;\n",
       "            /* Position the tooltip text - see examples below! */\n",
       "            position: absolute;\n",
       "            z-index: 1;\n",
       "        }\n",
       "        #primary {\n",
       "            font-weight: bold;\n",
       "            color: black;\n",
       "        }\n",
       "        #nonprimary {\n",
       "            font-weight: normal;\n",
       "            color: white;\n",
       "        }\n",
       "\n",
       "        /* Show the tooltip text when you mouse over the tooltip container */\n",
       "        .djtooltip:hover .djtooltiptext {\n",
       "            visibility: visible;\n",
       "        }\n",
       "    </style>\n",
       "    \n",
       "    <b></b>\n",
       "        <div style=\"max-height:1000px;max-width:1500px;overflow:auto;\">\n",
       "        <table border=\"1\" class=\"Relation\">\n",
       "            <thead> <tr style=\"text-align: right;\"> <th> <div class=\"djtooltip\">\n",
       "                            <p id=\"primary\">user_id</p>\n",
       "                            <span class=\"djtooltiptext\"></span>\n",
       "                        </div></th><th><div class=\"djtooltip\">\n",
       "                            <p id=\"nonprimary\">name</p>\n",
       "                            <span class=\"djtooltiptext\"></span>\n",
       "                        </div></th><th><div class=\"djtooltip\">\n",
       "                            <p id=\"nonprimary\">lab</p>\n",
       "                            <span class=\"djtooltiptext\">short lab name, pyrat labid</span>\n",
       "                        </div> </th> </tr> </thead>\n",
       "            <tbody> <tr> <td>1</td>\n",
       "<td>natashak</td>\n",
       "<td>Rose</td></tr><tr><td>2</td>\n",
       "<td>tobiasr</td>\n",
       "<td>Rose</td></tr><tr><td>3</td>\n",
       "<td>kevinl</td>\n",
       "<td>Rose</td></tr><tr><td>4</td>\n",
       "<td>danielb</td>\n",
       "<td>Rose</td></tr><tr><td>5</td>\n",
       "<td>leonk</td>\n",
       "<td>Rose</td></tr><tr><td>6</td>\n",
       "<td>laurak</td>\n",
       "<td>Rose</td></tr><tr><td>7</td>\n",
       "<td>rukhun</td>\n",
       "<td>Rose</td></tr><tr><td>8</td>\n",
       "<td>jisooj</td>\n",
       "<td>Rose</td> </tr> </tbody>\n",
       "        </table>\n",
       "        \n",
       "        <p>Total: 8</p></div>\n",
       "        "
      ],
      "text/plain": [
       "*user_id    name         lab     \n",
       "+---------+ +----------+ +------+\n",
       "1           natashak     Rose    \n",
       "2           tobiasr      Rose    \n",
       "3           kevinl       Rose    \n",
       "4           danielb      Rose    \n",
       "5           leonk        Rose    \n",
       "6           laurak       Rose    \n",
       "7           rukhun       Rose    \n",
       "8           jisooj       Rose    \n",
       " (Total: 8)"
      ]
     },
     "execution_count": 20,
     "metadata": {},
     "output_type": "execute_result"
    }
   ],
   "source": [
    "user"
   ]
  },
  {
   "cell_type": "markdown",
   "id": "e03829fd",
   "metadata": {},
   "source": [
    "### Line/Mutation"
   ]
  },
  {
   "cell_type": "code",
   "execution_count": 23,
   "id": "2bbe332a",
   "metadata": {},
   "outputs": [],
   "source": [
    "line_id = 1  # Unique identifier for the line.\n",
    "line_name = 'Gcamp6-ThyC57BL/6J-Tg(Thy1-GCaMP6s)GP4.12Dkim/J'  # Description of the line.\n",
    "is_active = 1  # Whether or not the line is actively breeding.\n",
    "\n",
    "mutation_id = 2  # Unique identifier for the mutation.\n",
    "mutation_description = 'Tg(Thy1-GCaMP6s)GP4.12Dkim'  # A description of the mutation.\n",
    "\n",
    "line.insert1((line_id, line_name, is_active))\n",
    "mutation.insert1((line_id, mutation_id, mutation_description))"
   ]
  },
  {
   "cell_type": "code",
   "execution_count": 24,
   "id": "9dca7700",
   "metadata": {},
   "outputs": [
    {
     "data": {
      "text/html": [
       "\n",
       "    \n",
       "    <style type=\"text/css\">\n",
       "        .Relation{\n",
       "            border-collapse:collapse;\n",
       "        }\n",
       "        .Relation th{\n",
       "            background: #A0A0A0; color: #ffffff; padding:4px; border:#f0e0e0 1px solid;\n",
       "            font-weight: normal; font-family: monospace; font-size: 100%;\n",
       "        }\n",
       "        .Relation td{\n",
       "            padding:4px; border:#f0e0e0 1px solid; font-size:100%;\n",
       "        }\n",
       "        .Relation tr:nth-child(odd){\n",
       "            background: #ffffff;\n",
       "        }\n",
       "        .Relation tr:nth-child(even){\n",
       "            background: #f3f1ff;\n",
       "        }\n",
       "        /* Tooltip container */\n",
       "        .djtooltip {\n",
       "        }\n",
       "        /* Tooltip text */\n",
       "        .djtooltip .djtooltiptext {\n",
       "            visibility: hidden;\n",
       "            width: 120px;\n",
       "            background-color: black;\n",
       "            color: #fff;\n",
       "            text-align: center;\n",
       "            padding: 5px 0;\n",
       "            border-radius: 6px;\n",
       "            /* Position the tooltip text - see examples below! */\n",
       "            position: absolute;\n",
       "            z-index: 1;\n",
       "        }\n",
       "        #primary {\n",
       "            font-weight: bold;\n",
       "            color: black;\n",
       "        }\n",
       "        #nonprimary {\n",
       "            font-weight: normal;\n",
       "            color: white;\n",
       "        }\n",
       "\n",
       "        /* Show the tooltip text when you mouse over the tooltip container */\n",
       "        .djtooltip:hover .djtooltiptext {\n",
       "            visibility: visible;\n",
       "        }\n",
       "    </style>\n",
       "    \n",
       "    <b>animal line</b>\n",
       "        <div style=\"max-height:1000px;max-width:1500px;overflow:auto;\">\n",
       "        <table border=\"1\" class=\"Relation\">\n",
       "            <thead> <tr style=\"text-align: right;\"> <th> <div class=\"djtooltip\">\n",
       "                            <p id=\"primary\">line</p>\n",
       "                            <span class=\"djtooltiptext\">strain_id within PyRAT. Not name_id seen in GUI</span>\n",
       "                        </div></th><th><div class=\"djtooltip\">\n",
       "                            <p id=\"nonprimary\">line_name</p>\n",
       "                            <span class=\"djtooltiptext\"></span>\n",
       "                        </div></th><th><div class=\"djtooltip\">\n",
       "                            <p id=\"nonprimary\">is_active</p>\n",
       "                            <span class=\"djtooltiptext\">TODO BUGFIX expects float for unknown reason</span>\n",
       "                        </div> </th> </tr> </thead>\n",
       "            <tbody> <tr> <td>1</td>\n",
       "<td>Gcamp6-ThyC57BL/6J-Tg(Thy1-GCaMP6s)GP4.12Dkim/J</td>\n",
       "<td>active</td></tr><tr><td>376</td>\n",
       "<td>Gcamp6-Thy</td>\n",
       "<td>active</td> </tr> </tbody>\n",
       "        </table>\n",
       "        \n",
       "        <p>Total: 2</p></div>\n",
       "        "
      ],
      "text/plain": [
       "*line    line_name      is_active    \n",
       "+------+ +------------+ +-----------+\n",
       "1        Gcamp6-ThyC57B active       \n",
       "376      Gcamp6-Thy     active       \n",
       " (Total: 2)"
      ]
     },
     "execution_count": 24,
     "metadata": {},
     "output_type": "execute_result"
    }
   ],
   "source": [
    "line"
   ]
  },
  {
   "cell_type": "markdown",
   "id": "d2c39382-e82f-4df8-aabe-ddf958b4d8d8",
   "metadata": {},
   "source": [
    "### Subject"
   ]
  },
  {
   "cell_type": "code",
   "execution_count": 36,
   "id": "14797373-203a-44df-94bc-b153e3dca30c",
   "metadata": {},
   "outputs": [],
   "source": [
    "# subject.Subject.delete()\n",
    "subject_id = 'Testmouse1'\n",
    "earmark = ''\n",
    "sex = 'F'\n",
    "birth_date = ''\n",
    "#subject_description = ''\n",
    "generation = ''\n",
    "parents = {}\n",
    "owner_id = 1\n",
    "responsible_id = 1\n",
    "line_id = 1\n",
    "protocol_key = 'LANUF3'\n",
    "\n",
    "sub.insert1((subject_id, earmark, sex, birth_date,  generation, \n",
    "             parents, owner_id, responsible_id, line_id, protocol_key))"
   ]
  },
  {
   "cell_type": "code",
   "execution_count": 37,
   "id": "c381fc53",
   "metadata": {},
   "outputs": [
    {
     "data": {
      "text/html": [
       "\n",
       "    \n",
       "    <style type=\"text/css\">\n",
       "        .Relation{\n",
       "            border-collapse:collapse;\n",
       "        }\n",
       "        .Relation th{\n",
       "            background: #A0A0A0; color: #ffffff; padding:4px; border:#f0e0e0 1px solid;\n",
       "            font-weight: normal; font-family: monospace; font-size: 100%;\n",
       "        }\n",
       "        .Relation td{\n",
       "            padding:4px; border:#f0e0e0 1px solid; font-size:100%;\n",
       "        }\n",
       "        .Relation tr:nth-child(odd){\n",
       "            background: #ffffff;\n",
       "        }\n",
       "        .Relation tr:nth-child(even){\n",
       "            background: #f3f1ff;\n",
       "        }\n",
       "        /* Tooltip container */\n",
       "        .djtooltip {\n",
       "        }\n",
       "        /* Tooltip text */\n",
       "        .djtooltip .djtooltiptext {\n",
       "            visibility: hidden;\n",
       "            width: 120px;\n",
       "            background-color: black;\n",
       "            color: #fff;\n",
       "            text-align: center;\n",
       "            padding: 5px 0;\n",
       "            border-radius: 6px;\n",
       "            /* Position the tooltip text - see examples below! */\n",
       "            position: absolute;\n",
       "            z-index: 1;\n",
       "        }\n",
       "        #primary {\n",
       "            font-weight: bold;\n",
       "            color: black;\n",
       "        }\n",
       "        #nonprimary {\n",
       "            font-weight: normal;\n",
       "            color: white;\n",
       "        }\n",
       "\n",
       "        /* Show the tooltip text when you mouse over the tooltip container */\n",
       "        .djtooltip:hover .djtooltiptext {\n",
       "            visibility: visible;\n",
       "        }\n",
       "    </style>\n",
       "    \n",
       "    <b>Animal Subject</b>\n",
       "        <div style=\"max-height:1000px;max-width:1500px;overflow:auto;\">\n",
       "        <table border=\"1\" class=\"Relation\">\n",
       "            <thead> <tr style=\"text-align: right;\"> <th> <div class=\"djtooltip\">\n",
       "                            <p id=\"primary\">subject</p>\n",
       "                            <span class=\"djtooltiptext\">PyRat import uses this for earmark value</span>\n",
       "                        </div></th><th><div class=\"djtooltip\">\n",
       "                            <p id=\"nonprimary\">earmark</p>\n",
       "                            <span class=\"djtooltiptext\"></span>\n",
       "                        </div></th><th><div class=\"djtooltip\">\n",
       "                            <p id=\"nonprimary\">sex</p>\n",
       "                            <span class=\"djtooltiptext\">Geschlecht</span>\n",
       "                        </div></th><th><div class=\"djtooltip\">\n",
       "                            <p id=\"nonprimary\">birth_date</p>\n",
       "                            <span class=\"djtooltiptext\">Geb.</span>\n",
       "                        </div></th><th><div class=\"djtooltip\">\n",
       "                            <p id=\"nonprimary\">generation</p>\n",
       "                            <span class=\"djtooltiptext\">Generation (F2 in example sheet)</span>\n",
       "                        </div></th><th><div class=\"djtooltip\">\n",
       "                            <p id=\"nonprimary\">parent_ids</p>\n",
       "                            <span class=\"djtooltiptext\">dict of parent_sex: parent_eartag</span>\n",
       "                        </div></th><th><div class=\"djtooltip\">\n",
       "                            <p id=\"nonprimary\">owner_id</p>\n",
       "                            <span class=\"djtooltiptext\"></span>\n",
       "                        </div></th><th><div class=\"djtooltip\">\n",
       "                            <p id=\"nonprimary\">responsible_id</p>\n",
       "                            <span class=\"djtooltiptext\"></span>\n",
       "                        </div></th><th><div class=\"djtooltip\">\n",
       "                            <p id=\"nonprimary\">line</p>\n",
       "                            <span class=\"djtooltiptext\">strain_id within PyRAT. Not name_id seen in GUI</span>\n",
       "                        </div></th><th><div class=\"djtooltip\">\n",
       "                            <p id=\"nonprimary\">protocol</p>\n",
       "                            <span class=\"djtooltiptext\"></span>\n",
       "                        </div> </th> </tr> </thead>\n",
       "            <tbody> <tr> <td>Testmouse1</td>\n",
       "<td></td>\n",
       "<td>F</td>\n",
       "<td></td>\n",
       "<td></td>\n",
       "<td>=BLOB=</td>\n",
       "<td>1</td>\n",
       "<td>1</td>\n",
       "<td>1</td>\n",
       "<td>LANUF3</td> </tr> </tbody>\n",
       "        </table>\n",
       "        \n",
       "        <p>Total: 1</p></div>\n",
       "        "
      ],
      "text/plain": [
       "*subject       earmark     sex     birth_date     generation     parent_ids owner_id     responsible_id line     protocol    \n",
       "+------------+ +---------+ +-----+ +------------+ +------------+ +--------+ +----------+ +------------+ +------+ +----------+\n",
       "Testmouse1                 F                                     =BLOB=     1            1              1        LANUF3      \n",
       " (Total: 1)"
      ]
     },
     "execution_count": 37,
     "metadata": {},
     "output_type": "execute_result"
    }
   ],
   "source": [
    "sub"
   ]
  },
  {
   "cell_type": "code",
   "execution_count": 39,
   "id": "08edead7",
   "metadata": {},
   "outputs": [
    {
     "ename": "DataJointError",
     "evalue": "Invalid insert argument. Incorrect number of attributes: 11 given; 10 expected",
     "output_type": "error",
     "traceback": [
      "\u001b[0;31m---------------------------------------------------------------------------\u001b[0m",
      "\u001b[0;31mDataJointError\u001b[0m                            Traceback (most recent call last)",
      "Cell \u001b[0;32mIn [39], line 13\u001b[0m\n\u001b[1;32m     10\u001b[0m line_id \u001b[39m=\u001b[39m \u001b[39m1\u001b[39m\n\u001b[1;32m     11\u001b[0m protocol_key \u001b[39m=\u001b[39m \u001b[39m'\u001b[39m\u001b[39mLANUF3\u001b[39m\u001b[39m'\u001b[39m\n\u001b[0;32m---> 13\u001b[0m sub\u001b[39m.\u001b[39;49minsert1((subject_id, earmark, sex, birth_date, subject_description, generation, \n\u001b[1;32m     14\u001b[0m              parents, owner_id, responsible_id, line_id, protocol_key))\n",
      "File \u001b[0;32m~/opt/miniconda3/envs/datajoint/lib/python3.8/site-packages/datajoint/table.py:334\u001b[0m, in \u001b[0;36mTable.insert1\u001b[0;34m(self, row, **kwargs)\u001b[0m\n\u001b[1;32m    327\u001b[0m \u001b[39mdef\u001b[39;00m \u001b[39minsert1\u001b[39m(\u001b[39mself\u001b[39m, row, \u001b[39m*\u001b[39m\u001b[39m*\u001b[39mkwargs):\n\u001b[1;32m    328\u001b[0m     \u001b[39m\"\"\"\u001b[39;00m\n\u001b[1;32m    329\u001b[0m \u001b[39m    Insert one data record into the table. For ``kwargs``, see ``insert()``.\u001b[39;00m\n\u001b[1;32m    330\u001b[0m \n\u001b[1;32m    331\u001b[0m \u001b[39m    :param row: a numpy record, a dict-like object, or an ordered sequence to be inserted\u001b[39;00m\n\u001b[1;32m    332\u001b[0m \u001b[39m        as one row.\u001b[39;00m\n\u001b[1;32m    333\u001b[0m \u001b[39m    \"\"\"\u001b[39;00m\n\u001b[0;32m--> 334\u001b[0m     \u001b[39mself\u001b[39;49m\u001b[39m.\u001b[39;49minsert((row,), \u001b[39m*\u001b[39;49m\u001b[39m*\u001b[39;49mkwargs)\n",
      "File \u001b[0;32m~/opt/miniconda3/envs/datajoint/lib/python3.8/site-packages/datajoint/table.py:409\u001b[0m, in \u001b[0;36mTable.insert\u001b[0;34m(self, rows, replace, skip_duplicates, ignore_extra_fields, allow_direct_insert)\u001b[0m\n\u001b[1;32m    406\u001b[0m     \u001b[39mreturn\u001b[39;00m\n\u001b[1;32m    408\u001b[0m field_list \u001b[39m=\u001b[39m []  \u001b[39m# collects the field list from first row (passed by reference)\u001b[39;00m\n\u001b[0;32m--> 409\u001b[0m rows \u001b[39m=\u001b[39m \u001b[39mlist\u001b[39;49m(\n\u001b[1;32m    410\u001b[0m     \u001b[39mself\u001b[39;49m\u001b[39m.\u001b[39;49m__make_row_to_insert(row, field_list, ignore_extra_fields)\n\u001b[1;32m    411\u001b[0m     \u001b[39mfor\u001b[39;49;00m row \u001b[39min\u001b[39;49;00m rows\n\u001b[1;32m    412\u001b[0m )\n\u001b[1;32m    413\u001b[0m \u001b[39mif\u001b[39;00m rows:\n\u001b[1;32m    414\u001b[0m     \u001b[39mtry\u001b[39;00m:\n",
      "File \u001b[0;32m~/opt/miniconda3/envs/datajoint/lib/python3.8/site-packages/datajoint/table.py:410\u001b[0m, in \u001b[0;36m<genexpr>\u001b[0;34m(.0)\u001b[0m\n\u001b[1;32m    406\u001b[0m     \u001b[39mreturn\u001b[39;00m\n\u001b[1;32m    408\u001b[0m field_list \u001b[39m=\u001b[39m []  \u001b[39m# collects the field list from first row (passed by reference)\u001b[39;00m\n\u001b[1;32m    409\u001b[0m rows \u001b[39m=\u001b[39m \u001b[39mlist\u001b[39m(\n\u001b[0;32m--> 410\u001b[0m     \u001b[39mself\u001b[39;49m\u001b[39m.\u001b[39;49m__make_row_to_insert(row, field_list, ignore_extra_fields)\n\u001b[1;32m    411\u001b[0m     \u001b[39mfor\u001b[39;00m row \u001b[39min\u001b[39;00m rows\n\u001b[1;32m    412\u001b[0m )\n\u001b[1;32m    413\u001b[0m \u001b[39mif\u001b[39;00m rows:\n\u001b[1;32m    414\u001b[0m     \u001b[39mtry\u001b[39;00m:\n",
      "File \u001b[0;32m~/opt/miniconda3/envs/datajoint/lib/python3.8/site-packages/datajoint/table.py:904\u001b[0m, in \u001b[0;36mTable.__make_row_to_insert\u001b[0;34m(self, row, field_list, ignore_extra_fields)\u001b[0m\n\u001b[1;32m    902\u001b[0m \u001b[39mtry\u001b[39;00m:\n\u001b[1;32m    903\u001b[0m     \u001b[39mif\u001b[39;00m \u001b[39mlen\u001b[39m(row) \u001b[39m!=\u001b[39m \u001b[39mlen\u001b[39m(\u001b[39mself\u001b[39m\u001b[39m.\u001b[39mheading):\n\u001b[0;32m--> 904\u001b[0m         \u001b[39mraise\u001b[39;00m DataJointError(\n\u001b[1;32m    905\u001b[0m             \u001b[39m\"\u001b[39m\u001b[39mInvalid insert argument. Incorrect number of attributes: \u001b[39m\u001b[39m\"\u001b[39m\n\u001b[1;32m    906\u001b[0m             \u001b[39m\"\u001b[39m\u001b[39m{given}\u001b[39;00m\u001b[39m given; \u001b[39m\u001b[39m{expected}\u001b[39;00m\u001b[39m expected\u001b[39m\u001b[39m\"\u001b[39m\u001b[39m.\u001b[39mformat(\n\u001b[1;32m    907\u001b[0m                 given\u001b[39m=\u001b[39m\u001b[39mlen\u001b[39m(row), expected\u001b[39m=\u001b[39m\u001b[39mlen\u001b[39m(\u001b[39mself\u001b[39m\u001b[39m.\u001b[39mheading)\n\u001b[1;32m    908\u001b[0m             )\n\u001b[1;32m    909\u001b[0m         )\n\u001b[1;32m    910\u001b[0m \u001b[39mexcept\u001b[39;00m \u001b[39mTypeError\u001b[39;00m:\n\u001b[1;32m    911\u001b[0m     \u001b[39mraise\u001b[39;00m DataJointError(\u001b[39m\"\u001b[39m\u001b[39mDatatype \u001b[39m\u001b[39m%s\u001b[39;00m\u001b[39m cannot be inserted\u001b[39m\u001b[39m\"\u001b[39m \u001b[39m%\u001b[39m \u001b[39mtype\u001b[39m(row))\n",
      "\u001b[0;31mDataJointError\u001b[0m: Invalid insert argument. Incorrect number of attributes: 11 given; 10 expected"
     ]
    }
   ],
   "source": [
    "subject_id = 'WEZ-8701'\n",
    "earmark = ''\n",
    "sex = 'M'\n",
    "birth_date = ''\n",
    "# subject_description = ''\n",
    "generation = ''\n",
    "parents = ''\n",
    "owner_id = 2\n",
    "responsible_id = 2\n",
    "line_id = 1\n",
    "protocol_key = 'LANUF3'\n",
    "\n",
    "sub.insert1((subject_id, earmark, sex, birth_date,  generation, \n",
    "             parents, owner_id, responsible_id, line_id, protocol_key))"
   ]
  },
  {
   "cell_type": "markdown",
   "id": "2cea0c11",
   "metadata": {},
   "source": [
    "### Subject Genotype"
   ]
  },
  {
   "cell_type": "code",
   "execution_count": null,
   "id": "1b9fc5dd",
   "metadata": {},
   "outputs": [],
   "source": [
    "subject = 'WEZ-8701'\n",
    "line_id = 1\n",
    "mutation_id = 2  # Unique identifier for the mutation.\n",
    "genotype = 'wt/tg'  # The target phenotype of the line.\n",
    "\n",
    "subject_genotype.insert1((subject, line_id, mutation_id, genotype))"
   ]
  },
  {
   "cell_type": "markdown",
   "id": "40f6f927",
   "metadata": {},
   "source": [
    "### Project Entry"
   ]
  },
  {
   "cell_type": "code",
   "execution_count": null,
   "id": "c1c00646",
   "metadata": {},
   "outputs": [],
   "source": [
    "project_key = 'TEC'\n",
    "project_description = 'Trace Eyeblink Conditioning'\n",
    "\n",
    "project.insert1((project_key, project_description))"
   ]
  },
  {
   "cell_type": "markdown",
   "id": "1d6cbc6b",
   "metadata": {},
   "source": [
    "### Subject Death"
   ]
  },
  {
   "cell_type": "code",
   "execution_count": null,
   "id": "364fd35e",
   "metadata": {},
   "outputs": [],
   "source": [
    "subject = 'WEZ-8701'\n",
    "death_date = '2010-12-01'\n",
    "case = 'natural'\n",
    "\n",
    "subject_death.insert1((subject, death_date, case))"
   ]
  },
  {
   "cell_type": "markdown",
   "id": "a5abac1e",
   "metadata": {},
   "source": [
    "## Fetch"
   ]
  },
  {
   "cell_type": "markdown",
   "id": "3a82ddb6-6ae4-4359-a896-b62ff80476e7",
   "metadata": {},
   "source": [
    "### As table"
   ]
  },
  {
   "cell_type": "code",
   "execution_count": null,
   "id": "02ca9d55-3b3d-410c-835d-77f94ca502fb",
   "metadata": {},
   "outputs": [],
   "source": [
    "user * lab"
   ]
  },
  {
   "cell_type": "code",
   "execution_count": null,
   "id": "477cf5c6",
   "metadata": {},
   "outputs": [],
   "source": [
    "sub"
   ]
  },
  {
   "cell_type": "code",
   "execution_count": null,
   "id": "49a8e847-17ab-40bf-be9a-4da99e7edff4",
   "metadata": {},
   "outputs": [],
   "source": [
    "line * subject_genotype"
   ]
  },
  {
   "cell_type": "code",
   "execution_count": null,
   "id": "fe28c77e-ae31-41a8-926c-fae0693d4c96",
   "metadata": {},
   "outputs": [],
   "source": [
    "subject_genotype"
   ]
  },
  {
   "cell_type": "markdown",
   "id": "0a544ab0-c987-45ca-8c55-e6b223233684",
   "metadata": {},
   "source": [
    "### As dictionary"
   ]
  },
  {
   "cell_type": "markdown",
   "id": "e61ee14c-69e4-4283-8c47-b99b994dff5f",
   "metadata": {},
   "source": [
    "One item:"
   ]
  },
  {
   "cell_type": "code",
   "execution_count": null,
   "id": "e9be8cc2-33c0-4b78-b6d4-2f1abca62420",
   "metadata": {},
   "outputs": [],
   "source": [
    "(sub & 'subject=\"Rose_ROS-0019\"').fetch1()"
   ]
  },
  {
   "cell_type": "markdown",
   "id": "f334c381-2604-45ec-a56d-d0bde7187ed8",
   "metadata": {},
   "source": [
    "List of dictionaries:"
   ]
  },
  {
   "cell_type": "code",
   "execution_count": null,
   "id": "03a818a3-5a9d-4b43-a19f-b65197017b04",
   "metadata": {},
   "outputs": [],
   "source": [
    "(subject_genotype & 'subject=\"Rose_ROS-0019\"').fetch(as_dict=True)"
   ]
  },
  {
   "cell_type": "code",
   "execution_count": null,
   "id": "04f659cd-c0c4-4663-8948-3591868e2765",
   "metadata": {},
   "outputs": [],
   "source": [
    "user"
   ]
  },
  {
   "cell_type": "code",
   "execution_count": null,
   "id": "5e7a5cae",
   "metadata": {},
   "outputs": [],
   "source": []
  }
 ],
 "metadata": {
  "jupytext": {
   "formats": "ipynb,py"
  },
  "kernelspec": {
   "display_name": "datajoint",
   "language": "python",
   "name": "python3"
  },
  "language_info": {
   "codemirror_mode": {
    "name": "ipython",
    "version": 3
   },
   "file_extension": ".py",
   "mimetype": "text/x-python",
   "name": "python",
   "nbconvert_exporter": "python",
   "pygments_lexer": "ipython3",
   "version": "3.8.13"
  },
  "vscode": {
   "interpreter": {
    "hash": "b6b88a8194cd92b549912c5fccf4f99c3c2f8b37389322b86781a2268700b256"
   }
  }
 },
 "nbformat": 4,
 "nbformat_minor": 5
}
