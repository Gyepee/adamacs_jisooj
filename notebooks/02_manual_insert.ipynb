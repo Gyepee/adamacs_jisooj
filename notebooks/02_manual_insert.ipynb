{
 "cells": [
  {
   "cell_type": "markdown",
   "id": "7225c769",
   "metadata": {},
   "source": [
    "# Subject Related Data"
   ]
  },
  {
   "attachments": {},
   "cell_type": "markdown",
   "id": "a2e9ad58-f51d-4a94-8fbd-43152bb01d06",
   "metadata": {},
   "source": [
    "`CB DEV NOTES`\n",
    "1. Some table structures and data types changed for pyrat ingestion\n",
    "2. The GUI didn't work for me. Maybe an error on my end.\n",
    "\n",
    "`TR TODO`\n",
    "1. Prevent pyrat ingest to push in userIDs (ownerID is not UserID)\n",
    "2. Have Pyrate ingest work with duplicate entries  \n",
    "3. Find way to push setup info into the pipeline with userfunctions (scanimage swetup specifics)\n",
    "4. Add user initials (TR), user shorthand (tobiasr) and user full name (\"Tobias Rose\") to user table.\n",
    "5. Add secondary pyrat query to als get sacrificed animals"
   ]
  },
  {
   "cell_type": "markdown",
   "id": "beda62fc-e678-4b77-a454-f848aa68379e",
   "metadata": {},
   "source": [
    "## Login\n",
    "\n",
    "Either log in via a local config file (see [01_pipeline](./01_pipeline.ipynb)), or enter login information manually. If you are don't have your login information, contact the administrator.\n"
   ]
  },
  {
   "cell_type": "code",
   "execution_count": 2,
   "id": "41084378-bf49-4b97-b3ea-900fb544d97c",
   "metadata": {},
   "outputs": [
    {
     "name": "stderr",
     "output_type": "stream",
     "text": [
      "[2022-12-14 09:20:07,871][INFO]: Connecting tobiasr@172.26.128.53:3306\n",
      "[2022-12-14 09:20:07,925][INFO]: Connected tobiasr@172.26.128.53:3306\n"
     ]
    },
    {
     "data": {
      "text/plain": [
       "DataJoint connection (connected) tobiasr@172.26.128.53:3306"
      ]
     },
     "execution_count": 2,
     "metadata": {},
     "output_type": "execute_result"
    }
   ],
   "source": [
    "# Local Config\n",
    "import os\n",
    "if os.path.basename(os.getcwd())=='notebooks': os.chdir('..')\n",
    "assert os.path.basename(os.getcwd())=='adamacs', (\"Please move to the main directory\")\n",
    "import datajoint as dj; dj.conn()"
   ]
  },
  {
   "cell_type": "code",
   "execution_count": null,
   "id": "132cf444",
   "metadata": {},
   "outputs": [],
   "source": [
    "# Manual Entry\n",
    "import datajoint as dj; import getpass\n",
    "dj.config['database.host'] = '172.26.128.53'        # Put the server name between these apostrophe\n",
    "dj.config['database.user'] = 'tobiasr'             # Put your user name between these apostrophe\n",
    "dj.config['database.password'] = getpass.getpass()  # Put your password in the prompt\n",
    "dj.conn()"
   ]
  },
  {
   "cell_type": "markdown",
   "id": "8e48c2ea-7f7a-430c-8dc3-89bb3ec8a705",
   "metadata": {},
   "source": [
    "## Activation\n",
    "Next, import from `adamacs.pipeline` to activate the relevant schema."
   ]
  },
  {
   "cell_type": "code",
   "execution_count": 4,
   "id": "81b34218-7b80-4257-abd3-cf449c17c374",
   "metadata": {},
   "outputs": [
    {
     "name": "stdout",
     "output_type": "stream",
     "text": [
      "Loading DLC 2.2.1.1...\n"
     ]
    },
    {
     "name": "stderr",
     "output_type": "stream",
     "text": [
      "/Users/trose/opt/miniconda3/envs/datajoint/lib/python3.8/site-packages/statsmodels/compat/pandas.py:65: FutureWarning: pandas.Int64Index is deprecated and will be removed from pandas in a future version. Use pandas.Index with the appropriate dtype instead.\n",
      "  from pandas import Int64Index as NumericIndex\n"
     ]
    },
    {
     "name": "stdout",
     "output_type": "stream",
     "text": [
      "DLC loaded in light mode; you cannot use any GUI (labeling, relabeling and standalone GUI)\n"
     ]
    }
   ],
   "source": [
    "# from adamacs.utility import *\n",
    "# from adamacs.nbgui import *\n",
    "from adamacs.pipeline import subject"
   ]
  },
  {
   "cell_type": "markdown",
   "id": "818496d9-0add-4557-a116-10156e995076",
   "metadata": {},
   "source": [
    "Assign easy names for relevant tables"
   ]
  },
  {
   "cell_type": "code",
   "execution_count": 5,
   "id": "ae8a9093-a631-4fe5-bf66-6944ec5de1ce",
   "metadata": {},
   "outputs": [],
   "source": [
    "sub, lab, protocol, line, mutation, user, project, subject_genotype, subject_death = (\n",
    "    subject.Subject(), subject.Lab(), subject.Protocol(), subject.Line(), \n",
    "    subject.Mutation(), subject.User(), subject.Project(), subject.SubjectGenotype(), \n",
    "    subject.SubjectDeath()\n",
    "    )"
   ]
  },
  {
   "attachments": {},
   "cell_type": "markdown",
   "id": "7aa77e1a",
   "metadata": {},
   "source": [
    "## Entry via GUI\n",
    "(not implemented currently)"
   ]
  },
  {
   "cell_type": "code",
   "execution_count": 6,
   "id": "0561d2fb",
   "metadata": {},
   "outputs": [],
   "source": [
    "# \"\"\"Run this cell to load the subject entry sheet.\"\"\"\n",
    "# mouse_gui = MouseEntrySheet()\n",
    "# mouse_gui.app"
   ]
  },
  {
   "cell_type": "markdown",
   "id": "883ef954",
   "metadata": {},
   "source": [
    "## Entry via `insert()`\n",
    "\n",
    "### **WARNING** \n",
    "Only run these manual entry cells if you know what you are doing!\n",
    "\n",
    "Strings for these values may be edited to insert single rows into corresponding tables.\n",
    "\n",
    "### Lab"
   ]
  },
  {
   "cell_type": "code",
   "execution_count": null,
   "id": "b03e1536",
   "metadata": {},
   "outputs": [],
   "source": [
    "lab_key = 'Rose'  # Short, unique identifier for the lab. Maximum 8 characters. Example: 'Rose'.\n",
    "lab_name = 'Circut Mechanisms of Behavior'  # A longer, more descriptive name for the laboratory.\n",
    "institution = 'Institute for Experimental Epileptology and Cognition Research (IEECR)'  # The institution the laboratory belongs to.\n",
    "address = 'Venusberg-Campus 1, 53127 Bonn'  # The postal address of the laboratory.\n",
    "\n",
    "lab.insert1((lab_key, lab_name, institution, address))"
   ]
  },
  {
   "cell_type": "markdown",
   "id": "bcab35a7",
   "metadata": {},
   "source": [
    "### Protocol"
   ]
  },
  {
   "cell_type": "code",
   "execution_count": null,
   "id": "352ef703",
   "metadata": {},
   "outputs": [],
   "source": [
    "protocol_key = '81-02.05.40.19.027'  # Short, unique identifier for the protocol. Maximum 16 characters.\n",
    "protocol_description = 'Another dummy protocol ID for testing purposes'  # Description of the protocol.\n",
    "\n",
    "protocol.insert1((protocol_key, protocol_description))"
   ]
  },
  {
   "cell_type": "markdown",
   "id": "94e97132-3c99-4cd0-9ef9-4dd5fdd105ad",
   "metadata": {},
   "source": [
    "### User Entry"
   ]
  },
  {
   "cell_type": "code",
   "execution_count": null,
   "id": "14933f75",
   "metadata": {},
   "outputs": [],
   "source": [
    "# insert multiple entries\n",
    "# subject.User.delete()\n",
    "data = [{'user_id': 1, 'name': 'natashak', 'lab': 'Rose'},\n",
    "        {'user_id': 2, 'name': 'tobiasr', 'lab': 'Rose'},\n",
    "        {'user_id': 3, 'name': 'kevinl', 'lab': 'Rose'},\n",
    "        {'user_id': 4, 'name': 'danielb', 'lab': 'Rose'},\n",
    "        {'user_id': 5, 'name': 'leonk', 'lab': 'Rose'},\n",
    "        {'user_id': 6, 'name': 'laurak', 'lab': 'Rose'},\n",
    "        {'user_id': 7, 'name': 'rukhun', 'lab': 'Rose'},\n",
    "        {'user_id': 8, 'name': 'jisooj', 'lab': 'Rose'}]\n",
    "user.insert(data)"
   ]
  },
  {
   "cell_type": "markdown",
   "id": "e03829fd",
   "metadata": {},
   "source": [
    "### Line/Mutation"
   ]
  },
  {
   "cell_type": "code",
   "execution_count": null,
   "id": "2bbe332a",
   "metadata": {},
   "outputs": [],
   "source": [
    "line_id = 1  # Unique identifier for the line.\n",
    "line_name = 'Gcamp6-ThyC57BL/6J-Tg(Thy1-GCaMP6s)GP4.12Dkim/J'  # Description of the line.\n",
    "is_active = 1  # Whether or not the line is actively breeding.\n",
    "\n",
    "mutation_id = 2  # Unique identifier for the mutation.\n",
    "mutation_description = 'Tg(Thy1-GCaMP6s)GP4.12Dkim'  # A description of the mutation.\n",
    "\n",
    "line.insert1((line_id, line_name, is_active))\n",
    "mutation.insert1((line_id, mutation_id, mutation_description))"
   ]
  },
  {
   "cell_type": "markdown",
   "id": "d2c39382-e82f-4df8-aabe-ddf958b4d8d8",
   "metadata": {},
   "source": [
    "### Subject"
   ]
  },
  {
   "cell_type": "code",
   "execution_count": null,
   "id": "14797373-203a-44df-94bc-b153e3dca30c",
   "metadata": {},
   "outputs": [],
   "source": [
    "# subject.Subject.delete()\n",
    "subject_id = 'Testmouse1'\n",
    "earmark = ''\n",
    "sex = 'F'\n",
    "birth_date = ''\n",
    "#subject_description = ''\n",
    "generation = ''\n",
    "parents = {}\n",
    "owner_id = 1\n",
    "responsible_id = 1\n",
    "line_id = 1\n",
    "protocol_key = 'LANUF3'\n",
    "\n",
    "sub.insert1((subject_id, earmark, sex, birth_date,  generation, \n",
    "             parents, owner_id, responsible_id, line_id, protocol_key))"
   ]
  },
  {
   "cell_type": "code",
   "execution_count": 8,
   "id": "08edead7",
   "metadata": {},
   "outputs": [
    {
     "ename": "IntegrityError",
     "evalue": "Cannot add or update a child row: a foreign key constraint fails (`main_subject`.`subject`, CONSTRAINT `subject_ibfk_3` FOREIGN KEY (`line`) REFERENCES `line` (`line`) ON UPDATE CASCADE)",
     "output_type": "error",
     "traceback": [
      "\u001b[0;31m---------------------------------------------------------------------------\u001b[0m",
      "\u001b[0;31mIntegrityError\u001b[0m                            Traceback (most recent call last)",
      "Cell \u001b[0;32mIn [8], line 13\u001b[0m\n\u001b[1;32m     10\u001b[0m line_id \u001b[39m=\u001b[39m \u001b[39m1\u001b[39m\n\u001b[1;32m     11\u001b[0m protocol_key \u001b[39m=\u001b[39m \u001b[39m'\u001b[39m\u001b[39mLANUF3\u001b[39m\u001b[39m'\u001b[39m\n\u001b[0;32m---> 13\u001b[0m sub\u001b[39m.\u001b[39;49minsert1((subject_id, earmark, sex, birth_date, generation, \n\u001b[1;32m     14\u001b[0m              parents, owner_id, responsible_id, line_id, protocol_key))\n",
      "File \u001b[0;32m~/opt/miniconda3/envs/datajoint/lib/python3.8/site-packages/datajoint/table.py:334\u001b[0m, in \u001b[0;36mTable.insert1\u001b[0;34m(self, row, **kwargs)\u001b[0m\n\u001b[1;32m    327\u001b[0m \u001b[39mdef\u001b[39;00m \u001b[39minsert1\u001b[39m(\u001b[39mself\u001b[39m, row, \u001b[39m*\u001b[39m\u001b[39m*\u001b[39mkwargs):\n\u001b[1;32m    328\u001b[0m     \u001b[39m\"\"\"\u001b[39;00m\n\u001b[1;32m    329\u001b[0m \u001b[39m    Insert one data record into the table. For ``kwargs``, see ``insert()``.\u001b[39;00m\n\u001b[1;32m    330\u001b[0m \n\u001b[1;32m    331\u001b[0m \u001b[39m    :param row: a numpy record, a dict-like object, or an ordered sequence to be inserted\u001b[39;00m\n\u001b[1;32m    332\u001b[0m \u001b[39m        as one row.\u001b[39;00m\n\u001b[1;32m    333\u001b[0m \u001b[39m    \"\"\"\u001b[39;00m\n\u001b[0;32m--> 334\u001b[0m     \u001b[39mself\u001b[39;49m\u001b[39m.\u001b[39;49minsert((row,), \u001b[39m*\u001b[39;49m\u001b[39m*\u001b[39;49mkwargs)\n",
      "File \u001b[0;32m~/opt/miniconda3/envs/datajoint/lib/python3.8/site-packages/datajoint/table.py:430\u001b[0m, in \u001b[0;36mTable.insert\u001b[0;34m(self, rows, replace, skip_duplicates, ignore_extra_fields, allow_direct_insert)\u001b[0m\n\u001b[1;32m    414\u001b[0m \u001b[39mtry\u001b[39;00m:\n\u001b[1;32m    415\u001b[0m     query \u001b[39m=\u001b[39m \u001b[39m\"\u001b[39m\u001b[39m{command}\u001b[39;00m\u001b[39m INTO \u001b[39m\u001b[39m{destination}\u001b[39;00m\u001b[39m(`\u001b[39m\u001b[39m{fields}\u001b[39;00m\u001b[39m`) VALUES \u001b[39m\u001b[39m{placeholders}\u001b[39;00m\u001b[39m{duplicate}\u001b[39;00m\u001b[39m\"\u001b[39m\u001b[39m.\u001b[39mformat(\n\u001b[1;32m    416\u001b[0m         command\u001b[39m=\u001b[39m\u001b[39m\"\u001b[39m\u001b[39mREPLACE\u001b[39m\u001b[39m\"\u001b[39m \u001b[39mif\u001b[39;00m replace \u001b[39melse\u001b[39;00m \u001b[39m\"\u001b[39m\u001b[39mINSERT\u001b[39m\u001b[39m\"\u001b[39m,\n\u001b[1;32m    417\u001b[0m         destination\u001b[39m=\u001b[39m\u001b[39mself\u001b[39m\u001b[39m.\u001b[39mfrom_clause(),\n\u001b[0;32m   (...)\u001b[0m\n\u001b[1;32m    428\u001b[0m         ),\n\u001b[1;32m    429\u001b[0m     )\n\u001b[0;32m--> 430\u001b[0m     \u001b[39mself\u001b[39;49m\u001b[39m.\u001b[39;49mconnection\u001b[39m.\u001b[39;49mquery(\n\u001b[1;32m    431\u001b[0m         query,\n\u001b[1;32m    432\u001b[0m         args\u001b[39m=\u001b[39;49m\u001b[39mlist\u001b[39;49m(\n\u001b[1;32m    433\u001b[0m             itertools\u001b[39m.\u001b[39;49mchain\u001b[39m.\u001b[39;49mfrom_iterable(\n\u001b[1;32m    434\u001b[0m                 (v \u001b[39mfor\u001b[39;49;00m v \u001b[39min\u001b[39;49;00m r[\u001b[39m\"\u001b[39;49m\u001b[39mvalues\u001b[39;49m\u001b[39m\"\u001b[39;49m] \u001b[39mif\u001b[39;49;00m v \u001b[39mis\u001b[39;49;00m \u001b[39mnot\u001b[39;49;00m \u001b[39mNone\u001b[39;49;00m) \u001b[39mfor\u001b[39;49;00m r \u001b[39min\u001b[39;49;00m rows\n\u001b[1;32m    435\u001b[0m             )\n\u001b[1;32m    436\u001b[0m         ),\n\u001b[1;32m    437\u001b[0m     )\n\u001b[1;32m    438\u001b[0m \u001b[39mexcept\u001b[39;00m UnknownAttributeError \u001b[39mas\u001b[39;00m err:\n\u001b[1;32m    439\u001b[0m     \u001b[39mraise\u001b[39;00m err\u001b[39m.\u001b[39msuggest(\n\u001b[1;32m    440\u001b[0m         \u001b[39m\"\u001b[39m\u001b[39mTo ignore extra fields in insert, set ignore_extra_fields=True\u001b[39m\u001b[39m\"\u001b[39m\n\u001b[1;32m    441\u001b[0m     )\n",
      "File \u001b[0;32m~/opt/miniconda3/envs/datajoint/lib/python3.8/site-packages/datajoint/connection.py:340\u001b[0m, in \u001b[0;36mConnection.query\u001b[0;34m(self, query, args, as_dict, suppress_warnings, reconnect)\u001b[0m\n\u001b[1;32m    338\u001b[0m cursor \u001b[39m=\u001b[39m \u001b[39mself\u001b[39m\u001b[39m.\u001b[39m_conn\u001b[39m.\u001b[39mcursor(cursor\u001b[39m=\u001b[39mcursor_class)\n\u001b[1;32m    339\u001b[0m \u001b[39mtry\u001b[39;00m:\n\u001b[0;32m--> 340\u001b[0m     \u001b[39mself\u001b[39;49m\u001b[39m.\u001b[39;49m_execute_query(cursor, query, args, suppress_warnings)\n\u001b[1;32m    341\u001b[0m \u001b[39mexcept\u001b[39;00m errors\u001b[39m.\u001b[39mLostConnectionError:\n\u001b[1;32m    342\u001b[0m     \u001b[39mif\u001b[39;00m \u001b[39mnot\u001b[39;00m reconnect:\n",
      "File \u001b[0;32m~/opt/miniconda3/envs/datajoint/lib/python3.8/site-packages/datajoint/connection.py:296\u001b[0m, in \u001b[0;36mConnection._execute_query\u001b[0;34m(cursor, query, args, suppress_warnings)\u001b[0m\n\u001b[1;32m    294\u001b[0m         cursor\u001b[39m.\u001b[39mexecute(query, args)\n\u001b[1;32m    295\u001b[0m \u001b[39mexcept\u001b[39;00m client\u001b[39m.\u001b[39merr\u001b[39m.\u001b[39mError \u001b[39mas\u001b[39;00m err:\n\u001b[0;32m--> 296\u001b[0m     \u001b[39mraise\u001b[39;00m translate_query_error(err, query)\n",
      "\u001b[0;31mIntegrityError\u001b[0m: Cannot add or update a child row: a foreign key constraint fails (`main_subject`.`subject`, CONSTRAINT `subject_ibfk_3` FOREIGN KEY (`line`) REFERENCES `line` (`line`) ON UPDATE CASCADE)"
     ]
    }
   ],
   "source": [
    "subject = 'WEZ-8701'\n",
    "earmark = ''\n",
    "sex = 'M'\n",
    "birth_date = ''\n",
    "# subject_description = ''\n",
    "generation = ''\n",
    "parents = ''\n",
    "owner_id = 1\n",
    "responsible_id = 1\n",
    "line_id = 100\n",
    "protocol_key = 'LANUF3'\n",
    "\n",
    "sub.insert1((subject, earmark, sex, birth_date, generation, \n",
    "             parents, owner_id, responsible_id, line_id, protocol_key))"
   ]
  },
  {
   "cell_type": "markdown",
   "id": "2cea0c11",
   "metadata": {},
   "source": [
    "### Subject Genotype"
   ]
  },
  {
   "cell_type": "code",
   "execution_count": null,
   "id": "1b9fc5dd",
   "metadata": {},
   "outputs": [],
   "source": [
    "subject = 'WEZ-8701'\n",
    "line_id = 1\n",
    "mutation_id = 2  # Unique identifier for the mutation.\n",
    "genotype = 'wt/tg'  # The target phenotype of the line.\n",
    "\n",
    "subject_genotype.insert1((subject, line_id, mutation_id, genotype))"
   ]
  },
  {
   "cell_type": "markdown",
   "id": "40f6f927",
   "metadata": {},
   "source": [
    "### Project Entry"
   ]
  },
  {
   "cell_type": "code",
   "execution_count": null,
   "id": "c1c00646",
   "metadata": {},
   "outputs": [],
   "source": [
    "project_key = 'TEC'\n",
    "project_description = 'Trace Eyeblink Conditioning'\n",
    "\n",
    "project.insert1((project_key, project_description))"
   ]
  },
  {
   "cell_type": "markdown",
   "id": "1d6cbc6b",
   "metadata": {},
   "source": [
    "### Subject Death"
   ]
  },
  {
   "cell_type": "code",
   "execution_count": null,
   "id": "364fd35e",
   "metadata": {},
   "outputs": [],
   "source": [
    "subject = 'WEZ-8701'\n",
    "death_date = '2010-12-01'\n",
    "case = 'natural'\n",
    "\n",
    "subject_death.insert1((subject, death_date, case))"
   ]
  },
  {
   "cell_type": "markdown",
   "id": "a5abac1e",
   "metadata": {},
   "source": [
    "## Fetch"
   ]
  },
  {
   "cell_type": "markdown",
   "id": "3a82ddb6-6ae4-4359-a896-b62ff80476e7",
   "metadata": {},
   "source": [
    "### As table"
   ]
  },
  {
   "cell_type": "code",
   "execution_count": null,
   "id": "02ca9d55-3b3d-410c-835d-77f94ca502fb",
   "metadata": {},
   "outputs": [],
   "source": [
    "user * lab"
   ]
  },
  {
   "cell_type": "code",
   "execution_count": 7,
   "id": "477cf5c6",
   "metadata": {},
   "outputs": [
    {
     "data": {
      "text/html": [
       "\n",
       "    \n",
       "    <style type=\"text/css\">\n",
       "        .Relation{\n",
       "            border-collapse:collapse;\n",
       "        }\n",
       "        .Relation th{\n",
       "            background: #A0A0A0; color: #ffffff; padding:4px; border:#f0e0e0 1px solid;\n",
       "            font-weight: normal; font-family: monospace; font-size: 100%;\n",
       "        }\n",
       "        .Relation td{\n",
       "            padding:4px; border:#f0e0e0 1px solid; font-size:100%;\n",
       "        }\n",
       "        .Relation tr:nth-child(odd){\n",
       "            background: #ffffff;\n",
       "        }\n",
       "        .Relation tr:nth-child(even){\n",
       "            background: #f3f1ff;\n",
       "        }\n",
       "        /* Tooltip container */\n",
       "        .djtooltip {\n",
       "        }\n",
       "        /* Tooltip text */\n",
       "        .djtooltip .djtooltiptext {\n",
       "            visibility: hidden;\n",
       "            width: 120px;\n",
       "            background-color: black;\n",
       "            color: #fff;\n",
       "            text-align: center;\n",
       "            padding: 5px 0;\n",
       "            border-radius: 6px;\n",
       "            /* Position the tooltip text - see examples below! */\n",
       "            position: absolute;\n",
       "            z-index: 1;\n",
       "        }\n",
       "        #primary {\n",
       "            font-weight: bold;\n",
       "            color: black;\n",
       "        }\n",
       "        #nonprimary {\n",
       "            font-weight: normal;\n",
       "            color: white;\n",
       "        }\n",
       "\n",
       "        /* Show the tooltip text when you mouse over the tooltip container */\n",
       "        .djtooltip:hover .djtooltiptext {\n",
       "            visibility: visible;\n",
       "        }\n",
       "    </style>\n",
       "    \n",
       "    <b>Animal Subject</b>\n",
       "        <div style=\"max-height:1000px;max-width:1500px;overflow:auto;\">\n",
       "        <table border=\"1\" class=\"Relation\">\n",
       "            <thead> <tr style=\"text-align: right;\"> <th> <div class=\"djtooltip\">\n",
       "                            <p id=\"primary\">subject</p>\n",
       "                            <span class=\"djtooltiptext\">PyRat import uses this for earmark value</span>\n",
       "                        </div></th><th><div class=\"djtooltip\">\n",
       "                            <p id=\"nonprimary\">earmark</p>\n",
       "                            <span class=\"djtooltiptext\"></span>\n",
       "                        </div></th><th><div class=\"djtooltip\">\n",
       "                            <p id=\"nonprimary\">sex</p>\n",
       "                            <span class=\"djtooltiptext\">Geschlecht</span>\n",
       "                        </div></th><th><div class=\"djtooltip\">\n",
       "                            <p id=\"nonprimary\">birth_date</p>\n",
       "                            <span class=\"djtooltiptext\">Geb.</span>\n",
       "                        </div></th><th><div class=\"djtooltip\">\n",
       "                            <p id=\"nonprimary\">generation</p>\n",
       "                            <span class=\"djtooltiptext\">Generation (F2 in example sheet)</span>\n",
       "                        </div></th><th><div class=\"djtooltip\">\n",
       "                            <p id=\"nonprimary\">parent_ids</p>\n",
       "                            <span class=\"djtooltiptext\">dict of parent_sex: parent_eartag</span>\n",
       "                        </div></th><th><div class=\"djtooltip\">\n",
       "                            <p id=\"nonprimary\">owner_id</p>\n",
       "                            <span class=\"djtooltiptext\"></span>\n",
       "                        </div></th><th><div class=\"djtooltip\">\n",
       "                            <p id=\"nonprimary\">responsible_id</p>\n",
       "                            <span class=\"djtooltiptext\"></span>\n",
       "                        </div></th><th><div class=\"djtooltip\">\n",
       "                            <p id=\"nonprimary\">line</p>\n",
       "                            <span class=\"djtooltiptext\">strain_id within PyRAT. Not name_id seen in GUI</span>\n",
       "                        </div></th><th><div class=\"djtooltip\">\n",
       "                            <p id=\"nonprimary\">protocol</p>\n",
       "                            <span class=\"djtooltiptext\"></span>\n",
       "                        </div> </th> </tr> </thead>\n",
       "            <tbody> <tr> <td>ROS-1483</td>\n",
       "<td>T566</td>\n",
       "<td>M</td>\n",
       "<td>2022-11-18T00:00:00</td>\n",
       "<td></td>\n",
       "<td>=BLOB=</td>\n",
       "<td>1</td>\n",
       "<td>2</td>\n",
       "<td>376</td>\n",
       "<td>81-02.05.40.19.027</td> </tr> </tbody>\n",
       "        </table>\n",
       "        \n",
       "        <p>Total: 1</p></div>\n",
       "        "
      ],
      "text/plain": [
       "*subject     earmark     sex     birth_date     generation     parent_ids owner_id     responsible_id line     protocol      \n",
       "+----------+ +---------+ +-----+ +------------+ +------------+ +--------+ +----------+ +------------+ +------+ +------------+\n",
       "ROS-1483     T566        M       2022-11-18T00:                =BLOB=     1            2              376      81-02.05.40.19\n",
       " (Total: 1)"
      ]
     },
     "execution_count": 7,
     "metadata": {},
     "output_type": "execute_result"
    }
   ],
   "source": [
    "sub"
   ]
  },
  {
   "cell_type": "code",
   "execution_count": null,
   "id": "49a8e847-17ab-40bf-be9a-4da99e7edff4",
   "metadata": {},
   "outputs": [],
   "source": [
    "line * subject_genotype"
   ]
  },
  {
   "cell_type": "code",
   "execution_count": null,
   "id": "fe28c77e-ae31-41a8-926c-fae0693d4c96",
   "metadata": {},
   "outputs": [],
   "source": [
    "subject_genotype"
   ]
  },
  {
   "cell_type": "markdown",
   "id": "0a544ab0-c987-45ca-8c55-e6b223233684",
   "metadata": {},
   "source": [
    "### As dictionary"
   ]
  },
  {
   "cell_type": "markdown",
   "id": "e61ee14c-69e4-4283-8c47-b99b994dff5f",
   "metadata": {},
   "source": [
    "One item:"
   ]
  },
  {
   "cell_type": "code",
   "execution_count": null,
   "id": "e9be8cc2-33c0-4b78-b6d4-2f1abca62420",
   "metadata": {},
   "outputs": [],
   "source": [
    "(sub & 'subject=\"WEZ-8701\"').fetch1()"
   ]
  },
  {
   "cell_type": "markdown",
   "id": "f334c381-2604-45ec-a56d-d0bde7187ed8",
   "metadata": {},
   "source": [
    "List of dictionaries:"
   ]
  },
  {
   "cell_type": "code",
   "execution_count": null,
   "id": "03a818a3-5a9d-4b43-a19f-b65197017b04",
   "metadata": {},
   "outputs": [],
   "source": [
    "(subject_genotype & 'subject=\"WEZ-8701\"').fetch(as_dict=True)"
   ]
  },
  {
   "cell_type": "code",
   "execution_count": null,
   "id": "04f659cd-c0c4-4663-8948-3591868e2765",
   "metadata": {},
   "outputs": [],
   "source": [
    "user"
   ]
  }
 ],
 "metadata": {
  "jupytext": {
   "formats": "ipynb,py"
  },
  "kernelspec": {
   "display_name": "datajoint",
   "language": "python",
   "name": "python3"
  },
  "language_info": {
   "codemirror_mode": {
    "name": "ipython",
    "version": 3
   },
   "file_extension": ".py",
   "mimetype": "text/x-python",
   "name": "python",
   "nbconvert_exporter": "python",
   "pygments_lexer": "ipython3",
   "version": "3.8.13"
  },
  "vscode": {
   "interpreter": {
    "hash": "b6b88a8194cd92b549912c5fccf4f99c3c2f8b37389322b86781a2268700b256"
   }
  }
 },
 "nbformat": 4,
 "nbformat_minor": 5
}
